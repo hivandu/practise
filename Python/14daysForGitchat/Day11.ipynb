{
 "cells": [
  {
   "cell_type": "code",
   "execution_count": null,
   "source": [
    "# -*- Coding UTF-8 -*- #\n",
    "import mysql.connector\n",
    "# import MySQLdb\n",
    "#!/usr/bin/python3\n",
    "# import pymysql\n",
    "# import sys\n",
    "# print(sys.path)\n",
    "\n",
    "# #数据库配置，据实填写\n",
    "db_config = {'host': '127.0.0.1',\n",
    "            'user':'root',\n",
    "            'password':'fA>JrkK=EA2R4tiH',\n",
    "            'port': 3306,\n",
    "            'database':'mysql',\n",
    "            'charset':'utf8'\n",
    "            }\n",
    "try:\n",
    "   #connect方法加载config的配置进行数据库的连接，完成后用一个变量进行接收\n",
    "    cnn=mysql.connector.connect(**db_config)\n",
    "except mysql.connector.Error as e:\n",
    "    print('operation failed！',str(e))\n",
    "else:\n",
    "    print(\"operation succeeded!\")\n",
    "\n",
    "#创建表的sql语句\n",
    "sql_create_table='CREATE TABLE`student`\\\n",
    "(`id`int(10)NOT NULL AUTO_INCREMENT,\\\n",
    "`name`varchar(10) DEFAULT NULL,\\\n",
    "`age`int(3) DEFAULT NULL,\\\n",
    "PRIMARY KEY(`id`))\\\n",
    "ENGINE=MyISAM DEFAULT CHARSET = utf8'\n",
    "\n",
    "#buffered=True会把结果集保存到本地并一次性返回，这样可以提高性能\n",
    "cursor = cnn.cursor(buffered = True)\n",
    "#执行sql语句，创建表\n",
    "try:\n",
    "    cursor.execute(sql_create_table)\n",
    "except mysql.connector.Error as err:\n",
    "    print('operation failed！',str(err))\n",
    "\n",
    "#执行数据库操作\n",
    "try: \n",
    "    #插入  \n",
    "    sql_insert1=\"insert into student(name,age) values ('zhang san',18)\"\n",
    "    cursor.execute(sql_insert1)  \n",
    "except mysql.connector.Error as err:\n",
    "    print('operation failed！',str(err))\n",
    "finally:\n",
    "    #关闭数据库相关链接\n",
    "    cursor.close()\n",
    "    cnn.close()"
   ],
   "outputs": [],
   "metadata": {}
  },
  {
   "cell_type": "code",
   "execution_count": null,
   "source": [],
   "outputs": [],
   "metadata": {}
  },
  {
   "cell_type": "code",
   "execution_count": null,
   "source": [],
   "outputs": [],
   "metadata": {}
  }
 ],
 "metadata": {
  "orig_nbformat": 4,
  "language_info": {
   "name": "python",
   "version": "3.9.5",
   "mimetype": "text/x-python",
   "codemirror_mode": {
    "name": "ipython",
    "version": 3
   },
   "pygments_lexer": "ipython3",
   "nbconvert_exporter": "python",
   "file_extension": ".py"
  },
  "kernelspec": {
   "name": "python3",
   "display_name": "Python 3.9.5 64-bit"
  },
  "interpreter": {
   "hash": "5cf53de3813216cb4783f6412eb339fef4fdabd54508af35145546354c08cf85"
  }
 },
 "nbformat": 4,
 "nbformat_minor": 2
}