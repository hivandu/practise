{
 "cells": [
  {
   "cell_type": "code",
   "execution_count": 6,
   "source": [
    "# -*- Coding: UTF-8 -*-#\n",
    "\n",
    "import requests\n",
    "from bs4 import BeautifulSoup\n",
    "import xlwt"
   ],
   "outputs": [],
   "metadata": {}
  },
  {
   "cell_type": "code",
   "execution_count": 7,
   "source": [
    "# 获取网页文本信息\n",
    "def getHTMLText(url):\n",
    "    try:\n",
    "        r = requests.get(url)\n",
    "        r.raise_for_status()\n",
    "        r.encoding = r.apparent_encoding\n",
    "        return r.text\n",
    "    except Exception as err:\n",
    "        print(err)"
   ],
   "outputs": [],
   "metadata": {}
  },
  {
   "cell_type": "code",
   "execution_count": 76,
   "source": [
    "# 通过Soup解析网页\n",
    "def getData(html):\n",
    "    soup = BeautifulSoup(html, \"html.parser\")\n",
    "    # print('soup:', soup)\n",
    "    ChatList=soup.find('div',attrs={'id':'colum-items'})\n",
    "    # print('ChatList:', ChatList)\n",
    "    datalist=[]#用于存放提取到全部Chat信息\n",
    "    #遍历每一条Chat\n",
    "    for Chat in ChatList.find_all('a',attrs={'class':'column_item'}):\n",
    "        data = []\n",
    "        #提取Chat标题\n",
    "        chatTile=Chat.find('h2',attrs={'class':'info_title user_select_text'}).getText()\n",
    "        data.append(chatTile)    \n",
    "\n",
    "        #提取订阅人数\n",
    "        bookingNum = Chat.find('span', attrs={'class': 'info_num'})\n",
    "        data.append(str(bookingNum.getText()).lstrip())\n",
    "\n",
    "        #提取作者姓名\n",
    "        authorName=Chat.find('span',attrs={'class':'author_title'}).getText()\n",
    "        data.append(authorName)\n",
    "\n",
    "        #提取作者简介\n",
    "        authorDesc=Chat.find('span',attrs={'class':'author_title'}).getText()\n",
    "        data.append(authorDesc)\n",
    "        datalist.append(data)\n",
    "    print(datalist)\n",
    "    return datalist"
   ],
   "outputs": [],
   "metadata": {}
  },
  {
   "cell_type": "code",
   "execution_count": 77,
   "source": [
    "\n",
    "# 保存数据到Excel中\n",
    "def saveData(datalist,path):\n",
    "    #标题栏背景色\n",
    "    styleBlueBkg = xlwt.easyxf('pattern: pattern solid, fore_colour pale_blue; font: bold on;'); # 80% like\n",
    "    #创建一个工作簿\n",
    "    book=xlwt.Workbook(encoding='utf-8',style_compression=0)\n",
    "    #创建一张表\n",
    "    sheet=book.add_sheet('最热ChatTop20',cell_overwrite_ok=True)\n",
    "    #标题栏\n",
    "    titleList=('Chat标题','订阅人数','作者','作者简介')\n",
    "    #设置第一列尺寸\n",
    "    first_col = sheet.col(0)\n",
    "    first_col.width=256*40\n",
    "    #写入标题栏\n",
    "    for i in range(0,4):\n",
    "        sheet.write(0,i,titleList[i], styleBlueBkg)\n",
    "    #写入Chat信息  \n",
    "    for i in range(0,len(datalist)):\n",
    "        data=datalist[i]\n",
    "        for j in range(0,4):\n",
    "            sheet.write(i+1,j,data[j])\n",
    "    #保存文件到指定路径\n",
    "    book.save(path)"
   ],
   "outputs": [],
   "metadata": {}
  },
  {
   "cell_type": "code",
   "execution_count": 78,
   "source": [
    "import os\n",
    "path = os.path.expanduser('~/data/')\n",
    "#网页地址\n",
    "chatUrl='https://gitbook.cn/gitchat/columns'\n",
    "html=getHTMLText(chatUrl)  \n",
    "datalist=getData(html)\n",
    "saveData(datalist,str(path + \"14DaysForGitchat/topChat.xls\"))"
   ],
   "outputs": [
    {
     "output_type": "stream",
     "name": "stdout",
     "text": [
      "[['从 0 到 1 搭建后端基础服务实战', '126 人已订阅', '林老师· 后端开发工程师', '林老师· 后端开发工程师'], ['RESTful 设计必知必会', '195 人已订阅', '李程 · 亚马逊高级工程师', '李程 · 亚马逊高级工程师'], ['2021大厂面试宝典—阿里面试题详解', '213 人已订阅', '神老师 · 阿里云技术专家', '神老师 · 阿里云技术专家'], ['MyBatis 核心技术与面试 34 讲', '244 人已订阅', '王伟 · 资深架构师', '王伟 · 资深架构师'], ['零基础开发微信小程序', '270 人已订阅', '司明岳 · 阿里云社区专家', '司明岳 · 阿里云社区专家'], ['大数据数据仓库技术 Hive 入门指南', '246 人已订阅', '李鹏程 · 高级数据工程师', '李鹏程 · 高级数据工程师'], ['全解网络协议', '446 人已订阅', 'Chris 亚马逊资深程序员', 'Chris 亚马逊资深程序员'], ['数据分析面试剖析 24 讲', '384 人已订阅', '宿永杰 · 某知名互联网公司数据挖掘工程师', '宿永杰 · 某知名互联网公司数据挖掘工程师'], ['大规模分布式推荐系统实战', '606 人已订阅', '阿星 · 资深算法工程师', '阿星 · 资深算法工程师'], ['大数据 Hadoop 快速入门', '490 人已订阅', '李鹏程 · 高级数据工程师', '李鹏程 · 高级数据工程师'], ['从 0 开始搭建 IoT 平台', '1497 人已订阅', '付强 · 物联网创业者兼 CTO', '付强 · 物联网创业者兼 CTO'], ['案例上手 Python 数据可视化', '2011 人已订阅', '齐伟 · Python 大学教材及畅销书作者', '齐伟 · Python 大学教材及畅销书作者'], ['RocketMQ 实战与进阶', '798 人已订阅', '丁威 ·《RocketMQ 技术内幕》作者；梁勇 · 哈啰出行高级技术专家', '丁威 ·《RocketMQ 技术内幕》作者；梁勇 · 哈啰出行高级技术专家'], ['数据仓库原理与实战精讲', '773 人已订阅', '李鹏程 · 高级数据工程师', '李鹏程 · 高级数据工程师'], [' 深入理解 Sentinel', '594 人已订阅', '吴就业 · 洋葱集团后端架构师', '吴就业 · 洋葱集团后端架构师'], ['Kubernetes 实践入门指南', '672 人已订阅', '肖德时 · 企业级容器技术实践者', '肖德时 · 企业级容器技术实践者'], ['Python 全栈 60 天精通之路', '7676 人已订阅', 'zglg · 某大厂算法工程师；Alicia · 美国顶尖学府 AI 博士后', 'zglg · 某大厂算法工程师；Alicia · 美国顶尖学府 AI 博士后'], ['Python 全栈 450 道常见问题全解析（配套教学）', '2832 人已订阅', 'zglg · 某大厂算法工程师', 'zglg · 某大厂算法工程师'], ['大数据实时计算引擎 Flink 实战与性能优化', '2428 人已订阅', 'zhisheng · 监控平台研发工程师', 'zhisheng · 监控平台研发工程师'], ['程序员的 MySQL 面试金典', '4364 人已订阅', '老王/张建 · 10 年资深技术专家', '老王/张建 · 10 年资深技术专家']]\n"
     ]
    }
   ],
   "metadata": {}
  },
  {
   "cell_type": "code",
   "execution_count": null,
   "source": [],
   "outputs": [],
   "metadata": {}
  }
 ],
 "metadata": {
  "orig_nbformat": 4,
  "language_info": {
   "name": "python",
   "version": "3.9.5",
   "mimetype": "text/x-python",
   "codemirror_mode": {
    "name": "ipython",
    "version": 3
   },
   "pygments_lexer": "ipython3",
   "nbconvert_exporter": "python",
   "file_extension": ".py"
  },
  "kernelspec": {
   "name": "python3",
   "display_name": "Python 3.9.5 64-bit"
  },
  "interpreter": {
   "hash": "5cf53de3813216cb4783f6412eb339fef4fdabd54508af35145546354c08cf85"
  }
 },
 "nbformat": 4,
 "nbformat_minor": 2
}