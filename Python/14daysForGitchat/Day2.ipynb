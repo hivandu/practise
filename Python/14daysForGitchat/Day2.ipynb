{
 "cells": [
  {
   "cell_type": "code",
   "execution_count": 5,
   "source": [
    "# -*- coding: UTF-8 -*-\n",
    "\n",
    "a = 123\n",
    "b = 3.1415926\n",
    "\n",
    "print(\"int(b)=\", int(b))\n",
    "print(\"float(a)=\", float(a))\n",
    "print(\"complex(a)=\", complex(a))\n",
    "print(\"complex(a,b)=\", complex(a, b))"
   ],
   "outputs": [
    {
     "output_type": "stream",
     "name": "stdout",
     "text": [
      "int(b)= 3\n",
      "float(a)= 123.0\n",
      "complex(a)= (123+0j)\n",
      "complex(a,b)= (123+3.1415926j)\n"
     ]
    }
   ],
   "metadata": {}
  },
  {
   "cell_type": "markdown",
   "source": [
    "# 数学函数"
   ],
   "metadata": {}
  },
  {
   "cell_type": "code",
   "execution_count": 8,
   "source": [
    "\n",
    "import math\n",
    "# 求绝对值: abs(x)\n",
    "print(\"abs(-12)\", abs(-12))\n",
    "\n",
    "# 向上取整: ceil(x)\n",
    "print(\"ceil(3.1415)=\", math.ceil(3.1415))\n",
    "\n",
    "# 向下取整: floor(x)\n",
    "print(\"floor(3.678)=\", math.floor(3.678))\n",
    "\n",
    "# 四舍五入: round(x)\n",
    "print(\"round(3.678)\", round(3.678))\n",
    "\n",
    "# 乘方运算: pow(x, y), x的y次方\n",
    "print(\"pow(3, 4)=\", pow(3, 4))\n",
    "\n",
    "# 求平方根: sqrt(x)\n",
    "print(\"sqrt(144)=\", math.sqrt(144))"
   ],
   "outputs": [
    {
     "output_type": "stream",
     "name": "stdout",
     "text": [
      "abs(-12) 12\n",
      "ceil(3.1415)= 4\n",
      "floor(3.678)= 3\n",
      "round(3.678) 4\n",
      "pow(3, 4)= 81\n",
      "sqrt(144)= 12.0\n"
     ]
    }
   ],
   "metadata": {}
  },
  {
   "cell_type": "markdown",
   "source": [
    "# 算数运算符"
   ],
   "metadata": {}
  },
  {
   "cell_type": "code",
   "execution_count": 10,
   "source": [
    "# 初始化测试数据\n",
    "x = 24\n",
    "y = 5\n",
    "z = 0\n",
    "\n",
    "# 分别计算7中算数运算\n",
    "z = x+y\n",
    "print(\"x+y = \", z)\n",
    "\n",
    "z = x-y\n",
    "print(\"x-y=\", z)\n",
    "\n",
    "z = x*y\n",
    "print(z)\n",
    "\n",
    "z = x / y\n",
    "print(\"x/y=\", z)\n",
    "\n",
    "z = x%y\n",
    "print(z)\n",
    "\n",
    "z = x**y\n",
    "print(z)\n",
    "\n",
    "z = x//y\n",
    "print(z)"
   ],
   "outputs": [
    {
     "output_type": "stream",
     "name": "stdout",
     "text": [
      "x+y =  29\n",
      "x-y= 19\n",
      "120\n",
      "x/y= 4.8\n",
      "4\n",
      "7962624\n",
      "4\n"
     ]
    }
   ],
   "metadata": {}
  },
  {
   "cell_type": "code",
   "execution_count": 4,
   "source": [
    "\n",
    "temp1 = \"ABCDEFG\"\n",
    "temp2 = [4,2,3,5,8,9]\n",
    "a=\"CDE\"\n",
    "b=5\n",
    "c=\"CDF\"\n",
    "\n",
    "print(\"a in temp1?\", a in temp1)\n",
    "print(\"b in temp2?\", b in temp2)\n",
    "print(\"c in temp1?\", c in temp1)"
   ],
   "outputs": [
    {
     "output_type": "stream",
     "name": "stdout",
     "text": [
      "a in temp1? True\n",
      "b in temp2? True\n",
      "c in temp1? False\n"
     ]
    }
   ],
   "metadata": {}
  },
  {
   "cell_type": "code",
   "execution_count": null,
   "source": [],
   "outputs": [],
   "metadata": {}
  }
 ],
 "metadata": {
  "orig_nbformat": 4,
  "language_info": {
   "name": "python",
   "version": "3.9.5",
   "mimetype": "text/x-python",
   "codemirror_mode": {
    "name": "ipython",
    "version": 3
   },
   "pygments_lexer": "ipython3",
   "nbconvert_exporter": "python",
   "file_extension": ".py"
  },
  "kernelspec": {
   "name": "python3",
   "display_name": "Python 3.9.5 64-bit ('tf': conda)"
  },
  "interpreter": {
   "hash": "35f69483aa8b7b2bb12f1e6f2ffb8fe1120cf837ca5a80070d69961a5682f06d"
  }
 },
 "nbformat": 4,
 "nbformat_minor": 2
}