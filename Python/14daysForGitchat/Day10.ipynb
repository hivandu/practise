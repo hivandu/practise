{
 "cells": [
  {
   "cell_type": "code",
   "execution_count": null,
   "source": [
    "# -*- Coding UTF-8 -*- #\n",
    "# f = open('/Users/du/file.txt')\n",
    "# print(f.read())\n",
    "\n",
    "fw = open('/Users/du/file.txt', 'w')\n",
    "fw.write('12345-12345-12345')\n",
    "fw.close()\n",
    "\n",
    "f = open('/Users/du/file.txt', 'r')\n",
    "print(f.read())\n",
    "f.close()\n",
    "\n",
    "f = open('/Users/du/file.txt', 'a')\n",
    "f.write('\\nappend information')\n",
    "f.close()\n",
    "\n",
    "f = open('/Users/du/file.txt', 'r')\n",
    "print(f.read())\n",
    "f.close()\n",
    "\n",
    "f = open('/Users/du/file.txt', 'r')\n",
    "print(f.read(4))\n",
    "f.close()\n",
    "\n",
    "f = open('/Users/du/file.txt', 'w')\n",
    "f.write('append information1\\n')\n",
    "f.write('append information2\\n')\n",
    "f.write('append information3\\n')\n",
    "f.close()\n",
    "f = open('/Users/du/file.txt', 'r')\n",
    "while True:\n",
    "    line = f.readline()\n",
    "    if(not line):\n",
    "        break\n",
    "    print('content:', line)\n",
    "\n",
    "f.close()\n",
    "\n",
    "f = open('/Users/du/file.txt', 'r')\n",
    "for line in f.readlines():\n",
    "    print('content: ', line)\n",
    "f.close()\n",
    "\n",
    "f = open('/Users/du/file.txt', 'a')\n",
    "content = ['append information1\\n','append information2']\n",
    "f.writelines(content)\n",
    "f.close()\n",
    "\n",
    "import fileinput\n",
    "for line in fileinput.input('/Users/du/file.txt'):\n",
    "    print(line)\n",
    "\n",
    "f = open('myfile.txt', 'r')\n",
    "for line in f:\n",
    "    print('content:', line)\n",
    "f.close()\n",
    "\n",
    "f = open('myfile.txt', 'r')\n",
    "lines = list(f)\n",
    "print(lines)\n",
    "f.close()\n"
   ],
   "outputs": [],
   "metadata": {}
  },
  {
   "cell_type": "code",
   "execution_count": null,
   "source": [],
   "outputs": [],
   "metadata": {}
  }
 ],
 "metadata": {
  "orig_nbformat": 4,
  "language_info": {
   "name": "python",
   "version": "3.9.5",
   "mimetype": "text/x-python",
   "codemirror_mode": {
    "name": "ipython",
    "version": 3
   },
   "pygments_lexer": "ipython3",
   "nbconvert_exporter": "python",
   "file_extension": ".py"
  },
  "kernelspec": {
   "name": "python3",
   "display_name": "Python 3.9.5 64-bit"
  },
  "interpreter": {
   "hash": "5cf53de3813216cb4783f6412eb339fef4fdabd54508af35145546354c08cf85"
  }
 },
 "nbformat": 4,
 "nbformat_minor": 2
}