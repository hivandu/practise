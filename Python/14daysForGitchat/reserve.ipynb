{
 "cells": [
  {
   "cell_type": "code",
   "execution_count": 1,
   "source": [
    "def login_proc():\n",
    "    pass"
   ],
   "outputs": [],
   "metadata": {}
  },
  {
   "cell_type": "code",
   "execution_count": 2,
   "source": [
    "def filling_proc():\n",
    "    pass"
   ],
   "outputs": [],
   "metadata": {}
  },
  {
   "cell_type": "code",
   "execution_count": 3,
   "source": [
    "def booking_proc():\n",
    "    pass"
   ],
   "outputs": [],
   "metadata": {}
  },
  {
   "cell_type": "code",
   "execution_count": 4,
   "source": [
    "def confirm_proc():\n",
    "    pass"
   ],
   "outputs": [],
   "metadata": {}
  },
  {
   "cell_type": "code",
   "execution_count": 5,
   "source": [
    "value_fromstation = '%u676D%u5DDE%2CHZH'  # 始发站（杭州）\n",
    "value_tostation = '%u6210%u90FD%2CCDW'  # 终点站（成都）\n",
    "value_data='2021-09-21'\n",
    "username='hivandu'\n",
    "password='JmD5mpIMTX70'\n",
    "train_info = {\"D2222\":[['ZY_56000D222251', 'ZE_56000D222251', 'WZ_56000D222251'], 'ticket_56000D222251'],\n",
    "              \"D2262\":[['ZY_56000D226251', 'ZE_56000D226251', 'WZ_56000D226251'], 'ticket_56000D226251']}"
   ],
   "outputs": [],
   "metadata": {}
  },
  {
   "cell_type": "code",
   "execution_count": 7,
   "source": [
    "\n",
    "ticket_type_dict = {\n",
    "    'student': '//input[@name=\"sf\" and @id=\"sf1\"]',\n",
    "    'common': '//input[@name=\"sf\" and @id=\"sf2\"]'\n",
    "} \n",
    "\n",
    "train_type_dict = {'T': '//input[@name=\"cc_type\" and @value=\"T\"]',  # 特快\n",
    "                    'G': '//input[@name=\"cc_type\" and @value=\"G\"]',  # 高铁\n",
    "                    'D': '//input[@name=\"cc_type\" and @value=\"D\"]',  # 动车\n",
    "                    'Z': '//input[@name=\"cc_type\" and @value=\"Z\"]'}  # 直达\n",
    "\n",
    "#登陆页面url\n",
    "login_url = 'https://kyfw.12306.cn/otn/login/init'\n",
    "#个人信息页面url\n",
    "initmy_url = \"https://kyfw.12306.cn/otn/index/initMy12306\"  \n",
    "#订票页面url\n",
    "book_url = 'https://kyfw.12306.cn/otn/leftTicket/init'   \n",
    "#乘客选择页面url\n",
    "confirm_url = 'https://kyfw.12306.cn/otn/confirmPassenger/initDc'"
   ],
   "outputs": [],
   "metadata": {}
  },
  {
   "cell_type": "code",
   "execution_count": null,
   "source": [
    "def __init__(self):\n",
    "    "
   ],
   "outputs": [],
   "metadata": {}
  },
  {
   "cell_type": "code",
   "execution_count": null,
   "source": [],
   "outputs": [],
   "metadata": {}
  }
 ],
 "metadata": {
  "orig_nbformat": 4,
  "language_info": {
   "name": "python",
   "version": "3.9.5",
   "mimetype": "text/x-python",
   "codemirror_mode": {
    "name": "ipython",
    "version": 3
   },
   "pygments_lexer": "ipython3",
   "nbconvert_exporter": "python",
   "file_extension": ".py"
  },
  "kernelspec": {
   "name": "python3",
   "display_name": "Python 3.9.5 64-bit ('tf': conda)"
  },
  "interpreter": {
   "hash": "35f69483aa8b7b2bb12f1e6f2ffb8fe1120cf837ca5a80070d69961a5682f06d"
  }
 },
 "nbformat": 4,
 "nbformat_minor": 2
}