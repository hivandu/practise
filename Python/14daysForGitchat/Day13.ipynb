{
 "cells": [
  {
   "cell_type": "code",
   "execution_count": 1,
   "source": [
    "# -*- coding: utf-8 -*-\n",
    "\n",
    "import socket\n",
    "s = socket.socket(socket.AF_INET, socket.SOCK_STREAM)\n",
    "s.connect(('www.sina.com.cn', 80))\n",
    "s.send(b'GET / HTTP/1.1\\r\\nHost: www.sina.com\\r\\nConnection: close\\r\\n\\r\\n')"
   ],
   "outputs": [
    {
     "output_type": "execute_result",
     "data": {
      "text/plain": [
       "57"
      ]
     },
     "metadata": {},
     "execution_count": 1
    }
   ],
   "metadata": {}
  },
  {
   "cell_type": "code",
   "execution_count": 2,
   "source": [
    "buffer = []\n",
    "while True:\n",
    "    d = s.recv(1024)\n",
    "    if d:\n",
    "        buffer.append(d)\n",
    "    else:\n",
    "        break\n",
    "data = b''.join(buffer)\n",
    "s.close()"
   ],
   "outputs": [],
   "metadata": {}
  },
  {
   "cell_type": "code",
   "execution_count": 3,
   "source": [
    "header, html = data.split(b'\\r\\n\\r\\n', 1)\n",
    "print(header.decode('utf-8'))"
   ],
   "outputs": [
    {
     "output_type": "stream",
     "name": "stdout",
     "text": [
      "HTTP/1.1 200 OK\n",
      "Server: Tengine\n",
      "Content-Type: text/html\n",
      "Content-Length: 24000\n",
      "Connection: close\n",
      "Date: Wed, 08 Sep 2021 05:01:35 GMT\n",
      "Vary: Accept-Encoding\n",
      "ETag: W/\"607e94a3-c2c\"V=5965C31\n",
      "X-Powered-By: shci_v1.13\n",
      "Expires: Wed, 08 Sep 2021 05:03:35 GMT\n",
      "Cache-Control: max-age=120\n",
      "X-Via-SSL: ssl.26.sinag1.shx.lb.sinanode.com\n",
      "Edge-Copy-Time: 1631077295177\n",
      "Via: https/1.1 cnc.guangzhou.union.57 (ApacheTrafficServer/6.2.1 [cSsSfU]), cache28.l2cn2656[207,206,200-0,M], cache14.l2cn2656[208,0], cache14.l2cn2656[209,0], vcache10.cn3968[0,0,200-0,H], vcache30.cn3968[1,0]\n",
      "X-Via-CDN: f=alicdn,s=vcache30.cn3968,c=114.93.36.211;f=edge,s=cnc.guangzhou.union.57.nb.sinaedge.com,c=153.37.73.157;f=Edge,s=cnc.guangzhou.union.57,c=112.90.6.74;f=edge,s=ctc.guangzhou.bsd-storage.23.nb.sinaedge.com,c=172.16.92.26;\n",
      "X-Via-Edge: 16310772951759d492599f0065a70790e6803\n",
      "Ali-Swift-Global-Savetime: 1631077295\n",
      "Age: 84\n",
      "X-Cache: HIT TCP_MEM_HIT dirn:-2:-2\n",
      "X-Swift-SaveTime: Wed, 08 Sep 2021 05:01:35 GMT\n",
      "X-Swift-CacheTime: 120\n",
      "Timing-Allow-Origin: *\n",
      "EagleId: 7ae1d93216310773790055929e\n"
     ]
    }
   ],
   "metadata": {}
  },
  {
   "cell_type": "code",
   "execution_count": 4,
   "source": [
    "with open('sina.html', 'wb') as f:\n",
    "    f.write(html)"
   ],
   "outputs": [],
   "metadata": {}
  },
  {
   "cell_type": "code",
   "execution_count": null,
   "source": [],
   "outputs": [],
   "metadata": {}
  }
 ],
 "metadata": {
  "orig_nbformat": 4,
  "language_info": {
   "name": "python",
   "version": "3.9.5",
   "mimetype": "text/x-python",
   "codemirror_mode": {
    "name": "ipython",
    "version": 3
   },
   "pygments_lexer": "ipython3",
   "nbconvert_exporter": "python",
   "file_extension": ".py"
  },
  "kernelspec": {
   "name": "python3",
   "display_name": "Python 3.9.5 64-bit"
  },
  "interpreter": {
   "hash": "5cf53de3813216cb4783f6412eb339fef4fdabd54508af35145546354c08cf85"
  }
 },
 "nbformat": 4,
 "nbformat_minor": 2
}