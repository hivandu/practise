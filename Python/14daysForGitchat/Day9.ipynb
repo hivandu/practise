{
 "cells": [
  {
   "cell_type": "code",
   "execution_count": null,
   "source": [
    "# -*- Coding: UTF-8 -*- #\n",
    "\n",
    "import math\n",
    "x = int(input('Please enter a positive number:'))\n",
    "print(math.sqrt(x))\n",
    "\n",
    "import sys\n",
    "\n",
    "sys.path.append('/home/python/test')\n",
    "\n",
    "for temp in sys.path:\n",
    "    print(temp)\n",
    "\n",
    "import math\n",
    "print(dir(math))\n",
    "\n"
   ],
   "outputs": [],
   "metadata": {}
  }
 ],
 "metadata": {
  "orig_nbformat": 4,
  "language_info": {
   "name": "python"
  }
 },
 "nbformat": 4,
 "nbformat_minor": 2
}