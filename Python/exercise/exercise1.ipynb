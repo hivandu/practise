{
 "cells": [
  {
   "cell_type": "code",
   "execution_count": 18,
   "metadata": {},
   "outputs": [
    {
     "name": "stdout",
     "output_type": "stream",
     "text": [
      "3.44\n",
      "3.0\n",
      "9.28\n",
      "10.0\n"
     ]
    }
   ],
   "source": [
    "# 统计学：化身为数据，求均值和中位数\n",
    "\n",
    "import numpy as np\n",
    "\n",
    "nums = [1,1,1,1,2,2,2,2,2,2,3,3,3,3,4,4,4,4,5,5,5,6,6,7,8]\n",
    "\n",
    "\n",
    "## 均值\n",
    "print(np.mean(nums))\n",
    "## 中位数\n",
    "print(np.median(nums))\n",
    "\n",
    "nums = [1,4,6,6,8,8,8,9,9,9,9,10,10,10,10,11,11,11,11,11,12,12,12,12,12]\n",
    "print(np.mean(nums))\n",
    "print(np.median(nums))"
   ]
  },
  {
   "cell_type": "code",
   "execution_count": 17,
   "metadata": {},
   "outputs": [
    {
     "name": "stdout",
     "output_type": "stream",
     "text": [
      "17.0\n",
      "17.0\n",
      "[0 3 4 2 0 0 0 0 0 0 0 0 0 0 0 0 0 0 0 0 0 0 0 0 0 0 0 0 0 0 0 2 4 3]\n",
      "2\n"
     ]
    },
    {
     "data": {
      "text/plain": [
       "2"
      ]
     },
     "execution_count": 17,
     "metadata": {},
     "output_type": "execute_result"
    }
   ],
   "source": [
    "# 游泳俱乐部\n",
    "nums = [1,1,1,2,2,2,2,3,3,31,31,32,32,32,32,33,33,33]\n",
    "print(np.mean(nums))\n",
    "print(np.median(nums))\n",
    "\n",
    "# 求众数\n",
    "\n",
    "counts = np.bincount(nums)\n",
    "print(counts)\n",
    "print(np.argmax(counts))\n",
    "\n",
    "# 众数2\n",
    "from scipy import stats\n",
    "stats.mode(nums)[0][0]"
   ]
  },
  {
   "cell_type": "code",
   "execution_count": 23,
   "metadata": {},
   "outputs": [
    {
     "name": "stdout",
     "output_type": "stream",
     "text": [
      "3.5\n",
      "2.9166666666666665\n",
      "1.707825127659933\n"
     ]
    }
   ],
   "source": [
    "# 求方差\n",
    "import numpy as np\n",
    "import pandas as pd\n",
    "from pandas import Series,DataFrame\n",
    "\n",
    "nums = [1,2,3,4,5,6]\n",
    "\n",
    "mean = np.mean(nums)\n",
    "print(mean)\n",
    "var = np.var(nums)\n",
    "print(var)\n",
    "\n",
    "std = np.std(nums)\n",
    "print(std)"
   ]
  },
  {
   "cell_type": "code",
   "execution_count": 32,
   "metadata": {},
   "outputs": [
    {
     "name": "stdout",
     "output_type": "stream",
     "text": [
      "10.0\n",
      "2.2\n",
      "1.4832396974191326\n"
     ]
    }
   ],
   "source": [
    "nums = [7,9,9,10,10,10,10,11,11,13]\n",
    "print(np.mean(nums))\n",
    "print(np.var(nums))\n",
    "print(np.std(nums))"
   ]
  },
  {
   "cell_type": "code",
   "execution_count": 30,
   "metadata": {},
   "outputs": [
    {
     "name": "stdout",
     "output_type": "stream",
     "text": [
      "10.0\n",
      "3.0\n",
      "1.7320508075688772\n"
     ]
    }
   ],
   "source": [
    "nums = [7,8,9,9,10,10,11,11,12,13]\n",
    "print(np.mean(nums))\n",
    "print(np.var(nums))\n",
    "print(np.std(nums))"
   ]
  },
  {
   "cell_type": "code",
   "execution_count": 31,
   "metadata": {},
   "outputs": [
    {
     "name": "stdout",
     "output_type": "stream",
     "text": [
      "10.0\n",
      "49.27272727272727\n",
      "7.019453488180349\n"
     ]
    }
   ],
   "source": [
    "nums = [3,3,6,7,7,10,10,10,11,13,30]\n",
    "print(np.mean(nums))\n",
    "print(np.var(nums))\n",
    "print(np.std(nums))"
   ]
  },
  {
   "cell_type": "code",
   "execution_count": 34,
   "metadata": {},
   "outputs": [
    {
     "name": "stdout",
     "output_type": "stream",
     "text": [
      "5.0\n",
      "2.0\n",
      "1.4142135623730951\n",
      "6.0\n",
      "2.0\n",
      "1.4142135623730951\n",
      "5.499999999999999\n",
      "2.42\n",
      "1.5556349186104046\n",
      "4.500000000000001\n",
      "1.6199999999999999\n",
      "1.2727922061357855\n"
     ]
    }
   ],
   "source": [
    "num1 = [3,4,5,6,7]\n",
    "num2 = [4,5,6,7,8]\n",
    "num3 = [3.3,4.4,5.5,6.6,7.7]\n",
    "num4 = [2.7,3.6,4.5,5.4,6.3]\n",
    "print(np.mean(num1))\n",
    "print(np.var(num1))\n",
    "print(np.std(num1))\n",
    "\n",
    "print(np.mean(num2))\n",
    "print(np.var(num2))\n",
    "print(np.std(num2))\n",
    "\n",
    "print(np.mean(num3))\n",
    "print(np.var(num3))\n",
    "print(np.std(num3))\n",
    "\n",
    "print(np.mean(num4))\n",
    "print(np.var(num4))\n",
    "print(np.std(num4))\n"
   ]
  },
  {
   "cell_type": "code",
   "execution_count": 35,
   "metadata": {},
   "outputs": [
    {
     "data": {
      "text/plain": [
       "1.269"
      ]
     },
     "execution_count": 35,
     "metadata": {},
     "output_type": "execute_result"
    }
   ],
   "source": [
    "1.41*0.9"
   ]
  },
  {
   "cell_type": "code",
   "execution_count": 36,
   "metadata": {},
   "outputs": [
    {
     "data": {
      "text/plain": [
       "16777216"
      ]
     },
     "execution_count": 36,
     "metadata": {},
     "output_type": "execute_result"
    }
   ],
   "source": [
    "4**12"
   ]
  },
  {
   "cell_type": "code",
   "execution_count": 37,
   "metadata": {},
   "outputs": [
    {
     "data": {
      "text/plain": [
       "1048576"
      ]
     },
     "execution_count": 37,
     "metadata": {},
     "output_type": "execute_result"
    }
   ],
   "source": [
    "2**20"
   ]
  },
  {
   "cell_type": "code",
   "execution_count": null,
   "metadata": {},
   "outputs": [],
   "source": []
  },
  {
   "cell_type": "code",
   "execution_count": null,
   "metadata": {},
   "outputs": [],
   "source": []
  }
 ],
 "metadata": {
  "kernelspec": {
   "display_name": "Python 3",
   "language": "python",
   "name": "python3"
  },
  "language_info": {
   "codemirror_mode": {
    "name": "ipython",
    "version": 3
   },
   "file_extension": ".py",
   "mimetype": "text/x-python",
   "name": "python",
   "nbconvert_exporter": "python",
   "pygments_lexer": "ipython3",
   "version": "3.9.5"
  }
 },
 "nbformat": 4,
 "nbformat_minor": 4
}
