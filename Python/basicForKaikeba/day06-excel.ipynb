{
 "cells": [
  {
   "cell_type": "markdown",
   "metadata": {},
   "source": [
    "# 路径拓展"
   ]
  },
  {
   "cell_type": "markdown",
   "metadata": {},
   "source": [
    "## 1. 路径加载连接的三种方法\n"
   ]
  },
  {
   "cell_type": "code",
   "execution_count": 1,
   "metadata": {
    "code_folding": [
     0
    ]
   },
   "outputs": [
    {
     "data": {
      "text/plain": [
       "'/Users/mac/Desktop'"
      ]
     },
     "execution_count": 1,
     "metadata": {},
     "output_type": "execute_result"
    }
   ],
   "source": [
    "# （1）/  推荐使用的方式\n",
    "\n",
    "'''\n",
    "mac和linux中默认路径符使用方式\n",
    "例如： '/Users/mac/Desktop'\n",
    "\n",
    "在window中使用也可以\n",
    "例如：'C:/Users/phc/Desktop'\n",
    "'''\n",
    "# 在window中使用也可以\n",
    "path = '/Users/mac/Desktop'\n",
    "path\n",
    "# 总结： 如果路径连接符是 / 可以正常在windows、mac、linux中使用"
   ]
  },
  {
   "cell_type": "code",
   "execution_count": null,
   "metadata": {},
   "outputs": [],
   "source": []
  },
  {
   "cell_type": "code",
   "execution_count": 2,
   "metadata": {
    "code_folding": [
     0
    ]
   },
   "outputs": [],
   "source": [
    "# （2） \\ \n",
    "# windows中默认使用的路径连接符\n",
    "# 例如：C:\\Users\\phc\\Desktop\n",
    "# path = 'C:\\Users\\phc\\Desktop'\n",
    "# path\n",
    "# 如果用上面的形式，在字符串中 \\t表示制表符,\\n表示回车 等具有特别的含义，如果继续用来表示文件路径，就会有歧义。\n",
    "\n",
    "# 解决方式： 使用 \\ 进行转义\n",
    "path = 'C:\\\\Users\\\\phc\\\\Desktop'\n",
    "# path\n",
    "\n",
    "# '\\\\t'\n",
    "\n",
    "# 总结：在每一个路径连接符的前面添加一个\\表示转义，让其不具有回车等作用。"
   ]
  },
  {
   "cell_type": "code",
   "execution_count": 3,
   "metadata": {
    "code_folding": [
     0
    ]
   },
   "outputs": [
    {
     "data": {
      "text/plain": [
       "'C:\\\\Users\\\\phc\\\\Desktop'"
      ]
     },
     "execution_count": 3,
     "metadata": {},
     "output_type": "execute_result"
    }
   ],
   "source": [
    "# （3） r\n",
    "# 表示使用字符串的原始含义\n",
    "path = r'C:\\Users\\phc\\Desktop'\n",
    "path"
   ]
  },
  {
   "cell_type": "markdown",
   "metadata": {},
   "source": [
    "## 2. 绝对路径和相对路径"
   ]
  },
  {
   "cell_type": "code",
   "execution_count": 47,
   "metadata": {
    "code_folding": []
   },
   "outputs": [
    {
     "data": {
      "text/plain": [
       "'/Users/mac/Desktop/016期/day06'"
      ]
     },
     "execution_count": 47,
     "metadata": {},
     "output_type": "execute_result"
    }
   ],
   "source": [
    "# （1）当前工作目录\n",
    "# 通俗的理解就是当前文件所在电脑中的位置\n",
    "\n",
    "# 使用os.getcwd()方法可以获取到文件所在当前位置\n",
    "\n",
    "import os\n",
    "os.getcwd()"
   ]
  },
  {
   "cell_type": "code",
   "execution_count": null,
   "metadata": {
    "code_folding": [
     0
    ]
   },
   "outputs": [],
   "source": [
    "# (2) 绝对路径\n",
    "# 总是从根文件夹开始，Window 系统中以盘符（C：、D：）作为根文件夹，而 OS X 或者 Linux 系统中以 / 作为根文件夹。\n",
    "# 通俗的理解windows中就是以盘符开始的路径字符串\n",
    "# os.getcwd() 方法获取的就是当前文件所在电脑中的绝对路径。"
   ]
  },
  {
   "cell_type": "code",
   "execution_count": null,
   "metadata": {
    "code_folding": []
   },
   "outputs": [],
   "source": [
    "# （3）相对路径\n",
    "# 这个相对指的就是相对于当前文件夹路径，其实就是你编写的这个py文件所放的文件夹路径！\n",
    "# 通俗的理解就是，以你写的这个代码文件为参照，去找你想要加载的文件的路径\n",
    "\n",
    "# ./ 表示的是当前路径。\n",
    "# ../ 表示的是当前路径的上一级目录。\n",
    "\n",
    "# 文件.txt 的路径\n",
    "# pathfile = '../文件.txt'\n",
    "\n",
    "# path.txt 的路径\n",
    "# path1 = './path.txt'\n",
    "# path1 = 'path.txt'\n",
    "\n",
    "# # path1.txt 的路径\n",
    "# path1 = './path/path1.txt'\n",
    "\n",
    "# # # path2.txt 的路径\n",
    "# path2 = './path/path1/path2.txt'"
   ]
  },
  {
   "cell_type": "code",
   "execution_count": null,
   "metadata": {
    "code_folding": [
     0
    ]
   },
   "outputs": [],
   "source": [
    "#  (4) 将相对路径转化为绝对路径\n",
    "path1 = './path/path1/path2.txt'\n",
    "path = os.path.abspath(path1)\n",
    "path\n",
    "# os.path.relpath(path, start) 绝对转相对\n",
    "#  将返回从 start 路径到 path 的相对路径的字符串。如果没有提供 start，就使用当前工作目录作为开始路径。\n",
    "os.path.relpath(path) \n"
   ]
  },
  {
   "cell_type": "markdown",
   "metadata": {},
   "source": [
    "[openpyxl参考链接](http://yumos.gitee.io/openpyxl3.0/index.html#document-tutorial)  \n",
    "pip使用镜像安装：`pip install -U openpyxl -i https://pypi.douban.com/simple`  \n",
    "pip install -U python-docx -i https://pypi.douban.com/simple"
   ]
  },
  {
   "cell_type": "code",
   "execution_count": 4,
   "metadata": {
    "code_folding": []
   },
   "outputs": [],
   "source": [
    "# 1. 模块导入\n",
    "import openpyxl\n",
    "\n",
    "from openpyxl import Workbook"
   ]
  },
  {
   "cell_type": "code",
   "execution_count": 7,
   "metadata": {
    "code_folding": []
   },
   "outputs": [],
   "source": [
    "# 2. 创建空白工作薄并保存\n",
    "\n",
    "wb = Workbook()\n",
    "\n",
    "# 给默认的表改名字\n",
    "# 获得激活的worksheet\n",
    "ws = wb.active\n",
    "\n",
    "# 修改表的名字\n",
    "ws.title = '激活'\n",
    "\n",
    "# 保存文件(一定要保存)\n",
    "wb.save('./work1.xlsx')\n"
   ]
  },
  {
   "cell_type": "code",
   "execution_count": 51,
   "metadata": {
    "code_folding": []
   },
   "outputs": [],
   "source": [
    "# 3. 创建工作表并保存\n",
    "wb = Workbook() #  默认的有一个表\n",
    "# 创建其他的工作表\n",
    "\n",
    "ws1 = wb.create_sheet('ws1')\n",
    "\n",
    "ws2 = wb.create_sheet('ws2',0)\n",
    "\n",
    "wb.save('./datafile_excel/work2.xlsx')\n"
   ]
  },
  {
   "cell_type": "code",
   "execution_count": 53,
   "metadata": {
    "code_folding": []
   },
   "outputs": [],
   "source": [
    "# 练习1 \n",
    "# 创建一个工作簿，然后创建100张工作表\n",
    "# path = './test1.xlsx'\n",
    "# wb = openpyxl.Workbook() \n",
    "\n",
    "# # 删除表\n",
    "# # wb.remove(传一个表的对象)\n",
    "# sheet = wb.active\n",
    "# wb.remove(sheet)\n",
    "\n",
    "# for i in range(1,101):\n",
    "#     wb.create_sheet(f'第{i}张表')\n",
    "\n",
    "# wb.save(path)\n"
   ]
  },
  {
   "cell_type": "code",
   "execution_count": 54,
   "metadata": {
    "code_folding": []
   },
   "outputs": [
    {
     "name": "stdout",
     "output_type": "stream",
     "text": [
      "['ws2', 'Sheet', 'ws1']\n"
     ]
    }
   ],
   "source": [
    "# 4. 读取文件\n",
    "from openpyxl import load_workbook\n",
    "wb = load_workbook('./datafile_excel/work2.xlsx')\n",
    "\n",
    "print(wb.sheetnames) # ['ws2', 'Sheet', 'ws1']"
   ]
  },
  {
   "cell_type": "code",
   "execution_count": 60,
   "metadata": {
    "code_folding": []
   },
   "outputs": [
    {
     "name": "stdout",
     "output_type": "stream",
     "text": [
      "7\n",
      "2\n"
     ]
    },
    {
     "data": {
      "text/plain": [
       "1"
      ]
     },
     "execution_count": 60,
     "metadata": {},
     "output_type": "execute_result"
    }
   ],
   "source": [
    "# 5. 读取表中的数据 \n",
    "from openpyxl import load_workbook\n",
    "\n",
    "wb  = load_workbook('./datafile_excel/读写.xlsx')\n",
    "\n",
    "# 获取对应的表\n",
    "sheet = wb['读']\n",
    "\n",
    "# 获取行列数\n",
    "print(sheet.max_row) # 行\n",
    "print(sheet.max_column) # 列\n",
    "\n",
    "# 读取一列\n",
    "# one_column = sheet['A']\n",
    "# print(one_column)\n",
    "\n",
    "# # 读取一行\n",
    "# one_row = sheet['1']\n",
    "# print(one_row)\n",
    "\n",
    "# 读取一个单元格\n",
    "# one_cell = sheet['A1']\n",
    "# print(one_cell)\n",
    "# print(one_cell.value) # 值\n",
    "\n",
    "# 使用数字这种形式获取值\n",
    "# sheet.cell(row=1,column=1).value"
   ]
  },
  {
   "cell_type": "code",
   "execution_count": 61,
   "metadata": {
    "code_folding": [
     0
    ]
   },
   "outputs": [],
   "source": [
    "# 6. 写入数据\n",
    "wb = load_workbook('./datafile_excel/读写.xlsx')\n",
    "sheet = wb['写']\n",
    "# sheet['A1'].value = 'A1'\n",
    "\n",
    "#写入一列\n",
    "for i in range(1,11):\n",
    "    \n",
    "    sheet['A{}'.format(i)].value = i\n",
    "    \n",
    "# 写入一行\n",
    "for j in range(1,11):\n",
    "    \n",
    "    sheet.cell(row=11,column=j,value=j)\n",
    "\n",
    "wb.save('./datafile_excel/读写.xlsx')"
   ]
  },
  {
   "cell_type": "markdown",
   "metadata": {},
   "source": [
    "# 7. 练习"
   ]
  },
  {
   "cell_type": "code",
   "execution_count": 63,
   "metadata": {
    "code_folding": [
     0
    ]
   },
   "outputs": [],
   "source": [
    "# （1）了解数据并添加一列销售额数据\n",
    "from openpyxl import load_workbook\n",
    "wb = load_workbook('./datafile_excel/案例.xlsx')\n",
    "sheet = wb['订单']\n",
    "\n",
    "# 获取数据的行列\n",
    "# print(sheet.max_row)\n",
    "# print(sheet.max_column) 18\n",
    "\n",
    "\n",
    "# 获取单价和数量这两个列的值，并添加销售额列:\n",
    "sheet.cell(row=1,column=19,value='销售额')\n",
    "\n",
    "# # 获取列数据\n",
    "for row_index in range(2,sheet.max_row+1): # 获取每一行\n",
    "    # 单价数据 *  数量 = 销售额'\n",
    "    # 单价数据\n",
    "    one_price = sheet.cell(row=row_index,column=17).value\n",
    "    \n",
    "    # 获取数量\n",
    "    one_num = sheet.cell(row=row_index,column=18).value\n",
    "    \n",
    "    # ---- 赋值销售额\n",
    "    # 判断是为空\n",
    "    if one_price==None or one_num==None:\n",
    "    \n",
    "        sheet.cell(row=row_index,column=19).value = None\n",
    "        \n",
    "    else:\n",
    "        sheet.cell(row=row_index,column=19).value = one_price * one_num\n",
    "\n",
    "wb.save('./datafile_excel/案例.xlsx')"
   ]
  },
  {
   "cell_type": "code",
   "execution_count": 64,
   "metadata": {
    "code_folding": [
     0
    ]
   },
   "outputs": [],
   "source": [
    "# （2）根据各个省的订单量绘制出柱状图\n",
    "from openpyxl import Workbook\n",
    "from openpyxl import load_workbook\n",
    "from openpyxl.chart import BarChart, Reference\n",
    "\n",
    "wb = load_workbook('./datafile_excel/案例.xlsx')\n",
    "sheet = wb['各省销量']\n",
    "\n",
    "# 创建柱状图对象\n",
    "bar_chart = BarChart()\n",
    "\n",
    "# 设置配置项\n",
    "lables= Reference(sheet,min_row=2,max_row=32,min_col=1,max_col=1)\n",
    "data = Reference(sheet,min_row=2,max_row=32,min_col=2,max_col=2)\n",
    "\n",
    "# 添加数据\n",
    "bar_chart.add_data(data)\n",
    "bar_chart.set_categories(lables)\n",
    "# 设置标题\n",
    "bar_chart.x_axis.title = 'Test'\n",
    "bar_chart.y_axis.title = 'Percentage'\n",
    "# 设置宽高\n",
    "bar_chart.width = 18\n",
    "bar_chart.height = 18\n",
    "# 设置标题\n",
    "bar_chart.title = '柱状图'\n",
    "# 添加到表的哪个位置\n",
    "sheet.add_chart(bar_chart,'D10')\n",
    "wb.save('./datafile_excel/案例.xlsx')"
   ]
  },
  {
   "cell_type": "code",
   "execution_count": null,
   "metadata": {
    "code_folding": []
   },
   "outputs": [],
   "source": [
    "# （3）添加到指定的位置\n",
    "from openpyxl.drawing.image import Image\n",
    "wb = load_workbook('./datafile_excel/案例.xlsx')\n",
    "sheet = wb['各省销量']\n",
    "\n",
    "img = Image('./datafile_excel/1.png')\n",
    "\n",
    "sheet.add_image(img,'D27')\n",
    "wb.save('./datafile_excel/案例.xlsx')"
   ]
  },
  {
   "cell_type": "code",
   "execution_count": null,
   "metadata": {
    "code_folding": [
     0
    ]
   },
   "outputs": [],
   "source": [
    "# （4）拓展--修改单元格样式\n",
    "from openpyxl.styles import Alignment,Border,Side,Font\n",
    "from openpyxl.styles.fills import GradientFill\n",
    "\n",
    "wb = load_workbook('./datafile_excel/案例.xlsx')\n",
    "sheet = wb['各省销量']\n",
    "\n",
    "# 设置单元格字体\n",
    "sheet['A1'].font = Font(\n",
    "\tname='黑体',      # 设置单元格字体\n",
    "\tsize=36,        #设置字体字号\n",
    "\tbold=True,      # 加粗\n",
    "\tcolor='FFaa8844' # 单元格文本颜色\n",
    ")\n",
    "\n",
    "# 填充渐变颜色（起始颜色，结束颜色),其实颜色和结束颜色一致为固定颜色\n",
    "sheet['B1'].fill = GradientFill(stop=('00ffff','00ffff'))\n",
    "\n",
    "wb.save('./datafile_excel/案例.xlsx')"
   ]
  },
  {
   "cell_type": "code",
   "execution_count": null,
   "metadata": {
    "code_folding": [
     0
    ]
   },
   "outputs": [],
   "source": [
    "# 暗号\n",
    "import random\n",
    "# 后八位\n",
    "argot = ''\n",
    "for index in range(4):\n",
    "    argot = argot + str(random.randint(0,9))\n",
    "print(argot)"
   ]
  },
  {
   "cell_type": "code",
   "execution_count": null,
   "metadata": {},
   "outputs": [],
   "source": []
  },
  {
   "cell_type": "code",
   "execution_count": null,
   "metadata": {},
   "outputs": [],
   "source": []
  },
  {
   "cell_type": "code",
   "execution_count": null,
   "metadata": {},
   "outputs": [],
   "source": []
  },
  {
   "cell_type": "code",
   "execution_count": null,
   "metadata": {},
   "outputs": [],
   "source": []
  },
  {
   "cell_type": "code",
   "execution_count": null,
   "metadata": {},
   "outputs": [],
   "source": []
  },
  {
   "cell_type": "code",
   "execution_count": null,
   "metadata": {},
   "outputs": [],
   "source": []
  },
  {
   "cell_type": "code",
   "execution_count": null,
   "metadata": {},
   "outputs": [],
   "source": []
  },
  {
   "cell_type": "code",
   "execution_count": null,
   "metadata": {},
   "outputs": [],
   "source": []
  },
  {
   "cell_type": "code",
   "execution_count": null,
   "metadata": {},
   "outputs": [],
   "source": []
  },
  {
   "cell_type": "code",
   "execution_count": null,
   "metadata": {},
   "outputs": [],
   "source": []
  },
  {
   "cell_type": "code",
   "execution_count": null,
   "metadata": {},
   "outputs": [],
   "source": []
  },
  {
   "cell_type": "code",
   "execution_count": null,
   "metadata": {},
   "outputs": [],
   "source": []
  },
  {
   "cell_type": "code",
   "execution_count": null,
   "metadata": {},
   "outputs": [],
   "source": []
  }
 ],
 "metadata": {
  "kernelspec": {
   "display_name": "Python 3",
   "language": "python",
   "name": "python3"
  },
  "language_info": {
   "codemirror_mode": {
    "name": "ipython",
    "version": 3
   },
   "file_extension": ".py",
   "mimetype": "text/x-python",
   "name": "python",
   "nbconvert_exporter": "python",
   "pygments_lexer": "ipython3",
   "version": "3.8.3"
  }
 },
 "nbformat": 4,
 "nbformat_minor": 2
}
