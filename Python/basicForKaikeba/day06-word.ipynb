{
 "cells": [
  {
   "cell_type": "markdown",
   "metadata": {},
   "source": [
    "[python-docx 参考链接](https://python-docx.readthedocs.io/en/latest/)  \n"
   ]
  },
  {
   "cell_type": "code",
   "execution_count": 2,
   "metadata": {
    "code_folding": [
     0
    ],
    "scrolled": true
   },
   "outputs": [
    {
     "name": "stdout",
     "output_type": "stream",
     "text": [
      "[<docx.text.paragraph.Paragraph object at 0x7fd1c77bf8e0>, <docx.text.paragraph.Paragraph object at 0x7fd1c77bfa00>, <docx.text.paragraph.Paragraph object at 0x7fd1c77bf940>, <docx.text.paragraph.Paragraph object at 0x7fd1c77bfac0>, <docx.text.paragraph.Paragraph object at 0x7fd1c77bf9a0>, <docx.text.paragraph.Paragraph object at 0x7fd1c77bfb50>]\n"
     ]
    }
   ],
   "source": [
    "# 1. 文档段落和块\n",
    "from docx import Document\n",
    "\n",
    "doc = Document('./datafile/word1.docx')\n",
    "# 获取所有段落\n",
    "print(doc.paragraphs)\n",
    "\n",
    "# 获取段落内的文字\n",
    "# for paragraph in doc.paragraphs:\n",
    "#     print(paragraph.text)\n",
    "#     print('*'*20)\n",
    "\n",
    "# # 获取每一块\n",
    "# paragraph = doc.paragraphs[0] # 段落\n",
    "# 段落中所有的块\n",
    "# runs = paragraph.runs\n",
    "# # 获取每一块文字\n",
    "# for run in runs:\n",
    "#     print(run.text,'---')\n",
    "    \n",
    "    \n",
    "# 相同格式的为一块\n"
   ]
  },
  {
   "cell_type": "code",
   "execution_count": null,
   "metadata": {
    "code_folding": [
     0
    ]
   },
   "outputs": [],
   "source": [
    "# 2. 练习-搜索相同文字\n",
    "from docx import Document\n",
    "\n",
    "doc = Document('./datafile/word2.docx')\n",
    "str1 = '的'\n",
    "count = 0\n",
    "for paragraph in doc.paragraphs:\n",
    "    \n",
    "    if str1 in paragraph.text:\n",
    "        count += paragraph.text.count(str1)\n",
    "print(count) \n"
   ]
  },
  {
   "cell_type": "code",
   "execution_count": null,
   "metadata": {
    "code_folding": [
     0
    ]
   },
   "outputs": [],
   "source": [
    "# 3. 获取表格\n",
    "from docx import Document\n",
    "\n",
    "doc = Document('./datafile/word2.docx')\n",
    "\n",
    "tables = doc.tables\n",
    "# 获取单元格内容\n",
    "for table in tables:\n",
    "    for row in table.rows:\n",
    "        for cell in row.cells:\n",
    "            print(cell.text)\n",
    "            "
   ]
  },
  {
   "cell_type": "code",
   "execution_count": null,
   "metadata": {
    "code_folding": [
     0
    ]
   },
   "outputs": [],
   "source": [
    "# 4. 读取word中的文字、标题等\n",
    "from docx import Document\n",
    "doc = Document('./datafile/word3.docx')\n",
    "# # 获取段落内的文字\n",
    "# for paragraph in doc.paragraphs:\n",
    "#     print(paragraph.text)\n",
    "\n",
    "# 获取所有一级标题\n",
    "# for paragraph in doc.paragraphs:\n",
    "#     # Heading leveal 表示几级标题 1<= leveal <=9 \n",
    "#     if paragraph.style.name == 'Heading 1':\n",
    "#         print(paragraph.text)\n",
    " \n",
    "    \n",
    "# 获取到所有的标题\n",
    "# import re \n",
    "# for paragraph in doc.paragraphs:\n",
    "#     # Heading leveal 表示几级标题 1<= leveal <=9 \n",
    "#     if re.match(\"^Heading \\d+$\",paragraph.style.name):\n",
    "#         print(paragraph.text)\n",
    "\n",
    "# 获取所有的正文\n",
    "# for paragraph in doc.paragraphs:\n",
    "#     if paragraph.style.name == 'Normal':\n",
    "#         print(paragraph.text)"
   ]
  },
  {
   "cell_type": "code",
   "execution_count": null,
   "metadata": {
    "code_folding": [
     0
    ]
   },
   "outputs": [],
   "source": [
    "# 5. 写入和插入word文字和段落\n",
    "from docx import Document\n",
    "\n",
    "document = Document()\n",
    "# 添加标题 0<=level<=9\n",
    "document.add_heading('Document Title', 0)\n",
    "document.add_heading('Document Title', 1)\n",
    "document.add_heading('Document Title', 2)\n",
    "document.add_heading('Document Title', 3)\n",
    "\n",
    "# 添加正文\n",
    "document.add_paragraph('添加正文1！')\n",
    "\n",
    "# 添加分页符（插入-》分页符-》自动跳到下一页，分页符后面不可以再写内容了，直接跳到下一页写）\n",
    "document.add_page_break()\n",
    "\n",
    "# 再添加一个段落，演示分页符的作用\n",
    "document.add_paragraph('添加正文2！')\n",
    "\n",
    "# 添加文字块\n",
    "paragraph = document.add_paragraph('添加正文3！')\n",
    "paragraph.add_run('加粗').bold = True\n",
    "paragraph.add_run('普通')\n",
    "paragraph.add_run('斜体').italic = True\n",
    "\n",
    "# 在最后一段之前插入一段文字\n",
    "document.paragraphs[len(document.paragraphs)-1].insert_paragraph_before('插入的段落')\n",
    "\n",
    "document.save(\"./datafileword4.docx\")"
   ]
  },
  {
   "cell_type": "code",
   "execution_count": null,
   "metadata": {
    "code_folding": [
     0
    ]
   },
   "outputs": [],
   "source": [
    "# 6. 添加图片和删除图片\n",
    "# from docx import Document\n",
    "\n",
    "# doc = Document('./datafile/word4.docx')\n",
    "# # 添加图片\n",
    "# # 导入设置图片大小的库,Cm表示厘米\n",
    "from docx.shared import Cm\n",
    "doc.add_picture('./datafile/1.png',width=Cm(10),height=Cm(8))\n",
    "\n",
    "# doc.save('./word4.docx')\n",
    "\n",
    "# 向表格中添加图片\n",
    "from docx import Document\n",
    "\n",
    "doc = Document('./datafile/word5.docx')\n",
    "# 单元格中也包含段落和块\n",
    "run = doc.tables[0].cell(0,0).paragraphs[0].add_run()\n",
    "\n",
    "run.add_picture('./datafile/1.png',width=Cm(3),height=Cm(2))\n",
    "\n",
    "doc.save('./datafile/word5.docx')"
   ]
  },
  {
   "cell_type": "code",
   "execution_count": null,
   "metadata": {
    "code_folding": [
     0
    ]
   },
   "outputs": [],
   "source": [
    "# 7. 删除图片\n",
    "doc = Document('./datafile/word6.docx')\n",
    "\n",
    "# 查看文件中图片的数量\n",
    "print(len(doc.inline_shapes))\n",
    "# 删除图片段落\n",
    "\n",
    "paragraph = doc.paragraphs[len(doc.paragraphs)-1]\n",
    "paragraph.clear()\n",
    "\n",
    "doc.save('./datafile/word6.docx')"
   ]
  },
  {
   "cell_type": "code",
   "execution_count": null,
   "metadata": {
    "code_folding": [
     0
    ]
   },
   "outputs": [],
   "source": [
    "# 8. 调整图片的大小\n",
    "from docx import Document\n",
    "\n",
    "doc = Document('./datafile/word7.docx')\n",
    "image = doc.paragraphs[0].add_run().add_picture('./datafile/1.png')\n",
    "image.height = int(doc.inline_shapes[0].height*0.5)\n",
    "image.width = int(doc.inline_shapes[0].width*0.5)\n",
    "doc.save('./datafile/word7.docx')"
   ]
  },
  {
   "cell_type": "code",
   "execution_count": null,
   "metadata": {
    "code_folding": [
     0
    ]
   },
   "outputs": [],
   "source": [
    "# 9. 图片的对齐方式\n",
    "'''\n",
    "WD_PARAGRAPH_ALIGNMENT.LEFT  左对齐 \n",
    "WD_PARAGRAPH_ALIGNMENT.CENTER 居中对齐 \n",
    "WD_PARAGRAPH_ALIGNMENT.RIGHT  右对齐 \n",
    "WD_PARAGRAPH_ALIGNMENT.JUSTIFY 两端对齐 \n",
    "WD_PARAGRAPH_ALIGNMENT.DISTRIBUTE 分散对齐\n",
    "\n",
    "'''\n",
    "from docx.enum.text import WD_PARAGRAPH_ALIGNMENT # 导入段落对齐模块\n",
    "from docx import Document\n",
    "doc = Document('./datafile/word8.docx')\n",
    "# 设置段落居中\n",
    "doc.paragraphs[0].alignment = WD_PARAGRAPH_ALIGNMENT.CENTER\n",
    "\n",
    "doc.save('./datafile/word8.docx')\n"
   ]
  },
  {
   "cell_type": "code",
   "execution_count": null,
   "metadata": {
    "code_folding": [
     0
    ]
   },
   "outputs": [],
   "source": [
    "# 10. 创建表格并添加单元格内容\n",
    "from docx import Document\n",
    "doc = Document()\n",
    "data = [['姓名','性别','年龄'], \n",
    "        ['张三','男',20], \n",
    "        ['李四','女',30], \n",
    "        ['王五','男',40], \n",
    "        ['赵六','男',50]\n",
    "       ]\n",
    "# 创建表\n",
    "table = doc.add_table(rows =5, cols = 3)\n",
    "\n",
    "# 给单元格添加内容\n",
    "for row in range(len(table.rows)):\n",
    "    for column in range(len(table.columns)):\n",
    "        table.cell(row,column).text= str(data[row][column])\n",
    "doc.save('./datafile/word9.docx')\n",
    "# 默认没有边框线\n",
    "\n"
   ]
  },
  {
   "cell_type": "code",
   "execution_count": null,
   "metadata": {
    "code_folding": [
     0
    ]
   },
   "outputs": [],
   "source": [
    "# 表格增加一行和增加一列\n",
    "from docx import Document\n",
    "from docx.shared import Cm\n",
    "doc = Document('./datafile/word10.docx')\n",
    "doc.tables[0].add_row()\n",
    "# 增加列的时候必须要设置列宽\n",
    "doc.tables[0].add_column(Cm(3))\n",
    "\n",
    "# 查看行列数\n",
    "print(len(doc.tables[0].rows))\n",
    "print(len(doc.tables[0].columns))\n",
    "\n",
    "# 获取表中一行和一列\n",
    "row = doc.tables[0].rows[1] \n",
    "column = doc.tables[0].columns[1]\n",
    "\n",
    "doc.save('./datafile/word10.docx')"
   ]
  },
  {
   "cell_type": "code",
   "execution_count": null,
   "metadata": {
    "code_folding": [
     0
    ]
   },
   "outputs": [],
   "source": [
    "# 删除表格中的行 \n",
    "from docx import Document \n",
    "doc = Document('./datafile/word11.docx') \n",
    "# 文件中表格的个数\n",
    "print(len(doc.tables)) \n",
    "\n",
    "# 获取第一个表格 \n",
    "table1 = doc.tables[0] \n",
    "print(len(table1.rows),len(table1.columns))\n",
    "\n",
    "# 获取表格中的第2行 \n",
    "row = table1.rows[1] \n",
    "# 删除行 \n",
    "row._element.getparent().remove(row._element) \n",
    "\n",
    "print(len(table1.rows),len(table1.columns))\n",
    "doc.save('./datafile/word11.docx')"
   ]
  },
  {
   "cell_type": "code",
   "execution_count": null,
   "metadata": {
    "code_folding": [
     0
    ]
   },
   "outputs": [],
   "source": [
    "# 删除表的中列 \n",
    "# 列的删除则不能像删除行那样使用对应的remove()函数，因为在_Column中没有定义_element，但可以采用单元格进行删除。\n",
    "from docx import Document \n",
    "doc = Document('./datafile/word11.docx') \n",
    "print(len(doc.tables)) \n",
    "\n",
    "# 获取第一个表格 \n",
    "table = doc.tables[1] \n",
    "\n",
    "print(len(table.rows),len(table.columns))\n",
    "# 获取表1中第2列 \n",
    "column = table.table.columns[1]\n",
    "for cell in column.cells: # 遍历列中的单元格    \n",
    "    cell._element.getparent().remove(cell._element)  # 删除第2列的单元格 \n",
    "\n",
    "doc.save('./datafile/word11.docx')"
   ]
  },
  {
   "cell_type": "code",
   "execution_count": null,
   "metadata": {
    "code_folding": [
     0
    ]
   },
   "outputs": [],
   "source": [
    "# 删除表\n",
    "from docx import Document \n",
    "doc = Document('./datafile/word11.docx') \n",
    "table = doc.tables[0]\n",
    "table._element.getparent().remove(table._element)\n",
    "doc.save('./datafile/word11.docx')"
   ]
  },
  {
   "cell_type": "code",
   "execution_count": null,
   "metadata": {
    "code_folding": [
     0
    ]
   },
   "outputs": [],
   "source": [
    "# 单元格赋值\n",
    "from docx import Document \n",
    "doc = Document() \n",
    "# 为文档新增3行3列的表格\n",
    "table = doc.add_table(3, 3) \n",
    "# 方法1 \n",
    "# 为表格的（0，0）位置单元格赋值\n",
    "table.cell(0, 0).text = '单元格0,0' \n",
    "\n",
    "\n",
    "# 方法2 \n",
    " # 获取表格（0，1）位置单元格中的段落 \n",
    "paragraph1 = table.cell(0, 1).paragraphs[0]\n",
    "paragraph1.text = '单元格0,1'\n",
    "\n",
    "from docx.enum.text import WD_PARAGRAPH_ALIGNMENT\n",
    "paragraph2 = table.cell(0, 1).add_paragraph('居中')\n",
    "paragraph2.alignment = WD_PARAGRAPH_ALIGNMENT.CENTER \n",
    "\n",
    "doc.save('./datafile/word12.docx')\n",
    "# 注：第一种赋值方式，只能更改单元格的值，无法设置单元格中数据的样式，并且整个单元格只能是一个段落；而第二种赋值方式，使用了段落，在单元格赋值的基 础上还能增加新的段落，并设置段落的样式和字体的样式"
   ]
  },
  {
   "cell_type": "code",
   "execution_count": null,
   "metadata": {
    "code_folding": [
     0
    ]
   },
   "outputs": [],
   "source": [
    "# 删除单元格数据\n",
    "from docx import Document # 导入docx包 \n",
    "doc = Document('./datafile/word13.docx') \n",
    "table  = doc.tables[0] # 读取第1个表格 \n",
    "\n",
    "# 第一种方法，对单元格赋值为空 \n",
    "table.cell(0,0).text = \"\" # 将表的第1行第1列单元格赋值为空 \n",
    "\n",
    "doc.save('./datafile/word13.docx')"
   ]
  },
  {
   "cell_type": "code",
   "execution_count": null,
   "metadata": {
    "code_folding": [
     0
    ]
   },
   "outputs": [],
   "source": [
    "# 单元格的对齐方式\n",
    "from docx import Document \n",
    "from docx.enum.table import WD_CELL_VERTICAL_ALIGNMENT # 导入单元格垂直对齐 \n",
    "from docx.enum.text import WD_PARAGRAPH_ALIGNMENT # 导入段落对齐\n",
    "doc = Document('./datafile/word14.docx') \n",
    "table = doc.tables[0] # 指定第1个表格 \n",
    "cell = table.cell(0,1) # 指定单元格 # 靠上居中对齐 \n",
    "cell.vertical_alignment = WD_CELL_VERTICAL_ALIGNMENT.TOP \n",
    "cell.paragraphs[0].alignment = WD_PARAGRAPH_ALIGNMENT.CENTER \n",
    "doc.save('./datafile/word14.docx')\n",
    "\n",
    "'''\n",
    "在docx.enum.table .WD_ALIGN_VERTICAL定义了3种类型\n",
    "WD_CELL_VERTICAL_ALIGNMENT.TOP 单元格内容靠上对齐 \n",
    "WD_CELL_VERTICAL_ALIGNMENT.CENTER 单元格内容居中对齐 \n",
    "WD_CELL_VERTICAL_ALIGNMENT.BOTTOM 单元格内容靠下对齐\n",
    "\n",
    "在WD_PARAGRAPH_ALIGNMENT中定义了4中类型 \n",
    "WD_PARAGRAPH_ALIGNMENT.LEFT 段落左对齐 \n",
    "WD_PARAGRAPH_ALIGNMENT.CENTER 段落居中对齐 \n",
    "WD_PARAGRAPH_ALIGNMENT.RIGHT 段落右对齐 \n",
    "WD_PARAGRAPH_ALIGNMENT.JUSTIFY 段落两端对齐\n",
    "'''\n"
   ]
  },
  {
   "cell_type": "code",
   "execution_count": null,
   "metadata": {
    "code_folding": [
     0
    ]
   },
   "outputs": [],
   "source": [
    "# 表格的样式\n",
    "from docx import Document \n",
    "from docx.oxml.ns import qn # 中文字体 \n",
    "doc = Document() \n",
    "table = doc.add_table(3, 3, style=\"Medium Grid 1 Accent 1\") \n",
    "table.cell(0,0).text = '姓名' \n",
    "table.cell(0,1).text = '性别' \n",
    "table.cell(0,2).text = '年龄' \n",
    "doc.save('./datafile/word15.docx')"
   ]
  },
  {
   "cell_type": "code",
   "execution_count": null,
   "metadata": {
    "code_folding": [
     0
    ]
   },
   "outputs": [],
   "source": [
    "# 段落字体设置\n",
    "from docx import Document \n",
    "from docx.shared import Pt, RGBColor # 字号(磅值)，颜色 \n",
    "from docx.oxml.ns import qn # 中文字体\n",
    "\n",
    "doc = Document('./datafile/word16.docx') \n",
    "for paragraph in doc.paragraphs:\n",
    "    for run in paragraph.runs:\n",
    "        run.font.bold = True      # 加粗        \n",
    "        run.font.italic = True    # 斜体        \n",
    "        run.font.underline = True # 下划线        \n",
    "        run.font.strike = True   # 删除线        \n",
    "        run.font.shadow = True    # 阴影        \n",
    "        run.font.size = Pt(24)            \n",
    "        run.font.color.rgb = RGBColor(255,0,0) # 颜色        \n",
    "        run.font.name = 'Arial'  # 英文字体设置        \n",
    "        run._element.rPr.rFonts.set(qn('w:eastAsia'),'微软雅黑') # 设置中文字体 \n",
    "doc.save('./datafile/word16.docx')   "
   ]
  },
  {
   "cell_type": "code",
   "execution_count": null,
   "metadata": {
    "code_folding": [
     0
    ]
   },
   "outputs": [],
   "source": [
    "# 11. 设置正文字体（标题方法一致）\n",
    "from docx import Document \n",
    "from docx.oxml.ns import qn # 中文字体 \n",
    "doc = Document('./datafile/word17.docx') \n",
    "doc.styles['Normal'].font.name = 'Arial' # 设置英文字体 \n",
    "doc.styles['Normal']._element.rPr.rFonts.set(qn('w:eastAsia'), '微软雅黑') \n",
    "doc.save('./datafile/word17.docx')"
   ]
  },
  {
   "cell_type": "code",
   "execution_count": null,
   "metadata": {
    "code_folding": [
     0
    ]
   },
   "outputs": [],
   "source": [
    "# 对齐方式\n",
    "from docx.enum.text import WD_ALIGN_PARAGRAPH \n",
    "from docx import Document \n",
    "'''\n",
    "LEFT 靠左 \n",
    "CENTER 居中 \n",
    "RIGHT 靠右 \n",
    "JUSTIFY 两端对齐 \n",
    "DISTRIBUTE 分散对齐\n",
    "'''\n",
    "doc = Document('./datafile/word18.docx') \n",
    "for paragraph in doc.paragraphs: \n",
    "    if paragraph.style.name=='Normal': \n",
    "        paragraph.alignment = WD_ALIGN_PARAGRAPH.CENTER \n",
    "doc.save('./datafile/word18.docx')\n"
   ]
  },
  {
   "cell_type": "code",
   "execution_count": null,
   "metadata": {
    "code_folding": [
     0
    ]
   },
   "outputs": [],
   "source": [
    "# 行间距\n",
    "from docx import Document \n",
    "doc = Document('./datafile/word19.docx') \n",
    "for paragraph in doc.paragraphs:    \n",
    "    if paragraph.style.name=='Normal': \n",
    "        \n",
    "        paragraph.paragraph_format.line_spacing = 0.5 \n",
    "\n",
    "doc.save('./datafile/word19.docx')\n"
   ]
  },
  {
   "cell_type": "code",
   "execution_count": null,
   "metadata": {
    "code_folding": [
     0
    ]
   },
   "outputs": [],
   "source": [
    "# 缩进\n",
    "from docx import Document \n",
    "from docx.shared import Pt, Inches # Pt磅，Inches英寸 \n",
    "doc =  Document('./datafile/word20.docx')\n",
    "for paragraph in doc.paragraphs:    \n",
    "    if paragraph.style.name == 'Normal':  \n",
    "        # 左缩进（整个段落）\n",
    "#         paragraph.paragraph_format.left_indent=Inches(0.3) # 1 英寸=2.54 厘米 \n",
    "#         # 右缩进（整个段落）\n",
    "#         paragraph.paragraph_format.right_indent=Inches(0.3)\n",
    "        # 首行缩进\n",
    "        paragraph.paragraph_format.first_line_indent=Inches(0.3)\n",
    "doc.save('./datafile/word20.docx')"
   ]
  },
  {
   "cell_type": "code",
   "execution_count": null,
   "metadata": {
    "code_folding": [
     0
    ]
   },
   "outputs": [],
   "source": [
    "# 练习：批量生成word文件\n"
   ]
  },
  {
   "cell_type": "code",
   "execution_count": null,
   "metadata": {},
   "outputs": [],
   "source": []
  }
 ],
 "metadata": {
  "kernelspec": {
   "display_name": "Python 3",
   "language": "python",
   "name": "python3"
  },
  "language_info": {
   "codemirror_mode": {
    "name": "ipython",
    "version": 3
   },
   "file_extension": ".py",
   "mimetype": "text/x-python",
   "name": "python",
   "nbconvert_exporter": "python",
   "pygments_lexer": "ipython3",
   "version": "3.8.3"
  }
 },
 "nbformat": 4,
 "nbformat_minor": 2
}
