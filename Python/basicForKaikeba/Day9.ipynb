{
 "cells": [
  {
   "cell_type": "code",
   "execution_count": 4,
   "metadata": {},
   "outputs": [],
   "source": [
    "# 1. BeautifulSoup 库\n",
    "from bs4 import BeautifulSoup\n",
    "\n",
    "html = '''\n",
    "    <body>\n",
    "        <header id=\"header\">\n",
    "            <h3 id=\"name\">小强也可爱</h3>\n",
    "            <title>标题</title>\n",
    "            <div class=\"sns\">\n",
    "                <a href=\"http://www.kaikeba.com/feed/\" target=\"_blank\" rel=\"nofollow\" title=\"RSS\"><i class=\"fa fa‐rss\" aria‐hidden=\"true\"></i></a>\n",
    "                <a href=\"http://kaikeba.com/kaikeba\" target=\"_blank\" rel=\"nofollow\" title=\"Weibo\"><i class=\"fa fa‐weibo\" aria‐hidden=\"true\"></i></a>\n",
    "                <a href=\"https://www.kaikeba.com/in/kaikeba\" target=\"_blank\" rel=\"nofollow\" title=\"Linkedin\"><i class=\"fa fa‐linkedin\" aria‐hidden=\"true\"></i></a>\n",
    "                <a href=\"mailto:kaikeba@gmail.com\" target=\"_blank\" rel=\"nofollow\" title=\"envelope\"><i class=\"fa fa‐envelope\" aria‐hidden=\"true\"></i></i></a>\n",
    "            </div>\n",
    "            <div class=\"nav\">\n",
    "                <ul>\n",
    "                    <li class=\"current‐menu‐item\"><a href=\"http://www.kaikeba.com/\">hello</a></li>\n",
    "                    <li><a href=\"http://www.kaikeba.com/about‐me/\">word</a></li> \n",
    "                    <li><a href=\"http://www.kaikeba.com/post‐search/\">nihao</a></li> \n",
    "                    <li><a href=\"http://www.kaikeba.com/wp‐login.php\">kkb</a></li>\n",
    "                </ul>\n",
    "            </div>\n",
    "        </header>\n",
    "    </body>\n",
    "    '''\n",
    "\n",
    "soup = BeautifulSoup(html,'lxml')"
   ]
  },
  {
   "cell_type": "code",
   "execution_count": 5,
   "metadata": {},
   "outputs": [
    {
     "name": "stdout",
     "output_type": "stream",
     "text": [
      "<html>\n",
      " <body>\n",
      "  <header id=\"header\">\n",
      "   <h3 id=\"name\">\n",
      "    小强也可爱\n",
      "   </h3>\n",
      "   <title>\n",
      "    标题\n",
      "   </title>\n",
      "   <div class=\"sns\">\n",
      "    <a href=\"http://www.kaikeba.com/feed/\" rel=\"nofollow\" target=\"_blank\" title=\"RSS\">\n",
      "     <i aria=\"\" class=\"fa fa‐rss\">\n",
      "     </i>\n",
      "    </a>\n",
      "    <a href=\"http://kaikeba.com/kaikeba\" rel=\"nofollow\" target=\"_blank\" title=\"Weibo\">\n",
      "     <i aria=\"\" class=\"fa fa‐weibo\">\n",
      "     </i>\n",
      "    </a>\n",
      "    <a href=\"https://www.kaikeba.com/in/kaikeba\" rel=\"nofollow\" target=\"_blank\" title=\"Linkedin\">\n",
      "     <i aria=\"\" class=\"fa fa‐linkedin\">\n",
      "     </i>\n",
      "    </a>\n",
      "    <a href=\"mailto:kaikeba@gmail.com\" rel=\"nofollow\" target=\"_blank\" title=\"envelope\">\n",
      "     <i aria=\"\" class=\"fa fa‐envelope\">\n",
      "     </i>\n",
      "    </a>\n",
      "   </div>\n",
      "   <div class=\"nav\">\n",
      "    <ul>\n",
      "     <li class=\"current‐menu‐item\">\n",
      "      <a href=\"http://www.kaikeba.com/\">\n",
      "       hello\n",
      "      </a>\n",
      "     </li>\n",
      "     <li>\n",
      "      <a href=\"http://www.kaikeba.com/about‐me/\">\n",
      "       word\n",
      "      </a>\n",
      "     </li>\n",
      "     <li>\n",
      "      <a href=\"http://www.kaikeba.com/post‐search/\">\n",
      "       nihao\n",
      "      </a>\n",
      "     </li>\n",
      "     <li>\n",
      "      <a href=\"http://www.kaikeba.com/wp‐login.php\">\n",
      "       kkb\n",
      "      </a>\n",
      "     </li>\n",
      "    </ul>\n",
      "   </div>\n",
      "  </header>\n",
      " </body>\n",
      "</html>\n"
     ]
    }
   ],
   "source": [
    "# 格式化输出 soup 对象的内容\n",
    "print(soup.prettify())"
   ]
  },
  {
   "cell_type": "code",
   "execution_count": 6,
   "metadata": {},
   "outputs": [
    {
     "name": "stdout",
     "output_type": "stream",
     "text": [
      "<li class=\"current‐menu‐item\"><a href=\"http://www.kaikeba.com/\">hello</a></li>\n"
     ]
    }
   ],
   "source": [
    "# 根据标签名获取整个标签(但是拿出的是第一个) \n",
    "print(soup.li)"
   ]
  },
  {
   "cell_type": "code",
   "execution_count": 7,
   "metadata": {},
   "outputs": [
    {
     "name": "stdout",
     "output_type": "stream",
     "text": [
      "title\n"
     ]
    }
   ],
   "source": [
    "# 获取标签的名字\n",
    "print(soup.title.name)"
   ]
  },
  {
   "cell_type": "code",
   "execution_count": 8,
   "metadata": {},
   "outputs": [
    {
     "name": "stdout",
     "output_type": "stream",
     "text": [
      "标题\n"
     ]
    }
   ],
   "source": [
    "# 获取标签中的文本\n",
    "print(soup.title.string)"
   ]
  },
  {
   "cell_type": "code",
   "execution_count": 9,
   "metadata": {},
   "outputs": [
    {
     "name": "stdout",
     "output_type": "stream",
     "text": [
      "header\n"
     ]
    }
   ],
   "source": [
    "# 获取标签的父标签\n",
    "print(soup.title.parent.name)"
   ]
  },
  {
   "cell_type": "code",
   "execution_count": 10,
   "metadata": {},
   "outputs": [
    {
     "name": "stdout",
     "output_type": "stream",
     "text": [
      "[<a href=\"http://www.kaikeba.com/\">hello</a>]\n"
     ]
    }
   ],
   "source": [
    "# 获取标签的子标签\n",
    "print(soup.li.contents)"
   ]
  },
  {
   "cell_type": "code",
   "execution_count": 11,
   "metadata": {},
   "outputs": [
    {
     "name": "stdout",
     "output_type": "stream",
     "text": [
      "['current‐menu‐item']\n",
      "['current‐menu‐item']\n"
     ]
    }
   ],
   "source": [
    "# 获取标签的属性值的两种方式\n",
    "print(soup.li[\"class\"])\n",
    "print(soup.li.attrs['class'])"
   ]
  },
  {
   "cell_type": "code",
   "execution_count": 12,
   "metadata": {},
   "outputs": [
    {
     "name": "stdout",
     "output_type": "stream",
     "text": [
      "[<li class=\"current‐menu‐item\"><a href=\"http://www.kaikeba.com/\">hello</a></li>, <li><a href=\"http://www.kaikeba.com/about‐me/\">word</a></li>, <li><a href=\"http://www.kaikeba.com/post‐search/\">nihao</a></li>, <li><a href=\"http://www.kaikeba.com/wp‐login.php\">kkb</a></li>]\n"
     ]
    }
   ],
   "source": [
    "# 使用select,css选择器\n",
    "print(soup.select('li'))"
   ]
  },
  {
   "cell_type": "code",
   "execution_count": 17,
   "metadata": {},
   "outputs": [
    {
     "name": "stdout",
     "output_type": "stream",
     "text": [
      "[<li class=\"current‐menu‐item\"><a href=\"http://www.kaikeba.com/\">hello</a></li>]\n"
     ]
    }
   ],
   "source": [
    "# 类名前加., id加#\n",
    "print(soup.select('.current‐menu‐item'))"
   ]
  },
  {
   "cell_type": "code",
   "execution_count": 16,
   "metadata": {},
   "outputs": [
    {
     "name": "stdout",
     "output_type": "stream",
     "text": [
      "hello\n"
     ]
    }
   ],
   "source": [
    "# 获取内容\n",
    "print(soup.select('.current‐menu‐item')[0].get_text())"
   ]
  },
  {
   "cell_type": "code",
   "execution_count": 19,
   "metadata": {},
   "outputs": [
    {
     "name": "stdout",
     "output_type": "stream",
     "text": [
      "['current‐menu‐item']\n"
     ]
    }
   ],
   "source": [
    "# 获取属性值\n",
    "print(soup.select('.current‐menu‐item')[0].attrs['class'])"
   ]
  },
  {
   "cell_type": "code",
   "execution_count": 20,
   "metadata": {},
   "outputs": [
    {
     "name": "stdout",
     "output_type": "stream",
     "text": [
      "word\n"
     ]
    }
   ],
   "source": [
    "# 获取标签下的字标签\n",
    "print(soup.select('li>a')[1].get_text())"
   ]
  },
  {
   "cell_type": "code",
   "execution_count": 35,
   "metadata": {},
   "outputs": [
    {
     "name": "stdout",
     "output_type": "stream",
     "text": [
      "<li class=\"current‐menu‐item\"><a href=\"http://www.kaikeba.com/\">hello</a></li>\n",
      "<li class=\"current‐menu‐item\"><a href=\"http://www.kaikeba.com/\">hello</a></li>\n",
      "<li class=\"current‐menu‐item\"><a href=\"http://www.kaikeba.com/\">hello</a></li>\n",
      "<li class=\"current‐menu‐item\"><a href=\"http://www.kaikeba.com/\">hello</a></li>\n"
     ]
    }
   ],
   "source": [
    "# 使用find和findall进行查找\n",
    "print(soup.find('li',attrs={'class':'current‐menu‐item'}))\n",
    "print(soup.find('li',attrs={'class':'current‐menu‐item'}))\n",
    "print(soup.find_all('li',attrs={\"class\":\"current‐menu‐item\"})[0])\n",
    "print(soup.find_all('li',attrs={\"class\":\"current‐menu‐item\"})[0])"
   ]
  },
  {
   "cell_type": "code",
   "execution_count": 45,
   "metadata": {},
   "outputs": [
    {
     "name": "stdout",
     "output_type": "stream",
     "text": [
      "hello word!\n"
     ]
    }
   ],
   "source": [
    "# 1. 文件的介绍\n",
    "f = open('./test.txt', 'r', encoding=\"utf-8\")\n",
    "content = f.read()\n",
    "print(content)\n",
    "f.close()"
   ]
  },
  {
   "cell_type": "code",
   "execution_count": 55,
   "metadata": {},
   "outputs": [
    {
     "name": "stdout",
     "output_type": "stream",
     "text": [
      "b'AB\\xe5\\x93\\x88\\xe5\\x93\\x88aaa'\n",
      "AB哈哈aaa\n"
     ]
    }
   ],
   "source": [
    "# 3. 文件的读写方式\n",
    "# ---- r -----\n",
    "# file = open('./123-gbk.txt','r')\n",
    "# content = file.read()\n",
    "# print(content)\n",
    "# file.close()\n",
    "\n",
    "# ----- w -------\n",
    "# file = open('./test.txt', 'w')\n",
    "# # 写入数据\n",
    "# file.write('A')\n",
    "# file.write('B')\n",
    "# file.write('哈哈')\n",
    "# file.close()\n",
    "\n",
    "# ------ a --------\n",
    "# file = open('./test.txt', 'a')\n",
    "# file.write('aaa')\n",
    "# file.close()\n",
    "# ---- rb ----, 二进制形式\n",
    "file = open('./test.txt', 'rb')\n",
    "content = file.read()\n",
    "print(content)\n",
    "# 二进制转换\n",
    "\n",
    "content = content.decode('utf-8')\n",
    "print(content)\n",
    "file.close()"
   ]
  },
  {
   "cell_type": "code",
   "execution_count": 64,
   "metadata": {},
   "outputs": [],
   "source": [
    "# 4. 编码格式 - 拓展\n",
    "file = open('./123-gbk.txt','wb')\n",
    "## str -> b 编码\n",
    "content = 'Hello Word!'\n",
    "content = content.encode('gbk')\n",
    "file.write(content)\n",
    "file.close()"
   ]
  },
  {
   "cell_type": "code",
   "execution_count": 65,
   "metadata": {},
   "outputs": [
    {
     "name": "stdout",
     "output_type": "stream",
     "text": [
      "<_io.TextIOWrapper name='./123-gbk.txt' mode='r' encoding='UTF-8'>\n",
      "Hello Word!\n"
     ]
    }
   ],
   "source": [
    "file = open('./123-gbk.txt', 'r')\n",
    "print(file)\n",
    "print(file.read())\n",
    "file.close()"
   ]
  },
  {
   "cell_type": "code",
   "execution_count": 67,
   "metadata": {},
   "outputs": [
    {
     "name": "stdout",
     "output_type": "stream",
     "text": [
      "b'AB\\xe5\\x93\\x88'\n"
     ]
    }
   ],
   "source": [
    "# 5. read()中的数字\n",
    "file = open('./test.txt', 'rb')\n",
    "# content = file.read()\n",
    "'''\n",
    "b'AB\\xe5\\x93\\x88\\xe5\\x93\\x88aaa'\n",
    "'''\n",
    "content = file.read(5) # read中的数字表示的是字节数\n",
    "'''\n",
    "b'AB\\xe5\\x93\\x88'\n",
    "'''\n",
    "print(content)\n",
    "file.close()"
   ]
  },
  {
   "cell_type": "code",
   "execution_count": 71,
   "metadata": {},
   "outputs": [
    {
     "name": "stdout",
     "output_type": "stream",
     "text": [
      "{\"Code\": 200, \"Count\": 657, \"Posts\": [{\"Id\": 0, \"PostId\": \"1123178321664806912\", \"RecruitPostId\": 49691}, {\"Id\": 0, \"PostId\": \"1123178321664806912\", \"RecruitPostId\": 49691}]}\n",
      "<class 'str'>\n",
      "{'name': 'Tom', 'age': 23}\n",
      "<class 'dict'>\n"
     ]
    },
    {
     "data": {
      "text/plain": [
       "23"
      ]
     },
     "execution_count": 71,
     "metadata": {},
     "output_type": "execute_result"
    }
   ],
   "source": [
    "# JSON\n",
    "import json\n",
    "# dumps 将“obj” 数据类型 转换为 JSON格式的字符串\n",
    "dict1 = {\n",
    "    'Code':200,\n",
    "    'Count': 657,\n",
    "    'Posts':[\n",
    "        {\n",
    "            'Id': 0, 'PostId': \"1123178321664806912\", 'RecruitPostId': 49691\n",
    "        },\n",
    "        {\n",
    "            'Id': 0, 'PostId': \"1123178321664806912\", 'RecruitPostId': 49691\n",
    "        }\n",
    "    ]\n",
    "}\n",
    "json_dict = json.dumps(dict1)\n",
    "print(json_dict)\n",
    "print(type(json_dict))\n",
    "\n",
    "# 将json字符串转化成python中的数据类型\n",
    "dic = json.loads('{\"name\":\"Tom\",\"age\":23}')\n",
    "print(dic)\n",
    "print(type(dic))\n",
    "dic['age']"
   ]
  },
  {
   "cell_type": "code",
   "execution_count": 74,
   "metadata": {},
   "outputs": [
    {
     "data": {
      "text/plain": [
       "'2020-10-02 13:16:28'"
      ]
     },
     "execution_count": 74,
     "metadata": {},
     "output_type": "execute_result"
    }
   ],
   "source": [
    "import time\n",
    "time.time()\n",
    "time.strftime('%Y-%m-%d %H:%M:%S',time.localtime(time.time()))"
   ]
  },
  {
   "cell_type": "code",
   "execution_count": 77,
   "metadata": {},
   "outputs": [
    {
     "name": "stdout",
     "output_type": "stream",
     "text": [
      "846014c3556d79e878be15fde5426e8a\n"
     ]
    }
   ],
   "source": [
    "import hashlib\n",
    "md5 = hashlib.md5()\n",
    "md5.update('how to use md5 in python hashlib'.encode('utf-8'))\n",
    "print(md5.hexdigest())"
   ]
  },
  {
   "cell_type": "code",
   "execution_count": null,
   "metadata": {},
   "outputs": [],
   "source": []
  }
 ],
 "metadata": {
  "kernelspec": {
   "display_name": "Python 3",
   "language": "python",
   "name": "python3"
  },
  "language_info": {
   "codemirror_mode": {
    "name": "ipython",
    "version": 3
   },
   "file_extension": ".py",
   "mimetype": "text/x-python",
   "name": "python",
   "nbconvert_exporter": "python",
   "pygments_lexer": "ipython3",
   "version": "3.8.3"
  }
 },
 "nbformat": 4,
 "nbformat_minor": 4
}
