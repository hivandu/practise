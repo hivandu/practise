{
 "cells": [
  {
   "cell_type": "code",
   "execution_count": 1,
   "metadata": {},
   "outputs": [
    {
     "name": "stdout",
     "output_type": "stream",
     "text": [
      "2.3\n"
     ]
    }
   ],
   "source": [
    "# 1. A+B Problem\n",
    "while True:\n",
    "    try:\n",
    "        line = input()\n",
    "        a = line.split()\n",
    "        print(int(a[0]+int(a[1])))\n",
    "    except:\n",
    "        break"
   ]
  },
  {
   "cell_type": "code",
   "execution_count": 5,
   "metadata": {
    "code_folding": []
   },
   "outputs": [
    {
     "name": "stdout",
     "output_type": "stream",
     "text": [
      "2550\n"
     ]
    }
   ],
   "source": [
    "# 求2+4+6+...100的求和\n",
    "sum = 0\n",
    "for i in range(2,100+1,2):\n",
    "    sum = sum+i\n",
    "print(sum)"
   ]
  },
  {
   "cell_type": "code",
   "execution_count": 14,
   "metadata": {},
   "outputs": [
    {
     "name": "stdout",
     "output_type": "stream",
     "text": [
      "科目 | 平均成绩 | 最小成绩 | 最大成绩 | 方差 | 标准差\n",
      "语文 86.2 68 98 10.961751684835777 120.16\n",
      "数学 81.0 65 90 9.338094023943002 87.2\n",
      "英文 76.6 30 98 24.24541193710678 587.8399999999999\n",
      "Ranking:\n",
      "[('刘备', 98, 86, 88), ('关羽', 95, 76, 98), ('许褚', 80, 90, 90), ('典韦', 90, 88, 77), ('张飞', 68, 65, 30)]\n"
     ]
    }
   ],
   "source": [
    "# 3. 统计全班成绩\n",
    "import numpy as np\n",
    "scoretype = np.dtype({'names':['name','chinese','math','english'],'formats':['U32','i','i','i']})\n",
    "peoples = np.array(\n",
    "    [\n",
    "        (\"张飞\", 68, 65, 30),\n",
    "        (\"关羽\", 95, 76, 98),\n",
    "        (\"刘备\", 98, 86, 88),\n",
    "        (\"典韦\", 90, 88, 77),\n",
    "        (\"许褚\", 80, 90, 90)\n",
    "    ],dtype = scoretype)\n",
    "\n",
    "print(\"科目 | 平均成绩 | 最小成绩 | 最大成绩 | 方差 | 标准差\")\n",
    "courses = {'语文':peoples[:]['chinese'],'数学':peoples[:]['math'],'英文':peoples[:]['english']}\n",
    "for course,scores in courses.items():\n",
    "    print(course,np.mean(scores),np.amin(scores),np.amax(scores),np.std(scores),np.var(scores))\n",
    "print('Ranking:')\n",
    "ranking = sorted(peoples, key = lambda x:x[1]+x[2]+x[3], reverse=True)\n",
    "print(ranking)"
   ]
  },
  {
   "cell_type": "code",
   "execution_count": 35,
   "metadata": {},
   "outputs": [
    {
     "name": "stdout",
     "output_type": "stream",
     "text": [
      "元数组:[58, 26, 45, 18, 22, 39, 96, 75, 80, 65, 63, 28]\n",
      "数组进行TOPN调整:[63, 65, 80, 75, 96, 18, 22, 26, 39, 45, 58, 28]\n",
      "原数组：[45, 110, 172, 20, 118, 164, 100, 16, 167, 15, 78, 20, 93, 183, 172, 90, 108, 10, 195, 101, 182, 43, 65, 6, 9, 4, 101, 8, 119, 177, 124, 151, 93, 5, 123, 42, 94, 189, 31, 102, 54, 85, 67, 75, 16, 51, 34, 194, 181, 176, 74, 183, 174, 88, 124, 85, 164, 66, 139, 186, 173, 185, 40, 48, 127, 116, 90, 50, 172, 42, 193, 147, 131, 139, 116, 10, 17, 177, 3, 4, 76, 50, 86, 199, 122, 117, 65, 151, 174, 156, 7, 111, 107, 18, 13, 163, 53, 192, 75, 140] \n",
      "长度: 100\n"
     ]
    }
   ],
   "source": [
    "# 4. 算法面试题\n",
    "\n",
    "'''\n",
    "10亿个数中取TOP-1000的数（最大值）\n",
    "堆的性质：每一个节点比它的左右子节点小\n",
    "先取前N个数，构成小顶堆，即在内存中维护一个1000数的小丁对\n",
    "然后对文件中读取数据，和堆顶比较：\n",
    "if 比堆顶小，丢弃\n",
    "if 比堆顶大，替换根，并且调整堆，保持小顶堆的性质\n",
    "所有数据处理完，得到的即是Top-N\n",
    "'''\n",
    "\n",
    "class TopN:\n",
    "    # 父节点下标\n",
    "    def parent(self, n):\n",
    "        return int((n - 1) / 2)\n",
    "\n",
    "    # 左节点下标\n",
    "    def left(self, n):\n",
    "        return 2 * n + 1\n",
    "\n",
    "    # 右节点下标\n",
    "    def right(self, n):\n",
    "        return 2 * n + 2\n",
    "\n",
    "    # 构建小顶堆，保证父节点小于左右子节点\n",
    "    def buildHeap(self, n, data):\n",
    "        for i in range(1, n):\n",
    "            t = i\n",
    "            # 调整堆，如果节点比父亲节点小，则交换\n",
    "            while t != 0 and data[t] < data[self.parent(t)]:\n",
    "                temp = data[t]\n",
    "                data[t] = data[self.parent(t)]\n",
    "                data[self.parent(t)] = temp\n",
    "                t = self.parent(t)\n",
    "        print(data)\n",
    "\n",
    "    # 调整data[i]\n",
    "    def adjust(self, i, n, data):\n",
    "        # 小于堆的根节点，不调整\n",
    "        if data[i] <= data[0]:\n",
    "            return\n",
    "        \n",
    "        # 置换堆顶\n",
    "        temp = data[i]\n",
    "        data[i] = data[0]\n",
    "        data[0] = temp\n",
    "        # 调整堆顶\n",
    "        t = 0\n",
    "        while (self.left(t) < n and data[self.left(t)] < data[t]) or (self.right(t) < n and data[self.right(t)] < data[t]):\n",
    "            if self.right(t) < n and data[self.right(t)] < data[self.left(t)]:\n",
    "                # 右孩子更小，置换右孩子\n",
    "                temp = data[t]\n",
    "                data[t] = data[self.right(t)]\n",
    "                data[self.right(t)] = temp\n",
    "                t = self.right(t)\n",
    "            else:\n",
    "                # 否则置换左孩子\n",
    "                temp = data[t]\n",
    "                data[t] = data[self.left(t)]\n",
    "                data[self.left(t)] = temp\n",
    "                t = self.left(t)\n",
    "\n",
    "    # 寻找topN，调整data，将topN排到最前面\n",
    "    def findTopN(self, n, data):\n",
    "        # 先构建n个数的小顶堆\n",
    "        self.buildHeap(n, data);\n",
    "        # n往后的数进行调整\n",
    "        for i in range(n, len(data)):\n",
    "            self.adjust(i, n, data)\n",
    "        return data\n",
    "\n",
    "\n",
    "# 第一组测试 12个\n",
    "arr1 = [58, 26, 45, 18, 22, 39, 96, 75, 80, 65, 63, 28]\n",
    "print(\"元数组:\"+str(arr1))\n",
    "topn = TopN()\n",
    "result = topn.findTopN(5,arr1)\n",
    "print(\"数组进行TOPN调整:\"+str(result))\n",
    "\n",
    "'''\n",
    "实际测试下来方法没有达到预期；\n",
    "'''\n",
    "\n",
    "# 第二组测试 随机100个\n",
    "\n",
    "import random\n",
    "tempList = []\n",
    "for i in range(100):\n",
    "    temp = random.randint(0, 200)\n",
    "    tempList.append(temp)\n",
    "print(\"原数组：\" + str(tempList), \"\\n长度:\",len(tempList))\n",
    "topn = TopN()\n",
    "result = topn.findTopN(5, tempList)\n",
    "# print(\"数组进行Top-N调整：\" + str(result), \"\\n长度:\", len(result))\n"
   ]
  },
  {
   "cell_type": "code",
   "execution_count": null,
   "metadata": {},
   "outputs": [],
   "source": []
  }
 ],
 "metadata": {
  "kernelspec": {
   "display_name": "Python 3",
   "language": "python",
   "name": "python3"
  },
  "language_info": {
   "codemirror_mode": {
    "name": "ipython",
    "version": 3
   },
   "file_extension": ".py",
   "mimetype": "text/x-python",
   "name": "python",
   "nbconvert_exporter": "python",
   "pygments_lexer": "ipython3",
   "version": "3.8.3"
  }
 },
 "nbformat": 4,
 "nbformat_minor": 4
}
