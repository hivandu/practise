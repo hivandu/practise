{
 "cells": [
  {
   "cell_type": "code",
   "execution_count": 2,
   "source": [
    "# -*- coding: utf-8 -*-\n",
    "\n",
    "class Book(object):\n",
    "    def __init__(self,book_id,book_name,book_store_count):\n",
    "        self.book_id = book_id\n",
    "        self.book_name = book_name\n",
    "        self.book_store_count = book_store_count\n",
    "    # 重写加法操作\n",
    "    def __add__(self,book):\n",
    "        return self.book_store_count + book.book_store_count"
   ],
   "outputs": [],
   "metadata": {}
  },
  {
   "cell_type": "code",
   "execution_count": 3,
   "source": [
    "# init two book example\n",
    "python_intro_book = Book(1, 'python book', 100)\n",
    "ml_intro_book = Book(2, '机械学习入门书', 200)"
   ],
   "outputs": [],
   "metadata": {}
  },
  {
   "cell_type": "code",
   "execution_count": 4,
   "source": [
    "# 求两本书的总销量\n",
    "sales_cnt = python_intro_book + ml_intro_book\n",
    "print(sales_cnt)\n",
    "\n",
    "print(5//2)\n",
    "print(5//4.5)\n",
    "print(2**3)"
   ],
   "outputs": [
    {
     "output_type": "stream",
     "name": "stdout",
     "text": [
      "300\n",
      "2\n",
      "1.0\n",
      "8\n"
     ]
    }
   ],
   "metadata": {}
  },
  {
   "cell_type": "code",
   "execution_count": 5,
   "source": [
    "a = [1,2,3,4,5,6,7,8,9,10,11]\n",
    "n = len(a)\n",
    "if n > 10:\n",
    "    print(f\"{n}大于10\")\n",
    "if (n := len(a)) > 10:\n",
    "    print(f\"{n} > 10\")"
   ],
   "outputs": [
    {
     "output_type": "stream",
     "name": "stdout",
     "text": [
      "11大于10\n",
      "11 > 10\n"
     ]
    }
   ],
   "metadata": {}
  },
  {
   "cell_type": "code",
   "execution_count": null,
   "source": [],
   "outputs": [],
   "metadata": {}
  }
 ],
 "metadata": {
  "orig_nbformat": 4,
  "language_info": {
   "name": "python",
   "version": "3.9.5",
   "mimetype": "text/x-python",
   "codemirror_mode": {
    "name": "ipython",
    "version": 3
   },
   "pygments_lexer": "ipython3",
   "nbconvert_exporter": "python",
   "file_extension": ".py"
  },
  "kernelspec": {
   "name": "python3",
   "display_name": "Python 3.9.5 64-bit ('tf': conda)"
  },
  "interpreter": {
   "hash": "35f69483aa8b7b2bb12f1e6f2ffb8fe1120cf837ca5a80070d69961a5682f06d"
  }
 },
 "nbformat": 4,
 "nbformat_minor": 2
}