{
 "cells": [
  {
   "cell_type": "code",
   "execution_count": 1,
   "source": [
    "# -*- coding: utf-8 -*-\n",
    "# 判断list内有无重复元素\n",
    "# def is_duplicated(lst):\n",
    "#     for x in lst:\n",
    "#         if lst.count(x) > 1:\n",
    "#             return True\n",
    "#     return False"
   ],
   "outputs": [],
   "metadata": {}
  },
  {
   "cell_type": "code",
   "execution_count": 2,
   "source": [
    "# 借助set判断更方便:\n",
    "def is_duplicated(lst):\n",
    "    return len(lst) != len(set(lst))\n",
    "\n",
    "a = [1,-2,3,4,5,2]\n",
    "print(is_duplicated(a))\n"
   ],
   "outputs": [
    {
     "output_type": "stream",
     "name": "stdout",
     "text": [
      "False\n"
     ]
    }
   ],
   "metadata": {}
  },
  {
   "cell_type": "code",
   "execution_count": 3,
   "source": [
    "# 列表反转\n",
    "def reverse(lst):\n",
    "    return lst[::-1]\n",
    "\n",
    "a = [1,2,3,4,5,6,7]\n",
    "print(reverse(a))\n",
    "\n"
   ],
   "outputs": [
    {
     "output_type": "stream",
     "name": "stdout",
     "text": [
      "[7, 6, 5, 4, 3, 2, 1]\n"
     ]
    }
   ],
   "metadata": {}
  },
  {
   "cell_type": "code",
   "execution_count": 4,
   "source": [
    "# 找出所有重复元素\n",
    "def find_duplicate(lst):\n",
    "    ret = []\n",
    "    for x in lst:\n",
    "        if lst.count(x) > 1 and x not in ret:\n",
    "            ret.append(x)\n",
    "    return ret\n",
    "\n",
    "a = [1,2,3,4,5,6,7,8,9,0,2,3,43,4,5,12,1]\n",
    "print(find_duplicate(a))\n",
    "\n"
   ],
   "outputs": [
    {
     "output_type": "stream",
     "name": "stdout",
     "text": [
      "[1, 2, 3, 4, 5]\n"
     ]
    }
   ],
   "metadata": {}
  },
  {
   "cell_type": "code",
   "execution_count": 5,
   "source": [
    "# 4. 斐波那契数列\n",
    "# 普通实现\n",
    "def fibonacci(n):\n",
    "    if n <= 1:\n",
    "        return [1]\n",
    "    fib = [1, 1]\n",
    "    while len(fib) < n:\n",
    "        fib.append(fib[len(fib) - 1] + fib[len(fib) -2])\n",
    "    return fib\n",
    "r = fibonacci(7)\n",
    "print(r)"
   ],
   "outputs": [
    {
     "output_type": "stream",
     "name": "stdout",
     "text": [
      "[1, 1, 2, 3, 5, 8, 13]\n"
     ]
    }
   ],
   "metadata": {}
  },
  {
   "cell_type": "code",
   "execution_count": 6,
   "source": [
    "# 生成器版本\n",
    "def fibonacci(n):\n",
    "    a, b = 1, 1\n",
    "    for _ in range(n): # range(start, stop[, step])\n",
    "        yield a\n",
    "        a, b = b, a+b\n",
    "r = list(fibonacci(5))\n",
    "print(f'fibonacci 5 的结果为：{r}')"
   ],
   "outputs": [
    {
     "output_type": "stream",
     "name": "stdout",
     "text": [
      "fibonacci 5 的结果为：[1, 1, 2, 3, 5]\n"
     ]
    }
   ],
   "metadata": {}
  },
  {
   "cell_type": "code",
   "execution_count": 7,
   "source": [
    "# 5. 出镜最多\n",
    "def mode(lst):\n",
    "    if not lst:\n",
    "        return None\n",
    "    return max(lst, key=lambda v: lst.count(v))\n",
    "\n",
    "lst = [1,2,3,3,2,4,3,2,1]\n",
    "r = mode(lst)\n",
    "print(f'{lst} 中出现次数最多的元素为:{r}')\n",
    "\n"
   ],
   "outputs": [
    {
     "output_type": "stream",
     "name": "stdout",
     "text": [
      "[1, 2, 3, 3, 2, 4, 3, 2, 1] 中出现次数最多的元素为:2\n"
     ]
    }
   ],
   "metadata": {}
  },
  {
   "cell_type": "code",
   "execution_count": 8,
   "source": [
    "## 返回多个\n",
    "def mode2(lst):\n",
    "    if not lst:\n",
    "        return None\n",
    "    max_freq_elem = max(lst, key=lambda v: lst.count(v))\n",
    "    max_freq = lst.count(max_freq_elem)\n",
    "    ret = []\n",
    "    for i in lst:\n",
    "        if i not in ret and lst.count(i)==max_freq:\n",
    "            ret.append(i)\n",
    "    return ret\n",
    "\n",
    "r = mode2(lst)\n",
    "print(r)\n",
    "\n"
   ],
   "outputs": [
    {
     "output_type": "stream",
     "name": "stdout",
     "text": [
      "[2, 3]\n"
     ]
    }
   ],
   "metadata": {}
  },
  {
   "cell_type": "code",
   "execution_count": 9,
   "source": [
    "# 6. 更长列表\n",
    "def max_len(*lists):\n",
    "    return max(*lists, key=lambda v: len(v))\n",
    "\n",
    "r = max_len([1,2,3], [4,5,6,7], [8])\n",
    "print(f'最长的列表是{r}')\n",
    "\n"
   ],
   "outputs": [
    {
     "output_type": "stream",
     "name": "stdout",
     "text": [
      "最长的列表是[4, 5, 6, 7]\n"
     ]
    }
   ],
   "metadata": {}
  },
  {
   "cell_type": "code",
   "execution_count": 10,
   "source": [
    "# 7. 求表头\n",
    "def head(lst):\n",
    "    return lst[0] if len(lst) > 0 else None\n",
    "\n",
    "print(head([]))\n",
    "print(head([1,2,3,4]))\n",
    "\n"
   ],
   "outputs": [
    {
     "output_type": "stream",
     "name": "stdout",
     "text": [
      "None\n",
      "1\n"
     ]
    }
   ],
   "metadata": {}
  },
  {
   "cell_type": "code",
   "execution_count": 11,
   "source": [
    "# 8. 求表尾\n",
    "def tail(lst):\n",
    "    return lst[-1] if len(lst) > 0 else None\n",
    "print(tail([]))\n",
    "print(tail([1,2,3,4]))\n",
    "\n"
   ],
   "outputs": [
    {
     "output_type": "stream",
     "name": "stdout",
     "text": [
      "None\n",
      "4\n"
     ]
    }
   ],
   "metadata": {}
  },
  {
   "cell_type": "code",
   "execution_count": 12,
   "source": [
    "# 9. 打印乘法表\n",
    "def mul_table():\n",
    "    for i in range(1, 10):\n",
    "        for j in range(1, i+1):\n",
    "            print(str(j) + str(\"*\") + str(i) + \"=\" + str(i*j), end=\"\\t\")\n",
    "        print()\n",
    "# mul_table()\n",
    "\n"
   ],
   "outputs": [],
   "metadata": {}
  },
  {
   "cell_type": "code",
   "execution_count": 13,
   "source": [
    "# 10. 元素对\n",
    "def pair(t):\n",
    "    return list(zip(t[:-1], t[1:]))\n",
    "print(pair([1,2,3,4,5,6,7,8,10]))\n",
    "\n"
   ],
   "outputs": [
    {
     "output_type": "stream",
     "name": "stdout",
     "text": [
      "[(1, 2), (2, 3), (3, 4), (4, 5), (5, 6), (6, 7), (7, 8), (8, 10)]\n"
     ]
    }
   ],
   "metadata": {}
  },
  {
   "cell_type": "code",
   "execution_count": 14,
   "source": [
    "# 11. 样本抽样\n",
    "from random import randint, sample\n",
    "lst = [randint(0, 50) for _ in range(100)]\n",
    "print(lst[:5])\n",
    "lst_sample = sample(lst, 10)\n",
    "print(lst_sample)\n"
   ],
   "outputs": [
    {
     "output_type": "stream",
     "name": "stdout",
     "text": [
      "[15, 29, 43, 21, 44]\n",
      "[28, 15, 37, 44, 42, 29, 23, 5, 21, 34]\n"
     ]
    }
   ],
   "metadata": {}
  },
  {
   "cell_type": "code",
   "execution_count": 15,
   "source": [
    "\n",
    "# 12. 重洗数据集\n",
    "from random import shuffle\n",
    "lst = [randint(0, 50) for _ in range(100)]\n",
    "a = lst[:5]\n",
    "print(a)\n",
    "shuffle(a)\n",
    "print(a)\n",
    "\n"
   ],
   "outputs": [
    {
     "output_type": "stream",
     "name": "stdout",
     "text": [
      "[35, 33, 38, 23, 48]\n",
      "[48, 38, 23, 35, 33]\n"
     ]
    }
   ],
   "metadata": {}
  },
  {
   "cell_type": "code",
   "execution_count": 17,
   "source": [
    "# 13. 生成满足均匀分布的坐标点\n",
    "\n",
    "## 使用PyEcharts绘图\n",
    "from pyecharts.charts import Scatter\n",
    "import pyecharts.options as opts\n",
    "from random import uniform\n",
    "\n",
    "def draw_uniform_points():\n",
    "    x, y = [i for i in range(100)],[round(uniform(0,10),2) for _ in range(100)]\n",
    "    print(y)\n",
    "    c = (\n",
    "        Scatter()\n",
    "        .add_xaxis(x)\n",
    "        .add_yaxis('y', y)\n",
    "        )\n",
    "    c. render()\n",
    "draw_uniform_points()"
   ],
   "outputs": [
    {
     "output_type": "stream",
     "name": "stdout",
     "text": [
      "[3.0, 8.37, 7.21, 1.33, 1.48, 8.7, 4.0, 7.79, 9.09, 5.6, 3.91, 9.17, 2.96, 1.43, 4.79, 2.57, 5.45, 0.66, 5.14, 4.84, 5.74, 4.92, 0.08, 0.35, 7.16, 3.57, 6.15, 0.53, 5.59, 1.6, 5.88, 8.92, 4.1, 7.3, 8.36, 1.42, 8.74, 8.89, 0.79, 4.15, 0.23, 1.64, 7.94, 4.72, 6.72, 4.53, 3.04, 6.29, 6.17, 0.93, 2.08, 4.95, 6.6, 3.83, 3.51, 6.17, 0.36, 2.89, 7.07, 1.79, 7.22, 9.3, 8.61, 0.62, 9.56, 5.24, 4.85, 9.87, 2.17, 1.38, 1.87, 4.52, 0.35, 5.51, 0.01, 0.34, 2.79, 5.27, 9.35, 4.95, 3.77, 4.26, 2.58, 0.49, 9.87, 9.85, 7.09, 6.0, 7.23, 6.32, 8.3, 4.98, 7.5, 7.22, 8.44, 4.31, 8.5, 5.28, 4.99, 0.75]\n"
     ]
    }
   ],
   "metadata": {}
  },
  {
   "cell_type": "code",
   "execution_count": null,
   "source": [],
   "outputs": [],
   "metadata": {}
  }
 ],
 "metadata": {
  "orig_nbformat": 4,
  "language_info": {
   "name": "python",
   "version": "3.9.5",
   "mimetype": "text/x-python",
   "codemirror_mode": {
    "name": "ipython",
    "version": 3
   },
   "pygments_lexer": "ipython3",
   "nbconvert_exporter": "python",
   "file_extension": ".py"
  },
  "kernelspec": {
   "name": "python3",
   "display_name": "Python 3.9.5 64-bit ('tf': conda)"
  },
  "interpreter": {
   "hash": "35f69483aa8b7b2bb12f1e6f2ffb8fe1120cf837ca5a80070d69961a5682f06d"
  }
 },
 "nbformat": 4,
 "nbformat_minor": 2
}