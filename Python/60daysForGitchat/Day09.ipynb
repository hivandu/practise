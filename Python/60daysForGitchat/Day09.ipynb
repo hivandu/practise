{
 "cells": [
  {
   "cell_type": "code",
   "execution_count": 1,
   "source": [
    "# -*- coding: utf-8 -*-\n",
    "# 反转字符串\n",
    "s = \"python\"\n",
    "rs = ''.join(reversed(s))\n",
    "s = s[::-1]\n",
    "print(s)\n",
    "print(rs)"
   ],
   "outputs": [
    {
     "output_type": "stream",
     "name": "stdout",
     "text": [
      "nohtyp\n",
      "nohtyp\n"
     ]
    }
   ],
   "metadata": {}
  },
  {
   "cell_type": "code",
   "execution_count": 2,
   "source": [
    "# 字符串切片操作\n",
    "java,python = 'java','python'\n",
    "jl,pl = len(java), len(python)\n",
    "print([str(java[i%3*jl:]+python[i%5*pl:] or i) for i in range(1,10)])"
   ],
   "outputs": [
    {
     "output_type": "stream",
     "name": "stdout",
     "text": [
      "['1', '2', 'java', '4', 'python', 'java', '7', '8', 'java']\n"
     ]
    }
   ],
   "metadata": {}
  },
  {
   "cell_type": "code",
   "execution_count": 3,
   "source": [
    "# join 串联字符串\n",
    "mystr = ['I', 'love', 'Python']\n",
    "res = '_'.join(mystr)\n",
    "print(res)\n",
    "\n"
   ],
   "outputs": [
    {
     "output_type": "stream",
     "name": "stdout",
     "text": [
      "I_love_Python\n"
     ]
    }
   ],
   "metadata": {}
  },
  {
   "cell_type": "code",
   "execution_count": 4,
   "source": [
    "# 分割字符串\n",
    "print('I_love_python'.split('_'))\n",
    "\n"
   ],
   "outputs": [
    {
     "output_type": "stream",
     "name": "stdout",
     "text": [
      "['I', 'love', 'python']\n"
     ]
    }
   ],
   "metadata": {}
  },
  {
   "cell_type": "code",
   "execution_count": 5,
   "source": [
    "# 替换\n",
    "s = 'i love python'.replace('o', 'O')\n",
    "print(s)\n",
    "\n"
   ],
   "outputs": [
    {
     "output_type": "stream",
     "name": "stdout",
     "text": [
      "i lOve pythOn\n"
     ]
    }
   ],
   "metadata": {}
  },
  {
   "cell_type": "code",
   "execution_count": 6,
   "source": [
    "# 子串判断\n",
    "## one\n",
    "a = 'our'\n",
    "b = 'flourish'\n",
    "r = True if a in b else False\n",
    "print(r)\n",
    "## two\n",
    "print(b.find(a))\n",
    "\n"
   ],
   "outputs": [
    {
     "output_type": "stream",
     "name": "stdout",
     "text": [
      "True\n",
      "2\n"
     ]
    }
   ],
   "metadata": {}
  },
  {
   "cell_type": "code",
   "execution_count": 7,
   "source": [
    "# 去空格\n",
    "a = '  \\tI love python  \\b\\n'\n",
    "\n",
    "# length for string\n",
    "def str_byte_len(mystr):\n",
    "  mystr_bytes = mystr.encode('utf-8')\n",
    "  return(len(mystr_bytes))\n",
    "\n",
    "print(str_byte_len('i love python'))\n"
   ],
   "outputs": [
    {
     "output_type": "stream",
     "name": "stdout",
     "text": [
      "13\n"
     ]
    }
   ],
   "metadata": {}
  },
  {
   "cell_type": "code",
   "execution_count": 8,
   "source": [
    "# 正则表达式\n",
    "import re\n",
    "# search\n",
    "s = 'i love python very much'\n",
    "pat = 'python'\n",
    "r = re.search(pat, s)\n",
    "print(r.span())"
   ],
   "outputs": [
    {
     "output_type": "stream",
     "name": "stdout",
     "text": [
      "(7, 13)\n"
     ]
    }
   ],
   "metadata": {}
  },
  {
   "cell_type": "code",
   "execution_count": 9,
   "source": [
    "# match\n",
    "s = 'flourish'\n",
    "recom = re.compile('our')\n",
    "print(recom.match(s))\n",
    "res = recom.search(s)\n",
    "print(res.span())"
   ],
   "outputs": [
    {
     "output_type": "stream",
     "name": "stdout",
     "text": [
      "None\n",
      "(2, 5)\n"
     ]
    }
   ],
   "metadata": {}
  },
  {
   "cell_type": "code",
   "execution_count": 10,
   "source": [
    "#finditer\n",
    "s = '山东省潍坊市青州第1中学高三1班'\n",
    "pat = '1'\n",
    "r = re.finditer(pat,s)\n",
    "for i in r:\n",
    "  print(i)"
   ],
   "outputs": [
    {
     "output_type": "stream",
     "name": "stdout",
     "text": [
      "<re.Match object; span=(9, 10), match='1'>\n",
      "<re.Match object; span=(14, 15), match='1'>\n"
     ]
    }
   ],
   "metadata": {}
  },
  {
   "cell_type": "code",
   "execution_count": 11,
   "source": [
    "# findall\n",
    "s = '一共20行代码运行时间13.59s'\n",
    "pat = r'\\d+'\n",
    "r = re.findall(pat, s)\n",
    "print(r) # ['20', '13', '59']\n",
    "# 没有达到预期，期望找到['20', '13.59']\n",
    "pat = r'\\d+\\.?\\d+'\n",
    "r = re.findall(pat, s)\n",
    "print(r)\n",
    "# 以上正则无法匹配\n",
    "s = '一共2行代码运行时间1.66s'\n",
    "r = re.findall(pat,s)\n",
    "print(r) # ['1.66']\n",
    "# 以上没有匹配到数字2\n",
    "pat = r'\\d+\\.?\\d*'\n",
    "r = re.findall(pat,s)\n",
    "print(r) #['2', '1.66']"
   ],
   "outputs": [
    {
     "output_type": "stream",
     "name": "stdout",
     "text": [
      "['20', '13', '59']\n",
      "['20', '13.59']\n",
      "['1.66']\n",
      "['2', '1.66']\n"
     ]
    }
   ],
   "metadata": {}
  },
  {
   "cell_type": "code",
   "execution_count": 12,
   "source": [
    "# 案例：匹配正整数\n",
    "s = [-16, 1.5, 11.43, 10, 5]\n",
    "pat = r'^[1-9]\\d*$'\n",
    "a = [i for i in s if re.match(pat, str(i))]\n",
    "print(a)"
   ],
   "outputs": [
    {
     "output_type": "stream",
     "name": "stdout",
     "text": [
      "[10, 5]\n"
     ]
    }
   ],
   "metadata": {}
  },
  {
   "cell_type": "code",
   "execution_count": 13,
   "source": [
    "# re.I 忽略大小写\n",
    "s = 'That'\n",
    "pat = r't'\n",
    "r = re.finditer(pat,s,re.I)\n",
    "a = []\n",
    "for i in r:\n",
    "  a.append(i.span())\n",
    "print(a)\n",
    "\n"
   ],
   "outputs": [
    {
     "output_type": "stream",
     "name": "stdout",
     "text": [
      "[(0, 1), (3, 4)]\n"
     ]
    }
   ],
   "metadata": {}
  },
  {
   "cell_type": "code",
   "execution_count": 14,
   "source": [
    "# split 分割单词\n",
    "s = 'id\\tname\\taddress'\n",
    "print(s.split('\\t'))\n",
    "# 正则匹配复杂分割符\n",
    "s = 'This,,,   module ; \\t   provides|| regular ; '\n",
    "words = re.split('[,\\s;|]+', s)\n",
    "print(words)\n",
    "\n"
   ],
   "outputs": [
    {
     "output_type": "stream",
     "name": "stdout",
     "text": [
      "['id', 'name', 'address']\n",
      "['This', 'module', 'provides', 'regular', '']\n"
     ]
    }
   ],
   "metadata": {}
  },
  {
   "cell_type": "code",
   "execution_count": 15,
   "source": [
    "# sub 替换匹配串\n",
    "content = 'hello 12345, hello 456321'\n",
    "pat = re.compile(r'\\d+')\n",
    "m = pat.sub('666', content)\n",
    "print(m)\n",
    "\n"
   ],
   "outputs": [
    {
     "output_type": "stream",
     "name": "stdout",
     "text": [
      "hello 666, hello 666\n"
     ]
    }
   ],
   "metadata": {}
  },
  {
   "cell_type": "code",
   "execution_count": 16,
   "source": [
    "# compile 预编译\n",
    "s = [-16,'good',1.5, 0.2, -0.1, '11.43', 10, '5e10']\n",
    "rec = re.compile(r'^[1-9]\\d*\\.\\d*|0\\.\\d*[1-9]\\d*$')\n",
    "a = [i for i in s if rec.match(str(i))]\n",
    "print(a)\n",
    "\n"
   ],
   "outputs": [
    {
     "output_type": "stream",
     "name": "stdout",
     "text": [
      "[1.5, 0.2, '11.43']\n"
     ]
    }
   ],
   "metadata": {}
  },
  {
   "cell_type": "code",
   "execution_count": 17,
   "source": [
    "# 贪心捕获\n",
    "content = '''\n",
    "          <h>ddedadsad</h>\n",
    "          <div>graph</div>\n",
    "          <div>math</div>'''\n",
    "result = re.findall(r'<div>.*</div>',content)\n",
    "print(result) # ['<div>graph</div>', '<div>math</div>']\n",
    "# 如果不想保留<div>...</div>\n",
    "result = re.findall(r'<div>(.*)</div>',content)\n",
    "print(result)\n",
    "\n",
    "# 非贪心捕获\n",
    "result = re.findall(r'<div>(.*?)</div>',content)\n",
    "print(result)\n"
   ],
   "outputs": [
    {
     "output_type": "stream",
     "name": "stdout",
     "text": [
      "['<div>graph</div>', '<div>math</div>']\n",
      "['graph', 'math']\n",
      "['graph', 'math']\n"
     ]
    }
   ],
   "metadata": {}
  },
  {
   "cell_type": "code",
   "execution_count": null,
   "source": [],
   "outputs": [],
   "metadata": {}
  }
 ],
 "metadata": {
  "orig_nbformat": 4,
  "language_info": {
   "name": "python",
   "version": "3.9.5",
   "mimetype": "text/x-python",
   "codemirror_mode": {
    "name": "ipython",
    "version": 3
   },
   "pygments_lexer": "ipython3",
   "nbconvert_exporter": "python",
   "file_extension": ".py"
  },
  "kernelspec": {
   "name": "python3",
   "display_name": "Python 3.9.5 64-bit ('tf': conda)"
  },
  "interpreter": {
   "hash": "35f69483aa8b7b2bb12f1e6f2ffb8fe1120cf837ca5a80070d69961a5682f06d"
  }
 },
 "nbformat": 4,
 "nbformat_minor": 2
}