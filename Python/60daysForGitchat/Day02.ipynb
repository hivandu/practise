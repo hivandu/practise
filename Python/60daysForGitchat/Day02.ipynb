{
 "cells": [
  {
   "cell_type": "code",
   "execution_count": 1,
   "source": [
    "# -*- coding: utf-8 -*-"
   ],
   "outputs": [],
   "metadata": {}
  },
  {
   "cell_type": "code",
   "execution_count": 2,
   "source": [
    "### 以下示例为容器型数据类型示例 list,tuple,dict,set\n",
    "# 去最求平均\n",
    "def score_mean(lst):\n",
    "    lst.sort()\n",
    "    print('lst.sort',lst)\n",
    "    lst2 = lst[1:-1]\n",
    "    print('lst2:lst[1:-1]:', lst2)\n",
    "    return round((sum(lst2)/len(lst2)), 1)\n",
    "\n",
    "lst = [9.1, 9.0, 8.1, 9.7, 19, 8.2, 8.6, 9.8]\n",
    "print(score_mean(lst))"
   ],
   "outputs": [
    {
     "output_type": "stream",
     "name": "stdout",
     "text": [
      "lst.sort [8.1, 8.2, 8.6, 9.0, 9.1, 9.7, 9.8, 19]\n",
      "lst2:lst[1:-1]: [8.2, 8.6, 9.0, 9.1, 9.7, 9.8]\n",
      "9.1\n"
     ]
    }
   ],
   "metadata": {}
  },
  {
   "cell_type": "code",
   "execution_count": 3,
   "source": [
    "# 打印99乘法表\n",
    "for i in range(1, 10):\n",
    "    for j in range(1, i+1):\n",
    "        print('%d*%d=%d'%(j,i, i*i), end='\\t')\n",
    "    print()"
   ],
   "outputs": [
    {
     "output_type": "stream",
     "name": "stdout",
     "text": [
      "1*1=1\t\n",
      "1*2=4\t2*2=4\t\n",
      "1*3=9\t2*3=9\t3*3=9\t\n",
      "1*4=16\t2*4=16\t3*4=16\t4*4=16\t\n",
      "1*5=25\t2*5=25\t3*5=25\t4*5=25\t5*5=25\t\n",
      "1*6=36\t2*6=36\t3*6=36\t4*6=36\t5*6=36\t6*6=36\t\n",
      "1*7=49\t2*7=49\t3*7=49\t4*7=49\t5*7=49\t6*7=49\t7*7=49\t\n",
      "1*8=64\t2*8=64\t3*8=64\t4*8=64\t5*8=64\t6*8=64\t7*8=64\t8*8=64\t\n",
      "1*9=81\t2*9=81\t3*9=81\t4*9=81\t5*9=81\t6*9=81\t7*9=81\t8*9=81\t9*9=81\t\n"
     ]
    }
   ],
   "metadata": {}
  },
  {
   "cell_type": "code",
   "execution_count": 4,
   "source": [
    "# 样本抽样\n",
    "from random import randint, sample\n",
    "lst = [randint(0, 50) for _ in range(100)]\n",
    "print(lst[:5])\n",
    "lst_sample = sample(lst, 10)\n",
    "print(lst_sample)"
   ],
   "outputs": [
    {
     "output_type": "stream",
     "name": "stdout",
     "text": [
      "[41, 40, 0, 43, 28]\n",
      "[21, 0, 40, 0, 39, 28, 40, 23, 18, 17]\n"
     ]
    }
   ],
   "metadata": {}
  },
  {
   "cell_type": "code",
   "execution_count": 5,
   "source": [
    "### 以下示例为字符串类型 str\n",
    "# strip 去除前后空格\n",
    "print('    I love python\\t\\n   '.strip())\n",
    "#replace用于字符串替换\n",
    "print('i love python'.replace(' ', '_'))\n",
    "#join用于合并字符串\n",
    "print('_'.join(['book', 'store', 'count']))\n",
    "# title用于单次的首字符大写：\n",
    "print('i love python'.title())\n",
    "# find用于返回匹配字符串的起始位置索引\n",
    "print('i love python'.find('python'))"
   ],
   "outputs": [
    {
     "output_type": "stream",
     "name": "stdout",
     "text": [
      "I love python\n",
      "i_love_python\n",
      "book_store_count\n",
      "I Love Python\n",
      "7\n"
     ]
    }
   ],
   "metadata": {}
  },
  {
   "cell_type": "code",
   "execution_count": 6,
   "source": [
    "# 判断字符串旋转后得到\n",
    "def is_rotation(s1: str, s2: str) -> bool:\n",
    "    if s1 is None or s2 is None:\n",
    "        return False\n",
    "    if len(s1) != len(s2):\n",
    "        return False\n",
    "    def is_substring(s1: str, s2:str) -> bool:\n",
    "        return s1 in s2\n",
    "    return is_substring(s1, s2+s2)\n",
    "\n",
    "# 测试函数is_rotation:\n",
    "r = is_rotation('stringbook', 'bookstring')\n",
    "print(r)\n",
    "r = is_rotation('greatman', 'maneatgr')\n",
    "print(r)"
   ],
   "outputs": [
    {
     "output_type": "stream",
     "name": "stdout",
     "text": [
      "True\n",
      "False\n"
     ]
    }
   ],
   "metadata": {}
  },
  {
   "cell_type": "code",
   "execution_count": 7,
   "source": [
    "# 密码安全检查：正则\n",
    "import re\n",
    "pat = re.compile(r'[\\da-zA-Z]{6,20}')\n",
    "print(pat.fullmatch('sahdio123'))"
   ],
   "outputs": [
    {
     "output_type": "stream",
     "name": "stdout",
     "text": [
      "<re.Match object; span=(0, 9), match='sahdio123'>\n"
     ]
    }
   ],
   "metadata": {}
  },
  {
   "cell_type": "code",
   "execution_count": 8,
   "source": [
    "# 自定义：类（对象）\n",
    "class Dog(object):\n",
    "    #类的属性:\n",
    "    def __init__(self,name,dtype):\n",
    "        self.__name = name\n",
    "        self.__dtype = dtype\n",
    "    # 类的方法\n",
    "    def shout(self):\n",
    "        print('I\\'m %s, type: %s'%(self.__name, self.__dtype))\n",
    "    def getName(self):\n",
    "        return self.__name"
   ],
   "outputs": [],
   "metadata": {}
  },
  {
   "cell_type": "code",
   "execution_count": 9,
   "source": [
    "# 类的实例:\n",
    "wangwang = Dog('wangwang', 'cute_type')\n",
    "# print(wangwang.name, wangwang.dtype)\n",
    "# print(wangwang.shout())\n",
    "print(wangwang.getName())"
   ],
   "outputs": [
    {
     "output_type": "stream",
     "name": "stdout",
     "text": [
      "wangwang\n"
     ]
    }
   ],
   "metadata": {}
  },
  {
   "cell_type": "code",
   "execution_count": 10,
   "source": [
    "# 优雅的改变某个属性为只读或只写\n",
    "class Book(object):\n",
    "    def __init__(self, name, sale):\n",
    "        self.__name = name\n",
    "        self.__sale = sale\n",
    "    # 可读属性\n",
    "    @property\n",
    "    def name(self):\n",
    "        return self.__name\n",
    "    # 可写属性\n",
    "    @name.setter\n",
    "    def name(self, new_name):\n",
    "        self.__name = new_name\n",
    "\n",
    "a_book = Book('magic book', 100000)\n",
    "print(a_book.name)\n",
    "a_book.name = 'magic_book_2.0'\n",
    "print(a_book.name)"
   ],
   "outputs": [
    {
     "output_type": "stream",
     "name": "stdout",
     "text": [
      "magic book\n",
      "magic_book_2.0\n"
     ]
    }
   ],
   "metadata": {}
  },
  {
   "cell_type": "code",
   "execution_count": null,
   "source": [],
   "outputs": [],
   "metadata": {}
  }
 ],
 "metadata": {
  "orig_nbformat": 4,
  "language_info": {
   "name": "python",
   "version": "3.9.5",
   "mimetype": "text/x-python",
   "codemirror_mode": {
    "name": "ipython",
    "version": 3
   },
   "pygments_lexer": "ipython3",
   "nbconvert_exporter": "python",
   "file_extension": ".py"
  },
  "kernelspec": {
   "name": "python3",
   "display_name": "Python 3.9.5 64-bit ('tf': conda)"
  },
  "interpreter": {
   "hash": "35f69483aa8b7b2bb12f1e6f2ffb8fe1120cf837ca5a80070d69961a5682f06d"
  }
 },
 "nbformat": 4,
 "nbformat_minor": 2
}