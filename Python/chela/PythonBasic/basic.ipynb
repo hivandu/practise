{
 "cells": [
  {
   "cell_type": "code",
   "execution_count": 1,
   "id": "continuing-paste",
   "metadata": {},
   "outputs": [
    {
     "name": "stdin",
     "output_type": "stream",
     "text": [
      "总金额: 10\n",
      "红包个数: 2\n",
      "祝福语: HI\n"
     ]
    },
    {
     "name": "stdout",
     "output_type": "stream",
     "text": [
      "HI\n",
      "恭喜你抢到5.0元钱\n"
     ]
    }
   ],
   "source": [
    "money = input('总金额:')\n",
    "count = input('红包个数:')\n",
    "msg = input('祝福语:')\n",
    "mean_money = float(money)/float(count)\n",
    "print(f'{msg}\\n恭喜你抢到{mean_money}元钱')"
   ]
  },
  {
   "cell_type": "code",
   "execution_count": 4,
   "id": "alternate-cisco",
   "metadata": {},
   "outputs": [
    {
     "name": "stdout",
     "output_type": "stream",
     "text": [
      "3\n",
      "10\n",
      "17\n",
      "24\n",
      "31\n"
     ]
    }
   ],
   "source": [
    "for i in range(31):\n",
    "    if i%7 == 0:\n",
    "        print(i+3)"
   ]
  },
  {
   "cell_type": "code",
   "execution_count": 5,
   "id": "vocational-retailer",
   "metadata": {},
   "outputs": [
    {
     "data": {
      "text/plain": [
       "-1.0"
      ]
     },
     "execution_count": 5,
     "metadata": {},
     "output_type": "execute_result"
    }
   ],
   "source": [
    "import math\n",
    "math.cos(math.pi)"
   ]
  },
  {
   "cell_type": "code",
   "execution_count": 6,
   "id": "defined-combination",
   "metadata": {},
   "outputs": [
    {
     "data": {
      "text/plain": [
       "[1, 2, 2, 3]"
      ]
     },
     "execution_count": 6,
     "metadata": {},
     "output_type": "execute_result"
    }
   ],
   "source": [
    "[1,2]+[2,3]"
   ]
  },
  {
   "cell_type": "code",
   "execution_count": 16,
   "id": "urban-cholesterol",
   "metadata": {},
   "outputs": [
    {
     "data": {
      "text/plain": [
       "True"
      ]
     },
     "execution_count": 16,
     "metadata": {},
     "output_type": "execute_result"
    }
   ],
   "source": [
    "ls_3 = [1,3,4,'apple','fvck']\n",
    "\n",
    "'apple' in ls_3"
   ]
  },
  {
   "cell_type": "code",
   "execution_count": 11,
   "id": "departmental-school",
   "metadata": {},
   "outputs": [
    {
     "data": {
      "text/plain": [
       "9"
      ]
     },
     "execution_count": 11,
     "metadata": {},
     "output_type": "execute_result"
    }
   ],
   "source": [
    "len(ls_3)"
   ]
  },
  {
   "cell_type": "code",
   "execution_count": 10,
   "id": "digital-parts",
   "metadata": {},
   "outputs": [
    {
     "data": {
      "text/plain": [
       "65"
      ]
     },
     "execution_count": 10,
     "metadata": {},
     "output_type": "execute_result"
    }
   ],
   "source": [
    "max([1,5,65,5])"
   ]
  },
  {
   "cell_type": "code",
   "execution_count": 12,
   "id": "secure-advancement",
   "metadata": {},
   "outputs": [
    {
     "data": {
      "text/plain": [
       "-1"
      ]
     },
     "execution_count": 12,
     "metadata": {},
     "output_type": "execute_result"
    }
   ],
   "source": [
    "min([1,-1,89])"
   ]
  },
  {
   "cell_type": "code",
   "execution_count": 13,
   "id": "communist-abraham",
   "metadata": {},
   "outputs": [
    {
     "data": {
      "text/plain": [
       "'The apple'"
      ]
     },
     "execution_count": 13,
     "metadata": {},
     "output_type": "execute_result"
    }
   ],
   "source": [
    "ls_3"
   ]
  },
  {
   "cell_type": "code",
   "execution_count": 18,
   "id": "statistical-camping",
   "metadata": {},
   "outputs": [
    {
     "data": {
      "text/plain": [
       "[1, 3, 4, 'apple', 'fvck', 'apple', 'apple']"
      ]
     },
     "execution_count": 18,
     "metadata": {},
     "output_type": "execute_result"
    }
   ],
   "source": [
    "ls_3.append(\"apple\")\n",
    "ls_3"
   ]
  },
  {
   "cell_type": "code",
   "execution_count": 19,
   "id": "comparable-samuel",
   "metadata": {},
   "outputs": [
    {
     "data": {
      "text/plain": [
       "3"
      ]
     },
     "execution_count": 19,
     "metadata": {},
     "output_type": "execute_result"
    }
   ],
   "source": [
    "ls_3.count('apple')"
   ]
  },
  {
   "cell_type": "code",
   "execution_count": 21,
   "id": "accredited-argentina",
   "metadata": {},
   "outputs": [
    {
     "data": {
      "text/plain": [
       "[1, 3, 4, 'apple', 'fvck', 'apple', 'apple', 1, 2, 3, 1, 2, 3]"
      ]
     },
     "execution_count": 21,
     "metadata": {},
     "output_type": "execute_result"
    }
   ],
   "source": [
    "ls_3.extend([1,2,3])\n",
    "ls_3"
   ]
  },
  {
   "cell_type": "code",
   "execution_count": 22,
   "id": "sensitive-asbestos",
   "metadata": {},
   "outputs": [
    {
     "data": {
      "text/plain": [
       "3"
      ]
     },
     "execution_count": 22,
     "metadata": {},
     "output_type": "execute_result"
    }
   ],
   "source": [
    "ls_3.index('apple')"
   ]
  },
  {
   "cell_type": "code",
   "execution_count": 23,
   "id": "identical-while",
   "metadata": {},
   "outputs": [
    {
     "data": {
      "text/plain": [
       "[1, 3, 'apple', 4, 'apple', 'fvck', 'apple', 'apple', 1, 2, 3, 1, 2, 3]"
      ]
     },
     "execution_count": 23,
     "metadata": {},
     "output_type": "execute_result"
    }
   ],
   "source": [
    "ls_3.insert(2,'apple')\n",
    "ls_3"
   ]
  },
  {
   "cell_type": "code",
   "execution_count": 24,
   "id": "reverse-think",
   "metadata": {},
   "outputs": [
    {
     "name": "stdout",
     "output_type": "stream",
     "text": [
      "[1, 3, 'apple', 4, 'apple', 'fvck', 'apple', 'apple', 1, 2, 3, 1, 2]\n"
     ]
    },
    {
     "data": {
      "text/plain": [
       "3"
      ]
     },
     "execution_count": 24,
     "metadata": {},
     "output_type": "execute_result"
    }
   ],
   "source": [
    "a = ls_3.pop(-1)\n",
    "print(ls_3)\n",
    "a"
   ]
  },
  {
   "cell_type": "code",
   "execution_count": 25,
   "id": "alpine-reporter",
   "metadata": {},
   "outputs": [
    {
     "name": "stdout",
     "output_type": "stream",
     "text": [
      "Help on class list in module builtins:\n",
      "\n",
      "class list(object)\n",
      " |  list(iterable=(), /)\n",
      " |  \n",
      " |  Built-in mutable sequence.\n",
      " |  \n",
      " |  If no argument is given, the constructor creates a new empty list.\n",
      " |  The argument must be an iterable if specified.\n",
      " |  \n",
      " |  Methods defined here:\n",
      " |  \n",
      " |  __add__(self, value, /)\n",
      " |      Return self+value.\n",
      " |  \n",
      " |  __contains__(self, key, /)\n",
      " |      Return key in self.\n",
      " |  \n",
      " |  __delitem__(self, key, /)\n",
      " |      Delete self[key].\n",
      " |  \n",
      " |  __eq__(self, value, /)\n",
      " |      Return self==value.\n",
      " |  \n",
      " |  __ge__(self, value, /)\n",
      " |      Return self>=value.\n",
      " |  \n",
      " |  __getattribute__(self, name, /)\n",
      " |      Return getattr(self, name).\n",
      " |  \n",
      " |  __getitem__(...)\n",
      " |      x.__getitem__(y) <==> x[y]\n",
      " |  \n",
      " |  __gt__(self, value, /)\n",
      " |      Return self>value.\n",
      " |  \n",
      " |  __iadd__(self, value, /)\n",
      " |      Implement self+=value.\n",
      " |  \n",
      " |  __imul__(self, value, /)\n",
      " |      Implement self*=value.\n",
      " |  \n",
      " |  __init__(self, /, *args, **kwargs)\n",
      " |      Initialize self.  See help(type(self)) for accurate signature.\n",
      " |  \n",
      " |  __iter__(self, /)\n",
      " |      Implement iter(self).\n",
      " |  \n",
      " |  __le__(self, value, /)\n",
      " |      Return self<=value.\n",
      " |  \n",
      " |  __len__(self, /)\n",
      " |      Return len(self).\n",
      " |  \n",
      " |  __lt__(self, value, /)\n",
      " |      Return self<value.\n",
      " |  \n",
      " |  __mul__(self, value, /)\n",
      " |      Return self*value.\n",
      " |  \n",
      " |  __ne__(self, value, /)\n",
      " |      Return self!=value.\n",
      " |  \n",
      " |  __repr__(self, /)\n",
      " |      Return repr(self).\n",
      " |  \n",
      " |  __reversed__(self, /)\n",
      " |      Return a reverse iterator over the list.\n",
      " |  \n",
      " |  __rmul__(self, value, /)\n",
      " |      Return value*self.\n",
      " |  \n",
      " |  __setitem__(self, key, value, /)\n",
      " |      Set self[key] to value.\n",
      " |  \n",
      " |  __sizeof__(self, /)\n",
      " |      Return the size of the list in memory, in bytes.\n",
      " |  \n",
      " |  append(self, object, /)\n",
      " |      Append object to the end of the list.\n",
      " |  \n",
      " |  clear(self, /)\n",
      " |      Remove all items from list.\n",
      " |  \n",
      " |  copy(self, /)\n",
      " |      Return a shallow copy of the list.\n",
      " |  \n",
      " |  count(self, value, /)\n",
      " |      Return number of occurrences of value.\n",
      " |  \n",
      " |  extend(self, iterable, /)\n",
      " |      Extend list by appending elements from the iterable.\n",
      " |  \n",
      " |  index(self, value, start=0, stop=9223372036854775807, /)\n",
      " |      Return first index of value.\n",
      " |      \n",
      " |      Raises ValueError if the value is not present.\n",
      " |  \n",
      " |  insert(self, index, object, /)\n",
      " |      Insert object before index.\n",
      " |  \n",
      " |  pop(self, index=-1, /)\n",
      " |      Remove and return item at index (default last).\n",
      " |      \n",
      " |      Raises IndexError if list is empty or index is out of range.\n",
      " |  \n",
      " |  remove(self, value, /)\n",
      " |      Remove first occurrence of value.\n",
      " |      \n",
      " |      Raises ValueError if the value is not present.\n",
      " |  \n",
      " |  reverse(self, /)\n",
      " |      Reverse *IN PLACE*.\n",
      " |  \n",
      " |  sort(self, /, *, key=None, reverse=False)\n",
      " |      Sort the list in ascending order and return None.\n",
      " |      \n",
      " |      The sort is in-place (i.e. the list itself is modified) and stable (i.e. the\n",
      " |      order of two equal elements is maintained).\n",
      " |      \n",
      " |      If a key function is given, apply it once to each list item and sort them,\n",
      " |      ascending or descending, according to their function values.\n",
      " |      \n",
      " |      The reverse flag can be set to sort in descending order.\n",
      " |  \n",
      " |  ----------------------------------------------------------------------\n",
      " |  Static methods defined here:\n",
      " |  \n",
      " |  __new__(*args, **kwargs) from builtins.type\n",
      " |      Create and return a new object.  See help(type) for accurate signature.\n",
      " |  \n",
      " |  ----------------------------------------------------------------------\n",
      " |  Data and other attributes defined here:\n",
      " |  \n",
      " |  __hash__ = None\n",
      "\n"
     ]
    }
   ],
   "source": [
    "help(list)"
   ]
  },
  {
   "cell_type": "code",
   "execution_count": 29,
   "id": "monthly-shoot",
   "metadata": {},
   "outputs": [
    {
     "name": "stdout",
     "output_type": "stream",
     "text": [
      "{'name': 'san', 'age': 30, 66: '六十六', 'hobby': 'eat'}\n"
     ]
    },
    {
     "data": {
      "text/plain": [
       "{'name': 'san', 'age': 30, 66: '六十六'}"
      ]
     },
     "execution_count": 29,
     "metadata": {},
     "output_type": "execute_result"
    }
   ],
   "source": [
    "dict_1 = {'name':'san','age':19,66:'六十六'}\n",
    "dict_1['age'] = 30\n",
    "dict_1['hobby'] = 'eat'\n",
    "print(dict_1)\n",
    "del dict_1['hobby']\n",
    "dict_1"
   ]
  },
  {
   "cell_type": "code",
   "execution_count": 33,
   "id": "smart-netscape",
   "metadata": {},
   "outputs": [
    {
     "name": "stdout",
     "output_type": "stream",
     "text": [
      "3\n",
      "['name', 'age', 66]\n",
      "{'name': 'san', 'age': 30, 66: '六十六'}\n"
     ]
    }
   ],
   "source": [
    "print(len(dict_1))\n",
    "print(list(dict_1))\n",
    "print(str(dict_1))"
   ]
  },
  {
   "cell_type": "code",
   "execution_count": 34,
   "id": "impressive-ground",
   "metadata": {},
   "outputs": [
    {
     "name": "stdout",
     "output_type": "stream",
     "text": [
      "Help on class dict in module builtins:\n",
      "\n",
      "class dict(object)\n",
      " |  dict() -> new empty dictionary\n",
      " |  dict(mapping) -> new dictionary initialized from a mapping object's\n",
      " |      (key, value) pairs\n",
      " |  dict(iterable) -> new dictionary initialized as if via:\n",
      " |      d = {}\n",
      " |      for k, v in iterable:\n",
      " |          d[k] = v\n",
      " |  dict(**kwargs) -> new dictionary initialized with the name=value pairs\n",
      " |      in the keyword argument list.  For example:  dict(one=1, two=2)\n",
      " |  \n",
      " |  Built-in subclasses:\n",
      " |      StgDict\n",
      " |  \n",
      " |  Methods defined here:\n",
      " |  \n",
      " |  __contains__(self, key, /)\n",
      " |      True if the dictionary has the specified key, else False.\n",
      " |  \n",
      " |  __delitem__(self, key, /)\n",
      " |      Delete self[key].\n",
      " |  \n",
      " |  __eq__(self, value, /)\n",
      " |      Return self==value.\n",
      " |  \n",
      " |  __ge__(self, value, /)\n",
      " |      Return self>=value.\n",
      " |  \n",
      " |  __getattribute__(self, name, /)\n",
      " |      Return getattr(self, name).\n",
      " |  \n",
      " |  __getitem__(...)\n",
      " |      x.__getitem__(y) <==> x[y]\n",
      " |  \n",
      " |  __gt__(self, value, /)\n",
      " |      Return self>value.\n",
      " |  \n",
      " |  __init__(self, /, *args, **kwargs)\n",
      " |      Initialize self.  See help(type(self)) for accurate signature.\n",
      " |  \n",
      " |  __iter__(self, /)\n",
      " |      Implement iter(self).\n",
      " |  \n",
      " |  __le__(self, value, /)\n",
      " |      Return self<=value.\n",
      " |  \n",
      " |  __len__(self, /)\n",
      " |      Return len(self).\n",
      " |  \n",
      " |  __lt__(self, value, /)\n",
      " |      Return self<value.\n",
      " |  \n",
      " |  __ne__(self, value, /)\n",
      " |      Return self!=value.\n",
      " |  \n",
      " |  __repr__(self, /)\n",
      " |      Return repr(self).\n",
      " |  \n",
      " |  __reversed__(self, /)\n",
      " |      Return a reverse iterator over the dict keys.\n",
      " |  \n",
      " |  __setitem__(self, key, value, /)\n",
      " |      Set self[key] to value.\n",
      " |  \n",
      " |  __sizeof__(...)\n",
      " |      D.__sizeof__() -> size of D in memory, in bytes\n",
      " |  \n",
      " |  clear(...)\n",
      " |      D.clear() -> None.  Remove all items from D.\n",
      " |  \n",
      " |  copy(...)\n",
      " |      D.copy() -> a shallow copy of D\n",
      " |  \n",
      " |  get(self, key, default=None, /)\n",
      " |      Return the value for key if key is in the dictionary, else default.\n",
      " |  \n",
      " |  items(...)\n",
      " |      D.items() -> a set-like object providing a view on D's items\n",
      " |  \n",
      " |  keys(...)\n",
      " |      D.keys() -> a set-like object providing a view on D's keys\n",
      " |  \n",
      " |  pop(...)\n",
      " |      D.pop(k[,d]) -> v, remove specified key and return the corresponding value.\n",
      " |      If key is not found, d is returned if given, otherwise KeyError is raised\n",
      " |  \n",
      " |  popitem(self, /)\n",
      " |      Remove and return a (key, value) pair as a 2-tuple.\n",
      " |      \n",
      " |      Pairs are returned in LIFO (last-in, first-out) order.\n",
      " |      Raises KeyError if the dict is empty.\n",
      " |  \n",
      " |  setdefault(self, key, default=None, /)\n",
      " |      Insert key with a value of default if key is not in the dictionary.\n",
      " |      \n",
      " |      Return the value for key if key is in the dictionary, else default.\n",
      " |  \n",
      " |  update(...)\n",
      " |      D.update([E, ]**F) -> None.  Update D from dict/iterable E and F.\n",
      " |      If E is present and has a .keys() method, then does:  for k in E: D[k] = E[k]\n",
      " |      If E is present and lacks a .keys() method, then does:  for k, v in E: D[k] = v\n",
      " |      In either case, this is followed by: for k in F:  D[k] = F[k]\n",
      " |  \n",
      " |  values(...)\n",
      " |      D.values() -> an object providing a view on D's values\n",
      " |  \n",
      " |  ----------------------------------------------------------------------\n",
      " |  Class methods defined here:\n",
      " |  \n",
      " |  fromkeys(iterable, value=None, /) from builtins.type\n",
      " |      Create a new dictionary with keys from iterable and values set to value.\n",
      " |  \n",
      " |  ----------------------------------------------------------------------\n",
      " |  Static methods defined here:\n",
      " |  \n",
      " |  __new__(*args, **kwargs) from builtins.type\n",
      " |      Create and return a new object.  See help(type) for accurate signature.\n",
      " |  \n",
      " |  ----------------------------------------------------------------------\n",
      " |  Data and other attributes defined here:\n",
      " |  \n",
      " |  __hash__ = None\n",
      "\n"
     ]
    }
   ],
   "source": [
    "help(dict)"
   ]
  },
  {
   "cell_type": "code",
   "execution_count": 37,
   "id": "compliant-behavior",
   "metadata": {},
   "outputs": [
    {
     "data": {
      "text/plain": [
       "{'a', 'b', 'c', 'd', 'r'}"
      ]
     },
     "execution_count": 37,
     "metadata": {},
     "output_type": "execute_result"
    }
   ],
   "source": [
    "a = set('abracadabra')\n",
    "a"
   ]
  },
  {
   "cell_type": "code",
   "execution_count": 57,
   "id": "obvious-forum",
   "metadata": {},
   "outputs": [
    {
     "data": {
      "text/plain": [
       "{1, 2, 'apple', 'banana', 'dfsdd', 'dsada', 'orange', 'pear'}"
      ]
     },
     "execution_count": 57,
     "metadata": {},
     "output_type": "execute_result"
    }
   ],
   "source": [
    "s_1 = {'orange','pear','banana'}\n",
    "s_1\n",
    "s_1.add('apple')\n",
    "s_1\n",
    "s_1.update([1,2],['dfsdd','dsada'])\n",
    "s_1"
   ]
  },
  {
   "cell_type": "code",
   "execution_count": 58,
   "id": "wrapped-disease",
   "metadata": {},
   "outputs": [
    {
     "data": {
      "text/plain": [
       "{1, 2, 'banana', 'dfsdd', 'dsada', 'orange', 'pear'}"
      ]
     },
     "execution_count": 58,
     "metadata": {},
     "output_type": "execute_result"
    }
   ],
   "source": [
    "s_1.remove('apple')\n",
    "s_1"
   ]
  },
  {
   "cell_type": "code",
   "execution_count": 59,
   "id": "possible-recognition",
   "metadata": {},
   "outputs": [
    {
     "data": {
      "text/plain": [
       "{1, 2, 'banana', 'dfsdd', 'dsada', 'orange'}"
      ]
     },
     "execution_count": 59,
     "metadata": {},
     "output_type": "execute_result"
    }
   ],
   "source": [
    "s_1.discard('pear')\n",
    "s_1"
   ]
  },
  {
   "cell_type": "code",
   "execution_count": 60,
   "id": "radio-wilderness",
   "metadata": {},
   "outputs": [
    {
     "name": "stdout",
     "output_type": "stream",
     "text": [
      "1\n",
      "{2, 'orange', 'dfsdd', 'banana', 'dsada'}\n"
     ]
    }
   ],
   "source": [
    "'apple' in s_1\n",
    "'pear' in s_1\n",
    "\n",
    "# s_1.remove('apple')\n",
    "s_1.discard('apple')\n",
    "\n",
    "s_pop = s_1.pop()\n",
    "print(s_pop)\n",
    "print(s_1)"
   ]
  },
  {
   "cell_type": "code",
   "execution_count": 61,
   "id": "saving-alcohol",
   "metadata": {},
   "outputs": [
    {
     "name": "stdout",
     "output_type": "stream",
     "text": [
      "{2, 'orange', 'dfsdd', 'banana', 'dsada'}\n",
      "2\n",
      "{'orange', 'dfsdd', 'banana', 'dsada'}\n",
      "{2, 'orange', 'dfsdd', 'banana', 'dsada'}\n",
      "********************\n",
      "{2, 'orange', 'dfsdd', 'banana', 'dsada'}\n",
      "orange\n",
      "{2, 'dfsdd', 'banana', 'dsada'}\n",
      "{2, 'orange', 'dfsdd', 'banana', 'dsada'}\n",
      "********************\n",
      "{2, 'orange', 'dfsdd', 'banana', 'dsada'}\n",
      "dfsdd\n",
      "{2, 'orange', 'banana', 'dsada'}\n",
      "{'dfsdd', 2, 'orange', 'banana', 'dsada'}\n",
      "********************\n",
      "{'dfsdd', 2, 'orange', 'banana', 'dsada'}\n",
      "banana\n",
      "{'dfsdd', 2, 'orange', 'dsada'}\n",
      "{'dfsdd', 2, 'orange', 'banana', 'dsada'}\n",
      "********************\n",
      "{'dfsdd', 2, 'orange', 'banana', 'dsada'}\n",
      "dsada\n",
      "{'dfsdd', 2, 'orange', 'banana'}\n",
      "{'dfsdd', 2, 'orange', 'banana', 'dsada'}\n",
      "********************\n"
     ]
    }
   ],
   "source": [
    "for i in range(5):\n",
    "    print(s_1)\n",
    "    s_pop = s_1.pop()\n",
    "    print(s_pop)\n",
    "    print(s_1)\n",
    "    s_1.add(s_pop)\n",
    "    print(s_1)\n",
    "    print('*'*20)"
   ]
  },
  {
   "cell_type": "code",
   "execution_count": 62,
   "id": "extreme-coverage",
   "metadata": {},
   "outputs": [
    {
     "data": {
      "text/plain": [
       "[1, 3, 'apple', 12.3, 'apple', 0.001, 'apple', 1, 2]"
      ]
     },
     "execution_count": 62,
     "metadata": {},
     "output_type": "execute_result"
    }
   ],
   "source": [
    "ls_3 = [1,3,'apple',12.3,'apple',0.001,'apple',1,2]\n",
    "ls_3"
   ]
  },
  {
   "cell_type": "code",
   "execution_count": 63,
   "id": "distributed-vehicle",
   "metadata": {},
   "outputs": [
    {
     "name": "stdout",
     "output_type": "stream",
     "text": [
      "1\n",
      "3\n",
      "apple\n",
      "12.3\n",
      "apple\n",
      "0.001\n",
      "apple\n",
      "1\n",
      "2\n"
     ]
    }
   ],
   "source": [
    "for i in ls_3:\n",
    "    print(i)"
   ]
  },
  {
   "cell_type": "code",
   "execution_count": 64,
   "id": "happy-moldova",
   "metadata": {},
   "outputs": [
    {
     "name": "stdout",
     "output_type": "stream",
     "text": [
      "0\n",
      "1\n",
      "2\n",
      "3\n",
      "4\n"
     ]
    }
   ],
   "source": [
    "i = 0\n",
    "while i<5:\n",
    "    print(i)\n",
    "    i+=1"
   ]
  },
  {
   "cell_type": "code",
   "execution_count": 65,
   "id": "streaming-philadelphia",
   "metadata": {},
   "outputs": [
    {
     "name": "stdout",
     "output_type": "stream",
     "text": [
      "1\n",
      "3\n",
      "5\n",
      "7\n",
      "9\n"
     ]
    }
   ],
   "source": [
    "# range(start, end, setp=1)\n",
    "for i in range(1, 10, 2):\n",
    "    print(i)"
   ]
  },
  {
   "cell_type": "code",
   "execution_count": 1,
   "id": "plastic-football",
   "metadata": {},
   "outputs": [
    {
     "data": {
      "text/plain": [
       "[0, 1, 2, 3, 4, 5, 6, 7, 8, 9]"
      ]
     },
     "execution_count": 1,
     "metadata": {},
     "output_type": "execute_result"
    }
   ],
   "source": [
    "list(range(1,10,2))\n",
    "list(range(10))"
   ]
  },
  {
   "cell_type": "code",
   "execution_count": 4,
   "id": "dedicated-arizona",
   "metadata": {},
   "outputs": [
    {
     "name": "stdout",
     "output_type": "stream",
     "text": [
      "[0, 1, 2, 3, 4, 5, 6, 7, 8, 9]\n",
      "0\n",
      "1\n"
     ]
    }
   ],
   "source": [
    "ourlist = list(range(10))\n",
    "it = iter(ourlist)\n",
    "print(ourlist)\n",
    "print(next(it))\n",
    "print(next(it))"
   ]
  },
  {
   "cell_type": "code",
   "execution_count": 10,
   "id": "insured-phase",
   "metadata": {},
   "outputs": [
    {
     "data": {
      "text/plain": [
       "45.56"
      ]
     },
     "execution_count": 10,
     "metadata": {},
     "output_type": "execute_result"
    }
   ],
   "source": [
    "mylist = [123,'xyz',45.56]\n",
    "i = iter(mylist)\n",
    "next(i)\n",
    "next(i)\n",
    "next(i)"
   ]
  },
  {
   "cell_type": "code",
   "execution_count": 13,
   "id": "speaking-nitrogen",
   "metadata": {},
   "outputs": [
    {
     "data": {
      "text/plain": [
       "('lilei', 25)"
      ]
     },
     "execution_count": 13,
     "metadata": {},
     "output_type": "execute_result"
    }
   ],
   "source": [
    "names = ['lilei','hanmeimei']\n",
    "ages = [25,24]\n",
    "zip(names, ages)\n",
    "list(zip(names, ages))\n",
    "i = iter(zip(names, ages))\n",
    "next(i)"
   ]
  },
  {
   "cell_type": "code",
   "execution_count": 14,
   "id": "alive-george",
   "metadata": {},
   "outputs": [
    {
     "data": {
      "text/plain": [
       "{'lilei': 25, 'hanmeimei': 24}"
      ]
     },
     "execution_count": 14,
     "metadata": {},
     "output_type": "execute_result"
    }
   ],
   "source": [
    "dict(zip(names, ages))"
   ]
  },
  {
   "cell_type": "code",
   "execution_count": 15,
   "id": "undefined-intervention",
   "metadata": {},
   "outputs": [
    {
     "name": "stdin",
     "output_type": "stream",
     "text": [
      "请输入一个年份:  1999\n"
     ]
    },
    {
     "name": "stdout",
     "output_type": "stream",
     "text": [
      "1999不是函数\n"
     ]
    }
   ],
   "source": [
    "year = int(input('请输入一个年份: '))\n",
    "if (year % 4) == 0 and (year % 100) != 0 or (year % 400) == 0:\n",
    "    print(f\"{year}是闰年\")\n",
    "else:\n",
    "    print(f'{year}不是闰年')"
   ]
  },
  {
   "cell_type": "code",
   "execution_count": 16,
   "id": "convertible-condition",
   "metadata": {},
   "outputs": [],
   "source": [
    "def isleap(year):\n",
    "    if (year % 4) == 0 and (year % 100) != 0 or (year % 400) == 0:\n",
    "        print(f\"{year}是闰年\")\n",
    "    else:\n",
    "        print(f'{year}不是闰年')"
   ]
  },
  {
   "cell_type": "code",
   "execution_count": 21,
   "id": "happy-baseball",
   "metadata": {},
   "outputs": [
    {
     "name": "stdout",
     "output_type": "stream",
     "text": [
      "10000是闰年\n"
     ]
    }
   ],
   "source": [
    "isleap(10000)"
   ]
  },
  {
   "cell_type": "code",
   "execution_count": 22,
   "id": "facial-hepatitis",
   "metadata": {},
   "outputs": [],
   "source": [
    "def my_add(x,y):\n",
    "    return x+y"
   ]
  },
  {
   "cell_type": "code",
   "execution_count": 23,
   "id": "respective-stupid",
   "metadata": {},
   "outputs": [
    {
     "data": {
      "text/plain": [
       "15"
      ]
     },
     "execution_count": 23,
     "metadata": {},
     "output_type": "execute_result"
    }
   ],
   "source": [
    "my_add(7,8)"
   ]
  },
  {
   "cell_type": "code",
   "execution_count": 24,
   "id": "billion-conference",
   "metadata": {},
   "outputs": [],
   "source": [
    "def isleap(year):\n",
    "    if (year % 4) == 0 and (year % 100) != 0 or (year % 400) == 0:\n",
    "        print(f\"{year}是闰年\")\n",
    "    else:\n",
    "        print(f'{year}不是闰年')"
   ]
  },
  {
   "cell_type": "code",
   "execution_count": 27,
   "id": "conceptual-villa",
   "metadata": {},
   "outputs": [
    {
     "name": "stdout",
     "output_type": "stream",
     "text": [
      "2019不是闰年\n",
      "None\n"
     ]
    }
   ],
   "source": [
    "res = isleap(2019)\n",
    "print(res)"
   ]
  },
  {
   "cell_type": "code",
   "execution_count": 61,
   "id": "agreed-tongue",
   "metadata": {},
   "outputs": [],
   "source": [
    "def my_print(x):\n",
    "#     import pdb; pdb.set_trace()\n",
    "    if x>2:\n",
    "        return\n",
    "    print('那你看看！')"
   ]
  },
  {
   "cell_type": "code",
   "execution_count": 35,
   "id": "aggressive-nothing",
   "metadata": {},
   "outputs": [],
   "source": [
    "my_print(3)"
   ]
  },
  {
   "cell_type": "code",
   "execution_count": 30,
   "id": "damaged-tobacco",
   "metadata": {},
   "outputs": [
    {
     "name": "stdout",
     "output_type": "stream",
     "text": [
      "那你看看！\n"
     ]
    }
   ],
   "source": [
    "my_print(1)"
   ]
  },
  {
   "cell_type": "code",
   "execution_count": 36,
   "id": "further-cricket",
   "metadata": {},
   "outputs": [],
   "source": [
    "def my_print(x):\n",
    "    x = 10\n",
    "    print(x)"
   ]
  },
  {
   "cell_type": "code",
   "execution_count": 37,
   "id": "dried-overall",
   "metadata": {},
   "outputs": [
    {
     "name": "stdout",
     "output_type": "stream",
     "text": [
      "10\n"
     ]
    }
   ],
   "source": [
    "a = 2\n",
    "my_print(a)"
   ]
  },
  {
   "cell_type": "code",
   "execution_count": 38,
   "id": "central-third",
   "metadata": {},
   "outputs": [
    {
     "name": "stdout",
     "output_type": "stream",
     "text": [
      "2\n"
     ]
    }
   ],
   "source": [
    "print(a)"
   ]
  },
  {
   "cell_type": "code",
   "execution_count": 39,
   "id": "stylish-galaxy",
   "metadata": {},
   "outputs": [],
   "source": [
    "def my_change_list(ls):\n",
    "    ls.append('apple')\n",
    "    print(ls)"
   ]
  },
  {
   "cell_type": "code",
   "execution_count": 40,
   "id": "wanted-michigan",
   "metadata": {},
   "outputs": [
    {
     "name": "stdout",
     "output_type": "stream",
     "text": [
      "[0, 1, 2, 3, 4]\n"
     ]
    }
   ],
   "source": [
    "ls_1 = list(range(5))\n",
    "print(ls_1)"
   ]
  },
  {
   "cell_type": "code",
   "execution_count": 42,
   "id": "commercial-venue",
   "metadata": {},
   "outputs": [
    {
     "name": "stdout",
     "output_type": "stream",
     "text": [
      "[0, 1, 2, 3, 4, 'apple']\n"
     ]
    }
   ],
   "source": [
    "my_change_list(ls_1)"
   ]
  },
  {
   "cell_type": "code",
   "execution_count": 43,
   "id": "alpine-chocolate",
   "metadata": {},
   "outputs": [
    {
     "name": "stdout",
     "output_type": "stream",
     "text": [
      "[0, 1, 2, 3, 4, 'apple']\n"
     ]
    }
   ],
   "source": [
    "print(ls_1)"
   ]
  },
  {
   "cell_type": "code",
   "execution_count": 44,
   "id": "perceived-moldova",
   "metadata": {},
   "outputs": [],
   "source": [
    "def my_division(x,y):\n",
    "    return x/y"
   ]
  },
  {
   "cell_type": "code",
   "execution_count": 45,
   "id": "cooperative-apparatus",
   "metadata": {},
   "outputs": [
    {
     "data": {
      "text/plain": [
       "0.5"
      ]
     },
     "execution_count": 45,
     "metadata": {},
     "output_type": "execute_result"
    }
   ],
   "source": [
    "my_division(1,2)"
   ]
  },
  {
   "cell_type": "code",
   "execution_count": 46,
   "id": "regulation-dominant",
   "metadata": {},
   "outputs": [
    {
     "data": {
      "text/plain": [
       "2.0"
      ]
     },
     "execution_count": 46,
     "metadata": {},
     "output_type": "execute_result"
    }
   ],
   "source": [
    "my_division(2,1)"
   ]
  },
  {
   "cell_type": "code",
   "execution_count": 47,
   "id": "photographic-merit",
   "metadata": {},
   "outputs": [
    {
     "ename": "TypeError",
     "evalue": "my_division() missing 1 required positional argument: 'y'",
     "output_type": "error",
     "traceback": [
      "\u001b[0;31m---------------------------------------------------------------------------\u001b[0m",
      "\u001b[0;31mTypeError\u001b[0m                                 Traceback (most recent call last)",
      "\u001b[0;32m<ipython-input-47-27a58249e8c5>\u001b[0m in \u001b[0;36m<module>\u001b[0;34m\u001b[0m\n\u001b[0;32m----> 1\u001b[0;31m \u001b[0mmy_division\u001b[0m\u001b[0;34m(\u001b[0m\u001b[0;36m1\u001b[0m\u001b[0;34m)\u001b[0m\u001b[0;34m\u001b[0m\u001b[0;34m\u001b[0m\u001b[0m\n\u001b[0m",
      "\u001b[0;31mTypeError\u001b[0m: my_division() missing 1 required positional argument: 'y'"
     ]
    }
   ],
   "source": [
    "my_division(1)"
   ]
  },
  {
   "cell_type": "code",
   "execution_count": 48,
   "id": "understood-tonight",
   "metadata": {},
   "outputs": [
    {
     "ename": "TypeError",
     "evalue": "my_division() takes 2 positional arguments but 3 were given",
     "output_type": "error",
     "traceback": [
      "\u001b[0;31m---------------------------------------------------------------------------\u001b[0m",
      "\u001b[0;31mTypeError\u001b[0m                                 Traceback (most recent call last)",
      "\u001b[0;32m<ipython-input-48-3df1e355dad5>\u001b[0m in \u001b[0;36m<module>\u001b[0;34m\u001b[0m\n\u001b[0;32m----> 1\u001b[0;31m \u001b[0mmy_division\u001b[0m\u001b[0;34m(\u001b[0m\u001b[0;36m1\u001b[0m\u001b[0;34m,\u001b[0m\u001b[0;36m2\u001b[0m\u001b[0;34m,\u001b[0m\u001b[0;36m3\u001b[0m\u001b[0;34m)\u001b[0m\u001b[0;34m\u001b[0m\u001b[0;34m\u001b[0m\u001b[0m\n\u001b[0m",
      "\u001b[0;31mTypeError\u001b[0m: my_division() takes 2 positional arguments but 3 were given"
     ]
    }
   ],
   "source": [
    "my_division(1,2,3)"
   ]
  },
  {
   "cell_type": "code",
   "execution_count": 50,
   "id": "specific-bobby",
   "metadata": {},
   "outputs": [
    {
     "name": "stdout",
     "output_type": "stream",
     "text": [
      "0.5\n",
      "0.5\n"
     ]
    }
   ],
   "source": [
    "print(my_division(1,2))\n",
    "print(my_division(y = 2, x = 1))"
   ]
  },
  {
   "cell_type": "code",
   "execution_count": 51,
   "id": "steady-morris",
   "metadata": {},
   "outputs": [],
   "source": [
    "def my_division2(x, y=3):\n",
    "    return x/y"
   ]
  },
  {
   "cell_type": "code",
   "execution_count": 52,
   "id": "heard-honolulu",
   "metadata": {},
   "outputs": [
    {
     "data": {
      "text/plain": [
       "0.3333333333333333"
      ]
     },
     "execution_count": 52,
     "metadata": {},
     "output_type": "execute_result"
    }
   ],
   "source": [
    "my_division2(1) # 没传默认参数"
   ]
  },
  {
   "cell_type": "code",
   "execution_count": 53,
   "id": "cellular-trader",
   "metadata": {},
   "outputs": [
    {
     "data": {
      "text/plain": [
       "0.5"
      ]
     },
     "execution_count": 53,
     "metadata": {},
     "output_type": "execute_result"
    }
   ],
   "source": [
    "my_division2(1,2) # 传入其他参数"
   ]
  },
  {
   "cell_type": "code",
   "execution_count": 54,
   "id": "bound-supervision",
   "metadata": {},
   "outputs": [
    {
     "data": {
      "text/plain": [
       "[0, 1, 2, 3, 4, 5, 6, 7, 8, 9]"
      ]
     },
     "execution_count": 54,
     "metadata": {},
     "output_type": "execute_result"
    }
   ],
   "source": [
    "list(range(10))"
   ]
  },
  {
   "cell_type": "code",
   "execution_count": 55,
   "id": "strategic-negotiation",
   "metadata": {},
   "outputs": [
    {
     "name": "stdout",
     "output_type": "stream",
     "text": [
      "Help on class range in module builtins:\n",
      "\n",
      "class range(object)\n",
      " |  range(stop) -> range object\n",
      " |  range(start, stop[, step]) -> range object\n",
      " |  \n",
      " |  Return an object that produces a sequence of integers from start (inclusive)\n",
      " |  to stop (exclusive) by step.  range(i, j) produces i, i+1, i+2, ..., j-1.\n",
      " |  start defaults to 0, and stop is omitted!  range(4) produces 0, 1, 2, 3.\n",
      " |  These are exactly the valid indices for a list of 4 elements.\n",
      " |  When step is given, it specifies the increment (or decrement).\n",
      " |  \n",
      " |  Methods defined here:\n",
      " |  \n",
      " |  __bool__(self, /)\n",
      " |      self != 0\n",
      " |  \n",
      " |  __contains__(self, key, /)\n",
      " |      Return key in self.\n",
      " |  \n",
      " |  __eq__(self, value, /)\n",
      " |      Return self==value.\n",
      " |  \n",
      " |  __ge__(self, value, /)\n",
      " |      Return self>=value.\n",
      " |  \n",
      " |  __getattribute__(self, name, /)\n",
      " |      Return getattr(self, name).\n",
      " |  \n",
      " |  __getitem__(self, key, /)\n",
      " |      Return self[key].\n",
      " |  \n",
      " |  __gt__(self, value, /)\n",
      " |      Return self>value.\n",
      " |  \n",
      " |  __hash__(self, /)\n",
      " |      Return hash(self).\n",
      " |  \n",
      " |  __iter__(self, /)\n",
      " |      Implement iter(self).\n",
      " |  \n",
      " |  __le__(self, value, /)\n",
      " |      Return self<=value.\n",
      " |  \n",
      " |  __len__(self, /)\n",
      " |      Return len(self).\n",
      " |  \n",
      " |  __lt__(self, value, /)\n",
      " |      Return self<value.\n",
      " |  \n",
      " |  __ne__(self, value, /)\n",
      " |      Return self!=value.\n",
      " |  \n",
      " |  __reduce__(...)\n",
      " |      Helper for pickle.\n",
      " |  \n",
      " |  __repr__(self, /)\n",
      " |      Return repr(self).\n",
      " |  \n",
      " |  __reversed__(...)\n",
      " |      Return a reverse iterator.\n",
      " |  \n",
      " |  count(...)\n",
      " |      rangeobject.count(value) -> integer -- return number of occurrences of value\n",
      " |  \n",
      " |  index(...)\n",
      " |      rangeobject.index(value) -> integer -- return index of value.\n",
      " |      Raise ValueError if the value is not present.\n",
      " |  \n",
      " |  ----------------------------------------------------------------------\n",
      " |  Static methods defined here:\n",
      " |  \n",
      " |  __new__(*args, **kwargs) from builtins.type\n",
      " |      Create and return a new object.  See help(type) for accurate signature.\n",
      " |  \n",
      " |  ----------------------------------------------------------------------\n",
      " |  Data descriptors defined here:\n",
      " |  \n",
      " |  start\n",
      " |  \n",
      " |  step\n",
      " |  \n",
      " |  stop\n",
      "\n"
     ]
    }
   ],
   "source": [
    "help(range)"
   ]
  },
  {
   "cell_type": "code",
   "execution_count": 56,
   "id": "atmospheric-plenty",
   "metadata": {},
   "outputs": [
    {
     "data": {
      "text/plain": [
       "[2, 3, 4, 5, 6, 7, 8, 9]"
      ]
     },
     "execution_count": 56,
     "metadata": {},
     "output_type": "execute_result"
    }
   ],
   "source": [
    "list(range(2,10))"
   ]
  },
  {
   "cell_type": "code",
   "execution_count": 57,
   "id": "accurate-findings",
   "metadata": {},
   "outputs": [
    {
     "data": {
      "text/plain": [
       "[3, 5, 7, 9]"
      ]
     },
     "execution_count": 57,
     "metadata": {},
     "output_type": "execute_result"
    }
   ],
   "source": [
    "list(range(3,10,2))"
   ]
  },
  {
   "cell_type": "code",
   "execution_count": 63,
   "id": "entertaining-trustee",
   "metadata": {},
   "outputs": [],
   "source": [
    "def my_print2(x, *y, **z):\n",
    "    print(f'x:{x}',type(x))\n",
    "    print(f'x:{y}',type(y))\n",
    "    print(f'x:{z}',type(z))    "
   ]
  },
  {
   "cell_type": "code",
   "execution_count": 64,
   "id": "preceding-cooking",
   "metadata": {},
   "outputs": [
    {
     "name": "stdout",
     "output_type": "stream",
     "text": [
      "x:1 <class 'int'>\n",
      "x:(2, 3, 'sd', 55, 'sdfdsa') <class 'tuple'>\n",
      "x:{} <class 'dict'>\n"
     ]
    }
   ],
   "source": [
    "my_print2(1,2,3,'sd',55,'sdfdsa')"
   ]
  },
  {
   "cell_type": "code",
   "execution_count": 65,
   "id": "agreed-brooks",
   "metadata": {},
   "outputs": [
    {
     "name": "stdout",
     "output_type": "stream",
     "text": [
      "x:1 <class 'int'>\n",
      "x:(2, 3, 'ttt', 'sdaf') <class 'tuple'>\n",
      "x:{'name': 'jack', 'year': 15} <class 'dict'>\n"
     ]
    }
   ],
   "source": [
    "my_print2(1,2,3,'ttt','sdaf',name='jack',year=15)"
   ]
  },
  {
   "cell_type": "code",
   "execution_count": 66,
   "id": "stock-retailer",
   "metadata": {},
   "outputs": [],
   "source": [
    "def my_division(x,y):\n",
    "    result = x/y\n",
    "    return result"
   ]
  },
  {
   "cell_type": "code",
   "execution_count": 67,
   "id": "designing-adelaide",
   "metadata": {},
   "outputs": [
    {
     "data": {
      "text/plain": [
       "0.5"
      ]
     },
     "execution_count": 67,
     "metadata": {},
     "output_type": "execute_result"
    }
   ],
   "source": [
    "my_division(1,2)"
   ]
  },
  {
   "cell_type": "code",
   "execution_count": 68,
   "id": "nuclear-tutorial",
   "metadata": {},
   "outputs": [],
   "source": [
    "a = my_division(1,2)"
   ]
  },
  {
   "cell_type": "code",
   "execution_count": 69,
   "id": "traditional-lender",
   "metadata": {},
   "outputs": [
    {
     "name": "stdout",
     "output_type": "stream",
     "text": [
      "0.5\n"
     ]
    },
    {
     "ename": "NameError",
     "evalue": "name 'result' is not defined",
     "output_type": "error",
     "traceback": [
      "\u001b[0;31m---------------------------------------------------------------------------\u001b[0m",
      "\u001b[0;31mNameError\u001b[0m                                 Traceback (most recent call last)",
      "\u001b[0;32m<ipython-input-69-b85b2e6f70e3>\u001b[0m in \u001b[0;36m<module>\u001b[0;34m\u001b[0m\n\u001b[1;32m      1\u001b[0m \u001b[0mprint\u001b[0m\u001b[0;34m(\u001b[0m\u001b[0ma\u001b[0m\u001b[0;34m)\u001b[0m\u001b[0;34m\u001b[0m\u001b[0;34m\u001b[0m\u001b[0m\n\u001b[0;32m----> 2\u001b[0;31m \u001b[0mprint\u001b[0m\u001b[0;34m(\u001b[0m\u001b[0mresult\u001b[0m\u001b[0;34m)\u001b[0m\u001b[0;34m\u001b[0m\u001b[0;34m\u001b[0m\u001b[0m\n\u001b[0m",
      "\u001b[0;31mNameError\u001b[0m: name 'result' is not defined"
     ]
    }
   ],
   "source": [
    "print(a)\n",
    "print(result)"
   ]
  },
  {
   "cell_type": "code",
   "execution_count": 77,
   "id": "chinese-lodging",
   "metadata": {},
   "outputs": [],
   "source": [
    "def my_division(x,y):\n",
    "    global result\n",
    "    result = x/y\n",
    "    return result"
   ]
  },
  {
   "cell_type": "code",
   "execution_count": 78,
   "id": "african-kuwait",
   "metadata": {},
   "outputs": [],
   "source": [
    "a = my_division(1,2)"
   ]
  },
  {
   "cell_type": "code",
   "execution_count": 79,
   "id": "primary-arthritis",
   "metadata": {},
   "outputs": [
    {
     "name": "stdout",
     "output_type": "stream",
     "text": [
      "0.5\n",
      "0.5\n"
     ]
    }
   ],
   "source": [
    "print(a)\n",
    "print(result)"
   ]
  },
  {
   "cell_type": "code",
   "execution_count": 80,
   "id": "minor-classroom",
   "metadata": {},
   "outputs": [],
   "source": [
    "liufeng = {'name':'刘封','country':'蜀','hp':4,'damage':2}\n",
    "ganning = {'name':'甘宁','country':'吴', 'hp':4,'damage':2}\n",
    "zhuangchunhua = {'name':'张春华','country':'魏','hp':3,'damage':1}"
   ]
  },
  {
   "cell_type": "code",
   "execution_count": 97,
   "id": "roman-arnold",
   "metadata": {},
   "outputs": [],
   "source": [
    "class People_0:\n",
    "    def inf(self, name, hp, damage):\n",
    "        self.name = name\n",
    "        self.hp = hp\n",
    "        self.damage = damage"
   ]
  },
  {
   "cell_type": "code",
   "execution_count": 98,
   "id": "mexican-clearing",
   "metadata": {},
   "outputs": [],
   "source": [
    "p0 = People_0()\n",
    "p0.inf('jack', 5, 2)"
   ]
  },
  {
   "cell_type": "code",
   "execution_count": 90,
   "id": "lonely-missouri",
   "metadata": {},
   "outputs": [
    {
     "data": {
      "text/plain": [
       "'jack'"
      ]
     },
     "execution_count": 90,
     "metadata": {},
     "output_type": "execute_result"
    }
   ],
   "source": [
    "p0.name"
   ]
  },
  {
   "cell_type": "code",
   "execution_count": 3,
   "id": "cardiac-waste",
   "metadata": {},
   "outputs": [],
   "source": [
    "class People:\n",
    "    def __init__(self, name, hp, damage):\n",
    "        self.name = name\n",
    "        self.hp = hp\n",
    "        self.damage = damage"
   ]
  },
  {
   "cell_type": "code",
   "execution_count": null,
   "id": "touched-shareware",
   "metadata": {},
   "outputs": [],
   "source": [
    "p1 = People('du',4,2)"
   ]
  },
  {
   "cell_type": "code",
   "execution_count": null,
   "id": "fifteen-wright",
   "metadata": {},
   "outputs": [],
   "source": [
    "p1.name"
   ]
  },
  {
   "cell_type": "code",
   "execution_count": null,
   "id": "printable-floating",
   "metadata": {},
   "outputs": [],
   "source": [
    "class Hero(People):\n",
    "    def __init__(self,name,hp,damage,country):\n",
    "        People.__init__(self,name,hp,damage)\n",
    "        self.country = country"
   ]
  },
  {
   "cell_type": "code",
   "execution_count": null,
   "id": "changing-spank",
   "metadata": {},
   "outputs": [],
   "source": [
    "p2 = Hero('du',4,0,'china')\n",
    "p2.country"
   ]
  },
  {
   "cell_type": "code",
   "execution_count": 4,
   "id": "qualified-paste",
   "metadata": {},
   "outputs": [],
   "source": [
    "class Hero(People):\n",
    "    def __init__(self, name, hp, damage, country):\n",
    "        People.__init__(self,name,hp,damage)\n",
    "        self.country = country\n",
    "        print(self.hp)\n",
    "    \n",
    "    def get_inf(self): # 不要忘记self\n",
    "        '''获取实例信息'''\n",
    "        print(f'姓名:{self.name}')\n",
    "        print(f'攻击力:{self.damage}')\n",
    "        print(f'当前血量:{self.hp}')\n",
    "        print(f'国家:{self.country}')\n",
    "        "
   ]
  },
  {
   "cell_type": "code",
   "execution_count": 18,
   "id": "legislative-mauritius",
   "metadata": {},
   "outputs": [
    {
     "data": {
      "text/plain": [
       "0.5"
      ]
     },
     "execution_count": 18,
     "metadata": {},
     "output_type": "execute_result"
    }
   ],
   "source": [
    "import division as ds\n",
    "ds.my_division3(1,2)"
   ]
  },
  {
   "cell_type": "code",
   "execution_count": 1,
   "id": "adopted-turtle",
   "metadata": {},
   "outputs": [],
   "source": [
    "import Weapon as wp"
   ]
  },
  {
   "cell_type": "code",
   "execution_count": 5,
   "id": "dirty-procedure",
   "metadata": {},
   "outputs": [],
   "source": [
    "dao = wp.Weapon('圆月弯刀',2)"
   ]
  },
  {
   "cell_type": "code",
   "execution_count": 6,
   "id": "aggregate-treasurer",
   "metadata": {},
   "outputs": [
    {
     "name": "stdout",
     "output_type": "stream",
     "text": [
      "4\n",
      "4\n"
     ]
    }
   ],
   "source": [
    "ganning = Hero('甘宁',4, 2,'吴')\n",
    "liufeng = Hero('刘封',4, 1,'蜀')"
   ]
  },
  {
   "cell_type": "code",
   "execution_count": 7,
   "id": "ceramic-charleston",
   "metadata": {},
   "outputs": [
    {
     "name": "stdout",
     "output_type": "stream",
     "text": [
      "姓名:甘宁\n",
      "攻击力:2\n",
      "当前血量:4\n",
      "国家:吴\n",
      "********************\n",
      "将武器圆月弯刀装备给英雄甘宁\n",
      "甘宁的攻击力变为4\n",
      "********************\n",
      "姓名:甘宁\n",
      "攻击力:4\n",
      "当前血量:4\n",
      "国家:吴\n"
     ]
    }
   ],
   "source": [
    "# 查看甘宁属性\n",
    "ganning.get_inf()\n",
    "print('*'*20)\n",
    "# 武器装备给甘宁\n",
    "dao.take_weapon(ganning)\n",
    "# 查看甘宁装备武器后的属性\n",
    "print('*'*20)\n",
    "ganning.get_inf()"
   ]
  },
  {
   "cell_type": "code",
   "execution_count": null,
   "id": "higher-sussex",
   "metadata": {},
   "outputs": [],
   "source": []
  }
 ],
 "metadata": {
  "kernelspec": {
   "display_name": "Python 3",
   "language": "python",
   "name": "python3"
  },
  "language_info": {
   "codemirror_mode": {
    "name": "ipython",
    "version": 3
   },
   "file_extension": ".py",
   "mimetype": "text/x-python",
   "name": "python",
   "nbconvert_exporter": "python",
   "pygments_lexer": "ipython3",
   "version": "3.8.3"
  }
 },
 "nbformat": 4,
 "nbformat_minor": 5
}
