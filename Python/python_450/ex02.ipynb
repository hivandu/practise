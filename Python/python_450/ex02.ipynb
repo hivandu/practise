{
 "cells": [
  {
   "cell_type": "markdown",
   "source": [
    "# list 内元素类型要求一致吗？\n",
    "list 不要求元素类型一致，如下列表 lst 内元素类型有3种："
   ],
   "metadata": {}
  },
  {
   "cell_type": "code",
   "execution_count": 2,
   "source": [
    "lst = [1, 'xiaoming', 29.5, '17312662378']\n",
    "\n",
    "for _ in lst:\n",
    "    print(f'{_}类型为{type(_)}')"
   ],
   "outputs": [
    {
     "output_type": "stream",
     "name": "stdout",
     "text": [
      "1类型为<class 'int'>\n",
      "xiaoming类型为<class 'str'>\n",
      "29.5类型为<class 'float'>\n",
      "17312662378类型为<class 'str'>\n"
     ]
    }
   ],
   "metadata": {}
  },
  {
   "cell_type": "markdown",
   "source": [
    "# list 对象怎样实现增加、删除元素？\n",
    "使用 append 方法增加一个元素到列表最后："
   ],
   "metadata": {}
  },
  {
   "cell_type": "code",
   "execution_count": 4,
   "source": [
    "lst2 = ['001', '2021-10-17',['三文鱼', '电烤箱']]\n",
    "sku = lst2[2] # sku又是一个列表\n",
    "sku.append('烤鸭')\n",
    "print(sku)"
   ],
   "outputs": [
    {
     "output_type": "stream",
     "name": "stdout",
     "text": [
      "['三文鱼', '电烤箱', '烤鸭']\n"
     ]
    }
   ],
   "metadata": {}
  },
  {
   "cell_type": "markdown",
   "source": [
    "使用 insert 方法插入指定元素到指定索引处。\n",
    "\n",
    "使用 remove 方法删除元素："
   ],
   "metadata": {}
  },
  {
   "cell_type": "code",
   "execution_count": 5,
   "source": [
    "sku.remove('三文鱼')\n",
    "sku"
   ],
   "outputs": [
    {
     "output_type": "execute_result",
     "data": {
      "text/plain": [
       "['电烤箱', '烤鸭']"
      ]
     },
     "metadata": {},
     "execution_count": 5
    }
   ],
   "metadata": {}
  },
  {
   "cell_type": "markdown",
   "source": [
    "pop方法默认删除列表最后一个元素:"
   ],
   "metadata": {}
  },
  {
   "cell_type": "code",
   "execution_count": 7,
   "source": [
    "sku.pop()"
   ],
   "outputs": [
    {
     "output_type": "execute_result",
     "data": {
      "text/plain": [
       "'烤鸭'"
      ]
     },
     "metadata": {},
     "execution_count": 7
    }
   ],
   "metadata": {}
  },
  {
   "cell_type": "markdown",
   "source": [
    "# a 为 list, 使用 a[:-1] 返回哪些元素？\n",
    "使用 a[:-1] 获取到除最后一个元素的切片"
   ],
   "metadata": {}
  },
  {
   "cell_type": "code",
   "execution_count": 8,
   "source": [
    "a = [1, 2, 3, 4, 5, 6]\n",
    "a[:-1]"
   ],
   "outputs": [
    {
     "output_type": "execute_result",
     "data": {
      "text/plain": [
       "[1, 2, 3, 4, 5]"
      ]
     },
     "metadata": {},
     "execution_count": 8
    }
   ],
   "metadata": {}
  },
  {
   "cell_type": "markdown",
   "source": [
    "# a 为 list, 使用 a[1:5:2] 返回哪些元素？\n",
    "使用 a[1:5:2] 生成索引 [1,5) 且步长为 2 的切片"
   ],
   "metadata": {}
  },
  {
   "cell_type": "code",
   "execution_count": 9,
   "source": [
    "a = [1, 2, 3, 4, 5, 6]\n",
    "a[1:5:2]"
   ],
   "outputs": [
    {
     "output_type": "execute_result",
     "data": {
      "text/plain": [
       "[2, 4]"
      ]
     },
     "metadata": {},
     "execution_count": 9
    }
   ],
   "metadata": {}
  },
  {
   "cell_type": "markdown",
   "source": [
    "# a 为 list, 使用 a[::-3] 返回哪些元素？\n",
    "生成逆向索引 [-1，-len(a))且步长为 3 的切片。"
   ],
   "metadata": {}
  },
  {
   "cell_type": "code",
   "execution_count": 10,
   "source": [
    "a = [1, 4, 7, 10, 13, 15, 19]\n",
    "a[::-3]"
   ],
   "outputs": [
    {
     "output_type": "execute_result",
     "data": {
      "text/plain": [
       "[19, 10, 1]"
      ]
     },
     "metadata": {},
     "execution_count": 10
    }
   ],
   "metadata": {}
  },
  {
   "cell_type": "markdown",
   "source": [
    "# 如何去掉最值求平均？\n",
    "去掉列表中的一个最小值和一个最大值后，计算剩余元素的平均值。"
   ],
   "metadata": {}
  },
  {
   "cell_type": "code",
   "execution_count": 11,
   "source": [
    "def score_mean(lst):\n",
    "    lst.sort()\n",
    "    lst2 = lst[1:-1]\n",
    "    return round((sum(lst2)/len(lst2)), 1)\n",
    "\n",
    "lst = [9.1, 9.0, 8.1, 9.7, 19, 8.2, 8.6, 9.8]\n",
    "score_mean(lst)"
   ],
   "outputs": [
    {
     "output_type": "execute_result",
     "data": {
      "text/plain": [
       "9.1"
      ]
     },
     "metadata": {},
     "execution_count": 11
    }
   ],
   "metadata": {}
  },
  {
   "cell_type": "markdown",
   "source": [
    "过程如下图:\n",
    "![](https://images.gitbook.cn/36297b60-51ff-11ea-a847-a5aa0d0597f8)"
   ],
   "metadata": {}
  },
  {
   "cell_type": "markdown",
   "source": [
    "# 如何打印出 99 乘法表"
   ],
   "metadata": {}
  },
  {
   "cell_type": "code",
   "execution_count": 16,
   "source": [
    "for i in range(1, 10):\n",
    "    for j in range(1, i+1):\n",
    "        print(f'{j}*{i}={i*j}', end='\\t')\n",
    "    print()"
   ],
   "outputs": [
    {
     "output_type": "stream",
     "name": "stdout",
     "text": [
      "1*1=1\t\n",
      "1*2=2\t2*2=4\t\n",
      "1*3=3\t2*3=6\t3*3=9\t\n",
      "1*4=4\t2*4=8\t3*4=12\t4*4=16\t\n",
      "1*5=5\t2*5=10\t3*5=15\t4*5=20\t5*5=25\t\n",
      "1*6=6\t2*6=12\t3*6=18\t4*6=24\t5*6=30\t6*6=36\t\n",
      "1*7=7\t2*7=14\t3*7=21\t4*7=28\t5*7=35\t6*7=42\t7*7=49\t\n",
      "1*8=8\t2*8=16\t3*8=24\t4*8=32\t5*8=40\t6*8=48\t7*8=56\t8*8=64\t\n",
      "1*9=9\t2*9=18\t3*9=27\t4*9=36\t5*9=45\t6*9=54\t7*9=63\t8*9=72\t9*9=81\t\n"
     ]
    }
   ],
   "metadata": {}
  },
  {
   "cell_type": "markdown",
   "source": [
    "# 判断 list 内有无重复元素\n",
    "`is_duplicated`，使用 list 封装的 count 方法，依次判断每个元素 x 在 list 内的出现次数。\n",
    "\n",
    "如果大于 1，则立即返回 True，表示有重复。\n",
    "\n",
    "如果完成遍历后，函数没返回，表明 list 内没有重复元素，返回 False"
   ],
   "metadata": {}
  },
  {
   "cell_type": "code",
   "execution_count": 18,
   "source": [
    "def is_duplicated(lst):\n",
    "    for x in lst:\n",
    "        if lst.count(x) > 1:\n",
    "            return True\n",
    "    return False\n",
    "\n",
    "a = [1, -2, 3, 4, 1, 2]\n",
    "is_duplicated(a)"
   ],
   "outputs": [
    {
     "output_type": "execute_result",
     "data": {
      "text/plain": [
       "True"
      ]
     },
     "metadata": {},
     "execution_count": 18
    }
   ],
   "metadata": {}
  },
  {
   "cell_type": "markdown",
   "source": [
    "以上方法实现不简洁，借助 set 判断更方便："
   ],
   "metadata": {}
  },
  {
   "cell_type": "code",
   "execution_count": 19,
   "source": [
    "def is_duplicated(lst):\n",
    "    return len(lst) != len(set(lst))\n",
    "\n",
    "a = [1, -2, 3, 4, 1, 2]\n",
    "is_duplicated(a)"
   ],
   "outputs": [
    {
     "output_type": "execute_result",
     "data": {
      "text/plain": [
       "True"
      ]
     },
     "metadata": {},
     "execution_count": 19
    }
   ],
   "metadata": {}
  },
  {
   "cell_type": "markdown",
   "source": [
    "# 列表反转\n",
    "一行代码实现列表反转，非常简洁。\n",
    "\n",
    "`[::-1]`，这是切片的操作。\n",
    "\n",
    "`[::-1]` 生成逆向索引（负号表示逆向），步长为 1 的切片。\n",
    "\n",
    "所以，最后一个元素一直数到第一个元素。这样，不正好实现列表反转吗。"
   ],
   "metadata": {}
  },
  {
   "cell_type": "code",
   "execution_count": 21,
   "source": [
    "def reverse(lst):\n",
    "    return lst[::-1]\n",
    "\n",
    "r = reverse([1, -2, 3, 4, 1, 2])\n",
    "r"
   ],
   "outputs": [
    {
     "output_type": "execute_result",
     "data": {
      "text/plain": [
       "[2, 1, 4, 3, -2, 1]"
      ]
     },
     "metadata": {},
     "execution_count": 21
    }
   ],
   "metadata": {}
  },
  {
   "cell_type": "markdown",
   "source": [
    "# 求表头\n",
    "返回列表的第一个元素\n",
    "\n",
    "注意，列表为空时，返回 `None`\n",
    "\n",
    "通过此例，学会使用`if` 和 `else`的这种简洁表达。"
   ],
   "metadata": {}
  },
  {
   "cell_type": "code",
   "execution_count": 23,
   "source": [
    "def head(lst):\n",
    "    return lst[0] if len(lst) > 0 else None\n",
    "\n",
    "print(head([]))\n",
    "print(head([3, 4, 1]))"
   ],
   "outputs": [
    {
     "output_type": "stream",
     "name": "stdout",
     "text": [
      "None\n",
      "3\n"
     ]
    }
   ],
   "metadata": {}
  },
  {
   "cell_type": "markdown",
   "source": [
    "# 求表尾\n",
    "求列表的最后一个元素，同样列表为空时，返回 `None`."
   ],
   "metadata": {}
  },
  {
   "cell_type": "code",
   "execution_count": 24,
   "source": [
    "def tail(lst):\n",
    "    return lst[-1] if len(lst) > 0 else None\n",
    "\n",
    "print(tail([]))\n",
    "print(tail([3, 4, 1]))"
   ],
   "outputs": [
    {
     "output_type": "stream",
     "name": "stdout",
     "text": [
      "None\n",
      "1\n"
     ]
    }
   ],
   "metadata": {}
  },
  {
   "cell_type": "markdown",
   "source": [
    "# 元素对\n",
    "`t[:-1]` , 原列表切掉最后一个元素；\n",
    "\n",
    "`t[1:]`, 原列表切掉第一个元素；\n",
    "\n",
    "`zip(iter1, iter2)`，实现 `iter1` 和 `iter2` 的对应索引处的元素拼接。"
   ],
   "metadata": {}
  },
  {
   "cell_type": "code",
   "execution_count": 26,
   "source": [
    "list(zip([1, 2], [2, 3]))"
   ],
   "outputs": [
    {
     "output_type": "execute_result",
     "data": {
      "text/plain": [
       "[(1, 2), (2, 3)]"
      ]
     },
     "metadata": {},
     "execution_count": 26
    }
   ],
   "metadata": {}
  },
  {
   "cell_type": "markdown",
   "source": [
    "理解上面，元素组对的实现就不难理解："
   ],
   "metadata": {}
  },
  {
   "cell_type": "code",
   "execution_count": 28,
   "source": [
    "def pair(t):\n",
    "    return list(zip(t[:-1], t[1:]))\n",
    "\n",
    "print(pair([1, 2, 3]))\n",
    "print(pair(range(10)))"
   ],
   "outputs": [
    {
     "output_type": "stream",
     "name": "stdout",
     "text": [
      "[(1, 2), (2, 3)]\n",
      "[(0, 1), (1, 2), (2, 3), (3, 4), (4, 5), (5, 6), (6, 7), (7, 8), (8, 9)]\n"
     ]
    }
   ],
   "metadata": {}
  },
  {
   "cell_type": "markdown",
   "source": [
    "# 一行代码生成 [1, 3, 5, 7, 9, 11, 13, 15, 17, 19]\n",
    "使用列表生成式，创建列表，观察元素出现规律，可得出如下代码："
   ],
   "metadata": {}
  },
  {
   "cell_type": "code",
   "execution_count": 31,
   "source": [
    "a = [2*i+1 for i in range(10)]\n",
    "a"
   ],
   "outputs": [
    {
     "output_type": "execute_result",
     "data": {
      "text/plain": [
       "[1, 3, 5, 7, 9, 11, 13, 15, 17, 19]"
      ]
     },
     "metadata": {},
     "execution_count": 31
    }
   ],
   "metadata": {}
  },
  {
   "cell_type": "markdown",
   "source": [
    "# 写一个等差数列\n",
    "产生一个首项为 10，公差为 12 ，末项不大于 100 的列表\n",
    "\n",
    "使用列表生成式创建："
   ],
   "metadata": {}
  },
  {
   "cell_type": "code",
   "execution_count": 33,
   "source": [
    "a = list(range(10, 100, 12))\n",
    "a"
   ],
   "outputs": [
    {
     "output_type": "execute_result",
     "data": {
      "text/plain": [
       "[10, 22, 34, 46, 58, 70, 82, 94]"
      ]
     },
     "metadata": {},
     "execution_count": 33
    }
   ],
   "metadata": {}
  },
  {
   "cell_type": "markdown",
   "source": [
    "# 一行代码求 1到10000内整数和\n",
    "提供两种方法\n",
    "\n",
    "使用 Python 内置函数 sum 求和："
   ],
   "metadata": {}
  },
  {
   "cell_type": "code",
   "execution_count": 35,
   "source": [
    "s = sum(range(10000))\n",
    "s"
   ],
   "outputs": [
    {
     "output_type": "execute_result",
     "data": {
      "text/plain": [
       "49995000"
      ]
     },
     "metadata": {},
     "execution_count": 35
    }
   ],
   "metadata": {}
  },
  {
   "cell_type": "markdown",
   "source": [
    "使用 functools 模块中的 reduce求和："
   ],
   "metadata": {}
  },
  {
   "cell_type": "code",
   "execution_count": 38,
   "source": [
    "from functools import reduce\n",
    "s = reduce(lambda x, y: x+y, range(10000))\n",
    "s"
   ],
   "outputs": [
    {
     "output_type": "execute_result",
     "data": {
      "text/plain": [
       "49995000"
      ]
     },
     "metadata": {},
     "execution_count": 38
    }
   ],
   "metadata": {}
  },
  {
   "cell_type": "markdown",
   "source": [
    "# tuple 对象可以增加、删除元素吗？为什么？\n",
    "能增加、删除元素，因为元组 `tuple` 是不可变对象，不可变的英文：`immutable`.\n",
    "\n",
    "只有不可变对象才能作为字典的键，因此 `{[]:'this is an expection'}` 会抛出异常。"
   ],
   "metadata": {}
  },
  {
   "cell_type": "markdown",
   "source": [
    "# 如何创建一个字典？\n",
    "使用一对花括号 `{}` 另使用冒号`:`，创建一个`dict`对象："
   ],
   "metadata": {}
  },
  {
   "cell_type": "code",
   "execution_count": 43,
   "source": [
    "dic = {'a':1, 'b':3, 'c':5}"
   ],
   "outputs": [],
   "metadata": {}
  },
  {
   "cell_type": "markdown",
   "source": [
    "字典是一个哈希表，下面的示意图形象的表达出字典的 “形”。\n",
    "\n",
    "![](https://images.gitbook.cn/8aae4ad0-51ff-11ea-8dce-59d407eb83a8)"
   ],
   "metadata": {}
  },
  {
   "cell_type": "markdown",
   "source": [
    "五种创建字典的方法\n",
    "1. 手动创建"
   ],
   "metadata": {}
  },
  {
   "cell_type": "code",
   "execution_count": 44,
   "source": [
    "empty = {}\n",
    "dic = {'a':1, 'c':3, 'e':5}"
   ],
   "outputs": [],
   "metadata": {}
  },
  {
   "cell_type": "markdown",
   "source": [
    "2. 使用 `dict()` 构造函数"
   ],
   "metadata": {}
  },
  {
   "cell_type": "code",
   "execution_count": 46,
   "source": [
    "dict(a=1, b=2, c=3)"
   ],
   "outputs": [
    {
     "output_type": "execute_result",
     "data": {
      "text/plain": [
       "{'a': 1, 'b': 2, 'c': 3}"
      ]
     },
     "metadata": {},
     "execution_count": 46
    }
   ],
   "metadata": {}
  },
  {
   "cell_type": "markdown",
   "source": [
    "3. 键值对`+`关键字参数\n",
    "\n",
    "第一个参数为字典，后面是一系列关键字参数，如 `c=3`"
   ],
   "metadata": {}
  },
  {
   "cell_type": "code",
   "execution_count": 48,
   "source": [
    "dict({'a':1, 'b':2}, c=3, d=4)"
   ],
   "outputs": [
    {
     "output_type": "execute_result",
     "data": {
      "text/plain": [
       "{'a': 1, 'b': 2, 'c': 3, 'd': 4}"
      ]
     },
     "metadata": {},
     "execution_count": 48
    }
   ],
   "metadata": {}
  },
  {
   "cell_type": "markdown",
   "source": [
    "4. 可迭代对象\n",
    "列表，元素又为一个元组，后面再加一系列关键字参数。"
   ],
   "metadata": {}
  },
  {
   "cell_type": "code",
   "execution_count": 50,
   "source": [
    "dict([('a', 1), ('b', 2)], c=3)"
   ],
   "outputs": [
    {
     "output_type": "execute_result",
     "data": {
      "text/plain": [
       "{'a': 1, 'b': 2, 'c': 3}"
      ]
     },
     "metadata": {},
     "execution_count": 50
    }
   ],
   "metadata": {}
  },
  {
   "cell_type": "markdown",
   "source": [
    "5. `fromkeys()`方法\n",
    "已知键集合( keys )， values 为初始值："
   ],
   "metadata": {}
  },
  {
   "cell_type": "code",
   "execution_count": 53,
   "source": [
    "{}.fromkeys(['k1', 'k2', 'k3'], [1, 2, 3])"
   ],
   "outputs": [
    {
     "output_type": "execute_result",
     "data": {
      "text/plain": [
       "{'k1': [1, 2, 3], 'k2': [1, 2, 3], 'k3': [1, 2, 3]}"
      ]
     },
     "metadata": {},
     "execution_count": 53
    }
   ],
   "metadata": {}
  },
  {
   "cell_type": "code",
   "execution_count": 55,
   "source": [
    "{'a':1, 'b':2}.fromkeys(['c', 'd'], [1, 2])"
   ],
   "outputs": [
    {
     "output_type": "execute_result",
     "data": {
      "text/plain": [
       "{'c': [1, 2], 'd': [1, 2]}"
      ]
     },
     "metadata": {},
     "execution_count": 55
    }
   ],
   "metadata": {}
  },
  {
   "cell_type": "markdown",
   "source": [
    "# 字典的基本操作\n",
    "基本操作包括：\n",
    "\n",
    "创建字典\n",
    "遍历字典\n",
    "获取所有键集合(keys)\n",
    "获取所有值集合(values)\n",
    "获取某键对应的值\n",
    "添加、修改或删除一个键值对"
   ],
   "metadata": {}
  },
  {
   "cell_type": "code",
   "execution_count": 57,
   "source": [
    "# 创建字典`d`\n",
    "d = {'a':1, 'b':2, 'c':3}"
   ],
   "outputs": [],
   "metadata": {}
  },
  {
   "cell_type": "markdown",
   "source": [
    "字典属于容器，遍历容器每一项："
   ],
   "metadata": {}
  },
  {
   "cell_type": "code",
   "execution_count": 59,
   "source": [
    "for key, val in d.items():\n",
    "    print(key, val)"
   ],
   "outputs": [
    {
     "output_type": "stream",
     "name": "stdout",
     "text": [
      "a 1\n",
      "b 2\n",
      "c 3\n"
     ]
    }
   ],
   "metadata": {}
  },
  {
   "cell_type": "markdown",
   "source": [
    "获取所有键集合："
   ],
   "metadata": {}
  },
  {
   "cell_type": "code",
   "execution_count": 61,
   "source": [
    "set(d)"
   ],
   "outputs": [
    {
     "output_type": "execute_result",
     "data": {
      "text/plain": [
       "{'a', 'b', 'c'}"
      ]
     },
     "metadata": {},
     "execution_count": 61
    }
   ],
   "metadata": {}
  },
  {
   "cell_type": "code",
   "execution_count": 62,
   "source": [
    "set(d.keys())"
   ],
   "outputs": [
    {
     "output_type": "execute_result",
     "data": {
      "text/plain": [
       "{'a', 'b', 'c'}"
      ]
     },
     "metadata": {},
     "execution_count": 62
    }
   ],
   "metadata": {}
  },
  {
   "cell_type": "markdown",
   "source": [
    "获取所有值集合："
   ],
   "metadata": {}
  },
  {
   "cell_type": "code",
   "execution_count": 64,
   "source": [
    "set(d.values())"
   ],
   "outputs": [
    {
     "output_type": "execute_result",
     "data": {
      "text/plain": [
       "{1, 2, 3}"
      ]
     },
     "metadata": {},
     "execution_count": 64
    }
   ],
   "metadata": {}
  },
  {
   "cell_type": "markdown",
   "source": [
    "判断键是否在字典中："
   ],
   "metadata": {}
  },
  {
   "cell_type": "code",
   "execution_count": 66,
   "source": [
    "# 判断c在d中?\n",
    "if 'c' in d:\n",
    "    print('c在字典d中')\n",
    "\n",
    "# 判断e不在d中?\n",
    "if 'e' not in d:\n",
    "    print('e不在字典d中')"
   ],
   "outputs": [
    {
     "output_type": "stream",
     "name": "stdout",
     "text": [
      "c在字典d中\n",
      "e不在字典d中\n"
     ]
    }
   ],
   "metadata": {}
  },
  {
   "cell_type": "markdown",
   "source": [
    "获取某键对应的值"
   ],
   "metadata": {}
  },
  {
   "cell_type": "code",
   "execution_count": 68,
   "source": [
    "d.get('c')"
   ],
   "outputs": [
    {
     "output_type": "execute_result",
     "data": {
      "text/plain": [
       "3"
      ]
     },
     "metadata": {},
     "execution_count": 68
    }
   ],
   "metadata": {}
  },
  {
   "cell_type": "markdown",
   "source": [
    "添加或修改一个键值对"
   ],
   "metadata": {}
  },
  {
   "cell_type": "code",
   "execution_count": 74,
   "source": [
    "d['d'] = 4\n",
    "print(d)"
   ],
   "outputs": [
    {
     "output_type": "stream",
     "name": "stdout",
     "text": [
      "{'a': 1, 'b': 2, 'c': 3, 'd': 4}\n"
     ]
    }
   ],
   "metadata": {}
  },
  {
   "cell_type": "markdown",
   "source": [
    "删除一个键值对"
   ],
   "metadata": {}
  },
  {
   "cell_type": "code",
   "execution_count": 76,
   "source": [
    "# 方法1\n",
    "del d['d']\n",
    "print(d)\n",
    "\n",
    "# 方法2\n",
    "d.pop('c')\n",
    "print(d)"
   ],
   "outputs": [
    {
     "output_type": "stream",
     "name": "stdout",
     "text": [
      "{'a': 1, 'b': 2, 'c': 3}\n",
      "{'a': 1, 'b': 2}\n"
     ]
    }
   ],
   "metadata": {}
  },
  {
   "cell_type": "markdown",
   "source": [
    "# 字典有哪三个字典视图对象？\n",
    "字典自带的三个方法`d.items()`, `d.keys()`, `d.values()`，分别返回如下对象："
   ],
   "metadata": {}
  },
  {
   "cell_type": "code",
   "execution_count": 79,
   "source": [
    "d = {'a':1, 'b':2, 'c':3}\n",
    "d.keys()"
   ],
   "outputs": [
    {
     "output_type": "execute_result",
     "data": {
      "text/plain": [
       "dict_keys(['a', 'b', 'c'])"
      ]
     },
     "metadata": {},
     "execution_count": 79
    }
   ],
   "metadata": {}
  },
  {
   "cell_type": "code",
   "execution_count": 81,
   "source": [
    "d.values()"
   ],
   "outputs": [
    {
     "output_type": "execute_result",
     "data": {
      "text/plain": [
       "dict_values([1, 2, 3])"
      ]
     },
     "metadata": {},
     "execution_count": 81
    }
   ],
   "metadata": {}
  },
  {
   "cell_type": "code",
   "execution_count": 82,
   "source": [
    "d.items()"
   ],
   "outputs": [
    {
     "output_type": "execute_result",
     "data": {
      "text/plain": [
       "dict_items([('a', 1), ('b', 2), ('c', 3)])"
      ]
     },
     "metadata": {},
     "execution_count": 82
    }
   ],
   "metadata": {}
  },
  {
   "cell_type": "markdown",
   "source": [
    "它们都是原字典的视图，修改原字典对象，视图对象的值也会发生改变。"
   ],
   "metadata": {}
  },
  {
   "cell_type": "code",
   "execution_count": 84,
   "source": [
    "a = {'a':1, 'b':2, 'c':3}\n",
    "key_lst = a.keys()"
   ],
   "outputs": [],
   "metadata": {}
  },
  {
   "cell_type": "markdown",
   "source": [
    "代码可视图如下:\n",
    "\n",
    "![](https://images.gitbook.cn/2020-02-06-013343.png)"
   ],
   "metadata": {}
  },
  {
   "cell_type": "markdown",
   "source": [
    "删除键 `b`，由代码执行可视化图可看到，视图对象 `key_lst` 值也发生改变。\n",
    "![](https://images.gitbook.cn/2020-02-06-013344.png)"
   ],
   "metadata": {}
  },
  {
   "cell_type": "markdown",
   "source": [
    "`items()`, 也是返回一个试图对象:"
   ],
   "metadata": {}
  },
  {
   "cell_type": "code",
   "execution_count": 89,
   "source": [
    "a = {'a':1, 'b':2, 'c':3}\n",
    "items = a.items()"
   ],
   "outputs": [],
   "metadata": {}
  },
  {
   "cell_type": "markdown",
   "source": [
    "![](https://images.gitbook.cn/2020-02-06-013345.png)"
   ],
   "metadata": {}
  },
  {
   "cell_type": "markdown",
   "source": [
    "修改字典，可看到视图对象 items 的值也会改变："
   ],
   "metadata": {}
  },
  {
   "cell_type": "markdown",
   "source": [
    "![](https://images.gitbook.cn/2020-02-06-013346.png)"
   ],
   "metadata": {}
  },
  {
   "cell_type": "markdown",
   "source": [
    "# 所有对象都能作为字典的键吗？\n",
    "如果一个列表对象 lst 试图作为字典的键，会出现什么问题。\n",
    "\n",
    "实验一下："
   ],
   "metadata": {}
  },
  {
   "cell_type": "code",
   "execution_count": 123,
   "source": [
    "lst = [1, 2]\n",
    "d = {lst:'ok?'}"
   ],
   "outputs": [
    {
     "output_type": "error",
     "ename": "TypeError",
     "evalue": "unhashable type: 'list'",
     "traceback": [
      "\u001b[0;31m---------------------------------------------------------------------------\u001b[0m",
      "\u001b[0;31mTypeError\u001b[0m                                 Traceback (most recent call last)",
      "\u001b[0;32m/var/folders/h4/7cr1cmpn7v5b3x20_9wz8m740000gn/T/ipykernel_37897/2121554513.py\u001b[0m in \u001b[0;36m<module>\u001b[0;34m\u001b[0m\n\u001b[1;32m      1\u001b[0m \u001b[0mlst\u001b[0m \u001b[0;34m=\u001b[0m \u001b[0;34m[\u001b[0m\u001b[0;36m1\u001b[0m\u001b[0;34m,\u001b[0m \u001b[0;36m2\u001b[0m\u001b[0;34m]\u001b[0m\u001b[0;34m\u001b[0m\u001b[0;34m\u001b[0m\u001b[0m\n\u001b[0;32m----> 2\u001b[0;31m \u001b[0md\u001b[0m \u001b[0;34m=\u001b[0m \u001b[0;34m{\u001b[0m\u001b[0mlst\u001b[0m\u001b[0;34m:\u001b[0m\u001b[0;34m'ok?'\u001b[0m\u001b[0;34m}\u001b[0m\u001b[0;34m\u001b[0m\u001b[0;34m\u001b[0m\u001b[0m\n\u001b[0m",
      "\u001b[0;31mTypeError\u001b[0m: unhashable type: 'list'"
     ]
    }
   ],
   "metadata": {}
  },
  {
   "cell_type": "markdown",
   "source": [
    "会抛出如上TypeError异常：不可哈希的类型 `list`.\n",
    "\n",
    "因为列表是可变对象，而可变对象是不可哈希的，所以会抛出如上异常。\n",
    "\n",
    "结论：可哈希的对象才能作为字典的键，不可哈希的对象不能作为字典的键。"
   ],
   "metadata": {}
  },
  {
   "cell_type": "markdown",
   "source": [
    "# 更新字典常用的三种入参\n",
    "实际使用字典时，需要批量插入键值对到已有字典中，使用 `update` 方法实现批量插入。\n",
    "\n",
    "已有字典中批量插入键值对："
   ],
   "metadata": {}
  },
  {
   "cell_type": "code",
   "execution_count": 97,
   "source": [
    "d = {'a':1, 'b':2}\n",
    "\n",
    "# 方法1\n",
    "d.update({'c':3, 'd':4, 'e':5})\n",
    "print(d)\n",
    "\n",
    "# 方法2\n",
    "d = {'a':1, 'b':2}\n",
    "d.update([('c',3), ('d', 4), ('e', 5)])\n",
    "print(d)\n",
    "\n",
    "# 方法3\n",
    "d = {'a':1, 'b':2}\n",
    "d.update([('c',3),('d',4)], e=5)\n",
    "print(d)"
   ],
   "outputs": [
    {
     "output_type": "stream",
     "name": "stdout",
     "text": [
      "{'a': 1, 'b': 2, 'c': 3, 'd': 4, 'e': 5}\n",
      "{'a': 1, 'b': 2, 'c': 3, 'd': 4, 'e': 5}\n",
      "{'a': 1, 'b': 2, 'c': 3, 'd': 4, 'e': 5}\n"
     ]
    }
   ],
   "metadata": {}
  },
  {
   "cell_type": "markdown",
   "source": [
    "# 字典的 setdefault 方法使用举例\n",
    "如果仅当字典中不存在某个键值对时，才插入到字典中；\n",
    "\n",
    "如果存在，不必插入(也就不会修改键值对)。\n",
    "\n",
    "这种场景，使用字典自带方法 `setdefault`:"
   ],
   "metadata": {}
  },
  {
   "cell_type": "code",
   "execution_count": 99,
   "source": [
    "d = {'a':1, 'b':2}\n",
    "r = d.setdefault('c', 3)\n",
    "r"
   ],
   "outputs": [
    {
     "output_type": "execute_result",
     "data": {
      "text/plain": [
       "3"
      ]
     },
     "metadata": {},
     "execution_count": 99
    }
   ],
   "metadata": {}
  },
  {
   "cell_type": "code",
   "execution_count": 100,
   "source": [
    "d"
   ],
   "outputs": [
    {
     "output_type": "execute_result",
     "data": {
      "text/plain": [
       "{'a': 1, 'b': 2, 'c': 3}"
      ]
     },
     "metadata": {},
     "execution_count": 100
    }
   ],
   "metadata": {}
  },
  {
   "cell_type": "code",
   "execution_count": 101,
   "source": [
    "r = d.setdefault('c', 33)\n",
    "r"
   ],
   "outputs": [
    {
     "output_type": "execute_result",
     "data": {
      "text/plain": [
       "3"
      ]
     },
     "metadata": {},
     "execution_count": 101
    }
   ],
   "metadata": {}
  },
  {
   "cell_type": "code",
   "execution_count": 102,
   "source": [
    "d"
   ],
   "outputs": [
    {
     "output_type": "execute_result",
     "data": {
      "text/plain": [
       "{'a': 1, 'b': 2, 'c': 3}"
      ]
     },
     "metadata": {},
     "execution_count": 102
    }
   ],
   "metadata": {}
  },
  {
   "cell_type": "markdown",
   "source": [
    "# Python 如何创建一个元组对象？\n",
    "使用一对括号 `()`，创建一个 `tuple` 型对象："
   ],
   "metadata": {}
  },
  {
   "cell_type": "code",
   "execution_count": 104,
   "source": [
    "tup = (1, 3, 5) # tuple 变量"
   ],
   "outputs": [],
   "metadata": {}
  },
  {
   "cell_type": "markdown",
   "source": [
    "但需要注意，含单个元素的元组后面必须保留一个逗号，才被解释为元组。"
   ],
   "metadata": {}
  },
  {
   "cell_type": "code",
   "execution_count": 107,
   "source": [
    "tup = (1, ) # 必须保留逗号"
   ],
   "outputs": [],
   "metadata": {}
  },
  {
   "cell_type": "markdown",
   "source": [
    "否则会被认为元素本身："
   ],
   "metadata": {}
  },
  {
   "cell_type": "code",
   "execution_count": 109,
   "source": [
    "tup = (1)\n",
    "print(type(tup))"
   ],
   "outputs": [
    {
     "output_type": "stream",
     "name": "stdout",
     "text": [
      "<class 'int'>\n"
     ]
    }
   ],
   "metadata": {}
  },
  {
   "cell_type": "markdown",
   "source": [
    "# 集合的最大特点\n",
    "集合是一种不允许元素出现重复的容器。\n",
    "\n",
    "判断一个列表中是否含有重复元素，便可借助集合这种数据类型。"
   ],
   "metadata": {}
  },
  {
   "cell_type": "code",
   "execution_count": 111,
   "source": [
    "def duplicated(lst):\n",
    "    return len(lst) != len(set(lst)) # 不相等就意味着含重复元素"
   ],
   "outputs": [],
   "metadata": {}
  },
  {
   "cell_type": "markdown",
   "source": [
    "# 创建集合有哪两种方法？\n",
    "与字典 (`dict`) 类似，集合 (`set`) 也是由一对花括号(`{}`)创建。但是，容器内的元素不是键值对。"
   ],
   "metadata": {}
  },
  {
   "cell_type": "code",
   "execution_count": 114,
   "source": [
    "a = {1, 2, 3}"
   ],
   "outputs": [],
   "metadata": {}
  },
  {
   "cell_type": "code",
   "execution_count": null,
   "source": [
    "示意图:\n",
    "![](https://images.gitbook.cn/2020-02-06-13347.png)"
   ],
   "outputs": [],
   "metadata": {}
  },
  {
   "cell_type": "markdown",
   "source": [
    "同字典类似，集合内的元素必须是可哈希类型(`hashable`).\n",
    "\n",
    "这就意味着`list`, `dict`等不可哈希的对象不能作为集合的元素。"
   ],
   "metadata": {}
  },
  {
   "cell_type": "code",
   "execution_count": 116,
   "source": [
    "{[1, 2]}"
   ],
   "outputs": [
    {
     "output_type": "error",
     "ename": "TypeError",
     "evalue": "unhashable type: 'list'",
     "traceback": [
      "\u001b[0;31m---------------------------------------------------------------------------\u001b[0m",
      "\u001b[0;31mTypeError\u001b[0m                                 Traceback (most recent call last)",
      "\u001b[0;32m/var/folders/h4/7cr1cmpn7v5b3x20_9wz8m740000gn/T/ipykernel_37897/1660453384.py\u001b[0m in \u001b[0;36m<module>\u001b[0;34m\u001b[0m\n\u001b[0;32m----> 1\u001b[0;31m \u001b[0;34m{\u001b[0m\u001b[0;34m[\u001b[0m\u001b[0;36m1\u001b[0m\u001b[0;34m,\u001b[0m \u001b[0;36m2\u001b[0m\u001b[0;34m]\u001b[0m\u001b[0;34m}\u001b[0m\u001b[0;34m\u001b[0m\u001b[0;34m\u001b[0m\u001b[0m\n\u001b[0m",
      "\u001b[0;31mTypeError\u001b[0m: unhashable type: 'list'"
     ]
    }
   ],
   "metadata": {}
  },
  {
   "cell_type": "markdown",
   "source": [
    "另一种创建集合的方法，是通过Python的内置的 `set` 函数，参数类型为可迭代对象 `Iterable`"
   ],
   "metadata": {}
  },
  {
   "cell_type": "code",
   "execution_count": 118,
   "source": [
    "set([1, 3, 5, 7])"
   ],
   "outputs": [
    {
     "output_type": "execute_result",
     "data": {
      "text/plain": [
       "{1, 3, 5, 7}"
      ]
     },
     "metadata": {},
     "execution_count": 118
    }
   ],
   "metadata": {}
  },
  {
   "cell_type": "markdown",
   "source": [
    "# 一个集合是另一个的子集吗？"
   ],
   "metadata": {}
  },
  {
   "cell_type": "code",
   "execution_count": 120,
   "source": [
    "a = {1, 3, 5, 7}\n",
    "b = {3, 4, 5, 6}\n",
    "a.issubset(b)"
   ],
   "outputs": [
    {
     "output_type": "execute_result",
     "data": {
      "text/plain": [
       "False"
      ]
     },
     "metadata": {},
     "execution_count": 120
    }
   ],
   "metadata": {}
  },
  {
   "cell_type": "code",
   "execution_count": 121,
   "source": [
    "a.issubset(a)"
   ],
   "outputs": [
    {
     "output_type": "execute_result",
     "data": {
      "text/plain": [
       "True"
      ]
     },
     "metadata": {},
     "execution_count": 121
    }
   ],
   "metadata": {}
  },
  {
   "cell_type": "code",
   "execution_count": 122,
   "source": [
    "a.issubset({1, 3, 5, 7, 8})"
   ],
   "outputs": [
    {
     "output_type": "execute_result",
     "data": {
      "text/plain": [
       "True"
      ]
     },
     "metadata": {},
     "execution_count": 122
    }
   ],
   "metadata": {}
  },
  {
   "cell_type": "code",
   "execution_count": null,
   "source": [],
   "outputs": [],
   "metadata": {}
  }
 ],
 "metadata": {
  "orig_nbformat": 4,
  "language_info": {
   "name": "python",
   "version": "3.9.5",
   "mimetype": "text/x-python",
   "codemirror_mode": {
    "name": "ipython",
    "version": 3
   },
   "pygments_lexer": "ipython3",
   "nbconvert_exporter": "python",
   "file_extension": ".py"
  },
  "kernelspec": {
   "name": "python3",
   "display_name": "Python 3.9.5 64-bit ('tf': conda)"
  },
  "interpreter": {
   "hash": "35f69483aa8b7b2bb12f1e6f2ffb8fe1120cf837ca5a80070d69961a5682f06d"
  }
 },
 "nbformat": 4,
 "nbformat_minor": 2
}