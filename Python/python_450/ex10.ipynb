{
 "cells": [
  {
   "cell_type": "markdown",
   "metadata": {},
   "source": [
    "# 其中考试(考察1-9章)"
   ]
  },
  {
   "cell_type": "markdown",
   "metadata": {},
   "source": [
    "# 142 可变类型和不可变类型分别列举3个"
   ]
  },
  {
   "cell_type": "markdown",
   "metadata": {},
   "source": [
    "- 可变类型: mutable type, 常见的有: list, dict, set, deque等\n",
    "- 不可变类型: 米mutable type, 常见的有: int, float, str, tuple, frozenset等\n",
    "- 只有不可变类型才能作为字典等的键"
   ]
  },
  {
   "cell_type": "markdown",
   "metadata": {},
   "source": [
    "# 143 容量为100的样本, 怎样使用list实现随机抽样10个"
   ]
  },
  {
   "cell_type": "markdown",
   "metadata": {},
   "source": [
    "使用`random`模块中`randint`和`sample`方法, 使用列表生成式"
   ]
  },
  {
   "cell_type": "code",
   "execution_count": 4,
   "metadata": {},
   "outputs": [
    {
     "name": "stdout",
     "output_type": "stream",
     "text": [
      "[21, 6, 20, 50, 41, 16, 0, 7, 30, 25]\n"
     ]
    }
   ],
   "source": [
    "from random import randint, sample\n",
    "lst = [randint(0, 50) for _ in range(100)]\n",
    "lst_sample=sample(lst, 10)\n",
    "print(lst_sample)"
   ]
  },
  {
   "cell_type": "markdown",
   "metadata": {},
   "source": [
    "# 144 实现文件按行读取和操作数据分离功能\n",
    "使用`yield`解藕按行读取和操作数据的两步操作"
   ]
  },
  {
   "cell_type": "code",
   "execution_count": null,
   "metadata": {},
   "outputs": [],
   "source": [
    "def read_line(filename):\n",
    "    with open(filename, 'r', encoding='utf-8') as f:\n",
    "        for line in f:\n",
    "            yield line\n",
    "\n",
    "def process_line(line:str):\n",
    "    pass\n",
    "\n",
    "for line in read_line('.'):\n",
    "    process_line(line)\n",
    "    "
   ]
  },
  {
   "cell_type": "markdown",
   "metadata": {},
   "source": [
    "# 145 找出列表中的所有重复元素\n",
    "\n",
    "遍历列表, 如果出现次数大于1, 且不再返回列表`ret`中,则添加到`ret`中.\n",
    "\n",
    "满足`x not in ret`, 则表明`x`不在列表中."
   ]
  },
  {
   "cell_type": "code",
   "execution_count": 8,
   "metadata": {},
   "outputs": [],
   "source": [
    "def find_duplicate(lst):\n",
    "    ret = []\n",
    "    for x in lst:\n",
    "        if lst.count(x) > 1 and x not in ret:\n",
    "            ret.append(x)\n",
    "    return ret\n"
   ]
  },
  {
   "cell_type": "markdown",
   "metadata": {},
   "source": [
    "调用`find_duplicate`"
   ]
  },
  {
   "cell_type": "code",
   "execution_count": 9,
   "metadata": {},
   "outputs": [
    {
     "name": "stdout",
     "output_type": "stream",
     "text": [
      "[2, 3]\n"
     ]
    }
   ],
   "source": [
    "r = find_duplicate([1,2,3,4,3,2])\n",
    "print(r)"
   ]
  },
  {
   "cell_type": "markdown",
   "metadata": {},
   "source": [
    "# 146 斐波那契数列\n",
    "\n",
    "斐波那契数列第一、二哥元素都为1, 第三个元素等于前两个元素和, 依次类推. 下面是普通实现版本:"
   ]
  },
  {
   "cell_type": "code",
   "execution_count": 10,
   "metadata": {},
   "outputs": [],
   "source": [
    "def fibonacci(n):\n",
    "    if n <= 1:\n",
    "        return [1]\n",
    "    fib = [1, 1]\n",
    "    while len(fib) < n:\n",
    "        fib.append(fib[len(fib) -1] + fib[len(fib) - 2])\n",
    "    return fib"
   ]
  },
  {
   "cell_type": "markdown",
   "metadata": {},
   "source": [
    "调用`fibnacci`:"
   ]
  },
  {
   "cell_type": "code",
   "execution_count": 11,
   "metadata": {},
   "outputs": [
    {
     "name": "stdout",
     "output_type": "stream",
     "text": [
      "[1, 1, 2, 3, 5]\n"
     ]
    }
   ],
   "source": [
    "r = fibonacci(5)\n",
    "print(r)"
   ]
  },
  {
   "cell_type": "markdown",
   "metadata": {},
   "source": [
    "这不是高效的实现, 使用生成器更节省内存."
   ]
  },
  {
   "cell_type": "markdown",
   "metadata": {},
   "source": [
    "# 147 出境最多的元素\n",
    "`max`函数是Python的内置函数, 所以使用它无需`import`\n",
    "`max`有一个`key`参数, 指定如何进行值得比较.\n",
    "\n",
    "下面案例, 求出现频次最多的元素, 当出境最多的元素有多个时, 按照下面方法, 默认只返回一个."
   ]
  },
  {
   "cell_type": "code",
   "execution_count": 16,
   "metadata": {},
   "outputs": [],
   "source": [
    "def mode(lst):\n",
    "    if lst is None or len(lst)==0:\n",
    "        return None\n",
    "    return max(lst, key=lambda v: lst.count(v))"
   ]
  },
  {
   "cell_type": "markdown",
   "metadata": {},
   "source": [
    "调用`mode`:"
   ]
  },
  {
   "cell_type": "code",
   "execution_count": 17,
   "metadata": {},
   "outputs": [
    {
     "name": "stdout",
     "output_type": "stream",
     "text": [
      "[1, 3, 3, 2, 1, 1, 2]中出现次数最多的元素为:1\n"
     ]
    }
   ],
   "source": [
    "lst = [1, 3, 3, 2, 1, 1, 2]\n",
    "r = mode(lst)\n",
    "print(f'{lst}中出现次数最多的元素为:{r}')"
   ]
  },
  {
   "cell_type": "markdown",
   "metadata": {},
   "source": [
    "# 更长列表\n",
    "带有一个`*`的参数为可变的位置参数, 意味着能传入人意多个位置参数.\n",
    "\n",
    "`key`函数定义怎么比较大小;\n",
    "\n",
    "`lambda`的参数v是`lists`中的一个元素"
   ]
  },
  {
   "cell_type": "code",
   "execution_count": 18,
   "metadata": {},
   "outputs": [],
   "source": [
    "def max_len(*lists):\n",
    "    return max(*lists, key=lambda v: len(v))"
   ]
  },
  {
   "cell_type": "markdown",
   "metadata": {},
   "source": [
    "调用`max_len`, 传入三个列表, 正式`v`可能的三个取值:"
   ]
  },
  {
   "cell_type": "code",
   "execution_count": 19,
   "metadata": {},
   "outputs": [
    {
     "name": "stdout",
     "output_type": "stream",
     "text": [
      "更长的列表是[4, 5, 6, 7]\n"
     ]
    }
   ],
   "source": [
    "r = max_len([1,2,3], [4,5,6,7],[8])\n",
    "print(f'更长的列表是{r}')"
   ]
  },
  {
   "cell_type": "markdown",
   "metadata": {},
   "source": [
    "关于`lambda`函数, 在此做图形演示.\n",
    "\n",
    "`max_len`函数被传入三个实参, 类型为`list`, 如下图所示, `lists`变量指向最下面的`tuple`实例:\n",
    "\n",
    "![](https://images.gitbook.cn/2020-04-29-034621.png)\n",
    "\n",
    "程序运行到下一帧, 会出现`lambda`函数, 它的父函数为f1, 也就是`max_len`函数.\n",
    "\n",
    "可能不理解亮点, 这种用法中:\n",
    "- 参数`v`取值到底是多少?\n",
    "- `lambda`函数有返回值吗? 如果有, 返回值是多少\n",
    "\n",
    "通过下面图形, 非常容易看出, `v`指向`tuple`实例的第一个元素, 指向的线和箭头能非常直观的反应出来.\n",
    "\n",
    "![](https://images.gitbook.cn/2020-04-29-034622.png)\n",
    "\n",
    "下面示意图中, 看到返回值为3, 也就是`len(v)`的返回值, 其中`v=[1,2,3]`.\n",
    "\n",
    "![](https://images.gitbook.cn/2020-04-29-034623.png)\n",
    "\n",
    "然后, `v`指向`tuple`中的下一个元素, 返回值为4.\n",
    "\n",
    "![](https://images.gitbook.cn/2020-04-29-034624.png)\n",
    "\n",
    "然后, `v`指向`tuple`的最后一个元素[8], 返回值为1.\n",
    "\n",
    "![](https://images.gitbook.cn/2020-04-29-034625.png)\n",
    "\n",
    "根据`key`确定的比较标准, `max`函数的返回值为红色字体指向的元素, 也就是返回[4, 5, 6, 7]\n",
    "\n",
    "![](https://images.gitbook.cn/2020-04-29-034626.png)\n",
    "\n",
    "完整动画演示:\n",
    "\n",
    "![](https://images.gitbook.cn/2020-04-29-034626.gif)"
   ]
  },
  {
   "cell_type": "markdown",
   "metadata": {},
   "source": [
    "# 149 重洗数据集\n",
    "内置 `random` 中的 `shuffle` 函数，能实现对数据的重洗。\n",
    "\n",
    "值得注意，`shuffle` 是对输入列表就地 (`in place`) 洗牌，节省存储空间。\n"
   ]
  },
  {
   "cell_type": "code",
   "execution_count": 20,
   "metadata": {},
   "outputs": [
    {
     "name": "stdout",
     "output_type": "stream",
     "text": [
      "[35, 2, 45, 0, 45]\n"
     ]
    }
   ],
   "source": [
    "from random import shuffle\n",
    "lst = [randint(0, 50) for _ in range(100)]\n",
    "shuffle(lst)\n",
    "print(lst[:5])"
   ]
  },
  {
   "cell_type": "markdown",
   "metadata": {},
   "source": [
    "# 150 生成满足均匀分布的坐标点\n",
    "\n",
    "`random`模块，`uniform(a,b)` 生成 `[a,b)` 内的一个随机数。\n",
    "\n",
    "如下，借助列表生成式，生成 100 个均匀分布的坐标点。"
   ]
  },
  {
   "cell_type": "code",
   "execution_count": 21,
   "metadata": {},
   "outputs": [
    {
     "name": "stdout",
     "output_type": "stream",
     "text": [
      "[6.6, 4.23, 9.91, 1.83, 2.3, 1.92, 1.19, 4.55, 7.71, 6.64, 1.9, 8.17, 9.39, 8.82, 6.76, 0.19, 8.7, 0.5, 8.74, 3.6, 0.9, 6.09, 5.79, 9.1, 7.89, 6.04, 4.78, 5.0, 8.94, 9.24, 8.99, 4.95, 5.05, 1.53, 3.99, 2.09, 2.22, 4.94, 5.24, 4.54, 4.32, 0.91, 6.0, 2.75, 9.02, 7.14, 7.05, 0.29, 7.34, 1.38, 5.87, 3.26, 9.28, 0.44, 4.66, 6.25, 6.38, 3.74, 4.15, 2.46, 5.63, 9.98, 4.21, 5.75, 0.28, 5.78, 4.24, 1.27, 9.35, 9.27, 1.49, 0.22, 9.29, 1.28, 9.28, 2.68, 2.21, 8.48, 6.25, 6.77, 4.68, 1.79, 7.19, 9.04, 3.36, 9.31, 6.25, 6.38, 9.77, 7.48, 0.03, 5.34, 2.06, 5.54, 0.89, 6.23, 3.28, 8.83, 4.04, 7.61]\n"
     ]
    }
   ],
   "source": [
    "from random import uniform\n",
    "x, y = [i for i in range(100)], [round(uniform(0, 10), 2) for _ in range(100)]\n",
    "print(y)"
   ]
  },
  {
   "cell_type": "markdown",
   "metadata": {},
   "source": [
    "使用 `pyecharts` 绘图，版本1.6.2.\n",
    "\n",
    "注意，运行以下代码至少保证版本要在 1.0 以上："
   ]
  },
  {
   "cell_type": "code",
   "execution_count": 28,
   "metadata": {},
   "outputs": [
    {
     "name": "stdout",
     "output_type": "stream",
     "text": [
      "[5.25, 0.59, 8.01, 5.59, 2.87, 3.32, 7.5, 7.32, 8.77, 8.07, 0.99, 4.37, 6.21, 1.92, 6.29, 2.87, 9.56, 0.99, 7.47, 2.15, 6.37, 9.53, 9.26, 9.23, 8.34, 8.53, 8.84, 0.3, 3.01, 0.31, 6.42, 2.81, 7.81, 8.7, 5.63, 3.73, 0.53, 6.06, 0.75, 6.96, 9.93, 3.04, 8.44, 2.73, 3.74, 2.23, 8.8, 0.46, 8.73, 3.43, 3.97, 7.9, 1.61, 2.97, 5.83, 7.8, 2.44, 0.72, 1.5, 0.3, 6.28, 4.92, 7.03, 8.78, 1.12, 4.46, 3.03, 1.54, 8.49, 5.79, 3.98, 5.62, 3.07, 3.8, 7.05, 6.24, 8.51, 7.95, 3.87, 6.72, 9.6, 5.7, 7.85, 5.69, 6.9, 1.48, 8.11, 8.15, 5.9, 6.94, 3.77, 6.28, 6.31, 8.46, 2.56, 1.84, 4.28, 5.8, 8.06, 5.69]\n"
     ]
    },
    {
     "data": {
      "image/png": "[encoded data removed]",
      "text/plain": [
       "<Figure size 432x288 with 1 Axes>"
      ]
     },
     "metadata": {
      "needs_background": "light"
     },
     "output_type": "display_data"
    }
   ],
   "source": [
    "%matplotlib inline\n",
    "from pyecharts.charts import Scatter\n",
    "import matplotlib.pyplot as plt\n",
    "import pyecharts.options as opts\n",
    "from random import uniform\n",
    "\n",
    "def draw_uniform_points():\n",
    "    x, y = [i for i in range(100)], [round(uniform(0, 10), 2) for _ in range(100)]\n",
    "    print(y)\n",
    "    fig, ax = plt.subplots()\n",
    "    ax.scatter(x, y)\n",
    "\n",
    "draw_uniform_points()"
   ]
  },
  {
   "cell_type": "markdown",
   "metadata": {},
   "source": [
    "变量`y`取值满足均匀分布"
   ]
  },
  {
   "cell_type": "markdown",
   "metadata": {},
   "source": [
    "# 如何求两个集合的并集？"
   ]
  },
  {
   "cell_type": "code",
   "execution_count": 30,
   "metadata": {},
   "outputs": [
    {
     "data": {
      "text/plain": [
       "{1, 3, 4, 5, 6, 7, 8, 9}"
      ]
     },
     "execution_count": 30,
     "metadata": {},
     "output_type": "execute_result"
    }
   ],
   "source": [
    "# 求并集\n",
    "a = {1, 3, 5, 7}\n",
    "b, c = {3, 4, 5, 6}, {6, 7, 8, 9}\n",
    "d = a.union(b, c)\n",
    "d\n"
   ]
  },
  {
   "cell_type": "markdown",
   "metadata": {},
   "source": [
    "![](https://images.gitbook.cn/2020-04-29-034629.png)"
   ]
  },
  {
   "cell_type": "markdown",
   "metadata": {},
   "source": [
    "# 152 求两个集合的差集"
   ]
  },
  {
   "cell_type": "code",
   "execution_count": 31,
   "metadata": {},
   "outputs": [
    {
     "data": {
      "text/plain": [
       "{1}"
      ]
     },
     "execution_count": 31,
     "metadata": {},
     "output_type": "execute_result"
    }
   ],
   "source": [
    "# 求差集:\n",
    "a = {1, 3, 5, 7}\n",
    "b, c = {3, 4, 5, 6}, {6, 7, 8, 9}\n",
    "d = a.difference(b, c)\n",
    "d"
   ]
  },
  {
   "cell_type": "markdown",
   "metadata": {},
   "source": [
    "![](https://images.gitbook.cn/2020-04-29-034630.png)"
   ]
  },
  {
   "cell_type": "markdown",
   "metadata": {},
   "source": [
    "# 153 求两个集合的交集"
   ]
  },
  {
   "cell_type": "code",
   "execution_count": 33,
   "metadata": {},
   "outputs": [
    {
     "data": {
      "text/plain": [
       "set()"
      ]
     },
     "execution_count": 33,
     "metadata": {},
     "output_type": "execute_result"
    }
   ],
   "source": [
    "# 求交集：\n",
    "\n",
    "a = {1, 3, 5, 7}\n",
    "b, c = {3, 4, 5, 6}, {6, 7, 8, 9}\n",
    "d = a.intersection(b, c)\n",
    "d"
   ]
  },
  {
   "cell_type": "markdown",
   "metadata": {},
   "source": []
  },
  {
   "cell_type": "markdown",
   "metadata": {},
   "source": [
    "![](https://images.gitbook.cn/2020-04-29-034631.png)"
   ]
  },
  {
   "cell_type": "markdown",
   "metadata": {},
   "source": [
    "# 154 字典如何按键排序"
   ]
  },
  {
   "cell_type": "code",
   "execution_count": 34,
   "metadata": {},
   "outputs": [
    {
     "data": {
      "text/plain": [
       "[('a', 3), ('b', 1), ('c', 2)]"
      ]
     },
     "execution_count": 34,
     "metadata": {},
     "output_type": "execute_result"
    }
   ],
   "source": [
    "def sort_by_key(d):\n",
    "    return sorted(d.items(), key=lambda x: x[0])\n",
    "\n",
    "sort_by_key({'a':3, 'b':1, 'c':2})"
   ]
  },
  {
   "cell_type": "markdown",
   "metadata": {},
   "source": [
    "`sorted`函数返回列表, 元素为`tuple`\n",
    "\n",
    "![](https://images.gitbook.cn/2020-04-29-034633.png)"
   ]
  },
  {
   "cell_type": "markdown",
   "metadata": {},
   "source": [
    "# 155 字段如何按值排序\n",
    "\n",
    "与按照键排序原理相同, 按照值排序时, `key`函数定义为按值(`x[1]`)比较.\n",
    "\n",
    "为照顾小白, 解释为什么是 `x[1]`，`d.items()`返回元素为 (`key, value`)的可迭代类型( `Iterable` )，`key` 函数的参数 `x`，便是元素 (`key, value`)，所以 `x[1]` 取到字典的值。"
   ]
  },
  {
   "cell_type": "code",
   "execution_count": 35,
   "metadata": {},
   "outputs": [
    {
     "data": {
      "text/plain": [
       "[('b', 1), ('c', 2), ('a', 3)]"
      ]
     },
     "execution_count": 35,
     "metadata": {},
     "output_type": "execute_result"
    }
   ],
   "source": [
    "def sort_by_value(d):\n",
    "    return sorted(d.items(), key=lambda x: x[1])\n",
    "\n",
    "sort_by_value({'a':3, 'b':1, 'c':2})"
   ]
  },
  {
   "cell_type": "markdown",
   "metadata": {},
   "source": [
    "# 156 如何获取字典的最大键\n",
    "\n",
    "通过`keys`拿到所有键, 获取最大键, 返回`(最大键, 值)`的元祖"
   ]
  },
  {
   "cell_type": "code",
   "execution_count": 36,
   "metadata": {},
   "outputs": [
    {
     "data": {
      "text/plain": [
       "('c', 3)"
      ]
     },
     "execution_count": 36,
     "metadata": {},
     "output_type": "execute_result"
    }
   ],
   "source": [
    "def max_key(d):\n",
    "    if len(d)==0:\n",
    "        return []\n",
    "    max_key = max(d.keys())\n",
    "    return (max_key, d[max_key])\n",
    "\n",
    "max_key({'a':3, 'c':3, 'b':2})"
   ]
  },
  {
   "cell_type": "markdown",
   "metadata": {},
   "source": [
    "# 157 最大字典值\n",
    "\n",
    "最大值的字典，可能有多对："
   ]
  },
  {
   "cell_type": "code",
   "execution_count": 38,
   "metadata": {},
   "outputs": [
    {
     "data": {
      "text/plain": [
       "[('a', 3), ('c', 3)]"
      ]
     },
     "execution_count": 38,
     "metadata": {},
     "output_type": "execute_result"
    }
   ],
   "source": [
    "def max_key(d):\n",
    "    if len(d)==0:\n",
    "        return []\n",
    "    max_val = max(d.values())\n",
    "    return [(key, max_val) for key in d if d[key] == max_val]\n",
    "\n",
    "max_key({'a':3, 'c':3, 'b':2})"
   ]
  },
  {
   "cell_type": "markdown",
   "metadata": {},
   "source": [
    "![](https://images.gitbook.cn/2020-04-29-034634.png)"
   ]
  },
  {
   "cell_type": "markdown",
   "metadata": {},
   "source": [
    "# 158 集合最值\n",
    "\n",
    "找出集合中的最大、最小值，并装到元组中返回："
   ]
  },
  {
   "cell_type": "code",
   "execution_count": 39,
   "metadata": {},
   "outputs": [
    {
     "data": {
      "text/plain": [
       "(7, 1)"
      ]
     },
     "execution_count": 39,
     "metadata": {},
     "output_type": "execute_result"
    }
   ],
   "source": [
    "def max_min(s):\n",
    "    return (max(s), min(s))\n",
    "\n",
    "max_min({1, 3, 5, 7})"
   ]
  },
  {
   "cell_type": "markdown",
   "metadata": {},
   "source": [
    "# 159 是否为单字符串判断\n",
    "\n",
    "若组成字符串的所有字符仅出现一次，则被称为单字符串。"
   ]
  },
  {
   "cell_type": "code",
   "execution_count": 40,
   "metadata": {},
   "outputs": [
    {
     "data": {
      "text/plain": [
       "False"
      ]
     },
     "execution_count": 40,
     "metadata": {},
     "output_type": "execute_result"
    }
   ],
   "source": [
    "def single(string):\n",
    "    return len(set(string))==len(string)\n",
    "\n",
    "single('love_python') # False"
   ]
  },
  {
   "cell_type": "code",
   "execution_count": 41,
   "metadata": {},
   "outputs": [
    {
     "data": {
      "text/plain": [
       "True"
      ]
     },
     "execution_count": 41,
     "metadata": {},
     "output_type": "execute_result"
    }
   ],
   "source": [
    "single('python')"
   ]
  },
  {
   "cell_type": "markdown",
   "metadata": {},
   "source": [
    "# 160 更长集合\n",
    "\n",
    "key函数定义为按照元素长度比较大小，找到更长的集合："
   ]
  },
  {
   "cell_type": "code",
   "execution_count": 42,
   "metadata": {},
   "outputs": [
    {
     "data": {
      "text/plain": [
       "{1, 3, 5, 7}"
      ]
     },
     "execution_count": 42,
     "metadata": {},
     "output_type": "execute_result"
    }
   ],
   "source": [
    "def longer(s1, s2):\n",
    "    return max(s1, s2, key=lambda x: len(x))\n",
    "\n",
    "longer({1, 3, 5, 7}, {1, 5, 7})"
   ]
  },
  {
   "cell_type": "markdown",
   "metadata": {},
   "source": [
    "# 161 在两个列表中，找出重叠次数最多的元素\n",
    "\n",
    "默认只返回一个\n",
    "\n",
    "解决思路：\n",
    "\n",
    "1. 求两个列表的交集\n",
    "2. 遍历交集列表中的每一个元素，min(元素在列表1次数，元素在列表2次数) ，就是此元素的重叠次数\n",
    "3. 求出最大的重叠次数"
   ]
  },
  {
   "cell_type": "code",
   "execution_count": 43,
   "metadata": {},
   "outputs": [
    {
     "data": {
      "text/plain": [
       "(2, 3)"
      ]
     },
     "execution_count": 43,
     "metadata": {},
     "output_type": "execute_result"
    }
   ],
   "source": [
    "def max_overlap(lst1, lst2):\n",
    "    overlap=set(lst1).intersection(lst2)\n",
    "    ox = [(x, min(lst1.count(x), lst2.count(x))) for x in overlap]\n",
    "    return max(ox, key=lambda x: x[1])\n",
    "\n",
    "max_overlap([1,2,2,2,3,3],[2,2,3,2,2,3])"
   ]
  },
  {
   "cell_type": "markdown",
   "metadata": {},
   "source": [
    "# 162 topn 键\n",
    "\n",
    "找出字典前 n 个最大值，对应的键。\n",
    "\n",
    "导入 Python 内置模块 `heapq` 中的 `nlargest` 函数，获取字典中的前 n 个最大值。\n",
    "\n",
    "key 函数定义按值比较大小"
   ]
  },
  {
   "cell_type": "code",
   "execution_count": 44,
   "metadata": {},
   "outputs": [
    {
     "data": {
      "text/plain": [
       "['a', 'd', 'c']"
      ]
     },
     "execution_count": 44,
     "metadata": {},
     "output_type": "execute_result"
    }
   ],
   "source": [
    "from heapq import nlargest\n",
    "\n",
    "def topn_dict(d, n):\n",
    "    return nlargest(n, d, key=lambda k: d[k])\n",
    "\n",
    "topn_dict({'a':10, 'b':8, 'c':9, 'd':10}, 3)"
   ]
  },
  {
   "cell_type": "markdown",
   "metadata": {},
   "source": [
    "# 163 一键对多值的字典\n",
    "\n",
    "一键对多个值的实现方法1，按照常规思路，循序渐进："
   ]
  },
  {
   "cell_type": "code",
   "execution_count": 45,
   "metadata": {},
   "outputs": [
    {
     "data": {
      "text/plain": [
       "{1: ['apple', 'compute'], 2: ['orange']}"
      ]
     },
     "execution_count": 45,
     "metadata": {},
     "output_type": "execute_result"
    }
   ],
   "source": [
    "d = {}\n",
    "lst = [(1, 'apple'), (2,'orange'), (1, 'compute')]\n",
    "for k, v in lst:\n",
    "    if k not in d:\n",
    "        d[k]=[]\n",
    "    d[k].append(v)\n",
    "\n",
    "d"
   ]
  },
  {
   "cell_type": "markdown",
   "metadata": {},
   "source": [
    "以上方法，有一处 if 判断 ，确认 k 是不是已经在返回结果字典 d 中。\n",
    "\n",
    "不是很优雅！\n",
    "\n",
    "可以使用 `collections` 模块中的 `defaultdict`，它能创建属于某个类型的自带初始值的字典。\n",
    "\n",
    "使用起来更加方便:"
   ]
  },
  {
   "cell_type": "code",
   "execution_count": 47,
   "metadata": {},
   "outputs": [
    {
     "data": {
      "text/plain": [
       "defaultdict(list, {1: ['apple', 'compute'], 2: ['orange']})"
      ]
     },
     "execution_count": 47,
     "metadata": {},
     "output_type": "execute_result"
    }
   ],
   "source": [
    "from collections import defaultdict\n",
    "d = defaultdict(list)\n",
    "for k, v in lst:\n",
    "    d[k].append(v)\n",
    "\n",
    "d"
   ]
  },
  {
   "cell_type": "markdown",
   "metadata": {},
   "source": [
    "# 164 ChainMap 如何实现字典的逻辑合并\n",
    "\n",
    "案例 3 中合并字典的方法："
   ]
  },
  {
   "cell_type": "code",
   "execution_count": 48,
   "metadata": {},
   "outputs": [
    {
     "data": {
      "text/plain": [
       "{'x': 1, 'y': 3, 'z': 4}"
      ]
     },
     "execution_count": 48,
     "metadata": {},
     "output_type": "execute_result"
    }
   ],
   "source": [
    "dic1 = {'x':1, 'y':2}\n",
    "dic2 = {'y':3, 'z':4}\n",
    "merged = {**dic1, **dic2}\n",
    "\n",
    "merged\n",
    "\n"
   ]
  },
  {
   "cell_type": "markdown",
   "metadata": {},
   "source": [
    "修改 `merged['x']=10`，`dic1` 中的 x 值不变， `merged` 是重新生成的一个新字典。\n",
    "\n",
    "但是，`collections` 模块中的 `ChainMap` 函数却不同。\n",
    "\n",
    "它在内部创建了一个容纳这些字典的列表。\n",
    "\n",
    "使用 `ChainMap` 合并字典，修改 `merged['x']=10` 后，dic1 中的 x 值改变。\n",
    "\n",
    "如下所示："
   ]
  },
  {
   "cell_type": "code",
   "execution_count": 50,
   "metadata": {},
   "outputs": [
    {
     "data": {
      "text/plain": [
       "ChainMap({'x': 1, 'y': 2}, {'y': 3, 'z': 4})"
      ]
     },
     "execution_count": 50,
     "metadata": {},
     "output_type": "execute_result"
    }
   ],
   "source": [
    "from collections import ChainMap\n",
    "dic1 = {'x':1, 'y':2}\n",
    "dic2 = {'y':3, 'z':4}\n",
    "\n",
    "merged=ChainMap(dic1, dic2)\n",
    "merged"
   ]
  },
  {
   "cell_type": "code",
   "execution_count": 51,
   "metadata": {},
   "outputs": [
    {
     "data": {
      "text/plain": [
       "{'x': 10, 'y': 2}"
      ]
     },
     "execution_count": 51,
     "metadata": {},
     "output_type": "execute_result"
    }
   ],
   "source": [
    "merged['x'] = 10\n",
    "dic1"
   ]
  },
  {
   "cell_type": "markdown",
   "metadata": {},
   "source": [
    "# 165 数据再运算\n",
    "\n",
    "如下，实现对每个元素的乘方操作后，利用列表生成式返回一个新的列表。"
   ]
  },
  {
   "cell_type": "code",
   "execution_count": 52,
   "metadata": {},
   "outputs": [
    {
     "data": {
      "text/plain": [
       "[0, 1, 4, 9, 16, 25, 36, 49, 64, 81, 100]"
      ]
     },
     "execution_count": 52,
     "metadata": {},
     "output_type": "execute_result"
    }
   ],
   "source": [
    "a = range(0, 11)\n",
    "b = [x**2 for x in a]\n",
    "b"
   ]
  },
  {
   "cell_type": "markdown",
   "metadata": {},
   "source": [
    "![](https://images.gitbook.cn/15353c50-560f-11ea-a714-09515afb96e2)"
   ]
  },
  {
   "cell_type": "markdown",
   "metadata": {},
   "source": [
    "数值型的元素列表，转换为字符串类型的列表："
   ]
  },
  {
   "cell_type": "code",
   "execution_count": 53,
   "metadata": {},
   "outputs": [
    {
     "data": {
      "text/plain": [
       "['0', '1', '2', '3', '4', '5', '6', '7', '8', '9']"
      ]
     },
     "execution_count": 53,
     "metadata": {},
     "output_type": "execute_result"
    }
   ],
   "source": [
    "a = range(0, 10)\n",
    "b = [str(i) for i in a]\n",
    "b"
   ]
  },
  {
   "cell_type": "markdown",
   "metadata": {},
   "source": [
    "![](https://images.gitbook.cn/2a115aa0-560f-11ea-908b-b5332759803b)"
   ]
  },
  {
   "cell_type": "markdown",
   "metadata": {},
   "source": [
    "# 166 Python 生成一串随机数\n",
    "\n",
    "生成 10 个 0 到 1 的随机浮点数，保留小数点后两位："
   ]
  },
  {
   "cell_type": "code",
   "execution_count": 55,
   "metadata": {},
   "outputs": [
    {
     "data": {
      "text/plain": [
       "[0.8, 0.05, 0.77, 0.48, 0.69, 0.81, 0.49, 0.71, 0.9, 0.46]"
      ]
     },
     "execution_count": 55,
     "metadata": {},
     "output_type": "execute_result"
    }
   ],
   "source": [
    "from random import random\n",
    "a = [round(random(), 2) for _ in range(10)]\n",
    "a"
   ]
  },
  {
   "cell_type": "markdown",
   "metadata": {},
   "source": [
    "![](https://images.gitbook.cn/3e982d00-560f-11ea-ac19-374315264b53)"
   ]
  },
  {
   "cell_type": "markdown",
   "metadata": {},
   "source": [
    "生成10个0到10的满足均匀分布的浮点数, 保留小数点后两位:"
   ]
  },
  {
   "cell_type": "code",
   "execution_count": 56,
   "metadata": {},
   "outputs": [
    {
     "data": {
      "text/plain": [
       "[3.94, 7.19, 2.43, 7.8, 0.83, 7.16, 9.38, 3.98, 1.06, 1.67]"
      ]
     },
     "execution_count": 56,
     "metadata": {},
     "output_type": "execute_result"
    }
   ],
   "source": [
    "from random import uniform\n",
    "a = [round(uniform(0, 10), 2) for _ in range(10)]\n",
    "a"
   ]
  },
  {
   "cell_type": "markdown",
   "metadata": {},
   "source": [
    "![](https://images.gitbook.cn/56f1d950-560f-11ea-ad74-0783a5f0ad5e)"
   ]
  },
  {
   "cell_type": "markdown",
   "metadata": {},
   "source": [
    "# 167 if 和嵌套 for\n",
    "\n",
    "对一个列表里面的数据筛选，只计算 `[0,11)` 中偶数的平方："
   ]
  },
  {
   "cell_type": "code",
   "execution_count": 57,
   "metadata": {},
   "outputs": [
    {
     "data": {
      "text/plain": [
       "[0, 4, 16, 36, 64, 100]"
      ]
     },
     "execution_count": 57,
     "metadata": {},
     "output_type": "execute_result"
    }
   ],
   "source": [
    "a = range(11)\n",
    "c = [x**2 for x in a if x%2==0]\n",
    "c"
   ]
  },
  {
   "cell_type": "markdown",
   "metadata": {},
   "source": [
    "![](https://images.gitbook.cn/831856d0-560f-11ea-908b-b5332759803b)"
   ]
  },
  {
   "cell_type": "markdown",
   "metadata": {},
   "source": [
    "**列表生成式中嵌套for**\n",
    "\n",
    "如下使用嵌套的列表, 一行代码生成99乘法表中的所有45个元素:\n"
   ]
  },
  {
   "cell_type": "code",
   "execution_count": 58,
   "metadata": {},
   "outputs": [
    {
     "data": {
      "text/plain": [
       "[1,\n",
       " 2,\n",
       " 4,\n",
       " 3,\n",
       " 6,\n",
       " 9,\n",
       " 4,\n",
       " 8,\n",
       " 12,\n",
       " 16,\n",
       " 5,\n",
       " 10,\n",
       " 15,\n",
       " 20,\n",
       " 25,\n",
       " 6,\n",
       " 12,\n",
       " 18,\n",
       " 24,\n",
       " 30,\n",
       " 36,\n",
       " 7,\n",
       " 14,\n",
       " 21,\n",
       " 28,\n",
       " 35,\n",
       " 42,\n",
       " 49,\n",
       " 8,\n",
       " 16,\n",
       " 24,\n",
       " 32,\n",
       " 40,\n",
       " 48,\n",
       " 56,\n",
       " 64,\n",
       " 9,\n",
       " 18,\n",
       " 27,\n",
       " 36,\n",
       " 45,\n",
       " 54,\n",
       " 63,\n",
       " 72,\n",
       " 81]"
      ]
     },
     "execution_count": 58,
     "metadata": {},
     "output_type": "execute_result"
    }
   ],
   "source": [
    "a = [i*j for i in range(10) for j in range(1, i+1)]\n",
    "a"
   ]
  },
  {
   "cell_type": "markdown",
   "metadata": {},
   "source": [
    "# 168 zip 和列表"
   ]
  },
  {
   "cell_type": "code",
   "execution_count": 59,
   "metadata": {},
   "outputs": [
    {
     "data": {
      "text/plain": [
       "['a0', 'b1', 'c2', 'd3', 'e4']"
      ]
     },
     "execution_count": 59,
     "metadata": {},
     "output_type": "execute_result"
    }
   ],
   "source": [
    "a = range(5)\n",
    "b = ['a', 'b', 'c', 'd', 'e']\n",
    "c = [str(y) + str(x) for x, y in zip(a,b)]\n",
    "c"
   ]
  },
  {
   "cell_type": "markdown",
   "metadata": {},
   "source": [
    "![](https://images.gitbook.cn/a2044b30-560f-11ea-91c3-41dcada8ff66)"
   ]
  },
  {
   "cell_type": "markdown",
   "metadata": {},
   "source": [
    "# 169 打印键值对"
   ]
  },
  {
   "cell_type": "code",
   "execution_count": 60,
   "metadata": {},
   "outputs": [
    {
     "data": {
      "text/plain": [
       "['a=1', 'b=2', 'c=3']"
      ]
     },
     "execution_count": 60,
     "metadata": {},
     "output_type": "execute_result"
    }
   ],
   "source": [
    "a = {'a':1, 'b':2, 'c':3}\n",
    "b = [k+ '=' + str(v) for k, v in a.items()]\n",
    "b"
   ]
  },
  {
   "cell_type": "markdown",
   "metadata": {},
   "source": [
    "![](https://images.gitbook.cn/bbf5fca0-560f-11ea-a714-09515afb96e2)"
   ]
  },
  {
   "cell_type": "markdown",
   "metadata": {},
   "source": [
    "# 170 转为小写"
   ]
  },
  {
   "cell_type": "code",
   "execution_count": 61,
   "metadata": {},
   "outputs": [
    {
     "data": {
      "text/plain": [
       "['hello', 'world', '2018python']"
      ]
     },
     "execution_count": 61,
     "metadata": {},
     "output_type": "execute_result"
    }
   ],
   "source": [
    "a = ['Hello', 'World', '2018Python']\n",
    "b = [w.lower() for w in a]\n",
    "b"
   ]
  },
  {
   "cell_type": "markdown",
   "metadata": {},
   "source": [
    "![](https://images.gitbook.cn/32607870-5610-11ea-bb07-d79dc32970fa)"
   ]
  },
  {
   "cell_type": "markdown",
   "metadata": {},
   "source": [
    "以上写法可能会有问题, Python列表内元素类型可能不同, 如果列表a:"
   ]
  },
  {
   "cell_type": "code",
   "execution_count": 62,
   "metadata": {},
   "outputs": [
    {
     "ename": "AttributeError",
     "evalue": "'int' object has no attribute 'lower'",
     "output_type": "error",
     "traceback": [
      "\u001b[0;31m---------------------------------------------------------------------------\u001b[0m",
      "\u001b[0;31mAttributeError\u001b[0m                            Traceback (most recent call last)",
      "\u001b[0;32m/var/folders/h4/7cr1cmpn7v5b3x20_9wz8m740000gn/T/ipykernel_21104/3601241044.py\u001b[0m in \u001b[0;36m<module>\u001b[0;34m\u001b[0m\n\u001b[1;32m      1\u001b[0m \u001b[0ma\u001b[0m \u001b[0;34m=\u001b[0m \u001b[0;34m[\u001b[0m\u001b[0;34m'Hello'\u001b[0m\u001b[0;34m,\u001b[0m \u001b[0;34m'World'\u001b[0m\u001b[0;34m,\u001b[0m \u001b[0;36m2020\u001b[0m\u001b[0;34m,\u001b[0m \u001b[0;34m'Python'\u001b[0m\u001b[0;34m]\u001b[0m\u001b[0;34m\u001b[0m\u001b[0;34m\u001b[0m\u001b[0m\n\u001b[0;32m----> 2\u001b[0;31m \u001b[0;34m[\u001b[0m\u001b[0mw\u001b[0m\u001b[0;34m.\u001b[0m\u001b[0mlower\u001b[0m\u001b[0;34m(\u001b[0m\u001b[0;34m)\u001b[0m \u001b[0;32mfor\u001b[0m \u001b[0mw\u001b[0m \u001b[0;32min\u001b[0m \u001b[0ma\u001b[0m\u001b[0;34m]\u001b[0m\u001b[0;34m\u001b[0m\u001b[0;34m\u001b[0m\u001b[0m\n\u001b[0m",
      "\u001b[0;32m/var/folders/h4/7cr1cmpn7v5b3x20_9wz8m740000gn/T/ipykernel_21104/3601241044.py\u001b[0m in \u001b[0;36m<listcomp>\u001b[0;34m(.0)\u001b[0m\n\u001b[1;32m      1\u001b[0m \u001b[0ma\u001b[0m \u001b[0;34m=\u001b[0m \u001b[0;34m[\u001b[0m\u001b[0;34m'Hello'\u001b[0m\u001b[0;34m,\u001b[0m \u001b[0;34m'World'\u001b[0m\u001b[0;34m,\u001b[0m \u001b[0;36m2020\u001b[0m\u001b[0;34m,\u001b[0m \u001b[0;34m'Python'\u001b[0m\u001b[0;34m]\u001b[0m\u001b[0;34m\u001b[0m\u001b[0;34m\u001b[0m\u001b[0m\n\u001b[0;32m----> 2\u001b[0;31m \u001b[0;34m[\u001b[0m\u001b[0mw\u001b[0m\u001b[0;34m.\u001b[0m\u001b[0mlower\u001b[0m\u001b[0;34m(\u001b[0m\u001b[0;34m)\u001b[0m \u001b[0;32mfor\u001b[0m \u001b[0mw\u001b[0m \u001b[0;32min\u001b[0m \u001b[0ma\u001b[0m\u001b[0;34m]\u001b[0m\u001b[0;34m\u001b[0m\u001b[0;34m\u001b[0m\u001b[0m\n\u001b[0m",
      "\u001b[0;31mAttributeError\u001b[0m: 'int' object has no attribute 'lower'"
     ]
    }
   ],
   "source": [
    "a = ['Hello', 'World', 2020, 'Python']\n",
    "[w.lower() for w in a]"
   ]
  },
  {
   "cell_type": "markdown",
   "metadata": {},
   "source": [
    "出现`int`对象没有`lower()`方法的问题\n",
    "\n",
    "需要先转化元素为`str`"
   ]
  },
  {
   "cell_type": "code",
   "execution_count": 64,
   "metadata": {},
   "outputs": [
    {
     "data": {
      "text/plain": [
       "['hello', 'world', '2020', 'python']"
      ]
     },
     "execution_count": 64,
     "metadata": {},
     "output_type": "execute_result"
    }
   ],
   "source": [
    "[str(w).lower() for w in a]"
   ]
  },
  {
   "cell_type": "markdown",
   "metadata": {},
   "source": [
    "更友好的做法, 使用`isinstance`判断元素是否为`str`类.\n",
    "如果是, 再调用`lower`转化:"
   ]
  },
  {
   "cell_type": "code",
   "execution_count": 66,
   "metadata": {},
   "outputs": [
    {
     "data": {
      "text/plain": [
       "['hello', 'world', 'python']"
      ]
     },
     "execution_count": 66,
     "metadata": {},
     "output_type": "execute_result"
    }
   ],
   "source": [
    "[w.lower() for w in a if isinstance(w, str)]"
   ]
  },
  {
   "cell_type": "markdown",
   "metadata": {},
   "source": [
    "# 171 保留唯一值"
   ]
  },
  {
   "cell_type": "code",
   "execution_count": 68,
   "metadata": {},
   "outputs": [
    {
     "data": {
      "text/plain": [
       "[1, 3, 5]"
      ]
     },
     "execution_count": 68,
     "metadata": {},
     "output_type": "execute_result"
    }
   ],
   "source": [
    "def filter_non_unique(lst):\n",
    "    return [item for item in lst if lst.count(item) == 1]\n",
    "\n",
    "filter_non_unique([1,2,2,3,4,5,4])"
   ]
  },
  {
   "cell_type": "markdown",
   "metadata": {},
   "source": [
    "有了上面这些基础后, 再看看看几个难度大点的案例."
   ]
  },
  {
   "cell_type": "markdown",
   "metadata": {},
   "source": [
    "# 172 筛选分组"
   ]
  },
  {
   "cell_type": "code",
   "execution_count": 69,
   "metadata": {},
   "outputs": [
    {
     "data": {
      "text/plain": [
       "[['beep', 'boop', 'bar'], ['foo']]"
      ]
     },
     "execution_count": 69,
     "metadata": {},
     "output_type": "execute_result"
    }
   ],
   "source": [
    "def bifurcate(lst, filter):\n",
    "    return [\n",
    "        [x for i, x in enumerate(lst) if filter[i] == True],\n",
    "        [x for i, x in enumerate(lst) if filter[i] == False]\n",
    "    ]\n",
    "\n",
    "bifurcate(['beep', 'boop', 'foo', 'bar'], [True, True, False, True])"
   ]
  },
  {
   "cell_type": "markdown",
   "metadata": {},
   "source": [
    "![](https://images.gitbook.cn/48c4bd60-5610-11ea-afc1-9b7d03147fc6)"
   ]
  },
  {
   "cell_type": "markdown",
   "metadata": {},
   "source": [
    "# 173 函数分组"
   ]
  },
  {
   "cell_type": "code",
   "execution_count": 70,
   "metadata": {},
   "outputs": [
    {
     "data": {
      "text/plain": [
       "[['up', 'users'], ['Python3', 'people']]"
      ]
     },
     "execution_count": 70,
     "metadata": {},
     "output_type": "execute_result"
    }
   ],
   "source": [
    "def bifurcate_by(lst, fn):\n",
    "    return [\n",
    "        [x for x in lst if fn(x)],\n",
    "        [x for x in lst if not fn(x)]\n",
    "    ]\n",
    "\n",
    "bifurcate_by(['Python3', 'up', 'users', 'people'], lambda x: x[0] =='u')"
   ]
  },
  {
   "cell_type": "markdown",
   "metadata": {},
   "source": [
    "![](https://images.gitbook.cn/5f355e60-5610-11ea-b227-d5a95658c855)"
   ]
  },
  {
   "cell_type": "markdown",
   "metadata": {},
   "source": [
    "# 174 差集"
   ]
  },
  {
   "cell_type": "code",
   "execution_count": 71,
   "metadata": {},
   "outputs": [
    {
     "data": {
      "text/plain": [
       "[3]"
      ]
     },
     "execution_count": 71,
     "metadata": {},
     "output_type": "execute_result"
    }
   ],
   "source": [
    "def difference(a, b):\n",
    "    _a, _b = set(a), set(b)\n",
    "    return [item for item in _a if item not in _b]\n",
    "difference([1,1,2,3,3], [1,2,4])"
   ]
  },
  {
   "cell_type": "markdown",
   "metadata": {},
   "source": [
    "![](https://images.gitbook.cn/12bb02a0-5611-11ea-908b-b5332759803b)"
   ]
  },
  {
   "cell_type": "markdown",
   "metadata": {},
   "source": [
    "# 175 函数差集\n",
    "\n",
    "列表 `a、b` 中元素经过 `fn` 映射后，返回在 `a` 不在 `b` 中的元素。"
   ]
  },
  {
   "cell_type": "code",
   "execution_count": 72,
   "metadata": {},
   "outputs": [],
   "source": [
    "def difference_by(a, b, fn):\n",
    "    _b = set(map(fn, b))\n",
    "    return [item for item in a if fn(item) not in _b]"
   ]
  },
  {
   "cell_type": "markdown",
   "metadata": {},
   "source": [
    "列表元素为单个元素:"
   ]
  },
  {
   "cell_type": "code",
   "execution_count": 73,
   "metadata": {},
   "outputs": [
    {
     "data": {
      "text/plain": [
       "[1.2]"
      ]
     },
     "execution_count": 73,
     "metadata": {},
     "output_type": "execute_result"
    }
   ],
   "source": [
    "from math import floor\n",
    "difference_by([2.1, 1.2], [2.3, 3.4], floor)"
   ]
  },
  {
   "cell_type": "markdown",
   "metadata": {},
   "source": [
    "![](https://images.gitbook.cn/32e3bcc0-5611-11ea-9dfa-cf3c87b75c44)"
   ]
  },
  {
   "cell_type": "markdown",
   "metadata": {},
   "source": [
    "列表元素为字典："
   ]
  },
  {
   "cell_type": "code",
   "execution_count": 74,
   "metadata": {},
   "outputs": [
    {
     "data": {
      "text/plain": [
       "[{'x': 2}]"
      ]
     },
     "execution_count": 74,
     "metadata": {},
     "output_type": "execute_result"
    }
   ],
   "source": [
    "difference_by([{'x':2}, {'x':1}], [{'x':1}], lambda v: v['x'])"
   ]
  },
  {
   "cell_type": "markdown",
   "metadata": {},
   "source": [
    "![](https://images.gitbook.cn/501f9020-5611-11ea-ac19-374315264b53)"
   ]
  },
  {
   "cell_type": "markdown",
   "metadata": {},
   "source": [
    "# 176 打乱一个列表\n",
    "\n",
    "使用 `random` 模块， `shuffle` 函数打乱原来列表，值得注意是 `in-place` 打乱。"
   ]
  },
  {
   "cell_type": "code",
   "execution_count": null,
   "metadata": {},
   "outputs": [],
   "source": [
    "import random\n",
    "a = range(10)\n",
    "random.shuffle(a)\n",
    "a"
   ]
  },
  {
   "cell_type": "markdown",
   "metadata": {},
   "source": [
    "# 177 字典按 value 排序并返回新字典?\n",
    "\n",
    "原字典：\n",
    "\n",
    "`d= {'a':12,'b':50,'c':1,'d':20}`\n",
    "\n",
    "使用 Python 内置函数 `sorted` 排序"
   ]
  },
  {
   "cell_type": "code",
   "execution_count": 83,
   "metadata": {},
   "outputs": [
    {
     "data": {
      "text/plain": [
       "{'c': 1, 'a': 12, 'd': 20, 'b': 50}"
      ]
     },
     "execution_count": 83,
     "metadata": {},
     "output_type": "execute_result"
    }
   ],
   "source": [
    "d= {'a':12,'b':50,'c':1,'d':20}\n",
    "d = dict(sorted(d.items(), key=lambda item: item[1]))\n",
    "d"
   ]
  },
  {
   "cell_type": "markdown",
   "metadata": {},
   "source": [
    "# 178 如何删除 list 里重复元素，并保证元素顺序不变\n",
    "\n",
    "给定列表：`a = [3,2,2,2,1,3]`\n",
    "\n",
    "如果只是删除重复元素，直接使用内置 set 函数，去重，但是不能保证原来元素顺序。\n",
    "\n",
    "不要这么做，列表删除某个元素后，后面的元素整体会向前移动。"
   ]
  },
  {
   "cell_type": "code",
   "execution_count": 86,
   "metadata": {},
   "outputs": [
    {
     "data": {
      "text/plain": [
       "[3, 2, 2, 1]"
      ]
     },
     "execution_count": 86,
     "metadata": {},
     "output_type": "execute_result"
    }
   ],
   "source": [
    "a = [3,2,2,2,1,3]\n",
    "def del_duplicated(a):\n",
    "    ac = a.copy()\n",
    "    b = []\n",
    "    for index, i in enumerate(ac):\n",
    "        if i in b:\n",
    "            del ac[index]\n",
    "        else:\n",
    "            b.append(i)\n",
    "    return ac\n",
    "\n",
    "r = del_duplicated(a)\n",
    "r"
   ]
  },
  {
   "cell_type": "markdown",
   "metadata": {},
   "source": [
    "正确做法:"
   ]
  },
  {
   "cell_type": "code",
   "execution_count": 88,
   "metadata": {},
   "outputs": [
    {
     "data": {
      "text/plain": [
       "[3, 2, 1]"
      ]
     },
     "execution_count": 88,
     "metadata": {},
     "output_type": "execute_result"
    }
   ],
   "source": [
    "def del_duplicated(a):\n",
    "    b = []\n",
    "    for i in a:\n",
    "        if i not in b:\n",
    "            b.append(i)\n",
    "    return b\n",
    "\n",
    "r = del_duplicated(a)\n",
    "r"
   ]
  },
  {
   "cell_type": "markdown",
   "metadata": {},
   "source": [
    "# 179 怎么找出两个列表的相同元素和不同元素？\n",
    "\n",
    "给定列表 `a = [3,2,2,2,1,3]`，列表 `b = [1,4,3,4,5]`\n",
    "\n",
    "使用集合，找出相同元素："
   ]
  },
  {
   "cell_type": "code",
   "execution_count": 89,
   "metadata": {},
   "outputs": [
    {
     "data": {
      "text/plain": [
       "({1, 3}, {2, 4, 5})"
      ]
     },
     "execution_count": 89,
     "metadata": {},
     "output_type": "execute_result"
    }
   ],
   "source": [
    "a = [3,2,2,2,1,3]\n",
    "b = [1,4,3,4,5]\n",
    "\n",
    "def ana(a, b):\n",
    "    aset, bset=set(a), set(b)\n",
    "    same=aset.intersection(bset)\n",
    "    differ=aset.difference(bset).union(bset.difference(aset))\n",
    "    return same, differ\n",
    "\n",
    "ana(a, b)"
   ]
  },
  {
   "cell_type": "markdown",
   "metadata": {},
   "source": [
    "# 180 统计一个文本中单词频次最高的 10 个单词\n",
    "\n",
    "使用 `yield` 解耦数据读取 `python_read` 和数据处理 `process`\n",
    "\n",
    "`python_read`：逐行读入\n",
    "\n",
    "`process`： 正则替换掉空字符，并使用空格，分隔字符串，保存到 `defaultdict` 对象中。"
   ]
  },
  {
   "cell_type": "code",
   "execution_count": 90,
   "metadata": {},
   "outputs": [],
   "source": [
    "from collections import Counter, defaultdict\n",
    "import re\n",
    "def python_read(filename):\n",
    "    with open(filename, 'r', encoding='utf-8') as f:\n",
    "        for line in f:\n",
    "            yield line\n",
    "\n",
    "d = defaultdict(int)\n",
    "\n",
    "def process(line):\n",
    "    for word in re.sub('\\W+', ' ', line).split():\n",
    "        d[word] += 1\n"
   ]
  },
  {
   "cell_type": "markdown",
   "metadata": {},
   "source": [
    "使用两个函数\n",
    "\n",
    "最后, 使用`Counter`类统计出频次最高的10个单词:"
   ]
  },
  {
   "cell_type": "code",
   "execution_count": 92,
   "metadata": {},
   "outputs": [
    {
     "name": "stdout",
     "output_type": "stream",
     "text": [
      "[('line', 4), ('import', 2), ('defaultdict', 2), ('re', 2), ('def', 2), ('filename', 2), ('f', 2), ('for', 2), ('in', 2), ('d', 2)]\n"
     ]
    }
   ],
   "source": [
    "for line in python_read('write_file.py'):\n",
    "    process(line)\n",
    "\n",
    "most10 = Counter(d).most_common(10)\n",
    "\n",
    "print(most10)"
   ]
  },
  {
   "cell_type": "markdown",
   "metadata": {},
   "source": [
    "# 181 反转一个整数，例如-12345 --> -54321\n",
    "\n",
    "如果 x 位于 （-10，10）间，直接返回；\n",
    "\n",
    "然后，将 x 转换为字符串对象 sx ；\n",
    "\n",
    "如果 x 是负数，截取 sx[1:]，并反转字符串；\n",
    "\n",
    "如果 x 是正数，直接反转字符串 ；\n",
    "\n",
    "最后使用内置函数 int() 转化为整数"
   ]
  },
  {
   "cell_type": "code",
   "execution_count": 93,
   "metadata": {},
   "outputs": [],
   "source": [
    "def reverse_int(x: int):\n",
    "    if -10 < x < 10:\n",
    "        return x\n",
    "    sx = str(x)\n",
    "\n",
    "    def reverse_str(sx):\n",
    "        return sx[::-1]\n",
    "\n",
    "    if sx[0] == '-':\n",
    "        sx = reverse_str(sx[1:])\n",
    "        x = int(sx)\n",
    "        return -x\n",
    "\n",
    "    sx = reverse_str(sx)\n",
    "    return int(sx)\n",
    "\n",
    "    "
   ]
  },
  {
   "cell_type": "markdown",
   "metadata": {},
   "source": [
    "# 182 以下代码输出结果\n",
    "\n",
    "此题需要注意, 内嵌函数`foo`使用两个变量`i`和`x`, 其中`x`为其形参, `i`为`enclosing`域内定义的变量.\n",
    "\n",
    "`rtn`添加三个函数`foo`, 但是并未发生调用."
   ]
  },
  {
   "cell_type": "code",
   "execution_count": 94,
   "metadata": {},
   "outputs": [
    {
     "name": "stdout",
     "output_type": "stream",
     "text": [
      "30\n",
      "30\n",
      "30\n"
     ]
    }
   ],
   "source": [
    "def f():\n",
    "    i = 0\n",
    "    def foo(x):\n",
    "        return i*x\n",
    "    rtn = []\n",
    "    while i < 3:\n",
    "        rtn.append(foo)\n",
    "        i += 1\n",
    "    return rtn\n",
    "# 调用函数f\n",
    "for fs in f():\n",
    "    print(fs(10))\n",
    "    "
   ]
  },
  {
   "cell_type": "markdown",
   "metadata": {},
   "source": [
    "直到 执行 `fs(10)` 时，内嵌函数 `foo` 才被调用，但是此时的 `enclosing` 变量 `i` 取值为 `3`"
   ]
  },
  {
   "cell_type": "code",
   "execution_count": 95,
   "metadata": {},
   "outputs": [
    {
     "name": "stdout",
     "output_type": "stream",
     "text": [
      "30\n",
      "30\n",
      "30\n"
     ]
    }
   ],
   "source": [
    "for fs in f():\n",
    "    print(fs(10))"
   ]
  },
  {
   "cell_type": "markdown",
   "metadata": {},
   "source": [
    "# 183 如下函数`foo`的调用哪些是正确的"
   ]
  },
  {
   "cell_type": "code",
   "execution_count": 96,
   "metadata": {},
   "outputs": [],
   "source": [
    "def foo(filename, a=0, b=1, c=2):\n",
    "    print('filename: %s \\n c: %d'%(filename,c))"
   ]
  },
  {
   "cell_type": "markdown",
   "metadata": {},
   "source": [
    "已知 `filename` 为 '`.`'，`c` 为 `10`，正确为 `foo` 函数传参的方法，以下哪些是对的，哪些是错误的？"
   ]
  },
  {
   "cell_type": "markdown",
   "metadata": {},
   "source": [
    "```python\n",
    "- A foo('.', 10)\n",
    "- B foo('.', 0, 1, 10)\n",
    "- C foo('.', 0, 1, c=10)\n",
    "- D foo('.', a=0, 1, 10)\n",
    "- E foo(filename='.', c=10)\n",
    "- F foo('.', c=10)\n",
    "```\n",
    "\n",
    "## 分析:\n",
    "- A 错误, a被赋值为10\n",
    "- B 正确, c是位置参数\n",
    "- C 正确, c是关键字参数\n",
    "- D 错误, 未知参数不能位于关键字参数后面\n",
    "- E 正确, filename和c都是关键字参数\n",
    "- F 正确, filename位置参数, c是关键字参数\n",
    "\n"
   ]
  },
  {
   "cell_type": "markdown",
   "metadata": {},
   "source": [
    "验证测试："
   ]
  },
  {
   "cell_type": "code",
   "execution_count": 98,
   "metadata": {},
   "outputs": [
    {
     "name": "stdout",
     "output_type": "stream",
     "text": [
      "filename: . \n",
      " c: 2\n"
     ]
    }
   ],
   "source": [
    "foo('.', 10)"
   ]
  },
  {
   "cell_type": "code",
   "execution_count": 99,
   "metadata": {},
   "outputs": [
    {
     "name": "stdout",
     "output_type": "stream",
     "text": [
      "filename: . \n",
      " c: 10\n"
     ]
    }
   ],
   "source": [
    "foo('.',0,1,10)"
   ]
  },
  {
   "cell_type": "code",
   "execution_count": 100,
   "metadata": {},
   "outputs": [
    {
     "name": "stdout",
     "output_type": "stream",
     "text": [
      "filename: . \n",
      " c: 10\n"
     ]
    }
   ],
   "source": [
    "foo('.',0,1,c=10)"
   ]
  },
  {
   "cell_type": "code",
   "execution_count": 101,
   "metadata": {},
   "outputs": [
    {
     "ename": "SyntaxError",
     "evalue": "positional argument follows keyword argument (2022290669.py, line 1)",
     "output_type": "error",
     "traceback": [
      "\u001b[0;36m  File \u001b[0;32m\"/var/folders/h4/7cr1cmpn7v5b3x20_9wz8m740000gn/T/ipykernel_21104/2022290669.py\"\u001b[0;36m, line \u001b[0;32m1\u001b[0m\n\u001b[0;31m    foo('.', a=0, 1, 10)\u001b[0m\n\u001b[0m                       ^\u001b[0m\n\u001b[0;31mSyntaxError\u001b[0m\u001b[0;31m:\u001b[0m positional argument follows keyword argument\n"
     ]
    }
   ],
   "source": [
    "foo('.', a=0, 1, 10)"
   ]
  },
  {
   "cell_type": "code",
   "execution_count": 102,
   "metadata": {},
   "outputs": [
    {
     "name": "stdout",
     "output_type": "stream",
     "text": [
      "filename: . \n",
      " c: 10\n"
     ]
    }
   ],
   "source": [
    "foo(filename='.', c=10)"
   ]
  },
  {
   "cell_type": "code",
   "execution_count": 103,
   "metadata": {},
   "outputs": [
    {
     "name": "stdout",
     "output_type": "stream",
     "text": [
      "filename: . \n",
      " c: 100\n"
     ]
    }
   ],
   "source": [
    "foo('.', c=100)"
   ]
  },
  {
   "cell_type": "markdown",
   "metadata": {},
   "source": [
    "# 184 单机 4 G 内存，处理 10 G文件的方法？\n",
    "\n",
    "假定可以单独处理一行数据，行间数据相关性为零。\n",
    "\n",
    "方法一：\n",
    "\n",
    "仅使用 Python 内置模板，逐行读取到内存。\n",
    "\n",
    "使用 yield，好处是解耦读取操作和处理操作："
   ]
  },
  {
   "cell_type": "code",
   "execution_count": 104,
   "metadata": {},
   "outputs": [],
   "source": [
    "def python_read(filename):\n",
    "    with open(filename, 'r', encoding='utf-8') as f:\n",
    "        for line in f:\n",
    "            yield line"
   ]
  },
  {
   "cell_type": "markdown",
   "metadata": {},
   "source": [
    "以上每次读取一行, 逐行迭代, 逐行处理数据"
   ]
  },
  {
   "cell_type": "code",
   "execution_count": null,
   "metadata": {},
   "outputs": [],
   "source": [
    "if __name__ == '__main__':\n",
    "    g = python_read('./data/movies.dat')\n",
    "    for c in g:\n",
    "        print(c)"
   ]
  },
  {
   "cell_type": "markdown",
   "metadata": {},
   "source": [
    "方法二：\n",
    "\n",
    "方法一有缺点，逐行读入，频繁的 IO 操作拖累处理效率。是否有一次 IO ，读取多行的方法？\n",
    "\n",
    "pandas 包 read_csv 函数，参数有 38 个之多，功能非常强大。\n",
    "\n",
    "关于单机处理大文件，read_csv 的 chunksize 参数能做到，设置为 5， 意味着一次读取 5 行。"
   ]
  },
  {
   "cell_type": "code",
   "execution_count": 107,
   "metadata": {},
   "outputs": [],
   "source": [
    "def pandas_read(filename, sep=',', chunksize=5):\n",
    "    reader=pd.read_csv(filename, sep=sep, chunksize=chunksize)\n",
    "    while True:\n",
    "        try:\n",
    "            yield reader.get_chunk()\n",
    "        except StopIteration:\n",
    "            print('-----Done------')\n",
    "            break"
   ]
  },
  {
   "cell_type": "markdown",
   "metadata": {},
   "source": [
    "使用如同方法一:"
   ]
  },
  {
   "cell_type": "code",
   "execution_count": null,
   "metadata": {},
   "outputs": [],
   "source": [
    "import pandas as pd\n",
    "if __name__ == '__main__':\n",
    "    g = pandas_read('./data/movies.dat', sep='::')\n",
    "    for c in g:\n",
    "        print(c)"
   ]
  },
  {
   "cell_type": "markdown",
   "metadata": {},
   "source": [
    "以上就是单机处理大文件的两个方法，推荐使用方法二，更加灵活。"
   ]
  },
  {
   "cell_type": "markdown",
   "metadata": {},
   "source": [
    "# 185 使用 filter() 求出列表中大于 10 的元素\n",
    "\n",
    "`filter`函数使用`lambda`函数, 找出满足大于10的元素"
   ]
  },
  {
   "cell_type": "code",
   "execution_count": 110,
   "metadata": {},
   "outputs": [
    {
     "data": {
      "text/plain": [
       "[15, 20, 400, 107]"
      ]
     },
     "execution_count": 110,
     "metadata": {},
     "output_type": "execute_result"
    }
   ],
   "source": [
    "a = [15, 2, 7, 20, 400, 10, 9, -15, 107]\n",
    "al = list(filter(lambda x: x>10, a))\n",
    "al"
   ]
  },
  {
   "cell_type": "markdown",
   "metadata": {},
   "source": [
    "# 186 说说下面map函数的输出结果\n",
    "`map`函数当含有多个列表时, 返回长度最短列表的长度;\n",
    "`lambda`函数的形参个数等于后面列表的个数."
   ]
  },
  {
   "cell_type": "code",
   "execution_count": 111,
   "metadata": {},
   "outputs": [
    {
     "name": "stdout",
     "output_type": "stream",
     "text": [
      "[3, 1, 3, 2]\n"
     ]
    }
   ],
   "source": [
    "m = map(lambda x, y: min(x,y), [5,1,3,4], [3,4,3,2,1])\n",
    "print(list(m))"
   ]
  },
  {
   "cell_type": "markdown",
   "metadata": {},
   "source": [
    "# 187 说说 reduce 函数的输出结果\n",
    "\n",
    "`reduce` 实现对列表的归约化简，规则如下\n",
    "\n",
    "`f(x,y) = x*y + 1`\n",
    "\n",
    "因此，下面归约的过程为：\n",
    "\n",
    "```\n",
    "f(1,2) = 3\n",
    "\n",
    "f(3,3) = 3*3 + 1 = 10\n",
    "\n",
    "f(10,4) = 10*4 + 1 = 41\n",
    "\n",
    "f(41,5) = 41*5 + 1 = 206\n",
    "```"
   ]
  },
  {
   "cell_type": "code",
   "execution_count": 112,
   "metadata": {},
   "outputs": [
    {
     "data": {
      "text/plain": [
       "206"
      ]
     },
     "execution_count": 112,
     "metadata": {},
     "output_type": "execute_result"
    }
   ],
   "source": [
    "from functools import reduce\n",
    "reduce(lambda x, y: x*y+1, [1,2,3,4,5])"
   ]
  },
  {
   "cell_type": "markdown",
   "metadata": {},
   "source": [
    "# 188 x = (i for i in range(5))，x 是什么类型\n",
    "\n",
    "x 是生成器类型\n",
    "\n",
    "与 for 等迭代，输出迭代结果："
   ]
  },
  {
   "cell_type": "code",
   "execution_count": 113,
   "metadata": {},
   "outputs": [
    {
     "name": "stdout",
     "output_type": "stream",
     "text": [
      "0\n",
      "1\n",
      "2\n",
      "3\n",
      "4\n"
     ]
    }
   ],
   "source": [
    "x = (i for i in range(5))\n",
    "for i in x:\n",
    "    print(i)"
   ]
  },
  {
   "cell_type": "markdown",
   "metadata": {},
   "source": [
    "# 189 写一个学生类`Student`\n",
    "\n",
    "添加一个属性`id`, 并实现若`id`相等, 则认为是同一位同学的功能.\n",
    "\n",
    "重写`__eq__`方法, 若`id`相等, 返回`True`"
   ]
  },
  {
   "cell_type": "code",
   "execution_count": 114,
   "metadata": {},
   "outputs": [],
   "source": [
    "class Student:\n",
    "    def __init__(self, id, name):\n",
    "        self.id = id\n",
    "        self.name = name\n",
    "    def __eq__(self, student):\n",
    "        return self.id == student.id"
   ]
  },
  {
   "cell_type": "markdown",
   "metadata": {},
   "source": [
    "判断两个Student对象, `==`的取值:"
   ]
  },
  {
   "cell_type": "code",
   "execution_count": 115,
   "metadata": {},
   "outputs": [
    {
     "data": {
      "text/plain": [
       "False"
      ]
     },
     "execution_count": 115,
     "metadata": {},
     "output_type": "execute_result"
    }
   ],
   "source": [
    "s1 = Student(10, 'xiaoming')\n",
    "s2 = Student(20, 'xiaohong')\n",
    "s3 = Student(10, 'xiaoming2')\n",
    "\n",
    "s1==s2"
   ]
  },
  {
   "cell_type": "code",
   "execution_count": 116,
   "metadata": {},
   "outputs": [
    {
     "data": {
      "text/plain": [
       "True"
      ]
     },
     "execution_count": 116,
     "metadata": {},
     "output_type": "execute_result"
    }
   ],
   "source": [
    "s1 == s3"
   ]
  },
  {
   "cell_type": "markdown",
   "metadata": {},
   "source": []
  }
 ],
 "metadata": {
  "interpreter": {
   "hash": "35f69483aa8b7b2bb12f1e6f2ffb8fe1120cf837ca5a80070d69961a5682f06d"
  },
  "kernelspec": {
   "display_name": "Python 3.9.5 64-bit ('tf': conda)",
   "name": "python3"
  },
  "language_info": {
   "codemirror_mode": {
    "name": "ipython",
    "version": 3
   },
   "file_extension": ".py",
   "mimetype": "text/x-python",
   "name": "python",
   "nbconvert_exporter": "python",
   "pygments_lexer": "ipython3",
   "version": "3.9.5"
  },
  "orig_nbformat": 4
 },
 "nbformat": 4,
 "nbformat_minor": 2
}
