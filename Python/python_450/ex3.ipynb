{
 "cells": [
  {
   "cell_type": "markdown",
   "source": [
    "# Python 中有字符类型吗？单个字符如何被解释？\n",
    "Python 中没有像 C++ 那样表示的字符类型（char），不管是单个字符抑或多个字符都会被统一解释为 str 对象。"
   ],
   "metadata": {}
  },
  {
   "cell_type": "markdown",
   "source": [
    "# 字符串方法 strip, replace, join 各自实现什么功能？"
   ],
   "metadata": {}
  },
  {
   "cell_type": "markdown",
   "source": [
    "`strip` 用于去除字符串前后的空格："
   ],
   "metadata": {}
  },
  {
   "cell_type": "code",
   "execution_count": 15,
   "source": [
    "' I Love python \\t\\n '.strip()"
   ],
   "outputs": [
    {
     "output_type": "execute_result",
     "data": {
      "text/plain": [
       "'I Love python'"
      ]
     },
     "metadata": {},
     "execution_count": 15
    }
   ],
   "metadata": {}
  },
  {
   "cell_type": "markdown",
   "source": [
    "`replace` 用于字符串的替换："
   ],
   "metadata": {}
  },
  {
   "cell_type": "code",
   "execution_count": 17,
   "source": [
    "'i love python'.replace(' ', '_')"
   ],
   "outputs": [
    {
     "output_type": "execute_result",
     "data": {
      "text/plain": [
       "'i_love_python'"
      ]
     },
     "metadata": {},
     "execution_count": 17
    }
   ],
   "metadata": {}
  },
  {
   "cell_type": "markdown",
   "source": [
    "`join`用于合并字符串"
   ],
   "metadata": {}
  },
  {
   "cell_type": "code",
   "execution_count": 19,
   "source": [
    "'_'.join(['book','store', 'count'])"
   ],
   "outputs": [
    {
     "output_type": "execute_result",
     "data": {
      "text/plain": [
       "'book_store_count'"
      ]
     },
     "metadata": {},
     "execution_count": 19
    }
   ],
   "metadata": {}
  },
  {
   "cell_type": "markdown",
   "source": [
    "# 子串判断的两种方法\n",
    "判断 a 串是否为 b 串的子串："
   ],
   "metadata": {}
  },
  {
   "cell_type": "markdown",
   "source": [
    "## 方法 1，使用 in :"
   ],
   "metadata": {}
  },
  {
   "cell_type": "code",
   "execution_count": 23,
   "source": [
    "a = 'our'\n",
    "b = 'flourish'\n",
    "r = True if a in b else False\n",
    "r"
   ],
   "outputs": [
    {
     "output_type": "execute_result",
     "data": {
      "text/plain": [
       "True"
      ]
     },
     "metadata": {},
     "execution_count": 23
    }
   ],
   "metadata": {}
  },
  {
   "cell_type": "markdown",
   "source": [
    "## 方法2, 使用方法`find`, 返回字符串`b`中匹配子串`a`的最小索引."
   ],
   "metadata": {}
  },
  {
   "cell_type": "code",
   "execution_count": 30,
   "source": [
    "a = 'our'\n",
    "b = 'flourish'"
   ],
   "outputs": [],
   "metadata": {}
  },
  {
   "cell_type": "code",
   "execution_count": 31,
   "source": [
    "b.find(a)"
   ],
   "outputs": [
    {
     "output_type": "execute_result",
     "data": {
      "text/plain": [
       "2"
      ]
     },
     "metadata": {},
     "execution_count": 31
    }
   ],
   "metadata": {}
  },
  {
   "cell_type": "markdown",
   "source": [
    "# 去除字符串开始和结尾处空格\n",
    "清洗字符串时，位于字符串开始和结尾的空格，有时需要去掉， strip 方法能实现。\n",
    "\n",
    "如下字符串，使用 strip，清理字符串开头和结尾的空格和制表符。"
   ],
   "metadata": {}
  },
  {
   "cell_type": "code",
   "execution_count": 28,
   "source": [
    "a = ' \\tI love python \\b\\n'\n",
    "a"
   ],
   "outputs": [
    {
     "output_type": "execute_result",
     "data": {
      "text/plain": [
       "' \\tI love python \\x08\\n'"
      ]
     },
     "metadata": {},
     "execution_count": 28
    }
   ],
   "metadata": {}
  },
  {
   "cell_type": "code",
   "execution_count": 29,
   "source": [
    "a.strip()"
   ],
   "outputs": [
    {
     "output_type": "execute_result",
     "data": {
      "text/plain": [
       "'I love python \\x08'"
      ]
     },
     "metadata": {},
     "execution_count": 29
    }
   ],
   "metadata": {}
  },
  {
   "cell_type": "markdown",
   "source": [
    "# 求字符串的字节长度\n",
    "encode 方法对字符串编码后"
   ],
   "metadata": {}
  },
  {
   "cell_type": "code",
   "execution_count": 33,
   "source": [
    "def str_byte_len(mystr):\n",
    "    mystr_bytes = mystr.encode('utf-8')\n",
    "    return (len(mystr_bytes))"
   ],
   "outputs": [],
   "metadata": {}
  },
  {
   "cell_type": "code",
   "execution_count": 34,
   "source": [
    "str_byte_len('i love python')"
   ],
   "outputs": [
    {
     "output_type": "execute_result",
     "data": {
      "text/plain": [
       "13"
      ]
     },
     "metadata": {},
     "execution_count": 34
    }
   ],
   "metadata": {}
  },
  {
   "cell_type": "markdown",
   "source": [
    "![](https://images.gitbook.cn/2020-04-29-34736.png)"
   ],
   "metadata": {}
  },
  {
   "cell_type": "markdown",
   "source": [
    "# 反转字符串的两种方法"
   ],
   "metadata": {}
  },
  {
   "cell_type": "code",
   "execution_count": 37,
   "source": [
    "s = 'python'\n",
    "# 方法1\n",
    "rs = ''.join(reversed(s))\n",
    "rs"
   ],
   "outputs": [
    {
     "output_type": "execute_result",
     "data": {
      "text/plain": [
       "'nohtyp'"
      ]
     },
     "metadata": {},
     "execution_count": 37
    }
   ],
   "metadata": {}
  },
  {
   "cell_type": "code",
   "execution_count": 38,
   "source": [
    "# 方法2\n",
    "s[::-1]"
   ],
   "outputs": [
    {
     "output_type": "execute_result",
     "data": {
      "text/plain": [
       "'nohtyp'"
      ]
     },
     "metadata": {},
     "execution_count": 38
    }
   ],
   "metadata": {}
  },
  {
   "cell_type": "markdown",
   "source": [
    "# 字符串切片的案例\n",
    "生成 1 到 15 的序列，并在满足条件的索引处，替换为 java 或 python ."
   ],
   "metadata": {}
  },
  {
   "cell_type": "code",
   "execution_count": 42,
   "source": [
    "java, python = 'java', 'python'\n",
    "jl, pl = len(java), len(python)\n",
    "[str(java[i%3*jl:] + python[i%5*pl:] or i) for i in range(1, 10)]"
   ],
   "outputs": [
    {
     "output_type": "execute_result",
     "data": {
      "text/plain": [
       "['1', '2', 'java', '4', 'python', 'java', '7', '8', 'java']"
      ]
     },
     "metadata": {},
     "execution_count": 42
    }
   ],
   "metadata": {}
  },
  {
   "cell_type": "markdown",
   "source": [
    "## 输出结果如图:\n",
    "![](https://images.gitbook.cn/2020-04-29-034737.png)"
   ],
   "metadata": {}
  },
  {
   "cell_type": "markdown",
   "source": [
    "# join 串联字符串\n",
    "用下划线 `_` 连接字符串 `mystr` :"
   ],
   "metadata": {}
  },
  {
   "cell_type": "code",
   "execution_count": 46,
   "source": [
    "mystr = ['I', 'love', 'Python']\n",
    "res = '_'.join(mystr)\n",
    "res"
   ],
   "outputs": [
    {
     "output_type": "execute_result",
     "data": {
      "text/plain": [
       "'I_love_Python'"
      ]
     },
     "metadata": {},
     "execution_count": 46
    }
   ],
   "metadata": {}
  },
  {
   "cell_type": "markdown",
   "source": [
    "![](https://images.gitbook.cn/2020-04-29-034738.png)"
   ],
   "metadata": {}
  },
  {
   "cell_type": "markdown",
   "source": [
    "# 分割字符串\n",
    "根据指定字符或字符串，分割一个字符串时，使用方法`split`\n",
    "\n",
    "`join` 和 `split` 可看做一对互逆操作"
   ],
   "metadata": {}
  },
  {
   "cell_type": "code",
   "execution_count": 48,
   "source": [
    "'I_love_python'.split('_')"
   ],
   "outputs": [
    {
     "output_type": "execute_result",
     "data": {
      "text/plain": [
       "['I', 'love', 'python']"
      ]
     },
     "metadata": {},
     "execution_count": 48
    }
   ],
   "metadata": {}
  },
  {
   "cell_type": "markdown",
   "source": [
    "# 字符替换\n",
    "字符串替换，使用 `replace` 方法。\n",
    "\n",
    "如下字符串，小写的 o 全部替换为大写的 O."
   ],
   "metadata": {}
  },
  {
   "cell_type": "code",
   "execution_count": 50,
   "source": [
    "s = 'i love python'.replace('o', 'O')\n",
    "s"
   ],
   "outputs": [
    {
     "output_type": "execute_result",
     "data": {
      "text/plain": [
       "'i lOve pythOn'"
      ]
     },
     "metadata": {},
     "execution_count": 50
    }
   ],
   "metadata": {}
  },
  {
   "cell_type": "markdown",
   "source": [
    "# 字符串处理成字典"
   ],
   "metadata": {}
  },
  {
   "cell_type": "markdown",
   "source": [
    "输入串：`\"k0:10|k1:2|k2:11|k3:5\"`\n",
    "\n",
    "输出字典： `{k0:10,k1:2,...}``\n",
    "\n",
    "第一层 `split`，根据分隔符 `|` ，分割出 `k0:10，k1:2，k2:11，k3:5`\n",
    "\n",
    "第二层 `split`，根据分隔符 `:`，分割出新字典的键值对\n",
    "\n",
    "使用字典生成式，得到结果，也就是一个新字典"
   ],
   "metadata": {}
  },
  {
   "cell_type": "code",
   "execution_count": 58,
   "source": [
    "m = map(lambda x: x.split(':'), 'k0:10|k1:2|k2:11|k3:5'.split('|'))\n",
    "print(m)\n",
    "{mi[0]:int(mi[1]) for mi in m}"
   ],
   "outputs": [
    {
     "output_type": "stream",
     "name": "stdout",
     "text": [
      "<map object at 0x1075199d0>\n"
     ]
    },
    {
     "output_type": "execute_result",
     "data": {
      "text/plain": [
       "{'k0': 10, 'k1': 2, 'k2': 11, 'k3': 5}"
      ]
     },
     "metadata": {},
     "execution_count": 58
    }
   ],
   "metadata": {}
  },
  {
   "cell_type": "code",
   "execution_count": null,
   "source": [],
   "outputs": [],
   "metadata": {}
  }
 ],
 "metadata": {
  "orig_nbformat": 4,
  "language_info": {
   "name": "python",
   "version": "3.9.5",
   "mimetype": "text/x-python",
   "codemirror_mode": {
    "name": "ipython",
    "version": 3
   },
   "pygments_lexer": "ipython3",
   "nbconvert_exporter": "python",
   "file_extension": ".py"
  },
  "kernelspec": {
   "name": "python3",
   "display_name": "Python 3.9.5 64-bit ('tf': conda)"
  },
  "interpreter": {
   "hash": "35f69483aa8b7b2bb12f1e6f2ffb8fe1120cf837ca5a80070d69961a5682f06d"
  }
 },
 "nbformat": 4,
 "nbformat_minor": 2
}