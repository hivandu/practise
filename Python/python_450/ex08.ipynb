{
 "cells": [
  {
   "cell_type": "markdown",
   "source": [
    "# Python 查找变量遵守什么顺序？ LEGB 规则是啥？\n",
    "在学习Python函数时, 我们经常会遇到变量作用域的问题, 有全局变量, 局部变量等, Python查找变量的顺序遵循LEGB规则, 即遇到某个变量时:\n",
    "- 优先从它所属的函数(`local`)内查找;\n",
    "- 若找不到, 并且它位于一个内嵌函数中,就再找到它的父函数(`enclosing`)中查找;\n",
    "- 如果还是找不到,再去全局作用域(`global`)查找;\n",
    "- 再找不到, 最后去内置作用域(`build-in`)查找\n",
    "- 若还是找不到, 报错\n",
    "\n",
    "如下例子，变量 c 在局部作用域 ( `local` ) 被发现；变量 b 在 `parent` 函数和 `son` 函数间( `enclosing` )被发现；变量 a 在全局作用域( `global` )被发现 ； `min` 函数属于 Python 中 内置函数 ，所以在搜寻完 `LEG` 三个区域后，最终在 `build-in` 域被找到。"
   ],
   "metadata": {}
  },
  {
   "cell_type": "code",
   "execution_count": 3,
   "source": [
    "a = 10\n",
    "def parent():\n",
    "    b=20\n",
    "    def son():\n",
    "        c=30\n",
    "        print(b+c)\n",
    "        print(a+b+c)\n",
    "        print(min(a, b, c))\n",
    "    son()\n",
    "\n",
    "parent()"
   ],
   "outputs": [
    {
     "output_type": "stream",
     "name": "stdout",
     "text": [
      "50\n",
      "60\n",
      "10\n"
     ]
    }
   ],
   "metadata": {}
  },
  {
   "cell_type": "markdown",
   "source": [
    "如下变量 d，在 LEGB 四个域都被搜寻一遍后，还是未找到，就会抛出 d 没有被发现的异常。"
   ],
   "metadata": {}
  },
  {
   "cell_type": "code",
   "execution_count": 5,
   "source": [
    "a=10\n",
    "def parent():\n",
    "    b=20\n",
    "    def son():\n",
    "        c = 30\n",
    "        print(b+c)\n",
    "        print(a+b+c)\n",
    "        print(min(a,b,c))\n",
    "        print(d)\n",
    "    son()\n",
    "parent()"
   ],
   "outputs": [
    {
     "output_type": "stream",
     "name": "stdout",
     "text": [
      "50\n",
      "60\n",
      "10\n"
     ]
    },
    {
     "output_type": "error",
     "ename": "NameError",
     "evalue": "name 'd' is not defined",
     "traceback": [
      "\u001b[0;31m---------------------------------------------------------------------------\u001b[0m",
      "\u001b[0;31mNameError\u001b[0m                                 Traceback (most recent call last)",
      "\u001b[0;32m/var/folders/h4/7cr1cmpn7v5b3x20_9wz8m740000gn/T/ipykernel_5487/2845140571.py\u001b[0m in \u001b[0;36m<module>\u001b[0;34m\u001b[0m\n\u001b[1;32m      9\u001b[0m         \u001b[0mprint\u001b[0m\u001b[0;34m(\u001b[0m\u001b[0md\u001b[0m\u001b[0;34m)\u001b[0m\u001b[0;34m\u001b[0m\u001b[0;34m\u001b[0m\u001b[0m\n\u001b[1;32m     10\u001b[0m     \u001b[0mson\u001b[0m\u001b[0;34m(\u001b[0m\u001b[0;34m)\u001b[0m\u001b[0;34m\u001b[0m\u001b[0;34m\u001b[0m\u001b[0m\n\u001b[0;32m---> 11\u001b[0;31m \u001b[0mparent\u001b[0m\u001b[0;34m(\u001b[0m\u001b[0;34m)\u001b[0m\u001b[0;34m\u001b[0m\u001b[0;34m\u001b[0m\u001b[0m\n\u001b[0m",
      "\u001b[0;32m/var/folders/h4/7cr1cmpn7v5b3x20_9wz8m740000gn/T/ipykernel_5487/2845140571.py\u001b[0m in \u001b[0;36mparent\u001b[0;34m()\u001b[0m\n\u001b[1;32m      8\u001b[0m         \u001b[0mprint\u001b[0m\u001b[0;34m(\u001b[0m\u001b[0mmin\u001b[0m\u001b[0;34m(\u001b[0m\u001b[0ma\u001b[0m\u001b[0;34m,\u001b[0m\u001b[0mb\u001b[0m\u001b[0;34m,\u001b[0m\u001b[0mc\u001b[0m\u001b[0;34m)\u001b[0m\u001b[0;34m)\u001b[0m\u001b[0;34m\u001b[0m\u001b[0;34m\u001b[0m\u001b[0m\n\u001b[1;32m      9\u001b[0m         \u001b[0mprint\u001b[0m\u001b[0;34m(\u001b[0m\u001b[0md\u001b[0m\u001b[0;34m)\u001b[0m\u001b[0;34m\u001b[0m\u001b[0;34m\u001b[0m\u001b[0m\n\u001b[0;32m---> 10\u001b[0;31m     \u001b[0mson\u001b[0m\u001b[0;34m(\u001b[0m\u001b[0;34m)\u001b[0m\u001b[0;34m\u001b[0m\u001b[0;34m\u001b[0m\u001b[0m\n\u001b[0m\u001b[1;32m     11\u001b[0m \u001b[0mparent\u001b[0m\u001b[0;34m(\u001b[0m\u001b[0;34m)\u001b[0m\u001b[0;34m\u001b[0m\u001b[0;34m\u001b[0m\u001b[0m\n",
      "\u001b[0;32m/var/folders/h4/7cr1cmpn7v5b3x20_9wz8m740000gn/T/ipykernel_5487/2845140571.py\u001b[0m in \u001b[0;36mson\u001b[0;34m()\u001b[0m\n\u001b[1;32m      7\u001b[0m         \u001b[0mprint\u001b[0m\u001b[0;34m(\u001b[0m\u001b[0ma\u001b[0m\u001b[0;34m+\u001b[0m\u001b[0mb\u001b[0m\u001b[0;34m+\u001b[0m\u001b[0mc\u001b[0m\u001b[0;34m)\u001b[0m\u001b[0;34m\u001b[0m\u001b[0;34m\u001b[0m\u001b[0m\n\u001b[1;32m      8\u001b[0m         \u001b[0mprint\u001b[0m\u001b[0;34m(\u001b[0m\u001b[0mmin\u001b[0m\u001b[0;34m(\u001b[0m\u001b[0ma\u001b[0m\u001b[0;34m,\u001b[0m\u001b[0mb\u001b[0m\u001b[0;34m,\u001b[0m\u001b[0mc\u001b[0m\u001b[0;34m)\u001b[0m\u001b[0;34m)\u001b[0m\u001b[0;34m\u001b[0m\u001b[0;34m\u001b[0m\u001b[0m\n\u001b[0;32m----> 9\u001b[0;31m         \u001b[0mprint\u001b[0m\u001b[0;34m(\u001b[0m\u001b[0md\u001b[0m\u001b[0;34m)\u001b[0m\u001b[0;34m\u001b[0m\u001b[0;34m\u001b[0m\u001b[0m\n\u001b[0m\u001b[1;32m     10\u001b[0m     \u001b[0mson\u001b[0m\u001b[0;34m(\u001b[0m\u001b[0;34m)\u001b[0m\u001b[0;34m\u001b[0m\u001b[0;34m\u001b[0m\u001b[0m\n\u001b[1;32m     11\u001b[0m \u001b[0mparent\u001b[0m\u001b[0;34m(\u001b[0m\u001b[0;34m)\u001b[0m\u001b[0;34m\u001b[0m\u001b[0;34m\u001b[0m\u001b[0m\n",
      "\u001b[0;31mNameError\u001b[0m: name 'd' is not defined"
     ]
    }
   ],
   "metadata": {}
  },
  {
   "cell_type": "markdown",
   "source": [
    "# 可变对象与可哈希的关系？\n",
    "\n",
    "可变对象英文名称 `mutable`，如 `list`, `dict` 都是不可哈希的(`unhashable`);只有不可变对象才是可哈希的。"
   ],
   "metadata": {}
  },
  {
   "cell_type": "markdown",
   "source": [
    "# 什么是浅拷贝? Python中列表对象怎么实现浅拷贝?\n",
    "仅仅实现list对象中内嵌对象的一层拷贝, 属于浅拷贝, 英文: `shallow copy`"
   ],
   "metadata": {}
  },
  {
   "cell_type": "code",
   "execution_count": 9,
   "source": [
    "lst2=['001', '2019-11-11', ['三文鱼','电烤箱']]\n",
    "sku_deep=lst2[2].copy()"
   ],
   "outputs": [],
   "metadata": {}
  },
  {
   "cell_type": "markdown",
   "source": [
    "可视化图如下，拷贝 `lst2[2]` 后，`sku_deep` 位于栈帧中指向一块新的内存空间：\n",
    "\n",
    "![](https://images.gitbook.cn/2020-04-29-034743.png)\n",
    "\n",
    "此时，再对 `sku_deep` 操作，便不会影响 `lst2[2]` 的值。"
   ],
   "metadata": {}
  },
  {
   "cell_type": "markdown",
   "source": [
    "# 什么是深拷贝？ Python 中怎么实现深拷贝？\n",
    "要想实现深度拷贝，需要使用 copy 模块的 deepcopy 函数："
   ],
   "metadata": {}
  },
  {
   "cell_type": "code",
   "execution_count": 12,
   "source": [
    "from copy import deepcopy\n",
    "a = [1,2,[3,4,5]]\n",
    "ac=deepcopy(a)\n",
    "ac[0]=10\n",
    "ac[2][1]=40\n",
    "print(a[0] == ac[0])\n",
    "print(a[2][1] == ac[2][1])"
   ],
   "outputs": [
    {
     "output_type": "stream",
     "name": "stdout",
     "text": [
      "False\n",
      "False\n"
     ]
    }
   ],
   "metadata": {}
  },
  {
   "cell_type": "markdown",
   "source": [
    "打印结果，都为 False，结合下图，也能看出内嵌的 list 全部完成复制，都指向了不同的内存区域。\n",
    "\n",
    "![](https://images.gitbook.cn/9e25b350-6145-11ea-b4a5-257b69c74d67)"
   ],
   "metadata": {}
  },
  {
   "cell_type": "markdown",
   "source": [
    "# Python 函数常见的有哪五类参数\n",
    "\n",
    "- 位置参数\n",
    "- 关键字参数\n",
    "- 默认参数\n",
    "- 可变位置参数\n",
    "- 可变关键字参数"
   ],
   "metadata": {}
  },
  {
   "cell_type": "markdown",
   "source": [
    "# Python 函数常见的五类参数案例\n",
    "定义函数 f，只有一个参数 a，a 既可能为位置参数，也可能为关键字参数，这取决于调用函数 f 的传参。"
   ],
   "metadata": {}
  },
  {
   "cell_type": "code",
   "execution_count": 13,
   "source": [
    "def f(a):\n",
    "    print(f'a:{a}')"
   ],
   "outputs": [],
   "metadata": {}
  },
  {
   "cell_type": "markdown",
   "source": [
    "下面这样调用 `f`，`a` 就是位置参数，英文 `positional argument` ，并且 `a` 被赋值为 1"
   ],
   "metadata": {}
  },
  {
   "cell_type": "code",
   "execution_count": 34,
   "source": [
    "f(1)"
   ],
   "outputs": [
    {
     "output_type": "stream",
     "name": "stdout",
     "text": [
      "a:1, b:(), c:{}\n"
     ]
    }
   ],
   "metadata": {}
  },
  {
   "cell_type": "markdown",
   "source": [
    "如果这样调用 `f`，`a` 就是关键字参数，英文 `keyword argument`，`a` 同样被赋值为 1："
   ],
   "metadata": {}
  },
  {
   "cell_type": "code",
   "execution_count": 36,
   "source": [
    "f(a=1)"
   ],
   "outputs": [
    {
     "output_type": "stream",
     "name": "stdout",
     "text": [
      "a:1, b:(), c:{}\n"
     ]
    }
   ],
   "metadata": {}
  },
  {
   "cell_type": "markdown",
   "source": [
    "如果函数 `f` 定义为如下，有一个默认值 0"
   ],
   "metadata": {}
  },
  {
   "cell_type": "code",
   "execution_count": 39,
   "source": [
    "def f(a=0):\n",
    "    print(f'a:{a}')\n",
    "    "
   ],
   "outputs": [],
   "metadata": {}
  },
  {
   "cell_type": "markdown",
   "source": [
    "那么，`a` 就是默认参数，且默认值为 0.\n",
    "有以下两种不同的调用方式："
   ],
   "metadata": {}
  },
  {
   "cell_type": "markdown",
   "source": [
    "- 按照`a`的默认值调用"
   ],
   "metadata": {}
  },
  {
   "cell_type": "code",
   "execution_count": 40,
   "source": [
    "f()"
   ],
   "outputs": [
    {
     "output_type": "stream",
     "name": "stdout",
     "text": [
      "a:0\n"
     ]
    }
   ],
   "metadata": {}
  },
  {
   "cell_type": "markdown",
   "source": [
    "- 默认参数a值为1"
   ],
   "metadata": {}
  },
  {
   "cell_type": "code",
   "execution_count": 41,
   "source": [
    "f(1)\n"
   ],
   "outputs": [
    {
     "output_type": "stream",
     "name": "stdout",
     "text": [
      "a:1\n"
     ]
    }
   ],
   "metadata": {}
  },
  {
   "cell_type": "markdown",
   "source": [
    "如果函数`f`定义为, 如下:"
   ],
   "metadata": {}
  },
  {
   "cell_type": "code",
   "execution_count": 42,
   "source": [
    "def f(a, *b, **c):\n",
    "    print(f'a:{a}, b:{b}, c:{c}')\n"
   ],
   "outputs": [],
   "metadata": {}
  },
  {
   "cell_type": "markdown",
   "source": [
    "函数`f`的参数稍显复杂, 但也是最常用的函数参数定义结构.\n",
    "\n",
    "出现带一个星号的参数 `b`，这是**可变位置参数**；\n",
    "\n",
    "带两个星号的参数 `c`，这是**可变关键字参数**。\n",
    "\n",
    "**可变**表示函数被赋值的变量个数是变化的\n",
    "\n",
    "例如，可以这样调用函数："
   ],
   "metadata": {}
  },
  {
   "cell_type": "code",
   "execution_count": 43,
   "source": [
    "f(1, 2, 3, w=4, h=5)"
   ],
   "outputs": [
    {
     "output_type": "stream",
     "name": "stdout",
     "text": [
      "a:1, b:(2, 3), c:{'w': 4, 'h': 5}\n"
     ]
    }
   ],
   "metadata": {}
  },
  {
   "cell_type": "markdown",
   "source": [
    "参数`b`被传递2个值, 参数`c`也被传递2个值\n",
    "\n",
    "可变位置参数`b`被解析为元祖, 可变关键字参数`c`被解析为字典"
   ],
   "metadata": {}
  },
  {
   "cell_type": "code",
   "execution_count": 45,
   "source": [
    "f(1, 2, 3, w=4, h=5)"
   ],
   "outputs": [
    {
     "output_type": "stream",
     "name": "stdout",
     "text": [
      "a:1, b:(2, 3), c:{'w': 4, 'h': 5}\n"
     ]
    }
   ],
   "metadata": {}
  },
  {
   "cell_type": "markdown",
   "source": [
    "如果这样调用函数:"
   ],
   "metadata": {}
  },
  {
   "cell_type": "code",
   "execution_count": 48,
   "source": [
    "f(1, 2, w=4)"
   ],
   "outputs": [
    {
     "output_type": "stream",
     "name": "stdout",
     "text": [
      "a:1, b:(2,), c:{'w': 4}\n"
     ]
    }
   ],
   "metadata": {}
  },
  {
   "cell_type": "markdown",
   "source": [
    "参数`b`被传递1个值, 参数`c`被传递1个值"
   ],
   "metadata": {}
  },
  {
   "cell_type": "code",
   "execution_count": 49,
   "source": [
    "f(1,2,w=4)"
   ],
   "outputs": [
    {
     "output_type": "stream",
     "name": "stdout",
     "text": [
      "a:1, b:(2,), c:{'w': 4}\n"
     ]
    }
   ],
   "metadata": {}
  },
  {
   "cell_type": "markdown",
   "source": [
    "所以，称带星号的变量为可变的。"
   ],
   "metadata": {}
  },
  {
   "cell_type": "markdown",
   "source": [
    "# Python 中如何查看参数的类型\n",
    "\n",
    "借助 Python 的 `inspect` 模块查看参数的类型。\n",
    "\n",
    "首先，导入 `inspect` 模块："
   ],
   "metadata": {}
  },
  {
   "cell_type": "code",
   "execution_count": 50,
   "source": [
    "from inspect import signature"
   ],
   "outputs": [],
   "metadata": {}
  },
  {
   "cell_type": "markdown",
   "source": [
    "函数`f`定义为:"
   ],
   "metadata": {}
  },
  {
   "cell_type": "code",
   "execution_count": 52,
   "source": [
    "def f(a, *b):\n",
    "    print(f'a:{a}, b:{b}')\n"
   ],
   "outputs": [],
   "metadata": {}
  },
  {
   "cell_type": "markdown",
   "source": [
    "查看参数类型:"
   ],
   "metadata": {}
  },
  {
   "cell_type": "code",
   "execution_count": 54,
   "source": [
    "for name, val in signature(f).parameters.items():\n",
    "    print(name, val.kind)"
   ],
   "outputs": [
    {
     "output_type": "stream",
     "name": "stdout",
     "text": [
      "a POSITIONAL_OR_KEYWORD\n",
      "b VAR_POSITIONAL\n"
     ]
    }
   ],
   "metadata": {}
  },
  {
   "cell_type": "markdown",
   "source": [
    "看到，参数 `a` 既可能是位置参数，也可能是关键字参数。\n",
    "\n",
    "参数 `b` 为可变位置参数。\n",
    "\n",
    "但是，如果函数 `f` 定义为："
   ],
   "metadata": {}
  },
  {
   "cell_type": "code",
   "execution_count": 57,
   "source": [
    "def f(*, a, **b):\n",
    "    print(f'a:{a}, b:{b}')"
   ],
   "outputs": [],
   "metadata": {}
  },
  {
   "cell_type": "markdown",
   "source": [
    "查看参数类型:"
   ],
   "metadata": {}
  },
  {
   "cell_type": "code",
   "execution_count": 59,
   "source": [
    "for name, val in signature(f).parameters.items():\n",
    "    print(name, val.kind)"
   ],
   "outputs": [
    {
     "output_type": "stream",
     "name": "stdout",
     "text": [
      "a KEYWORD_ONLY\n",
      "b VAR_KEYWORD\n"
     ]
    }
   ],
   "metadata": {}
  },
  {
   "cell_type": "markdown",
   "source": [
    "看到参数 `a` 只可能为 `KEYWORD_ONLY` 关键字参数。\n",
    "\n",
    "因为参数 `a` 前面有个星号，星号后面的参数 `a` 只可能是关键字参数，而不可能是位置参数。\n",
    "\n",
    "不能使用如下方法调用 `f`："
   ],
   "metadata": {}
  },
  {
   "cell_type": "code",
   "execution_count": 60,
   "source": [
    "f(1, b=2, c=3)"
   ],
   "outputs": [
    {
     "output_type": "error",
     "ename": "TypeError",
     "evalue": "f() takes 0 positional arguments but 1 was given",
     "traceback": [
      "\u001b[0;31m---------------------------------------------------------------------------\u001b[0m",
      "\u001b[0;31mTypeError\u001b[0m                                 Traceback (most recent call last)",
      "\u001b[0;32m/var/folders/h4/7cr1cmpn7v5b3x20_9wz8m740000gn/T/ipykernel_5487/3137231439.py\u001b[0m in \u001b[0;36m<module>\u001b[0;34m\u001b[0m\n\u001b[0;32m----> 1\u001b[0;31m \u001b[0mf\u001b[0m\u001b[0;34m(\u001b[0m\u001b[0;36m1\u001b[0m\u001b[0;34m,\u001b[0m \u001b[0mb\u001b[0m\u001b[0;34m=\u001b[0m\u001b[0;36m2\u001b[0m\u001b[0;34m,\u001b[0m \u001b[0mc\u001b[0m\u001b[0;34m=\u001b[0m\u001b[0;36m3\u001b[0m\u001b[0;34m)\u001b[0m\u001b[0;34m\u001b[0m\u001b[0;34m\u001b[0m\u001b[0m\n\u001b[0m",
      "\u001b[0;31mTypeError\u001b[0m: f() takes 0 positional arguments but 1 was given"
     ]
    }
   ],
   "metadata": {}
  },
  {
   "cell_type": "markdown",
   "source": [
    "# Python函数参数传值6大规则及常见错误解析\n",
    "\n",
    "Python强大多变, 原因之一在于函数参数的多样化\n",
    "\n",
    "方便的同时, 也要求开发者遵守更多的约束规则.\n",
    "\n",
    "如果不了解这些规则, 函数调用时, 可能会出现各种各样的调用异常.\n",
    "\n",
    "常见的有以下六类：\n",
    "\n",
    "- SyntaxError: positional argument follows keyword argument，位置参数位于关键字参数后面\n",
    "\n",
    "- TypeError: f() missing 1 required keyword-only argument: 'b'，必须传递的关键字参数缺失\n",
    "\n",
    "- SyntaxError: keyword argument repeated，关键字参数重复\n",
    "\n",
    "- TypeError: f() missing 1 required positional argument: 'b'，必须传递的位置参数缺失\n",
    "\n",
    "- TypeError: f() got an unexpected keyword argument 'a'，没有这个关键字参数\n",
    "\n",
    "- TypeError: f() takes 0 positional arguments but 1 was given，不需要位置参数但却传递 1 个"
   ],
   "metadata": {}
  },
  {
   "cell_type": "markdown",
   "source": [
    "下面总结， 6 个主要的参数使用规则。\n",
    "\n",
    "## 规则1: 不带默认值的位置参数缺一不可\n",
    "函数调用时，根据函数定义的参数位置来传递参数，是最常见的参数类型。"
   ],
   "metadata": {}
  },
  {
   "cell_type": "code",
   "execution_count": 62,
   "source": [
    "def f(a):\n",
    "    return a\n",
    "\n",
    "f(1) # 这样传递值, 参数`a`为位置参数"
   ],
   "outputs": [
    {
     "output_type": "execute_result",
     "data": {
      "text/plain": [
       "1"
      ]
     },
     "metadata": {},
     "execution_count": 62
    }
   ],
   "metadata": {}
  },
  {
   "cell_type": "markdown",
   "source": [
    "如下带有两个参数，传值时必须两个都赋值。"
   ],
   "metadata": {}
  },
  {
   "cell_type": "code",
   "execution_count": 64,
   "source": [
    "def f(a, b):\n",
    "    pass\n",
    "f(1)"
   ],
   "outputs": [
    {
     "output_type": "error",
     "ename": "TypeError",
     "evalue": "f() missing 1 required positional argument: 'b'",
     "traceback": [
      "\u001b[0;31m---------------------------------------------------------------------------\u001b[0m",
      "\u001b[0;31mTypeError\u001b[0m                                 Traceback (most recent call last)",
      "\u001b[0;32m/var/folders/h4/7cr1cmpn7v5b3x20_9wz8m740000gn/T/ipykernel_5487/2678977246.py\u001b[0m in \u001b[0;36m<module>\u001b[0;34m\u001b[0m\n\u001b[1;32m      1\u001b[0m \u001b[0;32mdef\u001b[0m \u001b[0mf\u001b[0m\u001b[0;34m(\u001b[0m\u001b[0ma\u001b[0m\u001b[0;34m,\u001b[0m \u001b[0mb\u001b[0m\u001b[0;34m)\u001b[0m\u001b[0;34m:\u001b[0m\u001b[0;34m\u001b[0m\u001b[0;34m\u001b[0m\u001b[0m\n\u001b[1;32m      2\u001b[0m     \u001b[0;32mpass\u001b[0m\u001b[0;34m\u001b[0m\u001b[0;34m\u001b[0m\u001b[0m\n\u001b[0;32m----> 3\u001b[0;31m \u001b[0mf\u001b[0m\u001b[0;34m(\u001b[0m\u001b[0;36m1\u001b[0m\u001b[0;34m)\u001b[0m\u001b[0;34m\u001b[0m\u001b[0;34m\u001b[0m\u001b[0m\n\u001b[0m",
      "\u001b[0;31mTypeError\u001b[0m: f() missing 1 required positional argument: 'b'"
     ]
    }
   ],
   "metadata": {}
  },
  {
   "cell_type": "markdown",
   "source": [
    "## 规则 2：关键字参数必须在位置参数右边\n",
    "\n",
    "在调用`f`时, 通过键-值方式为函数形参传值."
   ],
   "metadata": {}
  },
  {
   "cell_type": "code",
   "execution_count": 66,
   "source": [
    "def f(a):\n",
    "    print(f'a:{a}')"
   ],
   "outputs": [],
   "metadata": {}
  },
  {
   "cell_type": "markdown",
   "source": [
    "参数`a`变为关键字参数"
   ],
   "metadata": {}
  },
  {
   "cell_type": "code",
   "execution_count": 68,
   "source": [
    "f(a=1)"
   ],
   "outputs": [
    {
     "output_type": "stream",
     "name": "stdout",
     "text": [
      "a:1\n"
     ]
    }
   ],
   "metadata": {}
  },
  {
   "cell_type": "markdown",
   "source": [
    "但是，下面调用，就会出现：位置参数位于关键字参数后面的异常。"
   ],
   "metadata": {}
  },
  {
   "cell_type": "code",
   "execution_count": 70,
   "source": [
    "def f(a, b):\n",
    "    pass\n",
    "f(a=1, 20.)"
   ],
   "outputs": [
    {
     "output_type": "error",
     "ename": "SyntaxError",
     "evalue": "positional argument follows keyword argument (2643794317.py, line 3)",
     "traceback": [
      "\u001b[0;36m  File \u001b[0;32m\"/var/folders/h4/7cr1cmpn7v5b3x20_9wz8m740000gn/T/ipykernel_5487/2643794317.py\"\u001b[0;36m, line \u001b[0;32m3\u001b[0m\n\u001b[0;31m    f(a=1, 20.)\u001b[0m\n\u001b[0m              ^\u001b[0m\n\u001b[0;31mSyntaxError\u001b[0m\u001b[0;31m:\u001b[0m positional argument follows keyword argument\n"
     ]
    }
   ],
   "metadata": {}
  },
  {
   "cell_type": "markdown",
   "source": [
    "## 规则 3：对同一个形参不能重复传值\n",
    "\n",
    "下面调用也不OK:"
   ],
   "metadata": {}
  },
  {
   "cell_type": "code",
   "execution_count": 72,
   "source": [
    "def f(a, **b):\n",
    "    pass\n",
    "\n",
    "f(1, width=20., width=30.)"
   ],
   "outputs": [
    {
     "output_type": "error",
     "ename": "SyntaxError",
     "evalue": "keyword argument repeated: width (3361874650.py, line 4)",
     "traceback": [
      "\u001b[0;36m  File \u001b[0;32m\"/var/folders/h4/7cr1cmpn7v5b3x20_9wz8m740000gn/T/ipykernel_5487/3361874650.py\"\u001b[0;36m, line \u001b[0;32m4\u001b[0m\n\u001b[0;31m    f(1, width=20., width=30.)\u001b[0m\n\u001b[0m                    ^\u001b[0m\n\u001b[0;31mSyntaxError\u001b[0m\u001b[0;31m:\u001b[0m keyword argument repeated: width\n"
     ]
    }
   ],
   "metadata": {}
  },
  {
   "cell_type": "markdown",
   "source": [
    "## 规则 4：默认参数的定义应该在位置形参右面\n",
    "\n",
    "在定义函数时，可以为形参提供默认值。\n",
    "\n",
    "对于有默认值的形参，调用函数时，如果为该参数传值，则使用传入的值，否则使用默认值。\n",
    "\n",
    "如下 `b` 是默认参数："
   ],
   "metadata": {}
  },
  {
   "cell_type": "code",
   "execution_count": 74,
   "source": [
    "def f(a, b=1):\n",
    "    print(f'a:{a}, b:{b}')\n"
   ],
   "outputs": [],
   "metadata": {}
  },
  {
   "cell_type": "markdown",
   "source": [
    "默认参数通常应该定义成不可变类型。"
   ],
   "metadata": {}
  },
  {
   "cell_type": "markdown",
   "source": [
    "## 规则 5：可变位置参数不能传入关键字参数\n",
    "\n",
    "如下定义的参数 a 为可变位置参数："
   ],
   "metadata": {}
  },
  {
   "cell_type": "code",
   "execution_count": 77,
   "source": [
    "def f(*a):\n",
    "    print(a)"
   ],
   "outputs": [],
   "metadata": {}
  },
  {
   "cell_type": "markdown",
   "source": [
    "调用方法:"
   ],
   "metadata": {}
  },
  {
   "cell_type": "code",
   "execution_count": 79,
   "source": [
    "f(1)"
   ],
   "outputs": [
    {
     "output_type": "stream",
     "name": "stdout",
     "text": [
      "(1,)\n"
     ]
    }
   ],
   "metadata": {}
  },
  {
   "cell_type": "code",
   "execution_count": 80,
   "source": [
    "f(1, 2, 3)"
   ],
   "outputs": [
    {
     "output_type": "stream",
     "name": "stdout",
     "text": [
      "(1, 2, 3)\n"
     ]
    }
   ],
   "metadata": {}
  },
  {
   "cell_type": "markdown",
   "source": [
    "但是，不能这么调用："
   ],
   "metadata": {}
  },
  {
   "cell_type": "code",
   "execution_count": 82,
   "source": [
    "f(a=1)"
   ],
   "outputs": [
    {
     "output_type": "error",
     "ename": "TypeError",
     "evalue": "f() got an unexpected keyword argument 'a'",
     "traceback": [
      "\u001b[0;31m---------------------------------------------------------------------------\u001b[0m",
      "\u001b[0;31mTypeError\u001b[0m                                 Traceback (most recent call last)",
      "\u001b[0;32m/var/folders/h4/7cr1cmpn7v5b3x20_9wz8m740000gn/T/ipykernel_5487/2515507424.py\u001b[0m in \u001b[0;36m<module>\u001b[0;34m\u001b[0m\n\u001b[0;32m----> 1\u001b[0;31m \u001b[0mf\u001b[0m\u001b[0;34m(\u001b[0m\u001b[0ma\u001b[0m\u001b[0;34m=\u001b[0m\u001b[0;36m1\u001b[0m\u001b[0;34m)\u001b[0m\u001b[0;34m\u001b[0m\u001b[0;34m\u001b[0m\u001b[0m\n\u001b[0m",
      "\u001b[0;31mTypeError\u001b[0m: f() got an unexpected keyword argument 'a'"
     ]
    }
   ],
   "metadata": {}
  },
  {
   "cell_type": "markdown",
   "source": [
    "## 规则 6：可变关键字参数不能传入位置参数\n",
    "\n",
    "如下，`a` 是可变关键字参数："
   ],
   "metadata": {}
  },
  {
   "cell_type": "code",
   "execution_count": 84,
   "source": [
    "def f(**a):\n",
    "    print(a)"
   ],
   "outputs": [],
   "metadata": {}
  },
  {
   "cell_type": "markdown",
   "source": [
    "调用方法:"
   ],
   "metadata": {}
  },
  {
   "cell_type": "code",
   "execution_count": 86,
   "source": [
    "f(a=1)"
   ],
   "outputs": [
    {
     "output_type": "stream",
     "name": "stdout",
     "text": [
      "{'a': 1}\n"
     ]
    }
   ],
   "metadata": {}
  },
  {
   "cell_type": "code",
   "execution_count": 87,
   "source": [
    "f(a=1, b=2, width=3)"
   ],
   "outputs": [
    {
     "output_type": "stream",
     "name": "stdout",
     "text": [
      "{'a': 1, 'b': 2, 'width': 3}\n"
     ]
    }
   ],
   "metadata": {}
  },
  {
   "cell_type": "markdown",
   "source": [
    "但是, 不能这么调用:"
   ],
   "metadata": {}
  },
  {
   "cell_type": "code",
   "execution_count": 89,
   "source": [
    "f(1)"
   ],
   "outputs": [
    {
     "output_type": "error",
     "ename": "TypeError",
     "evalue": "f() takes 0 positional arguments but 1 was given",
     "traceback": [
      "\u001b[0;31m---------------------------------------------------------------------------\u001b[0m",
      "\u001b[0;31mTypeError\u001b[0m                                 Traceback (most recent call last)",
      "\u001b[0;32m/var/folders/h4/7cr1cmpn7v5b3x20_9wz8m740000gn/T/ipykernel_5487/1567560659.py\u001b[0m in \u001b[0;36m<module>\u001b[0;34m\u001b[0m\n\u001b[0;32m----> 1\u001b[0;31m \u001b[0mf\u001b[0m\u001b[0;34m(\u001b[0m\u001b[0;36m1\u001b[0m\u001b[0;34m)\u001b[0m\u001b[0;34m\u001b[0m\u001b[0;34m\u001b[0m\u001b[0m\n\u001b[0m",
      "\u001b[0;31mTypeError\u001b[0m: f() takes 0 positional arguments but 1 was given"
     ]
    }
   ],
   "metadata": {}
  },
  {
   "cell_type": "markdown",
   "source": [
    "#  高阶函数 filter 使用案例解读\n",
    "\n",
    "过滤器，过滤掉不满足函数 `function` 的元素，重新返回一个新的迭代器。\n",
    "\n",
    "这个函数大概等价于下面自定义函数 `filter_self` ："
   ],
   "metadata": {}
  },
  {
   "cell_type": "code",
   "execution_count": 98,
   "source": [
    "def filter_self(function, iterable):\n",
    "    return iter([ item for item in iterable if function(item)])"
   ],
   "outputs": [],
   "metadata": {}
  },
  {
   "cell_type": "markdown",
   "source": [
    "`filter_self`函数接收一个`function`作为参数, 满足条件的元素才得以保留.\n",
    "\n",
    "调用`filter_self`, 筛选出满足指定身高的学生. 其条件是, 男生身高超过1.75, 女生身高超过1.65"
   ],
   "metadata": {}
  },
  {
   "cell_type": "code",
   "execution_count": 106,
   "source": [
    "class Student():\n",
    "    def __init__(self,name,sex, height):\n",
    "        self.name = name\n",
    "        self.sex = sex\n",
    "        self.height = height\n",
    "\n",
    "def height_condition(stu):\n",
    "    if stu.sex=='male':\n",
    "        return stu.height > 1.75\n",
    "    else:\n",
    "        return stu.height > 1.65\n",
    "\n",
    "students = [\n",
    "    Student('xiaoming', 'male', 1.74),\n",
    "    Student('xiaohong', 'female', 1.68),\n",
    "    Student('xiaoli', 'male', 1.80),\n",
    "]\n",
    "\n",
    "students_satisfy = filter_self(height_condition, students)\n",
    "\n",
    "for stu in students_satisfy:\n",
    "    print(stu.name)"
   ],
   "outputs": [
    {
     "output_type": "stream",
     "name": "stdout",
     "text": [
      "xiaohong\n",
      "xiaoli\n"
     ]
    }
   ],
   "metadata": {}
  },
  {
   "cell_type": "markdown",
   "source": [
    "解释下 `height_condition` 函数，其第一个参数是可迭代对象 `iterable` 中的一个元素，这是值得注意的。\n",
    "\n",
    "以上使用自定义过滤函数，下面使用 Python 内置的 `filter` 函数，也实现一遍学生身高筛选功能。"
   ],
   "metadata": {}
  },
  {
   "cell_type": "code",
   "execution_count": 108,
   "source": [
    "students_satisfy = filter(height_condition, students)\n",
    "for stu in students_satisfy:\n",
    "    print(stu.name)\n",
    "    "
   ],
   "outputs": [
    {
     "output_type": "stream",
     "name": "stdout",
     "text": [
      "xiaohong\n",
      "xiaoli\n"
     ]
    }
   ],
   "metadata": {}
  },
  {
   "cell_type": "markdown",
   "source": [
    "打印结果，与上面使用自定义过滤函数实现的结果相同。"
   ],
   "metadata": {}
  },
  {
   "cell_type": "markdown",
   "source": [
    "# 高级函数之map函数使用案例\n",
    "\n",
    "它将`function`映射于`iterable`中的每一项, 并返回一个新的迭代器:\n",
    "\n",
    "如下, `map`函数实现每个元素加1:"
   ],
   "metadata": {}
  },
  {
   "cell_type": "code",
   "execution_count": 112,
   "source": [
    "mylst = [1, 3, 2, 4, 1]\n",
    "result = map(lambda x: x+1, mylst)\n",
    "result"
   ],
   "outputs": [
    {
     "output_type": "execute_result",
     "data": {
      "text/plain": [
       "<map at 0x1051e8f40>"
      ]
     },
     "metadata": {},
     "execution_count": 112
    }
   ],
   "metadata": {}
  },
  {
   "cell_type": "code",
   "execution_count": 113,
   "source": [
    "list(result)"
   ],
   "outputs": [
    {
     "output_type": "execute_result",
     "data": {
      "text/plain": [
       "[2, 4, 3, 5, 2]"
      ]
     },
     "metadata": {},
     "execution_count": 113
    }
   ],
   "metadata": {}
  },
  {
   "cell_type": "markdown",
   "source": [
    "同时注意到，`map` 函数支持 传入多个可迭代对象。\n",
    "\n",
    "当传入多个可迭代对象时，输出元素个数等于较短序列长度。\n",
    "\n",
    "如下，传入两个列表，`function` 就需要接受两个参数，取值分别对应第一、第二个列表中的元素。\n",
    "\n",
    "找到同时满足第一个列表的元素为奇数，第二个列表对应位置的元素为偶数的元素。"
   ],
   "metadata": {}
  },
  {
   "cell_type": "code",
   "execution_count": 115,
   "source": [
    "xy = map(lambda x, y: x%2==1 and y%2 == 0, [1, 3, 2, 4, 1], [3,2,1,2])"
   ],
   "outputs": [],
   "metadata": {}
  },
  {
   "cell_type": "code",
   "execution_count": 116,
   "source": [
    "for i in xy:\n",
    "    print(i)"
   ],
   "outputs": [
    {
     "output_type": "stream",
     "name": "stdout",
     "text": [
      "False\n",
      "True\n",
      "False\n",
      "False\n"
     ]
    }
   ],
   "metadata": {}
  },
  {
   "cell_type": "markdown",
   "source": [
    "借助 `map` 函数，还能实现向量级运算。"
   ],
   "metadata": {}
  },
  {
   "cell_type": "code",
   "execution_count": 118,
   "source": [
    "lst1 = [1, 2, 3, 4,5 ,6]"
   ],
   "outputs": [],
   "metadata": {}
  },
  {
   "cell_type": "code",
   "execution_count": 119,
   "source": [
    "lst2 = [3,4,5,6,3,2]"
   ],
   "outputs": [],
   "metadata": {}
  },
  {
   "cell_type": "code",
   "execution_count": 120,
   "source": [
    "def vector_add(x, y):\n",
    "    return list(map(lambda i, j: i+j, x, y))"
   ],
   "outputs": [],
   "metadata": {}
  },
  {
   "cell_type": "code",
   "execution_count": 121,
   "source": [
    "vector_add(lst1, lst2)"
   ],
   "outputs": [
    {
     "output_type": "execute_result",
     "data": {
      "text/plain": [
       "[4, 6, 8, 10, 8, 8]"
      ]
     },
     "metadata": {},
     "execution_count": 121
    }
   ],
   "metadata": {}
  },
  {
   "cell_type": "markdown",
   "source": [
    "同时还支持, 向量长度不等的加法运算:"
   ],
   "metadata": {}
  },
  {
   "cell_type": "code",
   "execution_count": 123,
   "source": [
    "lst1 = [1, 2, 3, 4, 5, 6]"
   ],
   "outputs": [],
   "metadata": {}
  },
  {
   "cell_type": "code",
   "execution_count": 125,
   "source": [
    "lst3 = [1, 2]\n",
    "vector_add(lst1, lst3)"
   ],
   "outputs": [
    {
     "output_type": "execute_result",
     "data": {
      "text/plain": [
       "[2, 4]"
      ]
     },
     "metadata": {},
     "execution_count": 125
    }
   ],
   "metadata": {}
  },
  {
   "cell_type": "markdown",
   "source": [
    "# 高阶函数之reduce使用案例\n",
    "`reduce(function, iterable[, initializer])`\n",
    "\n",
    "提到`map`, 就会想起`reduce`, 前者生成映射关系, 后者实现归约.\n",
    "\n",
    "`reduce`函数位于`functools`模块中, 使用钱需要先导入."
   ],
   "metadata": {}
  },
  {
   "cell_type": "code",
   "execution_count": 127,
   "source": [
    "from functools import reduce"
   ],
   "outputs": [],
   "metadata": {}
  },
  {
   "cell_type": "markdown",
   "source": [
    "`reduce`函数中第一个参数是函数`function`. `function`函数, 参数个数必须为2, 是可迭代对象`iterable内的连续两项.\n",
    "\n",
    "计算过程, 从左侧到右侧, 依次归约, 直到最终为单个值并返回."
   ],
   "metadata": {}
  },
  {
   "cell_type": "code",
   "execution_count": 129,
   "source": [
    "reduce(lambda x, y: x+y, list(range(10)))"
   ],
   "outputs": [
    {
     "output_type": "execute_result",
     "data": {
      "text/plain": [
       "45"
      ]
     },
     "metadata": {},
     "execution_count": 129
    }
   ],
   "metadata": {}
  },
  {
   "cell_type": "markdown",
   "source": [
    "以上, `reduce`的完整过程, 参考下面的掩饰动画:\n",
    "![](https://images.gitbook.cn/87b97740-5651-11ea-b227-d5a95658c855)"
   ],
   "metadata": {}
  },
  {
   "cell_type": "markdown",
   "source": [
    "# 常用函数之 reversed\n",
    "\n",
    "`reversed(seq)`\n",
    "\n",
    "重新生成一个反向迭代器, 对输入的序列实现反转"
   ],
   "metadata": {}
  },
  {
   "cell_type": "code",
   "execution_count": 133,
   "source": [
    "rev = reversed([1,4,2,3,1])\n",
    "for i in rev:\n",
    "    print(i)"
   ],
   "outputs": [
    {
     "output_type": "stream",
     "name": "stdout",
     "text": [
      "1\n",
      "3\n",
      "2\n",
      "4\n",
      "1\n"
     ]
    }
   ],
   "metadata": {}
  },
  {
   "cell_type": "markdown",
   "source": [
    "反转过程，动画演示如下：\n",
    "\n",
    "![](https://images.gitbook.cn/2f504c40-5652-11ea-ad74-0783a5f0ad5e)"
   ],
   "metadata": {}
  },
  {
   "cell_type": "markdown",
   "source": [
    "# 常用函数之 sorted\n",
    "\n",
    "`sorted(iterable, *, key=None, reverse=False)`\n",
    "\n",
    "实现对序列化对象的排序\n",
    "\n",
    "`key` 参数和 `reverse` 参数必须为关键字参数，都可省略。`"
   ],
   "metadata": {}
  },
  {
   "cell_type": "code",
   "execution_count": 136,
   "source": [
    "a = [1,4,2,3,1]\n",
    "sorted(a, reverse=True)"
   ],
   "outputs": [
    {
     "output_type": "execute_result",
     "data": {
      "text/plain": [
       "[4, 3, 2, 1, 1]"
      ]
     },
     "metadata": {},
     "execution_count": 136
    }
   ],
   "metadata": {}
  },
  {
   "cell_type": "markdown",
   "source": [
    "如果可迭代对象的元素也是一个复合对象，如下为字典。\n",
    "\n",
    "依据依据为字典键的值，`sorted` 的 `key` 函数就会被用到。"
   ],
   "metadata": {}
  },
  {
   "cell_type": "code",
   "execution_count": 138,
   "source": [
    "a = [\n",
    "    {'name':'xiaoming', 'age':20, 'gender':'male'},\n",
    "    {'name':'xiaohong', 'age': 18, 'gender':'female'},\n",
    "    {'name':'xiaoli', 'age':19, 'gender':'male'}]\n",
    "\n",
    "b = sorted(a, key=lambda x: x['age'], reverse=False)\n",
    "\n",
    "b"
   ],
   "outputs": [
    {
     "output_type": "execute_result",
     "data": {
      "text/plain": [
       "[{'name': 'xiaohong', 'age': 18, 'gender': 'female'},\n",
       " {'name': 'xiaoli', 'age': 19, 'gender': 'male'},\n",
       " {'name': 'xiaoming', 'age': 20, 'gender': 'male'}]"
      ]
     },
     "metadata": {},
     "execution_count": 138
    }
   ],
   "metadata": {}
  },
  {
   "cell_type": "markdown",
   "source": [
    "排序的可视化图，如下所示：\n",
    "\n",
    "![](https://images.gitbook.cn/7f5782d0-5652-11ea-ac19-374315264b53)"
   ],
   "metadata": {}
  },
  {
   "cell_type": "markdown",
   "source": [
    "# 常用函数之 iter\n",
    "\n",
    "`iter(object[, sentinel])`\n",
    "\n",
    "返回一个严格意义上的可迭代对象, 其中, 参数`sentinel`可有可无."
   ],
   "metadata": {}
  },
  {
   "cell_type": "code",
   "execution_count": 141,
   "source": [
    "lst = [1, 3, 5]\n",
    "it = iter(lst)\n",
    "it"
   ],
   "outputs": [
    {
     "output_type": "execute_result",
     "data": {
      "text/plain": [
       "<list_iterator at 0x1051ec4f0>"
      ]
     },
     "metadata": {},
     "execution_count": 141
    }
   ],
   "metadata": {}
  },
  {
   "cell_type": "code",
   "execution_count": 142,
   "source": [
    "it.__next__()"
   ],
   "outputs": [
    {
     "output_type": "execute_result",
     "data": {
      "text/plain": [
       "1"
      ]
     },
     "metadata": {},
     "execution_count": 142
    }
   ],
   "metadata": {}
  },
  {
   "cell_type": "code",
   "execution_count": 143,
   "source": [
    "it.__next__()"
   ],
   "outputs": [
    {
     "output_type": "execute_result",
     "data": {
      "text/plain": [
       "3"
      ]
     },
     "metadata": {},
     "execution_count": 143
    }
   ],
   "metadata": {}
  },
  {
   "cell_type": "code",
   "execution_count": 144,
   "source": [
    "it.__next__()"
   ],
   "outputs": [
    {
     "output_type": "execute_result",
     "data": {
      "text/plain": [
       "5"
      ]
     },
     "metadata": {},
     "execution_count": 144
    }
   ],
   "metadata": {}
  },
  {
   "cell_type": "code",
   "execution_count": 145,
   "source": [
    "it.__next__()"
   ],
   "outputs": [
    {
     "output_type": "error",
     "ename": "StopIteration",
     "evalue": "",
     "traceback": [
      "\u001b[0;31m---------------------------------------------------------------------------\u001b[0m",
      "\u001b[0;31mStopIteration\u001b[0m                             Traceback (most recent call last)",
      "\u001b[0;32m/var/folders/h4/7cr1cmpn7v5b3x20_9wz8m740000gn/T/ipykernel_5487/1433604008.py\u001b[0m in \u001b[0;36m<module>\u001b[0;34m\u001b[0m\n\u001b[0;32m----> 1\u001b[0;31m \u001b[0mit\u001b[0m\u001b[0;34m.\u001b[0m\u001b[0m__next__\u001b[0m\u001b[0;34m(\u001b[0m\u001b[0;34m)\u001b[0m\u001b[0;34m\u001b[0m\u001b[0;34m\u001b[0m\u001b[0m\n\u001b[0m",
      "\u001b[0;31mStopIteration\u001b[0m: "
     ]
    }
   ],
   "metadata": {}
  },
  {
   "cell_type": "markdown",
   "source": [
    "`it` 迭代结束后，再 `__next__` 时，触发 `StopIteration` 异常，即迭代器已经执行到最后。"
   ],
   "metadata": {}
  },
  {
   "cell_type": "markdown",
   "source": [],
   "metadata": {}
  }
 ],
 "metadata": {
  "orig_nbformat": 4,
  "language_info": {
   "name": "python",
   "version": "3.9.5",
   "mimetype": "text/x-python",
   "codemirror_mode": {
    "name": "ipython",
    "version": 3
   },
   "pygments_lexer": "ipython3",
   "nbconvert_exporter": "python",
   "file_extension": ".py"
  },
  "kernelspec": {
   "name": "python3",
   "display_name": "Python 3.9.5 64-bit ('tf': conda)"
  },
  "interpreter": {
   "hash": "35f69483aa8b7b2bb12f1e6f2ffb8fe1120cf837ca5a80070d69961a5682f06d"
  }
 },
 "nbformat": 4,
 "nbformat_minor": 2
}