{
 "cells": [
  {
   "cell_type": "markdown",
   "source": [
    "# Python 中如何定义一个自己的 class ?\n",
    "Python 使用关键字 class 定制自己的类，self 表示类实例对象本身。\n",
    "\n",
    "一个自定义类内包括属性、方法，其中有些方法是自带的。\n",
    "\n",
    "## 类(对象):"
   ],
   "metadata": {}
  },
  {
   "cell_type": "code",
   "execution_count": 2,
   "source": [
    "class Dog(object):\n",
    "    pass"
   ],
   "outputs": [],
   "metadata": {}
  },
  {
   "cell_type": "markdown",
   "source": [
    "\n",
    "以上定义一个Dog对象, 它继承于根类Object, pass表示没有自定义任何属性和方法"
   ],
   "metadata": {}
  },
  {
   "cell_type": "markdown",
   "source": [
    "# classmethod使用总结\n",
    "`classmethod`修饰符对应的函数不需要实例化, 不需要self参数\n",
    "第一个参数需要时表示自身类的cls参数, 能调用累的属性、方法、实例等"
   ],
   "metadata": {}
  },
  {
   "cell_type": "code",
   "execution_count": 7,
   "source": [
    "class Student():\n",
    "    def __init__(self, id=None, name=None):\n",
    "        self.id=id\n",
    "        self.name=name\n",
    "\n",
    "    def instance_method(self):\n",
    "        print('这是实例的方法')\n",
    "        return self\n",
    "\n",
    "    @classmethod\n",
    "    def __annotations__(cls):\n",
    "        return '学生类'\n",
    "\n",
    "    @classmethod\n",
    "    def print_type_name(cls):\n",
    "        print('这是类上的方法, 类名为 %s, 注解为 %s' %(cls.__name__, cls.__annotations__()))"
   ],
   "outputs": [],
   "metadata": {}
  },
  {
   "cell_type": "code",
   "execution_count": 8,
   "source": [
    "Student().print_type_name()"
   ],
   "outputs": [
    {
     "output_type": "stream",
     "name": "stdout",
     "text": [
      "这是类上的方法, 类名为 Student, 注解为 学生类\n"
     ]
    }
   ],
   "metadata": {}
  },
  {
   "cell_type": "code",
   "execution_count": 9,
   "source": [
    "Student().instance_method()"
   ],
   "outputs": [
    {
     "output_type": "stream",
     "name": "stdout",
     "text": [
      "这是实例的方法\n"
     ]
    },
    {
     "output_type": "execute_result",
     "data": {
      "text/plain": [
       "<__main__.Student at 0x107d3d250>"
      ]
     },
     "metadata": {},
     "execution_count": 9
    }
   ],
   "metadata": {}
  },
  {
   "cell_type": "markdown",
   "source": [
    "![](https://images.gitbook.cn/2020-04-29-042343.png)"
   ],
   "metadata": {}
  },
  {
   "cell_type": "markdown",
   "source": [
    "# 删除对象的属性\n",
    "`delattr(object, name)`\n",
    "删除对象的属性, 在不需要某个或某些属性时, 这个方法就会很有用"
   ],
   "metadata": {}
  },
  {
   "cell_type": "code",
   "execution_count": 13,
   "source": [
    "class Student():\n",
    "    def __init__(self, id=None, name=None):\n",
    "        self.id=id\n",
    "        self.name=name"
   ],
   "outputs": [],
   "metadata": {}
  },
  {
   "cell_type": "code",
   "execution_count": 14,
   "source": [
    "xiaoming=Student(1, 'xiaoming')\n",
    "delattr(xiaoming, 'id')\n",
    "xiaoming.id"
   ],
   "outputs": [
    {
     "output_type": "error",
     "ename": "AttributeError",
     "evalue": "'Student' object has no attribute 'id'",
     "traceback": [
      "\u001b[0;31m---------------------------------------------------------------------------\u001b[0m",
      "\u001b[0;31mAttributeError\u001b[0m                            Traceback (most recent call last)",
      "\u001b[0;32m/var/folders/h4/7cr1cmpn7v5b3x20_9wz8m740000gn/T/ipykernel_48673/3867225821.py\u001b[0m in \u001b[0;36m<module>\u001b[0;34m\u001b[0m\n\u001b[1;32m      1\u001b[0m \u001b[0mxiaoming\u001b[0m\u001b[0;34m=\u001b[0m\u001b[0mStudent\u001b[0m\u001b[0;34m(\u001b[0m\u001b[0;36m1\u001b[0m\u001b[0;34m,\u001b[0m \u001b[0;34m'xiaoming'\u001b[0m\u001b[0;34m)\u001b[0m\u001b[0;34m\u001b[0m\u001b[0;34m\u001b[0m\u001b[0m\n\u001b[1;32m      2\u001b[0m \u001b[0mdelattr\u001b[0m\u001b[0;34m(\u001b[0m\u001b[0mxiaoming\u001b[0m\u001b[0;34m,\u001b[0m \u001b[0;34m'id'\u001b[0m\u001b[0;34m)\u001b[0m\u001b[0;34m\u001b[0m\u001b[0;34m\u001b[0m\u001b[0m\n\u001b[0;32m----> 3\u001b[0;31m \u001b[0mxiaoming\u001b[0m\u001b[0;34m.\u001b[0m\u001b[0mid\u001b[0m\u001b[0;34m\u001b[0m\u001b[0;34m\u001b[0m\u001b[0m\n\u001b[0m",
      "\u001b[0;31mAttributeError\u001b[0m: 'Student' object has no attribute 'id'"
     ]
    }
   ],
   "metadata": {}
  },
  {
   "cell_type": "code",
   "execution_count": 16,
   "source": [
    "hasattr(xiaoming, 'id') # xiaoming上没有id属性"
   ],
   "outputs": [
    {
     "output_type": "execute_result",
     "data": {
      "text/plain": [
       "False"
      ]
     },
     "metadata": {},
     "execution_count": 16
    }
   ],
   "metadata": {}
  },
  {
   "cell_type": "markdown",
   "source": [
    "# 获取对象的属性\n",
    "`getattr(object, name[, defalut])`\n",
    "获取对象的属性\n"
   ],
   "metadata": {}
  },
  {
   "cell_type": "code",
   "execution_count": 18,
   "source": [
    "class Student():\n",
    "    def __init__(self, id=None, name=None):\n",
    "        self.id=id\n",
    "        self.name=name\n",
    "\n",
    "\n",
    "getattr(xiaoming, 'name')"
   ],
   "outputs": [
    {
     "output_type": "execute_result",
     "data": {
      "text/plain": [
       "'xiaoming'"
      ]
     },
     "metadata": {},
     "execution_count": 18
    }
   ],
   "metadata": {}
  },
  {
   "cell_type": "markdown",
   "source": [
    "# 判断对象是否有某个属性名称\n",
    "`hasattr(obejct, name)`"
   ],
   "metadata": {}
  },
  {
   "cell_type": "code",
   "execution_count": 20,
   "source": [
    "class Student():\n",
    "    def __init__(self, id=None, name=None):\n",
    "        self.id=id\n",
    "        self.name=name\n",
    "\n",
    "hasattr(xiaoming, 'name')"
   ],
   "outputs": [
    {
     "output_type": "execute_result",
     "data": {
      "text/plain": [
       "True"
      ]
     },
     "metadata": {},
     "execution_count": 20
    }
   ],
   "metadata": {}
  },
  {
   "cell_type": "code",
   "execution_count": 21,
   "source": [
    "delattr(xiaoming, 'id')"
   ],
   "outputs": [
    {
     "output_type": "error",
     "ename": "AttributeError",
     "evalue": "id",
     "traceback": [
      "\u001b[0;31m---------------------------------------------------------------------------\u001b[0m",
      "\u001b[0;31mAttributeError\u001b[0m                            Traceback (most recent call last)",
      "\u001b[0;32m/var/folders/h4/7cr1cmpn7v5b3x20_9wz8m740000gn/T/ipykernel_48673/754490409.py\u001b[0m in \u001b[0;36m<module>\u001b[0;34m\u001b[0m\n\u001b[0;32m----> 1\u001b[0;31m \u001b[0mdelattr\u001b[0m\u001b[0;34m(\u001b[0m\u001b[0mxiaoming\u001b[0m\u001b[0;34m,\u001b[0m \u001b[0;34m'id'\u001b[0m\u001b[0;34m)\u001b[0m\u001b[0;34m\u001b[0m\u001b[0;34m\u001b[0m\u001b[0m\n\u001b[0m",
      "\u001b[0;31mAttributeError\u001b[0m: id"
     ]
    }
   ],
   "metadata": {}
  },
  {
   "cell_type": "code",
   "execution_count": 22,
   "source": [
    "hasattr(xiaoming, 'id')"
   ],
   "outputs": [
    {
     "output_type": "execute_result",
     "data": {
      "text/plain": [
       "False"
      ]
     },
     "metadata": {},
     "execution_count": 22
    }
   ],
   "metadata": {}
  },
  {
   "cell_type": "markdown",
   "source": [
    "# 实例属于某个对象判断\n",
    "\n",
    "`isinstance(object, classinfo)`\n",
    "\n",
    "判断`object`是否为类`classinfo`实例, 若是, 返回`true`"
   ],
   "metadata": {}
  },
  {
   "cell_type": "code",
   "execution_count": 24,
   "source": [
    "class Student():\n",
    "    def __init__(self, id=None, name=None):\n",
    "        self.id = id\n",
    "        self.name = name\n",
    "\n",
    "xiaoming = Student('001', 'xiaoming')\n",
    "isinstance(xiaoming, Student)"
   ],
   "outputs": [
    {
     "output_type": "execute_result",
     "data": {
      "text/plain": [
       "True"
      ]
     },
     "metadata": {},
     "execution_count": 24
    }
   ],
   "metadata": {}
  },
  {
   "cell_type": "markdown",
   "source": [
    "序列类型的基类为`Iterable`, 所以返回`True`"
   ],
   "metadata": {}
  },
  {
   "cell_type": "code",
   "execution_count": 26,
   "source": [
    "from collections.abc import Iterable\n",
    "isinstance([1, 2, 3], Iterable)\n"
   ],
   "outputs": [
    {
     "output_type": "execute_result",
     "data": {
      "text/plain": [
       "True"
      ]
     },
     "metadata": {},
     "execution_count": 26
    }
   ],
   "metadata": {}
  },
  {
   "cell_type": "markdown",
   "source": [
    "# 子类判断\n",
    "`issubclass(class, classinfo)`\n",
    "\n",
    "如果`class`是`classinfo`类的子类, 返回`True`:"
   ],
   "metadata": {}
  },
  {
   "cell_type": "code",
   "execution_count": 28,
   "source": [
    "class undergraduate(Student):\n",
    "    def studyClass(self):\n",
    "        pass\n",
    "    def attendActivity(self):\n",
    "        pass\n",
    "\n",
    "issubclass(undergraduate, Student)"
   ],
   "outputs": [
    {
     "output_type": "execute_result",
     "data": {
      "text/plain": [
       "True"
      ]
     },
     "metadata": {},
     "execution_count": 28
    }
   ],
   "metadata": {}
  },
  {
   "cell_type": "code",
   "execution_count": 29,
   "source": [
    "issubclass(object, Student)"
   ],
   "outputs": [
    {
     "output_type": "execute_result",
     "data": {
      "text/plain": [
       "False"
      ]
     },
     "metadata": {},
     "execution_count": 29
    }
   ],
   "metadata": {}
  },
  {
   "cell_type": "code",
   "execution_count": 30,
   "source": [
    "issubclass(Student, object)"
   ],
   "outputs": [
    {
     "output_type": "execute_result",
     "data": {
      "text/plain": [
       "True"
      ]
     },
     "metadata": {},
     "execution_count": 30
    }
   ],
   "metadata": {}
  },
  {
   "cell_type": "markdown",
   "source": [
    "`classinfo`取值也可能为元祖, 若`class`是元祖内某个元素类型的子类, 也会返回`True`"
   ],
   "metadata": {}
  },
  {
   "cell_type": "code",
   "execution_count": 32,
   "source": [
    "issubclass(int, (int, float))"
   ],
   "outputs": [
    {
     "output_type": "execute_result",
     "data": {
      "text/plain": [
       "True"
      ]
     },
     "metadata": {},
     "execution_count": 32
    }
   ],
   "metadata": {}
  },
  {
   "cell_type": "markdown",
   "source": [
    "# 鸭子类型\n",
    "Python 是动态语言，对函数参数的类型要求很宽松，函数体内使用此类型的方法或属性时，只要满足有它们就行，不强制要求必须为这个类或子类。但是，对静态类型语言，如 Java ，参数类型就必须为此类型或子类。\n",
    "\n",
    "例如，下面定义一个 `Plane` 类，定义函数 `using_run`："
   ],
   "metadata": {}
  },
  {
   "cell_type": "code",
   "execution_count": 33,
   "source": [
    "class Plane():\n",
    "    def run(self):\n",
    "        print('plane is flying...')\n",
    "\n",
    "def using_run(duck):\n",
    "    print(duck.run())\n",
    "\n",
    "using_run(Plane())"
   ],
   "outputs": [
    {
     "output_type": "stream",
     "name": "stdout",
     "text": [
      "plane is flying...\n",
      "None\n"
     ]
    }
   ],
   "metadata": {}
  },
  {
   "cell_type": "markdown",
   "source": [
    "定义一个`Clock`类, 它与`Plane`类没有继承关系, 但是也有一个`run`方法:"
   ],
   "metadata": {}
  },
  {
   "cell_type": "code",
   "execution_count": 35,
   "source": [
    "class Clock():\n",
    "    def run(self):\n",
    "        print('clock is rotating...')"
   ],
   "outputs": [],
   "metadata": {}
  },
  {
   "cell_type": "markdown",
   "source": [
    "`using_run`函数中, 同样可传入`Clock`对象:"
   ],
   "metadata": {}
  },
  {
   "cell_type": "code",
   "execution_count": 37,
   "source": [
    "using_run(Clock())"
   ],
   "outputs": [
    {
     "output_type": "stream",
     "name": "stdout",
     "text": [
      "clock is rotating...\n",
      "None\n"
     ]
    }
   ],
   "metadata": {}
  },
  {
   "cell_type": "markdown",
   "source": [
    "`Plane` 对象和 `Clock` 对象，因都有 `run` 方法， Python 认为它们看起来就是 `duck` 类型，因此，`Plane` 对象和 `Clock` 对象就被看作 `duck`类型。"
   ],
   "metadata": {}
  },
  {
   "cell_type": "markdown",
   "source": [
    "# 有什么方法获取类的所有属性和方法？\n",
    "获取下面类`Student`的所有属性和方法, 使用`dir()`内置函数"
   ],
   "metadata": {}
  },
  {
   "cell_type": "code",
   "execution_count": 38,
   "source": [
    "class Student:\n",
    "    def __init__(self, id, name):\n",
    "        self.id = id\n",
    "        self.name = name\n",
    "    def __eq__(self, student):\n",
    "        return self.id==student.id"
   ],
   "outputs": [],
   "metadata": {}
  },
  {
   "cell_type": "markdown",
   "source": [
    "获取类上的所有属性和方法"
   ],
   "metadata": {}
  },
  {
   "cell_type": "code",
   "execution_count": 41,
   "source": [
    "dir(Student)"
   ],
   "outputs": [
    {
     "output_type": "execute_result",
     "data": {
      "text/plain": [
       "['__class__',\n",
       " '__delattr__',\n",
       " '__dict__',\n",
       " '__dir__',\n",
       " '__doc__',\n",
       " '__eq__',\n",
       " '__format__',\n",
       " '__ge__',\n",
       " '__getattribute__',\n",
       " '__gt__',\n",
       " '__hash__',\n",
       " '__init__',\n",
       " '__init_subclass__',\n",
       " '__le__',\n",
       " '__lt__',\n",
       " '__module__',\n",
       " '__ne__',\n",
       " '__new__',\n",
       " '__reduce__',\n",
       " '__reduce_ex__',\n",
       " '__repr__',\n",
       " '__setattr__',\n",
       " '__sizeof__',\n",
       " '__str__',\n",
       " '__subclasshook__',\n",
       " '__weakref__']"
      ]
     },
     "metadata": {},
     "execution_count": 41
    }
   ],
   "metadata": {}
  },
  {
   "cell_type": "markdown",
   "source": [
    "获取实例上的属性和方法"
   ],
   "metadata": {}
  },
  {
   "cell_type": "code",
   "execution_count": 43,
   "source": [
    "s1 = Student(10, 'xiaoming')\n",
    "dir(s1)"
   ],
   "outputs": [
    {
     "output_type": "execute_result",
     "data": {
      "text/plain": [
       "['__class__',\n",
       " '__delattr__',\n",
       " '__dict__',\n",
       " '__dir__',\n",
       " '__doc__',\n",
       " '__eq__',\n",
       " '__format__',\n",
       " '__ge__',\n",
       " '__getattribute__',\n",
       " '__gt__',\n",
       " '__hash__',\n",
       " '__init__',\n",
       " '__init_subclass__',\n",
       " '__le__',\n",
       " '__lt__',\n",
       " '__module__',\n",
       " '__ne__',\n",
       " '__new__',\n",
       " '__reduce__',\n",
       " '__reduce_ex__',\n",
       " '__repr__',\n",
       " '__setattr__',\n",
       " '__sizeof__',\n",
       " '__str__',\n",
       " '__subclasshook__',\n",
       " '__weakref__',\n",
       " 'id',\n",
       " 'name']"
      ]
     },
     "metadata": {},
     "execution_count": 43
    }
   ],
   "metadata": {}
  },
  {
   "cell_type": "markdown",
   "source": [
    "# Python 中如何动态获取和设置对象的属性？\n",
    "如下`Students`类"
   ],
   "metadata": {}
  },
  {
   "cell_type": "code",
   "execution_count": 45,
   "source": [
    "class Student:\n",
    "    def __init__(self, id, name):\n",
    "        self.id = id\n",
    "        self.name = name\n",
    "    def __eq__(self, student):\n",
    "        return self.id == student.id"
   ],
   "outputs": [],
   "metadata": {}
  },
  {
   "cell_type": "markdown",
   "source": [
    "Python使用`hasattr`方法, 判断实例是否有属性x:"
   ],
   "metadata": {}
  },
  {
   "cell_type": "code",
   "execution_count": 47,
   "source": [
    "s1 = Student(10, 'xiaoming')\n",
    "hasattr(s1, 'id')\n"
   ],
   "outputs": [
    {
     "output_type": "execute_result",
     "data": {
      "text/plain": [
       "True"
      ]
     },
     "metadata": {},
     "execution_count": 47
    }
   ],
   "metadata": {}
  },
  {
   "cell_type": "code",
   "execution_count": 48,
   "source": [
    "hasattr(s1, 'address')"
   ],
   "outputs": [
    {
     "output_type": "execute_result",
     "data": {
      "text/plain": [
       "False"
      ]
     },
     "metadata": {},
     "execution_count": 48
    }
   ],
   "metadata": {}
  },
  {
   "cell_type": "markdown",
   "source": [
    "使用`setattr`动态添加对象的属性, 函数原型:\n",
    "`<function setattr(obj, name, value, /)>`"
   ],
   "metadata": {}
  },
  {
   "cell_type": "markdown",
   "source": [
    "为类对象`Student`添加属性"
   ],
   "metadata": {}
  },
  {
   "cell_type": "code",
   "execution_count": 51,
   "source": [
    "if not hasattr(Student, 'address'):\n",
    "    setattr(Student, 'address', 'beijing')\n",
    "    print(hasattr(s1, 'address'))"
   ],
   "outputs": [
    {
     "output_type": "stream",
     "name": "stdout",
     "text": [
      "True\n"
     ]
    }
   ],
   "metadata": {}
  },
  {
   "cell_type": "markdown",
   "source": [
    "\\# 面向对象设计中super如何使用\n",
    "`super([type[, object-or-type], ...])`\n",
    "\n",
    "返回一个代理对象, 它会将方法调用委托给`type`的父类或兄弟类\n",
    "如下, 子类的`add`方法, 一部分直接调用父类`add`, 再有一部分个性的行为:打印结果"
   ],
   "metadata": {}
  },
  {
   "cell_type": "code",
   "execution_count": 54,
   "source": [
    "class Parent():\n",
    "    def __init__(self, x):\n",
    "        self.v = x\n",
    "\n",
    "    def add(self, x):\n",
    "        return self.v + x\n",
    "\n",
    "class Son(Parent):\n",
    "    def add(self, y):\n",
    "        r = super().add(y) # 直接调用父类的add方法\n",
    "        print(r) # 子类的add与父类相比，能实现对结果的打印功能\n",
    "\n",
    "Son(1).add(2)"
   ],
   "outputs": [
    {
     "output_type": "stream",
     "name": "stdout",
     "text": [
      "3\n"
     ]
    }
   ],
   "metadata": {}
  },
  {
   "cell_type": "markdown",
   "source": [
    "# 判断对象是否可被调用之callable函数\n",
    "callable(object)\n",
    "\n",
    "判断对象是否可被调用, 能被调用的对象就是一个`callable`对象, 比如函数`str, int`等都是可被调用的."
   ],
   "metadata": {}
  },
  {
   "cell_type": "code",
   "execution_count": 56,
   "source": [
    "callable(str)"
   ],
   "outputs": [
    {
     "output_type": "execute_result",
     "data": {
      "text/plain": [
       "True"
      ]
     },
     "metadata": {},
     "execution_count": 56
    }
   ],
   "metadata": {}
  },
  {
   "cell_type": "code",
   "execution_count": 57,
   "source": [
    "callable(int)"
   ],
   "outputs": [
    {
     "output_type": "execute_result",
     "data": {
      "text/plain": [
       "True"
      ]
     },
     "metadata": {},
     "execution_count": 57
    }
   ],
   "metadata": {}
  },
  {
   "cell_type": "markdown",
   "source": [
    "如下, `xiaoming`实例不可被调用:"
   ],
   "metadata": {}
  },
  {
   "cell_type": "code",
   "execution_count": 59,
   "source": [
    "class Student():\n",
    "    def __init__(self, id=None, name=None):\n",
    "        self.id = id\n",
    "        self.name = name\n",
    "\n",
    "xiaoming = Student('001', 'xiaoming')\n",
    "callable(xiaoming)"
   ],
   "outputs": [
    {
     "output_type": "execute_result",
     "data": {
      "text/plain": [
       "False"
      ]
     },
     "metadata": {},
     "execution_count": 59
    }
   ],
   "metadata": {}
  },
  {
   "cell_type": "markdown",
   "source": [
    "如果`xiaoming`能被调用"
   ],
   "metadata": {}
  },
  {
   "cell_type": "code",
   "execution_count": 61,
   "source": [
    "xiaoming()"
   ],
   "outputs": [
    {
     "output_type": "error",
     "ename": "TypeError",
     "evalue": "'Student' object is not callable",
     "traceback": [
      "\u001b[0;31m---------------------------------------------------------------------------\u001b[0m",
      "\u001b[0;31mTypeError\u001b[0m                                 Traceback (most recent call last)",
      "\u001b[0;32m/var/folders/h4/7cr1cmpn7v5b3x20_9wz8m740000gn/T/ipykernel_48673/728688368.py\u001b[0m in \u001b[0;36m<module>\u001b[0;34m\u001b[0m\n\u001b[0;32m----> 1\u001b[0;31m \u001b[0mxiaoming\u001b[0m\u001b[0;34m(\u001b[0m\u001b[0;34m)\u001b[0m\u001b[0;34m\u001b[0m\u001b[0;34m\u001b[0m\u001b[0m\n\u001b[0m",
      "\u001b[0;31mTypeError\u001b[0m: 'Student' object is not callable"
     ]
    }
   ],
   "metadata": {}
  },
  {
   "cell_type": "markdown",
   "source": [
    "必须要重写`Student`类上`__call__`方法:"
   ],
   "metadata": {}
  },
  {
   "cell_type": "code",
   "execution_count": 63,
   "source": [
    "class Student():\n",
    "    def __init__(self, id, name):\n",
    "        self.id = id\n",
    "        self.name = name\n",
    "    def __call__(self):\n",
    "        print('I can be called')\n",
    "        print(f'my name is {self.name}')\n",
    "\n",
    "t = Student('001','xiaoming')\n",
    "\n",
    "t()"
   ],
   "outputs": [
    {
     "output_type": "stream",
     "name": "stdout",
     "text": [
      "I can be called\n",
      "my name is xiaoming\n"
     ]
    }
   ],
   "metadata": {}
  },
  {
   "cell_type": "code",
   "execution_count": null,
   "source": [],
   "outputs": [],
   "metadata": {}
  }
 ],
 "metadata": {
  "orig_nbformat": 4,
  "language_info": {
   "name": "python",
   "version": "3.9.5",
   "mimetype": "text/x-python",
   "codemirror_mode": {
    "name": "ipython",
    "version": 3
   },
   "pygments_lexer": "ipython3",
   "nbconvert_exporter": "python",
   "file_extension": ".py"
  },
  "kernelspec": {
   "name": "python3",
   "display_name": "Python 3.9.5 64-bit ('tf': conda)"
  },
  "interpreter": {
   "hash": "35f69483aa8b7b2bb12f1e6f2ffb8fe1120cf837ca5a80070d69961a5682f06d"
  }
 },
 "nbformat": 4,
 "nbformat_minor": 2
}