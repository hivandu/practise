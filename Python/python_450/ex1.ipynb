{
 "cells": [
  {
   "cell_type": "markdown",
   "source": [
    "# 什么是动态类型语言?\n",
    "\n",
    "要了解什么是动态语言，需要首先了解 “类型检查”。\n",
    "\n",
    "类型检查是验证类型约束的过程，编译器或解释器通常在编译阶段或运行阶段做类型检查。\n",
    "\n",
    "类型检查就是查看 “变量” 和它们的”类型”，然后判断表达式是否合理。例如，不能拿一个 string 类型变量除以浮点数变量。\n",
    "\n",
    "如果类型检查发生在程序运行阶段，那么它便是 “动态类型语言”。常见的动态语言包括：Python、JavaScrpit、PHP."
   ],
   "metadata": {}
  },
  {
   "cell_type": "markdown",
   "source": [
    "# 什么是强类型语言？\n",
    "强类型语言是指不管是在编译阶段还是运行阶段，一旦某种类型绑定到变量后，此变量便会持有此类型，并且不能同其他类型在计算表达式时混合使用，例如不支持 int 变量和 str 变量相加。\n",
    "\n",
    "常见的强类型语言有：Python、Java、C#、Scala"
   ],
   "metadata": {}
  },
  {
   "cell_type": "markdown",
   "source": [
    "# Python 常用的两个命名规则？\n",
    "\n",
    "Python 的变量命名规则主要包括两条：\n",
    "\n",
    "1. 允许包括英文、数字以及下划线（_），不能以数字开头 \n",
    "2. 名称区分大小写\n",
    "\n",
    "特别说明以**下划线**开头的变量具有特殊意义。"
   ],
   "metadata": {}
  },
  {
   "cell_type": "markdown",
   "source": [
    "# Python 变量命名都有哪些习惯？\n",
    "\n",
    "Python 变量命名习惯一般遵守蛇形命名法（snake case）：\n",
    "\n",
    "1. 一般变量命名，`book_id`、`book_store_count`；\n",
    "2. 类名首字符为大写，如 Python 内置模块 `collections.abc` 中的 `Iterable` 类、我们自定义的 `Book` 类等； \n",
    "3. 类方法名：`get_store_count()`； \n",
    "4. 其他特殊变量，会全部大写，`M_PI`、`MAX_VEHICLE_SPEED`。\n",
    "\n",
    "这与 Java 命名方法不同，Java 最典型的命名方法——驼峰命名法（camel case）"
   ],
   "metadata": {}
  },
  {
   "cell_type": "markdown",
   "source": [
    "# Python 最具特色的缩进原则主要作用是什么？\n",
    "Python 最具特色的地方就是用缩进代替 Java、C++ 中的 `{}`，缩进的层级结构表示代码的逻辑层次。\n",
    "\n",
    "下面定义的 `pandas_read` 方法，用代码缩进表示逻辑结构，看不到 `{}`."
   ],
   "metadata": {}
  },
  {
   "cell_type": "code",
   "execution_count": 1,
   "source": [
    "\n",
    "def pandas_read(filename, sep=', ', chunksize=5):\n",
    "    reader=pd.read_csv(filename, sep=sep, chunksize=chunksize)\n",
    "    while True:\n",
    "        try:\n",
    "            yield reader.get_chunk()\n",
    "        except StopIteration:\n",
    "            print('-------Done-------')\n",
    "            break"
   ],
   "outputs": [],
   "metadata": {}
  },
  {
   "cell_type": "markdown",
   "source": [
    "# 说出 10 个 Python 关键字\n",
    "\n",
    "```python\n",
    "False      await      else       import     pass\n",
    "None       break      except     in         raise\n",
    "True       class      finally    is         return\n",
    "and        continue   for        lambda     try\n",
    "as         def        from       nonlocal   while\n",
    "assert     del        global     not        with\n",
    "async      elif       if         or         yield\n",
    "```\n",
    "\n",
    "常用且不同于其他常用语言 C++ 和 Java 的关键字，如：\n",
    "\n",
    "1. `True` 和 `False` 用于表示值的真假，在 Java 中是 `true` 和 `false`； \n",
    "2. 逻辑反操作 Python 使用 `not`，Java 是 `!`； \n",
    "3. `None` 表示空值，Java 使用 `null`； \n",
    "4. Python 两个条件同时满足使用 `and`，Java 是 `&&`； \n",
    "5. 两者满足其一，Python 使用 `or`，Java 使用 `||`；\n",
    "6. Python 使用 `elif`， Java 是 `else if`"
   ],
   "metadata": {}
  },
  {
   "cell_type": "markdown",
   "source": [
    "# 关键字 `del` 的作用是什么？\n",
    "`del` 用于删除可迭代对象中某个元素；"
   ],
   "metadata": {}
  },
  {
   "cell_type": "code",
   "execution_count": 2,
   "source": [
    "a = [3, 5, 1]\n",
    "del a[1]\n",
    "a"
   ],
   "outputs": [
    {
     "output_type": "execute_result",
     "data": {
      "text/plain": [
       "[3, 1]"
      ]
     },
     "metadata": {},
     "execution_count": 2
    }
   ],
   "metadata": {}
  },
  {
   "cell_type": "markdown",
   "source": [
    "# 关键字 `pass` 的作用是什么？\n",
    "`pass` 一种应用是定义接口，也是 Python 语言特有的一个关键字。"
   ],
   "metadata": {}
  },
  {
   "cell_type": "code",
   "execution_count": 3,
   "source": [
    "class A():\n",
    "    def interface(*args, **kargs):\n",
    "        pass"
   ],
   "outputs": [],
   "metadata": {}
  },
  {
   "cell_type": "markdown",
   "source": [
    "# Python 常见的运算符都有哪些？\n",
    "```python\n",
    "+       -       *       **      /       //      %      @\n",
    "<<      >>      &       |       ^       ~       :=\n",
    "<       >       <=      >=      ==      !=\n",
    "````\n",
    "大部分运算符应该被熟知，重点介绍相对陌生一点的： `//`、`**`\n",
    "\n",
    "`//` 用于两个数值相除且向下取整，与 Python 的 math 模块中 floor 功能相似："
   ],
   "metadata": {}
  },
  {
   "cell_type": "code",
   "execution_count": 4,
   "source": [
    "print(5//2)\n",
    "print(5//4.5)"
   ],
   "outputs": [
    {
     "output_type": "stream",
     "name": "stdout",
     "text": [
      "2\n",
      "1.0\n"
     ]
    }
   ],
   "metadata": {}
  },
  {
   "cell_type": "markdown",
   "source": [
    "`**` 用于幂运算："
   ],
   "metadata": {}
  },
  {
   "cell_type": "code",
   "execution_count": 5,
   "source": [
    "2**3"
   ],
   "outputs": [
    {
     "output_type": "execute_result",
     "data": {
      "text/plain": [
       "8"
      ]
     },
     "metadata": {},
     "execution_count": 5
    }
   ],
   "metadata": {}
  },
  {
   "cell_type": "markdown",
   "source": [
    "# Python 3.8 新增的海象运算符怎么使用？\n",
    "`:=` 是在 2019 年，Python 3.8 版本中刚刚才被支持的运算符，被形象地称为 “海象运算符”。"
   ],
   "metadata": {}
  },
  {
   "cell_type": "code",
   "execution_count": 7,
   "source": [
    "n = len(a)\n",
    "if n > 10:\n",
    "    print(f'{n}大于10')\n",
    "\n",
    "# 如果使用“海象运算符”, 写法上更精简:\n",
    "\n",
    "if (n:=len(a)) > 10:\n",
    "    print(f'{n}大于10')"
   ],
   "outputs": [],
   "metadata": {}
  },
  {
   "cell_type": "markdown",
   "source": [
    "# Python 中如何表示十六进制的整数以及科学计数法表示的浮点数？\n",
    "\n",
    "前缀加 `0x`，创建一个十六进制的整数："
   ],
   "metadata": {}
  },
  {
   "cell_type": "code",
   "execution_count": 8,
   "source": [
    "0xa5 # 等于十进制的165"
   ],
   "outputs": [
    {
     "output_type": "execute_result",
     "data": {
      "text/plain": [
       "165"
      ]
     },
     "metadata": {},
     "execution_count": 8
    }
   ],
   "metadata": {}
  },
  {
   "cell_type": "markdown",
   "source": [
    "使用 `e` 创建科学计数法表示的浮点数："
   ],
   "metadata": {}
  },
  {
   "cell_type": "code",
   "execution_count": 9,
   "source": [
    "1.05e3 # 1050.0"
   ],
   "outputs": [
    {
     "output_type": "execute_result",
     "data": {
      "text/plain": [
       "1050.0"
      ]
     },
     "metadata": {},
     "execution_count": 9
    }
   ],
   "metadata": {}
  },
  {
   "cell_type": "markdown",
   "source": [
    "# 列举几个常用的容器类对象\n",
    "可容纳多个元素的容器对象常见的有：list 列表、 tuple 元组、dict 字典、set 集合。\n",
    "\n",
    "Python 定义这些类型的变量，语法非常简洁。使用一对中括号 `[]` 就会创建一个 list 对象："
   ],
   "metadata": {}
  },
  {
   "cell_type": "code",
   "execution_count": 10,
   "source": [
    "lst = [1, 3, 5] # list 对象"
   ],
   "outputs": [],
   "metadata": {}
  },
  {
   "cell_type": "code",
   "execution_count": null,
   "source": [],
   "outputs": [],
   "metadata": {}
  }
 ],
 "metadata": {
  "orig_nbformat": 4,
  "language_info": {
   "name": "python",
   "version": "3.9.5",
   "mimetype": "text/x-python",
   "codemirror_mode": {
    "name": "ipython",
    "version": 3
   },
   "pygments_lexer": "ipython3",
   "nbconvert_exporter": "python",
   "file_extension": ".py"
  },
  "kernelspec": {
   "name": "python3",
   "display_name": "Python 3.9.5 64-bit ('tf': conda)"
  },
  "interpreter": {
   "hash": "35f69483aa8b7b2bb12f1e6f2ffb8fe1120cf837ca5a80070d69961a5682f06d"
  }
 },
 "nbformat": 4,
 "nbformat_minor": 2
}