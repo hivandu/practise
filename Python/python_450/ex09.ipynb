{
 "cells": [
  {
   "cell_type": "code",
   "execution_count": 1,
   "source": [
    "# `search`第一个匹配串\n",
    "\n",
    "使用正则模块, `search`方法, 找出子串第一个匹配位置."
   ],
   "outputs": [
    {
     "output_type": "error",
     "ename": "SyntaxError",
     "evalue": "invalid syntax (4031610725.py, line 3)",
     "traceback": [
      "\u001b[0;36m  File \u001b[0;32m\"/var/folders/h4/7cr1cmpn7v5b3x20_9wz8m740000gn/T/ipykernel_8669/4031610725.py\"\u001b[0;36m, line \u001b[0;32m3\u001b[0m\n\u001b[0;31m    使用正则模块, `search`方法, 找出子串第一个匹配位置.\u001b[0m\n\u001b[0m            ^\u001b[0m\n\u001b[0;31mSyntaxError\u001b[0m\u001b[0;31m:\u001b[0m invalid syntax\n"
     ]
    }
   ],
   "metadata": {}
  },
  {
   "cell_type": "code",
   "execution_count": 4,
   "source": [
    "import re\n",
    "s = 'i love python very much'\n",
    "pat='python'\n",
    "r=re.search(pat, s)\n",
    "r.span()"
   ],
   "outputs": [
    {
     "output_type": "execute_result",
     "data": {
      "text/plain": [
       "(7, 13)"
      ]
     },
     "metadata": {},
     "execution_count": 4
    }
   ],
   "metadata": {}
  },
  {
   "cell_type": "markdown",
   "source": [
    "#  match 与 search 不同\n",
    "\n",
    "正则模块中, `match`, `search`方法匹配字符串不同:\n",
    "\n",
    "- `match`在原字符串的开始位置匹配;\n",
    "- `search`在字符串的任意位置匹配"
   ],
   "metadata": {}
  },
  {
   "cell_type": "markdown",
   "source": [
    "原字符串"
   ],
   "metadata": {}
  },
  {
   "cell_type": "code",
   "execution_count": 7,
   "source": [
    "s = 'flourish'"
   ],
   "outputs": [],
   "metadata": {}
  },
  {
   "cell_type": "markdown",
   "source": [
    "寻找模式串`our`, 使用`match`方法"
   ],
   "metadata": {}
  },
  {
   "cell_type": "code",
   "execution_count": 9,
   "source": [
    "recom = re.compile('our')\n",
    "recom.match(s) # 返回None, 找不到匹配"
   ],
   "outputs": [],
   "metadata": {}
  },
  {
   "cell_type": "markdown",
   "source": [
    "使用`search`方法"
   ],
   "metadata": {}
  },
  {
   "cell_type": "code",
   "execution_count": 11,
   "source": [
    "res = recom.search(s)\n",
    "res.span()"
   ],
   "outputs": [
    {
     "output_type": "execute_result",
     "data": {
      "text/plain": [
       "(2, 5)"
      ]
     },
     "metadata": {},
     "execution_count": 11
    }
   ],
   "metadata": {}
  },
  {
   "cell_type": "markdown",
   "source": [
    "那么, 什么字符串才能使用`match`方法匹配到`our`?\n",
    "\n",
    "比如: 字符串`ourselves`, `ours`才能`match`到`our`"
   ],
   "metadata": {}
  },
  {
   "cell_type": "markdown",
   "source": [
    "# 129 finditer 匹配迭代器\n",
    "\n",
    "使用正则模块, `finditer`方法, 返回所有子串匹配位置的迭代器\n",
    "\n",
    "通过返回的对象`re.Match`, 使用它的方法`span`找出匹配位置"
   ],
   "metadata": {}
  },
  {
   "cell_type": "code",
   "execution_count": 14,
   "source": [
    "s = '上海市松江区七宝中学高一七班'\n",
    "pat = '七'\n",
    "\n",
    "r = re.finditer(pat, s)\n",
    "for i in r:\n",
    "    print(i)"
   ],
   "outputs": [
    {
     "output_type": "stream",
     "name": "stdout",
     "text": [
      "<re.Match object; span=(6, 7), match='七'>\n",
      "<re.Match object; span=(12, 13), match='七'>\n"
     ]
    }
   ],
   "metadata": {}
  },
  {
   "cell_type": "markdown",
   "source": [
    "# 130 findall所有匹配\n",
    "\n",
    "正则模块, `findall`方法能查找出子串的所有匹配.\n",
    "\n",
    "原字符串`s`:"
   ],
   "metadata": {}
  },
  {
   "cell_type": "code",
   "execution_count": 15,
   "source": [
    "s = '一共20行代码运行时间13.59s'"
   ],
   "outputs": [],
   "metadata": {}
  },
  {
   "cell_type": "markdown",
   "source": [
    "目标查找出所有数字\n",
    "\n",
    "通用字符`\\d`匹配一位数字[0-9]\n",
    "\n",
    "`+`表示匹配数字前面的一个字符1次或多次"
   ],
   "metadata": {}
  },
  {
   "cell_type": "code",
   "execution_count": 16,
   "source": [
    "pat = r'\\d+'\n",
    "\n",
    "r = re.findall(pat, s)\n",
    "\n",
    "print(r)"
   ],
   "outputs": [
    {
     "output_type": "stream",
     "name": "stdout",
     "text": [
      "['20', '13', '59']\n"
     ]
    }
   ],
   "metadata": {}
  },
  {
   "cell_type": "markdown",
   "source": [
    "返回一个列表, 找到三个数字`30, 13, 59`, 没有达到预期, 期望找到`20, 13.59`\n",
    "因此, 需要修改正则表达式"
   ],
   "metadata": {}
  },
  {
   "cell_type": "markdown",
   "source": [
    "# 案例: 匹配浮点数和整数\n",
    "\n",
    "`?`表示前一个字符匹配0或1次\n",
    "`.?` 表示匹配小数点(`.`)0次或1次\n",
    "\n",
    "匹配浮点数和整数, 第一版正则表达式:`r'\\d+\\.?\\d+'`, 图形化演示, 此正则表达式的分解演示:\n",
    "\n",
    "![](https://images.gitbook.cn/862a7830-53f3-11ea-bb62-297df070c489)"
   ],
   "metadata": {}
  },
  {
   "cell_type": "code",
   "execution_count": 17,
   "source": [
    "s = '一共20行代码运行时间13.59s'\n",
    "pat = r'\\d+\\.?\\d+'\n",
    "\n",
    "r=re.findall(pat, s)\n",
    "r"
   ],
   "outputs": [
    {
     "output_type": "execute_result",
     "data": {
      "text/plain": [
       "['20', '13.59']"
      ]
     },
     "metadata": {},
     "execution_count": 17
    }
   ],
   "metadata": {}
  },
  {
   "cell_type": "markdown",
   "source": [
    "`r'\\d+\\.?\\d+'`能匹配所有情况吗?"
   ],
   "metadata": {}
  },
  {
   "cell_type": "code",
   "execution_count": 18,
   "source": [
    "s = '一共2行代码运行时间1.66s'\n",
    "pat = r'\\d+\\.?\\d+'\n",
    "\n",
    "r = re.findall(pat, s)\n",
    "r"
   ],
   "outputs": [
    {
     "output_type": "execute_result",
     "data": {
      "text/plain": [
       "['1.66']"
      ]
     },
     "metadata": {},
     "execution_count": 18
    }
   ],
   "metadata": {}
  },
  {
   "cell_type": "markdown",
   "source": [
    "观察结果, 没有匹配数字2.\n",
    "\n",
    "正则难点之一, 需要考虑全面, 足够细心, 才能写出准确无误的正则表达式.\n",
    "\n",
    "出现问题原因: `r'\\d+\\.?\\d+'`, 后面的`\\d+`表示至少有一位数字, 因此, 整个表达式至少会匹配两位数.\n",
    "\n",
    "修复问题, 重新优化正则表达式, 将最后的`+`后修改为`*`, 表示匹配前面字符0次、1次或多次.\n",
    "\n",
    "最终正则表达式为: `r'\\d+\\.?\\d*'`, 正则分解图:\n",
    "\n",
    "![](https://images.gitbook.cn/a18815b0-53f3-11ea-ab27-11d05933a5c6)"
   ],
   "metadata": {}
  },
  {
   "cell_type": "code",
   "execution_count": 19,
   "source": [
    "pat = r'\\d+\\.?\\d*'\n",
    "\n",
    "r = re.findall(pat, s)\n",
    "r"
   ],
   "outputs": [
    {
     "output_type": "execute_result",
     "data": {
      "text/plain": [
       "['2', '1.66']"
      ]
     },
     "metadata": {},
     "execution_count": 19
    }
   ],
   "metadata": {}
  },
  {
   "cell_type": "markdown",
   "source": [
    "# 132 案例: 匹配正整数\n",
    "\n",
    "案例：写出匹配所有正整数的正则表达式。\n",
    "\n",
    "如果这样写：`^\\d*$` ，会匹配到 0，所以不准确。\n",
    "\n",
    "如果这样写：`^[1-9]*`，会匹配`1.`串中 `1` ，不是完全匹配，体会 `$` 的作用。\n",
    "\n",
    "正确写法：`^[1-9]\\d*$` ，正则分解图：\n",
    "\n",
    "![](https://images.gitbook.cn/b608a680-53f3-11ea-b360-6f8d231378f8)"
   ],
   "metadata": {}
  },
  {
   "cell_type": "code",
   "execution_count": 20,
   "source": [
    "s = [-16, 1.5, 11.43, 10, 5]\n",
    "pat = r'^[1-9]\\d*$'\n",
    "[i for i in s if re.match(pat, str(i))]"
   ],
   "outputs": [
    {
     "output_type": "execute_result",
     "data": {
      "text/plain": [
       "[10, 5]"
      ]
     },
     "metadata": {},
     "execution_count": 20
    }
   ],
   "metadata": {}
  },
  {
   "cell_type": "markdown",
   "source": [
    "# 133 正则匹配时忽略大小写\n",
    "\n",
    "`re.I`是方法的可选参数, 表示忽略大小写\n",
    "\n",
    "如下: 找出字符串中所有字符`t`或`T`的位置, 不区分大小写."
   ],
   "metadata": {}
  },
  {
   "cell_type": "code",
   "execution_count": 22,
   "source": [
    "s = 'That'\n",
    "pat = r't'\n",
    "\n",
    "r = re.finditer(pat, s, re.I)\n",
    "\n",
    "for i in r:\n",
    "    print(i.span())"
   ],
   "outputs": [
    {
     "output_type": "stream",
     "name": "stdout",
     "text": [
      "(0, 1)\n",
      "(3, 4)\n"
     ]
    }
   ],
   "metadata": {}
  },
  {
   "cell_type": "markdown",
   "source": [
    "# 134 split 分割单词\n",
    "\n",
    "正则模块中 `split` 函数强大，能够处理复杂的字符串分割任务。\n",
    "\n",
    "如果一个规则简单的字符串，直接使用字符串，`split` 函数。\n",
    "\n",
    "如下字符串，根据分割符`\\t` 分割："
   ],
   "metadata": {}
  },
  {
   "cell_type": "code",
   "execution_count": 23,
   "source": [
    "s = 'id\\tname\\taddress'\n",
    "\n",
    "s.split('\\t')"
   ],
   "outputs": [
    {
     "output_type": "execute_result",
     "data": {
      "text/plain": [
       "['id', 'name', 'address']"
      ]
     },
     "metadata": {},
     "execution_count": 23
    }
   ],
   "metadata": {}
  },
  {
   "cell_type": "markdown",
   "source": [
    "但是, 对于分隔符复杂的字符串, `split`函数就无能为力.\n",
    "\n",
    "如下字符串, 可能的分隔符有`,`, `;`, `\\t`, `|`"
   ],
   "metadata": {}
  },
  {
   "cell_type": "code",
   "execution_count": 26,
   "source": [
    "s = 'This,,, module ; \\t provides|| regular ; '"
   ],
   "outputs": [],
   "metadata": {}
  },
  {
   "cell_type": "markdown",
   "source": [
    "正则字符串为: `[,\\s;|]+`, `\\s`匹配空白字符, 正则分解图, 如下:\n",
    "\n",
    "![](https://images.gitbook.cn/cd6925c0-53f3-11ea-ab27-11d05933a5c6)"
   ],
   "metadata": {}
  },
  {
   "cell_type": "code",
   "execution_count": 30,
   "source": [
    "words = re.split('[,\\s;|]+',s)\n",
    "words"
   ],
   "outputs": [
    {
     "output_type": "execute_result",
     "data": {
      "text/plain": [
       "['This', 'module', 'provides', 'regular', '']"
      ]
     },
     "metadata": {},
     "execution_count": 30
    }
   ],
   "metadata": {}
  },
  {
   "cell_type": "markdown",
   "source": [
    "# 135 sub 替换匹配串\n",
    "\n",
    "正则模块, `sub`方法, 替换匹配到的子串"
   ],
   "metadata": {}
  },
  {
   "cell_type": "code",
   "execution_count": 31,
   "source": [
    "content = 'hello 12345, hello 456321'\n",
    "pat = re.compile(r'\\d+') # 要替换的部分\n",
    "m = pat.sub('666', content)\n",
    "m"
   ],
   "outputs": [
    {
     "output_type": "execute_result",
     "data": {
      "text/plain": [
       "'hello 666, hello 666'"
      ]
     },
     "metadata": {},
     "execution_count": 31
    }
   ],
   "metadata": {}
  },
  {
   "cell_type": "markdown",
   "source": [
    "# 136 compile预编译\n",
    "如果要用同一匹配模式，做很多次匹配，可以使用 `compile` 预先编译串。\n",
    "\n",
    "案例\n",
    "\n",
    "从一系列字符串中，挑选出所有正浮点数。\n",
    "\n",
    "正则表达式为：`^[1-9]\\d*\\.\\d*|0\\.\\d*[1-9]\\d*$`\n",
    "\n",
    "字符 `a|b` 表示 `a` 串匹配失败后，才执行 `b` 串，正则分解图见下：\n",
    "\n",
    "![](https://images.gitbook.cn/e5bb30f0-53f3-11ea-abf1-59cee134db3d)\n",
    "\n",
    "首先,生成预编译对象`rec`"
   ],
   "metadata": {}
  },
  {
   "cell_type": "code",
   "execution_count": 34,
   "source": [
    "s = [-16, 'good', 1.5, 0.2, -0.1, '11.43', 10, '5e10']\n",
    "rec = re.compile(r'^[1-9]\\d*\\.\\d*|0\\.\\d*[1-9]\\d*$')"
   ],
   "outputs": [],
   "metadata": {}
  },
  {
   "cell_type": "markdown",
   "source": [
    "下面直接使用`rec`, 匹配列表中的每个元素, 不用每次都预编译正则表达式, 效率更高."
   ],
   "metadata": {}
  },
  {
   "cell_type": "code",
   "execution_count": 41,
   "source": [
    "[ i for i in s if rec.match(str(i))]"
   ],
   "outputs": [
    {
     "output_type": "execute_result",
     "data": {
      "text/plain": [
       "[1.5, 0.2, '11.43']"
      ]
     },
     "metadata": {},
     "execution_count": 41
    }
   ],
   "metadata": {}
  },
  {
   "cell_type": "markdown",
   "source": [
    "# 137 贪心捕获\n",
    "\n",
    "正则模块中，根据某个模式串，匹配到结果。\n",
    "\n",
    "待爬取网页的部分内容如下所示，现在想要提取 `<div>` 标签中的内容。"
   ],
   "metadata": {}
  },
  {
   "cell_type": "code",
   "execution_count": 43,
   "source": [
    "content = '''\n",
    "    <h>ddedasdadas</h>\n",
    "    <div>graph</div>\n",
    "    <div>math</div>\n",
    "'''"
   ],
   "outputs": [],
   "metadata": {}
  },
  {
   "cell_type": "markdown",
   "source": [
    "如果正则匹配串写作`<div>.*</div>`"
   ],
   "metadata": {}
  },
  {
   "cell_type": "code",
   "execution_count": 44,
   "source": [
    "result = re.findall(r'<div>.*</div>', content)\n",
    "result"
   ],
   "outputs": [
    {
     "output_type": "execute_result",
     "data": {
      "text/plain": [
       "['<div>graph</div>', '<div>math</div>']"
      ]
     },
     "metadata": {},
     "execution_count": 44
    }
   ],
   "metadata": {}
  },
  {
   "cell_type": "markdown",
   "source": [
    "如果我们不想保留字符串最开始的`<div>`和结尾的`</div>`, 那么, 就需要使用一对`()`去捕获.\n",
    "\n",
    "正则匹配串修改为:`<div>(.*)</div>`, 只添加一对括号."
   ],
   "metadata": {}
  },
  {
   "cell_type": "code",
   "execution_count": 45,
   "source": [
    "result = re.findall(r'<div>(.*)</div>', content)\n",
    "result"
   ],
   "outputs": [
    {
     "output_type": "execute_result",
     "data": {
      "text/plain": [
       "['graph', 'math']"
      ]
     },
     "metadata": {},
     "execution_count": 45
    }
   ],
   "metadata": {}
  },
  {
   "cell_type": "markdown",
   "source": [
    "看到结果中已经没有开始的 `<div>` , 结尾的 `</div>`\n",
    "\n",
    "仅使用一对括号，便成功捕获到我们想要的部分。\n",
    "\n",
    "`(.*)` 表示捕获任意多个字符，尽可能多的匹配字符，也被称为贪心捕获\n",
    "\n",
    "`(.*) `的正则分解图如下所示，. 表示匹配除换行符外的任意字符。\n",
    "\n",
    "![](https://images.gitbook.cn/fc5b6d70-53f3-11ea-ab27-11d05933a5c6)"
   ],
   "metadata": {}
  },
  {
   "cell_type": "markdown",
   "source": [
    "# 138 非贪心捕获\n",
    "\n",
    "观察上面返回的结果 `['graph</div>bb<div>math']` ，如果只想要得到两个`<div></div> `间的内容，该怎么写正则表达式？\n",
    "\n",
    "相比 `(.*)`，仅多添加一个 `?`，匹配串为：`(.*?)`"
   ],
   "metadata": {}
  },
  {
   "cell_type": "code",
   "execution_count": 46,
   "source": [
    "content = '''\n",
    "    <h>dshaodiash</h>\n",
    "    <div>graph</div>\n",
    "    <div>math</div>\n",
    "'''\n",
    "\n",
    "result=re.findall(r'<div>(.*?)</div>', content)\n",
    "\n",
    "result"
   ],
   "outputs": [
    {
     "output_type": "execute_result",
     "data": {
      "text/plain": [
       "['graph', 'math']"
      ]
     },
     "metadata": {},
     "execution_count": 46
    }
   ],
   "metadata": {}
  },
  {
   "cell_type": "markdown",
   "source": [
    "终于得到 2 个 `<div>`对间的内容\n",
    "\n",
    "这种匹配模式 串`(.*?)`，被称为非贪心捕获。正则图中，红色虚线表示非贪心匹配。\n",
    "\n",
    "![](https://images.gitbook.cn/0f1484b0-53f4-11ea-abf1-59cee134db3d)"
   ],
   "metadata": {}
  },
  {
   "cell_type": "markdown",
   "source": [
    "# 139 正则匹配负整数\n",
    "\n",
    "匹配所有负整数，不包括 0\n",
    "\n",
    "正则表达式：`^-[1-9]\\d*$`\n",
    "\n",
    "`^-`表示字符串以 `-`开头\n",
    "\n",
    "`[1-9]` 表示数字 1 到 9，注意不要写成 `\\d`，因为负整数没有以 `-0` 开头的。\n",
    "\n",
    "`\\d*` 表示数字0到9出现0次，1次或多次\n",
    "\n",
    "`$` 表示字符串以数字结尾\n",
    "\n",
    "以上分布讲解的示意图，如下所示：\n",
    "\n",
    "![](https://images.gitbook.cn/6e1aa380-5bb1-11ea-8155-9d6d04886d5b)\n",
    "\n",
    "测试字符串:"
   ],
   "metadata": {}
  },
  {
   "cell_type": "code",
   "execution_count": 47,
   "source": [
    "import re\n",
    "s = ['-1', '-15756', '9', '-01', '10', '-']\n",
    "\n",
    "pat = r'^-[1-9]\\d*$'\n",
    "rec = re.compile(pat)\n",
    "\n",
    "rs = [i for i in s if rec.match(i)]\n",
    "\n",
    "print(rs)"
   ],
   "outputs": [
    {
     "output_type": "stream",
     "name": "stdout",
     "text": [
      "['-1', '-15756']\n"
     ]
    }
   ],
   "metadata": {}
  },
  {
   "cell_type": "markdown",
   "source": [
    "# 140 正则匹配负浮点数\n",
    "\n",
    "正确写出匹配负浮点数的正则表达式，要先思考分析。\n",
    "\n",
    "考虑到两个实例：`-0.12`, `-111.234` ，就必须要分为两种情况。\n",
    "\n",
    "适应实例 `-0.12` 的正则表达式：`^-0.\\d*[1-9]\\d*$`，注意要考虑到 `-0.0000` 这种非浮点数，因此正则表达式必须这样写。\n",
    "\n",
    "不要想当然的写为：`^-0.\\d*$`，或者`^-0.\\d*[1-9]*$`，或者`^-0.\\d*[0-9]*$`，这些都是错误的！\n",
    "\n",
    "适应实例 `-111.234` 的正则表达式：`^-[1-9]\\d*.\\d*$`\n",
    "\n",
    "使用 |，综合两种情况，故正则表达式为：\n",
    "\n",
    "`^-[1-9]\\d*\\.\\d*|-0\\.\\d*[1-9]\\d*$`\n",
    "\n",
    "![](https://images.gitbook.cn/7e220840-5bb1-11ea-a695-8f4c079b036d)\n",
    "\n",
    "测试字符串:"
   ],
   "metadata": {}
  },
  {
   "cell_type": "code",
   "execution_count": 48,
   "source": [
    "import re\n",
    "s = ['-1', '-1.5756', '-0.00', '-000.1', '-1000.10']\n",
    "\n",
    "pat = r'^-[1-9]\\d*\\.\\d*|-0\\.\\d*[1-9]\\d*$'\n",
    "rec = re.compile(pat)\n",
    "\n",
    "rs = [i for i in s if rec.match(i)]\n",
    "print(rs)"
   ],
   "outputs": [
    {
     "output_type": "stream",
     "name": "stdout",
     "text": [
      "['-1.5756', '-1000.10']\n"
     ]
    }
   ],
   "metadata": {}
  },
  {
   "cell_type": "markdown",
   "source": [
    "# 141 案例：使用正则表达式判断密码是否安全\n",
    "\n",
    "密码要求为 6 到 20 位，只包含英文字母和数字。"
   ],
   "metadata": {}
  },
  {
   "cell_type": "code",
   "execution_count": 49,
   "source": [
    "import re\n",
    "pat = re.compile(r'\\w{6,20}') # 这是错误的，因为 \\w 通配符匹配的是字母，数字和下划线，题目要求不能含有下划线\n",
    "# 使用最稳的方法：\\da-zA-Z 满足“密码只包含英文字母和数字”\n",
    "# \\d匹配数字 0-9\n",
    "# a-z 匹配所有小写字符；A-Z 匹配所有大写字符\n",
    "\n",
    "pat = re.compile(r'[\\da-zA-Z]{6, 20}')"
   ],
   "outputs": [],
   "metadata": {}
  },
  {
   "cell_type": "markdown",
   "source": [
    "选用`fullmatch`方法, 查看是否整个字符串都匹配.\n",
    "\n",
    "以下测试栗子都返回None, 原因都在解释里:"
   ],
   "metadata": {}
  },
  {
   "cell_type": "code",
   "execution_count": 50,
   "source": [
    "pat.fullmatch('qaz12') # 返回 None，长度小于 6\n",
    "pat.fullmatch('qaz12wsxedcrfvtgb67890942234343434') # None 长度大于 22\n",
    "pat.fullmatch('qaz_231') # None 含有下划线"
   ],
   "outputs": [],
   "metadata": {}
  },
  {
   "cell_type": "markdown",
   "source": [],
   "metadata": {}
  }
 ],
 "metadata": {
  "orig_nbformat": 4,
  "language_info": {
   "name": "python",
   "version": "3.9.5",
   "mimetype": "text/x-python",
   "codemirror_mode": {
    "name": "ipython",
    "version": 3
   },
   "pygments_lexer": "ipython3",
   "nbconvert_exporter": "python",
   "file_extension": ".py"
  },
  "kernelspec": {
   "name": "python3",
   "display_name": "Python 3.9.5 64-bit ('tf': conda)"
  },
  "interpreter": {
   "hash": "35f69483aa8b7b2bb12f1e6f2ffb8fe1120cf837ca5a80070d69961a5682f06d"
  }
 },
 "nbformat": 4,
 "nbformat_minor": 2
}