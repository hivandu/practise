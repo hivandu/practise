{
 "cells": [
  {
   "cell_type": "code",
   "execution_count": null,
   "metadata": {
    "collapsed": true
   },
   "outputs": [],
   "source": [
    "class Model(network, Network):\n",
    "    def fit(self,\n",
    "            x = None,\n",
    "            y = None,\n",
    "            batch_size = None,\n",
    "            epochs = 1,\n",
    "            verbose = 1,\n",
    "            callbacks = None,\n",
    "            validation_split = 0.,\n",
    "            validation_data = None,\n",
    "            shuffle = True,\n",
    "            class_weight = None,\n",
    "            sample_weight = None,\n",
    "            initial_epoch = 0,\n",
    "            steps_per_epoch = None,\n",
    "            validation_steps = None,\n",
    "            validation_freq = 1,\n",
    "            max_queue_size = 10,\n",
    "            workers = 1,\n",
    "            use_multiprocessing = False,\n",
    "            **kwargs):\n",
    "        # Legacy support\n",
    "        if 'nb_epoch' in kwargs:\n",
    "            logging.warning(\n",
    "                'The `nb_epoch` argument in `fit` has been renamed `epochs`.)\n",
    "            epochs = kwargs.pop('nb_epoch')\n",
    "        if kwargs:\n",
    "            raise TypeError('Unrecognized keyword arguments: ' + str(kwargs))\n",
    "        self._assert_compile_was_called()\n",
    "\n",
    "        func = self._select_training_loop(x)\n",
    "        return func.fit(\n",
    "            self,\n",
    "            x = x,\n",
    "            y = y,\n",
    "            batch_size = batch_size,\n",
    "            spochs = epochs,\n",
    "            verbose = verbose,\n",
    "            callbacks=callbacks,\n",
    "            validation_split=validation_split,\n",
    "            validation_data=validation_data, shuffle=shuffle,\n",
    "            class_weight=class_weight,\n",
    "            sample_weight=sample_weight,\n",
    "            initial_epoch=initial_epoch,\n",
    "            steps_per_epoch=steps_per_epoch,\n",
    "            validation_steps=validation_steps,\n",
    "            validation_freq=validation_freq,\n",
    "            max_queue_size=max_queue_size,\n",
    "            workers=workers,\n",
    "            use_multiprocessing=use_multiprocessing)"
   ]
  },
  {
   "cell_type": "code",
   "execution_count": null,
   "outputs": [],
   "source": [
    "\n",
    "if i_am_rich:\n",
    "    money = 100\n",
    "    send(money)\n",
    "else:\n",
    "    money = 10\n",
    "    send(money)"
   ],
   "metadata": {
    "collapsed": false,
    "pycharm": {
     "name": "#%%\n"
    }
   }
  },
  {
   "cell_type": "code",
   "execution_count": 1,
   "outputs": [
    {
     "ename": "NameError",
     "evalue": "name 'i_am_rich' is not defined",
     "output_type": "error",
     "traceback": [
      "\u001B[0;31m---------------------------------------------------------------------------\u001B[0m",
      "\u001B[0;31mNameError\u001B[0m                                 Traceback (most recent call last)",
      "\u001B[0;32m/var/folders/h4/7cr1cmpn7v5b3x20_9wz8m740000gn/T/ipykernel_9326/3170118149.py\u001B[0m in \u001B[0;36m<module>\u001B[0;34m\u001B[0m\n\u001B[0;32m----> 1\u001B[0;31m \u001B[0;32mif\u001B[0m \u001B[0mi_am_rich\u001B[0m\u001B[0;34m:\u001B[0m\u001B[0;34m\u001B[0m\u001B[0;34m\u001B[0m\u001B[0m\n\u001B[0m\u001B[1;32m      2\u001B[0m     \u001B[0mmoney\u001B[0m \u001B[0;34m=\u001B[0m \u001B[0;36m100\u001B[0m\u001B[0;34m\u001B[0m\u001B[0;34m\u001B[0m\u001B[0m\n\u001B[1;32m      3\u001B[0m \u001B[0;32melse\u001B[0m\u001B[0;34m:\u001B[0m\u001B[0;34m\u001B[0m\u001B[0;34m\u001B[0m\u001B[0m\n\u001B[1;32m      4\u001B[0m     \u001B[0mmoney\u001B[0m \u001B[0;34m=\u001B[0m \u001B[0;36m10\u001B[0m\u001B[0;34m\u001B[0m\u001B[0;34m\u001B[0m\u001B[0m\n\u001B[1;32m      5\u001B[0m \u001B[0msend\u001B[0m\u001B[0;34m(\u001B[0m\u001B[0mmoney\u001B[0m\u001B[0;34m)\u001B[0m\u001B[0;34m\u001B[0m\u001B[0;34m\u001B[0m\u001B[0m\n",
      "\u001B[0;31mNameError\u001B[0m: name 'i_am_rich' is not defined"
     ]
    }
   ],
   "source": [
    "\n",
    "if i_am_rich:\n",
    "    money = 100\n",
    "else:\n",
    "    money = 10\n",
    "send(money)"
   ],
   "metadata": {
    "collapsed": false,
    "pycharm": {
     "name": "#%%\n"
    }
   }
  },
  {
   "cell_type": "code",
   "execution_count": 2,
   "outputs": [],
   "source": [
    "def send(money):\n",
    "    if is_server_dead:\n",
    "        LOG('server dead')\n",
    "        return\n",
    "    else:\n",
    "        if is_server_timed_out:\n",
    "            LOG('server timed out')\n",
    "            return\n",
    "        else:\n",
    "            result = get_result_from_server()\n",
    "            if result == MONEY_IS_NOT_ENOUGH:\n",
    "                LOG('you do not have enough money')\n",
    "                return\n",
    "            else:\n",
    "                if result == TRANSACTION_SUCCEED:\n",
    "                    LOG('OK')\n",
    "                    return\n",
    "                else:\n",
    "                    LOG('something wrong')\n",
    "                    return\n"
   ],
   "metadata": {
    "collapsed": false,
    "pycharm": {
     "name": "#%%\n"
    }
   }
  },
  {
   "cell_type": "code",
   "execution_count": null,
   "outputs": [],
   "source": [
    "# 改写上述代码\n",
    "def send(money):\n",
    "    if is_server_dead:\n",
    "        LOG('server dead')\n",
    "        return\n",
    "    if is_server_timed_out:\n",
    "        LOG('server timed out')\n",
    "        return\n",
    "\n",
    "    result = get_result_from_server()\n",
    "\n",
    "    if result == MONEY_IS_NOT_ENOUGH:\n",
    "        LOG('you do not have enough money')\n",
    "        return\n",
    "\n",
    "    if result == TRANSACTION_SUCCEED:\n",
    "        LOG('OK')\n",
    "        return\n",
    "\n",
    "    LOG('something wrong')"
   ],
   "metadata": {
    "collapsed": false,
    "pycharm": {
     "name": "#%%\n"
    }
   }
  },
  {
   "cell_type": "markdown",
   "source": [
    "一个简单的二分搜索来举例说明。我给定一个非递减整数数组，和一个 target，要求你找到数组中最小的一个数 x，可以满足 x*x > target。一旦不存在，则返回 -1。"
   ],
   "metadata": {
    "collapsed": false,
    "pycharm": {
     "name": "#%% md\n"
    }
   }
  },
  {
   "cell_type": "code",
   "source": [
    "def solve(arr, target):\n",
    "    l, r = 0, len(arr) - 1\n",
    "    print(l, r)\n",
    "    ret = -1\n",
    "    while l <= r:\n",
    "        m = (l + r) // 2\n",
    "        print('m:',m)\n",
    "        if arr[m] * arr[m] > target:\n",
    "            print('arr[m]: ',arr[m])\n",
    "            ret = m\n",
    "            r = m - 1\n",
    "        else:\n",
    "            l = m + 1\n",
    "    if ret == -1:\n",
    "        return -1\n",
    "    else:\n",
    "        return arr[ret]\n",
    "\n",
    "print(solve([1, 2, 3, 4, 5, 6], 6))\n",
    "print(solve([1, 2, 3, 4, 5, 6], 9))\n",
    "print(solve([1, 2, 3, 4, 5, 6], 0))\n",
    "print(solve([1, 2, 3, 4, 5, 6], 40))"
   ],
   "metadata": {
    "collapsed": false,
    "pycharm": {
     "name": "#%%\n"
    }
   },
   "execution_count": 12,
   "outputs": [
    {
     "name": "stdout",
     "output_type": "stream",
     "text": [
      "0 5\n",
      "m: 2\n",
      "arr[m]:  3\n",
      "m: 0\n",
      "m: 1\n",
      "3\n",
      "0 5\n",
      "m: 2\n",
      "m: 4\n",
      "arr[m]:  5\n",
      "m: 3\n",
      "arr[m]:  4\n",
      "4\n",
      "0 5\n",
      "m: 2\n",
      "arr[m]:  3\n",
      "m: 0\n",
      "arr[m]:  1\n",
      "1\n",
      "0 5\n",
      "m: 2\n",
      "m: 4\n",
      "m: 5\n",
      "-1\n"
     ]
    }
   ]
  },
  {
   "cell_type": "code",
   "execution_count": 6,
   "outputs": [
    {
     "name": "stdout",
     "output_type": "stream",
     "text": [
      "3\n",
      "4\n",
      "1\n",
      "-1\n"
     ]
    }
   ],
   "source": [
    "# 优化代码\n",
    "def comp(x, target):\n",
    "    return x * x > target\n",
    "\n",
    "def binary_search(arr, target):\n",
    "    l, r = 0, len(arr) - 1\n",
    "    ret = -1\n",
    "    while l <= r:\n",
    "        m = (l + r) // 2\n",
    "        if comp(arr[m], target):\n",
    "            ret = m\n",
    "            r = m - 1\n",
    "        else:\n",
    "            l = m + 1\n",
    "    return ret\n",
    "\n",
    "def solve(arr, target):\n",
    "    id = binary_search(arr, target)\n",
    "    if id != -1:\n",
    "        return arr[id]\n",
    "    return -1\n",
    "\n",
    "\n",
    "print(solve([1, 2, 3, 4, 5, 6], 8))\n",
    "print(solve([1, 2, 3, 4, 5, 6], 9))\n",
    "print(solve([1, 2, 3, 4, 5, 6], 0))\n",
    "print(solve([1, 2, 3, 4, 5, 6], 40))\n",
    "\n",
    "\"\"\"\n",
    "把不同功能的代码拿了出来。其中，comp() 函数作为核心判断，拿出来后可以让整个程序更清晰；\n",
    "同时，我也把二分搜索的主程序拿了出来，只负责二分搜索；最后的 solve() 函数拿到结果，决定返回不存在，还是返回值。\n",
    "这样一来，每个函数各司其职，阅读性也能得到一定提高。\n",
    "\"\"\""
   ],
   "metadata": {
    "collapsed": false,
    "pycharm": {
     "name": "#%%\n"
    }
   }
  },
  {
   "cell_type": "code",
   "execution_count": null,
   "outputs": [],
   "source": [
    "# 如何拆分类\n",
    "class Person:\n",
    "    def __init__(self,\n",
    "                 name,\n",
    "                 sex,\n",
    "                 age,\n",
    "                 job_title,\n",
    "                 job_description,\n",
    "                 company_name):\n",
    "        self.name = name\n",
    "        self.sex = sex\n",
    "        self.age = age\n",
    "        self.job_title = job_title\n",
    "        self.job_description = job_description\n",
    "        self.company_name = company_name\n",
    "\n",
    "\n",
    "# job出现多次， 表达是一个意义实体\n",
    "class Person:\n",
    "    def __init__(self,\n",
    "                 name,\n",
    "                 sex,\n",
    "                 age,\n",
    "                 job_title,\n",
    "                 job_description,\n",
    "                 company_name):\n",
    "        self.name = name\n",
    "        self.sex = sex\n",
    "        self.age = age\n",
    "        self.job = Job(job_title, job_description, company_name)\n",
    "\n",
    "class Job:\n",
    "    def __init__(self,\n",
    "                 job_title,\n",
    "                 job_description,\n",
    "                 company_name):\n",
    "        self.job_title = job_title\n",
    "        self.job_description = job_description\n",
    "        self.company_name = company_name"
   ],
   "metadata": {
    "collapsed": false,
    "pycharm": {
     "name": "#%%\n"
    }
   }
  }
 ],
 "metadata": {
  "kernelspec": {
   "name": "python395jvsc74a57bd0354f827198093f365559b09f495968767f485f877b8fc4b69f4afdbf0a5233ed",
   "language": "python",
   "display_name": "Python 3.9.5 64-bit ('tf': conda)"
  },
  "language_info": {
   "codemirror_mode": {
    "name": "ipython",
    "version": 2
   },
   "file_extension": ".py",
   "mimetype": "text/x-python",
   "name": "python",
   "nbconvert_exporter": "python",
   "pygments_lexer": "ipython2",
   "version": "2.7.6"
  }
 },
 "nbformat": 4,
 "nbformat_minor": 0
}