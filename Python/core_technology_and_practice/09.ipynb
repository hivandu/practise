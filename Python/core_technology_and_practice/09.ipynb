{
 "cells": [
  {
   "cell_type": "code",
   "execution_count": 1,
   "metadata": {},
   "outputs": [
    {
     "name": "stdout",
     "output_type": "stream",
     "text": [
      "Got a message: Hello World\n"
     ]
    }
   ],
   "source": [
    "def my_func(message):\n",
    "    print('Got a message: {}'.format(message))\n",
    "\n",
    "\n",
    "# 调用函数 my_func()\n",
    "my_func('Hello World')\n"
   ]
  },
  {
   "cell_type": "code",
   "execution_count": 2,
   "metadata": {},
   "outputs": [
    {
     "name": "stdout",
     "output_type": "stream",
     "text": [
      "largest element is : 8\n"
     ]
    }
   ],
   "source": [
    "def find_largest_element(l):\n",
    "    if not isinstance(l, list):\n",
    "        print('input is not type of list')\n",
    "        return\n",
    "    if len(l) == 0:\n",
    "        print('empty input')\n",
    "        return\n",
    "    largest_element = l[0]\n",
    "    for item in l:\n",
    "        if item > largest_element:\n",
    "            largest_element = item\n",
    "    print('largest element is : {}'.format(largest_element))\n",
    "\n",
    "find_largest_element([8, 1, -3, 2, 0])\n"
   ]
  },
  {
   "cell_type": "code",
   "execution_count": 9,
   "metadata": {},
   "outputs": [
    {
     "name": "stdout",
     "output_type": "stream",
     "text": [
      "Got a message: Hello World!\n"
     ]
    },
    {
     "data": {
      "text/plain": [
       "'Hello World'"
      ]
     },
     "execution_count": 9,
     "metadata": {},
     "output_type": "execute_result"
    }
   ],
   "source": [
    "def my_func(message):\n",
    "    my_sub_func(message) # 调用my_sub_func()在其声明之前不影响程序执行\n",
    "\n",
    "def my_sub_func(message):\n",
    "    print('Got a message: {}'.format(message))\n",
    "\n",
    "my_func('Hello World!')\n",
    "\n",
    "def my_sum(a, b):\n",
    "    return a+b\n",
    "\n",
    "\n",
    "my_sum([1,2], [3,4])\n",
    "my_sum('Hello ', 'World')"
   ]
  },
  {
   "cell_type": "code",
   "execution_count": 10,
   "metadata": {},
   "outputs": [
    {
     "name": "stdout",
     "output_type": "stream",
     "text": [
      "120\n"
     ]
    }
   ],
   "source": [
    "# 第二，合理的使用函数嵌套，能够提高程序的运行效率\n",
    "def factorial(input):\n",
    "    # validation check\n",
    "    if not isinstance(input, int):\n",
    "        raise Exception('input must be an integer.')\n",
    "    if input < 0:\n",
    "        raise Exception('input must be greater or equal to 0')\n",
    "    ...\n",
    "\n",
    "    def inner_factorial(input):\n",
    "        if input <= 1:\n",
    "            return 1\n",
    "        return input * inner_factorial(input - 1)\n",
    "    return inner_factorial(input)\n",
    "\n",
    "print(factorial(5))\n",
    "\n"
   ]
  },
  {
   "cell_type": "code",
   "execution_count": 11,
   "metadata": {},
   "outputs": [
    {
     "data": {
      "text/plain": [
       "<function __main__.nth_power.<locals>.exponent_of(base)>"
      ]
     },
     "execution_count": 11,
     "metadata": {},
     "output_type": "execute_result"
    }
   ],
   "source": [
    "# 闭包\n",
    "\n",
    "def nth_power(exponent):\n",
    "    def exponent_of(base):\n",
    "        return base ** exponent\n",
    "    return exponent_of # 返回值是exponent_of函数\n",
    "\n",
    "square = nth_power(2) # 计算一个数的平方\n",
    "cube = nth_power(3) # 计算一个数的立方\n",
    "square"
   ]
  },
  {
   "cell_type": "code",
   "execution_count": 12,
   "metadata": {},
   "outputs": [
    {
     "data": {
      "text/plain": [
       "<function __main__.nth_power.<locals>.exponent_of(base)>"
      ]
     },
     "execution_count": 12,
     "metadata": {},
     "output_type": "execute_result"
    }
   ],
   "source": [
    "cube"
   ]
  },
  {
   "cell_type": "code",
   "execution_count": 13,
   "metadata": {},
   "outputs": [
    {
     "name": "stdout",
     "output_type": "stream",
     "text": [
      "4\n",
      "8\n"
     ]
    }
   ],
   "source": [
    "print(square(2)) # 计算平方\n",
    "\n",
    "print(cube(2)) # 计算立方"
   ]
  },
  {
   "cell_type": "code",
   "execution_count": 14,
   "metadata": {},
   "outputs": [
    {
     "data": {
      "text/plain": [
       "9"
      ]
     },
     "execution_count": 14,
     "metadata": {},
     "output_type": "execute_result"
    }
   ],
   "source": [
    "square = lambda x: x ** 2\n",
    "square(3)"
   ]
  },
  {
   "cell_type": "code",
   "execution_count": null,
   "metadata": {},
   "outputs": [],
   "source": []
  }
 ],
 "metadata": {
  "interpreter": {
   "hash": "354f827198093f365559b09f495968767f485f877b8fc4b69f4afdbf0a5233ed"
  },
  "kernelspec": {
   "display_name": "Python 3.9.5 64-bit ('tf': conda)",
   "language": "python",
   "name": "python3"
  },
  "language_info": {
   "codemirror_mode": {
    "name": "ipython",
    "version": 3
   },
   "file_extension": ".py",
   "mimetype": "text/x-python",
   "name": "python",
   "nbconvert_exporter": "python",
   "pygments_lexer": "ipython3",
   "version": "3.9.5"
  },
  "orig_nbformat": 4
 },
 "nbformat": 4,
 "nbformat_minor": 2
}
