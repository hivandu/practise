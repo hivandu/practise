{
 "cells": [
  {
   "cell_type": "code",
   "execution_count": 1,
   "metadata": {},
   "outputs": [
    {
     "name": "stdout",
     "output_type": "stream",
     "text": [
      "1234 is iterable? False\n",
      "1234 is iterable? True\n",
      "[1, 2, 3, 4] is iterable? True\n",
      "{1, 2, 3, 4} is iterable? True\n",
      "{1: 1, 2: 2, 3: 3, 4: 4} is iterable? True\n",
      "(1, 2, 3, 4) is iterable? True\n"
     ]
    }
   ],
   "source": [
    "def is_iterable(param):\n",
    "    try:\n",
    "        iter(param)\n",
    "        return True\n",
    "    except TypeError:\n",
    "        return False\n",
    "\n",
    "params = [\n",
    "    1234,\n",
    "    '1234',\n",
    "    [1,2,3,4],\n",
    "    set([1, 2, 3, 4]),\n",
    "    {1:1, 2:2, 3:3, 4:4},\n",
    "    (1, 2, 3, 4)\n",
    "]\n",
    "\n",
    "for param in params:\n",
    "    print('{} is iterable? {}'.format(param, is_iterable(param)))"
   ]
  },
  {
   "cell_type": "code",
   "execution_count": 4,
   "metadata": {},
   "outputs": [],
   "source": [
    "# 生成器\n",
    "import os\n",
    "import psutil\n",
    "\n",
    "# 显示当前python程序占用的内存大小\n",
    "def show_memory_info(hint):\n",
    "    pid = os.getpid()\n",
    "    p = psutil.Process(pid)\n",
    "\n",
    "    info = p.memory_full_info()\n",
    "    memory = info.uss / 1024. / 1024\n",
    "    print('{} memory used: {} MB'.format(hint, memory))"
   ]
  },
  {
   "cell_type": "code",
   "execution_count": 5,
   "metadata": {},
   "outputs": [
    {
     "name": "stdout",
     "output_type": "stream",
     "text": [
      "initing iterator memory used: 18.5 MB\n",
      "after iterator initiated memory used: 829.5625 MB\n",
      "4999999950000000\n",
      "after sum called memory used: 2483.203125 MB\n",
      "CPU times: user 3.95 s, sys: 2.29 s, total: 6.24 s\n",
      "Wall time: 8.46 s\n",
      "initing generator memory used: 13.59375 MB\n",
      "after generator initiated memory used: 13.765625 MB\n",
      "4999999950000000\n",
      "after sum called memory used: 14.03125 MB\n",
      "CPU times: user 4.18 s, sys: 16.4 ms, total: 4.2 s\n",
      "Wall time: 4.23 s\n"
     ]
    }
   ],
   "source": [
    "def test_iterator():\n",
    "    show_memory_info('initing iterator')\n",
    "    list_1 = [i for i in range(100000000)]\n",
    "    show_memory_info('after iterator initiated')\n",
    "    print(sum(list_1))\n",
    "    show_memory_info('after sum called')\n",
    "\n",
    "def test_generator():\n",
    "    show_memory_info('initing generator')\n",
    "    list_2 = (i for i in range(100000000))\n",
    "    show_memory_info('after generator initiated')\n",
    "    print(sum(list_2))\n",
    "    show_memory_info('after sum called')\n",
    "\n",
    "%time test_iterator()\n",
    "%time test_generator()"
   ]
  },
  {
   "cell_type": "code",
   "execution_count": 7,
   "metadata": {},
   "outputs": [
    {
     "name": "stdout",
     "output_type": "stream",
     "text": [
      "<generator object generator at 0x118bfeeb0>\n",
      "<generator object generator at 0x118c0b040>\n",
      "next_1 = 1, next_3 = 1\n",
      "next_1 = 2, next_3 = 8\n",
      "next_1 = 3, next_3 = 27\n",
      "next_1 = 4, next_3 = 64\n",
      "next_1 = 5, next_3 = 125\n",
      "next_1 = 6, next_3 = 216\n",
      "next_1 = 7, next_3 = 343\n",
      "next_1 = 8, next_3 = 512\n",
      "1296 1296\n"
     ]
    }
   ],
   "source": [
    "# 数学中的一个恒等式\n",
    "\n",
    "# (1 + 2 + 3 + ... + n)^2 = 1^3 + 2^3 + 3^3 + ... + n^3\n",
    "\n",
    "def generator(k):\n",
    "    i = 1\n",
    "    while True:\n",
    "        yield i ** k\n",
    "        i += 1\n",
    "\n",
    "gen_1 = generator(1)\n",
    "gen_3 = generator(3)\n",
    "print(gen_1)\n",
    "print(gen_3)\n",
    "\n",
    "def get_sum(n):\n",
    "    sum_1, sum_3 = 0, 0\n",
    "    for i in range(n):\n",
    "        next_1 = next(gen_1)\n",
    "        next_3 = next(gen_3)\n",
    "        print('next_1 = {}, next_3 = {}'.format(next_1, next_3))\n",
    "        sum_1 += next_1\n",
    "        sum_3 += next_3\n",
    "    print(sum_1 * sum_1, sum_3)\n",
    "\n",
    "get_sum(8)\n"
   ]
  },
  {
   "cell_type": "code",
   "execution_count": 8,
   "metadata": {},
   "outputs": [
    {
     "name": "stdout",
     "output_type": "stream",
     "text": [
      "[2, 5, 9]\n"
     ]
    }
   ],
   "source": [
    "# 给定一个list和一个指定数字, 求这个数字在list中的位置\n",
    "\n",
    "def index_normal(L, target):\n",
    "    result = []\n",
    "    for i, num in enumerate(L):\n",
    "        if num == target:\n",
    "            result.append(i)\n",
    "    return result\n",
    "\n",
    "print(index_normal([1,6,2,4,5,2,8,6,3,2],2))"
   ]
  },
  {
   "cell_type": "code",
   "execution_count": 9,
   "metadata": {},
   "outputs": [
    {
     "name": "stdout",
     "output_type": "stream",
     "text": [
      "[2, 5, 9]\n"
     ]
    }
   ],
   "source": [
    "# 迭代器做法\n",
    "def index_generator(L, target):\n",
    "    for i, num in enumerate(L):\n",
    "        if num == target:\n",
    "            yield i\n",
    "\n",
    "print(list(index_generator([1,6,2,4,5,2,8,6,3,2], 2)))\n"
   ]
  },
  {
   "cell_type": "code",
   "execution_count": 10,
   "metadata": {},
   "outputs": [
    {
     "name": "stdout",
     "output_type": "stream",
     "text": [
      "True\n",
      "False\n"
     ]
    }
   ],
   "source": [
    "# https://leetcode.com/problems/is-subsequence/\n",
    "def is_subsequence(a, b):\n",
    "    b = iter(b)\n",
    "    return all(i in b for i in a)\n",
    "\n",
    "print(is_subsequence([1, 3, 5], [1, 2, 3, 4, 5]))\n",
    "print(is_subsequence([1, 4, 3], [1, 2, 3, 4, 5]))\n"
   ]
  },
  {
   "cell_type": "code",
   "execution_count": 14,
   "metadata": {},
   "outputs": [
    {
     "name": "stdout",
     "output_type": "stream",
     "text": [
      "b: <list_iterator object at 0x107f70f40>\n",
      "gen: <generator object is_subsequence.<locals>.<genexpr> at 0x118c12740>\n",
      "i: 1\n",
      "i: 3\n",
      "i: 5\n",
      "gen2: <generator object is_subsequence.<locals>.<genexpr> at 0x118c12c10>\n",
      "i2: True\n",
      "i2: True\n",
      "i2: True\n",
      "False\n",
      "b: <list_iterator object at 0x118b4dc40>\n",
      "gen: <generator object is_subsequence.<locals>.<genexpr> at 0x118c12c10>\n",
      "i: 1\n",
      "i: 4\n",
      "i: 3\n",
      "gen2: <generator object is_subsequence.<locals>.<genexpr> at 0x118c12740>\n",
      "i2: True\n",
      "i2: True\n",
      "i2: False\n",
      "False\n"
     ]
    }
   ],
   "source": [
    "# 复杂化上一段代码\n",
    "def is_subsequence(a, b):\n",
    "    # 把列表b转化成了一个迭代器\n",
    "    b = iter(b)\n",
    "    print('b:', b)\n",
    "\n",
    "    # 产生一个生成器, 这个生成器可以便利对象a\n",
    "    gen = (i for i in a)\n",
    "    print('gen:', gen)\n",
    "\n",
    "    for i in gen:\n",
    "        print('i:', i)\n",
    "    \n",
    "    \n",
    "    gen = ((i in b) for i in a)\n",
    "    print('gen2:', gen)\n",
    "    # 等价于\n",
    "    \"\"\"\n",
    "    while True:\n",
    "        val = next(b)\n",
    "        if val == i:\n",
    "            yield True\n",
    "    \"\"\"\n",
    "\n",
    "    for i in gen:\n",
    "        print('i2:', i)\n",
    "\n",
    "    # 判断迭代器的元素是否全部为True, 如果是返回True, 否则返回False\n",
    "    return all(((i in b) for i in a))\n",
    "\n",
    "print(is_subsequence([1, 3, 5], [1, 2, 3, 4, 5]))\n",
    "print(is_subsequence([1, 4, 3], [1, 2, 3, 4, 5]))\n"
   ]
  },
  {
   "cell_type": "code",
   "execution_count": 12,
   "metadata": {},
   "outputs": [
    {
     "name": "stdout",
     "output_type": "stream",
     "text": [
      "True\n",
      "True\n",
      "False\n"
     ]
    }
   ],
   "source": [
    "b = (i for i in range(5))\n",
    "print(2 in b)\n",
    "print(4 in b)\n",
    "print(3 in b)\n"
   ]
  },
  {
   "cell_type": "code",
   "execution_count": null,
   "metadata": {},
   "outputs": [],
   "source": []
  }
 ],
 "metadata": {
  "interpreter": {
   "hash": "354f827198093f365559b09f495968767f485f877b8fc4b69f4afdbf0a5233ed"
  },
  "kernelspec": {
   "display_name": "Python 3.9.5 64-bit ('tf': conda)",
   "language": "python",
   "name": "python3"
  },
  "language_info": {
   "codemirror_mode": {
    "name": "ipython",
    "version": 3
   },
   "file_extension": ".py",
   "mimetype": "text/x-python",
   "name": "python",
   "nbconvert_exporter": "python",
   "pygments_lexer": "ipython3",
   "version": "3.9.5"
  },
  "orig_nbformat": 4
 },
 "nbformat": 4,
 "nbformat_minor": 2
}
