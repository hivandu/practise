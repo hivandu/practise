{
 "cells": [
  {
   "cell_type": "code",
   "execution_count": 7,
   "metadata": {},
   "outputs": [
    {
     "name": "stderr",
     "output_type": "stream",
     "text": [
      "Exception ignored in: <coroutine object download_all at 0x1045ed6c0>\n",
      "Traceback (most recent call last):\n",
      "  File \"/Users/du/miniforge3/envs/tf/lib/python3.9/warnings.py\", line 506, in _warn_unawaited_coroutine\n",
      "    warn(msg, category=RuntimeWarning, stacklevel=2, source=coro)\n",
      "  File \"/Users/du/miniforge3/envs/tf/lib/python3.9/warnings.py\", line 112, in _showwarnmsg\n",
      "    _showwarnmsg_impl(msg)\n",
      "  File \"/Users/du/miniforge3/envs/tf/lib/python3.9/warnings.py\", line 28, in _showwarnmsg_impl\n",
      "    text = _formatwarnmsg(msg)\n",
      "  File \"/Users/du/miniforge3/envs/tf/lib/python3.9/warnings.py\", line 128, in _formatwarnmsg\n",
      "    return _formatwarnmsg_impl(msg)\n",
      "  File \"/Users/du/miniforge3/envs/tf/lib/python3.9/warnings.py\", line 64, in _formatwarnmsg_impl\n",
      "    tracing = tracemalloc.is_tracing()\n",
      "AttributeError: partially initialized module 'tracemalloc' has no attribute 'is_tracing' (most likely due to a circular import)\n",
      "Exception ignored in: <coroutine object download_all at 0x1045ed6c0>\n",
      "Traceback (most recent call last):\n",
      "  File \"/Users/du/miniforge3/envs/tf/lib/python3.9/warnings.py\", line 112, in _showwarnmsg\n",
      "    _showwarnmsg_impl(msg)\n",
      "  File \"/Users/du/miniforge3/envs/tf/lib/python3.9/warnings.py\", line 28, in _showwarnmsg_impl\n",
      "    text = _formatwarnmsg(msg)\n",
      "  File \"/Users/du/miniforge3/envs/tf/lib/python3.9/warnings.py\", line 128, in _formatwarnmsg\n",
      "    return _formatwarnmsg_impl(msg)\n",
      "  File \"/Users/du/miniforge3/envs/tf/lib/python3.9/warnings.py\", line 64, in _formatwarnmsg_impl\n",
      "    tracing = tracemalloc.is_tracing()\n",
      "AttributeError: partially initialized module 'tracemalloc' has no attribute 'is_tracing' (most likely due to a circular import)\n"
     ]
    },
    {
     "name": "stdout",
     "output_type": "stream",
     "text": [
      "Download 15 sites in 0.0069818749999512875 seconds\n"
     ]
    },
    {
     "name": "stderr",
     "output_type": "stream",
     "text": [
      "/var/folders/h4/7cr1cmpn7v5b3x20_9wz8m740000gn/T/ipykernel_97016/3981435124.py:33: RuntimeWarning: coroutine 'download_all' was never awaited\n",
      "  download_all(sites)\n",
      "RuntimeWarning: Enable tracemalloc to get the object allocation traceback\n"
     ]
    }
   ],
   "source": [
    "import asyncio\n",
    "import aiohttp\n",
    "import time\n",
    "\n",
    "async def download_one(url):\n",
    "    async with aiohttp.ClientSession() as session:\n",
    "        async with session.get(url) as resp:\n",
    "            print('Read {} from {}'.format(resp.content_length, url))\n",
    "\n",
    "async def download_all(sites):\n",
    "    tasks = [asyncio.create_task(download_one(site)) for site in sites]\n",
    "    await asyncio.gather(*tasks)\n",
    "\n",
    "def main():\n",
    "    sites = [\n",
    "        'https://en.wikipedia.org/wiki/Portal:Arts', \n",
    "        'https://en.wikipedia.org/wiki/Portal:History', \n",
    "        'https://en.wikipedia.org/wiki/Portal:Society', \n",
    "        'https://en.wikipedia.org/wiki/Portal:Biography', \n",
    "        'https://en.wikipedia.org/wiki/Portal:Mathematics', \n",
    "        'https://en.wikipedia.org/wiki/Portal:Technology', \n",
    "        'https://en.wikipedia.org/wiki/Portal:Geography', \n",
    "        'https://en.wikipedia.org/wiki/Portal:Science', \n",
    "        'https://en.wikipedia.org/wiki/Computer_science', \n",
    "        'https://en.wikipedia.org/wiki/Python_(programming_language)', \n",
    "        'https://en.wikipedia.org/wiki/Java_(programming_language)', \n",
    "        'https://en.wikipedia.org/wiki/PHP', \n",
    "        'https://en.wikipedia.org/wiki/Node.js', \n",
    "        'https://en.wikipedia.org/wiki/The_C_Programming_Language', \n",
    "        'https://en.wikipedia.org/wiki/Go_(programming_language)'\n",
    "    ]\n",
    "    start_time = time.perf_counter()\n",
    "    asyncio.run(download_all(sites))\n",
    "    end_time = time.perf_counter()\n",
    "    print('Download {} sites in {} seconds'.format(len(sites), end_time - start_time))\n",
    "\n",
    "if __name__ == '__main__':\n",
    "    main()"
   ]
  },
  {
   "cell_type": "code",
   "execution_count": null,
   "metadata": {},
   "outputs": [],
   "source": []
  },
  {
   "cell_type": "code",
   "execution_count": null,
   "metadata": {},
   "outputs": [],
   "source": []
  }
 ],
 "metadata": {
  "interpreter": {
   "hash": "354f827198093f365559b09f495968767f485f877b8fc4b69f4afdbf0a5233ed"
  },
  "kernelspec": {
   "display_name": "Python 3.9.5 64-bit ('tf': conda)",
   "language": "python",
   "name": "python3"
  },
  "language_info": {
   "codemirror_mode": {
    "name": "ipython",
    "version": 3
   },
   "file_extension": ".py",
   "mimetype": "text/x-python",
   "name": "python",
   "nbconvert_exporter": "python",
   "pygments_lexer": "ipython3",
   "version": "3.9.5"
  },
  "orig_nbformat": 4
 },
 "nbformat": 4,
 "nbformat_minor": 2
}
