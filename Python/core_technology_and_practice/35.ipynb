{
 "cells": [
  {
   "cell_type": "code",
   "execution_count": 1,
   "metadata": {},
   "outputs": [
    {
     "name": "stdout",
     "output_type": "stream",
     "text": [
      "Latency is 1141.14845 ms\n"
     ]
    }
   ],
   "source": [
    "import requests\n",
    "import timeit\n",
    "\n",
    "def get_orderbook():\n",
    "    orderbook = requests.get('https://api.gemini.com/v1/book/btcusd').json()\n",
    "\n",
    "n = 10\n",
    "latency = timeit.timeit('get_orderbook()', setup = 'from __main__ import get_orderbook', number=n) * 1.0 / n\n",
    "print('Latency is {} ms'.format(latency * 1000))"
   ]
  },
  {
   "cell_type": "code",
   "execution_count": 13,
   "metadata": {},
   "outputs": [],
   "source": [
    "# WebSocket\n",
    "import websocket\n",
    "import time\n",
    "import _thread\n",
    "import ssl\n",
    "import json\n",
    "import copy\n",
    "\n"
   ]
  },
  {
   "cell_type": "code",
   "execution_count": 11,
   "metadata": {},
   "outputs": [
    {
     "name": "stdout",
     "output_type": "stream",
     "text": [
      "main start\n"
     ]
    }
   ],
   "source": [
    "\n",
    "# 在接受到服务器发送消息时调用\n",
    "def on_message(ws, message):\n",
    "    print('Received: ' + message)\n",
    "\n",
    "# 在和服务器建立完成连接时调用\n",
    "def on_open(ws):\n",
    "    print('on open is start')\n",
    "    # 线程运行函数\n",
    "    def gao():\n",
    "        # 网服务器一次发送0-4, 每次发送完休息0.01秒\n",
    "        for i in range(5):\n",
    "            time.sleep(0.01)\n",
    "            msg = \"{0}\".format(i)\n",
    "            ws.send(msg)\n",
    "            print('Sent: ' + msg)\n",
    "        # 休息1秒用于接收服务器回复的消息\n",
    "        time.sleep(1)\n",
    "\n",
    "        # 关闭webscoket连接\n",
    "        ws.close()\n",
    "        print(\"Websocket closed\")\n",
    "\n",
    "    # 在另一个线程运行gao()函数\n",
    "    _thread.start_new_thread(gao, ())\n",
    "\n",
    "\n",
    "if __name__ == \"__main__\":\n",
    "    print('main start')\n",
    "    ws = websocket.WebSocketApp(\n",
    "        \"wss://echo.websocket.org/\",\n",
    "        on_message = on_message,\n",
    "        on_open = on_open\n",
    "    )\n",
    "    ws.run_forever()\n",
    "    "
   ]
  },
  {
   "cell_type": "code",
   "execution_count": 15,
   "metadata": {},
   "outputs": [
    {
     "name": "stdout",
     "output_type": "stream",
     "text": [
      "ws final\n"
     ]
    }
   ],
   "source": [
    "count = 5\n",
    "\n",
    "def on_message(ws, message):\n",
    "    global count\n",
    "    print(message)\n",
    "    count -= 1\n",
    "\n",
    "    if count == 0:\n",
    "        ws.close()\n",
    "\n",
    "if __name__ == \"__main__\":\n",
    "    ws = websocket.WebSocketApp(\n",
    "        \"wss://api.gemini.com/v1/marketdata/btcusd?top_of_book=true&offers=true\",\n",
    "        on_message = on_message\n",
    "    )\n",
    "    print(\"ws final\")\n",
    "    \n",
    "    ws.run_forever(sslopt={'cert_reqs': ssl.CERT_NONE})\n"
   ]
  },
  {
   "cell_type": "code",
   "execution_count": 22,
   "metadata": {},
   "outputs": [
    {
     "data": {
      "text/plain": [
       "False"
      ]
     },
     "execution_count": 22,
     "metadata": {},
     "output_type": "execute_result"
    }
   ],
   "source": [
    "import ssl\n",
    "import websocket\n",
    "\n",
    "\n",
    "def on_message(ws, message):\n",
    "    print(message)\n",
    "\n",
    "\n",
    "ws = websocket.WebSocketApp(\n",
    "    \"wss://api.gemini.com/v1/marketdata/BTCUSD\",\n",
    "    on_message = on_message\n",
    ")\n",
    "ws.run_forever()\n"
   ]
  },
  {
   "cell_type": "code",
   "execution_count": 21,
   "metadata": {},
   "outputs": [
    {
     "name": "stdout",
     "output_type": "stream",
     "text": [
      "{\"venue\":{\"venue_name\":\"Bar Italia\",\"lon\":151.156807,\"lat\":-33.88117,\"venue_id\":13417702},\"visibility\":\"public\",\"response\":\"yes\",\"guests\":0,\"member\":{\"member_id\":160463172,\"photo\":\"https:\\/\\/secure.meetupstatic.com\\/photos\\/member\\/9\\/2\\/7\\/thumb_301982343.jpeg\",\"member_name\":\"PaulineS\"},\"rsvp_id\":1899073282,\"mtime\":1641295707000,\"event\":{\"event_name\":\"Rookwood Tour\",\"event_id\":\"283046267\",\"time\":1641677400000,\"event_url\":\"https:\\/\\/www.meetup.com\\/Bike-Leichhardt\\/events\\/283046267\\/\"},\"group\":{\"group_topics\":[{\"urlkey\":\"bicycle-touring\",\"topic_name\":\"Bicycle Touring\"},{\"urlkey\":\"womens-cycling\",\"topic_name\":\"womens cycling\"},{\"urlkey\":\"bicycling-beginners\",\"topic_name\":\"Bicycling Beginners\"},{\"urlkey\":\"long-distance-cycling\",\"topic_name\":\"Long Distance Cycling\"},{\"urlkey\":\"cycling\",\"topic_name\":\"Cycling\"},{\"urlkey\":\"bicycle-riding\",\"topic_name\":\"Bicycle Riding\"},{\"urlkey\":\"bike\",\"topic_name\":\"Bicycling\"},{\"urlkey\":\"fitness\",\"topic_name\":\"Fitness\"}],\"group_city\":\"Sydney\",\"group_country\":\"au\",\"group_id\":8365352,\"group_name\":\"Bike Leichhardt\",\"group_lon\":151.21,\"group_urlname\":\"Bike-Leichhardt\",\"group_lat\":-33.87}}\n",
      "\n",
      "{\"venue\":{\"venue_name\":\"Ciutadella Park\",\"lon\":2.186015,\"lat\":41.388123,\"venue_id\":26019413},\"visibility\":\"public\",\"response\":\"yes\",\"guests\":0,\"member\":{\"member_id\":211267396,\"photo\":\"https:\\/\\/secure.meetupstatic.com\\/photos\\/member\\/5\\/e\\/9\\/thumb_303961513.jpeg\",\"member_name\":\"Lisa\"},\"rsvp_id\":1899073285,\"mtime\":1641295710970,\"event\":{\"event_name\":\"Yoga en el Parque Cuitadella\",\"event_id\":\"283047086\",\"time\":1641546000000,\"event_url\":\"https:\\/\\/www.meetup.com\\/yoga-respiracion-y-meditacion-en-la-naturaleza\\/events\\/283047086\\/\"},\"group\":{\"group_topics\":[{\"urlkey\":\"yoga\",\"topic_name\":\"Yoga\"},{\"urlkey\":\"meditation\",\"topic_name\":\"Meditation\"},{\"urlkey\":\"wellness\",\"topic_name\":\"Wellness\"},{\"urlkey\":\"yoga-in-the-park\",\"topic_name\":\"Yoga in the Park\"},{\"urlkey\":\"yoga-mediation\",\"topic_name\":\"Yoga & Mediation\"},{\"urlkey\":\"hatha-yoga\",\"topic_name\":\"Hatha Yoga\"},{\"urlkey\":\"yoga-moms\",\"topic_name\":\"Yoga Moms\"},{\"urlkey\":\"outdoor-yoga\",\"topic_name\":\"Outdoor Yoga\"},{\"urlkey\":\"yoga-on-the-beach\",\"topic_name\":\"Yoga on the Beach\"},{\"urlkey\":\"therapeutic-yoga\",\"topic_name\":\"Therapeutic Yoga\"},{\"urlkey\":\"yoga-for-all\",\"topic_name\":\"Yoga for All\"},{\"urlkey\":\"yoga-for-beginners\",\"topic_name\":\"Yoga for Beginners\"},{\"urlkey\":\"yoga-and-relaxation\",\"topic_name\":\"Yoga and Relaxation\"},{\"urlkey\":\"yoga-classes\",\"topic_name\":\"yoga classes\"},{\"urlkey\":\"yoga-para-mujeres-yoga-para-hombres\",\"topic_name\":\"Yoga para Mujeres ·  Yoga  para Hombres\"}],\"group_city\":\"Barcelona\",\"group_country\":\"es\",\"group_id\":35316085,\"group_name\":\"Yoga, Respiración y meditación en la naturaleza\",\"group_lon\":2.17,\"group_urlname\":\"yoga-respiracion-y-meditacion-en-la-naturaleza\",\"group_lat\":41.4}}\n",
      "\n",
      "{\"venue\":{\"venue_name\":\"The Graham\",\"lon\":-73.94318,\"lat\":40.70823,\"venue_id\":26649483},\"visibility\":\"public\",\"response\":\"yes\",\"guests\":0,\"member\":{\"member_id\":261058732,\"photo\":\"https:\\/\\/secure.meetupstatic.com\\/photos\\/member\\/6\\/c\\/6\\/b\\/thumb_308727755.jpeg\",\"member_name\":\"Javy\"},\"rsvp_id\":1899073286,\"mtime\":1641295712474,\"event\":{\"event_name\":\"Language Exchange Social\",\"event_id\":\"282704103\",\"time\":1642550400000,\"event_url\":\"https:\\/\\/www.meetup.com\\/brooklyn-language\\/events\\/282704103\\/\"},\"group\":{\"group_topics\":[{\"urlkey\":\"esl\",\"topic_name\":\"English as a Second Language\"},{\"urlkey\":\"portuguese\",\"topic_name\":\"Portuguese Language\"},{\"urlkey\":\"meetup\",\"topic_name\":\"Meetup\"},{\"urlkey\":\"language-exchange\",\"topic_name\":\"Language Exchange\"},{\"urlkey\":\"esl-practice\",\"topic_name\":\"ESL practice\"},{\"urlkey\":\"english-for-japanese-speakers\",\"topic_name\":\"English for Japanese Speakers\"},{\"urlkey\":\"spanish-english-exchange\",\"topic_name\":\"Spanish English Exchange\"},{\"urlkey\":\"chinese-learning\",\"topic_name\":\"Chinese Learning\"},{\"urlkey\":\"exchangestud\",\"topic_name\":\"International and Exchange Students\"},{\"urlkey\":\"french\",\"topic_name\":\"French Language\"},{\"urlkey\":\"italian\",\"topic_name\":\"Italian Language\"},{\"urlkey\":\"russian\",\"topic_name\":\"Russian Language\"},{\"urlkey\":\"bilingual-spanish-english\",\"topic_name\":\"Bilingual Spanish\\/English\"},{\"urlkey\":\"arabic\",\"topic_name\":\"Arabic Language\"},{\"urlkey\":\"persian-food\",\"topic_name\":\"Persian food\"}],\"group_city\":\"Brooklyn\",\"group_country\":\"us\",\"group_id\":35945051,\"group_name\":\"Brooklyn Language Exchange Meetup\",\"group_lon\":-73.99,\"group_urlname\":\"brooklyn-language\",\"group_state\":\"NY\",\"group_lat\":40.7}}\n",
      "\n"
     ]
    },
    {
     "data": {
      "text/plain": [
       "False"
      ]
     },
     "execution_count": 21,
     "metadata": {},
     "output_type": "execute_result"
    }
   ],
   "source": [
    "def on_message(wsapp, message):\n",
    "    print(message)\n",
    "\n",
    "wsapp = websocket.WebSocketApp(\n",
    "    \"wss://stream.meetup.com/2/rsvps\",\n",
    "    on_message = on_message\n",
    ")\n",
    "wsapp.run_forever()"
   ]
  },
  {
   "cell_type": "code",
   "execution_count": null,
   "metadata": {},
   "outputs": [],
   "source": []
  }
 ],
 "metadata": {
  "interpreter": {
   "hash": "354f827198093f365559b09f495968767f485f877b8fc4b69f4afdbf0a5233ed"
  },
  "kernelspec": {
   "display_name": "Python 3 (ipykernel)",
   "language": "python",
   "name": "python3"
  },
  "language_info": {
   "codemirror_mode": {
    "name": "ipython",
    "version": 3
   },
   "file_extension": ".py",
   "mimetype": "text/x-python",
   "name": "python",
   "nbconvert_exporter": "python",
   "pygments_lexer": "ipython3",
   "version": "3.9.5"
  }
 },
 "nbformat": 4,
 "nbformat_minor": 2
}
