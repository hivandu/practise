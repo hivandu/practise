{
 "cells": [
  {
   "cell_type": "code",
   "execution_count": 5,
   "metadata": {},
   "outputs": [],
   "source": [
    "import requests\n",
    "import json\n",
    "import base64\n",
    "import hmac\n",
    "import hashlib\n",
    "import datetime\n",
    "import time\n",
    "\n"
   ]
  },
  {
   "cell_type": "code",
   "execution_count": 8,
   "metadata": {},
   "outputs": [
    {
     "name": "stdout",
     "output_type": "stream",
     "text": [
      "{'result': 'error', 'reason': 'System', 'message': 'We are investigating technical issues with the Gemini Exchange. Please check https://geminisandboxexchange.statuspage.io/ for more information.'}\n"
     ]
    }
   ],
   "source": [
    "base_url = 'https://api.sandbox.gemini.com'\n",
    "endpoint = '/v1/order/new'\n",
    "url = base_url + endpoint\n",
    "\n",
    "gemini_api_key = \"account-zmidXEwP72yLSSybXVvn\"\n",
    "gemini_api_secret = \"375b97HfE7E4tL8YaP3SJ239Pky9\".encode()\n",
    "\n",
    "t = datetime.datetime.now()\n",
    "payload_nonce = str(int(time.mktime(t.timetuple()) * 1000))\n",
    "\n",
    "payload = {\n",
    "    \"request\": \"/v1/order/new\",\n",
    "    \"nonce\": payload_nonce,\n",
    "    \"symbol\": \"btcusd\",\n",
    "    \"amount\": \"5\",\n",
    "    \"price\": \"3633.00\",\n",
    "    \"side\": \"buy\",\n",
    "    \"type\": \"exchange limit\",\n",
    "    \"options\": [\"maker-or-cancel\"]\n",
    "}\n",
    "\n",
    "encoded_payload = json.dumps(payload).encode()\n",
    "b64 = base64.b64encode(encoded_payload)\n",
    "signature = hmac.new(gemini_api_secret, b64, hashlib.sha384).hexdigest()\n",
    "\n",
    "request_headers = {\n",
    "    'Content-Type': \"text/plain\", \n",
    "    'Content-Length': \"0\", \n",
    "    'X-GEMINI-APIKEY': gemini_api_key, \n",
    "    'X-GEMINI-PAYLOAD': b64, \n",
    "    'X-GEMINI-SIGNATURE': signature, \n",
    "    'Cache-Control': \"no-cache\"\n",
    "}\n",
    "    \n",
    "response = requests.post(url,\n",
    "                        data = None,\n",
    "                        headers = request_headers)\n",
    "\n",
    "new_order = response.json()\n",
    "print(new_order)"
   ]
  },
  {
   "cell_type": "code",
   "execution_count": null,
   "metadata": {},
   "outputs": [],
   "source": []
  }
 ],
 "metadata": {
  "interpreter": {
   "hash": "354f827198093f365559b09f495968767f485f877b8fc4b69f4afdbf0a5233ed"
  },
  "kernelspec": {
   "display_name": "Python 3.9.5 64-bit ('tf': conda)",
   "language": "python",
   "name": "python3"
  },
  "language_info": {
   "codemirror_mode": {
    "name": "ipython",
    "version": 3
   },
   "file_extension": ".py",
   "mimetype": "text/x-python",
   "name": "python",
   "nbconvert_exporter": "python",
   "pygments_lexer": "ipython3",
   "version": "3.9.5"
  },
  "orig_nbformat": 4
 },
 "nbformat": 4,
 "nbformat_minor": 2
}
