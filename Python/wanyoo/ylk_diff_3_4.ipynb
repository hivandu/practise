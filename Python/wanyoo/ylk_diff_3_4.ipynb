{
 "cells": [
  {
   "cell_type": "code",
   "execution_count": 8,
   "metadata": {},
   "outputs": [
    {
     "name": "stdout",
     "output_type": "stream",
     "text": [
      "<class 'pandas.core.frame.DataFrame'>\n",
      "RangeIndex: 4476 entries, 0 to 4475\n",
      "Data columns (total 3 columns):\n",
      " #   Column      Non-Null Count  Dtype \n",
      "---  ------      --------------  ----- \n",
      " 0   finance_no  4476 non-null   object\n",
      " 1   variable    4476 non-null   object\n",
      " 2   value       4476 non-null   object\n",
      "dtypes: object(3)\n",
      "memory usage: 105.0+ KB\n",
      "None\n",
      "==============================\n",
      "       finance_no variable                  value\n",
      "count        4476     4476                   4476\n",
      "unique       1492        3                      6\n",
      "top          1783  diamond  ylk_free_diamond_open\n",
      "freq            3     1492                   1479\n",
      "==============================\n",
      "       finance_no variable                  value\n",
      "count        4476     4476                   4476\n",
      "unique       1492        3                      6\n",
      "top          1783  diamond  ylk_free_diamond_open\n",
      "freq            3     1492                   1479\n",
      "==============================\n",
      "  finance_no  variable                    value\n",
      "0       0002      gold      ylk_free_gold_close\n",
      "1       0002  platinum   ylk_free_platinum_open\n",
      "2       0002   diamond    ylk_free_diamond_open\n",
      "3       0003      gold      ylk_free_gold_close\n",
      "4       0003  platinum  ylk_free_platinum_close\n"
     ]
    }
   ],
   "source": [
    "# 转换和对比鱼乐卡数据\n",
    "\n",
    "import pandas as pd\n",
    "from pandas import Series,DataFrame\n",
    "\n",
    "# 宽表转长表\n",
    "df_pos3 = DataFrame(pd.read_excel('pos3_ylk.xlsx'))\n",
    "\n",
    "df = df_pos3.pivot(index=\"finance_no\",columns=\"variable\",values=\"value\")\n",
    "df.to_excel('ylk_pos3_new.xls')\n",
    "df\n",
    "\n",
    "# 长表转宽表\n",
    "df_pos4 = DataFrame(pd.read_excel('ylk_pos4.xlsx'))\n",
    "\n",
    "df = df_pos4.pivot(index=\"finance_no\",columns=\"variable\",values=\"value\")\n",
    "df.to_excel('ylk_pos4_new.xls')\n",
    "df\n",
    "\n",
    "# 对导入数据进行探索\n",
    "print(df_pos3.info())\n",
    "print('='*30)\n",
    "print(df_pos3.describe())\n",
    "print('='*30)\n",
    "print(df_pos3.describe(include=['O']))\n",
    "print('='*30)\n",
    "print(df_pos3.head())"
   ]
  },
  {
   "cell_type": "code",
   "execution_count": null,
   "metadata": {},
   "outputs": [],
   "source": []
  }
 ],
 "metadata": {
  "kernelspec": {
   "display_name": "Python 3",
   "language": "python",
   "name": "python3"
  },
  "language_info": {
   "codemirror_mode": {
    "name": "ipython",
    "version": 3
   },
   "file_extension": ".py",
   "mimetype": "text/x-python",
   "name": "python",
   "nbconvert_exporter": "python",
   "pygments_lexer": "ipython3",
   "version": "3.8.3"
  }
 },
 "nbformat": 4,
 "nbformat_minor": 4
}
