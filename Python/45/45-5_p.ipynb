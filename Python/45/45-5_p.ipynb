{
 "cells": [
  {
   "cell_type": "code",
   "execution_count": 1,
   "source": [
    "import numpy as np"
   ],
   "outputs": [],
   "metadata": {}
  },
  {
   "cell_type": "code",
   "execution_count": 2,
   "source": [
    "a = np.array([[4,3,2], [2,4,1]])\n",
    "a"
   ],
   "outputs": [
    {
     "output_type": "execute_result",
     "data": {
      "text/plain": [
       "array([[4, 3, 2],\n",
       "       [2, 4, 1]])"
      ]
     },
     "metadata": {},
     "execution_count": 2
    }
   ],
   "metadata": {}
  },
  {
   "cell_type": "code",
   "execution_count": 3,
   "source": [
    "np.sort(a)"
   ],
   "outputs": [
    {
     "output_type": "execute_result",
     "data": {
      "text/plain": [
       "array([[2, 3, 4],\n",
       "       [1, 2, 4]])"
      ]
     },
     "metadata": {},
     "execution_count": 3
    }
   ],
   "metadata": {}
  },
  {
   "cell_type": "code",
   "execution_count": 4,
   "source": [
    "np.sort(a, axis=None)"
   ],
   "outputs": [
    {
     "output_type": "execute_result",
     "data": {
      "text/plain": [
       "array([1, 2, 2, 3, 4, 4])"
      ]
     },
     "metadata": {},
     "execution_count": 4
    }
   ],
   "metadata": {}
  },
  {
   "cell_type": "code",
   "execution_count": 5,
   "source": [
    "np.sort(a, axis=1)"
   ],
   "outputs": [
    {
     "output_type": "execute_result",
     "data": {
      "text/plain": [
       "array([[2, 3, 4],\n",
       "       [1, 2, 4]])"
      ]
     },
     "metadata": {},
     "execution_count": 5
    }
   ],
   "metadata": {}
  },
  {
   "cell_type": "code",
   "execution_count": 7,
   "source": [
    "np.sort(a, axis=0)"
   ],
   "outputs": [
    {
     "output_type": "execute_result",
     "data": {
      "text/plain": [
       "array([[2, 3, 1],\n",
       "       [4, 4, 2]])"
      ]
     },
     "metadata": {},
     "execution_count": 7
    }
   ],
   "metadata": {}
  },
  {
   "cell_type": "code",
   "execution_count": 17,
   "source": [
    "persontype=np.dtype({'names':['name','age','chinese','math', 'english'], 'formats':['S32', 'i','i','i','f']})\n",
    "peoples = np.array([('张飞', 32,65,23,56.5), ('关羽',34,65,43,25),('赵云',27,67,98,97),('黄忠', 54,23,48,72),('典韦', 37, 38, 84, 73)])\n",
    "peoples"
   ],
   "outputs": [
    {
     "output_type": "execute_result",
     "data": {
      "text/plain": [
       "array([['张飞', '32', '65', '23', '56.5'],\n",
       "       ['关羽', '34', '65', '43', '25'],\n",
       "       ['赵云', '27', '67', '98', '97'],\n",
       "       ['黄忠', '54', '23', '48', '72'],\n",
       "       ['典韦', '37', '38', '84', '73']], dtype='<U4')"
      ]
     },
     "metadata": {},
     "execution_count": 17
    }
   ],
   "metadata": {}
  },
  {
   "cell_type": "code",
   "execution_count": 9,
   "source": [
    "persontype = np.dtype({'names':['name','age','chinese','math','english'],'formats':['S32','i','i','i','f']})\n",
    "perples = np.array([('张飞',32,77,100,90),('关羽',24,85,96,88.5),('赵云',28,85,42,25.5)])\n",
    "perples"
   ],
   "outputs": [
    {
     "output_type": "execute_result",
     "data": {
      "text/plain": [
       "array([['张飞', '32', '77', '100', '90'],\n",
       "       ['关羽', '24', '85', '96', '88.5'],\n",
       "       ['赵云', '28', '85', '42', '25.5']], dtype='<U4')"
      ]
     },
     "metadata": {},
     "execution_count": 9
    }
   ],
   "metadata": {}
  },
  {
   "cell_type": "code",
   "execution_count": 18,
   "source": [
    "import feather\n",
    "import numpy as np\n",
    "import pandas as pd\n",
    "\n",
    "np.random.seed=42\n",
    "df_size = 10000000\n",
    "\n",
    "df = pd.DataFrame({\n",
    "    'a': np.random.rand(df_size),\n",
    "    'b': np.random.rand(df_size),\n",
    "    'c': np.random.rand(df_size),\n",
    "    'd': np.random.rand(df_size),\n",
    "    'e': np.random.rand(df_size)\n",
    "})\n",
    "\n",
    "df.sample(5)"
   ],
   "outputs": [
    {
     "output_type": "execute_result",
     "data": {
      "text/html": [
       "<div>\n",
       "<style scoped>\n",
       "    .dataframe tbody tr th:only-of-type {\n",
       "        vertical-align: middle;\n",
       "    }\n",
       "\n",
       "    .dataframe tbody tr th {\n",
       "        vertical-align: top;\n",
       "    }\n",
       "\n",
       "    .dataframe thead th {\n",
       "        text-align: right;\n",
       "    }\n",
       "</style>\n",
       "<table border=\"1\" class=\"dataframe\">\n",
       "  <thead>\n",
       "    <tr style=\"text-align: right;\">\n",
       "      <th></th>\n",
       "      <th>a</th>\n",
       "      <th>b</th>\n",
       "      <th>c</th>\n",
       "      <th>d</th>\n",
       "      <th>e</th>\n",
       "    </tr>\n",
       "  </thead>\n",
       "  <tbody>\n",
       "    <tr>\n",
       "      <th>2416532</th>\n",
       "      <td>0.408202</td>\n",
       "      <td>0.246426</td>\n",
       "      <td>0.669367</td>\n",
       "      <td>0.370027</td>\n",
       "      <td>0.783769</td>\n",
       "    </tr>\n",
       "    <tr>\n",
       "      <th>5329891</th>\n",
       "      <td>0.880863</td>\n",
       "      <td>0.898593</td>\n",
       "      <td>0.005983</td>\n",
       "      <td>0.526412</td>\n",
       "      <td>0.008446</td>\n",
       "    </tr>\n",
       "    <tr>\n",
       "      <th>8698511</th>\n",
       "      <td>0.900987</td>\n",
       "      <td>0.103887</td>\n",
       "      <td>0.179654</td>\n",
       "      <td>0.608061</td>\n",
       "      <td>0.809559</td>\n",
       "    </tr>\n",
       "    <tr>\n",
       "      <th>1603815</th>\n",
       "      <td>0.295465</td>\n",
       "      <td>0.329103</td>\n",
       "      <td>0.979261</td>\n",
       "      <td>0.194567</td>\n",
       "      <td>0.671258</td>\n",
       "    </tr>\n",
       "    <tr>\n",
       "      <th>9965363</th>\n",
       "      <td>0.832103</td>\n",
       "      <td>0.639692</td>\n",
       "      <td>0.366761</td>\n",
       "      <td>0.824298</td>\n",
       "      <td>0.154312</td>\n",
       "    </tr>\n",
       "  </tbody>\n",
       "</table>\n",
       "</div>"
      ],
      "text/plain": [
       "                a         b         c         d         e\n",
       "2416532  0.408202  0.246426  0.669367  0.370027  0.783769\n",
       "5329891  0.880863  0.898593  0.005983  0.526412  0.008446\n",
       "8698511  0.900987  0.103887  0.179654  0.608061  0.809559\n",
       "1603815  0.295465  0.329103  0.979261  0.194567  0.671258\n",
       "9965363  0.832103  0.639692  0.366761  0.824298  0.154312"
      ]
     },
     "metadata": {},
     "execution_count": 18
    }
   ],
   "metadata": {}
  },
  {
   "cell_type": "code",
   "execution_count": null,
   "source": [
    "df.to_feather('~/data/1M.feather')"
   ],
   "outputs": [],
   "metadata": {}
  },
  {
   "cell_type": "code",
   "execution_count": null,
   "source": [],
   "outputs": [],
   "metadata": {}
  },
  {
   "cell_type": "code",
   "execution_count": null,
   "source": [],
   "outputs": [],
   "metadata": {}
  }
 ],
 "metadata": {
  "orig_nbformat": 4,
  "language_info": {
   "name": "python",
   "version": "3.9.5",
   "mimetype": "text/x-python",
   "codemirror_mode": {
    "name": "ipython",
    "version": 3
   },
   "pygments_lexer": "ipython3",
   "nbconvert_exporter": "python",
   "file_extension": ".py"
  },
  "kernelspec": {
   "name": "python3",
   "display_name": "Python 3.9.5 64-bit ('tf': conda)"
  },
  "interpreter": {
   "hash": "35f69483aa8b7b2bb12f1e6f2ffb8fe1120cf837ca5a80070d69961a5682f06d"
  }
 },
 "nbformat": 4,
 "nbformat_minor": 2
}