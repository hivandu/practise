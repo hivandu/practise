{
 "cells": [
  {
   "cell_type": "markdown",
   "source": [
    "# 练习1"
   ],
   "metadata": {}
  },
  {
   "cell_type": "markdown",
   "source": [
    "## 1+3+5+..+99的求和"
   ],
   "metadata": {}
  },
  {
   "cell_type": "code",
   "execution_count": 1,
   "source": [
    "### 解法1\n",
    "num = 0\n",
    "for i in range(1, 100, 2):\n",
    "    num = num + i\n",
    "print(num)\n",
    "\n",
    "### 解法2\n",
    "print(sum(range(1, 100, 2)))"
   ],
   "outputs": [
    {
     "output_type": "stream",
     "name": "stdout",
     "text": [
      "2500\n",
      "2500\n"
     ]
    }
   ],
   "metadata": {}
  },
  {
   "cell_type": "markdown",
   "source": [
    "## 创建数组"
   ],
   "metadata": {}
  },
  {
   "cell_type": "code",
   "execution_count": 8,
   "source": [
    "import numpy as np\n",
    "a = np.array([1,2,3])\n",
    "b = np.array([[1,2,3],[4,5,6],[7,8,9]])\n",
    "b[1,1] = 10\n",
    "print(a.shape)\n",
    "print(b.shape)\n",
    "print(a.dtype)\n",
    "print(b)"
   ],
   "outputs": [
    {
     "output_type": "stream",
     "name": "stdout",
     "text": [
      "(3,)\n",
      "(3, 3)\n",
      "int64\n",
      "[[ 1  2  3]\n",
      " [ 4 10  6]\n",
      " [ 7  8  9]]\n"
     ]
    }
   ],
   "metadata": {}
  },
  {
   "cell_type": "markdown",
   "source": [
    "## 结构数组"
   ],
   "metadata": {}
  },
  {
   "cell_type": "code",
   "execution_count": 1,
   "source": [
    "# -*- coding: utf-8 -*-  \n",
    "import numpy as np\n",
    "import string \n",
    "persontype = np.dtype({'names':['name','age','chinese','math','english'], 'formats':['S32','i','i','i','f']})\n",
    "# peoples = np.array([(u\"张飞\",23,86,16,67),(u\"关羽\",28,67,92,56),(u\"赵云\",21,82,97,89),(u\"黄忠\",56,97,62,34)], dtype=persontype)\n",
    "peoples = np.array([(\"ZhangFei\",32,75,100, 90),(\"GuanYu\",24,85,96,88.5),(\"ZhaoYun\",28,85,92,96.5),(\"HuangZhong\",29,65,85,100)],dtype=persontype)\n",
    "ages = peoples[:]['age']\n",
    "chineses = peoples[:]['chinese']\n",
    "maths = peoples[:]['math']\n",
    "englishs = peoples[:]['english']\n",
    "print('age mean:',np.mean(ages))\n",
    "print('chinese mean:',np.mean(chineses))\n",
    "print('math mean:',np.mean(maths))\n",
    "print('english mean:',np.mean(englishs))"
   ],
   "outputs": [
    {
     "output_type": "stream",
     "name": "stdout",
     "text": [
      "age mean: 28.25\n",
      "chinese mean: 77.5\n",
      "math mean: 93.25\n",
      "english mean: 93.75\n"
     ]
    }
   ],
   "metadata": {}
  },
  {
   "cell_type": "code",
   "execution_count": 30,
   "source": [
    "# ufunc运算"
   ],
   "outputs": [],
   "metadata": {}
  },
  {
   "cell_type": "code",
   "execution_count": 25,
   "source": [
    "## 连续数组的创建\n",
    "x1 = np.arange(1,11,2)\n",
    "x2 = np.linspace(1,9,5)\n",
    "print(x1)\n",
    "print(x2)"
   ],
   "outputs": [
    {
     "output_type": "stream",
     "name": "stdout",
     "text": [
      "[1 3 5 7 9]\n",
      "[1. 3. 5. 7. 9.]\n"
     ]
    }
   ],
   "metadata": {}
  },
  {
   "cell_type": "code",
   "execution_count": 32,
   "source": [
    "## 算数运算\n",
    "x1 = np.arange(1,11,2)\n",
    "x2 = np.linspace(1,9,5)\n",
    "print(np.add(x1, x2)) \n",
    "print(np.subtract(x1, x2))\n",
    "print(np.multiply(x1, x2))\n",
    "print(np.divide(x1, x2))\n",
    "print(np.power(x1, x2))\n",
    "print(np.remainder(x1, x2))"
   ],
   "outputs": [
    {
     "output_type": "stream",
     "name": "stdout",
     "text": [
      "[ 2.  6. 10. 14. 18.]\n",
      "[0. 0. 0. 0. 0.]\n",
      "[ 1.  9. 25. 49. 81.]\n",
      "[1. 1. 1. 1. 1.]\n",
      "[1.00000000e+00 2.70000000e+01 3.12500000e+03 8.23543000e+05\n",
      " 3.87420489e+08]\n",
      "[0. 0. 0. 0. 0.]\n"
     ]
    }
   ],
   "metadata": {}
  },
  {
   "cell_type": "code",
   "execution_count": 37,
   "source": [
    "# 统计函数\n",
    "import numpy as np\n",
    "a = np.array([[1,2,3], [4,5,6], [7,8,9]])"
   ],
   "outputs": [],
   "metadata": {}
  },
  {
   "cell_type": "code",
   "execution_count": 38,
   "source": [
    "# 计数组 / 矩阵中的最大值函数 amax()，最小值函数 amin()\n",
    "print(np.amin(a))\n",
    "print(np.amin(a,0))\n",
    "print(np.amin(a,1))\n",
    "print(np.amax(a))\n",
    "print(np.amax(a,0))\n",
    "print(np.amax(a,1))"
   ],
   "outputs": [
    {
     "output_type": "stream",
     "name": "stdout",
     "text": [
      "1\n",
      "[1 2 3]\n",
      "[1 4 7]\n",
      "9\n",
      "[7 8 9]\n",
      "[3 6 9]\n"
     ]
    }
   ],
   "metadata": {}
  },
  {
   "cell_type": "code",
   "execution_count": 40,
   "source": [
    "# 统计最大值与最小值之差 ptp()\n",
    "print(np.ptp(a))\n",
    "print(np.ptp(a,0))\n",
    "print(np.ptp(a,1))"
   ],
   "outputs": [
    {
     "output_type": "stream",
     "name": "stdout",
     "text": [
      "8\n",
      "[6 6 6]\n",
      "[2 2 2]\n"
     ]
    }
   ],
   "metadata": {}
  },
  {
   "cell_type": "code",
   "execution_count": 41,
   "source": [
    "# 统计数组的百分位数 percentile()\n",
    "print(np.percentile(a,50))\n",
    "print(np.percentile(a,50,0))\n",
    "print(np.percentile(a,50,1))"
   ],
   "outputs": [
    {
     "output_type": "stream",
     "name": "stdout",
     "text": [
      "5.0\n",
      "[4. 5. 6.]\n",
      "[2. 5. 8.]\n"
     ]
    }
   ],
   "metadata": {}
  },
  {
   "cell_type": "code",
   "execution_count": 42,
   "source": [
    "# 统计数组中的中位数 median()、平均数 mean()\n",
    "## 中位数\n",
    "print(np.median(a))\n",
    "print(np.median(a,0))\n",
    "print(np.median(a,1))\n",
    "\n",
    "## 平均数\n",
    "print(np.mean(a))\n",
    "print(np.mean(a,0))\n",
    "print(np.mean(a,1))"
   ],
   "outputs": [
    {
     "output_type": "stream",
     "name": "stdout",
     "text": [
      "5.0\n",
      "[4. 5. 6.]\n",
      "[2. 5. 8.]\n",
      "5.0\n",
      "[4. 5. 6.]\n",
      "[2. 5. 8.]\n"
     ]
    }
   ],
   "metadata": {}
  },
  {
   "cell_type": "code",
   "execution_count": 43,
   "source": [
    "# 统计数组中的加权平均值 average()\n",
    "a = np.array([1,2,3,4])\n",
    "wts = np.array([1,2,3,4])\n",
    "print(np.average(a))\n",
    "print(np.average(a,weights = wts))\n",
    "print((1*1+2*2+3*3+4*4)/(1+2+3+4))"
   ],
   "outputs": [
    {
     "output_type": "stream",
     "name": "stdout",
     "text": [
      "2.5\n",
      "3.0\n",
      "3.0\n"
     ]
    }
   ],
   "metadata": {}
  },
  {
   "cell_type": "code",
   "execution_count": 44,
   "source": [
    "# 统计数组中的标准差 std()、方差 var()\n",
    "a = np.array([1,2,3,4])\n",
    "print(np.std(a))\n",
    "print(np.var(a))"
   ],
   "outputs": [
    {
     "output_type": "stream",
     "name": "stdout",
     "text": [
      "1.118033988749895\n",
      "1.25\n"
     ]
    }
   ],
   "metadata": {}
  },
  {
   "cell_type": "code",
   "execution_count": 49,
   "source": [
    "# Numpy 排序\n",
    "a = np.array([[4,3,2],[2,4,1]])\n",
    "print(np.sort(a))\n",
    "print(np.sort(a, axis=None,kind='quicksort'))\n",
    "print(np.sort(a,0,kind='mergesort'))\n",
    "print(np.sort(a,1,kind='heapsort'))\n"
   ],
   "outputs": [
    {
     "output_type": "stream",
     "name": "stdout",
     "text": [
      "[[2 3 4]\n",
      " [1 2 4]]\n",
      "[1 2 2 3 4 4]\n",
      "[[2 3 1]\n",
      " [4 4 2]]\n",
      "[[2 3 4]\n",
      " [1 2 4]]\n"
     ]
    }
   ],
   "metadata": {}
  },
  {
   "cell_type": "code",
   "execution_count": 65,
   "source": [
    "# 练习：班级成绩排名\n",
    "import numpy as np\n",
    "persontype = np.dtype({'names':['name','chinese','english','math'],'formats':['S32','i','i','i']})\n",
    "persons = np.array([('zhangfei',66,65,30),('guanyu',95,85,98),('zhaoyun',93,92,96),('huangzhong',90,88,77),('dianwei',80,90,90)],dtype=persontype)\n",
    "\n",
    "# 指定竖排\n",
    "names = persons[:]['name']\n",
    "chineses = persons[:]['chinese']\n",
    "englishs = persons[:]['english']\n",
    "maths = persons[:]['math']\n",
    "\n",
    "# 定义函数用于显示每一排\n",
    "def show(names,num):\n",
    "    print(f'|{names}|{np.mean(num)}|{np.amin(num)}|{np.amax(num)}|{np.var(num)}|{np.std(num)}|')\n",
    "    \n",
    "print('|科目|平均成绩|最小成绩|最大成绩|方差|标准差|')\n",
    "show('语文',chineses)\n",
    "show('英语',englishs)\n",
    "show('数学',maths)\n",
    "\n",
    "# print(np.mean(chineses))\n",
    "# print(np.mean(englishs))\n",
    "# print(np.mean(maths))\n",
    "# print(np.amax(chineses))\n",
    "# print(np.amax(englishs))\n",
    "# print(np.amax(maths))\n",
    "# print(np.amin(chineses))\n",
    "# print(np.amin(englishs))\n",
    "# print(np.amin(maths))\n",
    "# print(np.std(chineses))\n",
    "# print(np.std(englishs))\n",
    "# print(np.std(maths))\n",
    "# print(np.var(chineses))\n",
    "# print(np.var(englishs))\n",
    "# print(np.var(maths))"
   ],
   "outputs": [
    {
     "output_type": "stream",
     "name": "stdout",
     "text": [
      "|科目|平均成绩|最小成绩|最大成绩|方差|标准差|\n",
      "|语文|84.8|66|95|114.96000000000001|10.721940122944169|\n",
      "|英语|84.0|65|92|95.6|9.777525249264253|\n",
      "|数学|78.2|30|98|634.56|25.19047439013406|\n"
     ]
    }
   ],
   "metadata": {}
  },
  {
   "cell_type": "code",
   "execution_count": 45,
   "source": [
    "# Series\n",
    "import pandas as pd\n",
    "from pandas import Series,DataFrame\n",
    "x1 = Series([1,2,3,4])\n",
    "x2 = Series(data=[1,2,3,4], index = ['a','b','c','d'])\n",
    "print(f'x1:\\n{x1},\\n x2:\\n{x2}')"
   ],
   "outputs": [
    {
     "output_type": "stream",
     "name": "stdout",
     "text": [
      "x1:\n",
      "0    1\n",
      "1    2\n",
      "2    3\n",
      "3    4\n",
      "dtype: int64,\n",
      " x2:\n",
      "a    1\n",
      "b    2\n",
      "c    3\n",
      "d    4\n",
      "dtype: int64\n"
     ]
    }
   ],
   "metadata": {}
  },
  {
   "cell_type": "code",
   "execution_count": 46,
   "source": [
    "## 字典方式创建\n",
    "d = {'a':1,'b':2,'c':3,'d':4}\n",
    "x3 = Series(d)\n",
    "print(x3)"
   ],
   "outputs": [
    {
     "output_type": "stream",
     "name": "stdout",
     "text": [
      "a    1\n",
      "b    2\n",
      "c    3\n",
      "d    4\n",
      "dtype: int64\n"
     ]
    }
   ],
   "metadata": {}
  },
  {
   "cell_type": "code",
   "execution_count": 47,
   "source": [
    "# DataFrame\n",
    "data = {'Chinese':[92,95,93,90,80],'English':[65,85,92,88,90],'Math':[86,98,96,77,90]}\n",
    "df1 = DataFrame(data)\n",
    "df2 = DataFrame(data,index=['zhangfei','Guanyu','Zhaoyun','Huangzhong','Dianwei'], columns=['English','Math','Chinese'])\n",
    "print(df1)\n",
    "print(df2)"
   ],
   "outputs": [
    {
     "output_type": "stream",
     "name": "stdout",
     "text": [
      "   Chinese  English  Math\n",
      "0       92       65    86\n",
      "1       95       85    98\n",
      "2       93       92    96\n",
      "3       90       88    77\n",
      "4       80       90    90\n",
      "            English  Math  Chinese\n",
      "zhangfei         65    86       92\n",
      "Guanyu           85    98       95\n",
      "Zhaoyun          92    96       93\n",
      "Huangzhong       88    77       90\n",
      "Dianwei          90    90       80\n"
     ]
    }
   ],
   "metadata": {}
  },
  {
   "cell_type": "code",
   "execution_count": 48,
   "source": [
    "\n",
    "## 数据导入和输出\n",
    "# score = DataFrame(pd.read_excel('data.xlsx'))\n",
    "# score.to_excel('data1.xlsx')\n",
    "# print(score)\n",
    "\n",
    "# 数据清洗\n",
    "## 删除DataFrame中不必要的行或列\n",
    "# df2 = df2.drop(columns=['Chinese'])\n",
    "# df2\n",
    "# df2 = df2.drop(index=['zhangfei'])\n",
    "# df2\n",
    "## 重命名列名columns,让列表明更容易识别\n",
    "# df2.rename(columns={'Chinese':'yuwen','English':'yingyu'},inplace=True)\n",
    "# df2\n",
    "## 去重复的值\n",
    "# 格式问题\n",
    "## 更改数据格式\n",
    "df2['Chinese'].astype('str')\n",
    "\n",
    "# df2['Chinese'].astype(np.int64)\n",
    "## 删除空格\n",
    "# df2['Chinese'] = df2['Chinese'].map(str.strip)\n",
    "# df2['Chinese'] = df2['Chinese'].map(str.lstrip)\n",
    "# df2['Chinese'] = df2['Chinese'].map(str.rstrip)\n",
    "# ### 特殊字符\n",
    "# df2['Chinese'] = df2['Chinese'].str.strip('$')\n",
    "### 大小写转换\n",
    "### 查找空值"
   ],
   "outputs": [
    {
     "output_type": "execute_result",
     "data": {
      "text/plain": [
       "zhangfei      92\n",
       "Guanyu        95\n",
       "Zhaoyun       93\n",
       "Huangzhong    90\n",
       "Dianwei       80\n",
       "Name: Chinese, dtype: object"
      ]
     },
     "metadata": {},
     "execution_count": 48
    }
   ],
   "metadata": {}
  },
  {
   "cell_type": "code",
   "execution_count": 49,
   "source": [
    "# 使用Apply函数对数据进行清洗\n",
    "# df2['Chinese'] = df2['Chinese'].astype('str')\n",
    "# df2['Chinese'] = df2['Chinese'].apply(str.upper)\n",
    "# df2\n",
    "# def double_df(x):\n",
    "#     return 2*x\n",
    "# df2['语文'] = df2['Chinese'].apply(double_df)\n",
    "# df2\n",
    "\n",
    "def plus(df,n,m):\n",
    "    df['new1'] = (df['Chinese']+df['English']) * m\n",
    "    df['new2'] = (df['English']+df['Chinese']) * n\n",
    "    return df\n",
    "df2 = df2.apply(plus,axis=1,args=(2,3))\n",
    "df2"
   ],
   "outputs": [
    {
     "output_type": "execute_result",
     "data": {
      "text/html": [
       "<div>\n",
       "<style scoped>\n",
       "    .dataframe tbody tr th:only-of-type {\n",
       "        vertical-align: middle;\n",
       "    }\n",
       "\n",
       "    .dataframe tbody tr th {\n",
       "        vertical-align: top;\n",
       "    }\n",
       "\n",
       "    .dataframe thead th {\n",
       "        text-align: right;\n",
       "    }\n",
       "</style>\n",
       "<table border=\"1\" class=\"dataframe\">\n",
       "  <thead>\n",
       "    <tr style=\"text-align: right;\">\n",
       "      <th></th>\n",
       "      <th>English</th>\n",
       "      <th>Math</th>\n",
       "      <th>Chinese</th>\n",
       "      <th>new1</th>\n",
       "      <th>new2</th>\n",
       "    </tr>\n",
       "  </thead>\n",
       "  <tbody>\n",
       "    <tr>\n",
       "      <th>zhangfei</th>\n",
       "      <td>65</td>\n",
       "      <td>86</td>\n",
       "      <td>92</td>\n",
       "      <td>471</td>\n",
       "      <td>314</td>\n",
       "    </tr>\n",
       "    <tr>\n",
       "      <th>Guanyu</th>\n",
       "      <td>85</td>\n",
       "      <td>98</td>\n",
       "      <td>95</td>\n",
       "      <td>540</td>\n",
       "      <td>360</td>\n",
       "    </tr>\n",
       "    <tr>\n",
       "      <th>Zhaoyun</th>\n",
       "      <td>92</td>\n",
       "      <td>96</td>\n",
       "      <td>93</td>\n",
       "      <td>555</td>\n",
       "      <td>370</td>\n",
       "    </tr>\n",
       "    <tr>\n",
       "      <th>Huangzhong</th>\n",
       "      <td>88</td>\n",
       "      <td>77</td>\n",
       "      <td>90</td>\n",
       "      <td>534</td>\n",
       "      <td>356</td>\n",
       "    </tr>\n",
       "    <tr>\n",
       "      <th>Dianwei</th>\n",
       "      <td>90</td>\n",
       "      <td>90</td>\n",
       "      <td>80</td>\n",
       "      <td>510</td>\n",
       "      <td>340</td>\n",
       "    </tr>\n",
       "  </tbody>\n",
       "</table>\n",
       "</div>"
      ],
      "text/plain": [
       "            English  Math  Chinese  new1  new2\n",
       "zhangfei         65    86       92   471   314\n",
       "Guanyu           85    98       95   540   360\n",
       "Zhaoyun          92    96       93   555   370\n",
       "Huangzhong       88    77       90   534   356\n",
       "Dianwei          90    90       80   510   340"
      ]
     },
     "metadata": {},
     "execution_count": 49
    }
   ],
   "metadata": {}
  },
  {
   "cell_type": "code",
   "execution_count": 50,
   "source": [
    "# 数据统计\n",
    "df1 = DataFrame({'name':['Zhangfei','GuanYu','a','b','c'],'data1':range(5)})\n",
    "print(df1.describe())"
   ],
   "outputs": [
    {
     "output_type": "stream",
     "name": "stdout",
     "text": [
      "          data1\n",
      "count  5.000000\n",
      "mean   2.000000\n",
      "std    1.581139\n",
      "min    0.000000\n",
      "25%    1.000000\n",
      "50%    2.000000\n",
      "75%    3.000000\n",
      "max    4.000000\n"
     ]
    }
   ],
   "metadata": {
    "code_folding": [
     0
    ]
   }
  },
  {
   "cell_type": "code",
   "execution_count": 51,
   "source": [
    "# 数据表合并\n",
    "df1 = DataFrame({'name':['ZhangFei', 'GuanYu', 'a', 'b', 'c'], 'data1':range(5)})\n",
    "df2 = DataFrame({'name':['ZhangFei', 'GuanYu', 'A', 'B', 'C'], 'data2':range(5)})"
   ],
   "outputs": [],
   "metadata": {
    "code_folding": [
     0
    ]
   }
  },
  {
   "cell_type": "code",
   "execution_count": 52,
   "source": [
    "# 基于指定列进行链接\n",
    "df3 = pd.merge(df1,df2,on='name')\n",
    "df3"
   ],
   "outputs": [
    {
     "output_type": "execute_result",
     "data": {
      "text/html": [
       "<div>\n",
       "<style scoped>\n",
       "    .dataframe tbody tr th:only-of-type {\n",
       "        vertical-align: middle;\n",
       "    }\n",
       "\n",
       "    .dataframe tbody tr th {\n",
       "        vertical-align: top;\n",
       "    }\n",
       "\n",
       "    .dataframe thead th {\n",
       "        text-align: right;\n",
       "    }\n",
       "</style>\n",
       "<table border=\"1\" class=\"dataframe\">\n",
       "  <thead>\n",
       "    <tr style=\"text-align: right;\">\n",
       "      <th></th>\n",
       "      <th>name</th>\n",
       "      <th>data1</th>\n",
       "      <th>data2</th>\n",
       "    </tr>\n",
       "  </thead>\n",
       "  <tbody>\n",
       "    <tr>\n",
       "      <th>0</th>\n",
       "      <td>ZhangFei</td>\n",
       "      <td>0</td>\n",
       "      <td>0</td>\n",
       "    </tr>\n",
       "    <tr>\n",
       "      <th>1</th>\n",
       "      <td>GuanYu</td>\n",
       "      <td>1</td>\n",
       "      <td>1</td>\n",
       "    </tr>\n",
       "  </tbody>\n",
       "</table>\n",
       "</div>"
      ],
      "text/plain": [
       "       name  data1  data2\n",
       "0  ZhangFei      0      0\n",
       "1    GuanYu      1      1"
      ]
     },
     "metadata": {},
     "execution_count": 52
    }
   ],
   "metadata": {}
  },
  {
   "cell_type": "code",
   "execution_count": 53,
   "source": [
    "# inner内连接\n",
    "df3 = pd.merge(df1,df2,how='inner')\n",
    "df3"
   ],
   "outputs": [
    {
     "output_type": "execute_result",
     "data": {
      "text/html": [
       "<div>\n",
       "<style scoped>\n",
       "    .dataframe tbody tr th:only-of-type {\n",
       "        vertical-align: middle;\n",
       "    }\n",
       "\n",
       "    .dataframe tbody tr th {\n",
       "        vertical-align: top;\n",
       "    }\n",
       "\n",
       "    .dataframe thead th {\n",
       "        text-align: right;\n",
       "    }\n",
       "</style>\n",
       "<table border=\"1\" class=\"dataframe\">\n",
       "  <thead>\n",
       "    <tr style=\"text-align: right;\">\n",
       "      <th></th>\n",
       "      <th>name</th>\n",
       "      <th>data1</th>\n",
       "      <th>data2</th>\n",
       "    </tr>\n",
       "  </thead>\n",
       "  <tbody>\n",
       "    <tr>\n",
       "      <th>0</th>\n",
       "      <td>ZhangFei</td>\n",
       "      <td>0</td>\n",
       "      <td>0</td>\n",
       "    </tr>\n",
       "    <tr>\n",
       "      <th>1</th>\n",
       "      <td>GuanYu</td>\n",
       "      <td>1</td>\n",
       "      <td>1</td>\n",
       "    </tr>\n",
       "  </tbody>\n",
       "</table>\n",
       "</div>"
      ],
      "text/plain": [
       "       name  data1  data2\n",
       "0  ZhangFei      0      0\n",
       "1    GuanYu      1      1"
      ]
     },
     "metadata": {},
     "execution_count": 53
    }
   ],
   "metadata": {}
  },
  {
   "cell_type": "code",
   "execution_count": 54,
   "source": [
    "# left左连接\n",
    "df3 = pd.merge(df1,df2,how='left')\n",
    "df3"
   ],
   "outputs": [
    {
     "output_type": "execute_result",
     "data": {
      "text/html": [
       "<div>\n",
       "<style scoped>\n",
       "    .dataframe tbody tr th:only-of-type {\n",
       "        vertical-align: middle;\n",
       "    }\n",
       "\n",
       "    .dataframe tbody tr th {\n",
       "        vertical-align: top;\n",
       "    }\n",
       "\n",
       "    .dataframe thead th {\n",
       "        text-align: right;\n",
       "    }\n",
       "</style>\n",
       "<table border=\"1\" class=\"dataframe\">\n",
       "  <thead>\n",
       "    <tr style=\"text-align: right;\">\n",
       "      <th></th>\n",
       "      <th>name</th>\n",
       "      <th>data1</th>\n",
       "      <th>data2</th>\n",
       "    </tr>\n",
       "  </thead>\n",
       "  <tbody>\n",
       "    <tr>\n",
       "      <th>0</th>\n",
       "      <td>ZhangFei</td>\n",
       "      <td>0</td>\n",
       "      <td>0.0</td>\n",
       "    </tr>\n",
       "    <tr>\n",
       "      <th>1</th>\n",
       "      <td>GuanYu</td>\n",
       "      <td>1</td>\n",
       "      <td>1.0</td>\n",
       "    </tr>\n",
       "    <tr>\n",
       "      <th>2</th>\n",
       "      <td>a</td>\n",
       "      <td>2</td>\n",
       "      <td>NaN</td>\n",
       "    </tr>\n",
       "    <tr>\n",
       "      <th>3</th>\n",
       "      <td>b</td>\n",
       "      <td>3</td>\n",
       "      <td>NaN</td>\n",
       "    </tr>\n",
       "    <tr>\n",
       "      <th>4</th>\n",
       "      <td>c</td>\n",
       "      <td>4</td>\n",
       "      <td>NaN</td>\n",
       "    </tr>\n",
       "  </tbody>\n",
       "</table>\n",
       "</div>"
      ],
      "text/plain": [
       "       name  data1  data2\n",
       "0  ZhangFei      0    0.0\n",
       "1    GuanYu      1    1.0\n",
       "2         a      2    NaN\n",
       "3         b      3    NaN\n",
       "4         c      4    NaN"
      ]
     },
     "metadata": {},
     "execution_count": 54
    }
   ],
   "metadata": {}
  },
  {
   "cell_type": "code",
   "execution_count": 55,
   "source": [
    "# right右连接\n",
    "df3 = pd.merge(df1,df2,how='right')\n",
    "df3"
   ],
   "outputs": [
    {
     "output_type": "execute_result",
     "data": {
      "text/html": [
       "<div>\n",
       "<style scoped>\n",
       "    .dataframe tbody tr th:only-of-type {\n",
       "        vertical-align: middle;\n",
       "    }\n",
       "\n",
       "    .dataframe tbody tr th {\n",
       "        vertical-align: top;\n",
       "    }\n",
       "\n",
       "    .dataframe thead th {\n",
       "        text-align: right;\n",
       "    }\n",
       "</style>\n",
       "<table border=\"1\" class=\"dataframe\">\n",
       "  <thead>\n",
       "    <tr style=\"text-align: right;\">\n",
       "      <th></th>\n",
       "      <th>name</th>\n",
       "      <th>data1</th>\n",
       "      <th>data2</th>\n",
       "    </tr>\n",
       "  </thead>\n",
       "  <tbody>\n",
       "    <tr>\n",
       "      <th>0</th>\n",
       "      <td>ZhangFei</td>\n",
       "      <td>0.0</td>\n",
       "      <td>0</td>\n",
       "    </tr>\n",
       "    <tr>\n",
       "      <th>1</th>\n",
       "      <td>GuanYu</td>\n",
       "      <td>1.0</td>\n",
       "      <td>1</td>\n",
       "    </tr>\n",
       "    <tr>\n",
       "      <th>2</th>\n",
       "      <td>A</td>\n",
       "      <td>NaN</td>\n",
       "      <td>2</td>\n",
       "    </tr>\n",
       "    <tr>\n",
       "      <th>3</th>\n",
       "      <td>B</td>\n",
       "      <td>NaN</td>\n",
       "      <td>3</td>\n",
       "    </tr>\n",
       "    <tr>\n",
       "      <th>4</th>\n",
       "      <td>C</td>\n",
       "      <td>NaN</td>\n",
       "      <td>4</td>\n",
       "    </tr>\n",
       "  </tbody>\n",
       "</table>\n",
       "</div>"
      ],
      "text/plain": [
       "       name  data1  data2\n",
       "0  ZhangFei    0.0      0\n",
       "1    GuanYu    1.0      1\n",
       "2         A    NaN      2\n",
       "3         B    NaN      3\n",
       "4         C    NaN      4"
      ]
     },
     "metadata": {},
     "execution_count": 55
    }
   ],
   "metadata": {}
  },
  {
   "cell_type": "code",
   "execution_count": 60,
   "source": [
    "# outer外连接\n",
    "df3 = pd.merge(df1,df2,how='outer')\n",
    "df3\n",
    "\n"
   ],
   "outputs": [
    {
     "output_type": "execute_result",
     "data": {
      "text/html": [
       "<div>\n",
       "<style scoped>\n",
       "    .dataframe tbody tr th:only-of-type {\n",
       "        vertical-align: middle;\n",
       "    }\n",
       "\n",
       "    .dataframe tbody tr th {\n",
       "        vertical-align: top;\n",
       "    }\n",
       "\n",
       "    .dataframe thead th {\n",
       "        text-align: right;\n",
       "    }\n",
       "</style>\n",
       "<table border=\"1\" class=\"dataframe\">\n",
       "  <thead>\n",
       "    <tr style=\"text-align: right;\">\n",
       "      <th></th>\n",
       "      <th>name</th>\n",
       "      <th>data1</th>\n",
       "      <th>data2</th>\n",
       "    </tr>\n",
       "  </thead>\n",
       "  <tbody>\n",
       "    <tr>\n",
       "      <th>0</th>\n",
       "      <td>ZhangFei</td>\n",
       "      <td>0.0</td>\n",
       "      <td>0.0</td>\n",
       "    </tr>\n",
       "    <tr>\n",
       "      <th>1</th>\n",
       "      <td>GuanYu</td>\n",
       "      <td>1.0</td>\n",
       "      <td>1.0</td>\n",
       "    </tr>\n",
       "    <tr>\n",
       "      <th>2</th>\n",
       "      <td>a</td>\n",
       "      <td>2.0</td>\n",
       "      <td>0.0</td>\n",
       "    </tr>\n",
       "    <tr>\n",
       "      <th>3</th>\n",
       "      <td>b</td>\n",
       "      <td>3.0</td>\n",
       "      <td>0.0</td>\n",
       "    </tr>\n",
       "    <tr>\n",
       "      <th>4</th>\n",
       "      <td>c</td>\n",
       "      <td>4.0</td>\n",
       "      <td>0.0</td>\n",
       "    </tr>\n",
       "    <tr>\n",
       "      <th>5</th>\n",
       "      <td>A</td>\n",
       "      <td>0.0</td>\n",
       "      <td>2.0</td>\n",
       "    </tr>\n",
       "    <tr>\n",
       "      <th>6</th>\n",
       "      <td>B</td>\n",
       "      <td>0.0</td>\n",
       "      <td>3.0</td>\n",
       "    </tr>\n",
       "    <tr>\n",
       "      <th>7</th>\n",
       "      <td>C</td>\n",
       "      <td>0.0</td>\n",
       "      <td>4.0</td>\n",
       "    </tr>\n",
       "  </tbody>\n",
       "</table>\n",
       "</div>"
      ],
      "text/plain": [
       "       name  data1  data2\n",
       "0  ZhangFei    0.0    0.0\n",
       "1    GuanYu    1.0    1.0\n",
       "2         a    2.0    0.0\n",
       "3         b    3.0    0.0\n",
       "4         c    4.0    0.0\n",
       "5         A    0.0    2.0\n",
       "6         B    0.0    3.0\n",
       "7         C    0.0    4.0"
      ]
     },
     "metadata": {},
     "execution_count": 60
    }
   ],
   "metadata": {}
  },
  {
   "cell_type": "code",
   "execution_count": 58,
   "source": [
    "# 用SQL方式打开Pandas\n",
    "import pandas as pd\n",
    "from pandas import DataFrame\n",
    "from pandasql import sqldf,load_meat,load_births\n",
    "df1 = DataFrame({'name':['ZhangFei', 'GuanYu', 'a', 'b', 'c'], 'data1':range(5)})\n",
    "pysqldf = lambda sql: sqldf(sql,globals())\n",
    "sql = \"select * from df1 where name = 'ZhangFei'\"\n",
    "print(pysqldf(sql))"
   ],
   "outputs": [
    {
     "output_type": "stream",
     "name": "stdout",
     "text": [
      "       name  data1\n",
      "0  ZhangFei      0\n"
     ]
    }
   ],
   "metadata": {
    "code_folding": [
     0
    ]
   }
  },
  {
   "cell_type": "code",
   "execution_count": 166,
   "source": [
    "# 练习题\n",
    "import pandas as pd\n",
    "from pandas import Series, DataFrame\n",
    "\n",
    "data1 = pd.DataFrame({'name':['Zhangfei','Guanyu','Zhaoyun','Huangzhong','Dianwei','Dianwei'],'Chinese':[66,95,95,90,80,80],'English':[65,85,92,88,90,90],'Math':[None,98,96,77,90,90]})\n",
    "data1\n",
    "\n",
    "# 去处重复行\n",
    "df1 = data1.drop_duplicates()\n",
    "# 替换缺失值\n",
    "df1 = df1.fillna(0)\n",
    "# 增加总和\n",
    "def sum(df):\n",
    "    df['sum']  = (df['Chinese']+df['English']+df['Math'])\n",
    "    return df\n",
    "\n",
    "df1 = df1.apply(sum,axis=1)\n",
    "df1\n"
   ],
   "outputs": [
    {
     "output_type": "execute_result",
     "data": {
      "text/html": [
       "<div>\n",
       "<style scoped>\n",
       "    .dataframe tbody tr th:only-of-type {\n",
       "        vertical-align: middle;\n",
       "    }\n",
       "\n",
       "    .dataframe tbody tr th {\n",
       "        vertical-align: top;\n",
       "    }\n",
       "\n",
       "    .dataframe thead th {\n",
       "        text-align: right;\n",
       "    }\n",
       "</style>\n",
       "<table border=\"1\" class=\"dataframe\">\n",
       "  <thead>\n",
       "    <tr style=\"text-align: right;\">\n",
       "      <th></th>\n",
       "      <th>name</th>\n",
       "      <th>Chinese</th>\n",
       "      <th>English</th>\n",
       "      <th>Math</th>\n",
       "      <th>sum</th>\n",
       "    </tr>\n",
       "  </thead>\n",
       "  <tbody>\n",
       "    <tr>\n",
       "      <th>0</th>\n",
       "      <td>Zhangfei</td>\n",
       "      <td>66</td>\n",
       "      <td>65</td>\n",
       "      <td>0.0</td>\n",
       "      <td>131.0</td>\n",
       "    </tr>\n",
       "    <tr>\n",
       "      <th>1</th>\n",
       "      <td>Guanyu</td>\n",
       "      <td>95</td>\n",
       "      <td>85</td>\n",
       "      <td>98.0</td>\n",
       "      <td>278.0</td>\n",
       "    </tr>\n",
       "    <tr>\n",
       "      <th>2</th>\n",
       "      <td>Zhaoyun</td>\n",
       "      <td>95</td>\n",
       "      <td>92</td>\n",
       "      <td>96.0</td>\n",
       "      <td>283.0</td>\n",
       "    </tr>\n",
       "    <tr>\n",
       "      <th>3</th>\n",
       "      <td>Huangzhong</td>\n",
       "      <td>90</td>\n",
       "      <td>88</td>\n",
       "      <td>77.0</td>\n",
       "      <td>255.0</td>\n",
       "    </tr>\n",
       "    <tr>\n",
       "      <th>4</th>\n",
       "      <td>Dianwei</td>\n",
       "      <td>80</td>\n",
       "      <td>90</td>\n",
       "      <td>90.0</td>\n",
       "      <td>260.0</td>\n",
       "    </tr>\n",
       "  </tbody>\n",
       "</table>\n",
       "</div>"
      ],
      "text/plain": [
       "         name  Chinese  English  Math    sum\n",
       "0    Zhangfei       66       65   0.0  131.0\n",
       "1      Guanyu       95       85  98.0  278.0\n",
       "2     Zhaoyun       95       92  96.0  283.0\n",
       "3  Huangzhong       90       88  77.0  255.0\n",
       "4     Dianwei       80       90  90.0  260.0"
      ]
     },
     "metadata": {},
     "execution_count": 166
    }
   ],
   "metadata": {}
  },
  {
   "cell_type": "code",
   "execution_count": null,
   "source": [],
   "outputs": [],
   "metadata": {}
  }
 ],
 "metadata": {
  "kernelspec": {
   "name": "python3",
   "display_name": "Python 3.9.5 64-bit ('tf': conda)"
  },
  "language_info": {
   "codemirror_mode": {
    "name": "ipython",
    "version": 3
   },
   "file_extension": ".py",
   "mimetype": "text/x-python",
   "name": "python",
   "nbconvert_exporter": "python",
   "pygments_lexer": "ipython3",
   "version": "3.9.5"
  },
  "interpreter": {
   "hash": "35f69483aa8b7b2bb12f1e6f2ffb8fe1120cf837ca5a80070d69961a5682f06d"
  }
 },
 "nbformat": 4,
 "nbformat_minor": 4
}