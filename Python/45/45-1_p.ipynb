{
 "cells": [
  {
   "cell_type": "code",
   "execution_count": 1,
   "source": [
    "num = 0\n",
    "for i in range(1, 1000, 2):\n",
    "    num += i\n",
    "print(num)"
   ],
   "outputs": [
    {
     "output_type": "stream",
     "name": "stdout",
     "text": [
      "250000\n"
     ]
    }
   ],
   "metadata": {}
  },
  {
   "cell_type": "code",
   "execution_count": 2,
   "source": [
    "num = sum(range(1, 1000, 2))\n",
    "print(num)"
   ],
   "outputs": [
    {
     "output_type": "stream",
     "name": "stdout",
     "text": [
      "250000\n"
     ]
    }
   ],
   "metadata": {}
  },
  {
   "cell_type": "code",
   "execution_count": 8,
   "source": [
    "import numpy as np\n",
    "\n",
    "a = np.array([1,2,3,4,5,6])\n",
    "b = np.array([[1,2,3],[4,5,6],[7,8,9,]])\n",
    "\n",
    "b[1,1] = 10\n",
    "\n",
    "a.shape\n",
    "b.shape\n",
    "a.dtype\n",
    "b\n"
   ],
   "outputs": [
    {
     "output_type": "execute_result",
     "data": {
      "text/plain": [
       "array([[ 1,  2,  3],\n",
       "       [ 4, 10,  6],\n",
       "       [ 7,  8,  9]])"
      ]
     },
     "metadata": {},
     "execution_count": 8
    }
   ],
   "metadata": {}
  },
  {
   "cell_type": "code",
   "execution_count": 27,
   "source": [
    "# -*- coding: utf-8 -*-\n",
    "\n",
    "import  numpy as np\n",
    "import string\n",
    "\n",
    "persontype = np.dtype({'names':['name','age','chinese','math', 'english'], 'formats':['S32', 'i', 'i', 'i', 'f']})\n",
    "person = np.array([('zhangfei', 32, 67,46,82),('zhangfei', 32, 67,46,82),('zhangfei', 32, 67,46,82),('zhangfei', 32, 67,46,82)], dtype=persontype)\n",
    "\n",
    "ages = person['age'][:]\n",
    "ages\n",
    "chineses = person['chinese'][:]\n",
    "chineses\n",
    "maths = person['math'][:]\n",
    "maths\n",
    "englishs = person[:]['english']\n",
    "englishs\n",
    "\n",
    "print('age mean:', np.mean(ages))\n",
    "print('chinese mean:', np.mean(chineses))\n",
    "print('math mean:', np.mean(maths))\n",
    "print('english mean:', np.mean(englishs))\n",
    "\n"
   ],
   "outputs": [
    {
     "output_type": "stream",
     "name": "stdout",
     "text": [
      "age mean: 32.0\n",
      "chinese mean: 67.0\n",
      "math mean: 46.0\n",
      "english mean: 82.0\n"
     ]
    }
   ],
   "metadata": {}
  },
  {
   "cell_type": "code",
   "execution_count": 29,
   "source": [
    "x1 = np.arange(1, 11, 2)\n",
    "x2 = np.linspace(1, 9, 5)\n",
    "print(x1)\n",
    "print(x2)"
   ],
   "outputs": [
    {
     "output_type": "stream",
     "name": "stdout",
     "text": [
      "[1 3 5 7 9]\n",
      "[1. 3. 5. 7. 9.]\n"
     ]
    }
   ],
   "metadata": {}
  },
  {
   "cell_type": "code",
   "execution_count": 33,
   "source": [
    "for i in range(1, 10):\n",
    "    for j in range(1, i+1):\n",
    "        print(r'{} X {} = {}'.format(j, i, i*j), end='\\t')\n",
    "    print()"
   ],
   "outputs": [
    {
     "output_type": "stream",
     "name": "stdout",
     "text": [
      "1 X 1 = 1\t\n",
      "1 X 2 = 2\t2 X 2 = 4\t\n",
      "1 X 3 = 3\t2 X 3 = 6\t3 X 3 = 9\t\n",
      "1 X 4 = 4\t2 X 4 = 8\t3 X 4 = 12\t4 X 4 = 16\t\n",
      "1 X 5 = 5\t2 X 5 = 10\t3 X 5 = 15\t4 X 5 = 20\t5 X 5 = 25\t\n",
      "1 X 6 = 6\t2 X 6 = 12\t3 X 6 = 18\t4 X 6 = 24\t5 X 6 = 30\t6 X 6 = 36\t\n",
      "1 X 7 = 7\t2 X 7 = 14\t3 X 7 = 21\t4 X 7 = 28\t5 X 7 = 35\t6 X 7 = 42\t7 X 7 = 49\t\n",
      "1 X 8 = 8\t2 X 8 = 16\t3 X 8 = 24\t4 X 8 = 32\t5 X 8 = 40\t6 X 8 = 48\t7 X 8 = 56\t8 X 8 = 64\t\n",
      "1 X 9 = 9\t2 X 9 = 18\t3 X 9 = 27\t4 X 9 = 36\t5 X 9 = 45\t6 X 9 = 54\t7 X 9 = 63\t8 X 9 = 72\t9 X 9 = 81\t\n"
     ]
    }
   ],
   "metadata": {}
  },
  {
   "cell_type": "code",
   "execution_count": 51,
   "source": [
    "x1 = np.arange(1, 11, 2)\n",
    "x2 = np.linspace(1, 9, 5)\n",
    "x1, x2"
   ],
   "outputs": [
    {
     "output_type": "execute_result",
     "data": {
      "text/plain": [
       "(array([1, 3, 5, 7, 9]), array([1., 3., 5., 7., 9.]))"
      ]
     },
     "metadata": {},
     "execution_count": 51
    }
   ],
   "metadata": {}
  },
  {
   "cell_type": "code",
   "execution_count": 65,
   "source": [
    "np.add(x1, x2)\n",
    "np.subtract(x1, x2)\n",
    "np.multiply(x1, x2)\n",
    "np.divide(x1, x2)\n",
    "np.power(x1, x2)\n",
    "np.remainder(x1, x2)"
   ],
   "outputs": [
    {
     "output_type": "execute_result",
     "data": {
      "text/plain": [
       "array([0., 0., 0., 0., 0.])"
      ]
     },
     "metadata": {},
     "execution_count": 65
    }
   ],
   "metadata": {}
  },
  {
   "cell_type": "code",
   "execution_count": 59,
   "source": [
    "score = {\"guanyu\":95, 'zhangfei': 96}\n",
    "score['zhaoyun'] = 98\n",
    "score"
   ],
   "outputs": [
    {
     "output_type": "stream",
     "name": "stdout",
     "text": [
      "98\n"
     ]
    }
   ],
   "metadata": {}
  },
  {
   "cell_type": "code",
   "execution_count": 60,
   "source": [
    "s = set(['a', 'b', 'c'])\n",
    "s.add('d')\n",
    "s"
   ],
   "outputs": [
    {
     "output_type": "execute_result",
     "data": {
      "text/plain": [
       "{'a', 'b', 'c', 'd'}"
      ]
     },
     "metadata": {},
     "execution_count": 60
    }
   ],
   "metadata": {}
  },
  {
   "cell_type": "code",
   "execution_count": 61,
   "source": [
    "s.remove('b')\n",
    "print('c' in s)"
   ],
   "outputs": [
    {
     "output_type": "stream",
     "name": "stdout",
     "text": [
      "True\n"
     ]
    }
   ],
   "metadata": {}
  },
  {
   "cell_type": "code",
   "execution_count": 62,
   "source": [
    "while True:\n",
    "    try:\n",
    "        line = raw_input()\n",
    "        a = line.split()\n",
    "        print(int(a[0]) + int(a[1]))\n",
    "    except:\n",
    "        break"
   ],
   "outputs": [],
   "metadata": {}
  },
  {
   "cell_type": "code",
   "execution_count": 71,
   "source": [
    "a = np.array([[1,2,3], [4,5,6], [7,8,9]])\n",
    "np.amin(a)\n",
    "np.amin(a, 0)\n",
    "np.amin(a, 1)\n",
    "np.amax(a)"
   ],
   "outputs": [
    {
     "output_type": "execute_result",
     "data": {
      "text/plain": [
       "9"
      ]
     },
     "metadata": {},
     "execution_count": 71
    }
   ],
   "metadata": {}
  },
  {
   "cell_type": "code",
   "execution_count": 74,
   "source": [
    "np.ptp(a)\n",
    "np.ptp(a, 0)\n",
    "np.ptp(a, 1)"
   ],
   "outputs": [
    {
     "output_type": "execute_result",
     "data": {
      "text/plain": [
       "array([2, 2, 2])"
      ]
     },
     "metadata": {},
     "execution_count": 74
    }
   ],
   "metadata": {}
  },
  {
   "cell_type": "code",
   "execution_count": 81,
   "source": [
    "np.percentile(a, 100)\n",
    "np.percentile(a, 100, 0)\n",
    "# np.percentile(a, 50, 1)"
   ],
   "outputs": [
    {
     "output_type": "execute_result",
     "data": {
      "text/plain": [
       "array([7., 8., 9.])"
      ]
     },
     "metadata": {},
     "execution_count": 81
    }
   ],
   "metadata": {}
  },
  {
   "cell_type": "code",
   "execution_count": 84,
   "source": [
    "np.median(a)\n",
    "np.median(a, 0)\n",
    "np.median(a, 1)"
   ],
   "outputs": [
    {
     "output_type": "execute_result",
     "data": {
      "text/plain": [
       "array([2., 5., 8.])"
      ]
     },
     "metadata": {},
     "execution_count": 84
    }
   ],
   "metadata": {}
  },
  {
   "cell_type": "code",
   "execution_count": 86,
   "source": [
    "a = np.array([1,2,3,4])\n",
    "wts = np.array([1,2,3,4])\n",
    "np.average(a)\n",
    "np.average(a, weights=wts)"
   ],
   "outputs": [
    {
     "output_type": "execute_result",
     "data": {
      "text/plain": [
       "3.0"
      ]
     },
     "metadata": {},
     "execution_count": 86
    }
   ],
   "metadata": {}
  },
  {
   "cell_type": "code",
   "execution_count": 88,
   "source": [
    "a = np.array([1,2,3,4])\n",
    "np.std(a)\n",
    "np.var(a)"
   ],
   "outputs": [
    {
     "output_type": "execute_result",
     "data": {
      "text/plain": [
       "1.25"
      ]
     },
     "metadata": {},
     "execution_count": 88
    }
   ],
   "metadata": {}
  },
  {
   "cell_type": "code",
   "execution_count": 108,
   "source": [
    "num = 0\n",
    "# for i in range(1, 100, 2):\n",
    "#     num += i\n",
    "# num\n",
    "for i in np.linspace(1, 99, 50):\n",
    "    num += i\n",
    "num"
   ],
   "outputs": [
    {
     "output_type": "execute_result",
     "data": {
      "text/plain": [
       "2500.0"
      ]
     },
     "metadata": {},
     "execution_count": 108
    }
   ],
   "metadata": {}
  },
  {
   "cell_type": "code",
   "execution_count": 148,
   "source": [
    "# -*- coding: utf-8 -*-  \n",
    "persontype = np.dtype({'names':['姓名','语文','英语','数学'], 'formats':['S32','i','i','i']})\n",
    "\n",
    "persons = np.array([('ZhangFei',66,65,30),('GuanYu',95,85,98),('ZhaoYun',93,92,96), ('HuangZhong',90,88,77),('DianWei', 80,90,90)], dtype=persontype)"
   ],
   "outputs": [],
   "metadata": {}
  },
  {
   "cell_type": "code",
   "execution_count": 183,
   "source": [
    "chineses = persons[:]['语文']\n",
    "englishs = persons[:]['英语']\n",
    "maths  = persons[:]['数学']\n",
    "\n",
    "print('Chinese mean:', np.mean(chineses))\n",
    "print('Math mean:', np.mean(maths))\n",
    "print('English mean:', np.mean(englishs))\n",
    "print('*'*20, '\\n')\n",
    "print('Chinese min:', np.amin(chineses))\n",
    "print('Math min:', np.amin(maths))\n",
    "print('English min:', np.amin(englishs))\n",
    "print('*'*20, '\\n')\n",
    "print('Chinese max:', np.amax(chineses))\n",
    "print('Math max:', np.amax(maths))\n",
    "print('English max:', np.amax(englishs))\n",
    "print('*'*20, '\\n')\n",
    "print('Chinese std:', np.std(chineses))\n",
    "print('Math std:', np.std(maths))\n",
    "print('English std:', np.std(englishs))\n",
    "print('*'*20, '\\n')\n",
    "print('Chinese var:', np.var(chineses))\n",
    "print('Math var:', np.var(maths))\n",
    "print('English var:', np.var(englishs))\n",
    "print('*'*20, '\\n')\n",
    "print('*'*20, '\\n')\n",
    "\n",
    "def show(names, num):\n",
    "    print(f'|{names}|{np.mean(num)}|{np.amin(num)}|{np.amax(num)}|{np.var(num)}|{np.std(num)}')\n",
    "\n",
    "\n",
    "print('|科目|平均|最小|最大|方差|标准差|')\n",
    "show('语文', chineses)\n",
    "show('数学', maths)\n",
    "show('英语', englishs)"
   ],
   "outputs": [
    {
     "output_type": "stream",
     "name": "stdout",
     "text": [
      "Chinese mean: 84.8\n",
      "Math mean: 78.2\n",
      "English mean: 84.0\n",
      "******************** \n",
      "\n",
      "Chinese min: 66\n",
      "Math min: 30\n",
      "English min: 65\n",
      "******************** \n",
      "\n",
      "Chinese max: 95\n",
      "Math max: 98\n",
      "English max: 92\n",
      "******************** \n",
      "\n",
      "Chinese std: 10.721940122944169\n",
      "Math std: 25.19047439013406\n",
      "English std: 9.777525249264253\n",
      "******************** \n",
      "\n",
      "Chinese var: 114.96000000000001\n",
      "Math var: 634.56\n",
      "English var: 95.6\n",
      "******************** \n",
      "\n",
      "******************** \n",
      "\n",
      "|科目|平均|最小|最大|方差|标准差|\n",
      "|语文|84.8|66|95|114.96000000000001|10.721940122944169\n",
      "|数学|78.2|30|98|634.56|25.19047439013406\n",
      "|英语|84.0|65|92|95.6|9.777525249264253\n"
     ]
    }
   ],
   "metadata": {}
  },
  {
   "cell_type": "code",
   "execution_count": 186,
   "source": [
    "print('排名')\n",
    "ranking=sorted(persons, key=lambda x:x[1]+x[2]+x[3], reverse=True)\n",
    "ranking"
   ],
   "outputs": [
    {
     "output_type": "stream",
     "name": "stdout",
     "text": [
      "排名\n"
     ]
    },
    {
     "output_type": "execute_result",
     "data": {
      "text/plain": [
       "[(b'ZhaoYun', 93, 92, 96),\n",
       " (b'GuanYu', 95, 85, 98),\n",
       " (b'DianWei', 80, 90, 90),\n",
       " (b'HuangZhong', 90, 88, 77),\n",
       " (b'ZhangFei', 66, 65, 30)]"
      ]
     },
     "metadata": {},
     "execution_count": 186
    }
   ],
   "metadata": {}
  },
  {
   "cell_type": "code",
   "execution_count": 187,
   "source": [
    "import pandas as pd\n",
    "from pandas import Series, DataFrame\n",
    "x1 = Series([1,2,3,4])\n",
    "x2 = Series(data=[1,2,3,4], index=['a','b','c','d'])\n",
    "print(f'x1:\\n{x1}, \\n x2:\\n{x2}')"
   ],
   "outputs": [
    {
     "output_type": "stream",
     "name": "stdout",
     "text": [
      "x1:\n",
      "0    1\n",
      "1    2\n",
      "2    3\n",
      "3    4\n",
      "dtype: int64, \n",
      " x2:\n",
      "a    1\n",
      "b    2\n",
      "c    3\n",
      "d    4\n",
      "dtype: int64\n"
     ]
    }
   ],
   "metadata": {}
  },
  {
   "cell_type": "code",
   "execution_count": 188,
   "source": [
    "data={'chinese': [66,35,67,32,44],'math':[45,76,45,21,55],'english':[23,77,34,13,78]}\n",
    "df1=DataFrame(data)\n",
    "df2 = DataFrame(data, index=['zhangfei','Guanyu','zhaoyun','huangzhong','dianwei'])\n",
    "print(df1)\n",
    "print(df2)"
   ],
   "outputs": [
    {
     "output_type": "stream",
     "name": "stdout",
     "text": [
      "   chinese  math  english\n",
      "0       66    45       23\n",
      "1       35    76       77\n",
      "2       67    45       34\n",
      "3       32    21       13\n",
      "4       44    55       78\n",
      "            chinese  math  english\n",
      "zhangfei         66    45       23\n",
      "Guanyu           35    76       77\n",
      "zhaoyun          67    45       34\n",
      "huangzhong       32    21       13\n",
      "dianwei          44    55       78\n"
     ]
    }
   ],
   "metadata": {}
  },
  {
   "cell_type": "code",
   "execution_count": null,
   "source": [],
   "outputs": [],
   "metadata": {}
  }
 ],
 "metadata": {
  "orig_nbformat": 4,
  "language_info": {
   "name": "python",
   "version": "3.9.5",
   "mimetype": "text/x-python",
   "codemirror_mode": {
    "name": "ipython",
    "version": 3
   },
   "pygments_lexer": "ipython3",
   "nbconvert_exporter": "python",
   "file_extension": ".py"
  },
  "kernelspec": {
   "name": "python3",
   "display_name": "Python 3.9.5 64-bit ('tf': conda)"
  },
  "interpreter": {
   "hash": "35f69483aa8b7b2bb12f1e6f2ffb8fe1120cf837ca5a80070d69961a5682f06d"
  }
 },
 "nbformat": 4,
 "nbformat_minor": 2
}