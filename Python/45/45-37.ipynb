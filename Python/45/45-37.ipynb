{
 "cells": [
  {
   "cell_type": "code",
   "execution_count": 3,
   "metadata": {},
   "outputs": [],
   "source": [
    "# Selenium自动化测试工具\n",
    "\n",
    "from selenium import webdriver\n",
    "import time\n",
    "browser = webdriver.Chrome('/Applications/chromedriver')\n",
    "\n",
    "# 登录微博\n",
    "def weibo_login(username, password):\n",
    "    # 打开微博登录页\n",
    "    browser.get('https://passport.weibo.cn/signin/login')\n",
    "    browser.implicitly_wait(5)\n",
    "    time.sleep(1)\n",
    "    # 填写登录信息：用户名、密码\n",
    "    browser.find_element_by_id('loginName').send_keys(username)\n",
    "    browser.find_element_by_id('loginPassword').send_keys(password)\n",
    "    time.sleep(1)\n",
    "    # 点击登录\n",
    "    browser.find_element_by_id('loginAction').click()\n",
    "    time.sleep(1)\n",
    "    \n",
    "# 设置用户名、密码\n",
    "username='ivandoo75@gmail.com'\n",
    "password='b4kz?WHATCWEIBO'\n",
    "weibo_login(username,password)\n",
    "\n"
   ]
  },
  {
   "cell_type": "code",
   "execution_count": 12,
   "metadata": {},
   "outputs": [],
   "source": [
    "# 添加指定的用户\n",
    "def add_follow(uid):\n",
    "    browser.get('https://m.weibo.com/u/'+str(uid))\n",
    "    time.sleep(1)\n",
    "    # browser.find_element_by_id('follow').click()\n",
    "    follow_button = browser.find_element_by_xpath('//a[@class=\"W_btn_c btn_34px\"]')\n",
    "    follow_button.click()\n",
    "    time.sleep(1)\n",
    "    # 选择分组\n",
    "    group_button = browser.find_element_by_xpath('//a[@class=\"tlink S_txt1\"]')\n",
    "    group_button.click()\n",
    "    time.sleep(1)\n",
    "    # 确认知道了\n",
    "    know_button = browser.find_element_by_xpath('//a[@class=\"W_btn_b btn_34px\"]')\n",
    "    know_button.click()\n",
    "    time.sleep(1)\n",
    "    \n",
    "# 每天学点信息理学UID\n",
    "uid='1890826225'\n",
    "add_follow(uid)"
   ]
  },
  {
   "cell_type": "code",
   "execution_count": 16,
   "metadata": {},
   "outputs": [],
   "source": [
    "# 给指定某条微博添加内容\n",
    "def add_comment(weibo_url, content):\n",
    "    browser.get(weibo_url)\n",
    "    browser.implicitly_wait(5)\n",
    "    content_textarea = browser.find_element_by_css_selector('textarea.W_input').clear()\n",
    "    content_textarea = browser.find_element_by_css_selector('textarea.W_input').send_keys(content)\n",
    "    time.sleep(2)\n",
    "    comment_button=browser.find_element_by_css_selector('.W_btn_a').click()\n",
    "    time.sleep(1)\n",
    "\n",
    "# 发文字微博\n",
    "def post_weibo(content):\n",
    "    # 跳转到用户的首页\n",
    "    browser.get('https://weibo.com')\n",
    "    browser.implicitly_wait(5)\n",
    "    # 点击右上角的发布按钮\n",
    "#     post_button = browser.find_element_by_css_selector(\"[node-type='publish']\").click()\n",
    "    # 在弹出的文本框内输入内容\n",
    "    content_textarea = browser.find_element_by_css_selector('textarea.W_input').send_keys(content)\n",
    "    time.sleep(2)\n",
    "    # 点击发布按钮\n",
    "    post_button = browser.find_element_by_css_selector(\"[node-type='submit']\").click()\n",
    "    time.sleep(1)\n",
    "\n",
    "# 给指定的微博写评论\n",
    "weibo_url = 'https://weibo.com/1890826225/HjjqSahwl'\n",
    "content = 'Gook Luck!好运已上路！'\n",
    "add_comment(weibo_url,content)\n",
    "# 自动发微博\n",
    "content = '每天学点心理学'\n",
    "# post_weibo(content)"
   ]
  },
  {
   "cell_type": "code",
   "execution_count": null,
   "metadata": {},
   "outputs": [],
   "source": []
  }
 ],
 "metadata": {
  "kernelspec": {
   "display_name": "Python 3",
   "language": "python",
   "name": "python3"
  },
  "language_info": {
   "codemirror_mode": {
    "name": "ipython",
    "version": 3
   },
   "file_extension": ".py",
   "mimetype": "text/x-python",
   "name": "python",
   "nbconvert_exporter": "python",
   "pygments_lexer": "ipython3",
   "version": "3.8.3"
  }
 },
 "nbformat": 4,
 "nbformat_minor": 4
}
