{
 "cells": [
  {
   "cell_type": "markdown",
   "source": [
    "# classic machine learning 1"
   ],
   "metadata": {}
  },
  {
   "cell_type": "code",
   "execution_count": 1,
   "source": [
    "import numpy as np\n",
    "import pandas as pd\n",
    "import matplotlib.pyplot as plt"
   ],
   "outputs": [],
   "metadata": {}
  },
  {
   "cell_type": "code",
   "execution_count": 2,
   "source": [
    "filename = '../resource/dataset.txt'"
   ],
   "outputs": [],
   "metadata": {}
  },
  {
   "cell_type": "code",
   "execution_count": 3,
   "source": [
    "data = open(filename)\n",
    "\n",
    "for line in data.readlines():\n",
    "    print(line)\n",
    "    print(f'line.strip(): {line.strip()}')\n",
    "    print(f'line.split(): {line.split()}')\n",
    "    print(f'line.strip().split(): {line.strip().split()}')\n",
    "\n",
    "    break"
   ],
   "outputs": [
    {
     "output_type": "stream",
     "name": "stdout",
     "text": [
      "-0.017612\t14.053064\t0\n",
      "\n",
      "line.strip(): -0.017612\t14.053064\t0\n",
      "line.split(): ['-0.017612', '14.053064', '0']\n",
      "line.strip().split(): ['-0.017612', '14.053064', '0']\n"
     ]
    }
   ],
   "metadata": {}
  },
  {
   "cell_type": "code",
   "execution_count": 6,
   "source": [
    "def loadDataset(filename):\n",
    "    data_list = []\n",
    "    label_list = []\n",
    "\n",
    "    data = open(filename)\n",
    "    for line in data.readlines():\n",
    "        line_arr = line.strip().split()\n",
    "        data_list.append([1.0, float(line_arr[0]), float(line_arr[1])])\n",
    "        label_list.append(int(line_arr[2]))\n",
    "    return data_list, label_list"
   ],
   "outputs": [],
   "metadata": {}
  },
  {
   "cell_type": "code",
   "execution_count": 7,
   "source": [
    "data_list, label_list = loadDataset(filename)\n",
    "print(data_list[0])\n",
    "print(label_list[0])"
   ],
   "outputs": [
    {
     "output_type": "stream",
     "name": "stdout",
     "text": [
      "[1.0, -0.017612, 14.053064]\n",
      "0\n"
     ]
    }
   ],
   "metadata": {}
  },
  {
   "cell_type": "code",
   "execution_count": 8,
   "source": [
    "# sigmoid func\n",
    "def sigmoid(x):\n",
    "    x_max = x.max()\n",
    "    return np.exp(x-x_max)/(np.exp(-x_max) + np.exp(x - x_max))\n",
    "    # return 1.0 / 1.0 + np.exp(-x)"
   ],
   "outputs": [],
   "metadata": {}
  },
  {
   "cell_type": "code",
   "execution_count": null,
   "source": [],
   "outputs": [],
   "metadata": {}
  },
  {
   "cell_type": "code",
   "execution_count": 9,
   "source": [
    "data_arr = np.array(data_list)\n",
    "label_arr = np.array(label_list)\n",
    "\n",
    "print('data_arr.shape: ', data_arr.shape)\n",
    "print('label_arr.shape: ', label_arr.shape)"
   ],
   "outputs": [
    {
     "output_type": "stream",
     "name": "stdout",
     "text": [
      "data_arr.shape:  (100, 3)\n",
      "label_arr.shape:  (100,)\n"
     ]
    }
   ],
   "metadata": {}
  },
  {
   "cell_type": "code",
   "execution_count": null,
   "source": [],
   "outputs": [],
   "metadata": {}
  },
  {
   "cell_type": "code",
   "execution_count": 13,
   "source": [
    "a = np.array([[1,2], [3,4]])\n",
    "b = np.array([[5,6], [7,8]])\n",
    "\n",
    "print(a * b)\n",
    "\n",
    "print(a.dot(b))\n",
    "\n",
    "# 19 = 1* 5 + 2*7\n",
    "# 22 = 1*6 + 2*8\n",
    "# 43 = 3*5 + 4*7 \n",
    "# 50 = 3*7 + 4*8\n",
    "\n",
    "print(np.dot(a,b))\n",
    "print(a @ b)"
   ],
   "outputs": [
    {
     "output_type": "stream",
     "name": "stdout",
     "text": [
      "[[ 5 12]\n",
      " [21 32]]\n",
      "[[19 22]\n",
      " [43 50]]\n",
      "[[19 22]\n",
      " [43 50]]\n",
      "[[19 22]\n",
      " [43 50]]\n"
     ]
    }
   ],
   "metadata": {}
  },
  {
   "cell_type": "code",
   "execution_count": 16,
   "source": [
    "a = np.array([[1], [2], [3]])\n",
    "b = np.array([4,5,6])\n",
    "\n",
    "print(a.shape)\n",
    "print(b.shape)\n",
    "\n",
    "c = a-b\n",
    "print(c)\n",
    "print(c.shape)\n",
    "\n",
    "d = np.array([[4,5,6], [4,5,6], [4,5,6]])\n",
    "\n",
    "e = np.array([[1,1,1],[2,2,2], [3,3,3]])\n",
    "\n",
    "print(d - e)"
   ],
   "outputs": [
    {
     "output_type": "stream",
     "name": "stdout",
     "text": [
      "(3, 1)\n",
      "(3,)\n",
      "[[-3 -4 -5]\n",
      " [-2 -3 -4]\n",
      " [-1 -2 -3]]\n",
      "(3, 3)\n",
      "[[3 4 5]\n",
      " [2 3 4]\n",
      " [1 2 3]]\n"
     ]
    }
   ],
   "metadata": {}
  },
  {
   "cell_type": "code",
   "execution_count": 17,
   "source": [
    "def gradAscent(data_list, label_list):\n",
    "    data_arr = np.array(data_list)\n",
    "    label_arr = np.array(label_list).reshape(-1, 1)\n",
    "    # label_array = np.array(label_list).transpose()\n",
    "    # label_array = np.array(label_list)\n",
    "    m, n = np.shape(data_arr)\n",
    "    alpha = 0.1\n",
    "    max_cycles = 500\n",
    "    weights = np.ones((n, 1))\n",
    "\n",
    "    for k in range(max_cycles):\n",
    "        predict = sigmoid(data_arr @ weights)\n",
    "        # print('predict: ', predict.shape)\n",
    "        error = label_arr - predict\n",
    "        weights = weights + alpha * (data_arr.transpose() @ error)\n",
    "    return weights # (3, 1)"
   ],
   "outputs": [],
   "metadata": {}
  },
  {
   "cell_type": "code",
   "execution_count": 18,
   "source": [
    "from numpy import *\n",
    "def plotBestFit(weights, dataMat, labelMat):\n",
    "    dataArr = np.array(dataMat)\n",
    "    n = np.shape(dataArr)[0]\n",
    "    xcord1 = []; ycord1 = []\n",
    "    xcord2 = []; ycord2 = []\n",
    "    for i in range(n):\n",
    "        if int(labelMat[i]) == 1:\n",
    "            xcord1.append(dataArr[i, 1])\n",
    "            ycord1.append(dataArr[i, 2])\n",
    "        else:\n",
    "            xcord2.append(dataArr[i, 1])\n",
    "            ycord2.append(dataArr[i, 2])\n",
    "    fig = plt.figure()\n",
    "    ax = fig.add_subplot(111)\n",
    "    ax.scatter(xcord1, ycord1, s = 30, c = 'red', marker = 's')\n",
    "    ax.scatter(xcord2, ycord2, s = 30, c = 'green')\n",
    "    x = np.arange(-3.0, 3.0, 0.1)\n",
    "    y = (-weights[0] - weights[1] * x) / weights[2]\n",
    "    ax.plot(x, y)\n",
    "    plt.xlabel('X1')\n",
    "    plt.ylabel('X2')\n",
    "    plt.show()"
   ],
   "outputs": [],
   "metadata": {}
  },
  {
   "cell_type": "code",
   "execution_count": null,
   "source": [
    "def main():\n",
    "    data_list, label_list = loadDataset(filename)\n",
    "    weights = gradAscent(data_list, label_list)\n",
    "    plotBestFit(weights, data_list, label_list)"
   ],
   "outputs": [],
   "metadata": {}
  }
 ],
 "metadata": {
  "orig_nbformat": 4,
  "language_info": {
   "name": "python",
   "version": "3.7.11",
   "mimetype": "text/x-python",
   "codemirror_mode": {
    "name": "ipython",
    "version": 3
   },
   "pygments_lexer": "ipython3",
   "nbconvert_exporter": "python",
   "file_extension": ".py"
  },
  "kernelspec": {
   "name": "python3",
   "display_name": "Python 3.7.11 64-bit ('tensorflow': conda)"
  },
  "interpreter": {
   "hash": "e149da774136999aaf00d4dc0a73ad671f5415143dd98642849dddd1d0bac9b6"
  }
 },
 "nbformat": 4,
 "nbformat_minor": 2
}