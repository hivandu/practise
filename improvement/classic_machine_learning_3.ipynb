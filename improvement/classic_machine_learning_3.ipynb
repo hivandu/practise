{
 "cells": [
  {
   "cell_type": "markdown",
   "source": [
    "# Classic machine learning three"
   ],
   "metadata": {}
  },
  {
   "cell_type": "markdown",
   "source": [
    "## Data preprocessing"
   ],
   "metadata": {}
  },
  {
   "cell_type": "code",
   "execution_count": 52,
   "source": [
    "from scipy.cluster.vq import whiten\n",
    "\n",
    "data = [5,1,3,3,2,3,3,8,1,2,2,3,5]\n",
    "\n",
    "scaled_data = whiten(data)\n",
    "print(scaled_data)"
   ],
   "outputs": [
    {
     "output_type": "stream",
     "name": "stdout",
     "text": [
      "[2.72733941 0.54546788 1.63640365 1.63640365 1.09093577 1.63640365\n",
      " 1.63640365 4.36374306 0.54546788 1.09093577 1.09093577 1.63640365\n",
      " 2.72733941]\n"
     ]
    }
   ],
   "metadata": {}
  },
  {
   "cell_type": "code",
   "execution_count": 55,
   "source": [
    "import matplotlib.pyplot as plt\n",
    "\n",
    "plt.plot(data, label = 'original')\n",
    "plt.plot(scaled_data, label = 'scaled')\n",
    "\n",
    "# show legend\n",
    "plt.legend()"
   ],
   "outputs": [
    {
     "output_type": "execute_result",
     "data": {
      "text/plain": [
       "<matplotlib.legend.Legend at 0x7fee766e84d0>"
      ]
     },
     "metadata": {},
     "execution_count": 55
    }
   ],
   "metadata": {}
  },
  {
   "cell_type": "markdown",
   "source": [
    "## Hierarchical clustering"
   ],
   "metadata": {}
  },
  {
   "cell_type": "code",
   "execution_count": 8,
   "source": [
    "import pandas as pd\n",
    "\n",
    "x_coordinate = [17, 20, 35, 14, 37, 33, 14, 30, 35, 17, 11, 21, 13, 10, 81, 84, 87, 83, \n",
    "                90, 97, 94, 88, 89, 93, 92, 82, 81, 92, 91, 22, 23, 25, 25, 27, 7, 17]\n",
    "y_coordinate = [4, 6, 0, 0, 4, 3, 1, 6, 5, 4, 6, 10, 8, 10, 97, 94, 99, 95, 95, 97, 99, \n",
    "                99, 94, 99, 90, 98, 100, 93, 98, 15, 10, 0, 10, 7, 17, 15]\n",
    "\n",
    "comic_con = pd.DataFrame({\n",
    "    'x_coordinate': x_coordinate,\n",
    "    'y_coordinate': y_coordinate,\n",
    "    'x_scaled': whiten(x_coordinate),\n",
    "    'y_scaled': whiten(y_coordinate)\n",
    "})\n",
    "\n",
    "comic_con.head()"
   ],
   "outputs": [
    {
     "output_type": "execute_result",
     "data": {
      "text/plain": [
       "   x_coordinate  y_coordinate  x_scaled  y_scaled\n",
       "0            17             4  0.504652  0.090010\n",
       "1            20             6  0.593708  0.135015\n",
       "2            35             0  1.038989  0.000000\n",
       "3            14             0  0.415596  0.000000\n",
       "4            37             4  1.098360  0.090010"
      ],
      "text/html": [
       "<div>\n",
       "<style scoped>\n",
       "    .dataframe tbody tr th:only-of-type {\n",
       "        vertical-align: middle;\n",
       "    }\n",
       "\n",
       "    .dataframe tbody tr th {\n",
       "        vertical-align: top;\n",
       "    }\n",
       "\n",
       "    .dataframe thead th {\n",
       "        text-align: right;\n",
       "    }\n",
       "</style>\n",
       "<table border=\"1\" class=\"dataframe\">\n",
       "  <thead>\n",
       "    <tr style=\"text-align: right;\">\n",
       "      <th></th>\n",
       "      <th>x_coordinate</th>\n",
       "      <th>y_coordinate</th>\n",
       "      <th>x_scaled</th>\n",
       "      <th>y_scaled</th>\n",
       "    </tr>\n",
       "  </thead>\n",
       "  <tbody>\n",
       "    <tr>\n",
       "      <th>0</th>\n",
       "      <td>17</td>\n",
       "      <td>4</td>\n",
       "      <td>0.504652</td>\n",
       "      <td>0.090010</td>\n",
       "    </tr>\n",
       "    <tr>\n",
       "      <th>1</th>\n",
       "      <td>20</td>\n",
       "      <td>6</td>\n",
       "      <td>0.593708</td>\n",
       "      <td>0.135015</td>\n",
       "    </tr>\n",
       "    <tr>\n",
       "      <th>2</th>\n",
       "      <td>35</td>\n",
       "      <td>0</td>\n",
       "      <td>1.038989</td>\n",
       "      <td>0.000000</td>\n",
       "    </tr>\n",
       "    <tr>\n",
       "      <th>3</th>\n",
       "      <td>14</td>\n",
       "      <td>0</td>\n",
       "      <td>0.415596</td>\n",
       "      <td>0.000000</td>\n",
       "    </tr>\n",
       "    <tr>\n",
       "      <th>4</th>\n",
       "      <td>37</td>\n",
       "      <td>4</td>\n",
       "      <td>1.098360</td>\n",
       "      <td>0.090010</td>\n",
       "    </tr>\n",
       "  </tbody>\n",
       "</table>\n",
       "</div>"
      ]
     },
     "metadata": {},
     "execution_count": 8
    }
   ],
   "metadata": {}
  },
  {
   "cell_type": "code",
   "execution_count": 9,
   "source": [
    "comic_con.describe()"
   ],
   "outputs": [
    {
     "output_type": "execute_result",
     "data": {
      "text/plain": [
       "       x_coordinate  y_coordinate   x_scaled   y_scaled\n",
       "count     36.000000     36.000000  36.000000  36.000000\n",
       "mean      49.361111     44.111111   1.465305   0.992609\n",
       "std       34.164437     45.069963   1.014185   1.014185\n",
       "min        7.000000      0.000000   0.207798   0.000000\n",
       "25%       19.250000      5.750000   0.571444   0.129389\n",
       "50%       34.000000     12.500000   1.009304   0.281281\n",
       "75%       87.250000     95.500000   2.590052   2.148985\n",
       "max       97.000000    100.000000   2.879484   2.250246"
      ],
      "text/html": [
       "<div>\n",
       "<style scoped>\n",
       "    .dataframe tbody tr th:only-of-type {\n",
       "        vertical-align: middle;\n",
       "    }\n",
       "\n",
       "    .dataframe tbody tr th {\n",
       "        vertical-align: top;\n",
       "    }\n",
       "\n",
       "    .dataframe thead th {\n",
       "        text-align: right;\n",
       "    }\n",
       "</style>\n",
       "<table border=\"1\" class=\"dataframe\">\n",
       "  <thead>\n",
       "    <tr style=\"text-align: right;\">\n",
       "      <th></th>\n",
       "      <th>x_coordinate</th>\n",
       "      <th>y_coordinate</th>\n",
       "      <th>x_scaled</th>\n",
       "      <th>y_scaled</th>\n",
       "    </tr>\n",
       "  </thead>\n",
       "  <tbody>\n",
       "    <tr>\n",
       "      <th>count</th>\n",
       "      <td>36.000000</td>\n",
       "      <td>36.000000</td>\n",
       "      <td>36.000000</td>\n",
       "      <td>36.000000</td>\n",
       "    </tr>\n",
       "    <tr>\n",
       "      <th>mean</th>\n",
       "      <td>49.361111</td>\n",
       "      <td>44.111111</td>\n",
       "      <td>1.465305</td>\n",
       "      <td>0.992609</td>\n",
       "    </tr>\n",
       "    <tr>\n",
       "      <th>std</th>\n",
       "      <td>34.164437</td>\n",
       "      <td>45.069963</td>\n",
       "      <td>1.014185</td>\n",
       "      <td>1.014185</td>\n",
       "    </tr>\n",
       "    <tr>\n",
       "      <th>min</th>\n",
       "      <td>7.000000</td>\n",
       "      <td>0.000000</td>\n",
       "      <td>0.207798</td>\n",
       "      <td>0.000000</td>\n",
       "    </tr>\n",
       "    <tr>\n",
       "      <th>25%</th>\n",
       "      <td>19.250000</td>\n",
       "      <td>5.750000</td>\n",
       "      <td>0.571444</td>\n",
       "      <td>0.129389</td>\n",
       "    </tr>\n",
       "    <tr>\n",
       "      <th>50%</th>\n",
       "      <td>34.000000</td>\n",
       "      <td>12.500000</td>\n",
       "      <td>1.009304</td>\n",
       "      <td>0.281281</td>\n",
       "    </tr>\n",
       "    <tr>\n",
       "      <th>75%</th>\n",
       "      <td>87.250000</td>\n",
       "      <td>95.500000</td>\n",
       "      <td>2.590052</td>\n",
       "      <td>2.148985</td>\n",
       "    </tr>\n",
       "    <tr>\n",
       "      <th>max</th>\n",
       "      <td>97.000000</td>\n",
       "      <td>100.000000</td>\n",
       "      <td>2.879484</td>\n",
       "      <td>2.250246</td>\n",
       "    </tr>\n",
       "  </tbody>\n",
       "</table>\n",
       "</div>"
      ]
     },
     "metadata": {},
     "execution_count": 9
    }
   ],
   "metadata": {}
  },
  {
   "cell_type": "markdown",
   "source": [
    "**method is the class spacing measurement**\n",
    "* ward\n",
    "* single\n",
    "* complete\n",
    "\n",
    "**metric is the sample spacing measurement**"
   ],
   "metadata": {}
  },
  {
   "cell_type": "code",
   "execution_count": 16,
   "source": [
    "from scipy.cluster.hierarchy import linkage, fcluster\n",
    "import seaborn as sns"
   ],
   "outputs": [],
   "metadata": {}
  },
  {
   "cell_type": "code",
   "execution_count": 17,
   "source": [
    "# cal\n",
    "distance_matrix = linkage(comic_con[['x_scaled', 'y_scaled']], method='ward', metric='euclidean')\n",
    "\n",
    "# tag\n",
    "comic_con['cluster_labels'] = fcluster(distance_matrix, 2, criterion = 'maxclust')\n",
    "\n",
    "fig = plt.figure(figsize = (8, 8))\n",
    "sns.scatterplot(x = 'x_scaled', y = 'y_scaled', hue='cluster_labels', data=comic_con)"
   ],
   "outputs": [
    {
     "output_type": "execute_result",
     "data": {
      "text/plain": [
       "<AxesSubplot:xlabel='x_scaled', ylabel='y_scaled'>"
      ]
     },
     "metadata": {},
     "execution_count": 17
    }
   ],
   "metadata": {}
  },
  {
   "cell_type": "code",
   "execution_count": 18,
   "source": [
    "# dendrogram\n",
    "from scipy.cluster.hierarchy import dendrogram\n",
    "\n",
    "dn = dendrogram(distance_matrix)"
   ],
   "outputs": [],
   "metadata": {}
  },
  {
   "cell_type": "code",
   "execution_count": 19,
   "source": [
    "# time\n",
    "import random, timeit\n",
    "\n",
    "points = 100\n",
    "df = pd.DataFrame({\n",
    "    'x': random.sample(range(0, points), points),\n",
    "    'y': random.sample(range(0, points), points)\n",
    "})\n",
    "\n",
    "%timeit linkage(df[['x', 'y']], method='ward', metric = 'euclidean')"
   ],
   "outputs": [
    {
     "output_type": "stream",
     "name": "stdout",
     "text": [
      "340 µs ± 7.93 µs per loop (mean ± std. dev. of 7 runs, 1000 loops each)\n"
     ]
    }
   ],
   "metadata": {}
  },
  {
   "cell_type": "markdown",
   "source": [
    "## FIFA 18"
   ],
   "metadata": {}
  },
  {
   "cell_type": "markdown",
   "source": [],
   "metadata": {}
  },
  {
   "cell_type": "code",
   "execution_count": 22,
   "source": [
    "fifa = pd.read_csv('../resource/fifa_18_dataset.csv')\n",
    "fifa.info()\n",
    "fifa.head()"
   ],
   "outputs": [
    {
     "output_type": "stream",
     "name": "stdout",
     "text": [
      "<class 'pandas.core.frame.DataFrame'>\n",
      "RangeIndex: 17994 entries, 0 to 17993\n",
      "Data columns (total 2 columns):\n",
      " #   Column          Non-Null Count  Dtype\n",
      "---  ------          --------------  -----\n",
      " 0   sliding_tackle  17994 non-null  int64\n",
      " 1   aggression      17994 non-null  int64\n",
      "dtypes: int64(2)\n",
      "memory usage: 281.3 KB\n"
     ]
    },
    {
     "output_type": "execute_result",
     "data": {
      "text/plain": [
       "   sliding_tackle  aggression\n",
       "0              23          63\n",
       "1              26          48\n",
       "2              33          56\n",
       "3              38          78\n",
       "4              11          29"
      ],
      "text/html": [
       "<div>\n",
       "<style scoped>\n",
       "    .dataframe tbody tr th:only-of-type {\n",
       "        vertical-align: middle;\n",
       "    }\n",
       "\n",
       "    .dataframe tbody tr th {\n",
       "        vertical-align: top;\n",
       "    }\n",
       "\n",
       "    .dataframe thead th {\n",
       "        text-align: right;\n",
       "    }\n",
       "</style>\n",
       "<table border=\"1\" class=\"dataframe\">\n",
       "  <thead>\n",
       "    <tr style=\"text-align: right;\">\n",
       "      <th></th>\n",
       "      <th>sliding_tackle</th>\n",
       "      <th>aggression</th>\n",
       "    </tr>\n",
       "  </thead>\n",
       "  <tbody>\n",
       "    <tr>\n",
       "      <th>0</th>\n",
       "      <td>23</td>\n",
       "      <td>63</td>\n",
       "    </tr>\n",
       "    <tr>\n",
       "      <th>1</th>\n",
       "      <td>26</td>\n",
       "      <td>48</td>\n",
       "    </tr>\n",
       "    <tr>\n",
       "      <th>2</th>\n",
       "      <td>33</td>\n",
       "      <td>56</td>\n",
       "    </tr>\n",
       "    <tr>\n",
       "      <th>3</th>\n",
       "      <td>38</td>\n",
       "      <td>78</td>\n",
       "    </tr>\n",
       "    <tr>\n",
       "      <th>4</th>\n",
       "      <td>11</td>\n",
       "      <td>29</td>\n",
       "    </tr>\n",
       "  </tbody>\n",
       "</table>\n",
       "</div>"
      ]
     },
     "metadata": {},
     "execution_count": 22
    }
   ],
   "metadata": {}
  },
  {
   "cell_type": "code",
   "execution_count": 23,
   "source": [
    "fifa['scaled_sliding_tackle'] = whiten(fifa['sliding_tackle'])\n",
    "fifa['scaled_aggression']  = whiten(fifa['aggression'])\n",
    "fifa.describe()"
   ],
   "outputs": [
    {
     "output_type": "execute_result",
     "data": {
      "text/plain": [
       "       sliding_tackle    aggression  scaled_sliding_tackle  scaled_aggression\n",
       "count    17994.000000  17994.000000           17994.000000       17994.000000\n",
       "mean        45.592086     55.828109               2.122855           3.198381\n",
       "std         21.477372     17.455601               1.000028           1.000028\n",
       "min          4.000000     11.000000               0.186248           0.630188\n",
       "25%         24.000000     43.000000               1.117486           2.463461\n",
       "50%         52.000000     59.000000               2.421220           3.380098\n",
       "75%         64.000000     69.000000               2.979963           3.952996\n",
       "max         91.000000     96.000000               4.237135           5.499820"
      ],
      "text/html": [
       "<div>\n",
       "<style scoped>\n",
       "    .dataframe tbody tr th:only-of-type {\n",
       "        vertical-align: middle;\n",
       "    }\n",
       "\n",
       "    .dataframe tbody tr th {\n",
       "        vertical-align: top;\n",
       "    }\n",
       "\n",
       "    .dataframe thead th {\n",
       "        text-align: right;\n",
       "    }\n",
       "</style>\n",
       "<table border=\"1\" class=\"dataframe\">\n",
       "  <thead>\n",
       "    <tr style=\"text-align: right;\">\n",
       "      <th></th>\n",
       "      <th>sliding_tackle</th>\n",
       "      <th>aggression</th>\n",
       "      <th>scaled_sliding_tackle</th>\n",
       "      <th>scaled_aggression</th>\n",
       "    </tr>\n",
       "  </thead>\n",
       "  <tbody>\n",
       "    <tr>\n",
       "      <th>count</th>\n",
       "      <td>17994.000000</td>\n",
       "      <td>17994.000000</td>\n",
       "      <td>17994.000000</td>\n",
       "      <td>17994.000000</td>\n",
       "    </tr>\n",
       "    <tr>\n",
       "      <th>mean</th>\n",
       "      <td>45.592086</td>\n",
       "      <td>55.828109</td>\n",
       "      <td>2.122855</td>\n",
       "      <td>3.198381</td>\n",
       "    </tr>\n",
       "    <tr>\n",
       "      <th>std</th>\n",
       "      <td>21.477372</td>\n",
       "      <td>17.455601</td>\n",
       "      <td>1.000028</td>\n",
       "      <td>1.000028</td>\n",
       "    </tr>\n",
       "    <tr>\n",
       "      <th>min</th>\n",
       "      <td>4.000000</td>\n",
       "      <td>11.000000</td>\n",
       "      <td>0.186248</td>\n",
       "      <td>0.630188</td>\n",
       "    </tr>\n",
       "    <tr>\n",
       "      <th>25%</th>\n",
       "      <td>24.000000</td>\n",
       "      <td>43.000000</td>\n",
       "      <td>1.117486</td>\n",
       "      <td>2.463461</td>\n",
       "    </tr>\n",
       "    <tr>\n",
       "      <th>50%</th>\n",
       "      <td>52.000000</td>\n",
       "      <td>59.000000</td>\n",
       "      <td>2.421220</td>\n",
       "      <td>3.380098</td>\n",
       "    </tr>\n",
       "    <tr>\n",
       "      <th>75%</th>\n",
       "      <td>64.000000</td>\n",
       "      <td>69.000000</td>\n",
       "      <td>2.979963</td>\n",
       "      <td>3.952996</td>\n",
       "    </tr>\n",
       "    <tr>\n",
       "      <th>max</th>\n",
       "      <td>91.000000</td>\n",
       "      <td>96.000000</td>\n",
       "      <td>4.237135</td>\n",
       "      <td>5.499820</td>\n",
       "    </tr>\n",
       "  </tbody>\n",
       "</table>\n",
       "</div>"
      ]
     },
     "metadata": {},
     "execution_count": 23
    }
   ],
   "metadata": {}
  },
  {
   "cell_type": "code",
   "execution_count": 24,
   "source": [
    "distance_matrix = linkage(fifa[['scaled_sliding_tackle', 'scaled_aggression']], 'ward')"
   ],
   "outputs": [],
   "metadata": {}
  },
  {
   "cell_type": "code",
   "execution_count": 25,
   "source": [
    "# dendrogram\n",
    "dn = dendrogram(distance_matrix)"
   ],
   "outputs": [],
   "metadata": {}
  },
  {
   "cell_type": "code",
   "execution_count": 26,
   "source": [
    "# tag\n",
    "fifa['cluster_labels'] = fcluster(distance_matrix, 3, criterion = 'maxclust')"
   ],
   "outputs": [],
   "metadata": {}
  },
  {
   "cell_type": "code",
   "execution_count": 27,
   "source": [
    "# classifiter\n",
    "print(fifa[['scaled_sliding_tackle', 'scaled_aggression', 'cluster_labels']].groupby('cluster_labels').mean())"
   ],
   "outputs": [
    {
     "output_type": "stream",
     "name": "stdout",
     "text": [
      "                scaled_sliding_tackle  scaled_aggression\n",
      "cluster_labels                                          \n",
      "1                            0.987373           1.849142\n",
      "2                            3.013487           4.063492\n",
      "3                            1.934455           3.210802\n"
     ]
    }
   ],
   "metadata": {}
  },
  {
   "cell_type": "code",
   "execution_count": 28,
   "source": [
    "fig = plt.figure(figsize = (8,8))\n",
    "sns.scatterplot(x = 'scaled_sliding_tackle', y = 'scaled_aggression', hue='cluster_labels', data = fifa)"
   ],
   "outputs": [
    {
     "output_type": "execute_result",
     "data": {
      "text/plain": [
       "<AxesSubplot:xlabel='scaled_sliding_tackle', ylabel='scaled_aggression'>"
      ]
     },
     "metadata": {},
     "execution_count": 28
    }
   ],
   "metadata": {}
  },
  {
   "cell_type": "markdown",
   "source": [
    "## KMeans"
   ],
   "metadata": {}
  },
  {
   "cell_type": "code",
   "execution_count": 30,
   "source": [
    "comic_con.head()"
   ],
   "outputs": [
    {
     "output_type": "execute_result",
     "data": {
      "text/plain": [
       "   x_coordinate  y_coordinate  x_scaled  y_scaled  cluster_labels\n",
       "0            17             4  0.504652  0.090010               2\n",
       "1            20             6  0.593708  0.135015               2\n",
       "2            35             0  1.038989  0.000000               2\n",
       "3            14             0  0.415596  0.000000               2\n",
       "4            37             4  1.098360  0.090010               2"
      ],
      "text/html": [
       "<div>\n",
       "<style scoped>\n",
       "    .dataframe tbody tr th:only-of-type {\n",
       "        vertical-align: middle;\n",
       "    }\n",
       "\n",
       "    .dataframe tbody tr th {\n",
       "        vertical-align: top;\n",
       "    }\n",
       "\n",
       "    .dataframe thead th {\n",
       "        text-align: right;\n",
       "    }\n",
       "</style>\n",
       "<table border=\"1\" class=\"dataframe\">\n",
       "  <thead>\n",
       "    <tr style=\"text-align: right;\">\n",
       "      <th></th>\n",
       "      <th>x_coordinate</th>\n",
       "      <th>y_coordinate</th>\n",
       "      <th>x_scaled</th>\n",
       "      <th>y_scaled</th>\n",
       "      <th>cluster_labels</th>\n",
       "    </tr>\n",
       "  </thead>\n",
       "  <tbody>\n",
       "    <tr>\n",
       "      <th>0</th>\n",
       "      <td>17</td>\n",
       "      <td>4</td>\n",
       "      <td>0.504652</td>\n",
       "      <td>0.090010</td>\n",
       "      <td>2</td>\n",
       "    </tr>\n",
       "    <tr>\n",
       "      <th>1</th>\n",
       "      <td>20</td>\n",
       "      <td>6</td>\n",
       "      <td>0.593708</td>\n",
       "      <td>0.135015</td>\n",
       "      <td>2</td>\n",
       "    </tr>\n",
       "    <tr>\n",
       "      <th>2</th>\n",
       "      <td>35</td>\n",
       "      <td>0</td>\n",
       "      <td>1.038989</td>\n",
       "      <td>0.000000</td>\n",
       "      <td>2</td>\n",
       "    </tr>\n",
       "    <tr>\n",
       "      <th>3</th>\n",
       "      <td>14</td>\n",
       "      <td>0</td>\n",
       "      <td>0.415596</td>\n",
       "      <td>0.000000</td>\n",
       "      <td>2</td>\n",
       "    </tr>\n",
       "    <tr>\n",
       "      <th>4</th>\n",
       "      <td>37</td>\n",
       "      <td>4</td>\n",
       "      <td>1.098360</td>\n",
       "      <td>0.090010</td>\n",
       "      <td>2</td>\n",
       "    </tr>\n",
       "  </tbody>\n",
       "</table>\n",
       "</div>"
      ]
     },
     "metadata": {},
     "execution_count": 30
    }
   ],
   "metadata": {}
  },
  {
   "cell_type": "code",
   "execution_count": 35,
   "source": [
    "from scipy.cluster.vq import kmeans, vq\n",
    "\n",
    "# \n",
    "cluster_centers, distortion = kmeans(comic_con[['x_scaled', 'y_scaled']], k_or_guess = 2, iter = 20, thresh = 1e-05)\n",
    "\n",
    "#\n",
    "comic_con['cluster_labels_kmeans'], distortion_list = vq(comic_con[['x_scaled', 'y_scaled']], cluster_centers)\n",
    "\n",
    "fig = plt.figure(figsize = (8, 8))\n",
    "sns.scatterplot(x = 'x_scaled', y = 'y_scaled', hue = 'cluster_labels_kmeans', data = comic_con)"
   ],
   "outputs": [
    {
     "output_type": "execute_result",
     "data": {
      "text/plain": [
       "<AxesSubplot:xlabel='x_scaled', ylabel='y_scaled'>"
      ]
     },
     "metadata": {},
     "execution_count": 35
    }
   ],
   "metadata": {}
  },
  {
   "cell_type": "code",
   "execution_count": 37,
   "source": [
    "distortion, distortion_list"
   ],
   "outputs": [
    {
     "output_type": "execute_result",
     "data": {
      "text/plain": [
       "(0.20563643185482766,\n",
       " array([0.14881634, 0.04933993, 0.42630446, 0.27082289, 0.46205804,\n",
       "        0.34940557, 0.25894343, 0.25072129, 0.4004947 , 0.14881634,\n",
       "        0.31422848, 0.0758576 , 0.25608587, 0.35136963, 0.21604753,\n",
       "        0.13828631, 0.06829044, 0.15978865, 0.06112957, 0.25953016,\n",
       "        0.17948955, 0.05755324, 0.05962236, 0.15163452, 0.18291303,\n",
       "        0.18920128, 0.22990027, 0.13552721, 0.08817158, 0.18688251,\n",
       "        0.08523523, 0.18217145, 0.12579944, 0.16127754, 0.49058941,\n",
       "        0.23060569]))"
      ]
     },
     "metadata": {},
     "execution_count": 37
    }
   ],
   "metadata": {}
  },
  {
   "cell_type": "code",
   "execution_count": 38,
   "source": [
    "distortion_list.mean()"
   ],
   "outputs": [
    {
     "output_type": "execute_result",
     "data": {
      "text/plain": [
       "0.20563643185482766"
      ]
     },
     "metadata": {},
     "execution_count": 38
    }
   ],
   "metadata": {}
  },
  {
   "cell_type": "code",
   "execution_count": 39,
   "source": [
    "%timeit linkage(fifa[['scaled_sliding_tackle', 'scaled_aggression']], 'ward')"
   ],
   "outputs": [
    {
     "output_type": "stream",
     "name": "stdout",
     "text": [
      "5.23 s ± 348 ms per loop (mean ± std. dev. of 7 runs, 1 loop each)\n"
     ]
    }
   ],
   "metadata": {}
  },
  {
   "cell_type": "code",
   "execution_count": 40,
   "source": [
    "%timeit kmeans(fifa[['scaled_sliding_tackle', 'scaled_aggression']], k_or_guess = 3)"
   ],
   "outputs": [
    {
     "output_type": "stream",
     "name": "stdout",
     "text": [
      "206 ms ± 12.7 ms per loop (mean ± std. dev. of 7 runs, 1 loop each)\n"
     ]
    }
   ],
   "metadata": {}
  },
  {
   "cell_type": "code",
   "execution_count": 41,
   "source": [
    "# elbow\n",
    "\n",
    "distortions = []\n",
    "num_clusters = range(1, 7)\n",
    "\n",
    "for i in num_clusters:\n",
    "    cluster_centers, distortion = kmeans(comic_con[['x_scaled', 'y_scaled']], i)\n",
    "    distortions.append(distortion)\n",
    "\n",
    "elbow_plot = pd.DataFrame({'num_clusters': num_clusters, 'distortions': distortions})\n",
    "\n",
    "fig = plt.figure(figsize = (8, 8))\n",
    "sns.lineplot(x = 'num_clusters', y = 'distortions', data = elbow_plot)"
   ],
   "outputs": [
    {
     "output_type": "execute_result",
     "data": {
      "text/plain": [
       "<AxesSubplot:xlabel='num_clusters', ylabel='distortions'>"
      ]
     },
     "metadata": {},
     "execution_count": 41
    }
   ],
   "metadata": {}
  },
  {
   "cell_type": "markdown",
   "source": [
    "## DBSCAN"
   ],
   "metadata": {}
  },
  {
   "cell_type": "code",
   "execution_count": 43,
   "source": [
    "from sklearn.datasets import make_blobs\n",
    "import seaborn as sns\n",
    "import matplotlib.pyplot as plt\n",
    "import numpy as np\n",
    "import warnings\n",
    "warnings.filterwarnings('ignore')\n",
    "\n",
    "centers = [[1, 0.5], [2, 2], [1, -1]]\n",
    "stds = [0.1, 0.4, 0.3]\n",
    "\n",
    "X, labels_true = make_blobs(n_samples = 1000, centers = centers, cluster_std = stds, random_state = 0)\n",
    "\n",
    "fig = plt.figure(figsize = (10, 10))\n",
    "sns.scatterplot(X[:, 0], X[:, 1], hue = ['cluster - {}'.format(x) for x in labels_true])"
   ],
   "outputs": [
    {
     "output_type": "execute_result",
     "data": {
      "text/plain": [
       "<AxesSubplot:>"
      ]
     },
     "metadata": {},
     "execution_count": 43
    }
   ],
   "metadata": {}
  },
  {
   "cell_type": "code",
   "execution_count": 44,
   "source": [
    "from sklearn.cluster import DBSCAN\n",
    "db = DBSCAN(eps = 0.5, min_samples = 10).fit(X)\n",
    "\n",
    "labels = db.labels_\n",
    "fig = plt.figure(figsize = (10, 10))\n",
    "sns.scatterplot(X[:, 0], X[:, 1], hue = ['cluster - {}'.format(x) for x in labels])"
   ],
   "outputs": [
    {
     "output_type": "execute_result",
     "data": {
      "text/plain": [
       "<AxesSubplot:>"
      ]
     },
     "metadata": {},
     "execution_count": 44
    }
   ],
   "metadata": {}
  },
  {
   "cell_type": "code",
   "execution_count": 45,
   "source": [
    "fig = plt.figure(figsize = (20, 10))\n",
    "fig.subplots_adjust(hspace = .5, wspace=.2)\n",
    "\n",
    "i = 1\n",
    "for x in range(10, 0, -1):\n",
    "    eps = 1/(11-x)\n",
    "    db = DBSCAN(eps = eps, min_samples = 10).fit(X)\n",
    "    # core_samples_mask = np.zeros_like(db.labels_, dtype = bool)\n",
    "    # core_samples_mask[db.core_sample_indices_] = True\n",
    "    labels = db.labels_\n",
    "\n",
    "    print(eps)\n",
    "\n",
    "    ax = fig.add_subplot(2, 5, i)\n",
    "    ax.text(1, 4, 'eps = {}'.format(round(eps, 3)), fontsize = 25, ha = 'center')\n",
    "    sns.scatterplot(X[:, 0], X[:, 1], hue = ['cluster - {}'.format(x) for x in labels])\n",
    "\n",
    "    i += 1"
   ],
   "outputs": [
    {
     "output_type": "stream",
     "name": "stdout",
     "text": [
      "1.0\n",
      "0.5\n",
      "0.3333333333333333\n",
      "0.25\n",
      "0.2\n",
      "0.16666666666666666\n",
      "0.14285714285714285\n",
      "0.125\n",
      "0.1111111111111111\n",
      "0.1\n"
     ]
    }
   ],
   "metadata": {}
  },
  {
   "cell_type": "markdown",
   "source": [
    "## KMeans and DBSCAN"
   ],
   "metadata": {}
  },
  {
   "cell_type": "code",
   "execution_count": 46,
   "source": [
    "from sklearn.cluster import KMeans\n",
    "\n",
    "# \n",
    "X, y = make_blobs(random_state= 170, n_samples=600, centers = 5)\n",
    "\n",
    "rng = np.random.RandomState(74)\n",
    "\n",
    "#\n",
    "transformation = rng.normal(size = (2, 2))\n",
    "X = np.dot(X, transformation)\n",
    "\n",
    "# plot\n",
    "fig = plt.figure(figsize = (10, 10))\n",
    "sns.scatterplot(X[:, 0], X[:, 1], hue = ['cluster - {}'.format(x) for x in y])\n",
    "\n",
    "\n",
    "\n"
   ],
   "outputs": [
    {
     "output_type": "execute_result",
     "data": {
      "text/plain": [
       "<AxesSubplot:>"
      ]
     },
     "metadata": {},
     "execution_count": 46
    }
   ],
   "metadata": {}
  },
  {
   "cell_type": "code",
   "execution_count": 47,
   "source": [
    "# kmeans\n",
    "\n",
    "kmeans = KMeans(n_clusters = 5)\n",
    "kmeans.fit(X)\n",
    "\n",
    "y_pred = kmeans.predict(X)"
   ],
   "outputs": [],
   "metadata": {}
  },
  {
   "cell_type": "code",
   "execution_count": 49,
   "source": [
    "fig = plt.figure(figsize = (10, 10))\n",
    "sns.scatterplot(X[:, 0], X[:, 1], hue = ['cluster - {}'.format(x) for x in y_pred], palette='Set2')\n",
    "sns.scatterplot(kmeans.cluster_centers_[:, 0],\n",
    "                kmeans.cluster_centers_[:, 1],\n",
    "                marker = '^',\n",
    "                hue = [0, 1, 2, 3, 4],\n",
    "                s = 500,\n",
    "                palette='Set2')"
   ],
   "outputs": [
    {
     "output_type": "execute_result",
     "data": {
      "text/plain": [
       "<AxesSubplot:>"
      ]
     },
     "metadata": {},
     "execution_count": 49
    }
   ],
   "metadata": {}
  },
  {
   "cell_type": "code",
   "execution_count": 50,
   "source": [
    "# DBSCAN\n",
    "from sklearn.preprocessing import StandardScaler\n",
    "ss = StandardScaler()\n",
    "X_scaled = ss.fit_transform(X)\n",
    "\n",
    "dbscan = DBSCAN(eps = 0.123, min_samples = 2)\n",
    "clusters = dbscan.fit_predict(X_scaled)\n",
    "\n",
    "fig = plt.figure(figsize = (10, 10))\n",
    "sns.scatterplot(X[:, 0], X[:, 1], hue = ['cluster - {}'.format(x) for x in clusters], palette = 'Set2')"
   ],
   "outputs": [
    {
     "output_type": "execute_result",
     "data": {
      "text/plain": [
       "<AxesSubplot:>"
      ]
     },
     "metadata": {},
     "execution_count": 50
    }
   ],
   "metadata": {}
  },
  {
   "cell_type": "code",
   "execution_count": 51,
   "source": [
    "from sklearn.metrics.cluster import adjusted_rand_score\n",
    "\n",
    "# k-means performance:\n",
    "print('ARI = ', round(adjusted_rand_score(y, y_pred), 2))\n",
    "\n",
    "# DBSCAN performance:\n",
    "print('ARI = ', round(adjusted_rand_score(y, clusters), 2))"
   ],
   "outputs": [
    {
     "output_type": "stream",
     "name": "stdout",
     "text": [
      "ARI =  0.76\n",
      "ARI =  0.99\n"
     ]
    }
   ],
   "metadata": {}
  },
  {
   "cell_type": "code",
   "execution_count": null,
   "source": [],
   "outputs": [],
   "metadata": {}
  }
 ],
 "metadata": {
  "orig_nbformat": 4,
  "language_info": {
   "name": "python",
   "version": "3.7.11",
   "mimetype": "text/x-python",
   "codemirror_mode": {
    "name": "ipython",
    "version": 3
   },
   "pygments_lexer": "ipython3",
   "nbconvert_exporter": "python",
   "file_extension": ".py"
  },
  "kernelspec": {
   "name": "python3",
   "display_name": "Python 3.7.11 64-bit ('tensorflow': conda)"
  },
  "interpreter": {
   "hash": "e149da774136999aaf00d4dc0a73ad671f5415143dd98642849dddd1d0bac9b6"
  }
 },
 "nbformat": 4,
 "nbformat_minor": 2
}