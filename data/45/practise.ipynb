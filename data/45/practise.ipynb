{
 "cells": [
  {
   "cell_type": "code",
   "execution_count": 181,
   "metadata": {},
   "outputs": [
    {
     "name": "stdout",
     "output_type": "stream",
     "text": [
      "字段名:Index(['共用码', '省份/直辖市', '城市', '额度'], dtype='object')\n"
     ]
    }
   ],
   "source": [
    "# 获取数据\n",
    "import pandas as pd\n",
    "\n",
    "data = pd.read_excel('~/Downloads/store_m.xls',sheet_name='过滤后需调整门店及金额')\n",
    "data = data.drop(['门店名称'],axis=1)\n",
    "print(f'字段名:{data.columns}')\n",
    "\n",
    "# 各省/直辖市/市数量\n",
    "count_province = pd.DataFrame(data.loc[:,'省份/直辖市'].value_counts())\n",
    "count_city = pd.DataFrame(data.loc[:,'城市'].value_counts())\n",
    "\n",
    "# data2 = pd.DataFrame({'省份/直辖市':[]})\n",
    "# data2['省份/直辖市'] = count_province.index\n",
    "# data2['数量'] = count_province[\"省份/直辖市\"].tolist()\n",
    "\n",
    "# data3 = pd.DataFrame({'城市':[]})\n",
    "# data3['城市'] = count_city.index\n",
    "# data3['数量'] = count_city['城市'].tolist()\n",
    "\n",
    "with pd.ExcelWriter(r'/Users/du/Downloads/Store_count.xlsx') as writer:\n",
    "    count_province.to_excel(writer, sheet_name='Province')\n",
    "    count_city.to_excel(writer, sheet_name='City')\n",
    "    \n",
    "writer.save()\n",
    "\n",
    "# print(f'各省/直辖市门店数量统计:\\n{count_province}\\n')\n",
    "# print(f'城市的门店数量统计:\\n{count_city}\\n')\n",
    "\n"
   ]
  },
  {
   "cell_type": "code",
   "execution_count": null,
   "metadata": {},
   "outputs": [],
   "source": []
  },
  {
   "cell_type": "code",
   "execution_count": null,
   "metadata": {},
   "outputs": [],
   "source": []
  }
 ],
 "metadata": {
  "kernelspec": {
   "display_name": "Python 3",
   "language": "python",
   "name": "python3"
  },
  "language_info": {
   "codemirror_mode": {
    "name": "ipython",
    "version": 3
   },
   "file_extension": ".py",
   "mimetype": "text/x-python",
   "name": "python",
   "nbconvert_exporter": "python",
   "pygments_lexer": "ipython3",
   "version": "3.8.3"
  }
 },
 "nbformat": 4,
 "nbformat_minor": 4
}
