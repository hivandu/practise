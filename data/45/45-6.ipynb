{
 "cells": [
  {
   "cell_type": "code",
   "execution_count": 13,
   "metadata": {},
   "outputs": [
    {
     "name": "stdout",
     "output_type": "stream",
     "text": [
      "[2 1 0 2 0 2 0 1 1 1 2 1 1 1 1 0 1 1 0 0 2 1 0 0 2 0 0 1 1 0 2 1 0 2 2 1 0\n",
      " 2 1 1 2 0 2 0 0 1 2 2 1 2]\n",
      "test_labels:\t[2 1 0 2 0 2 0 1 1 1 2 1 1 1 1 0 1 1 0 0 2 1 0 0 2 0 0 1 1 0 2 1 0 2 2 1 0\n",
      " 1 1 1 2 0 2 0 0 1 2 2 2 2]\n",
      " test_predict:\t[2 1 0 2 0 2 0 1 1 1 2 1 1 1 1 0 1 1 0 0 2 1 0 0 2 0 0 1 1 0 2 1 0 2 2 1 0\n",
      " 2 1 1 2 0 2 0 0 1 2 2 1 2]\n",
      "CART分类树准确率0.96\n"
     ]
    }
   ],
   "source": [
    "# 基于iris数据集使用CART算法来创建分类树\n",
    "\n",
    "from sklearn.model_selection import train_test_split\n",
    "from sklearn.metrics import accuracy_score\n",
    "from sklearn.tree import DecisionTreeClassifier\n",
    "from sklearn.datasets import load_iris\n",
    "\n",
    "# 准备数据集\n",
    "iris = load_iris()\n",
    "\n",
    "# 获取特征集和分类表示\n",
    "features = iris.data\n",
    "labels = iris.target\n",
    "\n",
    "# 随机抽取33%的数据作为测试集，其余为训练集\n",
    "train_features, test_features, train_labels, test_labels = train_test_split(features, labels, test_size=0.33, random_state=0)\n",
    "\n",
    "# 创建CART分类数\n",
    "clf = DecisionTreeClassifier(criterion='gini')\n",
    "\n",
    "# 拟合构造CART分类数\n",
    "clf = clf.fit(train_features, train_labels)\n",
    "\n",
    "# 用CART分类数做预测\n",
    "test_predict = clf.predict(test_features)\n",
    "print(test_predict)\n",
    "\n",
    "# 预测结果与测试集结果做比对\n",
    "score = accuracy_score(test_labels, test_predict)\n",
    "print(f'test_labels:\\t{test_labels}\\n test_predict:\\t{test_predict}')\n",
    "print(f'CART分类树准确率{score}')"
   ]
  },
  {
   "cell_type": "code",
   "execution_count": 22,
   "metadata": {
    "code_folding": []
   },
   "outputs": [
    {
     "name": "stdout",
     "output_type": "stream",
     "text": [
      "['CRIM' 'ZN' 'INDUS' 'CHAS' 'NOX' 'RM' 'AGE' 'DIS' 'RAD' 'TAX' 'PTRATIO'\n",
      " 'B' 'LSTAT']\n",
      "回归树二乘偏差均值: 16.10736526946108\n",
      "回归树绝对值偏差均值: 3.00059880239521\n"
     ]
    }
   ],
   "source": [
    "# CART回归树预测\n",
    "from sklearn.metrics import mean_squared_error\n",
    "from sklearn.model_selection import train_test_split\n",
    "from sklearn.datasets import load_boston\n",
    "from sklearn.metrics import r2_score,mean_absolute_error, mean_squared_error\n",
    "from sklearn.tree import DecisionTreeRegressor,export_graphviz\n",
    "import graphviz\n",
    "\n",
    "# 准备数据集\n",
    "boston = load_boston()\n",
    "\n",
    "# 探索数据\n",
    "print(boston.feature_names)\n",
    "\n",
    "# 获取特征集和房价\n",
    "features = boston.data\n",
    "prices = boston.target\n",
    "\n",
    "\n",
    "# 随机抽取33%的数据作为测试集，其余作为训练集\n",
    "train_features, test_features, train_price, test_price = train_test_split(features,prices,test_size=0.33)\n",
    "\n",
    "# 创建CART回归树\n",
    "dtr = DecisionTreeRegressor()\n",
    "\n",
    "# 拟合构造CART回归树\n",
    "dtr.fit(train_features, train_price)\n",
    "\n",
    "# 预测测试集中的房价\n",
    "predict_price = dtr.predict(test_features)\n",
    "\n",
    "# 测试集的结果评价\n",
    "print(f'回归树二乘偏差均值:',mean_squared_error(test_price, predict_price))\n",
    "print(f'回归树绝对值偏差均值:',mean_absolute_error(test_price, predict_price))\n",
    "\n",
    "dot_data = export_graphviz(dtr, out_file=None)\n",
    "graph = graphviz.Source(dot_data)\n",
    "\n",
    "# 生成回归树可视化\n",
    "graph.render('Boston')"
   ]
  },
  {
   "cell_type": "code",
   "execution_count": 21,
   "metadata": {},
   "outputs": [
    {
     "name": "stdout",
     "output_type": "stream",
     "text": [
      "dict_keys(['data', 'target', 'frame', 'feature_names', 'target_names', 'images', 'DESCR'])\n",
      "test_labels:\t[2 8 2 6 6 7 1 9 8 5 2 8 6 6 6 6 1 0 5 8 8 7 8 4 7 5 4 9 2 9 4 7 6 8 9 4 3\n",
      " 1 0 1 8 6 7 7 1 0 7 6 2 1 9 6 7 9 0 0 5 1 6 3 0 2 3 4 1 9 2 6 9 1 8 3 5 1\n",
      " 2 8 2 2 9 7 2 3 6 0 5 3 7 5 1 2 9 9 3 1 7 7 4 8 5 8 5 5 2 5 9 0 7 1 4 7 3\n",
      " 4 8 9 7 9 8 2 6 5 2 5 8 4 8 7 0 6 1 5 9 9 9 5 9 9 5 7 5 6 2 8 6 9 6 1 5 1\n",
      " 5 9 9 1 5 3 6 1 8 9 8 7 6 7 6 5 6 0 8 8 9 8 6 1 0 4 1 6 3 8 6 7 4 5 6 3 0\n",
      " 3 3 3 0 7 7 5 7 8 0 7 8 9 6 4 5 0 1 4 6 4 3 3 0 9 5 9 2 1 4 2 1 6 8 9 2 4\n",
      " 9 3 7 6 2 3 3 1 6 9 3 6 3 2 2 0 7 6 1 1 9 7 2 7 8 5 5 7 5 2 3 7 2 7 5 5 7\n",
      " 0 9 1 6 5 9 7 4 3 8 0 3 6 4 6 3 2 6 8 8 8 4 6 7 5 2 4 5 3 2 4 6 9 4 5 4 3\n",
      " 4 6 2 9 0 1 7 2 0 9 6 0 4 2 0 7 9 8 5 4 8 2 8 4 3 7 2 6 9 1 5 1 0 8 2 1 9\n",
      " 5 6 8 2 7 2 1 5 1 6 4 5 0 9 4 1 1 7 0 8 9 0 5 4 3 8 8 6 5 3 4 4 4 8 8 7 0\n",
      " 9 6 3 5 2 3 0 8 3 3 1 3 3 0 0 4 6 0 7 7 6 2 0 4 4 2 3 7 8 9 8 6 8 5 6 2 2\n",
      " 3 1 7 7 8 0 3 3 2 1 5 5 9 1 3 7 0 0 7 0 4 5 9 3 3 4 3 1 8 9 8 3 6 2 1 6 2\n",
      " 1 7 5 5 1 9 2 8 9 7 2 1 4 9 3 2 6 2 5 9 6 5 8 2 0 7 8 0 5 8 4 1 8 6 4 3 4\n",
      " 2 0 4 5 8 3 9 1 8 3 4 5 0 8 5 6 3 0 6 9 1 5 2 2 1 9 8 4 3 3 0 7 8 8 1 1 3\n",
      " 5 5 8 4 9 7 8 4 4 9 0 1 6 9 3 6 1 7 0 6 2 9 9 3 6 1 5 1 8 9 8 4 1 7 2 8 0\n",
      " 6 2 1 0 6 1 6 5 2 8 6 2 1 4 6 8 2 2 7 5 9 1 9 5 0 2 5 5 6 8 9 5 7 0 5 2 1\n",
      " 1 2]\n",
      " test_predict:\t[3 8 2 6 6 7 1 9 8 5 2 8 6 6 6 6 4 0 5 8 8 7 8 4 7 5 4 9 2 9 4 7 6 3 9 8 3\n",
      " 1 0 9 8 6 7 7 1 0 7 4 2 1 9 6 7 9 3 0 9 1 6 3 0 4 3 4 1 9 2 6 9 1 8 4 5 1\n",
      " 2 8 2 2 9 7 2 3 4 0 9 3 6 5 1 2 5 9 3 1 2 1 4 8 5 4 5 7 7 5 9 0 7 1 4 1 3\n",
      " 4 8 9 7 9 8 0 4 5 2 5 6 4 1 7 0 6 1 5 6 3 9 5 9 9 1 7 5 6 2 8 6 5 6 1 5 1\n",
      " 5 9 9 1 6 3 6 1 8 9 8 7 6 7 6 5 6 0 8 8 9 7 8 1 0 4 2 6 3 8 6 7 4 1 6 3 3\n",
      " 7 3 3 0 7 7 5 7 8 0 7 8 9 6 4 5 0 1 4 6 4 3 3 0 9 5 2 5 9 4 2 1 6 8 9 2 4\n",
      " 9 3 7 6 2 3 3 1 6 9 3 6 3 5 2 0 7 6 1 1 3 7 3 7 8 5 5 7 5 1 3 7 2 7 5 5 8\n",
      " 0 9 1 6 5 9 7 4 3 8 2 3 6 4 6 3 1 6 8 8 8 4 6 6 5 2 4 8 3 2 4 6 9 0 5 4 3\n",
      " 4 6 2 9 0 1 7 2 0 9 6 5 4 2 0 7 9 8 5 7 8 2 8 4 3 7 2 6 7 1 5 9 0 8 2 4 9\n",
      " 5 6 8 2 7 2 1 5 1 6 4 7 0 9 4 1 2 7 0 8 9 0 5 4 3 8 8 6 5 3 4 4 4 4 8 7 0\n",
      " 9 6 3 5 2 3 0 8 1 3 1 3 3 0 0 6 6 0 7 7 6 8 0 4 4 2 3 7 8 9 8 6 8 5 6 2 2\n",
      " 3 1 7 7 8 0 3 3 2 1 5 5 9 1 9 7 0 0 7 0 4 5 8 3 3 4 1 1 8 9 5 9 6 2 1 6 2\n",
      " 1 7 5 5 8 9 2 8 9 4 2 1 4 9 3 1 6 2 5 9 4 5 8 4 0 7 8 0 4 8 4 1 8 6 4 3 4\n",
      " 8 0 4 5 8 3 7 1 8 3 4 5 0 8 5 6 3 0 6 9 1 5 1 2 1 9 9 4 2 8 0 7 8 8 1 1 3\n",
      " 5 0 8 4 9 7 8 4 4 9 0 1 6 9 3 6 1 7 0 6 2 9 5 9 6 1 5 1 8 9 1 4 1 7 2 8 0\n",
      " 6 2 1 0 6 1 6 5 2 8 6 2 1 4 6 8 2 6 7 5 3 1 9 5 0 2 5 5 6 9 9 5 7 0 8 2 1\n",
      " 1 2]\n",
      "CART分类树准确率0.8585858585858586\n"
     ]
    }
   ],
   "source": [
    "# 作业\n",
    "\n",
    "from sklearn.metrics import mean_squared_error\n",
    "from sklearn.model_selection import train_test_split\n",
    "from sklearn.datasets import load_digits\n",
    "from sklearn.metrics import r2_score,mean_absolute_error, mean_squared_error\n",
    "from sklearn.tree import DecisionTreeRegressor,export_graphviz\n",
    "import graphviz\n",
    "\n",
    "# 准备数据集\n",
    "digits = load_digits()\n",
    "\n",
    "# 探索数据\n",
    "print(digits.keys())\n",
    "\n",
    "#获取特征集\n",
    "features = digits.data\n",
    "labels = digits.target\n",
    "\n",
    "# 随机抽取33%的数据作为测试集，其余作为训练集\n",
    "train_features, test_features, train_labels, test_labels = train_test_split(features,labels,test_size=0.33,random_state=0)\n",
    "\n",
    "# 创建CART分类树\n",
    "clf = DecisionTreeClassifier(criterion='gini')\n",
    "\n",
    "# 拟合构造CART分类树\n",
    "clf = clf.fit(train_features, train_labels)\n",
    "\n",
    "# 用CART分类树做预测\n",
    "test_predict = clf.predict(test_features)\n",
    "\n",
    "# 预测结果于测试集结果做对比\n",
    "score = accuracy_score(test_labels, test_predict)\n",
    "print(f'test_labels:\\t{test_labels}\\n test_predict:\\t{test_predict}')\n",
    "print(f'CART分类树准确率{score}')"
   ]
  },
  {
   "cell_type": "code",
   "execution_count": null,
   "metadata": {},
   "outputs": [],
   "source": []
  }
 ],
 "metadata": {
  "kernelspec": {
   "display_name": "Python 3",
   "language": "python",
   "name": "python3"
  },
  "language_info": {
   "codemirror_mode": {
    "name": "ipython",
    "version": 3
   },
   "file_extension": ".py",
   "mimetype": "text/x-python",
   "name": "python",
   "nbconvert_exporter": "python",
   "pygments_lexer": "ipython3",
   "version": "3.8.3"
  }
 },
 "nbformat": 4,
 "nbformat_minor": 4
}
