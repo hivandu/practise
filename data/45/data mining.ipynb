{
 "cells": [
  {
   "cell_type": "code",
   "execution_count": 2,
   "metadata": {
    "code_folding": [
     0
    ]
   },
   "outputs": [
    {
     "name": "stdout",
     "output_type": "stream",
     "text": [
      "最优分数:0.9666666666666668\n",
      "最优参数:{'n_estimators': 5}\n"
     ]
    }
   ],
   "source": [
    "# GridSearchCV\n",
    "\n",
    "# 使用RandomForest对IRIS数据集进行分类\n",
    "# 利用GridSearchCV寻找最优参数\n",
    "from sklearn.ensemble import RandomForestClassifier\n",
    "from sklearn.model_selection import GridSearchCV\n",
    "from sklearn.datasets import load_iris\n",
    "\n",
    "rf = RandomForestClassifier()\n",
    "parameters = {'n_estimators': range(1,11)}\n",
    "iris = load_iris()\n",
    "\n",
    "# 使用GridSearchCV进行参数调优\n",
    "clf = GridSearchCV(estimator=rf, param_grid=parameters)\n",
    "\n",
    "# 对iris数据集进行分类\n",
    "clf.fit(iris.data, iris.target)\n",
    "print(f'最优分数:{clf.best_score_}')\n",
    "print(f'最优参数:{clf.best_params_}')"
   ]
  },
  {
   "cell_type": "code",
   "execution_count": 16,
   "metadata": {
    "code_folding": [
     0
    ]
   },
   "outputs": [
    {
     "name": "stdout",
     "output_type": "stream",
     "text": [
      "最优分数:0.96\n",
      "最优参数:{'random__n_estimators': 3}\n"
     ]
    }
   ],
   "source": [
    "# Pipeline 管道机制\n",
    "# pipeline = Pipeline([\n",
    "#     ('scaler',StandardScaler()),\n",
    "#     ('pca', PCA()),\n",
    "#     ('randomforestclassifier', RandomForestClassifier())\n",
    "# ])\n",
    "\n",
    "# 管道机制实例\n",
    "'''\n",
    "用随机森林对 IRIS 数据集做一下分类\n",
    "'''\n",
    "from sklearn.model_selection import GridSearchCV\n",
    "from sklearn.ensemble import RandomForestClassifier\n",
    "from sklearn.pipeline import Pipeline\n",
    "from sklearn.datasets import load_iris\n",
    "from sklearn.preprocessing import StandardScaler\n",
    "\n",
    "rf = RandomForestClassifier()\n",
    "parameters = {'randomforestclassifier__n_estimators':range(1,11)}\n",
    "\n",
    "iris = load_iris()\n",
    "\n",
    "# 先用StandardScaler方法对数据规范化，然后再用随机森林分类\n",
    "ple=Pipeline([\n",
    "    ('scaler', StandardScaler()),\n",
    "    ('randomforestclassifier', rf)\n",
    "])\n",
    "\n",
    "# 使用GridSearchCV进行参数调优\n",
    "clf = GridSearchCV(estimator=ple, param_grid=parameters)\n",
    "\n",
    "# 对iris数据集进行分类\n",
    "clf.fit(iris.data, iris.target)\n",
    "print(f'最优分数:{clf.best_score_}')\n",
    "print(f'最优参数:{clf.best_params_}')\n",
    "\n"
   ]
  },
  {
   "cell_type": "code",
   "execution_count": 48,
   "metadata": {},
   "outputs": [
    {
     "name": "stdout",
     "output_type": "stream",
     "text": [
      "(30000, 25)\n",
      "                 ID       LIMIT_BAL           SEX     EDUCATION      MARRIAGE  \\\n",
      "count  30000.000000    30000.000000  30000.000000  30000.000000  30000.000000   \n",
      "mean   15000.500000   167484.322667      1.603733      1.853133      1.551867   \n",
      "std     8660.398374   129747.661567      0.489129      0.790349      0.521970   \n",
      "min        1.000000    10000.000000      1.000000      0.000000      0.000000   \n",
      "25%     7500.750000    50000.000000      1.000000      1.000000      1.000000   \n",
      "50%    15000.500000   140000.000000      2.000000      2.000000      2.000000   \n",
      "75%    22500.250000   240000.000000      2.000000      2.000000      2.000000   \n",
      "max    30000.000000  1000000.000000      2.000000      6.000000      3.000000   \n",
      "\n",
      "                AGE         PAY_0         PAY_2         PAY_3         PAY_4  \\\n",
      "count  30000.000000  30000.000000  30000.000000  30000.000000  30000.000000   \n",
      "mean      35.485500     -0.016700     -0.133767     -0.166200     -0.220667   \n",
      "std        9.217904      1.123802      1.197186      1.196868      1.169139   \n",
      "min       21.000000     -2.000000     -2.000000     -2.000000     -2.000000   \n",
      "25%       28.000000     -1.000000     -1.000000     -1.000000     -1.000000   \n",
      "50%       34.000000      0.000000      0.000000      0.000000      0.000000   \n",
      "75%       41.000000      0.000000      0.000000      0.000000      0.000000   \n",
      "max       79.000000      8.000000      8.000000      8.000000      8.000000   \n",
      "\n",
      "       ...      BILL_AMT4      BILL_AMT5      BILL_AMT6       PAY_AMT1  \\\n",
      "count  ...   30000.000000   30000.000000   30000.000000   30000.000000   \n",
      "mean   ...   43262.948967   40311.400967   38871.760400    5663.580500   \n",
      "std    ...   64332.856134   60797.155770   59554.107537   16563.280354   \n",
      "min    ... -170000.000000  -81334.000000 -339603.000000       0.000000   \n",
      "25%    ...    2326.750000    1763.000000    1256.000000    1000.000000   \n",
      "50%    ...   19052.000000   18104.500000   17071.000000    2100.000000   \n",
      "75%    ...   54506.000000   50190.500000   49198.250000    5006.000000   \n",
      "max    ...  891586.000000  927171.000000  961664.000000  873552.000000   \n",
      "\n",
      "           PAY_AMT2      PAY_AMT3       PAY_AMT4       PAY_AMT5  \\\n",
      "count  3.000000e+04   30000.00000   30000.000000   30000.000000   \n",
      "mean   5.921163e+03    5225.68150    4826.076867    4799.387633   \n",
      "std    2.304087e+04   17606.96147   15666.159744   15278.305679   \n",
      "min    0.000000e+00       0.00000       0.000000       0.000000   \n",
      "25%    8.330000e+02     390.00000     296.000000     252.500000   \n",
      "50%    2.009000e+03    1800.00000    1500.000000    1500.000000   \n",
      "75%    5.000000e+03    4505.00000    4013.250000    4031.500000   \n",
      "max    1.684259e+06  896040.00000  621000.000000  426529.000000   \n",
      "\n",
      "            PAY_AMT6  default.payment.next.month  \n",
      "count   30000.000000                30000.000000  \n",
      "mean     5215.502567                    0.221200  \n",
      "std     17777.465775                    0.415062  \n",
      "min         0.000000                    0.000000  \n",
      "25%       117.750000                    0.000000  \n",
      "50%      1500.000000                    0.000000  \n",
      "75%      4000.000000                    0.000000  \n",
      "max    528666.000000                    1.000000  \n",
      "\n",
      "[8 rows x 25 columns]\n",
      "0    23364\n",
      "1     6636\n",
      "Name: default.payment.next.month, dtype: int64\n"
     ]
    },
    {
     "data": {
      "image/png": "[encoded data removed]",
      "text/plain": [
       "<Figure size 432x432 with 1 Axes>"
      ]
     },
     "metadata": {
      "needs_background": "light"
     },
     "output_type": "display_data"
    },
    {
     "name": "stdout",
     "output_type": "stream",
     "text": [
      "\n",
      " ****************************** \n",
      "分类器信息:\n",
      "\n",
      "GS最优参数:{'svc__C': 1, 'svc__gamma': 0.01}\n",
      "GS最优分数:0.8186190476190477\n",
      "准确率:0.8172222222222222\n",
      "\n",
      " ****************************** \n",
      "分类器信息:\n",
      "\n",
      "GS最优参数:{'decisiontreeclassifier__max_depth': 6}\n",
      "GS最优分数:0.8208095238095238\n",
      "准确率:0.8113333333333334\n",
      "\n",
      " ****************************** \n",
      "分类器信息:\n",
      "\n",
      "GS最优参数:{'randomforestclassifier__n_estimators': 6}\n",
      "GS最优分数:0.8004285714285713\n",
      "准确率:0.7994444444444444\n",
      "\n",
      " ****************************** \n",
      "分类器信息:\n",
      "\n",
      "GS最优参数:{'kneighborsclassifier__n_neighbors': 8}\n",
      "GS最优分数:0.804\n",
      "准确率:0.8035555555555556\n"
     ]
    }
   ],
   "source": [
    "# 信用卡违约率进行分析\n",
    "import pandas as pd\n",
    "from sklearn.model_selection import learning_curve, train_test_split, GridSearchCV\n",
    "from sklearn.preprocessing import StandardScaler\n",
    "from sklearn.pipeline import Pipeline\n",
    "from sklearn.metrics import accuracy_score\n",
    "from sklearn.svm import SVC\n",
    "from sklearn.tree import DecisionTreeClassifier\n",
    "from sklearn.ensemble import RandomForestClassifier\n",
    "from sklearn.neighbors import KNeighborsClassifier\n",
    "from matplotlib import pyplot as plt\n",
    "import seaborn as sns\n",
    "\n",
    "# 数据加载\n",
    "data = data = pd.read_csv('data/UCI_Credit_Card.csv')\n",
    "\n",
    "# 数据探索\n",
    "print(data.shape) # 查看数据集的大小\n",
    "print(data.describe()) # 数据集概览\n",
    "\n",
    "# 查看下一个月违约率的情况\n",
    "next_month = data['default.payment.next.month'].value_counts()\n",
    "print(next_month)\n",
    "\n",
    "df=pd.DataFrame({'default.payment.next.month': next_month.index, 'values':next_month.values})\n",
    "\n",
    "plt.rcParams['font.sans-serif'] = ['Arial Unicode MS'] # 正常显示中文\n",
    "plt.rcParams['axes.unicode_minus']=False # 用来正常显示负号\n",
    "plt.figure(figsize=(6,6))\n",
    "plt.title('信用卡违约率\\n (违约:1, 守约:0)')\n",
    "sns.set_color_codes('pastel')\n",
    "sns.barplot(x = \"default.payment.next.month\", y=\"values\", data = df)\n",
    "\n",
    "locs, labels = plt.xticks()\n",
    "plt.show()\n",
    "\n",
    "# 特征选择，去掉ID字段，最后一个结果字段即可\n",
    "data.drop(['ID'], inplace=True, axis=1) # ID这个字段没有用\n",
    "target = data['default.payment.next.month'].values\n",
    "columns = data.columns.tolist()\n",
    "columns.remove('default.payment.next.month')\n",
    "features = data[columns].values\n",
    "\n",
    "# 30%作为测试集，其余作为训练集\n",
    "train_x, test_x, train_y, test_y = train_test_split(features, target, test_size = 0.30, stratify = target, random_state=1)\n",
    "\n",
    "# 构造各种分类器\n",
    "classifiers = [\n",
    "    SVC(random_state = 1, kernel = 'rbf'),\n",
    "    DecisionTreeClassifier(random_state = 1, criterion='gini'),\n",
    "    RandomForestClassifier(random_state = 1, criterion='gini'),\n",
    "    KNeighborsClassifier(metric = 'minkowski')\n",
    "]\n",
    "\n",
    "# 分类器名称\n",
    "classifier_names = [\n",
    "    'svc',\n",
    "    'decisiontreeclassifier',\n",
    "    'randomforestclassifier',\n",
    "    'kneighborsclassifier'\n",
    "]\n",
    "\n",
    "# 分类器参数\n",
    "classifier_param_grid = [\n",
    "    {'svc__C':[1], 'svc__gamma':[0.01]},\n",
    "    {'decisiontreeclassifier__max_depth':[6,9,11]},\n",
    "    {'randomforestclassifier__n_estimators':[3,5,6]},\n",
    "    {'kneighborsclassifier__n_neighbors':[4,6,8]}\n",
    "]\n",
    "\n",
    "# 对具体的分类器进行GridSearchCV参数调优\n",
    "def GridSearchCV_work(pipepline, train_x, train_y, test_x, test_y, param_grid, score='accuracy'):\n",
    "    print('\\n','*'*30,'\\n分类器信息:\\n')\n",
    "    response = {}\n",
    "    gridsearch = GridSearchCV(estimator = pipeline, param_grid=param_grid, scoring=score)\n",
    "    # 寻找最优的参数 和最优的准确率分数\n",
    "    search = gridsearch.fit(train_x, train_y)\n",
    "    print(f'GS最优参数:{search.best_params_}')\n",
    "    print(f'GS最优分数:{search.best_score_}')\n",
    "    predict_y = gridsearch.predict(test_x)\n",
    "    print(f'准确率:{accuracy_score(test_y, predict_y)}')\n",
    "    response['predict_y'] = predict_y\n",
    "    response['accuracy_score'] = accuracy_score(test_y, predict_y)\n",
    "    return response\n",
    "\n",
    "for model, model_name, model_param_grid in zip(classifiers, classifier_names, classifier_param_grid):\n",
    "    pipeline = Pipeline([\n",
    "        ('scaler', StandardScaler()),\n",
    "        (model_name, model)\n",
    "    ])\n",
    "    result = GridSearchCV_work(pipeline, train_x, train_y, test_x, test_y, model_param_grid, score='accuracy')"
   ]
  },
  {
   "cell_type": "code",
   "execution_count": null,
   "metadata": {},
   "outputs": [],
   "source": []
  },
  {
   "cell_type": "code",
   "execution_count": null,
   "metadata": {},
   "outputs": [],
   "source": []
  },
  {
   "cell_type": "code",
   "execution_count": null,
   "metadata": {},
   "outputs": [],
   "source": []
  },
  {
   "cell_type": "code",
   "execution_count": null,
   "metadata": {},
   "outputs": [],
   "source": []
  },
  {
   "cell_type": "code",
   "execution_count": null,
   "metadata": {},
   "outputs": [],
   "source": []
  },
  {
   "cell_type": "code",
   "execution_count": null,
   "metadata": {},
   "outputs": [],
   "source": []
  },
  {
   "cell_type": "code",
   "execution_count": null,
   "metadata": {},
   "outputs": [],
   "source": []
  }
 ],
 "metadata": {
  "kernelspec": {
   "display_name": "Python 3",
   "language": "python",
   "name": "python3"
  },
  "language_info": {
   "codemirror_mode": {
    "name": "ipython",
    "version": 3
   },
   "file_extension": ".py",
   "mimetype": "text/x-python",
   "name": "python",
   "nbconvert_exporter": "python",
   "pygments_lexer": "ipython3",
   "version": "3.8.3"
  }
 },
 "nbformat": 4,
 "nbformat_minor": 4
}
