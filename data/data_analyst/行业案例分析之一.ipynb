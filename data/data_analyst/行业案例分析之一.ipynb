{
 "cells": [
  {
   "cell_type": "markdown",
   "metadata": {},
   "source": [
    "## 爬虫代码\n",
    "- **从2020-1-13至Yesterday疫情人数**"
   ]
  },
  {
   "cell_type": "code",
   "execution_count": 1,
   "metadata": {},
   "outputs": [],
   "source": [
    "import requests\n",
    "import json\n",
    "import pandas as pd\n",
    "import numpy as np\n",
    "import matplotlib.pyplot as plt\n",
    "import time\n",
    "import re \n",
    "from bs4 import BeautifulSoup  \n",
    "from datetime import datetime\n",
    "\n",
    "#  国内疫情数据\n",
    "url = 'https://view.inews.qq.com/g2/getOnsInfo?name=disease_other'\n",
    "headers = {\"User-Agent\":\"Mozilla/5.0 (Windows NT 10.0; WOW64) AppleWebKit/537.36 (KHTML, like Gecko) Chrome/70.0.3538.25 Safari/537.36 Core/1.70.3765.400 QQBrowser/10.6.4148.400\"}\n",
    "response = requests.get(url,headers=headers)\n",
    "\n",
    "a = response.text  # 为字符串json数据格式，需要将其转化成json格式\n",
    "data = json.loads(a) # 转化成json格式\n",
    "data = json.loads(data[\"data\"])\n",
    "data = data[\"chinaDayList\"] # 每天的data数据取出来\n",
    "\n",
    "df = pd.DataFrame(data)\n",
    "df.drop(columns=['nowConfirm', 'nowSevere','importedCase', 'deadRate', 'healRate', 'noInfect'],inplace=True)\n",
    "df[\"date\"] = \"2020-\"+df[\"date\"].map(lambda x:x.replace(\".\",\"-\"))\n",
    "df.to_csv(r'./file/math_model.csv',mode='a',encoding='gbk')"
   ]
  },
  {
   "cell_type": "markdown",
   "metadata": {},
   "source": [
    "## 数据指标SQL"
   ]
  },
  {
   "cell_type": "code",
   "execution_count": 2,
   "metadata": {},
   "outputs": [
    {
     "ename": "IndentationError",
     "evalue": "unexpected indent (<ipython-input-2-d87d0d499682>, line 2)",
     "output_type": "error",
     "traceback": [
      "\u001b[0;36m  File \u001b[0;32m\"<ipython-input-2-d87d0d499682>\"\u001b[0;36m, line \u001b[0;32m2\u001b[0m\n\u001b[0;31m    DATE_FORMAT(付款时间,'%Y-%m-%d') AS 时间,\u001b[0m\n\u001b[0m    ^\u001b[0m\n\u001b[0;31mIndentationError\u001b[0m\u001b[0;31m:\u001b[0m unexpected indent\n"
     ]
    }
   ],
   "source": [
    "SELECT \n",
    "    DATE_FORMAT(付款时间,'%Y-%m-%d') AS 时间,\n",
    "    COUNT(订单ID) AS 订单量,\n",
    "    count(distinct 用户ID) as 用户量,\n",
    "    sum(if(是否是首单='是',1,0)) as 新增用户量,\n",
    "    round(sum(实收金额),2) AS 实收,\n",
    "    sum(优惠金额) as 优惠,\n",
    "    sum(优惠金额+实收金额) as 应收,\n",
    "    concat(round(sum(优惠金额)/sum(优惠金额+实收金额),2)*100,'%') as 优惠金额占比,\n",
    "    round(sum(实收金额)/COUNT(订单ID)) as 单均收益\n",
    "FROM kkb.order\n",
    "where DATE_FORMAT(付款时间,'%Y-%m-%d') >= '2020-02-01' and DATE_FORMAT(付款时间,'%Y-%m-%d') <= '2020-02-10'\n",
    "GROUP BY DATE_FORMAT(付款时间,'%Y-%m-%d');"
   ]
  },
  {
   "cell_type": "markdown",
   "metadata": {},
   "source": [
    "## 连续活跃用户SQL"
   ]
  },
  {
   "cell_type": "code",
   "execution_count": null,
   "metadata": {},
   "outputs": [],
   "source": [
    "select 用户ID\n",
    "    ,max(days) incessancy_days\n",
    "    ,min(pay_dd) start_date\n",
    "    ,max(pay_dd) end_date\n",
    "from\n",
    "(select 用户ID\n",
    "        ,@cont_day :=\n",
    "\t   (case \n",
    "        when (@last_uid = 用户ID and DATEDIFF(pay_date,@last_dt)=1) then (@cont_day + 1)\n",
    "\t\twhen (@last_uid = 用户ID and DATEDIFF(pay_date,@last_dt)<1) then (@cont_day + 0)\n",
    "\t\telse 1\n",
    "\t\tend\n",
    "        ) as days\n",
    "        ,(@cont_ix := (@cont_ix + if(@cont_day = 1, 1, 0))) AS cont_ix\n",
    "        ,@last_uid := 用户ID\n",
    "        ,@last_dt := pay_date as pay_dd\n",
    "    from\n",
    "    (select 用户ID,DATE_FORMAT(付款时间,'%Y-%m-%d') as pay_date\n",
    "        from kkb.order\n",
    "        where DATE_FORMAT(付款时间,'%Y-%m-%d') >= '2020-01-01' and DATE_FORMAT(付款时间,'%Y-%m-%d') <= '2020-08-06'\n",
    "        group by 用户ID,DATE_FORMAT(付款时间,'%Y-%m-%d')\n",
    "        order by 用户ID\n",
    "    ) as t1,\n",
    "    (select @last_uid := '',\n",
    "\t\t\t@last_dt  := '',\n",
    "\t\t\t@cont_ix  := 0,\n",
    "\t\t\t@cont_day := 0\n",
    "    ) as t2\n",
    ") as t\n",
    "group by 用户ID\n",
    "order by incessancy_days desc;"
   ]
  },
  {
   "cell_type": "code",
   "execution_count": null,
   "metadata": {},
   "outputs": [],
   "source": []
  }
 ],
 "metadata": {
  "kernelspec": {
   "display_name": "Python 3",
   "language": "python",
   "name": "python3"
  },
  "language_info": {
   "codemirror_mode": {
    "name": "ipython",
    "version": 3
   },
   "file_extension": ".py",
   "mimetype": "text/x-python",
   "name": "python",
   "nbconvert_exporter": "python",
   "pygments_lexer": "ipython3",
   "version": "3.8.3"
  },
  "latex_envs": {
   "LaTeX_envs_menu_present": true,
   "autoclose": false,
   "autocomplete": true,
   "bibliofile": "biblio.bib",
   "cite_by": "apalike",
   "current_citInitial": 1,
   "eqLabelWithNumbers": true,
   "eqNumInitial": 1,
   "hotkeys": {
    "equation": "Ctrl-E",
    "itemize": "Ctrl-I"
   },
   "labels_anchors": false,
   "latex_user_defs": false,
   "report_style_numbering": false,
   "user_envs_cfg": false
  },
  "toc": {
   "base_numbering": 1,
   "nav_menu": {},
   "number_sections": true,
   "sideBar": true,
   "skip_h1_title": false,
   "title_cell": "Table of Contents",
   "title_sidebar": "Contents",
   "toc_cell": false,
   "toc_position": {
    "height": "calc(100% - 180px)",
    "left": "10px",
    "top": "150px",
    "width": "190px"
   },
   "toc_section_display": true,
   "toc_window_display": true
  }
 },
 "nbformat": 4,
 "nbformat_minor": 4
}
