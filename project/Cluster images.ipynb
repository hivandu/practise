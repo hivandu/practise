{
 "cells": [
  {
   "cell_type": "code",
   "execution_count": 5,
   "source": [
    "# -*- coding:utf-8 -*-\n",
    "# use K-means cluster image, display the visualization of the segmentation mark\n",
    "\n",
    "import numpy as np\n",
    "import PIL.Image as image\n",
    "from sklearn.cluster import KMeans\n",
    "from sklearn import preprocessing\n",
    "from skimage import color\n",
    "import warnings\n",
    "\n",
    "warnings.filterwarnings('ignore')\n",
    "\n",
    "# load data\n",
    "def load_data(filePath):\n",
    "    # read file\n",
    "    f = open(filePath, 'rb')\n",
    "    data = []\n",
    "\n",
    "    # get the image pixel\n",
    "    img = image.open(f)\n",
    "\n",
    "    # get the image size\n",
    "    width, height = img.size\n",
    "    for x in range(width):\n",
    "        for y in range(height):\n",
    "            # get three channel values of point(x, y)\n",
    "            c1, c2, c3 = img.getpixel((x, y))\n",
    "            data.append([c1,c2,c3])\n",
    "    f.close()\n",
    "\n",
    "    # use Min-Max\n",
    "    mm = preprocessing.MinMaxScaler()\n",
    "    data = mm.fit_transform(data)\n",
    "    return np.mat(data), width, height\n",
    "\n",
    "# read the image\n",
    "img, width, height = load_data('./data/weixin.jpg')\n",
    "\n",
    "# use K-means\n",
    "kmeans = KMeans(n_clusters=16)\n",
    "kmeans.fit(img)\n",
    "label = kmeans.predict(img)\n",
    "\n",
    "# Convert the result of image clustering into a matrix of image size\n",
    "label = label.reshape([width, height])\n",
    "\n",
    "# Convert the cluster identification matrix into a matrix of different colors\n",
    "label_color = (color.label2rgb(label)*255).astype(np.uint8)\n",
    "label_color = label_color.transpose(1,0,2)\n",
    "images = image.fromarray(label_color)\n",
    "images.save('./data/weixin_mark_color.jpg')"
   ],
   "outputs": [],
   "metadata": {}
  },
  {
   "cell_type": "code",
   "execution_count": null,
   "source": [],
   "outputs": [],
   "metadata": {}
  }
 ],
 "metadata": {
  "orig_nbformat": 4,
  "language_info": {
   "name": "python",
   "version": "3.7.11",
   "mimetype": "text/x-python",
   "codemirror_mode": {
    "name": "ipython",
    "version": 3
   },
   "pygments_lexer": "ipython3",
   "nbconvert_exporter": "python",
   "file_extension": ".py"
  },
  "kernelspec": {
   "name": "python3",
   "display_name": "Python 3.7.11 64-bit ('tensorflow': conda)"
  },
  "interpreter": {
   "hash": "32732e49ddba1da8b293d0354da9484fcc377d4ba69e79a82935691a68d0ecf6"
  }
 },
 "nbformat": 4,
 "nbformat_minor": 2
}