{
 "cells": [
  {
   "cell_type": "code",
   "execution_count": 10,
   "source": [
    "# auto operation weibo\n",
    "from selenium import webdriver\n",
    "import time\n",
    "driver = webdriver.Chrome('/Applications/chromedriver')\n",
    "\n",
    "# login weibo\n",
    "def weibo_login(username, password):\n",
    "\n",
    "    # open weibo index\n",
    "    driver.get('https://passport.weibo.cn/signin/login')\n",
    "    driver.implicitly_wait(5)\n",
    "    time.sleep(1)\n",
    "\n",
    "    # fill the info: username, password\n",
    "    driver.find_element_by_id('loginName').send_keys(username)\n",
    "    driver.find_element_by_id('loginPassword').send_keys(password)\n",
    "    time.sleep(1)\n",
    "\n",
    "    # click login\n",
    "    driver.find_element_by_id('loginAction').click()\n",
    "    time.sleep(1)\n",
    "\n",
    "# set username, password\n",
    "username = 'ivandoo75@gmail.com'\n",
    "password = 'ooxx'\n",
    "\n",
    "# Mobile phone verification is required here, but still can’t log in fully automatically\n",
    "weibo_login(username, password)\n",
    "\n",
    "\n"
   ],
   "outputs": [],
   "metadata": {}
  },
  {
   "cell_type": "code",
   "execution_count": 12,
   "source": [
    "# follow user\n",
    "def add_follow(uid):\n",
    "    driver.get('https://m.weibo.com/u/' + str(uid))\n",
    "    time.sleep(1)\n",
    "\n",
    "    # driver.find_element_by_id('follow').click()\n",
    "    follow_button = driver.find_element_by_xpath('//div[@class=\"btn_bed W_fl\"]')\n",
    "    follow_button.click()\n",
    "    time.sleep(1)\n",
    "\n",
    "    # select group\n",
    "    group_button = driver.find_element_by_xpath('//div[@class=\"list_content W_f14\"]/ul[@class=\"list_ul\"]/li[@class=\"item\"][2]')\n",
    "    group_button.click()\n",
    "    time.sleep(1)\n",
    "\n",
    "    # cancel the select\n",
    "    cancel_button = driver.find_element_by_xpath('//div[@class=\"W_layer_btn S_bg1\"]/a[@class=\"W_btn_b btn_34px\"]')\n",
    "    cancel_button.click()\n",
    "    time.sleep(1)\n",
    "\n",
    "# 每天学点心理学UID\n",
    "uid = '1890826225'\n",
    "add_follow(uid)"
   ],
   "outputs": [],
   "metadata": {}
  },
  {
   "cell_type": "code",
   "execution_count": 13,
   "source": [
    "# create text and publish\n",
    "def add_comment(weibo_url, content):\n",
    "    driver.get(weibo_url)\n",
    "    driver.implicitly_wait(5)\n",
    "\n",
    "    content_textarea = driver.find_element_by_css_selector('textarea.W.input').clear()\n",
    "    content_textarea = driver.find_element_by_css_selector('textarea.W.input').send_keys(content)\n",
    "\n",
    "    time.sleep(2)\n",
    "\n",
    "    comment_button = driver.find_element_by_css_selector('.W_btn_a').click()\n",
    "\n",
    "# post the text\n",
    "def post_weibo(content):\n",
    "    # go to the user index\n",
    "    driver.get('https://weibo.com')\n",
    "    driver.implicitly_wait(5)\n",
    "\n",
    "    # click publish button\n",
    "    # post_button = driver.find_element_by_css_selector('[node-type=\"publish\"]').click()\n",
    "\n",
    "    # input content word to textarea\n",
    "    content_textarea = driver.find_element_by_css_selector('textarea.W_input[node-type=\"textEl\"]').send_keys(content)\n",
    "    time.sleep(2)\n",
    "\n",
    "    # click publish button\n",
    "    post_button = driver.find_element_by_css_selector(\"[node-type='submit']\").click()\n",
    "    time.sleep(1)\n",
    "\n",
    "# comment the weibo\n",
    "weibo_url = 'https://weibo.com/1890826225/HjjqSahwl'\n",
    "content= 'here is Hivan du, Best wish to u.'\n",
    "\n",
    "# auto send weibo\n",
    "content = 'Learning is a belief!'\n",
    "post_weibo(content)\n",
    "\n"
   ],
   "outputs": [],
   "metadata": {}
  },
  {
   "cell_type": "code",
   "execution_count": null,
   "source": [],
   "outputs": [],
   "metadata": {}
  }
 ],
 "metadata": {
  "orig_nbformat": 4,
  "language_info": {
   "name": "python",
   "version": "3.7.11",
   "mimetype": "text/x-python",
   "codemirror_mode": {
    "name": "ipython",
    "version": 3
   },
   "pygments_lexer": "ipython3",
   "nbconvert_exporter": "python",
   "file_extension": ".py"
  },
  "kernelspec": {
   "name": "python3",
   "display_name": "Python 3.7.11 64-bit ('tensorflow': conda)"
  },
  "interpreter": {
   "hash": "e149da774136999aaf00d4dc0a73ad671f5415143dd98642849dddd1d0bac9b6"
  }
 },
 "nbformat": 4,
 "nbformat_minor": 2
}