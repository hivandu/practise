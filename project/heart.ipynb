{
 "cells": [
  {
   "cell_type": "markdown",
   "source": [
    "# Heart"
   ],
   "metadata": {}
  },
  {
   "cell_type": "code",
   "execution_count": 52,
   "source": [
    "# load data\n",
    "\n",
    "import pandas as pd\n",
    "\n",
    "\"\"\"params\n",
    "字段名\t    含义\t\n",
    "age\t      年龄\t\n",
    "sex\t      性别(1 = 男性, 0 = 女性)\n",
    "cp\t      胸部疼痛类型(值1：典型心绞痛，值2：非典型性心绞痛，值3：非心绞痛，值4：无症状）\n",
    "trestbps   血压\t\n",
    "chol\t   胆固醇\t\n",
    "fbs\t      空腹血糖（> 120 mg/dl，1=真；0=假）\t\n",
    "restecg\t   心电图结果（0=正常，1=患有ST-T波异常，2=根据Estes的标准显示可能或确定的左心室肥大）\t\n",
    "thalach\t   最大心跳数\t\n",
    "exang\t   运动时是否心绞痛（1=有过；0=没有）\n",
    "oldpeak\t   运动相对于休息的ST\n",
    "slop\t   心电图ST segment的倾斜度(值1:上坡，值2:平坦，值3:下坡） \t\n",
    "ca\t      透视检查看到的血管数\t\n",
    "thal\t   缺陷种类（3=正常；6=固定缺陷；7=可逆缺陷）\n",
    "target\t   是否患病（0=否，1=是）\n",
    "\"\"\"\n",
    "\n",
    "import pandas as pd\n",
    "from sklearn.linear_model import LogisticRegression\n",
    "from sklearn.preprocessing import StandardScaler\n",
    "from sklearn.model_selection import train_test_split\n",
    "\n",
    "data = pd.read_csv('./data/heart.csv')\n",
    "\n",
    "data.info()\n",
    "data.shape\n",
    "\n",
    "data.target.value_counts()\n",
    "\n",
    "sex = pd.get_dummies(data['sex'], prefix = 'sex')\n",
    "data = pd.concat([data, sex], axis = 1)\n",
    "data = data.drop(columns = ['sex'])\n",
    "data.head()\n",
    "\n",
    "data_y = data.target.values\n",
    "data_y.shape\n",
    "\n",
    "data_x = data.drop(['target'], axis = 1)\n",
    "data_x.shape\n",
    "\n",
    "train_x, test_x, train_y, test_y = train_test_split(data_x, data_y, test_size = 0.3, random_state=33)\n",
    "\n",
    "ss = StandardScaler()\n",
    "\n",
    "ss.fit(train_x)\n",
    "\n",
    "train_x = ss.transform(train_x)\n",
    "test_x = ss.transform(test_x)\n",
    "\n",
    "lr = LogisticRegression()\n",
    "lr.fit(train_x, train_y)\n",
    "\n",
    "lr.score(train_x, train_y)\n",
    "\n",
    "lr.score(test_x, test_y)\n",
    "\n",
    "from sklearn.metrics import classification_report\n",
    "predict = lr.predict(test_x)\n",
    "print(classification_report(test_y, predict))"
   ],
   "outputs": [
    {
     "output_type": "stream",
     "name": "stdout",
     "text": [
      "<class 'pandas.core.frame.DataFrame'>\n",
      "RangeIndex: 303 entries, 0 to 302\n",
      "Data columns (total 14 columns):\n",
      " #   Column    Non-Null Count  Dtype  \n",
      "---  ------    --------------  -----  \n",
      " 0   age       303 non-null    int64  \n",
      " 1   sex       303 non-null    int64  \n",
      " 2   cp        303 non-null    int64  \n",
      " 3   trestbps  303 non-null    int64  \n",
      " 4   chol      303 non-null    int64  \n",
      " 5   fbs       303 non-null    int64  \n",
      " 6   restecg   303 non-null    int64  \n",
      " 7   thalach   303 non-null    int64  \n",
      " 8   exang     303 non-null    int64  \n",
      " 9   oldpeak   303 non-null    float64\n",
      " 10  slope     303 non-null    int64  \n",
      " 11  ca        303 non-null    int64  \n",
      " 12  thal      303 non-null    int64  \n",
      " 13  target    303 non-null    int64  \n",
      "dtypes: float64(1), int64(13)\n",
      "memory usage: 33.3 KB\n"
     ]
    },
    {
     "output_type": "execute_result",
     "data": {
      "text/plain": [
       "0.8461538461538461"
      ]
     },
     "metadata": {},
     "execution_count": 52
    }
   ],
   "metadata": {}
  },
  {
   "cell_type": "code",
   "execution_count": null,
   "source": [],
   "outputs": [],
   "metadata": {}
  },
  {
   "cell_type": "code",
   "execution_count": null,
   "source": [],
   "outputs": [],
   "metadata": {}
  }
 ],
 "metadata": {
  "orig_nbformat": 4,
  "language_info": {
   "name": "python",
   "version": "3.7.11",
   "mimetype": "text/x-python",
   "codemirror_mode": {
    "name": "ipython",
    "version": 3
   },
   "pygments_lexer": "ipython3",
   "nbconvert_exporter": "python",
   "file_extension": ".py"
  },
  "kernelspec": {
   "name": "python3",
   "display_name": "Python 3.7.11 64-bit ('tensorflow': conda)"
  },
  "interpreter": {
   "hash": "32732e49ddba1da8b293d0354da9484fcc377d4ba69e79a82935691a68d0ecf6"
  }
 },
 "nbformat": 4,
 "nbformat_minor": 2
}