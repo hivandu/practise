{
 "cells": [
  {
   "cell_type": "code",
   "execution_count": 6,
   "source": [
    "# test clssified text\n",
    "\n",
    "import pandas as pd\n",
    "import numpy as np\n",
    "from sklearn.feature_extraction.text import TfidfVectorizer\n",
    "\n",
    "tfidf_vec = TfidfVectorizer()\n",
    "\n",
    "test_doc = [\n",
    "    'this is the bayes document',\n",
    "    'this is the second second document',\n",
    "    'and the third one',\n",
    "    'is this the document'\n",
    "]\n",
    "\n",
    "tfidf_matrix = tfidf_vec.fit_transform(test_doc)\n",
    "print('dont replace:',tfidf_vec.get_feature_names())\n",
    "print('word id:', tfidf_vec.vocabulary_)\n",
    "print('ftidf of word:',tfidf_matrix.toarray())\n"
   ],
   "outputs": [
    {
     "output_type": "stream",
     "name": "stdout",
     "text": [
      "dont replace: ['and', 'bayes', 'document', 'is', 'one', 'second', 'the', 'third', 'this']\n",
      "word id: {'this': 8, 'is': 3, 'the': 6, 'bayes': 1, 'document': 2, 'second': 5, 'and': 0, 'third': 7, 'one': 4}\n",
      "ftidf of word: [[0.         0.63314609 0.40412895 0.40412895 0.         0.\n",
      "  0.33040189 0.         0.40412895]\n",
      " [0.         0.         0.27230147 0.27230147 0.         0.85322574\n",
      "  0.22262429 0.         0.27230147]\n",
      " [0.55280532 0.         0.         0.         0.55280532 0.\n",
      "  0.28847675 0.55280532 0.        ]\n",
      " [0.         0.         0.52210862 0.52210862 0.         0.\n",
      "  0.42685801 0.         0.52210862]]\n"
     ]
    }
   ],
   "metadata": {}
  },
  {
   "cell_type": "code",
   "execution_count": 14,
   "source": [
    "# clssified the documents\n",
    "\n",
    "import os\n",
    "import jieba\n",
    "import warnings\n",
    "from sklearn.feature_extraction.text import TfidfVectorizer\n",
    "from sklearn.naive_bayes import MultinomialNB\n",
    "from sklearn import metrics\n",
    "\n",
    "warnings.filterwarnings('ignore')\n",
    "\n",
    "def cut_words(file_path):\n",
    "    \"\"\"\n",
    "    split the text word\n",
    "    :param file_path: text file path\n",
    "    :return split the string use space key\n",
    "    \"\"\"\n",
    "\n",
    "    text_with_spaces = ''\n",
    "    text = open(file_path, 'r', encoding='gb18030').read()\n",
    "    textcut = jieba.cut(text)\n",
    "    for word in textcut:\n",
    "        text_with_spaces += word+' '\n",
    "    return text_with_spaces\n",
    "\n",
    "\n",
    "def loadfile(file_dir, label):\n",
    "    \"\"\"\n",
    "    load all file in the path\n",
    "    :param file_dir: save path of text file\n",
    "    :param label: the document tag\n",
    "    :return: document list and tag after the split word\n",
    "    \"\"\"\n",
    "    file_list = os.listdir(file_dir)\n",
    "    words_list = []\n",
    "    labels_list = []\n",
    "    for file in file_list:\n",
    "        file_path = file_dir + '/' + file\n",
    "        words_list.append(cut_words(file_path))\n",
    "        labels_list.append(label)\n",
    "\n",
    "    return words_list, labels_list\n",
    "\n",
    "# load train data\n",
    "train_words_list1, train_labels1 = loadfile('./data/text classification/train/女性', '女性')\n",
    "train_words_list2, train_labels2 = loadfile('./data/text classification/train/体育', '体育')\n",
    "train_words_list3, train_labels3 = loadfile('./data/text classification/train/文学', '文学')\n",
    "train_words_list4, train_labels4 = loadfile('./data/text classification/train/校园', '校园')\n",
    "\n",
    "train_words_list = train_words_list1 + train_words_list2 + train_words_list3 + train_words_list4\n",
    "train_labels = train_labels1 + train_labels2 + train_labels3 + train_labels4\n",
    "\n",
    "# load test data\n",
    "test_words_list1, test_labels1 = loadfile('./data/text classification/train/女性', '女性')\n",
    "test_words_list2, test_labels2 = loadfile('./data/text classification/train/体育', '体育')\n",
    "test_words_list3, test_labels3 = loadfile('./data/text classification/train/文学', '文学')\n",
    "test_words_list4, test_labels4 = loadfile('./data/text classification/train/校园', '校园')\n",
    "\n",
    "test_words_list = test_words_list1 + test_words_list2 + test_words_list3 + test_words_list4\n",
    "test_labels = test_labels1 + test_labels2 + test_labels3 + test_labels4\n",
    "\n",
    "# load stop word\n",
    "stop_words = open('./data/text classification/stop/stopword.txt', 'r', encoding='utf-8').read()\n",
    "stop_words = stop_words.encode('utf-8').decode('utf-8-sig') # format \\ufeff on list header\n",
    "stop_words = stop_words.split('\\n') # split the word\n",
    "\n",
    "# calculate the word weight\n",
    "tf = TfidfVectorizer(stop_words = stop_words, max_df = 0.5)\n",
    "train_features = tf.fit_transform(train_words_list)\n",
    "\n",
    "test_features = tf.transform(test_words_list)\n",
    "\n",
    "# bayes classifiter\n",
    "from sklearn.naive_bayes import MultinomialNB\n",
    "clf = MultinomialNB(alpha=0.001).fit(train_features, train_labels)\n",
    "predicted_labels = clf.predict(test_features)\n",
    "\n",
    "# sum the accuracy score\n",
    "print(f'accuracy score is: {metrics.accuracy_score(test_labels, predicted_labels)}')\n",
    "\n",
    "\n",
    "\n",
    "\n",
    "\n",
    "\n",
    "\n"
   ],
   "outputs": [
    {
     "output_type": "stream",
     "name": "stderr",
     "text": [
      "Building prefix dict from the default dictionary ...\n",
      "Loading model from cache /var/folders/jd/jhbp58m554l8fyt81nfks5jm0000gn/T/jieba.cache\n",
      "Loading model cost 0.552 seconds.\n",
      "Prefix dict has been built successfully.\n"
     ]
    },
    {
     "output_type": "stream",
     "name": "stdout",
     "text": [
      "accuracy score is: 0.9990925589836661\n"
     ]
    }
   ],
   "metadata": {}
  },
  {
   "cell_type": "code",
   "execution_count": null,
   "source": [],
   "outputs": [],
   "metadata": {}
  }
 ],
 "metadata": {
  "orig_nbformat": 4,
  "language_info": {
   "name": "python",
   "version": "3.7.11",
   "mimetype": "text/x-python",
   "codemirror_mode": {
    "name": "ipython",
    "version": 3
   },
   "pygments_lexer": "ipython3",
   "nbconvert_exporter": "python",
   "file_extension": ".py"
  },
  "kernelspec": {
   "name": "python3",
   "display_name": "Python 3.7.11 64-bit ('tensorflow': conda)"
  },
  "interpreter": {
   "hash": "32732e49ddba1da8b293d0354da9484fcc377d4ba69e79a82935691a68d0ecf6"
  }
 },
 "nbformat": 4,
 "nbformat_minor": 2
}