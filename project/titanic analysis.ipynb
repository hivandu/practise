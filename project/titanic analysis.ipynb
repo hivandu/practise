{
 "cells": [
  {
   "cell_type": "code",
   "execution_count": 8,
   "source": [
    "# titanic analysis\n",
    "import pandas as pd\n",
    "from sklearn.feature_extraction import DictVectorizer\n",
    "from sklearn.tree import DecisionTreeClassifier\n",
    "\n",
    "# load data\n",
    "train_data = pd.read_csv('./data/train.csv')\n",
    "test_data = pd.read_csv('./data/test.csv')\n",
    "\n",
    "# data exploration\n",
    "# print(train_data.info())\n",
    "# print(train_data.describe())\n",
    "# print(train_data.describe(include=['0']))\n",
    "# print(train_data.head())\n",
    "# print(train_data.tail())\n",
    "\n",
    "# data cleaning\n",
    "# mean data fill the nan\n",
    "train_data['Age'].fillna(train_data['Age'].mean(), inplace=True)\n",
    "test_data['Age'].fillna(test_data['Age'].mean(), inplace=True)\n",
    "\n",
    "train_data['Fare'].fillna(train_data['Fare'].mean(), inplace=True)\n",
    "test_data['Fare'].fillna(test_data['Fare'].mean(), inplace=True)\n",
    "\n",
    "# the most data fill the nan\n",
    "train_data['Embarked'].fillna('S', inplace=True)\n",
    "test_data['Embarked'].fillna('S', inplace=True)\n",
    "\n",
    "# Feature selection\n",
    "features = ['Pclass', 'Sex', 'Age', 'SibSp', 'Parch', 'Fare', 'Embarked']\n",
    "train_features = train_data[features]\n",
    "test_features = test_data[features]\n",
    "train_labels = train_data['Survived']\n",
    "\n",
    "dvec = DictVectorizer(sparse = False)\n",
    "train_features = dvec.fit_transform(train_features.to_dict(orient='records'))\n",
    "\n",
    "print(dvec.feature_names_)\n",
    "\n",
    "# make ID3\n",
    "clf = DecisionTreeClassifier(criterion='entropy')\n",
    "\n",
    "# training the data\n",
    "clf.fit(train_features, train_labels)\n",
    "\n",
    "test_features = dvec.transform(test_features.to_dict(orient='records'))\n",
    "\n",
    "# predict\n",
    "pred_labels = clf.predict(test_features)\n",
    "\n",
    "# get accuracy\n",
    "acc_decision_tree = round(clf.score(train_features, train_labels), 6)\n",
    "\n",
    "print(f'score accuracy is: {acc_decision_tree}')\n",
    "\n",
    "\n",
    "\n",
    "\n",
    "\n"
   ],
   "outputs": [
    {
     "output_type": "stream",
     "name": "stdout",
     "text": [
      "['Age', 'Embarked=C', 'Embarked=Q', 'Embarked=S', 'Fare', 'Parch', 'Pclass', 'Sex=female', 'Sex=male', 'SibSp']\n",
      "score accuracy is: 0.982043\n"
     ]
    }
   ],
   "metadata": {}
  },
  {
   "cell_type": "code",
   "execution_count": null,
   "source": [],
   "outputs": [],
   "metadata": {}
  }
 ],
 "metadata": {
  "orig_nbformat": 4,
  "language_info": {
   "name": "python",
   "version": "3.7.11",
   "mimetype": "text/x-python",
   "codemirror_mode": {
    "name": "ipython",
    "version": 3
   },
   "pygments_lexer": "ipython3",
   "nbconvert_exporter": "python",
   "file_extension": ".py"
  },
  "kernelspec": {
   "name": "python3",
   "display_name": "Python 3.7.11 64-bit ('tensorflow': conda)"
  },
  "interpreter": {
   "hash": "32732e49ddba1da8b293d0354da9484fcc377d4ba69e79a82935691a68d0ecf6"
  }
 },
 "nbformat": 4,
 "nbformat_minor": 2
}