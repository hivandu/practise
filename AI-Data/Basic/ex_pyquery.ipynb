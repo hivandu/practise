{
 "cells": [
  {
   "cell_type": "code",
   "execution_count": 8,
   "source": [
    "from pyquery import PyQuery as pq\n",
    "\n",
    "\n",
    "html = \"\"\"\n",
    "    <div id=\"main\">\n",
    "        <ul id=\"items\">\n",
    "            <li class=\"item\">item1</li>\n",
    "            <li class=\"item\">item2</li>\n",
    "            <li class=\"item\">item3</li>\n",
    "            <li class=\"item\">item4</li>\n",
    "            <li class=\"item\">item5</li>\n",
    "            <li class=\"item\">item6</li>\n",
    "            <li class=\"item\">item7</li>\n",
    "            <li class=\"item\">item8</li>\n",
    "        </ul>\n",
    "    </div>\n",
    "\"\"\"\n",
    "\n",
    "doc = pq(html)\n",
    "print(doc)\n",
    "print(type(doc))\n",
    "print(doc('li'))"
   ],
   "outputs": [
    {
     "output_type": "stream",
     "name": "stdout",
     "text": [
      "<div id=\"main\">\n",
      "        <ul id=\"items\">\n",
      "            <li class=\"item\">item1</li>\n",
      "            <li class=\"item\">item2</li>\n",
      "            <li class=\"item\">item3</li>\n",
      "            <li class=\"item\">item4</li>\n",
      "            <li class=\"item\">item5</li>\n",
      "            <li class=\"item\">item6</li>\n",
      "            <li class=\"item\">item7</li>\n",
      "            <li class=\"item\">item8</li>\n",
      "        </ul>\n",
      "    </div>\n",
      "<class 'pyquery.pyquery.PyQuery'>\n",
      "<li class=\"item\">item1</li>\n",
      "            <li class=\"item\">item2</li>\n",
      "            <li class=\"item\">item3</li>\n",
      "            <li class=\"item\">item4</li>\n",
      "            <li class=\"item\">item5</li>\n",
      "            <li class=\"item\">item6</li>\n",
      "            <li class=\"item\">item7</li>\n",
      "            <li class=\"item\">item8</li>\n",
      "        \n"
     ]
    }
   ],
   "metadata": {}
  },
  {
   "cell_type": "code",
   "execution_count": null,
   "source": [],
   "outputs": [],
   "metadata": {}
  }
 ],
 "metadata": {
  "orig_nbformat": 4,
  "language_info": {
   "name": "python",
   "version": "3.7.11",
   "mimetype": "text/x-python",
   "codemirror_mode": {
    "name": "ipython",
    "version": 3
   },
   "pygments_lexer": "ipython3",
   "nbconvert_exporter": "python",
   "file_extension": ".py"
  },
  "kernelspec": {
   "name": "python3",
   "display_name": "Python 3.7.11 64-bit ('tensorflow': conda)"
  },
  "interpreter": {
   "hash": "32732e49ddba1da8b293d0354da9484fcc377d4ba69e79a82935691a68d0ecf6"
  }
 },
 "nbformat": 4,
 "nbformat_minor": 2
}