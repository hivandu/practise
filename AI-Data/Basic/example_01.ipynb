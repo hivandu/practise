{
 "cells": [
  {
   "cell_type": "code",
   "execution_count": 4,
   "source": [
    "# rule_based\n",
    "import random\n",
    "from icecream import ic\n",
    "\n",
    "rules = \"\"\"\n",
    "复合句子 = 句子 , 连词 复合句子 | 句子\n",
    "连词 = 而且 | 但是 | 不过\n",
    "句子 = 主语 谓语 宾语\n",
    "主语 = 你| 我 | 他 \n",
    "谓语 = 吃| 玩 \n",
    "宾语 = 桃子| 皮球\n",
    "\"\"\"\n",
    "\n",
    "def get_grammer_by_description(description):\n",
    "    rules_pattern = [r.split('=') for r in description.split('\\n') if r.strip()]\n",
    "    target_with_expend = [(t, ex.split('|')) for t, ex in rules_pattern]\n",
    "    grammer = {t.strip(): [e.strip() for e in ex] for t, ex in target_with_expend}\n",
    "    return grammer\n",
    "\n",
    "generated = [t for t in random.choice(grammer['句子']).split()]\n",
    "test_v = [t for t in random.choice(grammer['谓语']).split()]\n",
    "\n",
    "def generate_by_grammer(grammer, target='句子'):\n",
    "    if target not in grammer: return target\n",
    "    return ''.join([generate_by_grammer(grammer, t) for t in random.choice(grammer[target]).split()])\n",
    "\n",
    "if __name__ == '__main__':\n",
    "    grammer = get_grammer_by_description(rules)\n",
    "\n",
    "    ic(generated)\n",
    "    ic(test_v)\n",
    "    ic(generate_by_grammer(grammer))\n",
    "    ic(generate_by_grammer(grammer, target='复合句子'))\n"
   ],
   "outputs": [
    {
     "output_type": "stream",
     "name": "stderr",
     "text": [
      "ic| generated: ['主语', '谓语', '宾语']\n",
      "ic| test_v: ['吃']\n",
      "ic| generate_by_grammer(grammer): '你玩桃子'\n",
      "ic| generate_by_grammer(grammer, target='复合句子'): '你玩桃子,不过我吃桃子,而且我吃桃子,而且你玩皮球,而且你玩桃子,不过他吃桃子,但是你吃桃子'\n"
     ]
    }
   ],
   "metadata": {}
  },
  {
   "cell_type": "code",
   "execution_count": 8,
   "source": [
    "# water poruing\n",
    "\n",
    "def water_pouring(b1, b2, goal, start=(0,0)):\n",
    "    if goal is start:\n",
    "        return [start]\n",
    "\n",
    "    explored = set()\n",
    "    froniter = [[('init', start)]]\n",
    "\n",
    "    while froniter:\n",
    "        path = froniter.pop(0)\n",
    "        print(path)\n",
    "        (x, y) = path[-1][-1]\n",
    "\n",
    "        for (state, action) in successors(x, y, b1, b2).items():\n",
    "            if state not in explored:\n",
    "                explored.add(state)\n",
    "\n",
    "                path2 = path + [(action, state)]\n",
    "\n",
    "                if goal in state:\n",
    "                    return path2\n",
    "                else:\n",
    "                    froniter.append(path2)\n",
    "\n",
    "    return []\n",
    "\n",
    "def successors(x, y, X, Y):\n",
    "    return {\n",
    "        ((0, y+x) if x+y <= Y else (x+y-Y, Y)): 'X -> Y',\n",
    "        ((x+y, 0) if x+y <= X else (X, x+y-X)): 'X <- Y',\n",
    "        (X, y): 'Fill up X',\n",
    "        (x, Y): 'Fill up Y',\n",
    "        (0, y): 'Empty X',\n",
    "        (x, 0): 'Empty: Y',\n",
    "    }\n",
    "\n",
    "if __name__ == '__main__':\n",
    "    print(water_pouring(4, 9, 5))\n",
    "    print(water_pouring(4, 9, 5, start = (4, 0)))\n",
    "    print(water_pouring(4, 9, 5))\n",
    "\n"
   ],
   "outputs": [
    {
     "output_type": "stream",
     "name": "stdout",
     "text": [
      "[('init', (0, 0))]\n",
      "[('init', (0, 0)), ('Empty: Y', (0, 0))]\n",
      "[('init', (0, 0)), ('Fill up X', (4, 0))]\n",
      "[('init', (0, 0)), ('Fill up Y', (0, 9))]\n",
      "[('init', (0, 0)), ('Fill up Y', (0, 9)), ('X <- Y', (4, 5))]\n",
      "[('init', (4, 0))]\n",
      "[('init', (4, 0)), ('X -> Y', (0, 4))]\n",
      "[('init', (4, 0)), ('Empty: Y', (4, 0))]\n",
      "[('init', (4, 0)), ('Fill up Y', (4, 9))]\n",
      "[('init', (4, 0)), ('Empty X', (0, 0))]\n",
      "[('init', (4, 0)), ('X -> Y', (0, 4)), ('Fill up X', (4, 4))]\n",
      "[('init', (4, 0)), ('X -> Y', (0, 4)), ('Fill up Y', (0, 9))]\n",
      "[('init', (4, 0)), ('X -> Y', (0, 4)), ('Fill up Y', (0, 9)), ('X <- Y', (4, 5))]\n",
      "[('init', (0, 0))]\n",
      "[('init', (0, 0)), ('Empty: Y', (0, 0))]\n",
      "[('init', (0, 0)), ('Fill up X', (4, 0))]\n",
      "[('init', (0, 0)), ('Fill up Y', (0, 9))]\n",
      "[('init', (0, 0)), ('Fill up Y', (0, 9)), ('X <- Y', (4, 5))]\n"
     ]
    }
   ],
   "metadata": {}
  },
  {
   "cell_type": "code",
   "execution_count": 10,
   "source": [],
   "outputs": [
    {
     "output_type": "stream",
     "name": "stderr",
     "text": [
      "  2%|▏         | 12/600 [00:12<10:16,  1.05s/it]\n"
     ]
    },
    {
     "output_type": "error",
     "ename": "KeyboardInterrupt",
     "evalue": "",
     "traceback": [
      "\u001b[0;31m---------------------------------------------------------------------------\u001b[0m",
      "\u001b[0;31mKeyboardInterrupt\u001b[0m                         Traceback (most recent call last)",
      "\u001b[0;32m<ipython-input-10-94de59ae1182>\u001b[0m in \u001b[0;36m<module>\u001b[0;34m\u001b[0m\n\u001b[1;32m      2\u001b[0m \u001b[0;32mimport\u001b[0m \u001b[0mtime\u001b[0m\u001b[0;34m\u001b[0m\u001b[0;34m\u001b[0m\u001b[0m\n\u001b[1;32m      3\u001b[0m \u001b[0;32mfor\u001b[0m \u001b[0mi\u001b[0m \u001b[0;32min\u001b[0m \u001b[0mtqdm\u001b[0m\u001b[0;34m(\u001b[0m\u001b[0mrange\u001b[0m\u001b[0;34m(\u001b[0m\u001b[0;36m60\u001b[0m \u001b[0;34m*\u001b[0m \u001b[0;36m10\u001b[0m\u001b[0;34m)\u001b[0m\u001b[0;34m)\u001b[0m\u001b[0;34m:\u001b[0m\u001b[0;34m\u001b[0m\u001b[0;34m\u001b[0m\u001b[0m\n\u001b[0;32m----> 4\u001b[0;31m     \u001b[0mtime\u001b[0m\u001b[0;34m.\u001b[0m\u001b[0msleep\u001b[0m\u001b[0;34m(\u001b[0m\u001b[0;36m1\u001b[0m\u001b[0;34m)\u001b[0m\u001b[0;34m\u001b[0m\u001b[0;34m\u001b[0m\u001b[0m\n\u001b[0m",
      "\u001b[0;31mKeyboardInterrupt\u001b[0m: "
     ]
    }
   ],
   "metadata": {}
  },
  {
   "cell_type": "code",
   "execution_count": 47,
   "source": [
    "\"\"\"very old artificial intelligence\n",
    "计算机如何生成像人类的语言？\n",
    "LSTM, Transfer 去做\n",
    "GPT-2\n",
    "\"\"\"\n",
    "\n",
    "import random\n",
    "\n",
    "grammar = \"\"\"\n",
    "句子 = 主 谓 宾\n",
    "谓 = 吃|喝|玩\n",
    "宾 = 皮球|桃子\n",
    "主 = 你|我|他\n",
    "\"\"\"\n",
    "\n",
    "grammar2 = \"\"\"\n",
    "句子 = 招呼 玩 活动\n",
    "招呼 = 你好|您好|好久不见\n",
    "玩 = 需要玩|喜欢玩|想玩\n",
    "活动 = 骑马|打球|喝茶\n",
    "\"\"\"\n",
    "\n",
    "## Programmer 希望 能不能不要每次都改写代码了， 你给我不同的输入我的代码不经过改动就能解决这个问题\n",
    "\n",
    "def get_grammar(grammar_string):    \n",
    "\n",
    "    grammar_gen = dict()\n",
    "\n",
    "    for line in grammar_string.split('\\n'):\n",
    "        if not line.strip(): continue\n",
    "        # print(line)\n",
    "\n",
    "        stmt, expr = line.split('=')\n",
    "\n",
    "\n",
    "        expressions = expr.split('|')\n",
    "\n",
    "        grammar_gen[stmt.strip()] = [e.strip() for e in expressions]\n",
    "\n",
    "    return grammar_gen\n",
    "\n",
    "def generate_sentence(gram, target='句子'):\n",
    "    if target not in gram:  return target\n",
    "\n",
    "\n",
    "    exp = random.choice(gram[target])\n",
    "\n",
    "    return ''.join([generate_sentence(gram, e) for e in exp.split()])\n",
    "\n",
    "print('generated:')\n",
    "print(generate_sentence(get_grammar(grammar)))\n",
    "print(generate_sentence(get_grammar(grammar2)))\n"
   ],
   "outputs": [
    {
     "output_type": "stream",
     "name": "stdout",
     "text": [
      "generated:\n",
      "你喝皮球\n",
      "您好想玩打球\n"
     ]
    }
   ],
   "metadata": {}
  },
  {
   "cell_type": "code",
   "execution_count": null,
   "source": [],
   "outputs": [],
   "metadata": {}
  }
 ],
 "metadata": {
  "orig_nbformat": 4,
  "language_info": {
   "name": "python",
   "version": "3.7.11",
   "mimetype": "text/x-python",
   "codemirror_mode": {
    "name": "ipython",
    "version": 3
   },
   "pygments_lexer": "ipython3",
   "nbconvert_exporter": "python",
   "file_extension": ".py"
  },
  "kernelspec": {
   "name": "python3",
   "display_name": "Python 3.7.11 64-bit ('tensorflow': conda)"
  },
  "interpreter": {
   "hash": "32732e49ddba1da8b293d0354da9484fcc377d4ba69e79a82935691a68d0ecf6"
  }
 },
 "nbformat": 4,
 "nbformat_minor": 2
}