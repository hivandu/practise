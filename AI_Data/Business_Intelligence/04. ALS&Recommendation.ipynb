{
 "cells": [
  {
   "cell_type": "code",
   "execution_count": 1,
   "source": [
    "# ALS算法与推荐系统"
   ],
   "outputs": [],
   "metadata": {}
  },
  {
   "cell_type": "code",
   "execution_count": 49,
   "source": [
    "## series"
   ],
   "outputs": [],
   "metadata": {}
  },
  {
   "cell_type": "code",
   "execution_count": 50,
   "source": [
    "# series使用\n",
    "from pandas import Series, DataFrame\n",
    "x1 = Series([1,2,3,4])\n",
    "x2 = Series(data=[1,2,3,4], index=['a', 'b', 'c', 'd'])\n",
    "# 使用字典来进行创建\n",
    "d = {'a':1, 'b':2, 'c':3, 'd':4}\n",
    "x3 = Series(d)\n",
    "\n",
    "print(x1)\n",
    "print(x2)\n",
    "print(x3)"
   ],
   "outputs": [
    {
     "output_type": "stream",
     "name": "stdout",
     "text": [
      "0    1\n",
      "1    2\n",
      "2    3\n",
      "3    4\n",
      "dtype: int64\n",
      "a    1\n",
      "b    2\n",
      "c    3\n",
      "d    4\n",
      "dtype: int64\n",
      "a    1\n",
      "b    2\n",
      "c    3\n",
      "d    4\n",
      "dtype: int64\n"
     ]
    }
   ],
   "metadata": {}
  },
  {
   "cell_type": "code",
   "execution_count": 2,
   "source": [
    "## Dataframe"
   ],
   "outputs": [],
   "metadata": {}
  },
  {
   "cell_type": "code",
   "execution_count": 3,
   "source": [
    "### dataframe使用"
   ],
   "outputs": [],
   "metadata": {}
  },
  {
   "cell_type": "code",
   "execution_count": 4,
   "source": [
    "from pandas import Series, DataFrame\n",
    "data = {'Chinese': [66, 95, 93, 90,80], 'Math': [30, 98, 96, 77, 90], 'English': [65, 85, 92, 88, 90]}\n",
    "df1 = DataFrame(data)\n",
    "df2 = DataFrame(data, index=['ZhangFei', 'GuanYu', 'LiuBei', 'DianWei', 'XuChu'], columns=['Chinese', 'Math', 'English'])\n",
    "print(df1)\n",
    "print(df2)"
   ],
   "outputs": [
    {
     "output_type": "stream",
     "name": "stdout",
     "text": [
      "   Chinese  Math  English\n",
      "0       66    30       65\n",
      "1       95    98       85\n",
      "2       93    96       92\n",
      "3       90    77       88\n",
      "4       80    90       90\n",
      "          Chinese  Math  English\n",
      "ZhangFei       66    30       65\n",
      "GuanYu         95    98       85\n",
      "LiuBei         93    96       92\n",
      "DianWei        90    77       88\n",
      "XuChu          80    90       90\n"
     ]
    }
   ],
   "metadata": {}
  },
  {
   "cell_type": "code",
   "execution_count": 5,
   "source": [
    "# 对列名进行更换\n",
    "df2.rename(columns={'Chinese': '语文', 'English': '英语', 'Math': '数学'}, inplace = True)\n",
    "print(df2.isnull())\n",
    "# 输出df2的概要\n",
    "print(df2.describe())"
   ],
   "outputs": [
    {
     "output_type": "stream",
     "name": "stdout",
     "text": [
      "             语文     数学     英语\n",
      "ZhangFei  False  False  False\n",
      "GuanYu    False  False  False\n",
      "LiuBei    False  False  False\n",
      "DianWei   False  False  False\n",
      "XuChu     False  False  False\n",
      "              语文         数学         英语\n",
      "count   5.000000   5.000000   5.000000\n",
      "mean   84.800000  78.200000  84.000000\n",
      "std    11.987493  28.163807  10.931606\n",
      "min    66.000000  30.000000  65.000000\n",
      "25%    80.000000  77.000000  85.000000\n",
      "50%    90.000000  90.000000  88.000000\n",
      "75%    93.000000  96.000000  90.000000\n",
      "max    95.000000  98.000000  92.000000\n"
     ]
    }
   ],
   "metadata": {}
  },
  {
   "cell_type": "code",
   "execution_count": 7,
   "source": [
    "import pandas as pd\n",
    "from pandas import Series, DataFrame\n",
    "\n",
    "# 读取xlsx文件\n",
    "score = DataFrame(pd.read_excel('../../resource/BI/heros.xlsx'))\n",
    "score.to_excel('../../resource/BI/result.xlsx')\n",
    "print(score)\n",
    "# 读取csv文件\n",
    "score = pd.read_csv('../../resource/BI/heros.csv')\n",
    "score.to_csv('../../resource/BI/result.csv')"
   ],
   "outputs": [
    {
     "output_type": "stream",
     "name": "stdout",
     "text": [
      "  Unnamed: 0  Chinese  Maths  English\n",
      "0   ZhangFei       66     30       65\n",
      "1     GuanYu       95     98       85\n",
      "2     LiuBei       93     96       92\n",
      "3    DianWei       90     77       88\n",
      "4      XuChu       80     90       90\n"
     ]
    }
   ],
   "metadata": {}
  },
  {
   "cell_type": "code",
   "execution_count": 8,
   "source": [
    "import pandas as pd\n",
    "from pandas import DataFrame\n",
    "\n",
    "df1 = DataFrame({'name':['ZhangFei', 'GuanYu', 'a', 'b', 'c'], 'data1':range(1,6)})\n",
    "df2 = DataFrame({'name':['ZhangFei', 'GuanYu', 'A', 'B', 'C'], 'data2':range(1,6)})\n",
    "#print(df1)\n",
    "#print(df2)\n",
    "df3 = pd.merge(df1, df2, on='name')\n",
    "#print(df3)\n",
    "df3 = pd.merge(df1, df2, how='inner')\n",
    "#print(df3)\n",
    "df3 = pd.merge(df1, df2, how='left')\n",
    "df3 = pd.merge(df1, df2, how='right')\n",
    "#print(df3)\n",
    "df3 = pd.merge(df1, df2, how='outer')\n",
    "print(df3)"
   ],
   "outputs": [
    {
     "output_type": "stream",
     "name": "stdout",
     "text": [
      "       name  data1  data2\n",
      "0  ZhangFei    1.0    1.0\n",
      "1    GuanYu    2.0    2.0\n",
      "2         a    3.0    NaN\n",
      "3         b    4.0    NaN\n",
      "4         c    5.0    NaN\n",
      "5         A    NaN    3.0\n",
      "6         B    NaN    4.0\n",
      "7         C    NaN    5.0\n"
     ]
    }
   ],
   "metadata": {}
  },
  {
   "cell_type": "code",
   "execution_count": 9,
   "source": [
    "### DataFrame练习"
   ],
   "outputs": [],
   "metadata": {}
  },
  {
   "cell_type": "code",
   "execution_count": 10,
   "source": [
    "from pandas import Series, DataFrame\n",
    "data = {'Chinese': [66, 95, 93, 90,80], 'Math': [30, 98, 96, 77, 90], 'English': [65, 85, 92, 88, 90]}\n",
    "df = DataFrame(data, index=['ZhangFei', 'GuanYu', 'LiuBei', 'DianWei', 'XuChu'], columns=['Chinese', 'Math', 'English'])"
   ],
   "outputs": [],
   "metadata": {}
  },
  {
   "cell_type": "code",
   "execution_count": 11,
   "source": [
    "# 提取Index为ZhangFei的行\n",
    "print(df.loc['ZhangFei'])\n",
    "# 提取第0行\n",
    "print(df.iloc[0])\n",
    "\n",
    "# 提取列为English的所有行\n",
    "print(df.loc[:,['English']])\n",
    "# 提取第2列的所有行\n",
    "print(df.iloc[:,2])\n",
    "\n",
    "# 查看ZhangFei, GuanYu的Chinese Math成绩\n",
    "print(df.loc[['ZhangFei','GuanYu'], ['Chinese','Math']])\n",
    "print(df.iloc[[0,1],[0,1]])"
   ],
   "outputs": [
    {
     "output_type": "stream",
     "name": "stdout",
     "text": [
      "Chinese    66\n",
      "Math       30\n",
      "English    65\n",
      "Name: ZhangFei, dtype: int64\n",
      "Chinese    66\n",
      "Math       30\n",
      "English    65\n",
      "Name: ZhangFei, dtype: int64\n",
      "          English\n",
      "ZhangFei       65\n",
      "GuanYu         85\n",
      "LiuBei         92\n",
      "DianWei        88\n",
      "XuChu          90\n",
      "ZhangFei    65\n",
      "GuanYu      85\n",
      "LiuBei      92\n",
      "DianWei     88\n",
      "XuChu       90\n",
      "Name: English, dtype: int64\n",
      "          Chinese  Math\n",
      "ZhangFei       66    30\n",
      "GuanYu         95    98\n",
      "          Chinese  Math\n",
      "ZhangFei       66    30\n",
      "GuanYu         95    98\n"
     ]
    }
   ],
   "metadata": {}
  },
  {
   "cell_type": "code",
   "execution_count": 12,
   "source": [
    "### 读取heros2.csv数据表，按照role进行groupby\n",
    "import numpy as np\n",
    "import pandas as pd"
   ],
   "outputs": [],
   "metadata": {}
  },
  {
   "cell_type": "code",
   "execution_count": 13,
   "source": [
    "# 因为文件中有中文，所以采用gbk编码读取\n",
    "data = pd.read_csv('../../resource/BI/heros2.csv', encoding='gbk')\n",
    "\n",
    "result = data.groupby('role').agg([np.sum, np.mean])\n",
    "print(result)"
   ],
   "outputs": [
    {
     "output_type": "stream",
     "name": "stdout",
     "text": [
      "     Chinese            Maths            English           \n",
      "         sum       mean   sum       mean     sum       mean\n",
      "role                                                       \n",
      "坦克       146  73.000000   120  60.000000     155  77.500000\n",
      "战士       278  92.666667   271  90.333333     265  88.333333\n"
     ]
    }
   ],
   "metadata": {}
  },
  {
   "cell_type": "code",
   "execution_count": 14,
   "source": [
    "## Map"
   ],
   "outputs": [],
   "metadata": {}
  },
  {
   "cell_type": "code",
   "execution_count": 15,
   "source": [
    "# 计算平方数\n",
    "def square(x):\n",
    "\treturn x * x\n",
    "# 计算列表各个元素的平方\n",
    "print(list(map(square, [1,2,3,4,5])))\n",
    "\n",
    "# lambda函数\n",
    "add = lambda x, y: x + y\n",
    "print(add(5, 6))\n",
    "\n",
    "# 按照x[1]进行列表排序\n",
    "a = [(2, 56), (3, 12), (6, 10), (9, 13)]\n",
    "a.sort(key=lambda x: x[1])\n",
    "print(a)"
   ],
   "outputs": [
    {
     "output_type": "stream",
     "name": "stdout",
     "text": [
      "[1, 4, 9, 16, 25]\n",
      "11\n",
      "[(6, 10), (3, 12), (9, 13), (2, 56)]\n"
     ]
    }
   ],
   "metadata": {}
  },
  {
   "cell_type": "code",
   "execution_count": 60,
   "source": [
    "\"\"\"\n",
    "\t新列表 = 原列表的平方\n",
    "\t使用map, lambda两种方法完成\n",
    "\"\"\"\n",
    "\n",
    "numbers = [1, 2, 3, 4, 5, 6, 7, 8, 9]\n",
    "# 计算平方数\n",
    "def square(x):\n",
    "\treturn x * x\n",
    "print(list(map(square, numbers)))\n",
    "\n",
    "# 使用lambda定义函数\n",
    "print(list(map(lambda x: x*x, numbers)))"
   ],
   "outputs": [
    {
     "output_type": "stream",
     "name": "stdout",
     "text": [
      "[1, 4, 9, 16, 25, 36, 49, 64, 81]\n",
      "[1, 4, 9, 16, 25, 36, 49, 64, 81]\n"
     ]
    }
   ],
   "metadata": {}
  },
  {
   "cell_type": "code",
   "execution_count": 61,
   "source": [
    "## Syntax Tree"
   ],
   "outputs": [],
   "metadata": {}
  },
  {
   "cell_type": "code",
   "execution_count": 62,
   "source": [
    "### Expr Syntax"
   ],
   "outputs": [],
   "metadata": {}
  },
  {
   "cell_type": "code",
   "execution_count": 64,
   "source": [
    "# 每个函数，都有env参数\n",
    "Num = lambda env, n: n \n",
    "Var = lambda env, x: env[x] \n",
    "Add = lambda env, a, b:_eval(env, a) + _eval(env, b) \n",
    "Mul = lambda env, a, b:_eval(env, a) * _eval(env, b) "
   ],
   "outputs": [],
   "metadata": {}
  },
  {
   "cell_type": "code",
   "execution_count": 66,
   "source": [
    "# 对表达式进行处理，expr[0]为符号，*expr[1:]为传入的参数\n",
    "_eval = lambda env, expr:expr[0](env, *expr[1:]) \n",
    "  \n",
    "env = {'a':3, 'b':6} \n",
    "tree = (Add, (Var, 'a'), \n",
    "        (Mul, (Num, 5), (Var, 'b'))\n",
    "       ) \n",
    "\n",
    "print(_eval(env, (Var, 'a')))\n",
    "print(_eval(env, (Num, 5)))\n",
    "print(Num(env, 5))\n",
    "print(_eval(env, tree))"
   ],
   "outputs": [
    {
     "output_type": "stream",
     "name": "stdout",
     "text": [
      "3\n",
      "5\n",
      "5\n",
      "33\n"
     ]
    }
   ],
   "metadata": {}
  },
  {
   "cell_type": "code",
   "execution_count": 67,
   "source": [
    "### Hero Syntax"
   ],
   "outputs": [],
   "metadata": {}
  },
  {
   "cell_type": "code",
   "execution_count": 68,
   "source": [
    "import random"
   ],
   "outputs": [],
   "metadata": {}
  },
  {
   "cell_type": "code",
   "execution_count": 69,
   "source": [
    "# 定语从句语法\n",
    "grammar = '''\n",
    "战斗 => 施法  ， 结果 。\n",
    "施法 => 主语 动作 技能 \n",
    "结果 => 主语 获得 效果\n",
    "主语 => 张飞 | 关羽 | 赵云 | 典韦 | 许褚 | 刘备 | 黄忠 | 曹操 | 鲁班七号 | 貂蝉\n",
    "动作 => 施放 | 使用 | 召唤 \n",
    "技能 => 一骑当千 | 单刀赴会 | 青龙偃月 | 刀锋铁骑 | 黑暗潜能 | 画地为牢 | 守护机关 | 狂兽血性 | 龙鸣 | 惊雷之龙 | 破云之龙 | 天翔之龙\n",
    "获得 => 损失 | 获得 \n",
    "效果 => 数值 状态\n",
    "数值 => 1 | 1000 |5000 | 100 \n",
    "状态 => 法力 | 生命\n",
    "'''"
   ],
   "outputs": [],
   "metadata": {}
  },
  {
   "cell_type": "code",
   "execution_count": 70,
   "source": [
    "# 得到语法字典\n",
    "def getGrammarDict(gram, linesplit = \"\\n\", gramsplit = \"=>\"):\n",
    "    #定义字典\n",
    "    result = {}\n",
    "\n",
    "    for line in gram.split(linesplit):\n",
    "        # 去掉首尾空格后，如果为空则退出\n",
    "        if not line.strip(): \n",
    "            continue\n",
    "        expr, statement = line.split(gramsplit)\n",
    "        result[expr.strip()] = [i.split() for i in statement.split(\"|\")]\n",
    "    #print(result)\n",
    "    return result"
   ],
   "outputs": [],
   "metadata": {}
  },
  {
   "cell_type": "code",
   "execution_count": 71,
   "source": [
    "# 生成句子\n",
    "def generate(gramdict, target, isEng = False):\n",
    "    if target not in gramdict: \n",
    "        return target\n",
    "    find = random.choice(gramdict[target])\n",
    "    #print(find)\n",
    "    blank = ''\n",
    "    # 如果是英文中间间隔为空格\n",
    "    if isEng: \n",
    "        blank = ' '\n",
    "    return blank.join(generate(gramdict, t, isEng) for t in find)"
   ],
   "outputs": [],
   "metadata": {}
  },
  {
   "cell_type": "code",
   "execution_count": 72,
   "source": [
    "gramdict = getGrammarDict(grammar)\n",
    "print(generate(gramdict,\"战斗\"))\n",
    "print(generate(gramdict,\"战斗\", True))"
   ],
   "outputs": [
    {
     "output_type": "stream",
     "name": "stdout",
     "text": [
      "关羽使用守护机关，许褚损失1000生命。\n",
      "许褚 使用 天翔之龙 ， 赵云 损失 5000 生命 。\n"
     ]
    }
   ],
   "metadata": {}
  },
  {
   "cell_type": "code",
   "execution_count": 17,
   "source": [
    "## MovieLens"
   ],
   "outputs": [],
   "metadata": {}
  },
  {
   "cell_type": "code",
   "execution_count": 18,
   "source": [
    "### 使用ALS进行矩阵分解"
   ],
   "outputs": [],
   "metadata": {}
  },
  {
   "cell_type": "code",
   "execution_count": 19,
   "source": [
    "from itertools import product, chain\n",
    "from copy import deepcopy"
   ],
   "outputs": [],
   "metadata": {}
  },
  {
   "cell_type": "code",
   "execution_count": 20,
   "source": [
    "class Matrix(object):\n",
    "    def __init__(self, data):\n",
    "        self.data = data\n",
    "        self.shape = (len(data), len(data[0]))\n",
    "\n",
    "    def row(self, row_no):\n",
    "        \"\"\"Get a row of the matrix.\n",
    "        Arguments:\n",
    "            row_no {int} -- Row number of the matrix.\n",
    "        Returns:\n",
    "            Matrix\n",
    "        \"\"\"\n",
    "\n",
    "        return Matrix([self.data[row_no]])\n",
    "\n",
    "    def col(self, col_no):\n",
    "        \"\"\"Get a column of the matrix.\n",
    "        Arguments:\n",
    "            col_no {int} -- Column number of the matrix.\n",
    "        Returns:\n",
    "            Matrix\n",
    "        \"\"\"\n",
    "        m = self.shape[0]\n",
    "        return Matrix([[self.data[i][col_no]] for i in range(m)])\n",
    "\n",
    "    @property\n",
    "    def is_square(self):\n",
    "        \"\"\"Check if the matrix is a square matrix.\n",
    "        Returns:\n",
    "            bool\n",
    "        \"\"\"\n",
    "\n",
    "        return self.shape[0] == self.shape[1]\n",
    "\n",
    "    @property\n",
    "    def transpose(self):\n",
    "        \"\"\"Find the transpose of the original matrix.\n",
    "        Returns:\n",
    "            Matrix\n",
    "        \"\"\"\n",
    "\n",
    "        data = list(map(list, zip(*self.data)))\n",
    "        return Matrix(data)\n",
    "\n",
    "    def _eye(self, n):\n",
    "        \"\"\"Get a unit matrix with shape (n, n).\n",
    "        Arguments:\n",
    "            n {int} -- Rank of unit matrix.\n",
    "        Returns:\n",
    "            list\n",
    "        \"\"\"\n",
    "\n",
    "        return [[0 if i != j else 1 for j in range(n)] for i in range(n)]\n",
    "\n",
    "    @property\n",
    "    def eye(self):\n",
    "        \"\"\"Get a unit matrix with the same shape of self.\n",
    "        Returns:\n",
    "            Matrix\n",
    "        \"\"\"\n",
    "\n",
    "        assert self.is_square, \"The matrix has to be square!\"\n",
    "        data = self._eye(self.shape[0])\n",
    "        return Matrix(data)\n",
    "\n",
    "    def _gaussian_elimination(self, aug_matrix):\n",
    "        \"\"\"To simplify the left square matrix of the augmented matrix\n",
    "        as a unit diagonal matrix.\n",
    "        Arguments:\n",
    "            aug_matrix {list} -- 2d list with int or float.\n",
    "        Returns:\n",
    "            list -- 2d list with int or float.\n",
    "        \"\"\"\n",
    "\n",
    "        n = len(aug_matrix)\n",
    "        m = len(aug_matrix[0])\n",
    "\n",
    "        # From top to bottom.\n",
    "        for col_idx in range(n):\n",
    "            # Check if element on the diagonal is zero.\n",
    "            if aug_matrix[col_idx][col_idx] == 0:\n",
    "                row_idx = col_idx\n",
    "                # Find a row whose element has same column index with\n",
    "                # the element on the diagonal is not zero.\n",
    "                while row_idx < n and aug_matrix[row_idx][col_idx] == 0:\n",
    "                    row_idx += 1\n",
    "                # Add this row to the row of the element on the diagonal.\n",
    "                for i in range(col_idx, m):\n",
    "                    aug_matrix[col_idx][i] += aug_matrix[row_idx][i]\n",
    "\n",
    "            # Elimiate the non-zero element.\n",
    "            for i in range(col_idx + 1, n):\n",
    "                # Skip the zero element.\n",
    "                if aug_matrix[i][col_idx] == 0:\n",
    "                    continue\n",
    "                # Elimiate the non-zero element.\n",
    "                k = aug_matrix[i][col_idx] / aug_matrix[col_idx][col_idx]\n",
    "                for j in range(col_idx, m):\n",
    "                    aug_matrix[i][j] -= k * aug_matrix[col_idx][j]\n",
    "\n",
    "        # From bottom to top.\n",
    "        for col_idx in range(n - 1, -1, -1):\n",
    "            # Elimiate the non-zero element.\n",
    "            for i in range(col_idx):\n",
    "                # Skip the zero element.\n",
    "                if aug_matrix[i][col_idx] == 0:\n",
    "                    continue\n",
    "                # Elimiate the non-zero element.\n",
    "                k = aug_matrix[i][col_idx] / aug_matrix[col_idx][col_idx]\n",
    "                for j in chain(range(i, col_idx + 1), range(n, m)):\n",
    "                    aug_matrix[i][j] -= k * aug_matrix[col_idx][j]\n",
    "\n",
    "        # Iterate the element on the diagonal.\n",
    "        for i in range(n):\n",
    "            k = 1 / aug_matrix[i][i]\n",
    "            aug_matrix[i][i] *= k\n",
    "            for j in range(n, m):\n",
    "                aug_matrix[i][j] *= k\n",
    "\n",
    "        return aug_matrix\n",
    "\n",
    "    def _inverse(self, data):\n",
    "        \"\"\"Find the inverse of a matrix.\n",
    "        Arguments:\n",
    "            data {list} -- 2d list with int or float.\n",
    "        Returns:\n",
    "            list -- 2d list with int or float.\n",
    "        \"\"\"\n",
    "\n",
    "        n = len(data)\n",
    "        unit_matrix = self._eye(n)\n",
    "        aug_matrix = [a + b for a, b in zip(self.data, unit_matrix)]\n",
    "        ret = self._gaussian_elimination(aug_matrix)\n",
    "        return list(map(lambda x: x[n:], ret))\n",
    "\n",
    "    @property\n",
    "    def inverse(self):\n",
    "        \"\"\"Find the inverse matrix of self.\n",
    "        Returns:\n",
    "            Matrix\n",
    "        \"\"\"\n",
    "\n",
    "        assert self.is_square, \"The matrix has to be square!\"\n",
    "        data = self._inverse(self.data)\n",
    "        return Matrix(data)\n",
    "\n",
    "    def _row_mul(self, row_A, row_B):\n",
    "        \"\"\"Multiply the elements with the same subscript in both arrays and sum them.\n",
    "        Arguments:\n",
    "            row_A {list} -- 1d list with float or int.\n",
    "            row_B {list} -- 1d list with float or int.\n",
    "        Returns:\n",
    "            float or int\n",
    "        \"\"\"\n",
    "\n",
    "        return sum(x[0] * x[1] for x in zip(row_A, row_B))\n",
    "\n",
    "    def _mat_mul(self, row_A, B):\n",
    "        \"\"\"An auxiliary function of the mat_mul function.\n",
    "        Arguments:\n",
    "            row_A {list} -- 1d list with float or int.\n",
    "            B {Matrix}\n",
    "        Returns:\n",
    "            list -- 1d list with float or int.\n",
    "        \"\"\"\n",
    "\n",
    "        row_pairs = product([row_A], B.transpose.data)\n",
    "        return [self._row_mul(*row_pair) for row_pair in row_pairs]\n",
    "\n",
    "    def mat_mul(self, B):\n",
    "        \"\"\"Matrix multiplication.\n",
    "        Arguments:\n",
    "            B {Matrix}\n",
    "        Returns:\n",
    "            Matrix\n",
    "        \"\"\"\n",
    "\n",
    "        error_msg = \"A's column count does not match B's row count!\"\n",
    "        assert self.shape[1] == B.shape[0], error_msg\n",
    "        return Matrix([self._mat_mul(row_A, B) for row_A in self.data])\n",
    "\n",
    "    def _mean(self, data):\n",
    "        \"\"\"Calculate the average of all the samples.\n",
    "        Arguments:\n",
    "            X {list} -- 2d list with int or float.\n",
    "        Returns:\n",
    "            list -- 1d list with int or float.\n",
    "        \"\"\"\n",
    "\n",
    "        m = len(data)\n",
    "        n = len(data[0])\n",
    "        ret = [0 for _ in range(n)]\n",
    "        for row in data:\n",
    "            for j in range(n):\n",
    "                ret[j] += row[j] / m\n",
    "        return ret\n",
    "\n",
    "    def mean(self):\n",
    "        \"\"\"Calculate the average of all the samples.\n",
    "        Returns:\n",
    "            Matrix\n",
    "        \"\"\"\n",
    "\n",
    "        return Matrix(self._mean(self.data))\n",
    "\n",
    "    def scala_mul(self, scala):\n",
    "        \"\"\"Scala multiplication.\n",
    "        Arguments:\n",
    "            scala {float}\n",
    "        Returns:\n",
    "            Matrix\n",
    "        \"\"\"\n",
    "\n",
    "        m, n = self.shape\n",
    "        data = deepcopy(self.data)\n",
    "        for i in range(m):\n",
    "            for j in range(n):\n",
    "                data[i][j] *= scala\n",
    "        return Matrix(data)"
   ],
   "outputs": [],
   "metadata": {}
  },
  {
   "cell_type": "code",
   "execution_count": 21,
   "source": [
    "import pandas as pd\n",
    "import numpy as np\n",
    "import random\n",
    "from collections import defaultdict"
   ],
   "outputs": [],
   "metadata": {}
  },
  {
   "cell_type": "code",
   "execution_count": 22,
   "source": [
    "class ALS(object):\n",
    "    def __init__(self):\n",
    "        self.user_ids = None\n",
    "        self.item_ids = None\n",
    "        self.user_ids_dict = None\n",
    "        self.item_ids_dict = None\n",
    "        self.user_matrix = None\n",
    "        self.item_matrix = None\n",
    "        self.user_items = None\n",
    "        self.shape = None\n",
    "        self.rmse = None\n",
    "\n",
    "\n",
    "    def _process_data(self, X):\n",
    "        \"\"\" 将评分矩阵X转化为稀疏矩阵\n",
    "            输入参数X:\n",
    "                X {list} -- 2d list with int or float(user_id, item_id, rating)\n",
    "            输出结果:\n",
    "                dict -- {user_id: {item_id: rating}}\n",
    "                dict -- {item_id: {user_id: rating}}\n",
    "        \"\"\"        \n",
    "        self.user_ids = tuple((set(map(lambda x: x[0], X))))\n",
    "        self.user_ids_dict = dict(map(lambda x: x[::-1], enumerate(self.user_ids)))\n",
    "     \n",
    "        self.item_ids = tuple((set(map(lambda x: x[1], X))))\n",
    "        self.item_ids_dict = dict(map(lambda x: x[::-1], enumerate(self.item_ids)))\n",
    "     \n",
    "        self.shape = (len(self.user_ids), len(self.item_ids))\n",
    "     \n",
    "        ratings = defaultdict(lambda: defaultdict(int))\n",
    "        ratings_T = defaultdict(lambda: defaultdict(int))\n",
    "        for row in X:\n",
    "            user_id, item_id, rating = row\n",
    "            ratings[user_id][item_id] = rating\n",
    "            ratings_T[item_id][user_id] = rating\n",
    "     \n",
    "        err_msg = \"Length of user_ids %d and ratings %d not match!\" % (len(self.user_ids), len(ratings))\n",
    "        assert len(self.user_ids) == len(ratings), err_msg\n",
    "     \n",
    "        err_msg = \"Length of item_ids %d and ratings_T %d not match!\" % (len(self.item_ids), len(ratings_T))\n",
    "        assert len(self.item_ids) == len(ratings_T), err_msg\n",
    "        return ratings, ratings_T\n",
    "\n",
    "     \n",
    "    def _users_mul_ratings(self, users, ratings_T):\n",
    "        \"\"\" 用户矩阵(稠密) 与 评分矩阵（稀疏）相乘\n",
    "            The result(items) is a k * n matrix, n stands for number of item_ids.\n",
    "            Arguments:\n",
    "                users {Matrix} -- k * m matrix, m stands for number of user_ids.\n",
    "                ratings_T {dict} -- The items ratings by users.\n",
    "                {item_id: {user_id: rating}}\n",
    "            Returns:\n",
    "                Matrix -- Item matrix.\n",
    "        \"\"\"\n",
    "        def f(users_row, item_id):\n",
    "            user_ids = iter(ratings_T[item_id].keys())\n",
    "            scores = iter(ratings_T[item_id].values())\n",
    "            col_nos = map(lambda x: self.user_ids_dict[x], user_ids)\n",
    "            _users_row = map(lambda x: users_row[x], col_nos)\n",
    "            return sum(a * b for a, b in zip(_users_row, scores))\n",
    "     \n",
    "        ret = [[f(users_row, item_id) for item_id in self.item_ids] for users_row in users.data]\n",
    "        return Matrix(ret)\n",
    "\n",
    "    def _items_mul_ratings(self, items, ratings):\n",
    "        \"\"\" item矩阵（稠密）与评分矩阵（稀疏）相乘\n",
    "        The result(users) is a k * m matrix, m stands for number of user_ids.\n",
    "        Arguments:\n",
    "            items {Matrix} -- k * n matrix, n stands for number of item_ids.\n",
    "            ratings {dict} -- The items ratings by users.\n",
    "            {user_id: {item_id: rating}}\n",
    "        Returns:\n",
    "            Matrix -- User matrix.\n",
    "        \"\"\"\n",
    "        def f(items_row, user_id):\n",
    "            item_ids = iter(ratings[user_id].keys())\n",
    "            scores = iter(ratings[user_id].values())\n",
    "            col_nos = map(lambda x: self.item_ids_dict[x], item_ids)\n",
    "            _items_row = map(lambda x: items_row[x], col_nos)\n",
    "            return sum(a * b for a, b in zip(_items_row, scores))\n",
    "     \n",
    "        ret = [[f(items_row, user_id) for user_id in self.user_ids] for items_row in items.data]\n",
    "        return Matrix(ret)\n",
    "\n",
    "    # 生成随机矩阵\n",
    "    def _gen_random_matrix(self, n_rows, n_colums):\n",
    "        #print(n_colums, ' ', n_rows)\n",
    "        #data = [[random() for _ in range(n_colums)] for _ in range(n_rows)]\n",
    "        #d = 2\n",
    "        data = np.random.rand(n_rows, n_colums)\n",
    "        return Matrix(data)\n",
    "\n",
    "\n",
    "    # 计算RMSE\n",
    "    def _get_rmse(self, ratings):\n",
    "            m, n = self.shape\n",
    "            mse = 0.0\n",
    "            n_elements = sum(map(len, ratings.values()))\n",
    "            for i in range(m):\n",
    "                for j in range(n):\n",
    "                    user_id = self.user_ids[i]\n",
    "                    item_id = self.item_ids[j]\n",
    "                    rating = ratings[user_id][item_id]\n",
    "                    if rating > 0:\n",
    "                        user_row = self.user_matrix.col(i).transpose\n",
    "                        item_col = self.item_matrix.col(j)\n",
    "                        rating_hat = user_row.mat_mul(item_col).data[0][0]\n",
    "                        square_error = (rating - rating_hat) ** 2\n",
    "                        mse += square_error / n_elements\n",
    "            return mse ** 0.5\n",
    "\n",
    "    # 模型训练\n",
    "    def fit(self, X, k, max_iter=10):\n",
    "        ratings, ratings_T = self._process_data(X)\n",
    "        self.user_items = {k: set(v.keys()) for k, v in ratings.items()}\n",
    "        m, n = self.shape\n",
    "     \n",
    "        error_msg = \"Parameter k must be less than the rank of original matrix\"\n",
    "        assert k < min(m, n), error_msg\n",
    "     \n",
    "        self.user_matrix = self._gen_random_matrix(k, m)\n",
    "     \n",
    "        for i in range(max_iter):\n",
    "            if i % 2:\n",
    "                items = self.item_matrix\n",
    "                self.user_matrix = self._items_mul_ratings(\n",
    "                    items.mat_mul(items.transpose).inverse.mat_mul(items),\n",
    "                    ratings\n",
    "                )\n",
    "            else:\n",
    "                users = self.user_matrix\n",
    "                self.item_matrix = self._users_mul_ratings(\n",
    "                    users.mat_mul(users.transpose).inverse.mat_mul(users),\n",
    "                    ratings_T\n",
    "                )\n",
    "            rmse = self._get_rmse(ratings)\n",
    "            print(\"Iterations: %d, RMSE: %.6f\" % (i + 1, rmse))\n",
    "     \n",
    "        self.rmse = rmse\n",
    "\n",
    "    # Top-n推荐，用户列表：user_id, n_items: Top-n\n",
    "    def _predict(self, user_id, n_items):\n",
    "        users_col = self.user_matrix.col(self.user_ids_dict[user_id])\n",
    "        users_col = users_col.transpose\n",
    "     \n",
    "        items_col = enumerate(users_col.mat_mul(self.item_matrix).data[0])\n",
    "        items_scores = map(lambda x: (self.item_ids[x[0]], x[1]), items_col)\n",
    "        viewed_items = self.user_items[user_id]\n",
    "        items_scores = filter(lambda x: x[0] not in viewed_items, items_scores)\n",
    "     \n",
    "        return sorted(items_scores, key=lambda x: x[1], reverse=True)[:n_items]\n",
    "\n",
    "    # 预测多个用户\n",
    "    def predict(self, user_ids, n_items=10):\n",
    "        return [self._predict(user_id, n_items) for user_id in user_ids]\n",
    "\n",
    "def format_prediction(item_id, score):\n",
    "    return \"item_id:%d score:%.2f\" % (item_id, score)\n",
    "\n",
    "def load_movie_ratings(file_name):\n",
    "    f = open(file_name)\n",
    "    lines = iter(f)\n",
    "    col_names = \", \".join(next(lines)[:-1].split(\",\")[:-1])\n",
    "    print(\"The column names are: %s.\" % col_names)\n",
    "    data = [[float(x) if i == 2 else int(x)\n",
    "             for i, x in enumerate(line[:-1].split(\",\")[:-1])]\n",
    "            for line in lines]\n",
    "    f.close()\n",
    "\n",
    "    return data\n",
    "\n",
    "print(\"使用ALS算法\") "
   ],
   "outputs": [
    {
     "output_type": "stream",
     "name": "stdout",
     "text": [
      "使用ALS算法\n"
     ]
    }
   ],
   "metadata": {}
  },
  {
   "cell_type": "code",
   "execution_count": 24,
   "source": [
    "model = ALS()\n",
    "# 数据加载\n",
    "X = load_movie_ratings('../../resource/BI/ratings_small.csv')\n",
    "# 运行max_iter次\n",
    "model.fit(X, k=3, max_iter=2)\n",
    "\"\"\"\n",
    "X = np.array([[1,1,1], [1,2,1], [2,1,1], [2,3,1], [3,2,1], [3,3,1], [4,1,1], [4,2,1],\n",
    "              [5,4,1], [5,5,1], [6,4,1], [6,6,1], [7,5,1], [7,6,1], [8,4,1], [8,5,1], [9,4,1], [9,5,1],\n",
    "              [10,7,1], [10,8,1], [11,8,1], [11,9,1], [12,7,1], [12,9,1]])\n",
    "# 运行max_iter次\n",
    "model.fit(X, k=3, max_iter=20)\n",
    "\"\"\"\n",
    "\n",
    "print(\"对用户进行推荐\")\n",
    "user_ids = range(1, 13)"
   ],
   "outputs": [
    {
     "output_type": "stream",
     "name": "stdout",
     "text": [
      "The column names are: userId, movieId, rating.\n",
      "Iterations: 1, RMSE: 3.375661\n",
      "Iterations: 2, RMSE: 0.395286\n",
      "对用户进行推荐\n"
     ]
    }
   ],
   "metadata": {}
  },
  {
   "cell_type": "code",
   "execution_count": 25,
   "source": [
    "# 对用户列表user_ids，进行Top-n推荐\n",
    "predictions = model.predict(user_ids, n_items=2)\n",
    "print(predictions)\n",
    "for user_id, prediction in zip(user_ids, predictions):\n",
    "    _prediction = [format_prediction(item_id, score) for item_id, score in prediction]\n",
    "    print(\"User id:%d recommedation: %s\" % (user_id, _prediction))"
   ],
   "outputs": [
    {
     "output_type": "stream",
     "name": "stdout",
     "text": [
      "[[(260, 0.14031981423733164), (318, 0.12486798304652627)], [(318, 1.7245767387053548), (2571, 1.3687037435108)], [(608, 1.0768988580692154), (2571, 1.070778754286133)], [(318, 3.829669697446752), (593, 3.208594877642141)], [(296, 2.103868035382247), (318, 1.9594860569554633)], [(296, 0.6844967705829146), (356, 0.6829427884024489)], [(296, 1.8523707446141486), (593, 1.8264047704042852)], [(608, 2.395258773792518), (480, 2.324065485395044)], [(296, 1.1948003578443267), (356, 1.1883230582397688)], [(260, 0.9619263806907979), (593, 0.7943075839463384)], [(356, 0.49618595422528977), (318, 0.47365990861364876)], [(296, 0.45998936153410763), (356, 0.4595865349747814)]]\n",
      "User id:1 recommedation: ['item_id:260 score:0.14', 'item_id:318 score:0.12']\n",
      "User id:2 recommedation: ['item_id:318 score:1.72', 'item_id:2571 score:1.37']\n",
      "User id:3 recommedation: ['item_id:608 score:1.08', 'item_id:2571 score:1.07']\n",
      "User id:4 recommedation: ['item_id:318 score:3.83', 'item_id:593 score:3.21']\n",
      "User id:5 recommedation: ['item_id:296 score:2.10', 'item_id:318 score:1.96']\n",
      "User id:6 recommedation: ['item_id:296 score:0.68', 'item_id:356 score:0.68']\n",
      "User id:7 recommedation: ['item_id:296 score:1.85', 'item_id:593 score:1.83']\n",
      "User id:8 recommedation: ['item_id:608 score:2.40', 'item_id:480 score:2.32']\n",
      "User id:9 recommedation: ['item_id:296 score:1.19', 'item_id:356 score:1.19']\n",
      "User id:10 recommedation: ['item_id:260 score:0.96', 'item_id:593 score:0.79']\n",
      "User id:11 recommedation: ['item_id:356 score:0.50', 'item_id:318 score:0.47']\n",
      "User id:12 recommedation: ['item_id:296 score:0.46', 'item_id:356 score:0.46']\n"
     ]
    }
   ],
   "metadata": {}
  },
  {
   "cell_type": "code",
   "execution_count": 26,
   "source": [
    "### Pyspark ML ALS"
   ],
   "outputs": [],
   "metadata": {}
  },
  {
   "cell_type": "code",
   "execution_count": 30,
   "source": [
    "from pyspark.ml.recommendation import ALS\n",
    "from pyspark import SparkContext\n",
    "from pyspark.sql import SQLContext\n",
    "from pyspark.sql.types import *\n",
    "import pandas as pd"
   ],
   "outputs": [],
   "metadata": {}
  },
  {
   "cell_type": "code",
   "execution_count": 31,
   "source": [
    "sc = SparkContext()\n",
    "sql_sc = SQLContext(sc)"
   ],
   "outputs": [],
   "metadata": {}
  },
  {
   "cell_type": "code",
   "execution_count": 32,
   "source": [
    "pd_df_ratings = pd.read_csv('../../resource/BI/ratings_small.csv')\n",
    "pyspark_df_ratings = sql_sc.createDataFrame(pd_df_ratings)\n",
    "pyspark_df_ratings = pyspark_df_ratings.drop('Timestamp')\n",
    "#print(pyspark_df_ratings.show(5, truncate=False))"
   ],
   "outputs": [],
   "metadata": {}
  },
  {
   "cell_type": "code",
   "execution_count": 33,
   "source": [
    "# 创建ALS模型\n",
    "als = ALS(rank=3, maxIter = 10, regParam=0.1, userCol= 'userId', itemCol='movieId', ratingCol='rating')\n",
    "model = als.fit(pyspark_df_ratings)\n",
    "# 对userId=100进行Top-N推荐\n",
    "recommendations = model.recommendForAllUsers(5)\n",
    "print(recommendations.where(recommendations.userId == 100).collect())"
   ],
   "outputs": [
    {
     "output_type": "stream",
     "name": "stdout",
     "text": [
      "[Row(userId=100, recommendations=[Row(movieId=83318, rating=5.221715450286865), Row(movieId=83411, rating=5.221715450286865), Row(movieId=67504, rating=5.221715450286865), Row(movieId=83359, rating=5.221715450286865), Row(movieId=5765, rating=5.156681537628174)])]\n"
     ]
    }
   ],
   "metadata": {}
  },
  {
   "cell_type": "code",
   "execution_count": 36,
   "source": [
    "### 使用pyspark-ALS进行矩阵分解\n",
    "from pyspark import SparkContext\n",
    "from pyspark.mllib.recommendation import ALS\n",
    "print(\"使用Spark-ALS算法\") \n",
    "sc = SparkContext('local', 'MovieRec')"
   ],
   "outputs": [
    {
     "output_type": "stream",
     "name": "stdout",
     "text": [
      "使用Spark-ALS算法\n"
     ]
    },
    {
     "output_type": "error",
     "ename": "ValueError",
     "evalue": "Cannot run multiple SparkContexts at once; existing SparkContext(app=pyspark-shell, master=local[*]) created by __init__ at <ipython-input-31-6b96f4a63d29>:1 ",
     "traceback": [
      "\u001b[0;31m---------------------------------------------------------------------------\u001b[0m",
      "\u001b[0;31mValueError\u001b[0m                                Traceback (most recent call last)",
      "\u001b[0;32m<ipython-input-36-f075332e87c0>\u001b[0m in \u001b[0;36m<module>\u001b[0;34m\u001b[0m\n\u001b[1;32m      3\u001b[0m \u001b[0;32mfrom\u001b[0m \u001b[0mpyspark\u001b[0m\u001b[0;34m.\u001b[0m\u001b[0mmllib\u001b[0m\u001b[0;34m.\u001b[0m\u001b[0mrecommendation\u001b[0m \u001b[0;32mimport\u001b[0m \u001b[0mALS\u001b[0m\u001b[0;34m\u001b[0m\u001b[0;34m\u001b[0m\u001b[0m\n\u001b[1;32m      4\u001b[0m \u001b[0mprint\u001b[0m\u001b[0;34m(\u001b[0m\u001b[0;34m\"使用Spark-ALS算法\"\u001b[0m\u001b[0;34m)\u001b[0m\u001b[0;34m\u001b[0m\u001b[0;34m\u001b[0m\u001b[0m\n\u001b[0;32m----> 5\u001b[0;31m \u001b[0msc\u001b[0m \u001b[0;34m=\u001b[0m \u001b[0mSparkContext\u001b[0m\u001b[0;34m(\u001b[0m\u001b[0;34m'local'\u001b[0m\u001b[0;34m,\u001b[0m \u001b[0;34m'MovieRec'\u001b[0m\u001b[0;34m)\u001b[0m\u001b[0;34m\u001b[0m\u001b[0;34m\u001b[0m\u001b[0m\n\u001b[0m",
      "\u001b[0;32m~/opt/anaconda3/envs/tensorflow/lib/python3.7/site-packages/pyspark/context.py\u001b[0m in \u001b[0;36m__init__\u001b[0;34m(self, master, appName, sparkHome, pyFiles, environment, batchSize, serializer, conf, gateway, jsc, profiler_cls)\u001b[0m\n\u001b[1;32m    142\u001b[0m                 \" is not allowed as it is a security risk.\")\n\u001b[1;32m    143\u001b[0m \u001b[0;34m\u001b[0m\u001b[0m\n\u001b[0;32m--> 144\u001b[0;31m         \u001b[0mSparkContext\u001b[0m\u001b[0;34m.\u001b[0m\u001b[0m_ensure_initialized\u001b[0m\u001b[0;34m(\u001b[0m\u001b[0mself\u001b[0m\u001b[0;34m,\u001b[0m \u001b[0mgateway\u001b[0m\u001b[0;34m=\u001b[0m\u001b[0mgateway\u001b[0m\u001b[0;34m,\u001b[0m \u001b[0mconf\u001b[0m\u001b[0;34m=\u001b[0m\u001b[0mconf\u001b[0m\u001b[0;34m)\u001b[0m\u001b[0;34m\u001b[0m\u001b[0;34m\u001b[0m\u001b[0m\n\u001b[0m\u001b[1;32m    145\u001b[0m         \u001b[0;32mtry\u001b[0m\u001b[0;34m:\u001b[0m\u001b[0;34m\u001b[0m\u001b[0;34m\u001b[0m\u001b[0m\n\u001b[1;32m    146\u001b[0m             self._do_init(master, appName, sparkHome, pyFiles, environment, batchSize, serializer,\n",
      "\u001b[0;32m~/opt/anaconda3/envs/tensorflow/lib/python3.7/site-packages/pyspark/context.py\u001b[0m in \u001b[0;36m_ensure_initialized\u001b[0;34m(cls, instance, gateway, conf)\u001b[0m\n\u001b[1;32m    345\u001b[0m                         \u001b[0;34m\" created by %s at %s:%s \"\u001b[0m\u001b[0;34m\u001b[0m\u001b[0;34m\u001b[0m\u001b[0m\n\u001b[1;32m    346\u001b[0m                         % (currentAppName, currentMaster,\n\u001b[0;32m--> 347\u001b[0;31m                             callsite.function, callsite.file, callsite.linenum))\n\u001b[0m\u001b[1;32m    348\u001b[0m                 \u001b[0;32melse\u001b[0m\u001b[0;34m:\u001b[0m\u001b[0;34m\u001b[0m\u001b[0;34m\u001b[0m\u001b[0m\n\u001b[1;32m    349\u001b[0m                     \u001b[0mSparkContext\u001b[0m\u001b[0;34m.\u001b[0m\u001b[0m_active_spark_context\u001b[0m \u001b[0;34m=\u001b[0m \u001b[0minstance\u001b[0m\u001b[0;34m\u001b[0m\u001b[0;34m\u001b[0m\u001b[0m\n",
      "\u001b[0;31mValueError\u001b[0m: Cannot run multiple SparkContexts at once; existing SparkContext(app=pyspark-shell, master=local[*]) created by __init__ at <ipython-input-31-6b96f4a63d29>:1 "
     ]
    }
   ],
   "metadata": {}
  },
  {
   "cell_type": "code",
   "execution_count": 37,
   "source": [
    "# 读取数据，需要第一行不是列名\n",
    "rawUserData = temp = sc.textFile('../../resource/BI/ratings_small_without_header.csv')\n",
    "print(rawUserData.count())\n",
    "print(rawUserData.first())\n",
    "\n",
    "rawRatings = rawUserData.map(lambda line: line.split(\",\")[:3])\n",
    "print(rawRatings.take(5))\n",
    "training_RDD = rawRatings.map(lambda x: (x[0], x[1], x[2]))\n",
    "\n",
    "# 模型训练\n",
    "rank = 3\n",
    "model = ALS.train(training_RDD, rank, seed=5, iterations=10, lambda_=0.1)\n",
    "# 针对user_id = 100的用户进行Top-N推荐\n",
    "print(model.recommendProducts(100, 5))"
   ],
   "outputs": [
    {
     "output_type": "stream",
     "name": "stdout",
     "text": [
      "100004\n",
      "1,31,2.5,1260759144\n",
      "[['1', '31', '2.5'], ['1', '1029', '3.0'], ['1', '1061', '3.0'], ['1', '1129', '2.0'], ['1', '1172', '4.0']]\n",
      "[Rating(user=100, product=83359, rating=5.256458984455776), Rating(user=100, product=67504, rating=5.256458984455776), Rating(user=100, product=83318, rating=5.256458984455776), Rating(user=100, product=83411, rating=5.256458984455776), Rating(user=100, product=92494, rating=5.031693543013944)]\n"
     ]
    }
   ],
   "metadata": {}
  },
  {
   "cell_type": "code",
   "execution_count": 38,
   "source": [
    "### Surprise Baseline"
   ],
   "outputs": [],
   "metadata": {}
  },
  {
   "cell_type": "code",
   "execution_count": 41,
   "source": [
    "#from surprise import SVD\n",
    "from surprise import Dataset\n",
    "from surprise import Reader\n",
    "from surprise import BaselineOnly, KNNBasic, NormalPredictor\n",
    "from surprise import accuracy\n",
    "from surprise.model_selection import KFold\n",
    "#import pandas as pd"
   ],
   "outputs": [],
   "metadata": {}
  },
  {
   "cell_type": "code",
   "execution_count": 42,
   "source": [
    "# 数据读取\n",
    "reader = Reader(line_format='user item rating timestamp', sep=',', skip_lines=1)\n",
    "data = Dataset.load_from_file('../../resource/BI/ratings.csv', reader=reader)\n",
    "train_set = data.build_full_trainset()"
   ],
   "outputs": [],
   "metadata": {}
  },
  {
   "cell_type": "code",
   "execution_count": 43,
   "source": [
    "# ALS优化\n",
    "bsl_options = {'method': 'als','n_epochs': 5,'reg_u': 12,'reg_i': 5}\n",
    "# SGD优化\n",
    "#bsl_options = {'method': 'sgd','n_epochs': 5}\n",
    "algo = BaselineOnly(bsl_options=bsl_options)\n",
    "#algo = BaselineOnly()\n",
    "#algo = NormalPredictor()\n",
    "\n",
    "# 定义K折交叉验证迭代器，K=3\n",
    "kf = KFold(n_splits=3)\n",
    "for trainset, testset in kf.split(data):\n",
    "    # 训练并预测\n",
    "    algo.fit(trainset)\n",
    "    predictions = algo.test(testset)\n",
    "    # 计算RMSE\n",
    "    accuracy.rmse(predictions, verbose=True)\n",
    "\n",
    "uid = str(196)\n",
    "iid = str(302)\n",
    "# 输出uid对iid的预测结果\n",
    "pred = algo.predict(uid, iid, r_ui=4, verbose=True)"
   ],
   "outputs": [
    {
     "output_type": "stream",
     "name": "stdout",
     "text": [
      "Estimating biases using als...\n",
      "RMSE: 0.8628\n",
      "Estimating biases using als...\n",
      "RMSE: 0.8661\n",
      "Estimating biases using als...\n",
      "RMSE: 0.8632\n",
      "user: 196        item: 302        r_ui = 4.00   est = 4.11   {'was_impossible': False}\n"
     ]
    }
   ],
   "metadata": {}
  },
  {
   "cell_type": "code",
   "execution_count": 44,
   "source": [
    "### Surprise Shopeone"
   ],
   "outputs": [],
   "metadata": {}
  },
  {
   "cell_type": "code",
   "execution_count": 46,
   "source": [
    "from surprise import SVD\n",
    "from surprise import Dataset\n",
    "from surprise.model_selection import cross_validate\n",
    "#from surprise import evaluate, print_perf\n",
    "from surprise import Reader\n",
    "from surprise import BaselineOnly, KNNBasic, KNNBaseline, SlopeOne\n",
    "from surprise import accuracy\n",
    "from surprise.model_selection import KFold\n",
    "import pandas as pd\n",
    "import io"
   ],
   "outputs": [],
   "metadata": {}
  },
  {
   "cell_type": "code",
   "execution_count": 47,
   "source": [
    "# 读取物品（电影）名称信息\n",
    "def read_item_names():\n",
    "    file_name = ('../../resource/BI/movies.csv') \n",
    "    data = pd.read_csv('../../resource/BI/movies.csv')\n",
    "    rid_to_name = {}\n",
    "    name_to_rid = {}\n",
    "    for i in range(len(data['movieId'])):\n",
    "        rid_to_name[data['movieId'][i]] = data['title'][i]\n",
    "        name_to_rid[data['title'][i]] = data['movieId'][i]\n",
    "\n",
    "    return rid_to_name, name_to_rid \n",
    "\n"
   ],
   "outputs": [],
   "metadata": {}
  },
  {
   "cell_type": "code",
   "execution_count": 48,
   "source": [
    "# 数据读取\n",
    "reader = Reader(line_format='user item rating timestamp', sep=',', skip_lines=1)\n",
    "data = Dataset.load_from_file('../../resource/BI/ratings.csv', reader=reader)\n",
    "train_set = data.build_full_trainset()\n",
    "\n",
    "\n",
    "# 使用SlopeOne算法\n",
    "algo = SlopeOne()\n",
    "algo.fit(train_set)\n",
    "# 对指定用户和商品进行评分预测\n",
    "uid = str(196) \n",
    "iid = str(302) \n",
    "pred = algo.predict(uid, iid, r_ui=4, verbose=True)"
   ],
   "outputs": [
    {
     "output_type": "stream",
     "name": "stderr",
     "text": [
      "/Users/du/opt/anaconda3/envs/tensorflow/lib/python3.7/site-packages/ipykernel_launcher.py:9: DeprecationWarning: `np.int` is a deprecated alias for the builtin `int`. To silence this warning, use `int` by itself. Doing this will not modify any behavior and is safe. When replacing `np.int`, you may wish to use e.g. `np.int64` or `np.int32` to specify the precision. If you wish to review your current use, check the release note link for additional information.\n",
      "Deprecated in NumPy 1.20; for more details and guidance: https://numpy.org/devdocs/release/1.20.0-notes.html#deprecations\n",
      "  if __name__ == '__main__':\n"
     ]
    },
    {
     "output_type": "stream",
     "name": "stdout",
     "text": [
      "user: 196        item: 302        r_ui = 4.00   est = 4.32   {'was_impossible': False}\n"
     ]
    }
   ],
   "metadata": {}
  },
  {
   "cell_type": "code",
   "execution_count": 73,
   "source": [
    "## ALS预测"
   ],
   "outputs": [],
   "metadata": {}
  },
  {
   "cell_type": "code",
   "execution_count": 74,
   "source": [
    "import pandas as pd\n",
    "import numpy as np\n",
    "import random\n",
    "from collections import defaultdict\n",
    "from itertools import product, chain\n",
    "from copy import deepcopy"
   ],
   "outputs": [],
   "metadata": {}
  },
  {
   "cell_type": "code",
   "execution_count": 75,
   "source": [
    "class Matrix(object):\n",
    "    def __init__(self, data):\n",
    "        self.data = data\n",
    "        self.shape = (len(data), len(data[0]))\n",
    "\n",
    "    def row(self, row_no):\n",
    "        \"\"\"Get a row of the matrix.\n",
    "        Arguments:\n",
    "            row_no {int} -- Row number of the matrix.\n",
    "        Returns:\n",
    "            Matrix\n",
    "        \"\"\"\n",
    "\n",
    "        return Matrix([self.data[row_no]])\n",
    "\n",
    "    def col(self, col_no):\n",
    "        \"\"\"Get a column of the matrix.\n",
    "        Arguments:\n",
    "            col_no {int} -- Column number of the matrix.\n",
    "        Returns:\n",
    "            Matrix\n",
    "        \"\"\"\n",
    "        m = self.shape[0]\n",
    "        return Matrix([[self.data[i][col_no]] for i in range(m)])\n",
    "\n",
    "    @property\n",
    "    def is_square(self):\n",
    "        \"\"\"Check if the matrix is a square matrix.\n",
    "        Returns:\n",
    "            bool\n",
    "        \"\"\"\n",
    "\n",
    "        return self.shape[0] == self.shape[1]\n",
    "\n",
    "    @property\n",
    "    def transpose(self):\n",
    "        \"\"\"Find the transpose of the original matrix.\n",
    "        Returns:\n",
    "            Matrix\n",
    "        \"\"\"\n",
    "\n",
    "        data = list(map(list, zip(*self.data)))\n",
    "        return Matrix(data)\n",
    "\n",
    "    def _eye(self, n):\n",
    "        \"\"\"Get a unit matrix with shape (n, n).\n",
    "        Arguments:\n",
    "            n {int} -- Rank of unit matrix.\n",
    "        Returns:\n",
    "            list\n",
    "        \"\"\"\n",
    "\n",
    "        return [[0 if i != j else 1 for j in range(n)] for i in range(n)]\n",
    "\n",
    "    @property\n",
    "    def eye(self):\n",
    "        \"\"\"Get a unit matrix with the same shape of self.\n",
    "        Returns:\n",
    "            Matrix\n",
    "        \"\"\"\n",
    "\n",
    "        assert self.is_square, \"The matrix has to be square!\"\n",
    "        data = self._eye(self.shape[0])\n",
    "        return Matrix(data)\n",
    "\n",
    "    def _gaussian_elimination(self, aug_matrix):\n",
    "        \"\"\"To simplify the left square matrix of the augmented matrix\n",
    "        as a unit diagonal matrix.\n",
    "        Arguments:\n",
    "            aug_matrix {list} -- 2d list with int or float.\n",
    "        Returns:\n",
    "            list -- 2d list with int or float.\n",
    "        \"\"\"\n",
    "\n",
    "        n = len(aug_matrix)\n",
    "        m = len(aug_matrix[0])\n",
    "\n",
    "        # From top to bottom.\n",
    "        for col_idx in range(n):\n",
    "            # Check if element on the diagonal is zero.\n",
    "            if aug_matrix[col_idx][col_idx] == 0:\n",
    "                row_idx = col_idx\n",
    "                # Find a row whose element has same column index with\n",
    "                # the element on the diagonal is not zero.\n",
    "                while row_idx < n and aug_matrix[row_idx][col_idx] == 0:\n",
    "                    row_idx += 1\n",
    "                # Add this row to the row of the element on the diagonal.\n",
    "                for i in range(col_idx, m):\n",
    "                    aug_matrix[col_idx][i] += aug_matrix[row_idx][i]\n",
    "\n",
    "            # Elimiate the non-zero element.\n",
    "            for i in range(col_idx + 1, n):\n",
    "                # Skip the zero element.\n",
    "                if aug_matrix[i][col_idx] == 0:\n",
    "                    continue\n",
    "                # Elimiate the non-zero element.\n",
    "                k = aug_matrix[i][col_idx] / aug_matrix[col_idx][col_idx]\n",
    "                for j in range(col_idx, m):\n",
    "                    aug_matrix[i][j] -= k * aug_matrix[col_idx][j]\n",
    "\n",
    "        # From bottom to top.\n",
    "        for col_idx in range(n - 1, -1, -1):\n",
    "            # Elimiate the non-zero element.\n",
    "            for i in range(col_idx):\n",
    "                # Skip the zero element.\n",
    "                if aug_matrix[i][col_idx] == 0:\n",
    "                    continue\n",
    "                # Elimiate the non-zero element.\n",
    "                k = aug_matrix[i][col_idx] / aug_matrix[col_idx][col_idx]\n",
    "                for j in chain(range(i, col_idx + 1), range(n, m)):\n",
    "                    aug_matrix[i][j] -= k * aug_matrix[col_idx][j]\n",
    "\n",
    "        # Iterate the element on the diagonal.\n",
    "        for i in range(n):\n",
    "            k = 1 / aug_matrix[i][i]\n",
    "            aug_matrix[i][i] *= k\n",
    "            for j in range(n, m):\n",
    "                aug_matrix[i][j] *= k\n",
    "\n",
    "        return aug_matrix\n",
    "\n",
    "    def _inverse(self, data):\n",
    "        \"\"\"Find the inverse of a matrix.\n",
    "        Arguments:\n",
    "            data {list} -- 2d list with int or float.\n",
    "        Returns:\n",
    "            list -- 2d list with int or float.\n",
    "        \"\"\"\n",
    "\n",
    "        n = len(data)\n",
    "        unit_matrix = self._eye(n)\n",
    "        aug_matrix = [a + b for a, b in zip(self.data, unit_matrix)]\n",
    "        ret = self._gaussian_elimination(aug_matrix)\n",
    "        return list(map(lambda x: x[n:], ret))\n",
    "\n",
    "    @property\n",
    "    def inverse(self):\n",
    "        \"\"\"Find the inverse matrix of self.\n",
    "        Returns:\n",
    "            Matrix\n",
    "        \"\"\"\n",
    "\n",
    "        assert self.is_square, \"The matrix has to be square!\"\n",
    "        data = self._inverse(self.data)\n",
    "        return Matrix(data)\n",
    "\n",
    "    def _row_mul(self, row_A, row_B):\n",
    "        \"\"\"Multiply the elements with the same subscript in both arrays and sum them.\n",
    "        Arguments:\n",
    "            row_A {list} -- 1d list with float or int.\n",
    "            row_B {list} -- 1d list with float or int.\n",
    "        Returns:\n",
    "            float or int\n",
    "        \"\"\"\n",
    "\n",
    "        return sum(x[0] * x[1] for x in zip(row_A, row_B))\n",
    "\n",
    "    def _mat_mul(self, row_A, B):\n",
    "        \"\"\"An auxiliary function of the mat_mul function.\n",
    "        Arguments:\n",
    "            row_A {list} -- 1d list with float or int.\n",
    "            B {Matrix}\n",
    "        Returns:\n",
    "            list -- 1d list with float or int.\n",
    "        \"\"\"\n",
    "\n",
    "        row_pairs = product([row_A], B.transpose.data)\n",
    "        return [self._row_mul(*row_pair) for row_pair in row_pairs]\n",
    "\n",
    "    def mat_mul(self, B):\n",
    "        \"\"\"Matrix multiplication.\n",
    "        Arguments:\n",
    "            B {Matrix}\n",
    "        Returns:\n",
    "            Matrix\n",
    "        \"\"\"\n",
    "\n",
    "        error_msg = \"A's column count does not match B's row count!\"\n",
    "        assert self.shape[1] == B.shape[0], error_msg\n",
    "        return Matrix([self._mat_mul(row_A, B) for row_A in self.data])\n",
    "\n",
    "    def _mean(self, data):\n",
    "        \"\"\"Calculate the average of all the samples.\n",
    "        Arguments:\n",
    "            X {list} -- 2d list with int or float.\n",
    "        Returns:\n",
    "            list -- 1d list with int or float.\n",
    "        \"\"\"\n",
    "\n",
    "        m = len(data)\n",
    "        n = len(data[0])\n",
    "        ret = [0 for _ in range(n)]\n",
    "        for row in data:\n",
    "            for j in range(n):\n",
    "                ret[j] += row[j] / m\n",
    "        return ret\n",
    "\n",
    "    def mean(self):\n",
    "        \"\"\"Calculate the average of all the samples.\n",
    "        Returns:\n",
    "            Matrix\n",
    "        \"\"\"\n",
    "\n",
    "        return Matrix(self._mean(self.data))\n",
    "\n",
    "    def scala_mul(self, scala):\n",
    "        \"\"\"Scala multiplication.\n",
    "        Arguments:\n",
    "            scala {float}\n",
    "        Returns:\n",
    "            Matrix\n",
    "        \"\"\"\n",
    "\n",
    "        m, n = self.shape\n",
    "        data = deepcopy(self.data)\n",
    "        for i in range(m):\n",
    "            for j in range(n):\n",
    "                data[i][j] *= scala\n",
    "        return Matrix(data)\n"
   ],
   "outputs": [],
   "metadata": {}
  },
  {
   "cell_type": "code",
   "execution_count": 76,
   "source": [
    "def load_movie_ratings():\n",
    "    \"\"\"\n",
    "    导入数据\n",
    "    并返回矩阵\n",
    "    \"\"\"\n",
    "    with open(\"../../resource/BI/ratings.csv\") as ff:\n",
    "        lines = iter(ff)\n",
    "        col_names = \", \".join(next(lines)[:-1].split(\",\")[:-1])\n",
    "        data = [[float(x) if i == 2 else int(x)\n",
    "             for i, x in enumerate(line[:-1].split(\",\")[:-1])]\n",
    "            for line in lines]\n",
    "    return data"
   ],
   "outputs": [],
   "metadata": {}
  },
  {
   "cell_type": "code",
   "execution_count": 77,
   "source": [
    "class ALS(object):\n",
    "    def __init__(self):\n",
    "        self.user_ids = None\n",
    "        self.item_ids = None\n",
    "        self.user_ids_dict = None\n",
    "        self.item_ids_dict = None\n",
    "        self.user_matrix = None\n",
    "        self.item_matrix = None\n",
    "        self.user_items = None\n",
    "        self.shape = None\n",
    "        self.rmse = None\n",
    "\n",
    "\n",
    "    def _process_data(self, X):\n",
    "        \"\"\" 将评分矩阵X转化为稀疏矩阵\n",
    "            输入参数X:\n",
    "                X {list} -- 2d list with int or float(user_id, item_id, rating)\n",
    "            输出结果:\n",
    "                dict -- {user_id: {item_id: rating}}\n",
    "                dict -- {item_id: {user_id: rating}}\n",
    "        \"\"\"\n",
    "        self.user_ids = tuple((set(map(lambda x: x[0], X))))\n",
    "        self.user_ids_dict = dict(map(lambda x: x[::-1], enumerate(self.user_ids)))\n",
    "\n",
    "        self.item_ids = tuple((set(map(lambda x: x[1], X))))\n",
    "        self.item_ids_dict = dict(map(lambda x: x[::-1], enumerate(self.item_ids)))\n",
    "\n",
    "        self.shape = (len(self.user_ids), len(self.item_ids))\n",
    "\n",
    "        ratings = defaultdict(lambda: defaultdict(int))\n",
    "        ratings_T = defaultdict(lambda: defaultdict(int))\n",
    "        for row in X:\n",
    "            user_id, item_id, rating = row\n",
    "            ratings[user_id][item_id] = rating\n",
    "            ratings_T[item_id][user_id] = rating\n",
    "\n",
    "        err_msg = \"Length of user_ids %d and ratings %d not match!\" % (len(self.user_ids), len(ratings))\n",
    "        assert len(self.user_ids) == len(ratings), err_msg\n",
    "\n",
    "        err_msg = \"Length of item_ids %d and ratings_T %d not match!\" % (len(self.item_ids), len(ratings_T))\n",
    "        assert len(self.item_ids) == len(ratings_T), err_msg\n",
    "        return ratings, ratings_T\n",
    "\n",
    "\n",
    "    def _users_mul_ratings(self, users, ratings_T):\n",
    "        \"\"\" 用户矩阵(稠密) 与 评分矩阵（稀疏）相乘\n",
    "            The result(items) is a k * n matrix, n stands for number of item_ids.\n",
    "            Arguments:\n",
    "                users {Matrix} -- k * m matrix, m stands for number of user_ids.\n",
    "                ratings_T {dict} -- The items ratings by users.\n",
    "                {item_id: {user_id: rating}}\n",
    "            Returns:\n",
    "                Matrix -- Item matrix.\n",
    "        \"\"\"\n",
    "        def f(users_row, item_id):\n",
    "            user_ids = iter(ratings_T[item_id].keys())\n",
    "            scores = iter(ratings_T[item_id].values())\n",
    "            col_nos = map(lambda x: self.user_ids_dict[x], user_ids)\n",
    "            _users_row = map(lambda x: users_row[x], col_nos)\n",
    "            return sum(a * b for a, b in zip(_users_row, scores))\n",
    "\n",
    "        ret = [[f(users_row, item_id) for item_id in self.item_ids] for users_row in users.data]\n",
    "        return Matrix(ret)\n",
    "\n",
    "    def _items_mul_ratings(self, items, ratings):\n",
    "        \"\"\" item矩阵（稠密）与评分矩阵（稀疏）相乘\n",
    "        The result(users) is a k * m matrix, m stands for number of user_ids.\n",
    "        Arguments:\n",
    "            items {Matrix} -- k * n matrix, n stands for number of item_ids.\n",
    "            ratings {dict} -- The items ratings by users.\n",
    "            {user_id: {item_id: rating}}\n",
    "        Returns:\n",
    "            Matrix -- User matrix.\n",
    "        \"\"\"\n",
    "        def f(items_row, user_id):\n",
    "            item_ids = iter(ratings[user_id].keys())\n",
    "            scores = iter(ratings[user_id].values())\n",
    "            col_nos = map(lambda x: self.item_ids_dict[x], item_ids)\n",
    "            _items_row = map(lambda x: items_row[x], col_nos)\n",
    "            return sum(a * b for a, b in zip(_items_row, scores))\n",
    "\n",
    "        ret = [[f(items_row, user_id) for user_id in self.user_ids] for items_row in items.data]\n",
    "        return Matrix(ret)\n",
    "\n",
    "    # 生成随机矩阵\n",
    "    def _gen_random_matrix(self, n_rows, n_colums):\n",
    "        #print(n_colums, ' ', n_rows)\n",
    "        #data = [[random() for _ in range(n_colums)] for _ in range(n_rows)]\n",
    "        #d = 2\n",
    "        data = np.random.rand(n_rows, n_colums)\n",
    "        return Matrix(data)\n",
    "\n",
    "\n",
    "    # 计算RMSE\n",
    "    def _get_rmse(self, ratings):\n",
    "            m, n = self.shape\n",
    "            mse = 0.0\n",
    "            n_elements = sum(map(len, ratings.values()))\n",
    "            for i in range(m):\n",
    "                for j in range(n):\n",
    "                    user_id = self.user_ids[i]\n",
    "                    item_id = self.item_ids[j]\n",
    "                    rating = ratings[user_id][item_id]\n",
    "                    if rating > 0:\n",
    "                        user_row = self.user_matrix.col(i).transpose\n",
    "                        item_col = self.item_matrix.col(j)\n",
    "                        rating_hat = user_row.mat_mul(item_col).data[0][0]\n",
    "                        square_error = (rating - rating_hat) ** 2\n",
    "                        mse += square_error / n_elements\n",
    "            return mse ** 0.5\n",
    "\n",
    "    # 模型训练\n",
    "    def fit(self, X, k, max_iter=10):\n",
    "        ratings, ratings_T = self._process_data(X)\n",
    "        self.user_items = {k: set(v.keys()) for k, v in ratings.items()}\n",
    "        m, n = self.shape\n",
    "\n",
    "        error_msg = \"Parameter k must be less than the rank of original matrix\"\n",
    "        assert k < min(m, n), error_msg\n",
    "\n",
    "        self.user_matrix = self._gen_random_matrix(k, m)\n",
    "\n",
    "        for i in range(max_iter):\n",
    "            if i % 2:\n",
    "                items = self.item_matrix\n",
    "                self.user_matrix = self._items_mul_ratings(\n",
    "                    items.mat_mul(items.transpose).inverse.mat_mul(items),\n",
    "                    ratings\n",
    "                )\n",
    "            else:\n",
    "                users = self.user_matrix\n",
    "                self.item_matrix = self._users_mul_ratings(\n",
    "                    users.mat_mul(users.transpose).inverse.mat_mul(users),\n",
    "                    ratings_T\n",
    "                )\n",
    "            rmse = self._get_rmse(ratings)\n",
    "            print(\"Iterations: %d, RMSE: %.6f\" % (i + 1, rmse))\n",
    "\n",
    "        self.rmse = rmse\n",
    "\n",
    "    # Top-n推荐，用户列表：user_id, n_items: Top-n\n",
    "    def _predict(self, user_id, n_items):\n",
    "        users_col = self.user_matrix.col(self.user_ids_dict[user_id])\n",
    "        users_col = users_col.transpose\n",
    "\n",
    "        items_col = enumerate(users_col.mat_mul(self.item_matrix).data[0])\n",
    "        items_scores = map(lambda x: (self.item_ids[x[0]], x[1]), items_col)\n",
    "        viewed_items = self.user_items[user_id]\n",
    "        items_scores = filter(lambda x: x[0] not in viewed_items, items_scores)\n",
    "\n",
    "        return sorted(items_scores, key=lambda x: x[1], reverse=True)[:n_items]\n",
    "\n",
    "    # 预测多个用户\n",
    "    def predict(self, user_ids, n_items=10):\n",
    "        return [self._predict(user_id, n_items) for user_id in user_ids]"
   ],
   "outputs": [],
   "metadata": {}
  },
  {
   "cell_type": "code",
   "execution_count": 78,
   "source": [
    "def format_prediction(item_id, score):\n",
    "    return \"item_id:%d score:%.2f\" % (item_id, score)"
   ],
   "outputs": [],
   "metadata": {}
  },
  {
   "cell_type": "code",
   "execution_count": 79,
   "source": [
    "def main():\n",
    "    print('使用ALS算法')\n",
    "    #ALS算法通过将大而空的矩阵进行分解成为2个矩阵 使矩阵相乘的值尽可能的与原始矩阵接近，从而对其它用户进行预测\n",
    "    data=load_movie_ratings()\n",
    "    model = ALS()\n",
    "    model.fit(data, k=3, max_iter=2)\n",
    "    user_ids = range(1, 13)\n",
    "    predictions = model.predict(user_ids, n_items=2)\n",
    "    for user_id, prediction in zip(user_ids, predictions):\n",
    "        _prediction = [format_prediction(item_id, score) for item_id, score in prediction]\n",
    "        print(\"User id:%d recommedation: %s\" % (user_id, _prediction))\n"
   ],
   "outputs": [],
   "metadata": {}
  },
  {
   "cell_type": "code",
   "execution_count": 80,
   "source": [
    "main()"
   ],
   "outputs": [
    {
     "output_type": "stream",
     "name": "stdout",
     "text": [
      "使用ALS算法\n",
      "Iterations: 1, RMSE: 3.359411\n",
      "Iterations: 2, RMSE: 0.313518\n",
      "User id:1 recommedation: ['item_id:356 score:2.54', 'item_id:2571 score:2.41']\n",
      "User id:2 recommedation: ['item_id:356 score:1.02', 'item_id:296 score:1.00']\n",
      "User id:3 recommedation: ['item_id:356 score:3.37', 'item_id:296 score:3.27']\n",
      "User id:4 recommedation: ['item_id:318 score:1.02', 'item_id:110 score:0.75']\n",
      "User id:5 recommedation: ['item_id:356 score:2.30', 'item_id:296 score:2.26']\n",
      "User id:6 recommedation: ['item_id:318 score:0.55', 'item_id:356 score:0.52']\n",
      "User id:7 recommedation: ['item_id:296 score:2.79', 'item_id:593 score:2.60']\n",
      "User id:8 recommedation: ['item_id:318 score:3.66', 'item_id:50 score:2.34']\n",
      "User id:9 recommedation: ['item_id:2571 score:0.40', 'item_id:260 score:0.39']\n",
      "User id:10 recommedation: ['item_id:296 score:1.00', 'item_id:593 score:0.92']\n",
      "User id:11 recommedation: ['item_id:50 score:3.97', 'item_id:457 score:3.55']\n",
      "User id:12 recommedation: ['item_id:318 score:1.64', 'item_id:296 score:1.24']\n"
     ]
    }
   ],
   "metadata": {}
  },
  {
   "cell_type": "code",
   "execution_count": 81,
   "source": [
    "## 句子生成器"
   ],
   "outputs": [],
   "metadata": {}
  },
  {
   "cell_type": "code",
   "execution_count": 82,
   "source": [
    "import random"
   ],
   "outputs": [],
   "metadata": {}
  },
  {
   "cell_type": "code",
   "execution_count": 83,
   "source": [
    "#自定义语法树\n",
    "grammar = '''\n",
    "战斗 => 施法  ， 结果 。\n",
    "施法 => 主语 动作 技能 \n",
    "结果 => 主语 获得 效果\n",
    "主语 => 张飞 | 关羽 | 赵云 | 典韦 | 许褚 | 刘备 | 黄忠 | 曹操 | 鲁班七号 | 貂蝉\n",
    "动作 => 施放 | 使用 | 召唤 \n",
    "技能 => 一骑当千 | 单刀赴会 | 青龙偃月 | 刀锋铁骑 | 黑暗潜能 | 画地为牢 | 守护机关 | 狂兽血性 | 龙鸣 | 惊雷之龙 | 破云之龙 | 天翔之龙\n",
    "获得 => 损失 | 获得 \n",
    "效果 => 数值 状态\n",
    "数值 => 1 | 1000 |5000 | 100 \n",
    "状态 => 法力 | 生命\n",
    "'''"
   ],
   "outputs": [],
   "metadata": {}
  },
  {
   "cell_type": "code",
   "execution_count": 84,
   "source": [
    "# 得到语法字典\n",
    "def getGrammarDict(gram, linesplit = \"\\n\", gramsplit = \"=>\"):\n",
    "    #定义字典\n",
    "    result = {}\n",
    "    for line in gram.split(linesplit):\n",
    "        # 去掉首尾空格后，如果为空则退出\n",
    "        if not line.strip(): \n",
    "            continue\n",
    "        expr, statement = line.split(gramsplit)\n",
    "        result[expr.strip()] = [i.split() for i in statement.split(\"|\")]\n",
    "    #print(result)\n",
    "    return result"
   ],
   "outputs": [],
   "metadata": {}
  },
  {
   "cell_type": "code",
   "execution_count": 85,
   "source": [
    "result=getGrammarDict(grammar)\n",
    "result"
   ],
   "outputs": [
    {
     "output_type": "execute_result",
     "data": {
      "text/plain": [
       "{'战斗': [['施法', '，', '结果', '。']],\n",
       " '施法': [['主语', '动作', '技能']],\n",
       " '结果': [['主语', '获得', '效果']],\n",
       " '主语': [['张飞'],\n",
       "  ['关羽'],\n",
       "  ['赵云'],\n",
       "  ['典韦'],\n",
       "  ['许褚'],\n",
       "  ['刘备'],\n",
       "  ['黄忠'],\n",
       "  ['曹操'],\n",
       "  ['鲁班七号'],\n",
       "  ['貂蝉']],\n",
       " '动作': [['施放'], ['使用'], ['召唤']],\n",
       " '技能': [['一骑当千'],\n",
       "  ['单刀赴会'],\n",
       "  ['青龙偃月'],\n",
       "  ['刀锋铁骑'],\n",
       "  ['黑暗潜能'],\n",
       "  ['画地为牢'],\n",
       "  ['守护机关'],\n",
       "  ['狂兽血性'],\n",
       "  ['龙鸣'],\n",
       "  ['惊雷之龙'],\n",
       "  ['破云之龙'],\n",
       "  ['天翔之龙']],\n",
       " '获得': [['损失'], ['获得']],\n",
       " '效果': [['数值', '状态']],\n",
       " '数值': [['1'], ['1000'], ['5000'], ['100']],\n",
       " '状态': [['法力'], ['生命']]}"
      ]
     },
     "metadata": {},
     "execution_count": 85
    }
   ],
   "metadata": {}
  },
  {
   "cell_type": "code",
   "execution_count": 86,
   "source": [
    "# 生成句子\n",
    "def generate(gramdict, target, isEng = False):\n",
    "    if target not in gramdict: \n",
    "        return target\n",
    "    find = random.choice(gramdict[target])\n",
    "    blank = ''\n",
    "    return blank.join(generate(gramdict, t, isEng) for t in find)"
   ],
   "outputs": [],
   "metadata": {}
  },
  {
   "cell_type": "code",
   "execution_count": 87,
   "source": [
    "print(generate(result,\"战斗\"))"
   ],
   "outputs": [
    {
     "output_type": "stream",
     "name": "stdout",
     "text": [
      "许褚召唤狂兽血性，鲁班七号损失1法力。\n"
     ]
    }
   ],
   "metadata": {}
  },
  {
   "cell_type": "code",
   "execution_count": null,
   "source": [],
   "outputs": [],
   "metadata": {}
  }
 ],
 "metadata": {
  "orig_nbformat": 4,
  "language_info": {
   "name": "python",
   "version": "3.7.11",
   "mimetype": "text/x-python",
   "codemirror_mode": {
    "name": "ipython",
    "version": 3
   },
   "pygments_lexer": "ipython3",
   "nbconvert_exporter": "python",
   "file_extension": ".py"
  },
  "kernelspec": {
   "name": "python3",
   "display_name": "Python 3.7.11 64-bit ('tensorflow': conda)"
  },
  "interpreter": {
   "hash": "e149da774136999aaf00d4dc0a73ad671f5415143dd98642849dddd1d0bac9b6"
  }
 },
 "nbformat": 4,
 "nbformat_minor": 2
}