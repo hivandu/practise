{
 "cells": [
  {
   "cell_type": "code",
   "execution_count": 6,
   "metadata": {},
   "outputs": [
    {
     "data": {
      "text/plain": [
       "1"
      ]
     },
     "execution_count": 6,
     "metadata": {},
     "output_type": "execute_result"
    }
   ],
   "source": [
    "def cal(n):\n",
    "    sum = 0\n",
    "    for i in range(n+1):\n",
    "        sum = sum + i\n",
    "    return sum\n",
    "\n",
    "cal(1)"
   ]
  },
  {
   "cell_type": "markdown",
   "metadata": {},
   "source": [
    "```java\n",
    "// 全局变量，大小为10的数组array，长度len，下标i。\n",
    "int array[] = new int[10]; \n",
    "int len = 10;\n",
    "int i = 0;\n",
    "// 往数组中添加一个元素\n",
    "void add(int element) {\n",
    "   if (i >= len) { // 数组空间不够了\n",
    "     // 重新申请一个2倍大小的数组空间\n",
    "     int new_array[] = new int[len*2];\n",
    "     // 把原来array数组中的数据依次copy到new_array\n",
    "     for (int j = 0; j < len; ++j) {\n",
    "       new_array[j] = array[j];\n",
    "     }\n",
    "     // new_array复制给array，array现在大小就是2倍len了\n",
    "     array = new_array;\n",
    "     len = 2 * len;\n",
    "   }\n",
    "   // 将element放到下标为i的位置，下标i加一\n",
    "   array[i] = element;\n",
    "   ++i;\n",
    "}\n",
    "```"
   ]
  },
  {
   "cell_type": "code",
   "execution_count": 7,
   "metadata": {},
   "outputs": [
    {
     "name": "stdout",
     "output_type": "stream",
     "text": [
      "5\n",
      "insert True: 0 3\n",
      "insert True: 0 4\n",
      "insert True: 1 5\n",
      "insert True: 3 9\n",
      "insert True: 3 10\n",
      "insert False: 0 100\n",
      "4\n",
      "5\n",
      "3\n",
      "10\n"
     ]
    }
   ],
   "source": [
    "class MyArray:\n",
    "\n",
    "    def __init__(self, capacity: int):\n",
    "        self._data  = []\n",
    "        self._capacity = capacity\n",
    "        print(self._capacity)\n",
    "\n",
    "    def __getitem__(self, position: int) -> object:\n",
    "        return self._data[position]\n",
    "\n",
    "    def __setitem__(self, index: int, value: object):\n",
    "        self._data[index] = value\n",
    "\n",
    "    def __len__(self) -> int:\n",
    "        return len(self._data)\n",
    "\n",
    "    def __iter__(self):\n",
    "        for item in self._data:\n",
    "            yield item\n",
    "\n",
    "    def find(self, index: int) -> object:\n",
    "        try:\n",
    "            return self._data[index]\n",
    "        except IndexError:\n",
    "            return None\n",
    "\n",
    "    def delete(self, index: int) -> bool:\n",
    "        try:\n",
    "            self._data.pop(index)\n",
    "            return True\n",
    "        except IndexError:\n",
    "            return False\n",
    "\n",
    "    def insert(self, index: int, value: int) -> bool:\n",
    "        if len(self) >= self._capacity:\n",
    "            print('insert False:', index, value)\n",
    "            print(len(self), self._capacity)\n",
    "            return False\n",
    "        else:\n",
    "            print('insert True:', index, value)\n",
    "            print(len(self), self._capacity)\n",
    "            return self._data.insert(index, value)\n",
    "\n",
    "    def print_all(self):\n",
    "        for item in self:\n",
    "            print(item)\n",
    "\n",
    "\n",
    "def test_myarray():\n",
    "    array = MyArray(5)\n",
    "    array.insert(0, 3)\n",
    "    array.insert(0, 4)\n",
    "    array.insert(1, 5)\n",
    "    array.insert(3, 9)\n",
    "    array.insert(3, 10)\n",
    "    assert array.insert(0, 100) is False\n",
    "    assert len(array) == 5\n",
    "    assert array.find(1) == 5\n",
    "    assert array.delete(4) is True\n",
    "    array.print_all()\n",
    "\n",
    "if __name__ == \"__main__\":\n",
    "    test_myarray()\n",
    "\n"
   ]
  },
  {
   "cell_type": "code",
   "execution_count": 14,
   "metadata": {},
   "outputs": [
    {
     "name": "stdout",
     "output_type": "stream",
     "text": [
      "6\n"
     ]
    }
   ],
   "source": [
    "def addNumber():\n",
    "    a = int(input(\"number:\"))\n",
    "    b = int(input(\"number:\"))\n",
    "    c = int(input(\"number:\"))\n",
    "    print(a*b*c)\n",
    "\n",
    "if __name__ == \"__main__\":\n",
    "    addNumber()"
   ]
  },
  {
   "cell_type": "code",
   "execution_count": 31,
   "metadata": {},
   "outputs": [
    {
     "data": {
      "text/plain": [
       "100.417"
      ]
     },
     "execution_count": 31,
     "metadata": {},
     "output_type": "execute_result"
    }
   ],
   "source": [
    "a = 100*(1+0.00417)\n",
    "a"
   ]
  },
  {
   "cell_type": "code",
   "execution_count": 32,
   "metadata": {},
   "outputs": [
    {
     "data": {
      "text/plain": [
       "201.25273889"
      ]
     },
     "execution_count": 32,
     "metadata": {},
     "output_type": "execute_result"
    }
   ],
   "source": [
    "b = (100+a)*(1+0.00417)\n",
    "b"
   ]
  },
  {
   "cell_type": "code",
   "execution_count": 33,
   "metadata": {},
   "outputs": [
    {
     "data": {
      "text/plain": [
       "302.51016782212685"
      ]
     },
     "execution_count": 33,
     "metadata": {},
     "output_type": "execute_result"
    }
   ],
   "source": [
    "c = (100+b)*(1+0.00417)\n",
    "c"
   ]
  },
  {
   "cell_type": "code",
   "execution_count": 35,
   "metadata": {},
   "outputs": [
    {
     "data": {
      "text/plain": [
       "404.1886352219451"
      ]
     },
     "execution_count": 35,
     "metadata": {},
     "output_type": "execute_result"
    }
   ],
   "source": [
    "d = (100+c)*(1+0.00417)\n",
    "d"
   ]
  },
  {
   "cell_type": "code",
   "execution_count": null,
   "metadata": {},
   "outputs": [],
   "source": []
  },
  {
   "cell_type": "code",
   "execution_count": 108,
   "metadata": {},
   "outputs": [
    {
     "name": "stdout",
     "output_type": "stream",
     "text": [
      "$57813.36\n"
     ]
    }
   ],
   "source": [
    "import math\n",
    "from decimal import Decimal\n",
    "\n",
    "n = 6\n",
    "m = float(input(\"\"))\n",
    "for i in range(1, n+1):\n",
    "    if i == 1:\n",
    "        s = math.floor(m*(1+0.00417)*1000)/1000\n",
    "    else:\n",
    "        s = math.floor((m+s) * (1 + 0.00417) * 1000) / 1000\n",
    "\n",
    "print(\"${}\".format(Decimal(s).quantize(Decimal(\"0.00\"))))\n",
    "\n"
   ]
  },
  {
   "cell_type": "code",
   "execution_count": null,
   "metadata": {},
   "outputs": [],
   "source": []
  },
  {
   "cell_type": "code",
   "execution_count": null,
   "metadata": {},
   "outputs": [],
   "source": []
  }
 ],
 "metadata": {
  "interpreter": {
   "hash": "354f827198093f365559b09f495968767f485f877b8fc4b69f4afdbf0a5233ed"
  },
  "kernelspec": {
   "display_name": "Python 3.9.5 64-bit ('tf': conda)",
   "language": "python",
   "name": "python3"
  },
  "language_info": {
   "codemirror_mode": {
    "name": "ipython",
    "version": 3
   },
   "file_extension": ".py",
   "mimetype": "text/x-python",
   "name": "python",
   "nbconvert_exporter": "python",
   "pygments_lexer": "ipython3",
   "version": "3.9.5"
  },
  "orig_nbformat": 4
 },
 "nbformat": 4,
 "nbformat_minor": 2
}
