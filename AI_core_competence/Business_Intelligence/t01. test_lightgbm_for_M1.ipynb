{
 "cells": [
  {
   "cell_type": "code",
   "execution_count": 11,
   "source": [
    "class main():\n",
    "    def __init__(self):\n",
    "        num = int(input('请猜测数字'))\n",
    "        self.guess(num)\n",
    "        \n",
    "    def guess(self, num):\n",
    "        if num < 7 :\n",
    "            print('too small')\n",
    "            self.__init__()\n",
    "        elif num > 7:\n",
    "            print('too big')\n",
    "            self.__init__()\n",
    "        else:\n",
    "            print('bingooooooooooo')\n",
    "\n",
    "\n",
    "main()"
   ],
   "outputs": [
    {
     "output_type": "stream",
     "name": "stdout",
     "text": [
      "too big\n",
      "too big\n",
      "too big\n",
      "too big\n",
      "too big\n",
      "too big\n",
      "too small\n",
      "too small\n",
      "bingooooooooooo\n"
     ]
    },
    {
     "output_type": "execute_result",
     "data": {
      "text/plain": [
       "<__main__.main at 0x103a3a7c0>"
      ]
     },
     "metadata": {},
     "execution_count": 11
    }
   ],
   "metadata": {}
  },
  {
   "cell_type": "code",
   "execution_count": null,
   "source": [],
   "outputs": [],
   "metadata": {}
  }
 ],
 "metadata": {
  "orig_nbformat": 4,
  "language_info": {
   "name": "python",
   "version": "3.9.5",
   "mimetype": "text/x-python",
   "codemirror_mode": {
    "name": "ipython",
    "version": 3
   },
   "pygments_lexer": "ipython3",
   "nbconvert_exporter": "python",
   "file_extension": ".py"
  },
  "kernelspec": {
   "name": "python3",
   "display_name": "Python 3.9.5 64-bit ('tf': conda)"
  },
  "interpreter": {
   "hash": "35f69483aa8b7b2bb12f1e6f2ffb8fe1120cf837ca5a80070d69961a5682f06d"
  }
 },
 "nbformat": 4,
 "nbformat_minor": 2
}