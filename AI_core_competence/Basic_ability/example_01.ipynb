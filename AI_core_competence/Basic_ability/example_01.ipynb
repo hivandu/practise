{
 "cells": [
  {
   "cell_type": "code",
   "execution_count": 1,
   "source": [
    "# 人工智能导论"
   ],
   "outputs": [],
   "metadata": {}
  },
  {
   "cell_type": "code",
   "execution_count": 2,
   "source": [
    "## Rule Based"
   ],
   "outputs": [],
   "metadata": {}
  },
  {
   "cell_type": "code",
   "execution_count": 3,
   "source": [
    "import random\n",
    "from icecream import ic"
   ],
   "outputs": [],
   "metadata": {}
  },
  {
   "cell_type": "code",
   "execution_count": 4,
   "source": [
    "rules = \"\"\"\n",
    "复合句子 = 句子 , 连词 复合句子 | 句子\n",
    "连词 = 而且 | 但是 | 不过\n",
    "句子 = 主语 谓语 宾语\n",
    "主语 = 你| 我 | 他 \n",
    "谓语 = 吃| 玩 \n",
    "宾语 = 桃子| 皮球\n",
    "    \n",
    "\"\"\""
   ],
   "outputs": [],
   "metadata": {}
  },
  {
   "cell_type": "code",
   "execution_count": 5,
   "source": [
    "def get_grammer_by_description(description):\n",
    "    rules_pattern = [r.split('=') for r in description.split('\\n') if r.strip()]\n",
    "    target_with_expend = [(t, ex.split('|')) for t, ex in rules_pattern]\n",
    "    grammer = {t.strip(): [e.strip() for e in ex] for t, ex in target_with_expend}\n",
    "    \n",
    "    return grammer\n",
    "\n",
    "generated = [t for t in random.choice(grammer['句子']).split()]\n",
    "test_v = [t for t in random.choice(grammer['谓语']).split()]\n",
    "\n",
    "def generate_by_grammer(grammer, target='句子'):\n",
    "    if target not in grammer: return target\n",
    "    return ''.join([generate_by_grammer(grammer, t) for t in random.choice(grammer[target]).split()])\n",
    "\n",
    "if __name__ == '__main__':\n",
    "    grammer = get_grammer_by_description(rules)\n",
    "    \n",
    "    # ic(generated)\n",
    "    ic(test_v)\n",
    "    ic(generate_by_grammer(grammer))\n",
    "    ic(generate_by_grammer(grammer, target='复合句子'))"
   ],
   "outputs": [
    {
     "ename": "NameError",
     "evalue": "name 'grammer' is not defined",
     "output_type": "error",
     "traceback": [
      "\u001B[0;31m---------------------------------------------------------------------------\u001B[0m",
      "\u001B[0;31mNameError\u001B[0m                                 Traceback (most recent call last)",
      "\u001B[0;32m/var/folders/h4/7cr1cmpn7v5b3x20_9wz8m740000gn/T/ipykernel_93411/4144403687.py\u001B[0m in \u001B[0;36m<module>\u001B[0;34m\u001B[0m\n\u001B[1;32m      6\u001B[0m     \u001B[0;32mreturn\u001B[0m \u001B[0mgrammer\u001B[0m\u001B[0;34m\u001B[0m\u001B[0;34m\u001B[0m\u001B[0m\n\u001B[1;32m      7\u001B[0m \u001B[0;34m\u001B[0m\u001B[0m\n\u001B[0;32m----> 8\u001B[0;31m \u001B[0mgenerated\u001B[0m \u001B[0;34m=\u001B[0m \u001B[0;34m[\u001B[0m\u001B[0mt\u001B[0m \u001B[0;32mfor\u001B[0m \u001B[0mt\u001B[0m \u001B[0;32min\u001B[0m \u001B[0mrandom\u001B[0m\u001B[0;34m.\u001B[0m\u001B[0mchoice\u001B[0m\u001B[0;34m(\u001B[0m\u001B[0mgrammer\u001B[0m\u001B[0;34m[\u001B[0m\u001B[0;34m'句子'\u001B[0m\u001B[0;34m]\u001B[0m\u001B[0;34m)\u001B[0m\u001B[0;34m.\u001B[0m\u001B[0msplit\u001B[0m\u001B[0;34m(\u001B[0m\u001B[0;34m)\u001B[0m\u001B[0;34m]\u001B[0m\u001B[0;34m\u001B[0m\u001B[0;34m\u001B[0m\u001B[0m\n\u001B[0m\u001B[1;32m      9\u001B[0m \u001B[0mtest_v\u001B[0m \u001B[0;34m=\u001B[0m \u001B[0;34m[\u001B[0m\u001B[0mt\u001B[0m \u001B[0;32mfor\u001B[0m \u001B[0mt\u001B[0m \u001B[0;32min\u001B[0m \u001B[0mrandom\u001B[0m\u001B[0;34m.\u001B[0m\u001B[0mchoice\u001B[0m\u001B[0;34m(\u001B[0m\u001B[0mgrammer\u001B[0m\u001B[0;34m[\u001B[0m\u001B[0;34m'谓语'\u001B[0m\u001B[0;34m]\u001B[0m\u001B[0;34m)\u001B[0m\u001B[0;34m.\u001B[0m\u001B[0msplit\u001B[0m\u001B[0;34m(\u001B[0m\u001B[0;34m)\u001B[0m\u001B[0;34m]\u001B[0m\u001B[0;34m\u001B[0m\u001B[0;34m\u001B[0m\u001B[0m\n\u001B[1;32m     10\u001B[0m \u001B[0;34m\u001B[0m\u001B[0m\n",
      "\u001B[0;31mNameError\u001B[0m: name 'grammer' is not defined"
     ]
    }
   ],
   "metadata": {}
  },
  {
   "cell_type": "code",
   "execution_count": 9,
   "source": [
    "## water pouring"
   ],
   "outputs": [],
   "metadata": {}
  },
  {
   "cell_type": "code",
   "execution_count": 7,
   "source": [
    "def water_pouring(b1,b2,goal,start=(0,0)):\n",
    "    if goal in start:\n",
    "        return [start]\n",
    "    \n",
    "    explored = set()\n",
    "    froniter = [[('init', start)]]\n",
    "    \n",
    "    while froniter:\n",
    "        path = froniter.pop(0)\n",
    "        (x,y) = path[-1][-1]\n",
    "        \n",
    "        for (state, action) in successors(x, y, b1, b2).items():\n",
    "            if state not in explored:\n",
    "                explored.add(state)\n",
    "                path2 = path + [(action, state)]\n",
    "                \n",
    "                if goal in state:\n",
    "                    return path2\n",
    "                else:\n",
    "                    froniter.append(path2)\n",
    "                    \n",
    "    return []"
   ],
   "outputs": [],
   "metadata": {}
  },
  {
   "cell_type": "code",
   "execution_count": 11,
   "source": [
    "\n",
    "def successors(x, y, X, Y):\n",
    "    return {\n",
    "        ((0, y+x) if x + y <= Y else (x+y-Y, Y)):'X -> Y',\n",
    "        ((x+y, 0) if x+y <= X else (X, x+y-X)): 'X <- Y',\n",
    "        (X, y): '灌满X',\n",
    "        (x, Y): '灌满Y',\n",
    "        (0, y): '倒空X',\n",
    "        (x, 0): '倒空Y',\n",
    "    }"
   ],
   "outputs": [],
   "metadata": {}
  },
  {
   "cell_type": "code",
   "execution_count": 12,
   "source": [
    "if __name__ == '__main__':\n",
    "    ic(water_pouring(4,9,5))\n",
    "    ic(water_pouring(4,9,5, start = (4,0)))\n",
    "    ic(water_pouring(4,9,6))"
   ],
   "outputs": [
    {
     "name": "stderr",
     "output_type": "stream",
     "text": [
      "ic| water_pouring(4,9,5): [('init', (0, 0)), ('灌满Y', (0, 9)), ('X <- Y', (4, 5))]\n",
      "ic| water_pouring(4,9,5, start = (4,0)): [('init', (4, 0)), ('X -> Y', (0, 4)), ('灌满Y', (0, 9)), ('X <- Y', (4, 5))]\n",
      "ic| water_pouring(4,9,6): [('init', (0, 0)),\n",
      "                           ('灌满Y', (0, 9)),\n",
      "                           ('X <- Y', (4, 5)),\n",
      "                           ('倒空X', (0, 5)),\n",
      "                           ('X <- Y', (4, 1)),\n",
      "                           ('倒空X', (0, 1)),\n",
      "                           ('X <- Y', (1, 0)),\n",
      "                           ('灌满Y', (1, 9)),\n",
      "                           ('X <- Y', (4, 6))]\n"
     ]
    }
   ],
   "metadata": {}
  },
  {
   "cell_type": "code",
   "execution_count": 13,
   "source": [
    "def func(x,y,X,Y):\n",
    "    print((0, 0+0) if 0+0 <= 9 else (0+0-9, 9),(x+y, 0) if x+y <= X else (X, x+y-X))\n",
    "    \n",
    "func(0,0,4,9)"
   ],
   "outputs": [
    {
     "name": "stdout",
     "output_type": "stream",
     "text": [
      "(0, 0) (0, 0)\n"
     ]
    }
   ],
   "metadata": {}
  },
  {
   "cell_type": "code",
   "execution_count": 13,
   "source": [],
   "outputs": [],
   "metadata": {}
  },
  {
   "cell_type": "code",
   "execution_count": null,
   "outputs": [],
   "source": [],
   "metadata": {
    "collapsed": false,
    "pycharm": {
     "name": "#%%\n"
    }
   }
  }
 ],
 "metadata": {
  "kernelspec": {
   "name": "python3",
   "display_name": "Python 3.9.5 64-bit"
  },
  "language_info": {
   "codemirror_mode": {
    "name": "ipython",
    "version": 3
   },
   "file_extension": ".py",
   "mimetype": "text/x-python",
   "name": "python",
   "nbconvert_exporter": "python",
   "pygments_lexer": "ipython3",
   "version": "3.9.5"
  },
  "interpreter": {
   "hash": "5cf53de3813216cb4783f6412eb339fef4fdabd54508af35145546354c08cf85"
  }
 },
 "nbformat": 4,
 "nbformat_minor": 4
}