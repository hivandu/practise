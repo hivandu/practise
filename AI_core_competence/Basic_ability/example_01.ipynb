{
 "cells": [
  {
   "cell_type": "code",
   "execution_count": 1,
   "source": [
    "# 人工智能导论"
   ],
   "outputs": [],
   "metadata": {}
  },
  {
   "cell_type": "code",
   "execution_count": 2,
   "source": [
    "## Rule Based"
   ],
   "outputs": [],
   "metadata": {}
  },
  {
   "cell_type": "code",
   "execution_count": 3,
   "source": [
    "import random\n",
    "from icecream import ic"
   ],
   "outputs": [],
   "metadata": {}
  },
  {
   "cell_type": "code",
   "execution_count": 4,
   "source": [
    "rules = \"\"\"\n",
    "复合句子 = 句子 , 连词 复合句子 | 句子\n",
    "连词 = 而且 | 但是 | 不过\n",
    "句子 = 主语 谓语 宾语\n",
    "主语 = 你| 我 | 他 \n",
    "谓语 = 吃| 玩 \n",
    "宾语 = 桃子| 皮球\n",
    "    \n",
    "\"\"\""
   ],
   "outputs": [],
   "metadata": {}
  },
  {
   "cell_type": "code",
   "execution_count": 8,
   "source": [
    "def get_grammer_by_description(description):\n",
    "    rules_pattern = [r.split('=') for r in description.split('\\n') if r.strip()]\n",
    "    target_with_expend = [(t, ex.split('|')) for t, ex in rules_pattern]\n",
    "    grammer = {t.strip(): [e.strip() for e in ex] for t, ex in target_with_expend}\n",
    "    \n",
    "    return grammer\n",
    "\n",
    "generated = [t for t in random.choice(grammer['句子']).split()]\n",
    "test_v = [t for t in random.choice(grammer['谓语']).split()]\n",
    "\n",
    "def generate_by_grammer(grammer, target='句子'):\n",
    "    if target not in grammer: return target\n",
    "    return ''.join([generate_by_grammer(grammer, t) for t in random.choice(grammer[target]).split()])\n",
    "\n",
    "if __name__ == '__main__':\n",
    "    grammer = get_grammer_by_description(rules)\n",
    "    \n",
    "    # ic(generated)\n",
    "    ic(test_v)\n",
    "    ic(generate_by_grammer(grammer))\n",
    "    ic(generate_by_grammer(grammer, target='复合句子'))"
   ],
   "outputs": [
    {
     "output_type": "stream",
     "name": "stderr",
     "text": [
      "ic| test_v: ['玩']\n",
      "ic| generate_by_grammer(grammer): '你玩桃子'\n",
      "ic| generate_by_grammer(grammer, target='复合句子'): '他玩皮球,而且你玩桃子,不过他玩桃子,而且我吃桃子'\n"
     ]
    }
   ],
   "metadata": {}
  },
  {
   "cell_type": "code",
   "execution_count": 9,
   "source": [
    "## water pouring"
   ],
   "outputs": [],
   "metadata": {}
  },
  {
   "cell_type": "code",
   "execution_count": 11,
   "source": [
    "def water_pouring(b1,b2,goal,start=(0,0)):\n",
    "    if goal in start:\n",
    "        return [start]\n",
    "    \n",
    "    explored = set()\n",
    "    froniter = [[('init', start)]]\n",
    "    \n",
    "    while froniter:\n",
    "        path = froniter.pop(0)\n",
    "        (x,y) = path[-1][-1]\n",
    "        \n",
    "        for (state, action) in successors(x, y, b1, b2).items():\n",
    "            if state not in explored:\n",
    "                explored.add(state)\n",
    "                path2 = path + [(action, state)]\n",
    "                \n",
    "                if goal in state:\n",
    "                    return path2\n",
    "                else:\n",
    "                    froniter.append(path2)\n",
    "                    \n",
    "    return []"
   ],
   "outputs": [],
   "metadata": {}
  },
  {
   "cell_type": "code",
   "execution_count": 13,
   "source": [
    "\n",
    "def successors(x, y, X, Y):\n",
    "    return {\n",
    "        ((0, y+x) if x + y <= Y else (x+y-Y, Y)):'X -> Y',\n",
    "        ((x+y, 0) if x+y <= X else (X, x+y-X)): 'X <- Y',\n",
    "        (X, y): '灌满X',\n",
    "        (x, Y): '灌满Y',\n",
    "        (0, y): '倒空X',\n",
    "        (x, 0): '倒空Y',\n",
    "    }"
   ],
   "outputs": [],
   "metadata": {}
  },
  {
   "cell_type": "code",
   "execution_count": 14,
   "source": [
    "if __name__ == '__main__':\n",
    "    ic(water_pouring(4,9,5))\n",
    "    ic(water_pouring(4,9,5, start = (4,0)))\n",
    "    ic(water_pouring(4,9,6))"
   ],
   "outputs": [
    {
     "output_type": "stream",
     "name": "stderr",
     "text": [
      "ic| water_pouring(4,9,5): [('init', (0, 0)), ('灌满Y', (0, 9)), ('X <- Y', (4, 5))]\n",
      "ic| water_pouring(4,9,5, start = (4,0)): [('init', (4, 0)), ('X -> Y', (0, 4)), ('灌满Y', (0, 9)), ('X <- Y', (4, 5))]\n",
      "ic| water_pouring(4,9,6): [('init', (0, 0)),\n",
      "                           ('灌满Y', (0, 9)),\n",
      "                           ('X <- Y', (4, 5)),\n",
      "                           ('倒空X', (0, 5)),\n",
      "                           ('X <- Y', (4, 1)),\n",
      "                           ('倒空X', (0, 1)),\n",
      "                           ('X <- Y', (1, 0)),\n",
      "                           ('灌满Y', (1, 9)),\n",
      "                           ('X <- Y', (4, 6))]\n"
     ]
    }
   ],
   "metadata": {}
  },
  {
   "cell_type": "code",
   "execution_count": 15,
   "source": [
    "def func(x,y,X,Y):\n",
    "    print((0, 0+0) if 0+0 <= 9 else (0+0-9, 9),(x+y, 0) if x+y <= X else (X, x+y-X))\n",
    "    \n",
    "func(0,0,4,9)"
   ],
   "outputs": [
    {
     "output_type": "stream",
     "name": "stdout",
     "text": [
      "(0, 0) (0, 0)\n"
     ]
    }
   ],
   "metadata": {}
  }
 ],
 "metadata": {
  "kernelspec": {
   "name": "python3",
   "display_name": "Python 3.7.11 64-bit ('tensorflow': conda)"
  },
  "language_info": {
   "codemirror_mode": {
    "name": "ipython",
    "version": 3
   },
   "file_extension": ".py",
   "mimetype": "text/x-python",
   "name": "python",
   "nbconvert_exporter": "python",
   "pygments_lexer": "ipython3",
   "version": "3.7.11"
  },
  "interpreter": {
   "hash": "32732e49ddba1da8b293d0354da9484fcc377d4ba69e79a82935691a68d0ecf6"
  }
 },
 "nbformat": 4,
 "nbformat_minor": 4
}