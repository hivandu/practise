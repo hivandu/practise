{
 "cells": [
  {
   "cell_type": "code",
   "execution_count": 1,
   "source": [
    "# 准备工作"
   ],
   "outputs": [],
   "metadata": {}
  },
  {
   "cell_type": "code",
   "execution_count": 20,
   "source": [
    "# 定义全局path\n",
    "import os\n",
    "path = os.path.expanduser('~/data/')"
   ],
   "outputs": [],
   "metadata": {}
  },
  {
   "cell_type": "code",
   "execution_count": 4,
   "source": [
    "# 基础运算库\n",
    "import numpy as np\n",
    "# 深度学习库\n",
    "import torch\n",
    "import torch.nn as nn\n",
    "import torch.optim as optim\n",
    "import torchvision\n",
    "import torch.nn.functional as F\n",
    "import torchvision.transforms as transforms\n",
    "\n",
    "# 辅助绘图库\n",
    "import matplotlib.pyplot as plt\n",
    "\n",
    "# 时间操作库\n",
    "import time\n",
    "\n",
    "# 进度条控制库\n",
    "from tqdm import tqdm"
   ],
   "outputs": [],
   "metadata": {}
  },
  {
   "cell_type": "markdown",
   "source": [
    "# 项目1：简单神经网络的前向传播\n",
    "\n",
    "## 问题1：定义初始参数及激活函数\n",
    "\n",
    "你需要使用numpy实现神经网络的前向传播过程，并算出输出层的最终输出结果。\n",
    "**为了完成上述任务我们需要进行如下假设：**\n",
    "\n",
    "1. 输入的值为\\[3,5\\]\n",
    "1. 隐藏层h1的两个权重为\\[2,4\\]、\\[4,-5\\]\n",
    "1. 隐藏层h2的两个权重为\\[-1,1\\]、\\[2,2\\]\n",
    "1. 输出层的权重为\\[-3,7\\]\n",
    "1. 所有层不使用偏置\n",
    "1. 所有隐藏层需添加tanh激活函数"
   ],
   "metadata": {}
  },
  {
   "cell_type": "code",
   "execution_count": 5,
   "source": [
    "## TODO: 定义一个numpy数组，内容为神经网络的输入数据:\n",
    "input_data = np.array([3, 5])"
   ],
   "outputs": [],
   "metadata": {}
  },
  {
   "cell_type": "code",
   "execution_count": 6,
   "source": [
    "# TODO： 定义一个numpy数组，内容为神经网络的隐藏层及输出层权重：\n",
    "\n",
    "weights = {\n",
    "    'h11': np.array([2,4]),\n",
    "    'h12': np.array([4,-5]),\n",
    "    'h21': np.array([-1,1]),\n",
    "    'h22': np.array([2,2]),\n",
    "    'out': np.array([-3,7]),\n",
    "}"
   ],
   "outputs": [],
   "metadata": {}
  },
  {
   "cell_type": "code",
   "execution_count": 7,
   "source": [
    "# TODO： 完善下列tanh激活函数：\n",
    "def tanh(x):\n",
    "    return (np.exp(x) - np.exp(-x)) / (np.exp(x) + np.exp(-x))"
   ],
   "outputs": [],
   "metadata": {}
  },
  {
   "cell_type": "markdown",
   "source": [
    "## 问题2：逐层计算神经网络输出\n",
    "\n",
    "在神经网络的计算中，需要先将需计算层的权重与其输入数据相乘，而后求和，继而通过激活函数的运算，就可以输出到下一层了。\n",
    "\n",
    "**下面我们将以层为单位，进行运算：**\n",
    "\n",
    "1. 首先是第一个隐藏层，你需要将输入层的数据与隐藏层的权重相乘、求和、并输入到激活函数中。"
   ],
   "metadata": {}
  },
  {
   "cell_type": "code",
   "execution_count": 8,
   "source": [
    "print(input_data * weights['h11'])\n",
    "a = tanh(input_data * weights['h11']).sum()\n",
    "b = tanh((input_data * weights['h11']).sum())\n",
    "\n",
    "print(a, b)"
   ],
   "outputs": [
    {
     "output_type": "stream",
     "name": "stdout",
     "text": [
      "[ 6 20]\n",
      "1.9999877116507956 1.0\n"
     ]
    }
   ],
   "metadata": {}
  },
  {
   "cell_type": "code",
   "execution_count": 9,
   "source": [
    "# TODO： 将输入层的数据与第一隐藏层的权重相乘、求和、并输入到激活函数中。\n",
    "hidden_11_value = tanh(input_data * weights['h11']).sum()\n",
    "hidden_12_value = tanh(input_data * weights['h12']).sum()\n",
    "hidden_1_output = np.array([hidden_11_value, hidden_12_value])"
   ],
   "outputs": [],
   "metadata": {}
  },
  {
   "cell_type": "markdown",
   "source": [
    "2. 接下来是第二个隐藏层，这一层的操作与上一层完全相同。<br>"
   ],
   "metadata": {}
  },
  {
   "cell_type": "code",
   "execution_count": 10,
   "source": [
    "# TODO： 将上层输出的数据与第二隐藏层的权重相乘、求和、并输入到激活函数中。\n",
    "hidden_21_value = tanh(hidden_1_output * weights['h21']).sum()\n",
    "hidden_22_value = tanh(hidden_1_output * weights['h22']).sum()\n",
    "hidden_2_output = np.array([hidden_21_value, hidden_22_value])"
   ],
   "outputs": [],
   "metadata": {}
  },
  {
   "cell_type": "markdown",
   "source": [
    "3. 最后是输出层，此时只有一个节点需要运算，且无需添加激活函数。<br>"
   ],
   "metadata": {}
  },
  {
   "cell_type": "code",
   "execution_count": 11,
   "source": [
    "# TODO： 将上层输出的数据与输出层的权重相乘、求和\n",
    "output = (hidden_2_output * weights['out']).sum()"
   ],
   "outputs": [],
   "metadata": {}
  },
  {
   "cell_type": "markdown",
   "source": [
    "4. 至此，已经完成了全部运算，下面将这几层的输出打印出来看看吧。\n",
    "*注：output应为9.887385002294863*"
   ],
   "metadata": {}
  },
  {
   "cell_type": "code",
   "execution_count": 12,
   "source": [
    "print(output)"
   ],
   "outputs": [
    {
     "output_type": "stream",
     "name": "stdout",
     "text": [
      "9.887385002294863\n"
     ]
    }
   ],
   "metadata": {}
  },
  {
   "cell_type": "markdown",
   "source": [
    "# 项目2：CIFAR-10图像分类\n",
    "\n",
    "## 前置准备\n",
    "\n",
    "本项目使用的数据集可以从torchvision库中直接导出，下面是一些基础数据操作（数据下载可能需要几分钟，请耐心等待）。<br>"
   ],
   "metadata": {}
  },
  {
   "cell_type": "code",
   "execution_count": 21,
   "source": [
    "##定义对图像的各种变换操作，包括把array转换为tensor，对图像做正则化\n",
    "#transforms.Compose主要是用于常见的一些图形变换，例如裁剪、旋转\n",
    "#遍历list数组，对img依次执行每个transforms操作\n",
    "transform = transforms.Compose([transforms.ToTensor(), \n",
    "                                transforms.Normalize((0.4914, 0.48216, 0.44653), \n",
    "                                                    (0.24703, 0.24349, 0.26159))])\n",
    "\n",
    "#导出torchvision里的CIFAR10数据集，root是把数据下载之后存放的目录，train控制是不是在训练阶段，download控制是不是需要下载，transform把一系列的图像变换传入进来。\n",
    "trainset = torchvision.datasets.CIFAR10(root = path + 'course_data/',\n",
    "                                        train = True,\n",
    "                                        download = True,\n",
    "                                        transform = transform)\n",
    "testset = torchvision.datasets.CIFAR10(root = path + 'course_data/',\n",
    "                                        train = False,\n",
    "                                        download = True,\n",
    "                                        transform = transform)\n",
    "\n",
    "#用来把训练数据分成多个小组，此函数每次抛出一组数据。\n",
    "trainloader = torch.utils.data.DataLoader(trainset, batch_size=16, shuffle=True)\n",
    "\n",
    "#用来把测试数据分成多个小组，此函数每次抛出一组数据。\n",
    "testloader = torch.utils.data.DataLoader(testset, batch_size = 16, shuffle=False)"
   ],
   "outputs": [
    {
     "output_type": "stream",
     "name": "stdout",
     "text": [
      "Files already downloaded and verified\n",
      "Files already downloaded and verified\n"
     ]
    }
   ],
   "metadata": {}
  },
  {
   "cell_type": "markdown",
   "source": [
    "数据下载完成后，我们就可以简单查看数据label，看看是否和练习说明中的数据集介绍对的上。"
   ],
   "metadata": {}
  },
  {
   "cell_type": "code",
   "execution_count": 14,
   "source": [
    "trainset.classes"
   ],
   "outputs": [
    {
     "output_type": "execute_result",
     "data": {
      "text/plain": [
       "['airplane',\n",
       " 'automobile',\n",
       " 'bird',\n",
       " 'cat',\n",
       " 'deer',\n",
       " 'dog',\n",
       " 'frog',\n",
       " 'horse',\n",
       " 'ship',\n",
       " 'truck']"
      ]
     },
     "metadata": {},
     "execution_count": 14
    }
   ],
   "metadata": {}
  },
  {
   "cell_type": "markdown",
   "source": [
    "下面我们再来检查一下数据图像。"
   ],
   "metadata": {}
  },
  {
   "cell_type": "code",
   "execution_count": 15,
   "source": [
    "#把图片进行可视化展示\n",
    "#定义画图的函数\n",
    "def imshow(inp, title = None):\n",
    "    \"\"\"Imshow for Tensor.\"\"\"\n",
    "\n",
    "    # 定义画图的画布\n",
    "    fig = plt.figure(figsize = (30, 30))\n",
    "\n",
    "    # 转换图片的维度\n",
    "    inp = inp.numpy().transpose((1,2,0))\n",
    "    mean = np.array([0.485, 0.456, 0.406])\n",
    "    std = np.array([0.229, 0.224, 0.225])\n",
    "\n",
    "    # 对图片进行标准化\n",
    "    inp = std * inp + mean\n",
    "\n",
    "    # 整个图片数组的值限制在指定值a_min, 与a_max之间\n",
    "    inp = np.clip(inp, 0, 1)\n",
    "\n",
    "    # 对图片进行可视化展示\n",
    "    plt.imshow(inp,)\n",
    "\n",
    "# 获取一个batch的数据\n",
    "inputs, classes = next(iter(trainloader))\n",
    "\n",
    "# 以网格的格式展示，作用是将若干幅图像拼成一副图像\n",
    "out = torchvision.utils.make_grid(inputs)\n",
    "\n",
    "# plt.imshow()就可以显示图片同时也显示其格式\n",
    "imshow(out, title = [trainset.classes[x] for x in classes])"
   ],
   "outputs": [
    {
     "output_type": "display_data",
     "data": {
      "image/png": "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",
      "text/plain": [
       "<Figure size 2160x2160 with 1 Axes>"
      ]
     },
     "metadata": {
      "needs_background": "light"
     }
    }
   ],
   "metadata": {}
  },
  {
   "cell_type": "markdown",
   "source": [],
   "metadata": {}
  },
  {
   "cell_type": "markdown",
   "source": [
    "## 问题1：搭建简单神经网络\n",
    "数据准备就绪后，就需要你来搭建一个简单神经网络。<br>"
   ],
   "metadata": {}
  },
  {
   "cell_type": "code",
   "execution_count": 16,
   "source": [
    "# TODO： 定义一个层3全连接神经网络，输入维度是32*32*3，第一层输出维度是1000，第二层输出维度是500，第三层输出维度是10\n",
    "class Net(nn.Module):\n",
    "    def __init__(self):\n",
    "        super(Net, self).__init__()\n",
    "        self.fc1 = nn.Linear(32*32*3, 1000) # 需补全\n",
    "        self.fc2 = nn.Linear(1000, 500) # 需补全\n",
    "        self.fc3 = nn.Linear(500, 10) # 需补全\n",
    "\n",
    "    def forward(self, x):\n",
    "        x = F.relu(self.fc1(x))\n",
    "        x = F.relu(self.fc2(x))\n",
    "\n",
    "        return self.fc3(x)\n",
    "\n",
    "# 实例化神经网络的类\n",
    "net = Net()"
   ],
   "outputs": [],
   "metadata": {}
  },
  {
   "cell_type": "markdown",
   "source": [
    "在定义好模型结构之后，还需确定损失函数及优化器。"
   ],
   "metadata": {}
  },
  {
   "cell_type": "code",
   "execution_count": 17,
   "source": [
    "# 定义损失函数 - 交叉熵\n",
    "criterion = nn.CrossEntropyLoss()\n",
    "\n",
    "# 定义优化器，将神经网络的参数都传入优化器，并定义学习率\n",
    "optimizer = optim.Adam(net.parameters(), lr = 3e-4)"
   ],
   "outputs": [],
   "metadata": {}
  },
  {
   "cell_type": "markdown",
   "source": [
    "## 问题2：神经网络的训练\n",
    "\n",
    "模型主要内容都已完成，下面就可以进行训练了。在模型训练过程中，一般遵循如下步骤：\n",
    "\n",
    "1. 大for循环-epochs，用于管理一套数据循环训练几遍\n",
    "1. 小for循环-step，用于以batchsize为单位，从dataloader中调取数据\n",
    "1. 清空优化器的梯度\n",
    "1. 读入data和label，并进行形状变换（可做可不做）\n",
    "1. 运行模型前向传播过程\n",
    "1. 基于模型输出生成最终结果\n",
    "1. 计算损失\n",
    "1. 基于损失计算梯度\n",
    "1. 基于梯度更新参数"
   ],
   "metadata": {}
  },
  {
   "cell_type": "code",
   "execution_count": 22,
   "source": [
    "# TODO： 训练模型\n",
    "num_epochs = 10\n",
    "since = time.time()\n",
    "net.train()\n",
    "\n",
    "for epoch in range(num_epochs):\n",
    "    print(f'Epoch {epoch + 1} / {num_epochs}')\n",
    "\n",
    "    running_loss = 0.0\n",
    "    running_corrects = 0\n",
    "\n",
    "    # 从trainloader里循环取出每一批次数据\n",
    "    for data in tqdm(trainloader):\n",
    "        # TODO: 补全代码\n",
    "        inputs, labels = data\n",
    "        inputs = inputs.view(-1, 32 * 32 * 3)\n",
    "        optimizer.zero_grad()\n",
    "        outputs = net(inputs)\n",
    "        _, preds = torch.max(outputs, 1)\n",
    "        loss = criterion(outputs, labels)\n",
    "        loss.backward()\n",
    "        optimizer.step()\n",
    "\n",
    "        # 一个批次数据的损失函数的计算\n",
    "        running_loss += loss.item() * inputs.size(0)\n",
    "\n",
    "        # 一个批次数据准确率的计算\n",
    "        running_corrects += torch.sum(preds == labels.data)\n",
    "    \n",
    "    epoch_loss = running_loss / trainloader.dataset.data.shape[0]\n",
    "    epoch_acc = running_corrects.double() / trainloader.dataset.data.shape[0]\n",
    "\n",
    "    print('train loss: {:.4f} Acc: {:.4f}'.format(epoch_loss, epoch_acc))\n",
    "    print('-' * 20)\n",
    "\n",
    "time_elapsed = time.time() - since\n",
    "print('Trainning complete in {:.0f}m {:.0f}s'.format(time_elapsed // 60, time_elapsed % 60))"
   ],
   "outputs": [
    {
     "output_type": "stream",
     "name": "stdout",
     "text": [
      "Epoch 1 / 10\n"
     ]
    },
    {
     "output_type": "stream",
     "name": "stderr",
     "text": [
      "100%|██████████| 3125/3125 [01:23<00:00, 37.46it/s]\n"
     ]
    },
    {
     "output_type": "stream",
     "name": "stdout",
     "text": [
      "train loss: 1.3823 Acc: 0.5120\n",
      "--------------------\n",
      "Epoch 2 / 10\n"
     ]
    },
    {
     "output_type": "stream",
     "name": "stderr",
     "text": [
      "100%|██████████| 3125/3125 [01:19<00:00, 39.23it/s]\n"
     ]
    },
    {
     "output_type": "stream",
     "name": "stdout",
     "text": [
      "train loss: 1.2692 Acc: 0.5517\n",
      "--------------------\n",
      "Epoch 3 / 10\n"
     ]
    },
    {
     "output_type": "stream",
     "name": "stderr",
     "text": [
      "100%|██████████| 3125/3125 [01:18<00:00, 39.82it/s]\n"
     ]
    },
    {
     "output_type": "stream",
     "name": "stdout",
     "text": [
      "train loss: 1.1749 Acc: 0.5856\n",
      "--------------------\n",
      "Epoch 4 / 10\n"
     ]
    },
    {
     "output_type": "stream",
     "name": "stderr",
     "text": [
      "100%|██████████| 3125/3125 [01:24<00:00, 36.78it/s]\n"
     ]
    },
    {
     "output_type": "stream",
     "name": "stdout",
     "text": [
      "train loss: 1.0821 Acc: 0.6169\n",
      "--------------------\n",
      "Epoch 5 / 10\n"
     ]
    },
    {
     "output_type": "stream",
     "name": "stderr",
     "text": [
      "100%|██████████| 3125/3125 [01:38<00:00, 31.68it/s]\n"
     ]
    },
    {
     "output_type": "stream",
     "name": "stdout",
     "text": [
      "train loss: 0.9903 Acc: 0.6475\n",
      "--------------------\n",
      "Epoch 6 / 10\n"
     ]
    },
    {
     "output_type": "stream",
     "name": "stderr",
     "text": [
      "100%|██████████| 3125/3125 [01:32<00:00, 33.80it/s]\n"
     ]
    },
    {
     "output_type": "stream",
     "name": "stdout",
     "text": [
      "train loss: 0.9065 Acc: 0.6780\n",
      "--------------------\n",
      "Epoch 7 / 10\n"
     ]
    },
    {
     "output_type": "stream",
     "name": "stderr",
     "text": [
      "100%|██████████| 3125/3125 [01:23<00:00, 37.32it/s]\n"
     ]
    },
    {
     "output_type": "stream",
     "name": "stdout",
     "text": [
      "train loss: 0.8325 Acc: 0.7062\n",
      "--------------------\n",
      "Epoch 8 / 10\n"
     ]
    },
    {
     "output_type": "stream",
     "name": "stderr",
     "text": [
      "100%|██████████| 3125/3125 [01:15<00:00, 41.38it/s]\n"
     ]
    },
    {
     "output_type": "stream",
     "name": "stdout",
     "text": [
      "train loss: 0.7492 Acc: 0.7326\n",
      "--------------------\n",
      "Epoch 9 / 10\n"
     ]
    },
    {
     "output_type": "stream",
     "name": "stderr",
     "text": [
      "100%|██████████| 3125/3125 [01:21<00:00, 38.49it/s]\n"
     ]
    },
    {
     "output_type": "stream",
     "name": "stdout",
     "text": [
      "train loss: 0.6805 Acc: 0.7606\n",
      "--------------------\n",
      "Epoch 10 / 10\n"
     ]
    },
    {
     "output_type": "stream",
     "name": "stderr",
     "text": [
      "100%|██████████| 3125/3125 [01:22<00:00, 38.10it/s]"
     ]
    },
    {
     "output_type": "stream",
     "name": "stdout",
     "text": [
      "train loss: 0.6183 Acc: 0.7810\n",
      "--------------------\n",
      "Trainning complete in 14m 0s\n"
     ]
    },
    {
     "output_type": "stream",
     "name": "stderr",
     "text": [
      "\n"
     ]
    }
   ],
   "metadata": {}
  },
  {
   "cell_type": "markdown",
   "source": [
    "## 问题3：模型测评\n",
    "\n",
    "完成模型训练后，还需对模型进行测评，验证模型在测试集上的精度。\n",
    "Tips：在模型训练日志中，也有打印精确度acc，但这是模型在训练集上的精度，而不是测试集上的精度哦。你可以观察观察训练集精度与测试集精度，看看有没有什么差异。"
   ],
   "metadata": {}
  },
  {
   "cell_type": "code",
   "execution_count": null,
   "source": [
    "# TODO: 完成模型测评\n",
    "correct, total = 0, 0\n",
    "net.eval()\n",
    "\n",
    "for data in tqdm(testloader):\n",
    "    inputs, labels = data\n",
    "    inputs = inputs.view(-1, 32 * 32 * 3)\n",
    "    outputs = net(inputs)\n",
    "    _, predicted = torch.max(outputs, 1)\n",
    "    total += labels.size(0)\n",
    "    correct += (predicted == labels).sum().item()\n",
    "\n",
    "print('The testing set accuracy of the network is: %d %%' % (100 * correct / total))"
   ],
   "outputs": [
    {
     "output_type": "stream",
     "name": "stderr",
     "text": [
      "100%|██████████| 625/625 [00:03<00:00, 157.71it/s]"
     ]
    },
    {
     "output_type": "stream",
     "name": "stdout",
     "text": [
      "The testing set accuracy of the network is: 53 %\n"
     ]
    },
    {
     "output_type": "stream",
     "name": "stderr",
     "text": [
      "\n"
     ]
    }
   ],
   "metadata": {}
  },
  {
   "cell_type": "code",
   "execution_count": null,
   "source": [],
   "outputs": [],
   "metadata": {}
  },
  {
   "cell_type": "code",
   "execution_count": null,
   "source": [],
   "outputs": [],
   "metadata": {}
  }
 ],
 "metadata": {
  "orig_nbformat": 4,
  "language_info": {
   "name": "python",
   "version": "3.9.5",
   "mimetype": "text/x-python",
   "codemirror_mode": {
    "name": "ipython",
    "version": 3
   },
   "pygments_lexer": "ipython3",
   "nbconvert_exporter": "python",
   "file_extension": ".py"
  },
  "kernelspec": {
   "name": "python3",
<<<<<<< HEAD
   "display_name": "Python 3.9.5 64-bit ('tf': conda)"
  },
  "interpreter": {
   "hash": "35f69483aa8b7b2bb12f1e6f2ffb8fe1120cf837ca5a80070d69961a5682f06d"
=======
   "display_name": "Python 3.9.5 64-bit"
  },
  "interpreter": {
   "hash": "5cf53de3813216cb4783f6412eb339fef4fdabd54508af35145546354c08cf85"
>>>>>>> 18f706158ca9554b2fffaf4620f492567f666164
  }
 },
 "nbformat": 4,
 "nbformat_minor": 2
}