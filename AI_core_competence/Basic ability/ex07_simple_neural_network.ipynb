{
 "cells": [
  {
   "cell_type": "code",
   "execution_count": 1,
   "source": [
    "# 准备工作"
   ],
   "outputs": [],
   "metadata": {}
  },
  {
   "cell_type": "code",
   "execution_count": 2,
   "source": [
    "# 基础运算库\n",
    "import numpy as np\n",
    "# 深度学习库\n",
    "import torch\n",
    "import torch.nn as nn\n",
    "import torch.optim as optim\n",
    "import torchvision\n",
    "import torch.nn.functional as F\n",
    "import torchvision.transforms as transforms\n",
    "\n",
    "# 辅助绘图库\n",
    "import matplotlib.pyplot as plt\n",
    "\n",
    "# 时间操作库\n",
    "import time\n",
    "\n",
    "# 进度条控制库\n",
    "from tqdm import tqdm"
   ],
   "outputs": [],
   "metadata": {}
  },
  {
   "cell_type": "markdown",
   "source": [
    "# 项目1：简单神经网络的前向传播\n",
    "\n",
    "## 问题1：定义初始参数及激活函数\n",
    "\n",
    "你需要使用numpy实现神经网络的前向传播过程，并算出输出层的最终输出结果。\n",
    "**为了完成上述任务我们需要进行如下假设：**\n",
    "\n",
    "1. 输入的值为\\[3,5\\]\n",
    "1. 隐藏层h1的两个权重为\\[2,4\\]、\\[4,-5\\]\n",
    "1. 隐藏层h2的两个权重为\\[-1,1\\]、\\[2,2\\]\n",
    "1. 输出层的权重为\\[-3,7\\]\n",
    "1. 所有层不使用偏置\n",
    "1. 所有隐藏层需添加tanh激活函数"
   ],
   "metadata": {}
  },
  {
   "cell_type": "code",
   "execution_count": 3,
   "source": [
    "## TODO: 定义一个numpy数组，内容为神经网络的输入数据:\n",
    "input_data = np.array([3, 5])"
   ],
   "outputs": [],
   "metadata": {}
  },
  {
   "cell_type": "code",
   "execution_count": 4,
   "source": [
    "# TODO： 定义一个numpy数组，内容为神经网络的隐藏层及输出层权重：\n",
    "\n",
    "weights = {\n",
    "    'h11': np.array([2,4]),\n",
    "    'h12': np.array([4,-5]),\n",
    "    'h21': np.array([-1,1]),\n",
    "    'h22': np.array([2,2]),\n",
    "    'out': np.array([-3,7]),\n",
    "}"
   ],
   "outputs": [],
   "metadata": {}
  },
  {
   "cell_type": "code",
   "execution_count": 5,
   "source": [
    "# TODO： 完善下列tanh激活函数：\n",
    "def tanh(x):\n",
    "    return (np.exp(x) - np.exp(-x)) / (np.exp(x) + np.exp(-x))"
   ],
   "outputs": [],
   "metadata": {}
  },
  {
   "cell_type": "markdown",
   "source": [
    "## 问题2：逐层计算神经网络输出\n",
    "\n",
    "在神经网络的计算中，需要先将需计算层的权重与其输入数据相乘，而后求和，继而通过激活函数的运算，就可以输出到下一层了。\n",
    "\n",
    "**下面我们将以层为单位，进行运算：**\n",
    "\n",
    "1. 首先是第一个隐藏层，你需要将输入层的数据与隐藏层的权重相乘、求和、并输入到激活函数中。"
   ],
   "metadata": {}
  },
  {
   "cell_type": "code",
   "execution_count": 6,
   "source": [
    "print(input_data * weights['h11'])\n",
    "a = tanh(input_data * weights['h11']).sum()\n",
    "b = tanh((input_data * weights['h11']).sum())\n",
    "\n",
    "print(a, b)"
   ],
   "outputs": [
    {
     "output_type": "stream",
     "name": "stdout",
     "text": [
      "[ 6 20]\n",
      "1.9999877116507956 1.0\n"
     ]
    }
   ],
   "metadata": {}
  },
  {
   "cell_type": "code",
   "execution_count": 7,
   "source": [
    "# TODO： 将输入层的数据与第一隐藏层的权重相乘、求和、并输入到激活函数中。\n",
    "hidden_11_value = tanh(input_data * weights['h11']).sum()\n",
    "hidden_12_value = tanh(input_data * weights['h12']).sum()\n",
    "hidden_1_output = np.array([hidden_11_value, hidden_12_value])"
   ],
   "outputs": [],
   "metadata": {}
  },
  {
   "cell_type": "markdown",
   "source": [
    "2. 接下来是第二个隐藏层，这一层的操作与上一层完全相同。<br>"
   ],
   "metadata": {}
  },
  {
   "cell_type": "code",
   "execution_count": 8,
   "source": [
    "# TODO： 将上层输出的数据与第二隐藏层的权重相乘、求和、并输入到激活函数中。\n",
    "hidden_21_value = tanh(hidden_1_output * weights['h21']).sum()\n",
    "hidden_22_value = tanh(hidden_1_output * weights['h22']).sum()\n",
    "hidden_2_output = np.array([hidden_21_value, hidden_22_value])"
   ],
   "outputs": [],
   "metadata": {}
  },
  {
   "cell_type": "markdown",
   "source": [
    "3. 最后是输出层，此时只有一个节点需要运算，且无需添加激活函数。<br>"
   ],
   "metadata": {}
  },
  {
   "cell_type": "code",
   "execution_count": 9,
   "source": [
    "# TODO： 将上层输出的数据与输出层的权重相乘、求和\n",
    "output = (hidden_2_output * weights['out']).sum()"
   ],
   "outputs": [],
   "metadata": {}
  },
  {
   "cell_type": "markdown",
   "source": [
    "4. 至此，已经完成了全部运算，下面将这几层的输出打印出来看看吧。\n",
    "*注：output应为9.887385002294863*"
   ],
   "metadata": {}
  },
  {
   "cell_type": "code",
   "execution_count": 10,
   "source": [
    "print(output)"
   ],
   "outputs": [
    {
     "output_type": "stream",
     "name": "stdout",
     "text": [
      "9.887385002294863\n"
     ]
    }
   ],
   "metadata": {}
  },
  {
   "cell_type": "markdown",
   "source": [
    "# 项目2：CIFAR-10图像分类\n",
    "\n",
    "## 前置准备\n",
    "\n",
    "本项目使用的数据集可以从torchvision库中直接导出，下面是一些基础数据操作（数据下载可能需要几分钟，请耐心等待）。<br>"
   ],
   "metadata": {}
  },
  {
   "cell_type": "code",
   "execution_count": 11,
   "source": [
    "##定义对图像的各种变换操作，包括把array转换为tensor，对图像做正则化\n",
    "#transforms.Compose主要是用于常见的一些图形变换，例如裁剪、旋转\n",
    "#遍历list数组，对img依次执行每个transforms操作\n",
    "transform = transforms.Compose([transforms.ToTensor(), \n",
    "                                transforms.Normalize((0.4914, 0.48216, 0.44653), \n",
    "                                                    (0.24703, 0.24349, 0.26159))])\n",
    "\n",
    "#导出torchvision里的CIFAR10数据集，root是把数据下载之后存放的目录，train控制是不是在训练阶段，download控制是不是需要下载，transform把一系列的图像变换传入进来。\n",
    "trainset = torchvision.datasets.CIFAR10(root = '../../resource/course_data/',\n",
    "                                        train = True,\n",
    "                                        download = True,\n",
    "                                        transform = transform)\n",
    "testset = torchvision.datasets.CIFAR10(root = '../../resource/course_data/',\n",
    "                                        train = False,\n",
    "                                        download = True,\n",
    "                                        transform = transform)\n",
    "\n",
    "#用来把训练数据分成多个小组，此函数每次抛出一组数据。\n",
    "trainloader = torch.utils.data.DataLoader(trainset, batch_size=16, shuffle=True)\n",
    "\n",
    "#用来把测试数据分成多个小组，此函数每次抛出一组数据。\n",
    "testloader = torch.utils.data.DataLoader(testset, batch_size = 16, shuffle=False)"
   ],
   "outputs": [
    {
     "output_type": "stream",
     "name": "stdout",
     "text": [
      "Downloading https://www.cs.toronto.edu/~kriz/cifar-10-python.tar.gz to ../../resource/course_data/cifar-10-python.tar.gz\n"
     ]
    },
    {
     "output_type": "stream",
     "name": "stderr",
     "text": [
      "170499072it [00:49, 3441317.66it/s]                               \n"
     ]
    },
    {
     "output_type": "stream",
     "name": "stdout",
     "text": [
      "Extracting ../../resource/course_data/cifar-10-python.tar.gz to ../../resource/course_data/\n",
      "Files already downloaded and verified\n"
     ]
    }
   ],
   "metadata": {}
  },
  {
   "cell_type": "markdown",
   "source": [
    "数据下载完成后，我们就可以简单查看数据label，看看是否和练习说明中的数据集介绍对的上。"
   ],
   "metadata": {}
  },
  {
   "cell_type": "code",
   "execution_count": 12,
   "source": [
    "trainset.classes"
   ],
   "outputs": [
    {
     "output_type": "execute_result",
     "data": {
      "text/plain": [
       "['airplane',\n",
       " 'automobile',\n",
       " 'bird',\n",
       " 'cat',\n",
       " 'deer',\n",
       " 'dog',\n",
       " 'frog',\n",
       " 'horse',\n",
       " 'ship',\n",
       " 'truck']"
      ]
     },
     "metadata": {},
     "execution_count": 12
    }
   ],
   "metadata": {}
  },
  {
   "cell_type": "markdown",
   "source": [
    "下面我们再来检查一下数据图像。"
   ],
   "metadata": {}
  },
  {
   "cell_type": "code",
   "execution_count": 13,
   "source": [
    "#把图片进行可视化展示\n",
    "#定义画图的函数\n",
    "def imshow(inp, title = None):\n",
    "    \"\"\"Imshow for Tensor.\"\"\"\n",
    "\n",
    "    # 定义画图的画布\n",
    "    fig = plt.figure(figsize = (30, 30))\n",
    "\n",
    "    # 转换图片的维度\n",
    "    inp = inp.numpy().transpose((1,2,0))\n",
    "    mean = np.array([0.485, 0.456, 0.406])\n",
    "    std = np.array([0.229, 0.224, 0.225])\n",
    "\n",
    "    # 对图片进行标准化\n",
    "    inp = std * inp + mean\n",
    "\n",
    "    # 整个图片数组的值限制在指定值a_min, 与a_max之间\n",
    "    inp = np.clip(inp, 0, 1)\n",
    "\n",
    "    # 对图片进行可视化展示\n",
    "    plt.imshow(inp,)\n",
    "\n",
    "# 获取一个batch的数据\n",
    "inputs, classes = next(iter(trainloader))\n",
    "\n",
    "# 以网格的格式展示，作用是将若干幅图像拼成一副图像\n",
    "out = torchvision.utils.make_grid(inputs)\n",
    "\n",
    "# plt.imshow()就可以显示图片同时也显示其格式\n",
    "imshow(out, title = [trainset.classes[x] for x in classes])"
   ],
   "outputs": [
    {
     "output_type": "display_data",
     "data": {
      "image/png": "[encoded data removed]",
      "text/plain": [
       "<Figure size 2160x2160 with 1 Axes>"
      ]
     },
     "metadata": {
      "needs_background": "light"
     }
    }
   ],
   "metadata": {}
  },
  {
   "cell_type": "markdown",
   "source": [],
   "metadata": {}
  },
  {
   "cell_type": "markdown",
   "source": [
    "## 问题1：搭建简单神经网络\n",
    "数据准备就绪后，就需要你来搭建一个简单神经网络。<br>"
   ],
   "metadata": {}
  },
  {
   "cell_type": "code",
   "execution_count": 14,
   "source": [
    "# TODO： 定义一个层3全连接神经网络，输入维度是32*32*3，第一层输出维度是1000，第二层输出维度是500，第三层输出维度是10\n",
    "class Net(nn.Module):\n",
    "    def __init__(self):\n",
    "        super(Net, self).__init__()\n",
    "        self.fc1 = nn.Linear(32*32*3, 1000) # 需补全\n",
    "        self.fc2 = nn.Linear(1000, 500) # 需补全\n",
    "        self.fc3 = nn.Linear(500, 10) # 需补全\n",
    "\n",
    "    def forward(self, x):\n",
    "        x = F.relu(self.fc1(x))\n",
    "        x = F.relu(self.fc2(x))\n",
    "\n",
    "        return self.fc3(x)\n",
    "\n",
    "# 实例化神经网络的类\n",
    "net = Net()"
   ],
   "outputs": [],
   "metadata": {}
  },
  {
   "cell_type": "markdown",
   "source": [
    "在定义好模型结构之后，还需确定损失函数及优化器。"
   ],
   "metadata": {}
  },
  {
   "cell_type": "code",
   "execution_count": 15,
   "source": [
    "# 定义损失函数 - 交叉熵\n",
    "criterion = nn.CrossEntropyLoss()\n",
    "\n",
    "# 定义优化器，将神经网络的参数都传入优化器，并定义学习率\n",
    "optimizer = optim.Adam(net.parameters(), lr = 3e-4)"
   ],
   "outputs": [],
   "metadata": {}
  },
  {
   "cell_type": "markdown",
   "source": [
    "## 问题2：神经网络的训练\n",
    "\n",
    "模型主要内容都已完成，下面就可以进行训练了。在模型训练过程中，一般遵循如下步骤：\n",
    "\n",
    "1. 大for循环-epochs，用于管理一套数据循环训练几遍\n",
    "1. 小for循环-step，用于以batchsize为单位，从dataloader中调取数据\n",
    "1. 清空优化器的梯度\n",
    "1. 读入data和label，并进行形状变换（可做可不做）\n",
    "1. 运行模型前向传播过程\n",
    "1. 基于模型输出生成最终结果\n",
    "1. 计算损失\n",
    "1. 基于损失计算梯度\n",
    "1. 基于梯度更新参数"
   ],
   "metadata": {}
  },
  {
   "cell_type": "code",
   "execution_count": 16,
   "source": [
    "# TODO： 训练模型\n",
    "num_epochs = 10\n",
    "since = time.time()\n",
    "net.train()\n",
    "\n",
    "for epoch in range(num_epochs):\n",
    "    print(f'Epoch {epoch + 1} / {num_epochs}')\n",
    "\n",
    "    running_loss = 0.0\n",
    "    running_corrects = 0\n",
    "\n",
    "    # 从trainloader里循环取出每一批次数据\n",
    "    for data in tqdm(trainloader):\n",
    "        # TODO: 补全代码\n",
    "        inputs, labels = data\n",
    "        inputs = inputs.view(-1, 32 * 32 * 3)\n",
    "        optimizer.zero_grad()\n",
    "        outputs = net(inputs)\n",
    "        _, preds = torch.max(outputs, 1)\n",
    "        loss = criterion(outputs, labels)\n",
    "        loss.backward()\n",
    "        optimizer.step()\n",
    "\n",
    "        # 一个批次数据的损失函数的计算\n",
    "        running_loss += loss.item() * inputs.size(0)\n",
    "\n",
    "        # 一个批次数据准确率的计算\n",
    "        running_corrects += torch.sum(preds == labels.data)\n",
    "    \n",
    "    epoch_loss = running_loss / trainloader.dataset.data.shape[0]\n",
    "    epoch_acc = running_corrects.double() / trainloader.dataset.data.shape[0]\n",
    "\n",
    "    print('train loss: {:.4f} Acc: {:.4f}'.format(epoch_loss, epoch_acc))\n",
    "    print('-' * 20)\n",
    "\n",
    "time_elapsed = time.time() - since\n",
    "print('Trainning complete in {:.0f}m {:.0f}s'.format(time_elapsed // 60, time_elapsed % 60))"
   ],
   "outputs": [
    {
     "output_type": "stream",
     "name": "stdout",
     "text": [
      "Epoch 1 / 10\n"
     ]
    },
    {
     "output_type": "stream",
     "name": "stderr",
     "text": [
      " 16%|█▌        | 496/3125 [00:11<00:53, 49.07it/s]"
     ]
    }
   ],
   "metadata": {}
  },
  {
   "cell_type": "markdown",
   "source": [
    "## 问题3：模型测评\n",
    "\n",
    "完成模型训练后，还需对模型进行测评，验证模型在测试集上的精度。\n",
    "Tips：在模型训练日志中，也有打印精确度acc，但这是模型在训练集上的精度，而不是测试集上的精度哦。你可以观察观察训练集精度与测试集精度，看看有没有什么差异。"
   ],
   "metadata": {}
  },
  {
   "cell_type": "code",
   "execution_count": null,
   "source": [
    "# TODO: 完成模型测评\n",
    "correct, total = 0, 0\n",
    "net.eval()\n",
    "\n",
    "for data in tqdm(testloader):\n",
    "    inputs, labels = data\n",
    "    inputs = inputs.view(-1, 32 * 32 * 3)\n",
    "    outputs = net(inputs)\n",
    "    _, predicted = torch.max(outputs, 1)\n",
    "    total += labels.size(0)\n",
    "    correct += (predicted == labels).sum().item()\n",
    "\n",
    "print('The testing set accuracy of the network is: %d %%' % (100 * correct / total))"
   ],
   "outputs": [
    {
     "output_type": "stream",
     "name": "stderr",
     "text": [
      "100%|██████████| 625/625 [00:03<00:00, 157.71it/s]"
     ]
    },
    {
     "output_type": "stream",
     "name": "stdout",
     "text": [
      "The testing set accuracy of the network is: 53 %\n"
     ]
    },
    {
     "output_type": "stream",
     "name": "stderr",
     "text": [
      "\n"
     ]
    }
   ],
   "metadata": {}
  },
  {
   "cell_type": "code",
   "execution_count": null,
   "source": [],
   "outputs": [],
   "metadata": {}
  }
 ],
 "metadata": {
  "orig_nbformat": 4,
  "language_info": {
   "name": "python",
   "version": "3.7.11",
   "mimetype": "text/x-python",
   "codemirror_mode": {
    "name": "ipython",
    "version": 3
   },
   "pygments_lexer": "ipython3",
   "nbconvert_exporter": "python",
   "file_extension": ".py"
  },
  "kernelspec": {
   "name": "python3",
   "display_name": "Python 3.7.11 64-bit (conda)"
  },
  "interpreter": {
   "hash": "78f9ec416e660c57ca1eb25879bd371e3c1fabf383795d6cc5ba93375e838164"
  }
 },
 "nbformat": 4,
 "nbformat_minor": 2
}