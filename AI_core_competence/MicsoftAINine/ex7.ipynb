{
 "cells": [
  {
   "cell_type": "markdown",
   "source": [
    "# 7 seq2seq"
   ],
   "metadata": {}
  },
  {
   "cell_type": "markdown",
   "source": [
    "# Bleu"
   ],
   "metadata": {}
  },
  {
   "cell_type": "code",
   "execution_count": 2,
   "source": [
    "import numpy as np"
   ],
   "outputs": [],
   "metadata": {}
  },
  {
   "cell_type": "code",
   "execution_count": 3,
   "source": [
    "sum = np.log(6/6) + np.log(4/5) + np.log(2/4) + np.log(1/3)\n",
    "print('sum=', sum)\n",
    "#print('sum=', np.exp(sum/4))\n",
    "bp = np.exp(1-7/6)\n",
    "print('bp=', bp)\n",
    "print('bleu=', bp * np.exp(sum/4))"
   ],
   "outputs": [
    {
     "output_type": "stream",
     "name": "stdout",
     "text": [
      "sum= -2.0149030205422647\n",
      "bp= 0.846481724890614\n",
      "bleu= 0.5115078115793242\n"
     ]
    }
   ],
   "metadata": {}
  },
  {
   "cell_type": "code",
   "execution_count": 4,
   "source": [
    "from nltk.translate.bleu_score import sentence_bleu, corpus_bleu"
   ],
   "outputs": [],
   "metadata": {}
  },
  {
   "cell_type": "code",
   "execution_count": 5,
   "source": [
    "# 单个句子的BLEU计算\n",
    "reference = [['Going', 'to', 'play', 'basketball', 'in', 'the', 'afternoon']]\n",
    "candidate = ['Going', 'to', 'play', 'basketball', 'the', 'afternoon']\n",
    "score = sentence_bleu(reference, candidate, weights=(0.25, 0.25, 0.25, 0.25))\n",
    "#score = sentence_bleu(reference, candidate, weights=(1, 0, 0, 0))\n",
    "#sentence_bleu(reference, candidate, weights=(1, 0, 0, 0))\n",
    "print(score)"
   ],
   "outputs": [
    {
     "output_type": "stream",
     "name": "stdout",
     "text": [
      "0.5115078115793242\n"
     ]
    }
   ],
   "metadata": {}
  },
  {
   "cell_type": "code",
   "execution_count": null,
   "source": [],
   "outputs": [],
   "metadata": {}
  }
 ],
 "metadata": {
  "orig_nbformat": 4,
  "language_info": {
   "name": "python",
   "version": "3.7.11",
   "mimetype": "text/x-python",
   "codemirror_mode": {
    "name": "ipython",
    "version": 3
   },
   "pygments_lexer": "ipython3",
   "nbconvert_exporter": "python",
   "file_extension": ".py"
  },
  "kernelspec": {
   "name": "python3",
   "display_name": "Python 3.7.11 64-bit ('tensorflow': conda)"
  },
  "interpreter": {
   "hash": "e149da774136999aaf00d4dc0a73ad671f5415143dd98642849dddd1d0bac9b6"
  }
 },
 "nbformat": 4,
 "nbformat_minor": 2
}