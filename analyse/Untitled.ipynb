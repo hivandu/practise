{
 "cells": [
  {
   "cell_type": "code",
   "execution_count": 1,
   "id": "b7226a0f",
   "metadata": {},
   "outputs": [],
   "source": [
    "import tensorflow as tf\n",
    "import matplotlib.pyplot as plt\n"
   ]
  },
  {
   "cell_type": "code",
   "execution_count": null,
   "id": "a3ba9197",
   "metadata": {},
   "outputs": [
    {
     "data": {
      "text/plain": [
       "'2.5.0'"
      ]
     },
     "execution_count": 2,
     "metadata": {},
     "output_type": "execute_result"
    }
   ],
   "source": [
    "tf.__version__"
   ]
  },
  {
   "cell_type": "code",
   "execution_count": null,
   "id": "52de2f61",
   "metadata": {},
   "outputs": [
    {
     "ename": "OSError",
     "evalue": "SavedModel file does not exist at: trained_model.h5/{saved_model.pbtxt|saved_model.pb}",
     "output_type": "error",
     "traceback": [
      "\u001b[0;31m---------------------------------------------------------------------------\u001b[0m",
      "\u001b[0;31mOSError\u001b[0m                                   Traceback (most recent call last)",
      "\u001b[0;32m/var/folders/jd/jhbp58m554l8fyt81nfks5jm0000gn/T/ipykernel_25632/2220152055.py\u001b[0m in \u001b[0;36m<module>\u001b[0;34m\u001b[0m\n\u001b[1;32m      1\u001b[0m \u001b[0;32mfrom\u001b[0m \u001b[0mtensorflow\u001b[0m\u001b[0;34m.\u001b[0m\u001b[0mkeras\u001b[0m\u001b[0;34m.\u001b[0m\u001b[0mmodels\u001b[0m \u001b[0;32mimport\u001b[0m \u001b[0mload_model\u001b[0m\u001b[0;34m\u001b[0m\u001b[0;34m\u001b[0m\u001b[0m\n\u001b[0;32m----> 2\u001b[0;31m \u001b[0mmodel\u001b[0m \u001b[0;34m=\u001b[0m \u001b[0mload_model\u001b[0m\u001b[0;34m(\u001b[0m\u001b[0;34m'trained_model.h5'\u001b[0m\u001b[0;34m)\u001b[0m\u001b[0;34m\u001b[0m\u001b[0;34m\u001b[0m\u001b[0m\n\u001b[0m",
      "\u001b[0;32m~/miniforge3/envs/tf/lib/python3.9/site-packages/tensorflow/python/keras/saving/save.py\u001b[0m in \u001b[0;36mload_model\u001b[0;34m(filepath, custom_objects, compile, options)\u001b[0m\n\u001b[1;32m    204\u001b[0m         \u001b[0mfilepath\u001b[0m \u001b[0;34m=\u001b[0m \u001b[0mpath_to_string\u001b[0m\u001b[0;34m(\u001b[0m\u001b[0mfilepath\u001b[0m\u001b[0;34m)\u001b[0m\u001b[0;34m\u001b[0m\u001b[0;34m\u001b[0m\u001b[0m\n\u001b[1;32m    205\u001b[0m         \u001b[0;32mif\u001b[0m \u001b[0misinstance\u001b[0m\u001b[0;34m(\u001b[0m\u001b[0mfilepath\u001b[0m\u001b[0;34m,\u001b[0m \u001b[0mstr\u001b[0m\u001b[0;34m)\u001b[0m\u001b[0;34m:\u001b[0m\u001b[0;34m\u001b[0m\u001b[0;34m\u001b[0m\u001b[0m\n\u001b[0;32m--> 206\u001b[0;31m           \u001b[0;32mreturn\u001b[0m \u001b[0msaved_model_load\u001b[0m\u001b[0;34m.\u001b[0m\u001b[0mload\u001b[0m\u001b[0;34m(\u001b[0m\u001b[0mfilepath\u001b[0m\u001b[0;34m,\u001b[0m \u001b[0mcompile\u001b[0m\u001b[0;34m,\u001b[0m \u001b[0moptions\u001b[0m\u001b[0;34m)\u001b[0m\u001b[0;34m\u001b[0m\u001b[0;34m\u001b[0m\u001b[0m\n\u001b[0m\u001b[1;32m    207\u001b[0m \u001b[0;34m\u001b[0m\u001b[0m\n\u001b[1;32m    208\u001b[0m   raise IOError(\n",
      "\u001b[0;32m~/miniforge3/envs/tf/lib/python3.9/site-packages/tensorflow/python/keras/saving/saved_model/load.py\u001b[0m in \u001b[0;36mload\u001b[0;34m(path, compile, options)\u001b[0m\n\u001b[1;32m    119\u001b[0m   \u001b[0;31m# Look for metadata file or parse the SavedModel\u001b[0m\u001b[0;34m\u001b[0m\u001b[0;34m\u001b[0m\u001b[0;34m\u001b[0m\u001b[0m\n\u001b[1;32m    120\u001b[0m   \u001b[0mmetadata\u001b[0m \u001b[0;34m=\u001b[0m \u001b[0msaved_metadata_pb2\u001b[0m\u001b[0;34m.\u001b[0m\u001b[0mSavedMetadata\u001b[0m\u001b[0;34m(\u001b[0m\u001b[0;34m)\u001b[0m\u001b[0;34m\u001b[0m\u001b[0;34m\u001b[0m\u001b[0m\n\u001b[0;32m--> 121\u001b[0;31m   \u001b[0mmeta_graph_def\u001b[0m \u001b[0;34m=\u001b[0m \u001b[0mloader_impl\u001b[0m\u001b[0;34m.\u001b[0m\u001b[0mparse_saved_model\u001b[0m\u001b[0;34m(\u001b[0m\u001b[0mpath\u001b[0m\u001b[0;34m)\u001b[0m\u001b[0;34m.\u001b[0m\u001b[0mmeta_graphs\u001b[0m\u001b[0;34m[\u001b[0m\u001b[0;36m0\u001b[0m\u001b[0;34m]\u001b[0m\u001b[0;34m\u001b[0m\u001b[0;34m\u001b[0m\u001b[0m\n\u001b[0m\u001b[1;32m    122\u001b[0m   \u001b[0mobject_graph_def\u001b[0m \u001b[0;34m=\u001b[0m \u001b[0mmeta_graph_def\u001b[0m\u001b[0;34m.\u001b[0m\u001b[0mobject_graph_def\u001b[0m\u001b[0;34m\u001b[0m\u001b[0;34m\u001b[0m\u001b[0m\n\u001b[1;32m    123\u001b[0m   \u001b[0mpath_to_metadata_pb\u001b[0m \u001b[0;34m=\u001b[0m \u001b[0mos\u001b[0m\u001b[0;34m.\u001b[0m\u001b[0mpath\u001b[0m\u001b[0;34m.\u001b[0m\u001b[0mjoin\u001b[0m\u001b[0;34m(\u001b[0m\u001b[0mpath\u001b[0m\u001b[0;34m,\u001b[0m \u001b[0mconstants\u001b[0m\u001b[0;34m.\u001b[0m\u001b[0mSAVED_METADATA_PATH\u001b[0m\u001b[0;34m)\u001b[0m\u001b[0;34m\u001b[0m\u001b[0;34m\u001b[0m\u001b[0m\n",
      "\u001b[0;32m~/miniforge3/envs/tf/lib/python3.9/site-packages/tensorflow/python/saved_model/loader_impl.py\u001b[0m in \u001b[0;36mparse_saved_model\u001b[0;34m(export_dir)\u001b[0m\n\u001b[1;32m    111\u001b[0m       \u001b[0;32mraise\u001b[0m \u001b[0mIOError\u001b[0m\u001b[0;34m(\u001b[0m\u001b[0;34m\"Cannot parse file %s: %s.\"\u001b[0m \u001b[0;34m%\u001b[0m \u001b[0;34m(\u001b[0m\u001b[0mpath_to_pbtxt\u001b[0m\u001b[0;34m,\u001b[0m \u001b[0mstr\u001b[0m\u001b[0;34m(\u001b[0m\u001b[0me\u001b[0m\u001b[0;34m)\u001b[0m\u001b[0;34m)\u001b[0m\u001b[0;34m)\u001b[0m\u001b[0;34m\u001b[0m\u001b[0;34m\u001b[0m\u001b[0m\n\u001b[1;32m    112\u001b[0m   \u001b[0;32melse\u001b[0m\u001b[0;34m:\u001b[0m\u001b[0;34m\u001b[0m\u001b[0;34m\u001b[0m\u001b[0m\n\u001b[0;32m--> 113\u001b[0;31m     raise IOError(\n\u001b[0m\u001b[1;32m    114\u001b[0m         \u001b[0;34m\"SavedModel file does not exist at: %s%s{%s|%s}\"\u001b[0m \u001b[0;34m%\u001b[0m\u001b[0;34m\u001b[0m\u001b[0;34m\u001b[0m\u001b[0m\n\u001b[1;32m    115\u001b[0m         (export_dir, os.path.sep, constants.SAVED_MODEL_FILENAME_PBTXT,\n",
      "\u001b[0;31mOSError\u001b[0m: SavedModel file does not exist at: trained_model.h5/{saved_model.pbtxt|saved_model.pb}"
     ]
    }
   ],
   "source": [
    "from tensorflow.keras.models import load_model\n",
    "model = load_model('trained_model.h5')"
   ]
  },
  {
   "cell_type": "code",
   "execution_count": null,
   "id": "845502c6",
   "metadata": {},
   "outputs": [],
   "source": [
    "readyPCBQueue=[];#定义就绪队列\n",
    "finishPCBQueue=[];#定义完成队列\n",
    "time=0;#使用过的时间片数量\n",
    "class PCBNode:#进程对象结构体\n",
    "    def __init__(self):\n",
    "        self.name = ''     # 进程名称\n",
    "        self.RequireTimeSlice=0    # 需要时间片长度\n",
    "        self.CurrentState=0     # 进程运行状态，0表示就绪，1表示运行，-1表示完成  \n",
    "def input_PCBNode(pcb):#定义函数实现进程输入\n",
    "    pcb=PCBNode();\n",
    "    pcb.name=input();\n",
    "    pcb.RequireTimeSlice=input();\n",
    "    pcb.CurrentState=input();\n",
    "    pcb.RequireTimeSlice=eval(pcb.RequireTimeSlice);\n",
    "    pcb.CurrentState=eval(pcb.CurrentState);\n",
    "    readyPCBQueue.append(pcb);\n",
    "    return readyPCBQueue;\n",
    "num=input();\n",
    "num=eval(num);#定义需要进程的数量，在本程序中我们输入五个进程\n",
    "for k in range(0,num):\n",
    "    k=PCBNode();#循环输入五个进程\n",
    "    input_PCBNode(k);\n",
    "while len(readyPCBQueue)!=0:\n",
    "    runningPCB=PCBNode();#新建队头进程结点\n",
    "    runningPCB=readyPCBQueue.pop(0);#队头进程结点出队\n",
    "    PCBNode.CurrentState=1;#队头进程进入运行态\n",
    "    runningPCB.RequireTimeSlice-=1;#时间片单位减一\n",
    "    time+=1;#使用过的时间片单位加一\n",
    "    print(\"第\"+str(time)+\"个时间片:\"+\"进程 \" + \"<\"+str(runningPCB.name)+\">\" + \" 使用了1个CPU时间片,\"+str(runningPCB.name)+\"需求剩余时间片为：\" + str(runningPCB.RequireTimeSlice));\n",
    "    if runningPCB.RequireTimeSlice>0:#仍需要的时间片长度大于0，进程未运行完毕，需重新进入队列\n",
    "        runningPCB.CurrentState=0;#运行态变为就绪态\n",
    "        readyPCBQueue.append(runningPCB);#进队操作\n",
    "        if len(finishPCBQueue)==0:\n",
    "            print(\"运行完成的进程为：空\");\n",
    "            print(\"就绪队列为：\");\n",
    "            for i in range(len(readyPCBQueue)):#打印就绪队列的信息\n",
    "                print(str(readyPCBQueue[i].name)+\"(\"+str(readyPCBQueue[i].RequireTimeSlice)+\"个时间片)\");\n",
    "                if i<(len(readyPCBQueue)-1):\n",
    "                    print(\"->\");\n",
    "            print(\"——————————————————————————————————————————————————————————\");\n",
    "        else:\n",
    "            print(\"运行完成的进程为：\");\n",
    "            for j in range(len(finishPCBQueue)):\n",
    "                print(finishPCBQueue[j].name);#打印在完成队列中的进程名称\n",
    "            print(\"就绪队列为：\");\n",
    "            for i in range(len(readyPCBQueue)):#打印就绪队列的信息\n",
    "                print(str(readyPCBQueue[i].name)+\"(\"+str(readyPCBQueue[i].RequireTimeSlice)+\"个时间片)\");\n",
    "                if i<(len(readyPCBQueue)-1):\n",
    "                    print(\"->\");\n",
    "            print(\"——————————————————————————————————————————————————————————\");\n",
    "    else:\n",
    "        runningPCB.CurrentState = -1;#运行态变为完成态\n",
    "        finishPCBQueue.append(runningPCB);#运行完成的进程进入完成队列\n",
    "        print(str(runningPCB.name)+\"运行完毕\");\n",
    "        print(\"运行完成的进程为：\");\n",
    "        for j in range(len(finishPCBQueue)):\n",
    "            print(finishPCBQueue[j].name);#打印在完成队列中的进程名称\n",
    "        print(\"就绪队列为：\");\n",
    "        for i in range(len(readyPCBQueue)):#打印就绪队列的信息\n",
    "            print(str(readyPCBQueue[i].name)+\"(\"+str(readyPCBQueue[i].RequireTimeSlice)+\"个时间片)\");\n",
    "            if i<(len(readyPCBQueue)-1):\n",
    "                print(\"->\");\n",
    "        if len(readyPCBQueue)>0:\n",
    "            print(\"——————————————————————————————————————————————————————————\");\n",
    "if len(readyPCBQueue)==0:#就绪队列为0时输出空值\n",
    "    print(\"空\");\n",
    "    print(\"——————————————————————————————————————————————————————————————\");\n"
   ]
  }
 ],
 "metadata": {
  "kernelspec": {
   "display_name": "Python 3 (ipykernel)",
   "language": "python",
   "name": "python3"
  },
  "language_info": {
   "codemirror_mode": {
    "name": "ipython",
    "version": 3
   },
   "file_extension": ".py",
   "mimetype": "text/x-python",
   "name": "python",
   "nbconvert_exporter": "python",
   "pygments_lexer": "ipython3",
   "version": "3.9.5"
  }
 },
 "nbformat": 4,
 "nbformat_minor": 5
}
