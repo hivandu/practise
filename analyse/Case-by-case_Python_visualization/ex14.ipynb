{
 "cells": [
  {
   "cell_type": "code",
   "execution_count": 1,
   "source": [
    "# 示例"
   ],
   "outputs": [],
   "metadata": {}
  },
  {
   "cell_type": "code",
   "execution_count": 2,
   "source": [
    "import plotly\n",
    "import plotly.graph_objs as go"
   ],
   "outputs": [],
   "metadata": {}
  },
  {
   "cell_type": "code",
   "execution_count": 3,
   "source": [
    "mapbox_access_token='you_mapbox_token'"
   ],
   "outputs": [],
   "metadata": {}
  },
  {
   "cell_type": "code",
   "execution_count": 4,
   "source": [
    "data=[go.Scattermapbox(\n",
    "        lat=['31.3'],\n",
    "        lon=['120.7'],\n",
    "        mode='markers',\n",
    "        marker=dict(\n",
    "            size=20, color='red'\n",
    "        ),\n",
    "        text=['Soochow']\n",
    "    )\n",
    "]\n",
    "\n",
    "layout=go.Layout(\n",
    "    autosize=True,\n",
    "    hovermode='closest',\n",
    "    mapbox=dict(\n",
    "        accesstoken=mapbox_access_token,\n",
    "        bearing=0,\n",
    "        center=dict(\n",
    "            lat=31.3,\n",
    "            lon=120.7\n",
    "        ),\n",
    "        pitch=0,\n",
    "        zoom=10\n",
    "    )\n",
    ")\n",
    "\n",
    "fig=dict(data=data, layout=layout)\n",
    "plotly.offline.iplot(fig, filename='Soochow')"
   ],
   "outputs": [
    {
     "output_type": "display_data",
     "data": {
      "application/vnd.plotly.v1+json": {
       "config": {
        "linkText": "Export to plot.ly",
        "plotlyServerURL": "https://plot.ly",
        "showLink": false
       },
       "data": [
        {
         "lat": [
          "31.3"
         ],
         "lon": [
          "120.7"
         ],
         "marker": {
          "color": "red",
          "size": 20
         },
         "mode": "markers",
         "text": [
          "Soochow"
         ],
         "type": "scattermapbox"
        }
       ],
       "layout": {
        "autosize": true,
        "hovermode": "closest",
        "mapbox": {
         "accesstoken": "pk.eyJ1IjoiaGl2YW5kdSIsImEiOiJjamJ5cHplNGkzNG1rMzJvN3pvY3g0ajVoIn0.vsFrvGv-Q51dJcj6B9seZw",
         "bearing": 0,
         "center": {
          "lat": 31.3,
          "lon": 120.7
         },
         "pitch": 0,
         "zoom": 10
        },
        "template": {
         "data": {
          "bar": [
           {
            "error_x": {
             "color": "#2a3f5f"
            },
            "error_y": {
             "color": "#2a3f5f"
            },
            "marker": {
             "line": {
              "color": "#E5ECF6",
              "width": 0.5
             },
             "pattern": {
              "fillmode": "overlay",
              "size": 10,
              "solidity": 0.2
             }
            },
            "type": "bar"
           }
          ],
          "barpolar": [
           {
            "marker": {
             "line": {
              "color": "#E5ECF6",
              "width": 0.5
             },
             "pattern": {
              "fillmode": "overlay",
              "size": 10,
              "solidity": 0.2
             }
            },
            "type": "barpolar"
           }
          ],
          "carpet": [
           {
            "aaxis": {
             "endlinecolor": "#2a3f5f",
             "gridcolor": "white",
             "linecolor": "white",
             "minorgridcolor": "white",
             "startlinecolor": "#2a3f5f"
            },
            "baxis": {
             "endlinecolor": "#2a3f5f",
             "gridcolor": "white",
             "linecolor": "white",
             "minorgridcolor": "white",
             "startlinecolor": "#2a3f5f"
            },
            "type": "carpet"
           }
          ],
          "choropleth": [
           {
            "colorbar": {
             "outlinewidth": 0,
             "ticks": ""
            },
            "type": "choropleth"
           }
          ],
          "contour": [
           {
            "colorbar": {
             "outlinewidth": 0,
             "ticks": ""
            },
            "colorscale": [
             [
              0,
              "#0d0887"
             ],
             [
              0.1111111111111111,
              "#46039f"
             ],
             [
              0.2222222222222222,
              "#7201a8"
             ],
             [
              0.3333333333333333,
              "#9c179e"
             ],
             [
              0.4444444444444444,
              "#bd3786"
             ],
             [
              0.5555555555555556,
              "#d8576b"
             ],
             [
              0.6666666666666666,
              "#ed7953"
             ],
             [
              0.7777777777777778,
              "#fb9f3a"
             ],
             [
              0.8888888888888888,
              "#fdca26"
             ],
             [
              1,
              "#f0f921"
             ]
            ],
            "type": "contour"
           }
          ],
          "contourcarpet": [
           {
            "colorbar": {
             "outlinewidth": 0,
             "ticks": ""
            },
            "type": "contourcarpet"
           }
          ],
          "heatmap": [
           {
            "colorbar": {
             "outlinewidth": 0,
             "ticks": ""
            },
            "colorscale": [
             [
              0,
              "#0d0887"
             ],
             [
              0.1111111111111111,
              "#46039f"
             ],
             [
              0.2222222222222222,
              "#7201a8"
             ],
             [
              0.3333333333333333,
              "#9c179e"
             ],
             [
              0.4444444444444444,
              "#bd3786"
             ],
             [
              0.5555555555555556,
              "#d8576b"
             ],
             [
              0.6666666666666666,
              "#ed7953"
             ],
             [
              0.7777777777777778,
              "#fb9f3a"
             ],
             [
              0.8888888888888888,
              "#fdca26"
             ],
             [
              1,
              "#f0f921"
             ]
            ],
            "type": "heatmap"
           }
          ],
          "heatmapgl": [
           {
            "colorbar": {
             "outlinewidth": 0,
             "ticks": ""
            },
            "colorscale": [
             [
              0,
              "#0d0887"
             ],
             [
              0.1111111111111111,
              "#46039f"
             ],
             [
              0.2222222222222222,
              "#7201a8"
             ],
             [
              0.3333333333333333,
              "#9c179e"
             ],
             [
              0.4444444444444444,
              "#bd3786"
             ],
             [
              0.5555555555555556,
              "#d8576b"
             ],
             [
              0.6666666666666666,
              "#ed7953"
             ],
             [
              0.7777777777777778,
              "#fb9f3a"
             ],
             [
              0.8888888888888888,
              "#fdca26"
             ],
             [
              1,
              "#f0f921"
             ]
            ],
            "type": "heatmapgl"
           }
          ],
          "histogram": [
           {
            "marker": {
             "pattern": {
              "fillmode": "overlay",
              "size": 10,
              "solidity": 0.2
             }
            },
            "type": "histogram"
           }
          ],
          "histogram2d": [
           {
            "colorbar": {
             "outlinewidth": 0,
             "ticks": ""
            },
            "colorscale": [
             [
              0,
              "#0d0887"
             ],
             [
              0.1111111111111111,
              "#46039f"
             ],
             [
              0.2222222222222222,
              "#7201a8"
             ],
             [
              0.3333333333333333,
              "#9c179e"
             ],
             [
              0.4444444444444444,
              "#bd3786"
             ],
             [
              0.5555555555555556,
              "#d8576b"
             ],
             [
              0.6666666666666666,
              "#ed7953"
             ],
             [
              0.7777777777777778,
              "#fb9f3a"
             ],
             [
              0.8888888888888888,
              "#fdca26"
             ],
             [
              1,
              "#f0f921"
             ]
            ],
            "type": "histogram2d"
           }
          ],
          "histogram2dcontour": [
           {
            "colorbar": {
             "outlinewidth": 0,
             "ticks": ""
            },
            "colorscale": [
             [
              0,
              "#0d0887"
             ],
             [
              0.1111111111111111,
              "#46039f"
             ],
             [
              0.2222222222222222,
              "#7201a8"
             ],
             [
              0.3333333333333333,
              "#9c179e"
             ],
             [
              0.4444444444444444,
              "#bd3786"
             ],
             [
              0.5555555555555556,
              "#d8576b"
             ],
             [
              0.6666666666666666,
              "#ed7953"
             ],
             [
              0.7777777777777778,
              "#fb9f3a"
             ],
             [
              0.8888888888888888,
              "#fdca26"
             ],
             [
              1,
              "#f0f921"
             ]
            ],
            "type": "histogram2dcontour"
           }
          ],
          "mesh3d": [
           {
            "colorbar": {
             "outlinewidth": 0,
             "ticks": ""
            },
            "type": "mesh3d"
           }
          ],
          "parcoords": [
           {
            "line": {
             "colorbar": {
              "outlinewidth": 0,
              "ticks": ""
             }
            },
            "type": "parcoords"
           }
          ],
          "pie": [
           {
            "automargin": true,
            "type": "pie"
           }
          ],
          "scatter": [
           {
            "marker": {
             "colorbar": {
              "outlinewidth": 0,
              "ticks": ""
             }
            },
            "type": "scatter"
           }
          ],
          "scatter3d": [
           {
            "line": {
             "colorbar": {
              "outlinewidth": 0,
              "ticks": ""
             }
            },
            "marker": {
             "colorbar": {
              "outlinewidth": 0,
              "ticks": ""
             }
            },
            "type": "scatter3d"
           }
          ],
          "scattercarpet": [
           {
            "marker": {
             "colorbar": {
              "outlinewidth": 0,
              "ticks": ""
             }
            },
            "type": "scattercarpet"
           }
          ],
          "scattergeo": [
           {
            "marker": {
             "colorbar": {
              "outlinewidth": 0,
              "ticks": ""
             }
            },
            "type": "scattergeo"
           }
          ],
          "scattergl": [
           {
            "marker": {
             "colorbar": {
              "outlinewidth": 0,
              "ticks": ""
             }
            },
            "type": "scattergl"
           }
          ],
          "scattermapbox": [
           {
            "marker": {
             "colorbar": {
              "outlinewidth": 0,
              "ticks": ""
             }
            },
            "type": "scattermapbox"
           }
          ],
          "scatterpolar": [
           {
            "marker": {
             "colorbar": {
              "outlinewidth": 0,
              "ticks": ""
             }
            },
            "type": "scatterpolar"
           }
          ],
          "scatterpolargl": [
           {
            "marker": {
             "colorbar": {
              "outlinewidth": 0,
              "ticks": ""
             }
            },
            "type": "scatterpolargl"
           }
          ],
          "scatterternary": [
           {
            "marker": {
             "colorbar": {
              "outlinewidth": 0,
              "ticks": ""
             }
            },
            "type": "scatterternary"
           }
          ],
          "surface": [
           {
            "colorbar": {
             "outlinewidth": 0,
             "ticks": ""
            },
            "colorscale": [
             [
              0,
              "#0d0887"
             ],
             [
              0.1111111111111111,
              "#46039f"
             ],
             [
              0.2222222222222222,
              "#7201a8"
             ],
             [
              0.3333333333333333,
              "#9c179e"
             ],
             [
              0.4444444444444444,
              "#bd3786"
             ],
             [
              0.5555555555555556,
              "#d8576b"
             ],
             [
              0.6666666666666666,
              "#ed7953"
             ],
             [
              0.7777777777777778,
              "#fb9f3a"
             ],
             [
              0.8888888888888888,
              "#fdca26"
             ],
             [
              1,
              "#f0f921"
             ]
            ],
            "type": "surface"
           }
          ],
          "table": [
           {
            "cells": {
             "fill": {
              "color": "#EBF0F8"
             },
             "line": {
              "color": "white"
             }
            },
            "header": {
             "fill": {
              "color": "#C8D4E3"
             },
             "line": {
              "color": "white"
             }
            },
            "type": "table"
           }
          ]
         },
         "layout": {
          "annotationdefaults": {
           "arrowcolor": "#2a3f5f",
           "arrowhead": 0,
           "arrowwidth": 1
          },
          "autotypenumbers": "strict",
          "coloraxis": {
           "colorbar": {
            "outlinewidth": 0,
            "ticks": ""
           }
          },
          "colorscale": {
           "diverging": [
            [
             0,
             "#8e0152"
            ],
            [
             0.1,
             "#c51b7d"
            ],
            [
             0.2,
             "#de77ae"
            ],
            [
             0.3,
             "#f1b6da"
            ],
            [
             0.4,
             "#fde0ef"
            ],
            [
             0.5,
             "#f7f7f7"
            ],
            [
             0.6,
             "#e6f5d0"
            ],
            [
             0.7,
             "#b8e186"
            ],
            [
             0.8,
             "#7fbc41"
            ],
            [
             0.9,
             "#4d9221"
            ],
            [
             1,
             "#276419"
            ]
           ],
           "sequential": [
            [
             0,
             "#0d0887"
            ],
            [
             0.1111111111111111,
             "#46039f"
            ],
            [
             0.2222222222222222,
             "#7201a8"
            ],
            [
             0.3333333333333333,
             "#9c179e"
            ],
            [
             0.4444444444444444,
             "#bd3786"
            ],
            [
             0.5555555555555556,
             "#d8576b"
            ],
            [
             0.6666666666666666,
             "#ed7953"
            ],
            [
             0.7777777777777778,
             "#fb9f3a"
            ],
            [
             0.8888888888888888,
             "#fdca26"
            ],
            [
             1,
             "#f0f921"
            ]
           ],
           "sequentialminus": [
            [
             0,
             "#0d0887"
            ],
            [
             0.1111111111111111,
             "#46039f"
            ],
            [
             0.2222222222222222,
             "#7201a8"
            ],
            [
             0.3333333333333333,
             "#9c179e"
            ],
            [
             0.4444444444444444,
             "#bd3786"
            ],
            [
             0.5555555555555556,
             "#d8576b"
            ],
            [
             0.6666666666666666,
             "#ed7953"
            ],
            [
             0.7777777777777778,
             "#fb9f3a"
            ],
            [
             0.8888888888888888,
             "#fdca26"
            ],
            [
             1,
             "#f0f921"
            ]
           ]
          },
          "colorway": [
           "#636efa",
           "#EF553B",
           "#00cc96",
           "#ab63fa",
           "#FFA15A",
           "#19d3f3",
           "#FF6692",
           "#B6E880",
           "#FF97FF",
           "#FECB52"
          ],
          "font": {
           "color": "#2a3f5f"
          },
          "geo": {
           "bgcolor": "white",
           "lakecolor": "white",
           "landcolor": "#E5ECF6",
           "showlakes": true,
           "showland": true,
           "subunitcolor": "white"
          },
          "hoverlabel": {
           "align": "left"
          },
          "hovermode": "closest",
          "mapbox": {
           "style": "light"
          },
          "paper_bgcolor": "white",
          "plot_bgcolor": "#E5ECF6",
          "polar": {
           "angularaxis": {
            "gridcolor": "white",
            "linecolor": "white",
            "ticks": ""
           },
           "bgcolor": "#E5ECF6",
           "radialaxis": {
            "gridcolor": "white",
            "linecolor": "white",
            "ticks": ""
           }
          },
          "scene": {
           "xaxis": {
            "backgroundcolor": "#E5ECF6",
            "gridcolor": "white",
            "gridwidth": 2,
            "linecolor": "white",
            "showbackground": true,
            "ticks": "",
            "zerolinecolor": "white"
           },
           "yaxis": {
            "backgroundcolor": "#E5ECF6",
            "gridcolor": "white",
            "gridwidth": 2,
            "linecolor": "white",
            "showbackground": true,
            "ticks": "",
            "zerolinecolor": "white"
           },
           "zaxis": {
            "backgroundcolor": "#E5ECF6",
            "gridcolor": "white",
            "gridwidth": 2,
            "linecolor": "white",
            "showbackground": true,
            "ticks": "",
            "zerolinecolor": "white"
           }
          },
          "shapedefaults": {
           "line": {
            "color": "#2a3f5f"
           }
          },
          "ternary": {
           "aaxis": {
            "gridcolor": "white",
            "linecolor": "white",
            "ticks": ""
           },
           "baxis": {
            "gridcolor": "white",
            "linecolor": "white",
            "ticks": ""
           },
           "bgcolor": "#E5ECF6",
           "caxis": {
            "gridcolor": "white",
            "linecolor": "white",
            "ticks": ""
           }
          },
          "title": {
           "x": 0.05
          },
          "xaxis": {
           "automargin": true,
           "gridcolor": "white",
           "linecolor": "white",
           "ticks": "",
           "title": {
            "standoff": 15
           },
           "zerolinecolor": "white",
           "zerolinewidth": 2
          },
          "yaxis": {
           "automargin": true,
           "gridcolor": "white",
           "linecolor": "white",
           "ticks": "",
           "title": {
            "standoff": 15
           },
           "zerolinecolor": "white",
           "zerolinewidth": 2
          }
         }
        }
       }
      }
     },
     "metadata": {}
    }
   ],
   "metadata": {}
  },
  {
   "cell_type": "code",
   "execution_count": 5,
   "source": [
    "## Scattermapbox 完整参数\n",
    "go.Scattermapbox(arg=None, connectgaps=None, customdata=None, customdatasrc=None, fill=None, fillcolor=None, hoverinfo=None, hoverinfosrc=None, hoverlabel=None, hovertext=None, hovertextsrc=None, ids=None, idssrc=None, lat=None, latsrc=None, legendgroup=None, line=None, lon=None, lonsrc=None, marker=None, mode=None, name=None, opacity=None, selected=None, selectedpoints=None, showlegend=None, stream=None, subplot=None, text=None, textfont=None, textposition=None, textsrc=None, uid=None, unselected=None, visible=None, **kwargs)\n"
   ],
   "outputs": [],
   "metadata": {}
  },
  {
   "cell_type": "code",
   "execution_count": 6,
   "source": [
    "## 标出各个城市的位置"
   ],
   "outputs": [],
   "metadata": {}
  },
  {
   "cell_type": "code",
   "execution_count": 8,
   "source": [
    "import pandas as pd\n",
    "df = pd.read_csv('~/data/cbcpv/jiangsu/city_population.csv')\n",
    "df.sample(5)"
   ],
   "outputs": [
    {
     "output_type": "execute_result",
     "data": {
      "text/html": [
       "<div>\n",
       "<style scoped>\n",
       "    .dataframe tbody tr th:only-of-type {\n",
       "        vertical-align: middle;\n",
       "    }\n",
       "\n",
       "    .dataframe tbody tr th {\n",
       "        vertical-align: top;\n",
       "    }\n",
       "\n",
       "    .dataframe thead th {\n",
       "        text-align: right;\n",
       "    }\n",
       "</style>\n",
       "<table border=\"1\" class=\"dataframe\">\n",
       "  <thead>\n",
       "    <tr style=\"text-align: right;\">\n",
       "      <th></th>\n",
       "      <th>name</th>\n",
       "      <th>area</th>\n",
       "      <th>population</th>\n",
       "      <th>longd</th>\n",
       "      <th>latd</th>\n",
       "    </tr>\n",
       "  </thead>\n",
       "  <tbody>\n",
       "    <tr>\n",
       "      <th>9</th>\n",
       "      <td>扬州市</td>\n",
       "      <td>6591.21</td>\n",
       "      <td>4459760</td>\n",
       "      <td>119.42</td>\n",
       "      <td>32.39</td>\n",
       "    </tr>\n",
       "    <tr>\n",
       "      <th>6</th>\n",
       "      <td>连云港市</td>\n",
       "      <td>7615.29</td>\n",
       "      <td>4393914</td>\n",
       "      <td>119.16</td>\n",
       "      <td>34.59</td>\n",
       "    </tr>\n",
       "    <tr>\n",
       "      <th>7</th>\n",
       "      <td>淮安市</td>\n",
       "      <td>9949.97</td>\n",
       "      <td>4799889</td>\n",
       "      <td>119.15</td>\n",
       "      <td>33.50</td>\n",
       "    </tr>\n",
       "    <tr>\n",
       "      <th>1</th>\n",
       "      <td>无锡市</td>\n",
       "      <td>4787.61</td>\n",
       "      <td>6372624</td>\n",
       "      <td>120.29</td>\n",
       "      <td>31.59</td>\n",
       "    </tr>\n",
       "    <tr>\n",
       "      <th>3</th>\n",
       "      <td>常州市</td>\n",
       "      <td>4384.57</td>\n",
       "      <td>4591972</td>\n",
       "      <td>119.95</td>\n",
       "      <td>31.79</td>\n",
       "    </tr>\n",
       "  </tbody>\n",
       "</table>\n",
       "</div>"
      ],
      "text/plain": [
       "   name     area  population   longd   latd\n",
       "9   扬州市  6591.21     4459760  119.42  32.39\n",
       "6  连云港市  7615.29     4393914  119.16  34.59\n",
       "7   淮安市  9949.97     4799889  119.15  33.50\n",
       "1   无锡市  4787.61     6372624  120.29  31.59\n",
       "3   常州市  4384.57     4591972  119.95  31.79"
      ]
     },
     "metadata": {},
     "execution_count": 8
    }
   ],
   "metadata": {}
  },
  {
   "cell_type": "markdown",
   "source": [],
   "metadata": {}
  },
  {
   "cell_type": "code",
   "execution_count": 9,
   "source": [
    "mapbox_token='you_mapbox_token'"
   ],
   "outputs": [],
   "metadata": {}
  },
  {
   "cell_type": "code",
   "execution_count": 10,
   "source": [
    "lat=df.latd\n",
    "lon=df.longd\n",
    "locations_name=df.name\n",
    "\n",
    "data=[\n",
    "    go.Scattermapbox(\n",
    "        lat=lat,\n",
    "        lon=lon,\n",
    "        mode='markers',\n",
    "        marker=dict(\n",
    "            size=17,\n",
    "            color='rgb(255,0,0)',\n",
    "            opacity=.7\n",
    "        ),\n",
    "        text=locations_name,\n",
    "        hoverinfo='text'\n",
    "    ),\n",
    "    go.Scattermapbox(\n",
    "        lat=lat,\n",
    "        lon=lon,\n",
    "        mode='markers',\n",
    "        marker=dict(\n",
    "            size=8,\n",
    "            color='rgb(242,177,172)',\n",
    "            opacity=.7\n",
    "        ),\n",
    "        text=locations_name,\n",
    "        hoverinfo='text'\n",
    "    )\n",
    "]\n",
    "\n",
    "layout=go.Layout(\n",
    "    title='The City of JIangsu',\n",
    "    autosize=True,\n",
    "    hovermode='closest',\n",
    "    showlegend=False,\n",
    "    mapbox=dict(\n",
    "        accesstoken=mapbox_token,\n",
    "        bearing=0,\n",
    "        center=dict(lat=31, lon=120),\n",
    "        pitch=0,\n",
    "        zoom=5,\n",
    "        style='light'\n",
    "    )\n",
    ")\n",
    "\n",
    "fig=dict(data=data, layout=layout)\n",
    "plotly.offline.plot(fig, filename='jiangsu_city_map')"
   ],
   "outputs": [
    {
     "output_type": "stream",
     "name": "stderr",
     "text": [
      "/Users/du/miniforge3/envs/tf/lib/python3.9/site-packages/plotly/offline/offline.py:562: UserWarning:\n",
      "\n",
      "Your filename `jiangsu_city_map` didn't end with .html. Adding .html to the end of your file.\n",
      "\n"
     ]
    },
    {
     "output_type": "execute_result",
     "data": {
      "text/plain": [
       "'jiangsu_city_map.html'"
      ]
     },
     "metadata": {},
     "execution_count": 10
    }
   ],
   "metadata": {}
  },
  {
   "cell_type": "code",
   "execution_count": 11,
   "source": [
    "## 金融数据可视化\n"
   ],
   "outputs": [],
   "metadata": {}
  },
  {
   "cell_type": "code",
   "execution_count": 15,
   "source": [
    "appl_df=pd.read_csv('~/data/cbcpv/appl/appl.csv', index_col=['date'], parse_dates=['date'])\n",
    "appl_df.sample(5)"
   ],
   "outputs": [
    {
     "output_type": "execute_result",
     "data": {
      "text/html": [
       "<div>\n",
       "<style scoped>\n",
       "    .dataframe tbody tr th:only-of-type {\n",
       "        vertical-align: middle;\n",
       "    }\n",
       "\n",
       "    .dataframe tbody tr th {\n",
       "        vertical-align: top;\n",
       "    }\n",
       "\n",
       "    .dataframe thead th {\n",
       "        text-align: right;\n",
       "    }\n",
       "</style>\n",
       "<table border=\"1\" class=\"dataframe\">\n",
       "  <thead>\n",
       "    <tr style=\"text-align: right;\">\n",
       "      <th></th>\n",
       "      <th>close</th>\n",
       "      <th>volume</th>\n",
       "      <th>open</th>\n",
       "      <th>high</th>\n",
       "      <th>low</th>\n",
       "    </tr>\n",
       "    <tr>\n",
       "      <th>date</th>\n",
       "      <th></th>\n",
       "      <th></th>\n",
       "      <th></th>\n",
       "      <th></th>\n",
       "      <th></th>\n",
       "    </tr>\n",
       "  </thead>\n",
       "  <tbody>\n",
       "    <tr>\n",
       "      <th>2018-03-20</th>\n",
       "      <td>175.24</td>\n",
       "      <td>19620520</td>\n",
       "      <td>175.240</td>\n",
       "      <td>176.80</td>\n",
       "      <td>174.94</td>\n",
       "    </tr>\n",
       "    <tr>\n",
       "      <th>2017-12-04</th>\n",
       "      <td>169.80</td>\n",
       "      <td>32512580</td>\n",
       "      <td>172.480</td>\n",
       "      <td>172.62</td>\n",
       "      <td>169.63</td>\n",
       "    </tr>\n",
       "    <tr>\n",
       "      <th>2016-07-27</th>\n",
       "      <td>102.95</td>\n",
       "      <td>92143920</td>\n",
       "      <td>104.265</td>\n",
       "      <td>104.35</td>\n",
       "      <td>102.75</td>\n",
       "    </tr>\n",
       "    <tr>\n",
       "      <th>2018-10-15</th>\n",
       "      <td>217.36</td>\n",
       "      <td>30280450</td>\n",
       "      <td>221.160</td>\n",
       "      <td>221.83</td>\n",
       "      <td>217.27</td>\n",
       "    </tr>\n",
       "    <tr>\n",
       "      <th>2017-08-10</th>\n",
       "      <td>155.32</td>\n",
       "      <td>39636190</td>\n",
       "      <td>159.900</td>\n",
       "      <td>160.00</td>\n",
       "      <td>154.63</td>\n",
       "    </tr>\n",
       "  </tbody>\n",
       "</table>\n",
       "</div>"
      ],
      "text/plain": [
       "             close    volume     open    high     low\n",
       "date                                                 \n",
       "2018-03-20  175.24  19620520  175.240  176.80  174.94\n",
       "2017-12-04  169.80  32512580  172.480  172.62  169.63\n",
       "2016-07-27  102.95  92143920  104.265  104.35  102.75\n",
       "2018-10-15  217.36  30280450  221.160  221.83  217.27\n",
       "2017-08-10  155.32  39636190  159.900  160.00  154.63"
      ]
     },
     "metadata": {},
     "execution_count": 15
    }
   ],
   "metadata": {}
  },
  {
   "cell_type": "code",
   "execution_count": 16,
   "source": [
    "data=[go.Scatter(\n",
    "    x=appl_df.index, y=appl_df['high']\n",
    ")]\n",
    "\n",
    "plotly.offline.init_notebook_mode(connected=True)\n",
    "plotly.offline.iplot(data)"
   ],
   "outputs": [
    {
     "output_type": "display_data",
     "data": {
      "text/html": [
       "        <script type=\"text/javascript\">\n",
       "        window.PlotlyConfig = {MathJaxConfig: 'local'};\n",
       "        if (window.MathJax) {MathJax.Hub.Config({SVG: {font: \"STIX-Web\"}});}\n",
       "        if (typeof require !== 'undefined') {\n",
       "        require.undef(\"plotly\");\n",
       "        requirejs.config({\n",
       "            paths: {\n",
       "                'plotly': ['https://cdn.plot.ly/plotly-2.4.2.min']\n",
       "            }\n",
       "        });\n",
       "        require(['plotly'], function(Plotly) {\n",
       "            window._Plotly = Plotly;\n",
       "        });\n",
       "        }\n",
       "        </script>\n",
       "        "
      ]
     },
     "metadata": {}
    },
    {
     "output_type": "display_data",
     "data": {
      "application/vnd.plotly.v1+json": {
       "config": {
        "linkText": "Export to plot.ly",
        "plotlyServerURL": "https://plot.ly",
        "showLink": false
       },
       "data": [
        {
         "type": "scatter",
         "x": [
          "2018-10-17T00:00:00",
          "2018-10-16T00:00:00",
          "2018-10-15T00:00:00",
          "2018-10-12T00:00:00",
          "2018-10-11T00:00:00",
          "2018-10-10T00:00:00",
          "2018-10-09T00:00:00",
          "2018-10-08T00:00:00",
          "2018-10-05T00:00:00",
          "2018-10-04T00:00:00",
          "2018-10-03T00:00:00",
          "2018-10-02T00:00:00",
          "2018-10-01T00:00:00",
          "2018-09-28T00:00:00",
          "2018-09-27T00:00:00",
          "2018-09-26T00:00:00",
          "2018-09-25T00:00:00",
          "2018-09-24T00:00:00",
          "2018-09-21T00:00:00",
          "2018-09-20T00:00:00",
          "2018-09-19T00:00:00",
          "2018-09-18T00:00:00",
          "2018-09-17T00:00:00",
          "2018-09-14T00:00:00",
          "2018-09-13T00:00:00",
          "2018-09-12T00:00:00",
          "2018-09-11T00:00:00",
          "2018-09-10T00:00:00",
          "2018-09-07T00:00:00",
          "2018-09-06T00:00:00",
          "2018-09-05T00:00:00",
          "2018-09-04T00:00:00",
          "2018-08-31T00:00:00",
          "2018-08-30T00:00:00",
          "2018-08-29T00:00:00",
          "2018-08-28T00:00:00",
          "2018-08-27T00:00:00",
          "2018-08-24T00:00:00",
          "2018-08-23T00:00:00",
          "2018-08-22T00:00:00",
          "2018-08-21T00:00:00",
          "2018-08-20T00:00:00",
          "2018-08-17T00:00:00",
          "2018-08-16T00:00:00",
          "2018-08-15T00:00:00",
          "2018-08-14T00:00:00",
          "2018-08-13T00:00:00",
          "2018-08-10T00:00:00",
          "2018-08-09T00:00:00",
          "2018-08-08T00:00:00",
          "2018-08-07T00:00:00",
          "2018-08-06T00:00:00",
          "2018-08-03T00:00:00",
          "2018-08-02T00:00:00",
          "2018-08-01T00:00:00",
          "2018-07-31T00:00:00",
          "2018-07-30T00:00:00",
          "2018-07-27T00:00:00",
          "2018-07-26T00:00:00",
          "2018-07-25T00:00:00",
          "2018-07-24T00:00:00",
          "2018-07-23T00:00:00",
          "2018-07-20T00:00:00",
          "2018-07-19T00:00:00",
          "2018-07-18T00:00:00",
          "2018-07-17T00:00:00",
          "2018-07-16T00:00:00",
          "2018-07-13T00:00:00",
          "2018-07-12T00:00:00",
          "2018-07-11T00:00:00",
          "2018-07-10T00:00:00",
          "2018-07-09T00:00:00",
          "2018-07-06T00:00:00",
          "2018-07-05T00:00:00",
          "2018-07-03T00:00:00",
          "2018-07-02T00:00:00",
          "2018-06-29T00:00:00",
          "2018-06-28T00:00:00",
          "2018-06-27T00:00:00",
          "2018-06-26T00:00:00",
          "2018-06-25T00:00:00",
          "2018-06-22T00:00:00",
          "2018-06-21T00:00:00",
          "2018-06-20T00:00:00",
          "2018-06-19T00:00:00",
          "2018-06-18T00:00:00",
          "2018-06-15T00:00:00",
          "2018-06-14T00:00:00",
          "2018-06-13T00:00:00",
          "2018-06-12T00:00:00",
          "2018-06-11T00:00:00",
          "2018-06-08T00:00:00",
          "2018-06-07T00:00:00",
          "2018-06-06T00:00:00",
          "2018-06-05T00:00:00",
          "2018-06-04T00:00:00",
          "2018-06-01T00:00:00",
          "2018-05-31T00:00:00",
          "2018-05-30T00:00:00",
          "2018-05-29T00:00:00",
          "2018-05-25T00:00:00",
          "2018-05-24T00:00:00",
          "2018-05-23T00:00:00",
          "2018-05-22T00:00:00",
          "2018-05-21T00:00:00",
          "2018-05-18T00:00:00",
          "2018-05-17T00:00:00",
          "2018-05-16T00:00:00",
          "2018-05-15T00:00:00",
          "2018-05-14T00:00:00",
          "2018-05-11T00:00:00",
          "2018-05-10T00:00:00",
          "2018-05-09T00:00:00",
          "2018-05-08T00:00:00",
          "2018-05-07T00:00:00",
          "2018-05-04T00:00:00",
          "2018-05-03T00:00:00",
          "2018-05-02T00:00:00",
          "2018-05-01T00:00:00",
          "2018-04-30T00:00:00",
          "2018-04-27T00:00:00",
          "2018-04-26T00:00:00",
          "2018-04-25T00:00:00",
          "2018-04-24T00:00:00",
          "2018-04-23T00:00:00",
          "2018-04-20T00:00:00",
          "2018-04-19T00:00:00",
          "2018-04-18T00:00:00",
          "2018-04-17T00:00:00",
          "2018-04-16T00:00:00",
          "2018-04-13T00:00:00",
          "2018-04-12T00:00:00",
          "2018-04-11T00:00:00",
          "2018-04-10T00:00:00",
          "2018-04-09T00:00:00",
          "2018-04-06T00:00:00",
          "2018-04-05T00:00:00",
          "2018-04-04T00:00:00",
          "2018-04-03T00:00:00",
          "2018-04-02T00:00:00",
          "2018-03-29T00:00:00",
          "2018-03-28T00:00:00",
          "2018-03-27T00:00:00",
          "2018-03-26T00:00:00",
          "2018-03-23T00:00:00",
          "2018-03-22T00:00:00",
          "2018-03-21T00:00:00",
          "2018-03-20T00:00:00",
          "2018-03-19T00:00:00",
          "2018-03-16T00:00:00",
          "2018-03-15T00:00:00",
          "2018-03-14T00:00:00",
          "2018-03-13T00:00:00",
          "2018-03-12T00:00:00",
          "2018-03-09T00:00:00",
          "2018-03-08T00:00:00",
          "2018-03-07T00:00:00",
          "2018-03-06T00:00:00",
          "2018-03-05T00:00:00",
          "2018-03-02T00:00:00",
          "2018-03-01T00:00:00",
          "2018-02-28T00:00:00",
          "2018-02-27T00:00:00",
          "2018-02-26T00:00:00",
          "2018-02-23T00:00:00",
          "2018-02-22T00:00:00",
          "2018-02-21T00:00:00",
          "2018-02-20T00:00:00",
          "2018-02-16T00:00:00",
          "2018-02-15T00:00:00",
          "2018-02-14T00:00:00",
          "2018-02-13T00:00:00",
          "2018-02-12T00:00:00",
          "2018-02-09T00:00:00",
          "2018-02-08T00:00:00",
          "2018-02-07T00:00:00",
          "2018-02-06T00:00:00",
          "2018-02-05T00:00:00",
          "2018-02-02T00:00:00",
          "2018-02-01T00:00:00",
          "2018-01-31T00:00:00",
          "2018-01-30T00:00:00",
          "2018-01-29T00:00:00",
          "2018-01-26T00:00:00",
          "2018-01-25T00:00:00",
          "2018-01-24T00:00:00",
          "2018-01-23T00:00:00",
          "2018-01-22T00:00:00",
          "2018-01-19T00:00:00",
          "2018-01-18T00:00:00",
          "2018-01-17T00:00:00",
          "2018-01-16T00:00:00",
          "2018-01-12T00:00:00",
          "2018-01-11T00:00:00",
          "2018-01-10T00:00:00",
          "2018-01-09T00:00:00",
          "2018-01-08T00:00:00",
          "2018-01-05T00:00:00",
          "2018-01-04T00:00:00",
          "2018-01-03T00:00:00",
          "2018-01-02T00:00:00",
          "2017-12-29T00:00:00",
          "2017-12-28T00:00:00",
          "2017-12-27T00:00:00",
          "2017-12-26T00:00:00",
          "2017-12-22T00:00:00",
          "2017-12-21T00:00:00",
          "2017-12-20T00:00:00",
          "2017-12-19T00:00:00",
          "2017-12-18T00:00:00",
          "2017-12-15T00:00:00",
          "2017-12-14T00:00:00",
          "2017-12-13T00:00:00",
          "2017-12-12T00:00:00",
          "2017-12-11T00:00:00",
          "2017-12-08T00:00:00",
          "2017-12-07T00:00:00",
          "2017-12-06T00:00:00",
          "2017-12-05T00:00:00",
          "2017-12-04T00:00:00",
          "2017-12-01T00:00:00",
          "2017-11-30T00:00:00",
          "2017-11-29T00:00:00",
          "2017-11-28T00:00:00",
          "2017-11-27T00:00:00",
          "2017-11-24T00:00:00",
          "2017-11-22T00:00:00",
          "2017-11-21T00:00:00",
          "2017-11-20T00:00:00",
          "2017-11-17T00:00:00",
          "2017-11-16T00:00:00",
          "2017-11-15T00:00:00",
          "2017-11-14T00:00:00",
          "2017-11-13T00:00:00",
          "2017-11-10T00:00:00",
          "2017-11-09T00:00:00",
          "2017-11-08T00:00:00",
          "2017-11-07T00:00:00",
          "2017-11-06T00:00:00",
          "2017-11-03T00:00:00",
          "2017-11-02T00:00:00",
          "2017-11-01T00:00:00",
          "2017-10-31T00:00:00",
          "2017-10-30T00:00:00",
          "2017-10-27T00:00:00",
          "2017-10-26T00:00:00",
          "2017-10-25T00:00:00",
          "2017-10-24T00:00:00",
          "2017-10-23T00:00:00",
          "2017-10-20T00:00:00",
          "2017-10-19T00:00:00",
          "2017-10-18T00:00:00",
          "2017-10-17T00:00:00",
          "2017-10-16T00:00:00",
          "2017-10-13T00:00:00",
          "2017-10-12T00:00:00",
          "2017-10-11T00:00:00",
          "2017-10-10T00:00:00",
          "2017-10-09T00:00:00",
          "2017-10-06T00:00:00",
          "2017-10-05T00:00:00",
          "2017-10-04T00:00:00",
          "2017-10-03T00:00:00",
          "2017-10-02T00:00:00",
          "2017-09-29T00:00:00",
          "2017-09-28T00:00:00",
          "2017-09-27T00:00:00",
          "2017-09-26T00:00:00",
          "2017-09-25T00:00:00",
          "2017-09-22T00:00:00",
          "2017-09-21T00:00:00",
          "2017-09-20T00:00:00",
          "2017-09-19T00:00:00",
          "2017-09-18T00:00:00",
          "2017-09-15T00:00:00",
          "2017-09-14T00:00:00",
          "2017-09-13T00:00:00",
          "2017-09-12T00:00:00",
          "2017-09-11T00:00:00",
          "2017-09-08T00:00:00",
          "2017-09-07T00:00:00",
          "2017-09-06T00:00:00",
          "2017-09-05T00:00:00",
          "2017-09-01T00:00:00",
          "2017-08-31T00:00:00",
          "2017-08-30T00:00:00",
          "2017-08-29T00:00:00",
          "2017-08-28T00:00:00",
          "2017-08-25T00:00:00",
          "2017-08-24T00:00:00",
          "2017-08-23T00:00:00",
          "2017-08-22T00:00:00",
          "2017-08-21T00:00:00",
          "2017-08-18T00:00:00",
          "2017-08-17T00:00:00",
          "2017-08-16T00:00:00",
          "2017-08-15T00:00:00",
          "2017-08-14T00:00:00",
          "2017-08-11T00:00:00",
          "2017-08-10T00:00:00",
          "2017-08-09T00:00:00",
          "2017-08-08T00:00:00",
          "2017-08-07T00:00:00",
          "2017-08-04T00:00:00",
          "2017-08-03T00:00:00",
          "2017-08-02T00:00:00",
          "2017-08-01T00:00:00",
          "2017-07-31T00:00:00",
          "2017-07-28T00:00:00",
          "2017-07-27T00:00:00",
          "2017-07-26T00:00:00",
          "2017-07-25T00:00:00",
          "2017-07-24T00:00:00",
          "2017-07-21T00:00:00",
          "2017-07-20T00:00:00",
          "2017-07-19T00:00:00",
          "2017-07-18T00:00:00",
          "2017-07-17T00:00:00",
          "2017-07-14T00:00:00",
          "2017-07-13T00:00:00",
          "2017-07-12T00:00:00",
          "2017-07-11T00:00:00",
          "2017-07-10T00:00:00",
          "2017-07-07T00:00:00",
          "2017-07-06T00:00:00",
          "2017-07-05T00:00:00",
          "2017-07-03T00:00:00",
          "2017-06-30T00:00:00",
          "2017-06-29T00:00:00",
          "2017-06-28T00:00:00",
          "2017-06-27T00:00:00",
          "2017-06-26T00:00:00",
          "2017-06-23T00:00:00",
          "2017-06-22T00:00:00",
          "2017-06-21T00:00:00",
          "2017-06-20T00:00:00",
          "2017-06-19T00:00:00",
          "2017-06-16T00:00:00",
          "2017-06-15T00:00:00",
          "2017-06-14T00:00:00",
          "2017-06-13T00:00:00",
          "2017-06-12T00:00:00",
          "2017-06-09T00:00:00",
          "2017-06-08T00:00:00",
          "2017-06-07T00:00:00",
          "2017-06-06T00:00:00",
          "2017-06-05T00:00:00",
          "2017-06-02T00:00:00",
          "2017-06-01T00:00:00",
          "2017-05-31T00:00:00",
          "2017-05-30T00:00:00",
          "2017-05-26T00:00:00",
          "2017-05-25T00:00:00",
          "2017-05-24T00:00:00",
          "2017-05-23T00:00:00",
          "2017-05-22T00:00:00",
          "2017-05-19T00:00:00",
          "2017-05-18T00:00:00",
          "2017-05-17T00:00:00",
          "2017-05-16T00:00:00",
          "2017-05-15T00:00:00",
          "2017-05-12T00:00:00",
          "2017-05-11T00:00:00",
          "2017-05-10T00:00:00",
          "2017-05-09T00:00:00",
          "2017-05-08T00:00:00",
          "2017-05-05T00:00:00",
          "2017-05-04T00:00:00",
          "2017-05-03T00:00:00",
          "2017-05-02T00:00:00",
          "2017-05-01T00:00:00",
          "2017-04-28T00:00:00",
          "2017-04-27T00:00:00",
          "2017-04-26T00:00:00",
          "2017-04-25T00:00:00",
          "2017-04-24T00:00:00",
          "2017-04-21T00:00:00",
          "2017-04-20T00:00:00",
          "2017-04-19T00:00:00",
          "2017-04-18T00:00:00",
          "2017-04-17T00:00:00",
          "2017-04-13T00:00:00",
          "2017-04-12T00:00:00",
          "2017-04-11T00:00:00",
          "2017-04-10T00:00:00",
          "2017-04-07T00:00:00",
          "2017-04-06T00:00:00",
          "2017-04-05T00:00:00",
          "2017-04-04T00:00:00",
          "2017-04-03T00:00:00",
          "2017-03-31T00:00:00",
          "2017-03-30T00:00:00",
          "2017-03-29T00:00:00",
          "2017-03-28T00:00:00",
          "2017-03-27T00:00:00",
          "2017-03-24T00:00:00",
          "2017-03-23T00:00:00",
          "2017-03-22T00:00:00",
          "2017-03-21T00:00:00",
          "2017-03-20T00:00:00",
          "2017-03-17T00:00:00",
          "2017-03-16T00:00:00",
          "2017-03-15T00:00:00",
          "2017-03-14T00:00:00",
          "2017-03-13T00:00:00",
          "2017-03-10T00:00:00",
          "2017-03-09T00:00:00",
          "2017-03-08T00:00:00",
          "2017-03-07T00:00:00",
          "2017-03-06T00:00:00",
          "2017-03-03T00:00:00",
          "2017-03-02T00:00:00",
          "2017-03-01T00:00:00",
          "2017-02-28T00:00:00",
          "2017-02-27T00:00:00",
          "2017-02-24T00:00:00",
          "2017-02-23T00:00:00",
          "2017-02-22T00:00:00",
          "2017-02-21T00:00:00",
          "2017-02-17T00:00:00",
          "2017-02-16T00:00:00",
          "2017-02-15T00:00:00",
          "2017-02-14T00:00:00",
          "2017-02-13T00:00:00",
          "2017-02-10T00:00:00",
          "2017-02-09T00:00:00",
          "2017-02-08T00:00:00",
          "2017-02-07T00:00:00",
          "2017-02-06T00:00:00",
          "2017-02-03T00:00:00",
          "2017-02-02T00:00:00",
          "2017-02-01T00:00:00",
          "2017-01-31T00:00:00",
          "2017-01-30T00:00:00",
          "2017-01-27T00:00:00",
          "2017-01-26T00:00:00",
          "2017-01-25T00:00:00",
          "2017-01-24T00:00:00",
          "2017-01-23T00:00:00",
          "2017-01-20T00:00:00",
          "2017-01-19T00:00:00",
          "2017-01-18T00:00:00",
          "2017-01-17T00:00:00",
          "2017-01-13T00:00:00",
          "2017-01-12T00:00:00",
          "2017-01-11T00:00:00",
          "2017-01-10T00:00:00",
          "2017-01-09T00:00:00",
          "2017-01-06T00:00:00",
          "2017-01-05T00:00:00",
          "2017-01-04T00:00:00",
          "2017-01-03T00:00:00",
          "2016-12-30T00:00:00",
          "2016-12-29T00:00:00",
          "2016-12-28T00:00:00",
          "2016-12-27T00:00:00",
          "2016-12-23T00:00:00",
          "2016-12-22T00:00:00",
          "2016-12-21T00:00:00",
          "2016-12-20T00:00:00",
          "2016-12-19T00:00:00",
          "2016-12-16T00:00:00",
          "2016-12-15T00:00:00",
          "2016-12-14T00:00:00",
          "2016-12-13T00:00:00",
          "2016-12-12T00:00:00",
          "2016-12-09T00:00:00",
          "2016-12-08T00:00:00",
          "2016-12-07T00:00:00",
          "2016-12-06T00:00:00",
          "2016-12-05T00:00:00",
          "2016-12-02T00:00:00",
          "2016-12-01T00:00:00",
          "2016-11-30T00:00:00",
          "2016-11-29T00:00:00",
          "2016-11-28T00:00:00",
          "2016-11-25T00:00:00",
          "2016-11-23T00:00:00",
          "2016-11-22T00:00:00",
          "2016-11-21T00:00:00",
          "2016-11-18T00:00:00",
          "2016-11-17T00:00:00",
          "2016-11-16T00:00:00",
          "2016-11-15T00:00:00",
          "2016-11-14T00:00:00",
          "2016-11-11T00:00:00",
          "2016-11-10T00:00:00",
          "2016-11-09T00:00:00",
          "2016-11-08T00:00:00",
          "2016-11-07T00:00:00",
          "2016-11-04T00:00:00",
          "2016-11-03T00:00:00",
          "2016-11-02T00:00:00",
          "2016-11-01T00:00:00",
          "2016-10-31T00:00:00",
          "2016-10-28T00:00:00",
          "2016-10-27T00:00:00",
          "2016-10-26T00:00:00",
          "2016-10-25T00:00:00",
          "2016-10-24T00:00:00",
          "2016-10-21T00:00:00",
          "2016-10-20T00:00:00",
          "2016-10-19T00:00:00",
          "2016-10-18T00:00:00",
          "2016-10-17T00:00:00",
          "2016-10-14T00:00:00",
          "2016-10-13T00:00:00",
          "2016-10-12T00:00:00",
          "2016-10-11T00:00:00",
          "2016-10-10T00:00:00",
          "2016-10-07T00:00:00",
          "2016-10-06T00:00:00",
          "2016-10-05T00:00:00",
          "2016-10-04T00:00:00",
          "2016-10-03T00:00:00",
          "2016-09-30T00:00:00",
          "2016-09-29T00:00:00",
          "2016-09-28T00:00:00",
          "2016-09-27T00:00:00",
          "2016-09-26T00:00:00",
          "2016-09-23T00:00:00",
          "2016-09-22T00:00:00",
          "2016-09-21T00:00:00",
          "2016-09-20T00:00:00",
          "2016-09-19T00:00:00",
          "2016-09-16T00:00:00",
          "2016-09-15T00:00:00",
          "2016-09-14T00:00:00",
          "2016-09-13T00:00:00",
          "2016-09-12T00:00:00",
          "2016-09-09T00:00:00",
          "2016-09-08T00:00:00",
          "2016-09-07T00:00:00",
          "2016-09-06T00:00:00",
          "2016-09-02T00:00:00",
          "2016-09-01T00:00:00",
          "2016-08-31T00:00:00",
          "2016-08-30T00:00:00",
          "2016-08-29T00:00:00",
          "2016-08-26T00:00:00",
          "2016-08-25T00:00:00",
          "2016-08-24T00:00:00",
          "2016-08-23T00:00:00",
          "2016-08-22T00:00:00",
          "2016-08-19T00:00:00",
          "2016-08-18T00:00:00",
          "2016-08-17T00:00:00",
          "2016-08-16T00:00:00",
          "2016-08-15T00:00:00",
          "2016-08-12T00:00:00",
          "2016-08-11T00:00:00",
          "2016-08-10T00:00:00",
          "2016-08-09T00:00:00",
          "2016-08-08T00:00:00",
          "2016-08-05T00:00:00",
          "2016-08-04T00:00:00",
          "2016-08-03T00:00:00",
          "2016-08-02T00:00:00",
          "2016-08-01T00:00:00",
          "2016-07-29T00:00:00",
          "2016-07-28T00:00:00",
          "2016-07-27T00:00:00",
          "2016-07-26T00:00:00",
          "2016-07-25T00:00:00",
          "2016-07-22T00:00:00",
          "2016-07-21T00:00:00",
          "2016-07-20T00:00:00",
          "2016-07-19T00:00:00",
          "2016-07-18T00:00:00",
          "2016-07-15T00:00:00",
          "2016-07-14T00:00:00",
          "2016-07-13T00:00:00",
          "2016-07-12T00:00:00",
          "2016-07-11T00:00:00",
          "2016-07-08T00:00:00",
          "2016-07-07T00:00:00",
          "2016-07-06T00:00:00",
          "2016-07-05T00:00:00",
          "2016-07-01T00:00:00",
          "2016-06-30T00:00:00",
          "2016-06-29T00:00:00",
          "2016-06-28T00:00:00",
          "2016-06-27T00:00:00",
          "2016-06-24T00:00:00",
          "2016-06-23T00:00:00",
          "2016-06-22T00:00:00",
          "2016-06-21T00:00:00",
          "2016-06-20T00:00:00",
          "2016-06-17T00:00:00",
          "2016-06-16T00:00:00",
          "2016-06-15T00:00:00",
          "2016-06-14T00:00:00",
          "2016-06-13T00:00:00",
          "2016-06-10T00:00:00",
          "2016-06-09T00:00:00",
          "2016-06-08T00:00:00",
          "2016-06-07T00:00:00",
          "2016-06-06T00:00:00",
          "2016-06-03T00:00:00",
          "2016-06-02T00:00:00",
          "2016-06-01T00:00:00",
          "2016-05-31T00:00:00",
          "2016-05-27T00:00:00",
          "2016-05-26T00:00:00",
          "2016-05-25T00:00:00",
          "2016-05-24T00:00:00",
          "2016-05-23T00:00:00",
          "2016-05-20T00:00:00",
          "2016-05-19T00:00:00",
          "2016-05-18T00:00:00",
          "2016-05-17T00:00:00",
          "2016-05-16T00:00:00",
          "2016-05-13T00:00:00",
          "2016-05-12T00:00:00",
          "2016-05-11T00:00:00",
          "2016-05-10T00:00:00",
          "2016-05-09T00:00:00",
          "2016-05-06T00:00:00",
          "2016-05-05T00:00:00",
          "2016-05-04T00:00:00",
          "2016-05-03T00:00:00",
          "2016-05-02T00:00:00",
          "2016-04-29T00:00:00",
          "2016-04-28T00:00:00",
          "2016-04-27T00:00:00",
          "2016-04-26T00:00:00",
          "2016-04-25T00:00:00",
          "2016-04-22T00:00:00",
          "2016-04-21T00:00:00",
          "2016-04-20T00:00:00",
          "2016-04-19T00:00:00",
          "2016-04-18T00:00:00",
          "2016-04-15T00:00:00",
          "2016-04-14T00:00:00",
          "2016-04-13T00:00:00",
          "2016-04-12T00:00:00",
          "2016-04-11T00:00:00",
          "2016-04-08T00:00:00",
          "2016-04-07T00:00:00",
          "2016-04-06T00:00:00",
          "2016-04-05T00:00:00",
          "2016-04-04T00:00:00",
          "2016-04-01T00:00:00",
          "2016-03-31T00:00:00",
          "2016-03-30T00:00:00",
          "2016-03-29T00:00:00",
          "2016-03-28T00:00:00",
          "2016-03-24T00:00:00",
          "2016-03-23T00:00:00",
          "2016-03-22T00:00:00",
          "2016-03-21T00:00:00",
          "2016-03-18T00:00:00",
          "2016-03-17T00:00:00",
          "2016-03-16T00:00:00",
          "2016-03-15T00:00:00",
          "2016-03-14T00:00:00",
          "2016-03-11T00:00:00",
          "2016-03-10T00:00:00",
          "2016-03-09T00:00:00",
          "2016-03-08T00:00:00",
          "2016-03-07T00:00:00",
          "2016-03-04T00:00:00",
          "2016-03-03T00:00:00",
          "2016-03-02T00:00:00",
          "2016-03-01T00:00:00",
          "2016-02-29T00:00:00",
          "2016-02-26T00:00:00",
          "2016-02-25T00:00:00",
          "2016-02-24T00:00:00",
          "2016-02-23T00:00:00",
          "2016-02-22T00:00:00",
          "2016-02-19T00:00:00",
          "2016-02-18T00:00:00",
          "2016-02-17T00:00:00",
          "2016-02-16T00:00:00",
          "2016-02-12T00:00:00",
          "2016-02-11T00:00:00",
          "2016-02-10T00:00:00",
          "2016-02-09T00:00:00",
          "2016-02-08T00:00:00",
          "2016-02-05T00:00:00",
          "2016-02-04T00:00:00",
          "2016-02-03T00:00:00",
          "2016-02-02T00:00:00",
          "2016-02-01T00:00:00",
          "2016-01-29T00:00:00",
          "2016-01-28T00:00:00",
          "2016-01-27T00:00:00",
          "2016-01-26T00:00:00",
          "2016-01-25T00:00:00",
          "2016-01-22T00:00:00",
          "2016-01-21T00:00:00",
          "2016-01-20T00:00:00",
          "2016-01-19T00:00:00",
          "2016-01-15T00:00:00",
          "2016-01-14T00:00:00",
          "2016-01-13T00:00:00",
          "2016-01-12T00:00:00",
          "2016-01-11T00:00:00",
          "2016-01-08T00:00:00",
          "2016-01-07T00:00:00",
          "2016-01-06T00:00:00",
          "2016-01-05T00:00:00",
          "2016-01-04T00:00:00",
          "2015-12-31T00:00:00",
          "2015-12-30T00:00:00",
          "2015-12-29T00:00:00",
          "2015-12-28T00:00:00",
          "2015-12-24T00:00:00",
          "2015-12-23T00:00:00",
          "2015-12-22T00:00:00",
          "2015-12-21T00:00:00",
          "2015-12-18T00:00:00",
          "2015-12-17T00:00:00",
          "2015-12-16T00:00:00",
          "2015-12-15T00:00:00",
          "2015-12-14T00:00:00",
          "2015-12-11T00:00:00",
          "2015-12-10T00:00:00",
          "2015-12-09T00:00:00",
          "2015-12-08T00:00:00",
          "2015-12-07T00:00:00",
          "2015-12-04T00:00:00",
          "2015-12-03T00:00:00",
          "2015-12-02T00:00:00",
          "2015-12-01T00:00:00",
          "2015-11-30T00:00:00",
          "2015-11-27T00:00:00",
          "2015-11-25T00:00:00",
          "2015-11-24T00:00:00",
          "2015-11-23T00:00:00",
          "2015-11-20T00:00:00",
          "2015-11-19T00:00:00",
          "2015-11-18T00:00:00",
          "2015-11-17T00:00:00",
          "2015-11-16T00:00:00",
          "2015-11-13T00:00:00",
          "2015-11-12T00:00:00",
          "2015-11-11T00:00:00",
          "2015-11-10T00:00:00",
          "2015-11-09T00:00:00",
          "2015-11-06T00:00:00",
          "2015-11-05T00:00:00",
          "2015-11-04T00:00:00",
          "2015-11-03T00:00:00",
          "2015-11-02T00:00:00",
          "2015-10-30T00:00:00",
          "2015-10-29T00:00:00",
          "2015-10-28T00:00:00",
          "2015-10-27T00:00:00",
          "2015-10-26T00:00:00",
          "2015-10-23T00:00:00",
          "2015-10-22T00:00:00",
          "2015-10-21T00:00:00",
          "2015-10-20T00:00:00",
          "2015-10-19T00:00:00"
         ],
         "y": [
          222.64,
          222.99,
          221.83,
          222.88,
          219.5,
          226.35,
          227.27,
          224.8,
          228.41,
          232.35,
          233.47,
          230,
          229.42,
          225.84,
          226.44,
          223.75,
          222.82,
          221.26,
          221.36,
          222.28,
          219.62,
          221.85,
          222.95,
          226.84,
          228.35,
          225,
          224.299,
          221.85,
          225.37,
          227.35,
          229.67,
          229.18,
          228.87,
          228.26,
          223.49,
          220.54,
          218.74,
          216.9,
          217.05,
          216.36,
          217.19,
          219.18,
          217.95,
          213.8121,
          210.74,
          210.56,
          210.952,
          209.1,
          209.78,
          207.81,
          209.5,
          209.25,
          208.74,
          208.38,
          201.76,
          192.14,
          192.2,
          195.19,
          195.96,
          194.85,
          193.6601,
          191.96,
          192.43,
          192.55,
          191.8,
          191.87,
          192.65,
          191.84,
          191.41,
          189.7799,
          191.28,
          190.68,
          188.434,
          186.41,
          187.95,
          187.3,
          187.19,
          186.21,
          187.28,
          186.53,
          184.92,
          186.15,
          188.35,
          187.2,
          186.33,
          189.22,
          190.16,
          191.57,
          192.88,
          192.611,
          191.97,
          192,
          194.2,
          194.08,
          193.94,
          193.42,
          190.26,
          188.23,
          188,
          188.75,
          189.65,
          188.84,
          188.5,
          188.88,
          189.27,
          187.8102,
          188.91,
          188.46,
          187.07,
          189.53,
          190.06,
          190.37,
          187.4,
          186.22,
          187.67,
          184.25,
          177.5,
          177.75,
          169.2,
          167.26,
          164.33,
          165.73,
          165.42,
          166.33,
          166.92,
          171.2184,
          175.39,
          178.82,
          178.9365,
          176.19,
          175.84,
          175,
          173.9232,
          174,
          173.09,
          172.48,
          174.2304,
          172.01,
          168.7455,
          168.94,
          171.75,
          170.02,
          175.15,
          173.1,
          169.92,
          172.68,
          175.09,
          176.8,
          177.47,
          179.12,
          180.24,
          180.52,
          183.5,
          182.39,
          180,
          177.12,
          175.85,
          178.25,
          177.74,
          176.3,
          179.775,
          180.615,
          180.48,
          179.39,
          175.65,
          173.95,
          174.12,
          174.26,
          174.82,
          173.09,
          167.54,
          164.75,
          163.89,
          157.89,
          161,
          163.4,
          163.72,
          163.88,
          166.8,
          168.62,
          168.4417,
          167.37,
          170.16,
          172,
          174.95,
          177.3,
          179.44,
          177.78,
          179.58,
          180.1,
          179.25,
          179.39,
          177.36,
          175.4886,
          174.3,
          175.06,
          175.61,
          175.37,
          173.47,
          174.55,
          172.3,
          170.59,
          171.85,
          170.78,
          171.47,
          175.424,
          176.02,
          175.42,
          175.39,
          177.2,
          174.17,
          173.13,
          173.54,
          172.39,
          172.89,
          171,
          170.44,
          170.2047,
          171.52,
          172.62,
          171.67,
          172.14,
          172.92,
          174.87,
          175.08,
          175.5,
          175,
          173.7,
          170.56,
          171.39,
          171.87,
          170.3197,
          173.48,
          174.5,
          175.38,
          176.095,
          176.24,
          175.25,
          174.99,
          174.26,
          168.5,
          169.94,
          169.6499,
          168.07,
          163.6,
          157.8295,
          157.55,
          157.42,
          157.69,
          157.75,
          157.08,
          160.71,
          160.87,
          160,
          157.28,
          157.37,
          156.98,
          158,
          156.73,
          155.49,
          155.44,
          153.86,
          155.09,
          154.45,
          154.13,
          154.28,
          154.7189,
          153.92,
          151.83,
          152.27,
          155.8,
          158.26,
          159.77,
          160.5,
          160.97,
          159.4,
          159.96,
          163.96,
          162.05,
          161.15,
          162.24,
          162.99,
          164.25,
          164.94,
          164.52,
          163.89,
          163.12,
          162,
          160.56,
          160.74,
          160.47,
          160,
          157.89,
          159.5,
          160.71,
          162.51,
          162.195,
          160.21,
          158.5728,
          160,
          161.27,
          161.83,
          158.92,
          157.4,
          157.21,
          159.75,
          150.22,
          150.33,
          150.23,
          153.99,
          153.93,
          153.84,
          152.44,
          150.44,
          151.74,
          151.42,
          150.13,
          150.9,
          149.33,
          148.49,
          146.18,
          145.85,
          145.95,
          144.75,
          143.5,
          144.79,
          145.3001,
          144.96,
          145.13,
          146.11,
          146.16,
          148.28,
          147.16,
          146.7,
          146.0693,
          146.87,
          146.74,
          144.5,
          144.4798,
          147.5,
          147.45,
          146.09,
          155.19,
          155.54,
          155.98,
          155.81,
          154.45,
          155.45,
          153.33,
          154.17,
          154.43,
          154.24,
          154.35,
          154.17,
          154.9,
          154.58,
          153.98,
          153.34,
          154.57,
          156.06,
          156.65,
          156.42,
          154.07,
          153.94,
          154.88,
          153.7,
          148.98,
          147.14,
          147.49,
          148.09,
          147.2,
          144.3,
          144.16,
          144.6,
          144.9,
          143.95,
          142.68,
          142.92,
          142,
          142.04,
          141.88,
          142.38,
          142.15,
          143.35,
          143.8792,
          144.18,
          144.52,
          145.46,
          144.89,
          144.12,
          144.27,
          144.5,
          144.49,
          144.04,
          141.22,
          141.74,
          141.5844,
          141.6,
          142.8,
          141.5,
          141,
          141.02,
          140.7501,
          139.65,
          139.43,
          139.3571,
          138.79,
          139.8,
          139.98,
          139.77,
          139.83,
          140.2786,
          140.15,
          137.435,
          137.435,
          136.66,
          137.48,
          137.12,
          136.75,
          135.83,
          135.9,
          136.27,
          135.09,
          133.82,
          132.94,
          132.445,
          132.22,
          132.09,
          130.5,
          129.19,
          129.39,
          130.49,
          121.39,
          121.63,
          122.35,
          122.44,
          122.1,
          120.1,
          120.81,
          120.45,
          120.09,
          120.5,
          120.24,
          119.62,
          119.3,
          119.93,
          119.38,
          119.43,
          118.16,
          116.8642,
          116.51,
          116.33,
          117.2,
          117.1095,
          118.0166,
          117.8,
          116.52,
          116.51,
          117.4,
          117.5,
          117.38,
          116.5,
          116.73,
          116.2,
          115.92,
          115,
          114.7,
          112.43,
          111.19,
          110.36,
          110.03,
          110.09,
          110.94,
          112.2,
          112.03,
          112.465,
          111.87,
          111.51,
          112.42,
          111.99,
          110.54,
          110.35,
          110.23,
          107.68,
          107.809,
          108.87,
          111.09,
          111.32,
          111.72,
          110.51,
          110.25,
          111.46,
          112.35,
          113.77,
          114.23,
          115.21,
          115.86,
          115.7,
          118.36,
          117.74,
          116.91,
          117.38,
          117.76,
          118.21,
          117.84,
          118.17,
          117.44,
          117.98,
          118.69,
          116.75,
          114.56,
          114.34,
          113.66,
          114.31,
          113.05,
          113.37,
          113.8,
          114.64,
          113.18,
          113.39,
          114.79,
          114.94,
          113.989,
          114.12,
          116.18,
          116.13,
          115.73,
          113.03,
          108.79,
          105.72,
          105.72,
          107.27,
          108.76,
          108.3,
          108,
          106.8,
          106.5699,
          106.5,
          107.44,
          107.95,
          107.88,
          108.75,
          109.32,
          109.1,
          109.69,
          109.6,
          109.37,
          110.23,
          109.54,
          108.44,
          108.93,
          108.9,
          108.94,
          108.37,
          107.65,
          106,
          105.84,
          106.07,
          106.15,
          104.55,
          104.45,
          104.35,
          97.97,
          98.84,
          99.3,
          101,
          100.46,
          100,
          100.13,
          99.3,
          98.99,
          97.67,
          97.7,
          97.65,
          96.89,
          96.5,
          95.66,
          95.4,
          96.465,
          95.77,
          94.55,
          93.66,
          93.05,
          94.655,
          96.29,
          96.89,
          96.35,
          96.57,
          96.65,
          97.75,
          98.41,
          98.475,
          99.12,
          99.3457,
          99.99,
          99.56,
          99.87,
          101.89,
          98.27,
          97.84,
          99.54,
          100.4,
          100.47,
          100.73,
          99.74,
          98.09,
          97.19,
          95.43,
          94.64,
          95.21,
          94.7,
          94.39,
          91.67,
          92.78,
          93.57,
          93.57,
          93.77,
          93.45,
          94.07,
          95.9,
          95.74,
          94.08,
          94.72,
          97.88,
          98.71,
          105.3,
          105.65,
          106.48,
          106.93,
          108.09,
          108,
          108.95,
          112.3,
          112.39,
          112.34,
          110.5,
          110.61,
          109.77,
          110.42,
          110.98,
          110.73,
          112.19,
          110,
          109.9,
          110.42,
          107.79,
          106.19,
          106.25,
          107.07,
          107.29,
          107.65,
          106.5,
          106.47,
          106.31,
          105.18,
          102.91,
          102.28,
          102.24,
          101.58,
          101.76,
          102.83,
          103.75,
          101.7099,
          100.89,
          100.77,
          98.23,
          98.0237,
          96.76,
          96.38,
          96.5,
          96.9,
          96.7599,
          98.89,
          98.21,
          96.85,
          94.5,
          94.72,
          96.35,
          95.94,
          95.7,
          96.92,
          97.33,
          96.84,
          96.04,
          96.71,
          97.34,
          94.52,
          96.6289,
          100.88,
          101.53,
          101.46,
          97.88,
          98.1897,
          98.65,
          97.71,
          100.48,
          101.19,
          100.69,
          99.06,
          99.11,
          100.13,
          102.37,
          105.85,
          105.368,
          107.03,
          108.7,
          109.43,
          107.69,
          109,
          108.85,
          107.72,
          107.37,
          109.52,
          112.25,
          111.99,
          112.8,
          112.68,
          115.39,
          116.94,
          117.69,
          118.6,
          119.86,
          119.25,
          116.79,
          118.11,
          118.81,
          119.41,
          118.41,
          119.23,
          119.35,
          119.73,
          119.92,
          119.75,
          117.49,
          115.05,
          114.24,
          115.57,
          116.82,
          117.42,
          118.07,
          121.81,
          121.81,
          122.69,
          123.82,
          123.49,
          121.36,
          121.22,
          120.69,
          119.3,
          116.54,
          118.13,
          119.228,
          115.5,
          115.58,
          114.17,
          111.75
         ]
        }
       ],
       "layout": {
        "template": {
         "data": {
          "bar": [
           {
            "error_x": {
             "color": "#2a3f5f"
            },
            "error_y": {
             "color": "#2a3f5f"
            },
            "marker": {
             "line": {
              "color": "#E5ECF6",
              "width": 0.5
             },
             "pattern": {
              "fillmode": "overlay",
              "size": 10,
              "solidity": 0.2
             }
            },
            "type": "bar"
           }
          ],
          "barpolar": [
           {
            "marker": {
             "line": {
              "color": "#E5ECF6",
              "width": 0.5
             },
             "pattern": {
              "fillmode": "overlay",
              "size": 10,
              "solidity": 0.2
             }
            },
            "type": "barpolar"
           }
          ],
          "carpet": [
           {
            "aaxis": {
             "endlinecolor": "#2a3f5f",
             "gridcolor": "white",
             "linecolor": "white",
             "minorgridcolor": "white",
             "startlinecolor": "#2a3f5f"
            },
            "baxis": {
             "endlinecolor": "#2a3f5f",
             "gridcolor": "white",
             "linecolor": "white",
             "minorgridcolor": "white",
             "startlinecolor": "#2a3f5f"
            },
            "type": "carpet"
           }
          ],
          "choropleth": [
           {
            "colorbar": {
             "outlinewidth": 0,
             "ticks": ""
            },
            "type": "choropleth"
           }
          ],
          "contour": [
           {
            "colorbar": {
             "outlinewidth": 0,
             "ticks": ""
            },
            "colorscale": [
             [
              0,
              "#0d0887"
             ],
             [
              0.1111111111111111,
              "#46039f"
             ],
             [
              0.2222222222222222,
              "#7201a8"
             ],
             [
              0.3333333333333333,
              "#9c179e"
             ],
             [
              0.4444444444444444,
              "#bd3786"
             ],
             [
              0.5555555555555556,
              "#d8576b"
             ],
             [
              0.6666666666666666,
              "#ed7953"
             ],
             [
              0.7777777777777778,
              "#fb9f3a"
             ],
             [
              0.8888888888888888,
              "#fdca26"
             ],
             [
              1,
              "#f0f921"
             ]
            ],
            "type": "contour"
           }
          ],
          "contourcarpet": [
           {
            "colorbar": {
             "outlinewidth": 0,
             "ticks": ""
            },
            "type": "contourcarpet"
           }
          ],
          "heatmap": [
           {
            "colorbar": {
             "outlinewidth": 0,
             "ticks": ""
            },
            "colorscale": [
             [
              0,
              "#0d0887"
             ],
             [
              0.1111111111111111,
              "#46039f"
             ],
             [
              0.2222222222222222,
              "#7201a8"
             ],
             [
              0.3333333333333333,
              "#9c179e"
             ],
             [
              0.4444444444444444,
              "#bd3786"
             ],
             [
              0.5555555555555556,
              "#d8576b"
             ],
             [
              0.6666666666666666,
              "#ed7953"
             ],
             [
              0.7777777777777778,
              "#fb9f3a"
             ],
             [
              0.8888888888888888,
              "#fdca26"
             ],
             [
              1,
              "#f0f921"
             ]
            ],
            "type": "heatmap"
           }
          ],
          "heatmapgl": [
           {
            "colorbar": {
             "outlinewidth": 0,
             "ticks": ""
            },
            "colorscale": [
             [
              0,
              "#0d0887"
             ],
             [
              0.1111111111111111,
              "#46039f"
             ],
             [
              0.2222222222222222,
              "#7201a8"
             ],
             [
              0.3333333333333333,
              "#9c179e"
             ],
             [
              0.4444444444444444,
              "#bd3786"
             ],
             [
              0.5555555555555556,
              "#d8576b"
             ],
             [
              0.6666666666666666,
              "#ed7953"
             ],
             [
              0.7777777777777778,
              "#fb9f3a"
             ],
             [
              0.8888888888888888,
              "#fdca26"
             ],
             [
              1,
              "#f0f921"
             ]
            ],
            "type": "heatmapgl"
           }
          ],
          "histogram": [
           {
            "marker": {
             "pattern": {
              "fillmode": "overlay",
              "size": 10,
              "solidity": 0.2
             }
            },
            "type": "histogram"
           }
          ],
          "histogram2d": [
           {
            "colorbar": {
             "outlinewidth": 0,
             "ticks": ""
            },
            "colorscale": [
             [
              0,
              "#0d0887"
             ],
             [
              0.1111111111111111,
              "#46039f"
             ],
             [
              0.2222222222222222,
              "#7201a8"
             ],
             [
              0.3333333333333333,
              "#9c179e"
             ],
             [
              0.4444444444444444,
              "#bd3786"
             ],
             [
              0.5555555555555556,
              "#d8576b"
             ],
             [
              0.6666666666666666,
              "#ed7953"
             ],
             [
              0.7777777777777778,
              "#fb9f3a"
             ],
             [
              0.8888888888888888,
              "#fdca26"
             ],
             [
              1,
              "#f0f921"
             ]
            ],
            "type": "histogram2d"
           }
          ],
          "histogram2dcontour": [
           {
            "colorbar": {
             "outlinewidth": 0,
             "ticks": ""
            },
            "colorscale": [
             [
              0,
              "#0d0887"
             ],
             [
              0.1111111111111111,
              "#46039f"
             ],
             [
              0.2222222222222222,
              "#7201a8"
             ],
             [
              0.3333333333333333,
              "#9c179e"
             ],
             [
              0.4444444444444444,
              "#bd3786"
             ],
             [
              0.5555555555555556,
              "#d8576b"
             ],
             [
              0.6666666666666666,
              "#ed7953"
             ],
             [
              0.7777777777777778,
              "#fb9f3a"
             ],
             [
              0.8888888888888888,
              "#fdca26"
             ],
             [
              1,
              "#f0f921"
             ]
            ],
            "type": "histogram2dcontour"
           }
          ],
          "mesh3d": [
           {
            "colorbar": {
             "outlinewidth": 0,
             "ticks": ""
            },
            "type": "mesh3d"
           }
          ],
          "parcoords": [
           {
            "line": {
             "colorbar": {
              "outlinewidth": 0,
              "ticks": ""
             }
            },
            "type": "parcoords"
           }
          ],
          "pie": [
           {
            "automargin": true,
            "type": "pie"
           }
          ],
          "scatter": [
           {
            "marker": {
             "colorbar": {
              "outlinewidth": 0,
              "ticks": ""
             }
            },
            "type": "scatter"
           }
          ],
          "scatter3d": [
           {
            "line": {
             "colorbar": {
              "outlinewidth": 0,
              "ticks": ""
             }
            },
            "marker": {
             "colorbar": {
              "outlinewidth": 0,
              "ticks": ""
             }
            },
            "type": "scatter3d"
           }
          ],
          "scattercarpet": [
           {
            "marker": {
             "colorbar": {
              "outlinewidth": 0,
              "ticks": ""
             }
            },
            "type": "scattercarpet"
           }
          ],
          "scattergeo": [
           {
            "marker": {
             "colorbar": {
              "outlinewidth": 0,
              "ticks": ""
             }
            },
            "type": "scattergeo"
           }
          ],
          "scattergl": [
           {
            "marker": {
             "colorbar": {
              "outlinewidth": 0,
              "ticks": ""
             }
            },
            "type": "scattergl"
           }
          ],
          "scattermapbox": [
           {
            "marker": {
             "colorbar": {
              "outlinewidth": 0,
              "ticks": ""
             }
            },
            "type": "scattermapbox"
           }
          ],
          "scatterpolar": [
           {
            "marker": {
             "colorbar": {
              "outlinewidth": 0,
              "ticks": ""
             }
            },
            "type": "scatterpolar"
           }
          ],
          "scatterpolargl": [
           {
            "marker": {
             "colorbar": {
              "outlinewidth": 0,
              "ticks": ""
             }
            },
            "type": "scatterpolargl"
           }
          ],
          "scatterternary": [
           {
            "marker": {
             "colorbar": {
              "outlinewidth": 0,
              "ticks": ""
             }
            },
            "type": "scatterternary"
           }
          ],
          "surface": [
           {
            "colorbar": {
             "outlinewidth": 0,
             "ticks": ""
            },
            "colorscale": [
             [
              0,
              "#0d0887"
             ],
             [
              0.1111111111111111,
              "#46039f"
             ],
             [
              0.2222222222222222,
              "#7201a8"
             ],
             [
              0.3333333333333333,
              "#9c179e"
             ],
             [
              0.4444444444444444,
              "#bd3786"
             ],
             [
              0.5555555555555556,
              "#d8576b"
             ],
             [
              0.6666666666666666,
              "#ed7953"
             ],
             [
              0.7777777777777778,
              "#fb9f3a"
             ],
             [
              0.8888888888888888,
              "#fdca26"
             ],
             [
              1,
              "#f0f921"
             ]
            ],
            "type": "surface"
           }
          ],
          "table": [
           {
            "cells": {
             "fill": {
              "color": "#EBF0F8"
             },
             "line": {
              "color": "white"
             }
            },
            "header": {
             "fill": {
              "color": "#C8D4E3"
             },
             "line": {
              "color": "white"
             }
            },
            "type": "table"
           }
          ]
         },
         "layout": {
          "annotationdefaults": {
           "arrowcolor": "#2a3f5f",
           "arrowhead": 0,
           "arrowwidth": 1
          },
          "autotypenumbers": "strict",
          "coloraxis": {
           "colorbar": {
            "outlinewidth": 0,
            "ticks": ""
           }
          },
          "colorscale": {
           "diverging": [
            [
             0,
             "#8e0152"
            ],
            [
             0.1,
             "#c51b7d"
            ],
            [
             0.2,
             "#de77ae"
            ],
            [
             0.3,
             "#f1b6da"
            ],
            [
             0.4,
             "#fde0ef"
            ],
            [
             0.5,
             "#f7f7f7"
            ],
            [
             0.6,
             "#e6f5d0"
            ],
            [
             0.7,
             "#b8e186"
            ],
            [
             0.8,
             "#7fbc41"
            ],
            [
             0.9,
             "#4d9221"
            ],
            [
             1,
             "#276419"
            ]
           ],
           "sequential": [
            [
             0,
             "#0d0887"
            ],
            [
             0.1111111111111111,
             "#46039f"
            ],
            [
             0.2222222222222222,
             "#7201a8"
            ],
            [
             0.3333333333333333,
             "#9c179e"
            ],
            [
             0.4444444444444444,
             "#bd3786"
            ],
            [
             0.5555555555555556,
             "#d8576b"
            ],
            [
             0.6666666666666666,
             "#ed7953"
            ],
            [
             0.7777777777777778,
             "#fb9f3a"
            ],
            [
             0.8888888888888888,
             "#fdca26"
            ],
            [
             1,
             "#f0f921"
            ]
           ],
           "sequentialminus": [
            [
             0,
             "#0d0887"
            ],
            [
             0.1111111111111111,
             "#46039f"
            ],
            [
             0.2222222222222222,
             "#7201a8"
            ],
            [
             0.3333333333333333,
             "#9c179e"
            ],
            [
             0.4444444444444444,
             "#bd3786"
            ],
            [
             0.5555555555555556,
             "#d8576b"
            ],
            [
             0.6666666666666666,
             "#ed7953"
            ],
            [
             0.7777777777777778,
             "#fb9f3a"
            ],
            [
             0.8888888888888888,
             "#fdca26"
            ],
            [
             1,
             "#f0f921"
            ]
           ]
          },
          "colorway": [
           "#636efa",
           "#EF553B",
           "#00cc96",
           "#ab63fa",
           "#FFA15A",
           "#19d3f3",
           "#FF6692",
           "#B6E880",
           "#FF97FF",
           "#FECB52"
          ],
          "font": {
           "color": "#2a3f5f"
          },
          "geo": {
           "bgcolor": "white",
           "lakecolor": "white",
           "landcolor": "#E5ECF6",
           "showlakes": true,
           "showland": true,
           "subunitcolor": "white"
          },
          "hoverlabel": {
           "align": "left"
          },
          "hovermode": "closest",
          "mapbox": {
           "style": "light"
          },
          "paper_bgcolor": "white",
          "plot_bgcolor": "#E5ECF6",
          "polar": {
           "angularaxis": {
            "gridcolor": "white",
            "linecolor": "white",
            "ticks": ""
           },
           "bgcolor": "#E5ECF6",
           "radialaxis": {
            "gridcolor": "white",
            "linecolor": "white",
            "ticks": ""
           }
          },
          "scene": {
           "xaxis": {
            "backgroundcolor": "#E5ECF6",
            "gridcolor": "white",
            "gridwidth": 2,
            "linecolor": "white",
            "showbackground": true,
            "ticks": "",
            "zerolinecolor": "white"
           },
           "yaxis": {
            "backgroundcolor": "#E5ECF6",
            "gridcolor": "white",
            "gridwidth": 2,
            "linecolor": "white",
            "showbackground": true,
            "ticks": "",
            "zerolinecolor": "white"
           },
           "zaxis": {
            "backgroundcolor": "#E5ECF6",
            "gridcolor": "white",
            "gridwidth": 2,
            "linecolor": "white",
            "showbackground": true,
            "ticks": "",
            "zerolinecolor": "white"
           }
          },
          "shapedefaults": {
           "line": {
            "color": "#2a3f5f"
           }
          },
          "ternary": {
           "aaxis": {
            "gridcolor": "white",
            "linecolor": "white",
            "ticks": ""
           },
           "baxis": {
            "gridcolor": "white",
            "linecolor": "white",
            "ticks": ""
           },
           "bgcolor": "#E5ECF6",
           "caxis": {
            "gridcolor": "white",
            "linecolor": "white",
            "ticks": ""
           }
          },
          "title": {
           "x": 0.05
          },
          "xaxis": {
           "automargin": true,
           "gridcolor": "white",
           "linecolor": "white",
           "ticks": "",
           "title": {
            "standoff": 15
           },
           "zerolinecolor": "white",
           "zerolinewidth": 2
          },
          "yaxis": {
           "automargin": true,
           "gridcolor": "white",
           "linecolor": "white",
           "ticks": "",
           "title": {
            "standoff": 15
           },
           "zerolinecolor": "white",
           "zerolinewidth": 2
          }
         }
        }
       }
      },
      "text/html": [
       "<div>                            <div id=\"25e9ee9e-cfc4-4dbb-95ca-b250a35cfe0c\" class=\"plotly-graph-div\" style=\"height:525px; width:100%;\"></div>            <script type=\"text/javascript\">                require([\"plotly\"], function(Plotly) {                    window.PLOTLYENV=window.PLOTLYENV || {};                                    if (document.getElementById(\"25e9ee9e-cfc4-4dbb-95ca-b250a35cfe0c\")) {                    Plotly.newPlot(                        \"25e9ee9e-cfc4-4dbb-95ca-b250a35cfe0c\",                        [{\"type\":\"scatter\",\"x\":[\"2018-10-17T00:00:00\",\"2018-10-16T00:00:00\",\"2018-10-15T00:00:00\",\"2018-10-12T00:00:00\",\"2018-10-11T00:00:00\",\"2018-10-10T00:00:00\",\"2018-10-09T00:00:00\",\"2018-10-08T00:00:00\",\"2018-10-05T00:00:00\",\"2018-10-04T00:00:00\",\"2018-10-03T00:00:00\",\"2018-10-02T00:00:00\",\"2018-10-01T00:00:00\",\"2018-09-28T00:00:00\",\"2018-09-27T00:00:00\",\"2018-09-26T00:00:00\",\"2018-09-25T00:00:00\",\"2018-09-24T00:00:00\",\"2018-09-21T00:00:00\",\"2018-09-20T00:00:00\",\"2018-09-19T00:00:00\",\"2018-09-18T00:00:00\",\"2018-09-17T00:00:00\",\"2018-09-14T00:00:00\",\"2018-09-13T00:00:00\",\"2018-09-12T00:00:00\",\"2018-09-11T00:00:00\",\"2018-09-10T00:00:00\",\"2018-09-07T00:00:00\",\"2018-09-06T00:00:00\",\"2018-09-05T00:00:00\",\"2018-09-04T00:00:00\",\"2018-08-31T00:00:00\",\"2018-08-30T00:00:00\",\"2018-08-29T00:00:00\",\"2018-08-28T00:00:00\",\"2018-08-27T00:00:00\",\"2018-08-24T00:00:00\",\"2018-08-23T00:00:00\",\"2018-08-22T00:00:00\",\"2018-08-21T00:00:00\",\"2018-08-20T00:00:00\",\"2018-08-17T00:00:00\",\"2018-08-16T00:00:00\",\"2018-08-15T00:00:00\",\"2018-08-14T00:00:00\",\"2018-08-13T00:00:00\",\"2018-08-10T00:00:00\",\"2018-08-09T00:00:00\",\"2018-08-08T00:00:00\",\"2018-08-07T00:00:00\",\"2018-08-06T00:00:00\",\"2018-08-03T00:00:00\",\"2018-08-02T00:00:00\",\"2018-08-01T00:00:00\",\"2018-07-31T00:00:00\",\"2018-07-30T00:00:00\",\"2018-07-27T00:00:00\",\"2018-07-26T00:00:00\",\"2018-07-25T00:00:00\",\"2018-07-24T00:00:00\",\"2018-07-23T00:00:00\",\"2018-07-20T00:00:00\",\"2018-07-19T00:00:00\",\"2018-07-18T00:00:00\",\"2018-07-17T00:00:00\",\"2018-07-16T00:00:00\",\"2018-07-13T00:00:00\",\"2018-07-12T00:00:00\",\"2018-07-11T00:00:00\",\"2018-07-10T00:00:00\",\"2018-07-09T00:00:00\",\"2018-07-06T00:00:00\",\"2018-07-05T00:00:00\",\"2018-07-03T00:00:00\",\"2018-07-02T00:00:00\",\"2018-06-29T00:00:00\",\"2018-06-28T00:00:00\",\"2018-06-27T00:00:00\",\"2018-06-26T00:00:00\",\"2018-06-25T00:00:00\",\"2018-06-22T00:00:00\",\"2018-06-21T00:00:00\",\"2018-06-20T00:00:00\",\"2018-06-19T00:00:00\",\"2018-06-18T00:00:00\",\"2018-06-15T00:00:00\",\"2018-06-14T00:00:00\",\"2018-06-13T00:00:00\",\"2018-06-12T00:00:00\",\"2018-06-11T00:00:00\",\"2018-06-08T00:00:00\",\"2018-06-07T00:00:00\",\"2018-06-06T00:00:00\",\"2018-06-05T00:00:00\",\"2018-06-04T00:00:00\",\"2018-06-01T00:00:00\",\"2018-05-31T00:00:00\",\"2018-05-30T00:00:00\",\"2018-05-29T00:00:00\",\"2018-05-25T00:00:00\",\"2018-05-24T00:00:00\",\"2018-05-23T00:00:00\",\"2018-05-22T00:00:00\",\"2018-05-21T00:00:00\",\"2018-05-18T00:00:00\",\"2018-05-17T00:00:00\",\"2018-05-16T00:00:00\",\"2018-05-15T00:00:00\",\"2018-05-14T00:00:00\",\"2018-05-11T00:00:00\",\"2018-05-10T00:00:00\",\"2018-05-09T00:00:00\",\"2018-05-08T00:00:00\",\"2018-05-07T00:00:00\",\"2018-05-04T00:00:00\",\"2018-05-03T00:00:00\",\"2018-05-02T00:00:00\",\"2018-05-01T00:00:00\",\"2018-04-30T00:00:00\",\"2018-04-27T00:00:00\",\"2018-04-26T00:00:00\",\"2018-04-25T00:00:00\",\"2018-04-24T00:00:00\",\"2018-04-23T00:00:00\",\"2018-04-20T00:00:00\",\"2018-04-19T00:00:00\",\"2018-04-18T00:00:00\",\"2018-04-17T00:00:00\",\"2018-04-16T00:00:00\",\"2018-04-13T00:00:00\",\"2018-04-12T00:00:00\",\"2018-04-11T00:00:00\",\"2018-04-10T00:00:00\",\"2018-04-09T00:00:00\",\"2018-04-06T00:00:00\",\"2018-04-05T00:00:00\",\"2018-04-04T00:00:00\",\"2018-04-03T00:00:00\",\"2018-04-02T00:00:00\",\"2018-03-29T00:00:00\",\"2018-03-28T00:00:00\",\"2018-03-27T00:00:00\",\"2018-03-26T00:00:00\",\"2018-03-23T00:00:00\",\"2018-03-22T00:00:00\",\"2018-03-21T00:00:00\",\"2018-03-20T00:00:00\",\"2018-03-19T00:00:00\",\"2018-03-16T00:00:00\",\"2018-03-15T00:00:00\",\"2018-03-14T00:00:00\",\"2018-03-13T00:00:00\",\"2018-03-12T00:00:00\",\"2018-03-09T00:00:00\",\"2018-03-08T00:00:00\",\"2018-03-07T00:00:00\",\"2018-03-06T00:00:00\",\"2018-03-05T00:00:00\",\"2018-03-02T00:00:00\",\"2018-03-01T00:00:00\",\"2018-02-28T00:00:00\",\"2018-02-27T00:00:00\",\"2018-02-26T00:00:00\",\"2018-02-23T00:00:00\",\"2018-02-22T00:00:00\",\"2018-02-21T00:00:00\",\"2018-02-20T00:00:00\",\"2018-02-16T00:00:00\",\"2018-02-15T00:00:00\",\"2018-02-14T00:00:00\",\"2018-02-13T00:00:00\",\"2018-02-12T00:00:00\",\"2018-02-09T00:00:00\",\"2018-02-08T00:00:00\",\"2018-02-07T00:00:00\",\"2018-02-06T00:00:00\",\"2018-02-05T00:00:00\",\"2018-02-02T00:00:00\",\"2018-02-01T00:00:00\",\"2018-01-31T00:00:00\",\"2018-01-30T00:00:00\",\"2018-01-29T00:00:00\",\"2018-01-26T00:00:00\",\"2018-01-25T00:00:00\",\"2018-01-24T00:00:00\",\"2018-01-23T00:00:00\",\"2018-01-22T00:00:00\",\"2018-01-19T00:00:00\",\"2018-01-18T00:00:00\",\"2018-01-17T00:00:00\",\"2018-01-16T00:00:00\",\"2018-01-12T00:00:00\",\"2018-01-11T00:00:00\",\"2018-01-10T00:00:00\",\"2018-01-09T00:00:00\",\"2018-01-08T00:00:00\",\"2018-01-05T00:00:00\",\"2018-01-04T00:00:00\",\"2018-01-03T00:00:00\",\"2018-01-02T00:00:00\",\"2017-12-29T00:00:00\",\"2017-12-28T00:00:00\",\"2017-12-27T00:00:00\",\"2017-12-26T00:00:00\",\"2017-12-22T00:00:00\",\"2017-12-21T00:00:00\",\"2017-12-20T00:00:00\",\"2017-12-19T00:00:00\",\"2017-12-18T00:00:00\",\"2017-12-15T00:00:00\",\"2017-12-14T00:00:00\",\"2017-12-13T00:00:00\",\"2017-12-12T00:00:00\",\"2017-12-11T00:00:00\",\"2017-12-08T00:00:00\",\"2017-12-07T00:00:00\",\"2017-12-06T00:00:00\",\"2017-12-05T00:00:00\",\"2017-12-04T00:00:00\",\"2017-12-01T00:00:00\",\"2017-11-30T00:00:00\",\"2017-11-29T00:00:00\",\"2017-11-28T00:00:00\",\"2017-11-27T00:00:00\",\"2017-11-24T00:00:00\",\"2017-11-22T00:00:00\",\"2017-11-21T00:00:00\",\"2017-11-20T00:00:00\",\"2017-11-17T00:00:00\",\"2017-11-16T00:00:00\",\"2017-11-15T00:00:00\",\"2017-11-14T00:00:00\",\"2017-11-13T00:00:00\",\"2017-11-10T00:00:00\",\"2017-11-09T00:00:00\",\"2017-11-08T00:00:00\",\"2017-11-07T00:00:00\",\"2017-11-06T00:00:00\",\"2017-11-03T00:00:00\",\"2017-11-02T00:00:00\",\"2017-11-01T00:00:00\",\"2017-10-31T00:00:00\",\"2017-10-30T00:00:00\",\"2017-10-27T00:00:00\",\"2017-10-26T00:00:00\",\"2017-10-25T00:00:00\",\"2017-10-24T00:00:00\",\"2017-10-23T00:00:00\",\"2017-10-20T00:00:00\",\"2017-10-19T00:00:00\",\"2017-10-18T00:00:00\",\"2017-10-17T00:00:00\",\"2017-10-16T00:00:00\",\"2017-10-13T00:00:00\",\"2017-10-12T00:00:00\",\"2017-10-11T00:00:00\",\"2017-10-10T00:00:00\",\"2017-10-09T00:00:00\",\"2017-10-06T00:00:00\",\"2017-10-05T00:00:00\",\"2017-10-04T00:00:00\",\"2017-10-03T00:00:00\",\"2017-10-02T00:00:00\",\"2017-09-29T00:00:00\",\"2017-09-28T00:00:00\",\"2017-09-27T00:00:00\",\"2017-09-26T00:00:00\",\"2017-09-25T00:00:00\",\"2017-09-22T00:00:00\",\"2017-09-21T00:00:00\",\"2017-09-20T00:00:00\",\"2017-09-19T00:00:00\",\"2017-09-18T00:00:00\",\"2017-09-15T00:00:00\",\"2017-09-14T00:00:00\",\"2017-09-13T00:00:00\",\"2017-09-12T00:00:00\",\"2017-09-11T00:00:00\",\"2017-09-08T00:00:00\",\"2017-09-07T00:00:00\",\"2017-09-06T00:00:00\",\"2017-09-05T00:00:00\",\"2017-09-01T00:00:00\",\"2017-08-31T00:00:00\",\"2017-08-30T00:00:00\",\"2017-08-29T00:00:00\",\"2017-08-28T00:00:00\",\"2017-08-25T00:00:00\",\"2017-08-24T00:00:00\",\"2017-08-23T00:00:00\",\"2017-08-22T00:00:00\",\"2017-08-21T00:00:00\",\"2017-08-18T00:00:00\",\"2017-08-17T00:00:00\",\"2017-08-16T00:00:00\",\"2017-08-15T00:00:00\",\"2017-08-14T00:00:00\",\"2017-08-11T00:00:00\",\"2017-08-10T00:00:00\",\"2017-08-09T00:00:00\",\"2017-08-08T00:00:00\",\"2017-08-07T00:00:00\",\"2017-08-04T00:00:00\",\"2017-08-03T00:00:00\",\"2017-08-02T00:00:00\",\"2017-08-01T00:00:00\",\"2017-07-31T00:00:00\",\"2017-07-28T00:00:00\",\"2017-07-27T00:00:00\",\"2017-07-26T00:00:00\",\"2017-07-25T00:00:00\",\"2017-07-24T00:00:00\",\"2017-07-21T00:00:00\",\"2017-07-20T00:00:00\",\"2017-07-19T00:00:00\",\"2017-07-18T00:00:00\",\"2017-07-17T00:00:00\",\"2017-07-14T00:00:00\",\"2017-07-13T00:00:00\",\"2017-07-12T00:00:00\",\"2017-07-11T00:00:00\",\"2017-07-10T00:00:00\",\"2017-07-07T00:00:00\",\"2017-07-06T00:00:00\",\"2017-07-05T00:00:00\",\"2017-07-03T00:00:00\",\"2017-06-30T00:00:00\",\"2017-06-29T00:00:00\",\"2017-06-28T00:00:00\",\"2017-06-27T00:00:00\",\"2017-06-26T00:00:00\",\"2017-06-23T00:00:00\",\"2017-06-22T00:00:00\",\"2017-06-21T00:00:00\",\"2017-06-20T00:00:00\",\"2017-06-19T00:00:00\",\"2017-06-16T00:00:00\",\"2017-06-15T00:00:00\",\"2017-06-14T00:00:00\",\"2017-06-13T00:00:00\",\"2017-06-12T00:00:00\",\"2017-06-09T00:00:00\",\"2017-06-08T00:00:00\",\"2017-06-07T00:00:00\",\"2017-06-06T00:00:00\",\"2017-06-05T00:00:00\",\"2017-06-02T00:00:00\",\"2017-06-01T00:00:00\",\"2017-05-31T00:00:00\",\"2017-05-30T00:00:00\",\"2017-05-26T00:00:00\",\"2017-05-25T00:00:00\",\"2017-05-24T00:00:00\",\"2017-05-23T00:00:00\",\"2017-05-22T00:00:00\",\"2017-05-19T00:00:00\",\"2017-05-18T00:00:00\",\"2017-05-17T00:00:00\",\"2017-05-16T00:00:00\",\"2017-05-15T00:00:00\",\"2017-05-12T00:00:00\",\"2017-05-11T00:00:00\",\"2017-05-10T00:00:00\",\"2017-05-09T00:00:00\",\"2017-05-08T00:00:00\",\"2017-05-05T00:00:00\",\"2017-05-04T00:00:00\",\"2017-05-03T00:00:00\",\"2017-05-02T00:00:00\",\"2017-05-01T00:00:00\",\"2017-04-28T00:00:00\",\"2017-04-27T00:00:00\",\"2017-04-26T00:00:00\",\"2017-04-25T00:00:00\",\"2017-04-24T00:00:00\",\"2017-04-21T00:00:00\",\"2017-04-20T00:00:00\",\"2017-04-19T00:00:00\",\"2017-04-18T00:00:00\",\"2017-04-17T00:00:00\",\"2017-04-13T00:00:00\",\"2017-04-12T00:00:00\",\"2017-04-11T00:00:00\",\"2017-04-10T00:00:00\",\"2017-04-07T00:00:00\",\"2017-04-06T00:00:00\",\"2017-04-05T00:00:00\",\"2017-04-04T00:00:00\",\"2017-04-03T00:00:00\",\"2017-03-31T00:00:00\",\"2017-03-30T00:00:00\",\"2017-03-29T00:00:00\",\"2017-03-28T00:00:00\",\"2017-03-27T00:00:00\",\"2017-03-24T00:00:00\",\"2017-03-23T00:00:00\",\"2017-03-22T00:00:00\",\"2017-03-21T00:00:00\",\"2017-03-20T00:00:00\",\"2017-03-17T00:00:00\",\"2017-03-16T00:00:00\",\"2017-03-15T00:00:00\",\"2017-03-14T00:00:00\",\"2017-03-13T00:00:00\",\"2017-03-10T00:00:00\",\"2017-03-09T00:00:00\",\"2017-03-08T00:00:00\",\"2017-03-07T00:00:00\",\"2017-03-06T00:00:00\",\"2017-03-03T00:00:00\",\"2017-03-02T00:00:00\",\"2017-03-01T00:00:00\",\"2017-02-28T00:00:00\",\"2017-02-27T00:00:00\",\"2017-02-24T00:00:00\",\"2017-02-23T00:00:00\",\"2017-02-22T00:00:00\",\"2017-02-21T00:00:00\",\"2017-02-17T00:00:00\",\"2017-02-16T00:00:00\",\"2017-02-15T00:00:00\",\"2017-02-14T00:00:00\",\"2017-02-13T00:00:00\",\"2017-02-10T00:00:00\",\"2017-02-09T00:00:00\",\"2017-02-08T00:00:00\",\"2017-02-07T00:00:00\",\"2017-02-06T00:00:00\",\"2017-02-03T00:00:00\",\"2017-02-02T00:00:00\",\"2017-02-01T00:00:00\",\"2017-01-31T00:00:00\",\"2017-01-30T00:00:00\",\"2017-01-27T00:00:00\",\"2017-01-26T00:00:00\",\"2017-01-25T00:00:00\",\"2017-01-24T00:00:00\",\"2017-01-23T00:00:00\",\"2017-01-20T00:00:00\",\"2017-01-19T00:00:00\",\"2017-01-18T00:00:00\",\"2017-01-17T00:00:00\",\"2017-01-13T00:00:00\",\"2017-01-12T00:00:00\",\"2017-01-11T00:00:00\",\"2017-01-10T00:00:00\",\"2017-01-09T00:00:00\",\"2017-01-06T00:00:00\",\"2017-01-05T00:00:00\",\"2017-01-04T00:00:00\",\"2017-01-03T00:00:00\",\"2016-12-30T00:00:00\",\"2016-12-29T00:00:00\",\"2016-12-28T00:00:00\",\"2016-12-27T00:00:00\",\"2016-12-23T00:00:00\",\"2016-12-22T00:00:00\",\"2016-12-21T00:00:00\",\"2016-12-20T00:00:00\",\"2016-12-19T00:00:00\",\"2016-12-16T00:00:00\",\"2016-12-15T00:00:00\",\"2016-12-14T00:00:00\",\"2016-12-13T00:00:00\",\"2016-12-12T00:00:00\",\"2016-12-09T00:00:00\",\"2016-12-08T00:00:00\",\"2016-12-07T00:00:00\",\"2016-12-06T00:00:00\",\"2016-12-05T00:00:00\",\"2016-12-02T00:00:00\",\"2016-12-01T00:00:00\",\"2016-11-30T00:00:00\",\"2016-11-29T00:00:00\",\"2016-11-28T00:00:00\",\"2016-11-25T00:00:00\",\"2016-11-23T00:00:00\",\"2016-11-22T00:00:00\",\"2016-11-21T00:00:00\",\"2016-11-18T00:00:00\",\"2016-11-17T00:00:00\",\"2016-11-16T00:00:00\",\"2016-11-15T00:00:00\",\"2016-11-14T00:00:00\",\"2016-11-11T00:00:00\",\"2016-11-10T00:00:00\",\"2016-11-09T00:00:00\",\"2016-11-08T00:00:00\",\"2016-11-07T00:00:00\",\"2016-11-04T00:00:00\",\"2016-11-03T00:00:00\",\"2016-11-02T00:00:00\",\"2016-11-01T00:00:00\",\"2016-10-31T00:00:00\",\"2016-10-28T00:00:00\",\"2016-10-27T00:00:00\",\"2016-10-26T00:00:00\",\"2016-10-25T00:00:00\",\"2016-10-24T00:00:00\",\"2016-10-21T00:00:00\",\"2016-10-20T00:00:00\",\"2016-10-19T00:00:00\",\"2016-10-18T00:00:00\",\"2016-10-17T00:00:00\",\"2016-10-14T00:00:00\",\"2016-10-13T00:00:00\",\"2016-10-12T00:00:00\",\"2016-10-11T00:00:00\",\"2016-10-10T00:00:00\",\"2016-10-07T00:00:00\",\"2016-10-06T00:00:00\",\"2016-10-05T00:00:00\",\"2016-10-04T00:00:00\",\"2016-10-03T00:00:00\",\"2016-09-30T00:00:00\",\"2016-09-29T00:00:00\",\"2016-09-28T00:00:00\",\"2016-09-27T00:00:00\",\"2016-09-26T00:00:00\",\"2016-09-23T00:00:00\",\"2016-09-22T00:00:00\",\"2016-09-21T00:00:00\",\"2016-09-20T00:00:00\",\"2016-09-19T00:00:00\",\"2016-09-16T00:00:00\",\"2016-09-15T00:00:00\",\"2016-09-14T00:00:00\",\"2016-09-13T00:00:00\",\"2016-09-12T00:00:00\",\"2016-09-09T00:00:00\",\"2016-09-08T00:00:00\",\"2016-09-07T00:00:00\",\"2016-09-06T00:00:00\",\"2016-09-02T00:00:00\",\"2016-09-01T00:00:00\",\"2016-08-31T00:00:00\",\"2016-08-30T00:00:00\",\"2016-08-29T00:00:00\",\"2016-08-26T00:00:00\",\"2016-08-25T00:00:00\",\"2016-08-24T00:00:00\",\"2016-08-23T00:00:00\",\"2016-08-22T00:00:00\",\"2016-08-19T00:00:00\",\"2016-08-18T00:00:00\",\"2016-08-17T00:00:00\",\"2016-08-16T00:00:00\",\"2016-08-15T00:00:00\",\"2016-08-12T00:00:00\",\"2016-08-11T00:00:00\",\"2016-08-10T00:00:00\",\"2016-08-09T00:00:00\",\"2016-08-08T00:00:00\",\"2016-08-05T00:00:00\",\"2016-08-04T00:00:00\",\"2016-08-03T00:00:00\",\"2016-08-02T00:00:00\",\"2016-08-01T00:00:00\",\"2016-07-29T00:00:00\",\"2016-07-28T00:00:00\",\"2016-07-27T00:00:00\",\"2016-07-26T00:00:00\",\"2016-07-25T00:00:00\",\"2016-07-22T00:00:00\",\"2016-07-21T00:00:00\",\"2016-07-20T00:00:00\",\"2016-07-19T00:00:00\",\"2016-07-18T00:00:00\",\"2016-07-15T00:00:00\",\"2016-07-14T00:00:00\",\"2016-07-13T00:00:00\",\"2016-07-12T00:00:00\",\"2016-07-11T00:00:00\",\"2016-07-08T00:00:00\",\"2016-07-07T00:00:00\",\"2016-07-06T00:00:00\",\"2016-07-05T00:00:00\",\"2016-07-01T00:00:00\",\"2016-06-30T00:00:00\",\"2016-06-29T00:00:00\",\"2016-06-28T00:00:00\",\"2016-06-27T00:00:00\",\"2016-06-24T00:00:00\",\"2016-06-23T00:00:00\",\"2016-06-22T00:00:00\",\"2016-06-21T00:00:00\",\"2016-06-20T00:00:00\",\"2016-06-17T00:00:00\",\"2016-06-16T00:00:00\",\"2016-06-15T00:00:00\",\"2016-06-14T00:00:00\",\"2016-06-13T00:00:00\",\"2016-06-10T00:00:00\",\"2016-06-09T00:00:00\",\"2016-06-08T00:00:00\",\"2016-06-07T00:00:00\",\"2016-06-06T00:00:00\",\"2016-06-03T00:00:00\",\"2016-06-02T00:00:00\",\"2016-06-01T00:00:00\",\"2016-05-31T00:00:00\",\"2016-05-27T00:00:00\",\"2016-05-26T00:00:00\",\"2016-05-25T00:00:00\",\"2016-05-24T00:00:00\",\"2016-05-23T00:00:00\",\"2016-05-20T00:00:00\",\"2016-05-19T00:00:00\",\"2016-05-18T00:00:00\",\"2016-05-17T00:00:00\",\"2016-05-16T00:00:00\",\"2016-05-13T00:00:00\",\"2016-05-12T00:00:00\",\"2016-05-11T00:00:00\",\"2016-05-10T00:00:00\",\"2016-05-09T00:00:00\",\"2016-05-06T00:00:00\",\"2016-05-05T00:00:00\",\"2016-05-04T00:00:00\",\"2016-05-03T00:00:00\",\"2016-05-02T00:00:00\",\"2016-04-29T00:00:00\",\"2016-04-28T00:00:00\",\"2016-04-27T00:00:00\",\"2016-04-26T00:00:00\",\"2016-04-25T00:00:00\",\"2016-04-22T00:00:00\",\"2016-04-21T00:00:00\",\"2016-04-20T00:00:00\",\"2016-04-19T00:00:00\",\"2016-04-18T00:00:00\",\"2016-04-15T00:00:00\",\"2016-04-14T00:00:00\",\"2016-04-13T00:00:00\",\"2016-04-12T00:00:00\",\"2016-04-11T00:00:00\",\"2016-04-08T00:00:00\",\"2016-04-07T00:00:00\",\"2016-04-06T00:00:00\",\"2016-04-05T00:00:00\",\"2016-04-04T00:00:00\",\"2016-04-01T00:00:00\",\"2016-03-31T00:00:00\",\"2016-03-30T00:00:00\",\"2016-03-29T00:00:00\",\"2016-03-28T00:00:00\",\"2016-03-24T00:00:00\",\"2016-03-23T00:00:00\",\"2016-03-22T00:00:00\",\"2016-03-21T00:00:00\",\"2016-03-18T00:00:00\",\"2016-03-17T00:00:00\",\"2016-03-16T00:00:00\",\"2016-03-15T00:00:00\",\"2016-03-14T00:00:00\",\"2016-03-11T00:00:00\",\"2016-03-10T00:00:00\",\"2016-03-09T00:00:00\",\"2016-03-08T00:00:00\",\"2016-03-07T00:00:00\",\"2016-03-04T00:00:00\",\"2016-03-03T00:00:00\",\"2016-03-02T00:00:00\",\"2016-03-01T00:00:00\",\"2016-02-29T00:00:00\",\"2016-02-26T00:00:00\",\"2016-02-25T00:00:00\",\"2016-02-24T00:00:00\",\"2016-02-23T00:00:00\",\"2016-02-22T00:00:00\",\"2016-02-19T00:00:00\",\"2016-02-18T00:00:00\",\"2016-02-17T00:00:00\",\"2016-02-16T00:00:00\",\"2016-02-12T00:00:00\",\"2016-02-11T00:00:00\",\"2016-02-10T00:00:00\",\"2016-02-09T00:00:00\",\"2016-02-08T00:00:00\",\"2016-02-05T00:00:00\",\"2016-02-04T00:00:00\",\"2016-02-03T00:00:00\",\"2016-02-02T00:00:00\",\"2016-02-01T00:00:00\",\"2016-01-29T00:00:00\",\"2016-01-28T00:00:00\",\"2016-01-27T00:00:00\",\"2016-01-26T00:00:00\",\"2016-01-25T00:00:00\",\"2016-01-22T00:00:00\",\"2016-01-21T00:00:00\",\"2016-01-20T00:00:00\",\"2016-01-19T00:00:00\",\"2016-01-15T00:00:00\",\"2016-01-14T00:00:00\",\"2016-01-13T00:00:00\",\"2016-01-12T00:00:00\",\"2016-01-11T00:00:00\",\"2016-01-08T00:00:00\",\"2016-01-07T00:00:00\",\"2016-01-06T00:00:00\",\"2016-01-05T00:00:00\",\"2016-01-04T00:00:00\",\"2015-12-31T00:00:00\",\"2015-12-30T00:00:00\",\"2015-12-29T00:00:00\",\"2015-12-28T00:00:00\",\"2015-12-24T00:00:00\",\"2015-12-23T00:00:00\",\"2015-12-22T00:00:00\",\"2015-12-21T00:00:00\",\"2015-12-18T00:00:00\",\"2015-12-17T00:00:00\",\"2015-12-16T00:00:00\",\"2015-12-15T00:00:00\",\"2015-12-14T00:00:00\",\"2015-12-11T00:00:00\",\"2015-12-10T00:00:00\",\"2015-12-09T00:00:00\",\"2015-12-08T00:00:00\",\"2015-12-07T00:00:00\",\"2015-12-04T00:00:00\",\"2015-12-03T00:00:00\",\"2015-12-02T00:00:00\",\"2015-12-01T00:00:00\",\"2015-11-30T00:00:00\",\"2015-11-27T00:00:00\",\"2015-11-25T00:00:00\",\"2015-11-24T00:00:00\",\"2015-11-23T00:00:00\",\"2015-11-20T00:00:00\",\"2015-11-19T00:00:00\",\"2015-11-18T00:00:00\",\"2015-11-17T00:00:00\",\"2015-11-16T00:00:00\",\"2015-11-13T00:00:00\",\"2015-11-12T00:00:00\",\"2015-11-11T00:00:00\",\"2015-11-10T00:00:00\",\"2015-11-09T00:00:00\",\"2015-11-06T00:00:00\",\"2015-11-05T00:00:00\",\"2015-11-04T00:00:00\",\"2015-11-03T00:00:00\",\"2015-11-02T00:00:00\",\"2015-10-30T00:00:00\",\"2015-10-29T00:00:00\",\"2015-10-28T00:00:00\",\"2015-10-27T00:00:00\",\"2015-10-26T00:00:00\",\"2015-10-23T00:00:00\",\"2015-10-22T00:00:00\",\"2015-10-21T00:00:00\",\"2015-10-20T00:00:00\",\"2015-10-19T00:00:00\"],\"y\":[222.64,222.99,221.83,222.88,219.5,226.35,227.27,224.8,228.41,232.35,233.47,230.0,229.42,225.84,226.44,223.75,222.82,221.26,221.36,222.28,219.62,221.85,222.95,226.84,228.35,225.0,224.299,221.85,225.37,227.35,229.67,229.18,228.87,228.26,223.49,220.54,218.74,216.9,217.05,216.36,217.19,219.18,217.95,213.8121,210.74,210.56,210.952,209.1,209.78,207.81,209.5,209.25,208.74,208.38,201.76,192.14,192.2,195.19,195.96,194.85,193.6601,191.96,192.43,192.55,191.8,191.87,192.65,191.84,191.41,189.7799,191.28,190.68,188.434,186.41,187.95,187.3,187.19,186.21,187.28,186.53,184.92,186.15,188.35,187.2,186.33,189.22,190.16,191.57,192.88,192.611,191.97,192.0,194.2,194.08,193.94,193.42,190.26,188.23,188.0,188.75,189.65,188.84,188.5,188.88,189.27,187.8102,188.91,188.46,187.07,189.53,190.06,190.37,187.4,186.22,187.67,184.25,177.5,177.75,169.2,167.26,164.33,165.73,165.42,166.33,166.92,171.2184,175.39,178.82,178.9365,176.19,175.84,175.0,173.9232,174.0,173.09,172.48,174.2304,172.01,168.7455,168.94,171.75,170.02,175.15,173.1,169.92,172.68,175.09,176.8,177.47,179.12,180.24,180.52,183.5,182.39,180.0,177.12,175.85,178.25,177.74,176.3,179.775,180.615,180.48,179.39,175.65,173.95,174.12,174.26,174.82,173.09,167.54,164.75,163.89,157.89,161.0,163.4,163.72,163.88,166.8,168.62,168.4417,167.37,170.16,172.0,174.95,177.3,179.44,177.78,179.58,180.1,179.25,179.39,177.36,175.4886,174.3,175.06,175.61,175.37,173.47,174.55,172.3,170.59,171.85,170.78,171.47,175.424,176.02,175.42,175.39,177.2,174.17,173.13,173.54,172.39,172.89,171.0,170.44,170.2047,171.52,172.62,171.67,172.14,172.92,174.87,175.08,175.5,175.0,173.7,170.56,171.39,171.87,170.3197,173.48,174.5,175.38,176.095,176.24,175.25,174.99,174.26,168.5,169.94,169.6499,168.07,163.6,157.8295,157.55,157.42,157.69,157.75,157.08,160.71,160.87,160.0,157.28,157.37,156.98,158.0,156.73,155.49,155.44,153.86,155.09,154.45,154.13,154.28,154.7189,153.92,151.83,152.27,155.8,158.26,159.77,160.5,160.97,159.4,159.96,163.96,162.05,161.15,162.24,162.99,164.25,164.94,164.52,163.89,163.12,162.0,160.56,160.74,160.47,160.0,157.89,159.5,160.71,162.51,162.195,160.21,158.5728,160.0,161.27,161.83,158.92,157.4,157.21,159.75,150.22,150.33,150.23,153.99,153.93,153.84,152.44,150.44,151.74,151.42,150.13,150.9,149.33,148.49,146.18,145.85,145.95,144.75,143.5,144.79,145.3001,144.96,145.13,146.11,146.16,148.28,147.16,146.7,146.0693,146.87,146.74,144.5,144.4798,147.5,147.45,146.09,155.19,155.54,155.98,155.81,154.45,155.45,153.33,154.17,154.43,154.24,154.35,154.17,154.9,154.58,153.98,153.34,154.57,156.06,156.65,156.42,154.07,153.94,154.88,153.7,148.98,147.14,147.49,148.09,147.2,144.3,144.16,144.6,144.9,143.95,142.68,142.92,142.0,142.04,141.88,142.38,142.15,143.35,143.8792,144.18,144.52,145.46,144.89,144.12,144.27,144.5,144.49,144.04,141.22,141.74,141.5844,141.6,142.8,141.5,141.0,141.02,140.7501,139.65,139.43,139.3571,138.79,139.8,139.98,139.77,139.83,140.2786,140.15,137.435,137.435,136.66,137.48,137.12,136.75,135.83,135.9,136.27,135.09,133.82,132.94,132.445,132.22,132.09,130.5,129.19,129.39,130.49,121.39,121.63,122.35,122.44,122.1,120.1,120.81,120.45,120.09,120.5,120.24,119.62,119.3,119.93,119.38,119.43,118.16,116.8642,116.51,116.33,117.2,117.1095,118.0166,117.8,116.52,116.51,117.4,117.5,117.38,116.5,116.73,116.2,115.92,115.0,114.7,112.43,111.19,110.36,110.03,110.09,110.94,112.2,112.03,112.465,111.87,111.51,112.42,111.99,110.54,110.35,110.23,107.68,107.809,108.87,111.09,111.32,111.72,110.51,110.25,111.46,112.35,113.77,114.23,115.21,115.86,115.7,118.36,117.74,116.91,117.38,117.76,118.21,117.84,118.17,117.44,117.98,118.69,116.75,114.56,114.34,113.66,114.31,113.05,113.37,113.8,114.64,113.18,113.39,114.79,114.94,113.989,114.12,116.18,116.13,115.73,113.03,108.79,105.72,105.72,107.27,108.76,108.3,108.0,106.8,106.5699,106.5,107.44,107.95,107.88,108.75,109.32,109.1,109.69,109.6,109.37,110.23,109.54,108.44,108.93,108.9,108.94,108.37,107.65,106.0,105.84,106.07,106.15,104.55,104.45,104.35,97.97,98.84,99.3,101.0,100.46,100.0,100.13,99.3,98.99,97.67,97.7,97.65,96.89,96.5,95.66,95.4,96.465,95.77,94.55,93.66,93.05,94.655,96.29,96.89,96.35,96.57,96.65,97.75,98.41,98.475,99.12,99.3457,99.99,99.56,99.87,101.89,98.27,97.84,99.54,100.4,100.47,100.73,99.74,98.09,97.19,95.43,94.64,95.21,94.7,94.39,91.67,92.78,93.57,93.57,93.77,93.45,94.07,95.9,95.74,94.08,94.72,97.88,98.71,105.3,105.65,106.48,106.93,108.09,108.0,108.95,112.3,112.39,112.34,110.5,110.61,109.77,110.42,110.98,110.73,112.19,110.0,109.9,110.42,107.79,106.19,106.25,107.07,107.29,107.65,106.5,106.47,106.31,105.18,102.91,102.28,102.24,101.58,101.76,102.83,103.75,101.7099,100.89,100.77,98.23,98.0237,96.76,96.38,96.5,96.9,96.7599,98.89,98.21,96.85,94.5,94.72,96.35,95.94,95.7,96.92,97.33,96.84,96.04,96.71,97.34,94.52,96.6289,100.88,101.53,101.46,97.88,98.1897,98.65,97.71,100.48,101.19,100.69,99.06,99.11,100.13,102.37,105.85,105.368,107.03,108.7,109.43,107.69,109.0,108.85,107.72,107.37,109.52,112.25,111.99,112.8,112.68,115.39,116.94,117.69,118.6,119.86,119.25,116.79,118.11,118.81,119.41,118.41,119.23,119.35,119.73,119.92,119.75,117.49,115.05,114.24,115.57,116.82,117.42,118.07,121.81,121.81,122.69,123.82,123.49,121.36,121.22,120.69,119.3,116.54,118.13,119.228,115.5,115.58,114.17,111.75]}],                        {\"template\":{\"data\":{\"bar\":[{\"error_x\":{\"color\":\"#2a3f5f\"},\"error_y\":{\"color\":\"#2a3f5f\"},\"marker\":{\"line\":{\"color\":\"#E5ECF6\",\"width\":0.5},\"pattern\":{\"fillmode\":\"overlay\",\"size\":10,\"solidity\":0.2}},\"type\":\"bar\"}],\"barpolar\":[{\"marker\":{\"line\":{\"color\":\"#E5ECF6\",\"width\":0.5},\"pattern\":{\"fillmode\":\"overlay\",\"size\":10,\"solidity\":0.2}},\"type\":\"barpolar\"}],\"carpet\":[{\"aaxis\":{\"endlinecolor\":\"#2a3f5f\",\"gridcolor\":\"white\",\"linecolor\":\"white\",\"minorgridcolor\":\"white\",\"startlinecolor\":\"#2a3f5f\"},\"baxis\":{\"endlinecolor\":\"#2a3f5f\",\"gridcolor\":\"white\",\"linecolor\":\"white\",\"minorgridcolor\":\"white\",\"startlinecolor\":\"#2a3f5f\"},\"type\":\"carpet\"}],\"choropleth\":[{\"colorbar\":{\"outlinewidth\":0,\"ticks\":\"\"},\"type\":\"choropleth\"}],\"contour\":[{\"colorbar\":{\"outlinewidth\":0,\"ticks\":\"\"},\"colorscale\":[[0.0,\"#0d0887\"],[0.1111111111111111,\"#46039f\"],[0.2222222222222222,\"#7201a8\"],[0.3333333333333333,\"#9c179e\"],[0.4444444444444444,\"#bd3786\"],[0.5555555555555556,\"#d8576b\"],[0.6666666666666666,\"#ed7953\"],[0.7777777777777778,\"#fb9f3a\"],[0.8888888888888888,\"#fdca26\"],[1.0,\"#f0f921\"]],\"type\":\"contour\"}],\"contourcarpet\":[{\"colorbar\":{\"outlinewidth\":0,\"ticks\":\"\"},\"type\":\"contourcarpet\"}],\"heatmap\":[{\"colorbar\":{\"outlinewidth\":0,\"ticks\":\"\"},\"colorscale\":[[0.0,\"#0d0887\"],[0.1111111111111111,\"#46039f\"],[0.2222222222222222,\"#7201a8\"],[0.3333333333333333,\"#9c179e\"],[0.4444444444444444,\"#bd3786\"],[0.5555555555555556,\"#d8576b\"],[0.6666666666666666,\"#ed7953\"],[0.7777777777777778,\"#fb9f3a\"],[0.8888888888888888,\"#fdca26\"],[1.0,\"#f0f921\"]],\"type\":\"heatmap\"}],\"heatmapgl\":[{\"colorbar\":{\"outlinewidth\":0,\"ticks\":\"\"},\"colorscale\":[[0.0,\"#0d0887\"],[0.1111111111111111,\"#46039f\"],[0.2222222222222222,\"#7201a8\"],[0.3333333333333333,\"#9c179e\"],[0.4444444444444444,\"#bd3786\"],[0.5555555555555556,\"#d8576b\"],[0.6666666666666666,\"#ed7953\"],[0.7777777777777778,\"#fb9f3a\"],[0.8888888888888888,\"#fdca26\"],[1.0,\"#f0f921\"]],\"type\":\"heatmapgl\"}],\"histogram\":[{\"marker\":{\"pattern\":{\"fillmode\":\"overlay\",\"size\":10,\"solidity\":0.2}},\"type\":\"histogram\"}],\"histogram2d\":[{\"colorbar\":{\"outlinewidth\":0,\"ticks\":\"\"},\"colorscale\":[[0.0,\"#0d0887\"],[0.1111111111111111,\"#46039f\"],[0.2222222222222222,\"#7201a8\"],[0.3333333333333333,\"#9c179e\"],[0.4444444444444444,\"#bd3786\"],[0.5555555555555556,\"#d8576b\"],[0.6666666666666666,\"#ed7953\"],[0.7777777777777778,\"#fb9f3a\"],[0.8888888888888888,\"#fdca26\"],[1.0,\"#f0f921\"]],\"type\":\"histogram2d\"}],\"histogram2dcontour\":[{\"colorbar\":{\"outlinewidth\":0,\"ticks\":\"\"},\"colorscale\":[[0.0,\"#0d0887\"],[0.1111111111111111,\"#46039f\"],[0.2222222222222222,\"#7201a8\"],[0.3333333333333333,\"#9c179e\"],[0.4444444444444444,\"#bd3786\"],[0.5555555555555556,\"#d8576b\"],[0.6666666666666666,\"#ed7953\"],[0.7777777777777778,\"#fb9f3a\"],[0.8888888888888888,\"#fdca26\"],[1.0,\"#f0f921\"]],\"type\":\"histogram2dcontour\"}],\"mesh3d\":[{\"colorbar\":{\"outlinewidth\":0,\"ticks\":\"\"},\"type\":\"mesh3d\"}],\"parcoords\":[{\"line\":{\"colorbar\":{\"outlinewidth\":0,\"ticks\":\"\"}},\"type\":\"parcoords\"}],\"pie\":[{\"automargin\":true,\"type\":\"pie\"}],\"scatter\":[{\"marker\":{\"colorbar\":{\"outlinewidth\":0,\"ticks\":\"\"}},\"type\":\"scatter\"}],\"scatter3d\":[{\"line\":{\"colorbar\":{\"outlinewidth\":0,\"ticks\":\"\"}},\"marker\":{\"colorbar\":{\"outlinewidth\":0,\"ticks\":\"\"}},\"type\":\"scatter3d\"}],\"scattercarpet\":[{\"marker\":{\"colorbar\":{\"outlinewidth\":0,\"ticks\":\"\"}},\"type\":\"scattercarpet\"}],\"scattergeo\":[{\"marker\":{\"colorbar\":{\"outlinewidth\":0,\"ticks\":\"\"}},\"type\":\"scattergeo\"}],\"scattergl\":[{\"marker\":{\"colorbar\":{\"outlinewidth\":0,\"ticks\":\"\"}},\"type\":\"scattergl\"}],\"scattermapbox\":[{\"marker\":{\"colorbar\":{\"outlinewidth\":0,\"ticks\":\"\"}},\"type\":\"scattermapbox\"}],\"scatterpolar\":[{\"marker\":{\"colorbar\":{\"outlinewidth\":0,\"ticks\":\"\"}},\"type\":\"scatterpolar\"}],\"scatterpolargl\":[{\"marker\":{\"colorbar\":{\"outlinewidth\":0,\"ticks\":\"\"}},\"type\":\"scatterpolargl\"}],\"scatterternary\":[{\"marker\":{\"colorbar\":{\"outlinewidth\":0,\"ticks\":\"\"}},\"type\":\"scatterternary\"}],\"surface\":[{\"colorbar\":{\"outlinewidth\":0,\"ticks\":\"\"},\"colorscale\":[[0.0,\"#0d0887\"],[0.1111111111111111,\"#46039f\"],[0.2222222222222222,\"#7201a8\"],[0.3333333333333333,\"#9c179e\"],[0.4444444444444444,\"#bd3786\"],[0.5555555555555556,\"#d8576b\"],[0.6666666666666666,\"#ed7953\"],[0.7777777777777778,\"#fb9f3a\"],[0.8888888888888888,\"#fdca26\"],[1.0,\"#f0f921\"]],\"type\":\"surface\"}],\"table\":[{\"cells\":{\"fill\":{\"color\":\"#EBF0F8\"},\"line\":{\"color\":\"white\"}},\"header\":{\"fill\":{\"color\":\"#C8D4E3\"},\"line\":{\"color\":\"white\"}},\"type\":\"table\"}]},\"layout\":{\"annotationdefaults\":{\"arrowcolor\":\"#2a3f5f\",\"arrowhead\":0,\"arrowwidth\":1},\"autotypenumbers\":\"strict\",\"coloraxis\":{\"colorbar\":{\"outlinewidth\":0,\"ticks\":\"\"}},\"colorscale\":{\"diverging\":[[0,\"#8e0152\"],[0.1,\"#c51b7d\"],[0.2,\"#de77ae\"],[0.3,\"#f1b6da\"],[0.4,\"#fde0ef\"],[0.5,\"#f7f7f7\"],[0.6,\"#e6f5d0\"],[0.7,\"#b8e186\"],[0.8,\"#7fbc41\"],[0.9,\"#4d9221\"],[1,\"#276419\"]],\"sequential\":[[0.0,\"#0d0887\"],[0.1111111111111111,\"#46039f\"],[0.2222222222222222,\"#7201a8\"],[0.3333333333333333,\"#9c179e\"],[0.4444444444444444,\"#bd3786\"],[0.5555555555555556,\"#d8576b\"],[0.6666666666666666,\"#ed7953\"],[0.7777777777777778,\"#fb9f3a\"],[0.8888888888888888,\"#fdca26\"],[1.0,\"#f0f921\"]],\"sequentialminus\":[[0.0,\"#0d0887\"],[0.1111111111111111,\"#46039f\"],[0.2222222222222222,\"#7201a8\"],[0.3333333333333333,\"#9c179e\"],[0.4444444444444444,\"#bd3786\"],[0.5555555555555556,\"#d8576b\"],[0.6666666666666666,\"#ed7953\"],[0.7777777777777778,\"#fb9f3a\"],[0.8888888888888888,\"#fdca26\"],[1.0,\"#f0f921\"]]},\"colorway\":[\"#636efa\",\"#EF553B\",\"#00cc96\",\"#ab63fa\",\"#FFA15A\",\"#19d3f3\",\"#FF6692\",\"#B6E880\",\"#FF97FF\",\"#FECB52\"],\"font\":{\"color\":\"#2a3f5f\"},\"geo\":{\"bgcolor\":\"white\",\"lakecolor\":\"white\",\"landcolor\":\"#E5ECF6\",\"showlakes\":true,\"showland\":true,\"subunitcolor\":\"white\"},\"hoverlabel\":{\"align\":\"left\"},\"hovermode\":\"closest\",\"mapbox\":{\"style\":\"light\"},\"paper_bgcolor\":\"white\",\"plot_bgcolor\":\"#E5ECF6\",\"polar\":{\"angularaxis\":{\"gridcolor\":\"white\",\"linecolor\":\"white\",\"ticks\":\"\"},\"bgcolor\":\"#E5ECF6\",\"radialaxis\":{\"gridcolor\":\"white\",\"linecolor\":\"white\",\"ticks\":\"\"}},\"scene\":{\"xaxis\":{\"backgroundcolor\":\"#E5ECF6\",\"gridcolor\":\"white\",\"gridwidth\":2,\"linecolor\":\"white\",\"showbackground\":true,\"ticks\":\"\",\"zerolinecolor\":\"white\"},\"yaxis\":{\"backgroundcolor\":\"#E5ECF6\",\"gridcolor\":\"white\",\"gridwidth\":2,\"linecolor\":\"white\",\"showbackground\":true,\"ticks\":\"\",\"zerolinecolor\":\"white\"},\"zaxis\":{\"backgroundcolor\":\"#E5ECF6\",\"gridcolor\":\"white\",\"gridwidth\":2,\"linecolor\":\"white\",\"showbackground\":true,\"ticks\":\"\",\"zerolinecolor\":\"white\"}},\"shapedefaults\":{\"line\":{\"color\":\"#2a3f5f\"}},\"ternary\":{\"aaxis\":{\"gridcolor\":\"white\",\"linecolor\":\"white\",\"ticks\":\"\"},\"baxis\":{\"gridcolor\":\"white\",\"linecolor\":\"white\",\"ticks\":\"\"},\"bgcolor\":\"#E5ECF6\",\"caxis\":{\"gridcolor\":\"white\",\"linecolor\":\"white\",\"ticks\":\"\"}},\"title\":{\"x\":0.05},\"xaxis\":{\"automargin\":true,\"gridcolor\":\"white\",\"linecolor\":\"white\",\"ticks\":\"\",\"title\":{\"standoff\":15},\"zerolinecolor\":\"white\",\"zerolinewidth\":2},\"yaxis\":{\"automargin\":true,\"gridcolor\":\"white\",\"linecolor\":\"white\",\"ticks\":\"\",\"title\":{\"standoff\":15},\"zerolinecolor\":\"white\",\"zerolinewidth\":2}}}},                        {\"responsive\": true}                    ).then(function(){\n",
       "                            \n",
       "var gd = document.getElementById('25e9ee9e-cfc4-4dbb-95ca-b250a35cfe0c');\n",
       "var x = new MutationObserver(function (mutations, observer) {{\n",
       "        var display = window.getComputedStyle(gd).display;\n",
       "        if (!display || display === 'none') {{\n",
       "            console.log([gd, 'removed!']);\n",
       "            Plotly.purge(gd);\n",
       "            observer.disconnect();\n",
       "        }}\n",
       "}});\n",
       "\n",
       "// Listen for the removal of the full notebook cells\n",
       "var notebookContainer = gd.closest('#notebook-container');\n",
       "if (notebookContainer) {{\n",
       "    x.observe(notebookContainer, {childList: true});\n",
       "}}\n",
       "\n",
       "// Listen for the clearing of the current output cell\n",
       "var outputEl = gd.closest('.output');\n",
       "if (outputEl) {{\n",
       "    x.observe(outputEl, {childList: true});\n",
       "}}\n",
       "\n",
       "                        })                };                });            </script>        </div>"
      ]
     },
     "metadata": {}
    }
   ],
   "metadata": {}
  },
  {
   "cell_type": "code",
   "execution_count": 17,
   "source": [
    "trace=go.Ohlc(\n",
    "    x=appl_df.index,\n",
    "    open=appl_df.open,\n",
    "    high=appl_df.high,\n",
    "    low=appl_df.low,\n",
    "    close=appl_df.close\n",
    ")\n",
    "plotly.offline.iplot([trace])"
   ],
   "outputs": [
    {
     "output_type": "display_data",
     "data": {
      "application/vnd.plotly.v1+json": {
       "config": {
        "linkText": "Export to plot.ly",
        "plotlyServerURL": "https://plot.ly",
        "showLink": false
       },
       "data": [
        {
         "close": [
          221.19,
          222.15,
          217.36,
          222.11,
          214.45,
          216.36,
          226.87,
          223.77,
          224.29,
          227.99,
          232.07,
          229.28,
          227.26,
          225.74,
          224.95,
          220.42,
          222.19,
          220.79,
          217.66,
          220.03,
          218.37,
          218.24,
          217.88,
          223.84,
          226.41,
          221.07,
          223.85,
          218.33,
          221.3,
          223.1,
          226.87,
          228.36,
          227.63,
          225.03,
          222.98,
          219.7,
          217.94,
          216.16,
          215.49,
          215.05,
          215.04,
          215.46,
          217.58,
          213.32,
          210.24,
          209.75,
          208.87,
          207.53,
          208.88,
          207.25,
          207.11,
          209.07,
          207.99,
          207.39,
          201.5,
          190.29,
          189.91,
          190.98,
          194.21,
          194.82,
          193,
          191.61,
          191.44,
          191.88,
          190.4,
          191.45,
          190.91,
          191.33,
          191.03,
          187.88,
          190.35,
          190.58,
          187.97,
          185.4,
          183.92,
          187.18,
          185.11,
          185.5,
          184.16,
          184.43,
          182.17,
          184.92,
          185.46,
          186.5,
          185.69,
          188.74,
          188.84,
          190.8,
          190.7,
          192.28,
          191.23,
          191.7,
          193.46,
          193.98,
          193.31,
          191.83,
          190.24,
          186.87,
          187.5,
          187.9,
          188.58,
          188.15,
          188.36,
          187.16,
          187.63,
          186.31,
          186.99,
          188.18,
          186.44,
          188.15,
          188.59,
          190.04,
          187.36,
          186.05,
          185.16,
          183.83,
          176.89,
          176.57,
          169.1,
          165.26,
          162.32,
          164.22,
          163.65,
          162.94,
          165.24,
          165.72,
          172.8,
          177.84,
          178.24,
          175.82,
          174.73,
          174.14,
          172.44,
          173.25,
          170.05,
          168.38,
          172.8,
          171.61,
          168.39,
          166.68,
          167.78,
          166.48,
          168.34,
          172.77,
          164.94,
          168.85,
          171.27,
          175.24,
          175.3,
          178.02,
          178.65,
          178.44,
          179.97,
          181.72,
          179.98,
          176.94,
          175.03,
          176.67,
          176.82,
          176.21,
          175,
          178.12,
          178.39,
          178.97,
          175.5,
          172.5,
          171.07,
          171.85,
          172.43,
          172.99,
          167.37,
          164.34,
          162.71,
          156.41,
          155.15,
          159.54,
          163.03,
          156.49,
          160.5,
          167.78,
          167.43,
          166.97,
          167.96,
          171.51,
          171.11,
          174.22,
          177.04,
          177,
          178.46,
          179.26,
          179.1,
          176.19,
          177.09,
          175.28,
          174.29,
          174.33,
          174.35,
          175,
          173.03,
          172.23,
          172.26,
          169.23,
          171.08,
          170.6,
          170.57,
          175.01,
          175.01,
          174.35,
          174.54,
          176.42,
          173.97,
          172.22,
          172.27,
          171.7,
          172.67,
          169.37,
          169.32,
          169.01,
          169.64,
          169.8,
          171.05,
          171.85,
          169.48,
          173.07,
          174.09,
          174.97,
          174.96,
          173.14,
          169.98,
          170.15,
          171.1,
          169.08,
          171.34,
          173.97,
          174.67,
          175.88,
          176.24,
          174.81,
          174.25,
          172.5,
          168.11,
          166.89,
          169.04,
          166.72,
          163.05,
          157.41,
          156.41,
          157.1,
          156.17,
          156.25,
          155.98,
          159.76,
          160.47,
          159.88,
          156.99,
          156,
          156.55,
          155.9,
          155.84,
          155.3,
          155.39,
          153.48,
          154.48,
          153.81,
          154.12,
          153.28,
          154.23,
          153.14,
          150.55,
          151.89,
          153.39,
          156.07,
          158.73,
          158.67,
          159.88,
          158.28,
          159.65,
          160.86,
          161.5,
          158.63,
          161.26,
          161.91,
          162.08,
          164.05,
          164,
          163.35,
          162.91,
          161.47,
          159.86,
          159.27,
          159.98,
          159.78,
          157.21,
          157.5,
          157.86,
          160.95,
          161.6,
          159.85,
          157.48,
          155.32,
          161.06,
          160.08,
          158.81,
          156.39,
          155.57,
          157.14,
          150.05,
          148.73,
          149.5,
          150.56,
          153.46,
          152.74,
          152.09,
          150.27,
          150.34,
          151.02,
          150.08,
          149.56,
          149.04,
          147.77,
          145.74,
          145.53,
          145.06,
          144.18,
          142.73,
          144.09,
          143.5,
          144.02,
          143.68,
          145.83,
          143.73,
          145.82,
          146.28,
          145.63,
          145.87,
          145.01,
          146.34,
          142.27,
          144.29,
          145.16,
          146.59,
          145.42,
          148.98,
          154.99,
          155.37,
          154.45,
          153.93,
          155.45,
          153.18,
          152.76,
          153.67,
          153.61,
          153.87,
          153.34,
          153.8,
          153.99,
          153.06,
          152.54,
          150.25,
          155.47,
          155.7,
          156.1,
          153.95,
          153.26,
          153.99,
          153.01,
          148.96,
          146.53,
          147.06,
          147.51,
          146.58,
          143.65,
          143.79,
          143.68,
          144.53,
          143.64,
          142.27,
          142.44,
          140.68,
          141.2,
          141.83,
          141.05,
          141.8,
          141.63,
          143.17,
          143.34,
          143.66,
          144.02,
          144.77,
          143.7,
          143.66,
          143.93,
          144.12,
          143.8,
          140.88,
          140.64,
          140.92,
          141.42,
          139.84,
          141.46,
          139.99,
          140.69,
          140.46,
          138.99,
          139.2,
          139.14,
          138.68,
          139,
          139.52,
          139.34,
          139.78,
          138.96,
          139.79,
          136.99,
          136.93,
          136.66,
          136.53,
          137.11,
          136.7,
          135.72,
          135.345,
          135.51,
          135.02,
          133.29,
          132.12,
          132.42,
          132.04,
          131.53,
          130.29,
          129.08,
          128.53,
          128.75,
          121.35,
          121.63,
          121.95,
          121.94,
          121.88,
          119.97,
          120.08,
          120,
          119.78,
          119.99,
          120,
          119.04,
          119.25,
          119.75,
          119.11,
          118.99,
          117.91,
          116.61,
          116.02,
          116.15,
          115.82,
          116.73,
          116.76,
          117.26,
          116.52,
          116.29,
          117.06,
          116.95,
          116.64,
          115.97,
          115.82,
          115.19,
          115.19,
          113.3,
          113.95,
          112.12,
          111.03,
          109.95,
          109.11,
          109.9,
          109.49,
          110.52,
          111.46,
          111.57,
          111.79,
          111.23,
          111.8,
          111.73,
          110.06,
          109.95,
          109.99,
          107.11,
          105.71,
          108.43,
          107.79,
          110.88,
          111.06,
          110.41,
          108.84,
          109.83,
          111.59,
          111.49,
          113.54,
          113.72,
          114.48,
          115.59,
          118.25,
          117.65,
          116.6,
          117.06,
          117.12,
          117.47,
          117.55,
          117.63,
          116.98,
          117.34,
          116.3,
          116.05,
          114.06,
          113.89,
          113.05,
          113,
          112.52,
          113.05,
          112.18,
          113.95,
          113.09,
          112.88,
          112.71,
          114.62,
          113.55,
          113.57,
          113.58,
          114.92,
          115.57,
          111.77,
          107.95,
          105.44,
          103.13,
          105.52,
          108.36,
          107.7,
          107.73,
          106.73,
          106.1,
          106,
          106.82,
          106.94,
          107.57,
          108.03,
          108.85,
          108.51,
          109.36,
          109.08,
          109.22,
          109.38,
          109.48,
          108.18,
          107.93,
          108,
          108.81,
          108.37,
          107.48,
          105.87,
          105.79,
          104.48,
          106.05,
          104.21,
          104.34,
          102.95,
          96.67,
          97.34,
          98.66,
          99.43,
          99.96,
          99.87,
          99.83,
          98.78,
          98.79,
          96.87,
          97.42,
          96.98,
          96.68,
          95.94,
          95.53,
          94.99,
          95.89,
          95.6,
          94.4,
          93.59,
          92.04,
          93.4,
          96.1,
          95.55,
          95.91,
          95.1,
          95.33,
          97.55,
          97.14,
          97.46,
          97.34,
          98.83,
          99.65,
          98.94,
          99.03,
          98.63,
          97.92,
          97.72,
          98.46,
          99.86,
          100.35,
          100.41,
          99.62,
          97.9,
          96.43,
          95.22,
          94.2,
          94.56,
          93.49,
          93.88,
          90.52,
          90.34,
          92.51,
          93.42,
          92.79,
          92.72,
          93.24,
          94.19,
          95.18,
          93.64,
          93.74,
          94.83,
          97.82,
          104.35,
          105.08,
          105.68,
          105.97,
          107.13,
          106.91,
          107.48,
          109.85,
          112.1,
          112.04,
          110.44,
          109.02,
          108.66,
          108.54,
          110.96,
          109.81,
          111.12,
          109.99,
          108.99,
          109.56,
          107.68,
          105.19,
          105.67,
          106.13,
          106.72,
          105.91,
          105.92,
          105.8,
          105.97,
          104.58,
          102.52,
          102.26,
          101.17,
          101.12,
          101.03,
          101.87,
          103.01,
          101.5,
          100.75,
          100.53,
          96.69,
          96.91,
          96.76,
          96.1,
          94.69,
          96.88,
          96.04,
          96.26,
          98.12,
          96.64,
          93.99,
          93.7,
          94.27,
          94.99,
          95.01,
          94.02,
          96.6,
          96.35,
          94.48,
          96.43,
          97.34,
          94.09,
          93.42,
          99.99,
          99.44,
          101.42,
          96.3,
          96.79,
          96.66,
          97.13,
          99.52,
          97.39,
          99.96,
          98.53,
          96.96,
          96.45,
          100.7,
          102.71,
          105.35,
          105.26,
          107.32,
          108.74,
          106.82,
          108.03,
          108.61,
          107.23,
          107.33,
          106.03,
          108.98,
          111.34,
          110.49,
          112.48,
          113.18,
          116.17,
          115.62,
          118.23,
          118.28,
          119.03,
          115.2,
          116.28,
          117.34,
          118.3,
          117.81,
          118.03,
          118.88,
          117.75,
          119.3,
          118.78,
          117.29,
          113.69,
          114.175,
          112.34,
          115.72,
          116.11,
          116.77,
          120.57,
          121.06,
          120.92,
          122,
          122.57,
          121.18,
          119.5,
          120.53,
          119.27,
          114.55,
          115.28,
          119.08,
          115.5,
          113.76,
          113.77,
          111.73
         ],
         "high": [
          222.64,
          222.99,
          221.83,
          222.88,
          219.5,
          226.35,
          227.27,
          224.8,
          228.41,
          232.35,
          233.47,
          230,
          229.42,
          225.84,
          226.44,
          223.75,
          222.82,
          221.26,
          221.36,
          222.28,
          219.62,
          221.85,
          222.95,
          226.84,
          228.35,
          225,
          224.299,
          221.85,
          225.37,
          227.35,
          229.67,
          229.18,
          228.87,
          228.26,
          223.49,
          220.54,
          218.74,
          216.9,
          217.05,
          216.36,
          217.19,
          219.18,
          217.95,
          213.8121,
          210.74,
          210.56,
          210.952,
          209.1,
          209.78,
          207.81,
          209.5,
          209.25,
          208.74,
          208.38,
          201.76,
          192.14,
          192.2,
          195.19,
          195.96,
          194.85,
          193.6601,
          191.96,
          192.43,
          192.55,
          191.8,
          191.87,
          192.65,
          191.84,
          191.41,
          189.7799,
          191.28,
          190.68,
          188.434,
          186.41,
          187.95,
          187.3,
          187.19,
          186.21,
          187.28,
          186.53,
          184.92,
          186.15,
          188.35,
          187.2,
          186.33,
          189.22,
          190.16,
          191.57,
          192.88,
          192.611,
          191.97,
          192,
          194.2,
          194.08,
          193.94,
          193.42,
          190.26,
          188.23,
          188,
          188.75,
          189.65,
          188.84,
          188.5,
          188.88,
          189.27,
          187.8102,
          188.91,
          188.46,
          187.07,
          189.53,
          190.06,
          190.37,
          187.4,
          186.22,
          187.67,
          184.25,
          177.5,
          177.75,
          169.2,
          167.26,
          164.33,
          165.73,
          165.42,
          166.33,
          166.92,
          171.2184,
          175.39,
          178.82,
          178.9365,
          176.19,
          175.84,
          175,
          173.9232,
          174,
          173.09,
          172.48,
          174.2304,
          172.01,
          168.7455,
          168.94,
          171.75,
          170.02,
          175.15,
          173.1,
          169.92,
          172.68,
          175.09,
          176.8,
          177.47,
          179.12,
          180.24,
          180.52,
          183.5,
          182.39,
          180,
          177.12,
          175.85,
          178.25,
          177.74,
          176.3,
          179.775,
          180.615,
          180.48,
          179.39,
          175.65,
          173.95,
          174.12,
          174.26,
          174.82,
          173.09,
          167.54,
          164.75,
          163.89,
          157.89,
          161,
          163.4,
          163.72,
          163.88,
          166.8,
          168.62,
          168.4417,
          167.37,
          170.16,
          172,
          174.95,
          177.3,
          179.44,
          177.78,
          179.58,
          180.1,
          179.25,
          179.39,
          177.36,
          175.4886,
          174.3,
          175.06,
          175.61,
          175.37,
          173.47,
          174.55,
          172.3,
          170.59,
          171.85,
          170.78,
          171.47,
          175.424,
          176.02,
          175.42,
          175.39,
          177.2,
          174.17,
          173.13,
          173.54,
          172.39,
          172.89,
          171,
          170.44,
          170.2047,
          171.52,
          172.62,
          171.67,
          172.14,
          172.92,
          174.87,
          175.08,
          175.5,
          175,
          173.7,
          170.56,
          171.39,
          171.87,
          170.3197,
          173.48,
          174.5,
          175.38,
          176.095,
          176.24,
          175.25,
          174.99,
          174.26,
          168.5,
          169.94,
          169.6499,
          168.07,
          163.6,
          157.8295,
          157.55,
          157.42,
          157.69,
          157.75,
          157.08,
          160.71,
          160.87,
          160,
          157.28,
          157.37,
          156.98,
          158,
          156.73,
          155.49,
          155.44,
          153.86,
          155.09,
          154.45,
          154.13,
          154.28,
          154.7189,
          153.92,
          151.83,
          152.27,
          155.8,
          158.26,
          159.77,
          160.5,
          160.97,
          159.4,
          159.96,
          163.96,
          162.05,
          161.15,
          162.24,
          162.99,
          164.25,
          164.94,
          164.52,
          163.89,
          163.12,
          162,
          160.56,
          160.74,
          160.47,
          160,
          157.89,
          159.5,
          160.71,
          162.51,
          162.195,
          160.21,
          158.5728,
          160,
          161.27,
          161.83,
          158.92,
          157.4,
          157.21,
          159.75,
          150.22,
          150.33,
          150.23,
          153.99,
          153.93,
          153.84,
          152.44,
          150.44,
          151.74,
          151.42,
          150.13,
          150.9,
          149.33,
          148.49,
          146.18,
          145.85,
          145.95,
          144.75,
          143.5,
          144.79,
          145.3001,
          144.96,
          145.13,
          146.11,
          146.16,
          148.28,
          147.16,
          146.7,
          146.0693,
          146.87,
          146.74,
          144.5,
          144.4798,
          147.5,
          147.45,
          146.09,
          155.19,
          155.54,
          155.98,
          155.81,
          154.45,
          155.45,
          153.33,
          154.17,
          154.43,
          154.24,
          154.35,
          154.17,
          154.9,
          154.58,
          153.98,
          153.34,
          154.57,
          156.06,
          156.65,
          156.42,
          154.07,
          153.94,
          154.88,
          153.7,
          148.98,
          147.14,
          147.49,
          148.09,
          147.2,
          144.3,
          144.16,
          144.6,
          144.9,
          143.95,
          142.68,
          142.92,
          142,
          142.04,
          141.88,
          142.38,
          142.15,
          143.35,
          143.8792,
          144.18,
          144.52,
          145.46,
          144.89,
          144.12,
          144.27,
          144.5,
          144.49,
          144.04,
          141.22,
          141.74,
          141.5844,
          141.6,
          142.8,
          141.5,
          141,
          141.02,
          140.7501,
          139.65,
          139.43,
          139.3571,
          138.79,
          139.8,
          139.98,
          139.77,
          139.83,
          140.2786,
          140.15,
          137.435,
          137.435,
          136.66,
          137.48,
          137.12,
          136.75,
          135.83,
          135.9,
          136.27,
          135.09,
          133.82,
          132.94,
          132.445,
          132.22,
          132.09,
          130.5,
          129.19,
          129.39,
          130.49,
          121.39,
          121.63,
          122.35,
          122.44,
          122.1,
          120.1,
          120.81,
          120.45,
          120.09,
          120.5,
          120.24,
          119.62,
          119.3,
          119.93,
          119.38,
          119.43,
          118.16,
          116.8642,
          116.51,
          116.33,
          117.2,
          117.1095,
          118.0166,
          117.8,
          116.52,
          116.51,
          117.4,
          117.5,
          117.38,
          116.5,
          116.73,
          116.2,
          115.92,
          115,
          114.7,
          112.43,
          111.19,
          110.36,
          110.03,
          110.09,
          110.94,
          112.2,
          112.03,
          112.465,
          111.87,
          111.51,
          112.42,
          111.99,
          110.54,
          110.35,
          110.23,
          107.68,
          107.809,
          108.87,
          111.09,
          111.32,
          111.72,
          110.51,
          110.25,
          111.46,
          112.35,
          113.77,
          114.23,
          115.21,
          115.86,
          115.7,
          118.36,
          117.74,
          116.91,
          117.38,
          117.76,
          118.21,
          117.84,
          118.17,
          117.44,
          117.98,
          118.69,
          116.75,
          114.56,
          114.34,
          113.66,
          114.31,
          113.05,
          113.37,
          113.8,
          114.64,
          113.18,
          113.39,
          114.79,
          114.94,
          113.989,
          114.12,
          116.18,
          116.13,
          115.73,
          113.03,
          108.79,
          105.72,
          105.72,
          107.27,
          108.76,
          108.3,
          108,
          106.8,
          106.5699,
          106.5,
          107.44,
          107.95,
          107.88,
          108.75,
          109.32,
          109.1,
          109.69,
          109.6,
          109.37,
          110.23,
          109.54,
          108.44,
          108.93,
          108.9,
          108.94,
          108.37,
          107.65,
          106,
          105.84,
          106.07,
          106.15,
          104.55,
          104.45,
          104.35,
          97.97,
          98.84,
          99.3,
          101,
          100.46,
          100,
          100.13,
          99.3,
          98.99,
          97.67,
          97.7,
          97.65,
          96.89,
          96.5,
          95.66,
          95.4,
          96.465,
          95.77,
          94.55,
          93.66,
          93.05,
          94.655,
          96.29,
          96.89,
          96.35,
          96.57,
          96.65,
          97.75,
          98.41,
          98.475,
          99.12,
          99.3457,
          99.99,
          99.56,
          99.87,
          101.89,
          98.27,
          97.84,
          99.54,
          100.4,
          100.47,
          100.73,
          99.74,
          98.09,
          97.19,
          95.43,
          94.64,
          95.21,
          94.7,
          94.39,
          91.67,
          92.78,
          93.57,
          93.57,
          93.77,
          93.45,
          94.07,
          95.9,
          95.74,
          94.08,
          94.72,
          97.88,
          98.71,
          105.3,
          105.65,
          106.48,
          106.93,
          108.09,
          108,
          108.95,
          112.3,
          112.39,
          112.34,
          110.5,
          110.61,
          109.77,
          110.42,
          110.98,
          110.73,
          112.19,
          110,
          109.9,
          110.42,
          107.79,
          106.19,
          106.25,
          107.07,
          107.29,
          107.65,
          106.5,
          106.47,
          106.31,
          105.18,
          102.91,
          102.28,
          102.24,
          101.58,
          101.76,
          102.83,
          103.75,
          101.7099,
          100.89,
          100.77,
          98.23,
          98.0237,
          96.76,
          96.38,
          96.5,
          96.9,
          96.7599,
          98.89,
          98.21,
          96.85,
          94.5,
          94.72,
          96.35,
          95.94,
          95.7,
          96.92,
          97.33,
          96.84,
          96.04,
          96.71,
          97.34,
          94.52,
          96.6289,
          100.88,
          101.53,
          101.46,
          97.88,
          98.1897,
          98.65,
          97.71,
          100.48,
          101.19,
          100.69,
          99.06,
          99.11,
          100.13,
          102.37,
          105.85,
          105.368,
          107.03,
          108.7,
          109.43,
          107.69,
          109,
          108.85,
          107.72,
          107.37,
          109.52,
          112.25,
          111.99,
          112.8,
          112.68,
          115.39,
          116.94,
          117.69,
          118.6,
          119.86,
          119.25,
          116.79,
          118.11,
          118.81,
          119.41,
          118.41,
          119.23,
          119.35,
          119.73,
          119.92,
          119.75,
          117.49,
          115.05,
          114.24,
          115.57,
          116.82,
          117.42,
          118.07,
          121.81,
          121.81,
          122.69,
          123.82,
          123.49,
          121.36,
          121.22,
          120.69,
          119.3,
          116.54,
          118.13,
          119.228,
          115.5,
          115.58,
          114.17,
          111.75
         ],
         "low": [
          219.34,
          216.7627,
          217.27,
          216.84,
          212.32,
          216.05,
          222.2462,
          220.2,
          220.58,
          226.73,
          229.78,
          226.63,
          226.35,
          224.02,
          223.54,
          219.76,
          219.7,
          216.63,
          217.29,
          219.15,
          215.3,
          217.12,
          217.27,
          222.522,
          222.57,
          219.84,
          216.56,
          216.47,
          220.71,
          221.3,
          225.1,
          226.63,
          226,
          222.4,
          219.41,
          218.92,
          216.33,
          215.11,
          214.6,
          213.84,
          214.025,
          215.11,
          213.16,
          211.47,
          208.33,
          208.26,
          207.7,
          206.67,
          207.2,
          204.52,
          206.76,
          207.07,
          205.4803,
          200.35,
          197.31,
          189.34,
          189.07,
          190.1,
          193.61,
          192.43,
          192.05,
          189.56,
          190.17,
          189.69,
          189.93,
          189.2,
          190.415,
          190.9,
          189.31,
          187.61,
          190.1801,
          189.3,
          185.2,
          184.28,
          183.54,
          183.42,
          182.91,
          183.8,
          184.03,
          182.54,
          180.73,
          184.7,
          184.94,
          185.73,
          183.45,
          187.2,
          188.26,
          190.22,
          190.44,
          191.15,
          190.21,
          189.77,
          192.335,
          191.92,
          192.36,
          191.35,
          187.75,
          186.14,
          186.78,
          186.87,
          187.65,
          186.21,
          185.76,
          186.78,
          186.9106,
          186.13,
          186.36,
          186,
          185.1,
          187.86,
          187.45,
          187.65,
          185.22,
          183.665,
          184.75,
          178.17,
          174.4411,
          173.8,
          165.27,
          161.84,
          160.63,
          163.37,
          162.41,
          161.2201,
          164.09,
          165.43,
          172.66,
          176.88,
          176.41,
          174.8301,
          173.85,
          173.04,
          171.7,
          171.53,
          169.845,
          168.2,
          172.08,
          164.77,
          164.88,
          164.47,
          166.9,
          165.19,
          166.92,
          166.44,
          164.94,
          168.6,
          171.26,
          174.94,
          173.66,
          177.62,
          178.0701,
          177.81,
          179.24,
          180.21,
          177.39,
          175.07,
          174.27,
          176.13,
          174.52,
          172.45,
          172.66,
          178.05,
          178.16,
          176.21,
          173.54,
          171.71,
          171.01,
          171.42,
          171.77,
          169,
          162.88,
          161.65,
          157.51,
          150.24,
          155.03,
          159.0685,
          154,
          156,
          160.1,
          166.76,
          166.5,
          164.7,
          167.07,
          170.06,
          170.53,
          173.2,
          176.82,
          176.6016,
          177.41,
          178.25,
          175.07,
          176.14,
          175.65,
          174.49,
          173,
          173.41,
          173.93,
          173.05,
          172.08,
          171.96,
          169.26,
          169.22,
          170.48,
          169.71,
          169.679,
          174.5,
          174.1,
          173.25,
          174.09,
          174.86,
          172.46,
          171.65,
          172,
          171.461,
          168.79,
          168.82,
          168.91,
          166.46,
          168.4,
          169.63,
          168.5,
          168.44,
          167.16,
          171.86,
          173.34,
          174.6459,
          173.05,
          170.78,
          169.56,
          169.64,
          170.3,
          168.38,
          171.18,
          173.4,
          174.27,
          173.14,
          174.33,
          173.6,
          171.72,
          171.12,
          165.28,
          165.61,
          166.94,
          163.72,
          158.7,
          156.78,
          155.27,
          156.2,
          155.5,
          155.96,
          155.02,
          159.6,
          159.23,
          157.65,
          156.41,
          155.7299,
          155.75,
          155.1,
          155.485,
          154.56,
          154.05,
          152.46,
          153.91,
          152.72,
          152,
          152.7,
          153.54,
          151.69,
          149.16,
          150.56,
          152.75,
          153.83,
          158.44,
          157.995,
          158,
          158.09,
          157.91,
          158.77,
          159.89,
          158.53,
          160.36,
          160.52,
          160.56,
          163.63,
          163.48,
          162.61,
          160,
          159.93,
          159.27,
          158.55,
          158.88,
          158.02,
          155.1101,
          156.72,
          157.84,
          160.15,
          160.14,
          158.75,
          156.07,
          154.63,
          159.11,
          158.27,
          156.6701,
          155.69,
          155.02,
          156.16,
          148.41,
          148.13,
          149.19,
          147.3,
          153.06,
          151.8,
          149.9,
          148.88,
          150.19,
          149.95,
          148.67,
          148.57,
          147.33,
          145.44,
          144.82,
          144.38,
          143.37,
          142.9,
          142.41,
          142.7237,
          143.1,
          143.78,
          142.28,
          143.1601,
          143.62,
          145.38,
          145.11,
          145.1199,
          144.61,
          144.94,
          143.66,
          142.2,
          142.21,
          143.84,
          145.15,
          142.51,
          146.02,
          154.4,
          154.48,
          153.78,
          153.46,
          152.89,
          152.22,
          152.38,
          153.33,
          153.31,
          153.03,
          152.67,
          153.31,
          152.91,
          152.63,
          151.13,
          149.71,
          154.72,
          155.05,
          154.67,
          152.31,
          152.11,
          153.45,
          149.03,
          146.76,
          145.81,
          144.27,
          146.84,
          144.96,
          143.27,
          143.31,
          143.3762,
          143.87,
          143.18,
          141.85,
          141.16,
          140.45,
          141.11,
          140.87,
          141.05,
          141.01,
          140.06,
          142.9,
          143.27,
          143.45,
          143.81,
          143.17,
          143.05,
          143.01,
          143.5,
          143.19,
          140.62,
          138.62,
          140.35,
          140.61,
          139.76,
          139.73,
          140.23,
          139.89,
          140.26,
          139.025,
          138.84,
          138.82,
          138.64,
          137.05,
          138.82,
          138.79,
          138.5959,
          138.59,
          138.76,
          137.595,
          136.7,
          136.28,
          135.28,
          136.3,
          136.11,
          135.98,
          135.1,
          134.8398,
          134.62,
          133.25,
          132.75,
          132.05,
          131.12,
          131.22,
          130.45,
          128.9,
          128.16,
          127.78,
          127.01,
          120.62,
          120.66,
          121.6,
          121.6,
          120.28,
          119.5,
          119.77,
          119.7346,
          119.37,
          119.71,
          118.22,
          118.81,
          118.21,
          118.6,
          118.3,
          117.94,
          116.47,
          115.81,
          115.75,
          114.76,
          115.43,
          116.4,
          116.2,
          116.49,
          115.59,
          115.64,
          116.78,
          116.68,
          115.75,
          115.645,
          115.23,
          114.98,
          113.75,
          112.49,
          112.31,
          110.6,
          109.16,
          109.19,
          108.25,
          108.85,
          109.03,
          110.27,
          110.07,
          111.39,
          110.95,
          110.33,
          111.4,
          110.01,
          109.66,
          108.83,
          106.6,
          106.1593,
          104.08,
          106.55,
          105.83,
          108.05,
          109.7,
          109.46,
          108.11,
          109.55,
          111.23,
          110.53,
          113.2,
          113.45,
          114.1,
          113.31,
          117.31,
          117,
          116.28,
          116.33,
          113.8,
          117.45,
          116.78,
          117.13,
          115.72,
          116.75,
          116.2,
          114.72,
          113.51,
          113.13,
          112.69,
          112.63,
          112.28,
          111.8,
          111.8,
          113.43,
          112.34,
          111.55,
          111.55,
          114,
          112.441,
          112.51,
          113.25,
          114.04,
          113.49,
          108.6,
          107.24,
          102.53,
          103.13,
          105.24,
          107.07,
          107.51,
          106.82,
          105.62,
          105.64,
          105.5,
          106.29,
          106.31,
          106.68,
          107.68,
          108.53,
          107.85,
          108.36,
          109.02,
          108.34,
          109.21,
          108.08,
          107.78,
          107.85,
          107.76,
          108.01,
          107.16,
          106.18,
          105.28,
          104.77,
          104,
          104.41,
          103.68,
          102.82,
          102.75,
          96.42,
          96.92,
          98.31,
          99.13,
          99.735,
          99.34,
          98.6,
          98.5,
          97.32,
          96.84,
          97.12,
          96.73,
          96.05,
          95.62,
          94.37,
          94.46,
          95.33,
          94.3,
          93.63,
          92.14,
          91.5,
          92.65,
          95.25,
          95.35,
          94.676,
          95.03,
          95.3,
          96.07,
          97.03,
          96.75,
          97.1,
          98.48,
          98.46,
          98.68,
          98.96,
          97.55,
          97.45,
          96.63,
          98.33,
          98.82,
          99.245,
          98.64,
          98.11,
          96.84,
          95.67,
          94.52,
          93.57,
          93.89,
          93.01,
          91.65,
          90,
          89.47,
          92.46,
          92.11,
          92.59,
          91.85,
          92.68,
          93.82,
          93.68,
          92.4,
          92.51,
          94.25,
          95.68,
          103.91,
          104.51,
          104.62,
          105.52,
          106.06,
          106.23,
          106.94,
          109.73,
          111.33,
          110.8,
          108.66,
          108.83,
          108.17,
          108.121,
          109.2,
          109.42,
          110.27,
          108.2,
          108.88,
          108.6,
          104.88,
          105.06,
          104.89,
          105.9,
          105.21,
          105.1401,
          105.19,
          104.96,
          104.59,
          103.85,
          101.78,
          101.5,
          100.15,
          100.27,
          100.4,
          100.96,
          101.37,
          100.45,
          99.64,
          97.42,
          96.65,
          96.58,
          95.25,
          93.32,
          94.55,
          95.92,
          95.8,
          96.091,
          96.15,
          94.61,
          93.01,
          92.59,
          94.1,
          93.93,
          93.04,
          93.69,
          95.19,
          94.08,
          94.28,
          95.4,
          94.35,
          92.39,
          93.34,
          98.07,
          99.21,
          98.37,
          94.94,
          93.42,
          95.5,
          95.36,
          95.74,
          97.3,
          98.8399,
          97.34,
          96.76,
          96.43,
          99.87,
          102.41,
          102,
          104.82,
          107.18,
          106.86,
          106.1807,
          107.95,
          107.2,
          106.451,
          105.57,
          105.81,
          108.98,
          108.8,
          110.35,
          109.79,
          112.851,
          115.51,
          115.08,
          116.86,
          117.81,
          115.11,
          114.22,
          116.08,
          116.86,
          117.75,
          117.6,
          117.92,
          117.12,
          117.34,
          118.85,
          116.76,
          115.5,
          113.32,
          111,
          112.27,
          115.65,
          115.21,
          116.061,
          120.05,
          120.62,
          120.18,
          121.62,
          120.7,
          119.61,
          119.45,
          118.27,
          116.06,
          113.99,
          114.92,
          116.33,
          114.1,
          113.7,
          110.82,
          110.11
         ],
         "open": [
          222.3,
          218.93,
          221.16,
          220.42,
          214.52,
          225.46,
          223.64,
          222.21,
          227.96,
          230.78,
          230.05,
          227.25,
          227.95,
          224.79,
          223.82,
          221,
          219.75,
          216.82,
          220.78,
          220.24,
          218.5,
          217.79,
          222.15,
          225.75,
          223.52,
          224.94,
          218.01,
          220.95,
          221.85,
          226.23,
          228.99,
          228.41,
          226.51,
          223.25,
          220.15,
          219.01,
          217.15,
          216.6,
          214.65,
          214.1,
          216.8,
          218.1,
          213.44,
          211.75,
          209.22,
          210.155,
          207.7,
          207.36,
          207.28,
          206.05,
          209.32,
          208,
          207.03,
          200.58,
          199.13,
          190.3,
          191.9,
          194.99,
          194.61,
          193.06,
          192.45,
          190.68,
          191.78,
          189.69,
          191.78,
          189.75,
          191.52,
          191.08,
          189.53,
          188.5,
          190.71,
          189.5,
          185.42,
          185.26,
          187.79,
          183.82,
          186.29,
          184.1,
          185.228,
          182.99,
          183.4,
          186.12,
          187.25,
          186.35,
          185.14,
          187.88,
          190.03,
          191.55,
          192.42,
          191.385,
          191.35,
          191.17,
          194.14,
          193.63,
          193.065,
          191.635,
          187.991,
          187.22,
          187.72,
          187.6,
          188.23,
          188.77,
          186.35,
          188.375,
          188,
          187.19,
          188,
          186.07,
          186.78,
          189.01,
          189.49,
          187.74,
          186.55,
          184.99,
          185.18,
          178.25,
          175.88,
          175.225,
          166.41,
          162.13,
          164,
          164.12,
          162.62,
          165.67,
          166.835,
          170.595,
          174.95,
          177.81,
          176.49,
          175.0301,
          174.78,
          173.41,
          172.23,
          173,
          169.88,
          170.97,
          172.58,
          164.88,
          167.64,
          167.88,
          167.805,
          167.25,
          173.68,
          168.07,
          168.39,
          170,
          175.04,
          175.24,
          177.32,
          178.65,
          178.5,
          180.32,
          182.59,
          180.29,
          177.96,
          175.48,
          174.94,
          177.91,
          175.21,
          172.8,
          178.54,
          179.26,
          179.1,
          176.35,
          173.67,
          171.8,
          172.83,
          172.05,
          172.36,
          169.79,
          163.045,
          161.95,
          158.5,
          157.07,
          160.29,
          163.085,
          154.83,
          159.1,
          166,
          167.165,
          166.87,
          165.525,
          170.16,
          172,
          174.505,
          177.25,
          177.3,
          177.3,
          178.61,
          179.37,
          176.15,
          177.9,
          176.18,
          174.59,
          173.16,
          174.55,
          174.35,
          173.44,
          172.54,
          172.53,
          170.16,
          170.52,
          171,
          170.1,
          170.8,
          174.68,
          174.17,
          174.87,
          175.03,
          174.88,
          173.63,
          172.4,
          172.5,
          172.15,
          169.2,
          170.49,
          169.03,
          167.5,
          169.06,
          172.48,
          169.95,
          170.43,
          172.63,
          174.3,
          175.05,
          175.1,
          173.36,
          170.78,
          170.29,
          171.04,
          171.18,
          169.97,
          173.04,
          173.5,
          175.11,
          175.11,
          174.66,
          173.91,
          172.365,
          174,
          167.64,
          169.87,
          167.9,
          163.89,
          159.29,
          157.23,
          156.91,
          156.29,
          156.89,
          156.61,
          156.75,
          160.42,
          159.78,
          157.9,
          156.73,
          156.35,
          155.97,
          156.055,
          155.81,
          154.97,
          154.18,
          153.63,
          154.01,
          154.26,
          153.21,
          153.89,
          153.8,
          151.78,
          149.99,
          152.02,
          155.8,
          157.9,
          159.51,
          160.11,
          158.47,
          158.99,
          159.87,
          162.61,
          160.5,
          160.86,
          162.09,
          162.71,
          163.75,
          164.8,
          163.64,
          163.8,
          160.1,
          160.14,
          159.65,
          160.43,
          159.07,
          158.23,
          157.5,
          157.86,
          160.52,
          161.94,
          160.66,
          159.32,
          156.6,
          159.9,
          159.26,
          158.6,
          157.06,
          156.07,
          157.05,
          159.28,
          149.1,
          149.9,
          149.89,
          153.75,
          153.35,
          151.8,
          150.58,
          149.99,
          151.5,
          150.48,
          149.2,
          148.82,
          147.97,
          145.5,
          145.87,
          144.73,
          144.11,
          142.9,
          143.02,
          143.69,
          144.88,
          144.45,
          144.71,
          144.49,
          145.01,
          147.17,
          145.13,
          145.77,
          145.52,
          146.87,
          143.66,
          143.78,
          143.32,
          147.5,
          147.16,
          145.74,
          155.19,
          155.25,
          155.02,
          153.9,
          154.34,
          153.58,
          153.17,
          153.97,
          153.42,
          154,
          153.73,
          153.84,
          154.9,
          154,
          153.38,
          151.27,
          153.6,
          155.94,
          156.01,
          154.7,
          152.45,
          153.63,
          153.87,
          149.03,
          146.76,
          146.52,
          145.59,
          147.54,
          145.1,
          144.09,
          143.923,
          144.47,
          143.91,
          143.5,
          142.44,
          141.22,
          141.88,
          141.41,
          141.48,
          141.91,
          141.6,
          142.94,
          143.6,
          143.73,
          144.29,
          144.22,
          143.25,
          143.71,
          143.72,
          144.19,
          143.68,
          140.91,
          139.39,
          141.5,
          141.26,
          139.845,
          142.11,
          140.4,
          141,
          140.72,
          139.41,
          139.3,
          138.85,
          139.25,
          138.74,
          138.95,
          139.06,
          139.365,
          138.78,
          140,
          137.89,
          137.08,
          137.14,
          135.91,
          137.38,
          136.43,
          136.23,
          135.1,
          135.67,
          135.52,
          133.47,
          133.08,
          132.46,
          131.65,
          131.35,
          130.54,
          129.13,
          128.31,
          127.975,
          127.03,
          121.15,
          120.93,
          122.14,
          121.67,
          120.42,
          119.55,
          120,
          120.45,
          119.4,
          120,
          118.34,
          119.11,
          118.895,
          118.74,
          118.77,
          117.95,
          116.78,
          115.92,
          115.85,
          115.8,
          116.65,
          116.45,
          117.52,
          116.52,
          115.59,
          116.35,
          116.8,
          116.74,
          115.8,
          116.47,
          115.38,
          115.04,
          113.84,
          113.29,
          112.31,
          110.86,
          109.26,
          109.5,
          110,
          109.17,
          110.365,
          111.6,
          110.78,
          111.43,
          111.13,
          111.36,
          111.95,
          110.12,
          109.72,
          109.81,
          106.7,
          106.57,
          107.71,
          107.12,
          111.09,
          109.88,
          110.31,
          110.08,
          108.53,
          110.98,
          111.4,
          113.46,
          113.65,
          113.87,
          115.39,
          114.31,
          117.95,
          117.1,
          116.81,
          116.86,
          117.25,
          118.18,
          117.33,
          117.88,
          116.79,
          117.35,
          117.7,
          115.02,
          114.31,
          113.7,
          113.4,
          113.06,
          112.71,
          112.46,
          113.16,
          113.69,
          113,
          111.64,
          114.42,
          114.35,
          113.85,
          113.05,
          115.19,
          115.12,
          113.86,
          108.73,
          107.51,
          102.65,
          104.64,
          107.25,
          107.83,
          107.9,
          107.7,
          106.14,
          105.66,
          105.8,
          106.62,
          107.41,
          107.39,
          108.565,
          108.59,
          108.86,
          108.77,
          109.23,
          109.1,
          109.63,
          108.14,
          107.78,
          108.52,
          108.71,
          108.23,
          107.52,
          106.27,
          105.58,
          104.81,
          106.05,
          104.41,
          104.19,
          102.83,
          104.265,
          96.82,
          98.25,
          99.26,
          99.83,
          100,
          99.56,
          98.7,
          98.92,
          97.39,
          97.41,
          97.17,
          96.75,
          96.49,
          95.7,
          94.6,
          95.39,
          95.49,
          94.44,
          93.97,
          92.9,
          93,
          92.91,
          95.94,
          96.25,
          94.94,
          96,
          96.62,
          96.45,
          97.82,
          97.32,
          98.69,
          98.53,
          98.5,
          99.02,
          99.25,
          97.99,
          97.79,
          97.6,
          99.02,
          99.6,
          99.44,
          99.68,
          98.67,
          97.22,
          95.87,
          94.64,
          94.64,
          94.16,
          94.55,
          92.39,
          90,
          92.72,
          93.48,
          93.33,
          93,
          93.37,
          94,
          95.2,
          94.2,
          93.965,
          93.99,
          97.61,
          96,
          103.91,
          105,
          105.01,
          106.93,
          106.64,
          107.88,
          108.89,
          112.11,
          111.62,
          110.8,
          109.34,
          108.97,
          108.91,
          109.95,
          110.23,
          109.51,
          110.42,
          108.78,
          109.72,
          108.65,
          104.89,
          106,
          105.47,
          106.48,
          105.25,
          105.93,
          106.34,
          105.52,
          104.61,
          103.96,
          101.91,
          102.24,
          101.41,
          101.31,
          100.78,
          102.39,
          102.37,
          100.58,
          100.51,
          97.65,
          96.86,
          97.2,
          96.05,
          93.98,
          96.4,
          96.31,
          96,
          98.84,
          96.67,
          95.02,
          94.19,
          93.79,
          95.92,
          94.29,
          93.13,
          96.52,
          95.86,
          95,
          95.42,
          96.47,
          94.79,
          93.79,
          96.04,
          99.93,
          101.52,
          98.63,
          97.06,
          95.1,
          98.41,
          96.2,
          97.96,
          100.32,
          100.55,
          98.97,
          98.55,
          98.68,
          100.56,
          105.75,
          102.61,
          107.01,
          108.58,
          106.96,
          107.59,
          109,
          107.27,
          107.4,
          107.28,
          108.91,
          112.02,
          111.07,
          111.94,
          112.18,
          115.19,
          116.04,
          117.64,
          117.52,
          118.98,
          115.29,
          116.55,
          117.05,
          118.75,
          117.99,
          118.29,
          119.21,
          117.33,
          119.27,
          119.2,
          117.64,
          115.76,
          114.92,
          111.38,
          115.2,
          116.26,
          116.37,
          116.9,
          120.96,
          121.11,
          121.85,
          123.13,
          120.79,
          119.87,
          120.99,
          118.7,
          116.93,
          115.4,
          118.08,
          116.7,
          114.33,
          114,
          111.34,
          110.8
         ],
         "type": "ohlc",
         "x": [
          "2018-10-17T00:00:00",
          "2018-10-16T00:00:00",
          "2018-10-15T00:00:00",
          "2018-10-12T00:00:00",
          "2018-10-11T00:00:00",
          "2018-10-10T00:00:00",
          "2018-10-09T00:00:00",
          "2018-10-08T00:00:00",
          "2018-10-05T00:00:00",
          "2018-10-04T00:00:00",
          "2018-10-03T00:00:00",
          "2018-10-02T00:00:00",
          "2018-10-01T00:00:00",
          "2018-09-28T00:00:00",
          "2018-09-27T00:00:00",
          "2018-09-26T00:00:00",
          "2018-09-25T00:00:00",
          "2018-09-24T00:00:00",
          "2018-09-21T00:00:00",
          "2018-09-20T00:00:00",
          "2018-09-19T00:00:00",
          "2018-09-18T00:00:00",
          "2018-09-17T00:00:00",
          "2018-09-14T00:00:00",
          "2018-09-13T00:00:00",
          "2018-09-12T00:00:00",
          "2018-09-11T00:00:00",
          "2018-09-10T00:00:00",
          "2018-09-07T00:00:00",
          "2018-09-06T00:00:00",
          "2018-09-05T00:00:00",
          "2018-09-04T00:00:00",
          "2018-08-31T00:00:00",
          "2018-08-30T00:00:00",
          "2018-08-29T00:00:00",
          "2018-08-28T00:00:00",
          "2018-08-27T00:00:00",
          "2018-08-24T00:00:00",
          "2018-08-23T00:00:00",
          "2018-08-22T00:00:00",
          "2018-08-21T00:00:00",
          "2018-08-20T00:00:00",
          "2018-08-17T00:00:00",
          "2018-08-16T00:00:00",
          "2018-08-15T00:00:00",
          "2018-08-14T00:00:00",
          "2018-08-13T00:00:00",
          "2018-08-10T00:00:00",
          "2018-08-09T00:00:00",
          "2018-08-08T00:00:00",
          "2018-08-07T00:00:00",
          "2018-08-06T00:00:00",
          "2018-08-03T00:00:00",
          "2018-08-02T00:00:00",
          "2018-08-01T00:00:00",
          "2018-07-31T00:00:00",
          "2018-07-30T00:00:00",
          "2018-07-27T00:00:00",
          "2018-07-26T00:00:00",
          "2018-07-25T00:00:00",
          "2018-07-24T00:00:00",
          "2018-07-23T00:00:00",
          "2018-07-20T00:00:00",
          "2018-07-19T00:00:00",
          "2018-07-18T00:00:00",
          "2018-07-17T00:00:00",
          "2018-07-16T00:00:00",
          "2018-07-13T00:00:00",
          "2018-07-12T00:00:00",
          "2018-07-11T00:00:00",
          "2018-07-10T00:00:00",
          "2018-07-09T00:00:00",
          "2018-07-06T00:00:00",
          "2018-07-05T00:00:00",
          "2018-07-03T00:00:00",
          "2018-07-02T00:00:00",
          "2018-06-29T00:00:00",
          "2018-06-28T00:00:00",
          "2018-06-27T00:00:00",
          "2018-06-26T00:00:00",
          "2018-06-25T00:00:00",
          "2018-06-22T00:00:00",
          "2018-06-21T00:00:00",
          "2018-06-20T00:00:00",
          "2018-06-19T00:00:00",
          "2018-06-18T00:00:00",
          "2018-06-15T00:00:00",
          "2018-06-14T00:00:00",
          "2018-06-13T00:00:00",
          "2018-06-12T00:00:00",
          "2018-06-11T00:00:00",
          "2018-06-08T00:00:00",
          "2018-06-07T00:00:00",
          "2018-06-06T00:00:00",
          "2018-06-05T00:00:00",
          "2018-06-04T00:00:00",
          "2018-06-01T00:00:00",
          "2018-05-31T00:00:00",
          "2018-05-30T00:00:00",
          "2018-05-29T00:00:00",
          "2018-05-25T00:00:00",
          "2018-05-24T00:00:00",
          "2018-05-23T00:00:00",
          "2018-05-22T00:00:00",
          "2018-05-21T00:00:00",
          "2018-05-18T00:00:00",
          "2018-05-17T00:00:00",
          "2018-05-16T00:00:00",
          "2018-05-15T00:00:00",
          "2018-05-14T00:00:00",
          "2018-05-11T00:00:00",
          "2018-05-10T00:00:00",
          "2018-05-09T00:00:00",
          "2018-05-08T00:00:00",
          "2018-05-07T00:00:00",
          "2018-05-04T00:00:00",
          "2018-05-03T00:00:00",
          "2018-05-02T00:00:00",
          "2018-05-01T00:00:00",
          "2018-04-30T00:00:00",
          "2018-04-27T00:00:00",
          "2018-04-26T00:00:00",
          "2018-04-25T00:00:00",
          "2018-04-24T00:00:00",
          "2018-04-23T00:00:00",
          "2018-04-20T00:00:00",
          "2018-04-19T00:00:00",
          "2018-04-18T00:00:00",
          "2018-04-17T00:00:00",
          "2018-04-16T00:00:00",
          "2018-04-13T00:00:00",
          "2018-04-12T00:00:00",
          "2018-04-11T00:00:00",
          "2018-04-10T00:00:00",
          "2018-04-09T00:00:00",
          "2018-04-06T00:00:00",
          "2018-04-05T00:00:00",
          "2018-04-04T00:00:00",
          "2018-04-03T00:00:00",
          "2018-04-02T00:00:00",
          "2018-03-29T00:00:00",
          "2018-03-28T00:00:00",
          "2018-03-27T00:00:00",
          "2018-03-26T00:00:00",
          "2018-03-23T00:00:00",
          "2018-03-22T00:00:00",
          "2018-03-21T00:00:00",
          "2018-03-20T00:00:00",
          "2018-03-19T00:00:00",
          "2018-03-16T00:00:00",
          "2018-03-15T00:00:00",
          "2018-03-14T00:00:00",
          "2018-03-13T00:00:00",
          "2018-03-12T00:00:00",
          "2018-03-09T00:00:00",
          "2018-03-08T00:00:00",
          "2018-03-07T00:00:00",
          "2018-03-06T00:00:00",
          "2018-03-05T00:00:00",
          "2018-03-02T00:00:00",
          "2018-03-01T00:00:00",
          "2018-02-28T00:00:00",
          "2018-02-27T00:00:00",
          "2018-02-26T00:00:00",
          "2018-02-23T00:00:00",
          "2018-02-22T00:00:00",
          "2018-02-21T00:00:00",
          "2018-02-20T00:00:00",
          "2018-02-16T00:00:00",
          "2018-02-15T00:00:00",
          "2018-02-14T00:00:00",
          "2018-02-13T00:00:00",
          "2018-02-12T00:00:00",
          "2018-02-09T00:00:00",
          "2018-02-08T00:00:00",
          "2018-02-07T00:00:00",
          "2018-02-06T00:00:00",
          "2018-02-05T00:00:00",
          "2018-02-02T00:00:00",
          "2018-02-01T00:00:00",
          "2018-01-31T00:00:00",
          "2018-01-30T00:00:00",
          "2018-01-29T00:00:00",
          "2018-01-26T00:00:00",
          "2018-01-25T00:00:00",
          "2018-01-24T00:00:00",
          "2018-01-23T00:00:00",
          "2018-01-22T00:00:00",
          "2018-01-19T00:00:00",
          "2018-01-18T00:00:00",
          "2018-01-17T00:00:00",
          "2018-01-16T00:00:00",
          "2018-01-12T00:00:00",
          "2018-01-11T00:00:00",
          "2018-01-10T00:00:00",
          "2018-01-09T00:00:00",
          "2018-01-08T00:00:00",
          "2018-01-05T00:00:00",
          "2018-01-04T00:00:00",
          "2018-01-03T00:00:00",
          "2018-01-02T00:00:00",
          "2017-12-29T00:00:00",
          "2017-12-28T00:00:00",
          "2017-12-27T00:00:00",
          "2017-12-26T00:00:00",
          "2017-12-22T00:00:00",
          "2017-12-21T00:00:00",
          "2017-12-20T00:00:00",
          "2017-12-19T00:00:00",
          "2017-12-18T00:00:00",
          "2017-12-15T00:00:00",
          "2017-12-14T00:00:00",
          "2017-12-13T00:00:00",
          "2017-12-12T00:00:00",
          "2017-12-11T00:00:00",
          "2017-12-08T00:00:00",
          "2017-12-07T00:00:00",
          "2017-12-06T00:00:00",
          "2017-12-05T00:00:00",
          "2017-12-04T00:00:00",
          "2017-12-01T00:00:00",
          "2017-11-30T00:00:00",
          "2017-11-29T00:00:00",
          "2017-11-28T00:00:00",
          "2017-11-27T00:00:00",
          "2017-11-24T00:00:00",
          "2017-11-22T00:00:00",
          "2017-11-21T00:00:00",
          "2017-11-20T00:00:00",
          "2017-11-17T00:00:00",
          "2017-11-16T00:00:00",
          "2017-11-15T00:00:00",
          "2017-11-14T00:00:00",
          "2017-11-13T00:00:00",
          "2017-11-10T00:00:00",
          "2017-11-09T00:00:00",
          "2017-11-08T00:00:00",
          "2017-11-07T00:00:00",
          "2017-11-06T00:00:00",
          "2017-11-03T00:00:00",
          "2017-11-02T00:00:00",
          "2017-11-01T00:00:00",
          "2017-10-31T00:00:00",
          "2017-10-30T00:00:00",
          "2017-10-27T00:00:00",
          "2017-10-26T00:00:00",
          "2017-10-25T00:00:00",
          "2017-10-24T00:00:00",
          "2017-10-23T00:00:00",
          "2017-10-20T00:00:00",
          "2017-10-19T00:00:00",
          "2017-10-18T00:00:00",
          "2017-10-17T00:00:00",
          "2017-10-16T00:00:00",
          "2017-10-13T00:00:00",
          "2017-10-12T00:00:00",
          "2017-10-11T00:00:00",
          "2017-10-10T00:00:00",
          "2017-10-09T00:00:00",
          "2017-10-06T00:00:00",
          "2017-10-05T00:00:00",
          "2017-10-04T00:00:00",
          "2017-10-03T00:00:00",
          "2017-10-02T00:00:00",
          "2017-09-29T00:00:00",
          "2017-09-28T00:00:00",
          "2017-09-27T00:00:00",
          "2017-09-26T00:00:00",
          "2017-09-25T00:00:00",
          "2017-09-22T00:00:00",
          "2017-09-21T00:00:00",
          "2017-09-20T00:00:00",
          "2017-09-19T00:00:00",
          "2017-09-18T00:00:00",
          "2017-09-15T00:00:00",
          "2017-09-14T00:00:00",
          "2017-09-13T00:00:00",
          "2017-09-12T00:00:00",
          "2017-09-11T00:00:00",
          "2017-09-08T00:00:00",
          "2017-09-07T00:00:00",
          "2017-09-06T00:00:00",
          "2017-09-05T00:00:00",
          "2017-09-01T00:00:00",
          "2017-08-31T00:00:00",
          "2017-08-30T00:00:00",
          "2017-08-29T00:00:00",
          "2017-08-28T00:00:00",
          "2017-08-25T00:00:00",
          "2017-08-24T00:00:00",
          "2017-08-23T00:00:00",
          "2017-08-22T00:00:00",
          "2017-08-21T00:00:00",
          "2017-08-18T00:00:00",
          "2017-08-17T00:00:00",
          "2017-08-16T00:00:00",
          "2017-08-15T00:00:00",
          "2017-08-14T00:00:00",
          "2017-08-11T00:00:00",
          "2017-08-10T00:00:00",
          "2017-08-09T00:00:00",
          "2017-08-08T00:00:00",
          "2017-08-07T00:00:00",
          "2017-08-04T00:00:00",
          "2017-08-03T00:00:00",
          "2017-08-02T00:00:00",
          "2017-08-01T00:00:00",
          "2017-07-31T00:00:00",
          "2017-07-28T00:00:00",
          "2017-07-27T00:00:00",
          "2017-07-26T00:00:00",
          "2017-07-25T00:00:00",
          "2017-07-24T00:00:00",
          "2017-07-21T00:00:00",
          "2017-07-20T00:00:00",
          "2017-07-19T00:00:00",
          "2017-07-18T00:00:00",
          "2017-07-17T00:00:00",
          "2017-07-14T00:00:00",
          "2017-07-13T00:00:00",
          "2017-07-12T00:00:00",
          "2017-07-11T00:00:00",
          "2017-07-10T00:00:00",
          "2017-07-07T00:00:00",
          "2017-07-06T00:00:00",
          "2017-07-05T00:00:00",
          "2017-07-03T00:00:00",
          "2017-06-30T00:00:00",
          "2017-06-29T00:00:00",
          "2017-06-28T00:00:00",
          "2017-06-27T00:00:00",
          "2017-06-26T00:00:00",
          "2017-06-23T00:00:00",
          "2017-06-22T00:00:00",
          "2017-06-21T00:00:00",
          "2017-06-20T00:00:00",
          "2017-06-19T00:00:00",
          "2017-06-16T00:00:00",
          "2017-06-15T00:00:00",
          "2017-06-14T00:00:00",
          "2017-06-13T00:00:00",
          "2017-06-12T00:00:00",
          "2017-06-09T00:00:00",
          "2017-06-08T00:00:00",
          "2017-06-07T00:00:00",
          "2017-06-06T00:00:00",
          "2017-06-05T00:00:00",
          "2017-06-02T00:00:00",
          "2017-06-01T00:00:00",
          "2017-05-31T00:00:00",
          "2017-05-30T00:00:00",
          "2017-05-26T00:00:00",
          "2017-05-25T00:00:00",
          "2017-05-24T00:00:00",
          "2017-05-23T00:00:00",
          "2017-05-22T00:00:00",
          "2017-05-19T00:00:00",
          "2017-05-18T00:00:00",
          "2017-05-17T00:00:00",
          "2017-05-16T00:00:00",
          "2017-05-15T00:00:00",
          "2017-05-12T00:00:00",
          "2017-05-11T00:00:00",
          "2017-05-10T00:00:00",
          "2017-05-09T00:00:00",
          "2017-05-08T00:00:00",
          "2017-05-05T00:00:00",
          "2017-05-04T00:00:00",
          "2017-05-03T00:00:00",
          "2017-05-02T00:00:00",
          "2017-05-01T00:00:00",
          "2017-04-28T00:00:00",
          "2017-04-27T00:00:00",
          "2017-04-26T00:00:00",
          "2017-04-25T00:00:00",
          "2017-04-24T00:00:00",
          "2017-04-21T00:00:00",
          "2017-04-20T00:00:00",
          "2017-04-19T00:00:00",
          "2017-04-18T00:00:00",
          "2017-04-17T00:00:00",
          "2017-04-13T00:00:00",
          "2017-04-12T00:00:00",
          "2017-04-11T00:00:00",
          "2017-04-10T00:00:00",
          "2017-04-07T00:00:00",
          "2017-04-06T00:00:00",
          "2017-04-05T00:00:00",
          "2017-04-04T00:00:00",
          "2017-04-03T00:00:00",
          "2017-03-31T00:00:00",
          "2017-03-30T00:00:00",
          "2017-03-29T00:00:00",
          "2017-03-28T00:00:00",
          "2017-03-27T00:00:00",
          "2017-03-24T00:00:00",
          "2017-03-23T00:00:00",
          "2017-03-22T00:00:00",
          "2017-03-21T00:00:00",
          "2017-03-20T00:00:00",
          "2017-03-17T00:00:00",
          "2017-03-16T00:00:00",
          "2017-03-15T00:00:00",
          "2017-03-14T00:00:00",
          "2017-03-13T00:00:00",
          "2017-03-10T00:00:00",
          "2017-03-09T00:00:00",
          "2017-03-08T00:00:00",
          "2017-03-07T00:00:00",
          "2017-03-06T00:00:00",
          "2017-03-03T00:00:00",
          "2017-03-02T00:00:00",
          "2017-03-01T00:00:00",
          "2017-02-28T00:00:00",
          "2017-02-27T00:00:00",
          "2017-02-24T00:00:00",
          "2017-02-23T00:00:00",
          "2017-02-22T00:00:00",
          "2017-02-21T00:00:00",
          "2017-02-17T00:00:00",
          "2017-02-16T00:00:00",
          "2017-02-15T00:00:00",
          "2017-02-14T00:00:00",
          "2017-02-13T00:00:00",
          "2017-02-10T00:00:00",
          "2017-02-09T00:00:00",
          "2017-02-08T00:00:00",
          "2017-02-07T00:00:00",
          "2017-02-06T00:00:00",
          "2017-02-03T00:00:00",
          "2017-02-02T00:00:00",
          "2017-02-01T00:00:00",
          "2017-01-31T00:00:00",
          "2017-01-30T00:00:00",
          "2017-01-27T00:00:00",
          "2017-01-26T00:00:00",
          "2017-01-25T00:00:00",
          "2017-01-24T00:00:00",
          "2017-01-23T00:00:00",
          "2017-01-20T00:00:00",
          "2017-01-19T00:00:00",
          "2017-01-18T00:00:00",
          "2017-01-17T00:00:00",
          "2017-01-13T00:00:00",
          "2017-01-12T00:00:00",
          "2017-01-11T00:00:00",
          "2017-01-10T00:00:00",
          "2017-01-09T00:00:00",
          "2017-01-06T00:00:00",
          "2017-01-05T00:00:00",
          "2017-01-04T00:00:00",
          "2017-01-03T00:00:00",
          "2016-12-30T00:00:00",
          "2016-12-29T00:00:00",
          "2016-12-28T00:00:00",
          "2016-12-27T00:00:00",
          "2016-12-23T00:00:00",
          "2016-12-22T00:00:00",
          "2016-12-21T00:00:00",
          "2016-12-20T00:00:00",
          "2016-12-19T00:00:00",
          "2016-12-16T00:00:00",
          "2016-12-15T00:00:00",
          "2016-12-14T00:00:00",
          "2016-12-13T00:00:00",
          "2016-12-12T00:00:00",
          "2016-12-09T00:00:00",
          "2016-12-08T00:00:00",
          "2016-12-07T00:00:00",
          "2016-12-06T00:00:00",
          "2016-12-05T00:00:00",
          "2016-12-02T00:00:00",
          "2016-12-01T00:00:00",
          "2016-11-30T00:00:00",
          "2016-11-29T00:00:00",
          "2016-11-28T00:00:00",
          "2016-11-25T00:00:00",
          "2016-11-23T00:00:00",
          "2016-11-22T00:00:00",
          "2016-11-21T00:00:00",
          "2016-11-18T00:00:00",
          "2016-11-17T00:00:00",
          "2016-11-16T00:00:00",
          "2016-11-15T00:00:00",
          "2016-11-14T00:00:00",
          "2016-11-11T00:00:00",
          "2016-11-10T00:00:00",
          "2016-11-09T00:00:00",
          "2016-11-08T00:00:00",
          "2016-11-07T00:00:00",
          "2016-11-04T00:00:00",
          "2016-11-03T00:00:00",
          "2016-11-02T00:00:00",
          "2016-11-01T00:00:00",
          "2016-10-31T00:00:00",
          "2016-10-28T00:00:00",
          "2016-10-27T00:00:00",
          "2016-10-26T00:00:00",
          "2016-10-25T00:00:00",
          "2016-10-24T00:00:00",
          "2016-10-21T00:00:00",
          "2016-10-20T00:00:00",
          "2016-10-19T00:00:00",
          "2016-10-18T00:00:00",
          "2016-10-17T00:00:00",
          "2016-10-14T00:00:00",
          "2016-10-13T00:00:00",
          "2016-10-12T00:00:00",
          "2016-10-11T00:00:00",
          "2016-10-10T00:00:00",
          "2016-10-07T00:00:00",
          "2016-10-06T00:00:00",
          "2016-10-05T00:00:00",
          "2016-10-04T00:00:00",
          "2016-10-03T00:00:00",
          "2016-09-30T00:00:00",
          "2016-09-29T00:00:00",
          "2016-09-28T00:00:00",
          "2016-09-27T00:00:00",
          "2016-09-26T00:00:00",
          "2016-09-23T00:00:00",
          "2016-09-22T00:00:00",
          "2016-09-21T00:00:00",
          "2016-09-20T00:00:00",
          "2016-09-19T00:00:00",
          "2016-09-16T00:00:00",
          "2016-09-15T00:00:00",
          "2016-09-14T00:00:00",
          "2016-09-13T00:00:00",
          "2016-09-12T00:00:00",
          "2016-09-09T00:00:00",
          "2016-09-08T00:00:00",
          "2016-09-07T00:00:00",
          "2016-09-06T00:00:00",
          "2016-09-02T00:00:00",
          "2016-09-01T00:00:00",
          "2016-08-31T00:00:00",
          "2016-08-30T00:00:00",
          "2016-08-29T00:00:00",
          "2016-08-26T00:00:00",
          "2016-08-25T00:00:00",
          "2016-08-24T00:00:00",
          "2016-08-23T00:00:00",
          "2016-08-22T00:00:00",
          "2016-08-19T00:00:00",
          "2016-08-18T00:00:00",
          "2016-08-17T00:00:00",
          "2016-08-16T00:00:00",
          "2016-08-15T00:00:00",
          "2016-08-12T00:00:00",
          "2016-08-11T00:00:00",
          "2016-08-10T00:00:00",
          "2016-08-09T00:00:00",
          "2016-08-08T00:00:00",
          "2016-08-05T00:00:00",
          "2016-08-04T00:00:00",
          "2016-08-03T00:00:00",
          "2016-08-02T00:00:00",
          "2016-08-01T00:00:00",
          "2016-07-29T00:00:00",
          "2016-07-28T00:00:00",
          "2016-07-27T00:00:00",
          "2016-07-26T00:00:00",
          "2016-07-25T00:00:00",
          "2016-07-22T00:00:00",
          "2016-07-21T00:00:00",
          "2016-07-20T00:00:00",
          "2016-07-19T00:00:00",
          "2016-07-18T00:00:00",
          "2016-07-15T00:00:00",
          "2016-07-14T00:00:00",
          "2016-07-13T00:00:00",
          "2016-07-12T00:00:00",
          "2016-07-11T00:00:00",
          "2016-07-08T00:00:00",
          "2016-07-07T00:00:00",
          "2016-07-06T00:00:00",
          "2016-07-05T00:00:00",
          "2016-07-01T00:00:00",
          "2016-06-30T00:00:00",
          "2016-06-29T00:00:00",
          "2016-06-28T00:00:00",
          "2016-06-27T00:00:00",
          "2016-06-24T00:00:00",
          "2016-06-23T00:00:00",
          "2016-06-22T00:00:00",
          "2016-06-21T00:00:00",
          "2016-06-20T00:00:00",
          "2016-06-17T00:00:00",
          "2016-06-16T00:00:00",
          "2016-06-15T00:00:00",
          "2016-06-14T00:00:00",
          "2016-06-13T00:00:00",
          "2016-06-10T00:00:00",
          "2016-06-09T00:00:00",
          "2016-06-08T00:00:00",
          "2016-06-07T00:00:00",
          "2016-06-06T00:00:00",
          "2016-06-03T00:00:00",
          "2016-06-02T00:00:00",
          "2016-06-01T00:00:00",
          "2016-05-31T00:00:00",
          "2016-05-27T00:00:00",
          "2016-05-26T00:00:00",
          "2016-05-25T00:00:00",
          "2016-05-24T00:00:00",
          "2016-05-23T00:00:00",
          "2016-05-20T00:00:00",
          "2016-05-19T00:00:00",
          "2016-05-18T00:00:00",
          "2016-05-17T00:00:00",
          "2016-05-16T00:00:00",
          "2016-05-13T00:00:00",
          "2016-05-12T00:00:00",
          "2016-05-11T00:00:00",
          "2016-05-10T00:00:00",
          "2016-05-09T00:00:00",
          "2016-05-06T00:00:00",
          "2016-05-05T00:00:00",
          "2016-05-04T00:00:00",
          "2016-05-03T00:00:00",
          "2016-05-02T00:00:00",
          "2016-04-29T00:00:00",
          "2016-04-28T00:00:00",
          "2016-04-27T00:00:00",
          "2016-04-26T00:00:00",
          "2016-04-25T00:00:00",
          "2016-04-22T00:00:00",
          "2016-04-21T00:00:00",
          "2016-04-20T00:00:00",
          "2016-04-19T00:00:00",
          "2016-04-18T00:00:00",
          "2016-04-15T00:00:00",
          "2016-04-14T00:00:00",
          "2016-04-13T00:00:00",
          "2016-04-12T00:00:00",
          "2016-04-11T00:00:00",
          "2016-04-08T00:00:00",
          "2016-04-07T00:00:00",
          "2016-04-06T00:00:00",
          "2016-04-05T00:00:00",
          "2016-04-04T00:00:00",
          "2016-04-01T00:00:00",
          "2016-03-31T00:00:00",
          "2016-03-30T00:00:00",
          "2016-03-29T00:00:00",
          "2016-03-28T00:00:00",
          "2016-03-24T00:00:00",
          "2016-03-23T00:00:00",
          "2016-03-22T00:00:00",
          "2016-03-21T00:00:00",
          "2016-03-18T00:00:00",
          "2016-03-17T00:00:00",
          "2016-03-16T00:00:00",
          "2016-03-15T00:00:00",
          "2016-03-14T00:00:00",
          "2016-03-11T00:00:00",
          "2016-03-10T00:00:00",
          "2016-03-09T00:00:00",
          "2016-03-08T00:00:00",
          "2016-03-07T00:00:00",
          "2016-03-04T00:00:00",
          "2016-03-03T00:00:00",
          "2016-03-02T00:00:00",
          "2016-03-01T00:00:00",
          "2016-02-29T00:00:00",
          "2016-02-26T00:00:00",
          "2016-02-25T00:00:00",
          "2016-02-24T00:00:00",
          "2016-02-23T00:00:00",
          "2016-02-22T00:00:00",
          "2016-02-19T00:00:00",
          "2016-02-18T00:00:00",
          "2016-02-17T00:00:00",
          "2016-02-16T00:00:00",
          "2016-02-12T00:00:00",
          "2016-02-11T00:00:00",
          "2016-02-10T00:00:00",
          "2016-02-09T00:00:00",
          "2016-02-08T00:00:00",
          "2016-02-05T00:00:00",
          "2016-02-04T00:00:00",
          "2016-02-03T00:00:00",
          "2016-02-02T00:00:00",
          "2016-02-01T00:00:00",
          "2016-01-29T00:00:00",
          "2016-01-28T00:00:00",
          "2016-01-27T00:00:00",
          "2016-01-26T00:00:00",
          "2016-01-25T00:00:00",
          "2016-01-22T00:00:00",
          "2016-01-21T00:00:00",
          "2016-01-20T00:00:00",
          "2016-01-19T00:00:00",
          "2016-01-15T00:00:00",
          "2016-01-14T00:00:00",
          "2016-01-13T00:00:00",
          "2016-01-12T00:00:00",
          "2016-01-11T00:00:00",
          "2016-01-08T00:00:00",
          "2016-01-07T00:00:00",
          "2016-01-06T00:00:00",
          "2016-01-05T00:00:00",
          "2016-01-04T00:00:00",
          "2015-12-31T00:00:00",
          "2015-12-30T00:00:00",
          "2015-12-29T00:00:00",
          "2015-12-28T00:00:00",
          "2015-12-24T00:00:00",
          "2015-12-23T00:00:00",
          "2015-12-22T00:00:00",
          "2015-12-21T00:00:00",
          "2015-12-18T00:00:00",
          "2015-12-17T00:00:00",
          "2015-12-16T00:00:00",
          "2015-12-15T00:00:00",
          "2015-12-14T00:00:00",
          "2015-12-11T00:00:00",
          "2015-12-10T00:00:00",
          "2015-12-09T00:00:00",
          "2015-12-08T00:00:00",
          "2015-12-07T00:00:00",
          "2015-12-04T00:00:00",
          "2015-12-03T00:00:00",
          "2015-12-02T00:00:00",
          "2015-12-01T00:00:00",
          "2015-11-30T00:00:00",
          "2015-11-27T00:00:00",
          "2015-11-25T00:00:00",
          "2015-11-24T00:00:00",
          "2015-11-23T00:00:00",
          "2015-11-20T00:00:00",
          "2015-11-19T00:00:00",
          "2015-11-18T00:00:00",
          "2015-11-17T00:00:00",
          "2015-11-16T00:00:00",
          "2015-11-13T00:00:00",
          "2015-11-12T00:00:00",
          "2015-11-11T00:00:00",
          "2015-11-10T00:00:00",
          "2015-11-09T00:00:00",
          "2015-11-06T00:00:00",
          "2015-11-05T00:00:00",
          "2015-11-04T00:00:00",
          "2015-11-03T00:00:00",
          "2015-11-02T00:00:00",
          "2015-10-30T00:00:00",
          "2015-10-29T00:00:00",
          "2015-10-28T00:00:00",
          "2015-10-27T00:00:00",
          "2015-10-26T00:00:00",
          "2015-10-23T00:00:00",
          "2015-10-22T00:00:00",
          "2015-10-21T00:00:00",
          "2015-10-20T00:00:00",
          "2015-10-19T00:00:00"
         ]
        }
       ],
       "layout": {
        "template": {
         "data": {
          "bar": [
           {
            "error_x": {
             "color": "#2a3f5f"
            },
            "error_y": {
             "color": "#2a3f5f"
            },
            "marker": {
             "line": {
              "color": "#E5ECF6",
              "width": 0.5
             },
             "pattern": {
              "fillmode": "overlay",
              "size": 10,
              "solidity": 0.2
             }
            },
            "type": "bar"
           }
          ],
          "barpolar": [
           {
            "marker": {
             "line": {
              "color": "#E5ECF6",
              "width": 0.5
             },
             "pattern": {
              "fillmode": "overlay",
              "size": 10,
              "solidity": 0.2
             }
            },
            "type": "barpolar"
           }
          ],
          "carpet": [
           {
            "aaxis": {
             "endlinecolor": "#2a3f5f",
             "gridcolor": "white",
             "linecolor": "white",
             "minorgridcolor": "white",
             "startlinecolor": "#2a3f5f"
            },
            "baxis": {
             "endlinecolor": "#2a3f5f",
             "gridcolor": "white",
             "linecolor": "white",
             "minorgridcolor": "white",
             "startlinecolor": "#2a3f5f"
            },
            "type": "carpet"
           }
          ],
          "choropleth": [
           {
            "colorbar": {
             "outlinewidth": 0,
             "ticks": ""
            },
            "type": "choropleth"
           }
          ],
          "contour": [
           {
            "colorbar": {
             "outlinewidth": 0,
             "ticks": ""
            },
            "colorscale": [
             [
              0,
              "#0d0887"
             ],
             [
              0.1111111111111111,
              "#46039f"
             ],
             [
              0.2222222222222222,
              "#7201a8"
             ],
             [
              0.3333333333333333,
              "#9c179e"
             ],
             [
              0.4444444444444444,
              "#bd3786"
             ],
             [
              0.5555555555555556,
              "#d8576b"
             ],
             [
              0.6666666666666666,
              "#ed7953"
             ],
             [
              0.7777777777777778,
              "#fb9f3a"
             ],
             [
              0.8888888888888888,
              "#fdca26"
             ],
             [
              1,
              "#f0f921"
             ]
            ],
            "type": "contour"
           }
          ],
          "contourcarpet": [
           {
            "colorbar": {
             "outlinewidth": 0,
             "ticks": ""
            },
            "type": "contourcarpet"
           }
          ],
          "heatmap": [
           {
            "colorbar": {
             "outlinewidth": 0,
             "ticks": ""
            },
            "colorscale": [
             [
              0,
              "#0d0887"
             ],
             [
              0.1111111111111111,
              "#46039f"
             ],
             [
              0.2222222222222222,
              "#7201a8"
             ],
             [
              0.3333333333333333,
              "#9c179e"
             ],
             [
              0.4444444444444444,
              "#bd3786"
             ],
             [
              0.5555555555555556,
              "#d8576b"
             ],
             [
              0.6666666666666666,
              "#ed7953"
             ],
             [
              0.7777777777777778,
              "#fb9f3a"
             ],
             [
              0.8888888888888888,
              "#fdca26"
             ],
             [
              1,
              "#f0f921"
             ]
            ],
            "type": "heatmap"
           }
          ],
          "heatmapgl": [
           {
            "colorbar": {
             "outlinewidth": 0,
             "ticks": ""
            },
            "colorscale": [
             [
              0,
              "#0d0887"
             ],
             [
              0.1111111111111111,
              "#46039f"
             ],
             [
              0.2222222222222222,
              "#7201a8"
             ],
             [
              0.3333333333333333,
              "#9c179e"
             ],
             [
              0.4444444444444444,
              "#bd3786"
             ],
             [
              0.5555555555555556,
              "#d8576b"
             ],
             [
              0.6666666666666666,
              "#ed7953"
             ],
             [
              0.7777777777777778,
              "#fb9f3a"
             ],
             [
              0.8888888888888888,
              "#fdca26"
             ],
             [
              1,
              "#f0f921"
             ]
            ],
            "type": "heatmapgl"
           }
          ],
          "histogram": [
           {
            "marker": {
             "pattern": {
              "fillmode": "overlay",
              "size": 10,
              "solidity": 0.2
             }
            },
            "type": "histogram"
           }
          ],
          "histogram2d": [
           {
            "colorbar": {
             "outlinewidth": 0,
             "ticks": ""
            },
            "colorscale": [
             [
              0,
              "#0d0887"
             ],
             [
              0.1111111111111111,
              "#46039f"
             ],
             [
              0.2222222222222222,
              "#7201a8"
             ],
             [
              0.3333333333333333,
              "#9c179e"
             ],
             [
              0.4444444444444444,
              "#bd3786"
             ],
             [
              0.5555555555555556,
              "#d8576b"
             ],
             [
              0.6666666666666666,
              "#ed7953"
             ],
             [
              0.7777777777777778,
              "#fb9f3a"
             ],
             [
              0.8888888888888888,
              "#fdca26"
             ],
             [
              1,
              "#f0f921"
             ]
            ],
            "type": "histogram2d"
           }
          ],
          "histogram2dcontour": [
           {
            "colorbar": {
             "outlinewidth": 0,
             "ticks": ""
            },
            "colorscale": [
             [
              0,
              "#0d0887"
             ],
             [
              0.1111111111111111,
              "#46039f"
             ],
             [
              0.2222222222222222,
              "#7201a8"
             ],
             [
              0.3333333333333333,
              "#9c179e"
             ],
             [
              0.4444444444444444,
              "#bd3786"
             ],
             [
              0.5555555555555556,
              "#d8576b"
             ],
             [
              0.6666666666666666,
              "#ed7953"
             ],
             [
              0.7777777777777778,
              "#fb9f3a"
             ],
             [
              0.8888888888888888,
              "#fdca26"
             ],
             [
              1,
              "#f0f921"
             ]
            ],
            "type": "histogram2dcontour"
           }
          ],
          "mesh3d": [
           {
            "colorbar": {
             "outlinewidth": 0,
             "ticks": ""
            },
            "type": "mesh3d"
           }
          ],
          "parcoords": [
           {
            "line": {
             "colorbar": {
              "outlinewidth": 0,
              "ticks": ""
             }
            },
            "type": "parcoords"
           }
          ],
          "pie": [
           {
            "automargin": true,
            "type": "pie"
           }
          ],
          "scatter": [
           {
            "marker": {
             "colorbar": {
              "outlinewidth": 0,
              "ticks": ""
             }
            },
            "type": "scatter"
           }
          ],
          "scatter3d": [
           {
            "line": {
             "colorbar": {
              "outlinewidth": 0,
              "ticks": ""
             }
            },
            "marker": {
             "colorbar": {
              "outlinewidth": 0,
              "ticks": ""
             }
            },
            "type": "scatter3d"
           }
          ],
          "scattercarpet": [
           {
            "marker": {
             "colorbar": {
              "outlinewidth": 0,
              "ticks": ""
             }
            },
            "type": "scattercarpet"
           }
          ],
          "scattergeo": [
           {
            "marker": {
             "colorbar": {
              "outlinewidth": 0,
              "ticks": ""
             }
            },
            "type": "scattergeo"
           }
          ],
          "scattergl": [
           {
            "marker": {
             "colorbar": {
              "outlinewidth": 0,
              "ticks": ""
             }
            },
            "type": "scattergl"
           }
          ],
          "scattermapbox": [
           {
            "marker": {
             "colorbar": {
              "outlinewidth": 0,
              "ticks": ""
             }
            },
            "type": "scattermapbox"
           }
          ],
          "scatterpolar": [
           {
            "marker": {
             "colorbar": {
              "outlinewidth": 0,
              "ticks": ""
             }
            },
            "type": "scatterpolar"
           }
          ],
          "scatterpolargl": [
           {
            "marker": {
             "colorbar": {
              "outlinewidth": 0,
              "ticks": ""
             }
            },
            "type": "scatterpolargl"
           }
          ],
          "scatterternary": [
           {
            "marker": {
             "colorbar": {
              "outlinewidth": 0,
              "ticks": ""
             }
            },
            "type": "scatterternary"
           }
          ],
          "surface": [
           {
            "colorbar": {
             "outlinewidth": 0,
             "ticks": ""
            },
            "colorscale": [
             [
              0,
              "#0d0887"
             ],
             [
              0.1111111111111111,
              "#46039f"
             ],
             [
              0.2222222222222222,
              "#7201a8"
             ],
             [
              0.3333333333333333,
              "#9c179e"
             ],
             [
              0.4444444444444444,
              "#bd3786"
             ],
             [
              0.5555555555555556,
              "#d8576b"
             ],
             [
              0.6666666666666666,
              "#ed7953"
             ],
             [
              0.7777777777777778,
              "#fb9f3a"
             ],
             [
              0.8888888888888888,
              "#fdca26"
             ],
             [
              1,
              "#f0f921"
             ]
            ],
            "type": "surface"
           }
          ],
          "table": [
           {
            "cells": {
             "fill": {
              "color": "#EBF0F8"
             },
             "line": {
              "color": "white"
             }
            },
            "header": {
             "fill": {
              "color": "#C8D4E3"
             },
             "line": {
              "color": "white"
             }
            },
            "type": "table"
           }
          ]
         },
         "layout": {
          "annotationdefaults": {
           "arrowcolor": "#2a3f5f",
           "arrowhead": 0,
           "arrowwidth": 1
          },
          "autotypenumbers": "strict",
          "coloraxis": {
           "colorbar": {
            "outlinewidth": 0,
            "ticks": ""
           }
          },
          "colorscale": {
           "diverging": [
            [
             0,
             "#8e0152"
            ],
            [
             0.1,
             "#c51b7d"
            ],
            [
             0.2,
             "#de77ae"
            ],
            [
             0.3,
             "#f1b6da"
            ],
            [
             0.4,
             "#fde0ef"
            ],
            [
             0.5,
             "#f7f7f7"
            ],
            [
             0.6,
             "#e6f5d0"
            ],
            [
             0.7,
             "#b8e186"
            ],
            [
             0.8,
             "#7fbc41"
            ],
            [
             0.9,
             "#4d9221"
            ],
            [
             1,
             "#276419"
            ]
           ],
           "sequential": [
            [
             0,
             "#0d0887"
            ],
            [
             0.1111111111111111,
             "#46039f"
            ],
            [
             0.2222222222222222,
             "#7201a8"
            ],
            [
             0.3333333333333333,
             "#9c179e"
            ],
            [
             0.4444444444444444,
             "#bd3786"
            ],
            [
             0.5555555555555556,
             "#d8576b"
            ],
            [
             0.6666666666666666,
             "#ed7953"
            ],
            [
             0.7777777777777778,
             "#fb9f3a"
            ],
            [
             0.8888888888888888,
             "#fdca26"
            ],
            [
             1,
             "#f0f921"
            ]
           ],
           "sequentialminus": [
            [
             0,
             "#0d0887"
            ],
            [
             0.1111111111111111,
             "#46039f"
            ],
            [
             0.2222222222222222,
             "#7201a8"
            ],
            [
             0.3333333333333333,
             "#9c179e"
            ],
            [
             0.4444444444444444,
             "#bd3786"
            ],
            [
             0.5555555555555556,
             "#d8576b"
            ],
            [
             0.6666666666666666,
             "#ed7953"
            ],
            [
             0.7777777777777778,
             "#fb9f3a"
            ],
            [
             0.8888888888888888,
             "#fdca26"
            ],
            [
             1,
             "#f0f921"
            ]
           ]
          },
          "colorway": [
           "#636efa",
           "#EF553B",
           "#00cc96",
           "#ab63fa",
           "#FFA15A",
           "#19d3f3",
           "#FF6692",
           "#B6E880",
           "#FF97FF",
           "#FECB52"
          ],
          "font": {
           "color": "#2a3f5f"
          },
          "geo": {
           "bgcolor": "white",
           "lakecolor": "white",
           "landcolor": "#E5ECF6",
           "showlakes": true,
           "showland": true,
           "subunitcolor": "white"
          },
          "hoverlabel": {
           "align": "left"
          },
          "hovermode": "closest",
          "mapbox": {
           "style": "light"
          },
          "paper_bgcolor": "white",
          "plot_bgcolor": "#E5ECF6",
          "polar": {
           "angularaxis": {
            "gridcolor": "white",
            "linecolor": "white",
            "ticks": ""
           },
           "bgcolor": "#E5ECF6",
           "radialaxis": {
            "gridcolor": "white",
            "linecolor": "white",
            "ticks": ""
           }
          },
          "scene": {
           "xaxis": {
            "backgroundcolor": "#E5ECF6",
            "gridcolor": "white",
            "gridwidth": 2,
            "linecolor": "white",
            "showbackground": true,
            "ticks": "",
            "zerolinecolor": "white"
           },
           "yaxis": {
            "backgroundcolor": "#E5ECF6",
            "gridcolor": "white",
            "gridwidth": 2,
            "linecolor": "white",
            "showbackground": true,
            "ticks": "",
            "zerolinecolor": "white"
           },
           "zaxis": {
            "backgroundcolor": "#E5ECF6",
            "gridcolor": "white",
            "gridwidth": 2,
            "linecolor": "white",
            "showbackground": true,
            "ticks": "",
            "zerolinecolor": "white"
           }
          },
          "shapedefaults": {
           "line": {
            "color": "#2a3f5f"
           }
          },
          "ternary": {
           "aaxis": {
            "gridcolor": "white",
            "linecolor": "white",
            "ticks": ""
           },
           "baxis": {
            "gridcolor": "white",
            "linecolor": "white",
            "ticks": ""
           },
           "bgcolor": "#E5ECF6",
           "caxis": {
            "gridcolor": "white",
            "linecolor": "white",
            "ticks": ""
           }
          },
          "title": {
           "x": 0.05
          },
          "xaxis": {
           "automargin": true,
           "gridcolor": "white",
           "linecolor": "white",
           "ticks": "",
           "title": {
            "standoff": 15
           },
           "zerolinecolor": "white",
           "zerolinewidth": 2
          },
          "yaxis": {
           "automargin": true,
           "gridcolor": "white",
           "linecolor": "white",
           "ticks": "",
           "title": {
            "standoff": 15
           },
           "zerolinecolor": "white",
           "zerolinewidth": 2
          }
         }
        }
       }
      },
      "text/html": [
       "<div>                            <div id=\"862a8224-6d0c-4d3c-802e-0b6430169c70\" class=\"plotly-graph-div\" style=\"height:525px; width:100%;\"></div>            <script type=\"text/javascript\">                require([\"plotly\"], function(Plotly) {                    window.PLOTLYENV=window.PLOTLYENV || {};                                    if (document.getElementById(\"862a8224-6d0c-4d3c-802e-0b6430169c70\")) {                    Plotly.newPlot(                        \"862a8224-6d0c-4d3c-802e-0b6430169c70\",                        [{\"close\":[221.19,222.15,217.36,222.11,214.45,216.36,226.87,223.77,224.29,227.99,232.07,229.28,227.26,225.74,224.95,220.42,222.19,220.79,217.66,220.03,218.37,218.24,217.88,223.84,226.41,221.07,223.85,218.33,221.3,223.1,226.87,228.36,227.63,225.03,222.98,219.7,217.94,216.16,215.49,215.05,215.04,215.46,217.58,213.32,210.24,209.75,208.87,207.53,208.88,207.25,207.11,209.07,207.99,207.39,201.5,190.29,189.91,190.98,194.21,194.82,193.0,191.61,191.44,191.88,190.4,191.45,190.91,191.33,191.03,187.88,190.35,190.58,187.97,185.4,183.92,187.18,185.11,185.5,184.16,184.43,182.17,184.92,185.46,186.5,185.69,188.74,188.84,190.8,190.7,192.28,191.23,191.7,193.46,193.98,193.31,191.83,190.24,186.87,187.5,187.9,188.58,188.15,188.36,187.16,187.63,186.31,186.99,188.18,186.44,188.15,188.59,190.04,187.36,186.05,185.16,183.83,176.89,176.57,169.1,165.26,162.32,164.22,163.65,162.94,165.24,165.72,172.8,177.84,178.24,175.82,174.73,174.14,172.44,173.25,170.05,168.38,172.8,171.61,168.39,166.68,167.78,166.48,168.34,172.77,164.94,168.85,171.27,175.24,175.3,178.02,178.65,178.44,179.97,181.72,179.98,176.94,175.03,176.67,176.82,176.21,175.0,178.12,178.39,178.97,175.5,172.5,171.07,171.85,172.43,172.99,167.37,164.34,162.71,156.41,155.15,159.54,163.03,156.49,160.5,167.78,167.43,166.97,167.96,171.51,171.11,174.22,177.04,177.0,178.46,179.26,179.1,176.19,177.09,175.28,174.29,174.33,174.35,175.0,173.03,172.23,172.26,169.23,171.08,170.6,170.57,175.01,175.01,174.35,174.54,176.42,173.97,172.22,172.27,171.7,172.67,169.37,169.32,169.01,169.64,169.8,171.05,171.85,169.48,173.07,174.09,174.97,174.96,173.14,169.98,170.15,171.1,169.08,171.34,173.97,174.67,175.88,176.24,174.81,174.25,172.5,168.11,166.89,169.04,166.72,163.05,157.41,156.41,157.1,156.17,156.25,155.98,159.76,160.47,159.88,156.99,156.0,156.55,155.9,155.84,155.3,155.39,153.48,154.48,153.81,154.12,153.28,154.23,153.14,150.55,151.89,153.39,156.07,158.73,158.67,159.88,158.28,159.65,160.86,161.5,158.63,161.26,161.91,162.08,164.05,164.0,163.35,162.91,161.47,159.86,159.27,159.98,159.78,157.21,157.5,157.86,160.95,161.6,159.85,157.48,155.32,161.06,160.08,158.81,156.39,155.57,157.14,150.05,148.73,149.5,150.56,153.46,152.74,152.09,150.27,150.34,151.02,150.08,149.56,149.04,147.77,145.74,145.53,145.06,144.18,142.73,144.09,143.5,144.02,143.68,145.83,143.73,145.82,146.28,145.63,145.87,145.01,146.34,142.27,144.29,145.16,146.59,145.42,148.98,154.99,155.37,154.45,153.93,155.45,153.18,152.76,153.67,153.61,153.87,153.34,153.8,153.99,153.06,152.54,150.25,155.47,155.7,156.1,153.95,153.26,153.99,153.01,148.96,146.53,147.06,147.51,146.58,143.65,143.79,143.68,144.53,143.64,142.27,142.44,140.68,141.2,141.83,141.05,141.8,141.63,143.17,143.34,143.66,144.02,144.77,143.7,143.66,143.93,144.12,143.8,140.88,140.64,140.92,141.42,139.84,141.46,139.99,140.69,140.46,138.99,139.2,139.14,138.68,139.0,139.52,139.34,139.78,138.96,139.79,136.99,136.93,136.66,136.53,137.11,136.7,135.72,135.345,135.51,135.02,133.29,132.12,132.42,132.04,131.53,130.29,129.08,128.53,128.75,121.35,121.63,121.95,121.94,121.88,119.97,120.08,120.0,119.78,119.99,120.0,119.04,119.25,119.75,119.11,118.99,117.91,116.61,116.02,116.15,115.82,116.73,116.76,117.26,116.52,116.29,117.06,116.95,116.64,115.97,115.82,115.19,115.19,113.3,113.95,112.12,111.03,109.95,109.11,109.9,109.49,110.52,111.46,111.57,111.79,111.23,111.8,111.73,110.06,109.95,109.99,107.11,105.71,108.43,107.79,110.88,111.06,110.41,108.84,109.83,111.59,111.49,113.54,113.72,114.48,115.59,118.25,117.65,116.6,117.06,117.12,117.47,117.55,117.63,116.98,117.34,116.3,116.05,114.06,113.89,113.05,113.0,112.52,113.05,112.18,113.95,113.09,112.88,112.71,114.62,113.55,113.57,113.58,114.92,115.57,111.77,107.95,105.44,103.13,105.52,108.36,107.7,107.73,106.73,106.1,106.0,106.82,106.94,107.57,108.03,108.85,108.51,109.36,109.08,109.22,109.38,109.48,108.18,107.93,108.0,108.81,108.37,107.48,105.87,105.79,104.48,106.05,104.21,104.34,102.95,96.67,97.34,98.66,99.43,99.96,99.87,99.83,98.78,98.79,96.87,97.42,96.98,96.68,95.94,95.53,94.99,95.89,95.6,94.4,93.59,92.04,93.4,96.1,95.55,95.91,95.1,95.33,97.55,97.14,97.46,97.34,98.83,99.65,98.94,99.03,98.63,97.92,97.72,98.46,99.86,100.35,100.41,99.62,97.9,96.43,95.22,94.2,94.56,93.49,93.88,90.52,90.34,92.51,93.42,92.79,92.72,93.24,94.19,95.18,93.64,93.74,94.83,97.82,104.35,105.08,105.68,105.97,107.13,106.91,107.48,109.85,112.1,112.04,110.44,109.02,108.66,108.54,110.96,109.81,111.12,109.99,108.99,109.56,107.68,105.19,105.67,106.13,106.72,105.91,105.92,105.8,105.97,104.58,102.52,102.26,101.17,101.12,101.03,101.87,103.01,101.5,100.75,100.53,96.69,96.91,96.76,96.1,94.69,96.88,96.04,96.26,98.12,96.64,93.99,93.7,94.27,94.99,95.01,94.02,96.6,96.35,94.48,96.43,97.34,94.09,93.42,99.99,99.44,101.42,96.3,96.79,96.66,97.13,99.52,97.39,99.96,98.53,96.96,96.45,100.7,102.71,105.35,105.26,107.32,108.74,106.82,108.03,108.61,107.23,107.33,106.03,108.98,111.34,110.49,112.48,113.18,116.17,115.62,118.23,118.28,119.03,115.2,116.28,117.34,118.3,117.81,118.03,118.88,117.75,119.3,118.78,117.29,113.69,114.175,112.34,115.72,116.11,116.77,120.57,121.06,120.92,122.0,122.57,121.18,119.5,120.53,119.27,114.55,115.28,119.08,115.5,113.76,113.77,111.73],\"high\":[222.64,222.99,221.83,222.88,219.5,226.35,227.27,224.8,228.41,232.35,233.47,230.0,229.42,225.84,226.44,223.75,222.82,221.26,221.36,222.28,219.62,221.85,222.95,226.84,228.35,225.0,224.299,221.85,225.37,227.35,229.67,229.18,228.87,228.26,223.49,220.54,218.74,216.9,217.05,216.36,217.19,219.18,217.95,213.8121,210.74,210.56,210.952,209.1,209.78,207.81,209.5,209.25,208.74,208.38,201.76,192.14,192.2,195.19,195.96,194.85,193.6601,191.96,192.43,192.55,191.8,191.87,192.65,191.84,191.41,189.7799,191.28,190.68,188.434,186.41,187.95,187.3,187.19,186.21,187.28,186.53,184.92,186.15,188.35,187.2,186.33,189.22,190.16,191.57,192.88,192.611,191.97,192.0,194.2,194.08,193.94,193.42,190.26,188.23,188.0,188.75,189.65,188.84,188.5,188.88,189.27,187.8102,188.91,188.46,187.07,189.53,190.06,190.37,187.4,186.22,187.67,184.25,177.5,177.75,169.2,167.26,164.33,165.73,165.42,166.33,166.92,171.2184,175.39,178.82,178.9365,176.19,175.84,175.0,173.9232,174.0,173.09,172.48,174.2304,172.01,168.7455,168.94,171.75,170.02,175.15,173.1,169.92,172.68,175.09,176.8,177.47,179.12,180.24,180.52,183.5,182.39,180.0,177.12,175.85,178.25,177.74,176.3,179.775,180.615,180.48,179.39,175.65,173.95,174.12,174.26,174.82,173.09,167.54,164.75,163.89,157.89,161.0,163.4,163.72,163.88,166.8,168.62,168.4417,167.37,170.16,172.0,174.95,177.3,179.44,177.78,179.58,180.1,179.25,179.39,177.36,175.4886,174.3,175.06,175.61,175.37,173.47,174.55,172.3,170.59,171.85,170.78,171.47,175.424,176.02,175.42,175.39,177.2,174.17,173.13,173.54,172.39,172.89,171.0,170.44,170.2047,171.52,172.62,171.67,172.14,172.92,174.87,175.08,175.5,175.0,173.7,170.56,171.39,171.87,170.3197,173.48,174.5,175.38,176.095,176.24,175.25,174.99,174.26,168.5,169.94,169.6499,168.07,163.6,157.8295,157.55,157.42,157.69,157.75,157.08,160.71,160.87,160.0,157.28,157.37,156.98,158.0,156.73,155.49,155.44,153.86,155.09,154.45,154.13,154.28,154.7189,153.92,151.83,152.27,155.8,158.26,159.77,160.5,160.97,159.4,159.96,163.96,162.05,161.15,162.24,162.99,164.25,164.94,164.52,163.89,163.12,162.0,160.56,160.74,160.47,160.0,157.89,159.5,160.71,162.51,162.195,160.21,158.5728,160.0,161.27,161.83,158.92,157.4,157.21,159.75,150.22,150.33,150.23,153.99,153.93,153.84,152.44,150.44,151.74,151.42,150.13,150.9,149.33,148.49,146.18,145.85,145.95,144.75,143.5,144.79,145.3001,144.96,145.13,146.11,146.16,148.28,147.16,146.7,146.0693,146.87,146.74,144.5,144.4798,147.5,147.45,146.09,155.19,155.54,155.98,155.81,154.45,155.45,153.33,154.17,154.43,154.24,154.35,154.17,154.9,154.58,153.98,153.34,154.57,156.06,156.65,156.42,154.07,153.94,154.88,153.7,148.98,147.14,147.49,148.09,147.2,144.3,144.16,144.6,144.9,143.95,142.68,142.92,142.0,142.04,141.88,142.38,142.15,143.35,143.8792,144.18,144.52,145.46,144.89,144.12,144.27,144.5,144.49,144.04,141.22,141.74,141.5844,141.6,142.8,141.5,141.0,141.02,140.7501,139.65,139.43,139.3571,138.79,139.8,139.98,139.77,139.83,140.2786,140.15,137.435,137.435,136.66,137.48,137.12,136.75,135.83,135.9,136.27,135.09,133.82,132.94,132.445,132.22,132.09,130.5,129.19,129.39,130.49,121.39,121.63,122.35,122.44,122.1,120.1,120.81,120.45,120.09,120.5,120.24,119.62,119.3,119.93,119.38,119.43,118.16,116.8642,116.51,116.33,117.2,117.1095,118.0166,117.8,116.52,116.51,117.4,117.5,117.38,116.5,116.73,116.2,115.92,115.0,114.7,112.43,111.19,110.36,110.03,110.09,110.94,112.2,112.03,112.465,111.87,111.51,112.42,111.99,110.54,110.35,110.23,107.68,107.809,108.87,111.09,111.32,111.72,110.51,110.25,111.46,112.35,113.77,114.23,115.21,115.86,115.7,118.36,117.74,116.91,117.38,117.76,118.21,117.84,118.17,117.44,117.98,118.69,116.75,114.56,114.34,113.66,114.31,113.05,113.37,113.8,114.64,113.18,113.39,114.79,114.94,113.989,114.12,116.18,116.13,115.73,113.03,108.79,105.72,105.72,107.27,108.76,108.3,108.0,106.8,106.5699,106.5,107.44,107.95,107.88,108.75,109.32,109.1,109.69,109.6,109.37,110.23,109.54,108.44,108.93,108.9,108.94,108.37,107.65,106.0,105.84,106.07,106.15,104.55,104.45,104.35,97.97,98.84,99.3,101.0,100.46,100.0,100.13,99.3,98.99,97.67,97.7,97.65,96.89,96.5,95.66,95.4,96.465,95.77,94.55,93.66,93.05,94.655,96.29,96.89,96.35,96.57,96.65,97.75,98.41,98.475,99.12,99.3457,99.99,99.56,99.87,101.89,98.27,97.84,99.54,100.4,100.47,100.73,99.74,98.09,97.19,95.43,94.64,95.21,94.7,94.39,91.67,92.78,93.57,93.57,93.77,93.45,94.07,95.9,95.74,94.08,94.72,97.88,98.71,105.3,105.65,106.48,106.93,108.09,108.0,108.95,112.3,112.39,112.34,110.5,110.61,109.77,110.42,110.98,110.73,112.19,110.0,109.9,110.42,107.79,106.19,106.25,107.07,107.29,107.65,106.5,106.47,106.31,105.18,102.91,102.28,102.24,101.58,101.76,102.83,103.75,101.7099,100.89,100.77,98.23,98.0237,96.76,96.38,96.5,96.9,96.7599,98.89,98.21,96.85,94.5,94.72,96.35,95.94,95.7,96.92,97.33,96.84,96.04,96.71,97.34,94.52,96.6289,100.88,101.53,101.46,97.88,98.1897,98.65,97.71,100.48,101.19,100.69,99.06,99.11,100.13,102.37,105.85,105.368,107.03,108.7,109.43,107.69,109.0,108.85,107.72,107.37,109.52,112.25,111.99,112.8,112.68,115.39,116.94,117.69,118.6,119.86,119.25,116.79,118.11,118.81,119.41,118.41,119.23,119.35,119.73,119.92,119.75,117.49,115.05,114.24,115.57,116.82,117.42,118.07,121.81,121.81,122.69,123.82,123.49,121.36,121.22,120.69,119.3,116.54,118.13,119.228,115.5,115.58,114.17,111.75],\"low\":[219.34,216.7627,217.27,216.84,212.32,216.05,222.2462,220.2,220.58,226.73,229.78,226.63,226.35,224.02,223.54,219.76,219.7,216.63,217.29,219.15,215.3,217.12,217.27,222.522,222.57,219.84,216.56,216.47,220.71,221.3,225.1,226.63,226.0,222.4,219.41,218.92,216.33,215.11,214.6,213.84,214.025,215.11,213.16,211.47,208.33,208.26,207.7,206.67,207.2,204.52,206.76,207.07,205.4803,200.35,197.31,189.34,189.07,190.1,193.61,192.43,192.05,189.56,190.17,189.69,189.93,189.2,190.415,190.9,189.31,187.61,190.1801,189.3,185.2,184.28,183.54,183.42,182.91,183.8,184.03,182.54,180.73,184.7,184.94,185.73,183.45,187.2,188.26,190.22,190.44,191.15,190.21,189.77,192.335,191.92,192.36,191.35,187.75,186.14,186.78,186.87,187.65,186.21,185.76,186.78,186.9106,186.13,186.36,186.0,185.1,187.86,187.45,187.65,185.22,183.665,184.75,178.17,174.4411,173.8,165.27,161.84,160.63,163.37,162.41,161.2201,164.09,165.43,172.66,176.88,176.41,174.8301,173.85,173.04,171.7,171.53,169.845,168.2,172.08,164.77,164.88,164.47,166.9,165.19,166.92,166.44,164.94,168.6,171.26,174.94,173.66,177.62,178.0701,177.81,179.24,180.21,177.39,175.07,174.27,176.13,174.52,172.45,172.66,178.05,178.16,176.21,173.54,171.71,171.01,171.42,171.77,169.0,162.88,161.65,157.51,150.24,155.03,159.0685,154.0,156.0,160.1,166.76,166.5,164.7,167.07,170.06,170.53,173.2,176.82,176.6016,177.41,178.25,175.07,176.14,175.65,174.49,173.0,173.41,173.93,173.05,172.08,171.96,169.26,169.22,170.48,169.71,169.679,174.5,174.1,173.25,174.09,174.86,172.46,171.65,172.0,171.461,168.79,168.82,168.91,166.46,168.4,169.63,168.5,168.44,167.16,171.86,173.34,174.6459,173.05,170.78,169.56,169.64,170.3,168.38,171.18,173.4,174.27,173.14,174.33,173.6,171.72,171.12,165.28,165.61,166.94,163.72,158.7,156.78,155.27,156.2,155.5,155.96,155.02,159.6,159.23,157.65,156.41,155.7299,155.75,155.1,155.485,154.56,154.05,152.46,153.91,152.72,152.0,152.7,153.54,151.69,149.16,150.56,152.75,153.83,158.44,157.995,158.0,158.09,157.91,158.77,159.89,158.53,160.36,160.52,160.56,163.63,163.48,162.61,160.0,159.93,159.27,158.55,158.88,158.02,155.1101,156.72,157.84,160.15,160.14,158.75,156.07,154.63,159.11,158.27,156.6701,155.69,155.02,156.16,148.41,148.13,149.19,147.3,153.06,151.8,149.9,148.88,150.19,149.95,148.67,148.57,147.33,145.44,144.82,144.38,143.37,142.9,142.41,142.7237,143.1,143.78,142.28,143.1601,143.62,145.38,145.11,145.1199,144.61,144.94,143.66,142.2,142.21,143.84,145.15,142.51,146.02,154.4,154.48,153.78,153.46,152.89,152.22,152.38,153.33,153.31,153.03,152.67,153.31,152.91,152.63,151.13,149.71,154.72,155.05,154.67,152.31,152.11,153.45,149.03,146.76,145.81,144.27,146.84,144.96,143.27,143.31,143.3762,143.87,143.18,141.85,141.16,140.45,141.11,140.87,141.05,141.01,140.06,142.9,143.27,143.45,143.81,143.17,143.05,143.01,143.5,143.19,140.62,138.62,140.35,140.61,139.76,139.73,140.23,139.89,140.26,139.025,138.84,138.82,138.64,137.05,138.82,138.79,138.5959,138.59,138.76,137.595,136.7,136.28,135.28,136.3,136.11,135.98,135.1,134.8398,134.62,133.25,132.75,132.05,131.12,131.22,130.45,128.9,128.16,127.78,127.01,120.62,120.66,121.6,121.6,120.28,119.5,119.77,119.7346,119.37,119.71,118.22,118.81,118.21,118.6,118.3,117.94,116.47,115.81,115.75,114.76,115.43,116.4,116.2,116.49,115.59,115.64,116.78,116.68,115.75,115.645,115.23,114.98,113.75,112.49,112.31,110.6,109.16,109.19,108.25,108.85,109.03,110.27,110.07,111.39,110.95,110.33,111.4,110.01,109.66,108.83,106.6,106.1593,104.08,106.55,105.83,108.05,109.7,109.46,108.11,109.55,111.23,110.53,113.2,113.45,114.1,113.31,117.31,117.0,116.28,116.33,113.8,117.45,116.78,117.13,115.72,116.75,116.2,114.72,113.51,113.13,112.69,112.63,112.28,111.8,111.8,113.43,112.34,111.55,111.55,114.0,112.441,112.51,113.25,114.04,113.49,108.6,107.24,102.53,103.13,105.24,107.07,107.51,106.82,105.62,105.64,105.5,106.29,106.31,106.68,107.68,108.53,107.85,108.36,109.02,108.34,109.21,108.08,107.78,107.85,107.76,108.01,107.16,106.18,105.28,104.77,104.0,104.41,103.68,102.82,102.75,96.42,96.92,98.31,99.13,99.735,99.34,98.6,98.5,97.32,96.84,97.12,96.73,96.05,95.62,94.37,94.46,95.33,94.3,93.63,92.14,91.5,92.65,95.25,95.35,94.676,95.03,95.3,96.07,97.03,96.75,97.1,98.48,98.46,98.68,98.96,97.55,97.45,96.63,98.33,98.82,99.245,98.64,98.11,96.84,95.67,94.52,93.57,93.89,93.01,91.65,90.0,89.47,92.46,92.11,92.59,91.85,92.68,93.82,93.68,92.4,92.51,94.25,95.68,103.91,104.51,104.62,105.52,106.06,106.23,106.94,109.73,111.33,110.8,108.66,108.83,108.17,108.121,109.2,109.42,110.27,108.2,108.88,108.6,104.88,105.06,104.89,105.9,105.21,105.1401,105.19,104.96,104.59,103.85,101.78,101.5,100.15,100.27,100.4,100.96,101.37,100.45,99.64,97.42,96.65,96.58,95.25,93.32,94.55,95.92,95.8,96.091,96.15,94.61,93.01,92.59,94.1,93.93,93.04,93.69,95.19,94.08,94.28,95.4,94.35,92.39,93.34,98.07,99.21,98.37,94.94,93.42,95.5,95.36,95.74,97.3,98.8399,97.34,96.76,96.43,99.87,102.41,102.0,104.82,107.18,106.86,106.1807,107.95,107.2,106.451,105.57,105.81,108.98,108.8,110.35,109.79,112.851,115.51,115.08,116.86,117.81,115.11,114.22,116.08,116.86,117.75,117.6,117.92,117.12,117.34,118.85,116.76,115.5,113.32,111.0,112.27,115.65,115.21,116.061,120.05,120.62,120.18,121.62,120.7,119.61,119.45,118.27,116.06,113.99,114.92,116.33,114.1,113.7,110.82,110.11],\"open\":[222.3,218.93,221.16,220.42,214.52,225.46,223.64,222.21,227.96,230.78,230.05,227.25,227.95,224.79,223.82,221.0,219.75,216.82,220.78,220.24,218.5,217.79,222.15,225.75,223.52,224.94,218.01,220.95,221.85,226.23,228.99,228.41,226.51,223.25,220.15,219.01,217.15,216.6,214.65,214.1,216.8,218.1,213.44,211.75,209.22,210.155,207.7,207.36,207.28,206.05,209.32,208.0,207.03,200.58,199.13,190.3,191.9,194.99,194.61,193.06,192.45,190.68,191.78,189.69,191.78,189.75,191.52,191.08,189.53,188.5,190.71,189.5,185.42,185.26,187.79,183.82,186.29,184.1,185.228,182.99,183.4,186.12,187.25,186.35,185.14,187.88,190.03,191.55,192.42,191.385,191.35,191.17,194.14,193.63,193.065,191.635,187.991,187.22,187.72,187.6,188.23,188.77,186.35,188.375,188.0,187.19,188.0,186.07,186.78,189.01,189.49,187.74,186.55,184.99,185.18,178.25,175.88,175.225,166.41,162.13,164.0,164.12,162.62,165.67,166.835,170.595,174.95,177.81,176.49,175.0301,174.78,173.41,172.23,173.0,169.88,170.97,172.58,164.88,167.64,167.88,167.805,167.25,173.68,168.07,168.39,170.0,175.04,175.24,177.32,178.65,178.5,180.32,182.59,180.29,177.96,175.48,174.94,177.91,175.21,172.8,178.54,179.26,179.1,176.35,173.67,171.8,172.83,172.05,172.36,169.79,163.045,161.95,158.5,157.07,160.29,163.085,154.83,159.1,166.0,167.165,166.87,165.525,170.16,172.0,174.505,177.25,177.3,177.3,178.61,179.37,176.15,177.9,176.18,174.59,173.16,174.55,174.35,173.44,172.54,172.53,170.16,170.52,171.0,170.1,170.8,174.68,174.17,174.87,175.03,174.88,173.63,172.4,172.5,172.15,169.2,170.49,169.03,167.5,169.06,172.48,169.95,170.43,172.63,174.3,175.05,175.1,173.36,170.78,170.29,171.04,171.18,169.97,173.04,173.5,175.11,175.11,174.66,173.91,172.365,174.0,167.64,169.87,167.9,163.89,159.29,157.23,156.91,156.29,156.89,156.61,156.75,160.42,159.78,157.9,156.73,156.35,155.97,156.055,155.81,154.97,154.18,153.63,154.01,154.26,153.21,153.89,153.8,151.78,149.99,152.02,155.8,157.9,159.51,160.11,158.47,158.99,159.87,162.61,160.5,160.86,162.09,162.71,163.75,164.8,163.64,163.8,160.1,160.14,159.65,160.43,159.07,158.23,157.5,157.86,160.52,161.94,160.66,159.32,156.6,159.9,159.26,158.6,157.06,156.07,157.05,159.28,149.1,149.9,149.89,153.75,153.35,151.8,150.58,149.99,151.5,150.48,149.2,148.82,147.97,145.5,145.87,144.73,144.11,142.9,143.02,143.69,144.88,144.45,144.71,144.49,145.01,147.17,145.13,145.77,145.52,146.87,143.66,143.78,143.32,147.5,147.16,145.74,155.19,155.25,155.02,153.9,154.34,153.58,153.17,153.97,153.42,154.0,153.73,153.84,154.9,154.0,153.38,151.27,153.6,155.94,156.01,154.7,152.45,153.63,153.87,149.03,146.76,146.52,145.59,147.54,145.1,144.09,143.923,144.47,143.91,143.5,142.44,141.22,141.88,141.41,141.48,141.91,141.6,142.94,143.6,143.73,144.29,144.22,143.25,143.71,143.72,144.19,143.68,140.91,139.39,141.5,141.26,139.845,142.11,140.4,141.0,140.72,139.41,139.3,138.85,139.25,138.74,138.95,139.06,139.365,138.78,140.0,137.89,137.08,137.14,135.91,137.38,136.43,136.23,135.1,135.67,135.52,133.47,133.08,132.46,131.65,131.35,130.54,129.13,128.31,127.975,127.03,121.15,120.93,122.14,121.67,120.42,119.55,120.0,120.45,119.4,120.0,118.34,119.11,118.895,118.74,118.77,117.95,116.78,115.92,115.85,115.8,116.65,116.45,117.52,116.52,115.59,116.35,116.8,116.74,115.8,116.47,115.38,115.04,113.84,113.29,112.31,110.86,109.26,109.5,110.0,109.17,110.365,111.6,110.78,111.43,111.13,111.36,111.95,110.12,109.72,109.81,106.7,106.57,107.71,107.12,111.09,109.88,110.31,110.08,108.53,110.98,111.4,113.46,113.65,113.87,115.39,114.31,117.95,117.1,116.81,116.86,117.25,118.18,117.33,117.88,116.79,117.35,117.7,115.02,114.31,113.7,113.4,113.06,112.71,112.46,113.16,113.69,113.0,111.64,114.42,114.35,113.85,113.05,115.19,115.12,113.86,108.73,107.51,102.65,104.64,107.25,107.83,107.9,107.7,106.14,105.66,105.8,106.62,107.41,107.39,108.565,108.59,108.86,108.77,109.23,109.1,109.63,108.14,107.78,108.52,108.71,108.23,107.52,106.27,105.58,104.81,106.05,104.41,104.19,102.83,104.265,96.82,98.25,99.26,99.83,100.0,99.56,98.7,98.92,97.39,97.41,97.17,96.75,96.49,95.7,94.6,95.39,95.49,94.44,93.97,92.9,93.0,92.91,95.94,96.25,94.94,96.0,96.62,96.45,97.82,97.32,98.69,98.53,98.5,99.02,99.25,97.99,97.79,97.6,99.02,99.6,99.44,99.68,98.67,97.22,95.87,94.64,94.64,94.16,94.55,92.39,90.0,92.72,93.48,93.33,93.0,93.37,94.0,95.2,94.2,93.965,93.99,97.61,96.0,103.91,105.0,105.01,106.93,106.64,107.88,108.89,112.11,111.62,110.8,109.34,108.97,108.91,109.95,110.23,109.51,110.42,108.78,109.72,108.65,104.89,106.0,105.47,106.48,105.25,105.93,106.34,105.52,104.61,103.96,101.91,102.24,101.41,101.31,100.78,102.39,102.37,100.58,100.51,97.65,96.86,97.2,96.05,93.98,96.4,96.31,96.0,98.84,96.67,95.02,94.19,93.79,95.92,94.29,93.13,96.52,95.86,95.0,95.42,96.47,94.79,93.79,96.04,99.93,101.52,98.63,97.06,95.1,98.41,96.2,97.96,100.32,100.55,98.97,98.55,98.68,100.56,105.75,102.61,107.01,108.58,106.96,107.59,109.0,107.27,107.4,107.28,108.91,112.02,111.07,111.94,112.18,115.19,116.04,117.64,117.52,118.98,115.29,116.55,117.05,118.75,117.99,118.29,119.21,117.33,119.27,119.2,117.64,115.76,114.92,111.38,115.2,116.26,116.37,116.9,120.96,121.11,121.85,123.13,120.79,119.87,120.99,118.7,116.93,115.4,118.08,116.7,114.33,114.0,111.34,110.8],\"type\":\"ohlc\",\"x\":[\"2018-10-17T00:00:00\",\"2018-10-16T00:00:00\",\"2018-10-15T00:00:00\",\"2018-10-12T00:00:00\",\"2018-10-11T00:00:00\",\"2018-10-10T00:00:00\",\"2018-10-09T00:00:00\",\"2018-10-08T00:00:00\",\"2018-10-05T00:00:00\",\"2018-10-04T00:00:00\",\"2018-10-03T00:00:00\",\"2018-10-02T00:00:00\",\"2018-10-01T00:00:00\",\"2018-09-28T00:00:00\",\"2018-09-27T00:00:00\",\"2018-09-26T00:00:00\",\"2018-09-25T00:00:00\",\"2018-09-24T00:00:00\",\"2018-09-21T00:00:00\",\"2018-09-20T00:00:00\",\"2018-09-19T00:00:00\",\"2018-09-18T00:00:00\",\"2018-09-17T00:00:00\",\"2018-09-14T00:00:00\",\"2018-09-13T00:00:00\",\"2018-09-12T00:00:00\",\"2018-09-11T00:00:00\",\"2018-09-10T00:00:00\",\"2018-09-07T00:00:00\",\"2018-09-06T00:00:00\",\"2018-09-05T00:00:00\",\"2018-09-04T00:00:00\",\"2018-08-31T00:00:00\",\"2018-08-30T00:00:00\",\"2018-08-29T00:00:00\",\"2018-08-28T00:00:00\",\"2018-08-27T00:00:00\",\"2018-08-24T00:00:00\",\"2018-08-23T00:00:00\",\"2018-08-22T00:00:00\",\"2018-08-21T00:00:00\",\"2018-08-20T00:00:00\",\"2018-08-17T00:00:00\",\"2018-08-16T00:00:00\",\"2018-08-15T00:00:00\",\"2018-08-14T00:00:00\",\"2018-08-13T00:00:00\",\"2018-08-10T00:00:00\",\"2018-08-09T00:00:00\",\"2018-08-08T00:00:00\",\"2018-08-07T00:00:00\",\"2018-08-06T00:00:00\",\"2018-08-03T00:00:00\",\"2018-08-02T00:00:00\",\"2018-08-01T00:00:00\",\"2018-07-31T00:00:00\",\"2018-07-30T00:00:00\",\"2018-07-27T00:00:00\",\"2018-07-26T00:00:00\",\"2018-07-25T00:00:00\",\"2018-07-24T00:00:00\",\"2018-07-23T00:00:00\",\"2018-07-20T00:00:00\",\"2018-07-19T00:00:00\",\"2018-07-18T00:00:00\",\"2018-07-17T00:00:00\",\"2018-07-16T00:00:00\",\"2018-07-13T00:00:00\",\"2018-07-12T00:00:00\",\"2018-07-11T00:00:00\",\"2018-07-10T00:00:00\",\"2018-07-09T00:00:00\",\"2018-07-06T00:00:00\",\"2018-07-05T00:00:00\",\"2018-07-03T00:00:00\",\"2018-07-02T00:00:00\",\"2018-06-29T00:00:00\",\"2018-06-28T00:00:00\",\"2018-06-27T00:00:00\",\"2018-06-26T00:00:00\",\"2018-06-25T00:00:00\",\"2018-06-22T00:00:00\",\"2018-06-21T00:00:00\",\"2018-06-20T00:00:00\",\"2018-06-19T00:00:00\",\"2018-06-18T00:00:00\",\"2018-06-15T00:00:00\",\"2018-06-14T00:00:00\",\"2018-06-13T00:00:00\",\"2018-06-12T00:00:00\",\"2018-06-11T00:00:00\",\"2018-06-08T00:00:00\",\"2018-06-07T00:00:00\",\"2018-06-06T00:00:00\",\"2018-06-05T00:00:00\",\"2018-06-04T00:00:00\",\"2018-06-01T00:00:00\",\"2018-05-31T00:00:00\",\"2018-05-30T00:00:00\",\"2018-05-29T00:00:00\",\"2018-05-25T00:00:00\",\"2018-05-24T00:00:00\",\"2018-05-23T00:00:00\",\"2018-05-22T00:00:00\",\"2018-05-21T00:00:00\",\"2018-05-18T00:00:00\",\"2018-05-17T00:00:00\",\"2018-05-16T00:00:00\",\"2018-05-15T00:00:00\",\"2018-05-14T00:00:00\",\"2018-05-11T00:00:00\",\"2018-05-10T00:00:00\",\"2018-05-09T00:00:00\",\"2018-05-08T00:00:00\",\"2018-05-07T00:00:00\",\"2018-05-04T00:00:00\",\"2018-05-03T00:00:00\",\"2018-05-02T00:00:00\",\"2018-05-01T00:00:00\",\"2018-04-30T00:00:00\",\"2018-04-27T00:00:00\",\"2018-04-26T00:00:00\",\"2018-04-25T00:00:00\",\"2018-04-24T00:00:00\",\"2018-04-23T00:00:00\",\"2018-04-20T00:00:00\",\"2018-04-19T00:00:00\",\"2018-04-18T00:00:00\",\"2018-04-17T00:00:00\",\"2018-04-16T00:00:00\",\"2018-04-13T00:00:00\",\"2018-04-12T00:00:00\",\"2018-04-11T00:00:00\",\"2018-04-10T00:00:00\",\"2018-04-09T00:00:00\",\"2018-04-06T00:00:00\",\"2018-04-05T00:00:00\",\"2018-04-04T00:00:00\",\"2018-04-03T00:00:00\",\"2018-04-02T00:00:00\",\"2018-03-29T00:00:00\",\"2018-03-28T00:00:00\",\"2018-03-27T00:00:00\",\"2018-03-26T00:00:00\",\"2018-03-23T00:00:00\",\"2018-03-22T00:00:00\",\"2018-03-21T00:00:00\",\"2018-03-20T00:00:00\",\"2018-03-19T00:00:00\",\"2018-03-16T00:00:00\",\"2018-03-15T00:00:00\",\"2018-03-14T00:00:00\",\"2018-03-13T00:00:00\",\"2018-03-12T00:00:00\",\"2018-03-09T00:00:00\",\"2018-03-08T00:00:00\",\"2018-03-07T00:00:00\",\"2018-03-06T00:00:00\",\"2018-03-05T00:00:00\",\"2018-03-02T00:00:00\",\"2018-03-01T00:00:00\",\"2018-02-28T00:00:00\",\"2018-02-27T00:00:00\",\"2018-02-26T00:00:00\",\"2018-02-23T00:00:00\",\"2018-02-22T00:00:00\",\"2018-02-21T00:00:00\",\"2018-02-20T00:00:00\",\"2018-02-16T00:00:00\",\"2018-02-15T00:00:00\",\"2018-02-14T00:00:00\",\"2018-02-13T00:00:00\",\"2018-02-12T00:00:00\",\"2018-02-09T00:00:00\",\"2018-02-08T00:00:00\",\"2018-02-07T00:00:00\",\"2018-02-06T00:00:00\",\"2018-02-05T00:00:00\",\"2018-02-02T00:00:00\",\"2018-02-01T00:00:00\",\"2018-01-31T00:00:00\",\"2018-01-30T00:00:00\",\"2018-01-29T00:00:00\",\"2018-01-26T00:00:00\",\"2018-01-25T00:00:00\",\"2018-01-24T00:00:00\",\"2018-01-23T00:00:00\",\"2018-01-22T00:00:00\",\"2018-01-19T00:00:00\",\"2018-01-18T00:00:00\",\"2018-01-17T00:00:00\",\"2018-01-16T00:00:00\",\"2018-01-12T00:00:00\",\"2018-01-11T00:00:00\",\"2018-01-10T00:00:00\",\"2018-01-09T00:00:00\",\"2018-01-08T00:00:00\",\"2018-01-05T00:00:00\",\"2018-01-04T00:00:00\",\"2018-01-03T00:00:00\",\"2018-01-02T00:00:00\",\"2017-12-29T00:00:00\",\"2017-12-28T00:00:00\",\"2017-12-27T00:00:00\",\"2017-12-26T00:00:00\",\"2017-12-22T00:00:00\",\"2017-12-21T00:00:00\",\"2017-12-20T00:00:00\",\"2017-12-19T00:00:00\",\"2017-12-18T00:00:00\",\"2017-12-15T00:00:00\",\"2017-12-14T00:00:00\",\"2017-12-13T00:00:00\",\"2017-12-12T00:00:00\",\"2017-12-11T00:00:00\",\"2017-12-08T00:00:00\",\"2017-12-07T00:00:00\",\"2017-12-06T00:00:00\",\"2017-12-05T00:00:00\",\"2017-12-04T00:00:00\",\"2017-12-01T00:00:00\",\"2017-11-30T00:00:00\",\"2017-11-29T00:00:00\",\"2017-11-28T00:00:00\",\"2017-11-27T00:00:00\",\"2017-11-24T00:00:00\",\"2017-11-22T00:00:00\",\"2017-11-21T00:00:00\",\"2017-11-20T00:00:00\",\"2017-11-17T00:00:00\",\"2017-11-16T00:00:00\",\"2017-11-15T00:00:00\",\"2017-11-14T00:00:00\",\"2017-11-13T00:00:00\",\"2017-11-10T00:00:00\",\"2017-11-09T00:00:00\",\"2017-11-08T00:00:00\",\"2017-11-07T00:00:00\",\"2017-11-06T00:00:00\",\"2017-11-03T00:00:00\",\"2017-11-02T00:00:00\",\"2017-11-01T00:00:00\",\"2017-10-31T00:00:00\",\"2017-10-30T00:00:00\",\"2017-10-27T00:00:00\",\"2017-10-26T00:00:00\",\"2017-10-25T00:00:00\",\"2017-10-24T00:00:00\",\"2017-10-23T00:00:00\",\"2017-10-20T00:00:00\",\"2017-10-19T00:00:00\",\"2017-10-18T00:00:00\",\"2017-10-17T00:00:00\",\"2017-10-16T00:00:00\",\"2017-10-13T00:00:00\",\"2017-10-12T00:00:00\",\"2017-10-11T00:00:00\",\"2017-10-10T00:00:00\",\"2017-10-09T00:00:00\",\"2017-10-06T00:00:00\",\"2017-10-05T00:00:00\",\"2017-10-04T00:00:00\",\"2017-10-03T00:00:00\",\"2017-10-02T00:00:00\",\"2017-09-29T00:00:00\",\"2017-09-28T00:00:00\",\"2017-09-27T00:00:00\",\"2017-09-26T00:00:00\",\"2017-09-25T00:00:00\",\"2017-09-22T00:00:00\",\"2017-09-21T00:00:00\",\"2017-09-20T00:00:00\",\"2017-09-19T00:00:00\",\"2017-09-18T00:00:00\",\"2017-09-15T00:00:00\",\"2017-09-14T00:00:00\",\"2017-09-13T00:00:00\",\"2017-09-12T00:00:00\",\"2017-09-11T00:00:00\",\"2017-09-08T00:00:00\",\"2017-09-07T00:00:00\",\"2017-09-06T00:00:00\",\"2017-09-05T00:00:00\",\"2017-09-01T00:00:00\",\"2017-08-31T00:00:00\",\"2017-08-30T00:00:00\",\"2017-08-29T00:00:00\",\"2017-08-28T00:00:00\",\"2017-08-25T00:00:00\",\"2017-08-24T00:00:00\",\"2017-08-23T00:00:00\",\"2017-08-22T00:00:00\",\"2017-08-21T00:00:00\",\"2017-08-18T00:00:00\",\"2017-08-17T00:00:00\",\"2017-08-16T00:00:00\",\"2017-08-15T00:00:00\",\"2017-08-14T00:00:00\",\"2017-08-11T00:00:00\",\"2017-08-10T00:00:00\",\"2017-08-09T00:00:00\",\"2017-08-08T00:00:00\",\"2017-08-07T00:00:00\",\"2017-08-04T00:00:00\",\"2017-08-03T00:00:00\",\"2017-08-02T00:00:00\",\"2017-08-01T00:00:00\",\"2017-07-31T00:00:00\",\"2017-07-28T00:00:00\",\"2017-07-27T00:00:00\",\"2017-07-26T00:00:00\",\"2017-07-25T00:00:00\",\"2017-07-24T00:00:00\",\"2017-07-21T00:00:00\",\"2017-07-20T00:00:00\",\"2017-07-19T00:00:00\",\"2017-07-18T00:00:00\",\"2017-07-17T00:00:00\",\"2017-07-14T00:00:00\",\"2017-07-13T00:00:00\",\"2017-07-12T00:00:00\",\"2017-07-11T00:00:00\",\"2017-07-10T00:00:00\",\"2017-07-07T00:00:00\",\"2017-07-06T00:00:00\",\"2017-07-05T00:00:00\",\"2017-07-03T00:00:00\",\"2017-06-30T00:00:00\",\"2017-06-29T00:00:00\",\"2017-06-28T00:00:00\",\"2017-06-27T00:00:00\",\"2017-06-26T00:00:00\",\"2017-06-23T00:00:00\",\"2017-06-22T00:00:00\",\"2017-06-21T00:00:00\",\"2017-06-20T00:00:00\",\"2017-06-19T00:00:00\",\"2017-06-16T00:00:00\",\"2017-06-15T00:00:00\",\"2017-06-14T00:00:00\",\"2017-06-13T00:00:00\",\"2017-06-12T00:00:00\",\"2017-06-09T00:00:00\",\"2017-06-08T00:00:00\",\"2017-06-07T00:00:00\",\"2017-06-06T00:00:00\",\"2017-06-05T00:00:00\",\"2017-06-02T00:00:00\",\"2017-06-01T00:00:00\",\"2017-05-31T00:00:00\",\"2017-05-30T00:00:00\",\"2017-05-26T00:00:00\",\"2017-05-25T00:00:00\",\"2017-05-24T00:00:00\",\"2017-05-23T00:00:00\",\"2017-05-22T00:00:00\",\"2017-05-19T00:00:00\",\"2017-05-18T00:00:00\",\"2017-05-17T00:00:00\",\"2017-05-16T00:00:00\",\"2017-05-15T00:00:00\",\"2017-05-12T00:00:00\",\"2017-05-11T00:00:00\",\"2017-05-10T00:00:00\",\"2017-05-09T00:00:00\",\"2017-05-08T00:00:00\",\"2017-05-05T00:00:00\",\"2017-05-04T00:00:00\",\"2017-05-03T00:00:00\",\"2017-05-02T00:00:00\",\"2017-05-01T00:00:00\",\"2017-04-28T00:00:00\",\"2017-04-27T00:00:00\",\"2017-04-26T00:00:00\",\"2017-04-25T00:00:00\",\"2017-04-24T00:00:00\",\"2017-04-21T00:00:00\",\"2017-04-20T00:00:00\",\"2017-04-19T00:00:00\",\"2017-04-18T00:00:00\",\"2017-04-17T00:00:00\",\"2017-04-13T00:00:00\",\"2017-04-12T00:00:00\",\"2017-04-11T00:00:00\",\"2017-04-10T00:00:00\",\"2017-04-07T00:00:00\",\"2017-04-06T00:00:00\",\"2017-04-05T00:00:00\",\"2017-04-04T00:00:00\",\"2017-04-03T00:00:00\",\"2017-03-31T00:00:00\",\"2017-03-30T00:00:00\",\"2017-03-29T00:00:00\",\"2017-03-28T00:00:00\",\"2017-03-27T00:00:00\",\"2017-03-24T00:00:00\",\"2017-03-23T00:00:00\",\"2017-03-22T00:00:00\",\"2017-03-21T00:00:00\",\"2017-03-20T00:00:00\",\"2017-03-17T00:00:00\",\"2017-03-16T00:00:00\",\"2017-03-15T00:00:00\",\"2017-03-14T00:00:00\",\"2017-03-13T00:00:00\",\"2017-03-10T00:00:00\",\"2017-03-09T00:00:00\",\"2017-03-08T00:00:00\",\"2017-03-07T00:00:00\",\"2017-03-06T00:00:00\",\"2017-03-03T00:00:00\",\"2017-03-02T00:00:00\",\"2017-03-01T00:00:00\",\"2017-02-28T00:00:00\",\"2017-02-27T00:00:00\",\"2017-02-24T00:00:00\",\"2017-02-23T00:00:00\",\"2017-02-22T00:00:00\",\"2017-02-21T00:00:00\",\"2017-02-17T00:00:00\",\"2017-02-16T00:00:00\",\"2017-02-15T00:00:00\",\"2017-02-14T00:00:00\",\"2017-02-13T00:00:00\",\"2017-02-10T00:00:00\",\"2017-02-09T00:00:00\",\"2017-02-08T00:00:00\",\"2017-02-07T00:00:00\",\"2017-02-06T00:00:00\",\"2017-02-03T00:00:00\",\"2017-02-02T00:00:00\",\"2017-02-01T00:00:00\",\"2017-01-31T00:00:00\",\"2017-01-30T00:00:00\",\"2017-01-27T00:00:00\",\"2017-01-26T00:00:00\",\"2017-01-25T00:00:00\",\"2017-01-24T00:00:00\",\"2017-01-23T00:00:00\",\"2017-01-20T00:00:00\",\"2017-01-19T00:00:00\",\"2017-01-18T00:00:00\",\"2017-01-17T00:00:00\",\"2017-01-13T00:00:00\",\"2017-01-12T00:00:00\",\"2017-01-11T00:00:00\",\"2017-01-10T00:00:00\",\"2017-01-09T00:00:00\",\"2017-01-06T00:00:00\",\"2017-01-05T00:00:00\",\"2017-01-04T00:00:00\",\"2017-01-03T00:00:00\",\"2016-12-30T00:00:00\",\"2016-12-29T00:00:00\",\"2016-12-28T00:00:00\",\"2016-12-27T00:00:00\",\"2016-12-23T00:00:00\",\"2016-12-22T00:00:00\",\"2016-12-21T00:00:00\",\"2016-12-20T00:00:00\",\"2016-12-19T00:00:00\",\"2016-12-16T00:00:00\",\"2016-12-15T00:00:00\",\"2016-12-14T00:00:00\",\"2016-12-13T00:00:00\",\"2016-12-12T00:00:00\",\"2016-12-09T00:00:00\",\"2016-12-08T00:00:00\",\"2016-12-07T00:00:00\",\"2016-12-06T00:00:00\",\"2016-12-05T00:00:00\",\"2016-12-02T00:00:00\",\"2016-12-01T00:00:00\",\"2016-11-30T00:00:00\",\"2016-11-29T00:00:00\",\"2016-11-28T00:00:00\",\"2016-11-25T00:00:00\",\"2016-11-23T00:00:00\",\"2016-11-22T00:00:00\",\"2016-11-21T00:00:00\",\"2016-11-18T00:00:00\",\"2016-11-17T00:00:00\",\"2016-11-16T00:00:00\",\"2016-11-15T00:00:00\",\"2016-11-14T00:00:00\",\"2016-11-11T00:00:00\",\"2016-11-10T00:00:00\",\"2016-11-09T00:00:00\",\"2016-11-08T00:00:00\",\"2016-11-07T00:00:00\",\"2016-11-04T00:00:00\",\"2016-11-03T00:00:00\",\"2016-11-02T00:00:00\",\"2016-11-01T00:00:00\",\"2016-10-31T00:00:00\",\"2016-10-28T00:00:00\",\"2016-10-27T00:00:00\",\"2016-10-26T00:00:00\",\"2016-10-25T00:00:00\",\"2016-10-24T00:00:00\",\"2016-10-21T00:00:00\",\"2016-10-20T00:00:00\",\"2016-10-19T00:00:00\",\"2016-10-18T00:00:00\",\"2016-10-17T00:00:00\",\"2016-10-14T00:00:00\",\"2016-10-13T00:00:00\",\"2016-10-12T00:00:00\",\"2016-10-11T00:00:00\",\"2016-10-10T00:00:00\",\"2016-10-07T00:00:00\",\"2016-10-06T00:00:00\",\"2016-10-05T00:00:00\",\"2016-10-04T00:00:00\",\"2016-10-03T00:00:00\",\"2016-09-30T00:00:00\",\"2016-09-29T00:00:00\",\"2016-09-28T00:00:00\",\"2016-09-27T00:00:00\",\"2016-09-26T00:00:00\",\"2016-09-23T00:00:00\",\"2016-09-22T00:00:00\",\"2016-09-21T00:00:00\",\"2016-09-20T00:00:00\",\"2016-09-19T00:00:00\",\"2016-09-16T00:00:00\",\"2016-09-15T00:00:00\",\"2016-09-14T00:00:00\",\"2016-09-13T00:00:00\",\"2016-09-12T00:00:00\",\"2016-09-09T00:00:00\",\"2016-09-08T00:00:00\",\"2016-09-07T00:00:00\",\"2016-09-06T00:00:00\",\"2016-09-02T00:00:00\",\"2016-09-01T00:00:00\",\"2016-08-31T00:00:00\",\"2016-08-30T00:00:00\",\"2016-08-29T00:00:00\",\"2016-08-26T00:00:00\",\"2016-08-25T00:00:00\",\"2016-08-24T00:00:00\",\"2016-08-23T00:00:00\",\"2016-08-22T00:00:00\",\"2016-08-19T00:00:00\",\"2016-08-18T00:00:00\",\"2016-08-17T00:00:00\",\"2016-08-16T00:00:00\",\"2016-08-15T00:00:00\",\"2016-08-12T00:00:00\",\"2016-08-11T00:00:00\",\"2016-08-10T00:00:00\",\"2016-08-09T00:00:00\",\"2016-08-08T00:00:00\",\"2016-08-05T00:00:00\",\"2016-08-04T00:00:00\",\"2016-08-03T00:00:00\",\"2016-08-02T00:00:00\",\"2016-08-01T00:00:00\",\"2016-07-29T00:00:00\",\"2016-07-28T00:00:00\",\"2016-07-27T00:00:00\",\"2016-07-26T00:00:00\",\"2016-07-25T00:00:00\",\"2016-07-22T00:00:00\",\"2016-07-21T00:00:00\",\"2016-07-20T00:00:00\",\"2016-07-19T00:00:00\",\"2016-07-18T00:00:00\",\"2016-07-15T00:00:00\",\"2016-07-14T00:00:00\",\"2016-07-13T00:00:00\",\"2016-07-12T00:00:00\",\"2016-07-11T00:00:00\",\"2016-07-08T00:00:00\",\"2016-07-07T00:00:00\",\"2016-07-06T00:00:00\",\"2016-07-05T00:00:00\",\"2016-07-01T00:00:00\",\"2016-06-30T00:00:00\",\"2016-06-29T00:00:00\",\"2016-06-28T00:00:00\",\"2016-06-27T00:00:00\",\"2016-06-24T00:00:00\",\"2016-06-23T00:00:00\",\"2016-06-22T00:00:00\",\"2016-06-21T00:00:00\",\"2016-06-20T00:00:00\",\"2016-06-17T00:00:00\",\"2016-06-16T00:00:00\",\"2016-06-15T00:00:00\",\"2016-06-14T00:00:00\",\"2016-06-13T00:00:00\",\"2016-06-10T00:00:00\",\"2016-06-09T00:00:00\",\"2016-06-08T00:00:00\",\"2016-06-07T00:00:00\",\"2016-06-06T00:00:00\",\"2016-06-03T00:00:00\",\"2016-06-02T00:00:00\",\"2016-06-01T00:00:00\",\"2016-05-31T00:00:00\",\"2016-05-27T00:00:00\",\"2016-05-26T00:00:00\",\"2016-05-25T00:00:00\",\"2016-05-24T00:00:00\",\"2016-05-23T00:00:00\",\"2016-05-20T00:00:00\",\"2016-05-19T00:00:00\",\"2016-05-18T00:00:00\",\"2016-05-17T00:00:00\",\"2016-05-16T00:00:00\",\"2016-05-13T00:00:00\",\"2016-05-12T00:00:00\",\"2016-05-11T00:00:00\",\"2016-05-10T00:00:00\",\"2016-05-09T00:00:00\",\"2016-05-06T00:00:00\",\"2016-05-05T00:00:00\",\"2016-05-04T00:00:00\",\"2016-05-03T00:00:00\",\"2016-05-02T00:00:00\",\"2016-04-29T00:00:00\",\"2016-04-28T00:00:00\",\"2016-04-27T00:00:00\",\"2016-04-26T00:00:00\",\"2016-04-25T00:00:00\",\"2016-04-22T00:00:00\",\"2016-04-21T00:00:00\",\"2016-04-20T00:00:00\",\"2016-04-19T00:00:00\",\"2016-04-18T00:00:00\",\"2016-04-15T00:00:00\",\"2016-04-14T00:00:00\",\"2016-04-13T00:00:00\",\"2016-04-12T00:00:00\",\"2016-04-11T00:00:00\",\"2016-04-08T00:00:00\",\"2016-04-07T00:00:00\",\"2016-04-06T00:00:00\",\"2016-04-05T00:00:00\",\"2016-04-04T00:00:00\",\"2016-04-01T00:00:00\",\"2016-03-31T00:00:00\",\"2016-03-30T00:00:00\",\"2016-03-29T00:00:00\",\"2016-03-28T00:00:00\",\"2016-03-24T00:00:00\",\"2016-03-23T00:00:00\",\"2016-03-22T00:00:00\",\"2016-03-21T00:00:00\",\"2016-03-18T00:00:00\",\"2016-03-17T00:00:00\",\"2016-03-16T00:00:00\",\"2016-03-15T00:00:00\",\"2016-03-14T00:00:00\",\"2016-03-11T00:00:00\",\"2016-03-10T00:00:00\",\"2016-03-09T00:00:00\",\"2016-03-08T00:00:00\",\"2016-03-07T00:00:00\",\"2016-03-04T00:00:00\",\"2016-03-03T00:00:00\",\"2016-03-02T00:00:00\",\"2016-03-01T00:00:00\",\"2016-02-29T00:00:00\",\"2016-02-26T00:00:00\",\"2016-02-25T00:00:00\",\"2016-02-24T00:00:00\",\"2016-02-23T00:00:00\",\"2016-02-22T00:00:00\",\"2016-02-19T00:00:00\",\"2016-02-18T00:00:00\",\"2016-02-17T00:00:00\",\"2016-02-16T00:00:00\",\"2016-02-12T00:00:00\",\"2016-02-11T00:00:00\",\"2016-02-10T00:00:00\",\"2016-02-09T00:00:00\",\"2016-02-08T00:00:00\",\"2016-02-05T00:00:00\",\"2016-02-04T00:00:00\",\"2016-02-03T00:00:00\",\"2016-02-02T00:00:00\",\"2016-02-01T00:00:00\",\"2016-01-29T00:00:00\",\"2016-01-28T00:00:00\",\"2016-01-27T00:00:00\",\"2016-01-26T00:00:00\",\"2016-01-25T00:00:00\",\"2016-01-22T00:00:00\",\"2016-01-21T00:00:00\",\"2016-01-20T00:00:00\",\"2016-01-19T00:00:00\",\"2016-01-15T00:00:00\",\"2016-01-14T00:00:00\",\"2016-01-13T00:00:00\",\"2016-01-12T00:00:00\",\"2016-01-11T00:00:00\",\"2016-01-08T00:00:00\",\"2016-01-07T00:00:00\",\"2016-01-06T00:00:00\",\"2016-01-05T00:00:00\",\"2016-01-04T00:00:00\",\"2015-12-31T00:00:00\",\"2015-12-30T00:00:00\",\"2015-12-29T00:00:00\",\"2015-12-28T00:00:00\",\"2015-12-24T00:00:00\",\"2015-12-23T00:00:00\",\"2015-12-22T00:00:00\",\"2015-12-21T00:00:00\",\"2015-12-18T00:00:00\",\"2015-12-17T00:00:00\",\"2015-12-16T00:00:00\",\"2015-12-15T00:00:00\",\"2015-12-14T00:00:00\",\"2015-12-11T00:00:00\",\"2015-12-10T00:00:00\",\"2015-12-09T00:00:00\",\"2015-12-08T00:00:00\",\"2015-12-07T00:00:00\",\"2015-12-04T00:00:00\",\"2015-12-03T00:00:00\",\"2015-12-02T00:00:00\",\"2015-12-01T00:00:00\",\"2015-11-30T00:00:00\",\"2015-11-27T00:00:00\",\"2015-11-25T00:00:00\",\"2015-11-24T00:00:00\",\"2015-11-23T00:00:00\",\"2015-11-20T00:00:00\",\"2015-11-19T00:00:00\",\"2015-11-18T00:00:00\",\"2015-11-17T00:00:00\",\"2015-11-16T00:00:00\",\"2015-11-13T00:00:00\",\"2015-11-12T00:00:00\",\"2015-11-11T00:00:00\",\"2015-11-10T00:00:00\",\"2015-11-09T00:00:00\",\"2015-11-06T00:00:00\",\"2015-11-05T00:00:00\",\"2015-11-04T00:00:00\",\"2015-11-03T00:00:00\",\"2015-11-02T00:00:00\",\"2015-10-30T00:00:00\",\"2015-10-29T00:00:00\",\"2015-10-28T00:00:00\",\"2015-10-27T00:00:00\",\"2015-10-26T00:00:00\",\"2015-10-23T00:00:00\",\"2015-10-22T00:00:00\",\"2015-10-21T00:00:00\",\"2015-10-20T00:00:00\",\"2015-10-19T00:00:00\"]}],                        {\"template\":{\"data\":{\"bar\":[{\"error_x\":{\"color\":\"#2a3f5f\"},\"error_y\":{\"color\":\"#2a3f5f\"},\"marker\":{\"line\":{\"color\":\"#E5ECF6\",\"width\":0.5},\"pattern\":{\"fillmode\":\"overlay\",\"size\":10,\"solidity\":0.2}},\"type\":\"bar\"}],\"barpolar\":[{\"marker\":{\"line\":{\"color\":\"#E5ECF6\",\"width\":0.5},\"pattern\":{\"fillmode\":\"overlay\",\"size\":10,\"solidity\":0.2}},\"type\":\"barpolar\"}],\"carpet\":[{\"aaxis\":{\"endlinecolor\":\"#2a3f5f\",\"gridcolor\":\"white\",\"linecolor\":\"white\",\"minorgridcolor\":\"white\",\"startlinecolor\":\"#2a3f5f\"},\"baxis\":{\"endlinecolor\":\"#2a3f5f\",\"gridcolor\":\"white\",\"linecolor\":\"white\",\"minorgridcolor\":\"white\",\"startlinecolor\":\"#2a3f5f\"},\"type\":\"carpet\"}],\"choropleth\":[{\"colorbar\":{\"outlinewidth\":0,\"ticks\":\"\"},\"type\":\"choropleth\"}],\"contour\":[{\"colorbar\":{\"outlinewidth\":0,\"ticks\":\"\"},\"colorscale\":[[0.0,\"#0d0887\"],[0.1111111111111111,\"#46039f\"],[0.2222222222222222,\"#7201a8\"],[0.3333333333333333,\"#9c179e\"],[0.4444444444444444,\"#bd3786\"],[0.5555555555555556,\"#d8576b\"],[0.6666666666666666,\"#ed7953\"],[0.7777777777777778,\"#fb9f3a\"],[0.8888888888888888,\"#fdca26\"],[1.0,\"#f0f921\"]],\"type\":\"contour\"}],\"contourcarpet\":[{\"colorbar\":{\"outlinewidth\":0,\"ticks\":\"\"},\"type\":\"contourcarpet\"}],\"heatmap\":[{\"colorbar\":{\"outlinewidth\":0,\"ticks\":\"\"},\"colorscale\":[[0.0,\"#0d0887\"],[0.1111111111111111,\"#46039f\"],[0.2222222222222222,\"#7201a8\"],[0.3333333333333333,\"#9c179e\"],[0.4444444444444444,\"#bd3786\"],[0.5555555555555556,\"#d8576b\"],[0.6666666666666666,\"#ed7953\"],[0.7777777777777778,\"#fb9f3a\"],[0.8888888888888888,\"#fdca26\"],[1.0,\"#f0f921\"]],\"type\":\"heatmap\"}],\"heatmapgl\":[{\"colorbar\":{\"outlinewidth\":0,\"ticks\":\"\"},\"colorscale\":[[0.0,\"#0d0887\"],[0.1111111111111111,\"#46039f\"],[0.2222222222222222,\"#7201a8\"],[0.3333333333333333,\"#9c179e\"],[0.4444444444444444,\"#bd3786\"],[0.5555555555555556,\"#d8576b\"],[0.6666666666666666,\"#ed7953\"],[0.7777777777777778,\"#fb9f3a\"],[0.8888888888888888,\"#fdca26\"],[1.0,\"#f0f921\"]],\"type\":\"heatmapgl\"}],\"histogram\":[{\"marker\":{\"pattern\":{\"fillmode\":\"overlay\",\"size\":10,\"solidity\":0.2}},\"type\":\"histogram\"}],\"histogram2d\":[{\"colorbar\":{\"outlinewidth\":0,\"ticks\":\"\"},\"colorscale\":[[0.0,\"#0d0887\"],[0.1111111111111111,\"#46039f\"],[0.2222222222222222,\"#7201a8\"],[0.3333333333333333,\"#9c179e\"],[0.4444444444444444,\"#bd3786\"],[0.5555555555555556,\"#d8576b\"],[0.6666666666666666,\"#ed7953\"],[0.7777777777777778,\"#fb9f3a\"],[0.8888888888888888,\"#fdca26\"],[1.0,\"#f0f921\"]],\"type\":\"histogram2d\"}],\"histogram2dcontour\":[{\"colorbar\":{\"outlinewidth\":0,\"ticks\":\"\"},\"colorscale\":[[0.0,\"#0d0887\"],[0.1111111111111111,\"#46039f\"],[0.2222222222222222,\"#7201a8\"],[0.3333333333333333,\"#9c179e\"],[0.4444444444444444,\"#bd3786\"],[0.5555555555555556,\"#d8576b\"],[0.6666666666666666,\"#ed7953\"],[0.7777777777777778,\"#fb9f3a\"],[0.8888888888888888,\"#fdca26\"],[1.0,\"#f0f921\"]],\"type\":\"histogram2dcontour\"}],\"mesh3d\":[{\"colorbar\":{\"outlinewidth\":0,\"ticks\":\"\"},\"type\":\"mesh3d\"}],\"parcoords\":[{\"line\":{\"colorbar\":{\"outlinewidth\":0,\"ticks\":\"\"}},\"type\":\"parcoords\"}],\"pie\":[{\"automargin\":true,\"type\":\"pie\"}],\"scatter\":[{\"marker\":{\"colorbar\":{\"outlinewidth\":0,\"ticks\":\"\"}},\"type\":\"scatter\"}],\"scatter3d\":[{\"line\":{\"colorbar\":{\"outlinewidth\":0,\"ticks\":\"\"}},\"marker\":{\"colorbar\":{\"outlinewidth\":0,\"ticks\":\"\"}},\"type\":\"scatter3d\"}],\"scattercarpet\":[{\"marker\":{\"colorbar\":{\"outlinewidth\":0,\"ticks\":\"\"}},\"type\":\"scattercarpet\"}],\"scattergeo\":[{\"marker\":{\"colorbar\":{\"outlinewidth\":0,\"ticks\":\"\"}},\"type\":\"scattergeo\"}],\"scattergl\":[{\"marker\":{\"colorbar\":{\"outlinewidth\":0,\"ticks\":\"\"}},\"type\":\"scattergl\"}],\"scattermapbox\":[{\"marker\":{\"colorbar\":{\"outlinewidth\":0,\"ticks\":\"\"}},\"type\":\"scattermapbox\"}],\"scatterpolar\":[{\"marker\":{\"colorbar\":{\"outlinewidth\":0,\"ticks\":\"\"}},\"type\":\"scatterpolar\"}],\"scatterpolargl\":[{\"marker\":{\"colorbar\":{\"outlinewidth\":0,\"ticks\":\"\"}},\"type\":\"scatterpolargl\"}],\"scatterternary\":[{\"marker\":{\"colorbar\":{\"outlinewidth\":0,\"ticks\":\"\"}},\"type\":\"scatterternary\"}],\"surface\":[{\"colorbar\":{\"outlinewidth\":0,\"ticks\":\"\"},\"colorscale\":[[0.0,\"#0d0887\"],[0.1111111111111111,\"#46039f\"],[0.2222222222222222,\"#7201a8\"],[0.3333333333333333,\"#9c179e\"],[0.4444444444444444,\"#bd3786\"],[0.5555555555555556,\"#d8576b\"],[0.6666666666666666,\"#ed7953\"],[0.7777777777777778,\"#fb9f3a\"],[0.8888888888888888,\"#fdca26\"],[1.0,\"#f0f921\"]],\"type\":\"surface\"}],\"table\":[{\"cells\":{\"fill\":{\"color\":\"#EBF0F8\"},\"line\":{\"color\":\"white\"}},\"header\":{\"fill\":{\"color\":\"#C8D4E3\"},\"line\":{\"color\":\"white\"}},\"type\":\"table\"}]},\"layout\":{\"annotationdefaults\":{\"arrowcolor\":\"#2a3f5f\",\"arrowhead\":0,\"arrowwidth\":1},\"autotypenumbers\":\"strict\",\"coloraxis\":{\"colorbar\":{\"outlinewidth\":0,\"ticks\":\"\"}},\"colorscale\":{\"diverging\":[[0,\"#8e0152\"],[0.1,\"#c51b7d\"],[0.2,\"#de77ae\"],[0.3,\"#f1b6da\"],[0.4,\"#fde0ef\"],[0.5,\"#f7f7f7\"],[0.6,\"#e6f5d0\"],[0.7,\"#b8e186\"],[0.8,\"#7fbc41\"],[0.9,\"#4d9221\"],[1,\"#276419\"]],\"sequential\":[[0.0,\"#0d0887\"],[0.1111111111111111,\"#46039f\"],[0.2222222222222222,\"#7201a8\"],[0.3333333333333333,\"#9c179e\"],[0.4444444444444444,\"#bd3786\"],[0.5555555555555556,\"#d8576b\"],[0.6666666666666666,\"#ed7953\"],[0.7777777777777778,\"#fb9f3a\"],[0.8888888888888888,\"#fdca26\"],[1.0,\"#f0f921\"]],\"sequentialminus\":[[0.0,\"#0d0887\"],[0.1111111111111111,\"#46039f\"],[0.2222222222222222,\"#7201a8\"],[0.3333333333333333,\"#9c179e\"],[0.4444444444444444,\"#bd3786\"],[0.5555555555555556,\"#d8576b\"],[0.6666666666666666,\"#ed7953\"],[0.7777777777777778,\"#fb9f3a\"],[0.8888888888888888,\"#fdca26\"],[1.0,\"#f0f921\"]]},\"colorway\":[\"#636efa\",\"#EF553B\",\"#00cc96\",\"#ab63fa\",\"#FFA15A\",\"#19d3f3\",\"#FF6692\",\"#B6E880\",\"#FF97FF\",\"#FECB52\"],\"font\":{\"color\":\"#2a3f5f\"},\"geo\":{\"bgcolor\":\"white\",\"lakecolor\":\"white\",\"landcolor\":\"#E5ECF6\",\"showlakes\":true,\"showland\":true,\"subunitcolor\":\"white\"},\"hoverlabel\":{\"align\":\"left\"},\"hovermode\":\"closest\",\"mapbox\":{\"style\":\"light\"},\"paper_bgcolor\":\"white\",\"plot_bgcolor\":\"#E5ECF6\",\"polar\":{\"angularaxis\":{\"gridcolor\":\"white\",\"linecolor\":\"white\",\"ticks\":\"\"},\"bgcolor\":\"#E5ECF6\",\"radialaxis\":{\"gridcolor\":\"white\",\"linecolor\":\"white\",\"ticks\":\"\"}},\"scene\":{\"xaxis\":{\"backgroundcolor\":\"#E5ECF6\",\"gridcolor\":\"white\",\"gridwidth\":2,\"linecolor\":\"white\",\"showbackground\":true,\"ticks\":\"\",\"zerolinecolor\":\"white\"},\"yaxis\":{\"backgroundcolor\":\"#E5ECF6\",\"gridcolor\":\"white\",\"gridwidth\":2,\"linecolor\":\"white\",\"showbackground\":true,\"ticks\":\"\",\"zerolinecolor\":\"white\"},\"zaxis\":{\"backgroundcolor\":\"#E5ECF6\",\"gridcolor\":\"white\",\"gridwidth\":2,\"linecolor\":\"white\",\"showbackground\":true,\"ticks\":\"\",\"zerolinecolor\":\"white\"}},\"shapedefaults\":{\"line\":{\"color\":\"#2a3f5f\"}},\"ternary\":{\"aaxis\":{\"gridcolor\":\"white\",\"linecolor\":\"white\",\"ticks\":\"\"},\"baxis\":{\"gridcolor\":\"white\",\"linecolor\":\"white\",\"ticks\":\"\"},\"bgcolor\":\"#E5ECF6\",\"caxis\":{\"gridcolor\":\"white\",\"linecolor\":\"white\",\"ticks\":\"\"}},\"title\":{\"x\":0.05},\"xaxis\":{\"automargin\":true,\"gridcolor\":\"white\",\"linecolor\":\"white\",\"ticks\":\"\",\"title\":{\"standoff\":15},\"zerolinecolor\":\"white\",\"zerolinewidth\":2},\"yaxis\":{\"automargin\":true,\"gridcolor\":\"white\",\"linecolor\":\"white\",\"ticks\":\"\",\"title\":{\"standoff\":15},\"zerolinecolor\":\"white\",\"zerolinewidth\":2}}}},                        {\"responsive\": true}                    ).then(function(){\n",
       "                            \n",
       "var gd = document.getElementById('862a8224-6d0c-4d3c-802e-0b6430169c70');\n",
       "var x = new MutationObserver(function (mutations, observer) {{\n",
       "        var display = window.getComputedStyle(gd).display;\n",
       "        if (!display || display === 'none') {{\n",
       "            console.log([gd, 'removed!']);\n",
       "            Plotly.purge(gd);\n",
       "            observer.disconnect();\n",
       "        }}\n",
       "}});\n",
       "\n",
       "// Listen for the removal of the full notebook cells\n",
       "var notebookContainer = gd.closest('#notebook-container');\n",
       "if (notebookContainer) {{\n",
       "    x.observe(notebookContainer, {childList: true});\n",
       "}}\n",
       "\n",
       "// Listen for the clearing of the current output cell\n",
       "var outputEl = gd.closest('.output');\n",
       "if (outputEl) {{\n",
       "    x.observe(outputEl, {childList: true});\n",
       "}}\n",
       "\n",
       "                        })                };                });            </script>        </div>"
      ]
     },
     "metadata": {}
    }
   ],
   "metadata": {}
  },
  {
   "cell_type": "code",
   "execution_count": 20,
   "source": [
    "df30=appl_df.head(30)\n",
    "\n",
    "trace=go.Ohlc(\n",
    "    x=df30.index,\n",
    "    open=df30.open,\n",
    "    high=df30.high,\n",
    "    low=df30.low,\n",
    "    close=df30.close\n",
    ")\n",
    "\n",
    "plotly.offline.iplot([trace])"
   ],
   "outputs": [
    {
     "output_type": "display_data",
     "data": {
      "application/vnd.plotly.v1+json": {
       "config": {
        "linkText": "Export to plot.ly",
        "plotlyServerURL": "https://plot.ly",
        "showLink": false
       },
       "data": [
        {
         "close": [
          221.19,
          222.15,
          217.36,
          222.11,
          214.45,
          216.36,
          226.87,
          223.77,
          224.29,
          227.99,
          232.07,
          229.28,
          227.26,
          225.74,
          224.95,
          220.42,
          222.19,
          220.79,
          217.66,
          220.03,
          218.37,
          218.24,
          217.88,
          223.84,
          226.41,
          221.07,
          223.85,
          218.33,
          221.3,
          223.1
         ],
         "high": [
          222.64,
          222.99,
          221.83,
          222.88,
          219.5,
          226.35,
          227.27,
          224.8,
          228.41,
          232.35,
          233.47,
          230,
          229.42,
          225.84,
          226.44,
          223.75,
          222.82,
          221.26,
          221.36,
          222.28,
          219.62,
          221.85,
          222.95,
          226.84,
          228.35,
          225,
          224.299,
          221.85,
          225.37,
          227.35
         ],
         "low": [
          219.34,
          216.7627,
          217.27,
          216.84,
          212.32,
          216.05,
          222.2462,
          220.2,
          220.58,
          226.73,
          229.78,
          226.63,
          226.35,
          224.02,
          223.54,
          219.76,
          219.7,
          216.63,
          217.29,
          219.15,
          215.3,
          217.12,
          217.27,
          222.522,
          222.57,
          219.84,
          216.56,
          216.47,
          220.71,
          221.3
         ],
         "open": [
          222.3,
          218.93,
          221.16,
          220.42,
          214.52,
          225.46,
          223.64,
          222.21,
          227.96,
          230.78,
          230.05,
          227.25,
          227.95,
          224.79,
          223.82,
          221,
          219.75,
          216.82,
          220.78,
          220.24,
          218.5,
          217.79,
          222.15,
          225.75,
          223.52,
          224.94,
          218.01,
          220.95,
          221.85,
          226.23
         ],
         "type": "ohlc",
         "x": [
          "2018-10-17T00:00:00",
          "2018-10-16T00:00:00",
          "2018-10-15T00:00:00",
          "2018-10-12T00:00:00",
          "2018-10-11T00:00:00",
          "2018-10-10T00:00:00",
          "2018-10-09T00:00:00",
          "2018-10-08T00:00:00",
          "2018-10-05T00:00:00",
          "2018-10-04T00:00:00",
          "2018-10-03T00:00:00",
          "2018-10-02T00:00:00",
          "2018-10-01T00:00:00",
          "2018-09-28T00:00:00",
          "2018-09-27T00:00:00",
          "2018-09-26T00:00:00",
          "2018-09-25T00:00:00",
          "2018-09-24T00:00:00",
          "2018-09-21T00:00:00",
          "2018-09-20T00:00:00",
          "2018-09-19T00:00:00",
          "2018-09-18T00:00:00",
          "2018-09-17T00:00:00",
          "2018-09-14T00:00:00",
          "2018-09-13T00:00:00",
          "2018-09-12T00:00:00",
          "2018-09-11T00:00:00",
          "2018-09-10T00:00:00",
          "2018-09-07T00:00:00",
          "2018-09-06T00:00:00"
         ]
        }
       ],
       "layout": {
        "template": {
         "data": {
          "bar": [
           {
            "error_x": {
             "color": "#2a3f5f"
            },
            "error_y": {
             "color": "#2a3f5f"
            },
            "marker": {
             "line": {
              "color": "#E5ECF6",
              "width": 0.5
             },
             "pattern": {
              "fillmode": "overlay",
              "size": 10,
              "solidity": 0.2
             }
            },
            "type": "bar"
           }
          ],
          "barpolar": [
           {
            "marker": {
             "line": {
              "color": "#E5ECF6",
              "width": 0.5
             },
             "pattern": {
              "fillmode": "overlay",
              "size": 10,
              "solidity": 0.2
             }
            },
            "type": "barpolar"
           }
          ],
          "carpet": [
           {
            "aaxis": {
             "endlinecolor": "#2a3f5f",
             "gridcolor": "white",
             "linecolor": "white",
             "minorgridcolor": "white",
             "startlinecolor": "#2a3f5f"
            },
            "baxis": {
             "endlinecolor": "#2a3f5f",
             "gridcolor": "white",
             "linecolor": "white",
             "minorgridcolor": "white",
             "startlinecolor": "#2a3f5f"
            },
            "type": "carpet"
           }
          ],
          "choropleth": [
           {
            "colorbar": {
             "outlinewidth": 0,
             "ticks": ""
            },
            "type": "choropleth"
           }
          ],
          "contour": [
           {
            "colorbar": {
             "outlinewidth": 0,
             "ticks": ""
            },
            "colorscale": [
             [
              0,
              "#0d0887"
             ],
             [
              0.1111111111111111,
              "#46039f"
             ],
             [
              0.2222222222222222,
              "#7201a8"
             ],
             [
              0.3333333333333333,
              "#9c179e"
             ],
             [
              0.4444444444444444,
              "#bd3786"
             ],
             [
              0.5555555555555556,
              "#d8576b"
             ],
             [
              0.6666666666666666,
              "#ed7953"
             ],
             [
              0.7777777777777778,
              "#fb9f3a"
             ],
             [
              0.8888888888888888,
              "#fdca26"
             ],
             [
              1,
              "#f0f921"
             ]
            ],
            "type": "contour"
           }
          ],
          "contourcarpet": [
           {
            "colorbar": {
             "outlinewidth": 0,
             "ticks": ""
            },
            "type": "contourcarpet"
           }
          ],
          "heatmap": [
           {
            "colorbar": {
             "outlinewidth": 0,
             "ticks": ""
            },
            "colorscale": [
             [
              0,
              "#0d0887"
             ],
             [
              0.1111111111111111,
              "#46039f"
             ],
             [
              0.2222222222222222,
              "#7201a8"
             ],
             [
              0.3333333333333333,
              "#9c179e"
             ],
             [
              0.4444444444444444,
              "#bd3786"
             ],
             [
              0.5555555555555556,
              "#d8576b"
             ],
             [
              0.6666666666666666,
              "#ed7953"
             ],
             [
              0.7777777777777778,
              "#fb9f3a"
             ],
             [
              0.8888888888888888,
              "#fdca26"
             ],
             [
              1,
              "#f0f921"
             ]
            ],
            "type": "heatmap"
           }
          ],
          "heatmapgl": [
           {
            "colorbar": {
             "outlinewidth": 0,
             "ticks": ""
            },
            "colorscale": [
             [
              0,
              "#0d0887"
             ],
             [
              0.1111111111111111,
              "#46039f"
             ],
             [
              0.2222222222222222,
              "#7201a8"
             ],
             [
              0.3333333333333333,
              "#9c179e"
             ],
             [
              0.4444444444444444,
              "#bd3786"
             ],
             [
              0.5555555555555556,
              "#d8576b"
             ],
             [
              0.6666666666666666,
              "#ed7953"
             ],
             [
              0.7777777777777778,
              "#fb9f3a"
             ],
             [
              0.8888888888888888,
              "#fdca26"
             ],
             [
              1,
              "#f0f921"
             ]
            ],
            "type": "heatmapgl"
           }
          ],
          "histogram": [
           {
            "marker": {
             "pattern": {
              "fillmode": "overlay",
              "size": 10,
              "solidity": 0.2
             }
            },
            "type": "histogram"
           }
          ],
          "histogram2d": [
           {
            "colorbar": {
             "outlinewidth": 0,
             "ticks": ""
            },
            "colorscale": [
             [
              0,
              "#0d0887"
             ],
             [
              0.1111111111111111,
              "#46039f"
             ],
             [
              0.2222222222222222,
              "#7201a8"
             ],
             [
              0.3333333333333333,
              "#9c179e"
             ],
             [
              0.4444444444444444,
              "#bd3786"
             ],
             [
              0.5555555555555556,
              "#d8576b"
             ],
             [
              0.6666666666666666,
              "#ed7953"
             ],
             [
              0.7777777777777778,
              "#fb9f3a"
             ],
             [
              0.8888888888888888,
              "#fdca26"
             ],
             [
              1,
              "#f0f921"
             ]
            ],
            "type": "histogram2d"
           }
          ],
          "histogram2dcontour": [
           {
            "colorbar": {
             "outlinewidth": 0,
             "ticks": ""
            },
            "colorscale": [
             [
              0,
              "#0d0887"
             ],
             [
              0.1111111111111111,
              "#46039f"
             ],
             [
              0.2222222222222222,
              "#7201a8"
             ],
             [
              0.3333333333333333,
              "#9c179e"
             ],
             [
              0.4444444444444444,
              "#bd3786"
             ],
             [
              0.5555555555555556,
              "#d8576b"
             ],
             [
              0.6666666666666666,
              "#ed7953"
             ],
             [
              0.7777777777777778,
              "#fb9f3a"
             ],
             [
              0.8888888888888888,
              "#fdca26"
             ],
             [
              1,
              "#f0f921"
             ]
            ],
            "type": "histogram2dcontour"
           }
          ],
          "mesh3d": [
           {
            "colorbar": {
             "outlinewidth": 0,
             "ticks": ""
            },
            "type": "mesh3d"
           }
          ],
          "parcoords": [
           {
            "line": {
             "colorbar": {
              "outlinewidth": 0,
              "ticks": ""
             }
            },
            "type": "parcoords"
           }
          ],
          "pie": [
           {
            "automargin": true,
            "type": "pie"
           }
          ],
          "scatter": [
           {
            "marker": {
             "colorbar": {
              "outlinewidth": 0,
              "ticks": ""
             }
            },
            "type": "scatter"
           }
          ],
          "scatter3d": [
           {
            "line": {
             "colorbar": {
              "outlinewidth": 0,
              "ticks": ""
             }
            },
            "marker": {
             "colorbar": {
              "outlinewidth": 0,
              "ticks": ""
             }
            },
            "type": "scatter3d"
           }
          ],
          "scattercarpet": [
           {
            "marker": {
             "colorbar": {
              "outlinewidth": 0,
              "ticks": ""
             }
            },
            "type": "scattercarpet"
           }
          ],
          "scattergeo": [
           {
            "marker": {
             "colorbar": {
              "outlinewidth": 0,
              "ticks": ""
             }
            },
            "type": "scattergeo"
           }
          ],
          "scattergl": [
           {
            "marker": {
             "colorbar": {
              "outlinewidth": 0,
              "ticks": ""
             }
            },
            "type": "scattergl"
           }
          ],
          "scattermapbox": [
           {
            "marker": {
             "colorbar": {
              "outlinewidth": 0,
              "ticks": ""
             }
            },
            "type": "scattermapbox"
           }
          ],
          "scatterpolar": [
           {
            "marker": {
             "colorbar": {
              "outlinewidth": 0,
              "ticks": ""
             }
            },
            "type": "scatterpolar"
           }
          ],
          "scatterpolargl": [
           {
            "marker": {
             "colorbar": {
              "outlinewidth": 0,
              "ticks": ""
             }
            },
            "type": "scatterpolargl"
           }
          ],
          "scatterternary": [
           {
            "marker": {
             "colorbar": {
              "outlinewidth": 0,
              "ticks": ""
             }
            },
            "type": "scatterternary"
           }
          ],
          "surface": [
           {
            "colorbar": {
             "outlinewidth": 0,
             "ticks": ""
            },
            "colorscale": [
             [
              0,
              "#0d0887"
             ],
             [
              0.1111111111111111,
              "#46039f"
             ],
             [
              0.2222222222222222,
              "#7201a8"
             ],
             [
              0.3333333333333333,
              "#9c179e"
             ],
             [
              0.4444444444444444,
              "#bd3786"
             ],
             [
              0.5555555555555556,
              "#d8576b"
             ],
             [
              0.6666666666666666,
              "#ed7953"
             ],
             [
              0.7777777777777778,
              "#fb9f3a"
             ],
             [
              0.8888888888888888,
              "#fdca26"
             ],
             [
              1,
              "#f0f921"
             ]
            ],
            "type": "surface"
           }
          ],
          "table": [
           {
            "cells": {
             "fill": {
              "color": "#EBF0F8"
             },
             "line": {
              "color": "white"
             }
            },
            "header": {
             "fill": {
              "color": "#C8D4E3"
             },
             "line": {
              "color": "white"
             }
            },
            "type": "table"
           }
          ]
         },
         "layout": {
          "annotationdefaults": {
           "arrowcolor": "#2a3f5f",
           "arrowhead": 0,
           "arrowwidth": 1
          },
          "autotypenumbers": "strict",
          "coloraxis": {
           "colorbar": {
            "outlinewidth": 0,
            "ticks": ""
           }
          },
          "colorscale": {
           "diverging": [
            [
             0,
             "#8e0152"
            ],
            [
             0.1,
             "#c51b7d"
            ],
            [
             0.2,
             "#de77ae"
            ],
            [
             0.3,
             "#f1b6da"
            ],
            [
             0.4,
             "#fde0ef"
            ],
            [
             0.5,
             "#f7f7f7"
            ],
            [
             0.6,
             "#e6f5d0"
            ],
            [
             0.7,
             "#b8e186"
            ],
            [
             0.8,
             "#7fbc41"
            ],
            [
             0.9,
             "#4d9221"
            ],
            [
             1,
             "#276419"
            ]
           ],
           "sequential": [
            [
             0,
             "#0d0887"
            ],
            [
             0.1111111111111111,
             "#46039f"
            ],
            [
             0.2222222222222222,
             "#7201a8"
            ],
            [
             0.3333333333333333,
             "#9c179e"
            ],
            [
             0.4444444444444444,
             "#bd3786"
            ],
            [
             0.5555555555555556,
             "#d8576b"
            ],
            [
             0.6666666666666666,
             "#ed7953"
            ],
            [
             0.7777777777777778,
             "#fb9f3a"
            ],
            [
             0.8888888888888888,
             "#fdca26"
            ],
            [
             1,
             "#f0f921"
            ]
           ],
           "sequentialminus": [
            [
             0,
             "#0d0887"
            ],
            [
             0.1111111111111111,
             "#46039f"
            ],
            [
             0.2222222222222222,
             "#7201a8"
            ],
            [
             0.3333333333333333,
             "#9c179e"
            ],
            [
             0.4444444444444444,
             "#bd3786"
            ],
            [
             0.5555555555555556,
             "#d8576b"
            ],
            [
             0.6666666666666666,
             "#ed7953"
            ],
            [
             0.7777777777777778,
             "#fb9f3a"
            ],
            [
             0.8888888888888888,
             "#fdca26"
            ],
            [
             1,
             "#f0f921"
            ]
           ]
          },
          "colorway": [
           "#636efa",
           "#EF553B",
           "#00cc96",
           "#ab63fa",
           "#FFA15A",
           "#19d3f3",
           "#FF6692",
           "#B6E880",
           "#FF97FF",
           "#FECB52"
          ],
          "font": {
           "color": "#2a3f5f"
          },
          "geo": {
           "bgcolor": "white",
           "lakecolor": "white",
           "landcolor": "#E5ECF6",
           "showlakes": true,
           "showland": true,
           "subunitcolor": "white"
          },
          "hoverlabel": {
           "align": "left"
          },
          "hovermode": "closest",
          "mapbox": {
           "style": "light"
          },
          "paper_bgcolor": "white",
          "plot_bgcolor": "#E5ECF6",
          "polar": {
           "angularaxis": {
            "gridcolor": "white",
            "linecolor": "white",
            "ticks": ""
           },
           "bgcolor": "#E5ECF6",
           "radialaxis": {
            "gridcolor": "white",
            "linecolor": "white",
            "ticks": ""
           }
          },
          "scene": {
           "xaxis": {
            "backgroundcolor": "#E5ECF6",
            "gridcolor": "white",
            "gridwidth": 2,
            "linecolor": "white",
            "showbackground": true,
            "ticks": "",
            "zerolinecolor": "white"
           },
           "yaxis": {
            "backgroundcolor": "#E5ECF6",
            "gridcolor": "white",
            "gridwidth": 2,
            "linecolor": "white",
            "showbackground": true,
            "ticks": "",
            "zerolinecolor": "white"
           },
           "zaxis": {
            "backgroundcolor": "#E5ECF6",
            "gridcolor": "white",
            "gridwidth": 2,
            "linecolor": "white",
            "showbackground": true,
            "ticks": "",
            "zerolinecolor": "white"
           }
          },
          "shapedefaults": {
           "line": {
            "color": "#2a3f5f"
           }
          },
          "ternary": {
           "aaxis": {
            "gridcolor": "white",
            "linecolor": "white",
            "ticks": ""
           },
           "baxis": {
            "gridcolor": "white",
            "linecolor": "white",
            "ticks": ""
           },
           "bgcolor": "#E5ECF6",
           "caxis": {
            "gridcolor": "white",
            "linecolor": "white",
            "ticks": ""
           }
          },
          "title": {
           "x": 0.05
          },
          "xaxis": {
           "automargin": true,
           "gridcolor": "white",
           "linecolor": "white",
           "ticks": "",
           "title": {
            "standoff": 15
           },
           "zerolinecolor": "white",
           "zerolinewidth": 2
          },
          "yaxis": {
           "automargin": true,
           "gridcolor": "white",
           "linecolor": "white",
           "ticks": "",
           "title": {
            "standoff": 15
           },
           "zerolinecolor": "white",
           "zerolinewidth": 2
          }
         }
        }
       }
      },
      "text/html": [
       "<div>                            <div id=\"d8706972-c37d-4b7b-b3db-d907f75d7be1\" class=\"plotly-graph-div\" style=\"height:525px; width:100%;\"></div>            <script type=\"text/javascript\">                require([\"plotly\"], function(Plotly) {                    window.PLOTLYENV=window.PLOTLYENV || {};                                    if (document.getElementById(\"d8706972-c37d-4b7b-b3db-d907f75d7be1\")) {                    Plotly.newPlot(                        \"d8706972-c37d-4b7b-b3db-d907f75d7be1\",                        [{\"close\":[221.19,222.15,217.36,222.11,214.45,216.36,226.87,223.77,224.29,227.99,232.07,229.28,227.26,225.74,224.95,220.42,222.19,220.79,217.66,220.03,218.37,218.24,217.88,223.84,226.41,221.07,223.85,218.33,221.3,223.1],\"high\":[222.64,222.99,221.83,222.88,219.5,226.35,227.27,224.8,228.41,232.35,233.47,230.0,229.42,225.84,226.44,223.75,222.82,221.26,221.36,222.28,219.62,221.85,222.95,226.84,228.35,225.0,224.299,221.85,225.37,227.35],\"low\":[219.34,216.7627,217.27,216.84,212.32,216.05,222.2462,220.2,220.58,226.73,229.78,226.63,226.35,224.02,223.54,219.76,219.7,216.63,217.29,219.15,215.3,217.12,217.27,222.522,222.57,219.84,216.56,216.47,220.71,221.3],\"open\":[222.3,218.93,221.16,220.42,214.52,225.46,223.64,222.21,227.96,230.78,230.05,227.25,227.95,224.79,223.82,221.0,219.75,216.82,220.78,220.24,218.5,217.79,222.15,225.75,223.52,224.94,218.01,220.95,221.85,226.23],\"type\":\"ohlc\",\"x\":[\"2018-10-17T00:00:00\",\"2018-10-16T00:00:00\",\"2018-10-15T00:00:00\",\"2018-10-12T00:00:00\",\"2018-10-11T00:00:00\",\"2018-10-10T00:00:00\",\"2018-10-09T00:00:00\",\"2018-10-08T00:00:00\",\"2018-10-05T00:00:00\",\"2018-10-04T00:00:00\",\"2018-10-03T00:00:00\",\"2018-10-02T00:00:00\",\"2018-10-01T00:00:00\",\"2018-09-28T00:00:00\",\"2018-09-27T00:00:00\",\"2018-09-26T00:00:00\",\"2018-09-25T00:00:00\",\"2018-09-24T00:00:00\",\"2018-09-21T00:00:00\",\"2018-09-20T00:00:00\",\"2018-09-19T00:00:00\",\"2018-09-18T00:00:00\",\"2018-09-17T00:00:00\",\"2018-09-14T00:00:00\",\"2018-09-13T00:00:00\",\"2018-09-12T00:00:00\",\"2018-09-11T00:00:00\",\"2018-09-10T00:00:00\",\"2018-09-07T00:00:00\",\"2018-09-06T00:00:00\"]}],                        {\"template\":{\"data\":{\"bar\":[{\"error_x\":{\"color\":\"#2a3f5f\"},\"error_y\":{\"color\":\"#2a3f5f\"},\"marker\":{\"line\":{\"color\":\"#E5ECF6\",\"width\":0.5},\"pattern\":{\"fillmode\":\"overlay\",\"size\":10,\"solidity\":0.2}},\"type\":\"bar\"}],\"barpolar\":[{\"marker\":{\"line\":{\"color\":\"#E5ECF6\",\"width\":0.5},\"pattern\":{\"fillmode\":\"overlay\",\"size\":10,\"solidity\":0.2}},\"type\":\"barpolar\"}],\"carpet\":[{\"aaxis\":{\"endlinecolor\":\"#2a3f5f\",\"gridcolor\":\"white\",\"linecolor\":\"white\",\"minorgridcolor\":\"white\",\"startlinecolor\":\"#2a3f5f\"},\"baxis\":{\"endlinecolor\":\"#2a3f5f\",\"gridcolor\":\"white\",\"linecolor\":\"white\",\"minorgridcolor\":\"white\",\"startlinecolor\":\"#2a3f5f\"},\"type\":\"carpet\"}],\"choropleth\":[{\"colorbar\":{\"outlinewidth\":0,\"ticks\":\"\"},\"type\":\"choropleth\"}],\"contour\":[{\"colorbar\":{\"outlinewidth\":0,\"ticks\":\"\"},\"colorscale\":[[0.0,\"#0d0887\"],[0.1111111111111111,\"#46039f\"],[0.2222222222222222,\"#7201a8\"],[0.3333333333333333,\"#9c179e\"],[0.4444444444444444,\"#bd3786\"],[0.5555555555555556,\"#d8576b\"],[0.6666666666666666,\"#ed7953\"],[0.7777777777777778,\"#fb9f3a\"],[0.8888888888888888,\"#fdca26\"],[1.0,\"#f0f921\"]],\"type\":\"contour\"}],\"contourcarpet\":[{\"colorbar\":{\"outlinewidth\":0,\"ticks\":\"\"},\"type\":\"contourcarpet\"}],\"heatmap\":[{\"colorbar\":{\"outlinewidth\":0,\"ticks\":\"\"},\"colorscale\":[[0.0,\"#0d0887\"],[0.1111111111111111,\"#46039f\"],[0.2222222222222222,\"#7201a8\"],[0.3333333333333333,\"#9c179e\"],[0.4444444444444444,\"#bd3786\"],[0.5555555555555556,\"#d8576b\"],[0.6666666666666666,\"#ed7953\"],[0.7777777777777778,\"#fb9f3a\"],[0.8888888888888888,\"#fdca26\"],[1.0,\"#f0f921\"]],\"type\":\"heatmap\"}],\"heatmapgl\":[{\"colorbar\":{\"outlinewidth\":0,\"ticks\":\"\"},\"colorscale\":[[0.0,\"#0d0887\"],[0.1111111111111111,\"#46039f\"],[0.2222222222222222,\"#7201a8\"],[0.3333333333333333,\"#9c179e\"],[0.4444444444444444,\"#bd3786\"],[0.5555555555555556,\"#d8576b\"],[0.6666666666666666,\"#ed7953\"],[0.7777777777777778,\"#fb9f3a\"],[0.8888888888888888,\"#fdca26\"],[1.0,\"#f0f921\"]],\"type\":\"heatmapgl\"}],\"histogram\":[{\"marker\":{\"pattern\":{\"fillmode\":\"overlay\",\"size\":10,\"solidity\":0.2}},\"type\":\"histogram\"}],\"histogram2d\":[{\"colorbar\":{\"outlinewidth\":0,\"ticks\":\"\"},\"colorscale\":[[0.0,\"#0d0887\"],[0.1111111111111111,\"#46039f\"],[0.2222222222222222,\"#7201a8\"],[0.3333333333333333,\"#9c179e\"],[0.4444444444444444,\"#bd3786\"],[0.5555555555555556,\"#d8576b\"],[0.6666666666666666,\"#ed7953\"],[0.7777777777777778,\"#fb9f3a\"],[0.8888888888888888,\"#fdca26\"],[1.0,\"#f0f921\"]],\"type\":\"histogram2d\"}],\"histogram2dcontour\":[{\"colorbar\":{\"outlinewidth\":0,\"ticks\":\"\"},\"colorscale\":[[0.0,\"#0d0887\"],[0.1111111111111111,\"#46039f\"],[0.2222222222222222,\"#7201a8\"],[0.3333333333333333,\"#9c179e\"],[0.4444444444444444,\"#bd3786\"],[0.5555555555555556,\"#d8576b\"],[0.6666666666666666,\"#ed7953\"],[0.7777777777777778,\"#fb9f3a\"],[0.8888888888888888,\"#fdca26\"],[1.0,\"#f0f921\"]],\"type\":\"histogram2dcontour\"}],\"mesh3d\":[{\"colorbar\":{\"outlinewidth\":0,\"ticks\":\"\"},\"type\":\"mesh3d\"}],\"parcoords\":[{\"line\":{\"colorbar\":{\"outlinewidth\":0,\"ticks\":\"\"}},\"type\":\"parcoords\"}],\"pie\":[{\"automargin\":true,\"type\":\"pie\"}],\"scatter\":[{\"marker\":{\"colorbar\":{\"outlinewidth\":0,\"ticks\":\"\"}},\"type\":\"scatter\"}],\"scatter3d\":[{\"line\":{\"colorbar\":{\"outlinewidth\":0,\"ticks\":\"\"}},\"marker\":{\"colorbar\":{\"outlinewidth\":0,\"ticks\":\"\"}},\"type\":\"scatter3d\"}],\"scattercarpet\":[{\"marker\":{\"colorbar\":{\"outlinewidth\":0,\"ticks\":\"\"}},\"type\":\"scattercarpet\"}],\"scattergeo\":[{\"marker\":{\"colorbar\":{\"outlinewidth\":0,\"ticks\":\"\"}},\"type\":\"scattergeo\"}],\"scattergl\":[{\"marker\":{\"colorbar\":{\"outlinewidth\":0,\"ticks\":\"\"}},\"type\":\"scattergl\"}],\"scattermapbox\":[{\"marker\":{\"colorbar\":{\"outlinewidth\":0,\"ticks\":\"\"}},\"type\":\"scattermapbox\"}],\"scatterpolar\":[{\"marker\":{\"colorbar\":{\"outlinewidth\":0,\"ticks\":\"\"}},\"type\":\"scatterpolar\"}],\"scatterpolargl\":[{\"marker\":{\"colorbar\":{\"outlinewidth\":0,\"ticks\":\"\"}},\"type\":\"scatterpolargl\"}],\"scatterternary\":[{\"marker\":{\"colorbar\":{\"outlinewidth\":0,\"ticks\":\"\"}},\"type\":\"scatterternary\"}],\"surface\":[{\"colorbar\":{\"outlinewidth\":0,\"ticks\":\"\"},\"colorscale\":[[0.0,\"#0d0887\"],[0.1111111111111111,\"#46039f\"],[0.2222222222222222,\"#7201a8\"],[0.3333333333333333,\"#9c179e\"],[0.4444444444444444,\"#bd3786\"],[0.5555555555555556,\"#d8576b\"],[0.6666666666666666,\"#ed7953\"],[0.7777777777777778,\"#fb9f3a\"],[0.8888888888888888,\"#fdca26\"],[1.0,\"#f0f921\"]],\"type\":\"surface\"}],\"table\":[{\"cells\":{\"fill\":{\"color\":\"#EBF0F8\"},\"line\":{\"color\":\"white\"}},\"header\":{\"fill\":{\"color\":\"#C8D4E3\"},\"line\":{\"color\":\"white\"}},\"type\":\"table\"}]},\"layout\":{\"annotationdefaults\":{\"arrowcolor\":\"#2a3f5f\",\"arrowhead\":0,\"arrowwidth\":1},\"autotypenumbers\":\"strict\",\"coloraxis\":{\"colorbar\":{\"outlinewidth\":0,\"ticks\":\"\"}},\"colorscale\":{\"diverging\":[[0,\"#8e0152\"],[0.1,\"#c51b7d\"],[0.2,\"#de77ae\"],[0.3,\"#f1b6da\"],[0.4,\"#fde0ef\"],[0.5,\"#f7f7f7\"],[0.6,\"#e6f5d0\"],[0.7,\"#b8e186\"],[0.8,\"#7fbc41\"],[0.9,\"#4d9221\"],[1,\"#276419\"]],\"sequential\":[[0.0,\"#0d0887\"],[0.1111111111111111,\"#46039f\"],[0.2222222222222222,\"#7201a8\"],[0.3333333333333333,\"#9c179e\"],[0.4444444444444444,\"#bd3786\"],[0.5555555555555556,\"#d8576b\"],[0.6666666666666666,\"#ed7953\"],[0.7777777777777778,\"#fb9f3a\"],[0.8888888888888888,\"#fdca26\"],[1.0,\"#f0f921\"]],\"sequentialminus\":[[0.0,\"#0d0887\"],[0.1111111111111111,\"#46039f\"],[0.2222222222222222,\"#7201a8\"],[0.3333333333333333,\"#9c179e\"],[0.4444444444444444,\"#bd3786\"],[0.5555555555555556,\"#d8576b\"],[0.6666666666666666,\"#ed7953\"],[0.7777777777777778,\"#fb9f3a\"],[0.8888888888888888,\"#fdca26\"],[1.0,\"#f0f921\"]]},\"colorway\":[\"#636efa\",\"#EF553B\",\"#00cc96\",\"#ab63fa\",\"#FFA15A\",\"#19d3f3\",\"#FF6692\",\"#B6E880\",\"#FF97FF\",\"#FECB52\"],\"font\":{\"color\":\"#2a3f5f\"},\"geo\":{\"bgcolor\":\"white\",\"lakecolor\":\"white\",\"landcolor\":\"#E5ECF6\",\"showlakes\":true,\"showland\":true,\"subunitcolor\":\"white\"},\"hoverlabel\":{\"align\":\"left\"},\"hovermode\":\"closest\",\"mapbox\":{\"style\":\"light\"},\"paper_bgcolor\":\"white\",\"plot_bgcolor\":\"#E5ECF6\",\"polar\":{\"angularaxis\":{\"gridcolor\":\"white\",\"linecolor\":\"white\",\"ticks\":\"\"},\"bgcolor\":\"#E5ECF6\",\"radialaxis\":{\"gridcolor\":\"white\",\"linecolor\":\"white\",\"ticks\":\"\"}},\"scene\":{\"xaxis\":{\"backgroundcolor\":\"#E5ECF6\",\"gridcolor\":\"white\",\"gridwidth\":2,\"linecolor\":\"white\",\"showbackground\":true,\"ticks\":\"\",\"zerolinecolor\":\"white\"},\"yaxis\":{\"backgroundcolor\":\"#E5ECF6\",\"gridcolor\":\"white\",\"gridwidth\":2,\"linecolor\":\"white\",\"showbackground\":true,\"ticks\":\"\",\"zerolinecolor\":\"white\"},\"zaxis\":{\"backgroundcolor\":\"#E5ECF6\",\"gridcolor\":\"white\",\"gridwidth\":2,\"linecolor\":\"white\",\"showbackground\":true,\"ticks\":\"\",\"zerolinecolor\":\"white\"}},\"shapedefaults\":{\"line\":{\"color\":\"#2a3f5f\"}},\"ternary\":{\"aaxis\":{\"gridcolor\":\"white\",\"linecolor\":\"white\",\"ticks\":\"\"},\"baxis\":{\"gridcolor\":\"white\",\"linecolor\":\"white\",\"ticks\":\"\"},\"bgcolor\":\"#E5ECF6\",\"caxis\":{\"gridcolor\":\"white\",\"linecolor\":\"white\",\"ticks\":\"\"}},\"title\":{\"x\":0.05},\"xaxis\":{\"automargin\":true,\"gridcolor\":\"white\",\"linecolor\":\"white\",\"ticks\":\"\",\"title\":{\"standoff\":15},\"zerolinecolor\":\"white\",\"zerolinewidth\":2},\"yaxis\":{\"automargin\":true,\"gridcolor\":\"white\",\"linecolor\":\"white\",\"ticks\":\"\",\"title\":{\"standoff\":15},\"zerolinecolor\":\"white\",\"zerolinewidth\":2}}}},                        {\"responsive\": true}                    ).then(function(){\n",
       "                            \n",
       "var gd = document.getElementById('d8706972-c37d-4b7b-b3db-d907f75d7be1');\n",
       "var x = new MutationObserver(function (mutations, observer) {{\n",
       "        var display = window.getComputedStyle(gd).display;\n",
       "        if (!display || display === 'none') {{\n",
       "            console.log([gd, 'removed!']);\n",
       "            Plotly.purge(gd);\n",
       "            observer.disconnect();\n",
       "        }}\n",
       "}});\n",
       "\n",
       "// Listen for the removal of the full notebook cells\n",
       "var notebookContainer = gd.closest('#notebook-container');\n",
       "if (notebookContainer) {{\n",
       "    x.observe(notebookContainer, {childList: true});\n",
       "}}\n",
       "\n",
       "// Listen for the clearing of the current output cell\n",
       "var outputEl = gd.closest('.output');\n",
       "if (outputEl) {{\n",
       "    x.observe(outputEl, {childList: true});\n",
       "}}\n",
       "\n",
       "                        })                };                });            </script>        </div>"
      ]
     },
     "metadata": {}
    }
   ],
   "metadata": {}
  },
  {
   "cell_type": "code",
   "execution_count": 21,
   "source": [
    "df30=appl_df.head(30)\n",
    "\n",
    "trace=go.Candlestick(\n",
    "    x=df30.index,\n",
    "    open=df30.open,\n",
    "    high=df30.high,\n",
    "    low=df30.low,\n",
    "    close=df30.close\n",
    ")\n",
    "\n",
    "plotly.offline.iplot([trace])"
   ],
   "outputs": [
    {
     "output_type": "display_data",
     "data": {
      "application/vnd.plotly.v1+json": {
       "config": {
        "linkText": "Export to plot.ly",
        "plotlyServerURL": "https://plot.ly",
        "showLink": false
       },
       "data": [
        {
         "close": [
          221.19,
          222.15,
          217.36,
          222.11,
          214.45,
          216.36,
          226.87,
          223.77,
          224.29,
          227.99,
          232.07,
          229.28,
          227.26,
          225.74,
          224.95,
          220.42,
          222.19,
          220.79,
          217.66,
          220.03,
          218.37,
          218.24,
          217.88,
          223.84,
          226.41,
          221.07,
          223.85,
          218.33,
          221.3,
          223.1
         ],
         "high": [
          222.64,
          222.99,
          221.83,
          222.88,
          219.5,
          226.35,
          227.27,
          224.8,
          228.41,
          232.35,
          233.47,
          230,
          229.42,
          225.84,
          226.44,
          223.75,
          222.82,
          221.26,
          221.36,
          222.28,
          219.62,
          221.85,
          222.95,
          226.84,
          228.35,
          225,
          224.299,
          221.85,
          225.37,
          227.35
         ],
         "low": [
          219.34,
          216.7627,
          217.27,
          216.84,
          212.32,
          216.05,
          222.2462,
          220.2,
          220.58,
          226.73,
          229.78,
          226.63,
          226.35,
          224.02,
          223.54,
          219.76,
          219.7,
          216.63,
          217.29,
          219.15,
          215.3,
          217.12,
          217.27,
          222.522,
          222.57,
          219.84,
          216.56,
          216.47,
          220.71,
          221.3
         ],
         "open": [
          222.3,
          218.93,
          221.16,
          220.42,
          214.52,
          225.46,
          223.64,
          222.21,
          227.96,
          230.78,
          230.05,
          227.25,
          227.95,
          224.79,
          223.82,
          221,
          219.75,
          216.82,
          220.78,
          220.24,
          218.5,
          217.79,
          222.15,
          225.75,
          223.52,
          224.94,
          218.01,
          220.95,
          221.85,
          226.23
         ],
         "type": "candlestick",
         "x": [
          "2018-10-17T00:00:00",
          "2018-10-16T00:00:00",
          "2018-10-15T00:00:00",
          "2018-10-12T00:00:00",
          "2018-10-11T00:00:00",
          "2018-10-10T00:00:00",
          "2018-10-09T00:00:00",
          "2018-10-08T00:00:00",
          "2018-10-05T00:00:00",
          "2018-10-04T00:00:00",
          "2018-10-03T00:00:00",
          "2018-10-02T00:00:00",
          "2018-10-01T00:00:00",
          "2018-09-28T00:00:00",
          "2018-09-27T00:00:00",
          "2018-09-26T00:00:00",
          "2018-09-25T00:00:00",
          "2018-09-24T00:00:00",
          "2018-09-21T00:00:00",
          "2018-09-20T00:00:00",
          "2018-09-19T00:00:00",
          "2018-09-18T00:00:00",
          "2018-09-17T00:00:00",
          "2018-09-14T00:00:00",
          "2018-09-13T00:00:00",
          "2018-09-12T00:00:00",
          "2018-09-11T00:00:00",
          "2018-09-10T00:00:00",
          "2018-09-07T00:00:00",
          "2018-09-06T00:00:00"
         ]
        }
       ],
       "layout": {
        "template": {
         "data": {
          "bar": [
           {
            "error_x": {
             "color": "#2a3f5f"
            },
            "error_y": {
             "color": "#2a3f5f"
            },
            "marker": {
             "line": {
              "color": "#E5ECF6",
              "width": 0.5
             },
             "pattern": {
              "fillmode": "overlay",
              "size": 10,
              "solidity": 0.2
             }
            },
            "type": "bar"
           }
          ],
          "barpolar": [
           {
            "marker": {
             "line": {
              "color": "#E5ECF6",
              "width": 0.5
             },
             "pattern": {
              "fillmode": "overlay",
              "size": 10,
              "solidity": 0.2
             }
            },
            "type": "barpolar"
           }
          ],
          "carpet": [
           {
            "aaxis": {
             "endlinecolor": "#2a3f5f",
             "gridcolor": "white",
             "linecolor": "white",
             "minorgridcolor": "white",
             "startlinecolor": "#2a3f5f"
            },
            "baxis": {
             "endlinecolor": "#2a3f5f",
             "gridcolor": "white",
             "linecolor": "white",
             "minorgridcolor": "white",
             "startlinecolor": "#2a3f5f"
            },
            "type": "carpet"
           }
          ],
          "choropleth": [
           {
            "colorbar": {
             "outlinewidth": 0,
             "ticks": ""
            },
            "type": "choropleth"
           }
          ],
          "contour": [
           {
            "colorbar": {
             "outlinewidth": 0,
             "ticks": ""
            },
            "colorscale": [
             [
              0,
              "#0d0887"
             ],
             [
              0.1111111111111111,
              "#46039f"
             ],
             [
              0.2222222222222222,
              "#7201a8"
             ],
             [
              0.3333333333333333,
              "#9c179e"
             ],
             [
              0.4444444444444444,
              "#bd3786"
             ],
             [
              0.5555555555555556,
              "#d8576b"
             ],
             [
              0.6666666666666666,
              "#ed7953"
             ],
             [
              0.7777777777777778,
              "#fb9f3a"
             ],
             [
              0.8888888888888888,
              "#fdca26"
             ],
             [
              1,
              "#f0f921"
             ]
            ],
            "type": "contour"
           }
          ],
          "contourcarpet": [
           {
            "colorbar": {
             "outlinewidth": 0,
             "ticks": ""
            },
            "type": "contourcarpet"
           }
          ],
          "heatmap": [
           {
            "colorbar": {
             "outlinewidth": 0,
             "ticks": ""
            },
            "colorscale": [
             [
              0,
              "#0d0887"
             ],
             [
              0.1111111111111111,
              "#46039f"
             ],
             [
              0.2222222222222222,
              "#7201a8"
             ],
             [
              0.3333333333333333,
              "#9c179e"
             ],
             [
              0.4444444444444444,
              "#bd3786"
             ],
             [
              0.5555555555555556,
              "#d8576b"
             ],
             [
              0.6666666666666666,
              "#ed7953"
             ],
             [
              0.7777777777777778,
              "#fb9f3a"
             ],
             [
              0.8888888888888888,
              "#fdca26"
             ],
             [
              1,
              "#f0f921"
             ]
            ],
            "type": "heatmap"
           }
          ],
          "heatmapgl": [
           {
            "colorbar": {
             "outlinewidth": 0,
             "ticks": ""
            },
            "colorscale": [
             [
              0,
              "#0d0887"
             ],
             [
              0.1111111111111111,
              "#46039f"
             ],
             [
              0.2222222222222222,
              "#7201a8"
             ],
             [
              0.3333333333333333,
              "#9c179e"
             ],
             [
              0.4444444444444444,
              "#bd3786"
             ],
             [
              0.5555555555555556,
              "#d8576b"
             ],
             [
              0.6666666666666666,
              "#ed7953"
             ],
             [
              0.7777777777777778,
              "#fb9f3a"
             ],
             [
              0.8888888888888888,
              "#fdca26"
             ],
             [
              1,
              "#f0f921"
             ]
            ],
            "type": "heatmapgl"
           }
          ],
          "histogram": [
           {
            "marker": {
             "pattern": {
              "fillmode": "overlay",
              "size": 10,
              "solidity": 0.2
             }
            },
            "type": "histogram"
           }
          ],
          "histogram2d": [
           {
            "colorbar": {
             "outlinewidth": 0,
             "ticks": ""
            },
            "colorscale": [
             [
              0,
              "#0d0887"
             ],
             [
              0.1111111111111111,
              "#46039f"
             ],
             [
              0.2222222222222222,
              "#7201a8"
             ],
             [
              0.3333333333333333,
              "#9c179e"
             ],
             [
              0.4444444444444444,
              "#bd3786"
             ],
             [
              0.5555555555555556,
              "#d8576b"
             ],
             [
              0.6666666666666666,
              "#ed7953"
             ],
             [
              0.7777777777777778,
              "#fb9f3a"
             ],
             [
              0.8888888888888888,
              "#fdca26"
             ],
             [
              1,
              "#f0f921"
             ]
            ],
            "type": "histogram2d"
           }
          ],
          "histogram2dcontour": [
           {
            "colorbar": {
             "outlinewidth": 0,
             "ticks": ""
            },
            "colorscale": [
             [
              0,
              "#0d0887"
             ],
             [
              0.1111111111111111,
              "#46039f"
             ],
             [
              0.2222222222222222,
              "#7201a8"
             ],
             [
              0.3333333333333333,
              "#9c179e"
             ],
             [
              0.4444444444444444,
              "#bd3786"
             ],
             [
              0.5555555555555556,
              "#d8576b"
             ],
             [
              0.6666666666666666,
              "#ed7953"
             ],
             [
              0.7777777777777778,
              "#fb9f3a"
             ],
             [
              0.8888888888888888,
              "#fdca26"
             ],
             [
              1,
              "#f0f921"
             ]
            ],
            "type": "histogram2dcontour"
           }
          ],
          "mesh3d": [
           {
            "colorbar": {
             "outlinewidth": 0,
             "ticks": ""
            },
            "type": "mesh3d"
           }
          ],
          "parcoords": [
           {
            "line": {
             "colorbar": {
              "outlinewidth": 0,
              "ticks": ""
             }
            },
            "type": "parcoords"
           }
          ],
          "pie": [
           {
            "automargin": true,
            "type": "pie"
           }
          ],
          "scatter": [
           {
            "marker": {
             "colorbar": {
              "outlinewidth": 0,
              "ticks": ""
             }
            },
            "type": "scatter"
           }
          ],
          "scatter3d": [
           {
            "line": {
             "colorbar": {
              "outlinewidth": 0,
              "ticks": ""
             }
            },
            "marker": {
             "colorbar": {
              "outlinewidth": 0,
              "ticks": ""
             }
            },
            "type": "scatter3d"
           }
          ],
          "scattercarpet": [
           {
            "marker": {
             "colorbar": {
              "outlinewidth": 0,
              "ticks": ""
             }
            },
            "type": "scattercarpet"
           }
          ],
          "scattergeo": [
           {
            "marker": {
             "colorbar": {
              "outlinewidth": 0,
              "ticks": ""
             }
            },
            "type": "scattergeo"
           }
          ],
          "scattergl": [
           {
            "marker": {
             "colorbar": {
              "outlinewidth": 0,
              "ticks": ""
             }
            },
            "type": "scattergl"
           }
          ],
          "scattermapbox": [
           {
            "marker": {
             "colorbar": {
              "outlinewidth": 0,
              "ticks": ""
             }
            },
            "type": "scattermapbox"
           }
          ],
          "scatterpolar": [
           {
            "marker": {
             "colorbar": {
              "outlinewidth": 0,
              "ticks": ""
             }
            },
            "type": "scatterpolar"
           }
          ],
          "scatterpolargl": [
           {
            "marker": {
             "colorbar": {
              "outlinewidth": 0,
              "ticks": ""
             }
            },
            "type": "scatterpolargl"
           }
          ],
          "scatterternary": [
           {
            "marker": {
             "colorbar": {
              "outlinewidth": 0,
              "ticks": ""
             }
            },
            "type": "scatterternary"
           }
          ],
          "surface": [
           {
            "colorbar": {
             "outlinewidth": 0,
             "ticks": ""
            },
            "colorscale": [
             [
              0,
              "#0d0887"
             ],
             [
              0.1111111111111111,
              "#46039f"
             ],
             [
              0.2222222222222222,
              "#7201a8"
             ],
             [
              0.3333333333333333,
              "#9c179e"
             ],
             [
              0.4444444444444444,
              "#bd3786"
             ],
             [
              0.5555555555555556,
              "#d8576b"
             ],
             [
              0.6666666666666666,
              "#ed7953"
             ],
             [
              0.7777777777777778,
              "#fb9f3a"
             ],
             [
              0.8888888888888888,
              "#fdca26"
             ],
             [
              1,
              "#f0f921"
             ]
            ],
            "type": "surface"
           }
          ],
          "table": [
           {
            "cells": {
             "fill": {
              "color": "#EBF0F8"
             },
             "line": {
              "color": "white"
             }
            },
            "header": {
             "fill": {
              "color": "#C8D4E3"
             },
             "line": {
              "color": "white"
             }
            },
            "type": "table"
           }
          ]
         },
         "layout": {
          "annotationdefaults": {
           "arrowcolor": "#2a3f5f",
           "arrowhead": 0,
           "arrowwidth": 1
          },
          "autotypenumbers": "strict",
          "coloraxis": {
           "colorbar": {
            "outlinewidth": 0,
            "ticks": ""
           }
          },
          "colorscale": {
           "diverging": [
            [
             0,
             "#8e0152"
            ],
            [
             0.1,
             "#c51b7d"
            ],
            [
             0.2,
             "#de77ae"
            ],
            [
             0.3,
             "#f1b6da"
            ],
            [
             0.4,
             "#fde0ef"
            ],
            [
             0.5,
             "#f7f7f7"
            ],
            [
             0.6,
             "#e6f5d0"
            ],
            [
             0.7,
             "#b8e186"
            ],
            [
             0.8,
             "#7fbc41"
            ],
            [
             0.9,
             "#4d9221"
            ],
            [
             1,
             "#276419"
            ]
           ],
           "sequential": [
            [
             0,
             "#0d0887"
            ],
            [
             0.1111111111111111,
             "#46039f"
            ],
            [
             0.2222222222222222,
             "#7201a8"
            ],
            [
             0.3333333333333333,
             "#9c179e"
            ],
            [
             0.4444444444444444,
             "#bd3786"
            ],
            [
             0.5555555555555556,
             "#d8576b"
            ],
            [
             0.6666666666666666,
             "#ed7953"
            ],
            [
             0.7777777777777778,
             "#fb9f3a"
            ],
            [
             0.8888888888888888,
             "#fdca26"
            ],
            [
             1,
             "#f0f921"
            ]
           ],
           "sequentialminus": [
            [
             0,
             "#0d0887"
            ],
            [
             0.1111111111111111,
             "#46039f"
            ],
            [
             0.2222222222222222,
             "#7201a8"
            ],
            [
             0.3333333333333333,
             "#9c179e"
            ],
            [
             0.4444444444444444,
             "#bd3786"
            ],
            [
             0.5555555555555556,
             "#d8576b"
            ],
            [
             0.6666666666666666,
             "#ed7953"
            ],
            [
             0.7777777777777778,
             "#fb9f3a"
            ],
            [
             0.8888888888888888,
             "#fdca26"
            ],
            [
             1,
             "#f0f921"
            ]
           ]
          },
          "colorway": [
           "#636efa",
           "#EF553B",
           "#00cc96",
           "#ab63fa",
           "#FFA15A",
           "#19d3f3",
           "#FF6692",
           "#B6E880",
           "#FF97FF",
           "#FECB52"
          ],
          "font": {
           "color": "#2a3f5f"
          },
          "geo": {
           "bgcolor": "white",
           "lakecolor": "white",
           "landcolor": "#E5ECF6",
           "showlakes": true,
           "showland": true,
           "subunitcolor": "white"
          },
          "hoverlabel": {
           "align": "left"
          },
          "hovermode": "closest",
          "mapbox": {
           "style": "light"
          },
          "paper_bgcolor": "white",
          "plot_bgcolor": "#E5ECF6",
          "polar": {
           "angularaxis": {
            "gridcolor": "white",
            "linecolor": "white",
            "ticks": ""
           },
           "bgcolor": "#E5ECF6",
           "radialaxis": {
            "gridcolor": "white",
            "linecolor": "white",
            "ticks": ""
           }
          },
          "scene": {
           "xaxis": {
            "backgroundcolor": "#E5ECF6",
            "gridcolor": "white",
            "gridwidth": 2,
            "linecolor": "white",
            "showbackground": true,
            "ticks": "",
            "zerolinecolor": "white"
           },
           "yaxis": {
            "backgroundcolor": "#E5ECF6",
            "gridcolor": "white",
            "gridwidth": 2,
            "linecolor": "white",
            "showbackground": true,
            "ticks": "",
            "zerolinecolor": "white"
           },
           "zaxis": {
            "backgroundcolor": "#E5ECF6",
            "gridcolor": "white",
            "gridwidth": 2,
            "linecolor": "white",
            "showbackground": true,
            "ticks": "",
            "zerolinecolor": "white"
           }
          },
          "shapedefaults": {
           "line": {
            "color": "#2a3f5f"
           }
          },
          "ternary": {
           "aaxis": {
            "gridcolor": "white",
            "linecolor": "white",
            "ticks": ""
           },
           "baxis": {
            "gridcolor": "white",
            "linecolor": "white",
            "ticks": ""
           },
           "bgcolor": "#E5ECF6",
           "caxis": {
            "gridcolor": "white",
            "linecolor": "white",
            "ticks": ""
           }
          },
          "title": {
           "x": 0.05
          },
          "xaxis": {
           "automargin": true,
           "gridcolor": "white",
           "linecolor": "white",
           "ticks": "",
           "title": {
            "standoff": 15
           },
           "zerolinecolor": "white",
           "zerolinewidth": 2
          },
          "yaxis": {
           "automargin": true,
           "gridcolor": "white",
           "linecolor": "white",
           "ticks": "",
           "title": {
            "standoff": 15
           },
           "zerolinecolor": "white",
           "zerolinewidth": 2
          }
         }
        }
       }
      },
      "text/html": [
       "<div>                            <div id=\"f9c3ec28-bb70-4d29-b318-fee153f23d87\" class=\"plotly-graph-div\" style=\"height:525px; width:100%;\"></div>            <script type=\"text/javascript\">                require([\"plotly\"], function(Plotly) {                    window.PLOTLYENV=window.PLOTLYENV || {};                                    if (document.getElementById(\"f9c3ec28-bb70-4d29-b318-fee153f23d87\")) {                    Plotly.newPlot(                        \"f9c3ec28-bb70-4d29-b318-fee153f23d87\",                        [{\"close\":[221.19,222.15,217.36,222.11,214.45,216.36,226.87,223.77,224.29,227.99,232.07,229.28,227.26,225.74,224.95,220.42,222.19,220.79,217.66,220.03,218.37,218.24,217.88,223.84,226.41,221.07,223.85,218.33,221.3,223.1],\"high\":[222.64,222.99,221.83,222.88,219.5,226.35,227.27,224.8,228.41,232.35,233.47,230.0,229.42,225.84,226.44,223.75,222.82,221.26,221.36,222.28,219.62,221.85,222.95,226.84,228.35,225.0,224.299,221.85,225.37,227.35],\"low\":[219.34,216.7627,217.27,216.84,212.32,216.05,222.2462,220.2,220.58,226.73,229.78,226.63,226.35,224.02,223.54,219.76,219.7,216.63,217.29,219.15,215.3,217.12,217.27,222.522,222.57,219.84,216.56,216.47,220.71,221.3],\"open\":[222.3,218.93,221.16,220.42,214.52,225.46,223.64,222.21,227.96,230.78,230.05,227.25,227.95,224.79,223.82,221.0,219.75,216.82,220.78,220.24,218.5,217.79,222.15,225.75,223.52,224.94,218.01,220.95,221.85,226.23],\"type\":\"candlestick\",\"x\":[\"2018-10-17T00:00:00\",\"2018-10-16T00:00:00\",\"2018-10-15T00:00:00\",\"2018-10-12T00:00:00\",\"2018-10-11T00:00:00\",\"2018-10-10T00:00:00\",\"2018-10-09T00:00:00\",\"2018-10-08T00:00:00\",\"2018-10-05T00:00:00\",\"2018-10-04T00:00:00\",\"2018-10-03T00:00:00\",\"2018-10-02T00:00:00\",\"2018-10-01T00:00:00\",\"2018-09-28T00:00:00\",\"2018-09-27T00:00:00\",\"2018-09-26T00:00:00\",\"2018-09-25T00:00:00\",\"2018-09-24T00:00:00\",\"2018-09-21T00:00:00\",\"2018-09-20T00:00:00\",\"2018-09-19T00:00:00\",\"2018-09-18T00:00:00\",\"2018-09-17T00:00:00\",\"2018-09-14T00:00:00\",\"2018-09-13T00:00:00\",\"2018-09-12T00:00:00\",\"2018-09-11T00:00:00\",\"2018-09-10T00:00:00\",\"2018-09-07T00:00:00\",\"2018-09-06T00:00:00\"]}],                        {\"template\":{\"data\":{\"bar\":[{\"error_x\":{\"color\":\"#2a3f5f\"},\"error_y\":{\"color\":\"#2a3f5f\"},\"marker\":{\"line\":{\"color\":\"#E5ECF6\",\"width\":0.5},\"pattern\":{\"fillmode\":\"overlay\",\"size\":10,\"solidity\":0.2}},\"type\":\"bar\"}],\"barpolar\":[{\"marker\":{\"line\":{\"color\":\"#E5ECF6\",\"width\":0.5},\"pattern\":{\"fillmode\":\"overlay\",\"size\":10,\"solidity\":0.2}},\"type\":\"barpolar\"}],\"carpet\":[{\"aaxis\":{\"endlinecolor\":\"#2a3f5f\",\"gridcolor\":\"white\",\"linecolor\":\"white\",\"minorgridcolor\":\"white\",\"startlinecolor\":\"#2a3f5f\"},\"baxis\":{\"endlinecolor\":\"#2a3f5f\",\"gridcolor\":\"white\",\"linecolor\":\"white\",\"minorgridcolor\":\"white\",\"startlinecolor\":\"#2a3f5f\"},\"type\":\"carpet\"}],\"choropleth\":[{\"colorbar\":{\"outlinewidth\":0,\"ticks\":\"\"},\"type\":\"choropleth\"}],\"contour\":[{\"colorbar\":{\"outlinewidth\":0,\"ticks\":\"\"},\"colorscale\":[[0.0,\"#0d0887\"],[0.1111111111111111,\"#46039f\"],[0.2222222222222222,\"#7201a8\"],[0.3333333333333333,\"#9c179e\"],[0.4444444444444444,\"#bd3786\"],[0.5555555555555556,\"#d8576b\"],[0.6666666666666666,\"#ed7953\"],[0.7777777777777778,\"#fb9f3a\"],[0.8888888888888888,\"#fdca26\"],[1.0,\"#f0f921\"]],\"type\":\"contour\"}],\"contourcarpet\":[{\"colorbar\":{\"outlinewidth\":0,\"ticks\":\"\"},\"type\":\"contourcarpet\"}],\"heatmap\":[{\"colorbar\":{\"outlinewidth\":0,\"ticks\":\"\"},\"colorscale\":[[0.0,\"#0d0887\"],[0.1111111111111111,\"#46039f\"],[0.2222222222222222,\"#7201a8\"],[0.3333333333333333,\"#9c179e\"],[0.4444444444444444,\"#bd3786\"],[0.5555555555555556,\"#d8576b\"],[0.6666666666666666,\"#ed7953\"],[0.7777777777777778,\"#fb9f3a\"],[0.8888888888888888,\"#fdca26\"],[1.0,\"#f0f921\"]],\"type\":\"heatmap\"}],\"heatmapgl\":[{\"colorbar\":{\"outlinewidth\":0,\"ticks\":\"\"},\"colorscale\":[[0.0,\"#0d0887\"],[0.1111111111111111,\"#46039f\"],[0.2222222222222222,\"#7201a8\"],[0.3333333333333333,\"#9c179e\"],[0.4444444444444444,\"#bd3786\"],[0.5555555555555556,\"#d8576b\"],[0.6666666666666666,\"#ed7953\"],[0.7777777777777778,\"#fb9f3a\"],[0.8888888888888888,\"#fdca26\"],[1.0,\"#f0f921\"]],\"type\":\"heatmapgl\"}],\"histogram\":[{\"marker\":{\"pattern\":{\"fillmode\":\"overlay\",\"size\":10,\"solidity\":0.2}},\"type\":\"histogram\"}],\"histogram2d\":[{\"colorbar\":{\"outlinewidth\":0,\"ticks\":\"\"},\"colorscale\":[[0.0,\"#0d0887\"],[0.1111111111111111,\"#46039f\"],[0.2222222222222222,\"#7201a8\"],[0.3333333333333333,\"#9c179e\"],[0.4444444444444444,\"#bd3786\"],[0.5555555555555556,\"#d8576b\"],[0.6666666666666666,\"#ed7953\"],[0.7777777777777778,\"#fb9f3a\"],[0.8888888888888888,\"#fdca26\"],[1.0,\"#f0f921\"]],\"type\":\"histogram2d\"}],\"histogram2dcontour\":[{\"colorbar\":{\"outlinewidth\":0,\"ticks\":\"\"},\"colorscale\":[[0.0,\"#0d0887\"],[0.1111111111111111,\"#46039f\"],[0.2222222222222222,\"#7201a8\"],[0.3333333333333333,\"#9c179e\"],[0.4444444444444444,\"#bd3786\"],[0.5555555555555556,\"#d8576b\"],[0.6666666666666666,\"#ed7953\"],[0.7777777777777778,\"#fb9f3a\"],[0.8888888888888888,\"#fdca26\"],[1.0,\"#f0f921\"]],\"type\":\"histogram2dcontour\"}],\"mesh3d\":[{\"colorbar\":{\"outlinewidth\":0,\"ticks\":\"\"},\"type\":\"mesh3d\"}],\"parcoords\":[{\"line\":{\"colorbar\":{\"outlinewidth\":0,\"ticks\":\"\"}},\"type\":\"parcoords\"}],\"pie\":[{\"automargin\":true,\"type\":\"pie\"}],\"scatter\":[{\"marker\":{\"colorbar\":{\"outlinewidth\":0,\"ticks\":\"\"}},\"type\":\"scatter\"}],\"scatter3d\":[{\"line\":{\"colorbar\":{\"outlinewidth\":0,\"ticks\":\"\"}},\"marker\":{\"colorbar\":{\"outlinewidth\":0,\"ticks\":\"\"}},\"type\":\"scatter3d\"}],\"scattercarpet\":[{\"marker\":{\"colorbar\":{\"outlinewidth\":0,\"ticks\":\"\"}},\"type\":\"scattercarpet\"}],\"scattergeo\":[{\"marker\":{\"colorbar\":{\"outlinewidth\":0,\"ticks\":\"\"}},\"type\":\"scattergeo\"}],\"scattergl\":[{\"marker\":{\"colorbar\":{\"outlinewidth\":0,\"ticks\":\"\"}},\"type\":\"scattergl\"}],\"scattermapbox\":[{\"marker\":{\"colorbar\":{\"outlinewidth\":0,\"ticks\":\"\"}},\"type\":\"scattermapbox\"}],\"scatterpolar\":[{\"marker\":{\"colorbar\":{\"outlinewidth\":0,\"ticks\":\"\"}},\"type\":\"scatterpolar\"}],\"scatterpolargl\":[{\"marker\":{\"colorbar\":{\"outlinewidth\":0,\"ticks\":\"\"}},\"type\":\"scatterpolargl\"}],\"scatterternary\":[{\"marker\":{\"colorbar\":{\"outlinewidth\":0,\"ticks\":\"\"}},\"type\":\"scatterternary\"}],\"surface\":[{\"colorbar\":{\"outlinewidth\":0,\"ticks\":\"\"},\"colorscale\":[[0.0,\"#0d0887\"],[0.1111111111111111,\"#46039f\"],[0.2222222222222222,\"#7201a8\"],[0.3333333333333333,\"#9c179e\"],[0.4444444444444444,\"#bd3786\"],[0.5555555555555556,\"#d8576b\"],[0.6666666666666666,\"#ed7953\"],[0.7777777777777778,\"#fb9f3a\"],[0.8888888888888888,\"#fdca26\"],[1.0,\"#f0f921\"]],\"type\":\"surface\"}],\"table\":[{\"cells\":{\"fill\":{\"color\":\"#EBF0F8\"},\"line\":{\"color\":\"white\"}},\"header\":{\"fill\":{\"color\":\"#C8D4E3\"},\"line\":{\"color\":\"white\"}},\"type\":\"table\"}]},\"layout\":{\"annotationdefaults\":{\"arrowcolor\":\"#2a3f5f\",\"arrowhead\":0,\"arrowwidth\":1},\"autotypenumbers\":\"strict\",\"coloraxis\":{\"colorbar\":{\"outlinewidth\":0,\"ticks\":\"\"}},\"colorscale\":{\"diverging\":[[0,\"#8e0152\"],[0.1,\"#c51b7d\"],[0.2,\"#de77ae\"],[0.3,\"#f1b6da\"],[0.4,\"#fde0ef\"],[0.5,\"#f7f7f7\"],[0.6,\"#e6f5d0\"],[0.7,\"#b8e186\"],[0.8,\"#7fbc41\"],[0.9,\"#4d9221\"],[1,\"#276419\"]],\"sequential\":[[0.0,\"#0d0887\"],[0.1111111111111111,\"#46039f\"],[0.2222222222222222,\"#7201a8\"],[0.3333333333333333,\"#9c179e\"],[0.4444444444444444,\"#bd3786\"],[0.5555555555555556,\"#d8576b\"],[0.6666666666666666,\"#ed7953\"],[0.7777777777777778,\"#fb9f3a\"],[0.8888888888888888,\"#fdca26\"],[1.0,\"#f0f921\"]],\"sequentialminus\":[[0.0,\"#0d0887\"],[0.1111111111111111,\"#46039f\"],[0.2222222222222222,\"#7201a8\"],[0.3333333333333333,\"#9c179e\"],[0.4444444444444444,\"#bd3786\"],[0.5555555555555556,\"#d8576b\"],[0.6666666666666666,\"#ed7953\"],[0.7777777777777778,\"#fb9f3a\"],[0.8888888888888888,\"#fdca26\"],[1.0,\"#f0f921\"]]},\"colorway\":[\"#636efa\",\"#EF553B\",\"#00cc96\",\"#ab63fa\",\"#FFA15A\",\"#19d3f3\",\"#FF6692\",\"#B6E880\",\"#FF97FF\",\"#FECB52\"],\"font\":{\"color\":\"#2a3f5f\"},\"geo\":{\"bgcolor\":\"white\",\"lakecolor\":\"white\",\"landcolor\":\"#E5ECF6\",\"showlakes\":true,\"showland\":true,\"subunitcolor\":\"white\"},\"hoverlabel\":{\"align\":\"left\"},\"hovermode\":\"closest\",\"mapbox\":{\"style\":\"light\"},\"paper_bgcolor\":\"white\",\"plot_bgcolor\":\"#E5ECF6\",\"polar\":{\"angularaxis\":{\"gridcolor\":\"white\",\"linecolor\":\"white\",\"ticks\":\"\"},\"bgcolor\":\"#E5ECF6\",\"radialaxis\":{\"gridcolor\":\"white\",\"linecolor\":\"white\",\"ticks\":\"\"}},\"scene\":{\"xaxis\":{\"backgroundcolor\":\"#E5ECF6\",\"gridcolor\":\"white\",\"gridwidth\":2,\"linecolor\":\"white\",\"showbackground\":true,\"ticks\":\"\",\"zerolinecolor\":\"white\"},\"yaxis\":{\"backgroundcolor\":\"#E5ECF6\",\"gridcolor\":\"white\",\"gridwidth\":2,\"linecolor\":\"white\",\"showbackground\":true,\"ticks\":\"\",\"zerolinecolor\":\"white\"},\"zaxis\":{\"backgroundcolor\":\"#E5ECF6\",\"gridcolor\":\"white\",\"gridwidth\":2,\"linecolor\":\"white\",\"showbackground\":true,\"ticks\":\"\",\"zerolinecolor\":\"white\"}},\"shapedefaults\":{\"line\":{\"color\":\"#2a3f5f\"}},\"ternary\":{\"aaxis\":{\"gridcolor\":\"white\",\"linecolor\":\"white\",\"ticks\":\"\"},\"baxis\":{\"gridcolor\":\"white\",\"linecolor\":\"white\",\"ticks\":\"\"},\"bgcolor\":\"#E5ECF6\",\"caxis\":{\"gridcolor\":\"white\",\"linecolor\":\"white\",\"ticks\":\"\"}},\"title\":{\"x\":0.05},\"xaxis\":{\"automargin\":true,\"gridcolor\":\"white\",\"linecolor\":\"white\",\"ticks\":\"\",\"title\":{\"standoff\":15},\"zerolinecolor\":\"white\",\"zerolinewidth\":2},\"yaxis\":{\"automargin\":true,\"gridcolor\":\"white\",\"linecolor\":\"white\",\"ticks\":\"\",\"title\":{\"standoff\":15},\"zerolinecolor\":\"white\",\"zerolinewidth\":2}}}},                        {\"responsive\": true}                    ).then(function(){\n",
       "                            \n",
       "var gd = document.getElementById('f9c3ec28-bb70-4d29-b318-fee153f23d87');\n",
       "var x = new MutationObserver(function (mutations, observer) {{\n",
       "        var display = window.getComputedStyle(gd).display;\n",
       "        if (!display || display === 'none') {{\n",
       "            console.log([gd, 'removed!']);\n",
       "            Plotly.purge(gd);\n",
       "            observer.disconnect();\n",
       "        }}\n",
       "}});\n",
       "\n",
       "// Listen for the removal of the full notebook cells\n",
       "var notebookContainer = gd.closest('#notebook-container');\n",
       "if (notebookContainer) {{\n",
       "    x.observe(notebookContainer, {childList: true});\n",
       "}}\n",
       "\n",
       "// Listen for the clearing of the current output cell\n",
       "var outputEl = gd.closest('.output');\n",
       "if (outputEl) {{\n",
       "    x.observe(outputEl, {childList: true});\n",
       "}}\n",
       "\n",
       "                        })                };                });            </script>        </div>"
      ]
     },
     "metadata": {}
    }
   ],
   "metadata": {}
  },
  {
   "cell_type": "code",
   "execution_count": 22,
   "source": [
    "# 去除不交易日期\n",
    "df=appl_df.head(50)\n",
    "trace=go.Candlestick(\n",
    "    x=df.index,\n",
    "    open=df.open,\n",
    "    high=df.high,\n",
    "    low=df.low,\n",
    "    close=df.close\n",
    ")\n",
    "\n",
    "layout=go.Layout(\n",
    "    xaxis=dict(\n",
    "        autorange=True,\n",
    "        gridcolor='rgb(180,180,18,0)',\n",
    "        showline=True,\n",
    "        showgrid=True,\n",
    "        tickangle=-60,\n",
    "        type='category',\n",
    "        categoryorder='category ascending',\n",
    "    ),\n",
    "    yaxis=dict(\n",
    "        autorange=True,\n",
    "        gridcolor='#3d3d4f'\n",
    "    )\n",
    ")\n",
    "fig=go.Figure(data=[trace], layout=layout)\n",
    "plotly.offline.iplot(fig)"
   ],
   "outputs": [
    {
     "output_type": "display_data",
     "data": {
      "application/vnd.plotly.v1+json": {
       "config": {
        "linkText": "Export to plot.ly",
        "plotlyServerURL": "https://plot.ly",
        "showLink": false
       },
       "data": [
        {
         "close": [
          221.19,
          222.15,
          217.36,
          222.11,
          214.45,
          216.36,
          226.87,
          223.77,
          224.29,
          227.99,
          232.07,
          229.28,
          227.26,
          225.74,
          224.95,
          220.42,
          222.19,
          220.79,
          217.66,
          220.03,
          218.37,
          218.24,
          217.88,
          223.84,
          226.41,
          221.07,
          223.85,
          218.33,
          221.3,
          223.1,
          226.87,
          228.36,
          227.63,
          225.03,
          222.98,
          219.7,
          217.94,
          216.16,
          215.49,
          215.05,
          215.04,
          215.46,
          217.58,
          213.32,
          210.24,
          209.75,
          208.87,
          207.53,
          208.88,
          207.25
         ],
         "high": [
          222.64,
          222.99,
          221.83,
          222.88,
          219.5,
          226.35,
          227.27,
          224.8,
          228.41,
          232.35,
          233.47,
          230,
          229.42,
          225.84,
          226.44,
          223.75,
          222.82,
          221.26,
          221.36,
          222.28,
          219.62,
          221.85,
          222.95,
          226.84,
          228.35,
          225,
          224.299,
          221.85,
          225.37,
          227.35,
          229.67,
          229.18,
          228.87,
          228.26,
          223.49,
          220.54,
          218.74,
          216.9,
          217.05,
          216.36,
          217.19,
          219.18,
          217.95,
          213.8121,
          210.74,
          210.56,
          210.952,
          209.1,
          209.78,
          207.81
         ],
         "low": [
          219.34,
          216.7627,
          217.27,
          216.84,
          212.32,
          216.05,
          222.2462,
          220.2,
          220.58,
          226.73,
          229.78,
          226.63,
          226.35,
          224.02,
          223.54,
          219.76,
          219.7,
          216.63,
          217.29,
          219.15,
          215.3,
          217.12,
          217.27,
          222.522,
          222.57,
          219.84,
          216.56,
          216.47,
          220.71,
          221.3,
          225.1,
          226.63,
          226,
          222.4,
          219.41,
          218.92,
          216.33,
          215.11,
          214.6,
          213.84,
          214.025,
          215.11,
          213.16,
          211.47,
          208.33,
          208.26,
          207.7,
          206.67,
          207.2,
          204.52
         ],
         "open": [
          222.3,
          218.93,
          221.16,
          220.42,
          214.52,
          225.46,
          223.64,
          222.21,
          227.96,
          230.78,
          230.05,
          227.25,
          227.95,
          224.79,
          223.82,
          221,
          219.75,
          216.82,
          220.78,
          220.24,
          218.5,
          217.79,
          222.15,
          225.75,
          223.52,
          224.94,
          218.01,
          220.95,
          221.85,
          226.23,
          228.99,
          228.41,
          226.51,
          223.25,
          220.15,
          219.01,
          217.15,
          216.6,
          214.65,
          214.1,
          216.8,
          218.1,
          213.44,
          211.75,
          209.22,
          210.155,
          207.7,
          207.36,
          207.28,
          206.05
         ],
         "type": "candlestick",
         "x": [
          "2018-10-17T00:00:00",
          "2018-10-16T00:00:00",
          "2018-10-15T00:00:00",
          "2018-10-12T00:00:00",
          "2018-10-11T00:00:00",
          "2018-10-10T00:00:00",
          "2018-10-09T00:00:00",
          "2018-10-08T00:00:00",
          "2018-10-05T00:00:00",
          "2018-10-04T00:00:00",
          "2018-10-03T00:00:00",
          "2018-10-02T00:00:00",
          "2018-10-01T00:00:00",
          "2018-09-28T00:00:00",
          "2018-09-27T00:00:00",
          "2018-09-26T00:00:00",
          "2018-09-25T00:00:00",
          "2018-09-24T00:00:00",
          "2018-09-21T00:00:00",
          "2018-09-20T00:00:00",
          "2018-09-19T00:00:00",
          "2018-09-18T00:00:00",
          "2018-09-17T00:00:00",
          "2018-09-14T00:00:00",
          "2018-09-13T00:00:00",
          "2018-09-12T00:00:00",
          "2018-09-11T00:00:00",
          "2018-09-10T00:00:00",
          "2018-09-07T00:00:00",
          "2018-09-06T00:00:00",
          "2018-09-05T00:00:00",
          "2018-09-04T00:00:00",
          "2018-08-31T00:00:00",
          "2018-08-30T00:00:00",
          "2018-08-29T00:00:00",
          "2018-08-28T00:00:00",
          "2018-08-27T00:00:00",
          "2018-08-24T00:00:00",
          "2018-08-23T00:00:00",
          "2018-08-22T00:00:00",
          "2018-08-21T00:00:00",
          "2018-08-20T00:00:00",
          "2018-08-17T00:00:00",
          "2018-08-16T00:00:00",
          "2018-08-15T00:00:00",
          "2018-08-14T00:00:00",
          "2018-08-13T00:00:00",
          "2018-08-10T00:00:00",
          "2018-08-09T00:00:00",
          "2018-08-08T00:00:00"
         ]
        }
       ],
       "layout": {
        "template": {
         "data": {
          "bar": [
           {
            "error_x": {
             "color": "#2a3f5f"
            },
            "error_y": {
             "color": "#2a3f5f"
            },
            "marker": {
             "line": {
              "color": "#E5ECF6",
              "width": 0.5
             },
             "pattern": {
              "fillmode": "overlay",
              "size": 10,
              "solidity": 0.2
             }
            },
            "type": "bar"
           }
          ],
          "barpolar": [
           {
            "marker": {
             "line": {
              "color": "#E5ECF6",
              "width": 0.5
             },
             "pattern": {
              "fillmode": "overlay",
              "size": 10,
              "solidity": 0.2
             }
            },
            "type": "barpolar"
           }
          ],
          "carpet": [
           {
            "aaxis": {
             "endlinecolor": "#2a3f5f",
             "gridcolor": "white",
             "linecolor": "white",
             "minorgridcolor": "white",
             "startlinecolor": "#2a3f5f"
            },
            "baxis": {
             "endlinecolor": "#2a3f5f",
             "gridcolor": "white",
             "linecolor": "white",
             "minorgridcolor": "white",
             "startlinecolor": "#2a3f5f"
            },
            "type": "carpet"
           }
          ],
          "choropleth": [
           {
            "colorbar": {
             "outlinewidth": 0,
             "ticks": ""
            },
            "type": "choropleth"
           }
          ],
          "contour": [
           {
            "colorbar": {
             "outlinewidth": 0,
             "ticks": ""
            },
            "colorscale": [
             [
              0,
              "#0d0887"
             ],
             [
              0.1111111111111111,
              "#46039f"
             ],
             [
              0.2222222222222222,
              "#7201a8"
             ],
             [
              0.3333333333333333,
              "#9c179e"
             ],
             [
              0.4444444444444444,
              "#bd3786"
             ],
             [
              0.5555555555555556,
              "#d8576b"
             ],
             [
              0.6666666666666666,
              "#ed7953"
             ],
             [
              0.7777777777777778,
              "#fb9f3a"
             ],
             [
              0.8888888888888888,
              "#fdca26"
             ],
             [
              1,
              "#f0f921"
             ]
            ],
            "type": "contour"
           }
          ],
          "contourcarpet": [
           {
            "colorbar": {
             "outlinewidth": 0,
             "ticks": ""
            },
            "type": "contourcarpet"
           }
          ],
          "heatmap": [
           {
            "colorbar": {
             "outlinewidth": 0,
             "ticks": ""
            },
            "colorscale": [
             [
              0,
              "#0d0887"
             ],
             [
              0.1111111111111111,
              "#46039f"
             ],
             [
              0.2222222222222222,
              "#7201a8"
             ],
             [
              0.3333333333333333,
              "#9c179e"
             ],
             [
              0.4444444444444444,
              "#bd3786"
             ],
             [
              0.5555555555555556,
              "#d8576b"
             ],
             [
              0.6666666666666666,
              "#ed7953"
             ],
             [
              0.7777777777777778,
              "#fb9f3a"
             ],
             [
              0.8888888888888888,
              "#fdca26"
             ],
             [
              1,
              "#f0f921"
             ]
            ],
            "type": "heatmap"
           }
          ],
          "heatmapgl": [
           {
            "colorbar": {
             "outlinewidth": 0,
             "ticks": ""
            },
            "colorscale": [
             [
              0,
              "#0d0887"
             ],
             [
              0.1111111111111111,
              "#46039f"
             ],
             [
              0.2222222222222222,
              "#7201a8"
             ],
             [
              0.3333333333333333,
              "#9c179e"
             ],
             [
              0.4444444444444444,
              "#bd3786"
             ],
             [
              0.5555555555555556,
              "#d8576b"
             ],
             [
              0.6666666666666666,
              "#ed7953"
             ],
             [
              0.7777777777777778,
              "#fb9f3a"
             ],
             [
              0.8888888888888888,
              "#fdca26"
             ],
             [
              1,
              "#f0f921"
             ]
            ],
            "type": "heatmapgl"
           }
          ],
          "histogram": [
           {
            "marker": {
             "pattern": {
              "fillmode": "overlay",
              "size": 10,
              "solidity": 0.2
             }
            },
            "type": "histogram"
           }
          ],
          "histogram2d": [
           {
            "colorbar": {
             "outlinewidth": 0,
             "ticks": ""
            },
            "colorscale": [
             [
              0,
              "#0d0887"
             ],
             [
              0.1111111111111111,
              "#46039f"
             ],
             [
              0.2222222222222222,
              "#7201a8"
             ],
             [
              0.3333333333333333,
              "#9c179e"
             ],
             [
              0.4444444444444444,
              "#bd3786"
             ],
             [
              0.5555555555555556,
              "#d8576b"
             ],
             [
              0.6666666666666666,
              "#ed7953"
             ],
             [
              0.7777777777777778,
              "#fb9f3a"
             ],
             [
              0.8888888888888888,
              "#fdca26"
             ],
             [
              1,
              "#f0f921"
             ]
            ],
            "type": "histogram2d"
           }
          ],
          "histogram2dcontour": [
           {
            "colorbar": {
             "outlinewidth": 0,
             "ticks": ""
            },
            "colorscale": [
             [
              0,
              "#0d0887"
             ],
             [
              0.1111111111111111,
              "#46039f"
             ],
             [
              0.2222222222222222,
              "#7201a8"
             ],
             [
              0.3333333333333333,
              "#9c179e"
             ],
             [
              0.4444444444444444,
              "#bd3786"
             ],
             [
              0.5555555555555556,
              "#d8576b"
             ],
             [
              0.6666666666666666,
              "#ed7953"
             ],
             [
              0.7777777777777778,
              "#fb9f3a"
             ],
             [
              0.8888888888888888,
              "#fdca26"
             ],
             [
              1,
              "#f0f921"
             ]
            ],
            "type": "histogram2dcontour"
           }
          ],
          "mesh3d": [
           {
            "colorbar": {
             "outlinewidth": 0,
             "ticks": ""
            },
            "type": "mesh3d"
           }
          ],
          "parcoords": [
           {
            "line": {
             "colorbar": {
              "outlinewidth": 0,
              "ticks": ""
             }
            },
            "type": "parcoords"
           }
          ],
          "pie": [
           {
            "automargin": true,
            "type": "pie"
           }
          ],
          "scatter": [
           {
            "marker": {
             "colorbar": {
              "outlinewidth": 0,
              "ticks": ""
             }
            },
            "type": "scatter"
           }
          ],
          "scatter3d": [
           {
            "line": {
             "colorbar": {
              "outlinewidth": 0,
              "ticks": ""
             }
            },
            "marker": {
             "colorbar": {
              "outlinewidth": 0,
              "ticks": ""
             }
            },
            "type": "scatter3d"
           }
          ],
          "scattercarpet": [
           {
            "marker": {
             "colorbar": {
              "outlinewidth": 0,
              "ticks": ""
             }
            },
            "type": "scattercarpet"
           }
          ],
          "scattergeo": [
           {
            "marker": {
             "colorbar": {
              "outlinewidth": 0,
              "ticks": ""
             }
            },
            "type": "scattergeo"
           }
          ],
          "scattergl": [
           {
            "marker": {
             "colorbar": {
              "outlinewidth": 0,
              "ticks": ""
             }
            },
            "type": "scattergl"
           }
          ],
          "scattermapbox": [
           {
            "marker": {
             "colorbar": {
              "outlinewidth": 0,
              "ticks": ""
             }
            },
            "type": "scattermapbox"
           }
          ],
          "scatterpolar": [
           {
            "marker": {
             "colorbar": {
              "outlinewidth": 0,
              "ticks": ""
             }
            },
            "type": "scatterpolar"
           }
          ],
          "scatterpolargl": [
           {
            "marker": {
             "colorbar": {
              "outlinewidth": 0,
              "ticks": ""
             }
            },
            "type": "scatterpolargl"
           }
          ],
          "scatterternary": [
           {
            "marker": {
             "colorbar": {
              "outlinewidth": 0,
              "ticks": ""
             }
            },
            "type": "scatterternary"
           }
          ],
          "surface": [
           {
            "colorbar": {
             "outlinewidth": 0,
             "ticks": ""
            },
            "colorscale": [
             [
              0,
              "#0d0887"
             ],
             [
              0.1111111111111111,
              "#46039f"
             ],
             [
              0.2222222222222222,
              "#7201a8"
             ],
             [
              0.3333333333333333,
              "#9c179e"
             ],
             [
              0.4444444444444444,
              "#bd3786"
             ],
             [
              0.5555555555555556,
              "#d8576b"
             ],
             [
              0.6666666666666666,
              "#ed7953"
             ],
             [
              0.7777777777777778,
              "#fb9f3a"
             ],
             [
              0.8888888888888888,
              "#fdca26"
             ],
             [
              1,
              "#f0f921"
             ]
            ],
            "type": "surface"
           }
          ],
          "table": [
           {
            "cells": {
             "fill": {
              "color": "#EBF0F8"
             },
             "line": {
              "color": "white"
             }
            },
            "header": {
             "fill": {
              "color": "#C8D4E3"
             },
             "line": {
              "color": "white"
             }
            },
            "type": "table"
           }
          ]
         },
         "layout": {
          "annotationdefaults": {
           "arrowcolor": "#2a3f5f",
           "arrowhead": 0,
           "arrowwidth": 1
          },
          "autotypenumbers": "strict",
          "coloraxis": {
           "colorbar": {
            "outlinewidth": 0,
            "ticks": ""
           }
          },
          "colorscale": {
           "diverging": [
            [
             0,
             "#8e0152"
            ],
            [
             0.1,
             "#c51b7d"
            ],
            [
             0.2,
             "#de77ae"
            ],
            [
             0.3,
             "#f1b6da"
            ],
            [
             0.4,
             "#fde0ef"
            ],
            [
             0.5,
             "#f7f7f7"
            ],
            [
             0.6,
             "#e6f5d0"
            ],
            [
             0.7,
             "#b8e186"
            ],
            [
             0.8,
             "#7fbc41"
            ],
            [
             0.9,
             "#4d9221"
            ],
            [
             1,
             "#276419"
            ]
           ],
           "sequential": [
            [
             0,
             "#0d0887"
            ],
            [
             0.1111111111111111,
             "#46039f"
            ],
            [
             0.2222222222222222,
             "#7201a8"
            ],
            [
             0.3333333333333333,
             "#9c179e"
            ],
            [
             0.4444444444444444,
             "#bd3786"
            ],
            [
             0.5555555555555556,
             "#d8576b"
            ],
            [
             0.6666666666666666,
             "#ed7953"
            ],
            [
             0.7777777777777778,
             "#fb9f3a"
            ],
            [
             0.8888888888888888,
             "#fdca26"
            ],
            [
             1,
             "#f0f921"
            ]
           ],
           "sequentialminus": [
            [
             0,
             "#0d0887"
            ],
            [
             0.1111111111111111,
             "#46039f"
            ],
            [
             0.2222222222222222,
             "#7201a8"
            ],
            [
             0.3333333333333333,
             "#9c179e"
            ],
            [
             0.4444444444444444,
             "#bd3786"
            ],
            [
             0.5555555555555556,
             "#d8576b"
            ],
            [
             0.6666666666666666,
             "#ed7953"
            ],
            [
             0.7777777777777778,
             "#fb9f3a"
            ],
            [
             0.8888888888888888,
             "#fdca26"
            ],
            [
             1,
             "#f0f921"
            ]
           ]
          },
          "colorway": [
           "#636efa",
           "#EF553B",
           "#00cc96",
           "#ab63fa",
           "#FFA15A",
           "#19d3f3",
           "#FF6692",
           "#B6E880",
           "#FF97FF",
           "#FECB52"
          ],
          "font": {
           "color": "#2a3f5f"
          },
          "geo": {
           "bgcolor": "white",
           "lakecolor": "white",
           "landcolor": "#E5ECF6",
           "showlakes": true,
           "showland": true,
           "subunitcolor": "white"
          },
          "hoverlabel": {
           "align": "left"
          },
          "hovermode": "closest",
          "mapbox": {
           "style": "light"
          },
          "paper_bgcolor": "white",
          "plot_bgcolor": "#E5ECF6",
          "polar": {
           "angularaxis": {
            "gridcolor": "white",
            "linecolor": "white",
            "ticks": ""
           },
           "bgcolor": "#E5ECF6",
           "radialaxis": {
            "gridcolor": "white",
            "linecolor": "white",
            "ticks": ""
           }
          },
          "scene": {
           "xaxis": {
            "backgroundcolor": "#E5ECF6",
            "gridcolor": "white",
            "gridwidth": 2,
            "linecolor": "white",
            "showbackground": true,
            "ticks": "",
            "zerolinecolor": "white"
           },
           "yaxis": {
            "backgroundcolor": "#E5ECF6",
            "gridcolor": "white",
            "gridwidth": 2,
            "linecolor": "white",
            "showbackground": true,
            "ticks": "",
            "zerolinecolor": "white"
           },
           "zaxis": {
            "backgroundcolor": "#E5ECF6",
            "gridcolor": "white",
            "gridwidth": 2,
            "linecolor": "white",
            "showbackground": true,
            "ticks": "",
            "zerolinecolor": "white"
           }
          },
          "shapedefaults": {
           "line": {
            "color": "#2a3f5f"
           }
          },
          "ternary": {
           "aaxis": {
            "gridcolor": "white",
            "linecolor": "white",
            "ticks": ""
           },
           "baxis": {
            "gridcolor": "white",
            "linecolor": "white",
            "ticks": ""
           },
           "bgcolor": "#E5ECF6",
           "caxis": {
            "gridcolor": "white",
            "linecolor": "white",
            "ticks": ""
           }
          },
          "title": {
           "x": 0.05
          },
          "xaxis": {
           "automargin": true,
           "gridcolor": "white",
           "linecolor": "white",
           "ticks": "",
           "title": {
            "standoff": 15
           },
           "zerolinecolor": "white",
           "zerolinewidth": 2
          },
          "yaxis": {
           "automargin": true,
           "gridcolor": "white",
           "linecolor": "white",
           "ticks": "",
           "title": {
            "standoff": 15
           },
           "zerolinecolor": "white",
           "zerolinewidth": 2
          }
         }
        },
        "xaxis": {
         "autorange": true,
         "categoryorder": "category ascending",
         "gridcolor": "rgb(180,180,18,0)",
         "showgrid": true,
         "showline": true,
         "tickangle": -60,
         "type": "category"
        },
        "yaxis": {
         "autorange": true,
         "gridcolor": "#3d3d4f"
        }
       }
      },
      "text/html": [
       "<div>                            <div id=\"76e78fc1-1f5f-4932-9926-01037d6725bf\" class=\"plotly-graph-div\" style=\"height:525px; width:100%;\"></div>            <script type=\"text/javascript\">                require([\"plotly\"], function(Plotly) {                    window.PLOTLYENV=window.PLOTLYENV || {};                                    if (document.getElementById(\"76e78fc1-1f5f-4932-9926-01037d6725bf\")) {                    Plotly.newPlot(                        \"76e78fc1-1f5f-4932-9926-01037d6725bf\",                        [{\"close\":[221.19,222.15,217.36,222.11,214.45,216.36,226.87,223.77,224.29,227.99,232.07,229.28,227.26,225.74,224.95,220.42,222.19,220.79,217.66,220.03,218.37,218.24,217.88,223.84,226.41,221.07,223.85,218.33,221.3,223.1,226.87,228.36,227.63,225.03,222.98,219.7,217.94,216.16,215.49,215.05,215.04,215.46,217.58,213.32,210.24,209.75,208.87,207.53,208.88,207.25],\"high\":[222.64,222.99,221.83,222.88,219.5,226.35,227.27,224.8,228.41,232.35,233.47,230.0,229.42,225.84,226.44,223.75,222.82,221.26,221.36,222.28,219.62,221.85,222.95,226.84,228.35,225.0,224.299,221.85,225.37,227.35,229.67,229.18,228.87,228.26,223.49,220.54,218.74,216.9,217.05,216.36,217.19,219.18,217.95,213.8121,210.74,210.56,210.952,209.1,209.78,207.81],\"low\":[219.34,216.7627,217.27,216.84,212.32,216.05,222.2462,220.2,220.58,226.73,229.78,226.63,226.35,224.02,223.54,219.76,219.7,216.63,217.29,219.15,215.3,217.12,217.27,222.522,222.57,219.84,216.56,216.47,220.71,221.3,225.1,226.63,226.0,222.4,219.41,218.92,216.33,215.11,214.6,213.84,214.025,215.11,213.16,211.47,208.33,208.26,207.7,206.67,207.2,204.52],\"open\":[222.3,218.93,221.16,220.42,214.52,225.46,223.64,222.21,227.96,230.78,230.05,227.25,227.95,224.79,223.82,221.0,219.75,216.82,220.78,220.24,218.5,217.79,222.15,225.75,223.52,224.94,218.01,220.95,221.85,226.23,228.99,228.41,226.51,223.25,220.15,219.01,217.15,216.6,214.65,214.1,216.8,218.1,213.44,211.75,209.22,210.155,207.7,207.36,207.28,206.05],\"type\":\"candlestick\",\"x\":[\"2018-10-17T00:00:00\",\"2018-10-16T00:00:00\",\"2018-10-15T00:00:00\",\"2018-10-12T00:00:00\",\"2018-10-11T00:00:00\",\"2018-10-10T00:00:00\",\"2018-10-09T00:00:00\",\"2018-10-08T00:00:00\",\"2018-10-05T00:00:00\",\"2018-10-04T00:00:00\",\"2018-10-03T00:00:00\",\"2018-10-02T00:00:00\",\"2018-10-01T00:00:00\",\"2018-09-28T00:00:00\",\"2018-09-27T00:00:00\",\"2018-09-26T00:00:00\",\"2018-09-25T00:00:00\",\"2018-09-24T00:00:00\",\"2018-09-21T00:00:00\",\"2018-09-20T00:00:00\",\"2018-09-19T00:00:00\",\"2018-09-18T00:00:00\",\"2018-09-17T00:00:00\",\"2018-09-14T00:00:00\",\"2018-09-13T00:00:00\",\"2018-09-12T00:00:00\",\"2018-09-11T00:00:00\",\"2018-09-10T00:00:00\",\"2018-09-07T00:00:00\",\"2018-09-06T00:00:00\",\"2018-09-05T00:00:00\",\"2018-09-04T00:00:00\",\"2018-08-31T00:00:00\",\"2018-08-30T00:00:00\",\"2018-08-29T00:00:00\",\"2018-08-28T00:00:00\",\"2018-08-27T00:00:00\",\"2018-08-24T00:00:00\",\"2018-08-23T00:00:00\",\"2018-08-22T00:00:00\",\"2018-08-21T00:00:00\",\"2018-08-20T00:00:00\",\"2018-08-17T00:00:00\",\"2018-08-16T00:00:00\",\"2018-08-15T00:00:00\",\"2018-08-14T00:00:00\",\"2018-08-13T00:00:00\",\"2018-08-10T00:00:00\",\"2018-08-09T00:00:00\",\"2018-08-08T00:00:00\"]}],                        {\"template\":{\"data\":{\"bar\":[{\"error_x\":{\"color\":\"#2a3f5f\"},\"error_y\":{\"color\":\"#2a3f5f\"},\"marker\":{\"line\":{\"color\":\"#E5ECF6\",\"width\":0.5},\"pattern\":{\"fillmode\":\"overlay\",\"size\":10,\"solidity\":0.2}},\"type\":\"bar\"}],\"barpolar\":[{\"marker\":{\"line\":{\"color\":\"#E5ECF6\",\"width\":0.5},\"pattern\":{\"fillmode\":\"overlay\",\"size\":10,\"solidity\":0.2}},\"type\":\"barpolar\"}],\"carpet\":[{\"aaxis\":{\"endlinecolor\":\"#2a3f5f\",\"gridcolor\":\"white\",\"linecolor\":\"white\",\"minorgridcolor\":\"white\",\"startlinecolor\":\"#2a3f5f\"},\"baxis\":{\"endlinecolor\":\"#2a3f5f\",\"gridcolor\":\"white\",\"linecolor\":\"white\",\"minorgridcolor\":\"white\",\"startlinecolor\":\"#2a3f5f\"},\"type\":\"carpet\"}],\"choropleth\":[{\"colorbar\":{\"outlinewidth\":0,\"ticks\":\"\"},\"type\":\"choropleth\"}],\"contour\":[{\"colorbar\":{\"outlinewidth\":0,\"ticks\":\"\"},\"colorscale\":[[0.0,\"#0d0887\"],[0.1111111111111111,\"#46039f\"],[0.2222222222222222,\"#7201a8\"],[0.3333333333333333,\"#9c179e\"],[0.4444444444444444,\"#bd3786\"],[0.5555555555555556,\"#d8576b\"],[0.6666666666666666,\"#ed7953\"],[0.7777777777777778,\"#fb9f3a\"],[0.8888888888888888,\"#fdca26\"],[1.0,\"#f0f921\"]],\"type\":\"contour\"}],\"contourcarpet\":[{\"colorbar\":{\"outlinewidth\":0,\"ticks\":\"\"},\"type\":\"contourcarpet\"}],\"heatmap\":[{\"colorbar\":{\"outlinewidth\":0,\"ticks\":\"\"},\"colorscale\":[[0.0,\"#0d0887\"],[0.1111111111111111,\"#46039f\"],[0.2222222222222222,\"#7201a8\"],[0.3333333333333333,\"#9c179e\"],[0.4444444444444444,\"#bd3786\"],[0.5555555555555556,\"#d8576b\"],[0.6666666666666666,\"#ed7953\"],[0.7777777777777778,\"#fb9f3a\"],[0.8888888888888888,\"#fdca26\"],[1.0,\"#f0f921\"]],\"type\":\"heatmap\"}],\"heatmapgl\":[{\"colorbar\":{\"outlinewidth\":0,\"ticks\":\"\"},\"colorscale\":[[0.0,\"#0d0887\"],[0.1111111111111111,\"#46039f\"],[0.2222222222222222,\"#7201a8\"],[0.3333333333333333,\"#9c179e\"],[0.4444444444444444,\"#bd3786\"],[0.5555555555555556,\"#d8576b\"],[0.6666666666666666,\"#ed7953\"],[0.7777777777777778,\"#fb9f3a\"],[0.8888888888888888,\"#fdca26\"],[1.0,\"#f0f921\"]],\"type\":\"heatmapgl\"}],\"histogram\":[{\"marker\":{\"pattern\":{\"fillmode\":\"overlay\",\"size\":10,\"solidity\":0.2}},\"type\":\"histogram\"}],\"histogram2d\":[{\"colorbar\":{\"outlinewidth\":0,\"ticks\":\"\"},\"colorscale\":[[0.0,\"#0d0887\"],[0.1111111111111111,\"#46039f\"],[0.2222222222222222,\"#7201a8\"],[0.3333333333333333,\"#9c179e\"],[0.4444444444444444,\"#bd3786\"],[0.5555555555555556,\"#d8576b\"],[0.6666666666666666,\"#ed7953\"],[0.7777777777777778,\"#fb9f3a\"],[0.8888888888888888,\"#fdca26\"],[1.0,\"#f0f921\"]],\"type\":\"histogram2d\"}],\"histogram2dcontour\":[{\"colorbar\":{\"outlinewidth\":0,\"ticks\":\"\"},\"colorscale\":[[0.0,\"#0d0887\"],[0.1111111111111111,\"#46039f\"],[0.2222222222222222,\"#7201a8\"],[0.3333333333333333,\"#9c179e\"],[0.4444444444444444,\"#bd3786\"],[0.5555555555555556,\"#d8576b\"],[0.6666666666666666,\"#ed7953\"],[0.7777777777777778,\"#fb9f3a\"],[0.8888888888888888,\"#fdca26\"],[1.0,\"#f0f921\"]],\"type\":\"histogram2dcontour\"}],\"mesh3d\":[{\"colorbar\":{\"outlinewidth\":0,\"ticks\":\"\"},\"type\":\"mesh3d\"}],\"parcoords\":[{\"line\":{\"colorbar\":{\"outlinewidth\":0,\"ticks\":\"\"}},\"type\":\"parcoords\"}],\"pie\":[{\"automargin\":true,\"type\":\"pie\"}],\"scatter\":[{\"marker\":{\"colorbar\":{\"outlinewidth\":0,\"ticks\":\"\"}},\"type\":\"scatter\"}],\"scatter3d\":[{\"line\":{\"colorbar\":{\"outlinewidth\":0,\"ticks\":\"\"}},\"marker\":{\"colorbar\":{\"outlinewidth\":0,\"ticks\":\"\"}},\"type\":\"scatter3d\"}],\"scattercarpet\":[{\"marker\":{\"colorbar\":{\"outlinewidth\":0,\"ticks\":\"\"}},\"type\":\"scattercarpet\"}],\"scattergeo\":[{\"marker\":{\"colorbar\":{\"outlinewidth\":0,\"ticks\":\"\"}},\"type\":\"scattergeo\"}],\"scattergl\":[{\"marker\":{\"colorbar\":{\"outlinewidth\":0,\"ticks\":\"\"}},\"type\":\"scattergl\"}],\"scattermapbox\":[{\"marker\":{\"colorbar\":{\"outlinewidth\":0,\"ticks\":\"\"}},\"type\":\"scattermapbox\"}],\"scatterpolar\":[{\"marker\":{\"colorbar\":{\"outlinewidth\":0,\"ticks\":\"\"}},\"type\":\"scatterpolar\"}],\"scatterpolargl\":[{\"marker\":{\"colorbar\":{\"outlinewidth\":0,\"ticks\":\"\"}},\"type\":\"scatterpolargl\"}],\"scatterternary\":[{\"marker\":{\"colorbar\":{\"outlinewidth\":0,\"ticks\":\"\"}},\"type\":\"scatterternary\"}],\"surface\":[{\"colorbar\":{\"outlinewidth\":0,\"ticks\":\"\"},\"colorscale\":[[0.0,\"#0d0887\"],[0.1111111111111111,\"#46039f\"],[0.2222222222222222,\"#7201a8\"],[0.3333333333333333,\"#9c179e\"],[0.4444444444444444,\"#bd3786\"],[0.5555555555555556,\"#d8576b\"],[0.6666666666666666,\"#ed7953\"],[0.7777777777777778,\"#fb9f3a\"],[0.8888888888888888,\"#fdca26\"],[1.0,\"#f0f921\"]],\"type\":\"surface\"}],\"table\":[{\"cells\":{\"fill\":{\"color\":\"#EBF0F8\"},\"line\":{\"color\":\"white\"}},\"header\":{\"fill\":{\"color\":\"#C8D4E3\"},\"line\":{\"color\":\"white\"}},\"type\":\"table\"}]},\"layout\":{\"annotationdefaults\":{\"arrowcolor\":\"#2a3f5f\",\"arrowhead\":0,\"arrowwidth\":1},\"autotypenumbers\":\"strict\",\"coloraxis\":{\"colorbar\":{\"outlinewidth\":0,\"ticks\":\"\"}},\"colorscale\":{\"diverging\":[[0,\"#8e0152\"],[0.1,\"#c51b7d\"],[0.2,\"#de77ae\"],[0.3,\"#f1b6da\"],[0.4,\"#fde0ef\"],[0.5,\"#f7f7f7\"],[0.6,\"#e6f5d0\"],[0.7,\"#b8e186\"],[0.8,\"#7fbc41\"],[0.9,\"#4d9221\"],[1,\"#276419\"]],\"sequential\":[[0.0,\"#0d0887\"],[0.1111111111111111,\"#46039f\"],[0.2222222222222222,\"#7201a8\"],[0.3333333333333333,\"#9c179e\"],[0.4444444444444444,\"#bd3786\"],[0.5555555555555556,\"#d8576b\"],[0.6666666666666666,\"#ed7953\"],[0.7777777777777778,\"#fb9f3a\"],[0.8888888888888888,\"#fdca26\"],[1.0,\"#f0f921\"]],\"sequentialminus\":[[0.0,\"#0d0887\"],[0.1111111111111111,\"#46039f\"],[0.2222222222222222,\"#7201a8\"],[0.3333333333333333,\"#9c179e\"],[0.4444444444444444,\"#bd3786\"],[0.5555555555555556,\"#d8576b\"],[0.6666666666666666,\"#ed7953\"],[0.7777777777777778,\"#fb9f3a\"],[0.8888888888888888,\"#fdca26\"],[1.0,\"#f0f921\"]]},\"colorway\":[\"#636efa\",\"#EF553B\",\"#00cc96\",\"#ab63fa\",\"#FFA15A\",\"#19d3f3\",\"#FF6692\",\"#B6E880\",\"#FF97FF\",\"#FECB52\"],\"font\":{\"color\":\"#2a3f5f\"},\"geo\":{\"bgcolor\":\"white\",\"lakecolor\":\"white\",\"landcolor\":\"#E5ECF6\",\"showlakes\":true,\"showland\":true,\"subunitcolor\":\"white\"},\"hoverlabel\":{\"align\":\"left\"},\"hovermode\":\"closest\",\"mapbox\":{\"style\":\"light\"},\"paper_bgcolor\":\"white\",\"plot_bgcolor\":\"#E5ECF6\",\"polar\":{\"angularaxis\":{\"gridcolor\":\"white\",\"linecolor\":\"white\",\"ticks\":\"\"},\"bgcolor\":\"#E5ECF6\",\"radialaxis\":{\"gridcolor\":\"white\",\"linecolor\":\"white\",\"ticks\":\"\"}},\"scene\":{\"xaxis\":{\"backgroundcolor\":\"#E5ECF6\",\"gridcolor\":\"white\",\"gridwidth\":2,\"linecolor\":\"white\",\"showbackground\":true,\"ticks\":\"\",\"zerolinecolor\":\"white\"},\"yaxis\":{\"backgroundcolor\":\"#E5ECF6\",\"gridcolor\":\"white\",\"gridwidth\":2,\"linecolor\":\"white\",\"showbackground\":true,\"ticks\":\"\",\"zerolinecolor\":\"white\"},\"zaxis\":{\"backgroundcolor\":\"#E5ECF6\",\"gridcolor\":\"white\",\"gridwidth\":2,\"linecolor\":\"white\",\"showbackground\":true,\"ticks\":\"\",\"zerolinecolor\":\"white\"}},\"shapedefaults\":{\"line\":{\"color\":\"#2a3f5f\"}},\"ternary\":{\"aaxis\":{\"gridcolor\":\"white\",\"linecolor\":\"white\",\"ticks\":\"\"},\"baxis\":{\"gridcolor\":\"white\",\"linecolor\":\"white\",\"ticks\":\"\"},\"bgcolor\":\"#E5ECF6\",\"caxis\":{\"gridcolor\":\"white\",\"linecolor\":\"white\",\"ticks\":\"\"}},\"title\":{\"x\":0.05},\"xaxis\":{\"automargin\":true,\"gridcolor\":\"white\",\"linecolor\":\"white\",\"ticks\":\"\",\"title\":{\"standoff\":15},\"zerolinecolor\":\"white\",\"zerolinewidth\":2},\"yaxis\":{\"automargin\":true,\"gridcolor\":\"white\",\"linecolor\":\"white\",\"ticks\":\"\",\"title\":{\"standoff\":15},\"zerolinecolor\":\"white\",\"zerolinewidth\":2}}},\"xaxis\":{\"autorange\":true,\"categoryorder\":\"category ascending\",\"gridcolor\":\"rgb(180,180,18,0)\",\"showgrid\":true,\"showline\":true,\"tickangle\":-60,\"type\":\"category\"},\"yaxis\":{\"autorange\":true,\"gridcolor\":\"#3d3d4f\"}},                        {\"responsive\": true}                    ).then(function(){\n",
       "                            \n",
       "var gd = document.getElementById('76e78fc1-1f5f-4932-9926-01037d6725bf');\n",
       "var x = new MutationObserver(function (mutations, observer) {{\n",
       "        var display = window.getComputedStyle(gd).display;\n",
       "        if (!display || display === 'none') {{\n",
       "            console.log([gd, 'removed!']);\n",
       "            Plotly.purge(gd);\n",
       "            observer.disconnect();\n",
       "        }}\n",
       "}});\n",
       "\n",
       "// Listen for the removal of the full notebook cells\n",
       "var notebookContainer = gd.closest('#notebook-container');\n",
       "if (notebookContainer) {{\n",
       "    x.observe(notebookContainer, {childList: true});\n",
       "}}\n",
       "\n",
       "// Listen for the clearing of the current output cell\n",
       "var outputEl = gd.closest('.output');\n",
       "if (outputEl) {{\n",
       "    x.observe(outputEl, {childList: true});\n",
       "}}\n",
       "\n",
       "                        })                };                });            </script>        </div>"
      ]
     },
     "metadata": {}
    }
   ],
   "metadata": {}
  },
  {
   "cell_type": "code",
   "execution_count": 25,
   "source": [
    "# 5日线\n",
    "df['avg_5'] = df['close'].rolling(5).mean()\n",
    "\n",
    "five_line=go.Scatter(\n",
    "    x=df.index,\n",
    "    y=df.avg_5,\n",
    "    name='5 days mean',\n",
    "    line=dict(color='black')\n",
    ")\n",
    "\n",
    "fig=go.Figure(data=[trace, five_line], layout=layout)\n",
    "plotly.offline.iplot(fig)"
   ],
   "outputs": [
    {
     "output_type": "stream",
     "name": "stderr",
     "text": [
      "/var/folders/h4/7cr1cmpn7v5b3x20_9wz8m740000gn/T/ipykernel_84741/3415815022.py:2: SettingWithCopyWarning:\n",
      "\n",
      "\n",
      "A value is trying to be set on a copy of a slice from a DataFrame.\n",
      "Try using .loc[row_indexer,col_indexer] = value instead\n",
      "\n",
      "See the caveats in the documentation: https://pandas.pydata.org/pandas-docs/stable/user_guide/indexing.html#returning-a-view-versus-a-copy\n",
      "\n"
     ]
    },
    {
     "output_type": "display_data",
     "data": {
      "application/vnd.plotly.v1+json": {
       "config": {
        "linkText": "Export to plot.ly",
        "plotlyServerURL": "https://plot.ly",
        "showLink": false
       },
       "data": [
        {
         "close": [
          221.19,
          222.15,
          217.36,
          222.11,
          214.45,
          216.36,
          226.87,
          223.77,
          224.29,
          227.99,
          232.07,
          229.28,
          227.26,
          225.74,
          224.95,
          220.42,
          222.19,
          220.79,
          217.66,
          220.03,
          218.37,
          218.24,
          217.88,
          223.84,
          226.41,
          221.07,
          223.85,
          218.33,
          221.3,
          223.1,
          226.87,
          228.36,
          227.63,
          225.03,
          222.98,
          219.7,
          217.94,
          216.16,
          215.49,
          215.05,
          215.04,
          215.46,
          217.58,
          213.32,
          210.24,
          209.75,
          208.87,
          207.53,
          208.88,
          207.25
         ],
         "high": [
          222.64,
          222.99,
          221.83,
          222.88,
          219.5,
          226.35,
          227.27,
          224.8,
          228.41,
          232.35,
          233.47,
          230,
          229.42,
          225.84,
          226.44,
          223.75,
          222.82,
          221.26,
          221.36,
          222.28,
          219.62,
          221.85,
          222.95,
          226.84,
          228.35,
          225,
          224.299,
          221.85,
          225.37,
          227.35,
          229.67,
          229.18,
          228.87,
          228.26,
          223.49,
          220.54,
          218.74,
          216.9,
          217.05,
          216.36,
          217.19,
          219.18,
          217.95,
          213.8121,
          210.74,
          210.56,
          210.952,
          209.1,
          209.78,
          207.81
         ],
         "low": [
          219.34,
          216.7627,
          217.27,
          216.84,
          212.32,
          216.05,
          222.2462,
          220.2,
          220.58,
          226.73,
          229.78,
          226.63,
          226.35,
          224.02,
          223.54,
          219.76,
          219.7,
          216.63,
          217.29,
          219.15,
          215.3,
          217.12,
          217.27,
          222.522,
          222.57,
          219.84,
          216.56,
          216.47,
          220.71,
          221.3,
          225.1,
          226.63,
          226,
          222.4,
          219.41,
          218.92,
          216.33,
          215.11,
          214.6,
          213.84,
          214.025,
          215.11,
          213.16,
          211.47,
          208.33,
          208.26,
          207.7,
          206.67,
          207.2,
          204.52
         ],
         "open": [
          222.3,
          218.93,
          221.16,
          220.42,
          214.52,
          225.46,
          223.64,
          222.21,
          227.96,
          230.78,
          230.05,
          227.25,
          227.95,
          224.79,
          223.82,
          221,
          219.75,
          216.82,
          220.78,
          220.24,
          218.5,
          217.79,
          222.15,
          225.75,
          223.52,
          224.94,
          218.01,
          220.95,
          221.85,
          226.23,
          228.99,
          228.41,
          226.51,
          223.25,
          220.15,
          219.01,
          217.15,
          216.6,
          214.65,
          214.1,
          216.8,
          218.1,
          213.44,
          211.75,
          209.22,
          210.155,
          207.7,
          207.36,
          207.28,
          206.05
         ],
         "type": "candlestick",
         "x": [
          "2018-10-17T00:00:00",
          "2018-10-16T00:00:00",
          "2018-10-15T00:00:00",
          "2018-10-12T00:00:00",
          "2018-10-11T00:00:00",
          "2018-10-10T00:00:00",
          "2018-10-09T00:00:00",
          "2018-10-08T00:00:00",
          "2018-10-05T00:00:00",
          "2018-10-04T00:00:00",
          "2018-10-03T00:00:00",
          "2018-10-02T00:00:00",
          "2018-10-01T00:00:00",
          "2018-09-28T00:00:00",
          "2018-09-27T00:00:00",
          "2018-09-26T00:00:00",
          "2018-09-25T00:00:00",
          "2018-09-24T00:00:00",
          "2018-09-21T00:00:00",
          "2018-09-20T00:00:00",
          "2018-09-19T00:00:00",
          "2018-09-18T00:00:00",
          "2018-09-17T00:00:00",
          "2018-09-14T00:00:00",
          "2018-09-13T00:00:00",
          "2018-09-12T00:00:00",
          "2018-09-11T00:00:00",
          "2018-09-10T00:00:00",
          "2018-09-07T00:00:00",
          "2018-09-06T00:00:00",
          "2018-09-05T00:00:00",
          "2018-09-04T00:00:00",
          "2018-08-31T00:00:00",
          "2018-08-30T00:00:00",
          "2018-08-29T00:00:00",
          "2018-08-28T00:00:00",
          "2018-08-27T00:00:00",
          "2018-08-24T00:00:00",
          "2018-08-23T00:00:00",
          "2018-08-22T00:00:00",
          "2018-08-21T00:00:00",
          "2018-08-20T00:00:00",
          "2018-08-17T00:00:00",
          "2018-08-16T00:00:00",
          "2018-08-15T00:00:00",
          "2018-08-14T00:00:00",
          "2018-08-13T00:00:00",
          "2018-08-10T00:00:00",
          "2018-08-09T00:00:00",
          "2018-08-08T00:00:00"
         ]
        },
        {
         "line": {
          "color": "black"
         },
         "name": "5 days mean",
         "type": "scatter",
         "x": [
          "2018-10-17T00:00:00",
          "2018-10-16T00:00:00",
          "2018-10-15T00:00:00",
          "2018-10-12T00:00:00",
          "2018-10-11T00:00:00",
          "2018-10-10T00:00:00",
          "2018-10-09T00:00:00",
          "2018-10-08T00:00:00",
          "2018-10-05T00:00:00",
          "2018-10-04T00:00:00",
          "2018-10-03T00:00:00",
          "2018-10-02T00:00:00",
          "2018-10-01T00:00:00",
          "2018-09-28T00:00:00",
          "2018-09-27T00:00:00",
          "2018-09-26T00:00:00",
          "2018-09-25T00:00:00",
          "2018-09-24T00:00:00",
          "2018-09-21T00:00:00",
          "2018-09-20T00:00:00",
          "2018-09-19T00:00:00",
          "2018-09-18T00:00:00",
          "2018-09-17T00:00:00",
          "2018-09-14T00:00:00",
          "2018-09-13T00:00:00",
          "2018-09-12T00:00:00",
          "2018-09-11T00:00:00",
          "2018-09-10T00:00:00",
          "2018-09-07T00:00:00",
          "2018-09-06T00:00:00",
          "2018-09-05T00:00:00",
          "2018-09-04T00:00:00",
          "2018-08-31T00:00:00",
          "2018-08-30T00:00:00",
          "2018-08-29T00:00:00",
          "2018-08-28T00:00:00",
          "2018-08-27T00:00:00",
          "2018-08-24T00:00:00",
          "2018-08-23T00:00:00",
          "2018-08-22T00:00:00",
          "2018-08-21T00:00:00",
          "2018-08-20T00:00:00",
          "2018-08-17T00:00:00",
          "2018-08-16T00:00:00",
          "2018-08-15T00:00:00",
          "2018-08-14T00:00:00",
          "2018-08-13T00:00:00",
          "2018-08-10T00:00:00",
          "2018-08-09T00:00:00",
          "2018-08-08T00:00:00"
         ],
         "y": [
          null,
          null,
          null,
          null,
          219.452,
          218.48600000000002,
          219.43,
          220.712,
          221.148,
          223.856,
          226.998,
          227.48000000000002,
          228.17800000000003,
          228.468,
          227.85999999999999,
          225.53000000000003,
          224.112,
          222.81800000000004,
          221.202,
          220.218,
          219.808,
          219.01799999999997,
          218.436,
          219.67200000000003,
          220.948,
          221.488,
          222.60999999999999,
          222.7,
          222.192,
          221.52999999999997,
          222.69,
          223.592,
          225.452,
          226.198,
          226.17399999999998,
          224.74,
          222.656,
          220.362,
          218.454,
          216.868,
          215.936,
          215.44,
          215.72400000000002,
          215.29000000000002,
          214.32800000000003,
          213.26999999999998,
          211.952,
          209.942,
          209.054,
          208.456
         ]
        }
       ],
       "layout": {
        "template": {
         "data": {
          "bar": [
           {
            "error_x": {
             "color": "#2a3f5f"
            },
            "error_y": {
             "color": "#2a3f5f"
            },
            "marker": {
             "line": {
              "color": "#E5ECF6",
              "width": 0.5
             },
             "pattern": {
              "fillmode": "overlay",
              "size": 10,
              "solidity": 0.2
             }
            },
            "type": "bar"
           }
          ],
          "barpolar": [
           {
            "marker": {
             "line": {
              "color": "#E5ECF6",
              "width": 0.5
             },
             "pattern": {
              "fillmode": "overlay",
              "size": 10,
              "solidity": 0.2
             }
            },
            "type": "barpolar"
           }
          ],
          "carpet": [
           {
            "aaxis": {
             "endlinecolor": "#2a3f5f",
             "gridcolor": "white",
             "linecolor": "white",
             "minorgridcolor": "white",
             "startlinecolor": "#2a3f5f"
            },
            "baxis": {
             "endlinecolor": "#2a3f5f",
             "gridcolor": "white",
             "linecolor": "white",
             "minorgridcolor": "white",
             "startlinecolor": "#2a3f5f"
            },
            "type": "carpet"
           }
          ],
          "choropleth": [
           {
            "colorbar": {
             "outlinewidth": 0,
             "ticks": ""
            },
            "type": "choropleth"
           }
          ],
          "contour": [
           {
            "colorbar": {
             "outlinewidth": 0,
             "ticks": ""
            },
            "colorscale": [
             [
              0,
              "#0d0887"
             ],
             [
              0.1111111111111111,
              "#46039f"
             ],
             [
              0.2222222222222222,
              "#7201a8"
             ],
             [
              0.3333333333333333,
              "#9c179e"
             ],
             [
              0.4444444444444444,
              "#bd3786"
             ],
             [
              0.5555555555555556,
              "#d8576b"
             ],
             [
              0.6666666666666666,
              "#ed7953"
             ],
             [
              0.7777777777777778,
              "#fb9f3a"
             ],
             [
              0.8888888888888888,
              "#fdca26"
             ],
             [
              1,
              "#f0f921"
             ]
            ],
            "type": "contour"
           }
          ],
          "contourcarpet": [
           {
            "colorbar": {
             "outlinewidth": 0,
             "ticks": ""
            },
            "type": "contourcarpet"
           }
          ],
          "heatmap": [
           {
            "colorbar": {
             "outlinewidth": 0,
             "ticks": ""
            },
            "colorscale": [
             [
              0,
              "#0d0887"
             ],
             [
              0.1111111111111111,
              "#46039f"
             ],
             [
              0.2222222222222222,
              "#7201a8"
             ],
             [
              0.3333333333333333,
              "#9c179e"
             ],
             [
              0.4444444444444444,
              "#bd3786"
             ],
             [
              0.5555555555555556,
              "#d8576b"
             ],
             [
              0.6666666666666666,
              "#ed7953"
             ],
             [
              0.7777777777777778,
              "#fb9f3a"
             ],
             [
              0.8888888888888888,
              "#fdca26"
             ],
             [
              1,
              "#f0f921"
             ]
            ],
            "type": "heatmap"
           }
          ],
          "heatmapgl": [
           {
            "colorbar": {
             "outlinewidth": 0,
             "ticks": ""
            },
            "colorscale": [
             [
              0,
              "#0d0887"
             ],
             [
              0.1111111111111111,
              "#46039f"
             ],
             [
              0.2222222222222222,
              "#7201a8"
             ],
             [
              0.3333333333333333,
              "#9c179e"
             ],
             [
              0.4444444444444444,
              "#bd3786"
             ],
             [
              0.5555555555555556,
              "#d8576b"
             ],
             [
              0.6666666666666666,
              "#ed7953"
             ],
             [
              0.7777777777777778,
              "#fb9f3a"
             ],
             [
              0.8888888888888888,
              "#fdca26"
             ],
             [
              1,
              "#f0f921"
             ]
            ],
            "type": "heatmapgl"
           }
          ],
          "histogram": [
           {
            "marker": {
             "pattern": {
              "fillmode": "overlay",
              "size": 10,
              "solidity": 0.2
             }
            },
            "type": "histogram"
           }
          ],
          "histogram2d": [
           {
            "colorbar": {
             "outlinewidth": 0,
             "ticks": ""
            },
            "colorscale": [
             [
              0,
              "#0d0887"
             ],
             [
              0.1111111111111111,
              "#46039f"
             ],
             [
              0.2222222222222222,
              "#7201a8"
             ],
             [
              0.3333333333333333,
              "#9c179e"
             ],
             [
              0.4444444444444444,
              "#bd3786"
             ],
             [
              0.5555555555555556,
              "#d8576b"
             ],
             [
              0.6666666666666666,
              "#ed7953"
             ],
             [
              0.7777777777777778,
              "#fb9f3a"
             ],
             [
              0.8888888888888888,
              "#fdca26"
             ],
             [
              1,
              "#f0f921"
             ]
            ],
            "type": "histogram2d"
           }
          ],
          "histogram2dcontour": [
           {
            "colorbar": {
             "outlinewidth": 0,
             "ticks": ""
            },
            "colorscale": [
             [
              0,
              "#0d0887"
             ],
             [
              0.1111111111111111,
              "#46039f"
             ],
             [
              0.2222222222222222,
              "#7201a8"
             ],
             [
              0.3333333333333333,
              "#9c179e"
             ],
             [
              0.4444444444444444,
              "#bd3786"
             ],
             [
              0.5555555555555556,
              "#d8576b"
             ],
             [
              0.6666666666666666,
              "#ed7953"
             ],
             [
              0.7777777777777778,
              "#fb9f3a"
             ],
             [
              0.8888888888888888,
              "#fdca26"
             ],
             [
              1,
              "#f0f921"
             ]
            ],
            "type": "histogram2dcontour"
           }
          ],
          "mesh3d": [
           {
            "colorbar": {
             "outlinewidth": 0,
             "ticks": ""
            },
            "type": "mesh3d"
           }
          ],
          "parcoords": [
           {
            "line": {
             "colorbar": {
              "outlinewidth": 0,
              "ticks": ""
             }
            },
            "type": "parcoords"
           }
          ],
          "pie": [
           {
            "automargin": true,
            "type": "pie"
           }
          ],
          "scatter": [
           {
            "marker": {
             "colorbar": {
              "outlinewidth": 0,
              "ticks": ""
             }
            },
            "type": "scatter"
           }
          ],
          "scatter3d": [
           {
            "line": {
             "colorbar": {
              "outlinewidth": 0,
              "ticks": ""
             }
            },
            "marker": {
             "colorbar": {
              "outlinewidth": 0,
              "ticks": ""
             }
            },
            "type": "scatter3d"
           }
          ],
          "scattercarpet": [
           {
            "marker": {
             "colorbar": {
              "outlinewidth": 0,
              "ticks": ""
             }
            },
            "type": "scattercarpet"
           }
          ],
          "scattergeo": [
           {
            "marker": {
             "colorbar": {
              "outlinewidth": 0,
              "ticks": ""
             }
            },
            "type": "scattergeo"
           }
          ],
          "scattergl": [
           {
            "marker": {
             "colorbar": {
              "outlinewidth": 0,
              "ticks": ""
             }
            },
            "type": "scattergl"
           }
          ],
          "scattermapbox": [
           {
            "marker": {
             "colorbar": {
              "outlinewidth": 0,
              "ticks": ""
             }
            },
            "type": "scattermapbox"
           }
          ],
          "scatterpolar": [
           {
            "marker": {
             "colorbar": {
              "outlinewidth": 0,
              "ticks": ""
             }
            },
            "type": "scatterpolar"
           }
          ],
          "scatterpolargl": [
           {
            "marker": {
             "colorbar": {
              "outlinewidth": 0,
              "ticks": ""
             }
            },
            "type": "scatterpolargl"
           }
          ],
          "scatterternary": [
           {
            "marker": {
             "colorbar": {
              "outlinewidth": 0,
              "ticks": ""
             }
            },
            "type": "scatterternary"
           }
          ],
          "surface": [
           {
            "colorbar": {
             "outlinewidth": 0,
             "ticks": ""
            },
            "colorscale": [
             [
              0,
              "#0d0887"
             ],
             [
              0.1111111111111111,
              "#46039f"
             ],
             [
              0.2222222222222222,
              "#7201a8"
             ],
             [
              0.3333333333333333,
              "#9c179e"
             ],
             [
              0.4444444444444444,
              "#bd3786"
             ],
             [
              0.5555555555555556,
              "#d8576b"
             ],
             [
              0.6666666666666666,
              "#ed7953"
             ],
             [
              0.7777777777777778,
              "#fb9f3a"
             ],
             [
              0.8888888888888888,
              "#fdca26"
             ],
             [
              1,
              "#f0f921"
             ]
            ],
            "type": "surface"
           }
          ],
          "table": [
           {
            "cells": {
             "fill": {
              "color": "#EBF0F8"
             },
             "line": {
              "color": "white"
             }
            },
            "header": {
             "fill": {
              "color": "#C8D4E3"
             },
             "line": {
              "color": "white"
             }
            },
            "type": "table"
           }
          ]
         },
         "layout": {
          "annotationdefaults": {
           "arrowcolor": "#2a3f5f",
           "arrowhead": 0,
           "arrowwidth": 1
          },
          "autotypenumbers": "strict",
          "coloraxis": {
           "colorbar": {
            "outlinewidth": 0,
            "ticks": ""
           }
          },
          "colorscale": {
           "diverging": [
            [
             0,
             "#8e0152"
            ],
            [
             0.1,
             "#c51b7d"
            ],
            [
             0.2,
             "#de77ae"
            ],
            [
             0.3,
             "#f1b6da"
            ],
            [
             0.4,
             "#fde0ef"
            ],
            [
             0.5,
             "#f7f7f7"
            ],
            [
             0.6,
             "#e6f5d0"
            ],
            [
             0.7,
             "#b8e186"
            ],
            [
             0.8,
             "#7fbc41"
            ],
            [
             0.9,
             "#4d9221"
            ],
            [
             1,
             "#276419"
            ]
           ],
           "sequential": [
            [
             0,
             "#0d0887"
            ],
            [
             0.1111111111111111,
             "#46039f"
            ],
            [
             0.2222222222222222,
             "#7201a8"
            ],
            [
             0.3333333333333333,
             "#9c179e"
            ],
            [
             0.4444444444444444,
             "#bd3786"
            ],
            [
             0.5555555555555556,
             "#d8576b"
            ],
            [
             0.6666666666666666,
             "#ed7953"
            ],
            [
             0.7777777777777778,
             "#fb9f3a"
            ],
            [
             0.8888888888888888,
             "#fdca26"
            ],
            [
             1,
             "#f0f921"
            ]
           ],
           "sequentialminus": [
            [
             0,
             "#0d0887"
            ],
            [
             0.1111111111111111,
             "#46039f"
            ],
            [
             0.2222222222222222,
             "#7201a8"
            ],
            [
             0.3333333333333333,
             "#9c179e"
            ],
            [
             0.4444444444444444,
             "#bd3786"
            ],
            [
             0.5555555555555556,
             "#d8576b"
            ],
            [
             0.6666666666666666,
             "#ed7953"
            ],
            [
             0.7777777777777778,
             "#fb9f3a"
            ],
            [
             0.8888888888888888,
             "#fdca26"
            ],
            [
             1,
             "#f0f921"
            ]
           ]
          },
          "colorway": [
           "#636efa",
           "#EF553B",
           "#00cc96",
           "#ab63fa",
           "#FFA15A",
           "#19d3f3",
           "#FF6692",
           "#B6E880",
           "#FF97FF",
           "#FECB52"
          ],
          "font": {
           "color": "#2a3f5f"
          },
          "geo": {
           "bgcolor": "white",
           "lakecolor": "white",
           "landcolor": "#E5ECF6",
           "showlakes": true,
           "showland": true,
           "subunitcolor": "white"
          },
          "hoverlabel": {
           "align": "left"
          },
          "hovermode": "closest",
          "mapbox": {
           "style": "light"
          },
          "paper_bgcolor": "white",
          "plot_bgcolor": "#E5ECF6",
          "polar": {
           "angularaxis": {
            "gridcolor": "white",
            "linecolor": "white",
            "ticks": ""
           },
           "bgcolor": "#E5ECF6",
           "radialaxis": {
            "gridcolor": "white",
            "linecolor": "white",
            "ticks": ""
           }
          },
          "scene": {
           "xaxis": {
            "backgroundcolor": "#E5ECF6",
            "gridcolor": "white",
            "gridwidth": 2,
            "linecolor": "white",
            "showbackground": true,
            "ticks": "",
            "zerolinecolor": "white"
           },
           "yaxis": {
            "backgroundcolor": "#E5ECF6",
            "gridcolor": "white",
            "gridwidth": 2,
            "linecolor": "white",
            "showbackground": true,
            "ticks": "",
            "zerolinecolor": "white"
           },
           "zaxis": {
            "backgroundcolor": "#E5ECF6",
            "gridcolor": "white",
            "gridwidth": 2,
            "linecolor": "white",
            "showbackground": true,
            "ticks": "",
            "zerolinecolor": "white"
           }
          },
          "shapedefaults": {
           "line": {
            "color": "#2a3f5f"
           }
          },
          "ternary": {
           "aaxis": {
            "gridcolor": "white",
            "linecolor": "white",
            "ticks": ""
           },
           "baxis": {
            "gridcolor": "white",
            "linecolor": "white",
            "ticks": ""
           },
           "bgcolor": "#E5ECF6",
           "caxis": {
            "gridcolor": "white",
            "linecolor": "white",
            "ticks": ""
           }
          },
          "title": {
           "x": 0.05
          },
          "xaxis": {
           "automargin": true,
           "gridcolor": "white",
           "linecolor": "white",
           "ticks": "",
           "title": {
            "standoff": 15
           },
           "zerolinecolor": "white",
           "zerolinewidth": 2
          },
          "yaxis": {
           "automargin": true,
           "gridcolor": "white",
           "linecolor": "white",
           "ticks": "",
           "title": {
            "standoff": 15
           },
           "zerolinecolor": "white",
           "zerolinewidth": 2
          }
         }
        },
        "xaxis": {
         "autorange": true,
         "categoryorder": "category ascending",
         "gridcolor": "rgb(180,180,18,0)",
         "showgrid": true,
         "showline": true,
         "tickangle": -60,
         "type": "category"
        },
        "yaxis": {
         "autorange": true,
         "gridcolor": "#3d3d4f"
        }
       }
      },
      "text/html": [
       "<div>                            <div id=\"d790b8fa-f955-4478-9f7f-97ee0dca9ef0\" class=\"plotly-graph-div\" style=\"height:525px; width:100%;\"></div>            <script type=\"text/javascript\">                require([\"plotly\"], function(Plotly) {                    window.PLOTLYENV=window.PLOTLYENV || {};                                    if (document.getElementById(\"d790b8fa-f955-4478-9f7f-97ee0dca9ef0\")) {                    Plotly.newPlot(                        \"d790b8fa-f955-4478-9f7f-97ee0dca9ef0\",                        [{\"close\":[221.19,222.15,217.36,222.11,214.45,216.36,226.87,223.77,224.29,227.99,232.07,229.28,227.26,225.74,224.95,220.42,222.19,220.79,217.66,220.03,218.37,218.24,217.88,223.84,226.41,221.07,223.85,218.33,221.3,223.1,226.87,228.36,227.63,225.03,222.98,219.7,217.94,216.16,215.49,215.05,215.04,215.46,217.58,213.32,210.24,209.75,208.87,207.53,208.88,207.25],\"high\":[222.64,222.99,221.83,222.88,219.5,226.35,227.27,224.8,228.41,232.35,233.47,230.0,229.42,225.84,226.44,223.75,222.82,221.26,221.36,222.28,219.62,221.85,222.95,226.84,228.35,225.0,224.299,221.85,225.37,227.35,229.67,229.18,228.87,228.26,223.49,220.54,218.74,216.9,217.05,216.36,217.19,219.18,217.95,213.8121,210.74,210.56,210.952,209.1,209.78,207.81],\"low\":[219.34,216.7627,217.27,216.84,212.32,216.05,222.2462,220.2,220.58,226.73,229.78,226.63,226.35,224.02,223.54,219.76,219.7,216.63,217.29,219.15,215.3,217.12,217.27,222.522,222.57,219.84,216.56,216.47,220.71,221.3,225.1,226.63,226.0,222.4,219.41,218.92,216.33,215.11,214.6,213.84,214.025,215.11,213.16,211.47,208.33,208.26,207.7,206.67,207.2,204.52],\"open\":[222.3,218.93,221.16,220.42,214.52,225.46,223.64,222.21,227.96,230.78,230.05,227.25,227.95,224.79,223.82,221.0,219.75,216.82,220.78,220.24,218.5,217.79,222.15,225.75,223.52,224.94,218.01,220.95,221.85,226.23,228.99,228.41,226.51,223.25,220.15,219.01,217.15,216.6,214.65,214.1,216.8,218.1,213.44,211.75,209.22,210.155,207.7,207.36,207.28,206.05],\"type\":\"candlestick\",\"x\":[\"2018-10-17T00:00:00\",\"2018-10-16T00:00:00\",\"2018-10-15T00:00:00\",\"2018-10-12T00:00:00\",\"2018-10-11T00:00:00\",\"2018-10-10T00:00:00\",\"2018-10-09T00:00:00\",\"2018-10-08T00:00:00\",\"2018-10-05T00:00:00\",\"2018-10-04T00:00:00\",\"2018-10-03T00:00:00\",\"2018-10-02T00:00:00\",\"2018-10-01T00:00:00\",\"2018-09-28T00:00:00\",\"2018-09-27T00:00:00\",\"2018-09-26T00:00:00\",\"2018-09-25T00:00:00\",\"2018-09-24T00:00:00\",\"2018-09-21T00:00:00\",\"2018-09-20T00:00:00\",\"2018-09-19T00:00:00\",\"2018-09-18T00:00:00\",\"2018-09-17T00:00:00\",\"2018-09-14T00:00:00\",\"2018-09-13T00:00:00\",\"2018-09-12T00:00:00\",\"2018-09-11T00:00:00\",\"2018-09-10T00:00:00\",\"2018-09-07T00:00:00\",\"2018-09-06T00:00:00\",\"2018-09-05T00:00:00\",\"2018-09-04T00:00:00\",\"2018-08-31T00:00:00\",\"2018-08-30T00:00:00\",\"2018-08-29T00:00:00\",\"2018-08-28T00:00:00\",\"2018-08-27T00:00:00\",\"2018-08-24T00:00:00\",\"2018-08-23T00:00:00\",\"2018-08-22T00:00:00\",\"2018-08-21T00:00:00\",\"2018-08-20T00:00:00\",\"2018-08-17T00:00:00\",\"2018-08-16T00:00:00\",\"2018-08-15T00:00:00\",\"2018-08-14T00:00:00\",\"2018-08-13T00:00:00\",\"2018-08-10T00:00:00\",\"2018-08-09T00:00:00\",\"2018-08-08T00:00:00\"]},{\"line\":{\"color\":\"black\"},\"name\":\"5 days mean\",\"type\":\"scatter\",\"x\":[\"2018-10-17T00:00:00\",\"2018-10-16T00:00:00\",\"2018-10-15T00:00:00\",\"2018-10-12T00:00:00\",\"2018-10-11T00:00:00\",\"2018-10-10T00:00:00\",\"2018-10-09T00:00:00\",\"2018-10-08T00:00:00\",\"2018-10-05T00:00:00\",\"2018-10-04T00:00:00\",\"2018-10-03T00:00:00\",\"2018-10-02T00:00:00\",\"2018-10-01T00:00:00\",\"2018-09-28T00:00:00\",\"2018-09-27T00:00:00\",\"2018-09-26T00:00:00\",\"2018-09-25T00:00:00\",\"2018-09-24T00:00:00\",\"2018-09-21T00:00:00\",\"2018-09-20T00:00:00\",\"2018-09-19T00:00:00\",\"2018-09-18T00:00:00\",\"2018-09-17T00:00:00\",\"2018-09-14T00:00:00\",\"2018-09-13T00:00:00\",\"2018-09-12T00:00:00\",\"2018-09-11T00:00:00\",\"2018-09-10T00:00:00\",\"2018-09-07T00:00:00\",\"2018-09-06T00:00:00\",\"2018-09-05T00:00:00\",\"2018-09-04T00:00:00\",\"2018-08-31T00:00:00\",\"2018-08-30T00:00:00\",\"2018-08-29T00:00:00\",\"2018-08-28T00:00:00\",\"2018-08-27T00:00:00\",\"2018-08-24T00:00:00\",\"2018-08-23T00:00:00\",\"2018-08-22T00:00:00\",\"2018-08-21T00:00:00\",\"2018-08-20T00:00:00\",\"2018-08-17T00:00:00\",\"2018-08-16T00:00:00\",\"2018-08-15T00:00:00\",\"2018-08-14T00:00:00\",\"2018-08-13T00:00:00\",\"2018-08-10T00:00:00\",\"2018-08-09T00:00:00\",\"2018-08-08T00:00:00\"],\"y\":[null,null,null,null,219.452,218.48600000000002,219.43,220.712,221.148,223.856,226.998,227.48000000000002,228.17800000000003,228.468,227.85999999999999,225.53000000000003,224.112,222.81800000000004,221.202,220.218,219.808,219.01799999999997,218.436,219.67200000000003,220.948,221.488,222.60999999999999,222.7,222.192,221.52999999999997,222.69,223.592,225.452,226.198,226.17399999999998,224.74,222.656,220.362,218.454,216.868,215.936,215.44,215.72400000000002,215.29000000000002,214.32800000000003,213.26999999999998,211.952,209.942,209.054,208.456]}],                        {\"template\":{\"data\":{\"bar\":[{\"error_x\":{\"color\":\"#2a3f5f\"},\"error_y\":{\"color\":\"#2a3f5f\"},\"marker\":{\"line\":{\"color\":\"#E5ECF6\",\"width\":0.5},\"pattern\":{\"fillmode\":\"overlay\",\"size\":10,\"solidity\":0.2}},\"type\":\"bar\"}],\"barpolar\":[{\"marker\":{\"line\":{\"color\":\"#E5ECF6\",\"width\":0.5},\"pattern\":{\"fillmode\":\"overlay\",\"size\":10,\"solidity\":0.2}},\"type\":\"barpolar\"}],\"carpet\":[{\"aaxis\":{\"endlinecolor\":\"#2a3f5f\",\"gridcolor\":\"white\",\"linecolor\":\"white\",\"minorgridcolor\":\"white\",\"startlinecolor\":\"#2a3f5f\"},\"baxis\":{\"endlinecolor\":\"#2a3f5f\",\"gridcolor\":\"white\",\"linecolor\":\"white\",\"minorgridcolor\":\"white\",\"startlinecolor\":\"#2a3f5f\"},\"type\":\"carpet\"}],\"choropleth\":[{\"colorbar\":{\"outlinewidth\":0,\"ticks\":\"\"},\"type\":\"choropleth\"}],\"contour\":[{\"colorbar\":{\"outlinewidth\":0,\"ticks\":\"\"},\"colorscale\":[[0.0,\"#0d0887\"],[0.1111111111111111,\"#46039f\"],[0.2222222222222222,\"#7201a8\"],[0.3333333333333333,\"#9c179e\"],[0.4444444444444444,\"#bd3786\"],[0.5555555555555556,\"#d8576b\"],[0.6666666666666666,\"#ed7953\"],[0.7777777777777778,\"#fb9f3a\"],[0.8888888888888888,\"#fdca26\"],[1.0,\"#f0f921\"]],\"type\":\"contour\"}],\"contourcarpet\":[{\"colorbar\":{\"outlinewidth\":0,\"ticks\":\"\"},\"type\":\"contourcarpet\"}],\"heatmap\":[{\"colorbar\":{\"outlinewidth\":0,\"ticks\":\"\"},\"colorscale\":[[0.0,\"#0d0887\"],[0.1111111111111111,\"#46039f\"],[0.2222222222222222,\"#7201a8\"],[0.3333333333333333,\"#9c179e\"],[0.4444444444444444,\"#bd3786\"],[0.5555555555555556,\"#d8576b\"],[0.6666666666666666,\"#ed7953\"],[0.7777777777777778,\"#fb9f3a\"],[0.8888888888888888,\"#fdca26\"],[1.0,\"#f0f921\"]],\"type\":\"heatmap\"}],\"heatmapgl\":[{\"colorbar\":{\"outlinewidth\":0,\"ticks\":\"\"},\"colorscale\":[[0.0,\"#0d0887\"],[0.1111111111111111,\"#46039f\"],[0.2222222222222222,\"#7201a8\"],[0.3333333333333333,\"#9c179e\"],[0.4444444444444444,\"#bd3786\"],[0.5555555555555556,\"#d8576b\"],[0.6666666666666666,\"#ed7953\"],[0.7777777777777778,\"#fb9f3a\"],[0.8888888888888888,\"#fdca26\"],[1.0,\"#f0f921\"]],\"type\":\"heatmapgl\"}],\"histogram\":[{\"marker\":{\"pattern\":{\"fillmode\":\"overlay\",\"size\":10,\"solidity\":0.2}},\"type\":\"histogram\"}],\"histogram2d\":[{\"colorbar\":{\"outlinewidth\":0,\"ticks\":\"\"},\"colorscale\":[[0.0,\"#0d0887\"],[0.1111111111111111,\"#46039f\"],[0.2222222222222222,\"#7201a8\"],[0.3333333333333333,\"#9c179e\"],[0.4444444444444444,\"#bd3786\"],[0.5555555555555556,\"#d8576b\"],[0.6666666666666666,\"#ed7953\"],[0.7777777777777778,\"#fb9f3a\"],[0.8888888888888888,\"#fdca26\"],[1.0,\"#f0f921\"]],\"type\":\"histogram2d\"}],\"histogram2dcontour\":[{\"colorbar\":{\"outlinewidth\":0,\"ticks\":\"\"},\"colorscale\":[[0.0,\"#0d0887\"],[0.1111111111111111,\"#46039f\"],[0.2222222222222222,\"#7201a8\"],[0.3333333333333333,\"#9c179e\"],[0.4444444444444444,\"#bd3786\"],[0.5555555555555556,\"#d8576b\"],[0.6666666666666666,\"#ed7953\"],[0.7777777777777778,\"#fb9f3a\"],[0.8888888888888888,\"#fdca26\"],[1.0,\"#f0f921\"]],\"type\":\"histogram2dcontour\"}],\"mesh3d\":[{\"colorbar\":{\"outlinewidth\":0,\"ticks\":\"\"},\"type\":\"mesh3d\"}],\"parcoords\":[{\"line\":{\"colorbar\":{\"outlinewidth\":0,\"ticks\":\"\"}},\"type\":\"parcoords\"}],\"pie\":[{\"automargin\":true,\"type\":\"pie\"}],\"scatter\":[{\"marker\":{\"colorbar\":{\"outlinewidth\":0,\"ticks\":\"\"}},\"type\":\"scatter\"}],\"scatter3d\":[{\"line\":{\"colorbar\":{\"outlinewidth\":0,\"ticks\":\"\"}},\"marker\":{\"colorbar\":{\"outlinewidth\":0,\"ticks\":\"\"}},\"type\":\"scatter3d\"}],\"scattercarpet\":[{\"marker\":{\"colorbar\":{\"outlinewidth\":0,\"ticks\":\"\"}},\"type\":\"scattercarpet\"}],\"scattergeo\":[{\"marker\":{\"colorbar\":{\"outlinewidth\":0,\"ticks\":\"\"}},\"type\":\"scattergeo\"}],\"scattergl\":[{\"marker\":{\"colorbar\":{\"outlinewidth\":0,\"ticks\":\"\"}},\"type\":\"scattergl\"}],\"scattermapbox\":[{\"marker\":{\"colorbar\":{\"outlinewidth\":0,\"ticks\":\"\"}},\"type\":\"scattermapbox\"}],\"scatterpolar\":[{\"marker\":{\"colorbar\":{\"outlinewidth\":0,\"ticks\":\"\"}},\"type\":\"scatterpolar\"}],\"scatterpolargl\":[{\"marker\":{\"colorbar\":{\"outlinewidth\":0,\"ticks\":\"\"}},\"type\":\"scatterpolargl\"}],\"scatterternary\":[{\"marker\":{\"colorbar\":{\"outlinewidth\":0,\"ticks\":\"\"}},\"type\":\"scatterternary\"}],\"surface\":[{\"colorbar\":{\"outlinewidth\":0,\"ticks\":\"\"},\"colorscale\":[[0.0,\"#0d0887\"],[0.1111111111111111,\"#46039f\"],[0.2222222222222222,\"#7201a8\"],[0.3333333333333333,\"#9c179e\"],[0.4444444444444444,\"#bd3786\"],[0.5555555555555556,\"#d8576b\"],[0.6666666666666666,\"#ed7953\"],[0.7777777777777778,\"#fb9f3a\"],[0.8888888888888888,\"#fdca26\"],[1.0,\"#f0f921\"]],\"type\":\"surface\"}],\"table\":[{\"cells\":{\"fill\":{\"color\":\"#EBF0F8\"},\"line\":{\"color\":\"white\"}},\"header\":{\"fill\":{\"color\":\"#C8D4E3\"},\"line\":{\"color\":\"white\"}},\"type\":\"table\"}]},\"layout\":{\"annotationdefaults\":{\"arrowcolor\":\"#2a3f5f\",\"arrowhead\":0,\"arrowwidth\":1},\"autotypenumbers\":\"strict\",\"coloraxis\":{\"colorbar\":{\"outlinewidth\":0,\"ticks\":\"\"}},\"colorscale\":{\"diverging\":[[0,\"#8e0152\"],[0.1,\"#c51b7d\"],[0.2,\"#de77ae\"],[0.3,\"#f1b6da\"],[0.4,\"#fde0ef\"],[0.5,\"#f7f7f7\"],[0.6,\"#e6f5d0\"],[0.7,\"#b8e186\"],[0.8,\"#7fbc41\"],[0.9,\"#4d9221\"],[1,\"#276419\"]],\"sequential\":[[0.0,\"#0d0887\"],[0.1111111111111111,\"#46039f\"],[0.2222222222222222,\"#7201a8\"],[0.3333333333333333,\"#9c179e\"],[0.4444444444444444,\"#bd3786\"],[0.5555555555555556,\"#d8576b\"],[0.6666666666666666,\"#ed7953\"],[0.7777777777777778,\"#fb9f3a\"],[0.8888888888888888,\"#fdca26\"],[1.0,\"#f0f921\"]],\"sequentialminus\":[[0.0,\"#0d0887\"],[0.1111111111111111,\"#46039f\"],[0.2222222222222222,\"#7201a8\"],[0.3333333333333333,\"#9c179e\"],[0.4444444444444444,\"#bd3786\"],[0.5555555555555556,\"#d8576b\"],[0.6666666666666666,\"#ed7953\"],[0.7777777777777778,\"#fb9f3a\"],[0.8888888888888888,\"#fdca26\"],[1.0,\"#f0f921\"]]},\"colorway\":[\"#636efa\",\"#EF553B\",\"#00cc96\",\"#ab63fa\",\"#FFA15A\",\"#19d3f3\",\"#FF6692\",\"#B6E880\",\"#FF97FF\",\"#FECB52\"],\"font\":{\"color\":\"#2a3f5f\"},\"geo\":{\"bgcolor\":\"white\",\"lakecolor\":\"white\",\"landcolor\":\"#E5ECF6\",\"showlakes\":true,\"showland\":true,\"subunitcolor\":\"white\"},\"hoverlabel\":{\"align\":\"left\"},\"hovermode\":\"closest\",\"mapbox\":{\"style\":\"light\"},\"paper_bgcolor\":\"white\",\"plot_bgcolor\":\"#E5ECF6\",\"polar\":{\"angularaxis\":{\"gridcolor\":\"white\",\"linecolor\":\"white\",\"ticks\":\"\"},\"bgcolor\":\"#E5ECF6\",\"radialaxis\":{\"gridcolor\":\"white\",\"linecolor\":\"white\",\"ticks\":\"\"}},\"scene\":{\"xaxis\":{\"backgroundcolor\":\"#E5ECF6\",\"gridcolor\":\"white\",\"gridwidth\":2,\"linecolor\":\"white\",\"showbackground\":true,\"ticks\":\"\",\"zerolinecolor\":\"white\"},\"yaxis\":{\"backgroundcolor\":\"#E5ECF6\",\"gridcolor\":\"white\",\"gridwidth\":2,\"linecolor\":\"white\",\"showbackground\":true,\"ticks\":\"\",\"zerolinecolor\":\"white\"},\"zaxis\":{\"backgroundcolor\":\"#E5ECF6\",\"gridcolor\":\"white\",\"gridwidth\":2,\"linecolor\":\"white\",\"showbackground\":true,\"ticks\":\"\",\"zerolinecolor\":\"white\"}},\"shapedefaults\":{\"line\":{\"color\":\"#2a3f5f\"}},\"ternary\":{\"aaxis\":{\"gridcolor\":\"white\",\"linecolor\":\"white\",\"ticks\":\"\"},\"baxis\":{\"gridcolor\":\"white\",\"linecolor\":\"white\",\"ticks\":\"\"},\"bgcolor\":\"#E5ECF6\",\"caxis\":{\"gridcolor\":\"white\",\"linecolor\":\"white\",\"ticks\":\"\"}},\"title\":{\"x\":0.05},\"xaxis\":{\"automargin\":true,\"gridcolor\":\"white\",\"linecolor\":\"white\",\"ticks\":\"\",\"title\":{\"standoff\":15},\"zerolinecolor\":\"white\",\"zerolinewidth\":2},\"yaxis\":{\"automargin\":true,\"gridcolor\":\"white\",\"linecolor\":\"white\",\"ticks\":\"\",\"title\":{\"standoff\":15},\"zerolinecolor\":\"white\",\"zerolinewidth\":2}}},\"xaxis\":{\"autorange\":true,\"categoryorder\":\"category ascending\",\"gridcolor\":\"rgb(180,180,18,0)\",\"showgrid\":true,\"showline\":true,\"tickangle\":-60,\"type\":\"category\"},\"yaxis\":{\"autorange\":true,\"gridcolor\":\"#3d3d4f\"}},                        {\"responsive\": true}                    ).then(function(){\n",
       "                            \n",
       "var gd = document.getElementById('d790b8fa-f955-4478-9f7f-97ee0dca9ef0');\n",
       "var x = new MutationObserver(function (mutations, observer) {{\n",
       "        var display = window.getComputedStyle(gd).display;\n",
       "        if (!display || display === 'none') {{\n",
       "            console.log([gd, 'removed!']);\n",
       "            Plotly.purge(gd);\n",
       "            observer.disconnect();\n",
       "        }}\n",
       "}});\n",
       "\n",
       "// Listen for the removal of the full notebook cells\n",
       "var notebookContainer = gd.closest('#notebook-container');\n",
       "if (notebookContainer) {{\n",
       "    x.observe(notebookContainer, {childList: true});\n",
       "}}\n",
       "\n",
       "// Listen for the clearing of the current output cell\n",
       "var outputEl = gd.closest('.output');\n",
       "if (outputEl) {{\n",
       "    x.observe(outputEl, {childList: true});\n",
       "}}\n",
       "\n",
       "                        })                };                });            </script>        </div>"
      ]
     },
     "metadata": {}
    }
   ],
   "metadata": {}
  },
  {
   "cell_type": "code",
   "execution_count": 26,
   "source": [
    "## 图表混合"
   ],
   "outputs": [],
   "metadata": {}
  },
  {
   "cell_type": "code",
   "execution_count": 28,
   "source": [
    "stus=pd.read_csv('~/data/cbcpv/school/school.csv')\n",
    "stus.sample(5)"
   ],
   "outputs": [
    {
     "output_type": "execute_result",
     "data": {
      "text/html": [
       "<div>\n",
       "<style scoped>\n",
       "    .dataframe tbody tr th:only-of-type {\n",
       "        vertical-align: middle;\n",
       "    }\n",
       "\n",
       "    .dataframe tbody tr th {\n",
       "        vertical-align: top;\n",
       "    }\n",
       "\n",
       "    .dataframe thead th {\n",
       "        text-align: right;\n",
       "    }\n",
       "</style>\n",
       "<table border=\"1\" class=\"dataframe\">\n",
       "  <thead>\n",
       "    <tr style=\"text-align: right;\">\n",
       "      <th></th>\n",
       "      <th>School</th>\n",
       "      <th>Women</th>\n",
       "      <th>Men</th>\n",
       "      <th>Gap</th>\n",
       "    </tr>\n",
       "  </thead>\n",
       "  <tbody>\n",
       "    <tr>\n",
       "      <th>18</th>\n",
       "      <td>Emory</td>\n",
       "      <td>68</td>\n",
       "      <td>82</td>\n",
       "      <td>14</td>\n",
       "    </tr>\n",
       "    <tr>\n",
       "      <th>13</th>\n",
       "      <td>Notre Dame</td>\n",
       "      <td>73</td>\n",
       "      <td>100</td>\n",
       "      <td>27</td>\n",
       "    </tr>\n",
       "    <tr>\n",
       "      <th>2</th>\n",
       "      <td>Harvard</td>\n",
       "      <td>112</td>\n",
       "      <td>165</td>\n",
       "      <td>53</td>\n",
       "    </tr>\n",
       "    <tr>\n",
       "      <th>4</th>\n",
       "      <td>Princeton</td>\n",
       "      <td>90</td>\n",
       "      <td>137</td>\n",
       "      <td>47</td>\n",
       "    </tr>\n",
       "    <tr>\n",
       "      <th>20</th>\n",
       "      <td>SoCal</td>\n",
       "      <td>72</td>\n",
       "      <td>81</td>\n",
       "      <td>9</td>\n",
       "    </tr>\n",
       "  </tbody>\n",
       "</table>\n",
       "</div>"
      ],
      "text/plain": [
       "        School  Women  Men  Gap\n",
       "18       Emory     68   82   14\n",
       "13  Notre Dame     73  100   27\n",
       "2      Harvard    112  165   53\n",
       "4    Princeton     90  137   47\n",
       "20       SoCal     72   81    9"
      ]
     },
     "metadata": {},
     "execution_count": 28
    }
   ],
   "metadata": {}
  },
  {
   "cell_type": "code",
   "execution_count": 29,
   "source": [
    "import plotly.figure_factory as ff\n",
    "table=ff.create_table(stus, index=True)\n",
    "plotly.offline.iplot(table)"
   ],
   "outputs": [
    {
     "output_type": "display_data",
     "data": {
      "application/vnd.plotly.v1+json": {
       "config": {
        "linkText": "Export to plot.ly",
        "plotlyServerURL": "https://plot.ly",
        "showLink": false
       },
       "data": [
        {
         "colorscale": [
          [
           0,
           "#00083e"
          ],
          [
           0.5,
           "#ededee"
          ],
          [
           1,
           "#ffffff"
          ]
         ],
         "hoverinfo": "none",
         "opacity": 0.75,
         "showscale": false,
         "type": "heatmap",
         "z": [
          [
           0,
           0,
           0,
           0,
           0
          ],
          [
           0,
           0.5,
           0.5,
           0.5,
           0.5
          ],
          [
           0,
           1,
           1,
           1,
           1
          ],
          [
           0,
           0.5,
           0.5,
           0.5,
           0.5
          ],
          [
           0,
           1,
           1,
           1,
           1
          ],
          [
           0,
           0.5,
           0.5,
           0.5,
           0.5
          ],
          [
           0,
           1,
           1,
           1,
           1
          ],
          [
           0,
           0.5,
           0.5,
           0.5,
           0.5
          ],
          [
           0,
           1,
           1,
           1,
           1
          ],
          [
           0,
           0.5,
           0.5,
           0.5,
           0.5
          ],
          [
           0,
           1,
           1,
           1,
           1
          ],
          [
           0,
           0.5,
           0.5,
           0.5,
           0.5
          ],
          [
           0,
           1,
           1,
           1,
           1
          ],
          [
           0,
           0.5,
           0.5,
           0.5,
           0.5
          ],
          [
           0,
           1,
           1,
           1,
           1
          ],
          [
           0,
           0.5,
           0.5,
           0.5,
           0.5
          ],
          [
           0,
           1,
           1,
           1,
           1
          ],
          [
           0,
           0.5,
           0.5,
           0.5,
           0.5
          ],
          [
           0,
           1,
           1,
           1,
           1
          ],
          [
           0,
           0.5,
           0.5,
           0.5,
           0.5
          ],
          [
           0,
           1,
           1,
           1,
           1
          ],
          [
           0,
           0.5,
           0.5,
           0.5,
           0.5
          ]
         ]
        }
       ],
       "layout": {
        "annotations": [
         {
          "align": "left",
          "font": {
           "color": "#ffffff"
          },
          "showarrow": false,
          "text": "<b></b>",
          "x": -0.45,
          "xanchor": "left",
          "xref": "x",
          "y": 0,
          "yref": "y"
         },
         {
          "align": "left",
          "font": {
           "color": "#ffffff"
          },
          "showarrow": false,
          "text": "<b>School</b>",
          "x": 0.55,
          "xanchor": "left",
          "xref": "x",
          "y": 0,
          "yref": "y"
         },
         {
          "align": "left",
          "font": {
           "color": "#ffffff"
          },
          "showarrow": false,
          "text": "<b>Women</b>",
          "x": 1.55,
          "xanchor": "left",
          "xref": "x",
          "y": 0,
          "yref": "y"
         },
         {
          "align": "left",
          "font": {
           "color": "#ffffff"
          },
          "showarrow": false,
          "text": "<b>Men</b>",
          "x": 2.55,
          "xanchor": "left",
          "xref": "x",
          "y": 0,
          "yref": "y"
         },
         {
          "align": "left",
          "font": {
           "color": "#ffffff"
          },
          "showarrow": false,
          "text": "<b>Gap</b>",
          "x": 3.55,
          "xanchor": "left",
          "xref": "x",
          "y": 0,
          "yref": "y"
         },
         {
          "align": "left",
          "font": {
           "color": "#ffffff"
          },
          "showarrow": false,
          "text": "<b>0</b>",
          "x": -0.45,
          "xanchor": "left",
          "xref": "x",
          "y": 1,
          "yref": "y"
         },
         {
          "align": "left",
          "font": {
           "color": "#000000"
          },
          "showarrow": false,
          "text": "MIT",
          "x": 0.55,
          "xanchor": "left",
          "xref": "x",
          "y": 1,
          "yref": "y"
         },
         {
          "align": "left",
          "font": {
           "color": "#000000"
          },
          "showarrow": false,
          "text": "94",
          "x": 1.55,
          "xanchor": "left",
          "xref": "x",
          "y": 1,
          "yref": "y"
         },
         {
          "align": "left",
          "font": {
           "color": "#000000"
          },
          "showarrow": false,
          "text": "152",
          "x": 2.55,
          "xanchor": "left",
          "xref": "x",
          "y": 1,
          "yref": "y"
         },
         {
          "align": "left",
          "font": {
           "color": "#000000"
          },
          "showarrow": false,
          "text": "58",
          "x": 3.55,
          "xanchor": "left",
          "xref": "x",
          "y": 1,
          "yref": "y"
         },
         {
          "align": "left",
          "font": {
           "color": "#ffffff"
          },
          "showarrow": false,
          "text": "<b>1</b>",
          "x": -0.45,
          "xanchor": "left",
          "xref": "x",
          "y": 2,
          "yref": "y"
         },
         {
          "align": "left",
          "font": {
           "color": "#000000"
          },
          "showarrow": false,
          "text": "Stanford",
          "x": 0.55,
          "xanchor": "left",
          "xref": "x",
          "y": 2,
          "yref": "y"
         },
         {
          "align": "left",
          "font": {
           "color": "#000000"
          },
          "showarrow": false,
          "text": "96",
          "x": 1.55,
          "xanchor": "left",
          "xref": "x",
          "y": 2,
          "yref": "y"
         },
         {
          "align": "left",
          "font": {
           "color": "#000000"
          },
          "showarrow": false,
          "text": "151",
          "x": 2.55,
          "xanchor": "left",
          "xref": "x",
          "y": 2,
          "yref": "y"
         },
         {
          "align": "left",
          "font": {
           "color": "#000000"
          },
          "showarrow": false,
          "text": "55",
          "x": 3.55,
          "xanchor": "left",
          "xref": "x",
          "y": 2,
          "yref": "y"
         },
         {
          "align": "left",
          "font": {
           "color": "#ffffff"
          },
          "showarrow": false,
          "text": "<b>2</b>",
          "x": -0.45,
          "xanchor": "left",
          "xref": "x",
          "y": 3,
          "yref": "y"
         },
         {
          "align": "left",
          "font": {
           "color": "#000000"
          },
          "showarrow": false,
          "text": "Harvard",
          "x": 0.55,
          "xanchor": "left",
          "xref": "x",
          "y": 3,
          "yref": "y"
         },
         {
          "align": "left",
          "font": {
           "color": "#000000"
          },
          "showarrow": false,
          "text": "112",
          "x": 1.55,
          "xanchor": "left",
          "xref": "x",
          "y": 3,
          "yref": "y"
         },
         {
          "align": "left",
          "font": {
           "color": "#000000"
          },
          "showarrow": false,
          "text": "165",
          "x": 2.55,
          "xanchor": "left",
          "xref": "x",
          "y": 3,
          "yref": "y"
         },
         {
          "align": "left",
          "font": {
           "color": "#000000"
          },
          "showarrow": false,
          "text": "53",
          "x": 3.55,
          "xanchor": "left",
          "xref": "x",
          "y": 3,
          "yref": "y"
         },
         {
          "align": "left",
          "font": {
           "color": "#ffffff"
          },
          "showarrow": false,
          "text": "<b>3</b>",
          "x": -0.45,
          "xanchor": "left",
          "xref": "x",
          "y": 4,
          "yref": "y"
         },
         {
          "align": "left",
          "font": {
           "color": "#000000"
          },
          "showarrow": false,
          "text": "U.Penn",
          "x": 0.55,
          "xanchor": "left",
          "xref": "x",
          "y": 4,
          "yref": "y"
         },
         {
          "align": "left",
          "font": {
           "color": "#000000"
          },
          "showarrow": false,
          "text": "92",
          "x": 1.55,
          "xanchor": "left",
          "xref": "x",
          "y": 4,
          "yref": "y"
         },
         {
          "align": "left",
          "font": {
           "color": "#000000"
          },
          "showarrow": false,
          "text": "141",
          "x": 2.55,
          "xanchor": "left",
          "xref": "x",
          "y": 4,
          "yref": "y"
         },
         {
          "align": "left",
          "font": {
           "color": "#000000"
          },
          "showarrow": false,
          "text": "49",
          "x": 3.55,
          "xanchor": "left",
          "xref": "x",
          "y": 4,
          "yref": "y"
         },
         {
          "align": "left",
          "font": {
           "color": "#ffffff"
          },
          "showarrow": false,
          "text": "<b>4</b>",
          "x": -0.45,
          "xanchor": "left",
          "xref": "x",
          "y": 5,
          "yref": "y"
         },
         {
          "align": "left",
          "font": {
           "color": "#000000"
          },
          "showarrow": false,
          "text": "Princeton",
          "x": 0.55,
          "xanchor": "left",
          "xref": "x",
          "y": 5,
          "yref": "y"
         },
         {
          "align": "left",
          "font": {
           "color": "#000000"
          },
          "showarrow": false,
          "text": "90",
          "x": 1.55,
          "xanchor": "left",
          "xref": "x",
          "y": 5,
          "yref": "y"
         },
         {
          "align": "left",
          "font": {
           "color": "#000000"
          },
          "showarrow": false,
          "text": "137",
          "x": 2.55,
          "xanchor": "left",
          "xref": "x",
          "y": 5,
          "yref": "y"
         },
         {
          "align": "left",
          "font": {
           "color": "#000000"
          },
          "showarrow": false,
          "text": "47",
          "x": 3.55,
          "xanchor": "left",
          "xref": "x",
          "y": 5,
          "yref": "y"
         },
         {
          "align": "left",
          "font": {
           "color": "#ffffff"
          },
          "showarrow": false,
          "text": "<b>5</b>",
          "x": -0.45,
          "xanchor": "left",
          "xref": "x",
          "y": 6,
          "yref": "y"
         },
         {
          "align": "left",
          "font": {
           "color": "#000000"
          },
          "showarrow": false,
          "text": "Chicago",
          "x": 0.55,
          "xanchor": "left",
          "xref": "x",
          "y": 6,
          "yref": "y"
         },
         {
          "align": "left",
          "font": {
           "color": "#000000"
          },
          "showarrow": false,
          "text": "78",
          "x": 1.55,
          "xanchor": "left",
          "xref": "x",
          "y": 6,
          "yref": "y"
         },
         {
          "align": "left",
          "font": {
           "color": "#000000"
          },
          "showarrow": false,
          "text": "118",
          "x": 2.55,
          "xanchor": "left",
          "xref": "x",
          "y": 6,
          "yref": "y"
         },
         {
          "align": "left",
          "font": {
           "color": "#000000"
          },
          "showarrow": false,
          "text": "40",
          "x": 3.55,
          "xanchor": "left",
          "xref": "x",
          "y": 6,
          "yref": "y"
         },
         {
          "align": "left",
          "font": {
           "color": "#ffffff"
          },
          "showarrow": false,
          "text": "<b>6</b>",
          "x": -0.45,
          "xanchor": "left",
          "xref": "x",
          "y": 7,
          "yref": "y"
         },
         {
          "align": "left",
          "font": {
           "color": "#000000"
          },
          "showarrow": false,
          "text": "Georgetown",
          "x": 0.55,
          "xanchor": "left",
          "xref": "x",
          "y": 7,
          "yref": "y"
         },
         {
          "align": "left",
          "font": {
           "color": "#000000"
          },
          "showarrow": false,
          "text": "94",
          "x": 1.55,
          "xanchor": "left",
          "xref": "x",
          "y": 7,
          "yref": "y"
         },
         {
          "align": "left",
          "font": {
           "color": "#000000"
          },
          "showarrow": false,
          "text": "131",
          "x": 2.55,
          "xanchor": "left",
          "xref": "x",
          "y": 7,
          "yref": "y"
         },
         {
          "align": "left",
          "font": {
           "color": "#000000"
          },
          "showarrow": false,
          "text": "37",
          "x": 3.55,
          "xanchor": "left",
          "xref": "x",
          "y": 7,
          "yref": "y"
         },
         {
          "align": "left",
          "font": {
           "color": "#ffffff"
          },
          "showarrow": false,
          "text": "<b>7</b>",
          "x": -0.45,
          "xanchor": "left",
          "xref": "x",
          "y": 8,
          "yref": "y"
         },
         {
          "align": "left",
          "font": {
           "color": "#000000"
          },
          "showarrow": false,
          "text": "Tufts",
          "x": 0.55,
          "xanchor": "left",
          "xref": "x",
          "y": 8,
          "yref": "y"
         },
         {
          "align": "left",
          "font": {
           "color": "#000000"
          },
          "showarrow": false,
          "text": "76",
          "x": 1.55,
          "xanchor": "left",
          "xref": "x",
          "y": 8,
          "yref": "y"
         },
         {
          "align": "left",
          "font": {
           "color": "#000000"
          },
          "showarrow": false,
          "text": "112",
          "x": 2.55,
          "xanchor": "left",
          "xref": "x",
          "y": 8,
          "yref": "y"
         },
         {
          "align": "left",
          "font": {
           "color": "#000000"
          },
          "showarrow": false,
          "text": "36",
          "x": 3.55,
          "xanchor": "left",
          "xref": "x",
          "y": 8,
          "yref": "y"
         },
         {
          "align": "left",
          "font": {
           "color": "#ffffff"
          },
          "showarrow": false,
          "text": "<b>8</b>",
          "x": -0.45,
          "xanchor": "left",
          "xref": "x",
          "y": 9,
          "yref": "y"
         },
         {
          "align": "left",
          "font": {
           "color": "#000000"
          },
          "showarrow": false,
          "text": "Yale",
          "x": 0.55,
          "xanchor": "left",
          "xref": "x",
          "y": 9,
          "yref": "y"
         },
         {
          "align": "left",
          "font": {
           "color": "#000000"
          },
          "showarrow": false,
          "text": "79",
          "x": 1.55,
          "xanchor": "left",
          "xref": "x",
          "y": 9,
          "yref": "y"
         },
         {
          "align": "left",
          "font": {
           "color": "#000000"
          },
          "showarrow": false,
          "text": "114",
          "x": 2.55,
          "xanchor": "left",
          "xref": "x",
          "y": 9,
          "yref": "y"
         },
         {
          "align": "left",
          "font": {
           "color": "#000000"
          },
          "showarrow": false,
          "text": "35",
          "x": 3.55,
          "xanchor": "left",
          "xref": "x",
          "y": 9,
          "yref": "y"
         },
         {
          "align": "left",
          "font": {
           "color": "#ffffff"
          },
          "showarrow": false,
          "text": "<b>9</b>",
          "x": -0.45,
          "xanchor": "left",
          "xref": "x",
          "y": 10,
          "yref": "y"
         },
         {
          "align": "left",
          "font": {
           "color": "#000000"
          },
          "showarrow": false,
          "text": "Columbia",
          "x": 0.55,
          "xanchor": "left",
          "xref": "x",
          "y": 10,
          "yref": "y"
         },
         {
          "align": "left",
          "font": {
           "color": "#000000"
          },
          "showarrow": false,
          "text": "86",
          "x": 1.55,
          "xanchor": "left",
          "xref": "x",
          "y": 10,
          "yref": "y"
         },
         {
          "align": "left",
          "font": {
           "color": "#000000"
          },
          "showarrow": false,
          "text": "119",
          "x": 2.55,
          "xanchor": "left",
          "xref": "x",
          "y": 10,
          "yref": "y"
         },
         {
          "align": "left",
          "font": {
           "color": "#000000"
          },
          "showarrow": false,
          "text": "33",
          "x": 3.55,
          "xanchor": "left",
          "xref": "x",
          "y": 10,
          "yref": "y"
         },
         {
          "align": "left",
          "font": {
           "color": "#ffffff"
          },
          "showarrow": false,
          "text": "<b>10</b>",
          "x": -0.45,
          "xanchor": "left",
          "xref": "x",
          "y": 11,
          "yref": "y"
         },
         {
          "align": "left",
          "font": {
           "color": "#000000"
          },
          "showarrow": false,
          "text": "Duke",
          "x": 0.55,
          "xanchor": "left",
          "xref": "x",
          "y": 11,
          "yref": "y"
         },
         {
          "align": "left",
          "font": {
           "color": "#000000"
          },
          "showarrow": false,
          "text": "93",
          "x": 1.55,
          "xanchor": "left",
          "xref": "x",
          "y": 11,
          "yref": "y"
         },
         {
          "align": "left",
          "font": {
           "color": "#000000"
          },
          "showarrow": false,
          "text": "124",
          "x": 2.55,
          "xanchor": "left",
          "xref": "x",
          "y": 11,
          "yref": "y"
         },
         {
          "align": "left",
          "font": {
           "color": "#000000"
          },
          "showarrow": false,
          "text": "31",
          "x": 3.55,
          "xanchor": "left",
          "xref": "x",
          "y": 11,
          "yref": "y"
         },
         {
          "align": "left",
          "font": {
           "color": "#ffffff"
          },
          "showarrow": false,
          "text": "<b>11</b>",
          "x": -0.45,
          "xanchor": "left",
          "xref": "x",
          "y": 12,
          "yref": "y"
         },
         {
          "align": "left",
          "font": {
           "color": "#000000"
          },
          "showarrow": false,
          "text": "Dartmouth",
          "x": 0.55,
          "xanchor": "left",
          "xref": "x",
          "y": 12,
          "yref": "y"
         },
         {
          "align": "left",
          "font": {
           "color": "#000000"
          },
          "showarrow": false,
          "text": "84",
          "x": 1.55,
          "xanchor": "left",
          "xref": "x",
          "y": 12,
          "yref": "y"
         },
         {
          "align": "left",
          "font": {
           "color": "#000000"
          },
          "showarrow": false,
          "text": "114",
          "x": 2.55,
          "xanchor": "left",
          "xref": "x",
          "y": 12,
          "yref": "y"
         },
         {
          "align": "left",
          "font": {
           "color": "#000000"
          },
          "showarrow": false,
          "text": "30",
          "x": 3.55,
          "xanchor": "left",
          "xref": "x",
          "y": 12,
          "yref": "y"
         },
         {
          "align": "left",
          "font": {
           "color": "#ffffff"
          },
          "showarrow": false,
          "text": "<b>12</b>",
          "x": -0.45,
          "xanchor": "left",
          "xref": "x",
          "y": 13,
          "yref": "y"
         },
         {
          "align": "left",
          "font": {
           "color": "#000000"
          },
          "showarrow": false,
          "text": "NYU",
          "x": 0.55,
          "xanchor": "left",
          "xref": "x",
          "y": 13,
          "yref": "y"
         },
         {
          "align": "left",
          "font": {
           "color": "#000000"
          },
          "showarrow": false,
          "text": "67",
          "x": 1.55,
          "xanchor": "left",
          "xref": "x",
          "y": 13,
          "yref": "y"
         },
         {
          "align": "left",
          "font": {
           "color": "#000000"
          },
          "showarrow": false,
          "text": "94",
          "x": 2.55,
          "xanchor": "left",
          "xref": "x",
          "y": 13,
          "yref": "y"
         },
         {
          "align": "left",
          "font": {
           "color": "#000000"
          },
          "showarrow": false,
          "text": "27",
          "x": 3.55,
          "xanchor": "left",
          "xref": "x",
          "y": 13,
          "yref": "y"
         },
         {
          "align": "left",
          "font": {
           "color": "#ffffff"
          },
          "showarrow": false,
          "text": "<b>13</b>",
          "x": -0.45,
          "xanchor": "left",
          "xref": "x",
          "y": 14,
          "yref": "y"
         },
         {
          "align": "left",
          "font": {
           "color": "#000000"
          },
          "showarrow": false,
          "text": "Notre Dame",
          "x": 0.55,
          "xanchor": "left",
          "xref": "x",
          "y": 14,
          "yref": "y"
         },
         {
          "align": "left",
          "font": {
           "color": "#000000"
          },
          "showarrow": false,
          "text": "73",
          "x": 1.55,
          "xanchor": "left",
          "xref": "x",
          "y": 14,
          "yref": "y"
         },
         {
          "align": "left",
          "font": {
           "color": "#000000"
          },
          "showarrow": false,
          "text": "100",
          "x": 2.55,
          "xanchor": "left",
          "xref": "x",
          "y": 14,
          "yref": "y"
         },
         {
          "align": "left",
          "font": {
           "color": "#000000"
          },
          "showarrow": false,
          "text": "27",
          "x": 3.55,
          "xanchor": "left",
          "xref": "x",
          "y": 14,
          "yref": "y"
         },
         {
          "align": "left",
          "font": {
           "color": "#ffffff"
          },
          "showarrow": false,
          "text": "<b>14</b>",
          "x": -0.45,
          "xanchor": "left",
          "xref": "x",
          "y": 15,
          "yref": "y"
         },
         {
          "align": "left",
          "font": {
           "color": "#000000"
          },
          "showarrow": false,
          "text": "Cornell",
          "x": 0.55,
          "xanchor": "left",
          "xref": "x",
          "y": 15,
          "yref": "y"
         },
         {
          "align": "left",
          "font": {
           "color": "#000000"
          },
          "showarrow": false,
          "text": "80",
          "x": 1.55,
          "xanchor": "left",
          "xref": "x",
          "y": 15,
          "yref": "y"
         },
         {
          "align": "left",
          "font": {
           "color": "#000000"
          },
          "showarrow": false,
          "text": "107",
          "x": 2.55,
          "xanchor": "left",
          "xref": "x",
          "y": 15,
          "yref": "y"
         },
         {
          "align": "left",
          "font": {
           "color": "#000000"
          },
          "showarrow": false,
          "text": "27",
          "x": 3.55,
          "xanchor": "left",
          "xref": "x",
          "y": 15,
          "yref": "y"
         },
         {
          "align": "left",
          "font": {
           "color": "#ffffff"
          },
          "showarrow": false,
          "text": "<b>15</b>",
          "x": -0.45,
          "xanchor": "left",
          "xref": "x",
          "y": 16,
          "yref": "y"
         },
         {
          "align": "left",
          "font": {
           "color": "#000000"
          },
          "showarrow": false,
          "text": "Michigan",
          "x": 0.55,
          "xanchor": "left",
          "xref": "x",
          "y": 16,
          "yref": "y"
         },
         {
          "align": "left",
          "font": {
           "color": "#000000"
          },
          "showarrow": false,
          "text": "62",
          "x": 1.55,
          "xanchor": "left",
          "xref": "x",
          "y": 16,
          "yref": "y"
         },
         {
          "align": "left",
          "font": {
           "color": "#000000"
          },
          "showarrow": false,
          "text": "84",
          "x": 2.55,
          "xanchor": "left",
          "xref": "x",
          "y": 16,
          "yref": "y"
         },
         {
          "align": "left",
          "font": {
           "color": "#000000"
          },
          "showarrow": false,
          "text": "22",
          "x": 3.55,
          "xanchor": "left",
          "xref": "x",
          "y": 16,
          "yref": "y"
         },
         {
          "align": "left",
          "font": {
           "color": "#ffffff"
          },
          "showarrow": false,
          "text": "<b>16</b>",
          "x": -0.45,
          "xanchor": "left",
          "xref": "x",
          "y": 17,
          "yref": "y"
         },
         {
          "align": "left",
          "font": {
           "color": "#000000"
          },
          "showarrow": false,
          "text": "Brown",
          "x": 0.55,
          "xanchor": "left",
          "xref": "x",
          "y": 17,
          "yref": "y"
         },
         {
          "align": "left",
          "font": {
           "color": "#000000"
          },
          "showarrow": false,
          "text": "72",
          "x": 1.55,
          "xanchor": "left",
          "xref": "x",
          "y": 17,
          "yref": "y"
         },
         {
          "align": "left",
          "font": {
           "color": "#000000"
          },
          "showarrow": false,
          "text": "92",
          "x": 2.55,
          "xanchor": "left",
          "xref": "x",
          "y": 17,
          "yref": "y"
         },
         {
          "align": "left",
          "font": {
           "color": "#000000"
          },
          "showarrow": false,
          "text": "20",
          "x": 3.55,
          "xanchor": "left",
          "xref": "x",
          "y": 17,
          "yref": "y"
         },
         {
          "align": "left",
          "font": {
           "color": "#ffffff"
          },
          "showarrow": false,
          "text": "<b>17</b>",
          "x": -0.45,
          "xanchor": "left",
          "xref": "x",
          "y": 18,
          "yref": "y"
         },
         {
          "align": "left",
          "font": {
           "color": "#000000"
          },
          "showarrow": false,
          "text": "Berkeley",
          "x": 0.55,
          "xanchor": "left",
          "xref": "x",
          "y": 18,
          "yref": "y"
         },
         {
          "align": "left",
          "font": {
           "color": "#000000"
          },
          "showarrow": false,
          "text": "71",
          "x": 1.55,
          "xanchor": "left",
          "xref": "x",
          "y": 18,
          "yref": "y"
         },
         {
          "align": "left",
          "font": {
           "color": "#000000"
          },
          "showarrow": false,
          "text": "88",
          "x": 2.55,
          "xanchor": "left",
          "xref": "x",
          "y": 18,
          "yref": "y"
         },
         {
          "align": "left",
          "font": {
           "color": "#000000"
          },
          "showarrow": false,
          "text": "17",
          "x": 3.55,
          "xanchor": "left",
          "xref": "x",
          "y": 18,
          "yref": "y"
         },
         {
          "align": "left",
          "font": {
           "color": "#ffffff"
          },
          "showarrow": false,
          "text": "<b>18</b>",
          "x": -0.45,
          "xanchor": "left",
          "xref": "x",
          "y": 19,
          "yref": "y"
         },
         {
          "align": "left",
          "font": {
           "color": "#000000"
          },
          "showarrow": false,
          "text": "Emory",
          "x": 0.55,
          "xanchor": "left",
          "xref": "x",
          "y": 19,
          "yref": "y"
         },
         {
          "align": "left",
          "font": {
           "color": "#000000"
          },
          "showarrow": false,
          "text": "68",
          "x": 1.55,
          "xanchor": "left",
          "xref": "x",
          "y": 19,
          "yref": "y"
         },
         {
          "align": "left",
          "font": {
           "color": "#000000"
          },
          "showarrow": false,
          "text": "82",
          "x": 2.55,
          "xanchor": "left",
          "xref": "x",
          "y": 19,
          "yref": "y"
         },
         {
          "align": "left",
          "font": {
           "color": "#000000"
          },
          "showarrow": false,
          "text": "14",
          "x": 3.55,
          "xanchor": "left",
          "xref": "x",
          "y": 19,
          "yref": "y"
         },
         {
          "align": "left",
          "font": {
           "color": "#ffffff"
          },
          "showarrow": false,
          "text": "<b>19</b>",
          "x": -0.45,
          "xanchor": "left",
          "xref": "x",
          "y": 20,
          "yref": "y"
         },
         {
          "align": "left",
          "font": {
           "color": "#000000"
          },
          "showarrow": false,
          "text": "UCLA",
          "x": 0.55,
          "xanchor": "left",
          "xref": "x",
          "y": 20,
          "yref": "y"
         },
         {
          "align": "left",
          "font": {
           "color": "#000000"
          },
          "showarrow": false,
          "text": "64",
          "x": 1.55,
          "xanchor": "left",
          "xref": "x",
          "y": 20,
          "yref": "y"
         },
         {
          "align": "left",
          "font": {
           "color": "#000000"
          },
          "showarrow": false,
          "text": "78",
          "x": 2.55,
          "xanchor": "left",
          "xref": "x",
          "y": 20,
          "yref": "y"
         },
         {
          "align": "left",
          "font": {
           "color": "#000000"
          },
          "showarrow": false,
          "text": "14",
          "x": 3.55,
          "xanchor": "left",
          "xref": "x",
          "y": 20,
          "yref": "y"
         },
         {
          "align": "left",
          "font": {
           "color": "#ffffff"
          },
          "showarrow": false,
          "text": "<b>20</b>",
          "x": -0.45,
          "xanchor": "left",
          "xref": "x",
          "y": 21,
          "yref": "y"
         },
         {
          "align": "left",
          "font": {
           "color": "#000000"
          },
          "showarrow": false,
          "text": "SoCal",
          "x": 0.55,
          "xanchor": "left",
          "xref": "x",
          "y": 21,
          "yref": "y"
         },
         {
          "align": "left",
          "font": {
           "color": "#000000"
          },
          "showarrow": false,
          "text": "72",
          "x": 1.55,
          "xanchor": "left",
          "xref": "x",
          "y": 21,
          "yref": "y"
         },
         {
          "align": "left",
          "font": {
           "color": "#000000"
          },
          "showarrow": false,
          "text": "81",
          "x": 2.55,
          "xanchor": "left",
          "xref": "x",
          "y": 21,
          "yref": "y"
         },
         {
          "align": "left",
          "font": {
           "color": "#000000"
          },
          "showarrow": false,
          "text": "9",
          "x": 3.55,
          "xanchor": "left",
          "xref": "x",
          "y": 21,
          "yref": "y"
         }
        ],
        "height": 710,
        "margin": {
         "b": 0,
         "l": 0,
         "r": 0,
         "t": 0
        },
        "template": {
         "data": {
          "bar": [
           {
            "error_x": {
             "color": "#2a3f5f"
            },
            "error_y": {
             "color": "#2a3f5f"
            },
            "marker": {
             "line": {
              "color": "#E5ECF6",
              "width": 0.5
             },
             "pattern": {
              "fillmode": "overlay",
              "size": 10,
              "solidity": 0.2
             }
            },
            "type": "bar"
           }
          ],
          "barpolar": [
           {
            "marker": {
             "line": {
              "color": "#E5ECF6",
              "width": 0.5
             },
             "pattern": {
              "fillmode": "overlay",
              "size": 10,
              "solidity": 0.2
             }
            },
            "type": "barpolar"
           }
          ],
          "carpet": [
           {
            "aaxis": {
             "endlinecolor": "#2a3f5f",
             "gridcolor": "white",
             "linecolor": "white",
             "minorgridcolor": "white",
             "startlinecolor": "#2a3f5f"
            },
            "baxis": {
             "endlinecolor": "#2a3f5f",
             "gridcolor": "white",
             "linecolor": "white",
             "minorgridcolor": "white",
             "startlinecolor": "#2a3f5f"
            },
            "type": "carpet"
           }
          ],
          "choropleth": [
           {
            "colorbar": {
             "outlinewidth": 0,
             "ticks": ""
            },
            "type": "choropleth"
           }
          ],
          "contour": [
           {
            "colorbar": {
             "outlinewidth": 0,
             "ticks": ""
            },
            "colorscale": [
             [
              0,
              "#0d0887"
             ],
             [
              0.1111111111111111,
              "#46039f"
             ],
             [
              0.2222222222222222,
              "#7201a8"
             ],
             [
              0.3333333333333333,
              "#9c179e"
             ],
             [
              0.4444444444444444,
              "#bd3786"
             ],
             [
              0.5555555555555556,
              "#d8576b"
             ],
             [
              0.6666666666666666,
              "#ed7953"
             ],
             [
              0.7777777777777778,
              "#fb9f3a"
             ],
             [
              0.8888888888888888,
              "#fdca26"
             ],
             [
              1,
              "#f0f921"
             ]
            ],
            "type": "contour"
           }
          ],
          "contourcarpet": [
           {
            "colorbar": {
             "outlinewidth": 0,
             "ticks": ""
            },
            "type": "contourcarpet"
           }
          ],
          "heatmap": [
           {
            "colorbar": {
             "outlinewidth": 0,
             "ticks": ""
            },
            "colorscale": [
             [
              0,
              "#0d0887"
             ],
             [
              0.1111111111111111,
              "#46039f"
             ],
             [
              0.2222222222222222,
              "#7201a8"
             ],
             [
              0.3333333333333333,
              "#9c179e"
             ],
             [
              0.4444444444444444,
              "#bd3786"
             ],
             [
              0.5555555555555556,
              "#d8576b"
             ],
             [
              0.6666666666666666,
              "#ed7953"
             ],
             [
              0.7777777777777778,
              "#fb9f3a"
             ],
             [
              0.8888888888888888,
              "#fdca26"
             ],
             [
              1,
              "#f0f921"
             ]
            ],
            "type": "heatmap"
           }
          ],
          "heatmapgl": [
           {
            "colorbar": {
             "outlinewidth": 0,
             "ticks": ""
            },
            "colorscale": [
             [
              0,
              "#0d0887"
             ],
             [
              0.1111111111111111,
              "#46039f"
             ],
             [
              0.2222222222222222,
              "#7201a8"
             ],
             [
              0.3333333333333333,
              "#9c179e"
             ],
             [
              0.4444444444444444,
              "#bd3786"
             ],
             [
              0.5555555555555556,
              "#d8576b"
             ],
             [
              0.6666666666666666,
              "#ed7953"
             ],
             [
              0.7777777777777778,
              "#fb9f3a"
             ],
             [
              0.8888888888888888,
              "#fdca26"
             ],
             [
              1,
              "#f0f921"
             ]
            ],
            "type": "heatmapgl"
           }
          ],
          "histogram": [
           {
            "marker": {
             "pattern": {
              "fillmode": "overlay",
              "size": 10,
              "solidity": 0.2
             }
            },
            "type": "histogram"
           }
          ],
          "histogram2d": [
           {
            "colorbar": {
             "outlinewidth": 0,
             "ticks": ""
            },
            "colorscale": [
             [
              0,
              "#0d0887"
             ],
             [
              0.1111111111111111,
              "#46039f"
             ],
             [
              0.2222222222222222,
              "#7201a8"
             ],
             [
              0.3333333333333333,
              "#9c179e"
             ],
             [
              0.4444444444444444,
              "#bd3786"
             ],
             [
              0.5555555555555556,
              "#d8576b"
             ],
             [
              0.6666666666666666,
              "#ed7953"
             ],
             [
              0.7777777777777778,
              "#fb9f3a"
             ],
             [
              0.8888888888888888,
              "#fdca26"
             ],
             [
              1,
              "#f0f921"
             ]
            ],
            "type": "histogram2d"
           }
          ],
          "histogram2dcontour": [
           {
            "colorbar": {
             "outlinewidth": 0,
             "ticks": ""
            },
            "colorscale": [
             [
              0,
              "#0d0887"
             ],
             [
              0.1111111111111111,
              "#46039f"
             ],
             [
              0.2222222222222222,
              "#7201a8"
             ],
             [
              0.3333333333333333,
              "#9c179e"
             ],
             [
              0.4444444444444444,
              "#bd3786"
             ],
             [
              0.5555555555555556,
              "#d8576b"
             ],
             [
              0.6666666666666666,
              "#ed7953"
             ],
             [
              0.7777777777777778,
              "#fb9f3a"
             ],
             [
              0.8888888888888888,
              "#fdca26"
             ],
             [
              1,
              "#f0f921"
             ]
            ],
            "type": "histogram2dcontour"
           }
          ],
          "mesh3d": [
           {
            "colorbar": {
             "outlinewidth": 0,
             "ticks": ""
            },
            "type": "mesh3d"
           }
          ],
          "parcoords": [
           {
            "line": {
             "colorbar": {
              "outlinewidth": 0,
              "ticks": ""
             }
            },
            "type": "parcoords"
           }
          ],
          "pie": [
           {
            "automargin": true,
            "type": "pie"
           }
          ],
          "scatter": [
           {
            "marker": {
             "colorbar": {
              "outlinewidth": 0,
              "ticks": ""
             }
            },
            "type": "scatter"
           }
          ],
          "scatter3d": [
           {
            "line": {
             "colorbar": {
              "outlinewidth": 0,
              "ticks": ""
             }
            },
            "marker": {
             "colorbar": {
              "outlinewidth": 0,
              "ticks": ""
             }
            },
            "type": "scatter3d"
           }
          ],
          "scattercarpet": [
           {
            "marker": {
             "colorbar": {
              "outlinewidth": 0,
              "ticks": ""
             }
            },
            "type": "scattercarpet"
           }
          ],
          "scattergeo": [
           {
            "marker": {
             "colorbar": {
              "outlinewidth": 0,
              "ticks": ""
             }
            },
            "type": "scattergeo"
           }
          ],
          "scattergl": [
           {
            "marker": {
             "colorbar": {
              "outlinewidth": 0,
              "ticks": ""
             }
            },
            "type": "scattergl"
           }
          ],
          "scattermapbox": [
           {
            "marker": {
             "colorbar": {
              "outlinewidth": 0,
              "ticks": ""
             }
            },
            "type": "scattermapbox"
           }
          ],
          "scatterpolar": [
           {
            "marker": {
             "colorbar": {
              "outlinewidth": 0,
              "ticks": ""
             }
            },
            "type": "scatterpolar"
           }
          ],
          "scatterpolargl": [
           {
            "marker": {
             "colorbar": {
              "outlinewidth": 0,
              "ticks": ""
             }
            },
            "type": "scatterpolargl"
           }
          ],
          "scatterternary": [
           {
            "marker": {
             "colorbar": {
              "outlinewidth": 0,
              "ticks": ""
             }
            },
            "type": "scatterternary"
           }
          ],
          "surface": [
           {
            "colorbar": {
             "outlinewidth": 0,
             "ticks": ""
            },
            "colorscale": [
             [
              0,
              "#0d0887"
             ],
             [
              0.1111111111111111,
              "#46039f"
             ],
             [
              0.2222222222222222,
              "#7201a8"
             ],
             [
              0.3333333333333333,
              "#9c179e"
             ],
             [
              0.4444444444444444,
              "#bd3786"
             ],
             [
              0.5555555555555556,
              "#d8576b"
             ],
             [
              0.6666666666666666,
              "#ed7953"
             ],
             [
              0.7777777777777778,
              "#fb9f3a"
             ],
             [
              0.8888888888888888,
              "#fdca26"
             ],
             [
              1,
              "#f0f921"
             ]
            ],
            "type": "surface"
           }
          ],
          "table": [
           {
            "cells": {
             "fill": {
              "color": "#EBF0F8"
             },
             "line": {
              "color": "white"
             }
            },
            "header": {
             "fill": {
              "color": "#C8D4E3"
             },
             "line": {
              "color": "white"
             }
            },
            "type": "table"
           }
          ]
         },
         "layout": {
          "annotationdefaults": {
           "arrowcolor": "#2a3f5f",
           "arrowhead": 0,
           "arrowwidth": 1
          },
          "autotypenumbers": "strict",
          "coloraxis": {
           "colorbar": {
            "outlinewidth": 0,
            "ticks": ""
           }
          },
          "colorscale": {
           "diverging": [
            [
             0,
             "#8e0152"
            ],
            [
             0.1,
             "#c51b7d"
            ],
            [
             0.2,
             "#de77ae"
            ],
            [
             0.3,
             "#f1b6da"
            ],
            [
             0.4,
             "#fde0ef"
            ],
            [
             0.5,
             "#f7f7f7"
            ],
            [
             0.6,
             "#e6f5d0"
            ],
            [
             0.7,
             "#b8e186"
            ],
            [
             0.8,
             "#7fbc41"
            ],
            [
             0.9,
             "#4d9221"
            ],
            [
             1,
             "#276419"
            ]
           ],
           "sequential": [
            [
             0,
             "#0d0887"
            ],
            [
             0.1111111111111111,
             "#46039f"
            ],
            [
             0.2222222222222222,
             "#7201a8"
            ],
            [
             0.3333333333333333,
             "#9c179e"
            ],
            [
             0.4444444444444444,
             "#bd3786"
            ],
            [
             0.5555555555555556,
             "#d8576b"
            ],
            [
             0.6666666666666666,
             "#ed7953"
            ],
            [
             0.7777777777777778,
             "#fb9f3a"
            ],
            [
             0.8888888888888888,
             "#fdca26"
            ],
            [
             1,
             "#f0f921"
            ]
           ],
           "sequentialminus": [
            [
             0,
             "#0d0887"
            ],
            [
             0.1111111111111111,
             "#46039f"
            ],
            [
             0.2222222222222222,
             "#7201a8"
            ],
            [
             0.3333333333333333,
             "#9c179e"
            ],
            [
             0.4444444444444444,
             "#bd3786"
            ],
            [
             0.5555555555555556,
             "#d8576b"
            ],
            [
             0.6666666666666666,
             "#ed7953"
            ],
            [
             0.7777777777777778,
             "#fb9f3a"
            ],
            [
             0.8888888888888888,
             "#fdca26"
            ],
            [
             1,
             "#f0f921"
            ]
           ]
          },
          "colorway": [
           "#636efa",
           "#EF553B",
           "#00cc96",
           "#ab63fa",
           "#FFA15A",
           "#19d3f3",
           "#FF6692",
           "#B6E880",
           "#FF97FF",
           "#FECB52"
          ],
          "font": {
           "color": "#2a3f5f"
          },
          "geo": {
           "bgcolor": "white",
           "lakecolor": "white",
           "landcolor": "#E5ECF6",
           "showlakes": true,
           "showland": true,
           "subunitcolor": "white"
          },
          "hoverlabel": {
           "align": "left"
          },
          "hovermode": "closest",
          "mapbox": {
           "style": "light"
          },
          "paper_bgcolor": "white",
          "plot_bgcolor": "#E5ECF6",
          "polar": {
           "angularaxis": {
            "gridcolor": "white",
            "linecolor": "white",
            "ticks": ""
           },
           "bgcolor": "#E5ECF6",
           "radialaxis": {
            "gridcolor": "white",
            "linecolor": "white",
            "ticks": ""
           }
          },
          "scene": {
           "xaxis": {
            "backgroundcolor": "#E5ECF6",
            "gridcolor": "white",
            "gridwidth": 2,
            "linecolor": "white",
            "showbackground": true,
            "ticks": "",
            "zerolinecolor": "white"
           },
           "yaxis": {
            "backgroundcolor": "#E5ECF6",
            "gridcolor": "white",
            "gridwidth": 2,
            "linecolor": "white",
            "showbackground": true,
            "ticks": "",
            "zerolinecolor": "white"
           },
           "zaxis": {
            "backgroundcolor": "#E5ECF6",
            "gridcolor": "white",
            "gridwidth": 2,
            "linecolor": "white",
            "showbackground": true,
            "ticks": "",
            "zerolinecolor": "white"
           }
          },
          "shapedefaults": {
           "line": {
            "color": "#2a3f5f"
           }
          },
          "ternary": {
           "aaxis": {
            "gridcolor": "white",
            "linecolor": "white",
            "ticks": ""
           },
           "baxis": {
            "gridcolor": "white",
            "linecolor": "white",
            "ticks": ""
           },
           "bgcolor": "#E5ECF6",
           "caxis": {
            "gridcolor": "white",
            "linecolor": "white",
            "ticks": ""
           }
          },
          "title": {
           "x": 0.05
          },
          "xaxis": {
           "automargin": true,
           "gridcolor": "white",
           "linecolor": "white",
           "ticks": "",
           "title": {
            "standoff": 15
           },
           "zerolinecolor": "white",
           "zerolinewidth": 2
          },
          "yaxis": {
           "automargin": true,
           "gridcolor": "white",
           "linecolor": "white",
           "ticks": "",
           "title": {
            "standoff": 15
           },
           "zerolinecolor": "white",
           "zerolinewidth": 2
          }
         }
        },
        "xaxis": {
         "dtick": 1,
         "gridwidth": 2,
         "showticklabels": false,
         "tick0": -0.5,
         "ticks": "",
         "zeroline": false
        },
        "yaxis": {
         "autorange": "reversed",
         "dtick": 1,
         "gridwidth": 2,
         "showticklabels": false,
         "tick0": 0.5,
         "ticks": "",
         "zeroline": false
        }
       }
      },
      "text/html": [
       "<div>                            <div id=\"9f2e9381-06e7-4f12-b342-23eac6d68a1c\" class=\"plotly-graph-div\" style=\"height:710px; width:100%;\"></div>            <script type=\"text/javascript\">                require([\"plotly\"], function(Plotly) {                    window.PLOTLYENV=window.PLOTLYENV || {};                                    if (document.getElementById(\"9f2e9381-06e7-4f12-b342-23eac6d68a1c\")) {                    Plotly.newPlot(                        \"9f2e9381-06e7-4f12-b342-23eac6d68a1c\",                        [{\"colorscale\":[[0,\"#00083e\"],[0.5,\"#ededee\"],[1,\"#ffffff\"]],\"hoverinfo\":\"none\",\"opacity\":0.75,\"showscale\":false,\"type\":\"heatmap\",\"z\":[[0,0,0,0,0],[0,0.5,0.5,0.5,0.5],[0,1,1,1,1],[0,0.5,0.5,0.5,0.5],[0,1,1,1,1],[0,0.5,0.5,0.5,0.5],[0,1,1,1,1],[0,0.5,0.5,0.5,0.5],[0,1,1,1,1],[0,0.5,0.5,0.5,0.5],[0,1,1,1,1],[0,0.5,0.5,0.5,0.5],[0,1,1,1,1],[0,0.5,0.5,0.5,0.5],[0,1,1,1,1],[0,0.5,0.5,0.5,0.5],[0,1,1,1,1],[0,0.5,0.5,0.5,0.5],[0,1,1,1,1],[0,0.5,0.5,0.5,0.5],[0,1,1,1,1],[0,0.5,0.5,0.5,0.5]]}],                        {\"annotations\":[{\"align\":\"left\",\"font\":{\"color\":\"#ffffff\"},\"showarrow\":false,\"text\":\"<b></b>\",\"x\":-0.45,\"xanchor\":\"left\",\"xref\":\"x\",\"y\":0,\"yref\":\"y\"},{\"align\":\"left\",\"font\":{\"color\":\"#ffffff\"},\"showarrow\":false,\"text\":\"<b>School</b>\",\"x\":0.55,\"xanchor\":\"left\",\"xref\":\"x\",\"y\":0,\"yref\":\"y\"},{\"align\":\"left\",\"font\":{\"color\":\"#ffffff\"},\"showarrow\":false,\"text\":\"<b>Women</b>\",\"x\":1.55,\"xanchor\":\"left\",\"xref\":\"x\",\"y\":0,\"yref\":\"y\"},{\"align\":\"left\",\"font\":{\"color\":\"#ffffff\"},\"showarrow\":false,\"text\":\"<b>Men</b>\",\"x\":2.55,\"xanchor\":\"left\",\"xref\":\"x\",\"y\":0,\"yref\":\"y\"},{\"align\":\"left\",\"font\":{\"color\":\"#ffffff\"},\"showarrow\":false,\"text\":\"<b>Gap</b>\",\"x\":3.55,\"xanchor\":\"left\",\"xref\":\"x\",\"y\":0,\"yref\":\"y\"},{\"align\":\"left\",\"font\":{\"color\":\"#ffffff\"},\"showarrow\":false,\"text\":\"<b>0</b>\",\"x\":-0.45,\"xanchor\":\"left\",\"xref\":\"x\",\"y\":1,\"yref\":\"y\"},{\"align\":\"left\",\"font\":{\"color\":\"#000000\"},\"showarrow\":false,\"text\":\"MIT\",\"x\":0.55,\"xanchor\":\"left\",\"xref\":\"x\",\"y\":1,\"yref\":\"y\"},{\"align\":\"left\",\"font\":{\"color\":\"#000000\"},\"showarrow\":false,\"text\":\"94\",\"x\":1.55,\"xanchor\":\"left\",\"xref\":\"x\",\"y\":1,\"yref\":\"y\"},{\"align\":\"left\",\"font\":{\"color\":\"#000000\"},\"showarrow\":false,\"text\":\"152\",\"x\":2.55,\"xanchor\":\"left\",\"xref\":\"x\",\"y\":1,\"yref\":\"y\"},{\"align\":\"left\",\"font\":{\"color\":\"#000000\"},\"showarrow\":false,\"text\":\"58\",\"x\":3.55,\"xanchor\":\"left\",\"xref\":\"x\",\"y\":1,\"yref\":\"y\"},{\"align\":\"left\",\"font\":{\"color\":\"#ffffff\"},\"showarrow\":false,\"text\":\"<b>1</b>\",\"x\":-0.45,\"xanchor\":\"left\",\"xref\":\"x\",\"y\":2,\"yref\":\"y\"},{\"align\":\"left\",\"font\":{\"color\":\"#000000\"},\"showarrow\":false,\"text\":\"Stanford\",\"x\":0.55,\"xanchor\":\"left\",\"xref\":\"x\",\"y\":2,\"yref\":\"y\"},{\"align\":\"left\",\"font\":{\"color\":\"#000000\"},\"showarrow\":false,\"text\":\"96\",\"x\":1.55,\"xanchor\":\"left\",\"xref\":\"x\",\"y\":2,\"yref\":\"y\"},{\"align\":\"left\",\"font\":{\"color\":\"#000000\"},\"showarrow\":false,\"text\":\"151\",\"x\":2.55,\"xanchor\":\"left\",\"xref\":\"x\",\"y\":2,\"yref\":\"y\"},{\"align\":\"left\",\"font\":{\"color\":\"#000000\"},\"showarrow\":false,\"text\":\"55\",\"x\":3.55,\"xanchor\":\"left\",\"xref\":\"x\",\"y\":2,\"yref\":\"y\"},{\"align\":\"left\",\"font\":{\"color\":\"#ffffff\"},\"showarrow\":false,\"text\":\"<b>2</b>\",\"x\":-0.45,\"xanchor\":\"left\",\"xref\":\"x\",\"y\":3,\"yref\":\"y\"},{\"align\":\"left\",\"font\":{\"color\":\"#000000\"},\"showarrow\":false,\"text\":\"Harvard\",\"x\":0.55,\"xanchor\":\"left\",\"xref\":\"x\",\"y\":3,\"yref\":\"y\"},{\"align\":\"left\",\"font\":{\"color\":\"#000000\"},\"showarrow\":false,\"text\":\"112\",\"x\":1.55,\"xanchor\":\"left\",\"xref\":\"x\",\"y\":3,\"yref\":\"y\"},{\"align\":\"left\",\"font\":{\"color\":\"#000000\"},\"showarrow\":false,\"text\":\"165\",\"x\":2.55,\"xanchor\":\"left\",\"xref\":\"x\",\"y\":3,\"yref\":\"y\"},{\"align\":\"left\",\"font\":{\"color\":\"#000000\"},\"showarrow\":false,\"text\":\"53\",\"x\":3.55,\"xanchor\":\"left\",\"xref\":\"x\",\"y\":3,\"yref\":\"y\"},{\"align\":\"left\",\"font\":{\"color\":\"#ffffff\"},\"showarrow\":false,\"text\":\"<b>3</b>\",\"x\":-0.45,\"xanchor\":\"left\",\"xref\":\"x\",\"y\":4,\"yref\":\"y\"},{\"align\":\"left\",\"font\":{\"color\":\"#000000\"},\"showarrow\":false,\"text\":\"U.Penn\",\"x\":0.55,\"xanchor\":\"left\",\"xref\":\"x\",\"y\":4,\"yref\":\"y\"},{\"align\":\"left\",\"font\":{\"color\":\"#000000\"},\"showarrow\":false,\"text\":\"92\",\"x\":1.55,\"xanchor\":\"left\",\"xref\":\"x\",\"y\":4,\"yref\":\"y\"},{\"align\":\"left\",\"font\":{\"color\":\"#000000\"},\"showarrow\":false,\"text\":\"141\",\"x\":2.55,\"xanchor\":\"left\",\"xref\":\"x\",\"y\":4,\"yref\":\"y\"},{\"align\":\"left\",\"font\":{\"color\":\"#000000\"},\"showarrow\":false,\"text\":\"49\",\"x\":3.55,\"xanchor\":\"left\",\"xref\":\"x\",\"y\":4,\"yref\":\"y\"},{\"align\":\"left\",\"font\":{\"color\":\"#ffffff\"},\"showarrow\":false,\"text\":\"<b>4</b>\",\"x\":-0.45,\"xanchor\":\"left\",\"xref\":\"x\",\"y\":5,\"yref\":\"y\"},{\"align\":\"left\",\"font\":{\"color\":\"#000000\"},\"showarrow\":false,\"text\":\"Princeton\",\"x\":0.55,\"xanchor\":\"left\",\"xref\":\"x\",\"y\":5,\"yref\":\"y\"},{\"align\":\"left\",\"font\":{\"color\":\"#000000\"},\"showarrow\":false,\"text\":\"90\",\"x\":1.55,\"xanchor\":\"left\",\"xref\":\"x\",\"y\":5,\"yref\":\"y\"},{\"align\":\"left\",\"font\":{\"color\":\"#000000\"},\"showarrow\":false,\"text\":\"137\",\"x\":2.55,\"xanchor\":\"left\",\"xref\":\"x\",\"y\":5,\"yref\":\"y\"},{\"align\":\"left\",\"font\":{\"color\":\"#000000\"},\"showarrow\":false,\"text\":\"47\",\"x\":3.55,\"xanchor\":\"left\",\"xref\":\"x\",\"y\":5,\"yref\":\"y\"},{\"align\":\"left\",\"font\":{\"color\":\"#ffffff\"},\"showarrow\":false,\"text\":\"<b>5</b>\",\"x\":-0.45,\"xanchor\":\"left\",\"xref\":\"x\",\"y\":6,\"yref\":\"y\"},{\"align\":\"left\",\"font\":{\"color\":\"#000000\"},\"showarrow\":false,\"text\":\"Chicago\",\"x\":0.55,\"xanchor\":\"left\",\"xref\":\"x\",\"y\":6,\"yref\":\"y\"},{\"align\":\"left\",\"font\":{\"color\":\"#000000\"},\"showarrow\":false,\"text\":\"78\",\"x\":1.55,\"xanchor\":\"left\",\"xref\":\"x\",\"y\":6,\"yref\":\"y\"},{\"align\":\"left\",\"font\":{\"color\":\"#000000\"},\"showarrow\":false,\"text\":\"118\",\"x\":2.55,\"xanchor\":\"left\",\"xref\":\"x\",\"y\":6,\"yref\":\"y\"},{\"align\":\"left\",\"font\":{\"color\":\"#000000\"},\"showarrow\":false,\"text\":\"40\",\"x\":3.55,\"xanchor\":\"left\",\"xref\":\"x\",\"y\":6,\"yref\":\"y\"},{\"align\":\"left\",\"font\":{\"color\":\"#ffffff\"},\"showarrow\":false,\"text\":\"<b>6</b>\",\"x\":-0.45,\"xanchor\":\"left\",\"xref\":\"x\",\"y\":7,\"yref\":\"y\"},{\"align\":\"left\",\"font\":{\"color\":\"#000000\"},\"showarrow\":false,\"text\":\"Georgetown\",\"x\":0.55,\"xanchor\":\"left\",\"xref\":\"x\",\"y\":7,\"yref\":\"y\"},{\"align\":\"left\",\"font\":{\"color\":\"#000000\"},\"showarrow\":false,\"text\":\"94\",\"x\":1.55,\"xanchor\":\"left\",\"xref\":\"x\",\"y\":7,\"yref\":\"y\"},{\"align\":\"left\",\"font\":{\"color\":\"#000000\"},\"showarrow\":false,\"text\":\"131\",\"x\":2.55,\"xanchor\":\"left\",\"xref\":\"x\",\"y\":7,\"yref\":\"y\"},{\"align\":\"left\",\"font\":{\"color\":\"#000000\"},\"showarrow\":false,\"text\":\"37\",\"x\":3.55,\"xanchor\":\"left\",\"xref\":\"x\",\"y\":7,\"yref\":\"y\"},{\"align\":\"left\",\"font\":{\"color\":\"#ffffff\"},\"showarrow\":false,\"text\":\"<b>7</b>\",\"x\":-0.45,\"xanchor\":\"left\",\"xref\":\"x\",\"y\":8,\"yref\":\"y\"},{\"align\":\"left\",\"font\":{\"color\":\"#000000\"},\"showarrow\":false,\"text\":\"Tufts\",\"x\":0.55,\"xanchor\":\"left\",\"xref\":\"x\",\"y\":8,\"yref\":\"y\"},{\"align\":\"left\",\"font\":{\"color\":\"#000000\"},\"showarrow\":false,\"text\":\"76\",\"x\":1.55,\"xanchor\":\"left\",\"xref\":\"x\",\"y\":8,\"yref\":\"y\"},{\"align\":\"left\",\"font\":{\"color\":\"#000000\"},\"showarrow\":false,\"text\":\"112\",\"x\":2.55,\"xanchor\":\"left\",\"xref\":\"x\",\"y\":8,\"yref\":\"y\"},{\"align\":\"left\",\"font\":{\"color\":\"#000000\"},\"showarrow\":false,\"text\":\"36\",\"x\":3.55,\"xanchor\":\"left\",\"xref\":\"x\",\"y\":8,\"yref\":\"y\"},{\"align\":\"left\",\"font\":{\"color\":\"#ffffff\"},\"showarrow\":false,\"text\":\"<b>8</b>\",\"x\":-0.45,\"xanchor\":\"left\",\"xref\":\"x\",\"y\":9,\"yref\":\"y\"},{\"align\":\"left\",\"font\":{\"color\":\"#000000\"},\"showarrow\":false,\"text\":\"Yale\",\"x\":0.55,\"xanchor\":\"left\",\"xref\":\"x\",\"y\":9,\"yref\":\"y\"},{\"align\":\"left\",\"font\":{\"color\":\"#000000\"},\"showarrow\":false,\"text\":\"79\",\"x\":1.55,\"xanchor\":\"left\",\"xref\":\"x\",\"y\":9,\"yref\":\"y\"},{\"align\":\"left\",\"font\":{\"color\":\"#000000\"},\"showarrow\":false,\"text\":\"114\",\"x\":2.55,\"xanchor\":\"left\",\"xref\":\"x\",\"y\":9,\"yref\":\"y\"},{\"align\":\"left\",\"font\":{\"color\":\"#000000\"},\"showarrow\":false,\"text\":\"35\",\"x\":3.55,\"xanchor\":\"left\",\"xref\":\"x\",\"y\":9,\"yref\":\"y\"},{\"align\":\"left\",\"font\":{\"color\":\"#ffffff\"},\"showarrow\":false,\"text\":\"<b>9</b>\",\"x\":-0.45,\"xanchor\":\"left\",\"xref\":\"x\",\"y\":10,\"yref\":\"y\"},{\"align\":\"left\",\"font\":{\"color\":\"#000000\"},\"showarrow\":false,\"text\":\"Columbia\",\"x\":0.55,\"xanchor\":\"left\",\"xref\":\"x\",\"y\":10,\"yref\":\"y\"},{\"align\":\"left\",\"font\":{\"color\":\"#000000\"},\"showarrow\":false,\"text\":\"86\",\"x\":1.55,\"xanchor\":\"left\",\"xref\":\"x\",\"y\":10,\"yref\":\"y\"},{\"align\":\"left\",\"font\":{\"color\":\"#000000\"},\"showarrow\":false,\"text\":\"119\",\"x\":2.55,\"xanchor\":\"left\",\"xref\":\"x\",\"y\":10,\"yref\":\"y\"},{\"align\":\"left\",\"font\":{\"color\":\"#000000\"},\"showarrow\":false,\"text\":\"33\",\"x\":3.55,\"xanchor\":\"left\",\"xref\":\"x\",\"y\":10,\"yref\":\"y\"},{\"align\":\"left\",\"font\":{\"color\":\"#ffffff\"},\"showarrow\":false,\"text\":\"<b>10</b>\",\"x\":-0.45,\"xanchor\":\"left\",\"xref\":\"x\",\"y\":11,\"yref\":\"y\"},{\"align\":\"left\",\"font\":{\"color\":\"#000000\"},\"showarrow\":false,\"text\":\"Duke\",\"x\":0.55,\"xanchor\":\"left\",\"xref\":\"x\",\"y\":11,\"yref\":\"y\"},{\"align\":\"left\",\"font\":{\"color\":\"#000000\"},\"showarrow\":false,\"text\":\"93\",\"x\":1.55,\"xanchor\":\"left\",\"xref\":\"x\",\"y\":11,\"yref\":\"y\"},{\"align\":\"left\",\"font\":{\"color\":\"#000000\"},\"showarrow\":false,\"text\":\"124\",\"x\":2.55,\"xanchor\":\"left\",\"xref\":\"x\",\"y\":11,\"yref\":\"y\"},{\"align\":\"left\",\"font\":{\"color\":\"#000000\"},\"showarrow\":false,\"text\":\"31\",\"x\":3.55,\"xanchor\":\"left\",\"xref\":\"x\",\"y\":11,\"yref\":\"y\"},{\"align\":\"left\",\"font\":{\"color\":\"#ffffff\"},\"showarrow\":false,\"text\":\"<b>11</b>\",\"x\":-0.45,\"xanchor\":\"left\",\"xref\":\"x\",\"y\":12,\"yref\":\"y\"},{\"align\":\"left\",\"font\":{\"color\":\"#000000\"},\"showarrow\":false,\"text\":\"Dartmouth\",\"x\":0.55,\"xanchor\":\"left\",\"xref\":\"x\",\"y\":12,\"yref\":\"y\"},{\"align\":\"left\",\"font\":{\"color\":\"#000000\"},\"showarrow\":false,\"text\":\"84\",\"x\":1.55,\"xanchor\":\"left\",\"xref\":\"x\",\"y\":12,\"yref\":\"y\"},{\"align\":\"left\",\"font\":{\"color\":\"#000000\"},\"showarrow\":false,\"text\":\"114\",\"x\":2.55,\"xanchor\":\"left\",\"xref\":\"x\",\"y\":12,\"yref\":\"y\"},{\"align\":\"left\",\"font\":{\"color\":\"#000000\"},\"showarrow\":false,\"text\":\"30\",\"x\":3.55,\"xanchor\":\"left\",\"xref\":\"x\",\"y\":12,\"yref\":\"y\"},{\"align\":\"left\",\"font\":{\"color\":\"#ffffff\"},\"showarrow\":false,\"text\":\"<b>12</b>\",\"x\":-0.45,\"xanchor\":\"left\",\"xref\":\"x\",\"y\":13,\"yref\":\"y\"},{\"align\":\"left\",\"font\":{\"color\":\"#000000\"},\"showarrow\":false,\"text\":\"NYU\",\"x\":0.55,\"xanchor\":\"left\",\"xref\":\"x\",\"y\":13,\"yref\":\"y\"},{\"align\":\"left\",\"font\":{\"color\":\"#000000\"},\"showarrow\":false,\"text\":\"67\",\"x\":1.55,\"xanchor\":\"left\",\"xref\":\"x\",\"y\":13,\"yref\":\"y\"},{\"align\":\"left\",\"font\":{\"color\":\"#000000\"},\"showarrow\":false,\"text\":\"94\",\"x\":2.55,\"xanchor\":\"left\",\"xref\":\"x\",\"y\":13,\"yref\":\"y\"},{\"align\":\"left\",\"font\":{\"color\":\"#000000\"},\"showarrow\":false,\"text\":\"27\",\"x\":3.55,\"xanchor\":\"left\",\"xref\":\"x\",\"y\":13,\"yref\":\"y\"},{\"align\":\"left\",\"font\":{\"color\":\"#ffffff\"},\"showarrow\":false,\"text\":\"<b>13</b>\",\"x\":-0.45,\"xanchor\":\"left\",\"xref\":\"x\",\"y\":14,\"yref\":\"y\"},{\"align\":\"left\",\"font\":{\"color\":\"#000000\"},\"showarrow\":false,\"text\":\"Notre Dame\",\"x\":0.55,\"xanchor\":\"left\",\"xref\":\"x\",\"y\":14,\"yref\":\"y\"},{\"align\":\"left\",\"font\":{\"color\":\"#000000\"},\"showarrow\":false,\"text\":\"73\",\"x\":1.55,\"xanchor\":\"left\",\"xref\":\"x\",\"y\":14,\"yref\":\"y\"},{\"align\":\"left\",\"font\":{\"color\":\"#000000\"},\"showarrow\":false,\"text\":\"100\",\"x\":2.55,\"xanchor\":\"left\",\"xref\":\"x\",\"y\":14,\"yref\":\"y\"},{\"align\":\"left\",\"font\":{\"color\":\"#000000\"},\"showarrow\":false,\"text\":\"27\",\"x\":3.55,\"xanchor\":\"left\",\"xref\":\"x\",\"y\":14,\"yref\":\"y\"},{\"align\":\"left\",\"font\":{\"color\":\"#ffffff\"},\"showarrow\":false,\"text\":\"<b>14</b>\",\"x\":-0.45,\"xanchor\":\"left\",\"xref\":\"x\",\"y\":15,\"yref\":\"y\"},{\"align\":\"left\",\"font\":{\"color\":\"#000000\"},\"showarrow\":false,\"text\":\"Cornell\",\"x\":0.55,\"xanchor\":\"left\",\"xref\":\"x\",\"y\":15,\"yref\":\"y\"},{\"align\":\"left\",\"font\":{\"color\":\"#000000\"},\"showarrow\":false,\"text\":\"80\",\"x\":1.55,\"xanchor\":\"left\",\"xref\":\"x\",\"y\":15,\"yref\":\"y\"},{\"align\":\"left\",\"font\":{\"color\":\"#000000\"},\"showarrow\":false,\"text\":\"107\",\"x\":2.55,\"xanchor\":\"left\",\"xref\":\"x\",\"y\":15,\"yref\":\"y\"},{\"align\":\"left\",\"font\":{\"color\":\"#000000\"},\"showarrow\":false,\"text\":\"27\",\"x\":3.55,\"xanchor\":\"left\",\"xref\":\"x\",\"y\":15,\"yref\":\"y\"},{\"align\":\"left\",\"font\":{\"color\":\"#ffffff\"},\"showarrow\":false,\"text\":\"<b>15</b>\",\"x\":-0.45,\"xanchor\":\"left\",\"xref\":\"x\",\"y\":16,\"yref\":\"y\"},{\"align\":\"left\",\"font\":{\"color\":\"#000000\"},\"showarrow\":false,\"text\":\"Michigan\",\"x\":0.55,\"xanchor\":\"left\",\"xref\":\"x\",\"y\":16,\"yref\":\"y\"},{\"align\":\"left\",\"font\":{\"color\":\"#000000\"},\"showarrow\":false,\"text\":\"62\",\"x\":1.55,\"xanchor\":\"left\",\"xref\":\"x\",\"y\":16,\"yref\":\"y\"},{\"align\":\"left\",\"font\":{\"color\":\"#000000\"},\"showarrow\":false,\"text\":\"84\",\"x\":2.55,\"xanchor\":\"left\",\"xref\":\"x\",\"y\":16,\"yref\":\"y\"},{\"align\":\"left\",\"font\":{\"color\":\"#000000\"},\"showarrow\":false,\"text\":\"22\",\"x\":3.55,\"xanchor\":\"left\",\"xref\":\"x\",\"y\":16,\"yref\":\"y\"},{\"align\":\"left\",\"font\":{\"color\":\"#ffffff\"},\"showarrow\":false,\"text\":\"<b>16</b>\",\"x\":-0.45,\"xanchor\":\"left\",\"xref\":\"x\",\"y\":17,\"yref\":\"y\"},{\"align\":\"left\",\"font\":{\"color\":\"#000000\"},\"showarrow\":false,\"text\":\"Brown\",\"x\":0.55,\"xanchor\":\"left\",\"xref\":\"x\",\"y\":17,\"yref\":\"y\"},{\"align\":\"left\",\"font\":{\"color\":\"#000000\"},\"showarrow\":false,\"text\":\"72\",\"x\":1.55,\"xanchor\":\"left\",\"xref\":\"x\",\"y\":17,\"yref\":\"y\"},{\"align\":\"left\",\"font\":{\"color\":\"#000000\"},\"showarrow\":false,\"text\":\"92\",\"x\":2.55,\"xanchor\":\"left\",\"xref\":\"x\",\"y\":17,\"yref\":\"y\"},{\"align\":\"left\",\"font\":{\"color\":\"#000000\"},\"showarrow\":false,\"text\":\"20\",\"x\":3.55,\"xanchor\":\"left\",\"xref\":\"x\",\"y\":17,\"yref\":\"y\"},{\"align\":\"left\",\"font\":{\"color\":\"#ffffff\"},\"showarrow\":false,\"text\":\"<b>17</b>\",\"x\":-0.45,\"xanchor\":\"left\",\"xref\":\"x\",\"y\":18,\"yref\":\"y\"},{\"align\":\"left\",\"font\":{\"color\":\"#000000\"},\"showarrow\":false,\"text\":\"Berkeley\",\"x\":0.55,\"xanchor\":\"left\",\"xref\":\"x\",\"y\":18,\"yref\":\"y\"},{\"align\":\"left\",\"font\":{\"color\":\"#000000\"},\"showarrow\":false,\"text\":\"71\",\"x\":1.55,\"xanchor\":\"left\",\"xref\":\"x\",\"y\":18,\"yref\":\"y\"},{\"align\":\"left\",\"font\":{\"color\":\"#000000\"},\"showarrow\":false,\"text\":\"88\",\"x\":2.55,\"xanchor\":\"left\",\"xref\":\"x\",\"y\":18,\"yref\":\"y\"},{\"align\":\"left\",\"font\":{\"color\":\"#000000\"},\"showarrow\":false,\"text\":\"17\",\"x\":3.55,\"xanchor\":\"left\",\"xref\":\"x\",\"y\":18,\"yref\":\"y\"},{\"align\":\"left\",\"font\":{\"color\":\"#ffffff\"},\"showarrow\":false,\"text\":\"<b>18</b>\",\"x\":-0.45,\"xanchor\":\"left\",\"xref\":\"x\",\"y\":19,\"yref\":\"y\"},{\"align\":\"left\",\"font\":{\"color\":\"#000000\"},\"showarrow\":false,\"text\":\"Emory\",\"x\":0.55,\"xanchor\":\"left\",\"xref\":\"x\",\"y\":19,\"yref\":\"y\"},{\"align\":\"left\",\"font\":{\"color\":\"#000000\"},\"showarrow\":false,\"text\":\"68\",\"x\":1.55,\"xanchor\":\"left\",\"xref\":\"x\",\"y\":19,\"yref\":\"y\"},{\"align\":\"left\",\"font\":{\"color\":\"#000000\"},\"showarrow\":false,\"text\":\"82\",\"x\":2.55,\"xanchor\":\"left\",\"xref\":\"x\",\"y\":19,\"yref\":\"y\"},{\"align\":\"left\",\"font\":{\"color\":\"#000000\"},\"showarrow\":false,\"text\":\"14\",\"x\":3.55,\"xanchor\":\"left\",\"xref\":\"x\",\"y\":19,\"yref\":\"y\"},{\"align\":\"left\",\"font\":{\"color\":\"#ffffff\"},\"showarrow\":false,\"text\":\"<b>19</b>\",\"x\":-0.45,\"xanchor\":\"left\",\"xref\":\"x\",\"y\":20,\"yref\":\"y\"},{\"align\":\"left\",\"font\":{\"color\":\"#000000\"},\"showarrow\":false,\"text\":\"UCLA\",\"x\":0.55,\"xanchor\":\"left\",\"xref\":\"x\",\"y\":20,\"yref\":\"y\"},{\"align\":\"left\",\"font\":{\"color\":\"#000000\"},\"showarrow\":false,\"text\":\"64\",\"x\":1.55,\"xanchor\":\"left\",\"xref\":\"x\",\"y\":20,\"yref\":\"y\"},{\"align\":\"left\",\"font\":{\"color\":\"#000000\"},\"showarrow\":false,\"text\":\"78\",\"x\":2.55,\"xanchor\":\"left\",\"xref\":\"x\",\"y\":20,\"yref\":\"y\"},{\"align\":\"left\",\"font\":{\"color\":\"#000000\"},\"showarrow\":false,\"text\":\"14\",\"x\":3.55,\"xanchor\":\"left\",\"xref\":\"x\",\"y\":20,\"yref\":\"y\"},{\"align\":\"left\",\"font\":{\"color\":\"#ffffff\"},\"showarrow\":false,\"text\":\"<b>20</b>\",\"x\":-0.45,\"xanchor\":\"left\",\"xref\":\"x\",\"y\":21,\"yref\":\"y\"},{\"align\":\"left\",\"font\":{\"color\":\"#000000\"},\"showarrow\":false,\"text\":\"SoCal\",\"x\":0.55,\"xanchor\":\"left\",\"xref\":\"x\",\"y\":21,\"yref\":\"y\"},{\"align\":\"left\",\"font\":{\"color\":\"#000000\"},\"showarrow\":false,\"text\":\"72\",\"x\":1.55,\"xanchor\":\"left\",\"xref\":\"x\",\"y\":21,\"yref\":\"y\"},{\"align\":\"left\",\"font\":{\"color\":\"#000000\"},\"showarrow\":false,\"text\":\"81\",\"x\":2.55,\"xanchor\":\"left\",\"xref\":\"x\",\"y\":21,\"yref\":\"y\"},{\"align\":\"left\",\"font\":{\"color\":\"#000000\"},\"showarrow\":false,\"text\":\"9\",\"x\":3.55,\"xanchor\":\"left\",\"xref\":\"x\",\"y\":21,\"yref\":\"y\"}],\"height\":710,\"margin\":{\"b\":0,\"l\":0,\"r\":0,\"t\":0},\"template\":{\"data\":{\"bar\":[{\"error_x\":{\"color\":\"#2a3f5f\"},\"error_y\":{\"color\":\"#2a3f5f\"},\"marker\":{\"line\":{\"color\":\"#E5ECF6\",\"width\":0.5},\"pattern\":{\"fillmode\":\"overlay\",\"size\":10,\"solidity\":0.2}},\"type\":\"bar\"}],\"barpolar\":[{\"marker\":{\"line\":{\"color\":\"#E5ECF6\",\"width\":0.5},\"pattern\":{\"fillmode\":\"overlay\",\"size\":10,\"solidity\":0.2}},\"type\":\"barpolar\"}],\"carpet\":[{\"aaxis\":{\"endlinecolor\":\"#2a3f5f\",\"gridcolor\":\"white\",\"linecolor\":\"white\",\"minorgridcolor\":\"white\",\"startlinecolor\":\"#2a3f5f\"},\"baxis\":{\"endlinecolor\":\"#2a3f5f\",\"gridcolor\":\"white\",\"linecolor\":\"white\",\"minorgridcolor\":\"white\",\"startlinecolor\":\"#2a3f5f\"},\"type\":\"carpet\"}],\"choropleth\":[{\"colorbar\":{\"outlinewidth\":0,\"ticks\":\"\"},\"type\":\"choropleth\"}],\"contour\":[{\"colorbar\":{\"outlinewidth\":0,\"ticks\":\"\"},\"colorscale\":[[0.0,\"#0d0887\"],[0.1111111111111111,\"#46039f\"],[0.2222222222222222,\"#7201a8\"],[0.3333333333333333,\"#9c179e\"],[0.4444444444444444,\"#bd3786\"],[0.5555555555555556,\"#d8576b\"],[0.6666666666666666,\"#ed7953\"],[0.7777777777777778,\"#fb9f3a\"],[0.8888888888888888,\"#fdca26\"],[1.0,\"#f0f921\"]],\"type\":\"contour\"}],\"contourcarpet\":[{\"colorbar\":{\"outlinewidth\":0,\"ticks\":\"\"},\"type\":\"contourcarpet\"}],\"heatmap\":[{\"colorbar\":{\"outlinewidth\":0,\"ticks\":\"\"},\"colorscale\":[[0.0,\"#0d0887\"],[0.1111111111111111,\"#46039f\"],[0.2222222222222222,\"#7201a8\"],[0.3333333333333333,\"#9c179e\"],[0.4444444444444444,\"#bd3786\"],[0.5555555555555556,\"#d8576b\"],[0.6666666666666666,\"#ed7953\"],[0.7777777777777778,\"#fb9f3a\"],[0.8888888888888888,\"#fdca26\"],[1.0,\"#f0f921\"]],\"type\":\"heatmap\"}],\"heatmapgl\":[{\"colorbar\":{\"outlinewidth\":0,\"ticks\":\"\"},\"colorscale\":[[0.0,\"#0d0887\"],[0.1111111111111111,\"#46039f\"],[0.2222222222222222,\"#7201a8\"],[0.3333333333333333,\"#9c179e\"],[0.4444444444444444,\"#bd3786\"],[0.5555555555555556,\"#d8576b\"],[0.6666666666666666,\"#ed7953\"],[0.7777777777777778,\"#fb9f3a\"],[0.8888888888888888,\"#fdca26\"],[1.0,\"#f0f921\"]],\"type\":\"heatmapgl\"}],\"histogram\":[{\"marker\":{\"pattern\":{\"fillmode\":\"overlay\",\"size\":10,\"solidity\":0.2}},\"type\":\"histogram\"}],\"histogram2d\":[{\"colorbar\":{\"outlinewidth\":0,\"ticks\":\"\"},\"colorscale\":[[0.0,\"#0d0887\"],[0.1111111111111111,\"#46039f\"],[0.2222222222222222,\"#7201a8\"],[0.3333333333333333,\"#9c179e\"],[0.4444444444444444,\"#bd3786\"],[0.5555555555555556,\"#d8576b\"],[0.6666666666666666,\"#ed7953\"],[0.7777777777777778,\"#fb9f3a\"],[0.8888888888888888,\"#fdca26\"],[1.0,\"#f0f921\"]],\"type\":\"histogram2d\"}],\"histogram2dcontour\":[{\"colorbar\":{\"outlinewidth\":0,\"ticks\":\"\"},\"colorscale\":[[0.0,\"#0d0887\"],[0.1111111111111111,\"#46039f\"],[0.2222222222222222,\"#7201a8\"],[0.3333333333333333,\"#9c179e\"],[0.4444444444444444,\"#bd3786\"],[0.5555555555555556,\"#d8576b\"],[0.6666666666666666,\"#ed7953\"],[0.7777777777777778,\"#fb9f3a\"],[0.8888888888888888,\"#fdca26\"],[1.0,\"#f0f921\"]],\"type\":\"histogram2dcontour\"}],\"mesh3d\":[{\"colorbar\":{\"outlinewidth\":0,\"ticks\":\"\"},\"type\":\"mesh3d\"}],\"parcoords\":[{\"line\":{\"colorbar\":{\"outlinewidth\":0,\"ticks\":\"\"}},\"type\":\"parcoords\"}],\"pie\":[{\"automargin\":true,\"type\":\"pie\"}],\"scatter\":[{\"marker\":{\"colorbar\":{\"outlinewidth\":0,\"ticks\":\"\"}},\"type\":\"scatter\"}],\"scatter3d\":[{\"line\":{\"colorbar\":{\"outlinewidth\":0,\"ticks\":\"\"}},\"marker\":{\"colorbar\":{\"outlinewidth\":0,\"ticks\":\"\"}},\"type\":\"scatter3d\"}],\"scattercarpet\":[{\"marker\":{\"colorbar\":{\"outlinewidth\":0,\"ticks\":\"\"}},\"type\":\"scattercarpet\"}],\"scattergeo\":[{\"marker\":{\"colorbar\":{\"outlinewidth\":0,\"ticks\":\"\"}},\"type\":\"scattergeo\"}],\"scattergl\":[{\"marker\":{\"colorbar\":{\"outlinewidth\":0,\"ticks\":\"\"}},\"type\":\"scattergl\"}],\"scattermapbox\":[{\"marker\":{\"colorbar\":{\"outlinewidth\":0,\"ticks\":\"\"}},\"type\":\"scattermapbox\"}],\"scatterpolar\":[{\"marker\":{\"colorbar\":{\"outlinewidth\":0,\"ticks\":\"\"}},\"type\":\"scatterpolar\"}],\"scatterpolargl\":[{\"marker\":{\"colorbar\":{\"outlinewidth\":0,\"ticks\":\"\"}},\"type\":\"scatterpolargl\"}],\"scatterternary\":[{\"marker\":{\"colorbar\":{\"outlinewidth\":0,\"ticks\":\"\"}},\"type\":\"scatterternary\"}],\"surface\":[{\"colorbar\":{\"outlinewidth\":0,\"ticks\":\"\"},\"colorscale\":[[0.0,\"#0d0887\"],[0.1111111111111111,\"#46039f\"],[0.2222222222222222,\"#7201a8\"],[0.3333333333333333,\"#9c179e\"],[0.4444444444444444,\"#bd3786\"],[0.5555555555555556,\"#d8576b\"],[0.6666666666666666,\"#ed7953\"],[0.7777777777777778,\"#fb9f3a\"],[0.8888888888888888,\"#fdca26\"],[1.0,\"#f0f921\"]],\"type\":\"surface\"}],\"table\":[{\"cells\":{\"fill\":{\"color\":\"#EBF0F8\"},\"line\":{\"color\":\"white\"}},\"header\":{\"fill\":{\"color\":\"#C8D4E3\"},\"line\":{\"color\":\"white\"}},\"type\":\"table\"}]},\"layout\":{\"annotationdefaults\":{\"arrowcolor\":\"#2a3f5f\",\"arrowhead\":0,\"arrowwidth\":1},\"autotypenumbers\":\"strict\",\"coloraxis\":{\"colorbar\":{\"outlinewidth\":0,\"ticks\":\"\"}},\"colorscale\":{\"diverging\":[[0,\"#8e0152\"],[0.1,\"#c51b7d\"],[0.2,\"#de77ae\"],[0.3,\"#f1b6da\"],[0.4,\"#fde0ef\"],[0.5,\"#f7f7f7\"],[0.6,\"#e6f5d0\"],[0.7,\"#b8e186\"],[0.8,\"#7fbc41\"],[0.9,\"#4d9221\"],[1,\"#276419\"]],\"sequential\":[[0.0,\"#0d0887\"],[0.1111111111111111,\"#46039f\"],[0.2222222222222222,\"#7201a8\"],[0.3333333333333333,\"#9c179e\"],[0.4444444444444444,\"#bd3786\"],[0.5555555555555556,\"#d8576b\"],[0.6666666666666666,\"#ed7953\"],[0.7777777777777778,\"#fb9f3a\"],[0.8888888888888888,\"#fdca26\"],[1.0,\"#f0f921\"]],\"sequentialminus\":[[0.0,\"#0d0887\"],[0.1111111111111111,\"#46039f\"],[0.2222222222222222,\"#7201a8\"],[0.3333333333333333,\"#9c179e\"],[0.4444444444444444,\"#bd3786\"],[0.5555555555555556,\"#d8576b\"],[0.6666666666666666,\"#ed7953\"],[0.7777777777777778,\"#fb9f3a\"],[0.8888888888888888,\"#fdca26\"],[1.0,\"#f0f921\"]]},\"colorway\":[\"#636efa\",\"#EF553B\",\"#00cc96\",\"#ab63fa\",\"#FFA15A\",\"#19d3f3\",\"#FF6692\",\"#B6E880\",\"#FF97FF\",\"#FECB52\"],\"font\":{\"color\":\"#2a3f5f\"},\"geo\":{\"bgcolor\":\"white\",\"lakecolor\":\"white\",\"landcolor\":\"#E5ECF6\",\"showlakes\":true,\"showland\":true,\"subunitcolor\":\"white\"},\"hoverlabel\":{\"align\":\"left\"},\"hovermode\":\"closest\",\"mapbox\":{\"style\":\"light\"},\"paper_bgcolor\":\"white\",\"plot_bgcolor\":\"#E5ECF6\",\"polar\":{\"angularaxis\":{\"gridcolor\":\"white\",\"linecolor\":\"white\",\"ticks\":\"\"},\"bgcolor\":\"#E5ECF6\",\"radialaxis\":{\"gridcolor\":\"white\",\"linecolor\":\"white\",\"ticks\":\"\"}},\"scene\":{\"xaxis\":{\"backgroundcolor\":\"#E5ECF6\",\"gridcolor\":\"white\",\"gridwidth\":2,\"linecolor\":\"white\",\"showbackground\":true,\"ticks\":\"\",\"zerolinecolor\":\"white\"},\"yaxis\":{\"backgroundcolor\":\"#E5ECF6\",\"gridcolor\":\"white\",\"gridwidth\":2,\"linecolor\":\"white\",\"showbackground\":true,\"ticks\":\"\",\"zerolinecolor\":\"white\"},\"zaxis\":{\"backgroundcolor\":\"#E5ECF6\",\"gridcolor\":\"white\",\"gridwidth\":2,\"linecolor\":\"white\",\"showbackground\":true,\"ticks\":\"\",\"zerolinecolor\":\"white\"}},\"shapedefaults\":{\"line\":{\"color\":\"#2a3f5f\"}},\"ternary\":{\"aaxis\":{\"gridcolor\":\"white\",\"linecolor\":\"white\",\"ticks\":\"\"},\"baxis\":{\"gridcolor\":\"white\",\"linecolor\":\"white\",\"ticks\":\"\"},\"bgcolor\":\"#E5ECF6\",\"caxis\":{\"gridcolor\":\"white\",\"linecolor\":\"white\",\"ticks\":\"\"}},\"title\":{\"x\":0.05},\"xaxis\":{\"automargin\":true,\"gridcolor\":\"white\",\"linecolor\":\"white\",\"ticks\":\"\",\"title\":{\"standoff\":15},\"zerolinecolor\":\"white\",\"zerolinewidth\":2},\"yaxis\":{\"automargin\":true,\"gridcolor\":\"white\",\"linecolor\":\"white\",\"ticks\":\"\",\"title\":{\"standoff\":15},\"zerolinecolor\":\"white\",\"zerolinewidth\":2}}},\"xaxis\":{\"dtick\":1,\"gridwidth\":2,\"showticklabels\":false,\"tick0\":-0.5,\"ticks\":\"\",\"zeroline\":false},\"yaxis\":{\"autorange\":\"reversed\",\"dtick\":1,\"gridwidth\":2,\"showticklabels\":false,\"tick0\":0.5,\"ticks\":\"\",\"zeroline\":false}},                        {\"responsive\": true}                    ).then(function(){\n",
       "                            \n",
       "var gd = document.getElementById('9f2e9381-06e7-4f12-b342-23eac6d68a1c');\n",
       "var x = new MutationObserver(function (mutations, observer) {{\n",
       "        var display = window.getComputedStyle(gd).display;\n",
       "        if (!display || display === 'none') {{\n",
       "            console.log([gd, 'removed!']);\n",
       "            Plotly.purge(gd);\n",
       "            observer.disconnect();\n",
       "        }}\n",
       "}});\n",
       "\n",
       "// Listen for the removal of the full notebook cells\n",
       "var notebookContainer = gd.closest('#notebook-container');\n",
       "if (notebookContainer) {{\n",
       "    x.observe(notebookContainer, {childList: true});\n",
       "}}\n",
       "\n",
       "// Listen for the clearing of the current output cell\n",
       "var outputEl = gd.closest('.output');\n",
       "if (outputEl) {{\n",
       "    x.observe(outputEl, {childList: true});\n",
       "}}\n",
       "\n",
       "                        })                };                });            </script>        </div>"
      ]
     },
     "metadata": {}
    }
   ],
   "metadata": {}
  },
  {
   "cell_type": "code",
   "execution_count": 30,
   "source": [
    "type(table)"
   ],
   "outputs": [
    {
     "output_type": "execute_result",
     "data": {
      "text/plain": [
       "plotly.graph_objs._figure.Figure"
      ]
     },
     "metadata": {},
     "execution_count": 30
    }
   ],
   "metadata": {}
  },
  {
   "cell_type": "code",
   "execution_count": 32,
   "source": [
    "import plotly.figure_factory as ff\n",
    "stus=pd.read_csv('~/data/cbcpv/school/school.csv').iloc[:10, :]\n",
    "\n",
    "fig=ff.create_table(stus)\n",
    "\n",
    "trace0=go.Scatter(\n",
    "    x=stus['School'],\n",
    "    y=stus['Women'],\n",
    "    marker=dict(color='#0099ff'),\n",
    "    name='Women',\n",
    "    xaxis='x2',\n",
    "    yaxis='y2'\n",
    ")\n",
    "trace1=go.Scatter(\n",
    "    x=stus['School'],\n",
    "    y=stus['Men'],\n",
    "    marker=dict(color='#404040'),\n",
    "    name='Men',\n",
    "    xaxis='x2',\n",
    "    yaxis='y2'\n",
    ")\n",
    "data=go.Data([trace0, trace1])\n",
    "fig.add_traces(data)\n",
    "layout=go.Layout(\n",
    "    xaxis=dict(domain=[0, .45]),\n",
    "    xaxis2=dict(domain=[.55,1]),\n",
    "    yaxis2=dict(anchor='x2'),\n",
    "    margin=go.layout.Margin(b=100, t=20)\n",
    ")\n",
    "fig['layout'].update(layout)\n",
    "plotly.offline.iplot(fig)\n"
   ],
   "outputs": [
    {
     "output_type": "stream",
     "name": "stderr",
     "text": [
      "/Users/du/miniforge3/envs/tf/lib/python3.9/site-packages/plotly/graph_objs/_deprecations.py:31: DeprecationWarning:\n",
      "\n",
      "plotly.graph_objs.Data is deprecated.\n",
      "Please replace it with a list or tuple of instances of the following types\n",
      "  - plotly.graph_objs.Scatter\n",
      "  - plotly.graph_objs.Bar\n",
      "  - plotly.graph_objs.Area\n",
      "  - plotly.graph_objs.Histogram\n",
      "  - etc.\n",
      "\n",
      "\n"
     ]
    },
    {
     "output_type": "display_data",
     "data": {
      "application/vnd.plotly.v1+json": {
       "config": {
        "linkText": "Export to plot.ly",
        "plotlyServerURL": "https://plot.ly",
        "showLink": false
       },
       "data": [
        {
         "colorscale": [
          [
           0,
           "#00083e"
          ],
          [
           0.5,
           "#ededee"
          ],
          [
           1,
           "#ffffff"
          ]
         ],
         "hoverinfo": "none",
         "opacity": 0.75,
         "showscale": false,
         "type": "heatmap",
         "z": [
          [
           0,
           0,
           0,
           0
          ],
          [
           0.5,
           0.5,
           0.5,
           0.5
          ],
          [
           1,
           1,
           1,
           1
          ],
          [
           0.5,
           0.5,
           0.5,
           0.5
          ],
          [
           1,
           1,
           1,
           1
          ],
          [
           0.5,
           0.5,
           0.5,
           0.5
          ],
          [
           1,
           1,
           1,
           1
          ],
          [
           0.5,
           0.5,
           0.5,
           0.5
          ],
          [
           1,
           1,
           1,
           1
          ],
          [
           0.5,
           0.5,
           0.5,
           0.5
          ],
          [
           1,
           1,
           1,
           1
          ]
         ]
        },
        {
         "marker": {
          "color": "#0099ff"
         },
         "name": "Women",
         "type": "scatter",
         "x": [
          "MIT",
          "Stanford",
          "Harvard",
          "U.Penn",
          "Princeton",
          "Chicago",
          "Georgetown",
          "Tufts",
          "Yale",
          "Columbia"
         ],
         "xaxis": "x2",
         "y": [
          94,
          96,
          112,
          92,
          90,
          78,
          94,
          76,
          79,
          86
         ],
         "yaxis": "y2"
        },
        {
         "marker": {
          "color": "#404040"
         },
         "name": "Men",
         "type": "scatter",
         "x": [
          "MIT",
          "Stanford",
          "Harvard",
          "U.Penn",
          "Princeton",
          "Chicago",
          "Georgetown",
          "Tufts",
          "Yale",
          "Columbia"
         ],
         "xaxis": "x2",
         "y": [
          152,
          151,
          165,
          141,
          137,
          118,
          131,
          112,
          114,
          119
         ],
         "yaxis": "y2"
        }
       ],
       "layout": {
        "annotations": [
         {
          "align": "left",
          "font": {
           "color": "#ffffff"
          },
          "showarrow": false,
          "text": "<b>School</b>",
          "x": -0.45,
          "xanchor": "left",
          "xref": "x",
          "y": 0,
          "yref": "y"
         },
         {
          "align": "left",
          "font": {
           "color": "#ffffff"
          },
          "showarrow": false,
          "text": "<b>Women</b>",
          "x": 0.55,
          "xanchor": "left",
          "xref": "x",
          "y": 0,
          "yref": "y"
         },
         {
          "align": "left",
          "font": {
           "color": "#ffffff"
          },
          "showarrow": false,
          "text": "<b>Men</b>",
          "x": 1.55,
          "xanchor": "left",
          "xref": "x",
          "y": 0,
          "yref": "y"
         },
         {
          "align": "left",
          "font": {
           "color": "#ffffff"
          },
          "showarrow": false,
          "text": "<b>Gap</b>",
          "x": 2.55,
          "xanchor": "left",
          "xref": "x",
          "y": 0,
          "yref": "y"
         },
         {
          "align": "left",
          "font": {
           "color": "#000000"
          },
          "showarrow": false,
          "text": "MIT",
          "x": -0.45,
          "xanchor": "left",
          "xref": "x",
          "y": 1,
          "yref": "y"
         },
         {
          "align": "left",
          "font": {
           "color": "#000000"
          },
          "showarrow": false,
          "text": "94",
          "x": 0.55,
          "xanchor": "left",
          "xref": "x",
          "y": 1,
          "yref": "y"
         },
         {
          "align": "left",
          "font": {
           "color": "#000000"
          },
          "showarrow": false,
          "text": "152",
          "x": 1.55,
          "xanchor": "left",
          "xref": "x",
          "y": 1,
          "yref": "y"
         },
         {
          "align": "left",
          "font": {
           "color": "#000000"
          },
          "showarrow": false,
          "text": "58",
          "x": 2.55,
          "xanchor": "left",
          "xref": "x",
          "y": 1,
          "yref": "y"
         },
         {
          "align": "left",
          "font": {
           "color": "#000000"
          },
          "showarrow": false,
          "text": "Stanford",
          "x": -0.45,
          "xanchor": "left",
          "xref": "x",
          "y": 2,
          "yref": "y"
         },
         {
          "align": "left",
          "font": {
           "color": "#000000"
          },
          "showarrow": false,
          "text": "96",
          "x": 0.55,
          "xanchor": "left",
          "xref": "x",
          "y": 2,
          "yref": "y"
         },
         {
          "align": "left",
          "font": {
           "color": "#000000"
          },
          "showarrow": false,
          "text": "151",
          "x": 1.55,
          "xanchor": "left",
          "xref": "x",
          "y": 2,
          "yref": "y"
         },
         {
          "align": "left",
          "font": {
           "color": "#000000"
          },
          "showarrow": false,
          "text": "55",
          "x": 2.55,
          "xanchor": "left",
          "xref": "x",
          "y": 2,
          "yref": "y"
         },
         {
          "align": "left",
          "font": {
           "color": "#000000"
          },
          "showarrow": false,
          "text": "Harvard",
          "x": -0.45,
          "xanchor": "left",
          "xref": "x",
          "y": 3,
          "yref": "y"
         },
         {
          "align": "left",
          "font": {
           "color": "#000000"
          },
          "showarrow": false,
          "text": "112",
          "x": 0.55,
          "xanchor": "left",
          "xref": "x",
          "y": 3,
          "yref": "y"
         },
         {
          "align": "left",
          "font": {
           "color": "#000000"
          },
          "showarrow": false,
          "text": "165",
          "x": 1.55,
          "xanchor": "left",
          "xref": "x",
          "y": 3,
          "yref": "y"
         },
         {
          "align": "left",
          "font": {
           "color": "#000000"
          },
          "showarrow": false,
          "text": "53",
          "x": 2.55,
          "xanchor": "left",
          "xref": "x",
          "y": 3,
          "yref": "y"
         },
         {
          "align": "left",
          "font": {
           "color": "#000000"
          },
          "showarrow": false,
          "text": "U.Penn",
          "x": -0.45,
          "xanchor": "left",
          "xref": "x",
          "y": 4,
          "yref": "y"
         },
         {
          "align": "left",
          "font": {
           "color": "#000000"
          },
          "showarrow": false,
          "text": "92",
          "x": 0.55,
          "xanchor": "left",
          "xref": "x",
          "y": 4,
          "yref": "y"
         },
         {
          "align": "left",
          "font": {
           "color": "#000000"
          },
          "showarrow": false,
          "text": "141",
          "x": 1.55,
          "xanchor": "left",
          "xref": "x",
          "y": 4,
          "yref": "y"
         },
         {
          "align": "left",
          "font": {
           "color": "#000000"
          },
          "showarrow": false,
          "text": "49",
          "x": 2.55,
          "xanchor": "left",
          "xref": "x",
          "y": 4,
          "yref": "y"
         },
         {
          "align": "left",
          "font": {
           "color": "#000000"
          },
          "showarrow": false,
          "text": "Princeton",
          "x": -0.45,
          "xanchor": "left",
          "xref": "x",
          "y": 5,
          "yref": "y"
         },
         {
          "align": "left",
          "font": {
           "color": "#000000"
          },
          "showarrow": false,
          "text": "90",
          "x": 0.55,
          "xanchor": "left",
          "xref": "x",
          "y": 5,
          "yref": "y"
         },
         {
          "align": "left",
          "font": {
           "color": "#000000"
          },
          "showarrow": false,
          "text": "137",
          "x": 1.55,
          "xanchor": "left",
          "xref": "x",
          "y": 5,
          "yref": "y"
         },
         {
          "align": "left",
          "font": {
           "color": "#000000"
          },
          "showarrow": false,
          "text": "47",
          "x": 2.55,
          "xanchor": "left",
          "xref": "x",
          "y": 5,
          "yref": "y"
         },
         {
          "align": "left",
          "font": {
           "color": "#000000"
          },
          "showarrow": false,
          "text": "Chicago",
          "x": -0.45,
          "xanchor": "left",
          "xref": "x",
          "y": 6,
          "yref": "y"
         },
         {
          "align": "left",
          "font": {
           "color": "#000000"
          },
          "showarrow": false,
          "text": "78",
          "x": 0.55,
          "xanchor": "left",
          "xref": "x",
          "y": 6,
          "yref": "y"
         },
         {
          "align": "left",
          "font": {
           "color": "#000000"
          },
          "showarrow": false,
          "text": "118",
          "x": 1.55,
          "xanchor": "left",
          "xref": "x",
          "y": 6,
          "yref": "y"
         },
         {
          "align": "left",
          "font": {
           "color": "#000000"
          },
          "showarrow": false,
          "text": "40",
          "x": 2.55,
          "xanchor": "left",
          "xref": "x",
          "y": 6,
          "yref": "y"
         },
         {
          "align": "left",
          "font": {
           "color": "#000000"
          },
          "showarrow": false,
          "text": "Georgetown",
          "x": -0.45,
          "xanchor": "left",
          "xref": "x",
          "y": 7,
          "yref": "y"
         },
         {
          "align": "left",
          "font": {
           "color": "#000000"
          },
          "showarrow": false,
          "text": "94",
          "x": 0.55,
          "xanchor": "left",
          "xref": "x",
          "y": 7,
          "yref": "y"
         },
         {
          "align": "left",
          "font": {
           "color": "#000000"
          },
          "showarrow": false,
          "text": "131",
          "x": 1.55,
          "xanchor": "left",
          "xref": "x",
          "y": 7,
          "yref": "y"
         },
         {
          "align": "left",
          "font": {
           "color": "#000000"
          },
          "showarrow": false,
          "text": "37",
          "x": 2.55,
          "xanchor": "left",
          "xref": "x",
          "y": 7,
          "yref": "y"
         },
         {
          "align": "left",
          "font": {
           "color": "#000000"
          },
          "showarrow": false,
          "text": "Tufts",
          "x": -0.45,
          "xanchor": "left",
          "xref": "x",
          "y": 8,
          "yref": "y"
         },
         {
          "align": "left",
          "font": {
           "color": "#000000"
          },
          "showarrow": false,
          "text": "76",
          "x": 0.55,
          "xanchor": "left",
          "xref": "x",
          "y": 8,
          "yref": "y"
         },
         {
          "align": "left",
          "font": {
           "color": "#000000"
          },
          "showarrow": false,
          "text": "112",
          "x": 1.55,
          "xanchor": "left",
          "xref": "x",
          "y": 8,
          "yref": "y"
         },
         {
          "align": "left",
          "font": {
           "color": "#000000"
          },
          "showarrow": false,
          "text": "36",
          "x": 2.55,
          "xanchor": "left",
          "xref": "x",
          "y": 8,
          "yref": "y"
         },
         {
          "align": "left",
          "font": {
           "color": "#000000"
          },
          "showarrow": false,
          "text": "Yale",
          "x": -0.45,
          "xanchor": "left",
          "xref": "x",
          "y": 9,
          "yref": "y"
         },
         {
          "align": "left",
          "font": {
           "color": "#000000"
          },
          "showarrow": false,
          "text": "79",
          "x": 0.55,
          "xanchor": "left",
          "xref": "x",
          "y": 9,
          "yref": "y"
         },
         {
          "align": "left",
          "font": {
           "color": "#000000"
          },
          "showarrow": false,
          "text": "114",
          "x": 1.55,
          "xanchor": "left",
          "xref": "x",
          "y": 9,
          "yref": "y"
         },
         {
          "align": "left",
          "font": {
           "color": "#000000"
          },
          "showarrow": false,
          "text": "35",
          "x": 2.55,
          "xanchor": "left",
          "xref": "x",
          "y": 9,
          "yref": "y"
         },
         {
          "align": "left",
          "font": {
           "color": "#000000"
          },
          "showarrow": false,
          "text": "Columbia",
          "x": -0.45,
          "xanchor": "left",
          "xref": "x",
          "y": 10,
          "yref": "y"
         },
         {
          "align": "left",
          "font": {
           "color": "#000000"
          },
          "showarrow": false,
          "text": "86",
          "x": 0.55,
          "xanchor": "left",
          "xref": "x",
          "y": 10,
          "yref": "y"
         },
         {
          "align": "left",
          "font": {
           "color": "#000000"
          },
          "showarrow": false,
          "text": "119",
          "x": 1.55,
          "xanchor": "left",
          "xref": "x",
          "y": 10,
          "yref": "y"
         },
         {
          "align": "left",
          "font": {
           "color": "#000000"
          },
          "showarrow": false,
          "text": "33",
          "x": 2.55,
          "xanchor": "left",
          "xref": "x",
          "y": 10,
          "yref": "y"
         }
        ],
        "height": 380,
        "margin": {
         "b": 100,
         "l": 0,
         "r": 0,
         "t": 20
        },
        "template": {
         "data": {
          "bar": [
           {
            "error_x": {
             "color": "#2a3f5f"
            },
            "error_y": {
             "color": "#2a3f5f"
            },
            "marker": {
             "line": {
              "color": "#E5ECF6",
              "width": 0.5
             },
             "pattern": {
              "fillmode": "overlay",
              "size": 10,
              "solidity": 0.2
             }
            },
            "type": "bar"
           }
          ],
          "barpolar": [
           {
            "marker": {
             "line": {
              "color": "#E5ECF6",
              "width": 0.5
             },
             "pattern": {
              "fillmode": "overlay",
              "size": 10,
              "solidity": 0.2
             }
            },
            "type": "barpolar"
           }
          ],
          "carpet": [
           {
            "aaxis": {
             "endlinecolor": "#2a3f5f",
             "gridcolor": "white",
             "linecolor": "white",
             "minorgridcolor": "white",
             "startlinecolor": "#2a3f5f"
            },
            "baxis": {
             "endlinecolor": "#2a3f5f",
             "gridcolor": "white",
             "linecolor": "white",
             "minorgridcolor": "white",
             "startlinecolor": "#2a3f5f"
            },
            "type": "carpet"
           }
          ],
          "choropleth": [
           {
            "colorbar": {
             "outlinewidth": 0,
             "ticks": ""
            },
            "type": "choropleth"
           }
          ],
          "contour": [
           {
            "colorbar": {
             "outlinewidth": 0,
             "ticks": ""
            },
            "colorscale": [
             [
              0,
              "#0d0887"
             ],
             [
              0.1111111111111111,
              "#46039f"
             ],
             [
              0.2222222222222222,
              "#7201a8"
             ],
             [
              0.3333333333333333,
              "#9c179e"
             ],
             [
              0.4444444444444444,
              "#bd3786"
             ],
             [
              0.5555555555555556,
              "#d8576b"
             ],
             [
              0.6666666666666666,
              "#ed7953"
             ],
             [
              0.7777777777777778,
              "#fb9f3a"
             ],
             [
              0.8888888888888888,
              "#fdca26"
             ],
             [
              1,
              "#f0f921"
             ]
            ],
            "type": "contour"
           }
          ],
          "contourcarpet": [
           {
            "colorbar": {
             "outlinewidth": 0,
             "ticks": ""
            },
            "type": "contourcarpet"
           }
          ],
          "heatmap": [
           {
            "colorbar": {
             "outlinewidth": 0,
             "ticks": ""
            },
            "colorscale": [
             [
              0,
              "#0d0887"
             ],
             [
              0.1111111111111111,
              "#46039f"
             ],
             [
              0.2222222222222222,
              "#7201a8"
             ],
             [
              0.3333333333333333,
              "#9c179e"
             ],
             [
              0.4444444444444444,
              "#bd3786"
             ],
             [
              0.5555555555555556,
              "#d8576b"
             ],
             [
              0.6666666666666666,
              "#ed7953"
             ],
             [
              0.7777777777777778,
              "#fb9f3a"
             ],
             [
              0.8888888888888888,
              "#fdca26"
             ],
             [
              1,
              "#f0f921"
             ]
            ],
            "type": "heatmap"
           }
          ],
          "heatmapgl": [
           {
            "colorbar": {
             "outlinewidth": 0,
             "ticks": ""
            },
            "colorscale": [
             [
              0,
              "#0d0887"
             ],
             [
              0.1111111111111111,
              "#46039f"
             ],
             [
              0.2222222222222222,
              "#7201a8"
             ],
             [
              0.3333333333333333,
              "#9c179e"
             ],
             [
              0.4444444444444444,
              "#bd3786"
             ],
             [
              0.5555555555555556,
              "#d8576b"
             ],
             [
              0.6666666666666666,
              "#ed7953"
             ],
             [
              0.7777777777777778,
              "#fb9f3a"
             ],
             [
              0.8888888888888888,
              "#fdca26"
             ],
             [
              1,
              "#f0f921"
             ]
            ],
            "type": "heatmapgl"
           }
          ],
          "histogram": [
           {
            "marker": {
             "pattern": {
              "fillmode": "overlay",
              "size": 10,
              "solidity": 0.2
             }
            },
            "type": "histogram"
           }
          ],
          "histogram2d": [
           {
            "colorbar": {
             "outlinewidth": 0,
             "ticks": ""
            },
            "colorscale": [
             [
              0,
              "#0d0887"
             ],
             [
              0.1111111111111111,
              "#46039f"
             ],
             [
              0.2222222222222222,
              "#7201a8"
             ],
             [
              0.3333333333333333,
              "#9c179e"
             ],
             [
              0.4444444444444444,
              "#bd3786"
             ],
             [
              0.5555555555555556,
              "#d8576b"
             ],
             [
              0.6666666666666666,
              "#ed7953"
             ],
             [
              0.7777777777777778,
              "#fb9f3a"
             ],
             [
              0.8888888888888888,
              "#fdca26"
             ],
             [
              1,
              "#f0f921"
             ]
            ],
            "type": "histogram2d"
           }
          ],
          "histogram2dcontour": [
           {
            "colorbar": {
             "outlinewidth": 0,
             "ticks": ""
            },
            "colorscale": [
             [
              0,
              "#0d0887"
             ],
             [
              0.1111111111111111,
              "#46039f"
             ],
             [
              0.2222222222222222,
              "#7201a8"
             ],
             [
              0.3333333333333333,
              "#9c179e"
             ],
             [
              0.4444444444444444,
              "#bd3786"
             ],
             [
              0.5555555555555556,
              "#d8576b"
             ],
             [
              0.6666666666666666,
              "#ed7953"
             ],
             [
              0.7777777777777778,
              "#fb9f3a"
             ],
             [
              0.8888888888888888,
              "#fdca26"
             ],
             [
              1,
              "#f0f921"
             ]
            ],
            "type": "histogram2dcontour"
           }
          ],
          "mesh3d": [
           {
            "colorbar": {
             "outlinewidth": 0,
             "ticks": ""
            },
            "type": "mesh3d"
           }
          ],
          "parcoords": [
           {
            "line": {
             "colorbar": {
              "outlinewidth": 0,
              "ticks": ""
             }
            },
            "type": "parcoords"
           }
          ],
          "pie": [
           {
            "automargin": true,
            "type": "pie"
           }
          ],
          "scatter": [
           {
            "marker": {
             "colorbar": {
              "outlinewidth": 0,
              "ticks": ""
             }
            },
            "type": "scatter"
           }
          ],
          "scatter3d": [
           {
            "line": {
             "colorbar": {
              "outlinewidth": 0,
              "ticks": ""
             }
            },
            "marker": {
             "colorbar": {
              "outlinewidth": 0,
              "ticks": ""
             }
            },
            "type": "scatter3d"
           }
          ],
          "scattercarpet": [
           {
            "marker": {
             "colorbar": {
              "outlinewidth": 0,
              "ticks": ""
             }
            },
            "type": "scattercarpet"
           }
          ],
          "scattergeo": [
           {
            "marker": {
             "colorbar": {
              "outlinewidth": 0,
              "ticks": ""
             }
            },
            "type": "scattergeo"
           }
          ],
          "scattergl": [
           {
            "marker": {
             "colorbar": {
              "outlinewidth": 0,
              "ticks": ""
             }
            },
            "type": "scattergl"
           }
          ],
          "scattermapbox": [
           {
            "marker": {
             "colorbar": {
              "outlinewidth": 0,
              "ticks": ""
             }
            },
            "type": "scattermapbox"
           }
          ],
          "scatterpolar": [
           {
            "marker": {
             "colorbar": {
              "outlinewidth": 0,
              "ticks": ""
             }
            },
            "type": "scatterpolar"
           }
          ],
          "scatterpolargl": [
           {
            "marker": {
             "colorbar": {
              "outlinewidth": 0,
              "ticks": ""
             }
            },
            "type": "scatterpolargl"
           }
          ],
          "scatterternary": [
           {
            "marker": {
             "colorbar": {
              "outlinewidth": 0,
              "ticks": ""
             }
            },
            "type": "scatterternary"
           }
          ],
          "surface": [
           {
            "colorbar": {
             "outlinewidth": 0,
             "ticks": ""
            },
            "colorscale": [
             [
              0,
              "#0d0887"
             ],
             [
              0.1111111111111111,
              "#46039f"
             ],
             [
              0.2222222222222222,
              "#7201a8"
             ],
             [
              0.3333333333333333,
              "#9c179e"
             ],
             [
              0.4444444444444444,
              "#bd3786"
             ],
             [
              0.5555555555555556,
              "#d8576b"
             ],
             [
              0.6666666666666666,
              "#ed7953"
             ],
             [
              0.7777777777777778,
              "#fb9f3a"
             ],
             [
              0.8888888888888888,
              "#fdca26"
             ],
             [
              1,
              "#f0f921"
             ]
            ],
            "type": "surface"
           }
          ],
          "table": [
           {
            "cells": {
             "fill": {
              "color": "#EBF0F8"
             },
             "line": {
              "color": "white"
             }
            },
            "header": {
             "fill": {
              "color": "#C8D4E3"
             },
             "line": {
              "color": "white"
             }
            },
            "type": "table"
           }
          ]
         },
         "layout": {
          "annotationdefaults": {
           "arrowcolor": "#2a3f5f",
           "arrowhead": 0,
           "arrowwidth": 1
          },
          "autotypenumbers": "strict",
          "coloraxis": {
           "colorbar": {
            "outlinewidth": 0,
            "ticks": ""
           }
          },
          "colorscale": {
           "diverging": [
            [
             0,
             "#8e0152"
            ],
            [
             0.1,
             "#c51b7d"
            ],
            [
             0.2,
             "#de77ae"
            ],
            [
             0.3,
             "#f1b6da"
            ],
            [
             0.4,
             "#fde0ef"
            ],
            [
             0.5,
             "#f7f7f7"
            ],
            [
             0.6,
             "#e6f5d0"
            ],
            [
             0.7,
             "#b8e186"
            ],
            [
             0.8,
             "#7fbc41"
            ],
            [
             0.9,
             "#4d9221"
            ],
            [
             1,
             "#276419"
            ]
           ],
           "sequential": [
            [
             0,
             "#0d0887"
            ],
            [
             0.1111111111111111,
             "#46039f"
            ],
            [
             0.2222222222222222,
             "#7201a8"
            ],
            [
             0.3333333333333333,
             "#9c179e"
            ],
            [
             0.4444444444444444,
             "#bd3786"
            ],
            [
             0.5555555555555556,
             "#d8576b"
            ],
            [
             0.6666666666666666,
             "#ed7953"
            ],
            [
             0.7777777777777778,
             "#fb9f3a"
            ],
            [
             0.8888888888888888,
             "#fdca26"
            ],
            [
             1,
             "#f0f921"
            ]
           ],
           "sequentialminus": [
            [
             0,
             "#0d0887"
            ],
            [
             0.1111111111111111,
             "#46039f"
            ],
            [
             0.2222222222222222,
             "#7201a8"
            ],
            [
             0.3333333333333333,
             "#9c179e"
            ],
            [
             0.4444444444444444,
             "#bd3786"
            ],
            [
             0.5555555555555556,
             "#d8576b"
            ],
            [
             0.6666666666666666,
             "#ed7953"
            ],
            [
             0.7777777777777778,
             "#fb9f3a"
            ],
            [
             0.8888888888888888,
             "#fdca26"
            ],
            [
             1,
             "#f0f921"
            ]
           ]
          },
          "colorway": [
           "#636efa",
           "#EF553B",
           "#00cc96",
           "#ab63fa",
           "#FFA15A",
           "#19d3f3",
           "#FF6692",
           "#B6E880",
           "#FF97FF",
           "#FECB52"
          ],
          "font": {
           "color": "#2a3f5f"
          },
          "geo": {
           "bgcolor": "white",
           "lakecolor": "white",
           "landcolor": "#E5ECF6",
           "showlakes": true,
           "showland": true,
           "subunitcolor": "white"
          },
          "hoverlabel": {
           "align": "left"
          },
          "hovermode": "closest",
          "mapbox": {
           "style": "light"
          },
          "paper_bgcolor": "white",
          "plot_bgcolor": "#E5ECF6",
          "polar": {
           "angularaxis": {
            "gridcolor": "white",
            "linecolor": "white",
            "ticks": ""
           },
           "bgcolor": "#E5ECF6",
           "radialaxis": {
            "gridcolor": "white",
            "linecolor": "white",
            "ticks": ""
           }
          },
          "scene": {
           "xaxis": {
            "backgroundcolor": "#E5ECF6",
            "gridcolor": "white",
            "gridwidth": 2,
            "linecolor": "white",
            "showbackground": true,
            "ticks": "",
            "zerolinecolor": "white"
           },
           "yaxis": {
            "backgroundcolor": "#E5ECF6",
            "gridcolor": "white",
            "gridwidth": 2,
            "linecolor": "white",
            "showbackground": true,
            "ticks": "",
            "zerolinecolor": "white"
           },
           "zaxis": {
            "backgroundcolor": "#E5ECF6",
            "gridcolor": "white",
            "gridwidth": 2,
            "linecolor": "white",
            "showbackground": true,
            "ticks": "",
            "zerolinecolor": "white"
           }
          },
          "shapedefaults": {
           "line": {
            "color": "#2a3f5f"
           }
          },
          "ternary": {
           "aaxis": {
            "gridcolor": "white",
            "linecolor": "white",
            "ticks": ""
           },
           "baxis": {
            "gridcolor": "white",
            "linecolor": "white",
            "ticks": ""
           },
           "bgcolor": "#E5ECF6",
           "caxis": {
            "gridcolor": "white",
            "linecolor": "white",
            "ticks": ""
           }
          },
          "title": {
           "x": 0.05
          },
          "xaxis": {
           "automargin": true,
           "gridcolor": "white",
           "linecolor": "white",
           "ticks": "",
           "title": {
            "standoff": 15
           },
           "zerolinecolor": "white",
           "zerolinewidth": 2
          },
          "yaxis": {
           "automargin": true,
           "gridcolor": "white",
           "linecolor": "white",
           "ticks": "",
           "title": {
            "standoff": 15
           },
           "zerolinecolor": "white",
           "zerolinewidth": 2
          }
         }
        },
        "xaxis": {
         "domain": [
          0,
          0.45
         ],
         "dtick": 1,
         "gridwidth": 2,
         "showticklabels": false,
         "tick0": -0.5,
         "ticks": "",
         "zeroline": false
        },
        "xaxis2": {
         "domain": [
          0.55,
          1
         ]
        },
        "yaxis": {
         "autorange": "reversed",
         "dtick": 1,
         "gridwidth": 2,
         "showticklabels": false,
         "tick0": 0.5,
         "ticks": "",
         "zeroline": false
        },
        "yaxis2": {
         "anchor": "x2"
        }
       }
      },
      "text/html": [
       "<div>                            <div id=\"43282b3d-9a74-4419-9722-18358eace786\" class=\"plotly-graph-div\" style=\"height:380px; width:100%;\"></div>            <script type=\"text/javascript\">                require([\"plotly\"], function(Plotly) {                    window.PLOTLYENV=window.PLOTLYENV || {};                                    if (document.getElementById(\"43282b3d-9a74-4419-9722-18358eace786\")) {                    Plotly.newPlot(                        \"43282b3d-9a74-4419-9722-18358eace786\",                        [{\"colorscale\":[[0,\"#00083e\"],[0.5,\"#ededee\"],[1,\"#ffffff\"]],\"hoverinfo\":\"none\",\"opacity\":0.75,\"showscale\":false,\"type\":\"heatmap\",\"z\":[[0,0,0,0],[0.5,0.5,0.5,0.5],[1,1,1,1],[0.5,0.5,0.5,0.5],[1,1,1,1],[0.5,0.5,0.5,0.5],[1,1,1,1],[0.5,0.5,0.5,0.5],[1,1,1,1],[0.5,0.5,0.5,0.5],[1,1,1,1]]},{\"marker\":{\"color\":\"#0099ff\"},\"name\":\"Women\",\"type\":\"scatter\",\"x\":[\"MIT\",\"Stanford\",\"Harvard\",\"U.Penn\",\"Princeton\",\"Chicago\",\"Georgetown\",\"Tufts\",\"Yale\",\"Columbia\"],\"xaxis\":\"x2\",\"y\":[94,96,112,92,90,78,94,76,79,86],\"yaxis\":\"y2\"},{\"marker\":{\"color\":\"#404040\"},\"name\":\"Men\",\"type\":\"scatter\",\"x\":[\"MIT\",\"Stanford\",\"Harvard\",\"U.Penn\",\"Princeton\",\"Chicago\",\"Georgetown\",\"Tufts\",\"Yale\",\"Columbia\"],\"xaxis\":\"x2\",\"y\":[152,151,165,141,137,118,131,112,114,119],\"yaxis\":\"y2\"}],                        {\"annotations\":[{\"align\":\"left\",\"font\":{\"color\":\"#ffffff\"},\"showarrow\":false,\"text\":\"<b>School</b>\",\"x\":-0.45,\"xanchor\":\"left\",\"xref\":\"x\",\"y\":0,\"yref\":\"y\"},{\"align\":\"left\",\"font\":{\"color\":\"#ffffff\"},\"showarrow\":false,\"text\":\"<b>Women</b>\",\"x\":0.55,\"xanchor\":\"left\",\"xref\":\"x\",\"y\":0,\"yref\":\"y\"},{\"align\":\"left\",\"font\":{\"color\":\"#ffffff\"},\"showarrow\":false,\"text\":\"<b>Men</b>\",\"x\":1.55,\"xanchor\":\"left\",\"xref\":\"x\",\"y\":0,\"yref\":\"y\"},{\"align\":\"left\",\"font\":{\"color\":\"#ffffff\"},\"showarrow\":false,\"text\":\"<b>Gap</b>\",\"x\":2.55,\"xanchor\":\"left\",\"xref\":\"x\",\"y\":0,\"yref\":\"y\"},{\"align\":\"left\",\"font\":{\"color\":\"#000000\"},\"showarrow\":false,\"text\":\"MIT\",\"x\":-0.45,\"xanchor\":\"left\",\"xref\":\"x\",\"y\":1,\"yref\":\"y\"},{\"align\":\"left\",\"font\":{\"color\":\"#000000\"},\"showarrow\":false,\"text\":\"94\",\"x\":0.55,\"xanchor\":\"left\",\"xref\":\"x\",\"y\":1,\"yref\":\"y\"},{\"align\":\"left\",\"font\":{\"color\":\"#000000\"},\"showarrow\":false,\"text\":\"152\",\"x\":1.55,\"xanchor\":\"left\",\"xref\":\"x\",\"y\":1,\"yref\":\"y\"},{\"align\":\"left\",\"font\":{\"color\":\"#000000\"},\"showarrow\":false,\"text\":\"58\",\"x\":2.55,\"xanchor\":\"left\",\"xref\":\"x\",\"y\":1,\"yref\":\"y\"},{\"align\":\"left\",\"font\":{\"color\":\"#000000\"},\"showarrow\":false,\"text\":\"Stanford\",\"x\":-0.45,\"xanchor\":\"left\",\"xref\":\"x\",\"y\":2,\"yref\":\"y\"},{\"align\":\"left\",\"font\":{\"color\":\"#000000\"},\"showarrow\":false,\"text\":\"96\",\"x\":0.55,\"xanchor\":\"left\",\"xref\":\"x\",\"y\":2,\"yref\":\"y\"},{\"align\":\"left\",\"font\":{\"color\":\"#000000\"},\"showarrow\":false,\"text\":\"151\",\"x\":1.55,\"xanchor\":\"left\",\"xref\":\"x\",\"y\":2,\"yref\":\"y\"},{\"align\":\"left\",\"font\":{\"color\":\"#000000\"},\"showarrow\":false,\"text\":\"55\",\"x\":2.55,\"xanchor\":\"left\",\"xref\":\"x\",\"y\":2,\"yref\":\"y\"},{\"align\":\"left\",\"font\":{\"color\":\"#000000\"},\"showarrow\":false,\"text\":\"Harvard\",\"x\":-0.45,\"xanchor\":\"left\",\"xref\":\"x\",\"y\":3,\"yref\":\"y\"},{\"align\":\"left\",\"font\":{\"color\":\"#000000\"},\"showarrow\":false,\"text\":\"112\",\"x\":0.55,\"xanchor\":\"left\",\"xref\":\"x\",\"y\":3,\"yref\":\"y\"},{\"align\":\"left\",\"font\":{\"color\":\"#000000\"},\"showarrow\":false,\"text\":\"165\",\"x\":1.55,\"xanchor\":\"left\",\"xref\":\"x\",\"y\":3,\"yref\":\"y\"},{\"align\":\"left\",\"font\":{\"color\":\"#000000\"},\"showarrow\":false,\"text\":\"53\",\"x\":2.55,\"xanchor\":\"left\",\"xref\":\"x\",\"y\":3,\"yref\":\"y\"},{\"align\":\"left\",\"font\":{\"color\":\"#000000\"},\"showarrow\":false,\"text\":\"U.Penn\",\"x\":-0.45,\"xanchor\":\"left\",\"xref\":\"x\",\"y\":4,\"yref\":\"y\"},{\"align\":\"left\",\"font\":{\"color\":\"#000000\"},\"showarrow\":false,\"text\":\"92\",\"x\":0.55,\"xanchor\":\"left\",\"xref\":\"x\",\"y\":4,\"yref\":\"y\"},{\"align\":\"left\",\"font\":{\"color\":\"#000000\"},\"showarrow\":false,\"text\":\"141\",\"x\":1.55,\"xanchor\":\"left\",\"xref\":\"x\",\"y\":4,\"yref\":\"y\"},{\"align\":\"left\",\"font\":{\"color\":\"#000000\"},\"showarrow\":false,\"text\":\"49\",\"x\":2.55,\"xanchor\":\"left\",\"xref\":\"x\",\"y\":4,\"yref\":\"y\"},{\"align\":\"left\",\"font\":{\"color\":\"#000000\"},\"showarrow\":false,\"text\":\"Princeton\",\"x\":-0.45,\"xanchor\":\"left\",\"xref\":\"x\",\"y\":5,\"yref\":\"y\"},{\"align\":\"left\",\"font\":{\"color\":\"#000000\"},\"showarrow\":false,\"text\":\"90\",\"x\":0.55,\"xanchor\":\"left\",\"xref\":\"x\",\"y\":5,\"yref\":\"y\"},{\"align\":\"left\",\"font\":{\"color\":\"#000000\"},\"showarrow\":false,\"text\":\"137\",\"x\":1.55,\"xanchor\":\"left\",\"xref\":\"x\",\"y\":5,\"yref\":\"y\"},{\"align\":\"left\",\"font\":{\"color\":\"#000000\"},\"showarrow\":false,\"text\":\"47\",\"x\":2.55,\"xanchor\":\"left\",\"xref\":\"x\",\"y\":5,\"yref\":\"y\"},{\"align\":\"left\",\"font\":{\"color\":\"#000000\"},\"showarrow\":false,\"text\":\"Chicago\",\"x\":-0.45,\"xanchor\":\"left\",\"xref\":\"x\",\"y\":6,\"yref\":\"y\"},{\"align\":\"left\",\"font\":{\"color\":\"#000000\"},\"showarrow\":false,\"text\":\"78\",\"x\":0.55,\"xanchor\":\"left\",\"xref\":\"x\",\"y\":6,\"yref\":\"y\"},{\"align\":\"left\",\"font\":{\"color\":\"#000000\"},\"showarrow\":false,\"text\":\"118\",\"x\":1.55,\"xanchor\":\"left\",\"xref\":\"x\",\"y\":6,\"yref\":\"y\"},{\"align\":\"left\",\"font\":{\"color\":\"#000000\"},\"showarrow\":false,\"text\":\"40\",\"x\":2.55,\"xanchor\":\"left\",\"xref\":\"x\",\"y\":6,\"yref\":\"y\"},{\"align\":\"left\",\"font\":{\"color\":\"#000000\"},\"showarrow\":false,\"text\":\"Georgetown\",\"x\":-0.45,\"xanchor\":\"left\",\"xref\":\"x\",\"y\":7,\"yref\":\"y\"},{\"align\":\"left\",\"font\":{\"color\":\"#000000\"},\"showarrow\":false,\"text\":\"94\",\"x\":0.55,\"xanchor\":\"left\",\"xref\":\"x\",\"y\":7,\"yref\":\"y\"},{\"align\":\"left\",\"font\":{\"color\":\"#000000\"},\"showarrow\":false,\"text\":\"131\",\"x\":1.55,\"xanchor\":\"left\",\"xref\":\"x\",\"y\":7,\"yref\":\"y\"},{\"align\":\"left\",\"font\":{\"color\":\"#000000\"},\"showarrow\":false,\"text\":\"37\",\"x\":2.55,\"xanchor\":\"left\",\"xref\":\"x\",\"y\":7,\"yref\":\"y\"},{\"align\":\"left\",\"font\":{\"color\":\"#000000\"},\"showarrow\":false,\"text\":\"Tufts\",\"x\":-0.45,\"xanchor\":\"left\",\"xref\":\"x\",\"y\":8,\"yref\":\"y\"},{\"align\":\"left\",\"font\":{\"color\":\"#000000\"},\"showarrow\":false,\"text\":\"76\",\"x\":0.55,\"xanchor\":\"left\",\"xref\":\"x\",\"y\":8,\"yref\":\"y\"},{\"align\":\"left\",\"font\":{\"color\":\"#000000\"},\"showarrow\":false,\"text\":\"112\",\"x\":1.55,\"xanchor\":\"left\",\"xref\":\"x\",\"y\":8,\"yref\":\"y\"},{\"align\":\"left\",\"font\":{\"color\":\"#000000\"},\"showarrow\":false,\"text\":\"36\",\"x\":2.55,\"xanchor\":\"left\",\"xref\":\"x\",\"y\":8,\"yref\":\"y\"},{\"align\":\"left\",\"font\":{\"color\":\"#000000\"},\"showarrow\":false,\"text\":\"Yale\",\"x\":-0.45,\"xanchor\":\"left\",\"xref\":\"x\",\"y\":9,\"yref\":\"y\"},{\"align\":\"left\",\"font\":{\"color\":\"#000000\"},\"showarrow\":false,\"text\":\"79\",\"x\":0.55,\"xanchor\":\"left\",\"xref\":\"x\",\"y\":9,\"yref\":\"y\"},{\"align\":\"left\",\"font\":{\"color\":\"#000000\"},\"showarrow\":false,\"text\":\"114\",\"x\":1.55,\"xanchor\":\"left\",\"xref\":\"x\",\"y\":9,\"yref\":\"y\"},{\"align\":\"left\",\"font\":{\"color\":\"#000000\"},\"showarrow\":false,\"text\":\"35\",\"x\":2.55,\"xanchor\":\"left\",\"xref\":\"x\",\"y\":9,\"yref\":\"y\"},{\"align\":\"left\",\"font\":{\"color\":\"#000000\"},\"showarrow\":false,\"text\":\"Columbia\",\"x\":-0.45,\"xanchor\":\"left\",\"xref\":\"x\",\"y\":10,\"yref\":\"y\"},{\"align\":\"left\",\"font\":{\"color\":\"#000000\"},\"showarrow\":false,\"text\":\"86\",\"x\":0.55,\"xanchor\":\"left\",\"xref\":\"x\",\"y\":10,\"yref\":\"y\"},{\"align\":\"left\",\"font\":{\"color\":\"#000000\"},\"showarrow\":false,\"text\":\"119\",\"x\":1.55,\"xanchor\":\"left\",\"xref\":\"x\",\"y\":10,\"yref\":\"y\"},{\"align\":\"left\",\"font\":{\"color\":\"#000000\"},\"showarrow\":false,\"text\":\"33\",\"x\":2.55,\"xanchor\":\"left\",\"xref\":\"x\",\"y\":10,\"yref\":\"y\"}],\"height\":380,\"margin\":{\"b\":100,\"l\":0,\"r\":0,\"t\":20},\"template\":{\"data\":{\"bar\":[{\"error_x\":{\"color\":\"#2a3f5f\"},\"error_y\":{\"color\":\"#2a3f5f\"},\"marker\":{\"line\":{\"color\":\"#E5ECF6\",\"width\":0.5},\"pattern\":{\"fillmode\":\"overlay\",\"size\":10,\"solidity\":0.2}},\"type\":\"bar\"}],\"barpolar\":[{\"marker\":{\"line\":{\"color\":\"#E5ECF6\",\"width\":0.5},\"pattern\":{\"fillmode\":\"overlay\",\"size\":10,\"solidity\":0.2}},\"type\":\"barpolar\"}],\"carpet\":[{\"aaxis\":{\"endlinecolor\":\"#2a3f5f\",\"gridcolor\":\"white\",\"linecolor\":\"white\",\"minorgridcolor\":\"white\",\"startlinecolor\":\"#2a3f5f\"},\"baxis\":{\"endlinecolor\":\"#2a3f5f\",\"gridcolor\":\"white\",\"linecolor\":\"white\",\"minorgridcolor\":\"white\",\"startlinecolor\":\"#2a3f5f\"},\"type\":\"carpet\"}],\"choropleth\":[{\"colorbar\":{\"outlinewidth\":0,\"ticks\":\"\"},\"type\":\"choropleth\"}],\"contour\":[{\"colorbar\":{\"outlinewidth\":0,\"ticks\":\"\"},\"colorscale\":[[0.0,\"#0d0887\"],[0.1111111111111111,\"#46039f\"],[0.2222222222222222,\"#7201a8\"],[0.3333333333333333,\"#9c179e\"],[0.4444444444444444,\"#bd3786\"],[0.5555555555555556,\"#d8576b\"],[0.6666666666666666,\"#ed7953\"],[0.7777777777777778,\"#fb9f3a\"],[0.8888888888888888,\"#fdca26\"],[1.0,\"#f0f921\"]],\"type\":\"contour\"}],\"contourcarpet\":[{\"colorbar\":{\"outlinewidth\":0,\"ticks\":\"\"},\"type\":\"contourcarpet\"}],\"heatmap\":[{\"colorbar\":{\"outlinewidth\":0,\"ticks\":\"\"},\"colorscale\":[[0.0,\"#0d0887\"],[0.1111111111111111,\"#46039f\"],[0.2222222222222222,\"#7201a8\"],[0.3333333333333333,\"#9c179e\"],[0.4444444444444444,\"#bd3786\"],[0.5555555555555556,\"#d8576b\"],[0.6666666666666666,\"#ed7953\"],[0.7777777777777778,\"#fb9f3a\"],[0.8888888888888888,\"#fdca26\"],[1.0,\"#f0f921\"]],\"type\":\"heatmap\"}],\"heatmapgl\":[{\"colorbar\":{\"outlinewidth\":0,\"ticks\":\"\"},\"colorscale\":[[0.0,\"#0d0887\"],[0.1111111111111111,\"#46039f\"],[0.2222222222222222,\"#7201a8\"],[0.3333333333333333,\"#9c179e\"],[0.4444444444444444,\"#bd3786\"],[0.5555555555555556,\"#d8576b\"],[0.6666666666666666,\"#ed7953\"],[0.7777777777777778,\"#fb9f3a\"],[0.8888888888888888,\"#fdca26\"],[1.0,\"#f0f921\"]],\"type\":\"heatmapgl\"}],\"histogram\":[{\"marker\":{\"pattern\":{\"fillmode\":\"overlay\",\"size\":10,\"solidity\":0.2}},\"type\":\"histogram\"}],\"histogram2d\":[{\"colorbar\":{\"outlinewidth\":0,\"ticks\":\"\"},\"colorscale\":[[0.0,\"#0d0887\"],[0.1111111111111111,\"#46039f\"],[0.2222222222222222,\"#7201a8\"],[0.3333333333333333,\"#9c179e\"],[0.4444444444444444,\"#bd3786\"],[0.5555555555555556,\"#d8576b\"],[0.6666666666666666,\"#ed7953\"],[0.7777777777777778,\"#fb9f3a\"],[0.8888888888888888,\"#fdca26\"],[1.0,\"#f0f921\"]],\"type\":\"histogram2d\"}],\"histogram2dcontour\":[{\"colorbar\":{\"outlinewidth\":0,\"ticks\":\"\"},\"colorscale\":[[0.0,\"#0d0887\"],[0.1111111111111111,\"#46039f\"],[0.2222222222222222,\"#7201a8\"],[0.3333333333333333,\"#9c179e\"],[0.4444444444444444,\"#bd3786\"],[0.5555555555555556,\"#d8576b\"],[0.6666666666666666,\"#ed7953\"],[0.7777777777777778,\"#fb9f3a\"],[0.8888888888888888,\"#fdca26\"],[1.0,\"#f0f921\"]],\"type\":\"histogram2dcontour\"}],\"mesh3d\":[{\"colorbar\":{\"outlinewidth\":0,\"ticks\":\"\"},\"type\":\"mesh3d\"}],\"parcoords\":[{\"line\":{\"colorbar\":{\"outlinewidth\":0,\"ticks\":\"\"}},\"type\":\"parcoords\"}],\"pie\":[{\"automargin\":true,\"type\":\"pie\"}],\"scatter\":[{\"marker\":{\"colorbar\":{\"outlinewidth\":0,\"ticks\":\"\"}},\"type\":\"scatter\"}],\"scatter3d\":[{\"line\":{\"colorbar\":{\"outlinewidth\":0,\"ticks\":\"\"}},\"marker\":{\"colorbar\":{\"outlinewidth\":0,\"ticks\":\"\"}},\"type\":\"scatter3d\"}],\"scattercarpet\":[{\"marker\":{\"colorbar\":{\"outlinewidth\":0,\"ticks\":\"\"}},\"type\":\"scattercarpet\"}],\"scattergeo\":[{\"marker\":{\"colorbar\":{\"outlinewidth\":0,\"ticks\":\"\"}},\"type\":\"scattergeo\"}],\"scattergl\":[{\"marker\":{\"colorbar\":{\"outlinewidth\":0,\"ticks\":\"\"}},\"type\":\"scattergl\"}],\"scattermapbox\":[{\"marker\":{\"colorbar\":{\"outlinewidth\":0,\"ticks\":\"\"}},\"type\":\"scattermapbox\"}],\"scatterpolar\":[{\"marker\":{\"colorbar\":{\"outlinewidth\":0,\"ticks\":\"\"}},\"type\":\"scatterpolar\"}],\"scatterpolargl\":[{\"marker\":{\"colorbar\":{\"outlinewidth\":0,\"ticks\":\"\"}},\"type\":\"scatterpolargl\"}],\"scatterternary\":[{\"marker\":{\"colorbar\":{\"outlinewidth\":0,\"ticks\":\"\"}},\"type\":\"scatterternary\"}],\"surface\":[{\"colorbar\":{\"outlinewidth\":0,\"ticks\":\"\"},\"colorscale\":[[0.0,\"#0d0887\"],[0.1111111111111111,\"#46039f\"],[0.2222222222222222,\"#7201a8\"],[0.3333333333333333,\"#9c179e\"],[0.4444444444444444,\"#bd3786\"],[0.5555555555555556,\"#d8576b\"],[0.6666666666666666,\"#ed7953\"],[0.7777777777777778,\"#fb9f3a\"],[0.8888888888888888,\"#fdca26\"],[1.0,\"#f0f921\"]],\"type\":\"surface\"}],\"table\":[{\"cells\":{\"fill\":{\"color\":\"#EBF0F8\"},\"line\":{\"color\":\"white\"}},\"header\":{\"fill\":{\"color\":\"#C8D4E3\"},\"line\":{\"color\":\"white\"}},\"type\":\"table\"}]},\"layout\":{\"annotationdefaults\":{\"arrowcolor\":\"#2a3f5f\",\"arrowhead\":0,\"arrowwidth\":1},\"autotypenumbers\":\"strict\",\"coloraxis\":{\"colorbar\":{\"outlinewidth\":0,\"ticks\":\"\"}},\"colorscale\":{\"diverging\":[[0,\"#8e0152\"],[0.1,\"#c51b7d\"],[0.2,\"#de77ae\"],[0.3,\"#f1b6da\"],[0.4,\"#fde0ef\"],[0.5,\"#f7f7f7\"],[0.6,\"#e6f5d0\"],[0.7,\"#b8e186\"],[0.8,\"#7fbc41\"],[0.9,\"#4d9221\"],[1,\"#276419\"]],\"sequential\":[[0.0,\"#0d0887\"],[0.1111111111111111,\"#46039f\"],[0.2222222222222222,\"#7201a8\"],[0.3333333333333333,\"#9c179e\"],[0.4444444444444444,\"#bd3786\"],[0.5555555555555556,\"#d8576b\"],[0.6666666666666666,\"#ed7953\"],[0.7777777777777778,\"#fb9f3a\"],[0.8888888888888888,\"#fdca26\"],[1.0,\"#f0f921\"]],\"sequentialminus\":[[0.0,\"#0d0887\"],[0.1111111111111111,\"#46039f\"],[0.2222222222222222,\"#7201a8\"],[0.3333333333333333,\"#9c179e\"],[0.4444444444444444,\"#bd3786\"],[0.5555555555555556,\"#d8576b\"],[0.6666666666666666,\"#ed7953\"],[0.7777777777777778,\"#fb9f3a\"],[0.8888888888888888,\"#fdca26\"],[1.0,\"#f0f921\"]]},\"colorway\":[\"#636efa\",\"#EF553B\",\"#00cc96\",\"#ab63fa\",\"#FFA15A\",\"#19d3f3\",\"#FF6692\",\"#B6E880\",\"#FF97FF\",\"#FECB52\"],\"font\":{\"color\":\"#2a3f5f\"},\"geo\":{\"bgcolor\":\"white\",\"lakecolor\":\"white\",\"landcolor\":\"#E5ECF6\",\"showlakes\":true,\"showland\":true,\"subunitcolor\":\"white\"},\"hoverlabel\":{\"align\":\"left\"},\"hovermode\":\"closest\",\"mapbox\":{\"style\":\"light\"},\"paper_bgcolor\":\"white\",\"plot_bgcolor\":\"#E5ECF6\",\"polar\":{\"angularaxis\":{\"gridcolor\":\"white\",\"linecolor\":\"white\",\"ticks\":\"\"},\"bgcolor\":\"#E5ECF6\",\"radialaxis\":{\"gridcolor\":\"white\",\"linecolor\":\"white\",\"ticks\":\"\"}},\"scene\":{\"xaxis\":{\"backgroundcolor\":\"#E5ECF6\",\"gridcolor\":\"white\",\"gridwidth\":2,\"linecolor\":\"white\",\"showbackground\":true,\"ticks\":\"\",\"zerolinecolor\":\"white\"},\"yaxis\":{\"backgroundcolor\":\"#E5ECF6\",\"gridcolor\":\"white\",\"gridwidth\":2,\"linecolor\":\"white\",\"showbackground\":true,\"ticks\":\"\",\"zerolinecolor\":\"white\"},\"zaxis\":{\"backgroundcolor\":\"#E5ECF6\",\"gridcolor\":\"white\",\"gridwidth\":2,\"linecolor\":\"white\",\"showbackground\":true,\"ticks\":\"\",\"zerolinecolor\":\"white\"}},\"shapedefaults\":{\"line\":{\"color\":\"#2a3f5f\"}},\"ternary\":{\"aaxis\":{\"gridcolor\":\"white\",\"linecolor\":\"white\",\"ticks\":\"\"},\"baxis\":{\"gridcolor\":\"white\",\"linecolor\":\"white\",\"ticks\":\"\"},\"bgcolor\":\"#E5ECF6\",\"caxis\":{\"gridcolor\":\"white\",\"linecolor\":\"white\",\"ticks\":\"\"}},\"title\":{\"x\":0.05},\"xaxis\":{\"automargin\":true,\"gridcolor\":\"white\",\"linecolor\":\"white\",\"ticks\":\"\",\"title\":{\"standoff\":15},\"zerolinecolor\":\"white\",\"zerolinewidth\":2},\"yaxis\":{\"automargin\":true,\"gridcolor\":\"white\",\"linecolor\":\"white\",\"ticks\":\"\",\"title\":{\"standoff\":15},\"zerolinecolor\":\"white\",\"zerolinewidth\":2}}},\"xaxis\":{\"domain\":[0,0.45],\"dtick\":1,\"gridwidth\":2,\"showticklabels\":false,\"tick0\":-0.5,\"ticks\":\"\",\"zeroline\":false},\"xaxis2\":{\"domain\":[0.55,1]},\"yaxis\":{\"autorange\":\"reversed\",\"dtick\":1,\"gridwidth\":2,\"showticklabels\":false,\"tick0\":0.5,\"ticks\":\"\",\"zeroline\":false},\"yaxis2\":{\"anchor\":\"x2\"}},                        {\"responsive\": true}                    ).then(function(){\n",
       "                            \n",
       "var gd = document.getElementById('43282b3d-9a74-4419-9722-18358eace786');\n",
       "var x = new MutationObserver(function (mutations, observer) {{\n",
       "        var display = window.getComputedStyle(gd).display;\n",
       "        if (!display || display === 'none') {{\n",
       "            console.log([gd, 'removed!']);\n",
       "            Plotly.purge(gd);\n",
       "            observer.disconnect();\n",
       "        }}\n",
       "}});\n",
       "\n",
       "// Listen for the removal of the full notebook cells\n",
       "var notebookContainer = gd.closest('#notebook-container');\n",
       "if (notebookContainer) {{\n",
       "    x.observe(notebookContainer, {childList: true});\n",
       "}}\n",
       "\n",
       "// Listen for the clearing of the current output cell\n",
       "var outputEl = gd.closest('.output');\n",
       "if (outputEl) {{\n",
       "    x.observe(outputEl, {childList: true});\n",
       "}}\n",
       "\n",
       "                        })                };                });            </script>        </div>"
      ]
     },
     "metadata": {}
    }
   ],
   "metadata": {}
  },
  {
   "cell_type": "code",
   "execution_count": 35,
   "source": [
    "## 上下结构\n",
    "fig=ff.create_table(stus)\n",
    "\n",
    "trace0=go.Bar(\n",
    "    x=stus['School'],\n",
    "    y=stus['Gap'],\n",
    "    marker=dict(color='#0099ff'),\n",
    "    name='Gap',\n",
    "    xaxis='x2',\n",
    "    yaxis='y2'\n",
    ")\n",
    "trace1=go.Bar(\n",
    "    x=stus['School'],\n",
    "    y=stus['Men'],\n",
    "    marker=dict(color='#669900'),\n",
    "    name='Men',\n",
    "    xaxis='x2',\n",
    "    yaxis='y2'\n",
    ")\n",
    "trace2=go.Bar(\n",
    "    x=stus['School'],\n",
    "    y=stus['Women'],\n",
    "    marker=dict(color='#707070'),\n",
    "    name='Women',\n",
    "    xaxis='x2',\n",
    "    yaxis='y2'\n",
    ")\n",
    "\n",
    "fig.add_traces([trace0, trace1, trace2])\n",
    "\n",
    "fig['layout']['xaxis2']={}\n",
    "fig['layout']['yaxis2']={}\n",
    "\n",
    "fig.layout.yaxis.update({'domain':[0, 0.45]})\n",
    "fig.layout.yaxis2.update({'domain':[0.55,1]})\n",
    "\n",
    "fig.layout.yaxis2.update({'anchor':'x2'})\n",
    "fig.layout.xaxis2.update({'anchor':'y2'})\n",
    "\n",
    "fig.layout.margin.update({'t':75, 'l':50})\n",
    "fig.layout.update({'height':800})\n",
    "\n",
    "plotly.offline.iplot(fig)"
   ],
   "outputs": [
    {
     "output_type": "display_data",
     "data": {
      "application/vnd.plotly.v1+json": {
       "config": {
        "linkText": "Export to plot.ly",
        "plotlyServerURL": "https://plot.ly",
        "showLink": false
       },
       "data": [
        {
         "colorscale": [
          [
           0,
           "#00083e"
          ],
          [
           0.5,
           "#ededee"
          ],
          [
           1,
           "#ffffff"
          ]
         ],
         "hoverinfo": "none",
         "opacity": 0.75,
         "showscale": false,
         "type": "heatmap",
         "z": [
          [
           0,
           0,
           0,
           0
          ],
          [
           0.5,
           0.5,
           0.5,
           0.5
          ],
          [
           1,
           1,
           1,
           1
          ],
          [
           0.5,
           0.5,
           0.5,
           0.5
          ],
          [
           1,
           1,
           1,
           1
          ],
          [
           0.5,
           0.5,
           0.5,
           0.5
          ],
          [
           1,
           1,
           1,
           1
          ],
          [
           0.5,
           0.5,
           0.5,
           0.5
          ],
          [
           1,
           1,
           1,
           1
          ],
          [
           0.5,
           0.5,
           0.5,
           0.5
          ],
          [
           1,
           1,
           1,
           1
          ]
         ]
        },
        {
         "marker": {
          "color": "#0099ff"
         },
         "name": "Gap",
         "type": "bar",
         "x": [
          "MIT",
          "Stanford",
          "Harvard",
          "U.Penn",
          "Princeton",
          "Chicago",
          "Georgetown",
          "Tufts",
          "Yale",
          "Columbia"
         ],
         "xaxis": "x2",
         "y": [
          58,
          55,
          53,
          49,
          47,
          40,
          37,
          36,
          35,
          33
         ],
         "yaxis": "y2"
        },
        {
         "marker": {
          "color": "#669900"
         },
         "name": "Men",
         "type": "bar",
         "x": [
          "MIT",
          "Stanford",
          "Harvard",
          "U.Penn",
          "Princeton",
          "Chicago",
          "Georgetown",
          "Tufts",
          "Yale",
          "Columbia"
         ],
         "xaxis": "x2",
         "y": [
          152,
          151,
          165,
          141,
          137,
          118,
          131,
          112,
          114,
          119
         ],
         "yaxis": "y2"
        },
        {
         "marker": {
          "color": "#707070"
         },
         "name": "Women",
         "type": "bar",
         "x": [
          "MIT",
          "Stanford",
          "Harvard",
          "U.Penn",
          "Princeton",
          "Chicago",
          "Georgetown",
          "Tufts",
          "Yale",
          "Columbia"
         ],
         "xaxis": "x2",
         "y": [
          94,
          96,
          112,
          92,
          90,
          78,
          94,
          76,
          79,
          86
         ],
         "yaxis": "y2"
        }
       ],
       "layout": {
        "annotations": [
         {
          "align": "left",
          "font": {
           "color": "#ffffff"
          },
          "showarrow": false,
          "text": "<b>School</b>",
          "x": -0.45,
          "xanchor": "left",
          "xref": "x",
          "y": 0,
          "yref": "y"
         },
         {
          "align": "left",
          "font": {
           "color": "#ffffff"
          },
          "showarrow": false,
          "text": "<b>Women</b>",
          "x": 0.55,
          "xanchor": "left",
          "xref": "x",
          "y": 0,
          "yref": "y"
         },
         {
          "align": "left",
          "font": {
           "color": "#ffffff"
          },
          "showarrow": false,
          "text": "<b>Men</b>",
          "x": 1.55,
          "xanchor": "left",
          "xref": "x",
          "y": 0,
          "yref": "y"
         },
         {
          "align": "left",
          "font": {
           "color": "#ffffff"
          },
          "showarrow": false,
          "text": "<b>Gap</b>",
          "x": 2.55,
          "xanchor": "left",
          "xref": "x",
          "y": 0,
          "yref": "y"
         },
         {
          "align": "left",
          "font": {
           "color": "#000000"
          },
          "showarrow": false,
          "text": "MIT",
          "x": -0.45,
          "xanchor": "left",
          "xref": "x",
          "y": 1,
          "yref": "y"
         },
         {
          "align": "left",
          "font": {
           "color": "#000000"
          },
          "showarrow": false,
          "text": "94",
          "x": 0.55,
          "xanchor": "left",
          "xref": "x",
          "y": 1,
          "yref": "y"
         },
         {
          "align": "left",
          "font": {
           "color": "#000000"
          },
          "showarrow": false,
          "text": "152",
          "x": 1.55,
          "xanchor": "left",
          "xref": "x",
          "y": 1,
          "yref": "y"
         },
         {
          "align": "left",
          "font": {
           "color": "#000000"
          },
          "showarrow": false,
          "text": "58",
          "x": 2.55,
          "xanchor": "left",
          "xref": "x",
          "y": 1,
          "yref": "y"
         },
         {
          "align": "left",
          "font": {
           "color": "#000000"
          },
          "showarrow": false,
          "text": "Stanford",
          "x": -0.45,
          "xanchor": "left",
          "xref": "x",
          "y": 2,
          "yref": "y"
         },
         {
          "align": "left",
          "font": {
           "color": "#000000"
          },
          "showarrow": false,
          "text": "96",
          "x": 0.55,
          "xanchor": "left",
          "xref": "x",
          "y": 2,
          "yref": "y"
         },
         {
          "align": "left",
          "font": {
           "color": "#000000"
          },
          "showarrow": false,
          "text": "151",
          "x": 1.55,
          "xanchor": "left",
          "xref": "x",
          "y": 2,
          "yref": "y"
         },
         {
          "align": "left",
          "font": {
           "color": "#000000"
          },
          "showarrow": false,
          "text": "55",
          "x": 2.55,
          "xanchor": "left",
          "xref": "x",
          "y": 2,
          "yref": "y"
         },
         {
          "align": "left",
          "font": {
           "color": "#000000"
          },
          "showarrow": false,
          "text": "Harvard",
          "x": -0.45,
          "xanchor": "left",
          "xref": "x",
          "y": 3,
          "yref": "y"
         },
         {
          "align": "left",
          "font": {
           "color": "#000000"
          },
          "showarrow": false,
          "text": "112",
          "x": 0.55,
          "xanchor": "left",
          "xref": "x",
          "y": 3,
          "yref": "y"
         },
         {
          "align": "left",
          "font": {
           "color": "#000000"
          },
          "showarrow": false,
          "text": "165",
          "x": 1.55,
          "xanchor": "left",
          "xref": "x",
          "y": 3,
          "yref": "y"
         },
         {
          "align": "left",
          "font": {
           "color": "#000000"
          },
          "showarrow": false,
          "text": "53",
          "x": 2.55,
          "xanchor": "left",
          "xref": "x",
          "y": 3,
          "yref": "y"
         },
         {
          "align": "left",
          "font": {
           "color": "#000000"
          },
          "showarrow": false,
          "text": "U.Penn",
          "x": -0.45,
          "xanchor": "left",
          "xref": "x",
          "y": 4,
          "yref": "y"
         },
         {
          "align": "left",
          "font": {
           "color": "#000000"
          },
          "showarrow": false,
          "text": "92",
          "x": 0.55,
          "xanchor": "left",
          "xref": "x",
          "y": 4,
          "yref": "y"
         },
         {
          "align": "left",
          "font": {
           "color": "#000000"
          },
          "showarrow": false,
          "text": "141",
          "x": 1.55,
          "xanchor": "left",
          "xref": "x",
          "y": 4,
          "yref": "y"
         },
         {
          "align": "left",
          "font": {
           "color": "#000000"
          },
          "showarrow": false,
          "text": "49",
          "x": 2.55,
          "xanchor": "left",
          "xref": "x",
          "y": 4,
          "yref": "y"
         },
         {
          "align": "left",
          "font": {
           "color": "#000000"
          },
          "showarrow": false,
          "text": "Princeton",
          "x": -0.45,
          "xanchor": "left",
          "xref": "x",
          "y": 5,
          "yref": "y"
         },
         {
          "align": "left",
          "font": {
           "color": "#000000"
          },
          "showarrow": false,
          "text": "90",
          "x": 0.55,
          "xanchor": "left",
          "xref": "x",
          "y": 5,
          "yref": "y"
         },
         {
          "align": "left",
          "font": {
           "color": "#000000"
          },
          "showarrow": false,
          "text": "137",
          "x": 1.55,
          "xanchor": "left",
          "xref": "x",
          "y": 5,
          "yref": "y"
         },
         {
          "align": "left",
          "font": {
           "color": "#000000"
          },
          "showarrow": false,
          "text": "47",
          "x": 2.55,
          "xanchor": "left",
          "xref": "x",
          "y": 5,
          "yref": "y"
         },
         {
          "align": "left",
          "font": {
           "color": "#000000"
          },
          "showarrow": false,
          "text": "Chicago",
          "x": -0.45,
          "xanchor": "left",
          "xref": "x",
          "y": 6,
          "yref": "y"
         },
         {
          "align": "left",
          "font": {
           "color": "#000000"
          },
          "showarrow": false,
          "text": "78",
          "x": 0.55,
          "xanchor": "left",
          "xref": "x",
          "y": 6,
          "yref": "y"
         },
         {
          "align": "left",
          "font": {
           "color": "#000000"
          },
          "showarrow": false,
          "text": "118",
          "x": 1.55,
          "xanchor": "left",
          "xref": "x",
          "y": 6,
          "yref": "y"
         },
         {
          "align": "left",
          "font": {
           "color": "#000000"
          },
          "showarrow": false,
          "text": "40",
          "x": 2.55,
          "xanchor": "left",
          "xref": "x",
          "y": 6,
          "yref": "y"
         },
         {
          "align": "left",
          "font": {
           "color": "#000000"
          },
          "showarrow": false,
          "text": "Georgetown",
          "x": -0.45,
          "xanchor": "left",
          "xref": "x",
          "y": 7,
          "yref": "y"
         },
         {
          "align": "left",
          "font": {
           "color": "#000000"
          },
          "showarrow": false,
          "text": "94",
          "x": 0.55,
          "xanchor": "left",
          "xref": "x",
          "y": 7,
          "yref": "y"
         },
         {
          "align": "left",
          "font": {
           "color": "#000000"
          },
          "showarrow": false,
          "text": "131",
          "x": 1.55,
          "xanchor": "left",
          "xref": "x",
          "y": 7,
          "yref": "y"
         },
         {
          "align": "left",
          "font": {
           "color": "#000000"
          },
          "showarrow": false,
          "text": "37",
          "x": 2.55,
          "xanchor": "left",
          "xref": "x",
          "y": 7,
          "yref": "y"
         },
         {
          "align": "left",
          "font": {
           "color": "#000000"
          },
          "showarrow": false,
          "text": "Tufts",
          "x": -0.45,
          "xanchor": "left",
          "xref": "x",
          "y": 8,
          "yref": "y"
         },
         {
          "align": "left",
          "font": {
           "color": "#000000"
          },
          "showarrow": false,
          "text": "76",
          "x": 0.55,
          "xanchor": "left",
          "xref": "x",
          "y": 8,
          "yref": "y"
         },
         {
          "align": "left",
          "font": {
           "color": "#000000"
          },
          "showarrow": false,
          "text": "112",
          "x": 1.55,
          "xanchor": "left",
          "xref": "x",
          "y": 8,
          "yref": "y"
         },
         {
          "align": "left",
          "font": {
           "color": "#000000"
          },
          "showarrow": false,
          "text": "36",
          "x": 2.55,
          "xanchor": "left",
          "xref": "x",
          "y": 8,
          "yref": "y"
         },
         {
          "align": "left",
          "font": {
           "color": "#000000"
          },
          "showarrow": false,
          "text": "Yale",
          "x": -0.45,
          "xanchor": "left",
          "xref": "x",
          "y": 9,
          "yref": "y"
         },
         {
          "align": "left",
          "font": {
           "color": "#000000"
          },
          "showarrow": false,
          "text": "79",
          "x": 0.55,
          "xanchor": "left",
          "xref": "x",
          "y": 9,
          "yref": "y"
         },
         {
          "align": "left",
          "font": {
           "color": "#000000"
          },
          "showarrow": false,
          "text": "114",
          "x": 1.55,
          "xanchor": "left",
          "xref": "x",
          "y": 9,
          "yref": "y"
         },
         {
          "align": "left",
          "font": {
           "color": "#000000"
          },
          "showarrow": false,
          "text": "35",
          "x": 2.55,
          "xanchor": "left",
          "xref": "x",
          "y": 9,
          "yref": "y"
         },
         {
          "align": "left",
          "font": {
           "color": "#000000"
          },
          "showarrow": false,
          "text": "Columbia",
          "x": -0.45,
          "xanchor": "left",
          "xref": "x",
          "y": 10,
          "yref": "y"
         },
         {
          "align": "left",
          "font": {
           "color": "#000000"
          },
          "showarrow": false,
          "text": "86",
          "x": 0.55,
          "xanchor": "left",
          "xref": "x",
          "y": 10,
          "yref": "y"
         },
         {
          "align": "left",
          "font": {
           "color": "#000000"
          },
          "showarrow": false,
          "text": "119",
          "x": 1.55,
          "xanchor": "left",
          "xref": "x",
          "y": 10,
          "yref": "y"
         },
         {
          "align": "left",
          "font": {
           "color": "#000000"
          },
          "showarrow": false,
          "text": "33",
          "x": 2.55,
          "xanchor": "left",
          "xref": "x",
          "y": 10,
          "yref": "y"
         }
        ],
        "height": 800,
        "margin": {
         "b": 0,
         "l": 50,
         "r": 0,
         "t": 75
        },
        "template": {
         "data": {
          "bar": [
           {
            "error_x": {
             "color": "#2a3f5f"
            },
            "error_y": {
             "color": "#2a3f5f"
            },
            "marker": {
             "line": {
              "color": "#E5ECF6",
              "width": 0.5
             },
             "pattern": {
              "fillmode": "overlay",
              "size": 10,
              "solidity": 0.2
             }
            },
            "type": "bar"
           }
          ],
          "barpolar": [
           {
            "marker": {
             "line": {
              "color": "#E5ECF6",
              "width": 0.5
             },
             "pattern": {
              "fillmode": "overlay",
              "size": 10,
              "solidity": 0.2
             }
            },
            "type": "barpolar"
           }
          ],
          "carpet": [
           {
            "aaxis": {
             "endlinecolor": "#2a3f5f",
             "gridcolor": "white",
             "linecolor": "white",
             "minorgridcolor": "white",
             "startlinecolor": "#2a3f5f"
            },
            "baxis": {
             "endlinecolor": "#2a3f5f",
             "gridcolor": "white",
             "linecolor": "white",
             "minorgridcolor": "white",
             "startlinecolor": "#2a3f5f"
            },
            "type": "carpet"
           }
          ],
          "choropleth": [
           {
            "colorbar": {
             "outlinewidth": 0,
             "ticks": ""
            },
            "type": "choropleth"
           }
          ],
          "contour": [
           {
            "colorbar": {
             "outlinewidth": 0,
             "ticks": ""
            },
            "colorscale": [
             [
              0,
              "#0d0887"
             ],
             [
              0.1111111111111111,
              "#46039f"
             ],
             [
              0.2222222222222222,
              "#7201a8"
             ],
             [
              0.3333333333333333,
              "#9c179e"
             ],
             [
              0.4444444444444444,
              "#bd3786"
             ],
             [
              0.5555555555555556,
              "#d8576b"
             ],
             [
              0.6666666666666666,
              "#ed7953"
             ],
             [
              0.7777777777777778,
              "#fb9f3a"
             ],
             [
              0.8888888888888888,
              "#fdca26"
             ],
             [
              1,
              "#f0f921"
             ]
            ],
            "type": "contour"
           }
          ],
          "contourcarpet": [
           {
            "colorbar": {
             "outlinewidth": 0,
             "ticks": ""
            },
            "type": "contourcarpet"
           }
          ],
          "heatmap": [
           {
            "colorbar": {
             "outlinewidth": 0,
             "ticks": ""
            },
            "colorscale": [
             [
              0,
              "#0d0887"
             ],
             [
              0.1111111111111111,
              "#46039f"
             ],
             [
              0.2222222222222222,
              "#7201a8"
             ],
             [
              0.3333333333333333,
              "#9c179e"
             ],
             [
              0.4444444444444444,
              "#bd3786"
             ],
             [
              0.5555555555555556,
              "#d8576b"
             ],
             [
              0.6666666666666666,
              "#ed7953"
             ],
             [
              0.7777777777777778,
              "#fb9f3a"
             ],
             [
              0.8888888888888888,
              "#fdca26"
             ],
             [
              1,
              "#f0f921"
             ]
            ],
            "type": "heatmap"
           }
          ],
          "heatmapgl": [
           {
            "colorbar": {
             "outlinewidth": 0,
             "ticks": ""
            },
            "colorscale": [
             [
              0,
              "#0d0887"
             ],
             [
              0.1111111111111111,
              "#46039f"
             ],
             [
              0.2222222222222222,
              "#7201a8"
             ],
             [
              0.3333333333333333,
              "#9c179e"
             ],
             [
              0.4444444444444444,
              "#bd3786"
             ],
             [
              0.5555555555555556,
              "#d8576b"
             ],
             [
              0.6666666666666666,
              "#ed7953"
             ],
             [
              0.7777777777777778,
              "#fb9f3a"
             ],
             [
              0.8888888888888888,
              "#fdca26"
             ],
             [
              1,
              "#f0f921"
             ]
            ],
            "type": "heatmapgl"
           }
          ],
          "histogram": [
           {
            "marker": {
             "pattern": {
              "fillmode": "overlay",
              "size": 10,
              "solidity": 0.2
             }
            },
            "type": "histogram"
           }
          ],
          "histogram2d": [
           {
            "colorbar": {
             "outlinewidth": 0,
             "ticks": ""
            },
            "colorscale": [
             [
              0,
              "#0d0887"
             ],
             [
              0.1111111111111111,
              "#46039f"
             ],
             [
              0.2222222222222222,
              "#7201a8"
             ],
             [
              0.3333333333333333,
              "#9c179e"
             ],
             [
              0.4444444444444444,
              "#bd3786"
             ],
             [
              0.5555555555555556,
              "#d8576b"
             ],
             [
              0.6666666666666666,
              "#ed7953"
             ],
             [
              0.7777777777777778,
              "#fb9f3a"
             ],
             [
              0.8888888888888888,
              "#fdca26"
             ],
             [
              1,
              "#f0f921"
             ]
            ],
            "type": "histogram2d"
           }
          ],
          "histogram2dcontour": [
           {
            "colorbar": {
             "outlinewidth": 0,
             "ticks": ""
            },
            "colorscale": [
             [
              0,
              "#0d0887"
             ],
             [
              0.1111111111111111,
              "#46039f"
             ],
             [
              0.2222222222222222,
              "#7201a8"
             ],
             [
              0.3333333333333333,
              "#9c179e"
             ],
             [
              0.4444444444444444,
              "#bd3786"
             ],
             [
              0.5555555555555556,
              "#d8576b"
             ],
             [
              0.6666666666666666,
              "#ed7953"
             ],
             [
              0.7777777777777778,
              "#fb9f3a"
             ],
             [
              0.8888888888888888,
              "#fdca26"
             ],
             [
              1,
              "#f0f921"
             ]
            ],
            "type": "histogram2dcontour"
           }
          ],
          "mesh3d": [
           {
            "colorbar": {
             "outlinewidth": 0,
             "ticks": ""
            },
            "type": "mesh3d"
           }
          ],
          "parcoords": [
           {
            "line": {
             "colorbar": {
              "outlinewidth": 0,
              "ticks": ""
             }
            },
            "type": "parcoords"
           }
          ],
          "pie": [
           {
            "automargin": true,
            "type": "pie"
           }
          ],
          "scatter": [
           {
            "marker": {
             "colorbar": {
              "outlinewidth": 0,
              "ticks": ""
             }
            },
            "type": "scatter"
           }
          ],
          "scatter3d": [
           {
            "line": {
             "colorbar": {
              "outlinewidth": 0,
              "ticks": ""
             }
            },
            "marker": {
             "colorbar": {
              "outlinewidth": 0,
              "ticks": ""
             }
            },
            "type": "scatter3d"
           }
          ],
          "scattercarpet": [
           {
            "marker": {
             "colorbar": {
              "outlinewidth": 0,
              "ticks": ""
             }
            },
            "type": "scattercarpet"
           }
          ],
          "scattergeo": [
           {
            "marker": {
             "colorbar": {
              "outlinewidth": 0,
              "ticks": ""
             }
            },
            "type": "scattergeo"
           }
          ],
          "scattergl": [
           {
            "marker": {
             "colorbar": {
              "outlinewidth": 0,
              "ticks": ""
             }
            },
            "type": "scattergl"
           }
          ],
          "scattermapbox": [
           {
            "marker": {
             "colorbar": {
              "outlinewidth": 0,
              "ticks": ""
             }
            },
            "type": "scattermapbox"
           }
          ],
          "scatterpolar": [
           {
            "marker": {
             "colorbar": {
              "outlinewidth": 0,
              "ticks": ""
             }
            },
            "type": "scatterpolar"
           }
          ],
          "scatterpolargl": [
           {
            "marker": {
             "colorbar": {
              "outlinewidth": 0,
              "ticks": ""
             }
            },
            "type": "scatterpolargl"
           }
          ],
          "scatterternary": [
           {
            "marker": {
             "colorbar": {
              "outlinewidth": 0,
              "ticks": ""
             }
            },
            "type": "scatterternary"
           }
          ],
          "surface": [
           {
            "colorbar": {
             "outlinewidth": 0,
             "ticks": ""
            },
            "colorscale": [
             [
              0,
              "#0d0887"
             ],
             [
              0.1111111111111111,
              "#46039f"
             ],
             [
              0.2222222222222222,
              "#7201a8"
             ],
             [
              0.3333333333333333,
              "#9c179e"
             ],
             [
              0.4444444444444444,
              "#bd3786"
             ],
             [
              0.5555555555555556,
              "#d8576b"
             ],
             [
              0.6666666666666666,
              "#ed7953"
             ],
             [
              0.7777777777777778,
              "#fb9f3a"
             ],
             [
              0.8888888888888888,
              "#fdca26"
             ],
             [
              1,
              "#f0f921"
             ]
            ],
            "type": "surface"
           }
          ],
          "table": [
           {
            "cells": {
             "fill": {
              "color": "#EBF0F8"
             },
             "line": {
              "color": "white"
             }
            },
            "header": {
             "fill": {
              "color": "#C8D4E3"
             },
             "line": {
              "color": "white"
             }
            },
            "type": "table"
           }
          ]
         },
         "layout": {
          "annotationdefaults": {
           "arrowcolor": "#2a3f5f",
           "arrowhead": 0,
           "arrowwidth": 1
          },
          "autotypenumbers": "strict",
          "coloraxis": {
           "colorbar": {
            "outlinewidth": 0,
            "ticks": ""
           }
          },
          "colorscale": {
           "diverging": [
            [
             0,
             "#8e0152"
            ],
            [
             0.1,
             "#c51b7d"
            ],
            [
             0.2,
             "#de77ae"
            ],
            [
             0.3,
             "#f1b6da"
            ],
            [
             0.4,
             "#fde0ef"
            ],
            [
             0.5,
             "#f7f7f7"
            ],
            [
             0.6,
             "#e6f5d0"
            ],
            [
             0.7,
             "#b8e186"
            ],
            [
             0.8,
             "#7fbc41"
            ],
            [
             0.9,
             "#4d9221"
            ],
            [
             1,
             "#276419"
            ]
           ],
           "sequential": [
            [
             0,
             "#0d0887"
            ],
            [
             0.1111111111111111,
             "#46039f"
            ],
            [
             0.2222222222222222,
             "#7201a8"
            ],
            [
             0.3333333333333333,
             "#9c179e"
            ],
            [
             0.4444444444444444,
             "#bd3786"
            ],
            [
             0.5555555555555556,
             "#d8576b"
            ],
            [
             0.6666666666666666,
             "#ed7953"
            ],
            [
             0.7777777777777778,
             "#fb9f3a"
            ],
            [
             0.8888888888888888,
             "#fdca26"
            ],
            [
             1,
             "#f0f921"
            ]
           ],
           "sequentialminus": [
            [
             0,
             "#0d0887"
            ],
            [
             0.1111111111111111,
             "#46039f"
            ],
            [
             0.2222222222222222,
             "#7201a8"
            ],
            [
             0.3333333333333333,
             "#9c179e"
            ],
            [
             0.4444444444444444,
             "#bd3786"
            ],
            [
             0.5555555555555556,
             "#d8576b"
            ],
            [
             0.6666666666666666,
             "#ed7953"
            ],
            [
             0.7777777777777778,
             "#fb9f3a"
            ],
            [
             0.8888888888888888,
             "#fdca26"
            ],
            [
             1,
             "#f0f921"
            ]
           ]
          },
          "colorway": [
           "#636efa",
           "#EF553B",
           "#00cc96",
           "#ab63fa",
           "#FFA15A",
           "#19d3f3",
           "#FF6692",
           "#B6E880",
           "#FF97FF",
           "#FECB52"
          ],
          "font": {
           "color": "#2a3f5f"
          },
          "geo": {
           "bgcolor": "white",
           "lakecolor": "white",
           "landcolor": "#E5ECF6",
           "showlakes": true,
           "showland": true,
           "subunitcolor": "white"
          },
          "hoverlabel": {
           "align": "left"
          },
          "hovermode": "closest",
          "mapbox": {
           "style": "light"
          },
          "paper_bgcolor": "white",
          "plot_bgcolor": "#E5ECF6",
          "polar": {
           "angularaxis": {
            "gridcolor": "white",
            "linecolor": "white",
            "ticks": ""
           },
           "bgcolor": "#E5ECF6",
           "radialaxis": {
            "gridcolor": "white",
            "linecolor": "white",
            "ticks": ""
           }
          },
          "scene": {
           "xaxis": {
            "backgroundcolor": "#E5ECF6",
            "gridcolor": "white",
            "gridwidth": 2,
            "linecolor": "white",
            "showbackground": true,
            "ticks": "",
            "zerolinecolor": "white"
           },
           "yaxis": {
            "backgroundcolor": "#E5ECF6",
            "gridcolor": "white",
            "gridwidth": 2,
            "linecolor": "white",
            "showbackground": true,
            "ticks": "",
            "zerolinecolor": "white"
           },
           "zaxis": {
            "backgroundcolor": "#E5ECF6",
            "gridcolor": "white",
            "gridwidth": 2,
            "linecolor": "white",
            "showbackground": true,
            "ticks": "",
            "zerolinecolor": "white"
           }
          },
          "shapedefaults": {
           "line": {
            "color": "#2a3f5f"
           }
          },
          "ternary": {
           "aaxis": {
            "gridcolor": "white",
            "linecolor": "white",
            "ticks": ""
           },
           "baxis": {
            "gridcolor": "white",
            "linecolor": "white",
            "ticks": ""
           },
           "bgcolor": "#E5ECF6",
           "caxis": {
            "gridcolor": "white",
            "linecolor": "white",
            "ticks": ""
           }
          },
          "title": {
           "x": 0.05
          },
          "xaxis": {
           "automargin": true,
           "gridcolor": "white",
           "linecolor": "white",
           "ticks": "",
           "title": {
            "standoff": 15
           },
           "zerolinecolor": "white",
           "zerolinewidth": 2
          },
          "yaxis": {
           "automargin": true,
           "gridcolor": "white",
           "linecolor": "white",
           "ticks": "",
           "title": {
            "standoff": 15
           },
           "zerolinecolor": "white",
           "zerolinewidth": 2
          }
         }
        },
        "xaxis": {
         "dtick": 1,
         "gridwidth": 2,
         "showticklabels": false,
         "tick0": -0.5,
         "ticks": "",
         "zeroline": false
        },
        "xaxis2": {
         "anchor": "y2"
        },
        "yaxis": {
         "autorange": "reversed",
         "domain": [
          0,
          0.45
         ],
         "dtick": 1,
         "gridwidth": 2,
         "showticklabels": false,
         "tick0": 0.5,
         "ticks": "",
         "zeroline": false
        },
        "yaxis2": {
         "anchor": "x2",
         "domain": [
          0.55,
          1
         ]
        }
       }
      },
      "text/html": [
       "<div>                            <div id=\"5da1bb4b-8c71-48e3-b8ce-572a7c68105d\" class=\"plotly-graph-div\" style=\"height:800px; width:100%;\"></div>            <script type=\"text/javascript\">                require([\"plotly\"], function(Plotly) {                    window.PLOTLYENV=window.PLOTLYENV || {};                                    if (document.getElementById(\"5da1bb4b-8c71-48e3-b8ce-572a7c68105d\")) {                    Plotly.newPlot(                        \"5da1bb4b-8c71-48e3-b8ce-572a7c68105d\",                        [{\"colorscale\":[[0,\"#00083e\"],[0.5,\"#ededee\"],[1,\"#ffffff\"]],\"hoverinfo\":\"none\",\"opacity\":0.75,\"showscale\":false,\"type\":\"heatmap\",\"z\":[[0,0,0,0],[0.5,0.5,0.5,0.5],[1,1,1,1],[0.5,0.5,0.5,0.5],[1,1,1,1],[0.5,0.5,0.5,0.5],[1,1,1,1],[0.5,0.5,0.5,0.5],[1,1,1,1],[0.5,0.5,0.5,0.5],[1,1,1,1]]},{\"marker\":{\"color\":\"#0099ff\"},\"name\":\"Gap\",\"type\":\"bar\",\"x\":[\"MIT\",\"Stanford\",\"Harvard\",\"U.Penn\",\"Princeton\",\"Chicago\",\"Georgetown\",\"Tufts\",\"Yale\",\"Columbia\"],\"xaxis\":\"x2\",\"y\":[58,55,53,49,47,40,37,36,35,33],\"yaxis\":\"y2\"},{\"marker\":{\"color\":\"#669900\"},\"name\":\"Men\",\"type\":\"bar\",\"x\":[\"MIT\",\"Stanford\",\"Harvard\",\"U.Penn\",\"Princeton\",\"Chicago\",\"Georgetown\",\"Tufts\",\"Yale\",\"Columbia\"],\"xaxis\":\"x2\",\"y\":[152,151,165,141,137,118,131,112,114,119],\"yaxis\":\"y2\"},{\"marker\":{\"color\":\"#707070\"},\"name\":\"Women\",\"type\":\"bar\",\"x\":[\"MIT\",\"Stanford\",\"Harvard\",\"U.Penn\",\"Princeton\",\"Chicago\",\"Georgetown\",\"Tufts\",\"Yale\",\"Columbia\"],\"xaxis\":\"x2\",\"y\":[94,96,112,92,90,78,94,76,79,86],\"yaxis\":\"y2\"}],                        {\"annotations\":[{\"align\":\"left\",\"font\":{\"color\":\"#ffffff\"},\"showarrow\":false,\"text\":\"<b>School</b>\",\"x\":-0.45,\"xanchor\":\"left\",\"xref\":\"x\",\"y\":0,\"yref\":\"y\"},{\"align\":\"left\",\"font\":{\"color\":\"#ffffff\"},\"showarrow\":false,\"text\":\"<b>Women</b>\",\"x\":0.55,\"xanchor\":\"left\",\"xref\":\"x\",\"y\":0,\"yref\":\"y\"},{\"align\":\"left\",\"font\":{\"color\":\"#ffffff\"},\"showarrow\":false,\"text\":\"<b>Men</b>\",\"x\":1.55,\"xanchor\":\"left\",\"xref\":\"x\",\"y\":0,\"yref\":\"y\"},{\"align\":\"left\",\"font\":{\"color\":\"#ffffff\"},\"showarrow\":false,\"text\":\"<b>Gap</b>\",\"x\":2.55,\"xanchor\":\"left\",\"xref\":\"x\",\"y\":0,\"yref\":\"y\"},{\"align\":\"left\",\"font\":{\"color\":\"#000000\"},\"showarrow\":false,\"text\":\"MIT\",\"x\":-0.45,\"xanchor\":\"left\",\"xref\":\"x\",\"y\":1,\"yref\":\"y\"},{\"align\":\"left\",\"font\":{\"color\":\"#000000\"},\"showarrow\":false,\"text\":\"94\",\"x\":0.55,\"xanchor\":\"left\",\"xref\":\"x\",\"y\":1,\"yref\":\"y\"},{\"align\":\"left\",\"font\":{\"color\":\"#000000\"},\"showarrow\":false,\"text\":\"152\",\"x\":1.55,\"xanchor\":\"left\",\"xref\":\"x\",\"y\":1,\"yref\":\"y\"},{\"align\":\"left\",\"font\":{\"color\":\"#000000\"},\"showarrow\":false,\"text\":\"58\",\"x\":2.55,\"xanchor\":\"left\",\"xref\":\"x\",\"y\":1,\"yref\":\"y\"},{\"align\":\"left\",\"font\":{\"color\":\"#000000\"},\"showarrow\":false,\"text\":\"Stanford\",\"x\":-0.45,\"xanchor\":\"left\",\"xref\":\"x\",\"y\":2,\"yref\":\"y\"},{\"align\":\"left\",\"font\":{\"color\":\"#000000\"},\"showarrow\":false,\"text\":\"96\",\"x\":0.55,\"xanchor\":\"left\",\"xref\":\"x\",\"y\":2,\"yref\":\"y\"},{\"align\":\"left\",\"font\":{\"color\":\"#000000\"},\"showarrow\":false,\"text\":\"151\",\"x\":1.55,\"xanchor\":\"left\",\"xref\":\"x\",\"y\":2,\"yref\":\"y\"},{\"align\":\"left\",\"font\":{\"color\":\"#000000\"},\"showarrow\":false,\"text\":\"55\",\"x\":2.55,\"xanchor\":\"left\",\"xref\":\"x\",\"y\":2,\"yref\":\"y\"},{\"align\":\"left\",\"font\":{\"color\":\"#000000\"},\"showarrow\":false,\"text\":\"Harvard\",\"x\":-0.45,\"xanchor\":\"left\",\"xref\":\"x\",\"y\":3,\"yref\":\"y\"},{\"align\":\"left\",\"font\":{\"color\":\"#000000\"},\"showarrow\":false,\"text\":\"112\",\"x\":0.55,\"xanchor\":\"left\",\"xref\":\"x\",\"y\":3,\"yref\":\"y\"},{\"align\":\"left\",\"font\":{\"color\":\"#000000\"},\"showarrow\":false,\"text\":\"165\",\"x\":1.55,\"xanchor\":\"left\",\"xref\":\"x\",\"y\":3,\"yref\":\"y\"},{\"align\":\"left\",\"font\":{\"color\":\"#000000\"},\"showarrow\":false,\"text\":\"53\",\"x\":2.55,\"xanchor\":\"left\",\"xref\":\"x\",\"y\":3,\"yref\":\"y\"},{\"align\":\"left\",\"font\":{\"color\":\"#000000\"},\"showarrow\":false,\"text\":\"U.Penn\",\"x\":-0.45,\"xanchor\":\"left\",\"xref\":\"x\",\"y\":4,\"yref\":\"y\"},{\"align\":\"left\",\"font\":{\"color\":\"#000000\"},\"showarrow\":false,\"text\":\"92\",\"x\":0.55,\"xanchor\":\"left\",\"xref\":\"x\",\"y\":4,\"yref\":\"y\"},{\"align\":\"left\",\"font\":{\"color\":\"#000000\"},\"showarrow\":false,\"text\":\"141\",\"x\":1.55,\"xanchor\":\"left\",\"xref\":\"x\",\"y\":4,\"yref\":\"y\"},{\"align\":\"left\",\"font\":{\"color\":\"#000000\"},\"showarrow\":false,\"text\":\"49\",\"x\":2.55,\"xanchor\":\"left\",\"xref\":\"x\",\"y\":4,\"yref\":\"y\"},{\"align\":\"left\",\"font\":{\"color\":\"#000000\"},\"showarrow\":false,\"text\":\"Princeton\",\"x\":-0.45,\"xanchor\":\"left\",\"xref\":\"x\",\"y\":5,\"yref\":\"y\"},{\"align\":\"left\",\"font\":{\"color\":\"#000000\"},\"showarrow\":false,\"text\":\"90\",\"x\":0.55,\"xanchor\":\"left\",\"xref\":\"x\",\"y\":5,\"yref\":\"y\"},{\"align\":\"left\",\"font\":{\"color\":\"#000000\"},\"showarrow\":false,\"text\":\"137\",\"x\":1.55,\"xanchor\":\"left\",\"xref\":\"x\",\"y\":5,\"yref\":\"y\"},{\"align\":\"left\",\"font\":{\"color\":\"#000000\"},\"showarrow\":false,\"text\":\"47\",\"x\":2.55,\"xanchor\":\"left\",\"xref\":\"x\",\"y\":5,\"yref\":\"y\"},{\"align\":\"left\",\"font\":{\"color\":\"#000000\"},\"showarrow\":false,\"text\":\"Chicago\",\"x\":-0.45,\"xanchor\":\"left\",\"xref\":\"x\",\"y\":6,\"yref\":\"y\"},{\"align\":\"left\",\"font\":{\"color\":\"#000000\"},\"showarrow\":false,\"text\":\"78\",\"x\":0.55,\"xanchor\":\"left\",\"xref\":\"x\",\"y\":6,\"yref\":\"y\"},{\"align\":\"left\",\"font\":{\"color\":\"#000000\"},\"showarrow\":false,\"text\":\"118\",\"x\":1.55,\"xanchor\":\"left\",\"xref\":\"x\",\"y\":6,\"yref\":\"y\"},{\"align\":\"left\",\"font\":{\"color\":\"#000000\"},\"showarrow\":false,\"text\":\"40\",\"x\":2.55,\"xanchor\":\"left\",\"xref\":\"x\",\"y\":6,\"yref\":\"y\"},{\"align\":\"left\",\"font\":{\"color\":\"#000000\"},\"showarrow\":false,\"text\":\"Georgetown\",\"x\":-0.45,\"xanchor\":\"left\",\"xref\":\"x\",\"y\":7,\"yref\":\"y\"},{\"align\":\"left\",\"font\":{\"color\":\"#000000\"},\"showarrow\":false,\"text\":\"94\",\"x\":0.55,\"xanchor\":\"left\",\"xref\":\"x\",\"y\":7,\"yref\":\"y\"},{\"align\":\"left\",\"font\":{\"color\":\"#000000\"},\"showarrow\":false,\"text\":\"131\",\"x\":1.55,\"xanchor\":\"left\",\"xref\":\"x\",\"y\":7,\"yref\":\"y\"},{\"align\":\"left\",\"font\":{\"color\":\"#000000\"},\"showarrow\":false,\"text\":\"37\",\"x\":2.55,\"xanchor\":\"left\",\"xref\":\"x\",\"y\":7,\"yref\":\"y\"},{\"align\":\"left\",\"font\":{\"color\":\"#000000\"},\"showarrow\":false,\"text\":\"Tufts\",\"x\":-0.45,\"xanchor\":\"left\",\"xref\":\"x\",\"y\":8,\"yref\":\"y\"},{\"align\":\"left\",\"font\":{\"color\":\"#000000\"},\"showarrow\":false,\"text\":\"76\",\"x\":0.55,\"xanchor\":\"left\",\"xref\":\"x\",\"y\":8,\"yref\":\"y\"},{\"align\":\"left\",\"font\":{\"color\":\"#000000\"},\"showarrow\":false,\"text\":\"112\",\"x\":1.55,\"xanchor\":\"left\",\"xref\":\"x\",\"y\":8,\"yref\":\"y\"},{\"align\":\"left\",\"font\":{\"color\":\"#000000\"},\"showarrow\":false,\"text\":\"36\",\"x\":2.55,\"xanchor\":\"left\",\"xref\":\"x\",\"y\":8,\"yref\":\"y\"},{\"align\":\"left\",\"font\":{\"color\":\"#000000\"},\"showarrow\":false,\"text\":\"Yale\",\"x\":-0.45,\"xanchor\":\"left\",\"xref\":\"x\",\"y\":9,\"yref\":\"y\"},{\"align\":\"left\",\"font\":{\"color\":\"#000000\"},\"showarrow\":false,\"text\":\"79\",\"x\":0.55,\"xanchor\":\"left\",\"xref\":\"x\",\"y\":9,\"yref\":\"y\"},{\"align\":\"left\",\"font\":{\"color\":\"#000000\"},\"showarrow\":false,\"text\":\"114\",\"x\":1.55,\"xanchor\":\"left\",\"xref\":\"x\",\"y\":9,\"yref\":\"y\"},{\"align\":\"left\",\"font\":{\"color\":\"#000000\"},\"showarrow\":false,\"text\":\"35\",\"x\":2.55,\"xanchor\":\"left\",\"xref\":\"x\",\"y\":9,\"yref\":\"y\"},{\"align\":\"left\",\"font\":{\"color\":\"#000000\"},\"showarrow\":false,\"text\":\"Columbia\",\"x\":-0.45,\"xanchor\":\"left\",\"xref\":\"x\",\"y\":10,\"yref\":\"y\"},{\"align\":\"left\",\"font\":{\"color\":\"#000000\"},\"showarrow\":false,\"text\":\"86\",\"x\":0.55,\"xanchor\":\"left\",\"xref\":\"x\",\"y\":10,\"yref\":\"y\"},{\"align\":\"left\",\"font\":{\"color\":\"#000000\"},\"showarrow\":false,\"text\":\"119\",\"x\":1.55,\"xanchor\":\"left\",\"xref\":\"x\",\"y\":10,\"yref\":\"y\"},{\"align\":\"left\",\"font\":{\"color\":\"#000000\"},\"showarrow\":false,\"text\":\"33\",\"x\":2.55,\"xanchor\":\"left\",\"xref\":\"x\",\"y\":10,\"yref\":\"y\"}],\"height\":800,\"margin\":{\"b\":0,\"l\":50,\"r\":0,\"t\":75},\"template\":{\"data\":{\"bar\":[{\"error_x\":{\"color\":\"#2a3f5f\"},\"error_y\":{\"color\":\"#2a3f5f\"},\"marker\":{\"line\":{\"color\":\"#E5ECF6\",\"width\":0.5},\"pattern\":{\"fillmode\":\"overlay\",\"size\":10,\"solidity\":0.2}},\"type\":\"bar\"}],\"barpolar\":[{\"marker\":{\"line\":{\"color\":\"#E5ECF6\",\"width\":0.5},\"pattern\":{\"fillmode\":\"overlay\",\"size\":10,\"solidity\":0.2}},\"type\":\"barpolar\"}],\"carpet\":[{\"aaxis\":{\"endlinecolor\":\"#2a3f5f\",\"gridcolor\":\"white\",\"linecolor\":\"white\",\"minorgridcolor\":\"white\",\"startlinecolor\":\"#2a3f5f\"},\"baxis\":{\"endlinecolor\":\"#2a3f5f\",\"gridcolor\":\"white\",\"linecolor\":\"white\",\"minorgridcolor\":\"white\",\"startlinecolor\":\"#2a3f5f\"},\"type\":\"carpet\"}],\"choropleth\":[{\"colorbar\":{\"outlinewidth\":0,\"ticks\":\"\"},\"type\":\"choropleth\"}],\"contour\":[{\"colorbar\":{\"outlinewidth\":0,\"ticks\":\"\"},\"colorscale\":[[0.0,\"#0d0887\"],[0.1111111111111111,\"#46039f\"],[0.2222222222222222,\"#7201a8\"],[0.3333333333333333,\"#9c179e\"],[0.4444444444444444,\"#bd3786\"],[0.5555555555555556,\"#d8576b\"],[0.6666666666666666,\"#ed7953\"],[0.7777777777777778,\"#fb9f3a\"],[0.8888888888888888,\"#fdca26\"],[1.0,\"#f0f921\"]],\"type\":\"contour\"}],\"contourcarpet\":[{\"colorbar\":{\"outlinewidth\":0,\"ticks\":\"\"},\"type\":\"contourcarpet\"}],\"heatmap\":[{\"colorbar\":{\"outlinewidth\":0,\"ticks\":\"\"},\"colorscale\":[[0.0,\"#0d0887\"],[0.1111111111111111,\"#46039f\"],[0.2222222222222222,\"#7201a8\"],[0.3333333333333333,\"#9c179e\"],[0.4444444444444444,\"#bd3786\"],[0.5555555555555556,\"#d8576b\"],[0.6666666666666666,\"#ed7953\"],[0.7777777777777778,\"#fb9f3a\"],[0.8888888888888888,\"#fdca26\"],[1.0,\"#f0f921\"]],\"type\":\"heatmap\"}],\"heatmapgl\":[{\"colorbar\":{\"outlinewidth\":0,\"ticks\":\"\"},\"colorscale\":[[0.0,\"#0d0887\"],[0.1111111111111111,\"#46039f\"],[0.2222222222222222,\"#7201a8\"],[0.3333333333333333,\"#9c179e\"],[0.4444444444444444,\"#bd3786\"],[0.5555555555555556,\"#d8576b\"],[0.6666666666666666,\"#ed7953\"],[0.7777777777777778,\"#fb9f3a\"],[0.8888888888888888,\"#fdca26\"],[1.0,\"#f0f921\"]],\"type\":\"heatmapgl\"}],\"histogram\":[{\"marker\":{\"pattern\":{\"fillmode\":\"overlay\",\"size\":10,\"solidity\":0.2}},\"type\":\"histogram\"}],\"histogram2d\":[{\"colorbar\":{\"outlinewidth\":0,\"ticks\":\"\"},\"colorscale\":[[0.0,\"#0d0887\"],[0.1111111111111111,\"#46039f\"],[0.2222222222222222,\"#7201a8\"],[0.3333333333333333,\"#9c179e\"],[0.4444444444444444,\"#bd3786\"],[0.5555555555555556,\"#d8576b\"],[0.6666666666666666,\"#ed7953\"],[0.7777777777777778,\"#fb9f3a\"],[0.8888888888888888,\"#fdca26\"],[1.0,\"#f0f921\"]],\"type\":\"histogram2d\"}],\"histogram2dcontour\":[{\"colorbar\":{\"outlinewidth\":0,\"ticks\":\"\"},\"colorscale\":[[0.0,\"#0d0887\"],[0.1111111111111111,\"#46039f\"],[0.2222222222222222,\"#7201a8\"],[0.3333333333333333,\"#9c179e\"],[0.4444444444444444,\"#bd3786\"],[0.5555555555555556,\"#d8576b\"],[0.6666666666666666,\"#ed7953\"],[0.7777777777777778,\"#fb9f3a\"],[0.8888888888888888,\"#fdca26\"],[1.0,\"#f0f921\"]],\"type\":\"histogram2dcontour\"}],\"mesh3d\":[{\"colorbar\":{\"outlinewidth\":0,\"ticks\":\"\"},\"type\":\"mesh3d\"}],\"parcoords\":[{\"line\":{\"colorbar\":{\"outlinewidth\":0,\"ticks\":\"\"}},\"type\":\"parcoords\"}],\"pie\":[{\"automargin\":true,\"type\":\"pie\"}],\"scatter\":[{\"marker\":{\"colorbar\":{\"outlinewidth\":0,\"ticks\":\"\"}},\"type\":\"scatter\"}],\"scatter3d\":[{\"line\":{\"colorbar\":{\"outlinewidth\":0,\"ticks\":\"\"}},\"marker\":{\"colorbar\":{\"outlinewidth\":0,\"ticks\":\"\"}},\"type\":\"scatter3d\"}],\"scattercarpet\":[{\"marker\":{\"colorbar\":{\"outlinewidth\":0,\"ticks\":\"\"}},\"type\":\"scattercarpet\"}],\"scattergeo\":[{\"marker\":{\"colorbar\":{\"outlinewidth\":0,\"ticks\":\"\"}},\"type\":\"scattergeo\"}],\"scattergl\":[{\"marker\":{\"colorbar\":{\"outlinewidth\":0,\"ticks\":\"\"}},\"type\":\"scattergl\"}],\"scattermapbox\":[{\"marker\":{\"colorbar\":{\"outlinewidth\":0,\"ticks\":\"\"}},\"type\":\"scattermapbox\"}],\"scatterpolar\":[{\"marker\":{\"colorbar\":{\"outlinewidth\":0,\"ticks\":\"\"}},\"type\":\"scatterpolar\"}],\"scatterpolargl\":[{\"marker\":{\"colorbar\":{\"outlinewidth\":0,\"ticks\":\"\"}},\"type\":\"scatterpolargl\"}],\"scatterternary\":[{\"marker\":{\"colorbar\":{\"outlinewidth\":0,\"ticks\":\"\"}},\"type\":\"scatterternary\"}],\"surface\":[{\"colorbar\":{\"outlinewidth\":0,\"ticks\":\"\"},\"colorscale\":[[0.0,\"#0d0887\"],[0.1111111111111111,\"#46039f\"],[0.2222222222222222,\"#7201a8\"],[0.3333333333333333,\"#9c179e\"],[0.4444444444444444,\"#bd3786\"],[0.5555555555555556,\"#d8576b\"],[0.6666666666666666,\"#ed7953\"],[0.7777777777777778,\"#fb9f3a\"],[0.8888888888888888,\"#fdca26\"],[1.0,\"#f0f921\"]],\"type\":\"surface\"}],\"table\":[{\"cells\":{\"fill\":{\"color\":\"#EBF0F8\"},\"line\":{\"color\":\"white\"}},\"header\":{\"fill\":{\"color\":\"#C8D4E3\"},\"line\":{\"color\":\"white\"}},\"type\":\"table\"}]},\"layout\":{\"annotationdefaults\":{\"arrowcolor\":\"#2a3f5f\",\"arrowhead\":0,\"arrowwidth\":1},\"autotypenumbers\":\"strict\",\"coloraxis\":{\"colorbar\":{\"outlinewidth\":0,\"ticks\":\"\"}},\"colorscale\":{\"diverging\":[[0,\"#8e0152\"],[0.1,\"#c51b7d\"],[0.2,\"#de77ae\"],[0.3,\"#f1b6da\"],[0.4,\"#fde0ef\"],[0.5,\"#f7f7f7\"],[0.6,\"#e6f5d0\"],[0.7,\"#b8e186\"],[0.8,\"#7fbc41\"],[0.9,\"#4d9221\"],[1,\"#276419\"]],\"sequential\":[[0.0,\"#0d0887\"],[0.1111111111111111,\"#46039f\"],[0.2222222222222222,\"#7201a8\"],[0.3333333333333333,\"#9c179e\"],[0.4444444444444444,\"#bd3786\"],[0.5555555555555556,\"#d8576b\"],[0.6666666666666666,\"#ed7953\"],[0.7777777777777778,\"#fb9f3a\"],[0.8888888888888888,\"#fdca26\"],[1.0,\"#f0f921\"]],\"sequentialminus\":[[0.0,\"#0d0887\"],[0.1111111111111111,\"#46039f\"],[0.2222222222222222,\"#7201a8\"],[0.3333333333333333,\"#9c179e\"],[0.4444444444444444,\"#bd3786\"],[0.5555555555555556,\"#d8576b\"],[0.6666666666666666,\"#ed7953\"],[0.7777777777777778,\"#fb9f3a\"],[0.8888888888888888,\"#fdca26\"],[1.0,\"#f0f921\"]]},\"colorway\":[\"#636efa\",\"#EF553B\",\"#00cc96\",\"#ab63fa\",\"#FFA15A\",\"#19d3f3\",\"#FF6692\",\"#B6E880\",\"#FF97FF\",\"#FECB52\"],\"font\":{\"color\":\"#2a3f5f\"},\"geo\":{\"bgcolor\":\"white\",\"lakecolor\":\"white\",\"landcolor\":\"#E5ECF6\",\"showlakes\":true,\"showland\":true,\"subunitcolor\":\"white\"},\"hoverlabel\":{\"align\":\"left\"},\"hovermode\":\"closest\",\"mapbox\":{\"style\":\"light\"},\"paper_bgcolor\":\"white\",\"plot_bgcolor\":\"#E5ECF6\",\"polar\":{\"angularaxis\":{\"gridcolor\":\"white\",\"linecolor\":\"white\",\"ticks\":\"\"},\"bgcolor\":\"#E5ECF6\",\"radialaxis\":{\"gridcolor\":\"white\",\"linecolor\":\"white\",\"ticks\":\"\"}},\"scene\":{\"xaxis\":{\"backgroundcolor\":\"#E5ECF6\",\"gridcolor\":\"white\",\"gridwidth\":2,\"linecolor\":\"white\",\"showbackground\":true,\"ticks\":\"\",\"zerolinecolor\":\"white\"},\"yaxis\":{\"backgroundcolor\":\"#E5ECF6\",\"gridcolor\":\"white\",\"gridwidth\":2,\"linecolor\":\"white\",\"showbackground\":true,\"ticks\":\"\",\"zerolinecolor\":\"white\"},\"zaxis\":{\"backgroundcolor\":\"#E5ECF6\",\"gridcolor\":\"white\",\"gridwidth\":2,\"linecolor\":\"white\",\"showbackground\":true,\"ticks\":\"\",\"zerolinecolor\":\"white\"}},\"shapedefaults\":{\"line\":{\"color\":\"#2a3f5f\"}},\"ternary\":{\"aaxis\":{\"gridcolor\":\"white\",\"linecolor\":\"white\",\"ticks\":\"\"},\"baxis\":{\"gridcolor\":\"white\",\"linecolor\":\"white\",\"ticks\":\"\"},\"bgcolor\":\"#E5ECF6\",\"caxis\":{\"gridcolor\":\"white\",\"linecolor\":\"white\",\"ticks\":\"\"}},\"title\":{\"x\":0.05},\"xaxis\":{\"automargin\":true,\"gridcolor\":\"white\",\"linecolor\":\"white\",\"ticks\":\"\",\"title\":{\"standoff\":15},\"zerolinecolor\":\"white\",\"zerolinewidth\":2},\"yaxis\":{\"automargin\":true,\"gridcolor\":\"white\",\"linecolor\":\"white\",\"ticks\":\"\",\"title\":{\"standoff\":15},\"zerolinecolor\":\"white\",\"zerolinewidth\":2}}},\"xaxis\":{\"dtick\":1,\"gridwidth\":2,\"showticklabels\":false,\"tick0\":-0.5,\"ticks\":\"\",\"zeroline\":false},\"xaxis2\":{\"anchor\":\"y2\"},\"yaxis\":{\"autorange\":\"reversed\",\"domain\":[0,0.45],\"dtick\":1,\"gridwidth\":2,\"showticklabels\":false,\"tick0\":0.5,\"ticks\":\"\",\"zeroline\":false},\"yaxis2\":{\"anchor\":\"x2\",\"domain\":[0.55,1]}},                        {\"responsive\": true}                    ).then(function(){\n",
       "                            \n",
       "var gd = document.getElementById('5da1bb4b-8c71-48e3-b8ce-572a7c68105d');\n",
       "var x = new MutationObserver(function (mutations, observer) {{\n",
       "        var display = window.getComputedStyle(gd).display;\n",
       "        if (!display || display === 'none') {{\n",
       "            console.log([gd, 'removed!']);\n",
       "            Plotly.purge(gd);\n",
       "            observer.disconnect();\n",
       "        }}\n",
       "}});\n",
       "\n",
       "// Listen for the removal of the full notebook cells\n",
       "var notebookContainer = gd.closest('#notebook-container');\n",
       "if (notebookContainer) {{\n",
       "    x.observe(notebookContainer, {childList: true});\n",
       "}}\n",
       "\n",
       "// Listen for the clearing of the current output cell\n",
       "var outputEl = gd.closest('.output');\n",
       "if (outputEl) {{\n",
       "    x.observe(outputEl, {childList: true});\n",
       "}}\n",
       "\n",
       "                        })                };                });            </script>        </div>"
      ]
     },
     "metadata": {}
    }
   ],
   "metadata": {}
  },
  {
   "cell_type": "code",
   "execution_count": null,
   "source": [],
   "outputs": [],
   "metadata": {}
  }
 ],
 "metadata": {
  "orig_nbformat": 4,
  "language_info": {
   "name": "python",
   "version": "3.9.5",
   "mimetype": "text/x-python",
   "codemirror_mode": {
    "name": "ipython",
    "version": 3
   },
   "pygments_lexer": "ipython3",
   "nbconvert_exporter": "python",
   "file_extension": ".py"
  },
  "kernelspec": {
   "name": "python3",
   "display_name": "Python 3.9.5 64-bit ('tf': conda)"
  },
  "interpreter": {
   "hash": "35f69483aa8b7b2bb12f1e6f2ffb8fe1120cf837ca5a80070d69961a5682f06d"
  }
 },
 "nbformat": 4,
 "nbformat_minor": 2
}