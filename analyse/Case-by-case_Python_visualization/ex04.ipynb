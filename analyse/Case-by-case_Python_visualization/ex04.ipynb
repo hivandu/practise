{
 "cells": [
  {
   "cell_type": "code",
   "execution_count": 1,
   "source": [
    "# 箱型图"
   ],
   "outputs": [],
   "metadata": {}
  },
  {
   "cell_type": "code",
   "execution_count": 3,
   "source": [
    "%matplotlib inline\n",
    "import matplotlib.pyplot as plt\n",
    "\n",
    "fig, ax = plt.subplots(1, 2)\n",
    "data = [1, 5, 9, 2]\n",
    "ax[0].boxplot([data])\n",
    "ax[0].grid(True)\n",
    "ax[1].boxplot([data], showmeans=True)\n",
    "ax[1].grid(True)\n"
   ],
   "outputs": [
    {
     "output_type": "display_data",
     "data": {
      "image/png": "[encoded data removed]",
      "text/plain": [
       "<Figure size 432x288 with 2 Axes>"
      ]
     },
     "metadata": {
      "needs_background": "light"
     }
    }
   ],
   "metadata": {}
  },
  {
   "cell_type": "code",
   "execution_count": 4,
   "source": [
    "## 完整参数\n",
    "# plt.boxplot(x, notch=None, sym=None, vert=None, whis=None, positions=None, widths=None, patch_artist=None, bootstrap=None, usermedians=None, conf_intervals=None, meanline=None, sho wmeans=None, showcaps=None, showbox=None, showfliers=None, boxprops=None, labels=None, flierprops=None, medianprops=None, meanprops=None, capprops=None, whiskerprops=None, manage_xticks=True, autorange=False, zorder=None, *, data=None)"
   ],
   "outputs": [],
   "metadata": {}
  },
  {
   "cell_type": "code",
   "execution_count": 6,
   "source": [
    "plt.boxplot([2,4,6,8,10], notch=True)\n",
    "plt.grid(1)"
   ],
   "outputs": [
    {
     "output_type": "display_data",
     "data": {
      "image/png": "[encoded data removed]",
      "text/plain": [
       "<Figure size 432x288 with 1 Axes>"
      ]
     },
     "metadata": {
      "needs_background": "light"
     }
    }
   ],
   "metadata": {}
  },
  {
   "cell_type": "code",
   "execution_count": 13,
   "source": [
    "## 具体案例\n",
    "import numpy as np\n",
    "\n",
    "# 生成数据集\n",
    "np.random.seed(10)\n",
    "collectn_1 = np.random.normal(100, 10, 200)\n",
    "collectn_2 = np.random.normal(80, 30, 200)\n",
    "collectn_3 = np.random.normal(9, 20, 200)\n",
    "collectn_4 = np.random.normal(70, 25, 200)\n",
    "\n",
    "data = [collectn_1, collectn_2, collectn_3, collectn_4]\n",
    "\n",
    "# 绘制图形\n",
    "fig = plt.figure(1, figsize=(9, 6))\n",
    "ax = fig.add_subplot(111)\n",
    "bp = ax.boxplot(data, patch_artist=True)"
   ],
   "outputs": [
    {
     "output_type": "display_data",
     "data": {
      "image/png": "[encoded data removed]",
      "text/plain": [
       "<Figure size 648x432 with 1 Axes>"
      ]
     },
     "metadata": {
      "needs_background": "light"
     }
    }
   ],
   "metadata": {}
  },
  {
   "cell_type": "code",
   "execution_count": 15,
   "source": [
    "fig = plt.figure(1, figsize=(9, 6))\n",
    "ax = fig.add_subplot(111)\n",
    "\n",
    "bp = ax.boxplot(data, patch_artist=True)\n",
    "\n",
    "# 修改矩形框内的填充色和矩形框的变现\n",
    "for box in bp['boxes']:\n",
    "    box.set(color='#7570b3', linewidth=2) # 矩形框变现颜色和粗细\n",
    "    box.set(facecolor = '#1b9e77') # 填充色\n",
    "\n",
    "# 虚线的粗细和颜色\n",
    "for whisker in bp['whiskers']:\n",
    "    whisker.set(color='r', linewidth=2)\n",
    "\n",
    "# 表示上下限的线的颜色和明细\n",
    "for cap in bp['caps']:\n",
    "    cap.set(color='black', linewidth=2)\n",
    "\n",
    "# 表示中位数的线的颜色和粗细\n",
    "for median in bp['medians']:\n",
    "    median.set(color='#b2df8a', linewidth=4)\n",
    "\n",
    "# 表示离群值的符号设置\n",
    "for flier in bp['fliers']:\n",
    "    flier.set(marker='*', color='#e7298a', alpha=.5)\n",
    "\n",
    "# 设置坐标轴\n",
    "ax.set_xticklabels(['Sample', 'Sample2', 'Sample3', 'Sample4'])\n",
    "ax.get_xaxis().tick_bottom()\n",
    "ax.get_yaxis().tick_left()"
   ],
   "outputs": [
    {
     "output_type": "display_data",
     "data": {
      "image/png": "[encoded data removed]",
      "text/plain": [
       "<Figure size 648x432 with 1 Axes>"
      ]
     },
     "metadata": {
      "needs_background": "light"
     }
    }
   ],
   "metadata": {}
  },
  {
   "cell_type": "code",
   "execution_count": 22,
   "source": [
    "## DataFrame 方法\n",
    "import pandas as pd\n",
    "import numpy as np\n",
    "data = np.random.randn(25, 4)\n",
    "df = pd.DataFrame(data, columns=list('ABCD'))\n",
    "df.head(2)"
   ],
   "outputs": [
    {
     "output_type": "execute_result",
     "data": {
      "text/html": [
       "<div>\n",
       "<style scoped>\n",
       "    .dataframe tbody tr th:only-of-type {\n",
       "        vertical-align: middle;\n",
       "    }\n",
       "\n",
       "    .dataframe tbody tr th {\n",
       "        vertical-align: top;\n",
       "    }\n",
       "\n",
       "    .dataframe thead th {\n",
       "        text-align: right;\n",
       "    }\n",
       "</style>\n",
       "<table border=\"1\" class=\"dataframe\">\n",
       "  <thead>\n",
       "    <tr style=\"text-align: right;\">\n",
       "      <th></th>\n",
       "      <th>A</th>\n",
       "      <th>B</th>\n",
       "      <th>C</th>\n",
       "      <th>D</th>\n",
       "    </tr>\n",
       "  </thead>\n",
       "  <tbody>\n",
       "    <tr>\n",
       "      <th>0</th>\n",
       "      <td>-1.480410</td>\n",
       "      <td>2.165262</td>\n",
       "      <td>-1.123913</td>\n",
       "      <td>-1.945516</td>\n",
       "    </tr>\n",
       "    <tr>\n",
       "      <th>1</th>\n",
       "      <td>-0.123011</td>\n",
       "      <td>-0.475645</td>\n",
       "      <td>0.792190</td>\n",
       "      <td>1.049230</td>\n",
       "    </tr>\n",
       "  </tbody>\n",
       "</table>\n",
       "</div>"
      ],
      "text/plain": [
       "          A         B         C         D\n",
       "0 -1.480410  2.165262 -1.123913 -1.945516\n",
       "1 -0.123011 -0.475645  0.792190  1.049230"
      ]
     },
     "metadata": {},
     "execution_count": 22
    }
   ],
   "metadata": {}
  },
  {
   "cell_type": "code",
   "execution_count": 23,
   "source": [
    "ax = df.plot.box()"
   ],
   "outputs": [
    {
     "output_type": "display_data",
     "data": {
      "image/png": "[encoded data removed]",
      "text/plain": [
       "<Figure size 432x288 with 1 Axes>"
      ]
     },
     "metadata": {
      "needs_background": "light"
     }
    }
   ],
   "metadata": {}
  },
  {
   "cell_type": "code",
   "execution_count": 24,
   "source": [
    "# 饼图"
   ],
   "outputs": [],
   "metadata": {}
  },
  {
   "cell_type": "code",
   "execution_count": 25,
   "source": [
    "## 完整参数\n",
    "# plt.pie(x, explode=None, labels=None, colors=None, autopct=None, pctdistance=0.6, shadow=False, labeldistance=1.1, startangle=None, radius=None, counterclock=True, wedgeprops=None,  textprops=None, center=(0, 0), frame=False, rotatelabels=False, *, data=None)"
   ],
   "outputs": [],
   "metadata": {}
  },
  {
   "cell_type": "code",
   "execution_count": 38,
   "source": [
    "x = [2, 4, 6, 8]\n",
    "fig, ax = plt.subplots()\n",
    "labels = ['A', 'B', 'C', 'D']\n",
    "colors = ['r', 'y', 'b', 'g']\n",
    "explode=(0, .1, 0, 0)\n",
    "fig.set_facecolor('white')\n",
    "ax.pie(x, explode=explode, labels=labels, colors=colors, autopct='%1.1f%%', shadow=True, startangle=90, radius=1.2)\n",
    "ax.set(aspect='equal', title='Pie')"
   ],
   "outputs": [
    {
     "output_type": "execute_result",
     "data": {
      "text/plain": [
       "[None, Text(0.5, 1.0, 'Pie')]"
      ]
     },
     "metadata": {},
     "execution_count": 38
    },
    {
     "output_type": "display_data",
     "data": {
      "image/png": "[encoded data removed]",
      "text/plain": [
       "<Figure size 432x288 with 1 Axes>"
      ]
     },
     "metadata": {}
    }
   ],
   "metadata": {}
  },
  {
   "cell_type": "code",
   "execution_count": 44,
   "source": [
    "## 某东数据实例\n",
    "df = pd.read_csv('~/data/cbcpv/bra/colors.csv')\n",
    "colors = pd.DataFrame({'productColor':df.values[0:, 1], 'color':df.values[0:,2]})\n",
    "colors.sample(5)"
   ],
   "outputs": [
    {
     "output_type": "execute_result",
     "data": {
      "text/html": [
       "<div>\n",
       "<style scoped>\n",
       "    .dataframe tbody tr th:only-of-type {\n",
       "        vertical-align: middle;\n",
       "    }\n",
       "\n",
       "    .dataframe tbody tr th {\n",
       "        vertical-align: top;\n",
       "    }\n",
       "\n",
       "    .dataframe thead th {\n",
       "        text-align: right;\n",
       "    }\n",
       "</style>\n",
       "<table border=\"1\" class=\"dataframe\">\n",
       "  <thead>\n",
       "    <tr style=\"text-align: right;\">\n",
       "      <th></th>\n",
       "      <th>productColor</th>\n",
       "      <th>color</th>\n",
       "    </tr>\n",
       "  </thead>\n",
       "  <tbody>\n",
       "    <tr>\n",
       "      <th>68</th>\n",
       "      <td>浅紫色</td>\n",
       "      <td>紫色</td>\n",
       "    </tr>\n",
       "    <tr>\n",
       "      <th>62</th>\n",
       "      <td>PNK</td>\n",
       "      <td>粉色</td>\n",
       "    </tr>\n",
       "    <tr>\n",
       "      <th>25</th>\n",
       "      <td>杏肤色</td>\n",
       "      <td>肤色</td>\n",
       "    </tr>\n",
       "    <tr>\n",
       "      <th>14</th>\n",
       "      <td>NaN</td>\n",
       "      <td>NaN</td>\n",
       "    </tr>\n",
       "    <tr>\n",
       "      <th>2</th>\n",
       "      <td>071蓝色</td>\n",
       "      <td>蓝色</td>\n",
       "    </tr>\n",
       "  </tbody>\n",
       "</table>\n",
       "</div>"
      ],
      "text/plain": [
       "   productColor color\n",
       "68         浅紫色     紫色\n",
       "62          PNK    粉色\n",
       "25          杏肤色    肤色\n",
       "14          NaN   NaN\n",
       "2         071蓝色    蓝色"
      ]
     },
     "metadata": {},
     "execution_count": 44
    }
   ],
   "metadata": {}
  },
  {
   "cell_type": "code",
   "execution_count": 41,
   "source": [
    "df2 = pd.read_csv('~/data/cbcpv/bra/bra.csv')\n",
    "df2.sample(5)"
   ],
   "outputs": [
    {
     "output_type": "execute_result",
     "data": {
      "text/html": [
       "<div>\n",
       "<style scoped>\n",
       "    .dataframe tbody tr th:only-of-type {\n",
       "        vertical-align: middle;\n",
       "    }\n",
       "\n",
       "    .dataframe tbody tr th {\n",
       "        vertical-align: top;\n",
       "    }\n",
       "\n",
       "    .dataframe thead th {\n",
       "        text-align: right;\n",
       "    }\n",
       "</style>\n",
       "<table border=\"1\" class=\"dataframe\">\n",
       "  <thead>\n",
       "    <tr style=\"text-align: right;\">\n",
       "      <th></th>\n",
       "      <th>creationTime</th>\n",
       "      <th>productColor</th>\n",
       "      <th>productSize</th>\n",
       "    </tr>\n",
       "  </thead>\n",
       "  <tbody>\n",
       "    <tr>\n",
       "      <th>6245</th>\n",
       "      <td>2017-07-28 09:09:01</td>\n",
       "      <td>肤色</td>\n",
       "      <td>80B/36B</td>\n",
       "    </tr>\n",
       "    <tr>\n",
       "      <th>7697</th>\n",
       "      <td>2017-10-29 11:48:46</td>\n",
       "      <td>黑色</td>\n",
       "      <td>80B</td>\n",
       "    </tr>\n",
       "    <tr>\n",
       "      <th>2366</th>\n",
       "      <td>2017-10-04 07:14:07</td>\n",
       "      <td>藕荷色</td>\n",
       "      <td>80C/36C</td>\n",
       "    </tr>\n",
       "    <tr>\n",
       "      <th>11632</th>\n",
       "      <td>2017-08-22 22:28:33</td>\n",
       "      <td>粉色</td>\n",
       "      <td>85B=38AB</td>\n",
       "    </tr>\n",
       "    <tr>\n",
       "      <th>2082</th>\n",
       "      <td>2017-06-04 20:16:56</td>\n",
       "      <td>酒红色</td>\n",
       "      <td>B80</td>\n",
       "    </tr>\n",
       "  </tbody>\n",
       "</table>\n",
       "</div>"
      ],
      "text/plain": [
       "              creationTime productColor productSize\n",
       "6245   2017-07-28 09:09:01           肤色     80B/36B\n",
       "7697   2017-10-29 11:48:46           黑色         80B\n",
       "2366   2017-10-04 07:14:07          藕荷色     80C/36C\n",
       "11632  2017-08-22 22:28:33           粉色  85B=38AB  \n",
       "2082   2017-06-04 20:16:56          酒红色         B80"
      ]
     },
     "metadata": {},
     "execution_count": 41
    }
   ],
   "metadata": {}
  },
  {
   "cell_type": "code",
   "execution_count": 46,
   "source": [
    "# 柱状图比较不同“Color”特征值的记录数量\n",
    "cbras = pd.merge(df2, colors, on='productColor', how='left')\n",
    "color_count = cbras.groupby('color').count()\n",
    "datas = color_count['productColor']\n",
    "labels = datas.index\n",
    "position = range(len(datas.index))\n",
    "\n",
    "\n",
    "plt.rcParams['font.sans-serif'] = ['Arial Unicode MS']\n",
    "plt.bar(x=position, height=datas.values, width=.6, tick_label=labels)"
   ],
   "outputs": [
    {
     "output_type": "execute_result",
     "data": {
      "text/plain": [
       "<BarContainer object of 10 artists>"
      ]
     },
     "metadata": {},
     "execution_count": 46
    },
    {
     "output_type": "display_data",
     "data": {
      "image/png": "[encoded data removed]",
      "text/plain": [
       "<Figure size 432x288 with 1 Axes>"
      ]
     },
     "metadata": {
      "needs_background": "light"
     }
    }
   ],
   "metadata": {}
  },
  {
   "cell_type": "code",
   "execution_count": 47,
   "source": [
    "## 清洗数据"
   ],
   "outputs": [],
   "metadata": {}
  },
  {
   "cell_type": "code",
   "execution_count": 49,
   "source": [
    "# 对df2种的productSize特征的数值进行清洗\n",
    "bras2 = df2['productSize'].str.upper()\n",
    "cup = bras2.str.findall(\"[a-zA-Z]+\").str[0] # 正则表达式进行初步清洗\n",
    "cup2 = cup.str.replace('M', 'B') # 将其他型号归类为A-E\n",
    "cup3 = cup2.str.replace('L', 'C')\n",
    "cup4 = cup3.str.replace('XC', 'D')\n",
    "cup5 = cup4.str.replace('AB', 'B')\n",
    "df2['cup'] = cup5\n",
    "df2.sample(5)"
   ],
   "outputs": [
    {
     "output_type": "execute_result",
     "data": {
      "text/html": [
       "<div>\n",
       "<style scoped>\n",
       "    .dataframe tbody tr th:only-of-type {\n",
       "        vertical-align: middle;\n",
       "    }\n",
       "\n",
       "    .dataframe tbody tr th {\n",
       "        vertical-align: top;\n",
       "    }\n",
       "\n",
       "    .dataframe thead th {\n",
       "        text-align: right;\n",
       "    }\n",
       "</style>\n",
       "<table border=\"1\" class=\"dataframe\">\n",
       "  <thead>\n",
       "    <tr style=\"text-align: right;\">\n",
       "      <th></th>\n",
       "      <th>creationTime</th>\n",
       "      <th>productColor</th>\n",
       "      <th>productSize</th>\n",
       "      <th>cup</th>\n",
       "    </tr>\n",
       "  </thead>\n",
       "  <tbody>\n",
       "    <tr>\n",
       "      <th>4119</th>\n",
       "      <td>2017-02-26 14:11:55</td>\n",
       "      <td>香妃红</td>\n",
       "      <td>80B/36B</td>\n",
       "      <td>B</td>\n",
       "    </tr>\n",
       "    <tr>\n",
       "      <th>11898</th>\n",
       "      <td>2017-11-10 13:08:12</td>\n",
       "      <td>磁石款  黑色【薄】</td>\n",
       "      <td>75B/34B</td>\n",
       "      <td>B</td>\n",
       "    </tr>\n",
       "    <tr>\n",
       "      <th>4273</th>\n",
       "      <td>2016-11-07 18:22:10</td>\n",
       "      <td>香妃红</td>\n",
       "      <td>80B/36B</td>\n",
       "      <td>B</td>\n",
       "    </tr>\n",
       "    <tr>\n",
       "      <th>10590</th>\n",
       "      <td>2017-10-25 20:42:46</td>\n",
       "      <td>肤色</td>\n",
       "      <td>34/75D=L码</td>\n",
       "      <td>D</td>\n",
       "    </tr>\n",
       "    <tr>\n",
       "      <th>10161</th>\n",
       "      <td>2017-03-09 00:28:10</td>\n",
       "      <td>肤色</td>\n",
       "      <td>75C/34C</td>\n",
       "      <td>C</td>\n",
       "    </tr>\n",
       "  </tbody>\n",
       "</table>\n",
       "</div>"
      ],
      "text/plain": [
       "              creationTime productColor productSize cup\n",
       "4119   2017-02-26 14:11:55          香妃红     80B/36B   B\n",
       "11898  2017-11-10 13:08:12   磁石款  黑色【薄】     75B/34B   B\n",
       "4273   2016-11-07 18:22:10          香妃红     80B/36B   B\n",
       "10590  2017-10-25 20:42:46           肤色   34/75D=L码   D\n",
       "10161  2017-03-09 00:28:10           肤色     75C/34C   C"
      ]
     },
     "metadata": {},
     "execution_count": 49
    }
   ],
   "metadata": {}
  },
  {
   "cell_type": "code",
   "execution_count": 52,
   "source": [
    "# 数据清洗完毕,进行分组统计,并用饼图表现结果\n",
    "cup_count = df2.groupby('cup').count()\n",
    "labels = ['A', 'B', 'C', 'D', 'E']\n",
    "fig, ax = plt.subplots()\n",
    "plt.rcParams['font.sans-serif'] = ['Arial Unicode MS']\n",
    "fig.set_facecolor('#fff')\n",
    "\n",
    "explode=(0, .1, 0, 0, 0)\n",
    "ax.pie(cup_count['productColor'], explode=explode, labels=labels, autopct='%1.1f%%', radius=1.2, startangle=0)\n",
    "ax.set(aspect='equal')"
   ],
   "outputs": [
    {
     "output_type": "execute_result",
     "data": {
      "text/plain": [
       "[None]"
      ]
     },
     "metadata": {},
     "execution_count": 52
    },
    {
     "output_type": "display_data",
     "data": {
      "image/png": "[encoded data removed]",
      "text/plain": [
       "<Figure size 432x288 with 1 Axes>"
      ]
     },
     "metadata": {}
    }
   ],
   "metadata": {}
  },
  {
   "cell_type": "code",
   "execution_count": 63,
   "source": [
    "## DataFrame实现\n",
    "from pandas import DataFrame\n",
    "df = pd.DataFrame({'mass':[0.330, 4.87, 5.97], 'radius':[2439.7, 6051.8, 6378.1]}, index=['Mercury', 'Venus', 'Earth'])\n",
    "plot = df.plot.pie(y='mass', figsize=(5,5), frame=True)\n",
    "plot = df.plot.pie(figsize=(11,6), subplots=True, frame=True)"
   ],
   "outputs": [
    {
     "output_type": "display_data",
     "data": {
      "image/png": "[encoded data removed]",
      "text/plain": [
       "<Figure size 360x360 with 1 Axes>"
      ]
     },
     "metadata": {
      "needs_background": "light"
     }
    },
    {
     "output_type": "display_data",
     "data": {
      "image/png": "[encoded data removed]",
      "text/plain": [
       "<Figure size 792x432 with 2 Axes>"
      ]
     },
     "metadata": {
      "needs_background": "light"
     }
    }
   ],
   "metadata": {}
  },
  {
   "cell_type": "code",
   "execution_count": 64,
   "source": [
    "import matplotlib\n",
    "matplotlib.rcParams['axes.unicode_minus']=False\n",
    "plt.rcParams['font.sans-serif'] = ['Arial Unicode MS']\n",
    "\n",
    "# 生成了服从正态分布的一些数据\n",
    "data = np.random.randn(10000)\n",
    "plt.hist(data, bins=40, density=True, facecolor='b', edgecolor='black', alpha=.7)\n",
    "plt.xlabel('区间')\n",
    "plt.ylabel('频率')\n",
    "plt.title('频数/频率分布直方图')"
   ],
   "outputs": [
    {
     "output_type": "execute_result",
     "data": {
      "text/plain": [
       "Text(0.5, 1.0, '频数/频率分布直方图')"
      ]
     },
     "metadata": {},
     "execution_count": 64
    },
    {
     "output_type": "display_data",
     "data": {
      "image/png": "[encoded data removed]",
      "text/plain": [
       "<Figure size 432x288 with 1 Axes>"
      ]
     },
     "metadata": {
      "needs_background": "light"
     }
    }
   ],
   "metadata": {}
  },
  {
   "cell_type": "code",
   "execution_count": 65,
   "source": [
    "x = np.random.normal(size=100)\n",
    "n, bins, patches = plt.hist(x)"
   ],
   "outputs": [
    {
     "output_type": "display_data",
     "data": {
      "image/png": "[encoded data removed]",
      "text/plain": [
       "<Figure size 432x288 with 1 Axes>"
      ]
     },
     "metadata": {
      "needs_background": "light"
     }
    }
   ],
   "metadata": {}
  },
  {
   "cell_type": "code",
   "execution_count": 66,
   "source": [
    "n"
   ],
   "outputs": [
    {
     "output_type": "execute_result",
     "data": {
      "text/plain": [
       "array([ 5.,  5., 14., 14., 11., 15., 17., 13.,  5.,  1.])"
      ]
     },
     "metadata": {},
     "execution_count": 66
    }
   ],
   "metadata": {}
  },
  {
   "cell_type": "code",
   "execution_count": 67,
   "source": [
    "bins"
   ],
   "outputs": [
    {
     "output_type": "execute_result",
     "data": {
      "text/plain": [
       "array([-2.08239222, -1.6635099 , -1.24462758, -0.82574526, -0.40686294,\n",
       "        0.01201938,  0.4309017 ,  0.84978402,  1.26866634,  1.68754866,\n",
       "        2.10643098])"
      ]
     },
     "metadata": {},
     "execution_count": 67
    }
   ],
   "metadata": {}
  },
  {
   "cell_type": "code",
   "execution_count": 68,
   "source": [
    "patches"
   ],
   "outputs": [
    {
     "output_type": "execute_result",
     "data": {
      "text/plain": [
       "<BarContainer object of 10 artists>"
      ]
     },
     "metadata": {},
     "execution_count": 68
    }
   ],
   "metadata": {}
  },
  {
   "cell_type": "code",
   "execution_count": 79,
   "source": [
    "x = np.random.normal(size=100)\n",
    "n, bins, patches = plt.hist(x)\n",
    "# 设置第一个矩形\n",
    "plt.setp(patches[0], 'facecolor', 'g')\n",
    "# 获取频数最高的矩形\n",
    "max_index = np.where(n==np.max(n))[0][0]\n",
    "# 频数最高的矩形设置颜色\n",
    "plt.setp(patches[max_index], facecolor='r')"
   ],
   "outputs": [
    {
     "output_type": "execute_result",
     "data": {
      "text/plain": [
       "[None]"
      ]
     },
     "metadata": {},
     "execution_count": 79
    },
    {
     "output_type": "display_data",
     "data": {
      "image/png": "[encoded data removed]",
      "text/plain": [
       "<Figure size 432x288 with 1 Axes>"
      ]
     },
     "metadata": {
      "needs_background": "light"
     }
    }
   ],
   "metadata": {}
  },
  {
   "cell_type": "code",
   "execution_count": 84,
   "source": [
    "## 智商的高斯分布\n",
    "np.random.seed(19680801)\n",
    "\n",
    "\n",
    "mu, sigma = 100, 15 # 分别表示平均数和标准差\n",
    "x = mu + sigma * np.random.randn(10000)\n",
    "\n",
    "# 绘制直方图,并得到返回值\n",
    "n, bins, patches = plt.hist(x, 50, density=True, facecolor='g', alpha=.75)\n",
    "\n",
    "# 设置坐标系\n",
    "plt.xlabel('Smarts')\n",
    "plt.ylabel('Probability')\n",
    "plt.title('Histogram of IQ')\n",
    "plt.text(60, .025, r'$\\mu=100,\\ \\sigma=15$')\n",
    "plt.axis([40, 160, 0, 0.03])\n",
    "plt.grid(True)"
   ],
   "outputs": [
    {
     "output_type": "display_data",
     "data": {
      "image/png": "[encoded data removed]",
      "text/plain": [
       "<Figure size 432x288 with 1 Axes>"
      ]
     },
     "metadata": {
      "needs_background": "light"
     }
    }
   ],
   "metadata": {}
  },
  {
   "cell_type": "code",
   "execution_count": 85,
   "source": [
    "# 反映拉普拉斯分布\n",
    "np.random.seed(444)\n",
    "d = np.random.laplace(loc=15, scale=3, size=500)\n",
    "n, bins, patches = plt.hist(x=d, bins='auto', color='#0504aa', alpha=.7, rwidth=.85)\n",
    "\n",
    "plt.grid(axis='y', alpha=.75)\n",
    "plt.xlabel('Value')\n",
    "plt.ylabel('Frequency')\n",
    "plt.title('My Very Own Histogram')\n",
    "plt.text(23, 45, r'$\\mu=15, b=3$')\n",
    "maxfreq=n.max()\n",
    "plt.ylim(top=np.ceil(maxfreq/10)*10 if maxfreq % 10 else maxfreq + 10)"
   ],
   "outputs": [
    {
     "output_type": "execute_result",
     "data": {
      "text/plain": [
       "(0.0, 80.0)"
      ]
     },
     "metadata": {},
     "execution_count": 85
    },
    {
     "output_type": "display_data",
     "data": {
      "image/png": "[encoded data removed]",
      "text/plain": [
       "<Figure size 432x288 with 1 Axes>"
      ]
     },
     "metadata": {
      "needs_background": "light"
     }
    }
   ],
   "metadata": {}
  },
  {
   "cell_type": "code",
   "execution_count": 86,
   "source": [
    "# Matplotlib KDE可视化\n",
    "means = 10, 20\n",
    "stdevs = 4, 2\n",
    "dist = pd.DataFrame(np.random.normal(loc=means, scale=stdevs, size=(1000, 2)), columns=['a','b'])\n",
    "dist.agg(['min', 'max', 'mean', 'std']).round(decimals=2)"
   ],
   "outputs": [
    {
     "output_type": "execute_result",
     "data": {
      "text/html": [
       "<div>\n",
       "<style scoped>\n",
       "    .dataframe tbody tr th:only-of-type {\n",
       "        vertical-align: middle;\n",
       "    }\n",
       "\n",
       "    .dataframe tbody tr th {\n",
       "        vertical-align: top;\n",
       "    }\n",
       "\n",
       "    .dataframe thead th {\n",
       "        text-align: right;\n",
       "    }\n",
       "</style>\n",
       "<table border=\"1\" class=\"dataframe\">\n",
       "  <thead>\n",
       "    <tr style=\"text-align: right;\">\n",
       "      <th></th>\n",
       "      <th>a</th>\n",
       "      <th>b</th>\n",
       "    </tr>\n",
       "  </thead>\n",
       "  <tbody>\n",
       "    <tr>\n",
       "      <th>min</th>\n",
       "      <td>-2.93</td>\n",
       "      <td>14.40</td>\n",
       "    </tr>\n",
       "    <tr>\n",
       "      <th>max</th>\n",
       "      <td>22.58</td>\n",
       "      <td>27.08</td>\n",
       "    </tr>\n",
       "    <tr>\n",
       "      <th>mean</th>\n",
       "      <td>9.58</td>\n",
       "      <td>19.93</td>\n",
       "    </tr>\n",
       "    <tr>\n",
       "      <th>std</th>\n",
       "      <td>4.18</td>\n",
       "      <td>1.92</td>\n",
       "    </tr>\n",
       "  </tbody>\n",
       "</table>\n",
       "</div>"
      ],
      "text/plain": [
       "          a      b\n",
       "min   -2.93  14.40\n",
       "max   22.58  27.08\n",
       "mean   9.58  19.93\n",
       "std    4.18   1.92"
      ]
     },
     "metadata": {},
     "execution_count": 86
    }
   ],
   "metadata": {}
  },
  {
   "cell_type": "code",
   "execution_count": 87,
   "source": [
    "# 使用 DataFrame 对象中的 DataFrame.plot.kde 实现 KDE,并绘制相应的 PDF 曲线\n",
    "fig, ax = plt.subplots()\n",
    "# 绘制直方图\n",
    "dist.plot.hist(density=True, ax=ax) # 1.\n",
    "# 实现 KDE,并同时作图\n",
    "dist.plot.kde(ax=ax, legend=False, title='Histogram: A vs. B') # 2.\n",
    "\n",
    "ax.set_ylabel('Probability')\n",
    "ax.grid(axis='y')\n",
    "ax.set_facecolor('#d8dcd6')"
   ],
   "outputs": [
    {
     "output_type": "display_data",
     "data": {
      "image/png": "[encoded data removed]",
      "text/plain": [
       "<Figure size 432x288 with 1 Axes>"
      ]
     },
     "metadata": {
      "needs_background": "light"
     }
    }
   ],
   "metadata": {}
  },
  {
   "cell_type": "code",
   "execution_count": null,
   "source": [],
   "outputs": [],
   "metadata": {}
  }
 ],
 "metadata": {
  "orig_nbformat": 4,
  "language_info": {
   "name": "python",
   "version": "3.9.5",
   "mimetype": "text/x-python",
   "codemirror_mode": {
    "name": "ipython",
    "version": 3
   },
   "pygments_lexer": "ipython3",
   "nbconvert_exporter": "python",
   "file_extension": ".py"
  },
  "kernelspec": {
   "name": "python3",
   "display_name": "Python 3.9.5 64-bit"
  },
  "interpreter": {
   "hash": "5cf53de3813216cb4783f6412eb339fef4fdabd54508af35145546354c08cf85"
  }
 },
 "nbformat": 4,
 "nbformat_minor": 2
}