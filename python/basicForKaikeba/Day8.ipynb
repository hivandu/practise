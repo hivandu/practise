{
 "cells": [
  {
   "cell_type": "code",
   "execution_count": 1,
   "metadata": {},
   "outputs": [
    {
     "ename": "SyntaxError",
     "evalue": "invalid syntax (<ipython-input-1-a69f9c1aba39>, line 1)",
     "output_type": "error",
     "traceback": [
      "\u001b[0;36m  File \u001b[0;32m\"<ipython-input-1-a69f9c1aba39>\"\u001b[0;36m, line \u001b[0;32m1\u001b[0m\n\u001b[0;31m    https://www.google.com/images/branding/googlelogo/1x/googlelogo_color_272x92dp.png\u001b[0m\n\u001b[0m          ^\u001b[0m\n\u001b[0;31mSyntaxError\u001b[0m\u001b[0;31m:\u001b[0m invalid syntax\n"
     ]
    }
   ],
   "source": [
    "https://www.google.com/images/branding/googlelogo/1x/googlelogo_color_272x92dp.png"
   ]
  },
  {
   "cell_type": "code",
   "execution_count": 10,
   "metadata": {},
   "outputs": [
    {
     "data": {
      "text/plain": [
       "['link1.html', 'link5.html']"
      ]
     },
     "execution_count": 10,
     "metadata": {},
     "output_type": "execute_result"
    }
   ],
   "source": [
    "from lxml import etree\n",
    "\n",
    "data_str = \"\"\"\n",
    "    <div> \n",
    "        <ul>\n",
    "            <li class=\"item-0\"><a href=\"link1.html\">first item</a></li>\n",
    "            <li class=\"item-1\"><a href=\"link2.html\">second item</a></li>\n",
    "            <li class=\"item-0\"><a href=\"link5.html\">fifth item</a>\n",
    "            <li class=\"item-inactive\"><a href=\"link3.html\">third item</a></li>\n",
    "            <li class=\"item-1\"><a href=\"link4.html\">fourth item</a></li>\n",
    "        </ul>\n",
    "    </div> \n",
    "    \"\"\"\n",
    "\n",
    "html = etree.HTML(data_str)\n",
    "# html.xpath('//div/ul/li/a/text()')\n",
    "# html.xpath('//div/ul/li[@class=\"item-0\"]/a/text()')\n",
    "html.xpath('//div/ul/li[@class=\"item-0\"]/a/@href')"
   ]
  },
  {
   "cell_type": "code",
   "execution_count": null,
   "metadata": {},
   "outputs": [],
   "source": []
  },
  {
   "cell_type": "code",
   "execution_count": null,
   "metadata": {},
   "outputs": [],
   "source": []
  }
 ],
 "metadata": {
  "kernelspec": {
   "display_name": "Python 3",
   "language": "python",
   "name": "python3"
  },
  "language_info": {
   "codemirror_mode": {
    "name": "ipython",
    "version": 3
   },
   "file_extension": ".py",
   "mimetype": "text/x-python",
   "name": "python",
   "nbconvert_exporter": "python",
   "pygments_lexer": "ipython3",
   "version": "3.8.3"
  }
 },
 "nbformat": 4,
 "nbformat_minor": 4
}
