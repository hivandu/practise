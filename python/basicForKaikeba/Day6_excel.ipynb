{
 "cells": [
  {
   "cell_type": "code",
   "execution_count": 2,
   "metadata": {},
   "outputs": [
    {
     "data": {
      "text/plain": [
       "'/Users/du/Desktop'"
      ]
     },
     "execution_count": 2,
     "metadata": {},
     "output_type": "execute_result"
    }
   ],
   "source": [
    "# 推荐使用的方法\n",
    "path = '/Users/du/Desktop'\n",
    "path"
   ]
  },
  {
   "cell_type": "markdown",
   "metadata": {},
   "source": [
    "# 绝对路径和相对路径"
   ]
  },
  {
   "cell_type": "code",
   "execution_count": 3,
   "metadata": {},
   "outputs": [
    {
     "data": {
      "text/plain": [
       "'/Users/du/SynologyDrive/Learn/Python/kaikeba'"
      ]
     },
     "execution_count": 3,
     "metadata": {},
     "output_type": "execute_result"
    }
   ],
   "source": [
    "import os\n",
    "# 当前工作目录\n",
    "os.getcwd()"
   ]
  },
  {
   "cell_type": "code",
   "execution_count": 4,
   "metadata": {},
   "outputs": [],
   "source": [
    "# 1. 模块导入\n",
    "import openpyxl\n",
    "\n",
    "from openpyxl import Workbook"
   ]
  },
  {
   "cell_type": "code",
   "execution_count": 8,
   "metadata": {},
   "outputs": [],
   "source": [
    "wb = Workbook()\n",
    "ws = wb.active\n",
    "ws.title = \"激活\"\n",
    "wb.save('./work1.xlsx')"
   ]
  },
  {
   "cell_type": "code",
   "execution_count": 9,
   "metadata": {},
   "outputs": [],
   "source": [
    "ws = wb.create_sheet('ws1',0)\n",
    "ws2 = wb.create_sheet('ws2')\n",
    "ws3 = wb.create_sheet('ws3',-1)\n",
    "wb.save('./work2.xlsx')"
   ]
  },
  {
   "cell_type": "code",
   "execution_count": 13,
   "metadata": {},
   "outputs": [],
   "source": [
    "# 读取文件和表内容\n",
    "from openpyxl import load_workbook\n",
    "wb = load_workbook('./work2.xlsx')"
   ]
  },
  {
   "cell_type": "code",
   "execution_count": 16,
   "metadata": {},
   "outputs": [
    {
     "name": "stdout",
     "output_type": "stream",
     "text": [
      "['默认', '激活', 'ws3', 'ws2']\n",
      "['默认', '激活', 'ws3', 'ws2']\n",
      "['表一', '激活', 'ws3', 'ws2']\n"
     ]
    }
   ],
   "source": [
    "# 文件对象常用属性和方法\n",
    "print(wb.sheetnames)\n",
    "default = wb.active\n",
    "default.title = '默认'\n",
    "wb.save('./work2.xlsx')\n",
    "print(wb.sheetnames)\n",
    "## 根据表名获取表\n",
    "sheet = wb['默认']\n",
    "sheet.title = '表一'\n",
    "wb.save('./work2.xlsx')\n",
    "print(wb.sheetnames)"
   ]
  },
  {
   "cell_type": "code",
   "execution_count": 17,
   "metadata": {},
   "outputs": [
    {
     "name": "stdout",
     "output_type": "stream",
     "text": [
      "行数: 7\n",
      "列数: 2\n",
      "一列： (<Cell '读'.A1>, <Cell '读'.A2>, <Cell '读'.A3>, <Cell '读'.A4>, <Cell '读'.A5>, <Cell '读'.A6>, <Cell '读'.A7>)\n",
      "一个单元格: <Cell '读'.A1>\n",
      "A1的值: 1\n"
     ]
    }
   ],
   "source": [
    "## 读取表中数据\n",
    "wb = load_workbook('./读写.xlsx')\n",
    "sheet = wb['读']\n",
    "print('行数:', sheet.max_row)\n",
    "print('列数:', sheet.max_column)\n",
    "one_column = sheet['A']\n",
    "print('一列：', one_column)\n",
    "one_cell = sheet['A1']\n",
    "print('一个单元格:', one_cell)\n",
    "print('A1的值:', one_cell.value)"
   ]
  },
  {
   "cell_type": "code",
   "execution_count": 30,
   "metadata": {},
   "outputs": [],
   "source": [
    "## 向表中写入数据\n",
    "wb = load_workbook('./读写.xlsx')\n",
    "sheet = wb['写']\n",
    "sheet['A1'].value = 'A1'\n",
    "## 写入一列\n",
    "for i in range(1,11):\n",
    "   sheet['A{}'.format(i)].value = i+i\n",
    "wb.save('./读写.xlsx')\n",
    "## 写入一行\n",
    "for j in range(1,11):\n",
    "    sheet.cell(row=11, column=j, value=j+j)\n",
    "wb.save('./读写.xlsx')"
   ]
  },
  {
   "cell_type": "code",
   "execution_count": 11,
   "metadata": {},
   "outputs": [
    {
     "name": "stdout",
     "output_type": "stream",
     "text": [
      "9269\n",
      "18\n"
     ]
    }
   ],
   "source": [
    "# 案例\n",
    "## 4.1 添加列数据\n",
    "from openpyxl import load_workbook\n",
    "wb = load_workbook('./案例.xlsx')\n",
    "sheet = wb['订单']\n",
    "\n",
    "print(sheet.max_row)\n",
    "print(sheet.max_column)"
   ]
  },
  {
   "cell_type": "code",
   "execution_count": 12,
   "metadata": {},
   "outputs": [],
   "source": [
    "## 获取单价和数量这两个列的值，并添加销售额列\n",
    "sheet.cell(row=1,column=19,value='销售额')\n",
    "## 获取列数据\n",
    "for row_index in range(2, sheet.max_row+1):\n",
    "    ## 单价数据\n",
    "    one_price = sheet.cell(row=row_index,column=17).value\n",
    "    ## 获取数据\n",
    "    one_num = sheet.cell(row=row_index,column=18).value\n",
    "    if one_price == None or one_num == None:\n",
    "        sheet.cell(row=row_index,column=19).value=None\n",
    "    else:\n",
    "        sheet.cell(row=row_index,column=19).value = one_price*one_num\n",
    "wb.save('./datafile/案例.xlsx')"
   ]
  },
  {
   "cell_type": "code",
   "execution_count": 14,
   "metadata": {},
   "outputs": [],
   "source": [
    "## 绘制图形\n",
    "from openpyxl import workbook\n",
    "from openpyxl import load_workbook\n",
    "from openpyxl.chart import BarChart, Reference\n",
    "\n",
    "wb = load_workbook('./datafile/案例.xlsx')\n",
    "sheet = wb['各省销量']\n",
    "\n",
    "## 创建柱状图对象\n",
    "bar_chart = BarChart()\n",
    "\n",
    "lables = Reference(sheet, min_row = 2, max_row = 32, min_col = 1, max_col = 1)\n",
    "data = Reference(sheet, min_row = 2, max_row = 32, min_col = 2, max_col = 2)\n",
    "\n",
    "bar_chart.add_data(data)\n",
    "bar_chart.set_categories(lables) # 设置图例\n",
    "## 设置标题\n",
    "bar_chart.x_axis.title=\"Test\"\n",
    "bar_chart.y_axis.title = \"Percentage\"\n",
    "## 设置宽高\n",
    "bar_chart.width = 18\n",
    "bar_chart.height = 18\n",
    "## 设置图标题\n",
    "bar_chart.title=\"柱状图\"\n",
    "sheet.add_chart(bar_chart, 'D10')\n",
    "wb.save('./datafile/案例.xlsx')"
   ]
  },
  {
   "cell_type": "code",
   "execution_count": 15,
   "metadata": {},
   "outputs": [],
   "source": [
    "## 添加图片\n",
    "from openpyxl.drawing.image import Image\n",
    "wb = load_workbook('./datafile/案例.xlsx')\n",
    "sheet = wb['各省销量']\n",
    "img = Image('./datafile/1.png')\n",
    "sheet.add_image(img, 'D27')\n",
    "wb.save('./datafile/案例.xlsx')"
   ]
  },
  {
   "cell_type": "code",
   "execution_count": 5,
   "metadata": {},
   "outputs": [],
   "source": [
    "## 修改单元格样式\n",
    "from openpyxl.styles import Alignment, Border, Side, Font\n",
    "from openpyxl.styles.fills import GradientFill\n",
    "wb = load_workbook('./datafile/案例.xlsx')\n",
    "sheet = wb['各省销量']\n",
    "## 设置单元格字体\n",
    "sheet['A1'].font = Font(name='黑体', size = 36, bold = True, color = 'FFaa8844')\n",
    "## 填充渐变色\n",
    "sheet['B1'].fill = GradientFill(stop=('00ffff', '0000ff'))\n",
    "wb.save('./datafile/案例.xlsx')"
   ]
  },
  {
   "cell_type": "code",
   "execution_count": 6,
   "metadata": {},
   "outputs": [],
   "source": [
    "## 创建一个工作簿，然后创建100张工作表\n",
    "from openpyxl import Workbook"
   ]
  },
  {
   "cell_type": "code",
   "execution_count": 7,
   "metadata": {},
   "outputs": [],
   "source": [
    "path = './test1.xlsx'\n",
    "wb = Workbook()\n",
    "wb.remove(wb.active)\n",
    "for i in range(1,101):\n",
    "    wb.create_sheet(f'第{i}张表')\n",
    "wb.save(path)"
   ]
  },
  {
   "cell_type": "code",
   "execution_count": null,
   "metadata": {},
   "outputs": [],
   "source": []
  }
 ],
 "metadata": {
  "kernelspec": {
   "display_name": "Python 3",
   "language": "python",
   "name": "python3"
  },
  "language_info": {
   "codemirror_mode": {
    "name": "ipython",
    "version": 3
   },
   "file_extension": ".py",
   "mimetype": "text/x-python",
   "name": "python",
   "nbconvert_exporter": "python",
   "pygments_lexer": "ipython3",
   "version": "3.8.3"
  }
 },
 "nbformat": 4,
 "nbformat_minor": 4
}
