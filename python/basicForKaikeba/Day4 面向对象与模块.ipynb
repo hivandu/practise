{
 "cells": [
  {
   "cell_type": "code",
   "execution_count": 1,
   "metadata": {},
   "outputs": [],
   "source": [
    "# 面向对象\n",
    "std1 = {'name':'curry', 'score': 98}\n",
    "std2 = {'name':'James', 'score': 81}"
   ]
  },
  {
   "cell_type": "code",
   "execution_count": 2,
   "metadata": {},
   "outputs": [
    {
     "name": "stdout",
     "output_type": "stream",
     "text": [
      "Simon Du,99\n"
     ]
    }
   ],
   "source": [
    "def print_score(std):\n",
    "    print('%s,%s' %(std['name'], std['score']))\n",
    "    \n",
    "## 先创建出学生对应的对象\n",
    "class Student(object):\n",
    "    def __init__(self,name,score):\n",
    "        self.name = name\n",
    "        self.score = score\n",
    "    def print_score(self):\n",
    "        print('%s,%s' %(self.name, self.score))\n",
    "\n",
    "bart = Student('Bart Simpson', 97)\n",
    "lisa = Student('Lisa Simpson', 87)\n",
    "simon = Student('Simon Du', 99)\n",
    "simon.print_score()"
   ]
  },
  {
   "cell_type": "code",
   "execution_count": 3,
   "metadata": {},
   "outputs": [
    {
     "name": "stdout",
     "output_type": "stream",
     "text": [
      "<__main__.Hero object at 0x7fb600b4df10>\n",
      "self各不同，对象是出处\n",
      "<__main__.Hero object at 0x7fb600b4df10>\n"
     ]
    }
   ],
   "source": [
    "# 定义类和创建对象\n",
    "class Hero(object):\n",
    "    def info(self):\n",
    "        print(self)\n",
    "        print('self各不同，对象是出处')\n",
    "\n",
    "hero = Hero()\n",
    "hero.info()\n",
    "print(hero)"
   ]
  },
  {
   "cell_type": "code",
   "execution_count": 6,
   "metadata": {},
   "outputs": [
    {
     "name": "stdout",
     "output_type": "stream",
     "text": [
      "英雄德玛西亚的生命值:2600\n"
     ]
    }
   ],
   "source": [
    "# 添加和获取对象的属性\n",
    "\n",
    "class Hero(object):\n",
    "    def move(self):\n",
    "        print('正在前往事发地点...')\n",
    "    def info(self):\n",
    "        print(\"英雄%s的生命值:%d\"%(self.name, self.hp))\n",
    "\n",
    "hero = Hero()\n",
    "\n",
    "hero.name = '德玛西亚'\n",
    "hero.hp = 2600\n",
    "hero.info()"
   ]
  },
  {
   "cell_type": "code",
   "execution_count": null,
   "metadata": {},
   "outputs": [],
   "source": []
  },
  {
   "cell_type": "code",
   "execution_count": 5,
   "metadata": {},
   "outputs": [
    {
     "name": "stdout",
     "output_type": "stream",
     "text": [
      "正在前往事发地点...\n"
     ]
    }
   ],
   "source": [
    "hero.move()"
   ]
  },
  {
   "cell_type": "code",
   "execution_count": 7,
   "metadata": {},
   "outputs": [
    {
     "name": "stdout",
     "output_type": "stream",
     "text": [
      "<__main__.Hero object at 0x7fb600b4a370>\n"
     ]
    }
   ],
   "source": [
    "# 有参数的init()方法\n",
    "class Hero(object):\n",
    "\tdef __init__(self,name,hp):\n",
    "\t\tself.name = name\n",
    "\t\tself.hp = hp\n",
    "\tdef move(self):\n",
    "\t\tprint(\"%s it's moving...\"%(self.name,))\n",
    "\tdef info(self):\n",
    "\t\tprint(\"Hero %s 's hp is :%d\"%(self.name,self.hp))\n",
    "        \n",
    "bind = Hero('Simon', 2600)\n",
    "gailun = Hero('Hivan', 4200)\n",
    "print(bind)"
   ]
  },
  {
   "cell_type": "code",
   "execution_count": 8,
   "metadata": {},
   "outputs": [
    {
     "name": "stdout",
     "output_type": "stream",
     "text": [
      "140419672670832\n"
     ]
    }
   ],
   "source": [
    "print(id(bind.name))"
   ]
  },
  {
   "cell_type": "code",
   "execution_count": 9,
   "metadata": {},
   "outputs": [
    {
     "name": "stdout",
     "output_type": "stream",
     "text": [
      "140419672670704\n"
     ]
    }
   ],
   "source": [
    "print(id(gailun.name))"
   ]
  },
  {
   "cell_type": "code",
   "execution_count": 10,
   "metadata": {},
   "outputs": [
    {
     "name": "stdout",
     "output_type": "stream",
     "text": [
      "Simon it's moving...\n",
      "4368857848\n",
      "Hivan it's moving...\n",
      "4368857848\n"
     ]
    }
   ],
   "source": [
    "print(id(bind.move()))\n",
    "print(id(gailun.move()))"
   ]
  },
  {
   "cell_type": "code",
   "execution_count": 1,
   "metadata": {},
   "outputs": [
    {
     "name": "stdout",
     "output_type": "stream",
     "text": [
      "10\n",
      "20\n"
     ]
    }
   ],
   "source": [
    "# 继承\n",
    "## 父类\n",
    "\n",
    "class A(object):\n",
    "    def __init__(self):\n",
    "        self.num = 10\n",
    "    def print_num(self):\n",
    "        print(self.num + 10)\n",
    "\n",
    "## 子类\n",
    "class B(A):\n",
    "    pass\n",
    "\n",
    "b = B()\n",
    "print(b.num)\n",
    "b.print_num()"
   ]
  },
  {
   "cell_type": "code",
   "execution_count": 2,
   "metadata": {},
   "outputs": [
    {
     "name": "stdout",
     "output_type": "stream",
     "text": [
      "nvwa\n",
      "<nvwa> make a person...\n"
     ]
    }
   ],
   "source": [
    "# 单继承\n",
    "class Person(object):\n",
    "    def __init__(self):\n",
    "        self.name = 'nvwa'\n",
    "    def make_person(self):\n",
    "        print('<%s> make a person...'%self.name)\n",
    "class Teacher(Person):\n",
    "    pass\n",
    "panda = Teacher()\n",
    "print(panda.name)\n",
    "panda.make_person()"
   ]
  },
  {
   "cell_type": "code",
   "execution_count": 7,
   "metadata": {},
   "outputs": [
    {
     "name": "stdout",
     "output_type": "stream",
     "text": [
      "yadang\n",
      "<yadang> make a person...\n",
      "move...\n",
      "run...\n"
     ]
    }
   ],
   "source": [
    "# 多继承\n",
    "class women(object):\n",
    "    def __init__(self):\n",
    "        self.name = 'nawa'\n",
    "    def make_person(self):\n",
    "        print('<%s> make a person...'%self.name)\n",
    "    def move(self):\n",
    "        print('move...')\n",
    "class Man(object):\n",
    "    def __init__(self):\n",
    "        self.name = 'yadang'\n",
    "    def make_person(self):\n",
    "        print('<%s> make a person...'%self.name)\n",
    "    def run(self):\n",
    "        print('run...')\n",
    "class Person(Man,women):\n",
    "    pass\n",
    "ls = Person()\n",
    "print(ls.name)\n",
    "ls.make_person()\n",
    "ls.move()\n",
    "ls.run()"
   ]
  },
  {
   "cell_type": "code",
   "execution_count": 12,
   "metadata": {},
   "outputs": [
    {
     "name": "stdout",
     "output_type": "stream",
     "text": [
      "Dog is running...\n",
      "Cat is running...\n"
     ]
    }
   ],
   "source": [
    "# 多态\n",
    "class Animal(object):\n",
    "    def run(self):\n",
    "        print('Animal is running...')\n",
    "class Dog(Animal):\n",
    "    def run(self):\n",
    "        print('Dog is running...')\n",
    "class Cat(Animal):\n",
    "    def run(self):\n",
    "        print('Cat is running...')\n",
    "def run_twice(animal):\n",
    "    animal.run()\n",
    "    \n",
    "dog = Dog()\n",
    "cat = Cat()\n",
    "run_twice(dog)\n",
    "run_twice(cat)"
   ]
  },
  {
   "cell_type": "code",
   "execution_count": 13,
   "metadata": {},
   "outputs": [
    {
     "name": "stdout",
     "output_type": "stream",
     "text": [
      "I am a function\n"
     ]
    }
   ],
   "source": [
    "# 自定义模块的使用\n",
    "__all__ = ['g_num', 'show']\n",
    "## 指定__all__表示from模块名import * 只能使用指定的功能代码，而不是所有的功能代码\n",
    "\n",
    "## 定义全局变量\n",
    "g_num = 10\n",
    "\n",
    "## 定义函数\n",
    "def show():\n",
    "    print('I am a function')\n",
    "## 定义类\n",
    "class Student(object):\n",
    "    def __init__(self,name,age):\n",
    "        self.name =name\n",
    "        self.age = age\n",
    "    def show_msg(self):\n",
    "        print(self.name,self.age)\n",
    "## 解决导入的模块中方法没有调用就会执行\n",
    "if __name__ == '__main__':\n",
    "    show()"
   ]
  },
  {
   "cell_type": "code",
   "execution_count": 16,
   "metadata": {},
   "outputs": [
    {
     "name": "stdout",
     "output_type": "stream",
     "text": [
      "10\n",
      "I am a function\n",
      "李四 20\n"
     ]
    }
   ],
   "source": [
    "import first_module\n",
    "print(first_module.g_num)\n",
    "first_module.show()\n",
    "stu = first_module.Student('李四',20)\n",
    "stu.show_msg()"
   ]
  },
  {
   "cell_type": "code",
   "execution_count": 17,
   "metadata": {},
   "outputs": [
    {
     "data": {
      "text/plain": [
       "['__doc__',\n",
       " '__file__',\n",
       " '__loader__',\n",
       " '__name__',\n",
       " '__package__',\n",
       " '__spec__',\n",
       " 'acos',\n",
       " 'acosh',\n",
       " 'asin',\n",
       " 'asinh',\n",
       " 'atan',\n",
       " 'atan2',\n",
       " 'atanh',\n",
       " 'ceil',\n",
       " 'comb',\n",
       " 'copysign',\n",
       " 'cos',\n",
       " 'cosh',\n",
       " 'degrees',\n",
       " 'dist',\n",
       " 'e',\n",
       " 'erf',\n",
       " 'erfc',\n",
       " 'exp',\n",
       " 'expm1',\n",
       " 'fabs',\n",
       " 'factorial',\n",
       " 'floor',\n",
       " 'fmod',\n",
       " 'frexp',\n",
       " 'fsum',\n",
       " 'gamma',\n",
       " 'gcd',\n",
       " 'hypot',\n",
       " 'inf',\n",
       " 'isclose',\n",
       " 'isfinite',\n",
       " 'isinf',\n",
       " 'isnan',\n",
       " 'isqrt',\n",
       " 'ldexp',\n",
       " 'lgamma',\n",
       " 'log',\n",
       " 'log10',\n",
       " 'log1p',\n",
       " 'log2',\n",
       " 'modf',\n",
       " 'nan',\n",
       " 'perm',\n",
       " 'pi',\n",
       " 'pow',\n",
       " 'prod',\n",
       " 'radians',\n",
       " 'remainder',\n",
       " 'sin',\n",
       " 'sinh',\n",
       " 'sqrt',\n",
       " 'tan',\n",
       " 'tanh',\n",
       " 'tau',\n",
       " 'trunc']"
      ]
     },
     "execution_count": 17,
     "metadata": {},
     "output_type": "execute_result"
    }
   ],
   "source": [
    "# Math 模块\n",
    "import math\n",
    "dir(math)"
   ]
  },
  {
   "cell_type": "code",
   "execution_count": 25,
   "metadata": {},
   "outputs": [
    {
     "name": "stdout",
     "output_type": "stream",
     "text": [
      "3\n",
      "5\n",
      "3.52\n",
      "81.0\n",
      "5.0\n",
      "0.23\n",
      "2\n"
     ]
    }
   ],
   "source": [
    "r = math.floor(3.2)\n",
    "print(r)\n",
    "r = math.ceil(4.1)\n",
    "print(r)\n",
    "r = round(3.5228,2)\n",
    "print(r)\n",
    "r = math.pow(3,4)\n",
    "print(r)\n",
    "r = math.sqrt(25)\n",
    "print(r)\n",
    "r = math.fabs(-0.23)\n",
    "print(r)\n",
    "r = abs(-2)\n",
    "print(r)"
   ]
  },
  {
   "cell_type": "code",
   "execution_count": 26,
   "metadata": {},
   "outputs": [
    {
     "data": {
      "text/plain": [
       "1600707354.121056"
      ]
     },
     "execution_count": 26,
     "metadata": {},
     "output_type": "execute_result"
    }
   ],
   "source": [
    "import time\n",
    "ticks = time.time()\n",
    "ticks"
   ]
  },
  {
   "cell_type": "code",
   "execution_count": 28,
   "metadata": {},
   "outputs": [
    {
     "name": "stdout",
     "output_type": "stream",
     "text": [
      "本地时间为: time.struct_time(tm_year=2020, tm_mon=9, tm_mday=22, tm_hour=0, tm_min=56, tm_sec=35, tm_wday=1, tm_yday=266, tm_isdst=0)\n"
     ]
    }
   ],
   "source": [
    "localtime = time.localtime(time.time())\n",
    "print('本地时间为:',localtime)"
   ]
  },
  {
   "cell_type": "code",
   "execution_count": 29,
   "metadata": {},
   "outputs": [
    {
     "name": "stdout",
     "output_type": "stream",
     "text": [
      "2020-09-22 00:57:14\n"
     ]
    }
   ],
   "source": [
    "print(time.strftime('%Y-%m-%d %H:%M:%S', time.localtime()))"
   ]
  },
  {
   "cell_type": "code",
   "execution_count": 30,
   "metadata": {},
   "outputs": [
    {
     "name": "stdout",
     "output_type": "stream",
     "text": [
      "Tue Sep 22 00:57:54 2020\n"
     ]
    }
   ],
   "source": [
    "print(time.strftime('%a %b %d %H:%M:%S %Y', time.localtime()))"
   ]
  },
  {
   "cell_type": "code",
   "execution_count": null,
   "metadata": {},
   "outputs": [],
   "source": []
  },
  {
   "cell_type": "code",
   "execution_count": null,
   "metadata": {},
   "outputs": [],
   "source": []
  },
  {
   "cell_type": "code",
   "execution_count": null,
   "metadata": {},
   "outputs": [],
   "source": []
  },
  {
   "cell_type": "code",
   "execution_count": null,
   "metadata": {},
   "outputs": [],
   "source": []
  },
  {
   "cell_type": "code",
   "execution_count": null,
   "metadata": {},
   "outputs": [],
   "source": []
  },
  {
   "cell_type": "code",
   "execution_count": null,
   "metadata": {},
   "outputs": [],
   "source": []
  },
  {
   "cell_type": "code",
   "execution_count": null,
   "metadata": {},
   "outputs": [],
   "source": []
  },
  {
   "cell_type": "code",
   "execution_count": null,
   "metadata": {},
   "outputs": [],
   "source": []
  },
  {
   "cell_type": "code",
   "execution_count": null,
   "metadata": {},
   "outputs": [],
   "source": []
  }
 ],
 "metadata": {
  "kernelspec": {
   "display_name": "Python 3",
   "language": "python",
   "name": "python3"
  },
  "language_info": {
   "codemirror_mode": {
    "name": "ipython",
    "version": 3
   },
   "file_extension": ".py",
   "mimetype": "text/x-python",
   "name": "python",
   "nbconvert_exporter": "python",
   "pygments_lexer": "ipython3",
   "version": "3.8.3"
  }
 },
 "nbformat": 4,
 "nbformat_minor": 4
}
