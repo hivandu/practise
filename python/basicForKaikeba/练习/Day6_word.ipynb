{
 "cells": [
  {
   "cell_type": "code",
   "execution_count": 10,
   "metadata": {},
   "outputs": [
    {
     "name": "stdout",
     "output_type": "stream",
     "text": [
      "看似很不经意的细节其实透露出别有用意的风向\n",
      "********************\n",
      "2020庚子之年，北京应已走出非常时期，中国人正在努力抗洪救灾，但环顾世界，新的风向正在悄悄改变。\n",
      "********************\n",
      "最近的三个小细节吧。\n",
      "********************\n",
      "\n",
      "********************\n",
      "\n",
      "********************\n",
      "\n",
      "********************\n",
      "看似很 ===\n",
      "不经意的细节 ===\n",
      "其实透露出别有用意的风向 ===\n",
      "一共有4个的\n"
     ]
    }
   ],
   "source": [
    "# 引入所需文件\n",
    "import pandas as pd ## pandas库，用来读取excel表格\n",
    "from docx import Document ## Document用来处理word文件\n",
    "\n",
    "# 定义替换函数\n",
    "# def replace_text(old_text, new_text):\n",
    "#     ## 读取所有的自然段\n",
    "#     all_paragraphs = document.paragraphs\n",
    "#     ## 读取每个自然段\n",
    "#     for paragraph in all_paragraphs:\n",
    "#         ## 循环读取所有的run(格式排版内容的东西统称)\n",
    "#         for run in paragraph.runs:\n",
    "#             ## 进行新旧文本的替换\n",
    "#             run_text = run.text.replace(old_text, new_text)\n",
    "#             ## 进行新旧文本的替换\n",
    "#             run.text = run_text\n",
    "\n",
    "doc = Document('./datafile/word1.docx')\n",
    "## 获取所有段落\n",
    "# print(doc.paragraphs)\n",
    "## 获取段落内的文字\n",
    "for paragraph in doc.paragraphs:\n",
    "    print(paragraph.text)\n",
    "    print('*'*20)\n",
    "\n",
    "## 获取每一块\n",
    "runs = doc.paragraphs[0].runs\n",
    "for run in runs:\n",
    "    print(run.text,'===')\n",
    "    \n",
    "str1 = '的'\n",
    "count = 0\n",
    "for paragraph in doc.paragraphs:\n",
    "    if str1 in paragraph.text:\n",
    "        count += paragraph.text.count(str1)\n",
    "print(f'一共有{count}个的')"
   ]
  },
  {
   "cell_type": "code",
   "execution_count": 11,
   "metadata": {},
   "outputs": [
    {
     "name": "stdout",
     "output_type": "stream",
     "text": [
      "1\n",
      "2\n",
      "3\n",
      "4\n",
      "5\n",
      "6\n",
      "7\n",
      "8\n",
      "的\n"
     ]
    }
   ],
   "source": [
    "## 获取表格\n",
    "doc = Document('./datafile/word2.docx')\n",
    "tables = doc.tables\n",
    "## 获取单元格内容\n",
    "for table in tables:\n",
    "    for row in table.rows:\n",
    "        for cell in row.cells:\n",
    "            print(cell.text)"
   ]
  },
  {
   "cell_type": "code",
   "execution_count": 16,
   "metadata": {},
   "outputs": [
    {
     "name": "stdout",
     "output_type": "stream",
     "text": [
      "张三\n",
      "1001\n",
      "财务主管\n",
      "20000\n",
      "李四\n",
      "1002\n",
      "数据分析师\n",
      "30000\n",
      "王五\n",
      "1003\n",
      "HR\n",
      "15000\n"
     ]
    }
   ],
   "source": [
    "## 案例练习：通过word模板和Excel批量生成收入证明\n",
    "\n",
    "from openpyxl import load_workbook\n",
    "from docx import Document\n",
    "\n",
    "# 定义文字替换方法\n",
    "def replace_text(old_text,new_text):\n",
    "    # 获取模板中的段落对象\n",
    "    paragraphs = document.paragraphs\n",
    "    \n",
    "    for paragraph in paragraphs: # 获取每一个段落\n",
    "        for run in paragraph.runs: # 获取每一个块\n",
    "            run_text = run.text.replace(old_text, new_text)\n",
    "            run.text = run_text\n",
    "    \n",
    "\n",
    "## 1. 获取Excel数据\n",
    "wb = load_workbook('./datafile/姓名.xlsx')\n",
    "ws = wb.active\n",
    "\n",
    "## 2. 获取行数据\n",
    "for row_num in range(2,ws.max_row+1): # 循环行\n",
    "    # 获取word模板\n",
    "    document = Document('./datafile/模板.docx')\n",
    "    for col_num in range(1,ws.max_column+1):\n",
    "        # 获取\n",
    "        new_text = ws.cell(row=row_num, column=col_num).value\n",
    "        print(new_text)\n",
    "        old_text = ws.cell(row=1, column=col_num).value\n",
    "        replace_text(str(old_text), str(new_text))\n",
    "    \n",
    "    \n",
    "    # 保存\n",
    "    name = ws.cell(row=row_num, column = 1).value\n",
    "    document.save('./datafile/{}.docx'.format(name))"
   ]
  },
  {
   "cell_type": "code",
   "execution_count": null,
   "metadata": {},
   "outputs": [],
   "source": []
  }
 ],
 "metadata": {
  "kernelspec": {
   "display_name": "Python 3",
   "language": "python",
   "name": "python3"
  },
  "language_info": {
   "codemirror_mode": {
    "name": "ipython",
    "version": 3
   },
   "file_extension": ".py",
   "mimetype": "text/x-python",
   "name": "python",
   "nbconvert_exporter": "python",
   "pygments_lexer": "ipython3",
   "version": "3.8.3"
  }
 },
 "nbformat": 4,
 "nbformat_minor": 4
}
