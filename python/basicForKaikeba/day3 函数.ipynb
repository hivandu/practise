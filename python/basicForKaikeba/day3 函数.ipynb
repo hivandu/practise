{
 "cells": [
  {
   "cell_type": "code",
   "execution_count": 20,
   "metadata": {},
   "outputs": [
    {
     "data": {
      "text/plain": [
       "{1: [0, 5], 2: [1, 3], 3: [2, 4]}"
      ]
     },
     "execution_count": 20,
     "metadata": {},
     "output_type": "execute_result"
    }
   ],
   "source": [
    "# 课后拓展\n",
    "## 获取列表中的相同元素的对应的索引，病保存到字典中\n",
    "## 例如：[1,2,3,2,3,1] -> {1:[0,5],2:[1,4],3:[2,3]}\n",
    "\n",
    "list1 = [1,2,3,2,3,1]\n",
    "dic1 = {}\n",
    "for index, value in enumerate(list1):\n",
    "    if value not in dic1.keys():\n",
    "        dic1[value] = []\n",
    "        dic1[value].append(index)\n",
    "    else:\n",
    "        dic1[value].append(index)\n",
    "dic1"
   ]
  },
  {
   "cell_type": "code",
   "execution_count": 1,
   "metadata": {},
   "outputs": [
    {
     "ename": "SyntaxError",
     "evalue": "invalid character in identifier (<ipython-input-1-e9d3213466cd>, line 3)",
     "output_type": "error",
     "traceback": [
      "\u001b[0;36m  File \u001b[0;32m\"<ipython-input-1-e9d3213466cd>\"\u001b[0;36m, line \u001b[0;32m3\u001b[0m\n\u001b[0;31m    code(code前有缩进，tab)\u001b[0m\n\u001b[0m                    ^\u001b[0m\n\u001b[0;31mSyntaxError\u001b[0m\u001b[0;31m:\u001b[0m invalid character in identifier\n"
     ]
    }
   ],
   "source": [
    "# 定义函数\n",
    "#def fun():\n",
    "    # code(code前有缩进，tab)"
   ]
  },
  {
   "cell_type": "code",
   "execution_count": 2,
   "metadata": {},
   "outputs": [
    {
     "name": "stdout",
     "output_type": "stream",
     "text": [
      "Help on built-in function print in module builtins:\n",
      "\n",
      "print(...)\n",
      "    print(value, ..., sep=' ', end='\\n', file=sys.stdout, flush=False)\n",
      "    \n",
      "    Prints the values to a stream, or to sys.stdout by default.\n",
      "    Optional keyword arguments:\n",
      "    file:  a file-like object (stream); defaults to the current sys.stdout.\n",
      "    sep:   string inserted between values, default a space.\n",
      "    end:   string appended after the last value, default a newline.\n",
      "    flush: whether to forcibly flush the stream.\n",
      "\n"
     ]
    }
   ],
   "source": [
    "help(print)"
   ]
  },
  {
   "cell_type": "code",
   "execution_count": 3,
   "metadata": {},
   "outputs": [
    {
     "data": {
      "text/plain": [
       "25"
      ]
     },
     "execution_count": 3,
     "metadata": {},
     "output_type": "execute_result"
    }
   ],
   "source": [
    "def power(x,n):\n",
    "    s = 1\n",
    "    while n > 0:\n",
    "        n = n-1\n",
    "        s = s*x\n",
    "    return s\n",
    "power(5,2)"
   ]
  },
  {
   "cell_type": "code",
   "execution_count": 4,
   "metadata": {},
   "outputs": [
    {
     "data": {
      "text/plain": [
       "125"
      ]
     },
     "execution_count": 4,
     "metadata": {},
     "output_type": "execute_result"
    }
   ],
   "source": [
    "power(5,3)"
   ]
  },
  {
   "cell_type": "code",
   "execution_count": 7,
   "metadata": {},
   "outputs": [
    {
     "name": "stdout",
     "output_type": "stream",
     "text": [
      "name: Simon\n",
      "gender: M\n",
      "age: 6\n",
      "city: Beijing\n",
      "name: Qiqi\n",
      "gender: F\n",
      "age: 7\n",
      "city: Shanghai\n"
     ]
    }
   ],
   "source": [
    "def enroll(name,gender,age=6,city='Beijing'):\n",
    "    print('name:', name)\n",
    "    print('gender:', gender)\n",
    "    print('age:', age)\n",
    "    print('city:', city)\n",
    "\n",
    "enroll('Simon','M')\n",
    "enroll('Qiqi', 'F', 7, 'Shanghai')"
   ]
  },
  {
   "cell_type": "code",
   "execution_count": 11,
   "metadata": {},
   "outputs": [
    {
     "data": {
      "text/plain": [
       "['end']"
      ]
     },
     "execution_count": 11,
     "metadata": {},
     "output_type": "execute_result"
    }
   ],
   "source": [
    "def add_end(l=None):\n",
    "    if l is None:\n",
    "        l = []\n",
    "    l.append('end')\n",
    "    return l\n",
    "\n",
    "add_end()"
   ]
  },
  {
   "cell_type": "code",
   "execution_count": 12,
   "metadata": {},
   "outputs": [
    {
     "data": {
      "text/plain": [
       "['end']"
      ]
     },
     "execution_count": 12,
     "metadata": {},
     "output_type": "execute_result"
    }
   ],
   "source": [
    "add_end()"
   ]
  },
  {
   "cell_type": "code",
   "execution_count": 13,
   "metadata": {},
   "outputs": [],
   "source": [
    "# 可变参数\n",
    "def calc(numbers):\n",
    "    sum = 0\n",
    "    for n in numbers:\n",
    "        sum = sum + n*n\n",
    "    return sum"
   ]
  },
  {
   "cell_type": "code",
   "execution_count": 14,
   "metadata": {},
   "outputs": [
    {
     "data": {
      "text/plain": [
       "14"
      ]
     },
     "execution_count": 14,
     "metadata": {},
     "output_type": "execute_result"
    }
   ],
   "source": [
    "calc([1,2,3])"
   ]
  },
  {
   "cell_type": "code",
   "execution_count": 15,
   "metadata": {},
   "outputs": [
    {
     "data": {
      "text/plain": [
       "84"
      ]
     },
     "execution_count": 15,
     "metadata": {},
     "output_type": "execute_result"
    }
   ],
   "source": [
    "calc((1,3,5,7))"
   ]
  },
  {
   "cell_type": "code",
   "execution_count": 16,
   "metadata": {},
   "outputs": [
    {
     "ename": "TypeError",
     "evalue": "calc() takes 1 positional argument but 3 were given",
     "output_type": "error",
     "traceback": [
      "\u001b[0;31m---------------------------------------------------------------------------\u001b[0m",
      "\u001b[0;31mTypeError\u001b[0m                                 Traceback (most recent call last)",
      "\u001b[0;32m<ipython-input-16-5ac36f851f34>\u001b[0m in \u001b[0;36m<module>\u001b[0;34m\u001b[0m\n\u001b[1;32m      1\u001b[0m \u001b[0;31m# 如果是可变参数，可以简化成\u001b[0m\u001b[0;34m\u001b[0m\u001b[0;34m\u001b[0m\u001b[0;34m\u001b[0m\u001b[0m\n\u001b[0;32m----> 2\u001b[0;31m \u001b[0mcalc\u001b[0m\u001b[0;34m(\u001b[0m\u001b[0;36m1\u001b[0m\u001b[0;34m,\u001b[0m\u001b[0;36m2\u001b[0m\u001b[0;34m,\u001b[0m\u001b[0;36m3\u001b[0m\u001b[0;34m)\u001b[0m\u001b[0;34m\u001b[0m\u001b[0;34m\u001b[0m\u001b[0m\n\u001b[0m",
      "\u001b[0;31mTypeError\u001b[0m: calc() takes 1 positional argument but 3 were given"
     ]
    }
   ],
   "source": [
    "# 如果是可变参数，可以简化成\n",
    "calc(1,2,3)"
   ]
  },
  {
   "cell_type": "code",
   "execution_count": 17,
   "metadata": {},
   "outputs": [
    {
     "data": {
      "text/plain": [
       "14"
      ]
     },
     "execution_count": 17,
     "metadata": {},
     "output_type": "execute_result"
    }
   ],
   "source": [
    "# 所以，我们吧函数的参数改为可变参数\n",
    "def calc(*numbers):\n",
    "    sum = 0\n",
    "    for n in numbers:\n",
    "        sum = sum + n*n\n",
    "    return sum\n",
    "\n",
    "calc(1,2,3)"
   ]
  },
  {
   "cell_type": "code",
   "execution_count": 18,
   "metadata": {},
   "outputs": [
    {
     "ename": "TypeError",
     "evalue": "can't multiply sequence by non-int of type 'list'",
     "output_type": "error",
     "traceback": [
      "\u001b[0;31m---------------------------------------------------------------------------\u001b[0m",
      "\u001b[0;31mTypeError\u001b[0m                                 Traceback (most recent call last)",
      "\u001b[0;32m<ipython-input-18-a47d1cf5a429>\u001b[0m in \u001b[0;36m<module>\u001b[0;34m\u001b[0m\n\u001b[1;32m      1\u001b[0m \u001b[0mnum\u001b[0m \u001b[0;34m=\u001b[0m \u001b[0;34m[\u001b[0m\u001b[0;36m1\u001b[0m\u001b[0;34m,\u001b[0m\u001b[0;36m2\u001b[0m\u001b[0;34m,\u001b[0m\u001b[0;36m3\u001b[0m\u001b[0;34m]\u001b[0m\u001b[0;34m\u001b[0m\u001b[0;34m\u001b[0m\u001b[0m\n\u001b[0;32m----> 2\u001b[0;31m \u001b[0mcalc\u001b[0m\u001b[0;34m(\u001b[0m\u001b[0mnum\u001b[0m\u001b[0;34m)\u001b[0m\u001b[0;34m\u001b[0m\u001b[0;34m\u001b[0m\u001b[0m\n\u001b[0m",
      "\u001b[0;32m<ipython-input-17-4b443f4ca59d>\u001b[0m in \u001b[0;36mcalc\u001b[0;34m(*numbers)\u001b[0m\n\u001b[1;32m      3\u001b[0m     \u001b[0msum\u001b[0m \u001b[0;34m=\u001b[0m \u001b[0;36m0\u001b[0m\u001b[0;34m\u001b[0m\u001b[0;34m\u001b[0m\u001b[0m\n\u001b[1;32m      4\u001b[0m     \u001b[0;32mfor\u001b[0m \u001b[0mn\u001b[0m \u001b[0;32min\u001b[0m \u001b[0mnumbers\u001b[0m\u001b[0;34m:\u001b[0m\u001b[0;34m\u001b[0m\u001b[0;34m\u001b[0m\u001b[0m\n\u001b[0;32m----> 5\u001b[0;31m         \u001b[0msum\u001b[0m \u001b[0;34m=\u001b[0m \u001b[0msum\u001b[0m \u001b[0;34m+\u001b[0m \u001b[0mn\u001b[0m\u001b[0;34m*\u001b[0m\u001b[0mn\u001b[0m\u001b[0;34m\u001b[0m\u001b[0;34m\u001b[0m\u001b[0m\n\u001b[0m\u001b[1;32m      6\u001b[0m     \u001b[0;32mreturn\u001b[0m \u001b[0msum\u001b[0m\u001b[0;34m\u001b[0m\u001b[0;34m\u001b[0m\u001b[0m\n\u001b[1;32m      7\u001b[0m \u001b[0;34m\u001b[0m\u001b[0m\n",
      "\u001b[0;31mTypeError\u001b[0m: can't multiply sequence by non-int of type 'list'"
     ]
    }
   ],
   "source": [
    "num = [1,2,3]\n",
    "calc(num)"
   ]
  },
  {
   "cell_type": "code",
   "execution_count": 19,
   "metadata": {},
   "outputs": [
    {
     "data": {
      "text/plain": [
       "14"
      ]
     },
     "execution_count": 19,
     "metadata": {},
     "output_type": "execute_result"
    }
   ],
   "source": [
    "calc(*num)"
   ]
  },
  {
   "cell_type": "code",
   "execution_count": 21,
   "metadata": {},
   "outputs": [
    {
     "name": "stdout",
     "output_type": "stream",
     "text": [
      "name: jake age: 24 other: {'city': 'Beijing', 'addr': 'Chaoyang', 'zipcode': 123456}\n"
     ]
    }
   ],
   "source": [
    "# 命名关键字参数\n",
    "def person(name,age,**kw):\n",
    "    if 'city' in kw:\n",
    "        pass\n",
    "    if 'job' in kw:\n",
    "        pass\n",
    "    print('name:',name,'age:',age,'other:',kw)\n",
    "\n",
    "person('jake',24,city=\"Beijing\", addr=\"Chaoyang\", zipcode=123456)"
   ]
  },
  {
   "cell_type": "code",
   "execution_count": 22,
   "metadata": {},
   "outputs": [
    {
     "name": "stdout",
     "output_type": "stream",
     "text": [
      "jack 24 Beijing Engineer\n"
     ]
    }
   ],
   "source": [
    "def person(name,age,*,city,job):\n",
    "    print(name,age,city,job)\n",
    "\n",
    "person('jack',24,city=\"Beijing\", job=\"Engineer\")"
   ]
  },
  {
   "cell_type": "code",
   "execution_count": 28,
   "metadata": {},
   "outputs": [
    {
     "name": "stdout",
     "output_type": "stream",
     "text": [
      "jack 24 () Beijing Engineer\n"
     ]
    }
   ],
   "source": [
    "def person(name,age,*args,city,job):\n",
    "    print(name,age,args,city,job)\n",
    "\n",
    "person('jack',24,city='Beijing',job='Engineer')"
   ]
  },
  {
   "cell_type": "code",
   "execution_count": null,
   "metadata": {},
   "outputs": [],
   "source": [
    "def f1(a,b,c=0,*args,**kw):\n",
    "    print('a=',a,'b=',b,'c=',c,'args=',args,'kw=',kw)"
   ]
  },
  {
   "cell_type": "code",
   "execution_count": 29,
   "metadata": {},
   "outputs": [],
   "source": [
    "def fact(n):\n",
    "    # if n == 1:\n",
    "       # return 1\n",
    "    return n * fact(n-1)"
   ]
  },
  {
   "cell_type": "code",
   "execution_count": 39,
   "metadata": {},
   "outputs": [
    {
     "data": {
      "text/plain": [
       "788657867364790503552363213932185062295135977687173263294742533244359449963403342920304284011984623904177212138919638830257642790242637105061926624952829931113462857270763317237396988943922445621451664240254033291864131227428294853277524242407573903240321257405579568660226031904170324062351700858796178922222789623703897374720000000000000000000000000000000000000000000000000"
      ]
     },
     "execution_count": 39,
     "metadata": {},
     "output_type": "execute_result"
    }
   ],
   "source": [
    "fact(200)"
   ]
  },
  {
   "cell_type": "code",
   "execution_count": 36,
   "metadata": {},
   "outputs": [
    {
     "data": {
      "text/plain": [
       "120"
      ]
     },
     "execution_count": 36,
     "metadata": {},
     "output_type": "execute_result"
    }
   ],
   "source": [
    "5*4*3*2*1"
   ]
  },
  {
   "cell_type": "code",
   "execution_count": 40,
   "metadata": {},
   "outputs": [],
   "source": [
    "# 尾递归函数\n",
    "def fact(n):\n",
    "    return fact_iter(n,1)\n",
    "\n",
    "def fact_iter(num, product):\n",
    "    if num == 1:\n",
    "        return product\n",
    "    return fact_iter(num-1, num*product)"
   ]
  },
  {
   "cell_type": "code",
   "execution_count": 41,
   "metadata": {},
   "outputs": [
    {
     "data": {
      "text/plain": [
       "3628800"
      ]
     },
     "execution_count": 41,
     "metadata": {},
     "output_type": "execute_result"
    }
   ],
   "source": [
    "fact(10)"
   ]
  },
  {
   "cell_type": "code",
   "execution_count": 42,
   "metadata": {},
   "outputs": [
    {
     "name": "stdout",
     "output_type": "stream",
     "text": [
      "薪资: 15000\n"
     ]
    }
   ],
   "source": [
    "# 局部变量\n",
    "def show():\n",
    "    sal = 15000\n",
    "    print('薪资:', sal)\n",
    "show()"
   ]
  },
  {
   "cell_type": "code",
   "execution_count": 43,
   "metadata": {},
   "outputs": [],
   "source": [
    "x = 100\n",
    "def test1():\n",
    "    x = 300\n",
    "    print('---test1---%d'%x)\n",
    "    # 修改\n",
    "    x = 200\n",
    "    print('---修改后的%d'%x)\n",
    "def test2():\n",
    "    print('x = %d'%x)"
   ]
  },
  {
   "cell_type": "code",
   "execution_count": 44,
   "metadata": {},
   "outputs": [
    {
     "name": "stdout",
     "output_type": "stream",
     "text": [
      "---test1---300\n",
      "---修改后的200\n"
     ]
    }
   ],
   "source": [
    "test1()"
   ]
  },
  {
   "cell_type": "code",
   "execution_count": 45,
   "metadata": {},
   "outputs": [
    {
     "name": "stdout",
     "output_type": "stream",
     "text": [
      "x = 100\n"
     ]
    }
   ],
   "source": [
    "test2()"
   ]
  },
  {
   "cell_type": "code",
   "execution_count": 46,
   "metadata": {},
   "outputs": [
    {
     "name": "stdout",
     "output_type": "stream",
     "text": [
      "修改之前:100\n",
      "修改之后20\n"
     ]
    }
   ],
   "source": [
    "def test3():\n",
    "    global x\n",
    "    print('修改之前:%d'%x)\n",
    "    \n",
    "    x = 20\n",
    "    print('修改之后%d'%x)\n",
    "def test4():\n",
    "    print('x=%d'%x)\n",
    "\n",
    "test3()"
   ]
  },
  {
   "cell_type": "code",
   "execution_count": 47,
   "metadata": {},
   "outputs": [
    {
     "name": "stdout",
     "output_type": "stream",
     "text": [
      "x=20\n"
     ]
    }
   ],
   "source": [
    "test4()"
   ]
  },
  {
   "cell_type": "code",
   "execution_count": 52,
   "metadata": {},
   "outputs": [
    {
     "name": "stdout",
     "output_type": "stream",
     "text": [
      "try...\n",
      "result: 5.0\n",
      "finally...\n",
      "END\n"
     ]
    }
   ],
   "source": [
    "# 捕获异常\n",
    "try:\n",
    "    print('try...')\n",
    "    r = 10/2\n",
    "    print('result:',r//1)\n",
    "except ZeroDivisionError as e:\n",
    "    print('except:',e)\n",
    "finally:\n",
    "    print('finally...')\n",
    "print('END')"
   ]
  },
  {
   "cell_type": "markdown",
   "metadata": {},
   "source": [
    "| 异常名称            | 描述                                               |\n",
    "| ------------------- | -------------------------------------------------- |\n",
    "| BaseException       | 所有异常的基类                                     |\n",
    "| SystemExit          | 解释器请求退出                                     |\n",
    "| KeyboardInterrupt   | 用户中断执行(通常是输入^C)                         |\n",
    "| Exception           | 常规错误的基类                                     |\n",
    "| StopIteration       | 迭代器没有更多的值                                 |\n",
    "| GeneratorExit       | 生成器(generator)发生异常来通知退出                |\n",
    "| SystemExit          | Python 解释器请求退出                              |\n",
    "| StandardError       | 所有的内建标准异常的基类                           |\n",
    "| ArithmeticError     | 所有数值计算错误的基类                             |\n",
    "| FloatingPointError  | 浮点计算错误                                       |\n",
    "| OverﬂowError        | 数值运算超出最大限制                               |\n",
    "| ZeroDivisionError   | 除(或取模)零 (所有数据类型)                        |\n",
    "| AssertionError      | 断言语句失败                                       |\n",
    "| AttributeError      | 对象没有这个属性                                   |\n",
    "| EOFError            | 没有内建输入,到达EOF 标记                          |\n",
    "| EnvironmentError    | 操作系统错误的基类                                 |\n",
    "| IOError             | 输入/输出操作失败                                  |\n",
    "| OSError             | 操作系统错误                                       |\n",
    "| WindowsError        | 系统调用失败                                       |\n",
    "| ImportError         | 导入模块/对象失败                                  |\n",
    "| KeyboardInterrupt   | 用户中断执行(通常是输入^C)                         |\n",
    "| LookupError         | 无效数据查询的基类                                 |\n",
    "| IndexError          | 序列中没有没有此索引(index)                        |\n",
    "| KeyError            | 映射中没有这个键                                   |\n",
    "| MemoryError         | 内存溢出错误(对于Python 解释器不是致命的)          |\n",
    "| NameError           | 未声明/初始化对象 (没有属性)                       |\n",
    "| UnboundLocalError   | 访问未初始化的本地变量                             |\n",
    "| ReferenceError      | 弱引用(Weak reference)试图访问已经垃圾回收了的对象 |\n",
    "| RuntimeError        | 一般的运行时错误                                   |\n",
    "| NotImplementedError | 尚未实现的方法                                     |\n",
    "| SyntaxError               | Python 语法错误                          |\n",
    "| IndentationError          | 缩进错误                                 |\n",
    "| TabError                  | Tab 和空格混用                           |\n",
    "| SystemError               | 一般的解释器系统错误                     |\n",
    "| TypeError                 | 对类型无效的操作                         |\n",
    "| ValueError                | 传入无效的参数                           |\n",
    "| UnicodeError              | Unicode 相关的错误                       |\n",
    "| UnicodeDecodeError        | Unicode 解码时的错误                     |\n",
    "| UnicodeEncodeError        | Unicode 编码时错误                       |\n",
    "| UnicodeTranslateError     | Unicode 转换时错误                       |\n",
    "| Warning                   | 警告的基类                               |\n",
    "| DeprecationWarning        | 关于被弃用的特征的警告                   |\n",
    "| FutureWarning             | 关于构造将来语义会有改变的警告           |\n",
    "| OverﬂowWarning            | 旧的关于自动提升为长整型(long)的警告     |\n",
    "| PendingDeprecationWarning | 关于特性将会被废弃的警告                 |\n",
    "| RuntimeWarning            | 可疑的运行时行为(runtime behavior)的警告 |\n",
    "| SyntaxWarning             | 可疑的语法的警告                         |\n",
    "| UserWarning               | 用户代码生成的警告                       |"
   ]
  },
  {
   "cell_type": "code",
   "execution_count": null,
   "metadata": {},
   "outputs": [],
   "source": []
  }
 ],
 "metadata": {
  "kernelspec": {
   "display_name": "Python 3",
   "language": "python",
   "name": "python3"
  },
  "language_info": {
   "codemirror_mode": {
    "name": "ipython",
    "version": 3
   },
   "file_extension": ".py",
   "mimetype": "text/x-python",
   "name": "python",
   "nbconvert_exporter": "python",
   "pygments_lexer": "ipython3",
   "version": "3.8.3"
  }
 },
 "nbformat": 4,
 "nbformat_minor": 4
}
