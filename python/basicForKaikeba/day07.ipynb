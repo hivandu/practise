{
 "cells": [
  {
   "cell_type": "code",
   "execution_count": null,
   "metadata": {
    "code_folding": []
   },
   "outputs": [],
   "source": [
    "#\n",
    "'''\n",
    "表达式\t      描述\n",
    "nodename\t选取此节点的所有子节点。\n",
    "/\t        从根节点选取。 或是元素和元素间的过渡。\n",
    "//\t        从匹配选择的当前节点选择文档中的节点，而不考虑它们的位置。或是跨节点选取子节点\n",
    ".\t        选取当前节点。\n",
    "..\t        选取当前节点的父节点。\n",
    "@\t        选取属性。\n",
    "'''"
   ]
  },
  {
   "cell_type": "code",
   "execution_count": null,
   "metadata": {
    "scrolled": false
   },
   "outputs": [],
   "source": [
    "https://www.baidu.com/img/PCtm_d9c8750bed0b3c7d089fa7d55720d6cf.png"
   ]
  },
  {
   "cell_type": "code",
   "execution_count": 21,
   "metadata": {},
   "outputs": [],
   "source": [
    "import requests\n",
    "\n",
    "# 请求头信息\n",
    "headers = {\n",
    "    \n",
    "    'User-Agent': 'Mozilla/5.0 (Windows NT 10.0; Win64; x64) AppleWebKit/537.36 (KHTML, like Gecko) Chrome/85.0.4183.102 Safari/537.36'\n",
    "}\n",
    "\n",
    "# 代码向服务器去发送get请求  get是发送请求的方式， post\n",
    "response = requests.get(url='https://www.baidu.com/img/PCtm_d9c8750bed0b3c7d089fa7d55720d6cf.png',\n",
    "            headers=headers)\n",
    "\n",
    "\n",
    "# 将图片内容写入文件\n",
    "with open('./baidu.png','wb') as f:\n",
    "    f.write(response.content)"
   ]
  },
  {
   "cell_type": "code",
   "execution_count": 31,
   "metadata": {},
   "outputs": [
    {
     "data": {
      "text/plain": [
       "['link1.html', 'link5.html']"
      ]
     },
     "execution_count": 31,
     "metadata": {},
     "output_type": "execute_result"
    }
   ],
   "source": [
    "# 导入模块\n",
    "from lxml import etree\n",
    "\n",
    "data_str = \"\"\"\n",
    "        <div>\n",
    "            <ul>\n",
    "                 <li class=\"item-0\">\n",
    "                     <a href=\"link1.html\">\n",
    "                         first item\n",
    "                     </a>\n",
    "                 </li>\n",
    "                 <li class=\"item-1\"><a href=\"link2.html\">second item</a></li>\n",
    "                 <li class=\"item-inactive\"><a href=\"link3.html\">third item</a></li>\n",
    "                 <li class=\"item-1\"><a href=\"link4.html\">fourth item</a></li>\n",
    "                 <li class=\"item-0\"><a href=\"link5.html\">fifth item</a>\n",
    "             </ul>\n",
    "         </div>\n",
    "        \"\"\"\n",
    "html = etree.HTML(data_str)\n",
    "\n",
    "# html.xpath('//div/ul/li[@class=\"item-0\"]/a/text()')#找文本值\n",
    "html.xpath('//div//li[@class=\"item-0\"]/a/@href') # 属性值"
   ]
  },
  {
   "cell_type": "code",
   "execution_count": 1,
   "metadata": {},
   "outputs": [
    {
     "ename": "NameError",
     "evalue": "name 'requests' is not defined",
     "output_type": "error",
     "traceback": [
      "\u001b[0;31m---------------------------------------------------------------------------\u001b[0m",
      "\u001b[0;31mNameError\u001b[0m                                 Traceback (most recent call last)",
      "\u001b[0;32m<ipython-input-1-7bd44178bdce>\u001b[0m in \u001b[0;36m<module>\u001b[0;34m\u001b[0m\n\u001b[1;32m     22\u001b[0m \u001b[0;34m\u001b[0m\u001b[0m\n\u001b[1;32m     23\u001b[0m \u001b[0;31m# 请求的了第一页的数据\u001b[0m\u001b[0;34m\u001b[0m\u001b[0;34m\u001b[0m\u001b[0;34m\u001b[0m\u001b[0m\n\u001b[0;32m---> 24\u001b[0;31m \u001b[0mresponse\u001b[0m \u001b[0;34m=\u001b[0m \u001b[0mrequests\u001b[0m\u001b[0;34m.\u001b[0m\u001b[0mget\u001b[0m\u001b[0;34m(\u001b[0m\u001b[0murl\u001b[0m\u001b[0;34m=\u001b[0m\u001b[0murl_list\u001b[0m\u001b[0;34m[\u001b[0m\u001b[0;36m0\u001b[0m\u001b[0;34m]\u001b[0m\u001b[0;34m,\u001b[0m\u001b[0mheaders\u001b[0m\u001b[0;34m=\u001b[0m\u001b[0mheaders\u001b[0m\u001b[0;34m)\u001b[0m\u001b[0;34m\u001b[0m\u001b[0;34m\u001b[0m\u001b[0m\n\u001b[0m\u001b[1;32m     25\u001b[0m \u001b[0;34m\u001b[0m\u001b[0m\n\u001b[1;32m     26\u001b[0m \u001b[0;31m# 3. 响应的内容，并验证是否有我要的数据\u001b[0m\u001b[0;34m\u001b[0m\u001b[0;34m\u001b[0m\u001b[0;34m\u001b[0m\u001b[0m\n",
      "\u001b[0;31mNameError\u001b[0m: name 'requests' is not defined"
     ]
    }
   ],
   "source": [
    "# https://tieba.baidu.com/f?kw=lol&ie=utf-8&pn=0\n",
    "# https://tieba.baidu.com/f?kw=lol&ie=utf-8&pn=50\n",
    "# https://tieba.baidu.com/f?kw=lol&ie=utf-8&pn=100\n",
    "    \n",
    "# 1. 确定数据的的连接\n",
    "tiebaName = 'lol'\n",
    "\n",
    "base_url = 'https://tieba.baidu.com/f?kw='+tiebaName+'&ie=utf-8&pn={}'\n",
    "\n",
    "\n",
    "# 翻页的请求连接\n",
    "url_list = []\n",
    "for i in range(1): # 先创建一个连接\n",
    "    url_list.append(base_url.format(i*50))\n",
    "    \n",
    "\n",
    "# 2. 发送网络请求\n",
    "headers = {\n",
    "    \n",
    "    'User-Agent': 'Mozilla/5.0 (Windows NT 10.0; Win64; x64) AppleWebKit/537.36 (KHTML, like Gecko) Chrome/85.0.4183.102 Safari/537.36'\n",
    "}\n",
    "\n",
    "# 请求的了第一页的数据\n",
    "response = requests.get(url=url_list[0],headers=headers)\n",
    "\n",
    "# 3. 响应的内容，并验证是否有我要的数据\n",
    "# response.text\n",
    "\n",
    "# 解决反爬：去掉注释 <!-- -->\n",
    "result_str = response.text\n",
    "result_str = result_str.replace('<!--','').replace('-->','')\n",
    "\n",
    "# 4. 解析数据（网页获取到，获取我想要的数据）\n",
    "html = etree.HTML(result_str)\n",
    "\n",
    "\n",
    "links = html.xpath('//li[@class=\" j_thread_list clearfix\"]//div[@class=\"threadlist_title pull_left j_th_tit \"]/a[@rel=\"noreferrer\"]/@href')\n",
    "\n",
    "\n",
    "texts = html.xpath('//li[@class=\" j_thread_list clearfix\"]//div[@class=\"threadlist_title pull_left j_th_tit \"]/a[@rel=\"noreferrer\"]/text()')\n",
    "\n",
    "texts\n",
    "# links = html.xpath('//*[@id=\"thread_list\"]/li[3]/div/div[2]/div[1]/div[1]/a/@href')\n",
    "\n",
    "\n",
    "# https://tieba.baidu.com/p/5335553751  用列表生成式拼接完成连接\n",
    "\n",
    "# 大沙发"
   ]
  },
  {
   "cell_type": "code",
   "execution_count": 2,
   "metadata": {},
   "outputs": [
    {
     "name": "stdout",
     "output_type": "stream",
     "text": [
      "8662\n"
     ]
    }
   ],
   "source": [
    "# 暗号\n",
    "import random\n",
    "# 后八位\n",
    "argot = ''\n",
    "for index in range(4):\n",
    "    argot = argot + str(random.randint(0,9))\n",
    "print(argot)"
   ]
  },
  {
   "cell_type": "code",
   "execution_count": null,
   "metadata": {},
   "outputs": [],
   "source": []
  }
 ],
 "metadata": {
  "kernelspec": {
   "display_name": "Python 3",
   "language": "python",
   "name": "python3"
  },
  "language_info": {
   "codemirror_mode": {
    "name": "ipython",
    "version": 3
   },
   "file_extension": ".py",
   "mimetype": "text/x-python",
   "name": "python",
   "nbconvert_exporter": "python",
   "pygments_lexer": "ipython3",
   "version": "3.8.3"
  }
 },
 "nbformat": 4,
 "nbformat_minor": 4
}
