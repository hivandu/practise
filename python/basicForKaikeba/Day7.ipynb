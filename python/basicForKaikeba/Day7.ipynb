{
 "cells": [
  {
   "cell_type": "code",
   "execution_count": 1,
   "metadata": {},
   "outputs": [
    {
     "name": "stdout",
     "output_type": "stream",
     "text": [
      "I like apples\n"
     ]
    }
   ],
   "source": [
    "text = 'I like bananas'\n",
    "x = text.replace('bananas','apples')\n",
    "print(x)"
   ]
  },
  {
   "cell_type": "code",
   "execution_count": 20,
   "metadata": {},
   "outputs": [
    {
     "data": {
      "text/plain": [
       "'18851121838'"
      ]
     },
     "execution_count": 20,
     "metadata": {},
     "output_type": "execute_result"
    }
   ],
   "source": [
    "# 随机生成电话号\n",
    "'''\n",
    "中国电信号段:133,153,180,181,189,170,173,177,149\n",
    "中国联通号段:130,131,132,155,156,185,145,175,176,185,171\n",
    "中国移动号段:134,135,136,137,138,139,150,151,152,158,159,182,183,184,172,147,178\n",
    "'''\n",
    "\n",
    "'''\n",
    "1. 11位，1开头，\n",
    "2. 第二位：3,4,5,7,8\n",
    "3. 第三位：根据第二位数字来确定\n",
    "    3:[0~9]\n",
    "    4:[5,7,9]\n",
    "    5:[0~9] | 4\n",
    "    7:[0~9] | 4&&9\n",
    "    8:[0~9]\n",
    "4. 后八位：随机生成\n",
    "'''\n",
    "'''\n",
    "函数作用:\n",
    "1. 定义一个函数，生成一个电话号码\n",
    "2. 随机生成第二位数\n",
    "3. 根据第二位生成第三位\n",
    "4. 后八位随机\n",
    "5. 拼接字符串\n",
    "'''\n",
    "import random\n",
    "\n",
    "def create_phone_num():\n",
    "    \n",
    "    # 第二位数, 随机取一个数\n",
    "    second = [3,4,5,7,8][random.randint(0,4)]\n",
    "#     print(second)\n",
    "    # 第三位数\n",
    "    third = {\n",
    "        3:random.randint(0,9),\n",
    "        4:[5,7,9][random.randint(0,2)],\n",
    "        # 列表生成式\n",
    "        5:[i for i in range(10) if i != 4][random.randint(0,8)],\n",
    "        7:[i for i in range(10) if i not in [4,9]][random.randint(0,7)],\n",
    "        8:[i for i in range(10)][random.randint(0,9)]\n",
    "    }[second]\n",
    "#     print(second,third[second])\n",
    "    lastNum = ''\n",
    "    for x in range(8):\n",
    "        lastNum = lastNum + str(random.randint(0,9))\n",
    "    \n",
    "#     print(lastNum)\n",
    "    \n",
    "    # 返回一个电话号码\n",
    "    return \"1{}{}{}\".format(second, third, lastNum)\n",
    "\n",
    "\n",
    "create_phone_num()\n"
   ]
  },
  {
   "cell_type": "code",
   "execution_count": 25,
   "metadata": {},
   "outputs": [
    {
     "name": "stdout",
     "output_type": "stream",
     "text": [
      "1*1=1\t\n",
      "1*2=2\t2*2=4\t\n",
      "1*3=3\t2*3=6\t3*3=9\t\n",
      "1*4=4\t2*4=8\t3*4=12\t4*4=16\t\n",
      "1*5=5\t2*5=10\t3*5=15\t4*5=20\t5*5=25\t\n",
      "1*6=6\t2*6=12\t3*6=18\t4*6=24\t5*6=30\t6*6=36\t\n",
      "1*7=7\t2*7=14\t3*7=21\t4*7=28\t5*7=35\t6*7=42\t7*7=49\t\n",
      "1*8=8\t2*8=16\t3*8=24\t4*8=32\t5*8=40\t6*8=48\t7*8=56\t8*8=64\t\n",
      "1*9=9\t2*9=18\t3*9=27\t4*9=36\t5*9=45\t6*9=54\t7*9=63\t8*9=72\t9*9=81\t\n"
     ]
    }
   ],
   "source": [
    "# 9X9 乘法表\n",
    "for i in range(1,10):\n",
    "    for j in range(1, i+1):\n",
    "        print('%d*%d=%d'%(j,i,j*i),end='\\t')\n",
    "    print()"
   ]
  },
  {
   "cell_type": "code",
   "execution_count": null,
   "metadata": {},
   "outputs": [],
   "source": []
  }
 ],
 "metadata": {
  "kernelspec": {
   "display_name": "Python 3",
   "language": "python",
   "name": "python3"
  },
  "language_info": {
   "codemirror_mode": {
    "name": "ipython",
    "version": 3
   },
   "file_extension": ".py",
   "mimetype": "text/x-python",
   "name": "python",
   "nbconvert_exporter": "python",
   "pygments_lexer": "ipython3",
   "version": "3.8.3"
  }
 },
 "nbformat": 4,
 "nbformat_minor": 4
}
