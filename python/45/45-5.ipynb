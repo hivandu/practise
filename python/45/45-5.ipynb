{
 "cells": [
  {
   "cell_type": "code",
   "execution_count": 9,
   "metadata": {},
   "outputs": [
    {
     "name": "stdout",
     "output_type": "stream",
     "text": [
      "[[4 3 2]\n",
      " [2 4 1]]\n",
      "******************************\n",
      "[[2 3 4]\n",
      " [1 2 4]]\n",
      "******************************\n",
      "[1 2 2 3 4 4]\n",
      "******************************\n",
      "[[2 3 1]\n",
      " [4 4 2]]\n",
      "******************************\n",
      "[[2 3 4]\n",
      " [1 2 4]]\n"
     ]
    }
   ],
   "source": [
    "# Numpy相关\n",
    "import numpy as np\n",
    "# Numpy中axis的使用\n",
    "a = np.array([[4,3,2],[2,4,1]])\n",
    "print(a)\n",
    "print(\"*\"*30)\n",
    "print(np.sort(a))\n",
    "print(\"*\"*30)\n",
    "print(np.sort(a,axis=None))\n",
    "print(\"*\"*30)\n",
    "print(np.sort(a,axis=0))\n",
    "print(\"*\"*30)\n",
    "print(np.sort(a, axis=1))"
   ]
  },
  {
   "cell_type": "code",
   "execution_count": 12,
   "metadata": {},
   "outputs": [
    {
     "data": {
      "text/plain": [
       "array([['张飞', '32', '77', '100', '90'],\n",
       "       ['关羽', '24', '85', '96', '88.5'],\n",
       "       ['赵云', '28', '85', '42', '25.5']], dtype='<U4')"
      ]
     },
     "execution_count": 12,
     "metadata": {},
     "output_type": "execute_result"
    }
   ],
   "source": [
    "# 答疑 2：定义结构数组中的 S32 代表什么意思？\n",
    "persontype = np.dtype({'names':['name','age','chinese','math','english'],'formats':['S32','i','i','i','f']})\n",
    "perples = np.array([('张飞',32,77,100,90),('关羽',24,85,96,88.5),('赵云',28,85,42,25.5)])\n",
    "perples"
   ]
  },
  {
   "cell_type": "code",
   "execution_count": 15,
   "metadata": {},
   "outputs": [
    {
     "name": "stdout",
     "output_type": "stream",
     "text": [
      "[(b'abc', 21, 50.) (b'xyz', 18, 75.)]\n",
      "[b'abc' b'xyz']\n"
     ]
    }
   ],
   "source": [
    "# 为什么打印出来的 name 会带一个 b？\n",
    "\n",
    "student = np.dtype([('name','S20'), ('age', 'i1'), ('marks', 'f4')])\n",
    "a = np.array([('abc', 21, 50),('xyz', 18, 75)], dtype = student)\n",
    "print(a)\n",
    "print(a['name'])"
   ]
  },
  {
   "cell_type": "code",
   "execution_count": 16,
   "metadata": {},
   "outputs": [
    {
     "data": {
      "text/plain": [
       "3.0"
      ]
     },
     "execution_count": 16,
     "metadata": {},
     "output_type": "execute_result"
    }
   ],
   "source": [
    "# np.ceil是什么意思\n",
    "# 向上取整\n",
    "np.ceil(2.4)"
   ]
  },
  {
   "cell_type": "code",
   "execution_count": 20,
   "metadata": {},
   "outputs": [
    {
     "name": "stdout",
     "output_type": "stream",
     "text": [
      "[[2 3 1]\n",
      " [4 4 2]]\n"
     ]
    }
   ],
   "source": [
    "# 作业1\n",
    "a = np.array([[4,3,2],[2,4,1]])\n",
    "print(np.sort(a,axis=0))"
   ]
  },
  {
   "cell_type": "code",
   "execution_count": null,
   "metadata": {},
   "outputs": [],
   "source": []
  }
 ],
 "metadata": {
  "kernelspec": {
   "display_name": "Python 3",
   "language": "python",
   "name": "python3"
  },
  "language_info": {
   "codemirror_mode": {
    "name": "ipython",
    "version": 3
   },
   "file_extension": ".py",
   "mimetype": "text/x-python",
   "name": "python",
   "nbconvert_exporter": "python",
   "pygments_lexer": "ipython3",
   "version": "3.8.3"
  }
 },
 "nbformat": 4,
 "nbformat_minor": 4
}
