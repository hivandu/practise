{
 "cells": [
  {
   "cell_type": "code",
   "execution_count": 66,
   "metadata": {},
   "outputs": [
    {
     "name": "stdout",
     "output_type": "stream",
     "text": [
      "   first_name last_name   Age Weight m006 m0612 m1218 f0006 f0612 f1218\n",
      "0      Mickey     Mouse  56.0  70kgs   72    69    71     -     -     -\n",
      "1      Donald      Duck  34.0  70kgs    -     -     -    85    84    76\n",
      "2        Mini     Mouse  16.0  85kgs    -     -     -    65    69    72\n",
      "3     Scrooge    McDuck  52.0  78kgs   78    79    72     -     -     -\n",
      "4        Pink   Panther  54.0  90kgs    -     -     -    69     -    75\n",
      "5        Huey    McDuck  52.0  85kgs    -     -     -    68    75    72\n",
      "6       Dewey    McDuck  19.0  56kgs    -     -     -    71    78    75\n",
      "7      Scoopy       Doo  32.0  78kgs   78    76    75     -     -     -\n",
      "10      Louie    McDuck  12.0  45kgs    -     -     -    92    95    87\n"
     ]
    }
   ],
   "source": [
    "import pandas as pd\n",
    "from pandas import Series,DataFrame\n",
    "import numpy as np\n",
    "\n",
    "df = DataFrame(pd.read_excel('excel1.xlsx'))\n",
    "\n",
    "# 更新columns名称\n",
    "df.rename(columns={0:\"num\",1:\"Name\",2:\"Age\",3:\"Weight\",4:\"m006\",5:\"m0612\",6:\"m1218\",7:\"f0006\",8:\"f0612\",9:\"f1218\"}, inplace=True)\n",
    "# 对年龄缺失数值使用平均年龄填充\n",
    "# df['Age'].fillna(df['Age'].mean(), inplace=True)\n",
    "\n",
    "# 删除全空的行\n",
    "df.dropna(how ='all', inplace=True)\n",
    "\n",
    "# 使用高频数据填充\n",
    "age_maxf = df['Age'].value_counts().index[0]\n",
    "df['Age'].fillna(age_maxf, inplace=True)\n",
    "Weight_maxf = df['Weight'].value_counts().index[0]\n",
    "df['Weight'].fillna(Weight_maxf,inplace=True)\n",
    "f0612_maxf = df['f0612'].value_counts().index[0]\n",
    "df['f0612'].fillna(f0612_maxf, inplace=True)\n",
    "\n",
    "# 将单位统一（lbs）转换为(kgs)\n",
    "## 获取weight数据列中单位为lbs的数据\n",
    "row_with_lbs = df['Weight'].str.contains('lbs').fillna(False)\n",
    "\n",
    "## 将lbs转换为kgs, 2.2lbs = 1kgs\n",
    "for i,lbs_row in df[row_with_lbs].iterrows():\n",
    "    # 截取从头开始倒数第三个字符之前，即去掉lbs\n",
    "    weight = int(float(lbs_row['Weight'][:-3])/2.2)\n",
    "    df.at[i,'Weight'] = f'{weight}kgs'\n",
    "\n",
    "# 切分名字，删除源数据列\n",
    "df[['first_name','last_name']] = df['Name'].str.split(expand=True)\n",
    "df.drop('Name', axis=1, inplace=True)\n",
    "# 删除非ASCII字符\n",
    "df['first_name'].replace({r'[^\\x00-\\x7F]+':''}, regex=True, inplace=True)\n",
    "df['last_name'].replace({r'[^\\x00-\\x7F]+':''}, regex=True, inplace=True)\n",
    "\n",
    "# 删除重复数据行\n",
    "df.drop_duplicates(['first_name','last_name'], inplace=True)\n",
    "\n",
    "# 调整顺序\n",
    "order = ['first_name','last_name','Age','Weight','m006','m0612','m1218','f0006','f0612','f1218']\n",
    "df = df[order]\n",
    "print(df)"
   ]
  },
  {
   "cell_type": "code",
   "execution_count": 47,
   "metadata": {},
   "outputs": [
    {
     "name": "stdout",
     "output_type": "stream",
     "text": [
      "1*1=1\t\n",
      "2*1=2\t2*2=4\t\n",
      "3*1=3\t3*2=6\t3*3=9\t\n",
      "4*1=4\t4*2=8\t4*3=12\t4*4=16\t\n",
      "5*1=5\t5*2=10\t5*3=15\t5*4=20\t5*5=25\t\n",
      "6*1=6\t6*2=12\t6*3=18\t6*4=24\t6*5=30\t6*6=36\t\n",
      "7*1=7\t7*2=14\t7*3=21\t7*4=28\t7*5=35\t7*6=42\t7*7=49\t\n",
      "8*1=8\t8*2=16\t8*3=24\t8*4=32\t8*5=40\t8*6=48\t8*7=56\t8*8=64\t\n",
      "9*1=9\t9*2=18\t9*3=27\t9*4=36\t9*5=45\t9*6=54\t9*7=63\t9*8=72\t9*9=81\t\n"
     ]
    }
   ],
   "source": [
    "# 给Simon的，考题(99乘法表)\n",
    "for n in range(1,10):\n",
    "    for w in range(1,n+1):\n",
    "        print(f'{n}*{w}={n*w}',end='\\t')\n",
    "    print(end='\\n')"
   ]
  },
  {
   "cell_type": "code",
   "execution_count": 53,
   "metadata": {},
   "outputs": [
    {
     "name": "stdout",
     "output_type": "stream",
     "text": [
      "on\n",
      "Simon\n",
      "['simon', 'du']\n",
      "simon_du\n"
     ]
    }
   ],
   "source": [
    "# print('Simon _ a'[3:5])\n",
    "print('simon'.title())\n",
    "print('simon_du'.split('_'))\n",
    "print('simon du'.replace(' ','_'))"
   ]
  },
  {
   "cell_type": "code",
   "execution_count": 78,
   "metadata": {},
   "outputs": [
    {
     "data": {
      "text/html": [
       "<div>\n",
       "<style scoped>\n",
       "    .dataframe tbody tr th:only-of-type {\n",
       "        vertical-align: middle;\n",
       "    }\n",
       "\n",
       "    .dataframe tbody tr th {\n",
       "        vertical-align: top;\n",
       "    }\n",
       "\n",
       "    .dataframe thead th {\n",
       "        text-align: right;\n",
       "    }\n",
       "</style>\n",
       "<table border=\"1\" class=\"dataframe\">\n",
       "  <thead>\n",
       "    <tr style=\"text-align: right;\">\n",
       "      <th></th>\n",
       "      <th>food</th>\n",
       "      <th>ounces</th>\n",
       "      <th>animal</th>\n",
       "    </tr>\n",
       "  </thead>\n",
       "  <tbody>\n",
       "    <tr>\n",
       "      <th>0</th>\n",
       "      <td>Bacon</td>\n",
       "      <td>4.0</td>\n",
       "      <td>pig</td>\n",
       "    </tr>\n",
       "    <tr>\n",
       "      <th>1</th>\n",
       "      <td>Pulled pork</td>\n",
       "      <td>3.0</td>\n",
       "      <td>pig</td>\n",
       "    </tr>\n",
       "    <tr>\n",
       "      <th>3</th>\n",
       "      <td>Pastrami</td>\n",
       "      <td>6.0</td>\n",
       "      <td>cow</td>\n",
       "    </tr>\n",
       "    <tr>\n",
       "      <th>4</th>\n",
       "      <td>Corned beef</td>\n",
       "      <td>7.5</td>\n",
       "      <td>cow</td>\n",
       "    </tr>\n",
       "    <tr>\n",
       "      <th>5</th>\n",
       "      <td>Bacon</td>\n",
       "      <td>8.0</td>\n",
       "      <td>pig</td>\n",
       "    </tr>\n",
       "    <tr>\n",
       "      <th>6</th>\n",
       "      <td>Pastrami</td>\n",
       "      <td>3.0</td>\n",
       "      <td>cow</td>\n",
       "    </tr>\n",
       "    <tr>\n",
       "      <th>7</th>\n",
       "      <td>Honey ham</td>\n",
       "      <td>5.0</td>\n",
       "      <td>pig</td>\n",
       "    </tr>\n",
       "    <tr>\n",
       "      <th>8</th>\n",
       "      <td>Nova lox</td>\n",
       "      <td>6.0</td>\n",
       "      <td>salmon</td>\n",
       "    </tr>\n",
       "  </tbody>\n",
       "</table>\n",
       "</div>"
      ],
      "text/plain": [
       "          food  ounces  animal\n",
       "0        Bacon     4.0     pig\n",
       "1  Pulled pork     3.0     pig\n",
       "3     Pastrami     6.0     cow\n",
       "4  Corned beef     7.5     cow\n",
       "5        Bacon     8.0     pig\n",
       "6     Pastrami     3.0     cow\n",
       "7    Honey ham     5.0     pig\n",
       "8     Nova lox     6.0  salmon"
      ]
     },
     "execution_count": 78,
     "metadata": {},
     "output_type": "execute_result"
    }
   ],
   "source": [
    "# 作业\n",
    "import pandas as pd\n",
    "from pandas import Series,DataFrame\n",
    "import numpy as np\n",
    "\n",
    "df = DataFrame(pd.read_excel('excel2.xlsx'))\n",
    "\n",
    "# 处理NaN值\n",
    "df['ounces'].fillna(df['ounces'].mean(), inplace=True)\n",
    "# 处理不正确的值\n",
    "df['ounces'] = abs(df['ounces'])\n",
    "# 处理重复值\n",
    "df.drop_duplicates(['food'], inplace=True)\n",
    "# 处理名称大小写\n",
    "df['food'] = df['food'].str.capitalize()\n",
    "df"
   ]
  },
  {
   "cell_type": "code",
   "execution_count": null,
   "metadata": {},
   "outputs": [],
   "source": []
  }
 ],
 "metadata": {
  "kernelspec": {
   "display_name": "Python 3",
   "language": "python",
   "name": "python3"
  },
  "language_info": {
   "codemirror_mode": {
    "name": "ipython",
    "version": 3
   },
   "file_extension": ".py",
   "mimetype": "text/x-python",
   "name": "python",
   "nbconvert_exporter": "python",
   "pygments_lexer": "ipython3",
   "version": "3.8.3"
  }
 },
 "nbformat": 4,
 "nbformat_minor": 4
}
