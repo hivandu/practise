{
 "cells": [
  {
   "cell_type": "code",
   "execution_count": 21,
   "metadata": {},
   "outputs": [],
   "source": [
    "# 姓名：杜斌 暗号： 无"
   ]
  },
  {
   "cell_type": "code",
   "execution_count": 58,
   "metadata": {},
   "outputs": [
    {
     "name": "stdout",
     "output_type": "stream",
     "text": [
      "a    1\n",
      "b    2\n",
      "c    3\n",
      "d    4\n",
      "dtype: int64\n"
     ]
    }
   ],
   "source": [
    "# 1. 从列表创建Series\n",
    "\n",
    "import numpy as np\n",
    "import pandas as pd\n",
    "from pandas import Series,DataFrame\n",
    "\n",
    "sel = Series([1,2,3,4], index = ['a','b','c','d'])\n",
    "print(sel)"
   ]
  },
  {
   "cell_type": "code",
   "execution_count": 59,
   "metadata": {},
   "outputs": [
    {
     "name": "stdout",
     "output_type": "stream",
     "text": [
      "   a  b  c  d\n",
      "1  3  8  4  6\n",
      "2  0  8  4  9\n",
      "3  7  1  5  8\n",
      "4  4  0  9  7\n"
     ]
    }
   ],
   "source": [
    "# 2. 从Numpy数组创建DataFrame\n",
    "\n",
    "df = DataFrame(np.random.randint(0,10,(4,4)), index = [1,2,3,4], columns=['a','b','c','d'])\n",
    "print(df)"
   ]
  },
  {
   "cell_type": "code",
   "execution_count": 60,
   "metadata": {},
   "outputs": [
    {
     "name": "stdout",
     "output_type": "stream",
     "text": [
      "<class 'pandas.core.frame.DataFrame'>\n",
      "Int64Index: 4 entries, 1 to 4\n",
      "Data columns (total 4 columns):\n",
      " #   Column  Non-Null Count  Dtype\n",
      "---  ------  --------------  -----\n",
      " 0   a       4 non-null      int64\n",
      " 1   b       4 non-null      int64\n",
      " 2   c       4 non-null      int64\n",
      " 3   d       4 non-null      int64\n",
      "dtypes: int64(4)\n",
      "memory usage: 160.0 bytes\n",
      "None\n",
      "******************************\n",
      "4\n",
      "******************************\n",
      "['a', 'b', 'c', 'd']\n",
      "******************************\n",
      "a    4\n",
      "b    4\n",
      "c    4\n",
      "d    4\n",
      "dtype: int64\n",
      "******************************\n",
      "[[3 8 4 6]\n",
      " [0 8 4 9]\n",
      " [7 1 5 8]\n",
      " [4 0 9 7]]\n",
      "******************************\n",
      "a    int64\n",
      "b    int64\n",
      "c    int64\n",
      "d    int64\n",
      "dtype: object\n"
     ]
    }
   ],
   "source": [
    "# 3. 显示df的基础信息，包括⾏的数量；列名；每⼀列值的数量、类型\n",
    "# 显示df的基础信息\n",
    "print(df.info())\n",
    "\n",
    "# 获取行的数量\n",
    "print(\"*\"*30)\n",
    "print(df.shape[0])\n",
    "\n",
    "# 获取列名\n",
    "print(\"*\"*30)\n",
    "print(df.columns.tolist())\n",
    "\n",
    "# 获取每一列的数量\n",
    "print(\"*\"*30)\n",
    "print(df[:].count())\n",
    "\n",
    "# 获取每一列的值\n",
    "print(\"*\"*30)\n",
    "print(df.iloc[:].values)\n",
    "\n",
    "# 获取每一列值的类型\n",
    "print(\"*\"*30)\n",
    "print(df.dtypes)"
   ]
  },
  {
   "cell_type": "code",
   "execution_count": 61,
   "metadata": {},
   "outputs": [
    {
     "name": "stdout",
     "output_type": "stream",
     "text": [
      "   a  b  c  d\n",
      "1  3  8  4  6\n",
      "2  0  8  4  9\n",
      "3  7  1  5  8\n"
     ]
    }
   ],
   "source": [
    "# 4. 展示df的前3行\n",
    "print(df.head(3))"
   ]
  },
  {
   "cell_type": "code",
   "execution_count": 62,
   "metadata": {},
   "outputs": [
    {
     "name": "stdout",
     "output_type": "stream",
     "text": [
      "   1  2  3  4\n",
      "a  3  8  4  6\n",
      "b  0  8  4  9\n",
      "c  7  1  5  8\n",
      "d  4  0  9  7\n"
     ]
    }
   ],
   "source": [
    "# 5. 设置x,y轴标签variable x，value y\n",
    "## 设定x轴variable x\n",
    "df.index = ['a','b','c','d']\n",
    "\n",
    "## 设定y轴value y\n",
    "df.columns = ['1','2','3','4']\n",
    "\n",
    "print(df)"
   ]
  },
  {
   "cell_type": "code",
   "execution_count": 63,
   "metadata": {},
   "outputs": [
    {
     "name": "stdout",
     "output_type": "stream",
     "text": [
      "Hello Python\n"
     ]
    }
   ],
   "source": [
    "str = 'Python'\n",
    "print(f'Hello {str}')"
   ]
  },
  {
   "cell_type": "code",
   "execution_count": null,
   "metadata": {},
   "outputs": [],
   "source": []
  }
 ],
 "metadata": {
  "kernelspec": {
   "display_name": "Python 3",
   "language": "python",
   "name": "python3"
  },
  "language_info": {
   "codemirror_mode": {
    "name": "ipython",
    "version": 3
   },
   "file_extension": ".py",
   "mimetype": "text/x-python",
   "name": "python",
   "nbconvert_exporter": "python",
   "pygments_lexer": "ipython3",
   "version": "3.8.3"
  }
 },
 "nbformat": 4,
 "nbformat_minor": 4
}
