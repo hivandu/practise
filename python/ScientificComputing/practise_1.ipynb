{
 "cells": [
  {
   "cell_type": "code",
   "execution_count": 68,
   "metadata": {},
   "outputs": [
    {
     "name": "stdout",
     "output_type": "stream",
     "text": [
      "2015    139\n",
      "2011    128\n",
      "2014    125\n",
      "2013    122\n",
      "2008    121\n",
      "2009    120\n",
      "2012    117\n",
      "2007    112\n",
      "2006    103\n",
      "2016    103\n",
      "Name: Year, dtype: int64\n",
      "USA                 2112\n",
      "AUSTRALIA           1267\n",
      "SOUTH AFRICA         560\n",
      "PAPUA NEW GUINEA     131\n",
      "NEW ZEALAND          124\n",
      "BRAZIL               102\n",
      "BAHAMAS               96\n",
      "MEXICO                80\n",
      "ITALY                 69\n",
      "FIJI                  60\n",
      "Name: Country, dtype: int64\n"
     ]
    }
   ],
   "source": [
    "# 试试自行分析一个全球鲨鱼攻击数据\n",
    "\n",
    "import pandas as pd\n",
    "import numpy as np\n",
    "from pandas import Series,DataFrame\n",
    "\n",
    "# file_type = input('请输入需要读取的文件类型:')\n",
    "# file_path = input('请输入文件完整路径:')\n",
    "\n",
    "# def select_file(file_type,file_path):\n",
    "#     if file_type != '':\n",
    "#         if file_type == 'excel':\n",
    "#             df = pd.read_excel(file_path)\n",
    "#         elif file_type == 'csv':\n",
    "#             df = pd.read_csv(filve_path)\n",
    "#         else:\n",
    "#             print('文件类型不正确')\n",
    "#     else:\n",
    "#         print('您未选择文件！')\n",
    "#     return df\n",
    "\n",
    "# df = select_file(file_type, file_path)\n",
    "\n",
    "# df\n",
    "\n",
    "# drop_begin = int(input('输入删除的起始行index'))\n",
    "# drop_end = int(input('输入删除的结束行index'))\n",
    "\n",
    "# result = df.drop(labels=range(drop_begin,drop_end),axis=0)\n",
    "\n",
    "\n",
    "\n",
    "df = pd.read_excel('/Users/du/Downloads/Global Shark Attacks.xlsx')\n",
    "\n",
    "# 填充空值\n",
    "df.fillna(method='ffill',inplace=True)\n",
    "\n",
    "df.rename(columns={'Sex ':'Sex','Species ':'Species'},inplace=True)\n",
    "\n",
    "# 清理Date属性\n",
    "df = df.drop(labels=range(5865,5992),axis=0)\n",
    "\n",
    "df = df.drop(['Date','Location','Name','Investigator or Source','Injury','Fatal (Y/N)','Time'],axis=1)\n",
    "\n",
    "df\n",
    "\n",
    "CountryYearData = df.drop(['Case Number','Type','Area','Activity','Sex','Age','Species'],axis=1)\n",
    "\n",
    "YearCount = CountryYearData.loc[:,'Year'].value_counts()\n",
    "CountryCount = CountryYearData.loc[:,'Country'].value_counts()\n",
    "\n",
    "first_10_YearCount = YearCount.head(10)\n",
    "first_10_CountryCount = CountryCount.head(10)\n",
    "\n",
    "print(first_10_YearCount)\n",
    "print(first_10_CountryCount)\n",
    "\n",
    "\n"
   ]
  },
  {
   "cell_type": "code",
   "execution_count": null,
   "metadata": {},
   "outputs": [],
   "source": []
  },
  {
   "cell_type": "code",
   "execution_count": null,
   "metadata": {},
   "outputs": [],
   "source": []
  }
 ],
 "metadata": {
  "kernelspec": {
   "display_name": "Python 3",
   "language": "python",
   "name": "python3"
  },
  "language_info": {
   "codemirror_mode": {
    "name": "ipython",
    "version": 3
   },
   "file_extension": ".py",
   "mimetype": "text/x-python",
   "name": "python",
   "nbconvert_exporter": "python",
   "pygments_lexer": "ipython3",
   "version": "3.8.3"
  }
 },
 "nbformat": 4,
 "nbformat_minor": 4
}
