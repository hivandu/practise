{
 "cells": [
  {
   "cell_type": "code",
   "execution_count": 9,
   "metadata": {},
   "outputs": [
    {
     "name": "stdout",
     "output_type": "stream",
     "text": [
      "4.096997022628784 0.15880894660949707\n"
     ]
    }
   ],
   "source": [
    "# ndarray与Python原生list运算效率对比\n",
    "import random\n",
    "import time\n",
    "import numpy as np\n",
    "a = []\n",
    "for i in range(100000000):\n",
    "    a.append(random.random())\n",
    "t1 = time.time()\n",
    "sum1 = sum(a)\n",
    "t2 = time.time()\n",
    "b = np.array(a)\n",
    "t4 = time.time()\n",
    "sum3 = np.sum(b)\n",
    "t5 = time.time()\n",
    "print(t2-t1,t5-t4)"
   ]
  },
  {
   "cell_type": "code",
   "execution_count": 13,
   "metadata": {},
   "outputs": [
    {
     "name": "stdout",
     "output_type": "stream",
     "text": [
      "<class 'numpy.ndarray'>\n",
      "[1 2 3 4]\n",
      "<class 'numpy.ndarray'>\n",
      "[array([1, 2, 3])]\n",
      "<class 'numpy.ndarray'>\n",
      "[0 1 2 3 4 5 6 7 8 9]\n",
      "<class 'numpy.ndarray'>\n",
      "[0 2 4 6 8]\n"
     ]
    }
   ],
   "source": [
    "# NumPy的Ndarray对象\n",
    "## 创建一维数组\n",
    "import numpy as np\n",
    "list1 = [1,2,3,4]\n",
    "oneArray = np.array(list1)\n",
    "print(type(oneArray))\n",
    "print(oneArray)\n",
    "# 创建数组的多种形式\n",
    "# 1. 直接传入列表的方式\n",
    "t1 = np.array([1,2,3])\n",
    "print(type(t1))\n",
    "print([t1])\n",
    "# 2. 传入range生成序列\n",
    "t2 = np.array(range(10))\n",
    "print(type(t2))\n",
    "print(t2)\n",
    "# 3. 使用numpy自带的np.arange()生成数组\n",
    "t3 = np.arange(0,10,2)\n",
    "print(type(t3))\n",
    "print(t3)"
   ]
  },
  {
   "cell_type": "code",
   "execution_count": 29,
   "metadata": {},
   "outputs": [
    {
     "name": "stdout",
     "output_type": "stream",
     "text": [
      "[[1 2]\n",
      " [3 4]\n",
      " [5 6]\n",
      " [7 8]]\n",
      "获取数组的维度： 2\n",
      "数组的形状: (4, 2)\n",
      "有多少个元素: 8\n"
     ]
    }
   ],
   "source": [
    "# 创建二维数组\n",
    "list2 = [[1,2],[3,4],[5,6],[7,8]]\n",
    "twoArray = np.array(list2)\n",
    "print(twoArray)\n",
    "# 常用属性\n",
    "print('获取数组的维度：',twoArray.ndim)\n",
    "print('数组的形状:',twoArray.shape)\n",
    "print('有多少个元素:',twoArray.size)"
   ]
  },
  {
   "cell_type": "code",
   "execution_count": 47,
   "metadata": {},
   "outputs": [
    {
     "name": "stdout",
     "output_type": "stream",
     "text": [
      "[ 0  1  2  3  4  5  6  7  8  9 10 11 12 13 14 15 16 17 18 19 20 21 22 23]\n",
      "(24,)\n",
      "[[ 0  1  2  3  4  5]\n",
      " [ 6  7  8  9 10 11]\n",
      " [12 13 14 15 16 17]\n",
      " [18 19 20 21 22 23]]\n",
      "[[[ 0  1  2  3]\n",
      "  [ 4  5  6  7]\n",
      "  [ 8  9 10 11]]\n",
      "\n",
      " [[12 13 14 15]\n",
      "  [16 17 18 19]\n",
      "  [20 21 22 23]]]\n"
     ]
    }
   ],
   "source": [
    "# # 调整数组的形状\n",
    "# four = np.array([[1,2,3],[4,5,6]])\n",
    "# # 修改的是原有的\n",
    "# # four.shape = (3,2)\n",
    "# twoArray = np.array(list2)\n",
    "# print(twoArray.shape)\n",
    "# twoArray.shape = (2,4)\n",
    "# print(twoArray)\n",
    "# print(four)\n",
    "\n",
    "# # 返回一个新的数组\n",
    "# four_other = np.array([[1,2,3],[4,5,6]])\n",
    "# four_other_new = four.reshape(3,2)\n",
    "# print(four_other)\n",
    "# print(four_other_new)\n",
    "\n",
    "# five = four.reshape((6,),order='F')\n",
    "# print(five)\n",
    "\n",
    "t = np.arange(24)\n",
    "print(t)\n",
    "'''\n",
    "[ 0  1  2  3  4  5  6  7  8  9 10 11 12 13 14 15 16 17 18 19 20 21 22 23]\n",
    "'''\n",
    "print(t.shape)\n",
    "# 转成二维数组\n",
    "t1 = t.reshape(4,6)\n",
    "print(t1)\n",
    "'''\n",
    "[[ 0  1  2  3  4  5]\n",
    " [ 6  7  8  9 10 11]\n",
    " [12 13 14 15 16 17]\n",
    " [18 19 20 21 22 23]]\n",
    "'''\n",
    "# 转成三位数组\n",
    "t2 = t.reshape(2,3,4)\n",
    "print(t2)\n",
    "'''\n",
    "[[[ 0  1  2  3]\n",
    "  [ 4  5  6  7]\n",
    "  [ 8  9 10 11]]\n",
    "\n",
    " [[12 13 14 15]\n",
    "  [16 17 18 19]\n",
    "  [20 21 22 23]]]\n",
    "'''"
   ]
  },
  {
   "cell_type": "code",
   "execution_count": 50,
   "metadata": {},
   "outputs": [
    {
     "name": "stdout",
     "output_type": "stream",
     "text": [
      "[9, 12, 88, 14, 25]\n",
      "<class 'list'>\n"
     ]
    }
   ],
   "source": [
    "# 6. 转化成list\n",
    "a = np.array([9,12,88,14,25])\n",
    "list_a = a.tolist()\n",
    "print(list_a)\n",
    "print(type(list_a))\n"
   ]
  },
  {
   "cell_type": "code",
   "execution_count": 54,
   "metadata": {},
   "outputs": [
    {
     "name": "stdout",
     "output_type": "stream",
     "text": [
      "2\n",
      "int16\n",
      "float64\n"
     ]
    }
   ],
   "source": [
    "# 7. 数据类型\n",
    "f = np.array([1,2,3,4,5], dtype = np.int16)\n",
    "print(f.itemsize)\n",
    "print(f.dtype)\n",
    "f1 = f.astype(np.float)\n",
    "print(f1.dtype)"
   ]
  },
  {
   "cell_type": "code",
   "execution_count": 56,
   "metadata": {},
   "outputs": [
    {
     "name": "stdout",
     "output_type": "stream",
     "text": [
      "[0 1 2 3 4 5 6 7 8 9]\n",
      "[2 4 6]\n",
      "2 [0 1 2 3 4 5 6 7 8 9]\n"
     ]
    }
   ],
   "source": [
    "# 8. 一维数组的切片\n",
    "a = np.arange(10)\n",
    "print(a)\n",
    "# 冒号分隔切片参数 start:stop:step来进行切片操作\n",
    "print(a[2:7:2])\n",
    "print(a[2],a)"
   ]
  },
  {
   "cell_type": "code",
   "execution_count": 80,
   "metadata": {},
   "outputs": [
    {
     "name": "stdout",
     "output_type": "stream",
     "text": [
      "[[ 0  1  2  3  4  5]\n",
      " [ 6  7  8  9 10 11]\n",
      " [12 13 14 15 16 17]\n",
      " [18 19 20 21 22 23]]\n",
      "####################\n",
      "15\n",
      "[0 7 9]\n"
     ]
    }
   ],
   "source": [
    "# 9. 多位数组的切片\n",
    "t1 = np.arange(24).reshape(4,6)\n",
    "print(t1)\n",
    "print('#'*20)\n",
    "\n",
    "# print(t1[1]) # 取一行\n",
    "# print('#'*20)\n",
    "# print(t1[1,:])\n",
    "# print('#'*20)\n",
    "# print(t1[1:]) # 取连续多行\n",
    "# print('#'*20)\n",
    "# print(t1[1:3,:])\n",
    "# print('#'*20)\n",
    "# print(f'不连续的多行: {t1[[0,2,3]]}\\n') # 取不连续的多行\n",
    "# print(t1[[0,2,3],:])\n",
    "# print(t1[:,1]) # 取一列\n",
    "# print('#'*20)\n",
    "# print(t1[:,1:]) # 取连续多列\n",
    "# print(t1[:,[0,2,3]])\n",
    "print(t1[2,3]) # 取某一个值\n",
    "print(t1[[0,1,1],[0,1,3]])"
   ]
  },
  {
   "cell_type": "code",
   "execution_count": 89,
   "metadata": {},
   "outputs": [
    {
     "name": "stdout",
     "output_type": "stream",
     "text": [
      "[[ 0  1  2  3  4  5]\n",
      " [ 6  7  8  9 10 11]\n",
      " [12 13 14 15 16 17]\n",
      " [18 19 20 21 22 23]]\n",
      "********************\n"
     ]
    },
    {
     "ename": "NameError",
     "evalue": "name 'condition' is not defined",
     "output_type": "error",
     "traceback": [
      "\u001b[0;31m---------------------------------------------------------------------------\u001b[0m",
      "\u001b[0;31mNameError\u001b[0m                                 Traceback (most recent call last)",
      "\u001b[0;32m<ipython-input-89-d7beffcd8bd1>\u001b[0m in \u001b[0;36m<module>\u001b[0;34m\u001b[0m\n\u001b[1;32m     11\u001b[0m \u001b[0;31m## 拓展\u001b[0m\u001b[0;34m\u001b[0m\u001b[0;34m\u001b[0m\u001b[0;34m\u001b[0m\u001b[0m\n\u001b[1;32m     12\u001b[0m \u001b[0;31m## 三目运算\u001b[0m\u001b[0;34m\u001b[0m\u001b[0;34m\u001b[0m\u001b[0;34m\u001b[0m\u001b[0m\n\u001b[0;32m---> 13\u001b[0;31m \u001b[0mnp\u001b[0m\u001b[0;34m.\u001b[0m\u001b[0mwhere\u001b[0m\u001b[0;34m(\u001b[0m\u001b[0mcondition\u001b[0m\u001b[0;34m,\u001b[0m\u001b[0mx\u001b[0m\u001b[0;34m,\u001b[0m\u001b[0my\u001b[0m\u001b[0;34m)\u001b[0m\u001b[0;34m\u001b[0m\u001b[0;34m\u001b[0m\u001b[0m\n\u001b[0m",
      "\u001b[0;31mNameError\u001b[0m: name 'condition' is not defined"
     ]
    }
   ],
   "source": [
    "# 10. 根据条件取值\n",
    "# t = np.arange(24).reshape(4,6)\n",
    "# print(t)\n",
    "# print('*'*20)\n",
    "# t[t<10] = 0\n",
    "# print(t)\n",
    "# t[(t>2)&(t<6)] = 0\n",
    "# t[(t<2)|(t>6)] = 1\n",
    "# t[~(t>6)]=0\n",
    "# t\n",
    "## 拓展\n",
    "## 三目运算 np.where(condition,x,y)\n",
    "score= np.array([[80,88],[82,81],[75,81]])\n",
    "print(score)"
   ]
  },
  {
   "cell_type": "code",
   "execution_count": null,
   "metadata": {},
   "outputs": [],
   "source": []
  }
 ],
 "metadata": {
  "kernelspec": {
   "display_name": "Python 3",
   "language": "python",
   "name": "python3"
  },
  "language_info": {
   "codemirror_mode": {
    "name": "ipython",
    "version": 3
   },
   "file_extension": ".py",
   "mimetype": "text/x-python",
   "name": "python",
   "nbconvert_exporter": "python",
   "pygments_lexer": "ipython3",
   "version": "3.8.3"
  }
 },
 "nbformat": 4,
 "nbformat_minor": 4
}
