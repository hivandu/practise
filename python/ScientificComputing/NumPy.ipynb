{
 "cells": [
  {
   "cell_type": "code",
   "execution_count": 1,
   "metadata": {
    "code_folding": [
     0
    ]
   },
   "outputs": [
    {
     "name": "stdout",
     "output_type": "stream",
     "text": [
      "1.0616569519042969 0.08224916458129883\n"
     ]
    }
   ],
   "source": [
    "# 1. ndarray与Python原生list运算效率对比\n",
    "# import random\n",
    "# import time\n",
    "# import numpy as np\n",
    "# a = []\n",
    "# for i in range(100000000):\n",
    "#     a.append(random.random())\n",
    "# t1 = time.time()\n",
    "# sum1 = sum(a)\n",
    "# t2 = time.time()\n",
    "# b = np.array(a)\n",
    "# t4 = time.time()\n",
    "# sum3 = np.sum(b)\n",
    "# t5 = time.time()\n",
    "# print(t2-t1,t5-t4)"
   ]
  },
  {
   "cell_type": "code",
   "execution_count": 1,
   "metadata": {
    "code_folding": [
     0
    ]
   },
   "outputs": [
    {
     "name": "stdout",
     "output_type": "stream",
     "text": [
      "<class 'numpy.ndarray'>\n",
      "[0 2 4 6 8]\n"
     ]
    }
   ],
   "source": [
    "# NumPy的Ndarray对象\n",
    "# 2. 创建一维数组\n",
    "import random\n",
    "import time\n",
    "import numpy as np\n",
    "list1 = [1,2,3,4]\n",
    "# oneArray = np.array(list1)\n",
    "# print(type(oneArray))\n",
    "# print(oneArray)\n",
    "\n",
    "# 创建数组的多种形式\n",
    "# 直接传入列表的方式\n",
    "# t1 = np.array([1,2,3])\n",
    "# print(type(t1))\n",
    "# print([t1])\n",
    "# # 传入range生成序列\n",
    "# t2 = np.array(range(10))\n",
    "# print(type(t2))\n",
    "# print(t2)\n",
    "# # 使用numpy自带的np.arange()生成数组\n",
    "t3 = np.arange(0,10,2)\n",
    "print(type(t3))\n",
    "print(t3)"
   ]
  },
  {
   "cell_type": "code",
   "execution_count": 2,
   "metadata": {
    "code_folding": [
     0
    ]
   },
   "outputs": [
    {
     "name": "stdout",
     "output_type": "stream",
     "text": [
      "[[1 2]\n",
      " [3 4]\n",
      " [5 6]\n",
      " [7 8]]\n",
      "a\n"
     ]
    }
   ],
   "source": [
    "# 3. 创建二维数组\n",
    "list2 = [[1,2],[3,4],[5,6],[7,8]]\n",
    "twoArray = np.array(list2)\n",
    "print(twoArray)\n",
    "print('a')"
   ]
  },
  {
   "cell_type": "code",
   "execution_count": 6,
   "metadata": {
    "code_folding": [
     0
    ]
   },
   "outputs": [
    {
     "name": "stdout",
     "output_type": "stream",
     "text": [
      "2\n",
      "(3, 2)\n",
      "6\n"
     ]
    }
   ],
   "source": [
    "# 4. 常用属性\n",
    "list2 = [[1,2],[3,4],[5,6]]\n",
    "twoArray = np.array(list2)\n",
    "# 获取数组的维度\n",
    "print(twoArray.ndim)\n",
    "# 形状\n",
    "print(twoArray.shape)\n",
    "# 有多少个元素\n",
    "print(twoArray.size)"
   ]
  },
  {
   "cell_type": "code",
   "execution_count": null,
   "metadata": {
    "code_folding": [
     0
    ]
   },
   "outputs": [],
   "source": [
    "# # 5. 调整数组的形状\n",
    "# four = np.array([[1,2,3],[4,5,6]])\n",
    "# print(four)\n",
    "\n",
    "# # 修改的是原有的\n",
    "# four.shape = (3,2)\n",
    "# print('*'*30)\n",
    "# print(four)\n",
    "\n",
    "\n",
    "# # 返回一个新的数组\n",
    "four_other = np.array([[1,2,3],[4,5,6]])\n",
    "four_other_new = four_other.reshape(3,2)\n",
    "# print('*'*30))\n",
    "# print(four_other)\n",
    "# print('*'*30)\n",
    "print(four_other_new)\n",
    "\n",
    "# # 将多维变成一维数组\n",
    "five = four.reshape((6),order='C') # 'C'和'F'的展开方式不一样\n",
    "print('*'*30)\n",
    "print(five)\n",
    "\n",
    "# 转成二维数组\n",
    "t = np.arange(24)\n",
    "t1 = t.reshape(4,6)\n",
    "print(t1)\n",
    "\n",
    "# 转成三维数组\n",
    "t2 = t.reshape(2,3,4)\n",
    "print(t2)"
   ]
  },
  {
   "cell_type": "code",
   "execution_count": 7,
   "metadata": {
    "code_folding": [
     0
    ]
   },
   "outputs": [
    {
     "name": "stdout",
     "output_type": "stream",
     "text": [
      "<class 'numpy.ndarray'>\n",
      "[9, 12, 88, 14, 25]\n",
      "<class 'list'>\n"
     ]
    }
   ],
   "source": [
    "# 6. 转化成list\n",
    "a = np.array([9,12,88,14,25])\n",
    "print(type(a))\n",
    "list_a = a.tolist()\n",
    "print(list_a)\n",
    "print(type(list_a))"
   ]
  },
  {
   "cell_type": "code",
   "execution_count": 8,
   "metadata": {
    "code_folding": []
   },
   "outputs": [
    {
     "name": "stdout",
     "output_type": "stream",
     "text": [
      "2\n",
      "int16\n",
      "float64\n"
     ]
    }
   ],
   "source": [
    "# 7. 数据类型\n",
    "f = np.array([1,2,3,4,5], dtype = np.int16)\n",
    "print(f.itemsize)\n",
    "print(f.dtype)\n",
    "f1 = f.astype(np.float)\n",
    "print(f1.dtype)"
   ]
  },
  {
   "cell_type": "code",
   "execution_count": 11,
   "metadata": {},
   "outputs": [
    {
     "name": "stdout",
     "output_type": "stream",
     "text": [
      "[0 1 2 3 4 5 6 7 8 9]\n",
      "[2 4 6]\n",
      "2 [0 1 2 3 4 5 6 7 8 9]\n"
     ]
    }
   ],
   "source": [
    "# 8. 一维数组的切片\n",
    "a = np.arange(10)\n",
    "print(a)\n",
    "\n",
    "# 冒号分隔切片参数 start:stop:step来进行切片操作\n",
    "print(a[2:7:2]) # 从索引2开始到索引7停止，间隔为2\n",
    "\n",
    "# 如果只放置一个参数，如[2], 将返回与该索引想对应的单个元素\n",
    "print(a[2],a)"
   ]
  },
  {
   "cell_type": "code",
   "execution_count": 23,
   "metadata": {},
   "outputs": [
    {
     "name": "stdout",
     "output_type": "stream",
     "text": [
      "[[ 0  1  2  3  4  5]\n",
      " [ 6  7  8  9 10 11]\n",
      " [12 13 14 15 16 17]\n",
      " [18 19 20 21 22 23]]\n",
      "********************\n",
      "[ 1  7 13 19]\n"
     ]
    }
   ],
   "source": [
    "# 9. 多位数组的切片\n",
    "t1 = np.arange(24).reshape(4,6)\n",
    "print(t1)\n",
    "print('*'*20)\n",
    "\n",
    "# t1[行,列]\n",
    "# print(t1[1]) # 取一行\n",
    "# print(t1[1,:]) # 取一行\n",
    "# print(t1[1:]) # 取连续多行\n",
    "# print('#'*20) # 取连续多行\n",
    "# print(t1[1:3,:])\n",
    "# print('#'*20)\n",
    "# print(f'不连续的多行: \\n{t1[[0,2,3]]}') # 取不连续的多行\n",
    "# print(t1[[0,2,3],:])\n",
    "print(t1[:,1]) # 取一列\n",
    "# print('#'*20)\n",
    "# print(t1[:,1:]) # 取连续多列\n",
    "# print(t1[:,[0,2,3]])\n",
    "# print(t1[2,3]) # 取某一个值\n",
    "# print(t1[[0,1,1],[0,1,3]])"
   ]
  },
  {
   "cell_type": "code",
   "execution_count": 32,
   "metadata": {
    "code_folding": []
   },
   "outputs": [
    {
     "name": "stdout",
     "output_type": "stream",
     "text": [
      "[[ 0  1  2  3  4  5]\n",
      " [ 6  7  8  9 10 11]\n",
      " [12 13 14 15 16 17]\n",
      " [18 19 20 21 22 23]]\n",
      "********************\n",
      "[[0 1]\n",
      " [1 1]\n",
      " [0 1]]\n"
     ]
    }
   ],
   "source": [
    "# 10. 根据条件取值\n",
    "t = np.arange(24).reshape(4,6)\n",
    "print(t)\n",
    "print('*'*20)\n",
    "# t<10\n",
    "'''\n",
    "[[ True,  True,  True,  True,  True,  True],\n",
    "[ True,  True,  True,  True, False, False],\n",
    "[False, False, False, False, False, False],\n",
    "[False, False, False, False, False, False]]\n",
    "'''\n",
    "# python中的与或非\"and or not\"不能用于NumPy中\n",
    "\n",
    "# t[t<10] = 0\n",
    "# print(t)\n",
    "# t[(t>2)&(t<6)] = 0 # 与 &\n",
    "# t[(t<2)|(t>6)] = 1 # 或 |\n",
    "# t[~(t>6)]=0 # 非 ~\n",
    "# t\n",
    "## 拓展\n",
    "## 三目运算 np.where(condition,x,y)\n",
    "# score= np.array([[80,88],[82,81],[75,81]])\n",
    "# print(score)\n",
    "result = np.where(score>80,1,0)\n",
    "print(result)"
   ]
  },
  {
   "cell_type": "code",
   "execution_count": 46,
   "metadata": {
    "code_folding": [
     0
    ]
   },
   "outputs": [
    {
     "name": "stdout",
     "output_type": "stream",
     "text": [
      "[[[ 0  1  2]\n",
      "  [ 3  4  5]\n",
      "  [ 6  7  8]]\n",
      "\n",
      " [[ 9 10 11]\n",
      "  [12 13 14]\n",
      "  [15 16 17]]\n",
      "\n",
      " [[18 19 20]\n",
      "  [21 22 23]\n",
      "  [24 25 26]]]\n",
      "******************************\n",
      "[[ 3 12 21]\n",
      " [30 39 48]\n",
      " [57 66 75]]\n"
     ]
    }
   ],
   "source": [
    "# 11. 轴\n",
    "# a = np.array([[1,2,3],[4,5,6]])\n",
    "# print(a)\n",
    "# print(\"*\"*30)\n",
    "# print(np.sum(a,axis=1))\n",
    "# print(\"*\"*30)\n",
    "# print(np.sum(a,axis=0))\n",
    "\n",
    "# 三维\n",
    "a = np.arange(27).reshape((3,3,3))\n",
    "print(a)\n",
    "print(\"*\"*30)\n",
    "# print(np.sum(a,axis=0))\n",
    "# print(np.sum(a,axis=1))\n",
    "print(np.sum(a,axis=2))"
   ]
  },
  {
   "cell_type": "code",
   "execution_count": 58,
   "metadata": {
    "code_folding": [
     0
    ]
   },
   "outputs": [
    {
     "name": "stdout",
     "output_type": "stream",
     "text": [
      "[[ 0  1  2  3]\n",
      " [ 4  5  6  7]\n",
      " [ 8  9 10 11]\n",
      " [12 13 14 15]\n",
      " [16 17 18 19]\n",
      " [20 21 22 23]]\n",
      "******************************\n",
      "[[ 0.   0.5  1.   1.5]\n",
      " [ 2.   2.5  3.   3.5]\n",
      " [ 4.   4.5  5.   5.5]\n",
      " [ 6.   6.5  7.   7.5]\n",
      " [ 8.   8.5  9.   9.5]\n",
      " [10.  10.5 11.  11.5]]\n"
     ]
    }
   ],
   "source": [
    "# 12 。 数组和数的计算\n",
    "t1 = np.arange(24).reshape((6,4))\n",
    "print(t1)\n",
    "print('*'*30)\n",
    "# print(t1+2)\n",
    "# print(t1*2)\n",
    "print(t1/2)"
   ]
  },
  {
   "cell_type": "code",
   "execution_count": 70,
   "metadata": {
    "code_folding": [
     0
    ]
   },
   "outputs": [
    {
     "name": "stdout",
     "output_type": "stream",
     "text": [
      "[[ 0  1  2  3  4  5]\n",
      " [ 6  7  8  9 10 11]\n",
      " [12 13 14 15 16 17]\n",
      " [18 19 20 21 22 23]]\n",
      "[[0]\n",
      " [1]\n",
      " [2]\n",
      " [3]]\n",
      "[[ 0  1  2  3  4  5]\n",
      " [ 5  6  7  8  9 10]\n",
      " [10 11 12 13 14 15]\n",
      " [15 16 17 18 19 20]]\n"
     ]
    }
   ],
   "source": [
    "# 13. 数组和数组之间的操作\n",
    "# 1). 同种形状的多数数组计算\n",
    "# t1 = np.arange(24).reshape((6,4))\n",
    "# t2 = np.arange(100,124).reshape((6,4))\n",
    "# print(f'{t1}\\n{t2}')\n",
    "# print(\"*\"*30)\n",
    "# print(t1+t2)\n",
    "# print(t1*t2)\n",
    "\n",
    "# 2). 不同形状的多维数组不能计算\n",
    "# t1 = np.arange(24).reshape((4,6)) \n",
    "# t2 = np.arange(18).reshape((3,6)) \n",
    "# print(t1) \n",
    "# print(t2) \n",
    "# print(t1-t2)\n",
    "\n",
    "# 3）. 行数或者列相同的一维数组和多位数组可以进行计算：\n",
    "# 行相同\n",
    "# t1 = np.arange(24).reshape((4,6))\n",
    "# t2 = np.arange(0,6)\n",
    "# print(t1)\n",
    "# print(t2)\n",
    "# print(t1-t2)\n",
    "\n",
    "# 列相同\n",
    "t1 = np.arange(24).reshape((4,6))\n",
    "t2 = np.arange(4).reshape((4,1))\n",
    "print(t1)\n",
    "print(t2)\n",
    "print(t1-t2)\n"
   ]
  },
  {
   "cell_type": "code",
   "execution_count": 129,
   "metadata": {},
   "outputs": [
    {
     "name": "stdout",
     "output_type": "stream",
     "text": [
      "[2 1]\n"
     ]
    }
   ],
   "source": [
    "# 14. NumPy的计算方法\n",
    "import numpy as np\n",
    "score = np.array([[80,88],[82,81],[75,81]])\n",
    "# # 1). 获取所有数据最大值\n",
    "# result = np.max(score)\n",
    "\n",
    "# # 2). 获取某一个轴上的数据最大值\n",
    "# result = np.max(score,axis=0)\n",
    "\n",
    "# # 3). 获取最小值\n",
    "# result = np.min(score)\n",
    "\n",
    "# # 4). 获取某一个轴上的数据最小值\n",
    "# result = np.min(score,axis=0)\n",
    "\n",
    "# # 5). 数据的比较\n",
    "# result = np.maximum([-2,-1,0,1,2],0) # 第一个参数中的每一个数与第二个比较\n",
    "\n",
    "# result = np.minimum([-2,-1,0,1,2],0)\n",
    "\n",
    "# # 6). 求平均值\n",
    "# result = np.mean(score) # 获取所有数据的平均值\n",
    "# result = np.mean(score, axis=0) # 获取某一行或者某一列的平均值\n",
    "\n",
    "# print(result)\n",
    "\n",
    "# 7). 返回给定axis上的累计和\n",
    "arr = np.array([[1,2,3],[4,5,6]])\n",
    "# print(arr)\n",
    "# print(arr.cumsum(0))\n",
    "# print(arr.cumsum(1))\n",
    "\n",
    "# 8). argmin球最小值索引\n",
    "result = np.argmin(score,axis=0)\n",
    "print(result)"
   ]
  },
  {
   "cell_type": "code",
   "execution_count": 93,
   "metadata": {},
   "outputs": [
    {
     "name": "stdout",
     "output_type": "stream",
     "text": [
      "[[ 0.  1.  2.  3.  4.  5.]\n",
      " [ 6.  7.  8.  9. 10. 11.]\n",
      " [12. 13. 14. 15. 16. 17.]\n",
      " [18. 19. 20. 21. 22. 23.]]\n",
      "******************************\n",
      "[[ 0.  1.  2.  3.  4.  5.]\n",
      " [ 6.  7.  8.  9. 10. 11.]\n",
      " [12. 13. 14. 15. 16. 17.]\n",
      " [18. 19. 20. 21. nan 23.]]\n",
      "[36. 40. 44. 48. nan 56.]\n",
      "1\n"
     ]
    }
   ],
   "source": [
    "# 16. 数组的nan\n",
    "# 创建一个nan\n",
    "# a = np.nan\n",
    "# print(a,type(a)) # nan <class 'float'>\n",
    "# print(np.isnan(a))\n",
    "\n",
    "# 判断数组中的nan的个数\n",
    "t = np.arange(24,dtype=float).reshape(4,6)\n",
    "print(t)\n",
    "t[3,4] = np.nan\n",
    "print(\"*\"*30)\n",
    "print(t)\n",
    "\n",
    "# 注意： nan和任何数计算都为nan\n",
    "# print(np.sum(t,axis=0))\n",
    "'''\n",
    "[36. 40. 44. 48. nan 56.]\n",
    "'''\n",
    "\n",
    "# 判断nan\n",
    "# np.isnan(t)\n",
    "\n",
    "# 替换nan\n",
    "# t[np.isnan(t)] = 0\n",
    "# t\n",
    "print(np.sum(t,axis=0))\n",
    "\n",
    "# 获取数组中nan的个数\n",
    "# print(np.nan == np.nan) # nan不等于nan, False\n",
    "\n",
    "# t != t # 可以获取到True的nan值\n",
    "# 可以使用np.count_nonzero() 来判断非0的个数\n",
    "# print(np.count_nonzero(t))\n",
    "# 所以我们可以使用这两个结合使用判断nan的个数\n",
    "print(np.count_nonzero(t != t))"
   ]
  },
  {
   "cell_type": "code",
   "execution_count": 110,
   "metadata": {},
   "outputs": [
    {
     "name": "stdout",
     "output_type": "stream",
     "text": [
      "[[ 0.  1.  2.  3.  4.  5.]\n",
      " [ 6.  7.  8. nan nan nan]\n",
      " [12. 13. 14. 15. 16. 17.]\n",
      " [18. 19. 20. 21. 22. 23.]]\n",
      "[ 0.  6. 12. 18.]\n",
      "0\n",
      "[ 1.  7. 13. 19.]\n",
      "0\n",
      "[ 2.  8. 14. 20.]\n",
      "0\n",
      "[ 3. nan 15. 21.]\n",
      "1\n",
      "******************************\n",
      "不为nan的数据: [ 3. 15. 21.]\n",
      "[ 4. nan 16. 22.]\n",
      "1\n",
      "******************************\n",
      "不为nan的数据: [ 4. 16. 22.]\n",
      "[ 5. nan 17. 23.]\n",
      "1\n",
      "******************************\n",
      "不为nan的数据: [ 5. 17. 23.]\n",
      "[[ 0.  1.  2.  3.  4.  5.]\n",
      " [ 6.  7.  8. 13. 14. 15.]\n",
      " [12. 13. 14. 15. 16. 17.]\n",
      " [18. 19. 20. 21. 22. 23.]]\n"
     ]
    }
   ],
   "source": [
    "# 练习\n",
    "t = np.arange(24).reshape(4,6).astype('float')\n",
    "# 将数组中的一部分替换nan\n",
    "t[1,3:] = np.nan\n",
    "print(t)\n",
    "\n",
    "'''\n",
    "要求，nan用一列的平均值去填充\n",
    "'''\n",
    "\n",
    "# 首先，遍历每一列，判断是否有nan\n",
    "for i in range(t.shape[1]):\n",
    "    # 获取当前列数据\n",
    "    temp_col = t[:,i]\n",
    "    print(temp_col)\n",
    "    # 判断当前列的数据是否含有nan\n",
    "    nan_num = np.count_nonzero(temp_col != temp_col)\n",
    "    print(nan_num)\n",
    "    if nan_num != 0: # 如果成立则说明含有nan\n",
    "        # 将这一列不为nan的数据拿出来\n",
    "        temp_col_nNan = temp_col[temp_col == temp_col]\n",
    "        print(\"*\"*30)\n",
    "        print('不为nan的数据:',temp_col_nNan)\n",
    "        # 将nan替换成这一列的平均值\n",
    "        temp_col[np.isnan(temp_col)] = np.mean(temp_col_nNan)\n",
    "print(t)\n",
    "        "
   ]
  },
  {
   "cell_type": "code",
   "execution_count": null,
   "metadata": {},
   "outputs": [],
   "source": []
  }
 ],
 "metadata": {
  "kernelspec": {
   "display_name": "Python 3",
   "language": "python",
   "name": "python3"
  },
  "language_info": {
   "codemirror_mode": {
    "name": "ipython",
    "version": 3
   },
   "file_extension": ".py",
   "mimetype": "text/x-python",
   "name": "python",
   "nbconvert_exporter": "python",
   "pygments_lexer": "ipython3",
   "version": "3.8.3"
  }
 },
 "nbformat": 4,
 "nbformat_minor": 4
}
