{
 "cells": [
  {
   "cell_type": "markdown",
   "source": [
    "# A Preliminary Study of Machine Learning"
   ],
   "metadata": {}
  },
  {
   "cell_type": "markdown",
   "source": [
    "## Gradient"
   ],
   "metadata": {}
  },
  {
   "cell_type": "code",
   "execution_count": 4,
   "source": [
    "import random\n",
    "\n",
    "def loss(k):\n",
    "    return 3 * (k ** 2) + 7 * k - 10\n",
    "    pass\n",
    "\n",
    "\n",
    "def partial(k):\n",
    "    return 6 * k +7\n",
    "\n",
    "k = random.randint(-10, 10)\n",
    "alpha = 1e-3 # 0.01\n",
    "\n",
    "for i in range(10):\n",
    "    k = k + (-1) * partial(k) * alpha\n",
    "    print(k, loss(k))"
   ],
   "outputs": [
    {
     "output_type": "stream",
     "name": "stdout",
     "text": [
      "-6.965 86.77867499999999\n",
      "-6.93021 85.57196193229998\n",
      "-6.895628739999999 84.37968597974194\n",
      "-6.861254967559999 83.20167441668029\n",
      "-6.827087437754639 82.03775658395915\n",
      "-6.7931249131281115 80.88776386418866\n",
      "-6.759366163649343 79.7515296573175\n",
      "-6.7258099666674465 78.62888935649735\n",
      "-6.692455106867442 77.51968032423622\n",
      "-6.659300376226237 76.42374186883706\n",
      "1\n",
      "2\n",
      "3\n",
      "4\n",
      "5\n",
      "6\n",
      "7\n",
      "8\n",
      "9\n",
      "10\n",
      "11\n",
      "12\n",
      "13\n",
      "14\n",
      "15\n",
      "16\n",
      "17\n",
      "18\n",
      "19\n"
     ]
    }
   ],
   "metadata": {}
  },
  {
   "cell_type": "markdown",
   "source": [
    "## Dynamic"
   ],
   "metadata": {}
  },
  {
   "cell_type": "code",
   "execution_count": 34,
   "source": [
    "from collections import defaultdict\n",
    "from functools import wraps\n",
    "from icecream import ic\n",
    "\n",
    "original_price = [1, 5, 8, 9, 10, 17, 17, 20, 24, 30, 33]\n",
    "price = defaultdict(int)\n",
    "for i, p in enumerate(original_price):\n",
    "    price[i+1] = p\n",
    "\n",
    "def memo(func):\n",
    "    cache = {}\n",
    "    @wraps(func)\n",
    "    def _wrap(n):\n",
    "        if n in cache: result = cache[n]\n",
    "        else:\n",
    "            result = func(n)\n",
    "            cache[n]  = result\n",
    "        return result\n",
    "    return _wrap\n",
    "\n",
    "@memo\n",
    "def r(n):\n",
    "    max_price, split_point = max(\n",
    "        [(price[n], 0)] + [(r(i) + r(n-i), i) for i in range(1, n)], key = lambda x: x[0]\n",
    "    )\n",
    "    solution[n] = (split_point, n - split_point)\n",
    "\n",
    "    print(max_price, split_point)\n",
    "    return max_price\n",
    "\n",
    "def not_cut(split): return split == 0\n",
    "\n",
    "def parse_solution(target_length, revenue_solution):\n",
    "    left, right = revenue_solution[target_length]\n",
    "\n",
    "    if not_cut(left): return [right]\n",
    "\n",
    "    return parse_solution(left, revenue_solution) + parse_solution(right, revenue_solution)\n",
    "\n",
    "solution = {}\n",
    "ic(r(50))\n",
    "# ic(parse_solution(20, solution))\n",
    "# ic(parse_solution(19, solution))\n",
    "# ic(parse_solution(27, solution))"
   ],
   "outputs": [
    {
     "output_type": "stream",
     "name": "stderr",
     "text": [
      "ic| r(50): 150\n"
     ]
    },
    {
     "output_type": "stream",
     "name": "stdout",
     "text": [
      "1 0\n",
      "5 0\n",
      "8 0\n",
      "10 2\n",
      "13 2\n",
      "17 0\n",
      "18 1\n",
      "22 2\n",
      "25 3\n",
      "30 0\n",
      "33 0\n",
      "35 2\n",
      "38 2\n",
      "41 3\n",
      "43 2\n",
      "47 6\n",
      "50 6\n",
      "52 2\n",
      "55 2\n",
      "60 10\n",
      "63 10\n",
      "66 11\n",
      "68 2\n",
      "71 2\n",
      "74 3\n",
      "77 6\n",
      "80 6\n",
      "83 6\n",
      "85 2\n",
      "90 10\n",
      "93 10\n",
      "96 10\n",
      "99 11\n",
      "101 2\n",
      "104 2\n",
      "107 3\n",
      "110 6\n",
      "113 6\n",
      "116 6\n",
      "120 10\n",
      "123 10\n",
      "126 10\n",
      "129 10\n",
      "132 11\n",
      "134 2\n",
      "137 2\n",
      "140 3\n",
      "143 6\n",
      "146 6\n",
      "150 10\n"
     ]
    },
    {
     "output_type": "execute_result",
     "data": {
      "text/plain": [
       "150"
      ]
     },
     "metadata": {},
     "execution_count": 34
    }
   ],
   "metadata": {}
  },
  {
   "cell_type": "code",
   "execution_count": 32,
   "source": [
    "a = max_price, split_point = max([(price[50], 0)] + [(r(i) + r(50-i), i) for i in range(1, 50)], key = lambda x: x[0])\n",
    "print(a)"
   ],
   "outputs": [
    {
     "output_type": "stream",
     "name": "stdout",
     "text": [
      "(150, 40)\n"
     ]
    }
   ],
   "metadata": {}
  },
  {
   "cell_type": "code",
   "execution_count": 51,
   "source": [
    "# practise the heart data\n",
    "\n",
    "import pandas as pd\n",
    "from sklearn.preprocessing import StandardScaler\n",
    "from sklearn.model_selection import train_test_split\n",
    "from sklearn.linear_model import LogisticRegression\n",
    "\n",
    "data = pd.read_csv('../resource/heart.csv')\n",
    "\n",
    "data_target = data.target.values\n",
    "data_target.shape\n",
    "\n",
    "sex = pd.get_dummies(data['sex'], prefix = 'sex')\n",
    "data = pd.concat([data, sex], axis = 1)\n",
    "data = data.drop(columns=['sex'])\n",
    "data.shape\n",
    "\n",
    "data_train = data.drop(['target'], axis = 1)\n",
    "data_train.shape\n",
    "\n",
    "train_x, test_x, train_y, test_y = train_test_split(data_train, data_target, test_size = 0.3, random_state=33)\n",
    "\n",
    "ss = StandardScaler()\n",
    "lr = LogisticRegression()\n",
    "\n",
    "ss.fit(train_x)\n",
    "\n",
    "train_x  = ss.transform(train_x)\n",
    "test_x = ss.transform(test_x)\n",
    "\n",
    "lr.fit(train_x, train_y)\n",
    "lr.score(train_x, train_y)\n",
    "lr.score(test_x, test_y)\n",
    "\n",
    "from sklearn.metrics import classification_report\n",
    "predict = lr.predict(test_x)"
   ],
   "outputs": [
    {
     "output_type": "execute_result",
     "data": {
      "text/plain": [
       "0.8461538461538461"
      ]
     },
     "metadata": {},
     "execution_count": 51
    }
   ],
   "metadata": {}
  },
  {
   "cell_type": "code",
   "execution_count": null,
   "source": [],
   "outputs": [],
   "metadata": {}
  }
 ],
 "metadata": {
  "orig_nbformat": 4,
  "language_info": {
   "name": "python",
   "version": "3.7.11",
   "mimetype": "text/x-python",
   "codemirror_mode": {
    "name": "ipython",
    "version": 3
   },
   "pygments_lexer": "ipython3",
   "nbconvert_exporter": "python",
   "file_extension": ".py"
  },
  "kernelspec": {
   "name": "python3",
   "display_name": "Python 3.7.11 64-bit ('tensorflow': conda)"
  },
  "interpreter": {
   "hash": "32732e49ddba1da8b293d0354da9484fcc377d4ba69e79a82935691a68d0ecf6"
  }
 },
 "nbformat": 4,
 "nbformat_minor": 2
}