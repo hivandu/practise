{
 "cells": [
  {
   "cell_type": "code",
   "execution_count": 7,
   "source": [
    "# rule_based\n",
    "import random\n",
    "from icecream import ic\n",
    "\n",
    "rules = \"\"\"\n",
    "复合句子 = 句子 , 连词 复合句子 | 句子\n",
    "连词 = 而且 | 但是 | 不过\n",
    "句子 = 主语 谓语 宾语\n",
    "主语 = 你| 我 | 他 \n",
    "谓语 = 吃| 玩 \n",
    "宾语 = 桃子| 皮球\n",
    "\"\"\"\n",
    "\n",
    "def get_grammer_by_description(description):\n",
    "    rules_pattern = [r.split('=') for r in description.split('\\n') if r.strip()]\n",
    "    target_with_expend = [(t, ex.split('|')) for t, ex in rules_pattern]\n",
    "    grammer = {t.strip(): [e.strip() for e in ex] for t, ex in target_with_expend}\n",
    "    return grammer\n",
    "\n",
    "# generated = [t for t in random.choice(grammer['句子']).split()]\n",
    "# test_v = [t for t in random.choice(grammer['谓语']).split()]\n",
    "\n",
    "def generate_by_grammer(grammer, target='句子'):\n",
    "    if target not in grammer: return target\n",
    "    return ''.join([generate_by_grammer(grammer, t) for t in random.choice(grammer[target]).split()])\n",
    "\n",
    "if __name__ == '__main__':\n",
    "    grammer = get_grammer_by_description(rules)\n",
    "\n",
    "    # ic(generated)\n",
    "    # ic(test_v)\n",
    "    # ic(generate_by_grammer(grammer))\n",
    "    ic(generate_by_grammer(grammer, target='复合句子'))\n"
   ],
   "outputs": [
    {
     "output_type": "stream",
     "name": "stderr",
     "text": [
      "ic| generate_by_grammer(grammer, target='复合句子'): '我吃皮球'\n"
     ]
    }
   ],
   "metadata": {}
  },
  {
   "cell_type": "code",
   "execution_count": null,
   "source": [],
   "outputs": [],
   "metadata": {}
  }
 ],
 "metadata": {
  "orig_nbformat": 4,
  "language_info": {
   "name": "python",
   "version": "3.7.11",
   "mimetype": "text/x-python",
   "codemirror_mode": {
    "name": "ipython",
    "version": 3
   },
   "pygments_lexer": "ipython3",
   "nbconvert_exporter": "python",
   "file_extension": ".py"
  },
  "kernelspec": {
   "name": "python3",
   "display_name": "Python 3.7.11 64-bit ('tensorflow': conda)"
  },
  "interpreter": {
   "hash": "e149da774136999aaf00d4dc0a73ad671f5415143dd98642849dddd1d0bac9b6"
  }
 },
 "nbformat": 4,
 "nbformat_minor": 2
}