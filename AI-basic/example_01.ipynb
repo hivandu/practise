{
 "cells": [
  {
   "cell_type": "code",
   "execution_count": 4,
   "source": [
    "# rule_based\n",
    "import random\n",
    "from icecream import ic\n",
    "\n",
    "rules = \"\"\"\n",
    "复合句子 = 句子 , 连词 复合句子 | 句子\n",
    "连词 = 而且 | 但是 | 不过\n",
    "句子 = 主语 谓语 宾语\n",
    "主语 = 你| 我 | 他 \n",
    "谓语 = 吃| 玩 \n",
    "宾语 = 桃子| 皮球\n",
    "\"\"\"\n",
    "\n",
    "def get_grammer_by_description(description):\n",
    "    rules_pattern = [r.split('=') for r in description.split('\\n') if r.strip()]\n",
    "    target_with_expend = [(t, ex.split('|')) for t, ex in rules_pattern]\n",
    "    grammer = {t.strip(): [e.strip() for e in ex] for t, ex in target_with_expend}\n",
    "    return grammer\n",
    "\n",
    "generated = [t for t in random.choice(grammer['句子']).split()]\n",
    "test_v = [t for t in random.choice(grammer['谓语']).split()]\n",
    "\n",
    "def generate_by_grammer(grammer, target='句子'):\n",
    "    if target not in grammer: return target\n",
    "    return ''.join([generate_by_grammer(grammer, t) for t in random.choice(grammer[target]).split()])\n",
    "\n",
    "if __name__ == '__main__':\n",
    "    grammer = get_grammer_by_description(rules)\n",
    "\n",
    "    ic(generated)\n",
    "    ic(test_v)\n",
    "    ic(generate_by_grammer(grammer))\n",
    "    ic(generate_by_grammer(grammer, target='复合句子'))\n"
   ],
   "outputs": [
    {
     "output_type": "stream",
     "name": "stderr",
     "text": [
      "ic| generated: ['主语', '谓语', '宾语']\n",
      "ic| test_v: ['吃']\n",
      "ic| generate_by_grammer(grammer): '你玩桃子'\n",
      "ic| generate_by_grammer(grammer, target='复合句子'): '你玩桃子,不过我吃桃子,而且我吃桃子,而且你玩皮球,而且你玩桃子,不过他吃桃子,但是你吃桃子'\n"
     ]
    }
   ],
   "metadata": {}
  },
  {
   "cell_type": "code",
   "execution_count": 8,
   "source": [
    "# water poruing\n",
    "\n",
    "def water_pouring(b1, b2, goal, start=(0,0)):\n",
    "    if goal is start:\n",
    "        return [start]\n",
    "\n",
    "    explored = set()\n",
    "    froniter = [[('init', start)]]\n",
    "\n",
    "    while froniter:\n",
    "        path = froniter.pop(0)\n",
    "        print(path)\n",
    "        (x, y) = path[-1][-1]\n",
    "\n",
    "        for (state, action) in successors(x, y, b1, b2).items():\n",
    "            if state not in explored:\n",
    "                explored.add(state)\n",
    "\n",
    "                path2 = path + [(action, state)]\n",
    "\n",
    "                if goal in state:\n",
    "                    return path2\n",
    "                else:\n",
    "                    froniter.append(path2)\n",
    "\n",
    "    return []\n",
    "\n",
    "def successors(x, y, X, Y):\n",
    "    return {\n",
    "        ((0, y+x) if x+y <= Y else (x+y-Y, Y)): 'X -> Y',\n",
    "        ((x+y, 0) if x+y <= X else (X, x+y-X)): 'X <- Y',\n",
    "        (X, y): 'Fill up X',\n",
    "        (x, Y): 'Fill up Y',\n",
    "        (0, y): 'Empty X',\n",
    "        (x, 0): 'Empty: Y',\n",
    "    }\n",
    "\n",
    "if __name__ == '__main__':\n",
    "    print(water_pouring(4, 9, 5))\n",
    "    print(water_pouring(4, 9, 5, start = (4, 0)))\n",
    "    print(water_pouring(4, 9, 5))\n",
    "\n"
   ],
   "outputs": [
    {
     "output_type": "stream",
     "name": "stdout",
     "text": [
      "[('init', (0, 0))]\n",
      "[('init', (0, 0)), ('Empty: Y', (0, 0))]\n",
      "[('init', (0, 0)), ('Fill up X', (4, 0))]\n",
      "[('init', (0, 0)), ('Fill up Y', (0, 9))]\n",
      "[('init', (0, 0)), ('Fill up Y', (0, 9)), ('X <- Y', (4, 5))]\n",
      "[('init', (4, 0))]\n",
      "[('init', (4, 0)), ('X -> Y', (0, 4))]\n",
      "[('init', (4, 0)), ('Empty: Y', (4, 0))]\n",
      "[('init', (4, 0)), ('Fill up Y', (4, 9))]\n",
      "[('init', (4, 0)), ('Empty X', (0, 0))]\n",
      "[('init', (4, 0)), ('X -> Y', (0, 4)), ('Fill up X', (4, 4))]\n",
      "[('init', (4, 0)), ('X -> Y', (0, 4)), ('Fill up Y', (0, 9))]\n",
      "[('init', (4, 0)), ('X -> Y', (0, 4)), ('Fill up Y', (0, 9)), ('X <- Y', (4, 5))]\n",
      "[('init', (0, 0))]\n",
      "[('init', (0, 0)), ('Empty: Y', (0, 0))]\n",
      "[('init', (0, 0)), ('Fill up X', (4, 0))]\n",
      "[('init', (0, 0)), ('Fill up Y', (0, 9))]\n",
      "[('init', (0, 0)), ('Fill up Y', (0, 9)), ('X <- Y', (4, 5))]\n"
     ]
    }
   ],
   "metadata": {}
  },
  {
   "cell_type": "code",
   "execution_count": null,
   "source": [],
   "outputs": [],
   "metadata": {}
  }
 ],
 "metadata": {
  "orig_nbformat": 4,
  "language_info": {
   "name": "python",
   "version": "3.7.11",
   "mimetype": "text/x-python",
   "codemirror_mode": {
    "name": "ipython",
    "version": 3
   },
   "pygments_lexer": "ipython3",
   "nbconvert_exporter": "python",
   "file_extension": ".py"
  },
  "kernelspec": {
   "name": "python3",
   "display_name": "Python 3.7.11 64-bit ('tensorflow': conda)"
  },
  "interpreter": {
   "hash": "32732e49ddba1da8b293d0354da9484fcc377d4ba69e79a82935691a68d0ecf6"
  }
 },
 "nbformat": 4,
 "nbformat_minor": 2
}