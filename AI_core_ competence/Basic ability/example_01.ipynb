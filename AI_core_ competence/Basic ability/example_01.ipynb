{
 "cells": [
  {
   "cell_type": "code",
   "execution_count": 6,
   "source": [
    "# rule_based\n",
    "\n",
    "import random\n",
    "from icecream import ic\n",
    "rules = \"\"\"\n",
    "复合句子 = 句子 , 连词 复合句子 | 句子\n",
    "连词 = 而且 | 但是 | 不过\n",
    "句子 = 主语 谓语 宾语\n",
    "主语 = 你| 我 | 他 \n",
    "谓语 = 吃| 玩 \n",
    "宾语 = 桃子| 皮球\n",
    "    \n",
    "\"\"\"\n",
    "\n",
    "def get_grammer_by_description(description):\n",
    "    rules_pattern = [r.split('=') for r in description.split('\\n') if r.strip()]\n",
    "    target_with_expend = [(t, ex.split('|')) for t, ex in rules_pattern]\n",
    "    grammer = {t.strip(): [e.strip() for e in ex] for t, ex in target_with_expend}\n",
    "    \n",
    "    return grammer\n",
    "\n",
    "generated = [t for t in random.choice(grammer['句子']).split()]\n",
    "test_v = [t for t in random.choice(grammer['谓语']).split()]\n",
    "\n",
    "def generate_by_grammer(grammer, target='句子'):\n",
    "    if target not in grammer: return target\n",
    "    return ''.join([generate_by_grammer(grammer, t) for t in random.choice(grammer[target]).split()])\n",
    "\n",
    "if __name__ == '__main__':\n",
    "    grammer = get_grammer_by_description(rules)\n",
    "    \n",
    "    # ic(generated)\n",
    "    ic(test_v)\n",
    "    ic(generate_by_grammer(grammer))\n",
    "    ic(generate_by_grammer(grammer, target='复合句子'))\n",
    " "
   ],
   "outputs": [
    {
     "output_type": "stream",
     "name": "stderr",
     "text": [
      "ic| test_v: ['吃']\n",
      "ic| generate_by_grammer(grammer): '你吃皮球'\n",
      "ic| generate_by_grammer(grammer, target='复合句子'): '我玩桃子'\n"
     ]
    }
   ],
   "metadata": {}
  },
  {
   "cell_type": "code",
   "execution_count": 43,
   "source": [
    "# water pouring\n",
    "\n",
    "def water_pouring(b1,b2,goal,start=(0,0)):\n",
    "    if goal in start:\n",
    "        return [start]\n",
    "    \n",
    "    explored = set()\n",
    "    froniter = [[('init', start)]]\n",
    "    \n",
    "    while froniter:\n",
    "        path = froniter.pop(0)\n",
    "        (x,y) = path[-1][-1]\n",
    "        \n",
    "        for (state, action) in successors(x, y, b1, b2).items():\n",
    "            if state not in explored:\n",
    "                explored.add(state)\n",
    "                path2 = path + [(action, state)]\n",
    "                \n",
    "                if goal in state:\n",
    "                    return path2\n",
    "                else:\n",
    "                    froniter.append(path2)\n",
    "                    \n",
    "    return []\n",
    "\n",
    "\n",
    "def successors(x, y, X, Y):\n",
    "    return {\n",
    "        ((0, y+x) if x + y <= Y else (x+y-Y, Y)):'X -> Y',\n",
    "        ((x+y, 0) if x+y <= X else (X, x+y-X)): 'X <- Y',\n",
    "        (X, y): '灌满X',\n",
    "        (x, Y): '灌满Y',\n",
    "        (0, y): '倒空X',\n",
    "        (x, 0): '倒空Y',\n",
    "    }\n",
    "\n",
    "if __name__ == '__main__':\n",
    "    ic(water_pouring(4,9,5))\n",
    "    ic(water_pouring(4,9,5, start = (4,0)))\n",
    "    ic(water_pouring(4,9,6))"
   ],
   "outputs": [
    {
     "output_type": "stream",
     "name": "stderr",
     "text": [
      "ic| water_pouring(4,9,5): [('init', (0, 0)), ('灌满Y', (0, 9)), ('X <- Y', (4, 5))]\n",
      "ic| water_pouring(4,9,5, start = (4,0)): [('init', (4, 0)), ('X -> Y', (0, 4)), ('灌满Y', (0, 9)), ('X <- Y', (4, 5))]\n",
      "ic| water_pouring(4,9,6): [('init', (0, 0)),\n",
      "                           ('灌满Y', (0, 9)),\n",
      "                           ('X <- Y', (4, 5)),\n",
      "                           ('倒空X', (0, 5)),\n",
      "                           ('X <- Y', (4, 1)),\n",
      "                           ('倒空X', (0, 1)),\n",
      "                           ('X <- Y', (1, 0)),\n",
      "                           ('灌满Y', (1, 9)),\n",
      "                           ('X <- Y', (4, 6))]\n",
      "ic| water_pouring(4,9,8): [('init', (0, 0)),\n",
      "                           ('灌满X', (4, 0)),\n",
      "                           ('X -> Y', (0, 4)),\n",
      "                           ('灌满X', (4, 4)),\n",
      "                           ('X -> Y', (0, 8))]\n"
     ]
    }
   ],
   "metadata": {}
  },
  {
   "cell_type": "code",
   "execution_count": 45,
   "source": [
    "def successors(x,y,X,Y):\n",
    "    return {\n",
    "        ((0, y+x) if x + y <= Y else (x+y-Y, Y)):'X -> Y',\n",
    "        ((x+y, 0) if x+y <= X else (X, x+y-X)): 'X <- Y',\n",
    "        (X, y): '灌满X',\n",
    "        (x, Y): '灌满Y',\n",
    "        (0, y): '倒空X',\n",
    "        (x, 0): '倒空Y',\n",
    "    }\n",
    "    \n",
    "successors(0,0,4,9)"
   ],
   "outputs": [
    {
     "output_type": "execute_result",
     "data": {
      "text/plain": [
       "{(0, 0): '倒空Y', (4, 0): '灌满X', (0, 9): '灌满Y'}"
      ]
     },
     "metadata": {},
     "execution_count": 45
    }
   ],
   "metadata": {}
  },
  {
   "cell_type": "code",
   "execution_count": 40,
   "source": [
    "def func(x,y,X,Y):\n",
    "    print((0, 0+0) if 0+0 <= 9 else (0+0-9, 9),(x+y, 0) if x+y <= X else (X, x+y-X))\n",
    "    \n",
    "func(0,0,4,9)"
   ],
   "outputs": [
    {
     "output_type": "stream",
     "name": "stdout",
     "text": [
      "(0, 0) (0, 0)\n"
     ]
    }
   ],
   "metadata": {}
  },
  {
   "cell_type": "code",
   "execution_count": null,
   "source": [],
   "outputs": [],
   "metadata": {}
  },
  {
   "cell_type": "code",
   "execution_count": null,
   "source": [],
   "outputs": [],
   "metadata": {}
  },
  {
   "cell_type": "code",
   "execution_count": null,
   "source": [],
   "outputs": [],
   "metadata": {}
  },
  {
   "cell_type": "code",
   "execution_count": null,
   "source": [],
   "outputs": [],
   "metadata": {}
  }
 ],
 "metadata": {
  "kernelspec": {
   "name": "python3",
   "display_name": "Python 3.7.11 64-bit ('tensorflow': conda)"
  },
  "language_info": {
   "codemirror_mode": {
    "name": "ipython",
    "version": 3
   },
   "file_extension": ".py",
   "mimetype": "text/x-python",
   "name": "python",
   "nbconvert_exporter": "python",
   "pygments_lexer": "ipython3",
   "version": "3.7.11"
  },
  "interpreter": {
   "hash": "e149da774136999aaf00d4dc0a73ad671f5415143dd98642849dddd1d0bac9b6"
  }
 },
 "nbformat": 4,
 "nbformat_minor": 4
}